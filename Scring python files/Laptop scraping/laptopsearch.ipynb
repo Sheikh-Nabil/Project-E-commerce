{
 "metadata": {
  "language_info": {
   "codemirror_mode": {
    "name": "ipython",
    "version": 3
   },
   "file_extension": ".py",
   "mimetype": "text/x-python",
   "name": "python",
   "nbconvert_exporter": "python",
   "pygments_lexer": "ipython3",
   "version": "3.8.5-final"
  },
  "orig_nbformat": 2,
  "kernelspec": {
   "name": "python3",
   "display_name": "Python 3",
   "language": "python"
  }
 },
 "nbformat": 4,
 "nbformat_minor": 2,
 "cells": [
  {
   "cell_type": "code",
   "execution_count": 1,
   "metadata": {},
   "outputs": [],
   "source": [
    "import pandas as pd\n",
    "import numpy as np\n",
    "\n",
    "import pymysql\n",
    "import pandas as pd\n",
    "from sqlalchemy import create_engine"
   ]
  },
  {
   "cell_type": "code",
   "execution_count": 2,
   "metadata": {},
   "outputs": [
    {
     "output_type": "execute_result",
     "data": {
      "text/plain": [
       "                                                  title  \\\n",
       "0     CHUWI Herobook Pro 14.1 inch Windows 10 Intel ...   \n",
       "1     CHUWI CoreBook Pro Windows 10 Laptop Computer,...   \n",
       "2     Lenovo IdeaPad 3 Intel i5-1035G1 Quad Core 12G...   \n",
       "3     Lenovo Chromebook S330 Laptop, 14-Inch FHD (19...   \n",
       "4     Acer Predator Helios 300 Gaming Laptop, Intel ...   \n",
       "...                                                 ...   \n",
       "2807  Dell Latitude 5410 14\" Notebook - Full HD - 19...   \n",
       "2808  TopSeller TC M720S SFF I5-9400 2.9G 8GB 256GB ...   \n",
       "2809  Lenovo ThinkPad T14 Laptop - 14\" IPS FHD Touch...   \n",
       "2810  Laptop 14 Inch, Winnovo N140, 6GB RAM, 128GB S...   \n",
       "2811  2020 15.6-inch Laptop 6G + 256G, Intel celeron...   \n",
       "\n",
       "                                                    url              rating  \\\n",
       "0     https://www.amazon.com/gp/slredirect/picassoRe...  4.0 out of 5 stars   \n",
       "1     https://www.amazon.com/gp/slredirect/picassoRe...  4.1 out of 5 stars   \n",
       "2     https://www.amazon.com/Lenovo-IdeaPad-i5-1035G...  4.5 out of 5 stars   \n",
       "3     https://www.amazon.com/Lenovo-Chromebook-Media...  4.4 out of 5 stars   \n",
       "4     https://www.amazon.com/Acer-Predator-i7-10750H...  4.7 out of 5 stars   \n",
       "...                                                 ...                 ...   \n",
       "2807  https://www.amazon.com/Dell-Latitude-5410-Note...                None   \n",
       "2808  https://www.amazon.com/TopSeller-M720S-I5-9400...  5.0 out of 5 stars   \n",
       "2809  https://www.amazon.com/Lenovo-ThinkPad-Laptop-...                None   \n",
       "2810  https://www.amazon.com/gp/slredirect/picassoRe...  4.3 out of 5 stars   \n",
       "2811  https://www.amazon.com/gp/slredirect/picassoRe...  3.0 out of 5 stars   \n",
       "\n",
       "     review_count      price  \n",
       "0             346    $349.00  \n",
       "1             222    $439.00  \n",
       "2              64    $544.00  \n",
       "3           1,110    $279.99  \n",
       "4           2,151  $1,409.98  \n",
       "...           ...        ...  \n",
       "2807         None    $799.00  \n",
       "2808            1    $569.99  \n",
       "2809         None  $1,659.00  \n",
       "2810           38    $289.99  \n",
       "2811            3    $359.00  \n",
       "\n",
       "[2812 rows x 5 columns]"
      ],
      "text/html": "<div>\n<style scoped>\n    .dataframe tbody tr th:only-of-type {\n        vertical-align: middle;\n    }\n\n    .dataframe tbody tr th {\n        vertical-align: top;\n    }\n\n    .dataframe thead th {\n        text-align: right;\n    }\n</style>\n<table border=\"1\" class=\"dataframe\">\n  <thead>\n    <tr style=\"text-align: right;\">\n      <th></th>\n      <th>title</th>\n      <th>url</th>\n      <th>rating</th>\n      <th>review_count</th>\n      <th>price</th>\n    </tr>\n  </thead>\n  <tbody>\n    <tr>\n      <th>0</th>\n      <td>CHUWI Herobook Pro 14.1 inch Windows 10 Intel ...</td>\n      <td>https://www.amazon.com/gp/slredirect/picassoRe...</td>\n      <td>4.0 out of 5 stars</td>\n      <td>346</td>\n      <td>$349.00</td>\n    </tr>\n    <tr>\n      <th>1</th>\n      <td>CHUWI CoreBook Pro Windows 10 Laptop Computer,...</td>\n      <td>https://www.amazon.com/gp/slredirect/picassoRe...</td>\n      <td>4.1 out of 5 stars</td>\n      <td>222</td>\n      <td>$439.00</td>\n    </tr>\n    <tr>\n      <th>2</th>\n      <td>Lenovo IdeaPad 3 Intel i5-1035G1 Quad Core 12G...</td>\n      <td>https://www.amazon.com/Lenovo-IdeaPad-i5-1035G...</td>\n      <td>4.5 out of 5 stars</td>\n      <td>64</td>\n      <td>$544.00</td>\n    </tr>\n    <tr>\n      <th>3</th>\n      <td>Lenovo Chromebook S330 Laptop, 14-Inch FHD (19...</td>\n      <td>https://www.amazon.com/Lenovo-Chromebook-Media...</td>\n      <td>4.4 out of 5 stars</td>\n      <td>1,110</td>\n      <td>$279.99</td>\n    </tr>\n    <tr>\n      <th>4</th>\n      <td>Acer Predator Helios 300 Gaming Laptop, Intel ...</td>\n      <td>https://www.amazon.com/Acer-Predator-i7-10750H...</td>\n      <td>4.7 out of 5 stars</td>\n      <td>2,151</td>\n      <td>$1,409.98</td>\n    </tr>\n    <tr>\n      <th>...</th>\n      <td>...</td>\n      <td>...</td>\n      <td>...</td>\n      <td>...</td>\n      <td>...</td>\n    </tr>\n    <tr>\n      <th>2807</th>\n      <td>Dell Latitude 5410 14\" Notebook - Full HD - 19...</td>\n      <td>https://www.amazon.com/Dell-Latitude-5410-Note...</td>\n      <td>None</td>\n      <td>None</td>\n      <td>$799.00</td>\n    </tr>\n    <tr>\n      <th>2808</th>\n      <td>TopSeller TC M720S SFF I5-9400 2.9G 8GB 256GB ...</td>\n      <td>https://www.amazon.com/TopSeller-M720S-I5-9400...</td>\n      <td>5.0 out of 5 stars</td>\n      <td>1</td>\n      <td>$569.99</td>\n    </tr>\n    <tr>\n      <th>2809</th>\n      <td>Lenovo ThinkPad T14 Laptop - 14\" IPS FHD Touch...</td>\n      <td>https://www.amazon.com/Lenovo-ThinkPad-Laptop-...</td>\n      <td>None</td>\n      <td>None</td>\n      <td>$1,659.00</td>\n    </tr>\n    <tr>\n      <th>2810</th>\n      <td>Laptop 14 Inch, Winnovo N140, 6GB RAM, 128GB S...</td>\n      <td>https://www.amazon.com/gp/slredirect/picassoRe...</td>\n      <td>4.3 out of 5 stars</td>\n      <td>38</td>\n      <td>$289.99</td>\n    </tr>\n    <tr>\n      <th>2811</th>\n      <td>2020 15.6-inch Laptop 6G + 256G, Intel celeron...</td>\n      <td>https://www.amazon.com/gp/slredirect/picassoRe...</td>\n      <td>3.0 out of 5 stars</td>\n      <td>3</td>\n      <td>$359.00</td>\n    </tr>\n  </tbody>\n</table>\n<p>2812 rows × 5 columns</p>\n</div>"
     },
     "metadata": {},
     "execution_count": 2
    }
   ],
   "source": [
    "#SearchFile\n",
    "laptop = pd.read_json(r'C:\\Users\\anupd\\OneDrive\\Desktop\\Amazon_scraping1\\all search file\\DSLR_Laptoop\\Laptop Files\\search_laptop.json')\n",
    "laptop"
   ]
  },
  {
   "cell_type": "code",
   "execution_count": 3,
   "metadata": {},
   "outputs": [
    {
     "output_type": "execute_result",
     "data": {
      "text/plain": [
       "title           object\n",
       "url             object\n",
       "rating          object\n",
       "review_count    object\n",
       "price           object\n",
       "dtype: object"
      ]
     },
     "metadata": {},
     "execution_count": 3
    }
   ],
   "source": [
    "laptop.dtypes"
   ]
  },
  {
   "cell_type": "code",
   "execution_count": 4,
   "metadata": {},
   "outputs": [],
   "source": [
    "laptop.dropna(inplace = True)"
   ]
  },
  {
   "cell_type": "code",
   "execution_count": 5,
   "metadata": {},
   "outputs": [
    {
     "output_type": "execute_result",
     "data": {
      "text/plain": [
       "title           0\n",
       "url             0\n",
       "rating          0\n",
       "review_count    0\n",
       "price           0\n",
       "dtype: int64"
      ]
     },
     "metadata": {},
     "execution_count": 5
    }
   ],
   "source": [
    "laptop.isnull().sum()"
   ]
  },
  {
   "cell_type": "code",
   "execution_count": 6,
   "metadata": {},
   "outputs": [
    {
     "output_type": "execute_result",
     "data": {
      "text/plain": [
       "(1920, 5)"
      ]
     },
     "metadata": {},
     "execution_count": 6
    }
   ],
   "source": [
    "laptop.shape"
   ]
  },
  {
   "cell_type": "code",
   "execution_count": 7,
   "metadata": {},
   "outputs": [
    {
     "output_type": "execute_result",
     "data": {
      "text/plain": [
       "'4.0'"
      ]
     },
     "metadata": {},
     "execution_count": 7
    }
   ],
   "source": [
    "laptop.rating[0].split(' ')[0]"
   ]
  },
  {
   "cell_type": "code",
   "execution_count": 8,
   "metadata": {},
   "outputs": [
    {
     "output_type": "execute_result",
     "data": {
      "text/plain": [
       "                                                  title  \\\n",
       "0     CHUWI Herobook Pro 14.1 inch Windows 10 Intel ...   \n",
       "1     CHUWI CoreBook Pro Windows 10 Laptop Computer,...   \n",
       "2     Lenovo IdeaPad 3 Intel i5-1035G1 Quad Core 12G...   \n",
       "3     Lenovo Chromebook S330 Laptop, 14-Inch FHD (19...   \n",
       "4     Acer Predator Helios 300 Gaming Laptop, Intel ...   \n",
       "...                                                 ...   \n",
       "2801  Dell XPS 13 9380, XPS9380-7011SLV-PUS, 8th Gen...   \n",
       "2803  Laptop 14 Inch, Winnovo V146, Windows 10, 4GB ...   \n",
       "2808  TopSeller TC M720S SFF I5-9400 2.9G 8GB 256GB ...   \n",
       "2810  Laptop 14 Inch, Winnovo N140, 6GB RAM, 128GB S...   \n",
       "2811  2020 15.6-inch Laptop 6G + 256G, Intel celeron...   \n",
       "\n",
       "                                                    url rating review_count  \\\n",
       "0     https://www.amazon.com/gp/slredirect/picassoRe...    4.0          346   \n",
       "1     https://www.amazon.com/gp/slredirect/picassoRe...    4.1          222   \n",
       "2     https://www.amazon.com/Lenovo-IdeaPad-i5-1035G...    4.5           64   \n",
       "3     https://www.amazon.com/Lenovo-Chromebook-Media...    4.4        1,110   \n",
       "4     https://www.amazon.com/Acer-Predator-i7-10750H...    4.7        2,151   \n",
       "...                                                 ...    ...          ...   \n",
       "2801  https://www.amazon.com/Dell-XPS9380-7011SLV-PU...    4.1           19   \n",
       "2803  https://www.amazon.com/gp/slredirect/picassoRe...    4.1           42   \n",
       "2808  https://www.amazon.com/TopSeller-M720S-I5-9400...    5.0            1   \n",
       "2810  https://www.amazon.com/gp/slredirect/picassoRe...    4.3           38   \n",
       "2811  https://www.amazon.com/gp/slredirect/picassoRe...    3.0            3   \n",
       "\n",
       "          price  \n",
       "0       $349.00  \n",
       "1       $439.00  \n",
       "2       $544.00  \n",
       "3       $279.99  \n",
       "4     $1,409.98  \n",
       "...         ...  \n",
       "2801  $1,495.00  \n",
       "2803    $239.99  \n",
       "2808    $569.99  \n",
       "2810    $289.99  \n",
       "2811    $359.00  \n",
       "\n",
       "[1920 rows x 5 columns]"
      ],
      "text/html": "<div>\n<style scoped>\n    .dataframe tbody tr th:only-of-type {\n        vertical-align: middle;\n    }\n\n    .dataframe tbody tr th {\n        vertical-align: top;\n    }\n\n    .dataframe thead th {\n        text-align: right;\n    }\n</style>\n<table border=\"1\" class=\"dataframe\">\n  <thead>\n    <tr style=\"text-align: right;\">\n      <th></th>\n      <th>title</th>\n      <th>url</th>\n      <th>rating</th>\n      <th>review_count</th>\n      <th>price</th>\n    </tr>\n  </thead>\n  <tbody>\n    <tr>\n      <th>0</th>\n      <td>CHUWI Herobook Pro 14.1 inch Windows 10 Intel ...</td>\n      <td>https://www.amazon.com/gp/slredirect/picassoRe...</td>\n      <td>4.0</td>\n      <td>346</td>\n      <td>$349.00</td>\n    </tr>\n    <tr>\n      <th>1</th>\n      <td>CHUWI CoreBook Pro Windows 10 Laptop Computer,...</td>\n      <td>https://www.amazon.com/gp/slredirect/picassoRe...</td>\n      <td>4.1</td>\n      <td>222</td>\n      <td>$439.00</td>\n    </tr>\n    <tr>\n      <th>2</th>\n      <td>Lenovo IdeaPad 3 Intel i5-1035G1 Quad Core 12G...</td>\n      <td>https://www.amazon.com/Lenovo-IdeaPad-i5-1035G...</td>\n      <td>4.5</td>\n      <td>64</td>\n      <td>$544.00</td>\n    </tr>\n    <tr>\n      <th>3</th>\n      <td>Lenovo Chromebook S330 Laptop, 14-Inch FHD (19...</td>\n      <td>https://www.amazon.com/Lenovo-Chromebook-Media...</td>\n      <td>4.4</td>\n      <td>1,110</td>\n      <td>$279.99</td>\n    </tr>\n    <tr>\n      <th>4</th>\n      <td>Acer Predator Helios 300 Gaming Laptop, Intel ...</td>\n      <td>https://www.amazon.com/Acer-Predator-i7-10750H...</td>\n      <td>4.7</td>\n      <td>2,151</td>\n      <td>$1,409.98</td>\n    </tr>\n    <tr>\n      <th>...</th>\n      <td>...</td>\n      <td>...</td>\n      <td>...</td>\n      <td>...</td>\n      <td>...</td>\n    </tr>\n    <tr>\n      <th>2801</th>\n      <td>Dell XPS 13 9380, XPS9380-7011SLV-PUS, 8th Gen...</td>\n      <td>https://www.amazon.com/Dell-XPS9380-7011SLV-PU...</td>\n      <td>4.1</td>\n      <td>19</td>\n      <td>$1,495.00</td>\n    </tr>\n    <tr>\n      <th>2803</th>\n      <td>Laptop 14 Inch, Winnovo V146, Windows 10, 4GB ...</td>\n      <td>https://www.amazon.com/gp/slredirect/picassoRe...</td>\n      <td>4.1</td>\n      <td>42</td>\n      <td>$239.99</td>\n    </tr>\n    <tr>\n      <th>2808</th>\n      <td>TopSeller TC M720S SFF I5-9400 2.9G 8GB 256GB ...</td>\n      <td>https://www.amazon.com/TopSeller-M720S-I5-9400...</td>\n      <td>5.0</td>\n      <td>1</td>\n      <td>$569.99</td>\n    </tr>\n    <tr>\n      <th>2810</th>\n      <td>Laptop 14 Inch, Winnovo N140, 6GB RAM, 128GB S...</td>\n      <td>https://www.amazon.com/gp/slredirect/picassoRe...</td>\n      <td>4.3</td>\n      <td>38</td>\n      <td>$289.99</td>\n    </tr>\n    <tr>\n      <th>2811</th>\n      <td>2020 15.6-inch Laptop 6G + 256G, Intel celeron...</td>\n      <td>https://www.amazon.com/gp/slredirect/picassoRe...</td>\n      <td>3.0</td>\n      <td>3</td>\n      <td>$359.00</td>\n    </tr>\n  </tbody>\n</table>\n<p>1920 rows × 5 columns</p>\n</div>"
     },
     "metadata": {},
     "execution_count": 8
    }
   ],
   "source": [
    "laptop.rating = laptop.rating.map(lambda x: x.split(' ')[0])\n",
    "laptop"
   ]
  },
  {
   "cell_type": "code",
   "execution_count": 9,
   "metadata": {},
   "outputs": [
    {
     "output_type": "execute_result",
     "data": {
      "text/plain": [
       "                                                  title  \\\n",
       "0     CHUWI Herobook Pro 14.1 inch Windows 10 Intel ...   \n",
       "1     CHUWI CoreBook Pro Windows 10 Laptop Computer,...   \n",
       "2     Lenovo IdeaPad 3 Intel i5-1035G1 Quad Core 12G...   \n",
       "3     Lenovo Chromebook S330 Laptop, 14-Inch FHD (19...   \n",
       "4     Acer Predator Helios 300 Gaming Laptop, Intel ...   \n",
       "...                                                 ...   \n",
       "2801  Dell XPS 13 9380, XPS9380-7011SLV-PUS, 8th Gen...   \n",
       "2803  Laptop 14 Inch, Winnovo V146, Windows 10, 4GB ...   \n",
       "2808  TopSeller TC M720S SFF I5-9400 2.9G 8GB 256GB ...   \n",
       "2810  Laptop 14 Inch, Winnovo N140, 6GB RAM, 128GB S...   \n",
       "2811  2020 15.6-inch Laptop 6G + 256G, Intel celeron...   \n",
       "\n",
       "                                                    url rating review_count  \\\n",
       "0     https://www.amazon.com/gp/slredirect/picassoRe...    4.0          346   \n",
       "1     https://www.amazon.com/gp/slredirect/picassoRe...    4.1          222   \n",
       "2     https://www.amazon.com/Lenovo-IdeaPad-i5-1035G...    4.5           64   \n",
       "3     https://www.amazon.com/Lenovo-Chromebook-Media...    4.4         1110   \n",
       "4     https://www.amazon.com/Acer-Predator-i7-10750H...    4.7         2151   \n",
       "...                                                 ...    ...          ...   \n",
       "2801  https://www.amazon.com/Dell-XPS9380-7011SLV-PU...    4.1           19   \n",
       "2803  https://www.amazon.com/gp/slredirect/picassoRe...    4.1           42   \n",
       "2808  https://www.amazon.com/TopSeller-M720S-I5-9400...    5.0            1   \n",
       "2810  https://www.amazon.com/gp/slredirect/picassoRe...    4.3           38   \n",
       "2811  https://www.amazon.com/gp/slredirect/picassoRe...    3.0            3   \n",
       "\n",
       "        price  \n",
       "0      349.00  \n",
       "1      439.00  \n",
       "2      544.00  \n",
       "3      279.99  \n",
       "4     1409.98  \n",
       "...       ...  \n",
       "2801  1495.00  \n",
       "2803   239.99  \n",
       "2808   569.99  \n",
       "2810   289.99  \n",
       "2811   359.00  \n",
       "\n",
       "[1920 rows x 5 columns]"
      ],
      "text/html": "<div>\n<style scoped>\n    .dataframe tbody tr th:only-of-type {\n        vertical-align: middle;\n    }\n\n    .dataframe tbody tr th {\n        vertical-align: top;\n    }\n\n    .dataframe thead th {\n        text-align: right;\n    }\n</style>\n<table border=\"1\" class=\"dataframe\">\n  <thead>\n    <tr style=\"text-align: right;\">\n      <th></th>\n      <th>title</th>\n      <th>url</th>\n      <th>rating</th>\n      <th>review_count</th>\n      <th>price</th>\n    </tr>\n  </thead>\n  <tbody>\n    <tr>\n      <th>0</th>\n      <td>CHUWI Herobook Pro 14.1 inch Windows 10 Intel ...</td>\n      <td>https://www.amazon.com/gp/slredirect/picassoRe...</td>\n      <td>4.0</td>\n      <td>346</td>\n      <td>349.00</td>\n    </tr>\n    <tr>\n      <th>1</th>\n      <td>CHUWI CoreBook Pro Windows 10 Laptop Computer,...</td>\n      <td>https://www.amazon.com/gp/slredirect/picassoRe...</td>\n      <td>4.1</td>\n      <td>222</td>\n      <td>439.00</td>\n    </tr>\n    <tr>\n      <th>2</th>\n      <td>Lenovo IdeaPad 3 Intel i5-1035G1 Quad Core 12G...</td>\n      <td>https://www.amazon.com/Lenovo-IdeaPad-i5-1035G...</td>\n      <td>4.5</td>\n      <td>64</td>\n      <td>544.00</td>\n    </tr>\n    <tr>\n      <th>3</th>\n      <td>Lenovo Chromebook S330 Laptop, 14-Inch FHD (19...</td>\n      <td>https://www.amazon.com/Lenovo-Chromebook-Media...</td>\n      <td>4.4</td>\n      <td>1110</td>\n      <td>279.99</td>\n    </tr>\n    <tr>\n      <th>4</th>\n      <td>Acer Predator Helios 300 Gaming Laptop, Intel ...</td>\n      <td>https://www.amazon.com/Acer-Predator-i7-10750H...</td>\n      <td>4.7</td>\n      <td>2151</td>\n      <td>1409.98</td>\n    </tr>\n    <tr>\n      <th>...</th>\n      <td>...</td>\n      <td>...</td>\n      <td>...</td>\n      <td>...</td>\n      <td>...</td>\n    </tr>\n    <tr>\n      <th>2801</th>\n      <td>Dell XPS 13 9380, XPS9380-7011SLV-PUS, 8th Gen...</td>\n      <td>https://www.amazon.com/Dell-XPS9380-7011SLV-PU...</td>\n      <td>4.1</td>\n      <td>19</td>\n      <td>1495.00</td>\n    </tr>\n    <tr>\n      <th>2803</th>\n      <td>Laptop 14 Inch, Winnovo V146, Windows 10, 4GB ...</td>\n      <td>https://www.amazon.com/gp/slredirect/picassoRe...</td>\n      <td>4.1</td>\n      <td>42</td>\n      <td>239.99</td>\n    </tr>\n    <tr>\n      <th>2808</th>\n      <td>TopSeller TC M720S SFF I5-9400 2.9G 8GB 256GB ...</td>\n      <td>https://www.amazon.com/TopSeller-M720S-I5-9400...</td>\n      <td>5.0</td>\n      <td>1</td>\n      <td>569.99</td>\n    </tr>\n    <tr>\n      <th>2810</th>\n      <td>Laptop 14 Inch, Winnovo N140, 6GB RAM, 128GB S...</td>\n      <td>https://www.amazon.com/gp/slredirect/picassoRe...</td>\n      <td>4.3</td>\n      <td>38</td>\n      <td>289.99</td>\n    </tr>\n    <tr>\n      <th>2811</th>\n      <td>2020 15.6-inch Laptop 6G + 256G, Intel celeron...</td>\n      <td>https://www.amazon.com/gp/slredirect/picassoRe...</td>\n      <td>3.0</td>\n      <td>3</td>\n      <td>359.00</td>\n    </tr>\n  </tbody>\n</table>\n<p>1920 rows × 5 columns</p>\n</div>"
     },
     "metadata": {},
     "execution_count": 9
    }
   ],
   "source": [
    "laptop['review_count'] = laptop['review_count'].str.replace(',', '')\n",
    "laptop['price'] = laptop['price'].str.replace('$', '')\n",
    "laptop['price'] = laptop['price'].str.replace(',', '')\n",
    "laptop"
   ]
  },
  {
   "cell_type": "code",
   "execution_count": 10,
   "metadata": {},
   "outputs": [
    {
     "output_type": "execute_result",
     "data": {
      "text/plain": [
       "title           object\n",
       "url             object\n",
       "rating          object\n",
       "review_count    object\n",
       "price           object\n",
       "dtype: object"
      ]
     },
     "metadata": {},
     "execution_count": 10
    }
   ],
   "source": [
    "laptop.dtypes"
   ]
  },
  {
   "cell_type": "code",
   "execution_count": 11,
   "metadata": {},
   "outputs": [
    {
     "output_type": "execute_result",
     "data": {
      "text/plain": [
       "title            object\n",
       "url              object\n",
       "rating          float64\n",
       "review_count      int32\n",
       "price           float64\n",
       "dtype: object"
      ]
     },
     "metadata": {},
     "execution_count": 11
    }
   ],
   "source": [
    "laptop.rating = laptop.rating.astype('float')\n",
    "laptop.price = laptop.price.astype('float')\n",
    "laptop.review_count = laptop.review_count.astype('int')     \n",
    "laptop.dtypes"
   ]
  },
  {
   "cell_type": "code",
   "execution_count": 12,
   "metadata": {},
   "outputs": [
    {
     "output_type": "execute_result",
     "data": {
      "text/plain": [
       "                                                  title  \\\n",
       "0     CHUWI Herobook Pro 14.1 inch Windows 10 Intel ...   \n",
       "1     CHUWI CoreBook Pro Windows 10 Laptop Computer,...   \n",
       "2     Lenovo IdeaPad 3 Intel i5-1035G1 Quad Core 12G...   \n",
       "3     Lenovo Chromebook S330 Laptop, 14-Inch FHD (19...   \n",
       "4     Acer Predator Helios 300 Gaming Laptop, Intel ...   \n",
       "...                                                 ...   \n",
       "1915  Dell XPS 13 9380, XPS9380-7011SLV-PUS, 8th Gen...   \n",
       "1916  Laptop 14 Inch, Winnovo V146, Windows 10, 4GB ...   \n",
       "1917  TopSeller TC M720S SFF I5-9400 2.9G 8GB 256GB ...   \n",
       "1918  Laptop 14 Inch, Winnovo N140, 6GB RAM, 128GB S...   \n",
       "1919  2020 15.6-inch Laptop 6G + 256G, Intel celeron...   \n",
       "\n",
       "                                                    url  rating  review_count  \\\n",
       "0     https://www.amazon.com/gp/slredirect/picassoRe...     4.0           346   \n",
       "1     https://www.amazon.com/gp/slredirect/picassoRe...     4.1           222   \n",
       "2     https://www.amazon.com/Lenovo-IdeaPad-i5-1035G...     4.5            64   \n",
       "3     https://www.amazon.com/Lenovo-Chromebook-Media...     4.4          1110   \n",
       "4     https://www.amazon.com/Acer-Predator-i7-10750H...     4.7          2151   \n",
       "...                                                 ...     ...           ...   \n",
       "1915  https://www.amazon.com/Dell-XPS9380-7011SLV-PU...     4.1            19   \n",
       "1916  https://www.amazon.com/gp/slredirect/picassoRe...     4.1            42   \n",
       "1917  https://www.amazon.com/TopSeller-M720S-I5-9400...     5.0             1   \n",
       "1918  https://www.amazon.com/gp/slredirect/picassoRe...     4.3            38   \n",
       "1919  https://www.amazon.com/gp/slredirect/picassoRe...     3.0             3   \n",
       "\n",
       "        price  \n",
       "0      349.00  \n",
       "1      439.00  \n",
       "2      544.00  \n",
       "3      279.99  \n",
       "4     1409.98  \n",
       "...       ...  \n",
       "1915  1495.00  \n",
       "1916   239.99  \n",
       "1917   569.99  \n",
       "1918   289.99  \n",
       "1919   359.00  \n",
       "\n",
       "[1920 rows x 5 columns]"
      ],
      "text/html": "<div>\n<style scoped>\n    .dataframe tbody tr th:only-of-type {\n        vertical-align: middle;\n    }\n\n    .dataframe tbody tr th {\n        vertical-align: top;\n    }\n\n    .dataframe thead th {\n        text-align: right;\n    }\n</style>\n<table border=\"1\" class=\"dataframe\">\n  <thead>\n    <tr style=\"text-align: right;\">\n      <th></th>\n      <th>title</th>\n      <th>url</th>\n      <th>rating</th>\n      <th>review_count</th>\n      <th>price</th>\n    </tr>\n  </thead>\n  <tbody>\n    <tr>\n      <th>0</th>\n      <td>CHUWI Herobook Pro 14.1 inch Windows 10 Intel ...</td>\n      <td>https://www.amazon.com/gp/slredirect/picassoRe...</td>\n      <td>4.0</td>\n      <td>346</td>\n      <td>349.00</td>\n    </tr>\n    <tr>\n      <th>1</th>\n      <td>CHUWI CoreBook Pro Windows 10 Laptop Computer,...</td>\n      <td>https://www.amazon.com/gp/slredirect/picassoRe...</td>\n      <td>4.1</td>\n      <td>222</td>\n      <td>439.00</td>\n    </tr>\n    <tr>\n      <th>2</th>\n      <td>Lenovo IdeaPad 3 Intel i5-1035G1 Quad Core 12G...</td>\n      <td>https://www.amazon.com/Lenovo-IdeaPad-i5-1035G...</td>\n      <td>4.5</td>\n      <td>64</td>\n      <td>544.00</td>\n    </tr>\n    <tr>\n      <th>3</th>\n      <td>Lenovo Chromebook S330 Laptop, 14-Inch FHD (19...</td>\n      <td>https://www.amazon.com/Lenovo-Chromebook-Media...</td>\n      <td>4.4</td>\n      <td>1110</td>\n      <td>279.99</td>\n    </tr>\n    <tr>\n      <th>4</th>\n      <td>Acer Predator Helios 300 Gaming Laptop, Intel ...</td>\n      <td>https://www.amazon.com/Acer-Predator-i7-10750H...</td>\n      <td>4.7</td>\n      <td>2151</td>\n      <td>1409.98</td>\n    </tr>\n    <tr>\n      <th>...</th>\n      <td>...</td>\n      <td>...</td>\n      <td>...</td>\n      <td>...</td>\n      <td>...</td>\n    </tr>\n    <tr>\n      <th>1915</th>\n      <td>Dell XPS 13 9380, XPS9380-7011SLV-PUS, 8th Gen...</td>\n      <td>https://www.amazon.com/Dell-XPS9380-7011SLV-PU...</td>\n      <td>4.1</td>\n      <td>19</td>\n      <td>1495.00</td>\n    </tr>\n    <tr>\n      <th>1916</th>\n      <td>Laptop 14 Inch, Winnovo V146, Windows 10, 4GB ...</td>\n      <td>https://www.amazon.com/gp/slredirect/picassoRe...</td>\n      <td>4.1</td>\n      <td>42</td>\n      <td>239.99</td>\n    </tr>\n    <tr>\n      <th>1917</th>\n      <td>TopSeller TC M720S SFF I5-9400 2.9G 8GB 256GB ...</td>\n      <td>https://www.amazon.com/TopSeller-M720S-I5-9400...</td>\n      <td>5.0</td>\n      <td>1</td>\n      <td>569.99</td>\n    </tr>\n    <tr>\n      <th>1918</th>\n      <td>Laptop 14 Inch, Winnovo N140, 6GB RAM, 128GB S...</td>\n      <td>https://www.amazon.com/gp/slredirect/picassoRe...</td>\n      <td>4.3</td>\n      <td>38</td>\n      <td>289.99</td>\n    </tr>\n    <tr>\n      <th>1919</th>\n      <td>2020 15.6-inch Laptop 6G + 256G, Intel celeron...</td>\n      <td>https://www.amazon.com/gp/slredirect/picassoRe...</td>\n      <td>3.0</td>\n      <td>3</td>\n      <td>359.00</td>\n    </tr>\n  </tbody>\n</table>\n<p>1920 rows × 5 columns</p>\n</div>"
     },
     "metadata": {},
     "execution_count": 12
    }
   ],
   "source": [
    "#reseting index\n",
    "laptop1 = laptop.reset_index(drop=True)\n",
    "laptop1"
   ]
  },
  {
   "cell_type": "code",
   "execution_count": 13,
   "metadata": {},
   "outputs": [],
   "source": [
    "laptop1['product_type'] = 'LAPTOP'"
   ]
  },
  {
   "cell_type": "code",
   "execution_count": 14,
   "metadata": {},
   "outputs": [
    {
     "output_type": "execute_result",
     "data": {
      "text/plain": [
       "0       https://www.amazon.com/gp/slredirect/picassoRe...\n",
       "1       https://www.amazon.com/gp/slredirect/picassoRe...\n",
       "2       https://www.amazon.com/Lenovo-IdeaPad-i5-1035G...\n",
       "3       https://www.amazon.com/Lenovo-Chromebook-Media...\n",
       "4       https://www.amazon.com/Acer-Predator-i7-10750H...\n",
       "                              ...                        \n",
       "2801    https://www.amazon.com/Dell-XPS9380-7011SLV-PU...\n",
       "2803    https://www.amazon.com/gp/slredirect/picassoRe...\n",
       "2808    https://www.amazon.com/TopSeller-M720S-I5-9400...\n",
       "2810    https://www.amazon.com/gp/slredirect/picassoRe...\n",
       "2811    https://www.amazon.com/gp/slredirect/picassoRe...\n",
       "Name: url, Length: 1920, dtype: object"
      ]
     },
     "metadata": {},
     "execution_count": 14
    }
   ],
   "source": [
    "urls = laptop['url']\n",
    "urls"
   ]
  },
  {
   "cell_type": "code",
   "execution_count": 15,
   "metadata": {},
   "outputs": [
    {
     "output_type": "execute_result",
     "data": {
      "text/plain": [
       "          c1              c2  \\\n",
       "0     https:  www.amazon.com   \n",
       "1     https:  www.amazon.com   \n",
       "2     https:  www.amazon.com   \n",
       "3     https:  www.amazon.com   \n",
       "4     https:  www.amazon.com   \n",
       "...      ...             ...   \n",
       "1915  https:  www.amazon.com   \n",
       "1916  https:  www.amazon.com   \n",
       "1917  https:  www.amazon.com   \n",
       "1918  https:  www.amazon.com   \n",
       "1919  https:  www.amazon.com   \n",
       "\n",
       "                                                     c3          c4  \\\n",
       "0                                                    gp  slredirect   \n",
       "1                                                    gp  slredirect   \n",
       "2             Lenovo-IdeaPad-i5-1035G1-15-6-inch-Screen          dp   \n",
       "3       Lenovo-Chromebook-MediaTek-Processor-81JW0000US          dp   \n",
       "4     Acer-Predator-i7-10750H-Dual-Channel-PH315-53-...          dp   \n",
       "...                                                 ...         ...   \n",
       "1915  Dell-XPS9380-7011SLV-PUS-Generation-i7-8565U-3...          dp   \n",
       "1916                                                 gp  slredirect   \n",
       "1917                TopSeller-M720S-I5-9400-256GB-64BIT          dp   \n",
       "1918                                                 gp  slredirect   \n",
       "1919                                                 gp  slredirect   \n",
       "\n",
       "                        c5                                                 c6  \n",
       "0     picassoRedirect.html  ref=pa_sp_atf_electronics-intl-ship_sr_pg1_1?i...  \n",
       "1     picassoRedirect.html  ref=pa_sp_atf_electronics-intl-ship_sr_pg1_1?i...  \n",
       "2               B08NXSJVCR  ref=sr_1_3?dchild=1&keywords=laptops&qid=16113...  \n",
       "3               B07GLV1VC7  ref=sr_1_4?dchild=1&keywords=laptops&qid=16113...  \n",
       "4               B08842D7JS  ref=sr_1_5?dchild=1&keywords=laptops&qid=16113...  \n",
       "...                    ...                                                ...  \n",
       "1915            B07T32DWBH  ref=sr_1_1868?dchild=1&keywords=laptops&qid=16...  \n",
       "1916  picassoRedirect.html  ref=pa_sp_mtf_electronics-intl-ship_sr_pg156_1...  \n",
       "1917            B082RD3STD  ref=sr_1_1875?dchild=1&keywords=laptops&qid=16...  \n",
       "1918  picassoRedirect.html  ref=pa_sp_btf_electronics-intl-ship_sr_pg156_1...  \n",
       "1919  picassoRedirect.html  ref=pa_sp_btf_electronics-intl-ship_sr_pg156_1...  \n",
       "\n",
       "[1920 rows x 6 columns]"
      ],
      "text/html": "<div>\n<style scoped>\n    .dataframe tbody tr th:only-of-type {\n        vertical-align: middle;\n    }\n\n    .dataframe tbody tr th {\n        vertical-align: top;\n    }\n\n    .dataframe thead th {\n        text-align: right;\n    }\n</style>\n<table border=\"1\" class=\"dataframe\">\n  <thead>\n    <tr style=\"text-align: right;\">\n      <th></th>\n      <th>c1</th>\n      <th>c2</th>\n      <th>c3</th>\n      <th>c4</th>\n      <th>c5</th>\n      <th>c6</th>\n    </tr>\n  </thead>\n  <tbody>\n    <tr>\n      <th>0</th>\n      <td>https:</td>\n      <td>www.amazon.com</td>\n      <td>gp</td>\n      <td>slredirect</td>\n      <td>picassoRedirect.html</td>\n      <td>ref=pa_sp_atf_electronics-intl-ship_sr_pg1_1?i...</td>\n    </tr>\n    <tr>\n      <th>1</th>\n      <td>https:</td>\n      <td>www.amazon.com</td>\n      <td>gp</td>\n      <td>slredirect</td>\n      <td>picassoRedirect.html</td>\n      <td>ref=pa_sp_atf_electronics-intl-ship_sr_pg1_1?i...</td>\n    </tr>\n    <tr>\n      <th>2</th>\n      <td>https:</td>\n      <td>www.amazon.com</td>\n      <td>Lenovo-IdeaPad-i5-1035G1-15-6-inch-Screen</td>\n      <td>dp</td>\n      <td>B08NXSJVCR</td>\n      <td>ref=sr_1_3?dchild=1&amp;keywords=laptops&amp;qid=16113...</td>\n    </tr>\n    <tr>\n      <th>3</th>\n      <td>https:</td>\n      <td>www.amazon.com</td>\n      <td>Lenovo-Chromebook-MediaTek-Processor-81JW0000US</td>\n      <td>dp</td>\n      <td>B07GLV1VC7</td>\n      <td>ref=sr_1_4?dchild=1&amp;keywords=laptops&amp;qid=16113...</td>\n    </tr>\n    <tr>\n      <th>4</th>\n      <td>https:</td>\n      <td>www.amazon.com</td>\n      <td>Acer-Predator-i7-10750H-Dual-Channel-PH315-53-...</td>\n      <td>dp</td>\n      <td>B08842D7JS</td>\n      <td>ref=sr_1_5?dchild=1&amp;keywords=laptops&amp;qid=16113...</td>\n    </tr>\n    <tr>\n      <th>...</th>\n      <td>...</td>\n      <td>...</td>\n      <td>...</td>\n      <td>...</td>\n      <td>...</td>\n      <td>...</td>\n    </tr>\n    <tr>\n      <th>1915</th>\n      <td>https:</td>\n      <td>www.amazon.com</td>\n      <td>Dell-XPS9380-7011SLV-PUS-Generation-i7-8565U-3...</td>\n      <td>dp</td>\n      <td>B07T32DWBH</td>\n      <td>ref=sr_1_1868?dchild=1&amp;keywords=laptops&amp;qid=16...</td>\n    </tr>\n    <tr>\n      <th>1916</th>\n      <td>https:</td>\n      <td>www.amazon.com</td>\n      <td>gp</td>\n      <td>slredirect</td>\n      <td>picassoRedirect.html</td>\n      <td>ref=pa_sp_mtf_electronics-intl-ship_sr_pg156_1...</td>\n    </tr>\n    <tr>\n      <th>1917</th>\n      <td>https:</td>\n      <td>www.amazon.com</td>\n      <td>TopSeller-M720S-I5-9400-256GB-64BIT</td>\n      <td>dp</td>\n      <td>B082RD3STD</td>\n      <td>ref=sr_1_1875?dchild=1&amp;keywords=laptops&amp;qid=16...</td>\n    </tr>\n    <tr>\n      <th>1918</th>\n      <td>https:</td>\n      <td>www.amazon.com</td>\n      <td>gp</td>\n      <td>slredirect</td>\n      <td>picassoRedirect.html</td>\n      <td>ref=pa_sp_btf_electronics-intl-ship_sr_pg156_1...</td>\n    </tr>\n    <tr>\n      <th>1919</th>\n      <td>https:</td>\n      <td>www.amazon.com</td>\n      <td>gp</td>\n      <td>slredirect</td>\n      <td>picassoRedirect.html</td>\n      <td>ref=pa_sp_btf_electronics-intl-ship_sr_pg156_1...</td>\n    </tr>\n  </tbody>\n</table>\n<p>1920 rows × 6 columns</p>\n</div>"
     },
     "metadata": {},
     "execution_count": 15
    }
   ],
   "source": [
    "cols = ['c1', 'c2', 'c3', 'c4','c5','c6']\n",
    "make_me = []\n",
    "for url in urls:\n",
    "    lst = url.split(\"/\")\n",
    "    # your business rules go here\n",
    "    make_me.append([x for x in lst if not x.isdigit() and not x == \"\"])\n",
    "    \n",
    "\n",
    "laptop2 = pd.DataFrame(make_me, columns=cols)\n",
    "laptop2"
   ]
  },
  {
   "cell_type": "code",
   "execution_count": 16,
   "metadata": {},
   "outputs": [
    {
     "output_type": "execute_result",
     "data": {
      "text/plain": [
       "0       picassoRedirect.html\n",
       "1       picassoRedirect.html\n",
       "2                 B08NXSJVCR\n",
       "3                 B07GLV1VC7\n",
       "4                 B08842D7JS\n",
       "                ...         \n",
       "1915              B07T32DWBH\n",
       "1916    picassoRedirect.html\n",
       "1917              B082RD3STD\n",
       "1918    picassoRedirect.html\n",
       "1919    picassoRedirect.html\n",
       "Name: c5, Length: 1920, dtype: object"
      ]
     },
     "metadata": {},
     "execution_count": 16
    }
   ],
   "source": [
    "asin = laptop2['c5']\n",
    "asin"
   ]
  },
  {
   "cell_type": "code",
   "execution_count": 17,
   "metadata": {},
   "outputs": [
    {
     "output_type": "execute_result",
     "data": {
      "text/plain": [
       "0       ref=pa_sp_atf_electronics-intl-ship_sr_pg1_1?i...\n",
       "1       ref=pa_sp_atf_electronics-intl-ship_sr_pg1_1?i...\n",
       "2       ref=sr_1_3?dchild=1&keywords=laptops&qid=16113...\n",
       "3       ref=sr_1_4?dchild=1&keywords=laptops&qid=16113...\n",
       "4       ref=sr_1_5?dchild=1&keywords=laptops&qid=16113...\n",
       "                              ...                        \n",
       "1915    ref=sr_1_1868?dchild=1&keywords=laptops&qid=16...\n",
       "1916    ref=pa_sp_mtf_electronics-intl-ship_sr_pg156_1...\n",
       "1917    ref=sr_1_1875?dchild=1&keywords=laptops&qid=16...\n",
       "1918    ref=pa_sp_btf_electronics-intl-ship_sr_pg156_1...\n",
       "1919    ref=pa_sp_btf_electronics-intl-ship_sr_pg156_1...\n",
       "Name: c6, Length: 1920, dtype: object"
      ]
     },
     "metadata": {},
     "execution_count": 17
    }
   ],
   "source": [
    "laptop3 = laptop2['c6']\n",
    "laptop3"
   ]
  },
  {
   "cell_type": "code",
   "execution_count": 18,
   "metadata": {},
   "outputs": [
    {
     "output_type": "execute_result",
     "data": {
      "text/plain": [
       "                                                     c1  \\\n",
       "0     https://www.amazon.com/gp/slredirect/picassoRe...   \n",
       "1     https://www.amazon.com/gp/slredirect/picassoRe...   \n",
       "2     https://www.amazon.com/Lenovo-IdeaPad-i5-1035G...   \n",
       "3     https://www.amazon.com/Lenovo-Chromebook-Media...   \n",
       "4     https://www.amazon.com/Acer-Predator-i7-10750H...   \n",
       "...                                                 ...   \n",
       "1915  https://www.amazon.com/Dell-XPS9380-7011SLV-PU...   \n",
       "1916  https://www.amazon.com/gp/slredirect/picassoRe...   \n",
       "1917  https://www.amazon.com/TopSeller-M720S-I5-9400...   \n",
       "1918  https://www.amazon.com/gp/slredirect/picassoRe...   \n",
       "1919  https://www.amazon.com/gp/slredirect/picassoRe...   \n",
       "\n",
       "                                                     c2    c3           d4  \\\n",
       "0              FCHUWI-Herobook-Pro-Notebook-Lightweight   Fdp  FB085XRL3P1   \n",
       "1                FCHUWI-CoreBook-Pro-Computer-Processor   Fdp  FB08CDM3XPJ   \n",
       "2                                                  None  None         None   \n",
       "3                                                  None  None         None   \n",
       "4                                                  None  None         None   \n",
       "...                                                 ...   ...          ...   \n",
       "1915                                               None  None         None   \n",
       "1916           FWinnovo-V146-Windows-Processor-19201080   Fdp  FB08PF2HZVL   \n",
       "1917                                               None  None         None   \n",
       "1918            FWinnovo-N140-Celeron-Processor-Display   Fdp  FB08JBVT48L   \n",
       "1919  F15-6-inch-high-Performance-Quad-core-continuo...   Fdp  FB08N63ZSV7   \n",
       "\n",
       "                                      c5                   c6  \\\n",
       "0        Fref%3Dsr_1_1_sspa%3Fdchild%3D1  6keywords%3Dlaptops   \n",
       "1        Fref%3Dsr_1_2_sspa%3Fdchild%3D1  6keywords%3Dlaptops   \n",
       "2                                   None                 None   \n",
       "3                                   None                 None   \n",
       "4                                   None                 None   \n",
       "...                                  ...                  ...   \n",
       "1915                                None                 None   \n",
       "1916  Fref%3Dsr_1_1870_sspa%3Fdchild%3D1  6keywords%3Dlaptops   \n",
       "1917                                None                 None   \n",
       "1918  Fref%3Dsr_1_1877_sspa%3Fdchild%3D1  6keywords%3Dlaptops   \n",
       "1919  Fref%3Dsr_1_1878_sspa%3Fdchild%3D1  6keywords%3Dlaptops   \n",
       "\n",
       "                     c7                c8                  c9  \\\n",
       "0     6qid%3D1611307253  6s%3Delectronics     6sr%3D1-1-spons   \n",
       "1     6qid%3D1611307253  6s%3Delectronics     6sr%3D1-2-spons   \n",
       "2                  None              None                None   \n",
       "3                  None              None                None   \n",
       "4                  None              None                None   \n",
       "...                 ...               ...                 ...   \n",
       "1915               None              None                None   \n",
       "1916  6qid%3D1611051748  6s%3Delectronics  6sr%3D1-1870-spons   \n",
       "1917               None              None                None   \n",
       "1918  6qid%3D1611051748  6s%3Delectronics  6sr%3D1-1877-spons   \n",
       "1919  6qid%3D1611051748  6s%3Delectronics  6sr%3D1-1878-spons   \n",
       "\n",
       "                                                    c10  \\\n",
       "0                                              6psc%3D1   \n",
       "1     6psc%3D1&qualifier=1611307253&id=4715099864618...   \n",
       "2                                                  None   \n",
       "3                                                  None   \n",
       "4                                                  None   \n",
       "...                                                 ...   \n",
       "1915                                               None   \n",
       "1916  6psc%3D1&qualifier=1611307441&id=3005385781105...   \n",
       "1917                                               None   \n",
       "1918  6psc%3D1&qualifier=1611307441&id=3005385781105...   \n",
       "1919  6psc%3D1&qualifier=1611307441&id=3005385781105...   \n",
       "\n",
       "                                                    c11   c12   c13   c14  \\\n",
       "0     6smid%3DA19DTZHT4S76Z5&qualifier=1611307253&id...  None  None  None   \n",
       "1                                                  None  None  None  None   \n",
       "2                                                  None  None  None  None   \n",
       "3                                                  None  None  None  None   \n",
       "4                                                  None  None  None  None   \n",
       "...                                                 ...   ...   ...   ...   \n",
       "1915                                               None  None  None  None   \n",
       "1916                                               None  None  None  None   \n",
       "1917                                               None  None  None  None   \n",
       "1918                                               None  None  None  None   \n",
       "1919                                               None  None  None  None   \n",
       "\n",
       "       c15   c16  \n",
       "0     None  None  \n",
       "1     None  None  \n",
       "2     None  None  \n",
       "3     None  None  \n",
       "4     None  None  \n",
       "...    ...   ...  \n",
       "1915  None  None  \n",
       "1916  None  None  \n",
       "1917  None  None  \n",
       "1918  None  None  \n",
       "1919  None  None  \n",
       "\n",
       "[1920 rows x 16 columns]"
      ],
      "text/html": "<div>\n<style scoped>\n    .dataframe tbody tr th:only-of-type {\n        vertical-align: middle;\n    }\n\n    .dataframe tbody tr th {\n        vertical-align: top;\n    }\n\n    .dataframe thead th {\n        text-align: right;\n    }\n</style>\n<table border=\"1\" class=\"dataframe\">\n  <thead>\n    <tr style=\"text-align: right;\">\n      <th></th>\n      <th>c1</th>\n      <th>c2</th>\n      <th>c3</th>\n      <th>d4</th>\n      <th>c5</th>\n      <th>c6</th>\n      <th>c7</th>\n      <th>c8</th>\n      <th>c9</th>\n      <th>c10</th>\n      <th>c11</th>\n      <th>c12</th>\n      <th>c13</th>\n      <th>c14</th>\n      <th>c15</th>\n      <th>c16</th>\n    </tr>\n  </thead>\n  <tbody>\n    <tr>\n      <th>0</th>\n      <td>https://www.amazon.com/gp/slredirect/picassoRe...</td>\n      <td>FCHUWI-Herobook-Pro-Notebook-Lightweight</td>\n      <td>Fdp</td>\n      <td>FB085XRL3P1</td>\n      <td>Fref%3Dsr_1_1_sspa%3Fdchild%3D1</td>\n      <td>6keywords%3Dlaptops</td>\n      <td>6qid%3D1611307253</td>\n      <td>6s%3Delectronics</td>\n      <td>6sr%3D1-1-spons</td>\n      <td>6psc%3D1</td>\n      <td>6smid%3DA19DTZHT4S76Z5&amp;qualifier=1611307253&amp;id...</td>\n      <td>None</td>\n      <td>None</td>\n      <td>None</td>\n      <td>None</td>\n      <td>None</td>\n    </tr>\n    <tr>\n      <th>1</th>\n      <td>https://www.amazon.com/gp/slredirect/picassoRe...</td>\n      <td>FCHUWI-CoreBook-Pro-Computer-Processor</td>\n      <td>Fdp</td>\n      <td>FB08CDM3XPJ</td>\n      <td>Fref%3Dsr_1_2_sspa%3Fdchild%3D1</td>\n      <td>6keywords%3Dlaptops</td>\n      <td>6qid%3D1611307253</td>\n      <td>6s%3Delectronics</td>\n      <td>6sr%3D1-2-spons</td>\n      <td>6psc%3D1&amp;qualifier=1611307253&amp;id=4715099864618...</td>\n      <td>None</td>\n      <td>None</td>\n      <td>None</td>\n      <td>None</td>\n      <td>None</td>\n      <td>None</td>\n    </tr>\n    <tr>\n      <th>2</th>\n      <td>https://www.amazon.com/Lenovo-IdeaPad-i5-1035G...</td>\n      <td>None</td>\n      <td>None</td>\n      <td>None</td>\n      <td>None</td>\n      <td>None</td>\n      <td>None</td>\n      <td>None</td>\n      <td>None</td>\n      <td>None</td>\n      <td>None</td>\n      <td>None</td>\n      <td>None</td>\n      <td>None</td>\n      <td>None</td>\n      <td>None</td>\n    </tr>\n    <tr>\n      <th>3</th>\n      <td>https://www.amazon.com/Lenovo-Chromebook-Media...</td>\n      <td>None</td>\n      <td>None</td>\n      <td>None</td>\n      <td>None</td>\n      <td>None</td>\n      <td>None</td>\n      <td>None</td>\n      <td>None</td>\n      <td>None</td>\n      <td>None</td>\n      <td>None</td>\n      <td>None</td>\n      <td>None</td>\n      <td>None</td>\n      <td>None</td>\n    </tr>\n    <tr>\n      <th>4</th>\n      <td>https://www.amazon.com/Acer-Predator-i7-10750H...</td>\n      <td>None</td>\n      <td>None</td>\n      <td>None</td>\n      <td>None</td>\n      <td>None</td>\n      <td>None</td>\n      <td>None</td>\n      <td>None</td>\n      <td>None</td>\n      <td>None</td>\n      <td>None</td>\n      <td>None</td>\n      <td>None</td>\n      <td>None</td>\n      <td>None</td>\n    </tr>\n    <tr>\n      <th>...</th>\n      <td>...</td>\n      <td>...</td>\n      <td>...</td>\n      <td>...</td>\n      <td>...</td>\n      <td>...</td>\n      <td>...</td>\n      <td>...</td>\n      <td>...</td>\n      <td>...</td>\n      <td>...</td>\n      <td>...</td>\n      <td>...</td>\n      <td>...</td>\n      <td>...</td>\n      <td>...</td>\n    </tr>\n    <tr>\n      <th>1915</th>\n      <td>https://www.amazon.com/Dell-XPS9380-7011SLV-PU...</td>\n      <td>None</td>\n      <td>None</td>\n      <td>None</td>\n      <td>None</td>\n      <td>None</td>\n      <td>None</td>\n      <td>None</td>\n      <td>None</td>\n      <td>None</td>\n      <td>None</td>\n      <td>None</td>\n      <td>None</td>\n      <td>None</td>\n      <td>None</td>\n      <td>None</td>\n    </tr>\n    <tr>\n      <th>1916</th>\n      <td>https://www.amazon.com/gp/slredirect/picassoRe...</td>\n      <td>FWinnovo-V146-Windows-Processor-19201080</td>\n      <td>Fdp</td>\n      <td>FB08PF2HZVL</td>\n      <td>Fref%3Dsr_1_1870_sspa%3Fdchild%3D1</td>\n      <td>6keywords%3Dlaptops</td>\n      <td>6qid%3D1611051748</td>\n      <td>6s%3Delectronics</td>\n      <td>6sr%3D1-1870-spons</td>\n      <td>6psc%3D1&amp;qualifier=1611307441&amp;id=3005385781105...</td>\n      <td>None</td>\n      <td>None</td>\n      <td>None</td>\n      <td>None</td>\n      <td>None</td>\n      <td>None</td>\n    </tr>\n    <tr>\n      <th>1917</th>\n      <td>https://www.amazon.com/TopSeller-M720S-I5-9400...</td>\n      <td>None</td>\n      <td>None</td>\n      <td>None</td>\n      <td>None</td>\n      <td>None</td>\n      <td>None</td>\n      <td>None</td>\n      <td>None</td>\n      <td>None</td>\n      <td>None</td>\n      <td>None</td>\n      <td>None</td>\n      <td>None</td>\n      <td>None</td>\n      <td>None</td>\n    </tr>\n    <tr>\n      <th>1918</th>\n      <td>https://www.amazon.com/gp/slredirect/picassoRe...</td>\n      <td>FWinnovo-N140-Celeron-Processor-Display</td>\n      <td>Fdp</td>\n      <td>FB08JBVT48L</td>\n      <td>Fref%3Dsr_1_1877_sspa%3Fdchild%3D1</td>\n      <td>6keywords%3Dlaptops</td>\n      <td>6qid%3D1611051748</td>\n      <td>6s%3Delectronics</td>\n      <td>6sr%3D1-1877-spons</td>\n      <td>6psc%3D1&amp;qualifier=1611307441&amp;id=3005385781105...</td>\n      <td>None</td>\n      <td>None</td>\n      <td>None</td>\n      <td>None</td>\n      <td>None</td>\n      <td>None</td>\n    </tr>\n    <tr>\n      <th>1919</th>\n      <td>https://www.amazon.com/gp/slredirect/picassoRe...</td>\n      <td>F15-6-inch-high-Performance-Quad-core-continuo...</td>\n      <td>Fdp</td>\n      <td>FB08N63ZSV7</td>\n      <td>Fref%3Dsr_1_1878_sspa%3Fdchild%3D1</td>\n      <td>6keywords%3Dlaptops</td>\n      <td>6qid%3D1611051748</td>\n      <td>6s%3Delectronics</td>\n      <td>6sr%3D1-1878-spons</td>\n      <td>6psc%3D1&amp;qualifier=1611307441&amp;id=3005385781105...</td>\n      <td>None</td>\n      <td>None</td>\n      <td>None</td>\n      <td>None</td>\n      <td>None</td>\n      <td>None</td>\n    </tr>\n  </tbody>\n</table>\n<p>1920 rows × 16 columns</p>\n</div>"
     },
     "metadata": {},
     "execution_count": 18
    }
   ],
   "source": [
    "cols = ['c1','c2','c3','d4','c5','c6','c7','c8','c9','c10','c11','c12', 'c13', 'c14', 'c15', 'c16']\n",
    "make_me = []\n",
    "for url in urls:\n",
    "    lst = url.split(\"%2\")\n",
    "    # your business rules go here\n",
    "    make_me.append([x for x in lst if not x.isdigit() and not x == \"\"])\n",
    "    \n",
    "\n",
    "laptop4 = pd.DataFrame(make_me, columns=cols)\n",
    "laptop4"
   ]
  },
  {
   "cell_type": "code",
   "execution_count": 19,
   "metadata": {},
   "outputs": [
    {
     "output_type": "execute_result",
     "data": {
      "text/plain": [
       "0       FB085XRL3P1\n",
       "1       FB08CDM3XPJ\n",
       "2              None\n",
       "3              None\n",
       "4              None\n",
       "           ...     \n",
       "1915           None\n",
       "1916    FB08PF2HZVL\n",
       "1917           None\n",
       "1918    FB08JBVT48L\n",
       "1919    FB08N63ZSV7\n",
       "Name: d4, Length: 1920, dtype: object"
      ]
     },
     "metadata": {},
     "execution_count": 19
    }
   ],
   "source": [
    "laptop5 = laptop4['d4']\n",
    "laptop5"
   ]
  },
  {
   "cell_type": "code",
   "execution_count": 20,
   "metadata": {},
   "outputs": [
    {
     "output_type": "execute_result",
     "data": {
      "text/plain": [
       "               d4\n",
       "0     FB085XRL3P1\n",
       "1     FB08CDM3XPJ\n",
       "2            None\n",
       "3            None\n",
       "4            None\n",
       "...           ...\n",
       "1915         None\n",
       "1916  FB08PF2HZVL\n",
       "1917         None\n",
       "1918  FB08JBVT48L\n",
       "1919  FB08N63ZSV7\n",
       "\n",
       "[1920 rows x 1 columns]"
      ],
      "text/html": "<div>\n<style scoped>\n    .dataframe tbody tr th:only-of-type {\n        vertical-align: middle;\n    }\n\n    .dataframe tbody tr th {\n        vertical-align: top;\n    }\n\n    .dataframe thead th {\n        text-align: right;\n    }\n</style>\n<table border=\"1\" class=\"dataframe\">\n  <thead>\n    <tr style=\"text-align: right;\">\n      <th></th>\n      <th>d4</th>\n    </tr>\n  </thead>\n  <tbody>\n    <tr>\n      <th>0</th>\n      <td>FB085XRL3P1</td>\n    </tr>\n    <tr>\n      <th>1</th>\n      <td>FB08CDM3XPJ</td>\n    </tr>\n    <tr>\n      <th>2</th>\n      <td>None</td>\n    </tr>\n    <tr>\n      <th>3</th>\n      <td>None</td>\n    </tr>\n    <tr>\n      <th>4</th>\n      <td>None</td>\n    </tr>\n    <tr>\n      <th>...</th>\n      <td>...</td>\n    </tr>\n    <tr>\n      <th>1915</th>\n      <td>None</td>\n    </tr>\n    <tr>\n      <th>1916</th>\n      <td>FB08PF2HZVL</td>\n    </tr>\n    <tr>\n      <th>1917</th>\n      <td>None</td>\n    </tr>\n    <tr>\n      <th>1918</th>\n      <td>FB08JBVT48L</td>\n    </tr>\n    <tr>\n      <th>1919</th>\n      <td>FB08N63ZSV7</td>\n    </tr>\n  </tbody>\n</table>\n<p>1920 rows × 1 columns</p>\n</div>"
     },
     "metadata": {},
     "execution_count": 20
    }
   ],
   "source": [
    "pd.DataFrame(laptop5)"
   ]
  },
  {
   "cell_type": "code",
   "execution_count": 21,
   "metadata": {},
   "outputs": [
    {
     "output_type": "execute_result",
     "data": {
      "text/plain": [
       "                        c5           d4\n",
       "0     picassoRedirect.html  FB085XRL3P1\n",
       "1     picassoRedirect.html  FB08CDM3XPJ\n",
       "2               B08NXSJVCR         None\n",
       "3               B07GLV1VC7         None\n",
       "4               B08842D7JS         None\n",
       "...                    ...          ...\n",
       "1915            B07T32DWBH         None\n",
       "1916  picassoRedirect.html  FB08PF2HZVL\n",
       "1917            B082RD3STD         None\n",
       "1918  picassoRedirect.html  FB08JBVT48L\n",
       "1919  picassoRedirect.html  FB08N63ZSV7\n",
       "\n",
       "[1920 rows x 2 columns]"
      ],
      "text/html": "<div>\n<style scoped>\n    .dataframe tbody tr th:only-of-type {\n        vertical-align: middle;\n    }\n\n    .dataframe tbody tr th {\n        vertical-align: top;\n    }\n\n    .dataframe thead th {\n        text-align: right;\n    }\n</style>\n<table border=\"1\" class=\"dataframe\">\n  <thead>\n    <tr style=\"text-align: right;\">\n      <th></th>\n      <th>c5</th>\n      <th>d4</th>\n    </tr>\n  </thead>\n  <tbody>\n    <tr>\n      <th>0</th>\n      <td>picassoRedirect.html</td>\n      <td>FB085XRL3P1</td>\n    </tr>\n    <tr>\n      <th>1</th>\n      <td>picassoRedirect.html</td>\n      <td>FB08CDM3XPJ</td>\n    </tr>\n    <tr>\n      <th>2</th>\n      <td>B08NXSJVCR</td>\n      <td>None</td>\n    </tr>\n    <tr>\n      <th>3</th>\n      <td>B07GLV1VC7</td>\n      <td>None</td>\n    </tr>\n    <tr>\n      <th>4</th>\n      <td>B08842D7JS</td>\n      <td>None</td>\n    </tr>\n    <tr>\n      <th>...</th>\n      <td>...</td>\n      <td>...</td>\n    </tr>\n    <tr>\n      <th>1915</th>\n      <td>B07T32DWBH</td>\n      <td>None</td>\n    </tr>\n    <tr>\n      <th>1916</th>\n      <td>picassoRedirect.html</td>\n      <td>FB08PF2HZVL</td>\n    </tr>\n    <tr>\n      <th>1917</th>\n      <td>B082RD3STD</td>\n      <td>None</td>\n    </tr>\n    <tr>\n      <th>1918</th>\n      <td>picassoRedirect.html</td>\n      <td>FB08JBVT48L</td>\n    </tr>\n    <tr>\n      <th>1919</th>\n      <td>picassoRedirect.html</td>\n      <td>FB08N63ZSV7</td>\n    </tr>\n  </tbody>\n</table>\n<p>1920 rows × 2 columns</p>\n</div>"
     },
     "metadata": {},
     "execution_count": 21
    }
   ],
   "source": [
    "laptop6 = pd.concat([asin, laptop5], axis=1)\n",
    "laptop6"
   ]
  },
  {
   "cell_type": "code",
   "execution_count": 22,
   "metadata": {},
   "outputs": [
    {
     "output_type": "execute_result",
     "data": {
      "text/plain": [
       "                        c5          d4\n",
       "0     picassoRedirect.html  B085XRL3P1\n",
       "1     picassoRedirect.html  B08CDM3XPJ\n",
       "2               B08NXSJVCR        None\n",
       "3               B07GLV1VC7        None\n",
       "4               B08842D7JS        None\n",
       "...                    ...         ...\n",
       "1915            B07T32DWBH        None\n",
       "1916  picassoRedirect.html  B08PF2HZVL\n",
       "1917            B082RD3STD        None\n",
       "1918  picassoRedirect.html  B08JBVT48L\n",
       "1919  picassoRedirect.html  B08N63ZSV7\n",
       "\n",
       "[1920 rows x 2 columns]"
      ],
      "text/html": "<div>\n<style scoped>\n    .dataframe tbody tr th:only-of-type {\n        vertical-align: middle;\n    }\n\n    .dataframe tbody tr th {\n        vertical-align: top;\n    }\n\n    .dataframe thead th {\n        text-align: right;\n    }\n</style>\n<table border=\"1\" class=\"dataframe\">\n  <thead>\n    <tr style=\"text-align: right;\">\n      <th></th>\n      <th>c5</th>\n      <th>d4</th>\n    </tr>\n  </thead>\n  <tbody>\n    <tr>\n      <th>0</th>\n      <td>picassoRedirect.html</td>\n      <td>B085XRL3P1</td>\n    </tr>\n    <tr>\n      <th>1</th>\n      <td>picassoRedirect.html</td>\n      <td>B08CDM3XPJ</td>\n    </tr>\n    <tr>\n      <th>2</th>\n      <td>B08NXSJVCR</td>\n      <td>None</td>\n    </tr>\n    <tr>\n      <th>3</th>\n      <td>B07GLV1VC7</td>\n      <td>None</td>\n    </tr>\n    <tr>\n      <th>4</th>\n      <td>B08842D7JS</td>\n      <td>None</td>\n    </tr>\n    <tr>\n      <th>...</th>\n      <td>...</td>\n      <td>...</td>\n    </tr>\n    <tr>\n      <th>1915</th>\n      <td>B07T32DWBH</td>\n      <td>None</td>\n    </tr>\n    <tr>\n      <th>1916</th>\n      <td>picassoRedirect.html</td>\n      <td>B08PF2HZVL</td>\n    </tr>\n    <tr>\n      <th>1917</th>\n      <td>B082RD3STD</td>\n      <td>None</td>\n    </tr>\n    <tr>\n      <th>1918</th>\n      <td>picassoRedirect.html</td>\n      <td>B08JBVT48L</td>\n    </tr>\n    <tr>\n      <th>1919</th>\n      <td>picassoRedirect.html</td>\n      <td>B08N63ZSV7</td>\n    </tr>\n  </tbody>\n</table>\n<p>1920 rows × 2 columns</p>\n</div>"
     },
     "metadata": {},
     "execution_count": 22
    }
   ],
   "source": [
    "laptop6['d4'] = laptop6['d4'].str[1:]\n",
    "laptop6"
   ]
  },
  {
   "cell_type": "code",
   "execution_count": 23,
   "metadata": {},
   "outputs": [
    {
     "output_type": "execute_result",
     "data": {
      "text/plain": [
       "              c5          d4\n",
       "0     B085XRL3P1  B085XRL3P1\n",
       "1     B08CDM3XPJ  B08CDM3XPJ\n",
       "2     B08NXSJVCR        None\n",
       "3     B07GLV1VC7        None\n",
       "4     B08842D7JS        None\n",
       "...          ...         ...\n",
       "1915  B07T32DWBH        None\n",
       "1916  B08PF2HZVL  B08PF2HZVL\n",
       "1917  B082RD3STD        None\n",
       "1918  B08JBVT48L  B08JBVT48L\n",
       "1919  B08N63ZSV7  B08N63ZSV7\n",
       "\n",
       "[1920 rows x 2 columns]"
      ],
      "text/html": "<div>\n<style scoped>\n    .dataframe tbody tr th:only-of-type {\n        vertical-align: middle;\n    }\n\n    .dataframe tbody tr th {\n        vertical-align: top;\n    }\n\n    .dataframe thead th {\n        text-align: right;\n    }\n</style>\n<table border=\"1\" class=\"dataframe\">\n  <thead>\n    <tr style=\"text-align: right;\">\n      <th></th>\n      <th>c5</th>\n      <th>d4</th>\n    </tr>\n  </thead>\n  <tbody>\n    <tr>\n      <th>0</th>\n      <td>B085XRL3P1</td>\n      <td>B085XRL3P1</td>\n    </tr>\n    <tr>\n      <th>1</th>\n      <td>B08CDM3XPJ</td>\n      <td>B08CDM3XPJ</td>\n    </tr>\n    <tr>\n      <th>2</th>\n      <td>B08NXSJVCR</td>\n      <td>None</td>\n    </tr>\n    <tr>\n      <th>3</th>\n      <td>B07GLV1VC7</td>\n      <td>None</td>\n    </tr>\n    <tr>\n      <th>4</th>\n      <td>B08842D7JS</td>\n      <td>None</td>\n    </tr>\n    <tr>\n      <th>...</th>\n      <td>...</td>\n      <td>...</td>\n    </tr>\n    <tr>\n      <th>1915</th>\n      <td>B07T32DWBH</td>\n      <td>None</td>\n    </tr>\n    <tr>\n      <th>1916</th>\n      <td>B08PF2HZVL</td>\n      <td>B08PF2HZVL</td>\n    </tr>\n    <tr>\n      <th>1917</th>\n      <td>B082RD3STD</td>\n      <td>None</td>\n    </tr>\n    <tr>\n      <th>1918</th>\n      <td>B08JBVT48L</td>\n      <td>B08JBVT48L</td>\n    </tr>\n    <tr>\n      <th>1919</th>\n      <td>B08N63ZSV7</td>\n      <td>B08N63ZSV7</td>\n    </tr>\n  </tbody>\n</table>\n<p>1920 rows × 2 columns</p>\n</div>"
     },
     "metadata": {},
     "execution_count": 23
    }
   ],
   "source": [
    "laptop6['c5'] = np.where(laptop6['c5'] == 'picassoRedirect.html', laptop6['d4'], laptop6['c5'])\n",
    "laptop6"
   ]
  },
  {
   "cell_type": "code",
   "execution_count": 24,
   "metadata": {},
   "outputs": [
    {
     "output_type": "execute_result",
     "data": {
      "text/plain": [
       "              c5\n",
       "0     B085XRL3P1\n",
       "1     B08CDM3XPJ\n",
       "2     B08NXSJVCR\n",
       "3     B07GLV1VC7\n",
       "4     B08842D7JS\n",
       "...          ...\n",
       "1915  B07T32DWBH\n",
       "1916  B08PF2HZVL\n",
       "1917  B082RD3STD\n",
       "1918  B08JBVT48L\n",
       "1919  B08N63ZSV7\n",
       "\n",
       "[1920 rows x 1 columns]"
      ],
      "text/html": "<div>\n<style scoped>\n    .dataframe tbody tr th:only-of-type {\n        vertical-align: middle;\n    }\n\n    .dataframe tbody tr th {\n        vertical-align: top;\n    }\n\n    .dataframe thead th {\n        text-align: right;\n    }\n</style>\n<table border=\"1\" class=\"dataframe\">\n  <thead>\n    <tr style=\"text-align: right;\">\n      <th></th>\n      <th>c5</th>\n    </tr>\n  </thead>\n  <tbody>\n    <tr>\n      <th>0</th>\n      <td>B085XRL3P1</td>\n    </tr>\n    <tr>\n      <th>1</th>\n      <td>B08CDM3XPJ</td>\n    </tr>\n    <tr>\n      <th>2</th>\n      <td>B08NXSJVCR</td>\n    </tr>\n    <tr>\n      <th>3</th>\n      <td>B07GLV1VC7</td>\n    </tr>\n    <tr>\n      <th>4</th>\n      <td>B08842D7JS</td>\n    </tr>\n    <tr>\n      <th>...</th>\n      <td>...</td>\n    </tr>\n    <tr>\n      <th>1915</th>\n      <td>B07T32DWBH</td>\n    </tr>\n    <tr>\n      <th>1916</th>\n      <td>B08PF2HZVL</td>\n    </tr>\n    <tr>\n      <th>1917</th>\n      <td>B082RD3STD</td>\n    </tr>\n    <tr>\n      <th>1918</th>\n      <td>B08JBVT48L</td>\n    </tr>\n    <tr>\n      <th>1919</th>\n      <td>B08N63ZSV7</td>\n    </tr>\n  </tbody>\n</table>\n<p>1920 rows × 1 columns</p>\n</div>"
     },
     "metadata": {},
     "execution_count": 24
    }
   ],
   "source": [
    "newasin = laptop6.drop(['d4'],axis=1)\n",
    "newasin"
   ]
  },
  {
   "cell_type": "code",
   "execution_count": 25,
   "metadata": {},
   "outputs": [
    {
     "output_type": "execute_result",
     "data": {
      "text/plain": [
       "                                                  title  \\\n",
       "0     CHUWI Herobook Pro 14.1 inch Windows 10 Intel ...   \n",
       "1     CHUWI CoreBook Pro Windows 10 Laptop Computer,...   \n",
       "2     Lenovo IdeaPad 3 Intel i5-1035G1 Quad Core 12G...   \n",
       "3     Lenovo Chromebook S330 Laptop, 14-Inch FHD (19...   \n",
       "4     Acer Predator Helios 300 Gaming Laptop, Intel ...   \n",
       "...                                                 ...   \n",
       "1915  Dell XPS 13 9380, XPS9380-7011SLV-PUS, 8th Gen...   \n",
       "1916  Laptop 14 Inch, Winnovo V146, Windows 10, 4GB ...   \n",
       "1917  TopSeller TC M720S SFF I5-9400 2.9G 8GB 256GB ...   \n",
       "1918  Laptop 14 Inch, Winnovo N140, 6GB RAM, 128GB S...   \n",
       "1919  2020 15.6-inch Laptop 6G + 256G, Intel celeron...   \n",
       "\n",
       "                                                    url  rating  review_count  \\\n",
       "0     https://www.amazon.com/gp/slredirect/picassoRe...     4.0           346   \n",
       "1     https://www.amazon.com/gp/slredirect/picassoRe...     4.1           222   \n",
       "2     https://www.amazon.com/Lenovo-IdeaPad-i5-1035G...     4.5            64   \n",
       "3     https://www.amazon.com/Lenovo-Chromebook-Media...     4.4          1110   \n",
       "4     https://www.amazon.com/Acer-Predator-i7-10750H...     4.7          2151   \n",
       "...                                                 ...     ...           ...   \n",
       "1915  https://www.amazon.com/Dell-XPS9380-7011SLV-PU...     4.1            19   \n",
       "1916  https://www.amazon.com/gp/slredirect/picassoRe...     4.1            42   \n",
       "1917  https://www.amazon.com/TopSeller-M720S-I5-9400...     5.0             1   \n",
       "1918  https://www.amazon.com/gp/slredirect/picassoRe...     4.3            38   \n",
       "1919  https://www.amazon.com/gp/slredirect/picassoRe...     3.0             3   \n",
       "\n",
       "        price product_type          c5  \n",
       "0      349.00       LAPTOP  B085XRL3P1  \n",
       "1      439.00       LAPTOP  B08CDM3XPJ  \n",
       "2      544.00       LAPTOP  B08NXSJVCR  \n",
       "3      279.99       LAPTOP  B07GLV1VC7  \n",
       "4     1409.98       LAPTOP  B08842D7JS  \n",
       "...       ...          ...         ...  \n",
       "1915  1495.00       LAPTOP  B07T32DWBH  \n",
       "1916   239.99       LAPTOP  B08PF2HZVL  \n",
       "1917   569.99       LAPTOP  B082RD3STD  \n",
       "1918   289.99       LAPTOP  B08JBVT48L  \n",
       "1919   359.00       LAPTOP  B08N63ZSV7  \n",
       "\n",
       "[1920 rows x 7 columns]"
      ],
      "text/html": "<div>\n<style scoped>\n    .dataframe tbody tr th:only-of-type {\n        vertical-align: middle;\n    }\n\n    .dataframe tbody tr th {\n        vertical-align: top;\n    }\n\n    .dataframe thead th {\n        text-align: right;\n    }\n</style>\n<table border=\"1\" class=\"dataframe\">\n  <thead>\n    <tr style=\"text-align: right;\">\n      <th></th>\n      <th>title</th>\n      <th>url</th>\n      <th>rating</th>\n      <th>review_count</th>\n      <th>price</th>\n      <th>product_type</th>\n      <th>c5</th>\n    </tr>\n  </thead>\n  <tbody>\n    <tr>\n      <th>0</th>\n      <td>CHUWI Herobook Pro 14.1 inch Windows 10 Intel ...</td>\n      <td>https://www.amazon.com/gp/slredirect/picassoRe...</td>\n      <td>4.0</td>\n      <td>346</td>\n      <td>349.00</td>\n      <td>LAPTOP</td>\n      <td>B085XRL3P1</td>\n    </tr>\n    <tr>\n      <th>1</th>\n      <td>CHUWI CoreBook Pro Windows 10 Laptop Computer,...</td>\n      <td>https://www.amazon.com/gp/slredirect/picassoRe...</td>\n      <td>4.1</td>\n      <td>222</td>\n      <td>439.00</td>\n      <td>LAPTOP</td>\n      <td>B08CDM3XPJ</td>\n    </tr>\n    <tr>\n      <th>2</th>\n      <td>Lenovo IdeaPad 3 Intel i5-1035G1 Quad Core 12G...</td>\n      <td>https://www.amazon.com/Lenovo-IdeaPad-i5-1035G...</td>\n      <td>4.5</td>\n      <td>64</td>\n      <td>544.00</td>\n      <td>LAPTOP</td>\n      <td>B08NXSJVCR</td>\n    </tr>\n    <tr>\n      <th>3</th>\n      <td>Lenovo Chromebook S330 Laptop, 14-Inch FHD (19...</td>\n      <td>https://www.amazon.com/Lenovo-Chromebook-Media...</td>\n      <td>4.4</td>\n      <td>1110</td>\n      <td>279.99</td>\n      <td>LAPTOP</td>\n      <td>B07GLV1VC7</td>\n    </tr>\n    <tr>\n      <th>4</th>\n      <td>Acer Predator Helios 300 Gaming Laptop, Intel ...</td>\n      <td>https://www.amazon.com/Acer-Predator-i7-10750H...</td>\n      <td>4.7</td>\n      <td>2151</td>\n      <td>1409.98</td>\n      <td>LAPTOP</td>\n      <td>B08842D7JS</td>\n    </tr>\n    <tr>\n      <th>...</th>\n      <td>...</td>\n      <td>...</td>\n      <td>...</td>\n      <td>...</td>\n      <td>...</td>\n      <td>...</td>\n      <td>...</td>\n    </tr>\n    <tr>\n      <th>1915</th>\n      <td>Dell XPS 13 9380, XPS9380-7011SLV-PUS, 8th Gen...</td>\n      <td>https://www.amazon.com/Dell-XPS9380-7011SLV-PU...</td>\n      <td>4.1</td>\n      <td>19</td>\n      <td>1495.00</td>\n      <td>LAPTOP</td>\n      <td>B07T32DWBH</td>\n    </tr>\n    <tr>\n      <th>1916</th>\n      <td>Laptop 14 Inch, Winnovo V146, Windows 10, 4GB ...</td>\n      <td>https://www.amazon.com/gp/slredirect/picassoRe...</td>\n      <td>4.1</td>\n      <td>42</td>\n      <td>239.99</td>\n      <td>LAPTOP</td>\n      <td>B08PF2HZVL</td>\n    </tr>\n    <tr>\n      <th>1917</th>\n      <td>TopSeller TC M720S SFF I5-9400 2.9G 8GB 256GB ...</td>\n      <td>https://www.amazon.com/TopSeller-M720S-I5-9400...</td>\n      <td>5.0</td>\n      <td>1</td>\n      <td>569.99</td>\n      <td>LAPTOP</td>\n      <td>B082RD3STD</td>\n    </tr>\n    <tr>\n      <th>1918</th>\n      <td>Laptop 14 Inch, Winnovo N140, 6GB RAM, 128GB S...</td>\n      <td>https://www.amazon.com/gp/slredirect/picassoRe...</td>\n      <td>4.3</td>\n      <td>38</td>\n      <td>289.99</td>\n      <td>LAPTOP</td>\n      <td>B08JBVT48L</td>\n    </tr>\n    <tr>\n      <th>1919</th>\n      <td>2020 15.6-inch Laptop 6G + 256G, Intel celeron...</td>\n      <td>https://www.amazon.com/gp/slredirect/picassoRe...</td>\n      <td>3.0</td>\n      <td>3</td>\n      <td>359.00</td>\n      <td>LAPTOP</td>\n      <td>B08N63ZSV7</td>\n    </tr>\n  </tbody>\n</table>\n<p>1920 rows × 7 columns</p>\n</div>"
     },
     "metadata": {},
     "execution_count": 25
    }
   ],
   "source": [
    "laptopasin = pd.concat([laptop1, newasin], axis=1)\n",
    "laptopasin"
   ]
  },
  {
   "cell_type": "code",
   "execution_count": 26,
   "metadata": {},
   "outputs": [],
   "source": [
    "laptopasin = laptopasin.drop(['url' ], axis = 1)"
   ]
  },
  {
   "cell_type": "code",
   "execution_count": 27,
   "metadata": {},
   "outputs": [
    {
     "output_type": "execute_result",
     "data": {
      "text/plain": [
       "                                                  title  rating  review_count  \\\n",
       "0     CHUWI Herobook Pro 14.1 inch Windows 10 Intel ...     4.0           346   \n",
       "1     CHUWI CoreBook Pro Windows 10 Laptop Computer,...     4.1           222   \n",
       "2     Lenovo IdeaPad 3 Intel i5-1035G1 Quad Core 12G...     4.5            64   \n",
       "3     Lenovo Chromebook S330 Laptop, 14-Inch FHD (19...     4.4          1110   \n",
       "4     Acer Predator Helios 300 Gaming Laptop, Intel ...     4.7          2151   \n",
       "...                                                 ...     ...           ...   \n",
       "1915  Dell XPS 13 9380, XPS9380-7011SLV-PUS, 8th Gen...     4.1            19   \n",
       "1916  Laptop 14 Inch, Winnovo V146, Windows 10, 4GB ...     4.1            42   \n",
       "1917  TopSeller TC M720S SFF I5-9400 2.9G 8GB 256GB ...     5.0             1   \n",
       "1918  Laptop 14 Inch, Winnovo N140, 6GB RAM, 128GB S...     4.3            38   \n",
       "1919  2020 15.6-inch Laptop 6G + 256G, Intel celeron...     3.0             3   \n",
       "\n",
       "        price product_type        ASIN  \n",
       "0      349.00       LAPTOP  B085XRL3P1  \n",
       "1      439.00       LAPTOP  B08CDM3XPJ  \n",
       "2      544.00       LAPTOP  B08NXSJVCR  \n",
       "3      279.99       LAPTOP  B07GLV1VC7  \n",
       "4     1409.98       LAPTOP  B08842D7JS  \n",
       "...       ...          ...         ...  \n",
       "1915  1495.00       LAPTOP  B07T32DWBH  \n",
       "1916   239.99       LAPTOP  B08PF2HZVL  \n",
       "1917   569.99       LAPTOP  B082RD3STD  \n",
       "1918   289.99       LAPTOP  B08JBVT48L  \n",
       "1919   359.00       LAPTOP  B08N63ZSV7  \n",
       "\n",
       "[1920 rows x 6 columns]"
      ],
      "text/html": "<div>\n<style scoped>\n    .dataframe tbody tr th:only-of-type {\n        vertical-align: middle;\n    }\n\n    .dataframe tbody tr th {\n        vertical-align: top;\n    }\n\n    .dataframe thead th {\n        text-align: right;\n    }\n</style>\n<table border=\"1\" class=\"dataframe\">\n  <thead>\n    <tr style=\"text-align: right;\">\n      <th></th>\n      <th>title</th>\n      <th>rating</th>\n      <th>review_count</th>\n      <th>price</th>\n      <th>product_type</th>\n      <th>ASIN</th>\n    </tr>\n  </thead>\n  <tbody>\n    <tr>\n      <th>0</th>\n      <td>CHUWI Herobook Pro 14.1 inch Windows 10 Intel ...</td>\n      <td>4.0</td>\n      <td>346</td>\n      <td>349.00</td>\n      <td>LAPTOP</td>\n      <td>B085XRL3P1</td>\n    </tr>\n    <tr>\n      <th>1</th>\n      <td>CHUWI CoreBook Pro Windows 10 Laptop Computer,...</td>\n      <td>4.1</td>\n      <td>222</td>\n      <td>439.00</td>\n      <td>LAPTOP</td>\n      <td>B08CDM3XPJ</td>\n    </tr>\n    <tr>\n      <th>2</th>\n      <td>Lenovo IdeaPad 3 Intel i5-1035G1 Quad Core 12G...</td>\n      <td>4.5</td>\n      <td>64</td>\n      <td>544.00</td>\n      <td>LAPTOP</td>\n      <td>B08NXSJVCR</td>\n    </tr>\n    <tr>\n      <th>3</th>\n      <td>Lenovo Chromebook S330 Laptop, 14-Inch FHD (19...</td>\n      <td>4.4</td>\n      <td>1110</td>\n      <td>279.99</td>\n      <td>LAPTOP</td>\n      <td>B07GLV1VC7</td>\n    </tr>\n    <tr>\n      <th>4</th>\n      <td>Acer Predator Helios 300 Gaming Laptop, Intel ...</td>\n      <td>4.7</td>\n      <td>2151</td>\n      <td>1409.98</td>\n      <td>LAPTOP</td>\n      <td>B08842D7JS</td>\n    </tr>\n    <tr>\n      <th>...</th>\n      <td>...</td>\n      <td>...</td>\n      <td>...</td>\n      <td>...</td>\n      <td>...</td>\n      <td>...</td>\n    </tr>\n    <tr>\n      <th>1915</th>\n      <td>Dell XPS 13 9380, XPS9380-7011SLV-PUS, 8th Gen...</td>\n      <td>4.1</td>\n      <td>19</td>\n      <td>1495.00</td>\n      <td>LAPTOP</td>\n      <td>B07T32DWBH</td>\n    </tr>\n    <tr>\n      <th>1916</th>\n      <td>Laptop 14 Inch, Winnovo V146, Windows 10, 4GB ...</td>\n      <td>4.1</td>\n      <td>42</td>\n      <td>239.99</td>\n      <td>LAPTOP</td>\n      <td>B08PF2HZVL</td>\n    </tr>\n    <tr>\n      <th>1917</th>\n      <td>TopSeller TC M720S SFF I5-9400 2.9G 8GB 256GB ...</td>\n      <td>5.0</td>\n      <td>1</td>\n      <td>569.99</td>\n      <td>LAPTOP</td>\n      <td>B082RD3STD</td>\n    </tr>\n    <tr>\n      <th>1918</th>\n      <td>Laptop 14 Inch, Winnovo N140, 6GB RAM, 128GB S...</td>\n      <td>4.3</td>\n      <td>38</td>\n      <td>289.99</td>\n      <td>LAPTOP</td>\n      <td>B08JBVT48L</td>\n    </tr>\n    <tr>\n      <th>1919</th>\n      <td>2020 15.6-inch Laptop 6G + 256G, Intel celeron...</td>\n      <td>3.0</td>\n      <td>3</td>\n      <td>359.00</td>\n      <td>LAPTOP</td>\n      <td>B08N63ZSV7</td>\n    </tr>\n  </tbody>\n</table>\n<p>1920 rows × 6 columns</p>\n</div>"
     },
     "metadata": {},
     "execution_count": 27
    }
   ],
   "source": [
    "laptopasin = laptopasin.rename(columns={'c5': 'ASIN'})\n",
    "laptopasin"
   ]
  },
  {
   "cell_type": "code",
   "execution_count": 28,
   "metadata": {},
   "outputs": [
    {
     "output_type": "execute_result",
     "data": {
      "text/plain": [
       "            ASIN                                              title    price  \\\n",
       "0     B085XRL3P1  CHUWI Herobook Pro 14.1 inch Windows 10 Intel ...   349.00   \n",
       "1     B08CDM3XPJ  CHUWI CoreBook Pro Windows 10 Laptop Computer,...   439.00   \n",
       "2     B08NXSJVCR  Lenovo IdeaPad 3 Intel i5-1035G1 Quad Core 12G...   544.00   \n",
       "3     B07GLV1VC7  Lenovo Chromebook S330 Laptop, 14-Inch FHD (19...   279.99   \n",
       "4     B08842D7JS  Acer Predator Helios 300 Gaming Laptop, Intel ...  1409.98   \n",
       "...          ...                                                ...      ...   \n",
       "1915  B07T32DWBH  Dell XPS 13 9380, XPS9380-7011SLV-PUS, 8th Gen...  1495.00   \n",
       "1916  B08PF2HZVL  Laptop 14 Inch, Winnovo V146, Windows 10, 4GB ...   239.99   \n",
       "1917  B082RD3STD  TopSeller TC M720S SFF I5-9400 2.9G 8GB 256GB ...   569.99   \n",
       "1918  B08JBVT48L  Laptop 14 Inch, Winnovo N140, 6GB RAM, 128GB S...   289.99   \n",
       "1919  B08N63ZSV7  2020 15.6-inch Laptop 6G + 256G, Intel celeron...   359.00   \n",
       "\n",
       "      rating  review_count product_type  \n",
       "0        4.0           346       LAPTOP  \n",
       "1        4.1           222       LAPTOP  \n",
       "2        4.5            64       LAPTOP  \n",
       "3        4.4          1110       LAPTOP  \n",
       "4        4.7          2151       LAPTOP  \n",
       "...      ...           ...          ...  \n",
       "1915     4.1            19       LAPTOP  \n",
       "1916     4.1            42       LAPTOP  \n",
       "1917     5.0             1       LAPTOP  \n",
       "1918     4.3            38       LAPTOP  \n",
       "1919     3.0             3       LAPTOP  \n",
       "\n",
       "[1920 rows x 6 columns]"
      ],
      "text/html": "<div>\n<style scoped>\n    .dataframe tbody tr th:only-of-type {\n        vertical-align: middle;\n    }\n\n    .dataframe tbody tr th {\n        vertical-align: top;\n    }\n\n    .dataframe thead th {\n        text-align: right;\n    }\n</style>\n<table border=\"1\" class=\"dataframe\">\n  <thead>\n    <tr style=\"text-align: right;\">\n      <th></th>\n      <th>ASIN</th>\n      <th>title</th>\n      <th>price</th>\n      <th>rating</th>\n      <th>review_count</th>\n      <th>product_type</th>\n    </tr>\n  </thead>\n  <tbody>\n    <tr>\n      <th>0</th>\n      <td>B085XRL3P1</td>\n      <td>CHUWI Herobook Pro 14.1 inch Windows 10 Intel ...</td>\n      <td>349.00</td>\n      <td>4.0</td>\n      <td>346</td>\n      <td>LAPTOP</td>\n    </tr>\n    <tr>\n      <th>1</th>\n      <td>B08CDM3XPJ</td>\n      <td>CHUWI CoreBook Pro Windows 10 Laptop Computer,...</td>\n      <td>439.00</td>\n      <td>4.1</td>\n      <td>222</td>\n      <td>LAPTOP</td>\n    </tr>\n    <tr>\n      <th>2</th>\n      <td>B08NXSJVCR</td>\n      <td>Lenovo IdeaPad 3 Intel i5-1035G1 Quad Core 12G...</td>\n      <td>544.00</td>\n      <td>4.5</td>\n      <td>64</td>\n      <td>LAPTOP</td>\n    </tr>\n    <tr>\n      <th>3</th>\n      <td>B07GLV1VC7</td>\n      <td>Lenovo Chromebook S330 Laptop, 14-Inch FHD (19...</td>\n      <td>279.99</td>\n      <td>4.4</td>\n      <td>1110</td>\n      <td>LAPTOP</td>\n    </tr>\n    <tr>\n      <th>4</th>\n      <td>B08842D7JS</td>\n      <td>Acer Predator Helios 300 Gaming Laptop, Intel ...</td>\n      <td>1409.98</td>\n      <td>4.7</td>\n      <td>2151</td>\n      <td>LAPTOP</td>\n    </tr>\n    <tr>\n      <th>...</th>\n      <td>...</td>\n      <td>...</td>\n      <td>...</td>\n      <td>...</td>\n      <td>...</td>\n      <td>...</td>\n    </tr>\n    <tr>\n      <th>1915</th>\n      <td>B07T32DWBH</td>\n      <td>Dell XPS 13 9380, XPS9380-7011SLV-PUS, 8th Gen...</td>\n      <td>1495.00</td>\n      <td>4.1</td>\n      <td>19</td>\n      <td>LAPTOP</td>\n    </tr>\n    <tr>\n      <th>1916</th>\n      <td>B08PF2HZVL</td>\n      <td>Laptop 14 Inch, Winnovo V146, Windows 10, 4GB ...</td>\n      <td>239.99</td>\n      <td>4.1</td>\n      <td>42</td>\n      <td>LAPTOP</td>\n    </tr>\n    <tr>\n      <th>1917</th>\n      <td>B082RD3STD</td>\n      <td>TopSeller TC M720S SFF I5-9400 2.9G 8GB 256GB ...</td>\n      <td>569.99</td>\n      <td>5.0</td>\n      <td>1</td>\n      <td>LAPTOP</td>\n    </tr>\n    <tr>\n      <th>1918</th>\n      <td>B08JBVT48L</td>\n      <td>Laptop 14 Inch, Winnovo N140, 6GB RAM, 128GB S...</td>\n      <td>289.99</td>\n      <td>4.3</td>\n      <td>38</td>\n      <td>LAPTOP</td>\n    </tr>\n    <tr>\n      <th>1919</th>\n      <td>B08N63ZSV7</td>\n      <td>2020 15.6-inch Laptop 6G + 256G, Intel celeron...</td>\n      <td>359.00</td>\n      <td>3.0</td>\n      <td>3</td>\n      <td>LAPTOP</td>\n    </tr>\n  </tbody>\n</table>\n<p>1920 rows × 6 columns</p>\n</div>"
     },
     "metadata": {},
     "execution_count": 28
    }
   ],
   "source": [
    "#final search data for Laptop\n",
    "laptopasin = laptopasin[['ASIN', 'title', 'price', 'rating', 'review_count', 'product_type']]\n",
    "laptopasin"
   ]
  },
  {
   "cell_type": "code",
   "execution_count": 100,
   "metadata": {},
   "outputs": [
    {
     "output_type": "execute_result",
     "data": {
      "text/plain": [
       "            ASIN                                              title    price  \\\n",
       "2     B08NXSJVCR  Lenovo IdeaPad 3 Intel i5-1035G1 Quad Core 12G...   544.00   \n",
       "3     B07GLV1VC7  Lenovo Chromebook S330 Laptop, 14-Inch FHD (19...   279.99   \n",
       "4     B08842D7JS  Acer Predator Helios 300 Gaming Laptop, Intel ...  1409.98   \n",
       "5     B084SKWC89  HP Stream 14-inch Laptop, Intel Celeron N4000,...   285.00   \n",
       "7     B0872K4XCJ  Lenovo IdeaPad 3 15\" Laptop, 15.6\" HD (1366 x ...   359.99   \n",
       "...          ...                                                ...      ...   \n",
       "1908  B07VWPHH18  2019 Lenovo Legion Y540 Gaming Laptop Computer...  1149.99   \n",
       "1909  B08FQG55NZ  Dell Latitude 3000 3310 13.3\" 2 in 1 Core i3-8...   579.99   \n",
       "1914  B075JSK7TR  Google Pixelbook (i5, 8 GB RAM, 128GB) (GA0012...  1199.99   \n",
       "1915  B07T32DWBH  Dell XPS 13 9380, XPS9380-7011SLV-PUS, 8th Gen...  1495.00   \n",
       "1917  B082RD3STD  TopSeller TC M720S SFF I5-9400 2.9G 8GB 256GB ...   569.99   \n",
       "\n",
       "      rating  review_count product_type  \n",
       "2        4.5            64       LAPTOP  \n",
       "3        4.4          1110       LAPTOP  \n",
       "4        4.7          2151       LAPTOP  \n",
       "5        4.5          2032       LAPTOP  \n",
       "7        4.5           346       LAPTOP  \n",
       "...      ...           ...          ...  \n",
       "1908     5.0             1       LAPTOP  \n",
       "1909     4.5             2       LAPTOP  \n",
       "1914     3.9           507       LAPTOP  \n",
       "1915     4.1            19       LAPTOP  \n",
       "1917     5.0             1       LAPTOP  \n",
       "\n",
       "[1024 rows x 6 columns]"
      ],
      "text/html": "<div>\n<style scoped>\n    .dataframe tbody tr th:only-of-type {\n        vertical-align: middle;\n    }\n\n    .dataframe tbody tr th {\n        vertical-align: top;\n    }\n\n    .dataframe thead th {\n        text-align: right;\n    }\n</style>\n<table border=\"1\" class=\"dataframe\">\n  <thead>\n    <tr style=\"text-align: right;\">\n      <th></th>\n      <th>ASIN</th>\n      <th>title</th>\n      <th>price</th>\n      <th>rating</th>\n      <th>review_count</th>\n      <th>product_type</th>\n    </tr>\n  </thead>\n  <tbody>\n    <tr>\n      <th>2</th>\n      <td>B08NXSJVCR</td>\n      <td>Lenovo IdeaPad 3 Intel i5-1035G1 Quad Core 12G...</td>\n      <td>544.00</td>\n      <td>4.5</td>\n      <td>64</td>\n      <td>LAPTOP</td>\n    </tr>\n    <tr>\n      <th>3</th>\n      <td>B07GLV1VC7</td>\n      <td>Lenovo Chromebook S330 Laptop, 14-Inch FHD (19...</td>\n      <td>279.99</td>\n      <td>4.4</td>\n      <td>1110</td>\n      <td>LAPTOP</td>\n    </tr>\n    <tr>\n      <th>4</th>\n      <td>B08842D7JS</td>\n      <td>Acer Predator Helios 300 Gaming Laptop, Intel ...</td>\n      <td>1409.98</td>\n      <td>4.7</td>\n      <td>2151</td>\n      <td>LAPTOP</td>\n    </tr>\n    <tr>\n      <th>5</th>\n      <td>B084SKWC89</td>\n      <td>HP Stream 14-inch Laptop, Intel Celeron N4000,...</td>\n      <td>285.00</td>\n      <td>4.5</td>\n      <td>2032</td>\n      <td>LAPTOP</td>\n    </tr>\n    <tr>\n      <th>7</th>\n      <td>B0872K4XCJ</td>\n      <td>Lenovo IdeaPad 3 15\" Laptop, 15.6\" HD (1366 x ...</td>\n      <td>359.99</td>\n      <td>4.5</td>\n      <td>346</td>\n      <td>LAPTOP</td>\n    </tr>\n    <tr>\n      <th>...</th>\n      <td>...</td>\n      <td>...</td>\n      <td>...</td>\n      <td>...</td>\n      <td>...</td>\n      <td>...</td>\n    </tr>\n    <tr>\n      <th>1908</th>\n      <td>B07VWPHH18</td>\n      <td>2019 Lenovo Legion Y540 Gaming Laptop Computer...</td>\n      <td>1149.99</td>\n      <td>5.0</td>\n      <td>1</td>\n      <td>LAPTOP</td>\n    </tr>\n    <tr>\n      <th>1909</th>\n      <td>B08FQG55NZ</td>\n      <td>Dell Latitude 3000 3310 13.3\" 2 in 1 Core i3-8...</td>\n      <td>579.99</td>\n      <td>4.5</td>\n      <td>2</td>\n      <td>LAPTOP</td>\n    </tr>\n    <tr>\n      <th>1914</th>\n      <td>B075JSK7TR</td>\n      <td>Google Pixelbook (i5, 8 GB RAM, 128GB) (GA0012...</td>\n      <td>1199.99</td>\n      <td>3.9</td>\n      <td>507</td>\n      <td>LAPTOP</td>\n    </tr>\n    <tr>\n      <th>1915</th>\n      <td>B07T32DWBH</td>\n      <td>Dell XPS 13 9380, XPS9380-7011SLV-PUS, 8th Gen...</td>\n      <td>1495.00</td>\n      <td>4.1</td>\n      <td>19</td>\n      <td>LAPTOP</td>\n    </tr>\n    <tr>\n      <th>1917</th>\n      <td>B082RD3STD</td>\n      <td>TopSeller TC M720S SFF I5-9400 2.9G 8GB 256GB ...</td>\n      <td>569.99</td>\n      <td>5.0</td>\n      <td>1</td>\n      <td>LAPTOP</td>\n    </tr>\n  </tbody>\n</table>\n<p>1024 rows × 6 columns</p>\n</div>"
     },
     "metadata": {},
     "execution_count": 100
    }
   ],
   "source": [
    "laptopasin.drop_duplicates(subset =\"ASIN\",keep = False, inplace = True) \n",
    "laptopasin"
   ]
  },
  {
   "cell_type": "code",
   "execution_count": 101,
   "metadata": {},
   "outputs": [
    {
     "output_type": "execute_result",
     "data": {
      "text/plain": [
       "            ASIN                                              title    price  \\\n",
       "0     B08NXSJVCR  Lenovo IdeaPad 3 Intel i5-1035G1 Quad Core 12G...   544.00   \n",
       "1     B07GLV1VC7  Lenovo Chromebook S330 Laptop, 14-Inch FHD (19...   279.99   \n",
       "2     B08842D7JS  Acer Predator Helios 300 Gaming Laptop, Intel ...  1409.98   \n",
       "3     B084SKWC89  HP Stream 14-inch Laptop, Intel Celeron N4000,...   285.00   \n",
       "4     B0872K4XCJ  Lenovo IdeaPad 3 15\" Laptop, 15.6\" HD (1366 x ...   359.99   \n",
       "...          ...                                                ...      ...   \n",
       "1019  B07VWPHH18  2019 Lenovo Legion Y540 Gaming Laptop Computer...  1149.99   \n",
       "1020  B08FQG55NZ  Dell Latitude 3000 3310 13.3\" 2 in 1 Core i3-8...   579.99   \n",
       "1021  B075JSK7TR  Google Pixelbook (i5, 8 GB RAM, 128GB) (GA0012...  1199.99   \n",
       "1022  B07T32DWBH  Dell XPS 13 9380, XPS9380-7011SLV-PUS, 8th Gen...  1495.00   \n",
       "1023  B082RD3STD  TopSeller TC M720S SFF I5-9400 2.9G 8GB 256GB ...   569.99   \n",
       "\n",
       "      rating  review_count product_type  \n",
       "0        4.5            64       LAPTOP  \n",
       "1        4.4          1110       LAPTOP  \n",
       "2        4.7          2151       LAPTOP  \n",
       "3        4.5          2032       LAPTOP  \n",
       "4        4.5           346       LAPTOP  \n",
       "...      ...           ...          ...  \n",
       "1019     5.0             1       LAPTOP  \n",
       "1020     4.5             2       LAPTOP  \n",
       "1021     3.9           507       LAPTOP  \n",
       "1022     4.1            19       LAPTOP  \n",
       "1023     5.0             1       LAPTOP  \n",
       "\n",
       "[1024 rows x 6 columns]"
      ],
      "text/html": "<div>\n<style scoped>\n    .dataframe tbody tr th:only-of-type {\n        vertical-align: middle;\n    }\n\n    .dataframe tbody tr th {\n        vertical-align: top;\n    }\n\n    .dataframe thead th {\n        text-align: right;\n    }\n</style>\n<table border=\"1\" class=\"dataframe\">\n  <thead>\n    <tr style=\"text-align: right;\">\n      <th></th>\n      <th>ASIN</th>\n      <th>title</th>\n      <th>price</th>\n      <th>rating</th>\n      <th>review_count</th>\n      <th>product_type</th>\n    </tr>\n  </thead>\n  <tbody>\n    <tr>\n      <th>0</th>\n      <td>B08NXSJVCR</td>\n      <td>Lenovo IdeaPad 3 Intel i5-1035G1 Quad Core 12G...</td>\n      <td>544.00</td>\n      <td>4.5</td>\n      <td>64</td>\n      <td>LAPTOP</td>\n    </tr>\n    <tr>\n      <th>1</th>\n      <td>B07GLV1VC7</td>\n      <td>Lenovo Chromebook S330 Laptop, 14-Inch FHD (19...</td>\n      <td>279.99</td>\n      <td>4.4</td>\n      <td>1110</td>\n      <td>LAPTOP</td>\n    </tr>\n    <tr>\n      <th>2</th>\n      <td>B08842D7JS</td>\n      <td>Acer Predator Helios 300 Gaming Laptop, Intel ...</td>\n      <td>1409.98</td>\n      <td>4.7</td>\n      <td>2151</td>\n      <td>LAPTOP</td>\n    </tr>\n    <tr>\n      <th>3</th>\n      <td>B084SKWC89</td>\n      <td>HP Stream 14-inch Laptop, Intel Celeron N4000,...</td>\n      <td>285.00</td>\n      <td>4.5</td>\n      <td>2032</td>\n      <td>LAPTOP</td>\n    </tr>\n    <tr>\n      <th>4</th>\n      <td>B0872K4XCJ</td>\n      <td>Lenovo IdeaPad 3 15\" Laptop, 15.6\" HD (1366 x ...</td>\n      <td>359.99</td>\n      <td>4.5</td>\n      <td>346</td>\n      <td>LAPTOP</td>\n    </tr>\n    <tr>\n      <th>...</th>\n      <td>...</td>\n      <td>...</td>\n      <td>...</td>\n      <td>...</td>\n      <td>...</td>\n      <td>...</td>\n    </tr>\n    <tr>\n      <th>1019</th>\n      <td>B07VWPHH18</td>\n      <td>2019 Lenovo Legion Y540 Gaming Laptop Computer...</td>\n      <td>1149.99</td>\n      <td>5.0</td>\n      <td>1</td>\n      <td>LAPTOP</td>\n    </tr>\n    <tr>\n      <th>1020</th>\n      <td>B08FQG55NZ</td>\n      <td>Dell Latitude 3000 3310 13.3\" 2 in 1 Core i3-8...</td>\n      <td>579.99</td>\n      <td>4.5</td>\n      <td>2</td>\n      <td>LAPTOP</td>\n    </tr>\n    <tr>\n      <th>1021</th>\n      <td>B075JSK7TR</td>\n      <td>Google Pixelbook (i5, 8 GB RAM, 128GB) (GA0012...</td>\n      <td>1199.99</td>\n      <td>3.9</td>\n      <td>507</td>\n      <td>LAPTOP</td>\n    </tr>\n    <tr>\n      <th>1022</th>\n      <td>B07T32DWBH</td>\n      <td>Dell XPS 13 9380, XPS9380-7011SLV-PUS, 8th Gen...</td>\n      <td>1495.00</td>\n      <td>4.1</td>\n      <td>19</td>\n      <td>LAPTOP</td>\n    </tr>\n    <tr>\n      <th>1023</th>\n      <td>B082RD3STD</td>\n      <td>TopSeller TC M720S SFF I5-9400 2.9G 8GB 256GB ...</td>\n      <td>569.99</td>\n      <td>5.0</td>\n      <td>1</td>\n      <td>LAPTOP</td>\n    </tr>\n  </tbody>\n</table>\n<p>1024 rows × 6 columns</p>\n</div>"
     },
     "metadata": {},
     "execution_count": 101
    }
   ],
   "source": [
    "laptopasin.reset_index(drop= True)"
   ]
  },
  {
   "cell_type": "code",
   "execution_count": 102,
   "metadata": {},
   "outputs": [],
   "source": [
    "laptopasin.to_csv('search_laptop.csv')"
   ]
  },
  {
   "cell_type": "code",
   "execution_count": 29,
   "metadata": {},
   "outputs": [
    {
     "output_type": "execute_result",
     "data": {
      "text/plain": [
       "ASIN             object\n",
       "title            object\n",
       "price           float64\n",
       "rating          float64\n",
       "review_count      int32\n",
       "product_type     object\n",
       "dtype: object"
      ]
     },
     "metadata": {},
     "execution_count": 29
    }
   ],
   "source": [
    "laptopasin.dtypes"
   ]
  },
  {
   "cell_type": "code",
   "execution_count": 30,
   "metadata": {},
   "outputs": [],
   "source": [
    "#Trying with Shekhar's code for Product file"
   ]
  },
  {
   "cell_type": "code",
   "execution_count": 31,
   "metadata": {},
   "outputs": [
    {
     "output_type": "execute_result",
     "data": {
      "text/plain": [
       "                                                   name  \\\n",
       "0     CHUWI Herobook Pro 14.1 inch Windows 10 Intel ...   \n",
       "1     CHUWI CoreBook Pro Windows 10 Laptop Computer,...   \n",
       "2     Lenovo IdeaPad 3 Intel i5-1035G1 Quad Core 12G...   \n",
       "3     Lenovo Chromebook S330 Laptop, 14-Inch FHD (19...   \n",
       "4     Acer Predator Helios 300 Gaming Laptop, Intel ...   \n",
       "...                                                 ...   \n",
       "2800  Dell Latitude 5410 14\" Notebook - Full HD - 19...   \n",
       "2801  TopSeller TC M720S SFF I5-9400 2.9G 8GB 256GB ...   \n",
       "2802  Lenovo ThinkPad T14 Laptop - 14\" IPS FHD Touch...   \n",
       "2803  Laptop 14 Inch, Winnovo N140, 6GB RAM, 128GB S...   \n",
       "2804  2020 15.6-inch Laptop 6G + 256G, Intel celeron...   \n",
       "\n",
       "                                        product_summary  \\\n",
       "0     [{'info': 'Standing screen display size', 'val...   \n",
       "1     [{'info': 'Standing screen display size', 'val...   \n",
       "2     [{'info': 'Standing screen display size', 'val...   \n",
       "3     [{'info': 'Standing screen display size', 'val...   \n",
       "4     [{'info': 'Standing screen display size', 'val...   \n",
       "...                                                 ...   \n",
       "2800  [{'info': 'Standing screen display size', 'val...   \n",
       "2801  [{'info': 'Standing screen display size', 'val...   \n",
       "2802  [{'info': 'Standing screen display size', 'val...   \n",
       "2803  [{'info': 'Standing screen display size', 'val...   \n",
       "2804  [{'info': 'Standing screen display size', 'val...   \n",
       "\n",
       "                                      product_tech_spec  \\\n",
       "0     [{'info': 'Brand', 'value': 'CHUWI'}, {'info':...   \n",
       "1     [{'info': 'Brand', 'value': 'CHUWI'}, {'info':...   \n",
       "2     [{'info': 'Brand', 'value': 'Lenovo'}, {'info'...   \n",
       "3     [{'info': 'Brand', 'value': 'Lenovo'}, {'info'...   \n",
       "4     [{'info': 'Brand', 'value': 'Acer'}, {'info': ...   \n",
       "...                                                 ...   \n",
       "2800  [{'info': 'Brand', 'value': 'Dell'}, {'info': ...   \n",
       "2801  [{'info': 'Brand', 'value': 'Lenovo'}, {'info'...   \n",
       "2802  [{'info': 'Brand', 'value': 'Lenovo'}, {'info'...   \n",
       "2803  [{'info': 'Brand', 'value': 'Winnovo'}, {'info...   \n",
       "2804  [{'info': 'Brand', 'value': 'XINYANGCH'}, {'in...   \n",
       "\n",
       "                                      product_addl_info  \n",
       "0     [{'info': 'ASIN', 'value': 'B085XRL3P1'}, {'in...  \n",
       "1     [{'info': 'ASIN', 'value': 'B08CDM3XPJ'}, {'in...  \n",
       "2     [{'info': 'ASIN', 'value': 'B08NXSJVCR'}, {'in...  \n",
       "3     [{'info': 'ASIN', 'value': 'B07GLV1VC7'}, {'in...  \n",
       "4     [{'info': 'ASIN', 'value': 'B08842D7JS'}, {'in...  \n",
       "...                                                 ...  \n",
       "2800  [{'info': 'ASIN', 'value': 'B08L8KW3ZM'}, {'in...  \n",
       "2801  [{'info': 'ASIN', 'value': 'B082RD3STD'}, {'in...  \n",
       "2802  [{'info': 'ASIN', 'value': 'B0844KPGNF'}, {'in...  \n",
       "2803  [{'info': 'ASIN', 'value': 'B08JBVT48L'}, {'in...  \n",
       "2804  [{'info': 'ASIN', 'value': 'B08N63ZSV7'}, {'in...  \n",
       "\n",
       "[2805 rows x 4 columns]"
      ],
      "text/html": "<div>\n<style scoped>\n    .dataframe tbody tr th:only-of-type {\n        vertical-align: middle;\n    }\n\n    .dataframe tbody tr th {\n        vertical-align: top;\n    }\n\n    .dataframe thead th {\n        text-align: right;\n    }\n</style>\n<table border=\"1\" class=\"dataframe\">\n  <thead>\n    <tr style=\"text-align: right;\">\n      <th></th>\n      <th>name</th>\n      <th>product_summary</th>\n      <th>product_tech_spec</th>\n      <th>product_addl_info</th>\n    </tr>\n  </thead>\n  <tbody>\n    <tr>\n      <th>0</th>\n      <td>CHUWI Herobook Pro 14.1 inch Windows 10 Intel ...</td>\n      <td>[{'info': 'Standing screen display size', 'val...</td>\n      <td>[{'info': 'Brand', 'value': 'CHUWI'}, {'info':...</td>\n      <td>[{'info': 'ASIN', 'value': 'B085XRL3P1'}, {'in...</td>\n    </tr>\n    <tr>\n      <th>1</th>\n      <td>CHUWI CoreBook Pro Windows 10 Laptop Computer,...</td>\n      <td>[{'info': 'Standing screen display size', 'val...</td>\n      <td>[{'info': 'Brand', 'value': 'CHUWI'}, {'info':...</td>\n      <td>[{'info': 'ASIN', 'value': 'B08CDM3XPJ'}, {'in...</td>\n    </tr>\n    <tr>\n      <th>2</th>\n      <td>Lenovo IdeaPad 3 Intel i5-1035G1 Quad Core 12G...</td>\n      <td>[{'info': 'Standing screen display size', 'val...</td>\n      <td>[{'info': 'Brand', 'value': 'Lenovo'}, {'info'...</td>\n      <td>[{'info': 'ASIN', 'value': 'B08NXSJVCR'}, {'in...</td>\n    </tr>\n    <tr>\n      <th>3</th>\n      <td>Lenovo Chromebook S330 Laptop, 14-Inch FHD (19...</td>\n      <td>[{'info': 'Standing screen display size', 'val...</td>\n      <td>[{'info': 'Brand', 'value': 'Lenovo'}, {'info'...</td>\n      <td>[{'info': 'ASIN', 'value': 'B07GLV1VC7'}, {'in...</td>\n    </tr>\n    <tr>\n      <th>4</th>\n      <td>Acer Predator Helios 300 Gaming Laptop, Intel ...</td>\n      <td>[{'info': 'Standing screen display size', 'val...</td>\n      <td>[{'info': 'Brand', 'value': 'Acer'}, {'info': ...</td>\n      <td>[{'info': 'ASIN', 'value': 'B08842D7JS'}, {'in...</td>\n    </tr>\n    <tr>\n      <th>...</th>\n      <td>...</td>\n      <td>...</td>\n      <td>...</td>\n      <td>...</td>\n    </tr>\n    <tr>\n      <th>2800</th>\n      <td>Dell Latitude 5410 14\" Notebook - Full HD - 19...</td>\n      <td>[{'info': 'Standing screen display size', 'val...</td>\n      <td>[{'info': 'Brand', 'value': 'Dell'}, {'info': ...</td>\n      <td>[{'info': 'ASIN', 'value': 'B08L8KW3ZM'}, {'in...</td>\n    </tr>\n    <tr>\n      <th>2801</th>\n      <td>TopSeller TC M720S SFF I5-9400 2.9G 8GB 256GB ...</td>\n      <td>[{'info': 'Standing screen display size', 'val...</td>\n      <td>[{'info': 'Brand', 'value': 'Lenovo'}, {'info'...</td>\n      <td>[{'info': 'ASIN', 'value': 'B082RD3STD'}, {'in...</td>\n    </tr>\n    <tr>\n      <th>2802</th>\n      <td>Lenovo ThinkPad T14 Laptop - 14\" IPS FHD Touch...</td>\n      <td>[{'info': 'Standing screen display size', 'val...</td>\n      <td>[{'info': 'Brand', 'value': 'Lenovo'}, {'info'...</td>\n      <td>[{'info': 'ASIN', 'value': 'B0844KPGNF'}, {'in...</td>\n    </tr>\n    <tr>\n      <th>2803</th>\n      <td>Laptop 14 Inch, Winnovo N140, 6GB RAM, 128GB S...</td>\n      <td>[{'info': 'Standing screen display size', 'val...</td>\n      <td>[{'info': 'Brand', 'value': 'Winnovo'}, {'info...</td>\n      <td>[{'info': 'ASIN', 'value': 'B08JBVT48L'}, {'in...</td>\n    </tr>\n    <tr>\n      <th>2804</th>\n      <td>2020 15.6-inch Laptop 6G + 256G, Intel celeron...</td>\n      <td>[{'info': 'Standing screen display size', 'val...</td>\n      <td>[{'info': 'Brand', 'value': 'XINYANGCH'}, {'in...</td>\n      <td>[{'info': 'ASIN', 'value': 'B08N63ZSV7'}, {'in...</td>\n    </tr>\n  </tbody>\n</table>\n<p>2805 rows × 4 columns</p>\n</div>"
     },
     "metadata": {},
     "execution_count": 31
    }
   ],
   "source": [
    "df = pd.read_json(r'C:\\Users\\anupd\\OneDrive\\Desktop\\Amazon_scraping1\\all search file\\DSLR_Laptoop\\Laptop Files\\laptopprod.json')\n",
    "df = df[['name', 'product_summary', 'product_tech_spec', 'product_addl_info']]\n",
    "df"
   ]
  },
  {
   "cell_type": "code",
   "execution_count": 32,
   "metadata": {},
   "outputs": [
    {
     "output_type": "execute_result",
     "data": {
      "text/plain": [
       "name                  41\n",
       "product_summary      198\n",
       "product_tech_spec    199\n",
       "product_addl_info     46\n",
       "dtype: int64"
      ]
     },
     "metadata": {},
     "execution_count": 32
    }
   ],
   "source": [
    "df.isnull().sum()"
   ]
  },
  {
   "cell_type": "code",
   "execution_count": 33,
   "metadata": {},
   "outputs": [
    {
     "output_type": "execute_result",
     "data": {
      "text/plain": [
       "0       [{'info': 'Brand', 'value': 'CHUWI'}, {'info':...\n",
       "1       [{'info': 'Brand', 'value': 'CHUWI'}, {'info':...\n",
       "2       [{'info': 'Brand', 'value': 'Lenovo'}, {'info'...\n",
       "3       [{'info': 'Brand', 'value': 'Lenovo'}, {'info'...\n",
       "4       [{'info': 'Brand', 'value': 'Acer'}, {'info': ...\n",
       "                              ...                        \n",
       "2800    [{'info': 'Brand', 'value': 'Dell'}, {'info': ...\n",
       "2801    [{'info': 'Brand', 'value': 'Lenovo'}, {'info'...\n",
       "2802    [{'info': 'Brand', 'value': 'Lenovo'}, {'info'...\n",
       "2803    [{'info': 'Brand', 'value': 'Winnovo'}, {'info...\n",
       "2804    [{'info': 'Brand', 'value': 'XINYANGCH'}, {'in...\n",
       "Name: product_tech_spec, Length: 2805, dtype: object"
      ]
     },
     "metadata": {},
     "execution_count": 33
    }
   ],
   "source": [
    "df.product_tech_spec"
   ]
  },
  {
   "cell_type": "code",
   "execution_count": 34,
   "metadata": {},
   "outputs": [],
   "source": [
    "#For product_addl_info\n",
    "add_col =  []\n",
    "for i in range(df.shape[0]):\n",
    "    try:\n",
    "        for j in range(len(df.product_addl_info[i])):\n",
    "            col = df.product_addl_info[i][j]['info']\n",
    "            if col not in add_col:\n",
    "                add_col.append(col)\n",
    "    except:\n",
    "        continue"
   ]
  },
  {
   "cell_type": "code",
   "execution_count": 35,
   "metadata": {},
   "outputs": [
    {
     "output_type": "execute_result",
     "data": {
      "text/plain": [
       "'ASIN'"
      ]
     },
     "metadata": {},
     "execution_count": 35
    }
   ],
   "source": [
    "df.product_addl_info[0][0]['info']"
   ]
  },
  {
   "cell_type": "code",
   "execution_count": 36,
   "metadata": {},
   "outputs": [
    {
     "output_type": "execute_result",
     "data": {
      "text/plain": [
       "3"
      ]
     },
     "metadata": {},
     "execution_count": 36
    }
   ],
   "source": [
    "len(df.product_addl_info[100])"
   ]
  },
  {
   "cell_type": "code",
   "execution_count": 37,
   "metadata": {},
   "outputs": [
    {
     "output_type": "execute_result",
     "data": {
      "text/plain": [
       "[{'info': 'ASIN', 'value': 'B085XRL3P1'},\n",
       " {'info': 'Customer Reviews',\n",
       "  'value': '/*\\n* Fix for UDP-1061. Average customer reviews has a small extra line on hover\\n* https://omni-grok.amazon.com/xref/src/appgroup/websiteTemplates/retail/SoftlinesDetailPageAssets/udp-intl-lock/src/legacy.css?indexName=WebsiteTemplates#40\\n*/\\n.noUnderline a:hover {\\ntext-decoration: none;\\n} 4.0 out of 5 stars 353 ratings P.when(\\'A\\', \\'ready\\').execute(function(A) {\\nA.declarative(\\'acrLink-click-metrics\\', \\'click\\', { \"allowLinkDefault\" : true }, function(event){\\nif(window.ue) {\\nue.count(\"acrLinkClickCount\", (ue.count(\"acrLinkClickCount\") || 0) + 1);\\n}\\n});\\n}); P.when(\\'A\\', \\'cf\\').execute(function(A) {\\nA.declarative(\\'acrStarsLink-click-metrics\\', \\'click\\', { \"allowLinkDefault\" : true },  function(event){\\nif(window.ue) {\\nue.count(\"acrStarsLinkWithPopoverClickCount\", (ue.count(\"acrStarsLinkWithPopoverClickCount\") || 0) + 1);\\n}\\n});\\n}); 4.0 out of 5 stars'},\n",
       " {'info': 'Best Sellers Rank',\n",
       "  'value': '#1,853 in Computers & Accessories ( See Top 100 in Computers & Accessories ) #178 in Traditional Laptop Computers'},\n",
       " {'info': 'Date First Available', 'value': 'March 11, 2020'}]"
      ]
     },
     "metadata": {},
     "execution_count": 37
    }
   ],
   "source": [
    "df.product_addl_info[0]"
   ]
  },
  {
   "cell_type": "code",
   "execution_count": 38,
   "metadata": {},
   "outputs": [
    {
     "output_type": "execute_result",
     "data": {
      "text/plain": [
       "['ASIN',\n",
       " 'Customer Reviews',\n",
       " 'Best Sellers Rank',\n",
       " 'Date First Available',\n",
       " 'Product Dimensions',\n",
       " 'Item Weight',\n",
       " 'Item model number',\n",
       " 'Batteries',\n",
       " 'Manufacturer',\n",
       " 'Is Discontinued By Manufacturer',\n",
       " 'Form Factor',\n",
       " 'Batteries Required',\n",
       " 'Package Dimensions',\n",
       " 'OS',\n",
       " 'GPU',\n",
       " 'RAM',\n",
       " 'Wireless communication technologies',\n",
       " 'Display technology',\n",
       " 'Display resolution',\n",
       " 'Other display features',\n",
       " 'Device interface - primary',\n",
       " 'Other camera features',\n",
       " 'Colour',\n",
       " 'Included Components',\n",
       " 'National Stock Number',\n",
       " 'Specific Uses For Product',\n",
       " 'Warranty Description']"
      ]
     },
     "metadata": {},
     "execution_count": 38
    }
   ],
   "source": [
    "add_col"
   ]
  },
  {
   "cell_type": "code",
   "execution_count": 39,
   "metadata": {},
   "outputs": [
    {
     "output_type": "execute_result",
     "data": {
      "text/plain": [
       "Empty DataFrame\n",
       "Columns: [name, ASIN, Customer Reviews, Best Sellers Rank, Date First Available, Product Dimensions, Item Weight, Item model number, Batteries, Manufacturer, Is Discontinued By Manufacturer, Form Factor, Batteries Required, Package Dimensions, OS, GPU, RAM, Wireless communication technologies, Display technology, Display resolution, Other display features, Device interface - primary, Other camera features, Colour, Included Components, National Stock Number, Specific Uses For Product, Warranty Description]\n",
       "Index: []\n",
       "\n",
       "[0 rows x 28 columns]"
      ],
      "text/html": "<div>\n<style scoped>\n    .dataframe tbody tr th:only-of-type {\n        vertical-align: middle;\n    }\n\n    .dataframe tbody tr th {\n        vertical-align: top;\n    }\n\n    .dataframe thead th {\n        text-align: right;\n    }\n</style>\n<table border=\"1\" class=\"dataframe\">\n  <thead>\n    <tr style=\"text-align: right;\">\n      <th></th>\n      <th>name</th>\n      <th>ASIN</th>\n      <th>Customer Reviews</th>\n      <th>Best Sellers Rank</th>\n      <th>Date First Available</th>\n      <th>Product Dimensions</th>\n      <th>Item Weight</th>\n      <th>Item model number</th>\n      <th>Batteries</th>\n      <th>Manufacturer</th>\n      <th>...</th>\n      <th>Display technology</th>\n      <th>Display resolution</th>\n      <th>Other display features</th>\n      <th>Device interface - primary</th>\n      <th>Other camera features</th>\n      <th>Colour</th>\n      <th>Included Components</th>\n      <th>National Stock Number</th>\n      <th>Specific Uses For Product</th>\n      <th>Warranty Description</th>\n    </tr>\n  </thead>\n  <tbody>\n  </tbody>\n</table>\n<p>0 rows × 28 columns</p>\n</div>"
     },
     "metadata": {},
     "execution_count": 39
    }
   ],
   "source": [
    "new = pd.DataFrame(columns=['name'] + add_col)\n",
    "new"
   ]
  },
  {
   "cell_type": "code",
   "execution_count": 40,
   "metadata": {},
   "outputs": [],
   "source": [
    "for i in range(df.shape[0]):\n",
    "    try:\n",
    "        for j in range(len(df.product_addl_info[i])):\n",
    "            col = df.product_addl_info[i][j]['info']\n",
    "            val = df.product_addl_info[i][j]['value']\n",
    "\n",
    "            new.loc[i,col] = val\n",
    "            \n",
    "    except:\n",
    "        new.loc[i,col] = ''\n",
    "        continue"
   ]
  },
  {
   "cell_type": "code",
   "execution_count": 41,
   "metadata": {},
   "outputs": [],
   "source": [
    "new.name = df.name"
   ]
  },
  {
   "cell_type": "code",
   "execution_count": 42,
   "metadata": {},
   "outputs": [
    {
     "output_type": "execute_result",
     "data": {
      "text/plain": [
       "'CHUWI CoreBook Pro Windows 10 Laptop Computer, 13 inch 2K IPS Display, 8G RAM / 256GB NVMe SSD with Intel Core i3 Processor Notebook, Support PD Charge'"
      ]
     },
     "metadata": {},
     "execution_count": 42
    }
   ],
   "source": [
    "df.loc[1,'name']"
   ]
  },
  {
   "cell_type": "code",
   "execution_count": 43,
   "metadata": {},
   "outputs": [
    {
     "output_type": "execute_result",
     "data": {
      "text/plain": [
       "                                                   name        ASIN  \\\n",
       "0     CHUWI Herobook Pro 14.1 inch Windows 10 Intel ...  B085XRL3P1   \n",
       "1     CHUWI CoreBook Pro Windows 10 Laptop Computer,...  B08CDM3XPJ   \n",
       "2     Lenovo IdeaPad 3 Intel i5-1035G1 Quad Core 12G...  B08NXSJVCR   \n",
       "3     Lenovo Chromebook S330 Laptop, 14-Inch FHD (19...  B07GLV1VC7   \n",
       "4     Acer Predator Helios 300 Gaming Laptop, Intel ...  B08842D7JS   \n",
       "...                                                 ...         ...   \n",
       "2800  Dell Latitude 5410 14\" Notebook - Full HD - 19...  B08L8KW3ZM   \n",
       "2801  TopSeller TC M720S SFF I5-9400 2.9G 8GB 256GB ...  B082RD3STD   \n",
       "2802  Lenovo ThinkPad T14 Laptop - 14\" IPS FHD Touch...  B0844KPGNF   \n",
       "2803  Laptop 14 Inch, Winnovo N140, 6GB RAM, 128GB S...  B08JBVT48L   \n",
       "2804  2020 15.6-inch Laptop 6G + 256G, Intel celeron...  B08N63ZSV7   \n",
       "\n",
       "                                       Customer Reviews  \\\n",
       "0     /*\\n* Fix for UDP-1061. Average customer revie...   \n",
       "1     /*\\n* Fix for UDP-1061. Average customer revie...   \n",
       "2     /*\\n* Fix for UDP-1061. Average customer revie...   \n",
       "3     /*\\n* Fix for UDP-1061. Average customer revie...   \n",
       "4     /*\\n* Fix for UDP-1061. Average customer revie...   \n",
       "...                                                 ...   \n",
       "2800                                                NaN   \n",
       "2801  /*\\n* Fix for UDP-1061. Average customer revie...   \n",
       "2802                                                NaN   \n",
       "2803  /*\\n* Fix for UDP-1061. Average customer revie...   \n",
       "2804  /*\\n* Fix for UDP-1061. Average customer revie...   \n",
       "\n",
       "                                      Best Sellers Rank Date First Available  \\\n",
       "0     #1,853 in Computers & Accessories ( See Top 10...       March 11, 2020   \n",
       "1     #14,505 in Computers & Accessories ( See Top 1...        June 30, 2020   \n",
       "2     #212 in Computers & Accessories ( See Top 100 ...    November 20, 2020   \n",
       "3     #372 in Computers & Accessories ( See Top 100 ...       August 9, 2018   \n",
       "4     #146 in Computers & Accessories ( See Top 100 ...        June 16, 2020   \n",
       "...                                                 ...                  ...   \n",
       "2800  #579,675 in Computers & Accessories ( See Top ...     October 16, 2020   \n",
       "2801  #47,707 in Computers & Accessories ( See Top 1...    December 14, 2019   \n",
       "2802  #310,265 in Computers & Accessories ( See Top ...     January 22, 2020   \n",
       "2803  #4,479 in Computers & Accessories ( See Top 10...     November 8, 2020   \n",
       "2804  #29,104 in Computers & Accessories ( See Top 1...     December 4, 2019   \n",
       "\n",
       "     Product Dimensions Item Weight Item model number Batteries Manufacturer  \\\n",
       "0                   NaN         NaN               NaN       NaN          NaN   \n",
       "1                   NaN         NaN               NaN       NaN          NaN   \n",
       "2                   NaN         NaN               NaN       NaN          NaN   \n",
       "3                   NaN         NaN               NaN       NaN          NaN   \n",
       "4                   NaN         NaN               NaN       NaN          NaN   \n",
       "...                 ...         ...               ...       ...          ...   \n",
       "2800                NaN         NaN               NaN       NaN          NaN   \n",
       "2801                NaN         NaN               NaN       NaN          NaN   \n",
       "2802                NaN         NaN               NaN       NaN          NaN   \n",
       "2803                NaN         NaN               NaN       NaN          NaN   \n",
       "2804                NaN         NaN               NaN       NaN          NaN   \n",
       "\n",
       "      ... Display technology Display resolution Other display features  \\\n",
       "0     ...                NaN                NaN                    NaN   \n",
       "1     ...                NaN                NaN                    NaN   \n",
       "2     ...                NaN                NaN                    NaN   \n",
       "3     ...                NaN                NaN                    NaN   \n",
       "4     ...                NaN                NaN                    NaN   \n",
       "...   ...                ...                ...                    ...   \n",
       "2800  ...                NaN                NaN                    NaN   \n",
       "2801  ...                NaN                NaN                    NaN   \n",
       "2802  ...                NaN                NaN                    NaN   \n",
       "2803  ...                NaN                NaN                    NaN   \n",
       "2804  ...                NaN                NaN                    NaN   \n",
       "\n",
       "     Device interface - primary Other camera features Colour  \\\n",
       "0                           NaN                   NaN    NaN   \n",
       "1                           NaN                   NaN    NaN   \n",
       "2                           NaN                   NaN    NaN   \n",
       "3                           NaN                   NaN    NaN   \n",
       "4                           NaN                   NaN    NaN   \n",
       "...                         ...                   ...    ...   \n",
       "2800                        NaN                   NaN    NaN   \n",
       "2801                        NaN                   NaN    NaN   \n",
       "2802                        NaN                   NaN    NaN   \n",
       "2803                        NaN                   NaN    NaN   \n",
       "2804                        NaN                   NaN    NaN   \n",
       "\n",
       "     Included Components National Stock Number Specific Uses For Product  \\\n",
       "0                    NaN                   NaN                       NaN   \n",
       "1                    NaN                   NaN                       NaN   \n",
       "2                    NaN                   NaN                       NaN   \n",
       "3                    NaN                   NaN                       NaN   \n",
       "4                    NaN                   NaN                       NaN   \n",
       "...                  ...                   ...                       ...   \n",
       "2800                 NaN                   NaN                       NaN   \n",
       "2801                 NaN                   NaN                       NaN   \n",
       "2802                 NaN                   NaN                       NaN   \n",
       "2803                 NaN                   NaN                       NaN   \n",
       "2804                 NaN                   NaN                       NaN   \n",
       "\n",
       "     Warranty Description  \n",
       "0                     NaN  \n",
       "1                     NaN  \n",
       "2                     NaN  \n",
       "3                     NaN  \n",
       "4                     NaN  \n",
       "...                   ...  \n",
       "2800                  NaN  \n",
       "2801                  NaN  \n",
       "2802                  NaN  \n",
       "2803                  NaN  \n",
       "2804                  NaN  \n",
       "\n",
       "[2805 rows x 28 columns]"
      ],
      "text/html": "<div>\n<style scoped>\n    .dataframe tbody tr th:only-of-type {\n        vertical-align: middle;\n    }\n\n    .dataframe tbody tr th {\n        vertical-align: top;\n    }\n\n    .dataframe thead th {\n        text-align: right;\n    }\n</style>\n<table border=\"1\" class=\"dataframe\">\n  <thead>\n    <tr style=\"text-align: right;\">\n      <th></th>\n      <th>name</th>\n      <th>ASIN</th>\n      <th>Customer Reviews</th>\n      <th>Best Sellers Rank</th>\n      <th>Date First Available</th>\n      <th>Product Dimensions</th>\n      <th>Item Weight</th>\n      <th>Item model number</th>\n      <th>Batteries</th>\n      <th>Manufacturer</th>\n      <th>...</th>\n      <th>Display technology</th>\n      <th>Display resolution</th>\n      <th>Other display features</th>\n      <th>Device interface - primary</th>\n      <th>Other camera features</th>\n      <th>Colour</th>\n      <th>Included Components</th>\n      <th>National Stock Number</th>\n      <th>Specific Uses For Product</th>\n      <th>Warranty Description</th>\n    </tr>\n  </thead>\n  <tbody>\n    <tr>\n      <th>0</th>\n      <td>CHUWI Herobook Pro 14.1 inch Windows 10 Intel ...</td>\n      <td>B085XRL3P1</td>\n      <td>/*\\n* Fix for UDP-1061. Average customer revie...</td>\n      <td>#1,853 in Computers &amp; Accessories ( See Top 10...</td>\n      <td>March 11, 2020</td>\n      <td>NaN</td>\n      <td>NaN</td>\n      <td>NaN</td>\n      <td>NaN</td>\n      <td>NaN</td>\n      <td>...</td>\n      <td>NaN</td>\n      <td>NaN</td>\n      <td>NaN</td>\n      <td>NaN</td>\n      <td>NaN</td>\n      <td>NaN</td>\n      <td>NaN</td>\n      <td>NaN</td>\n      <td>NaN</td>\n      <td>NaN</td>\n    </tr>\n    <tr>\n      <th>1</th>\n      <td>CHUWI CoreBook Pro Windows 10 Laptop Computer,...</td>\n      <td>B08CDM3XPJ</td>\n      <td>/*\\n* Fix for UDP-1061. Average customer revie...</td>\n      <td>#14,505 in Computers &amp; Accessories ( See Top 1...</td>\n      <td>June 30, 2020</td>\n      <td>NaN</td>\n      <td>NaN</td>\n      <td>NaN</td>\n      <td>NaN</td>\n      <td>NaN</td>\n      <td>...</td>\n      <td>NaN</td>\n      <td>NaN</td>\n      <td>NaN</td>\n      <td>NaN</td>\n      <td>NaN</td>\n      <td>NaN</td>\n      <td>NaN</td>\n      <td>NaN</td>\n      <td>NaN</td>\n      <td>NaN</td>\n    </tr>\n    <tr>\n      <th>2</th>\n      <td>Lenovo IdeaPad 3 Intel i5-1035G1 Quad Core 12G...</td>\n      <td>B08NXSJVCR</td>\n      <td>/*\\n* Fix for UDP-1061. Average customer revie...</td>\n      <td>#212 in Computers &amp; Accessories ( See Top 100 ...</td>\n      <td>November 20, 2020</td>\n      <td>NaN</td>\n      <td>NaN</td>\n      <td>NaN</td>\n      <td>NaN</td>\n      <td>NaN</td>\n      <td>...</td>\n      <td>NaN</td>\n      <td>NaN</td>\n      <td>NaN</td>\n      <td>NaN</td>\n      <td>NaN</td>\n      <td>NaN</td>\n      <td>NaN</td>\n      <td>NaN</td>\n      <td>NaN</td>\n      <td>NaN</td>\n    </tr>\n    <tr>\n      <th>3</th>\n      <td>Lenovo Chromebook S330 Laptop, 14-Inch FHD (19...</td>\n      <td>B07GLV1VC7</td>\n      <td>/*\\n* Fix for UDP-1061. Average customer revie...</td>\n      <td>#372 in Computers &amp; Accessories ( See Top 100 ...</td>\n      <td>August 9, 2018</td>\n      <td>NaN</td>\n      <td>NaN</td>\n      <td>NaN</td>\n      <td>NaN</td>\n      <td>NaN</td>\n      <td>...</td>\n      <td>NaN</td>\n      <td>NaN</td>\n      <td>NaN</td>\n      <td>NaN</td>\n      <td>NaN</td>\n      <td>NaN</td>\n      <td>NaN</td>\n      <td>NaN</td>\n      <td>NaN</td>\n      <td>NaN</td>\n    </tr>\n    <tr>\n      <th>4</th>\n      <td>Acer Predator Helios 300 Gaming Laptop, Intel ...</td>\n      <td>B08842D7JS</td>\n      <td>/*\\n* Fix for UDP-1061. Average customer revie...</td>\n      <td>#146 in Computers &amp; Accessories ( See Top 100 ...</td>\n      <td>June 16, 2020</td>\n      <td>NaN</td>\n      <td>NaN</td>\n      <td>NaN</td>\n      <td>NaN</td>\n      <td>NaN</td>\n      <td>...</td>\n      <td>NaN</td>\n      <td>NaN</td>\n      <td>NaN</td>\n      <td>NaN</td>\n      <td>NaN</td>\n      <td>NaN</td>\n      <td>NaN</td>\n      <td>NaN</td>\n      <td>NaN</td>\n      <td>NaN</td>\n    </tr>\n    <tr>\n      <th>...</th>\n      <td>...</td>\n      <td>...</td>\n      <td>...</td>\n      <td>...</td>\n      <td>...</td>\n      <td>...</td>\n      <td>...</td>\n      <td>...</td>\n      <td>...</td>\n      <td>...</td>\n      <td>...</td>\n      <td>...</td>\n      <td>...</td>\n      <td>...</td>\n      <td>...</td>\n      <td>...</td>\n      <td>...</td>\n      <td>...</td>\n      <td>...</td>\n      <td>...</td>\n      <td>...</td>\n    </tr>\n    <tr>\n      <th>2800</th>\n      <td>Dell Latitude 5410 14\" Notebook - Full HD - 19...</td>\n      <td>B08L8KW3ZM</td>\n      <td>NaN</td>\n      <td>#579,675 in Computers &amp; Accessories ( See Top ...</td>\n      <td>October 16, 2020</td>\n      <td>NaN</td>\n      <td>NaN</td>\n      <td>NaN</td>\n      <td>NaN</td>\n      <td>NaN</td>\n      <td>...</td>\n      <td>NaN</td>\n      <td>NaN</td>\n      <td>NaN</td>\n      <td>NaN</td>\n      <td>NaN</td>\n      <td>NaN</td>\n      <td>NaN</td>\n      <td>NaN</td>\n      <td>NaN</td>\n      <td>NaN</td>\n    </tr>\n    <tr>\n      <th>2801</th>\n      <td>TopSeller TC M720S SFF I5-9400 2.9G 8GB 256GB ...</td>\n      <td>B082RD3STD</td>\n      <td>/*\\n* Fix for UDP-1061. Average customer revie...</td>\n      <td>#47,707 in Computers &amp; Accessories ( See Top 1...</td>\n      <td>December 14, 2019</td>\n      <td>NaN</td>\n      <td>NaN</td>\n      <td>NaN</td>\n      <td>NaN</td>\n      <td>NaN</td>\n      <td>...</td>\n      <td>NaN</td>\n      <td>NaN</td>\n      <td>NaN</td>\n      <td>NaN</td>\n      <td>NaN</td>\n      <td>NaN</td>\n      <td>NaN</td>\n      <td>NaN</td>\n      <td>NaN</td>\n      <td>NaN</td>\n    </tr>\n    <tr>\n      <th>2802</th>\n      <td>Lenovo ThinkPad T14 Laptop - 14\" IPS FHD Touch...</td>\n      <td>B0844KPGNF</td>\n      <td>NaN</td>\n      <td>#310,265 in Computers &amp; Accessories ( See Top ...</td>\n      <td>January 22, 2020</td>\n      <td>NaN</td>\n      <td>NaN</td>\n      <td>NaN</td>\n      <td>NaN</td>\n      <td>NaN</td>\n      <td>...</td>\n      <td>NaN</td>\n      <td>NaN</td>\n      <td>NaN</td>\n      <td>NaN</td>\n      <td>NaN</td>\n      <td>NaN</td>\n      <td>NaN</td>\n      <td>NaN</td>\n      <td>NaN</td>\n      <td>NaN</td>\n    </tr>\n    <tr>\n      <th>2803</th>\n      <td>Laptop 14 Inch, Winnovo N140, 6GB RAM, 128GB S...</td>\n      <td>B08JBVT48L</td>\n      <td>/*\\n* Fix for UDP-1061. Average customer revie...</td>\n      <td>#4,479 in Computers &amp; Accessories ( See Top 10...</td>\n      <td>November 8, 2020</td>\n      <td>NaN</td>\n      <td>NaN</td>\n      <td>NaN</td>\n      <td>NaN</td>\n      <td>NaN</td>\n      <td>...</td>\n      <td>NaN</td>\n      <td>NaN</td>\n      <td>NaN</td>\n      <td>NaN</td>\n      <td>NaN</td>\n      <td>NaN</td>\n      <td>NaN</td>\n      <td>NaN</td>\n      <td>NaN</td>\n      <td>NaN</td>\n    </tr>\n    <tr>\n      <th>2804</th>\n      <td>2020 15.6-inch Laptop 6G + 256G, Intel celeron...</td>\n      <td>B08N63ZSV7</td>\n      <td>/*\\n* Fix for UDP-1061. Average customer revie...</td>\n      <td>#29,104 in Computers &amp; Accessories ( See Top 1...</td>\n      <td>December 4, 2019</td>\n      <td>NaN</td>\n      <td>NaN</td>\n      <td>NaN</td>\n      <td>NaN</td>\n      <td>NaN</td>\n      <td>...</td>\n      <td>NaN</td>\n      <td>NaN</td>\n      <td>NaN</td>\n      <td>NaN</td>\n      <td>NaN</td>\n      <td>NaN</td>\n      <td>NaN</td>\n      <td>NaN</td>\n      <td>NaN</td>\n      <td>NaN</td>\n    </tr>\n  </tbody>\n</table>\n<p>2805 rows × 28 columns</p>\n</div>"
     },
     "metadata": {},
     "execution_count": 43
    }
   ],
   "source": [
    "new"
   ]
  },
  {
   "cell_type": "code",
   "execution_count": 44,
   "metadata": {},
   "outputs": [
    {
     "output_type": "execute_result",
     "data": {
      "text/plain": [
       "1733"
      ]
     },
     "metadata": {},
     "execution_count": 44
    }
   ],
   "source": [
    "len(set(new.ASIN))"
   ]
  },
  {
   "cell_type": "code",
   "execution_count": 45,
   "metadata": {},
   "outputs": [
    {
     "output_type": "execute_result",
     "data": {
      "text/plain": [
       "0    B085XRL3P1\n",
       "1    B08CDM3XPJ\n",
       "2    B08NXSJVCR\n",
       "3    B07GLV1VC7\n",
       "4    B08842D7JS\n",
       "5    B084SKWC89\n",
       "6    B08PF2HZVL\n",
       "7           NaN\n",
       "8    B08H6YZY3Y\n",
       "9    B086KJCJDM\n",
       "Name: ASIN, dtype: object"
      ]
     },
     "metadata": {},
     "execution_count": 45
    }
   ],
   "source": [
    "new.ASIN[0:10]"
   ]
  },
  {
   "cell_type": "code",
   "execution_count": 46,
   "metadata": {},
   "outputs": [
    {
     "output_type": "execute_result",
     "data": {
      "text/plain": [
       "name                                     41\n",
       "ASIN                                     49\n",
       "Customer Reviews                        709\n",
       "Best Sellers Rank                       132\n",
       "Date First Available                     14\n",
       "Product Dimensions                     2756\n",
       "Item Weight                            2650\n",
       "Item model number                      2661\n",
       "Batteries                              2663\n",
       "Manufacturer                           2644\n",
       "Is Discontinued By Manufacturer        2786\n",
       "Form Factor                            2802\n",
       "Batteries Required                     2802\n",
       "Package Dimensions                     2698\n",
       "OS                                     2803\n",
       "GPU                                    2803\n",
       "RAM                                    2803\n",
       "Wireless communication technologies    2803\n",
       "Display technology                     2804\n",
       "Display resolution                     2804\n",
       "Other display features                 2803\n",
       "Device interface - primary             2803\n",
       "Other camera features                  2804\n",
       "Colour                                 2803\n",
       "Included Components                    2802\n",
       "National Stock Number                  2804\n",
       "Specific Uses For Product              2803\n",
       "Warranty Description                   2803\n",
       "dtype: int64"
      ]
     },
     "metadata": {},
     "execution_count": 46
    }
   ],
   "source": [
    "new.isnull().sum()"
   ]
  },
  {
   "cell_type": "code",
   "execution_count": 47,
   "metadata": {},
   "outputs": [],
   "source": [
    "#new[new.duplicated(subset= ['ASIN'])]"
   ]
  },
  {
   "cell_type": "code",
   "execution_count": 48,
   "metadata": {},
   "outputs": [
    {
     "output_type": "execute_result",
     "data": {
      "text/plain": [
       "B08JBVT48L    152\n",
       "B08P6TY5BM    113\n",
       "B08PVGW9K3    111\n",
       "B08MT7WLGK     94\n",
       "B08KXKMTCB     85\n",
       "B08N63ZSV7     80\n",
       "B08PF2HZVL     66\n",
       "B08P4CGZYK     50\n",
       "B08HZ4KWJW     49\n",
       "B0899GH6H9     45\n",
       "Name: ASIN, dtype: int64"
      ]
     },
     "metadata": {},
     "execution_count": 48
    }
   ],
   "source": [
    "new.ASIN.value_counts()[0:10]"
   ]
  },
  {
   "cell_type": "code",
   "execution_count": 49,
   "metadata": {},
   "outputs": [],
   "source": [
    "#for product_tech_spec"
   ]
  },
  {
   "cell_type": "code",
   "execution_count": 50,
   "metadata": {},
   "outputs": [
    {
     "output_type": "execute_result",
     "data": {
      "text/plain": [
       "0       [{'info': 'Brand', 'value': 'CHUWI'}, {'info':...\n",
       "1       [{'info': 'Brand', 'value': 'CHUWI'}, {'info':...\n",
       "2       [{'info': 'Brand', 'value': 'Lenovo'}, {'info'...\n",
       "3       [{'info': 'Brand', 'value': 'Lenovo'}, {'info'...\n",
       "4       [{'info': 'Brand', 'value': 'Acer'}, {'info': ...\n",
       "                              ...                        \n",
       "2800    [{'info': 'Brand', 'value': 'Dell'}, {'info': ...\n",
       "2801    [{'info': 'Brand', 'value': 'Lenovo'}, {'info'...\n",
       "2802    [{'info': 'Brand', 'value': 'Lenovo'}, {'info'...\n",
       "2803    [{'info': 'Brand', 'value': 'Winnovo'}, {'info...\n",
       "2804    [{'info': 'Brand', 'value': 'XINYANGCH'}, {'in...\n",
       "Name: product_tech_spec, Length: 2805, dtype: object"
      ]
     },
     "metadata": {},
     "execution_count": 50
    }
   ],
   "source": [
    "df.product_tech_spec"
   ]
  },
  {
   "cell_type": "code",
   "execution_count": 51,
   "metadata": {},
   "outputs": [],
   "source": [
    "add_col2 =  []\n",
    "for i in range(df.shape[0]):\n",
    "    try:\n",
    "        for j in range(len(df.product_tech_spec[i])):\n",
    "            col = df.product_tech_spec[i][j]['info']\n",
    "            if col not in add_col2:\n",
    "                add_col2.append(col)\n",
    "    except:\n",
    "        continue"
   ]
  },
  {
   "cell_type": "code",
   "execution_count": 52,
   "metadata": {},
   "outputs": [],
   "source": [
    "m_3 = pd.DataFrame(columns= add_col2)\n",
    "m_3\n",
    "for i in range(df.shape[0]):\n",
    "    try:\n",
    "        for j in range(len(df.product_tech_spec[i])):\n",
    "            col = df.product_tech_spec[i][j]['info']\n",
    "            val = df.product_tech_spec[i][j]['value']\n",
    "\n",
    "            m_3.loc[i,col] = val\n",
    "            \n",
    "    except:\n",
    "        m_3.loc[i,col] = ''\n",
    "        continue\n"
   ]
  },
  {
   "cell_type": "code",
   "execution_count": 53,
   "metadata": {},
   "outputs": [
    {
     "output_type": "execute_result",
     "data": {
      "text/plain": [
       "          Brand          Series Item model number Hardware Platform  \\\n",
       "0         CHUWI    HeroBook Pro      Herobook Pro                PC   \n",
       "1         CHUWI             NaN      CoreBook Pro                PC   \n",
       "2        Lenovo  Lenovo Ideapad        81WE00NKUS                PC   \n",
       "3        Lenovo    Ideapad S330        81JW0000US            Chrome   \n",
       "4          Acer   PH315-53-72XD     PH315-53-72XD               NaN   \n",
       "...         ...             ...               ...               ...   \n",
       "2800       Dell           M2HJR               NaN                PC   \n",
       "2801     Lenovo           M720s        10ST008NUS               NaN   \n",
       "2802     Lenovo             T14        20NYS6JB0F                PC   \n",
       "2803    Winnovo    Winnovo N140      Winnovo N140                PC   \n",
       "2804  XINYANGCH           NB15A              N15C                PC   \n",
       "\n",
       "     Operating System  Item Weight          Product Dimensions  \\\n",
       "0          Windows 10  3.06 pounds  13.07 x 8.43 x 0.84 inches   \n",
       "1                 NaN  4.38 pounds   1.14 x 0.87 x 0.71 inches   \n",
       "2          Windows 10     7 ounces  14.26 x 9.98 x 0.78 inches   \n",
       "3           Chrome OS   3.3 pounds  12.82 x 0.82 x 9.15 inches   \n",
       "4     Windows 10 Home  5.07 pounds  14.31 x 10.04 x 0.9 inches   \n",
       "...               ...          ...                         ...   \n",
       "2800   Windows 10 Pro  3.26 pounds   8.5 x 12.72 x 0.83 inches   \n",
       "2801   Windows 10 Pro  13.2 pounds    11.4 x 3.6 x 13.5 inches   \n",
       "2802   Windows 10 Pro   3.4 pounds   12.95 x 8.94 x 0.7 inches   \n",
       "2803     Windows 10 S  4.37 pounds                         NaN   \n",
       "2804       Windows 10  3.96 pounds                         NaN   \n",
       "\n",
       "          Item Dimensions  LxWxH               Color Rear Webcam Resolution  \\\n",
       "0     13.07 x 8.43 x 0.84 inches  Herobook Pro(2020)     500 Lines Per Inch   \n",
       "1      1.14 x 0.87 x 0.71 inches                 NaN                    NaN   \n",
       "2     14.26 x 9.98 x 0.78 inches       Platinum Grey                    NaN   \n",
       "3     12.82 x 0.82 x 9.15 inches      Business Black                    NaN   \n",
       "4     14.31 x 10.04 x 0.9 inches                 NaN                    NaN   \n",
       "...                          ...                 ...                    ...   \n",
       "2800   8.5 x 12.72 x 0.83 inches                 NaN                    NaN   \n",
       "2801    11.4 x 3.6 x 13.5 inches               Black                    NaN   \n",
       "2802   12.95 x 8.94 x 0.7 inches               Black                    NaN   \n",
       "2803                         NaN                Gray                    NaN   \n",
       "2804                         NaN      Silver 8G+128G                    NaN   \n",
       "\n",
       "      ... Hard Drive Rotational Speed Optical Drive Type  \\\n",
       "0     ...                         NaN                NaN   \n",
       "1     ...                         NaN                NaN   \n",
       "2     ...                         NaN                NaN   \n",
       "3     ...                    7200 RPM                NaN   \n",
       "4     ...                         NaN   No Optical Drive   \n",
       "...   ...                         ...                ...   \n",
       "2800  ...                         NaN                NaN   \n",
       "2801  ...                         NaN             DVD±RW   \n",
       "2802  ...                         NaN                NaN   \n",
       "2803  ...                         NaN                NaN   \n",
       "2804  ...                         NaN                NaN   \n",
       "\n",
       "                               Voltage          Package Dimensions  \\\n",
       "0                                  NaN                         NaN   \n",
       "1                                  NaN                         NaN   \n",
       "2                                  NaN                         NaN   \n",
       "3                                  NaN                         NaN   \n",
       "4                            220 volts                         NaN   \n",
       "...                                ...                         ...   \n",
       "2800                               NaN                         NaN   \n",
       "2801                               NaN                         NaN   \n",
       "2802                               NaN                         NaN   \n",
       "2803  220 volts_of_alternating_current  14.21 x 9.96 x 2.91 inches   \n",
       "2804                         240 volts  18.94 x 11.5 x 2.36 inches   \n",
       "\n",
       "     Manufacturer ASIN Date First Available Battery Description  \\\n",
       "0             NaN  NaN                  NaN                 NaN   \n",
       "1             NaN  NaN                  NaN                 NaN   \n",
       "2             NaN  NaN                  NaN                 NaN   \n",
       "3             NaN  NaN                  NaN                 NaN   \n",
       "4             NaN  NaN                  NaN                 NaN   \n",
       "...           ...  ...                  ...                 ...   \n",
       "2800          NaN  NaN                  NaN                 NaN   \n",
       "2801          NaN  NaN                  NaN                 NaN   \n",
       "2802          NaN  NaN                  NaN                 NaN   \n",
       "2803          NaN  NaN                  NaN                 NaN   \n",
       "2804          NaN  NaN                  NaN                 NaN   \n",
       "\n",
       "     Audio-out Ports (#) Is Discontinued By Manufacturer  \n",
       "0                    NaN                             NaN  \n",
       "1                    NaN                             NaN  \n",
       "2                    NaN                             NaN  \n",
       "3                    NaN                             NaN  \n",
       "4                    NaN                             NaN  \n",
       "...                  ...                             ...  \n",
       "2800                 NaN                             NaN  \n",
       "2801                 NaN                             NaN  \n",
       "2802                 NaN                             NaN  \n",
       "2803                 NaN                             NaN  \n",
       "2804                 NaN                             NaN  \n",
       "\n",
       "[2805 rows x 27 columns]"
      ],
      "text/html": "<div>\n<style scoped>\n    .dataframe tbody tr th:only-of-type {\n        vertical-align: middle;\n    }\n\n    .dataframe tbody tr th {\n        vertical-align: top;\n    }\n\n    .dataframe thead th {\n        text-align: right;\n    }\n</style>\n<table border=\"1\" class=\"dataframe\">\n  <thead>\n    <tr style=\"text-align: right;\">\n      <th></th>\n      <th>Brand</th>\n      <th>Series</th>\n      <th>Item model number</th>\n      <th>Hardware Platform</th>\n      <th>Operating System</th>\n      <th>Item Weight</th>\n      <th>Product Dimensions</th>\n      <th>Item Dimensions  LxWxH</th>\n      <th>Color</th>\n      <th>Rear Webcam Resolution</th>\n      <th>...</th>\n      <th>Hard Drive Rotational Speed</th>\n      <th>Optical Drive Type</th>\n      <th>Voltage</th>\n      <th>Package Dimensions</th>\n      <th>Manufacturer</th>\n      <th>ASIN</th>\n      <th>Date First Available</th>\n      <th>Battery Description</th>\n      <th>Audio-out Ports (#)</th>\n      <th>Is Discontinued By Manufacturer</th>\n    </tr>\n  </thead>\n  <tbody>\n    <tr>\n      <th>0</th>\n      <td>CHUWI</td>\n      <td>HeroBook Pro</td>\n      <td>Herobook Pro</td>\n      <td>PC</td>\n      <td>Windows 10</td>\n      <td>3.06 pounds</td>\n      <td>13.07 x 8.43 x 0.84 inches</td>\n      <td>13.07 x 8.43 x 0.84 inches</td>\n      <td>Herobook Pro(2020)</td>\n      <td>500 Lines Per Inch</td>\n      <td>...</td>\n      <td>NaN</td>\n      <td>NaN</td>\n      <td>NaN</td>\n      <td>NaN</td>\n      <td>NaN</td>\n      <td>NaN</td>\n      <td>NaN</td>\n      <td>NaN</td>\n      <td>NaN</td>\n      <td>NaN</td>\n    </tr>\n    <tr>\n      <th>1</th>\n      <td>CHUWI</td>\n      <td>NaN</td>\n      <td>CoreBook Pro</td>\n      <td>PC</td>\n      <td>NaN</td>\n      <td>4.38 pounds</td>\n      <td>1.14 x 0.87 x 0.71 inches</td>\n      <td>1.14 x 0.87 x 0.71 inches</td>\n      <td>NaN</td>\n      <td>NaN</td>\n      <td>...</td>\n      <td>NaN</td>\n      <td>NaN</td>\n      <td>NaN</td>\n      <td>NaN</td>\n      <td>NaN</td>\n      <td>NaN</td>\n      <td>NaN</td>\n      <td>NaN</td>\n      <td>NaN</td>\n      <td>NaN</td>\n    </tr>\n    <tr>\n      <th>2</th>\n      <td>Lenovo</td>\n      <td>Lenovo Ideapad</td>\n      <td>81WE00NKUS</td>\n      <td>PC</td>\n      <td>Windows 10</td>\n      <td>7 ounces</td>\n      <td>14.26 x 9.98 x 0.78 inches</td>\n      <td>14.26 x 9.98 x 0.78 inches</td>\n      <td>Platinum Grey</td>\n      <td>NaN</td>\n      <td>...</td>\n      <td>NaN</td>\n      <td>NaN</td>\n      <td>NaN</td>\n      <td>NaN</td>\n      <td>NaN</td>\n      <td>NaN</td>\n      <td>NaN</td>\n      <td>NaN</td>\n      <td>NaN</td>\n      <td>NaN</td>\n    </tr>\n    <tr>\n      <th>3</th>\n      <td>Lenovo</td>\n      <td>Ideapad S330</td>\n      <td>81JW0000US</td>\n      <td>Chrome</td>\n      <td>Chrome OS</td>\n      <td>3.3 pounds</td>\n      <td>12.82 x 0.82 x 9.15 inches</td>\n      <td>12.82 x 0.82 x 9.15 inches</td>\n      <td>Business Black</td>\n      <td>NaN</td>\n      <td>...</td>\n      <td>7200 RPM</td>\n      <td>NaN</td>\n      <td>NaN</td>\n      <td>NaN</td>\n      <td>NaN</td>\n      <td>NaN</td>\n      <td>NaN</td>\n      <td>NaN</td>\n      <td>NaN</td>\n      <td>NaN</td>\n    </tr>\n    <tr>\n      <th>4</th>\n      <td>Acer</td>\n      <td>PH315-53-72XD</td>\n      <td>PH315-53-72XD</td>\n      <td>NaN</td>\n      <td>Windows 10 Home</td>\n      <td>5.07 pounds</td>\n      <td>14.31 x 10.04 x 0.9 inches</td>\n      <td>14.31 x 10.04 x 0.9 inches</td>\n      <td>NaN</td>\n      <td>NaN</td>\n      <td>...</td>\n      <td>NaN</td>\n      <td>No Optical Drive</td>\n      <td>220 volts</td>\n      <td>NaN</td>\n      <td>NaN</td>\n      <td>NaN</td>\n      <td>NaN</td>\n      <td>NaN</td>\n      <td>NaN</td>\n      <td>NaN</td>\n    </tr>\n    <tr>\n      <th>...</th>\n      <td>...</td>\n      <td>...</td>\n      <td>...</td>\n      <td>...</td>\n      <td>...</td>\n      <td>...</td>\n      <td>...</td>\n      <td>...</td>\n      <td>...</td>\n      <td>...</td>\n      <td>...</td>\n      <td>...</td>\n      <td>...</td>\n      <td>...</td>\n      <td>...</td>\n      <td>...</td>\n      <td>...</td>\n      <td>...</td>\n      <td>...</td>\n      <td>...</td>\n      <td>...</td>\n    </tr>\n    <tr>\n      <th>2800</th>\n      <td>Dell</td>\n      <td>M2HJR</td>\n      <td>NaN</td>\n      <td>PC</td>\n      <td>Windows 10 Pro</td>\n      <td>3.26 pounds</td>\n      <td>8.5 x 12.72 x 0.83 inches</td>\n      <td>8.5 x 12.72 x 0.83 inches</td>\n      <td>NaN</td>\n      <td>NaN</td>\n      <td>...</td>\n      <td>NaN</td>\n      <td>NaN</td>\n      <td>NaN</td>\n      <td>NaN</td>\n      <td>NaN</td>\n      <td>NaN</td>\n      <td>NaN</td>\n      <td>NaN</td>\n      <td>NaN</td>\n      <td>NaN</td>\n    </tr>\n    <tr>\n      <th>2801</th>\n      <td>Lenovo</td>\n      <td>M720s</td>\n      <td>10ST008NUS</td>\n      <td>NaN</td>\n      <td>Windows 10 Pro</td>\n      <td>13.2 pounds</td>\n      <td>11.4 x 3.6 x 13.5 inches</td>\n      <td>11.4 x 3.6 x 13.5 inches</td>\n      <td>Black</td>\n      <td>NaN</td>\n      <td>...</td>\n      <td>NaN</td>\n      <td>DVD±RW</td>\n      <td>NaN</td>\n      <td>NaN</td>\n      <td>NaN</td>\n      <td>NaN</td>\n      <td>NaN</td>\n      <td>NaN</td>\n      <td>NaN</td>\n      <td>NaN</td>\n    </tr>\n    <tr>\n      <th>2802</th>\n      <td>Lenovo</td>\n      <td>T14</td>\n      <td>20NYS6JB0F</td>\n      <td>PC</td>\n      <td>Windows 10 Pro</td>\n      <td>3.4 pounds</td>\n      <td>12.95 x 8.94 x 0.7 inches</td>\n      <td>12.95 x 8.94 x 0.7 inches</td>\n      <td>Black</td>\n      <td>NaN</td>\n      <td>...</td>\n      <td>NaN</td>\n      <td>NaN</td>\n      <td>NaN</td>\n      <td>NaN</td>\n      <td>NaN</td>\n      <td>NaN</td>\n      <td>NaN</td>\n      <td>NaN</td>\n      <td>NaN</td>\n      <td>NaN</td>\n    </tr>\n    <tr>\n      <th>2803</th>\n      <td>Winnovo</td>\n      <td>Winnovo N140</td>\n      <td>Winnovo N140</td>\n      <td>PC</td>\n      <td>Windows 10 S</td>\n      <td>4.37 pounds</td>\n      <td>NaN</td>\n      <td>NaN</td>\n      <td>Gray</td>\n      <td>NaN</td>\n      <td>...</td>\n      <td>NaN</td>\n      <td>NaN</td>\n      <td>220 volts_of_alternating_current</td>\n      <td>14.21 x 9.96 x 2.91 inches</td>\n      <td>NaN</td>\n      <td>NaN</td>\n      <td>NaN</td>\n      <td>NaN</td>\n      <td>NaN</td>\n      <td>NaN</td>\n    </tr>\n    <tr>\n      <th>2804</th>\n      <td>XINYANGCH</td>\n      <td>NB15A</td>\n      <td>N15C</td>\n      <td>PC</td>\n      <td>Windows 10</td>\n      <td>3.96 pounds</td>\n      <td>NaN</td>\n      <td>NaN</td>\n      <td>Silver 8G+128G</td>\n      <td>NaN</td>\n      <td>...</td>\n      <td>NaN</td>\n      <td>NaN</td>\n      <td>240 volts</td>\n      <td>18.94 x 11.5 x 2.36 inches</td>\n      <td>NaN</td>\n      <td>NaN</td>\n      <td>NaN</td>\n      <td>NaN</td>\n      <td>NaN</td>\n      <td>NaN</td>\n    </tr>\n  </tbody>\n</table>\n<p>2805 rows × 27 columns</p>\n</div>"
     },
     "metadata": {},
     "execution_count": 53
    }
   ],
   "source": [
    "m_3"
   ]
  },
  {
   "cell_type": "code",
   "execution_count": 54,
   "metadata": {},
   "outputs": [
    {
     "output_type": "execute_result",
     "data": {
      "text/plain": [
       "Brand                               200\n",
       "Series                              441\n",
       "Item model number                   444\n",
       "Hardware Platform                   510\n",
       "Operating System                    228\n",
       "Item Weight                         199\n",
       "Product Dimensions                 1014\n",
       "Item Dimensions  LxWxH             1014\n",
       "Color                              1187\n",
       "Rear Webcam Resolution             2561\n",
       "Processor Brand                     274\n",
       "Processor Count                     217\n",
       "Computer Memory Type                323\n",
       "Flash Memory Size                   848\n",
       "Hard Drive Interface                440\n",
       "Power Source                        941\n",
       "Batteries                           682\n",
       "Hard Drive Rotational Speed        2385\n",
       "Optical Drive Type                 2280\n",
       "Voltage                            2298\n",
       "Package Dimensions                 1993\n",
       "Manufacturer                       2798\n",
       "ASIN                               2798\n",
       "Date First Available               2797\n",
       "Battery Description                2800\n",
       "Audio-out Ports (#)                2802\n",
       "Is Discontinued By Manufacturer    2804\n",
       "dtype: int64"
      ]
     },
     "metadata": {},
     "execution_count": 54
    }
   ],
   "source": [
    "m_3.isnull().sum()"
   ]
  },
  {
   "cell_type": "code",
   "execution_count": 55,
   "metadata": {},
   "outputs": [],
   "source": [
    "#product_summary\n",
    "add_col2 =  []\n",
    "for i in range(df.shape[0]):\n",
    "    try:\n",
    "        for j in range(len(df.product_summary[i])):\n",
    "            col = df.product_summary[i][j]['info']\n",
    "            if col not in add_col2:\n",
    "                add_col2.append(col)\n",
    "    except:\n",
    "        continue"
   ]
  },
  {
   "cell_type": "code",
   "execution_count": 56,
   "metadata": {},
   "outputs": [],
   "source": [
    "m_4 = pd.DataFrame(columns= add_col2)\n",
    "m_4\n",
    "for i in range(df.shape[0]):\n",
    "    try:\n",
    "        for j in range(len(df.product_summary[i])):\n",
    "            col = df.product_summary[i][j]['info']\n",
    "            val = df.product_summary[i][j]['value']\n",
    "\n",
    "            m_4.loc[i,col] = val\n",
    "            \n",
    "    except:\n",
    "        m_4.loc[i,col] = ''\n",
    "        continue\n"
   ]
  },
  {
   "cell_type": "code",
   "execution_count": 57,
   "metadata": {},
   "outputs": [
    {
     "output_type": "execute_result",
     "data": {
      "text/plain": [
       "     Standing screen display size Screen Resolution  \\\n",
       "0                     14.1 Inches         1920x1080   \n",
       "1                       13 Inches               NaN   \n",
       "2                     15.6 Inches          1366x768   \n",
       "3                       14 Inches               NaN   \n",
       "4                     15.6 Inches               NaN   \n",
       "...                           ...               ...   \n",
       "2800                    14 Inches               NaN   \n",
       "2801                     1 Inches               NaN   \n",
       "2802                    14 Inches               NaN   \n",
       "2803                    14 Inches          1366x768   \n",
       "2804                    15 Inches               NaN   \n",
       "\n",
       "           Max Screen Resolution           Graphics Coprocessor Chipset Brand  \\\n",
       "0     1920 x 1080 Lines Per Inch  Intel Celeron Processor N4000         Intel   \n",
       "1             2160 x 1440 Pixels                            NaN         Intel   \n",
       "2              1366 x 768 Pixels             Intel UHD Graphics         Intel   \n",
       "3               1920X1080 Pixels                            NaN         Intel   \n",
       "4             1920 x 1080 Pixels        NVIDIA GeForce RTX 2060        NVIDIA   \n",
       "...                          ...                            ...           ...   \n",
       "2800          1920 x 1080 Pixels         Intel UHD Graphics 620         Intel   \n",
       "2801          1920 x 1080 Pixels         Intel UHD Graphics 630         Intel   \n",
       "2802          1920 x 1080 Pixels  Integrated Intel UHD Graphics           NaN   \n",
       "2803             1366*768 Pixels           Intel HD Graphic 500           NaN   \n",
       "2804            1920*1080 Pixels                      1920*1080           NaN   \n",
       "\n",
       "     Card Description        Wireless Type Average Battery Life (in hours)  \\\n",
       "0          Integrated            Bluetooth                       5 \\tyears   \n",
       "1                 NaN                  NaN                             NaN   \n",
       "2           Dedicated              802.11a                             NaN   \n",
       "3          Integrated             802.11ac                        10 Hours   \n",
       "4            RTX 2060             802.11ax                         6 Hours   \n",
       "...               ...                  ...                             ...   \n",
       "2800       Integrated            Bluetooth                             NaN   \n",
       "2801       Integrated                  NaN                             NaN   \n",
       "2802              NaN            Bluetooth                             NaN   \n",
       "2803       Integrated  802.11bgn, 802.11ac                             NaN   \n",
       "2804              NaN            Bluetooth                             NaN   \n",
       "\n",
       "     Memory Speed Number of USB 2.0 Ports  ... Size Color Style Power Source  \\\n",
       "0             NaN                     NaN  ...  NaN   NaN   NaN          NaN   \n",
       "1             NaN                     NaN  ...  NaN   NaN   NaN          NaN   \n",
       "2         3.9 GHz                       1  ...  NaN   NaN   NaN          NaN   \n",
       "3             NaN                     NaN  ...  NaN   NaN   NaN          NaN   \n",
       "4        2933 MHz                     NaN  ...  NaN   NaN   NaN          NaN   \n",
       "...           ...                     ...  ...  ...   ...   ...          ...   \n",
       "2800          NaN                     NaN  ...  NaN   NaN   NaN          NaN   \n",
       "2801          NaN                       2  ...  NaN   NaN   NaN          NaN   \n",
       "2802      1.8 GHz                     NaN  ...  NaN   NaN   NaN          NaN   \n",
       "2803          NaN                     NaN  ...  NaN   NaN   NaN          NaN   \n",
       "2804      2.3 GHz                     NaN  ...  NaN   NaN   NaN          NaN   \n",
       "\n",
       "     Item Package Quantity Display Style Usage Included Components  \\\n",
       "0                      NaN           NaN   NaN                 NaN   \n",
       "1                      NaN           NaN   NaN                 NaN   \n",
       "2                      NaN           NaN   NaN                 NaN   \n",
       "3                      NaN           NaN   NaN                 NaN   \n",
       "4                      NaN           NaN   NaN                 NaN   \n",
       "...                    ...           ...   ...                 ...   \n",
       "2800                   NaN           NaN   NaN                 NaN   \n",
       "2801                   NaN           NaN   NaN                 NaN   \n",
       "2802                   NaN           NaN   NaN                 NaN   \n",
       "2803                   NaN           NaN   NaN                 NaN   \n",
       "2804                   NaN           NaN   NaN                 NaN   \n",
       "\n",
       "     Batteries Required? Warranty Description  \n",
       "0                    NaN                  NaN  \n",
       "1                    NaN                  NaN  \n",
       "2                    NaN                  NaN  \n",
       "3                    NaN                  NaN  \n",
       "4                    NaN                  NaN  \n",
       "...                  ...                  ...  \n",
       "2800                 NaN                  NaN  \n",
       "2801                 NaN                  NaN  \n",
       "2802                 NaN                  NaN  \n",
       "2803                 NaN                  NaN  \n",
       "2804                 NaN                  NaN  \n",
       "\n",
       "[2805 rows x 29 columns]"
      ],
      "text/html": "<div>\n<style scoped>\n    .dataframe tbody tr th:only-of-type {\n        vertical-align: middle;\n    }\n\n    .dataframe tbody tr th {\n        vertical-align: top;\n    }\n\n    .dataframe thead th {\n        text-align: right;\n    }\n</style>\n<table border=\"1\" class=\"dataframe\">\n  <thead>\n    <tr style=\"text-align: right;\">\n      <th></th>\n      <th>Standing screen display size</th>\n      <th>Screen Resolution</th>\n      <th>Max Screen Resolution</th>\n      <th>Graphics Coprocessor</th>\n      <th>Chipset Brand</th>\n      <th>Card Description</th>\n      <th>Wireless Type</th>\n      <th>Average Battery Life (in hours)</th>\n      <th>Memory Speed</th>\n      <th>Number of USB 2.0 Ports</th>\n      <th>...</th>\n      <th>Size</th>\n      <th>Color</th>\n      <th>Style</th>\n      <th>Power Source</th>\n      <th>Item Package Quantity</th>\n      <th>Display Style</th>\n      <th>Usage</th>\n      <th>Included Components</th>\n      <th>Batteries Required?</th>\n      <th>Warranty Description</th>\n    </tr>\n  </thead>\n  <tbody>\n    <tr>\n      <th>0</th>\n      <td>14.1 Inches</td>\n      <td>1920x1080</td>\n      <td>1920 x 1080 Lines Per Inch</td>\n      <td>Intel Celeron Processor N4000</td>\n      <td>Intel</td>\n      <td>Integrated</td>\n      <td>Bluetooth</td>\n      <td>5 \\tyears</td>\n      <td>NaN</td>\n      <td>NaN</td>\n      <td>...</td>\n      <td>NaN</td>\n      <td>NaN</td>\n      <td>NaN</td>\n      <td>NaN</td>\n      <td>NaN</td>\n      <td>NaN</td>\n      <td>NaN</td>\n      <td>NaN</td>\n      <td>NaN</td>\n      <td>NaN</td>\n    </tr>\n    <tr>\n      <th>1</th>\n      <td>13 Inches</td>\n      <td>NaN</td>\n      <td>2160 x 1440 Pixels</td>\n      <td>NaN</td>\n      <td>Intel</td>\n      <td>NaN</td>\n      <td>NaN</td>\n      <td>NaN</td>\n      <td>NaN</td>\n      <td>NaN</td>\n      <td>...</td>\n      <td>NaN</td>\n      <td>NaN</td>\n      <td>NaN</td>\n      <td>NaN</td>\n      <td>NaN</td>\n      <td>NaN</td>\n      <td>NaN</td>\n      <td>NaN</td>\n      <td>NaN</td>\n      <td>NaN</td>\n    </tr>\n    <tr>\n      <th>2</th>\n      <td>15.6 Inches</td>\n      <td>1366x768</td>\n      <td>1366 x 768 Pixels</td>\n      <td>Intel UHD Graphics</td>\n      <td>Intel</td>\n      <td>Dedicated</td>\n      <td>802.11a</td>\n      <td>NaN</td>\n      <td>3.9 GHz</td>\n      <td>1</td>\n      <td>...</td>\n      <td>NaN</td>\n      <td>NaN</td>\n      <td>NaN</td>\n      <td>NaN</td>\n      <td>NaN</td>\n      <td>NaN</td>\n      <td>NaN</td>\n      <td>NaN</td>\n      <td>NaN</td>\n      <td>NaN</td>\n    </tr>\n    <tr>\n      <th>3</th>\n      <td>14 Inches</td>\n      <td>NaN</td>\n      <td>1920X1080 Pixels</td>\n      <td>NaN</td>\n      <td>Intel</td>\n      <td>Integrated</td>\n      <td>802.11ac</td>\n      <td>10 Hours</td>\n      <td>NaN</td>\n      <td>NaN</td>\n      <td>...</td>\n      <td>NaN</td>\n      <td>NaN</td>\n      <td>NaN</td>\n      <td>NaN</td>\n      <td>NaN</td>\n      <td>NaN</td>\n      <td>NaN</td>\n      <td>NaN</td>\n      <td>NaN</td>\n      <td>NaN</td>\n    </tr>\n    <tr>\n      <th>4</th>\n      <td>15.6 Inches</td>\n      <td>NaN</td>\n      <td>1920 x 1080 Pixels</td>\n      <td>NVIDIA GeForce RTX 2060</td>\n      <td>NVIDIA</td>\n      <td>RTX 2060</td>\n      <td>802.11ax</td>\n      <td>6 Hours</td>\n      <td>2933 MHz</td>\n      <td>NaN</td>\n      <td>...</td>\n      <td>NaN</td>\n      <td>NaN</td>\n      <td>NaN</td>\n      <td>NaN</td>\n      <td>NaN</td>\n      <td>NaN</td>\n      <td>NaN</td>\n      <td>NaN</td>\n      <td>NaN</td>\n      <td>NaN</td>\n    </tr>\n    <tr>\n      <th>...</th>\n      <td>...</td>\n      <td>...</td>\n      <td>...</td>\n      <td>...</td>\n      <td>...</td>\n      <td>...</td>\n      <td>...</td>\n      <td>...</td>\n      <td>...</td>\n      <td>...</td>\n      <td>...</td>\n      <td>...</td>\n      <td>...</td>\n      <td>...</td>\n      <td>...</td>\n      <td>...</td>\n      <td>...</td>\n      <td>...</td>\n      <td>...</td>\n      <td>...</td>\n      <td>...</td>\n    </tr>\n    <tr>\n      <th>2800</th>\n      <td>14 Inches</td>\n      <td>NaN</td>\n      <td>1920 x 1080 Pixels</td>\n      <td>Intel UHD Graphics 620</td>\n      <td>Intel</td>\n      <td>Integrated</td>\n      <td>Bluetooth</td>\n      <td>NaN</td>\n      <td>NaN</td>\n      <td>NaN</td>\n      <td>...</td>\n      <td>NaN</td>\n      <td>NaN</td>\n      <td>NaN</td>\n      <td>NaN</td>\n      <td>NaN</td>\n      <td>NaN</td>\n      <td>NaN</td>\n      <td>NaN</td>\n      <td>NaN</td>\n      <td>NaN</td>\n    </tr>\n    <tr>\n      <th>2801</th>\n      <td>1 Inches</td>\n      <td>NaN</td>\n      <td>1920 x 1080 Pixels</td>\n      <td>Intel UHD Graphics 630</td>\n      <td>Intel</td>\n      <td>Integrated</td>\n      <td>NaN</td>\n      <td>NaN</td>\n      <td>NaN</td>\n      <td>2</td>\n      <td>...</td>\n      <td>NaN</td>\n      <td>NaN</td>\n      <td>NaN</td>\n      <td>NaN</td>\n      <td>NaN</td>\n      <td>NaN</td>\n      <td>NaN</td>\n      <td>NaN</td>\n      <td>NaN</td>\n      <td>NaN</td>\n    </tr>\n    <tr>\n      <th>2802</th>\n      <td>14 Inches</td>\n      <td>NaN</td>\n      <td>1920 x 1080 Pixels</td>\n      <td>Integrated Intel UHD Graphics</td>\n      <td>NaN</td>\n      <td>NaN</td>\n      <td>Bluetooth</td>\n      <td>NaN</td>\n      <td>1.8 GHz</td>\n      <td>NaN</td>\n      <td>...</td>\n      <td>NaN</td>\n      <td>NaN</td>\n      <td>NaN</td>\n      <td>NaN</td>\n      <td>NaN</td>\n      <td>NaN</td>\n      <td>NaN</td>\n      <td>NaN</td>\n      <td>NaN</td>\n      <td>NaN</td>\n    </tr>\n    <tr>\n      <th>2803</th>\n      <td>14 Inches</td>\n      <td>1366x768</td>\n      <td>1366*768 Pixels</td>\n      <td>Intel HD Graphic 500</td>\n      <td>NaN</td>\n      <td>Integrated</td>\n      <td>802.11bgn, 802.11ac</td>\n      <td>NaN</td>\n      <td>NaN</td>\n      <td>NaN</td>\n      <td>...</td>\n      <td>NaN</td>\n      <td>NaN</td>\n      <td>NaN</td>\n      <td>NaN</td>\n      <td>NaN</td>\n      <td>NaN</td>\n      <td>NaN</td>\n      <td>NaN</td>\n      <td>NaN</td>\n      <td>NaN</td>\n    </tr>\n    <tr>\n      <th>2804</th>\n      <td>15 Inches</td>\n      <td>NaN</td>\n      <td>1920*1080 Pixels</td>\n      <td>1920*1080</td>\n      <td>NaN</td>\n      <td>NaN</td>\n      <td>Bluetooth</td>\n      <td>NaN</td>\n      <td>2.3 GHz</td>\n      <td>NaN</td>\n      <td>...</td>\n      <td>NaN</td>\n      <td>NaN</td>\n      <td>NaN</td>\n      <td>NaN</td>\n      <td>NaN</td>\n      <td>NaN</td>\n      <td>NaN</td>\n      <td>NaN</td>\n      <td>NaN</td>\n      <td>NaN</td>\n    </tr>\n  </tbody>\n</table>\n<p>2805 rows × 29 columns</p>\n</div>"
     },
     "metadata": {},
     "execution_count": 57
    }
   ],
   "source": [
    "m_4"
   ]
  },
  {
   "cell_type": "code",
   "execution_count": 58,
   "metadata": {},
   "outputs": [
    {
     "output_type": "execute_result",
     "data": {
      "text/plain": [
       "Standing screen display size        199\n",
       "Screen Resolution                  1747\n",
       "Max Screen Resolution               387\n",
       "Graphics Coprocessor                411\n",
       "Chipset Brand                       832\n",
       "Card Description                   1041\n",
       "Wireless Type                       430\n",
       "Average Battery Life (in hours)    1921\n",
       "Memory Speed                       1092\n",
       "Number of USB 2.0 Ports            2373\n",
       "Graphics Card Ram Size             2106\n",
       "Number of USB 3.0 Ports            2118\n",
       "National Stock Number              2741\n",
       "Manufacturer                       2804\n",
       "Part Number                        2804\n",
       "Item Weight                        2804\n",
       "Product Dimensions                 2804\n",
       "Item model number                  2804\n",
       "Is Discontinued By Manufacturer    2804\n",
       "Size                               2804\n",
       "Color                              2804\n",
       "Style                              2804\n",
       "Power Source                       2804\n",
       "Item Package Quantity              2804\n",
       "Display Style                      2804\n",
       "Usage                              2804\n",
       "Included Components                2804\n",
       "Batteries Required?                2804\n",
       "Warranty Description               2804\n",
       "dtype: int64"
      ]
     },
     "metadata": {},
     "execution_count": 58
    }
   ],
   "source": [
    "m_4.isnull().sum()"
   ]
  },
  {
   "cell_type": "code",
   "execution_count": 59,
   "metadata": {},
   "outputs": [],
   "source": [
    "#new.OS"
   ]
  },
  {
   "cell_type": "code",
   "execution_count": 60,
   "metadata": {},
   "outputs": [],
   "source": [
    "#after splitting final datas:\n",
    "#m_3\n",
    "#m_4\n",
    "#new"
   ]
  },
  {
   "cell_type": "code",
   "execution_count": 61,
   "metadata": {},
   "outputs": [
    {
     "output_type": "execute_result",
     "data": {
      "text/plain": [
       "            ASIN Audio-out Ports (#) Average Battery Life (in hours)  \\\n",
       "0     B085XRL3P1                 NaN                       5 \\tyears   \n",
       "1     B08CDM3XPJ                 NaN                             NaN   \n",
       "2     B08NXSJVCR                 NaN                             NaN   \n",
       "3     B07GLV1VC7                 NaN                        10 Hours   \n",
       "4     B08842D7JS                 NaN                         6 Hours   \n",
       "...          ...                 ...                             ...   \n",
       "2800  B08L8KW3ZM                 NaN                             NaN   \n",
       "2801  B082RD3STD                 NaN                             NaN   \n",
       "2802  B0844KPGNF                 NaN                             NaN   \n",
       "2803  B08JBVT48L                 NaN                             NaN   \n",
       "2804  B08N63ZSV7                 NaN                             NaN   \n",
       "\n",
       "                                             Batteries Batteries Required  \\\n",
       "0                                                  NaN                NaN   \n",
       "1                                                  NaN                NaN   \n",
       "2     1 Lithium Polymer batteries required. (included)                NaN   \n",
       "3     1 Lithium Polymer batteries required. (included)                NaN   \n",
       "4         1 Lithium ion batteries required. (included)                NaN   \n",
       "...                                                ...                ...   \n",
       "2800                                               NaN                NaN   \n",
       "2801                                               NaN                NaN   \n",
       "2802               1 9V batteries required. (included)                NaN   \n",
       "2803  1 Lithium Polymer batteries required. (included)                NaN   \n",
       "2804                                               NaN                NaN   \n",
       "\n",
       "     Batteries Required? Battery Description  \\\n",
       "0                    NaN                 NaN   \n",
       "1                    NaN                 NaN   \n",
       "2                    NaN                 NaN   \n",
       "3                    NaN                 NaN   \n",
       "4                    NaN                 NaN   \n",
       "...                  ...                 ...   \n",
       "2800                 NaN                 NaN   \n",
       "2801                 NaN                 NaN   \n",
       "2802                 NaN                 NaN   \n",
       "2803                 NaN                 NaN   \n",
       "2804                 NaN                 NaN   \n",
       "\n",
       "                                      Best Sellers Rank      Brand  \\\n",
       "0     #1,853 in Computers & Accessories ( See Top 10...      CHUWI   \n",
       "1     #14,505 in Computers & Accessories ( See Top 1...      CHUWI   \n",
       "2     #212 in Computers & Accessories ( See Top 100 ...     Lenovo   \n",
       "3     #372 in Computers & Accessories ( See Top 100 ...     Lenovo   \n",
       "4     #146 in Computers & Accessories ( See Top 100 ...       Acer   \n",
       "...                                                 ...        ...   \n",
       "2800  #579,675 in Computers & Accessories ( See Top ...       Dell   \n",
       "2801  #47,707 in Computers & Accessories ( See Top 1...     Lenovo   \n",
       "2802  #310,265 in Computers & Accessories ( See Top ...     Lenovo   \n",
       "2803  #4,479 in Computers & Accessories ( See Top 10...    Winnovo   \n",
       "2804  #29,104 in Computers & Accessories ( See Top 1...  XINYANGCH   \n",
       "\n",
       "     Card Description  ... Size Specific Uses For Product  \\\n",
       "0          Integrated  ...  NaN                       NaN   \n",
       "1                 NaN  ...  NaN                       NaN   \n",
       "2           Dedicated  ...  NaN                       NaN   \n",
       "3          Integrated  ...  NaN                       NaN   \n",
       "4            RTX 2060  ...  NaN                       NaN   \n",
       "...               ...  ...  ...                       ...   \n",
       "2800       Integrated  ...  NaN                       NaN   \n",
       "2801       Integrated  ...  NaN                       NaN   \n",
       "2802              NaN  ...  NaN                       NaN   \n",
       "2803       Integrated  ...  NaN                       NaN   \n",
       "2804              NaN  ...  NaN                       NaN   \n",
       "\n",
       "     Standing screen display size Style Usage  \\\n",
       "0                     14.1 Inches   NaN   NaN   \n",
       "1                       13 Inches   NaN   NaN   \n",
       "2                     15.6 Inches   NaN   NaN   \n",
       "3                       14 Inches   NaN   NaN   \n",
       "4                     15.6 Inches   NaN   NaN   \n",
       "...                           ...   ...   ...   \n",
       "2800                    14 Inches   NaN   NaN   \n",
       "2801                     1 Inches   NaN   NaN   \n",
       "2802                    14 Inches   NaN   NaN   \n",
       "2803                    14 Inches   NaN   NaN   \n",
       "2804                    15 Inches   NaN   NaN   \n",
       "\n",
       "                               Voltage Warranty Description  \\\n",
       "0                                  NaN                  NaN   \n",
       "1                                  NaN                  NaN   \n",
       "2                                  NaN                  NaN   \n",
       "3                                  NaN                  NaN   \n",
       "4                            220 volts                  NaN   \n",
       "...                                ...                  ...   \n",
       "2800                               NaN                  NaN   \n",
       "2801                               NaN                  NaN   \n",
       "2802                               NaN                  NaN   \n",
       "2803  220 volts_of_alternating_current                  NaN   \n",
       "2804                         240 volts                  NaN   \n",
       "\n",
       "            Wireless Type Wireless communication technologies  \\\n",
       "0               Bluetooth                                 NaN   \n",
       "1                     NaN                                 NaN   \n",
       "2                 802.11a                                 NaN   \n",
       "3                802.11ac                                 NaN   \n",
       "4                802.11ax                                 NaN   \n",
       "...                   ...                                 ...   \n",
       "2800            Bluetooth                                 NaN   \n",
       "2801                  NaN                                 NaN   \n",
       "2802            Bluetooth                                 NaN   \n",
       "2803  802.11bgn, 802.11ac                                 NaN   \n",
       "2804            Bluetooth                                 NaN   \n",
       "\n",
       "                                                   name  \n",
       "0     CHUWI Herobook Pro 14.1 inch Windows 10 Intel ...  \n",
       "1     CHUWI CoreBook Pro Windows 10 Laptop Computer,...  \n",
       "2     Lenovo IdeaPad 3 Intel i5-1035G1 Quad Core 12G...  \n",
       "3     Lenovo Chromebook S330 Laptop, 14-Inch FHD (19...  \n",
       "4     Acer Predator Helios 300 Gaming Laptop, Intel ...  \n",
       "...                                                 ...  \n",
       "2800  Dell Latitude 5410 14\" Notebook - Full HD - 19...  \n",
       "2801  TopSeller TC M720S SFF I5-9400 2.9G 8GB 256GB ...  \n",
       "2802  Lenovo ThinkPad T14 Laptop - 14\" IPS FHD Touch...  \n",
       "2803  Laptop 14 Inch, Winnovo N140, 6GB RAM, 128GB S...  \n",
       "2804  2020 15.6-inch Laptop 6G + 256G, Intel celeron...  \n",
       "\n",
       "[2805 rows x 65 columns]"
      ],
      "text/html": "<div>\n<style scoped>\n    .dataframe tbody tr th:only-of-type {\n        vertical-align: middle;\n    }\n\n    .dataframe tbody tr th {\n        vertical-align: top;\n    }\n\n    .dataframe thead th {\n        text-align: right;\n    }\n</style>\n<table border=\"1\" class=\"dataframe\">\n  <thead>\n    <tr style=\"text-align: right;\">\n      <th></th>\n      <th>ASIN</th>\n      <th>Audio-out Ports (#)</th>\n      <th>Average Battery Life (in hours)</th>\n      <th>Batteries</th>\n      <th>Batteries Required</th>\n      <th>Batteries Required?</th>\n      <th>Battery Description</th>\n      <th>Best Sellers Rank</th>\n      <th>Brand</th>\n      <th>Card Description</th>\n      <th>...</th>\n      <th>Size</th>\n      <th>Specific Uses For Product</th>\n      <th>Standing screen display size</th>\n      <th>Style</th>\n      <th>Usage</th>\n      <th>Voltage</th>\n      <th>Warranty Description</th>\n      <th>Wireless Type</th>\n      <th>Wireless communication technologies</th>\n      <th>name</th>\n    </tr>\n  </thead>\n  <tbody>\n    <tr>\n      <th>0</th>\n      <td>B085XRL3P1</td>\n      <td>NaN</td>\n      <td>5 \\tyears</td>\n      <td>NaN</td>\n      <td>NaN</td>\n      <td>NaN</td>\n      <td>NaN</td>\n      <td>#1,853 in Computers &amp; Accessories ( See Top 10...</td>\n      <td>CHUWI</td>\n      <td>Integrated</td>\n      <td>...</td>\n      <td>NaN</td>\n      <td>NaN</td>\n      <td>14.1 Inches</td>\n      <td>NaN</td>\n      <td>NaN</td>\n      <td>NaN</td>\n      <td>NaN</td>\n      <td>Bluetooth</td>\n      <td>NaN</td>\n      <td>CHUWI Herobook Pro 14.1 inch Windows 10 Intel ...</td>\n    </tr>\n    <tr>\n      <th>1</th>\n      <td>B08CDM3XPJ</td>\n      <td>NaN</td>\n      <td>NaN</td>\n      <td>NaN</td>\n      <td>NaN</td>\n      <td>NaN</td>\n      <td>NaN</td>\n      <td>#14,505 in Computers &amp; Accessories ( See Top 1...</td>\n      <td>CHUWI</td>\n      <td>NaN</td>\n      <td>...</td>\n      <td>NaN</td>\n      <td>NaN</td>\n      <td>13 Inches</td>\n      <td>NaN</td>\n      <td>NaN</td>\n      <td>NaN</td>\n      <td>NaN</td>\n      <td>NaN</td>\n      <td>NaN</td>\n      <td>CHUWI CoreBook Pro Windows 10 Laptop Computer,...</td>\n    </tr>\n    <tr>\n      <th>2</th>\n      <td>B08NXSJVCR</td>\n      <td>NaN</td>\n      <td>NaN</td>\n      <td>1 Lithium Polymer batteries required. (included)</td>\n      <td>NaN</td>\n      <td>NaN</td>\n      <td>NaN</td>\n      <td>#212 in Computers &amp; Accessories ( See Top 100 ...</td>\n      <td>Lenovo</td>\n      <td>Dedicated</td>\n      <td>...</td>\n      <td>NaN</td>\n      <td>NaN</td>\n      <td>15.6 Inches</td>\n      <td>NaN</td>\n      <td>NaN</td>\n      <td>NaN</td>\n      <td>NaN</td>\n      <td>802.11a</td>\n      <td>NaN</td>\n      <td>Lenovo IdeaPad 3 Intel i5-1035G1 Quad Core 12G...</td>\n    </tr>\n    <tr>\n      <th>3</th>\n      <td>B07GLV1VC7</td>\n      <td>NaN</td>\n      <td>10 Hours</td>\n      <td>1 Lithium Polymer batteries required. (included)</td>\n      <td>NaN</td>\n      <td>NaN</td>\n      <td>NaN</td>\n      <td>#372 in Computers &amp; Accessories ( See Top 100 ...</td>\n      <td>Lenovo</td>\n      <td>Integrated</td>\n      <td>...</td>\n      <td>NaN</td>\n      <td>NaN</td>\n      <td>14 Inches</td>\n      <td>NaN</td>\n      <td>NaN</td>\n      <td>NaN</td>\n      <td>NaN</td>\n      <td>802.11ac</td>\n      <td>NaN</td>\n      <td>Lenovo Chromebook S330 Laptop, 14-Inch FHD (19...</td>\n    </tr>\n    <tr>\n      <th>4</th>\n      <td>B08842D7JS</td>\n      <td>NaN</td>\n      <td>6 Hours</td>\n      <td>1 Lithium ion batteries required. (included)</td>\n      <td>NaN</td>\n      <td>NaN</td>\n      <td>NaN</td>\n      <td>#146 in Computers &amp; Accessories ( See Top 100 ...</td>\n      <td>Acer</td>\n      <td>RTX 2060</td>\n      <td>...</td>\n      <td>NaN</td>\n      <td>NaN</td>\n      <td>15.6 Inches</td>\n      <td>NaN</td>\n      <td>NaN</td>\n      <td>220 volts</td>\n      <td>NaN</td>\n      <td>802.11ax</td>\n      <td>NaN</td>\n      <td>Acer Predator Helios 300 Gaming Laptop, Intel ...</td>\n    </tr>\n    <tr>\n      <th>...</th>\n      <td>...</td>\n      <td>...</td>\n      <td>...</td>\n      <td>...</td>\n      <td>...</td>\n      <td>...</td>\n      <td>...</td>\n      <td>...</td>\n      <td>...</td>\n      <td>...</td>\n      <td>...</td>\n      <td>...</td>\n      <td>...</td>\n      <td>...</td>\n      <td>...</td>\n      <td>...</td>\n      <td>...</td>\n      <td>...</td>\n      <td>...</td>\n      <td>...</td>\n      <td>...</td>\n    </tr>\n    <tr>\n      <th>2800</th>\n      <td>B08L8KW3ZM</td>\n      <td>NaN</td>\n      <td>NaN</td>\n      <td>NaN</td>\n      <td>NaN</td>\n      <td>NaN</td>\n      <td>NaN</td>\n      <td>#579,675 in Computers &amp; Accessories ( See Top ...</td>\n      <td>Dell</td>\n      <td>Integrated</td>\n      <td>...</td>\n      <td>NaN</td>\n      <td>NaN</td>\n      <td>14 Inches</td>\n      <td>NaN</td>\n      <td>NaN</td>\n      <td>NaN</td>\n      <td>NaN</td>\n      <td>Bluetooth</td>\n      <td>NaN</td>\n      <td>Dell Latitude 5410 14\" Notebook - Full HD - 19...</td>\n    </tr>\n    <tr>\n      <th>2801</th>\n      <td>B082RD3STD</td>\n      <td>NaN</td>\n      <td>NaN</td>\n      <td>NaN</td>\n      <td>NaN</td>\n      <td>NaN</td>\n      <td>NaN</td>\n      <td>#47,707 in Computers &amp; Accessories ( See Top 1...</td>\n      <td>Lenovo</td>\n      <td>Integrated</td>\n      <td>...</td>\n      <td>NaN</td>\n      <td>NaN</td>\n      <td>1 Inches</td>\n      <td>NaN</td>\n      <td>NaN</td>\n      <td>NaN</td>\n      <td>NaN</td>\n      <td>NaN</td>\n      <td>NaN</td>\n      <td>TopSeller TC M720S SFF I5-9400 2.9G 8GB 256GB ...</td>\n    </tr>\n    <tr>\n      <th>2802</th>\n      <td>B0844KPGNF</td>\n      <td>NaN</td>\n      <td>NaN</td>\n      <td>1 9V batteries required. (included)</td>\n      <td>NaN</td>\n      <td>NaN</td>\n      <td>NaN</td>\n      <td>#310,265 in Computers &amp; Accessories ( See Top ...</td>\n      <td>Lenovo</td>\n      <td>NaN</td>\n      <td>...</td>\n      <td>NaN</td>\n      <td>NaN</td>\n      <td>14 Inches</td>\n      <td>NaN</td>\n      <td>NaN</td>\n      <td>NaN</td>\n      <td>NaN</td>\n      <td>Bluetooth</td>\n      <td>NaN</td>\n      <td>Lenovo ThinkPad T14 Laptop - 14\" IPS FHD Touch...</td>\n    </tr>\n    <tr>\n      <th>2803</th>\n      <td>B08JBVT48L</td>\n      <td>NaN</td>\n      <td>NaN</td>\n      <td>1 Lithium Polymer batteries required. (included)</td>\n      <td>NaN</td>\n      <td>NaN</td>\n      <td>NaN</td>\n      <td>#4,479 in Computers &amp; Accessories ( See Top 10...</td>\n      <td>Winnovo</td>\n      <td>Integrated</td>\n      <td>...</td>\n      <td>NaN</td>\n      <td>NaN</td>\n      <td>14 Inches</td>\n      <td>NaN</td>\n      <td>NaN</td>\n      <td>220 volts_of_alternating_current</td>\n      <td>NaN</td>\n      <td>802.11bgn, 802.11ac</td>\n      <td>NaN</td>\n      <td>Laptop 14 Inch, Winnovo N140, 6GB RAM, 128GB S...</td>\n    </tr>\n    <tr>\n      <th>2804</th>\n      <td>B08N63ZSV7</td>\n      <td>NaN</td>\n      <td>NaN</td>\n      <td>NaN</td>\n      <td>NaN</td>\n      <td>NaN</td>\n      <td>NaN</td>\n      <td>#29,104 in Computers &amp; Accessories ( See Top 1...</td>\n      <td>XINYANGCH</td>\n      <td>NaN</td>\n      <td>...</td>\n      <td>NaN</td>\n      <td>NaN</td>\n      <td>15 Inches</td>\n      <td>NaN</td>\n      <td>NaN</td>\n      <td>240 volts</td>\n      <td>NaN</td>\n      <td>Bluetooth</td>\n      <td>NaN</td>\n      <td>2020 15.6-inch Laptop 6G + 256G, Intel celeron...</td>\n    </tr>\n  </tbody>\n</table>\n<p>2805 rows × 65 columns</p>\n</div>"
     },
     "metadata": {},
     "execution_count": 61
    }
   ],
   "source": [
    "merge = pd.concat([new, m_3, m_4], axis=1)\n",
    "m_new = merge.groupby(merge.columns,axis=1).first()\n",
    "m_new"
   ]
  },
  {
   "cell_type": "code",
   "execution_count": 62,
   "metadata": {},
   "outputs": [
    {
     "output_type": "execute_result",
     "data": {
      "text/plain": [
       "ASIN                                                                          B08KRJNN83\n",
       "Audio-out Ports (#)                                                                  NaN\n",
       "Average Battery Life (in hours)                                                      NaN\n",
       "Batteries                                                                            NaN\n",
       "Batteries Required                                                                   NaN\n",
       "                                                             ...                        \n",
       "Voltage                                                                              NaN\n",
       "Warranty Description                                                                 NaN\n",
       "Wireless Type                                                                  Bluetooth\n",
       "Wireless communication technologies                                                  NaN\n",
       "name                                   OEM Lenovo ThinkPad T490 Laptop 14” WQHD IPS D...\n",
       "Name: 20, Length: 65, dtype: object"
      ]
     },
     "metadata": {},
     "execution_count": 62
    }
   ],
   "source": [
    "m_new.iloc[20]"
   ]
  },
  {
   "cell_type": "code",
   "execution_count": 63,
   "metadata": {},
   "outputs": [
    {
     "output_type": "execute_result",
     "data": {
      "text/plain": [
       "['ASIN',\n",
       " 'Audio-out Ports (#)',\n",
       " 'Average Battery Life (in hours)',\n",
       " 'Batteries',\n",
       " 'Batteries Required',\n",
       " 'Batteries Required?',\n",
       " 'Battery Description',\n",
       " 'Best Sellers Rank',\n",
       " 'Brand',\n",
       " 'Card Description',\n",
       " 'Chipset Brand',\n",
       " 'Color',\n",
       " 'Colour',\n",
       " 'Computer Memory Type',\n",
       " 'Customer Reviews',\n",
       " 'Date First Available',\n",
       " 'Device interface - primary',\n",
       " 'Display Style',\n",
       " 'Display resolution',\n",
       " 'Display technology',\n",
       " 'Flash Memory Size',\n",
       " 'Form Factor',\n",
       " 'GPU',\n",
       " 'Graphics Card Ram Size',\n",
       " 'Graphics Coprocessor',\n",
       " 'Hard Drive Interface',\n",
       " 'Hard Drive Rotational Speed',\n",
       " 'Hardware Platform',\n",
       " 'Included Components',\n",
       " 'Is Discontinued By Manufacturer',\n",
       " 'Item Dimensions  LxWxH',\n",
       " 'Item Package Quantity',\n",
       " 'Item Weight',\n",
       " 'Item model number',\n",
       " 'Manufacturer',\n",
       " 'Max Screen Resolution',\n",
       " 'Memory Speed',\n",
       " 'National Stock Number',\n",
       " 'Number of USB 2.0 Ports',\n",
       " 'Number of USB 3.0 Ports',\n",
       " 'OS',\n",
       " 'Operating System',\n",
       " 'Optical Drive Type',\n",
       " 'Other camera features',\n",
       " 'Other display features',\n",
       " 'Package Dimensions',\n",
       " 'Part Number',\n",
       " 'Power Source',\n",
       " 'Processor Brand',\n",
       " 'Processor Count',\n",
       " 'Product Dimensions',\n",
       " 'RAM',\n",
       " 'Rear Webcam Resolution',\n",
       " 'Screen Resolution',\n",
       " 'Series',\n",
       " 'Size',\n",
       " 'Specific Uses For Product',\n",
       " 'Standing screen display size',\n",
       " 'Style',\n",
       " 'Usage',\n",
       " 'Voltage',\n",
       " 'Warranty Description',\n",
       " 'Wireless Type',\n",
       " 'Wireless communication technologies',\n",
       " 'name']"
      ]
     },
     "metadata": {},
     "execution_count": 63
    }
   ],
   "source": [
    "list(m_new.columns.values)"
   ]
  },
  {
   "cell_type": "code",
   "execution_count": 64,
   "metadata": {},
   "outputs": [
    {
     "output_type": "execute_result",
     "data": {
      "text/plain": [
       "            ASIN                                               name  \\\n",
       "0     B085XRL3P1  CHUWI Herobook Pro 14.1 inch Windows 10 Intel ...   \n",
       "1     B08CDM3XPJ  CHUWI CoreBook Pro Windows 10 Laptop Computer,...   \n",
       "2     B08NXSJVCR  Lenovo IdeaPad 3 Intel i5-1035G1 Quad Core 12G...   \n",
       "3     B07GLV1VC7  Lenovo Chromebook S330 Laptop, 14-Inch FHD (19...   \n",
       "4     B08842D7JS  Acer Predator Helios 300 Gaming Laptop, Intel ...   \n",
       "...          ...                                                ...   \n",
       "2800  B08L8KW3ZM  Dell Latitude 5410 14\" Notebook - Full HD - 19...   \n",
       "2801  B082RD3STD  TopSeller TC M720S SFF I5-9400 2.9G 8GB 256GB ...   \n",
       "2802  B0844KPGNF  Lenovo ThinkPad T14 Laptop - 14\" IPS FHD Touch...   \n",
       "2803  B08JBVT48L  Laptop 14 Inch, Winnovo N140, 6GB RAM, 128GB S...   \n",
       "2804  B08N63ZSV7  2020 15.6-inch Laptop 6G + 256G, Intel celeron...   \n",
       "\n",
       "          Brand Manufacturer  \\\n",
       "0         CHUWI          NaN   \n",
       "1         CHUWI          NaN   \n",
       "2        Lenovo          NaN   \n",
       "3        Lenovo          NaN   \n",
       "4          Acer          NaN   \n",
       "...         ...          ...   \n",
       "2800       Dell          NaN   \n",
       "2801     Lenovo          NaN   \n",
       "2802     Lenovo          NaN   \n",
       "2803    Winnovo          NaN   \n",
       "2804  XINYANGCH          NaN   \n",
       "\n",
       "                                      Best Sellers Rank  \\\n",
       "0     #1,853 in Computers & Accessories ( See Top 10...   \n",
       "1     #14,505 in Computers & Accessories ( See Top 1...   \n",
       "2     #212 in Computers & Accessories ( See Top 100 ...   \n",
       "3     #372 in Computers & Accessories ( See Top 100 ...   \n",
       "4     #146 in Computers & Accessories ( See Top 100 ...   \n",
       "...                                                 ...   \n",
       "2800  #579,675 in Computers & Accessories ( See Top ...   \n",
       "2801  #47,707 in Computers & Accessories ( See Top 1...   \n",
       "2802  #310,265 in Computers & Accessories ( See Top ...   \n",
       "2803  #4,479 in Computers & Accessories ( See Top 10...   \n",
       "2804  #29,104 in Computers & Accessories ( See Top 1...   \n",
       "\n",
       "              Product Dimensions          Package Dimensions  Item Weight  \\\n",
       "0     13.07 x 8.43 x 0.84 inches                         NaN  3.06 pounds   \n",
       "1      1.14 x 0.87 x 0.71 inches                         NaN  4.38 pounds   \n",
       "2     14.26 x 9.98 x 0.78 inches                         NaN     7 ounces   \n",
       "3     12.82 x 0.82 x 9.15 inches                         NaN   3.3 pounds   \n",
       "4     14.31 x 10.04 x 0.9 inches                         NaN  5.07 pounds   \n",
       "...                          ...                         ...          ...   \n",
       "2800   8.5 x 12.72 x 0.83 inches                         NaN  3.26 pounds   \n",
       "2801    11.4 x 3.6 x 13.5 inches                         NaN  13.2 pounds   \n",
       "2802   12.95 x 8.94 x 0.7 inches                         NaN   3.4 pounds   \n",
       "2803                         NaN  14.21 x 9.96 x 2.91 inches  4.37 pounds   \n",
       "2804                         NaN  18.94 x 11.5 x 2.36 inches  3.96 pounds   \n",
       "\n",
       "     Date First Available Is Discontinued By Manufacturer  ...  \\\n",
       "0          March 11, 2020                             NaN  ...   \n",
       "1           June 30, 2020                             NaN  ...   \n",
       "2       November 20, 2020                             NaN  ...   \n",
       "3          August 9, 2018                             NaN  ...   \n",
       "4           June 16, 2020                             NaN  ...   \n",
       "...                   ...                             ...  ...   \n",
       "2800     October 16, 2020                             NaN  ...   \n",
       "2801    December 14, 2019                             NaN  ...   \n",
       "2802     January 22, 2020                             NaN  ...   \n",
       "2803     November 8, 2020                             NaN  ...   \n",
       "2804     December 4, 2019                             NaN  ...   \n",
       "\n",
       "               Graphics Coprocessor Number of USB 2.0 Ports  \\\n",
       "0     Intel Celeron Processor N4000                     NaN   \n",
       "1                               NaN                     NaN   \n",
       "2                Intel UHD Graphics                       1   \n",
       "3                               NaN                     NaN   \n",
       "4           NVIDIA GeForce RTX 2060                     NaN   \n",
       "...                             ...                     ...   \n",
       "2800         Intel UHD Graphics 620                     NaN   \n",
       "2801         Intel UHD Graphics 630                       2   \n",
       "2802  Integrated Intel UHD Graphics                     NaN   \n",
       "2803           Intel HD Graphic 500                     NaN   \n",
       "2804                      1920*1080                     NaN   \n",
       "\n",
       "     Number of USB 3.0 Ports Computer Memory Type Processor Brand  \\\n",
       "0                        NaN           DDR4 SDRAM           Intel   \n",
       "1                        NaN           DDR4 SDRAM           Intel   \n",
       "2                        NaN           DDR4 SDRAM           Intel   \n",
       "3                          1              Unknown        Mediatek   \n",
       "4                          3           DDR4 SDRAM           Intel   \n",
       "...                      ...                  ...             ...   \n",
       "2800                     NaN                  NaN           Intel   \n",
       "2801                       3              Unknown           Intel   \n",
       "2802                     NaN           DDR4 SDRAM           Intel   \n",
       "2803                     NaN           DDR3 SDRAM           Intel   \n",
       "2804                     NaN           DDR3 SDRAM           Intel   \n",
       "\n",
       "     Processor Count Memory Speed Hard Drive Interface Hardware Platform  \\\n",
       "0                  4          NaN                ATA-4                PC   \n",
       "1                  2          NaN          Solid State                PC   \n",
       "2                  2      3.9 GHz          Solid State                PC   \n",
       "3                  4          NaN          Solid State            Chrome   \n",
       "4                  6     2933 MHz     Gigabit Ethernet               NaN   \n",
       "...              ...          ...                  ...               ...   \n",
       "2800               1          NaN          Solid State                PC   \n",
       "2801               1          NaN              Unknown               NaN   \n",
       "2802               4      1.8 GHz                ESATA                PC   \n",
       "2803               2          NaN              USB 3.0                PC   \n",
       "2804               4      2.3 GHz                  ATA                PC   \n",
       "\n",
       "     Flash Memory Size  \n",
       "0               256 GB  \n",
       "1                  NaN  \n",
       "2               256 GB  \n",
       "3                   64  \n",
       "4                  512  \n",
       "...                ...  \n",
       "2800               256  \n",
       "2801               256  \n",
       "2802            256 GB  \n",
       "2803            128 GB  \n",
       "2804            256 GB  \n",
       "\n",
       "[2805 rows x 33 columns]"
      ],
      "text/html": "<div>\n<style scoped>\n    .dataframe tbody tr th:only-of-type {\n        vertical-align: middle;\n    }\n\n    .dataframe tbody tr th {\n        vertical-align: top;\n    }\n\n    .dataframe thead th {\n        text-align: right;\n    }\n</style>\n<table border=\"1\" class=\"dataframe\">\n  <thead>\n    <tr style=\"text-align: right;\">\n      <th></th>\n      <th>ASIN</th>\n      <th>name</th>\n      <th>Brand</th>\n      <th>Manufacturer</th>\n      <th>Best Sellers Rank</th>\n      <th>Product Dimensions</th>\n      <th>Package Dimensions</th>\n      <th>Item Weight</th>\n      <th>Date First Available</th>\n      <th>Is Discontinued By Manufacturer</th>\n      <th>...</th>\n      <th>Graphics Coprocessor</th>\n      <th>Number of USB 2.0 Ports</th>\n      <th>Number of USB 3.0 Ports</th>\n      <th>Computer Memory Type</th>\n      <th>Processor Brand</th>\n      <th>Processor Count</th>\n      <th>Memory Speed</th>\n      <th>Hard Drive Interface</th>\n      <th>Hardware Platform</th>\n      <th>Flash Memory Size</th>\n    </tr>\n  </thead>\n  <tbody>\n    <tr>\n      <th>0</th>\n      <td>B085XRL3P1</td>\n      <td>CHUWI Herobook Pro 14.1 inch Windows 10 Intel ...</td>\n      <td>CHUWI</td>\n      <td>NaN</td>\n      <td>#1,853 in Computers &amp; Accessories ( See Top 10...</td>\n      <td>13.07 x 8.43 x 0.84 inches</td>\n      <td>NaN</td>\n      <td>3.06 pounds</td>\n      <td>March 11, 2020</td>\n      <td>NaN</td>\n      <td>...</td>\n      <td>Intel Celeron Processor N4000</td>\n      <td>NaN</td>\n      <td>NaN</td>\n      <td>DDR4 SDRAM</td>\n      <td>Intel</td>\n      <td>4</td>\n      <td>NaN</td>\n      <td>ATA-4</td>\n      <td>PC</td>\n      <td>256 GB</td>\n    </tr>\n    <tr>\n      <th>1</th>\n      <td>B08CDM3XPJ</td>\n      <td>CHUWI CoreBook Pro Windows 10 Laptop Computer,...</td>\n      <td>CHUWI</td>\n      <td>NaN</td>\n      <td>#14,505 in Computers &amp; Accessories ( See Top 1...</td>\n      <td>1.14 x 0.87 x 0.71 inches</td>\n      <td>NaN</td>\n      <td>4.38 pounds</td>\n      <td>June 30, 2020</td>\n      <td>NaN</td>\n      <td>...</td>\n      <td>NaN</td>\n      <td>NaN</td>\n      <td>NaN</td>\n      <td>DDR4 SDRAM</td>\n      <td>Intel</td>\n      <td>2</td>\n      <td>NaN</td>\n      <td>Solid State</td>\n      <td>PC</td>\n      <td>NaN</td>\n    </tr>\n    <tr>\n      <th>2</th>\n      <td>B08NXSJVCR</td>\n      <td>Lenovo IdeaPad 3 Intel i5-1035G1 Quad Core 12G...</td>\n      <td>Lenovo</td>\n      <td>NaN</td>\n      <td>#212 in Computers &amp; Accessories ( See Top 100 ...</td>\n      <td>14.26 x 9.98 x 0.78 inches</td>\n      <td>NaN</td>\n      <td>7 ounces</td>\n      <td>November 20, 2020</td>\n      <td>NaN</td>\n      <td>...</td>\n      <td>Intel UHD Graphics</td>\n      <td>1</td>\n      <td>NaN</td>\n      <td>DDR4 SDRAM</td>\n      <td>Intel</td>\n      <td>2</td>\n      <td>3.9 GHz</td>\n      <td>Solid State</td>\n      <td>PC</td>\n      <td>256 GB</td>\n    </tr>\n    <tr>\n      <th>3</th>\n      <td>B07GLV1VC7</td>\n      <td>Lenovo Chromebook S330 Laptop, 14-Inch FHD (19...</td>\n      <td>Lenovo</td>\n      <td>NaN</td>\n      <td>#372 in Computers &amp; Accessories ( See Top 100 ...</td>\n      <td>12.82 x 0.82 x 9.15 inches</td>\n      <td>NaN</td>\n      <td>3.3 pounds</td>\n      <td>August 9, 2018</td>\n      <td>NaN</td>\n      <td>...</td>\n      <td>NaN</td>\n      <td>NaN</td>\n      <td>1</td>\n      <td>Unknown</td>\n      <td>Mediatek</td>\n      <td>4</td>\n      <td>NaN</td>\n      <td>Solid State</td>\n      <td>Chrome</td>\n      <td>64</td>\n    </tr>\n    <tr>\n      <th>4</th>\n      <td>B08842D7JS</td>\n      <td>Acer Predator Helios 300 Gaming Laptop, Intel ...</td>\n      <td>Acer</td>\n      <td>NaN</td>\n      <td>#146 in Computers &amp; Accessories ( See Top 100 ...</td>\n      <td>14.31 x 10.04 x 0.9 inches</td>\n      <td>NaN</td>\n      <td>5.07 pounds</td>\n      <td>June 16, 2020</td>\n      <td>NaN</td>\n      <td>...</td>\n      <td>NVIDIA GeForce RTX 2060</td>\n      <td>NaN</td>\n      <td>3</td>\n      <td>DDR4 SDRAM</td>\n      <td>Intel</td>\n      <td>6</td>\n      <td>2933 MHz</td>\n      <td>Gigabit Ethernet</td>\n      <td>NaN</td>\n      <td>512</td>\n    </tr>\n    <tr>\n      <th>...</th>\n      <td>...</td>\n      <td>...</td>\n      <td>...</td>\n      <td>...</td>\n      <td>...</td>\n      <td>...</td>\n      <td>...</td>\n      <td>...</td>\n      <td>...</td>\n      <td>...</td>\n      <td>...</td>\n      <td>...</td>\n      <td>...</td>\n      <td>...</td>\n      <td>...</td>\n      <td>...</td>\n      <td>...</td>\n      <td>...</td>\n      <td>...</td>\n      <td>...</td>\n      <td>...</td>\n    </tr>\n    <tr>\n      <th>2800</th>\n      <td>B08L8KW3ZM</td>\n      <td>Dell Latitude 5410 14\" Notebook - Full HD - 19...</td>\n      <td>Dell</td>\n      <td>NaN</td>\n      <td>#579,675 in Computers &amp; Accessories ( See Top ...</td>\n      <td>8.5 x 12.72 x 0.83 inches</td>\n      <td>NaN</td>\n      <td>3.26 pounds</td>\n      <td>October 16, 2020</td>\n      <td>NaN</td>\n      <td>...</td>\n      <td>Intel UHD Graphics 620</td>\n      <td>NaN</td>\n      <td>NaN</td>\n      <td>NaN</td>\n      <td>Intel</td>\n      <td>1</td>\n      <td>NaN</td>\n      <td>Solid State</td>\n      <td>PC</td>\n      <td>256</td>\n    </tr>\n    <tr>\n      <th>2801</th>\n      <td>B082RD3STD</td>\n      <td>TopSeller TC M720S SFF I5-9400 2.9G 8GB 256GB ...</td>\n      <td>Lenovo</td>\n      <td>NaN</td>\n      <td>#47,707 in Computers &amp; Accessories ( See Top 1...</td>\n      <td>11.4 x 3.6 x 13.5 inches</td>\n      <td>NaN</td>\n      <td>13.2 pounds</td>\n      <td>December 14, 2019</td>\n      <td>NaN</td>\n      <td>...</td>\n      <td>Intel UHD Graphics 630</td>\n      <td>2</td>\n      <td>3</td>\n      <td>Unknown</td>\n      <td>Intel</td>\n      <td>1</td>\n      <td>NaN</td>\n      <td>Unknown</td>\n      <td>NaN</td>\n      <td>256</td>\n    </tr>\n    <tr>\n      <th>2802</th>\n      <td>B0844KPGNF</td>\n      <td>Lenovo ThinkPad T14 Laptop - 14\" IPS FHD Touch...</td>\n      <td>Lenovo</td>\n      <td>NaN</td>\n      <td>#310,265 in Computers &amp; Accessories ( See Top ...</td>\n      <td>12.95 x 8.94 x 0.7 inches</td>\n      <td>NaN</td>\n      <td>3.4 pounds</td>\n      <td>January 22, 2020</td>\n      <td>NaN</td>\n      <td>...</td>\n      <td>Integrated Intel UHD Graphics</td>\n      <td>NaN</td>\n      <td>NaN</td>\n      <td>DDR4 SDRAM</td>\n      <td>Intel</td>\n      <td>4</td>\n      <td>1.8 GHz</td>\n      <td>ESATA</td>\n      <td>PC</td>\n      <td>256 GB</td>\n    </tr>\n    <tr>\n      <th>2803</th>\n      <td>B08JBVT48L</td>\n      <td>Laptop 14 Inch, Winnovo N140, 6GB RAM, 128GB S...</td>\n      <td>Winnovo</td>\n      <td>NaN</td>\n      <td>#4,479 in Computers &amp; Accessories ( See Top 10...</td>\n      <td>NaN</td>\n      <td>14.21 x 9.96 x 2.91 inches</td>\n      <td>4.37 pounds</td>\n      <td>November 8, 2020</td>\n      <td>NaN</td>\n      <td>...</td>\n      <td>Intel HD Graphic 500</td>\n      <td>NaN</td>\n      <td>NaN</td>\n      <td>DDR3 SDRAM</td>\n      <td>Intel</td>\n      <td>2</td>\n      <td>NaN</td>\n      <td>USB 3.0</td>\n      <td>PC</td>\n      <td>128 GB</td>\n    </tr>\n    <tr>\n      <th>2804</th>\n      <td>B08N63ZSV7</td>\n      <td>2020 15.6-inch Laptop 6G + 256G, Intel celeron...</td>\n      <td>XINYANGCH</td>\n      <td>NaN</td>\n      <td>#29,104 in Computers &amp; Accessories ( See Top 1...</td>\n      <td>NaN</td>\n      <td>18.94 x 11.5 x 2.36 inches</td>\n      <td>3.96 pounds</td>\n      <td>December 4, 2019</td>\n      <td>NaN</td>\n      <td>...</td>\n      <td>1920*1080</td>\n      <td>NaN</td>\n      <td>NaN</td>\n      <td>DDR3 SDRAM</td>\n      <td>Intel</td>\n      <td>4</td>\n      <td>2.3 GHz</td>\n      <td>ATA</td>\n      <td>PC</td>\n      <td>256 GB</td>\n    </tr>\n  </tbody>\n</table>\n<p>2805 rows × 33 columns</p>\n</div>"
     },
     "metadata": {},
     "execution_count": 64
    }
   ],
   "source": [
    "m_new = m_new[['ASIN','name','Brand','Manufacturer','Best Sellers Rank','Product Dimensions','Package Dimensions','Item Weight','Date First Available','Is Discontinued By Manufacturer','Item model number','Average Battery Life (in hours)','Batteries','Card Description','Chipset Brand','Voltage','Series','National Stock Number','Wireless Type','Max Screen Resolution', 'Standing screen display size','Operating System','Color','Graphics Coprocessor','Number of USB 2.0 Ports', 'Number of USB 3.0 Ports','Computer Memory Type','Processor Brand','Processor Count','Memory Speed','Hard Drive Interface','Hardware Platform','Flash Memory Size']]\n",
    "m_new"
   ]
  },
  {
   "cell_type": "code",
   "execution_count": 65,
   "metadata": {},
   "outputs": [],
   "source": [
    "m_new['Brand'].fillna(m_new['Manufacturer'], inplace=True)\n",
    "del m_new['Manufacturer']"
   ]
  },
  {
   "cell_type": "code",
   "execution_count": 66,
   "metadata": {},
   "outputs": [],
   "source": [
    "m_new['Best_Sellers_Rank_fields'] = m_new['Best Sellers Rank'].str.split('(').str[0]\n",
    "m_new['Best Sellers Rank'] = m_new['Best_Sellers_Rank_fields']\n",
    "m_new['Best_Sellers_Rank_1'] = m_new['Best Sellers Rank'].str.split('in').str[0]\n",
    "m_new['Best Sellers Rank'] = m_new['Best_Sellers_Rank_1']\n",
    "m_new['Best_Sellers_Rank_fields_1'] = m_new['Best_Sellers_Rank_fields'].str.split('in').str[1]\n",
    "m_new['Best_Sellers_Rank_fields'] = m_new['Best_Sellers_Rank_fields_1']\n",
    "m_new.drop(['Best_Sellers_Rank_1', 'Best_Sellers_Rank_fields_1'], axis=1, inplace=True)\n",
    "m_new['Best Sellers Rank'] = m_new['Best Sellers Rank'].str.replace('#', '').str.replace(',', '')"
   ]
  },
  {
   "cell_type": "code",
   "execution_count": 67,
   "metadata": {},
   "outputs": [],
   "source": [
    "m_new['Best Sellers Rank'] = m_new['Best Sellers Rank'].str.strip()\n",
    "m_new['Best Sellers Rank'] = pd.to_numeric(m_new['Best Sellers Rank'])\n",
    "m_new['Best Sellers Rank'].fillna(0, inplace= True)\n",
    "m_new['Best Sellers Rank'] = m_new['Best Sellers Rank'].astype('int')"
   ]
  },
  {
   "cell_type": "code",
   "execution_count": 68,
   "metadata": {},
   "outputs": [
    {
     "output_type": "execute_result",
     "data": {
      "text/plain": [
       "            ASIN                                               name  \\\n",
       "0     B085XRL3P1  CHUWI Herobook Pro 14.1 inch Windows 10 Intel ...   \n",
       "1     B08CDM3XPJ  CHUWI CoreBook Pro Windows 10 Laptop Computer,...   \n",
       "2     B08NXSJVCR  Lenovo IdeaPad 3 Intel i5-1035G1 Quad Core 12G...   \n",
       "3     B07GLV1VC7  Lenovo Chromebook S330 Laptop, 14-Inch FHD (19...   \n",
       "4     B08842D7JS  Acer Predator Helios 300 Gaming Laptop, Intel ...   \n",
       "...          ...                                                ...   \n",
       "2800  B08L8KW3ZM  Dell Latitude 5410 14\" Notebook - Full HD - 19...   \n",
       "2801  B082RD3STD  TopSeller TC M720S SFF I5-9400 2.9G 8GB 256GB ...   \n",
       "2802  B0844KPGNF  Lenovo ThinkPad T14 Laptop - 14\" IPS FHD Touch...   \n",
       "2803  B08JBVT48L  Laptop 14 Inch, Winnovo N140, 6GB RAM, 128GB S...   \n",
       "2804  B08N63ZSV7  2020 15.6-inch Laptop 6G + 256G, Intel celeron...   \n",
       "\n",
       "          Brand  Best Sellers Rank          Product Dimensions  \\\n",
       "0         CHUWI               1853  13.07 x 8.43 x 0.84 inches   \n",
       "1         CHUWI              14505   1.14 x 0.87 x 0.71 inches   \n",
       "2        Lenovo                212  14.26 x 9.98 x 0.78 inches   \n",
       "3        Lenovo                372  12.82 x 0.82 x 9.15 inches   \n",
       "4          Acer                146  14.31 x 10.04 x 0.9 inches   \n",
       "...         ...                ...                         ...   \n",
       "2800       Dell             579675   8.5 x 12.72 x 0.83 inches   \n",
       "2801     Lenovo              47707    11.4 x 3.6 x 13.5 inches   \n",
       "2802     Lenovo             310265   12.95 x 8.94 x 0.7 inches   \n",
       "2803    Winnovo               4479                         NaN   \n",
       "2804  XINYANGCH              29104                         NaN   \n",
       "\n",
       "              Package Dimensions  Item Weight Date First Available  \\\n",
       "0                            NaN  3.06 pounds       March 11, 2020   \n",
       "1                            NaN  4.38 pounds        June 30, 2020   \n",
       "2                            NaN     7 ounces    November 20, 2020   \n",
       "3                            NaN   3.3 pounds       August 9, 2018   \n",
       "4                            NaN  5.07 pounds        June 16, 2020   \n",
       "...                          ...          ...                  ...   \n",
       "2800                         NaN  3.26 pounds     October 16, 2020   \n",
       "2801                         NaN  13.2 pounds    December 14, 2019   \n",
       "2802                         NaN   3.4 pounds     January 22, 2020   \n",
       "2803  14.21 x 9.96 x 2.91 inches  4.37 pounds     November 8, 2020   \n",
       "2804  18.94 x 11.5 x 2.36 inches  3.96 pounds     December 4, 2019   \n",
       "\n",
       "     Is Discontinued By Manufacturer Item model number  ...  \\\n",
       "0                                NaN      Herobook Pro  ...   \n",
       "1                                NaN      CoreBook Pro  ...   \n",
       "2                                NaN        81WE00NKUS  ...   \n",
       "3                                NaN        81JW0000US  ...   \n",
       "4                                NaN     PH315-53-72XD  ...   \n",
       "...                              ...               ...  ...   \n",
       "2800                             NaN               NaN  ...   \n",
       "2801                             NaN        10ST008NUS  ...   \n",
       "2802                             NaN        20NYS6JB0F  ...   \n",
       "2803                             NaN      Winnovo N140  ...   \n",
       "2804                             NaN              N15C  ...   \n",
       "\n",
       "     Number of USB 2.0 Ports Number of USB 3.0 Ports Computer Memory Type  \\\n",
       "0                        NaN                     NaN           DDR4 SDRAM   \n",
       "1                        NaN                     NaN           DDR4 SDRAM   \n",
       "2                          1                     NaN           DDR4 SDRAM   \n",
       "3                        NaN                       1              Unknown   \n",
       "4                        NaN                       3           DDR4 SDRAM   \n",
       "...                      ...                     ...                  ...   \n",
       "2800                     NaN                     NaN                  NaN   \n",
       "2801                       2                       3              Unknown   \n",
       "2802                     NaN                     NaN           DDR4 SDRAM   \n",
       "2803                     NaN                     NaN           DDR3 SDRAM   \n",
       "2804                     NaN                     NaN           DDR3 SDRAM   \n",
       "\n",
       "     Processor Brand Processor Count Memory Speed Hard Drive Interface  \\\n",
       "0              Intel               4          NaN                ATA-4   \n",
       "1              Intel               2          NaN          Solid State   \n",
       "2              Intel               2      3.9 GHz          Solid State   \n",
       "3           Mediatek               4          NaN          Solid State   \n",
       "4              Intel               6     2933 MHz     Gigabit Ethernet   \n",
       "...              ...             ...          ...                  ...   \n",
       "2800           Intel               1          NaN          Solid State   \n",
       "2801           Intel               1          NaN              Unknown   \n",
       "2802           Intel               4      1.8 GHz                ESATA   \n",
       "2803           Intel               2          NaN              USB 3.0   \n",
       "2804           Intel               4      2.3 GHz                  ATA   \n",
       "\n",
       "     Hardware Platform Flash Memory Size   Best_Sellers_Rank_fields  \n",
       "0                   PC            256 GB   Computers & Accessories   \n",
       "1                   PC               NaN   Computers & Accessories   \n",
       "2                   PC            256 GB   Computers & Accessories   \n",
       "3               Chrome                64   Computers & Accessories   \n",
       "4                  NaN               512   Computers & Accessories   \n",
       "...                ...               ...                        ...  \n",
       "2800                PC               256   Computers & Accessories   \n",
       "2801               NaN               256   Computers & Accessories   \n",
       "2802                PC            256 GB   Computers & Accessories   \n",
       "2803                PC            128 GB   Computers & Accessories   \n",
       "2804                PC            256 GB   Computers & Accessories   \n",
       "\n",
       "[2805 rows x 33 columns]"
      ],
      "text/html": "<div>\n<style scoped>\n    .dataframe tbody tr th:only-of-type {\n        vertical-align: middle;\n    }\n\n    .dataframe tbody tr th {\n        vertical-align: top;\n    }\n\n    .dataframe thead th {\n        text-align: right;\n    }\n</style>\n<table border=\"1\" class=\"dataframe\">\n  <thead>\n    <tr style=\"text-align: right;\">\n      <th></th>\n      <th>ASIN</th>\n      <th>name</th>\n      <th>Brand</th>\n      <th>Best Sellers Rank</th>\n      <th>Product Dimensions</th>\n      <th>Package Dimensions</th>\n      <th>Item Weight</th>\n      <th>Date First Available</th>\n      <th>Is Discontinued By Manufacturer</th>\n      <th>Item model number</th>\n      <th>...</th>\n      <th>Number of USB 2.0 Ports</th>\n      <th>Number of USB 3.0 Ports</th>\n      <th>Computer Memory Type</th>\n      <th>Processor Brand</th>\n      <th>Processor Count</th>\n      <th>Memory Speed</th>\n      <th>Hard Drive Interface</th>\n      <th>Hardware Platform</th>\n      <th>Flash Memory Size</th>\n      <th>Best_Sellers_Rank_fields</th>\n    </tr>\n  </thead>\n  <tbody>\n    <tr>\n      <th>0</th>\n      <td>B085XRL3P1</td>\n      <td>CHUWI Herobook Pro 14.1 inch Windows 10 Intel ...</td>\n      <td>CHUWI</td>\n      <td>1853</td>\n      <td>13.07 x 8.43 x 0.84 inches</td>\n      <td>NaN</td>\n      <td>3.06 pounds</td>\n      <td>March 11, 2020</td>\n      <td>NaN</td>\n      <td>Herobook Pro</td>\n      <td>...</td>\n      <td>NaN</td>\n      <td>NaN</td>\n      <td>DDR4 SDRAM</td>\n      <td>Intel</td>\n      <td>4</td>\n      <td>NaN</td>\n      <td>ATA-4</td>\n      <td>PC</td>\n      <td>256 GB</td>\n      <td>Computers &amp; Accessories</td>\n    </tr>\n    <tr>\n      <th>1</th>\n      <td>B08CDM3XPJ</td>\n      <td>CHUWI CoreBook Pro Windows 10 Laptop Computer,...</td>\n      <td>CHUWI</td>\n      <td>14505</td>\n      <td>1.14 x 0.87 x 0.71 inches</td>\n      <td>NaN</td>\n      <td>4.38 pounds</td>\n      <td>June 30, 2020</td>\n      <td>NaN</td>\n      <td>CoreBook Pro</td>\n      <td>...</td>\n      <td>NaN</td>\n      <td>NaN</td>\n      <td>DDR4 SDRAM</td>\n      <td>Intel</td>\n      <td>2</td>\n      <td>NaN</td>\n      <td>Solid State</td>\n      <td>PC</td>\n      <td>NaN</td>\n      <td>Computers &amp; Accessories</td>\n    </tr>\n    <tr>\n      <th>2</th>\n      <td>B08NXSJVCR</td>\n      <td>Lenovo IdeaPad 3 Intel i5-1035G1 Quad Core 12G...</td>\n      <td>Lenovo</td>\n      <td>212</td>\n      <td>14.26 x 9.98 x 0.78 inches</td>\n      <td>NaN</td>\n      <td>7 ounces</td>\n      <td>November 20, 2020</td>\n      <td>NaN</td>\n      <td>81WE00NKUS</td>\n      <td>...</td>\n      <td>1</td>\n      <td>NaN</td>\n      <td>DDR4 SDRAM</td>\n      <td>Intel</td>\n      <td>2</td>\n      <td>3.9 GHz</td>\n      <td>Solid State</td>\n      <td>PC</td>\n      <td>256 GB</td>\n      <td>Computers &amp; Accessories</td>\n    </tr>\n    <tr>\n      <th>3</th>\n      <td>B07GLV1VC7</td>\n      <td>Lenovo Chromebook S330 Laptop, 14-Inch FHD (19...</td>\n      <td>Lenovo</td>\n      <td>372</td>\n      <td>12.82 x 0.82 x 9.15 inches</td>\n      <td>NaN</td>\n      <td>3.3 pounds</td>\n      <td>August 9, 2018</td>\n      <td>NaN</td>\n      <td>81JW0000US</td>\n      <td>...</td>\n      <td>NaN</td>\n      <td>1</td>\n      <td>Unknown</td>\n      <td>Mediatek</td>\n      <td>4</td>\n      <td>NaN</td>\n      <td>Solid State</td>\n      <td>Chrome</td>\n      <td>64</td>\n      <td>Computers &amp; Accessories</td>\n    </tr>\n    <tr>\n      <th>4</th>\n      <td>B08842D7JS</td>\n      <td>Acer Predator Helios 300 Gaming Laptop, Intel ...</td>\n      <td>Acer</td>\n      <td>146</td>\n      <td>14.31 x 10.04 x 0.9 inches</td>\n      <td>NaN</td>\n      <td>5.07 pounds</td>\n      <td>June 16, 2020</td>\n      <td>NaN</td>\n      <td>PH315-53-72XD</td>\n      <td>...</td>\n      <td>NaN</td>\n      <td>3</td>\n      <td>DDR4 SDRAM</td>\n      <td>Intel</td>\n      <td>6</td>\n      <td>2933 MHz</td>\n      <td>Gigabit Ethernet</td>\n      <td>NaN</td>\n      <td>512</td>\n      <td>Computers &amp; Accessories</td>\n    </tr>\n    <tr>\n      <th>...</th>\n      <td>...</td>\n      <td>...</td>\n      <td>...</td>\n      <td>...</td>\n      <td>...</td>\n      <td>...</td>\n      <td>...</td>\n      <td>...</td>\n      <td>...</td>\n      <td>...</td>\n      <td>...</td>\n      <td>...</td>\n      <td>...</td>\n      <td>...</td>\n      <td>...</td>\n      <td>...</td>\n      <td>...</td>\n      <td>...</td>\n      <td>...</td>\n      <td>...</td>\n      <td>...</td>\n    </tr>\n    <tr>\n      <th>2800</th>\n      <td>B08L8KW3ZM</td>\n      <td>Dell Latitude 5410 14\" Notebook - Full HD - 19...</td>\n      <td>Dell</td>\n      <td>579675</td>\n      <td>8.5 x 12.72 x 0.83 inches</td>\n      <td>NaN</td>\n      <td>3.26 pounds</td>\n      <td>October 16, 2020</td>\n      <td>NaN</td>\n      <td>NaN</td>\n      <td>...</td>\n      <td>NaN</td>\n      <td>NaN</td>\n      <td>NaN</td>\n      <td>Intel</td>\n      <td>1</td>\n      <td>NaN</td>\n      <td>Solid State</td>\n      <td>PC</td>\n      <td>256</td>\n      <td>Computers &amp; Accessories</td>\n    </tr>\n    <tr>\n      <th>2801</th>\n      <td>B082RD3STD</td>\n      <td>TopSeller TC M720S SFF I5-9400 2.9G 8GB 256GB ...</td>\n      <td>Lenovo</td>\n      <td>47707</td>\n      <td>11.4 x 3.6 x 13.5 inches</td>\n      <td>NaN</td>\n      <td>13.2 pounds</td>\n      <td>December 14, 2019</td>\n      <td>NaN</td>\n      <td>10ST008NUS</td>\n      <td>...</td>\n      <td>2</td>\n      <td>3</td>\n      <td>Unknown</td>\n      <td>Intel</td>\n      <td>1</td>\n      <td>NaN</td>\n      <td>Unknown</td>\n      <td>NaN</td>\n      <td>256</td>\n      <td>Computers &amp; Accessories</td>\n    </tr>\n    <tr>\n      <th>2802</th>\n      <td>B0844KPGNF</td>\n      <td>Lenovo ThinkPad T14 Laptop - 14\" IPS FHD Touch...</td>\n      <td>Lenovo</td>\n      <td>310265</td>\n      <td>12.95 x 8.94 x 0.7 inches</td>\n      <td>NaN</td>\n      <td>3.4 pounds</td>\n      <td>January 22, 2020</td>\n      <td>NaN</td>\n      <td>20NYS6JB0F</td>\n      <td>...</td>\n      <td>NaN</td>\n      <td>NaN</td>\n      <td>DDR4 SDRAM</td>\n      <td>Intel</td>\n      <td>4</td>\n      <td>1.8 GHz</td>\n      <td>ESATA</td>\n      <td>PC</td>\n      <td>256 GB</td>\n      <td>Computers &amp; Accessories</td>\n    </tr>\n    <tr>\n      <th>2803</th>\n      <td>B08JBVT48L</td>\n      <td>Laptop 14 Inch, Winnovo N140, 6GB RAM, 128GB S...</td>\n      <td>Winnovo</td>\n      <td>4479</td>\n      <td>NaN</td>\n      <td>14.21 x 9.96 x 2.91 inches</td>\n      <td>4.37 pounds</td>\n      <td>November 8, 2020</td>\n      <td>NaN</td>\n      <td>Winnovo N140</td>\n      <td>...</td>\n      <td>NaN</td>\n      <td>NaN</td>\n      <td>DDR3 SDRAM</td>\n      <td>Intel</td>\n      <td>2</td>\n      <td>NaN</td>\n      <td>USB 3.0</td>\n      <td>PC</td>\n      <td>128 GB</td>\n      <td>Computers &amp; Accessories</td>\n    </tr>\n    <tr>\n      <th>2804</th>\n      <td>B08N63ZSV7</td>\n      <td>2020 15.6-inch Laptop 6G + 256G, Intel celeron...</td>\n      <td>XINYANGCH</td>\n      <td>29104</td>\n      <td>NaN</td>\n      <td>18.94 x 11.5 x 2.36 inches</td>\n      <td>3.96 pounds</td>\n      <td>December 4, 2019</td>\n      <td>NaN</td>\n      <td>N15C</td>\n      <td>...</td>\n      <td>NaN</td>\n      <td>NaN</td>\n      <td>DDR3 SDRAM</td>\n      <td>Intel</td>\n      <td>4</td>\n      <td>2.3 GHz</td>\n      <td>ATA</td>\n      <td>PC</td>\n      <td>256 GB</td>\n      <td>Computers &amp; Accessories</td>\n    </tr>\n  </tbody>\n</table>\n<p>2805 rows × 33 columns</p>\n</div>"
     },
     "metadata": {},
     "execution_count": 68
    }
   ],
   "source": [
    "m_new"
   ]
  },
  {
   "cell_type": "code",
   "execution_count": 69,
   "metadata": {},
   "outputs": [],
   "source": [
    "m_new['Product Dimensions (inches)'] = m_new['Product Dimensions'].str.rstrip('inches')\n",
    "m_new['Product Dimensions'] = m_new['Product Dimensions (inches)']\n",
    "m_new = m_new.drop(['Product Dimensions (inches)'], axis=1)\n"
   ]
  },
  {
   "cell_type": "code",
   "execution_count": 70,
   "metadata": {},
   "outputs": [
    {
     "output_type": "execute_result",
     "data": {
      "text/plain": [
       "            ASIN                                               name  \\\n",
       "0     B085XRL3P1  CHUWI Herobook Pro 14.1 inch Windows 10 Intel ...   \n",
       "1     B08CDM3XPJ  CHUWI CoreBook Pro Windows 10 Laptop Computer,...   \n",
       "2     B08NXSJVCR  Lenovo IdeaPad 3 Intel i5-1035G1 Quad Core 12G...   \n",
       "3     B07GLV1VC7  Lenovo Chromebook S330 Laptop, 14-Inch FHD (19...   \n",
       "4     B08842D7JS  Acer Predator Helios 300 Gaming Laptop, Intel ...   \n",
       "...          ...                                                ...   \n",
       "2800  B08L8KW3ZM  Dell Latitude 5410 14\" Notebook - Full HD - 19...   \n",
       "2801  B082RD3STD  TopSeller TC M720S SFF I5-9400 2.9G 8GB 256GB ...   \n",
       "2802  B0844KPGNF  Lenovo ThinkPad T14 Laptop - 14\" IPS FHD Touch...   \n",
       "2803  B08JBVT48L  Laptop 14 Inch, Winnovo N140, 6GB RAM, 128GB S...   \n",
       "2804  B08N63ZSV7  2020 15.6-inch Laptop 6G + 256G, Intel celeron...   \n",
       "\n",
       "          Brand  Best Sellers Rank Product Dimensions (inches)  \\\n",
       "0         CHUWI               1853        13.07 x 8.43 x 0.84    \n",
       "1         CHUWI              14505         1.14 x 0.87 x 0.71    \n",
       "2        Lenovo                212        14.26 x 9.98 x 0.78    \n",
       "3        Lenovo                372        12.82 x 0.82 x 9.15    \n",
       "4          Acer                146        14.31 x 10.04 x 0.9    \n",
       "...         ...                ...                         ...   \n",
       "2800       Dell             579675         8.5 x 12.72 x 0.83    \n",
       "2801     Lenovo              47707          11.4 x 3.6 x 13.5    \n",
       "2802     Lenovo             310265         12.95 x 8.94 x 0.7    \n",
       "2803    Winnovo               4479                         NaN   \n",
       "2804  XINYANGCH              29104                         NaN   \n",
       "\n",
       "              Package Dimensions  Item Weight Date First Available  \\\n",
       "0                            NaN  3.06 pounds       March 11, 2020   \n",
       "1                            NaN  4.38 pounds        June 30, 2020   \n",
       "2                            NaN     7 ounces    November 20, 2020   \n",
       "3                            NaN   3.3 pounds       August 9, 2018   \n",
       "4                            NaN  5.07 pounds        June 16, 2020   \n",
       "...                          ...          ...                  ...   \n",
       "2800                         NaN  3.26 pounds     October 16, 2020   \n",
       "2801                         NaN  13.2 pounds    December 14, 2019   \n",
       "2802                         NaN   3.4 pounds     January 22, 2020   \n",
       "2803  14.21 x 9.96 x 2.91 inches  4.37 pounds     November 8, 2020   \n",
       "2804  18.94 x 11.5 x 2.36 inches  3.96 pounds     December 4, 2019   \n",
       "\n",
       "     Is Discontinued By Manufacturer Item model number  ...  \\\n",
       "0                                NaN      Herobook Pro  ...   \n",
       "1                                NaN      CoreBook Pro  ...   \n",
       "2                                NaN        81WE00NKUS  ...   \n",
       "3                                NaN        81JW0000US  ...   \n",
       "4                                NaN     PH315-53-72XD  ...   \n",
       "...                              ...               ...  ...   \n",
       "2800                             NaN               NaN  ...   \n",
       "2801                             NaN        10ST008NUS  ...   \n",
       "2802                             NaN        20NYS6JB0F  ...   \n",
       "2803                             NaN      Winnovo N140  ...   \n",
       "2804                             NaN              N15C  ...   \n",
       "\n",
       "     Number of USB 2.0 Ports Number of USB 3.0 Ports Computer Memory Type  \\\n",
       "0                        NaN                     NaN           DDR4 SDRAM   \n",
       "1                        NaN                     NaN           DDR4 SDRAM   \n",
       "2                          1                     NaN           DDR4 SDRAM   \n",
       "3                        NaN                       1              Unknown   \n",
       "4                        NaN                       3           DDR4 SDRAM   \n",
       "...                      ...                     ...                  ...   \n",
       "2800                     NaN                     NaN                  NaN   \n",
       "2801                       2                       3              Unknown   \n",
       "2802                     NaN                     NaN           DDR4 SDRAM   \n",
       "2803                     NaN                     NaN           DDR3 SDRAM   \n",
       "2804                     NaN                     NaN           DDR3 SDRAM   \n",
       "\n",
       "     Processor Brand Processor Count Memory Speed Hard Drive Interface  \\\n",
       "0              Intel               4          NaN                ATA-4   \n",
       "1              Intel               2          NaN          Solid State   \n",
       "2              Intel               2      3.9 GHz          Solid State   \n",
       "3           Mediatek               4          NaN          Solid State   \n",
       "4              Intel               6     2933 MHz     Gigabit Ethernet   \n",
       "...              ...             ...          ...                  ...   \n",
       "2800           Intel               1          NaN          Solid State   \n",
       "2801           Intel               1          NaN              Unknown   \n",
       "2802           Intel               4      1.8 GHz                ESATA   \n",
       "2803           Intel               2          NaN              USB 3.0   \n",
       "2804           Intel               4      2.3 GHz                  ATA   \n",
       "\n",
       "     Hardware Platform Flash Memory Size   Best_Sellers_Rank_fields  \n",
       "0                   PC            256 GB   Computers & Accessories   \n",
       "1                   PC               NaN   Computers & Accessories   \n",
       "2                   PC            256 GB   Computers & Accessories   \n",
       "3               Chrome                64   Computers & Accessories   \n",
       "4                  NaN               512   Computers & Accessories   \n",
       "...                ...               ...                        ...  \n",
       "2800                PC               256   Computers & Accessories   \n",
       "2801               NaN               256   Computers & Accessories   \n",
       "2802                PC            256 GB   Computers & Accessories   \n",
       "2803                PC            128 GB   Computers & Accessories   \n",
       "2804                PC            256 GB   Computers & Accessories   \n",
       "\n",
       "[2805 rows x 33 columns]"
      ],
      "text/html": "<div>\n<style scoped>\n    .dataframe tbody tr th:only-of-type {\n        vertical-align: middle;\n    }\n\n    .dataframe tbody tr th {\n        vertical-align: top;\n    }\n\n    .dataframe thead th {\n        text-align: right;\n    }\n</style>\n<table border=\"1\" class=\"dataframe\">\n  <thead>\n    <tr style=\"text-align: right;\">\n      <th></th>\n      <th>ASIN</th>\n      <th>name</th>\n      <th>Brand</th>\n      <th>Best Sellers Rank</th>\n      <th>Product Dimensions (inches)</th>\n      <th>Package Dimensions</th>\n      <th>Item Weight</th>\n      <th>Date First Available</th>\n      <th>Is Discontinued By Manufacturer</th>\n      <th>Item model number</th>\n      <th>...</th>\n      <th>Number of USB 2.0 Ports</th>\n      <th>Number of USB 3.0 Ports</th>\n      <th>Computer Memory Type</th>\n      <th>Processor Brand</th>\n      <th>Processor Count</th>\n      <th>Memory Speed</th>\n      <th>Hard Drive Interface</th>\n      <th>Hardware Platform</th>\n      <th>Flash Memory Size</th>\n      <th>Best_Sellers_Rank_fields</th>\n    </tr>\n  </thead>\n  <tbody>\n    <tr>\n      <th>0</th>\n      <td>B085XRL3P1</td>\n      <td>CHUWI Herobook Pro 14.1 inch Windows 10 Intel ...</td>\n      <td>CHUWI</td>\n      <td>1853</td>\n      <td>13.07 x 8.43 x 0.84</td>\n      <td>NaN</td>\n      <td>3.06 pounds</td>\n      <td>March 11, 2020</td>\n      <td>NaN</td>\n      <td>Herobook Pro</td>\n      <td>...</td>\n      <td>NaN</td>\n      <td>NaN</td>\n      <td>DDR4 SDRAM</td>\n      <td>Intel</td>\n      <td>4</td>\n      <td>NaN</td>\n      <td>ATA-4</td>\n      <td>PC</td>\n      <td>256 GB</td>\n      <td>Computers &amp; Accessories</td>\n    </tr>\n    <tr>\n      <th>1</th>\n      <td>B08CDM3XPJ</td>\n      <td>CHUWI CoreBook Pro Windows 10 Laptop Computer,...</td>\n      <td>CHUWI</td>\n      <td>14505</td>\n      <td>1.14 x 0.87 x 0.71</td>\n      <td>NaN</td>\n      <td>4.38 pounds</td>\n      <td>June 30, 2020</td>\n      <td>NaN</td>\n      <td>CoreBook Pro</td>\n      <td>...</td>\n      <td>NaN</td>\n      <td>NaN</td>\n      <td>DDR4 SDRAM</td>\n      <td>Intel</td>\n      <td>2</td>\n      <td>NaN</td>\n      <td>Solid State</td>\n      <td>PC</td>\n      <td>NaN</td>\n      <td>Computers &amp; Accessories</td>\n    </tr>\n    <tr>\n      <th>2</th>\n      <td>B08NXSJVCR</td>\n      <td>Lenovo IdeaPad 3 Intel i5-1035G1 Quad Core 12G...</td>\n      <td>Lenovo</td>\n      <td>212</td>\n      <td>14.26 x 9.98 x 0.78</td>\n      <td>NaN</td>\n      <td>7 ounces</td>\n      <td>November 20, 2020</td>\n      <td>NaN</td>\n      <td>81WE00NKUS</td>\n      <td>...</td>\n      <td>1</td>\n      <td>NaN</td>\n      <td>DDR4 SDRAM</td>\n      <td>Intel</td>\n      <td>2</td>\n      <td>3.9 GHz</td>\n      <td>Solid State</td>\n      <td>PC</td>\n      <td>256 GB</td>\n      <td>Computers &amp; Accessories</td>\n    </tr>\n    <tr>\n      <th>3</th>\n      <td>B07GLV1VC7</td>\n      <td>Lenovo Chromebook S330 Laptop, 14-Inch FHD (19...</td>\n      <td>Lenovo</td>\n      <td>372</td>\n      <td>12.82 x 0.82 x 9.15</td>\n      <td>NaN</td>\n      <td>3.3 pounds</td>\n      <td>August 9, 2018</td>\n      <td>NaN</td>\n      <td>81JW0000US</td>\n      <td>...</td>\n      <td>NaN</td>\n      <td>1</td>\n      <td>Unknown</td>\n      <td>Mediatek</td>\n      <td>4</td>\n      <td>NaN</td>\n      <td>Solid State</td>\n      <td>Chrome</td>\n      <td>64</td>\n      <td>Computers &amp; Accessories</td>\n    </tr>\n    <tr>\n      <th>4</th>\n      <td>B08842D7JS</td>\n      <td>Acer Predator Helios 300 Gaming Laptop, Intel ...</td>\n      <td>Acer</td>\n      <td>146</td>\n      <td>14.31 x 10.04 x 0.9</td>\n      <td>NaN</td>\n      <td>5.07 pounds</td>\n      <td>June 16, 2020</td>\n      <td>NaN</td>\n      <td>PH315-53-72XD</td>\n      <td>...</td>\n      <td>NaN</td>\n      <td>3</td>\n      <td>DDR4 SDRAM</td>\n      <td>Intel</td>\n      <td>6</td>\n      <td>2933 MHz</td>\n      <td>Gigabit Ethernet</td>\n      <td>NaN</td>\n      <td>512</td>\n      <td>Computers &amp; Accessories</td>\n    </tr>\n    <tr>\n      <th>...</th>\n      <td>...</td>\n      <td>...</td>\n      <td>...</td>\n      <td>...</td>\n      <td>...</td>\n      <td>...</td>\n      <td>...</td>\n      <td>...</td>\n      <td>...</td>\n      <td>...</td>\n      <td>...</td>\n      <td>...</td>\n      <td>...</td>\n      <td>...</td>\n      <td>...</td>\n      <td>...</td>\n      <td>...</td>\n      <td>...</td>\n      <td>...</td>\n      <td>...</td>\n      <td>...</td>\n    </tr>\n    <tr>\n      <th>2800</th>\n      <td>B08L8KW3ZM</td>\n      <td>Dell Latitude 5410 14\" Notebook - Full HD - 19...</td>\n      <td>Dell</td>\n      <td>579675</td>\n      <td>8.5 x 12.72 x 0.83</td>\n      <td>NaN</td>\n      <td>3.26 pounds</td>\n      <td>October 16, 2020</td>\n      <td>NaN</td>\n      <td>NaN</td>\n      <td>...</td>\n      <td>NaN</td>\n      <td>NaN</td>\n      <td>NaN</td>\n      <td>Intel</td>\n      <td>1</td>\n      <td>NaN</td>\n      <td>Solid State</td>\n      <td>PC</td>\n      <td>256</td>\n      <td>Computers &amp; Accessories</td>\n    </tr>\n    <tr>\n      <th>2801</th>\n      <td>B082RD3STD</td>\n      <td>TopSeller TC M720S SFF I5-9400 2.9G 8GB 256GB ...</td>\n      <td>Lenovo</td>\n      <td>47707</td>\n      <td>11.4 x 3.6 x 13.5</td>\n      <td>NaN</td>\n      <td>13.2 pounds</td>\n      <td>December 14, 2019</td>\n      <td>NaN</td>\n      <td>10ST008NUS</td>\n      <td>...</td>\n      <td>2</td>\n      <td>3</td>\n      <td>Unknown</td>\n      <td>Intel</td>\n      <td>1</td>\n      <td>NaN</td>\n      <td>Unknown</td>\n      <td>NaN</td>\n      <td>256</td>\n      <td>Computers &amp; Accessories</td>\n    </tr>\n    <tr>\n      <th>2802</th>\n      <td>B0844KPGNF</td>\n      <td>Lenovo ThinkPad T14 Laptop - 14\" IPS FHD Touch...</td>\n      <td>Lenovo</td>\n      <td>310265</td>\n      <td>12.95 x 8.94 x 0.7</td>\n      <td>NaN</td>\n      <td>3.4 pounds</td>\n      <td>January 22, 2020</td>\n      <td>NaN</td>\n      <td>20NYS6JB0F</td>\n      <td>...</td>\n      <td>NaN</td>\n      <td>NaN</td>\n      <td>DDR4 SDRAM</td>\n      <td>Intel</td>\n      <td>4</td>\n      <td>1.8 GHz</td>\n      <td>ESATA</td>\n      <td>PC</td>\n      <td>256 GB</td>\n      <td>Computers &amp; Accessories</td>\n    </tr>\n    <tr>\n      <th>2803</th>\n      <td>B08JBVT48L</td>\n      <td>Laptop 14 Inch, Winnovo N140, 6GB RAM, 128GB S...</td>\n      <td>Winnovo</td>\n      <td>4479</td>\n      <td>NaN</td>\n      <td>14.21 x 9.96 x 2.91 inches</td>\n      <td>4.37 pounds</td>\n      <td>November 8, 2020</td>\n      <td>NaN</td>\n      <td>Winnovo N140</td>\n      <td>...</td>\n      <td>NaN</td>\n      <td>NaN</td>\n      <td>DDR3 SDRAM</td>\n      <td>Intel</td>\n      <td>2</td>\n      <td>NaN</td>\n      <td>USB 3.0</td>\n      <td>PC</td>\n      <td>128 GB</td>\n      <td>Computers &amp; Accessories</td>\n    </tr>\n    <tr>\n      <th>2804</th>\n      <td>B08N63ZSV7</td>\n      <td>2020 15.6-inch Laptop 6G + 256G, Intel celeron...</td>\n      <td>XINYANGCH</td>\n      <td>29104</td>\n      <td>NaN</td>\n      <td>18.94 x 11.5 x 2.36 inches</td>\n      <td>3.96 pounds</td>\n      <td>December 4, 2019</td>\n      <td>NaN</td>\n      <td>N15C</td>\n      <td>...</td>\n      <td>NaN</td>\n      <td>NaN</td>\n      <td>DDR3 SDRAM</td>\n      <td>Intel</td>\n      <td>4</td>\n      <td>2.3 GHz</td>\n      <td>ATA</td>\n      <td>PC</td>\n      <td>256 GB</td>\n      <td>Computers &amp; Accessories</td>\n    </tr>\n  </tbody>\n</table>\n<p>2805 rows × 33 columns</p>\n</div>"
     },
     "metadata": {},
     "execution_count": 70
    }
   ],
   "source": [
    "m_new = m_new.rename(columns={'Product Dimensions' : 'Product Dimensions (inches)'})\n",
    "m_new"
   ]
  },
  {
   "cell_type": "code",
   "execution_count": 71,
   "metadata": {},
   "outputs": [],
   "source": [
    "m_new['Package Dimensions (inches)'] = m_new['Package Dimensions'].str.rstrip('inches')\n",
    "m_new['Package Dimensions'] = m_new['Package Dimensions (inches)']\n",
    "m_new = m_new.drop(['Package Dimensions (inches)'], axis=1)"
   ]
  },
  {
   "cell_type": "code",
   "execution_count": 72,
   "metadata": {},
   "outputs": [
    {
     "output_type": "execute_result",
     "data": {
      "text/plain": [
       "            ASIN                                               name  \\\n",
       "0     B085XRL3P1  CHUWI Herobook Pro 14.1 inch Windows 10 Intel ...   \n",
       "1     B08CDM3XPJ  CHUWI CoreBook Pro Windows 10 Laptop Computer,...   \n",
       "2     B08NXSJVCR  Lenovo IdeaPad 3 Intel i5-1035G1 Quad Core 12G...   \n",
       "3     B07GLV1VC7  Lenovo Chromebook S330 Laptop, 14-Inch FHD (19...   \n",
       "4     B08842D7JS  Acer Predator Helios 300 Gaming Laptop, Intel ...   \n",
       "...          ...                                                ...   \n",
       "2800  B08L8KW3ZM  Dell Latitude 5410 14\" Notebook - Full HD - 19...   \n",
       "2801  B082RD3STD  TopSeller TC M720S SFF I5-9400 2.9G 8GB 256GB ...   \n",
       "2802  B0844KPGNF  Lenovo ThinkPad T14 Laptop - 14\" IPS FHD Touch...   \n",
       "2803  B08JBVT48L  Laptop 14 Inch, Winnovo N140, 6GB RAM, 128GB S...   \n",
       "2804  B08N63ZSV7  2020 15.6-inch Laptop 6G + 256G, Intel celeron...   \n",
       "\n",
       "          Brand  Best Sellers Rank Product Dimensions (inches)  \\\n",
       "0         CHUWI               1853        13.07 x 8.43 x 0.84    \n",
       "1         CHUWI              14505         1.14 x 0.87 x 0.71    \n",
       "2        Lenovo                212        14.26 x 9.98 x 0.78    \n",
       "3        Lenovo                372        12.82 x 0.82 x 9.15    \n",
       "4          Acer                146        14.31 x 10.04 x 0.9    \n",
       "...         ...                ...                         ...   \n",
       "2800       Dell             579675         8.5 x 12.72 x 0.83    \n",
       "2801     Lenovo              47707          11.4 x 3.6 x 13.5    \n",
       "2802     Lenovo             310265         12.95 x 8.94 x 0.7    \n",
       "2803    Winnovo               4479                         NaN   \n",
       "2804  XINYANGCH              29104                         NaN   \n",
       "\n",
       "     Package Dimensions (inches)  Item Weight Date First Available  \\\n",
       "0                            NaN  3.06 pounds       March 11, 2020   \n",
       "1                            NaN  4.38 pounds        June 30, 2020   \n",
       "2                            NaN     7 ounces    November 20, 2020   \n",
       "3                            NaN   3.3 pounds       August 9, 2018   \n",
       "4                            NaN  5.07 pounds        June 16, 2020   \n",
       "...                          ...          ...                  ...   \n",
       "2800                         NaN  3.26 pounds     October 16, 2020   \n",
       "2801                         NaN  13.2 pounds    December 14, 2019   \n",
       "2802                         NaN   3.4 pounds     January 22, 2020   \n",
       "2803        14.21 x 9.96 x 2.91   4.37 pounds     November 8, 2020   \n",
       "2804        18.94 x 11.5 x 2.36   3.96 pounds     December 4, 2019   \n",
       "\n",
       "     Is Discontinued By Manufacturer Item model number  ...  \\\n",
       "0                                NaN      Herobook Pro  ...   \n",
       "1                                NaN      CoreBook Pro  ...   \n",
       "2                                NaN        81WE00NKUS  ...   \n",
       "3                                NaN        81JW0000US  ...   \n",
       "4                                NaN     PH315-53-72XD  ...   \n",
       "...                              ...               ...  ...   \n",
       "2800                             NaN               NaN  ...   \n",
       "2801                             NaN        10ST008NUS  ...   \n",
       "2802                             NaN        20NYS6JB0F  ...   \n",
       "2803                             NaN      Winnovo N140  ...   \n",
       "2804                             NaN              N15C  ...   \n",
       "\n",
       "     Number of USB 2.0 Ports Number of USB 3.0 Ports Computer Memory Type  \\\n",
       "0                        NaN                     NaN           DDR4 SDRAM   \n",
       "1                        NaN                     NaN           DDR4 SDRAM   \n",
       "2                          1                     NaN           DDR4 SDRAM   \n",
       "3                        NaN                       1              Unknown   \n",
       "4                        NaN                       3           DDR4 SDRAM   \n",
       "...                      ...                     ...                  ...   \n",
       "2800                     NaN                     NaN                  NaN   \n",
       "2801                       2                       3              Unknown   \n",
       "2802                     NaN                     NaN           DDR4 SDRAM   \n",
       "2803                     NaN                     NaN           DDR3 SDRAM   \n",
       "2804                     NaN                     NaN           DDR3 SDRAM   \n",
       "\n",
       "     Processor Brand Processor Count Memory Speed Hard Drive Interface  \\\n",
       "0              Intel               4          NaN                ATA-4   \n",
       "1              Intel               2          NaN          Solid State   \n",
       "2              Intel               2      3.9 GHz          Solid State   \n",
       "3           Mediatek               4          NaN          Solid State   \n",
       "4              Intel               6     2933 MHz     Gigabit Ethernet   \n",
       "...              ...             ...          ...                  ...   \n",
       "2800           Intel               1          NaN          Solid State   \n",
       "2801           Intel               1          NaN              Unknown   \n",
       "2802           Intel               4      1.8 GHz                ESATA   \n",
       "2803           Intel               2          NaN              USB 3.0   \n",
       "2804           Intel               4      2.3 GHz                  ATA   \n",
       "\n",
       "     Hardware Platform Flash Memory Size   Best_Sellers_Rank_fields  \n",
       "0                   PC            256 GB   Computers & Accessories   \n",
       "1                   PC               NaN   Computers & Accessories   \n",
       "2                   PC            256 GB   Computers & Accessories   \n",
       "3               Chrome                64   Computers & Accessories   \n",
       "4                  NaN               512   Computers & Accessories   \n",
       "...                ...               ...                        ...  \n",
       "2800                PC               256   Computers & Accessories   \n",
       "2801               NaN               256   Computers & Accessories   \n",
       "2802                PC            256 GB   Computers & Accessories   \n",
       "2803                PC            128 GB   Computers & Accessories   \n",
       "2804                PC            256 GB   Computers & Accessories   \n",
       "\n",
       "[2805 rows x 33 columns]"
      ],
      "text/html": "<div>\n<style scoped>\n    .dataframe tbody tr th:only-of-type {\n        vertical-align: middle;\n    }\n\n    .dataframe tbody tr th {\n        vertical-align: top;\n    }\n\n    .dataframe thead th {\n        text-align: right;\n    }\n</style>\n<table border=\"1\" class=\"dataframe\">\n  <thead>\n    <tr style=\"text-align: right;\">\n      <th></th>\n      <th>ASIN</th>\n      <th>name</th>\n      <th>Brand</th>\n      <th>Best Sellers Rank</th>\n      <th>Product Dimensions (inches)</th>\n      <th>Package Dimensions (inches)</th>\n      <th>Item Weight</th>\n      <th>Date First Available</th>\n      <th>Is Discontinued By Manufacturer</th>\n      <th>Item model number</th>\n      <th>...</th>\n      <th>Number of USB 2.0 Ports</th>\n      <th>Number of USB 3.0 Ports</th>\n      <th>Computer Memory Type</th>\n      <th>Processor Brand</th>\n      <th>Processor Count</th>\n      <th>Memory Speed</th>\n      <th>Hard Drive Interface</th>\n      <th>Hardware Platform</th>\n      <th>Flash Memory Size</th>\n      <th>Best_Sellers_Rank_fields</th>\n    </tr>\n  </thead>\n  <tbody>\n    <tr>\n      <th>0</th>\n      <td>B085XRL3P1</td>\n      <td>CHUWI Herobook Pro 14.1 inch Windows 10 Intel ...</td>\n      <td>CHUWI</td>\n      <td>1853</td>\n      <td>13.07 x 8.43 x 0.84</td>\n      <td>NaN</td>\n      <td>3.06 pounds</td>\n      <td>March 11, 2020</td>\n      <td>NaN</td>\n      <td>Herobook Pro</td>\n      <td>...</td>\n      <td>NaN</td>\n      <td>NaN</td>\n      <td>DDR4 SDRAM</td>\n      <td>Intel</td>\n      <td>4</td>\n      <td>NaN</td>\n      <td>ATA-4</td>\n      <td>PC</td>\n      <td>256 GB</td>\n      <td>Computers &amp; Accessories</td>\n    </tr>\n    <tr>\n      <th>1</th>\n      <td>B08CDM3XPJ</td>\n      <td>CHUWI CoreBook Pro Windows 10 Laptop Computer,...</td>\n      <td>CHUWI</td>\n      <td>14505</td>\n      <td>1.14 x 0.87 x 0.71</td>\n      <td>NaN</td>\n      <td>4.38 pounds</td>\n      <td>June 30, 2020</td>\n      <td>NaN</td>\n      <td>CoreBook Pro</td>\n      <td>...</td>\n      <td>NaN</td>\n      <td>NaN</td>\n      <td>DDR4 SDRAM</td>\n      <td>Intel</td>\n      <td>2</td>\n      <td>NaN</td>\n      <td>Solid State</td>\n      <td>PC</td>\n      <td>NaN</td>\n      <td>Computers &amp; Accessories</td>\n    </tr>\n    <tr>\n      <th>2</th>\n      <td>B08NXSJVCR</td>\n      <td>Lenovo IdeaPad 3 Intel i5-1035G1 Quad Core 12G...</td>\n      <td>Lenovo</td>\n      <td>212</td>\n      <td>14.26 x 9.98 x 0.78</td>\n      <td>NaN</td>\n      <td>7 ounces</td>\n      <td>November 20, 2020</td>\n      <td>NaN</td>\n      <td>81WE00NKUS</td>\n      <td>...</td>\n      <td>1</td>\n      <td>NaN</td>\n      <td>DDR4 SDRAM</td>\n      <td>Intel</td>\n      <td>2</td>\n      <td>3.9 GHz</td>\n      <td>Solid State</td>\n      <td>PC</td>\n      <td>256 GB</td>\n      <td>Computers &amp; Accessories</td>\n    </tr>\n    <tr>\n      <th>3</th>\n      <td>B07GLV1VC7</td>\n      <td>Lenovo Chromebook S330 Laptop, 14-Inch FHD (19...</td>\n      <td>Lenovo</td>\n      <td>372</td>\n      <td>12.82 x 0.82 x 9.15</td>\n      <td>NaN</td>\n      <td>3.3 pounds</td>\n      <td>August 9, 2018</td>\n      <td>NaN</td>\n      <td>81JW0000US</td>\n      <td>...</td>\n      <td>NaN</td>\n      <td>1</td>\n      <td>Unknown</td>\n      <td>Mediatek</td>\n      <td>4</td>\n      <td>NaN</td>\n      <td>Solid State</td>\n      <td>Chrome</td>\n      <td>64</td>\n      <td>Computers &amp; Accessories</td>\n    </tr>\n    <tr>\n      <th>4</th>\n      <td>B08842D7JS</td>\n      <td>Acer Predator Helios 300 Gaming Laptop, Intel ...</td>\n      <td>Acer</td>\n      <td>146</td>\n      <td>14.31 x 10.04 x 0.9</td>\n      <td>NaN</td>\n      <td>5.07 pounds</td>\n      <td>June 16, 2020</td>\n      <td>NaN</td>\n      <td>PH315-53-72XD</td>\n      <td>...</td>\n      <td>NaN</td>\n      <td>3</td>\n      <td>DDR4 SDRAM</td>\n      <td>Intel</td>\n      <td>6</td>\n      <td>2933 MHz</td>\n      <td>Gigabit Ethernet</td>\n      <td>NaN</td>\n      <td>512</td>\n      <td>Computers &amp; Accessories</td>\n    </tr>\n    <tr>\n      <th>...</th>\n      <td>...</td>\n      <td>...</td>\n      <td>...</td>\n      <td>...</td>\n      <td>...</td>\n      <td>...</td>\n      <td>...</td>\n      <td>...</td>\n      <td>...</td>\n      <td>...</td>\n      <td>...</td>\n      <td>...</td>\n      <td>...</td>\n      <td>...</td>\n      <td>...</td>\n      <td>...</td>\n      <td>...</td>\n      <td>...</td>\n      <td>...</td>\n      <td>...</td>\n      <td>...</td>\n    </tr>\n    <tr>\n      <th>2800</th>\n      <td>B08L8KW3ZM</td>\n      <td>Dell Latitude 5410 14\" Notebook - Full HD - 19...</td>\n      <td>Dell</td>\n      <td>579675</td>\n      <td>8.5 x 12.72 x 0.83</td>\n      <td>NaN</td>\n      <td>3.26 pounds</td>\n      <td>October 16, 2020</td>\n      <td>NaN</td>\n      <td>NaN</td>\n      <td>...</td>\n      <td>NaN</td>\n      <td>NaN</td>\n      <td>NaN</td>\n      <td>Intel</td>\n      <td>1</td>\n      <td>NaN</td>\n      <td>Solid State</td>\n      <td>PC</td>\n      <td>256</td>\n      <td>Computers &amp; Accessories</td>\n    </tr>\n    <tr>\n      <th>2801</th>\n      <td>B082RD3STD</td>\n      <td>TopSeller TC M720S SFF I5-9400 2.9G 8GB 256GB ...</td>\n      <td>Lenovo</td>\n      <td>47707</td>\n      <td>11.4 x 3.6 x 13.5</td>\n      <td>NaN</td>\n      <td>13.2 pounds</td>\n      <td>December 14, 2019</td>\n      <td>NaN</td>\n      <td>10ST008NUS</td>\n      <td>...</td>\n      <td>2</td>\n      <td>3</td>\n      <td>Unknown</td>\n      <td>Intel</td>\n      <td>1</td>\n      <td>NaN</td>\n      <td>Unknown</td>\n      <td>NaN</td>\n      <td>256</td>\n      <td>Computers &amp; Accessories</td>\n    </tr>\n    <tr>\n      <th>2802</th>\n      <td>B0844KPGNF</td>\n      <td>Lenovo ThinkPad T14 Laptop - 14\" IPS FHD Touch...</td>\n      <td>Lenovo</td>\n      <td>310265</td>\n      <td>12.95 x 8.94 x 0.7</td>\n      <td>NaN</td>\n      <td>3.4 pounds</td>\n      <td>January 22, 2020</td>\n      <td>NaN</td>\n      <td>20NYS6JB0F</td>\n      <td>...</td>\n      <td>NaN</td>\n      <td>NaN</td>\n      <td>DDR4 SDRAM</td>\n      <td>Intel</td>\n      <td>4</td>\n      <td>1.8 GHz</td>\n      <td>ESATA</td>\n      <td>PC</td>\n      <td>256 GB</td>\n      <td>Computers &amp; Accessories</td>\n    </tr>\n    <tr>\n      <th>2803</th>\n      <td>B08JBVT48L</td>\n      <td>Laptop 14 Inch, Winnovo N140, 6GB RAM, 128GB S...</td>\n      <td>Winnovo</td>\n      <td>4479</td>\n      <td>NaN</td>\n      <td>14.21 x 9.96 x 2.91</td>\n      <td>4.37 pounds</td>\n      <td>November 8, 2020</td>\n      <td>NaN</td>\n      <td>Winnovo N140</td>\n      <td>...</td>\n      <td>NaN</td>\n      <td>NaN</td>\n      <td>DDR3 SDRAM</td>\n      <td>Intel</td>\n      <td>2</td>\n      <td>NaN</td>\n      <td>USB 3.0</td>\n      <td>PC</td>\n      <td>128 GB</td>\n      <td>Computers &amp; Accessories</td>\n    </tr>\n    <tr>\n      <th>2804</th>\n      <td>B08N63ZSV7</td>\n      <td>2020 15.6-inch Laptop 6G + 256G, Intel celeron...</td>\n      <td>XINYANGCH</td>\n      <td>29104</td>\n      <td>NaN</td>\n      <td>18.94 x 11.5 x 2.36</td>\n      <td>3.96 pounds</td>\n      <td>December 4, 2019</td>\n      <td>NaN</td>\n      <td>N15C</td>\n      <td>...</td>\n      <td>NaN</td>\n      <td>NaN</td>\n      <td>DDR3 SDRAM</td>\n      <td>Intel</td>\n      <td>4</td>\n      <td>2.3 GHz</td>\n      <td>ATA</td>\n      <td>PC</td>\n      <td>256 GB</td>\n      <td>Computers &amp; Accessories</td>\n    </tr>\n  </tbody>\n</table>\n<p>2805 rows × 33 columns</p>\n</div>"
     },
     "metadata": {},
     "execution_count": 72
    }
   ],
   "source": [
    "m_new = m_new.rename(columns={'Package Dimensions' : 'Package Dimensions (inches)'})\n",
    "m_new"
   ]
  },
  {
   "cell_type": "code",
   "execution_count": 73,
   "metadata": {},
   "outputs": [],
   "source": [
    "m_new['Product Dimensions (inches)'].fillna(m_new['Package Dimensions (inches)'], inplace=True)\n",
    "del m_new['Package Dimensions (inches)']"
   ]
  },
  {
   "cell_type": "code",
   "execution_count": 74,
   "metadata": {},
   "outputs": [
    {
     "output_type": "execute_result",
     "data": {
      "text/plain": [
       "            ASIN                                               name  \\\n",
       "0     B085XRL3P1  CHUWI Herobook Pro 14.1 inch Windows 10 Intel ...   \n",
       "1     B08CDM3XPJ  CHUWI CoreBook Pro Windows 10 Laptop Computer,...   \n",
       "2     B08NXSJVCR  Lenovo IdeaPad 3 Intel i5-1035G1 Quad Core 12G...   \n",
       "3     B07GLV1VC7  Lenovo Chromebook S330 Laptop, 14-Inch FHD (19...   \n",
       "4     B08842D7JS  Acer Predator Helios 300 Gaming Laptop, Intel ...   \n",
       "...          ...                                                ...   \n",
       "2800  B08L8KW3ZM  Dell Latitude 5410 14\" Notebook - Full HD - 19...   \n",
       "2801  B082RD3STD  TopSeller TC M720S SFF I5-9400 2.9G 8GB 256GB ...   \n",
       "2802  B0844KPGNF  Lenovo ThinkPad T14 Laptop - 14\" IPS FHD Touch...   \n",
       "2803  B08JBVT48L  Laptop 14 Inch, Winnovo N140, 6GB RAM, 128GB S...   \n",
       "2804  B08N63ZSV7  2020 15.6-inch Laptop 6G + 256G, Intel celeron...   \n",
       "\n",
       "          Brand  Best Sellers Rank Product Dimensions (inches)  Item Weight  \\\n",
       "0         CHUWI               1853        13.07 x 8.43 x 0.84   3.06 pounds   \n",
       "1         CHUWI              14505         1.14 x 0.87 x 0.71   4.38 pounds   \n",
       "2        Lenovo                212        14.26 x 9.98 x 0.78      7 ounces   \n",
       "3        Lenovo                372        12.82 x 0.82 x 9.15    3.3 pounds   \n",
       "4          Acer                146        14.31 x 10.04 x 0.9   5.07 pounds   \n",
       "...         ...                ...                         ...          ...   \n",
       "2800       Dell             579675         8.5 x 12.72 x 0.83   3.26 pounds   \n",
       "2801     Lenovo              47707          11.4 x 3.6 x 13.5   13.2 pounds   \n",
       "2802     Lenovo             310265         12.95 x 8.94 x 0.7    3.4 pounds   \n",
       "2803    Winnovo               4479        14.21 x 9.96 x 2.91   4.37 pounds   \n",
       "2804  XINYANGCH              29104        18.94 x 11.5 x 2.36   3.96 pounds   \n",
       "\n",
       "     Date First Available Is Discontinued By Manufacturer Item model number  \\\n",
       "0          March 11, 2020                             NaN      Herobook Pro   \n",
       "1           June 30, 2020                             NaN      CoreBook Pro   \n",
       "2       November 20, 2020                             NaN        81WE00NKUS   \n",
       "3          August 9, 2018                             NaN        81JW0000US   \n",
       "4           June 16, 2020                             NaN     PH315-53-72XD   \n",
       "...                   ...                             ...               ...   \n",
       "2800     October 16, 2020                             NaN               NaN   \n",
       "2801    December 14, 2019                             NaN        10ST008NUS   \n",
       "2802     January 22, 2020                             NaN        20NYS6JB0F   \n",
       "2803     November 8, 2020                             NaN      Winnovo N140   \n",
       "2804     December 4, 2019                             NaN              N15C   \n",
       "\n",
       "     Average Battery Life (in hours)  ... Number of USB 2.0 Ports  \\\n",
       "0                          5 \\tyears  ...                     NaN   \n",
       "1                                NaN  ...                     NaN   \n",
       "2                                NaN  ...                       1   \n",
       "3                           10 Hours  ...                     NaN   \n",
       "4                            6 Hours  ...                     NaN   \n",
       "...                              ...  ...                     ...   \n",
       "2800                             NaN  ...                     NaN   \n",
       "2801                             NaN  ...                       2   \n",
       "2802                             NaN  ...                     NaN   \n",
       "2803                             NaN  ...                     NaN   \n",
       "2804                             NaN  ...                     NaN   \n",
       "\n",
       "     Number of USB 3.0 Ports Computer Memory Type Processor Brand  \\\n",
       "0                        NaN           DDR4 SDRAM           Intel   \n",
       "1                        NaN           DDR4 SDRAM           Intel   \n",
       "2                        NaN           DDR4 SDRAM           Intel   \n",
       "3                          1              Unknown        Mediatek   \n",
       "4                          3           DDR4 SDRAM           Intel   \n",
       "...                      ...                  ...             ...   \n",
       "2800                     NaN                  NaN           Intel   \n",
       "2801                       3              Unknown           Intel   \n",
       "2802                     NaN           DDR4 SDRAM           Intel   \n",
       "2803                     NaN           DDR3 SDRAM           Intel   \n",
       "2804                     NaN           DDR3 SDRAM           Intel   \n",
       "\n",
       "     Processor Count Memory Speed Hard Drive Interface Hardware Platform  \\\n",
       "0                  4          NaN                ATA-4                PC   \n",
       "1                  2          NaN          Solid State                PC   \n",
       "2                  2      3.9 GHz          Solid State                PC   \n",
       "3                  4          NaN          Solid State            Chrome   \n",
       "4                  6     2933 MHz     Gigabit Ethernet               NaN   \n",
       "...              ...          ...                  ...               ...   \n",
       "2800               1          NaN          Solid State                PC   \n",
       "2801               1          NaN              Unknown               NaN   \n",
       "2802               4      1.8 GHz                ESATA                PC   \n",
       "2803               2          NaN              USB 3.0                PC   \n",
       "2804               4      2.3 GHz                  ATA                PC   \n",
       "\n",
       "     Flash Memory Size   Best_Sellers_Rank_fields  \n",
       "0               256 GB   Computers & Accessories   \n",
       "1                  NaN   Computers & Accessories   \n",
       "2               256 GB   Computers & Accessories   \n",
       "3                   64   Computers & Accessories   \n",
       "4                  512   Computers & Accessories   \n",
       "...                ...                        ...  \n",
       "2800               256   Computers & Accessories   \n",
       "2801               256   Computers & Accessories   \n",
       "2802            256 GB   Computers & Accessories   \n",
       "2803            128 GB   Computers & Accessories   \n",
       "2804            256 GB   Computers & Accessories   \n",
       "\n",
       "[2805 rows x 32 columns]"
      ],
      "text/html": "<div>\n<style scoped>\n    .dataframe tbody tr th:only-of-type {\n        vertical-align: middle;\n    }\n\n    .dataframe tbody tr th {\n        vertical-align: top;\n    }\n\n    .dataframe thead th {\n        text-align: right;\n    }\n</style>\n<table border=\"1\" class=\"dataframe\">\n  <thead>\n    <tr style=\"text-align: right;\">\n      <th></th>\n      <th>ASIN</th>\n      <th>name</th>\n      <th>Brand</th>\n      <th>Best Sellers Rank</th>\n      <th>Product Dimensions (inches)</th>\n      <th>Item Weight</th>\n      <th>Date First Available</th>\n      <th>Is Discontinued By Manufacturer</th>\n      <th>Item model number</th>\n      <th>Average Battery Life (in hours)</th>\n      <th>...</th>\n      <th>Number of USB 2.0 Ports</th>\n      <th>Number of USB 3.0 Ports</th>\n      <th>Computer Memory Type</th>\n      <th>Processor Brand</th>\n      <th>Processor Count</th>\n      <th>Memory Speed</th>\n      <th>Hard Drive Interface</th>\n      <th>Hardware Platform</th>\n      <th>Flash Memory Size</th>\n      <th>Best_Sellers_Rank_fields</th>\n    </tr>\n  </thead>\n  <tbody>\n    <tr>\n      <th>0</th>\n      <td>B085XRL3P1</td>\n      <td>CHUWI Herobook Pro 14.1 inch Windows 10 Intel ...</td>\n      <td>CHUWI</td>\n      <td>1853</td>\n      <td>13.07 x 8.43 x 0.84</td>\n      <td>3.06 pounds</td>\n      <td>March 11, 2020</td>\n      <td>NaN</td>\n      <td>Herobook Pro</td>\n      <td>5 \\tyears</td>\n      <td>...</td>\n      <td>NaN</td>\n      <td>NaN</td>\n      <td>DDR4 SDRAM</td>\n      <td>Intel</td>\n      <td>4</td>\n      <td>NaN</td>\n      <td>ATA-4</td>\n      <td>PC</td>\n      <td>256 GB</td>\n      <td>Computers &amp; Accessories</td>\n    </tr>\n    <tr>\n      <th>1</th>\n      <td>B08CDM3XPJ</td>\n      <td>CHUWI CoreBook Pro Windows 10 Laptop Computer,...</td>\n      <td>CHUWI</td>\n      <td>14505</td>\n      <td>1.14 x 0.87 x 0.71</td>\n      <td>4.38 pounds</td>\n      <td>June 30, 2020</td>\n      <td>NaN</td>\n      <td>CoreBook Pro</td>\n      <td>NaN</td>\n      <td>...</td>\n      <td>NaN</td>\n      <td>NaN</td>\n      <td>DDR4 SDRAM</td>\n      <td>Intel</td>\n      <td>2</td>\n      <td>NaN</td>\n      <td>Solid State</td>\n      <td>PC</td>\n      <td>NaN</td>\n      <td>Computers &amp; Accessories</td>\n    </tr>\n    <tr>\n      <th>2</th>\n      <td>B08NXSJVCR</td>\n      <td>Lenovo IdeaPad 3 Intel i5-1035G1 Quad Core 12G...</td>\n      <td>Lenovo</td>\n      <td>212</td>\n      <td>14.26 x 9.98 x 0.78</td>\n      <td>7 ounces</td>\n      <td>November 20, 2020</td>\n      <td>NaN</td>\n      <td>81WE00NKUS</td>\n      <td>NaN</td>\n      <td>...</td>\n      <td>1</td>\n      <td>NaN</td>\n      <td>DDR4 SDRAM</td>\n      <td>Intel</td>\n      <td>2</td>\n      <td>3.9 GHz</td>\n      <td>Solid State</td>\n      <td>PC</td>\n      <td>256 GB</td>\n      <td>Computers &amp; Accessories</td>\n    </tr>\n    <tr>\n      <th>3</th>\n      <td>B07GLV1VC7</td>\n      <td>Lenovo Chromebook S330 Laptop, 14-Inch FHD (19...</td>\n      <td>Lenovo</td>\n      <td>372</td>\n      <td>12.82 x 0.82 x 9.15</td>\n      <td>3.3 pounds</td>\n      <td>August 9, 2018</td>\n      <td>NaN</td>\n      <td>81JW0000US</td>\n      <td>10 Hours</td>\n      <td>...</td>\n      <td>NaN</td>\n      <td>1</td>\n      <td>Unknown</td>\n      <td>Mediatek</td>\n      <td>4</td>\n      <td>NaN</td>\n      <td>Solid State</td>\n      <td>Chrome</td>\n      <td>64</td>\n      <td>Computers &amp; Accessories</td>\n    </tr>\n    <tr>\n      <th>4</th>\n      <td>B08842D7JS</td>\n      <td>Acer Predator Helios 300 Gaming Laptop, Intel ...</td>\n      <td>Acer</td>\n      <td>146</td>\n      <td>14.31 x 10.04 x 0.9</td>\n      <td>5.07 pounds</td>\n      <td>June 16, 2020</td>\n      <td>NaN</td>\n      <td>PH315-53-72XD</td>\n      <td>6 Hours</td>\n      <td>...</td>\n      <td>NaN</td>\n      <td>3</td>\n      <td>DDR4 SDRAM</td>\n      <td>Intel</td>\n      <td>6</td>\n      <td>2933 MHz</td>\n      <td>Gigabit Ethernet</td>\n      <td>NaN</td>\n      <td>512</td>\n      <td>Computers &amp; Accessories</td>\n    </tr>\n    <tr>\n      <th>...</th>\n      <td>...</td>\n      <td>...</td>\n      <td>...</td>\n      <td>...</td>\n      <td>...</td>\n      <td>...</td>\n      <td>...</td>\n      <td>...</td>\n      <td>...</td>\n      <td>...</td>\n      <td>...</td>\n      <td>...</td>\n      <td>...</td>\n      <td>...</td>\n      <td>...</td>\n      <td>...</td>\n      <td>...</td>\n      <td>...</td>\n      <td>...</td>\n      <td>...</td>\n      <td>...</td>\n    </tr>\n    <tr>\n      <th>2800</th>\n      <td>B08L8KW3ZM</td>\n      <td>Dell Latitude 5410 14\" Notebook - Full HD - 19...</td>\n      <td>Dell</td>\n      <td>579675</td>\n      <td>8.5 x 12.72 x 0.83</td>\n      <td>3.26 pounds</td>\n      <td>October 16, 2020</td>\n      <td>NaN</td>\n      <td>NaN</td>\n      <td>NaN</td>\n      <td>...</td>\n      <td>NaN</td>\n      <td>NaN</td>\n      <td>NaN</td>\n      <td>Intel</td>\n      <td>1</td>\n      <td>NaN</td>\n      <td>Solid State</td>\n      <td>PC</td>\n      <td>256</td>\n      <td>Computers &amp; Accessories</td>\n    </tr>\n    <tr>\n      <th>2801</th>\n      <td>B082RD3STD</td>\n      <td>TopSeller TC M720S SFF I5-9400 2.9G 8GB 256GB ...</td>\n      <td>Lenovo</td>\n      <td>47707</td>\n      <td>11.4 x 3.6 x 13.5</td>\n      <td>13.2 pounds</td>\n      <td>December 14, 2019</td>\n      <td>NaN</td>\n      <td>10ST008NUS</td>\n      <td>NaN</td>\n      <td>...</td>\n      <td>2</td>\n      <td>3</td>\n      <td>Unknown</td>\n      <td>Intel</td>\n      <td>1</td>\n      <td>NaN</td>\n      <td>Unknown</td>\n      <td>NaN</td>\n      <td>256</td>\n      <td>Computers &amp; Accessories</td>\n    </tr>\n    <tr>\n      <th>2802</th>\n      <td>B0844KPGNF</td>\n      <td>Lenovo ThinkPad T14 Laptop - 14\" IPS FHD Touch...</td>\n      <td>Lenovo</td>\n      <td>310265</td>\n      <td>12.95 x 8.94 x 0.7</td>\n      <td>3.4 pounds</td>\n      <td>January 22, 2020</td>\n      <td>NaN</td>\n      <td>20NYS6JB0F</td>\n      <td>NaN</td>\n      <td>...</td>\n      <td>NaN</td>\n      <td>NaN</td>\n      <td>DDR4 SDRAM</td>\n      <td>Intel</td>\n      <td>4</td>\n      <td>1.8 GHz</td>\n      <td>ESATA</td>\n      <td>PC</td>\n      <td>256 GB</td>\n      <td>Computers &amp; Accessories</td>\n    </tr>\n    <tr>\n      <th>2803</th>\n      <td>B08JBVT48L</td>\n      <td>Laptop 14 Inch, Winnovo N140, 6GB RAM, 128GB S...</td>\n      <td>Winnovo</td>\n      <td>4479</td>\n      <td>14.21 x 9.96 x 2.91</td>\n      <td>4.37 pounds</td>\n      <td>November 8, 2020</td>\n      <td>NaN</td>\n      <td>Winnovo N140</td>\n      <td>NaN</td>\n      <td>...</td>\n      <td>NaN</td>\n      <td>NaN</td>\n      <td>DDR3 SDRAM</td>\n      <td>Intel</td>\n      <td>2</td>\n      <td>NaN</td>\n      <td>USB 3.0</td>\n      <td>PC</td>\n      <td>128 GB</td>\n      <td>Computers &amp; Accessories</td>\n    </tr>\n    <tr>\n      <th>2804</th>\n      <td>B08N63ZSV7</td>\n      <td>2020 15.6-inch Laptop 6G + 256G, Intel celeron...</td>\n      <td>XINYANGCH</td>\n      <td>29104</td>\n      <td>18.94 x 11.5 x 2.36</td>\n      <td>3.96 pounds</td>\n      <td>December 4, 2019</td>\n      <td>NaN</td>\n      <td>N15C</td>\n      <td>NaN</td>\n      <td>...</td>\n      <td>NaN</td>\n      <td>NaN</td>\n      <td>DDR3 SDRAM</td>\n      <td>Intel</td>\n      <td>4</td>\n      <td>2.3 GHz</td>\n      <td>ATA</td>\n      <td>PC</td>\n      <td>256 GB</td>\n      <td>Computers &amp; Accessories</td>\n    </tr>\n  </tbody>\n</table>\n<p>2805 rows × 32 columns</p>\n</div>"
     },
     "metadata": {},
     "execution_count": 74
    }
   ],
   "source": [
    "m_new"
   ]
  },
  {
   "cell_type": "code",
   "execution_count": 75,
   "metadata": {},
   "outputs": [
    {
     "output_type": "execute_result",
     "data": {
      "text/plain": [
       "         a       b\n",
       "0     3.06  pounds\n",
       "1     4.38  pounds\n",
       "2        7  ounces\n",
       "3      3.3  pounds\n",
       "4     5.07  pounds\n",
       "...    ...     ...\n",
       "2800  3.26  pounds\n",
       "2801  13.2  pounds\n",
       "2802   3.4  pounds\n",
       "2803  4.37  pounds\n",
       "2804  3.96  pounds\n",
       "\n",
       "[2805 rows x 2 columns]"
      ],
      "text/html": "<div>\n<style scoped>\n    .dataframe tbody tr th:only-of-type {\n        vertical-align: middle;\n    }\n\n    .dataframe tbody tr th {\n        vertical-align: top;\n    }\n\n    .dataframe thead th {\n        text-align: right;\n    }\n</style>\n<table border=\"1\" class=\"dataframe\">\n  <thead>\n    <tr style=\"text-align: right;\">\n      <th></th>\n      <th>a</th>\n      <th>b</th>\n    </tr>\n  </thead>\n  <tbody>\n    <tr>\n      <th>0</th>\n      <td>3.06</td>\n      <td>pounds</td>\n    </tr>\n    <tr>\n      <th>1</th>\n      <td>4.38</td>\n      <td>pounds</td>\n    </tr>\n    <tr>\n      <th>2</th>\n      <td>7</td>\n      <td>ounces</td>\n    </tr>\n    <tr>\n      <th>3</th>\n      <td>3.3</td>\n      <td>pounds</td>\n    </tr>\n    <tr>\n      <th>4</th>\n      <td>5.07</td>\n      <td>pounds</td>\n    </tr>\n    <tr>\n      <th>...</th>\n      <td>...</td>\n      <td>...</td>\n    </tr>\n    <tr>\n      <th>2800</th>\n      <td>3.26</td>\n      <td>pounds</td>\n    </tr>\n    <tr>\n      <th>2801</th>\n      <td>13.2</td>\n      <td>pounds</td>\n    </tr>\n    <tr>\n      <th>2802</th>\n      <td>3.4</td>\n      <td>pounds</td>\n    </tr>\n    <tr>\n      <th>2803</th>\n      <td>4.37</td>\n      <td>pounds</td>\n    </tr>\n    <tr>\n      <th>2804</th>\n      <td>3.96</td>\n      <td>pounds</td>\n    </tr>\n  </tbody>\n</table>\n<p>2805 rows × 2 columns</p>\n</div>"
     },
     "metadata": {},
     "execution_count": 75
    }
   ],
   "source": [
    "a = m_new['Item Weight'].str.split(expand=True)\n",
    "a.columns = ['a', 'b']\n",
    "a"
   ]
  },
  {
   "cell_type": "code",
   "execution_count": 76,
   "metadata": {},
   "outputs": [
    {
     "output_type": "execute_result",
     "data": {
      "text/plain": [
       "            ASIN                                               name  \\\n",
       "0     B085XRL3P1  CHUWI Herobook Pro 14.1 inch Windows 10 Intel ...   \n",
       "1     B08CDM3XPJ  CHUWI CoreBook Pro Windows 10 Laptop Computer,...   \n",
       "2     B08NXSJVCR  Lenovo IdeaPad 3 Intel i5-1035G1 Quad Core 12G...   \n",
       "3     B07GLV1VC7  Lenovo Chromebook S330 Laptop, 14-Inch FHD (19...   \n",
       "4     B08842D7JS  Acer Predator Helios 300 Gaming Laptop, Intel ...   \n",
       "...          ...                                                ...   \n",
       "2800  B08L8KW3ZM  Dell Latitude 5410 14\" Notebook - Full HD - 19...   \n",
       "2801  B082RD3STD  TopSeller TC M720S SFF I5-9400 2.9G 8GB 256GB ...   \n",
       "2802  B0844KPGNF  Lenovo ThinkPad T14 Laptop - 14\" IPS FHD Touch...   \n",
       "2803  B08JBVT48L  Laptop 14 Inch, Winnovo N140, 6GB RAM, 128GB S...   \n",
       "2804  B08N63ZSV7  2020 15.6-inch Laptop 6G + 256G, Intel celeron...   \n",
       "\n",
       "          Brand  Best Sellers Rank Product Dimensions (inches)  Item Weight  \\\n",
       "0         CHUWI               1853        13.07 x 8.43 x 0.84          3.06   \n",
       "1         CHUWI              14505         1.14 x 0.87 x 0.71          4.38   \n",
       "2        Lenovo                212        14.26 x 9.98 x 0.78          1.12   \n",
       "3        Lenovo                372        12.82 x 0.82 x 9.15          3.30   \n",
       "4          Acer                146        14.31 x 10.04 x 0.9          5.07   \n",
       "...         ...                ...                         ...          ...   \n",
       "2800       Dell             579675         8.5 x 12.72 x 0.83          3.26   \n",
       "2801     Lenovo              47707          11.4 x 3.6 x 13.5         13.20   \n",
       "2802     Lenovo             310265         12.95 x 8.94 x 0.7          3.40   \n",
       "2803    Winnovo               4479        14.21 x 9.96 x 2.91          4.37   \n",
       "2804  XINYANGCH              29104        18.94 x 11.5 x 2.36          3.96   \n",
       "\n",
       "     Date First Available Is Discontinued By Manufacturer Item model number  \\\n",
       "0          March 11, 2020                             NaN      Herobook Pro   \n",
       "1           June 30, 2020                             NaN      CoreBook Pro   \n",
       "2       November 20, 2020                             NaN        81WE00NKUS   \n",
       "3          August 9, 2018                             NaN        81JW0000US   \n",
       "4           June 16, 2020                             NaN     PH315-53-72XD   \n",
       "...                   ...                             ...               ...   \n",
       "2800     October 16, 2020                             NaN               NaN   \n",
       "2801    December 14, 2019                             NaN        10ST008NUS   \n",
       "2802     January 22, 2020                             NaN        20NYS6JB0F   \n",
       "2803     November 8, 2020                             NaN      Winnovo N140   \n",
       "2804     December 4, 2019                             NaN              N15C   \n",
       "\n",
       "     Average Battery Life (in hours)  ... Number of USB 2.0 Ports  \\\n",
       "0                          5 \\tyears  ...                     NaN   \n",
       "1                                NaN  ...                     NaN   \n",
       "2                                NaN  ...                       1   \n",
       "3                           10 Hours  ...                     NaN   \n",
       "4                            6 Hours  ...                     NaN   \n",
       "...                              ...  ...                     ...   \n",
       "2800                             NaN  ...                     NaN   \n",
       "2801                             NaN  ...                       2   \n",
       "2802                             NaN  ...                     NaN   \n",
       "2803                             NaN  ...                     NaN   \n",
       "2804                             NaN  ...                     NaN   \n",
       "\n",
       "     Number of USB 3.0 Ports Computer Memory Type Processor Brand  \\\n",
       "0                        NaN           DDR4 SDRAM           Intel   \n",
       "1                        NaN           DDR4 SDRAM           Intel   \n",
       "2                        NaN           DDR4 SDRAM           Intel   \n",
       "3                          1              Unknown        Mediatek   \n",
       "4                          3           DDR4 SDRAM           Intel   \n",
       "...                      ...                  ...             ...   \n",
       "2800                     NaN                  NaN           Intel   \n",
       "2801                       3              Unknown           Intel   \n",
       "2802                     NaN           DDR4 SDRAM           Intel   \n",
       "2803                     NaN           DDR3 SDRAM           Intel   \n",
       "2804                     NaN           DDR3 SDRAM           Intel   \n",
       "\n",
       "     Processor Count Memory Speed Hard Drive Interface Hardware Platform  \\\n",
       "0                  4          NaN                ATA-4                PC   \n",
       "1                  2          NaN          Solid State                PC   \n",
       "2                  2      3.9 GHz          Solid State                PC   \n",
       "3                  4          NaN          Solid State            Chrome   \n",
       "4                  6     2933 MHz     Gigabit Ethernet               NaN   \n",
       "...              ...          ...                  ...               ...   \n",
       "2800               1          NaN          Solid State                PC   \n",
       "2801               1          NaN              Unknown               NaN   \n",
       "2802               4      1.8 GHz                ESATA                PC   \n",
       "2803               2          NaN              USB 3.0                PC   \n",
       "2804               4      2.3 GHz                  ATA                PC   \n",
       "\n",
       "     Flash Memory Size   Best_Sellers_Rank_fields  \n",
       "0               256 GB   Computers & Accessories   \n",
       "1                  NaN   Computers & Accessories   \n",
       "2               256 GB   Computers & Accessories   \n",
       "3                   64   Computers & Accessories   \n",
       "4                  512   Computers & Accessories   \n",
       "...                ...                        ...  \n",
       "2800               256   Computers & Accessories   \n",
       "2801               256   Computers & Accessories   \n",
       "2802            256 GB   Computers & Accessories   \n",
       "2803            128 GB   Computers & Accessories   \n",
       "2804            256 GB   Computers & Accessories   \n",
       "\n",
       "[2805 rows x 32 columns]"
      ],
      "text/html": "<div>\n<style scoped>\n    .dataframe tbody tr th:only-of-type {\n        vertical-align: middle;\n    }\n\n    .dataframe tbody tr th {\n        vertical-align: top;\n    }\n\n    .dataframe thead th {\n        text-align: right;\n    }\n</style>\n<table border=\"1\" class=\"dataframe\">\n  <thead>\n    <tr style=\"text-align: right;\">\n      <th></th>\n      <th>ASIN</th>\n      <th>name</th>\n      <th>Brand</th>\n      <th>Best Sellers Rank</th>\n      <th>Product Dimensions (inches)</th>\n      <th>Item Weight</th>\n      <th>Date First Available</th>\n      <th>Is Discontinued By Manufacturer</th>\n      <th>Item model number</th>\n      <th>Average Battery Life (in hours)</th>\n      <th>...</th>\n      <th>Number of USB 2.0 Ports</th>\n      <th>Number of USB 3.0 Ports</th>\n      <th>Computer Memory Type</th>\n      <th>Processor Brand</th>\n      <th>Processor Count</th>\n      <th>Memory Speed</th>\n      <th>Hard Drive Interface</th>\n      <th>Hardware Platform</th>\n      <th>Flash Memory Size</th>\n      <th>Best_Sellers_Rank_fields</th>\n    </tr>\n  </thead>\n  <tbody>\n    <tr>\n      <th>0</th>\n      <td>B085XRL3P1</td>\n      <td>CHUWI Herobook Pro 14.1 inch Windows 10 Intel ...</td>\n      <td>CHUWI</td>\n      <td>1853</td>\n      <td>13.07 x 8.43 x 0.84</td>\n      <td>3.06</td>\n      <td>March 11, 2020</td>\n      <td>NaN</td>\n      <td>Herobook Pro</td>\n      <td>5 \\tyears</td>\n      <td>...</td>\n      <td>NaN</td>\n      <td>NaN</td>\n      <td>DDR4 SDRAM</td>\n      <td>Intel</td>\n      <td>4</td>\n      <td>NaN</td>\n      <td>ATA-4</td>\n      <td>PC</td>\n      <td>256 GB</td>\n      <td>Computers &amp; Accessories</td>\n    </tr>\n    <tr>\n      <th>1</th>\n      <td>B08CDM3XPJ</td>\n      <td>CHUWI CoreBook Pro Windows 10 Laptop Computer,...</td>\n      <td>CHUWI</td>\n      <td>14505</td>\n      <td>1.14 x 0.87 x 0.71</td>\n      <td>4.38</td>\n      <td>June 30, 2020</td>\n      <td>NaN</td>\n      <td>CoreBook Pro</td>\n      <td>NaN</td>\n      <td>...</td>\n      <td>NaN</td>\n      <td>NaN</td>\n      <td>DDR4 SDRAM</td>\n      <td>Intel</td>\n      <td>2</td>\n      <td>NaN</td>\n      <td>Solid State</td>\n      <td>PC</td>\n      <td>NaN</td>\n      <td>Computers &amp; Accessories</td>\n    </tr>\n    <tr>\n      <th>2</th>\n      <td>B08NXSJVCR</td>\n      <td>Lenovo IdeaPad 3 Intel i5-1035G1 Quad Core 12G...</td>\n      <td>Lenovo</td>\n      <td>212</td>\n      <td>14.26 x 9.98 x 0.78</td>\n      <td>1.12</td>\n      <td>November 20, 2020</td>\n      <td>NaN</td>\n      <td>81WE00NKUS</td>\n      <td>NaN</td>\n      <td>...</td>\n      <td>1</td>\n      <td>NaN</td>\n      <td>DDR4 SDRAM</td>\n      <td>Intel</td>\n      <td>2</td>\n      <td>3.9 GHz</td>\n      <td>Solid State</td>\n      <td>PC</td>\n      <td>256 GB</td>\n      <td>Computers &amp; Accessories</td>\n    </tr>\n    <tr>\n      <th>3</th>\n      <td>B07GLV1VC7</td>\n      <td>Lenovo Chromebook S330 Laptop, 14-Inch FHD (19...</td>\n      <td>Lenovo</td>\n      <td>372</td>\n      <td>12.82 x 0.82 x 9.15</td>\n      <td>3.30</td>\n      <td>August 9, 2018</td>\n      <td>NaN</td>\n      <td>81JW0000US</td>\n      <td>10 Hours</td>\n      <td>...</td>\n      <td>NaN</td>\n      <td>1</td>\n      <td>Unknown</td>\n      <td>Mediatek</td>\n      <td>4</td>\n      <td>NaN</td>\n      <td>Solid State</td>\n      <td>Chrome</td>\n      <td>64</td>\n      <td>Computers &amp; Accessories</td>\n    </tr>\n    <tr>\n      <th>4</th>\n      <td>B08842D7JS</td>\n      <td>Acer Predator Helios 300 Gaming Laptop, Intel ...</td>\n      <td>Acer</td>\n      <td>146</td>\n      <td>14.31 x 10.04 x 0.9</td>\n      <td>5.07</td>\n      <td>June 16, 2020</td>\n      <td>NaN</td>\n      <td>PH315-53-72XD</td>\n      <td>6 Hours</td>\n      <td>...</td>\n      <td>NaN</td>\n      <td>3</td>\n      <td>DDR4 SDRAM</td>\n      <td>Intel</td>\n      <td>6</td>\n      <td>2933 MHz</td>\n      <td>Gigabit Ethernet</td>\n      <td>NaN</td>\n      <td>512</td>\n      <td>Computers &amp; Accessories</td>\n    </tr>\n    <tr>\n      <th>...</th>\n      <td>...</td>\n      <td>...</td>\n      <td>...</td>\n      <td>...</td>\n      <td>...</td>\n      <td>...</td>\n      <td>...</td>\n      <td>...</td>\n      <td>...</td>\n      <td>...</td>\n      <td>...</td>\n      <td>...</td>\n      <td>...</td>\n      <td>...</td>\n      <td>...</td>\n      <td>...</td>\n      <td>...</td>\n      <td>...</td>\n      <td>...</td>\n      <td>...</td>\n      <td>...</td>\n    </tr>\n    <tr>\n      <th>2800</th>\n      <td>B08L8KW3ZM</td>\n      <td>Dell Latitude 5410 14\" Notebook - Full HD - 19...</td>\n      <td>Dell</td>\n      <td>579675</td>\n      <td>8.5 x 12.72 x 0.83</td>\n      <td>3.26</td>\n      <td>October 16, 2020</td>\n      <td>NaN</td>\n      <td>NaN</td>\n      <td>NaN</td>\n      <td>...</td>\n      <td>NaN</td>\n      <td>NaN</td>\n      <td>NaN</td>\n      <td>Intel</td>\n      <td>1</td>\n      <td>NaN</td>\n      <td>Solid State</td>\n      <td>PC</td>\n      <td>256</td>\n      <td>Computers &amp; Accessories</td>\n    </tr>\n    <tr>\n      <th>2801</th>\n      <td>B082RD3STD</td>\n      <td>TopSeller TC M720S SFF I5-9400 2.9G 8GB 256GB ...</td>\n      <td>Lenovo</td>\n      <td>47707</td>\n      <td>11.4 x 3.6 x 13.5</td>\n      <td>13.20</td>\n      <td>December 14, 2019</td>\n      <td>NaN</td>\n      <td>10ST008NUS</td>\n      <td>NaN</td>\n      <td>...</td>\n      <td>2</td>\n      <td>3</td>\n      <td>Unknown</td>\n      <td>Intel</td>\n      <td>1</td>\n      <td>NaN</td>\n      <td>Unknown</td>\n      <td>NaN</td>\n      <td>256</td>\n      <td>Computers &amp; Accessories</td>\n    </tr>\n    <tr>\n      <th>2802</th>\n      <td>B0844KPGNF</td>\n      <td>Lenovo ThinkPad T14 Laptop - 14\" IPS FHD Touch...</td>\n      <td>Lenovo</td>\n      <td>310265</td>\n      <td>12.95 x 8.94 x 0.7</td>\n      <td>3.40</td>\n      <td>January 22, 2020</td>\n      <td>NaN</td>\n      <td>20NYS6JB0F</td>\n      <td>NaN</td>\n      <td>...</td>\n      <td>NaN</td>\n      <td>NaN</td>\n      <td>DDR4 SDRAM</td>\n      <td>Intel</td>\n      <td>4</td>\n      <td>1.8 GHz</td>\n      <td>ESATA</td>\n      <td>PC</td>\n      <td>256 GB</td>\n      <td>Computers &amp; Accessories</td>\n    </tr>\n    <tr>\n      <th>2803</th>\n      <td>B08JBVT48L</td>\n      <td>Laptop 14 Inch, Winnovo N140, 6GB RAM, 128GB S...</td>\n      <td>Winnovo</td>\n      <td>4479</td>\n      <td>14.21 x 9.96 x 2.91</td>\n      <td>4.37</td>\n      <td>November 8, 2020</td>\n      <td>NaN</td>\n      <td>Winnovo N140</td>\n      <td>NaN</td>\n      <td>...</td>\n      <td>NaN</td>\n      <td>NaN</td>\n      <td>DDR3 SDRAM</td>\n      <td>Intel</td>\n      <td>2</td>\n      <td>NaN</td>\n      <td>USB 3.0</td>\n      <td>PC</td>\n      <td>128 GB</td>\n      <td>Computers &amp; Accessories</td>\n    </tr>\n    <tr>\n      <th>2804</th>\n      <td>B08N63ZSV7</td>\n      <td>2020 15.6-inch Laptop 6G + 256G, Intel celeron...</td>\n      <td>XINYANGCH</td>\n      <td>29104</td>\n      <td>18.94 x 11.5 x 2.36</td>\n      <td>3.96</td>\n      <td>December 4, 2019</td>\n      <td>NaN</td>\n      <td>N15C</td>\n      <td>NaN</td>\n      <td>...</td>\n      <td>NaN</td>\n      <td>NaN</td>\n      <td>DDR3 SDRAM</td>\n      <td>Intel</td>\n      <td>4</td>\n      <td>2.3 GHz</td>\n      <td>ATA</td>\n      <td>PC</td>\n      <td>256 GB</td>\n      <td>Computers &amp; Accessories</td>\n    </tr>\n  </tbody>\n</table>\n<p>2805 rows × 32 columns</p>\n</div>"
     },
     "metadata": {},
     "execution_count": 76
    }
   ],
   "source": [
    "a.a = a['a'].astype(float)\n",
    "a['a'] = np.where(a['b'] == 'ounces',a['a'] * 0.16 ,a['a'])\n",
    "m_new['Item Weight'] = a['a']\n",
    "m_new"
   ]
  },
  {
   "cell_type": "code",
   "execution_count": 77,
   "metadata": {},
   "outputs": [
    {
     "output_type": "execute_result",
     "data": {
      "text/plain": [
       "            ASIN                                               name  \\\n",
       "0     B085XRL3P1  CHUWI Herobook Pro 14.1 inch Windows 10 Intel ...   \n",
       "1     B08CDM3XPJ  CHUWI CoreBook Pro Windows 10 Laptop Computer,...   \n",
       "2     B08NXSJVCR  Lenovo IdeaPad 3 Intel i5-1035G1 Quad Core 12G...   \n",
       "3     B07GLV1VC7  Lenovo Chromebook S330 Laptop, 14-Inch FHD (19...   \n",
       "4     B08842D7JS  Acer Predator Helios 300 Gaming Laptop, Intel ...   \n",
       "...          ...                                                ...   \n",
       "2800  B08L8KW3ZM  Dell Latitude 5410 14\" Notebook - Full HD - 19...   \n",
       "2801  B082RD3STD  TopSeller TC M720S SFF I5-9400 2.9G 8GB 256GB ...   \n",
       "2802  B0844KPGNF  Lenovo ThinkPad T14 Laptop - 14\" IPS FHD Touch...   \n",
       "2803  B08JBVT48L  Laptop 14 Inch, Winnovo N140, 6GB RAM, 128GB S...   \n",
       "2804  B08N63ZSV7  2020 15.6-inch Laptop 6G + 256G, Intel celeron...   \n",
       "\n",
       "          Brand  Best Sellers Rank Product Dimensions (inches)  \\\n",
       "0         CHUWI               1853        13.07 x 8.43 x 0.84    \n",
       "1         CHUWI              14505         1.14 x 0.87 x 0.71    \n",
       "2        Lenovo                212        14.26 x 9.98 x 0.78    \n",
       "3        Lenovo                372        12.82 x 0.82 x 9.15    \n",
       "4          Acer                146        14.31 x 10.04 x 0.9    \n",
       "...         ...                ...                         ...   \n",
       "2800       Dell             579675         8.5 x 12.72 x 0.83    \n",
       "2801     Lenovo              47707          11.4 x 3.6 x 13.5    \n",
       "2802     Lenovo             310265         12.95 x 8.94 x 0.7    \n",
       "2803    Winnovo               4479        14.21 x 9.96 x 2.91    \n",
       "2804  XINYANGCH              29104        18.94 x 11.5 x 2.36    \n",
       "\n",
       "      Item_Weight_Pounds Date First Available Is Discontinued By Manufacturer  \\\n",
       "0                   3.06       March 11, 2020                             NaN   \n",
       "1                   4.38        June 30, 2020                             NaN   \n",
       "2                   1.12    November 20, 2020                             NaN   \n",
       "3                   3.30       August 9, 2018                             NaN   \n",
       "4                   5.07        June 16, 2020                             NaN   \n",
       "...                  ...                  ...                             ...   \n",
       "2800                3.26     October 16, 2020                             NaN   \n",
       "2801               13.20    December 14, 2019                             NaN   \n",
       "2802                3.40     January 22, 2020                             NaN   \n",
       "2803                4.37     November 8, 2020                             NaN   \n",
       "2804                3.96     December 4, 2019                             NaN   \n",
       "\n",
       "     Item model number Average Battery Life (in hours)  ...  \\\n",
       "0         Herobook Pro                       5 \\tyears  ...   \n",
       "1         CoreBook Pro                             NaN  ...   \n",
       "2           81WE00NKUS                             NaN  ...   \n",
       "3           81JW0000US                        10 Hours  ...   \n",
       "4        PH315-53-72XD                         6 Hours  ...   \n",
       "...                ...                             ...  ...   \n",
       "2800               NaN                             NaN  ...   \n",
       "2801        10ST008NUS                             NaN  ...   \n",
       "2802        20NYS6JB0F                             NaN  ...   \n",
       "2803      Winnovo N140                             NaN  ...   \n",
       "2804              N15C                             NaN  ...   \n",
       "\n",
       "     Number of USB 2.0 Ports Number of USB 3.0 Ports Computer Memory Type  \\\n",
       "0                        NaN                     NaN           DDR4 SDRAM   \n",
       "1                        NaN                     NaN           DDR4 SDRAM   \n",
       "2                          1                     NaN           DDR4 SDRAM   \n",
       "3                        NaN                       1              Unknown   \n",
       "4                        NaN                       3           DDR4 SDRAM   \n",
       "...                      ...                     ...                  ...   \n",
       "2800                     NaN                     NaN                  NaN   \n",
       "2801                       2                       3              Unknown   \n",
       "2802                     NaN                     NaN           DDR4 SDRAM   \n",
       "2803                     NaN                     NaN           DDR3 SDRAM   \n",
       "2804                     NaN                     NaN           DDR3 SDRAM   \n",
       "\n",
       "     Processor Brand Processor Count Memory Speed Hard Drive Interface  \\\n",
       "0              Intel               4          NaN                ATA-4   \n",
       "1              Intel               2          NaN          Solid State   \n",
       "2              Intel               2      3.9 GHz          Solid State   \n",
       "3           Mediatek               4          NaN          Solid State   \n",
       "4              Intel               6     2933 MHz     Gigabit Ethernet   \n",
       "...              ...             ...          ...                  ...   \n",
       "2800           Intel               1          NaN          Solid State   \n",
       "2801           Intel               1          NaN              Unknown   \n",
       "2802           Intel               4      1.8 GHz                ESATA   \n",
       "2803           Intel               2          NaN              USB 3.0   \n",
       "2804           Intel               4      2.3 GHz                  ATA   \n",
       "\n",
       "     Hardware Platform Flash Memory Size   Best_Sellers_Rank_fields  \n",
       "0                   PC            256 GB   Computers & Accessories   \n",
       "1                   PC               NaN   Computers & Accessories   \n",
       "2                   PC            256 GB   Computers & Accessories   \n",
       "3               Chrome                64   Computers & Accessories   \n",
       "4                  NaN               512   Computers & Accessories   \n",
       "...                ...               ...                        ...  \n",
       "2800                PC               256   Computers & Accessories   \n",
       "2801               NaN               256   Computers & Accessories   \n",
       "2802                PC            256 GB   Computers & Accessories   \n",
       "2803                PC            128 GB   Computers & Accessories   \n",
       "2804                PC            256 GB   Computers & Accessories   \n",
       "\n",
       "[2805 rows x 32 columns]"
      ],
      "text/html": "<div>\n<style scoped>\n    .dataframe tbody tr th:only-of-type {\n        vertical-align: middle;\n    }\n\n    .dataframe tbody tr th {\n        vertical-align: top;\n    }\n\n    .dataframe thead th {\n        text-align: right;\n    }\n</style>\n<table border=\"1\" class=\"dataframe\">\n  <thead>\n    <tr style=\"text-align: right;\">\n      <th></th>\n      <th>ASIN</th>\n      <th>name</th>\n      <th>Brand</th>\n      <th>Best Sellers Rank</th>\n      <th>Product Dimensions (inches)</th>\n      <th>Item_Weight_Pounds</th>\n      <th>Date First Available</th>\n      <th>Is Discontinued By Manufacturer</th>\n      <th>Item model number</th>\n      <th>Average Battery Life (in hours)</th>\n      <th>...</th>\n      <th>Number of USB 2.0 Ports</th>\n      <th>Number of USB 3.0 Ports</th>\n      <th>Computer Memory Type</th>\n      <th>Processor Brand</th>\n      <th>Processor Count</th>\n      <th>Memory Speed</th>\n      <th>Hard Drive Interface</th>\n      <th>Hardware Platform</th>\n      <th>Flash Memory Size</th>\n      <th>Best_Sellers_Rank_fields</th>\n    </tr>\n  </thead>\n  <tbody>\n    <tr>\n      <th>0</th>\n      <td>B085XRL3P1</td>\n      <td>CHUWI Herobook Pro 14.1 inch Windows 10 Intel ...</td>\n      <td>CHUWI</td>\n      <td>1853</td>\n      <td>13.07 x 8.43 x 0.84</td>\n      <td>3.06</td>\n      <td>March 11, 2020</td>\n      <td>NaN</td>\n      <td>Herobook Pro</td>\n      <td>5 \\tyears</td>\n      <td>...</td>\n      <td>NaN</td>\n      <td>NaN</td>\n      <td>DDR4 SDRAM</td>\n      <td>Intel</td>\n      <td>4</td>\n      <td>NaN</td>\n      <td>ATA-4</td>\n      <td>PC</td>\n      <td>256 GB</td>\n      <td>Computers &amp; Accessories</td>\n    </tr>\n    <tr>\n      <th>1</th>\n      <td>B08CDM3XPJ</td>\n      <td>CHUWI CoreBook Pro Windows 10 Laptop Computer,...</td>\n      <td>CHUWI</td>\n      <td>14505</td>\n      <td>1.14 x 0.87 x 0.71</td>\n      <td>4.38</td>\n      <td>June 30, 2020</td>\n      <td>NaN</td>\n      <td>CoreBook Pro</td>\n      <td>NaN</td>\n      <td>...</td>\n      <td>NaN</td>\n      <td>NaN</td>\n      <td>DDR4 SDRAM</td>\n      <td>Intel</td>\n      <td>2</td>\n      <td>NaN</td>\n      <td>Solid State</td>\n      <td>PC</td>\n      <td>NaN</td>\n      <td>Computers &amp; Accessories</td>\n    </tr>\n    <tr>\n      <th>2</th>\n      <td>B08NXSJVCR</td>\n      <td>Lenovo IdeaPad 3 Intel i5-1035G1 Quad Core 12G...</td>\n      <td>Lenovo</td>\n      <td>212</td>\n      <td>14.26 x 9.98 x 0.78</td>\n      <td>1.12</td>\n      <td>November 20, 2020</td>\n      <td>NaN</td>\n      <td>81WE00NKUS</td>\n      <td>NaN</td>\n      <td>...</td>\n      <td>1</td>\n      <td>NaN</td>\n      <td>DDR4 SDRAM</td>\n      <td>Intel</td>\n      <td>2</td>\n      <td>3.9 GHz</td>\n      <td>Solid State</td>\n      <td>PC</td>\n      <td>256 GB</td>\n      <td>Computers &amp; Accessories</td>\n    </tr>\n    <tr>\n      <th>3</th>\n      <td>B07GLV1VC7</td>\n      <td>Lenovo Chromebook S330 Laptop, 14-Inch FHD (19...</td>\n      <td>Lenovo</td>\n      <td>372</td>\n      <td>12.82 x 0.82 x 9.15</td>\n      <td>3.30</td>\n      <td>August 9, 2018</td>\n      <td>NaN</td>\n      <td>81JW0000US</td>\n      <td>10 Hours</td>\n      <td>...</td>\n      <td>NaN</td>\n      <td>1</td>\n      <td>Unknown</td>\n      <td>Mediatek</td>\n      <td>4</td>\n      <td>NaN</td>\n      <td>Solid State</td>\n      <td>Chrome</td>\n      <td>64</td>\n      <td>Computers &amp; Accessories</td>\n    </tr>\n    <tr>\n      <th>4</th>\n      <td>B08842D7JS</td>\n      <td>Acer Predator Helios 300 Gaming Laptop, Intel ...</td>\n      <td>Acer</td>\n      <td>146</td>\n      <td>14.31 x 10.04 x 0.9</td>\n      <td>5.07</td>\n      <td>June 16, 2020</td>\n      <td>NaN</td>\n      <td>PH315-53-72XD</td>\n      <td>6 Hours</td>\n      <td>...</td>\n      <td>NaN</td>\n      <td>3</td>\n      <td>DDR4 SDRAM</td>\n      <td>Intel</td>\n      <td>6</td>\n      <td>2933 MHz</td>\n      <td>Gigabit Ethernet</td>\n      <td>NaN</td>\n      <td>512</td>\n      <td>Computers &amp; Accessories</td>\n    </tr>\n    <tr>\n      <th>...</th>\n      <td>...</td>\n      <td>...</td>\n      <td>...</td>\n      <td>...</td>\n      <td>...</td>\n      <td>...</td>\n      <td>...</td>\n      <td>...</td>\n      <td>...</td>\n      <td>...</td>\n      <td>...</td>\n      <td>...</td>\n      <td>...</td>\n      <td>...</td>\n      <td>...</td>\n      <td>...</td>\n      <td>...</td>\n      <td>...</td>\n      <td>...</td>\n      <td>...</td>\n      <td>...</td>\n    </tr>\n    <tr>\n      <th>2800</th>\n      <td>B08L8KW3ZM</td>\n      <td>Dell Latitude 5410 14\" Notebook - Full HD - 19...</td>\n      <td>Dell</td>\n      <td>579675</td>\n      <td>8.5 x 12.72 x 0.83</td>\n      <td>3.26</td>\n      <td>October 16, 2020</td>\n      <td>NaN</td>\n      <td>NaN</td>\n      <td>NaN</td>\n      <td>...</td>\n      <td>NaN</td>\n      <td>NaN</td>\n      <td>NaN</td>\n      <td>Intel</td>\n      <td>1</td>\n      <td>NaN</td>\n      <td>Solid State</td>\n      <td>PC</td>\n      <td>256</td>\n      <td>Computers &amp; Accessories</td>\n    </tr>\n    <tr>\n      <th>2801</th>\n      <td>B082RD3STD</td>\n      <td>TopSeller TC M720S SFF I5-9400 2.9G 8GB 256GB ...</td>\n      <td>Lenovo</td>\n      <td>47707</td>\n      <td>11.4 x 3.6 x 13.5</td>\n      <td>13.20</td>\n      <td>December 14, 2019</td>\n      <td>NaN</td>\n      <td>10ST008NUS</td>\n      <td>NaN</td>\n      <td>...</td>\n      <td>2</td>\n      <td>3</td>\n      <td>Unknown</td>\n      <td>Intel</td>\n      <td>1</td>\n      <td>NaN</td>\n      <td>Unknown</td>\n      <td>NaN</td>\n      <td>256</td>\n      <td>Computers &amp; Accessories</td>\n    </tr>\n    <tr>\n      <th>2802</th>\n      <td>B0844KPGNF</td>\n      <td>Lenovo ThinkPad T14 Laptop - 14\" IPS FHD Touch...</td>\n      <td>Lenovo</td>\n      <td>310265</td>\n      <td>12.95 x 8.94 x 0.7</td>\n      <td>3.40</td>\n      <td>January 22, 2020</td>\n      <td>NaN</td>\n      <td>20NYS6JB0F</td>\n      <td>NaN</td>\n      <td>...</td>\n      <td>NaN</td>\n      <td>NaN</td>\n      <td>DDR4 SDRAM</td>\n      <td>Intel</td>\n      <td>4</td>\n      <td>1.8 GHz</td>\n      <td>ESATA</td>\n      <td>PC</td>\n      <td>256 GB</td>\n      <td>Computers &amp; Accessories</td>\n    </tr>\n    <tr>\n      <th>2803</th>\n      <td>B08JBVT48L</td>\n      <td>Laptop 14 Inch, Winnovo N140, 6GB RAM, 128GB S...</td>\n      <td>Winnovo</td>\n      <td>4479</td>\n      <td>14.21 x 9.96 x 2.91</td>\n      <td>4.37</td>\n      <td>November 8, 2020</td>\n      <td>NaN</td>\n      <td>Winnovo N140</td>\n      <td>NaN</td>\n      <td>...</td>\n      <td>NaN</td>\n      <td>NaN</td>\n      <td>DDR3 SDRAM</td>\n      <td>Intel</td>\n      <td>2</td>\n      <td>NaN</td>\n      <td>USB 3.0</td>\n      <td>PC</td>\n      <td>128 GB</td>\n      <td>Computers &amp; Accessories</td>\n    </tr>\n    <tr>\n      <th>2804</th>\n      <td>B08N63ZSV7</td>\n      <td>2020 15.6-inch Laptop 6G + 256G, Intel celeron...</td>\n      <td>XINYANGCH</td>\n      <td>29104</td>\n      <td>18.94 x 11.5 x 2.36</td>\n      <td>3.96</td>\n      <td>December 4, 2019</td>\n      <td>NaN</td>\n      <td>N15C</td>\n      <td>NaN</td>\n      <td>...</td>\n      <td>NaN</td>\n      <td>NaN</td>\n      <td>DDR3 SDRAM</td>\n      <td>Intel</td>\n      <td>4</td>\n      <td>2.3 GHz</td>\n      <td>ATA</td>\n      <td>PC</td>\n      <td>256 GB</td>\n      <td>Computers &amp; Accessories</td>\n    </tr>\n  </tbody>\n</table>\n<p>2805 rows × 32 columns</p>\n</div>"
     },
     "metadata": {},
     "execution_count": 77
    }
   ],
   "source": [
    "m_new = m_new.rename(columns={'Item Weight':'Item_Weight_Pounds'})\n",
    "m_new"
   ]
  },
  {
   "cell_type": "code",
   "execution_count": 78,
   "metadata": {},
   "outputs": [
    {
     "output_type": "execute_result",
     "data": {
      "text/plain": [
       "            ASIN                                               name  \\\n",
       "0     B085XRL3P1  CHUWI Herobook Pro 14.1 inch Windows 10 Intel ...   \n",
       "1     B08CDM3XPJ  CHUWI CoreBook Pro Windows 10 Laptop Computer,...   \n",
       "2     B08NXSJVCR  Lenovo IdeaPad 3 Intel i5-1035G1 Quad Core 12G...   \n",
       "3     B07GLV1VC7  Lenovo Chromebook S330 Laptop, 14-Inch FHD (19...   \n",
       "4     B08842D7JS  Acer Predator Helios 300 Gaming Laptop, Intel ...   \n",
       "...          ...                                                ...   \n",
       "2800  B08L8KW3ZM  Dell Latitude 5410 14\" Notebook - Full HD - 19...   \n",
       "2801  B082RD3STD  TopSeller TC M720S SFF I5-9400 2.9G 8GB 256GB ...   \n",
       "2802  B0844KPGNF  Lenovo ThinkPad T14 Laptop - 14\" IPS FHD Touch...   \n",
       "2803  B08JBVT48L  Laptop 14 Inch, Winnovo N140, 6GB RAM, 128GB S...   \n",
       "2804  B08N63ZSV7  2020 15.6-inch Laptop 6G + 256G, Intel celeron...   \n",
       "\n",
       "          Brand  Best Sellers Rank Product Dimensions (inches)  \\\n",
       "0         CHUWI               1853        13.07 x 8.43 x 0.84    \n",
       "1         CHUWI              14505         1.14 x 0.87 x 0.71    \n",
       "2        Lenovo                212        14.26 x 9.98 x 0.78    \n",
       "3        Lenovo                372        12.82 x 0.82 x 9.15    \n",
       "4          Acer                146        14.31 x 10.04 x 0.9    \n",
       "...         ...                ...                         ...   \n",
       "2800       Dell             579675         8.5 x 12.72 x 0.83    \n",
       "2801     Lenovo              47707          11.4 x 3.6 x 13.5    \n",
       "2802     Lenovo             310265         12.95 x 8.94 x 0.7    \n",
       "2803    Winnovo               4479        14.21 x 9.96 x 2.91    \n",
       "2804  XINYANGCH              29104        18.94 x 11.5 x 2.36    \n",
       "\n",
       "      Item_Weight_Pounds Date First Available Is Discontinued By Manufacturer  \\\n",
       "0                   3.06           2020-03-11                             NaN   \n",
       "1                   4.38           2020-06-30                             NaN   \n",
       "2                   1.12           2020-11-20                             NaN   \n",
       "3                   3.30           2018-08-09                             NaN   \n",
       "4                   5.07           2020-06-16                             NaN   \n",
       "...                  ...                  ...                             ...   \n",
       "2800                3.26           2020-10-16                             NaN   \n",
       "2801               13.20           2019-12-14                             NaN   \n",
       "2802                3.40           2020-01-22                             NaN   \n",
       "2803                4.37           2020-11-08                             NaN   \n",
       "2804                3.96           2019-12-04                             NaN   \n",
       "\n",
       "     Item model number Average Battery Life (in hours)  ...  \\\n",
       "0         Herobook Pro                       5 \\tyears  ...   \n",
       "1         CoreBook Pro                             NaN  ...   \n",
       "2           81WE00NKUS                             NaN  ...   \n",
       "3           81JW0000US                        10 Hours  ...   \n",
       "4        PH315-53-72XD                         6 Hours  ...   \n",
       "...                ...                             ...  ...   \n",
       "2800               NaN                             NaN  ...   \n",
       "2801        10ST008NUS                             NaN  ...   \n",
       "2802        20NYS6JB0F                             NaN  ...   \n",
       "2803      Winnovo N140                             NaN  ...   \n",
       "2804              N15C                             NaN  ...   \n",
       "\n",
       "     Number of USB 2.0 Ports Number of USB 3.0 Ports Computer Memory Type  \\\n",
       "0                        NaN                     NaN           DDR4 SDRAM   \n",
       "1                        NaN                     NaN           DDR4 SDRAM   \n",
       "2                          1                     NaN           DDR4 SDRAM   \n",
       "3                        NaN                       1              Unknown   \n",
       "4                        NaN                       3           DDR4 SDRAM   \n",
       "...                      ...                     ...                  ...   \n",
       "2800                     NaN                     NaN                  NaN   \n",
       "2801                       2                       3              Unknown   \n",
       "2802                     NaN                     NaN           DDR4 SDRAM   \n",
       "2803                     NaN                     NaN           DDR3 SDRAM   \n",
       "2804                     NaN                     NaN           DDR3 SDRAM   \n",
       "\n",
       "     Processor Brand Processor Count Memory Speed Hard Drive Interface  \\\n",
       "0              Intel               4          NaN                ATA-4   \n",
       "1              Intel               2          NaN          Solid State   \n",
       "2              Intel               2      3.9 GHz          Solid State   \n",
       "3           Mediatek               4          NaN          Solid State   \n",
       "4              Intel               6     2933 MHz     Gigabit Ethernet   \n",
       "...              ...             ...          ...                  ...   \n",
       "2800           Intel               1          NaN          Solid State   \n",
       "2801           Intel               1          NaN              Unknown   \n",
       "2802           Intel               4      1.8 GHz                ESATA   \n",
       "2803           Intel               2          NaN              USB 3.0   \n",
       "2804           Intel               4      2.3 GHz                  ATA   \n",
       "\n",
       "     Hardware Platform Flash Memory Size   Best_Sellers_Rank_fields  \n",
       "0                   PC            256 GB   Computers & Accessories   \n",
       "1                   PC               NaN   Computers & Accessories   \n",
       "2                   PC            256 GB   Computers & Accessories   \n",
       "3               Chrome                64   Computers & Accessories   \n",
       "4                  NaN               512   Computers & Accessories   \n",
       "...                ...               ...                        ...  \n",
       "2800                PC               256   Computers & Accessories   \n",
       "2801               NaN               256   Computers & Accessories   \n",
       "2802                PC            256 GB   Computers & Accessories   \n",
       "2803                PC            128 GB   Computers & Accessories   \n",
       "2804                PC            256 GB   Computers & Accessories   \n",
       "\n",
       "[2805 rows x 32 columns]"
      ],
      "text/html": "<div>\n<style scoped>\n    .dataframe tbody tr th:only-of-type {\n        vertical-align: middle;\n    }\n\n    .dataframe tbody tr th {\n        vertical-align: top;\n    }\n\n    .dataframe thead th {\n        text-align: right;\n    }\n</style>\n<table border=\"1\" class=\"dataframe\">\n  <thead>\n    <tr style=\"text-align: right;\">\n      <th></th>\n      <th>ASIN</th>\n      <th>name</th>\n      <th>Brand</th>\n      <th>Best Sellers Rank</th>\n      <th>Product Dimensions (inches)</th>\n      <th>Item_Weight_Pounds</th>\n      <th>Date First Available</th>\n      <th>Is Discontinued By Manufacturer</th>\n      <th>Item model number</th>\n      <th>Average Battery Life (in hours)</th>\n      <th>...</th>\n      <th>Number of USB 2.0 Ports</th>\n      <th>Number of USB 3.0 Ports</th>\n      <th>Computer Memory Type</th>\n      <th>Processor Brand</th>\n      <th>Processor Count</th>\n      <th>Memory Speed</th>\n      <th>Hard Drive Interface</th>\n      <th>Hardware Platform</th>\n      <th>Flash Memory Size</th>\n      <th>Best_Sellers_Rank_fields</th>\n    </tr>\n  </thead>\n  <tbody>\n    <tr>\n      <th>0</th>\n      <td>B085XRL3P1</td>\n      <td>CHUWI Herobook Pro 14.1 inch Windows 10 Intel ...</td>\n      <td>CHUWI</td>\n      <td>1853</td>\n      <td>13.07 x 8.43 x 0.84</td>\n      <td>3.06</td>\n      <td>2020-03-11</td>\n      <td>NaN</td>\n      <td>Herobook Pro</td>\n      <td>5 \\tyears</td>\n      <td>...</td>\n      <td>NaN</td>\n      <td>NaN</td>\n      <td>DDR4 SDRAM</td>\n      <td>Intel</td>\n      <td>4</td>\n      <td>NaN</td>\n      <td>ATA-4</td>\n      <td>PC</td>\n      <td>256 GB</td>\n      <td>Computers &amp; Accessories</td>\n    </tr>\n    <tr>\n      <th>1</th>\n      <td>B08CDM3XPJ</td>\n      <td>CHUWI CoreBook Pro Windows 10 Laptop Computer,...</td>\n      <td>CHUWI</td>\n      <td>14505</td>\n      <td>1.14 x 0.87 x 0.71</td>\n      <td>4.38</td>\n      <td>2020-06-30</td>\n      <td>NaN</td>\n      <td>CoreBook Pro</td>\n      <td>NaN</td>\n      <td>...</td>\n      <td>NaN</td>\n      <td>NaN</td>\n      <td>DDR4 SDRAM</td>\n      <td>Intel</td>\n      <td>2</td>\n      <td>NaN</td>\n      <td>Solid State</td>\n      <td>PC</td>\n      <td>NaN</td>\n      <td>Computers &amp; Accessories</td>\n    </tr>\n    <tr>\n      <th>2</th>\n      <td>B08NXSJVCR</td>\n      <td>Lenovo IdeaPad 3 Intel i5-1035G1 Quad Core 12G...</td>\n      <td>Lenovo</td>\n      <td>212</td>\n      <td>14.26 x 9.98 x 0.78</td>\n      <td>1.12</td>\n      <td>2020-11-20</td>\n      <td>NaN</td>\n      <td>81WE00NKUS</td>\n      <td>NaN</td>\n      <td>...</td>\n      <td>1</td>\n      <td>NaN</td>\n      <td>DDR4 SDRAM</td>\n      <td>Intel</td>\n      <td>2</td>\n      <td>3.9 GHz</td>\n      <td>Solid State</td>\n      <td>PC</td>\n      <td>256 GB</td>\n      <td>Computers &amp; Accessories</td>\n    </tr>\n    <tr>\n      <th>3</th>\n      <td>B07GLV1VC7</td>\n      <td>Lenovo Chromebook S330 Laptop, 14-Inch FHD (19...</td>\n      <td>Lenovo</td>\n      <td>372</td>\n      <td>12.82 x 0.82 x 9.15</td>\n      <td>3.30</td>\n      <td>2018-08-09</td>\n      <td>NaN</td>\n      <td>81JW0000US</td>\n      <td>10 Hours</td>\n      <td>...</td>\n      <td>NaN</td>\n      <td>1</td>\n      <td>Unknown</td>\n      <td>Mediatek</td>\n      <td>4</td>\n      <td>NaN</td>\n      <td>Solid State</td>\n      <td>Chrome</td>\n      <td>64</td>\n      <td>Computers &amp; Accessories</td>\n    </tr>\n    <tr>\n      <th>4</th>\n      <td>B08842D7JS</td>\n      <td>Acer Predator Helios 300 Gaming Laptop, Intel ...</td>\n      <td>Acer</td>\n      <td>146</td>\n      <td>14.31 x 10.04 x 0.9</td>\n      <td>5.07</td>\n      <td>2020-06-16</td>\n      <td>NaN</td>\n      <td>PH315-53-72XD</td>\n      <td>6 Hours</td>\n      <td>...</td>\n      <td>NaN</td>\n      <td>3</td>\n      <td>DDR4 SDRAM</td>\n      <td>Intel</td>\n      <td>6</td>\n      <td>2933 MHz</td>\n      <td>Gigabit Ethernet</td>\n      <td>NaN</td>\n      <td>512</td>\n      <td>Computers &amp; Accessories</td>\n    </tr>\n    <tr>\n      <th>...</th>\n      <td>...</td>\n      <td>...</td>\n      <td>...</td>\n      <td>...</td>\n      <td>...</td>\n      <td>...</td>\n      <td>...</td>\n      <td>...</td>\n      <td>...</td>\n      <td>...</td>\n      <td>...</td>\n      <td>...</td>\n      <td>...</td>\n      <td>...</td>\n      <td>...</td>\n      <td>...</td>\n      <td>...</td>\n      <td>...</td>\n      <td>...</td>\n      <td>...</td>\n      <td>...</td>\n    </tr>\n    <tr>\n      <th>2800</th>\n      <td>B08L8KW3ZM</td>\n      <td>Dell Latitude 5410 14\" Notebook - Full HD - 19...</td>\n      <td>Dell</td>\n      <td>579675</td>\n      <td>8.5 x 12.72 x 0.83</td>\n      <td>3.26</td>\n      <td>2020-10-16</td>\n      <td>NaN</td>\n      <td>NaN</td>\n      <td>NaN</td>\n      <td>...</td>\n      <td>NaN</td>\n      <td>NaN</td>\n      <td>NaN</td>\n      <td>Intel</td>\n      <td>1</td>\n      <td>NaN</td>\n      <td>Solid State</td>\n      <td>PC</td>\n      <td>256</td>\n      <td>Computers &amp; Accessories</td>\n    </tr>\n    <tr>\n      <th>2801</th>\n      <td>B082RD3STD</td>\n      <td>TopSeller TC M720S SFF I5-9400 2.9G 8GB 256GB ...</td>\n      <td>Lenovo</td>\n      <td>47707</td>\n      <td>11.4 x 3.6 x 13.5</td>\n      <td>13.20</td>\n      <td>2019-12-14</td>\n      <td>NaN</td>\n      <td>10ST008NUS</td>\n      <td>NaN</td>\n      <td>...</td>\n      <td>2</td>\n      <td>3</td>\n      <td>Unknown</td>\n      <td>Intel</td>\n      <td>1</td>\n      <td>NaN</td>\n      <td>Unknown</td>\n      <td>NaN</td>\n      <td>256</td>\n      <td>Computers &amp; Accessories</td>\n    </tr>\n    <tr>\n      <th>2802</th>\n      <td>B0844KPGNF</td>\n      <td>Lenovo ThinkPad T14 Laptop - 14\" IPS FHD Touch...</td>\n      <td>Lenovo</td>\n      <td>310265</td>\n      <td>12.95 x 8.94 x 0.7</td>\n      <td>3.40</td>\n      <td>2020-01-22</td>\n      <td>NaN</td>\n      <td>20NYS6JB0F</td>\n      <td>NaN</td>\n      <td>...</td>\n      <td>NaN</td>\n      <td>NaN</td>\n      <td>DDR4 SDRAM</td>\n      <td>Intel</td>\n      <td>4</td>\n      <td>1.8 GHz</td>\n      <td>ESATA</td>\n      <td>PC</td>\n      <td>256 GB</td>\n      <td>Computers &amp; Accessories</td>\n    </tr>\n    <tr>\n      <th>2803</th>\n      <td>B08JBVT48L</td>\n      <td>Laptop 14 Inch, Winnovo N140, 6GB RAM, 128GB S...</td>\n      <td>Winnovo</td>\n      <td>4479</td>\n      <td>14.21 x 9.96 x 2.91</td>\n      <td>4.37</td>\n      <td>2020-11-08</td>\n      <td>NaN</td>\n      <td>Winnovo N140</td>\n      <td>NaN</td>\n      <td>...</td>\n      <td>NaN</td>\n      <td>NaN</td>\n      <td>DDR3 SDRAM</td>\n      <td>Intel</td>\n      <td>2</td>\n      <td>NaN</td>\n      <td>USB 3.0</td>\n      <td>PC</td>\n      <td>128 GB</td>\n      <td>Computers &amp; Accessories</td>\n    </tr>\n    <tr>\n      <th>2804</th>\n      <td>B08N63ZSV7</td>\n      <td>2020 15.6-inch Laptop 6G + 256G, Intel celeron...</td>\n      <td>XINYANGCH</td>\n      <td>29104</td>\n      <td>18.94 x 11.5 x 2.36</td>\n      <td>3.96</td>\n      <td>2019-12-04</td>\n      <td>NaN</td>\n      <td>N15C</td>\n      <td>NaN</td>\n      <td>...</td>\n      <td>NaN</td>\n      <td>NaN</td>\n      <td>DDR3 SDRAM</td>\n      <td>Intel</td>\n      <td>4</td>\n      <td>2.3 GHz</td>\n      <td>ATA</td>\n      <td>PC</td>\n      <td>256 GB</td>\n      <td>Computers &amp; Accessories</td>\n    </tr>\n  </tbody>\n</table>\n<p>2805 rows × 32 columns</p>\n</div>"
     },
     "metadata": {},
     "execution_count": 78
    }
   ],
   "source": [
    "m_new['Date First Available'] =  pd.to_datetime(m_new['Date First Available'], infer_datetime_format=True)\n",
    "m_new"
   ]
  },
  {
   "cell_type": "code",
   "execution_count": 79,
   "metadata": {},
   "outputs": [],
   "source": [
    "m_new['Max Screen Resolution (Pixels)'] = m_new['Max Screen Resolution'].str.rstrip('Pixels')\n",
    "m_new['Max Screen Resolution'] = m_new['Max Screen Resolution (Pixels)']\n",
    "m_new = m_new.drop(['Max Screen Resolution (Pixels)'], axis=1)\n",
    "m_new = m_new.rename(columns={'Max Screen Resolution':'Max_Screen_Resolution_Pixels'})"
   ]
  },
  {
   "cell_type": "code",
   "execution_count": 80,
   "metadata": {},
   "outputs": [],
   "source": [
    "m_new['Standing screen display size (Inches)'] = m_new['Standing screen display size'].str.rstrip('Inches')\n",
    "m_new['Standing screen display size'] = m_new['Standing screen display size (Inches)']\n",
    "m_new = m_new.drop(['Standing screen display size (Inches)'], axis=1)\n",
    "m_new = m_new.rename(columns={'Standing screen display size':'Standing_Screen_Display_Size_Inches'})"
   ]
  },
  {
   "cell_type": "code",
   "execution_count": 81,
   "metadata": {},
   "outputs": [
    {
     "output_type": "execute_result",
     "data": {
      "text/plain": [
       "         a     b\n",
       "0      NaN  None\n",
       "1      NaN  None\n",
       "2      3.9   GHz\n",
       "3      NaN  None\n",
       "4     2933   MHz\n",
       "...    ...   ...\n",
       "2800   NaN  None\n",
       "2801   NaN  None\n",
       "2802   1.8   GHz\n",
       "2803   NaN  None\n",
       "2804   2.3   GHz\n",
       "\n",
       "[2805 rows x 2 columns]"
      ],
      "text/html": "<div>\n<style scoped>\n    .dataframe tbody tr th:only-of-type {\n        vertical-align: middle;\n    }\n\n    .dataframe tbody tr th {\n        vertical-align: top;\n    }\n\n    .dataframe thead th {\n        text-align: right;\n    }\n</style>\n<table border=\"1\" class=\"dataframe\">\n  <thead>\n    <tr style=\"text-align: right;\">\n      <th></th>\n      <th>a</th>\n      <th>b</th>\n    </tr>\n  </thead>\n  <tbody>\n    <tr>\n      <th>0</th>\n      <td>NaN</td>\n      <td>None</td>\n    </tr>\n    <tr>\n      <th>1</th>\n      <td>NaN</td>\n      <td>None</td>\n    </tr>\n    <tr>\n      <th>2</th>\n      <td>3.9</td>\n      <td>GHz</td>\n    </tr>\n    <tr>\n      <th>3</th>\n      <td>NaN</td>\n      <td>None</td>\n    </tr>\n    <tr>\n      <th>4</th>\n      <td>2933</td>\n      <td>MHz</td>\n    </tr>\n    <tr>\n      <th>...</th>\n      <td>...</td>\n      <td>...</td>\n    </tr>\n    <tr>\n      <th>2800</th>\n      <td>NaN</td>\n      <td>None</td>\n    </tr>\n    <tr>\n      <th>2801</th>\n      <td>NaN</td>\n      <td>None</td>\n    </tr>\n    <tr>\n      <th>2802</th>\n      <td>1.8</td>\n      <td>GHz</td>\n    </tr>\n    <tr>\n      <th>2803</th>\n      <td>NaN</td>\n      <td>None</td>\n    </tr>\n    <tr>\n      <th>2804</th>\n      <td>2.3</td>\n      <td>GHz</td>\n    </tr>\n  </tbody>\n</table>\n<p>2805 rows × 2 columns</p>\n</div>"
     },
     "metadata": {},
     "execution_count": 81
    }
   ],
   "source": [
    "speed = m_new['Memory Speed'].str.split(expand=True)\n",
    "speed.columns = ['a', 'b']\n",
    "speed"
   ]
  },
  {
   "cell_type": "code",
   "execution_count": 82,
   "metadata": {},
   "outputs": [
    {
     "output_type": "execute_result",
     "data": {
      "text/plain": [
       "GHz    1176\n",
       "MHz     535\n",
       "Name: b, dtype: int64"
      ]
     },
     "metadata": {},
     "execution_count": 82
    }
   ],
   "source": [
    "speed['b'].value_counts()"
   ]
  },
  {
   "cell_type": "code",
   "execution_count": 83,
   "metadata": {},
   "outputs": [
    {
     "output_type": "execute_result",
     "data": {
      "text/plain": [
       "            ASIN                                               name  \\\n",
       "0     B085XRL3P1  CHUWI Herobook Pro 14.1 inch Windows 10 Intel ...   \n",
       "1     B08CDM3XPJ  CHUWI CoreBook Pro Windows 10 Laptop Computer,...   \n",
       "2     B08NXSJVCR  Lenovo IdeaPad 3 Intel i5-1035G1 Quad Core 12G...   \n",
       "3     B07GLV1VC7  Lenovo Chromebook S330 Laptop, 14-Inch FHD (19...   \n",
       "4     B08842D7JS  Acer Predator Helios 300 Gaming Laptop, Intel ...   \n",
       "...          ...                                                ...   \n",
       "2800  B08L8KW3ZM  Dell Latitude 5410 14\" Notebook - Full HD - 19...   \n",
       "2801  B082RD3STD  TopSeller TC M720S SFF I5-9400 2.9G 8GB 256GB ...   \n",
       "2802  B0844KPGNF  Lenovo ThinkPad T14 Laptop - 14\" IPS FHD Touch...   \n",
       "2803  B08JBVT48L  Laptop 14 Inch, Winnovo N140, 6GB RAM, 128GB S...   \n",
       "2804  B08N63ZSV7  2020 15.6-inch Laptop 6G + 256G, Intel celeron...   \n",
       "\n",
       "          Brand  Best Sellers Rank Product Dimensions (inches)  \\\n",
       "0         CHUWI               1853        13.07 x 8.43 x 0.84    \n",
       "1         CHUWI              14505         1.14 x 0.87 x 0.71    \n",
       "2        Lenovo                212        14.26 x 9.98 x 0.78    \n",
       "3        Lenovo                372        12.82 x 0.82 x 9.15    \n",
       "4          Acer                146        14.31 x 10.04 x 0.9    \n",
       "...         ...                ...                         ...   \n",
       "2800       Dell             579675         8.5 x 12.72 x 0.83    \n",
       "2801     Lenovo              47707          11.4 x 3.6 x 13.5    \n",
       "2802     Lenovo             310265         12.95 x 8.94 x 0.7    \n",
       "2803    Winnovo               4479        14.21 x 9.96 x 2.91    \n",
       "2804  XINYANGCH              29104        18.94 x 11.5 x 2.36    \n",
       "\n",
       "      Item_Weight_Pounds Date First Available Is Discontinued By Manufacturer  \\\n",
       "0                   3.06           2020-03-11                             NaN   \n",
       "1                   4.38           2020-06-30                             NaN   \n",
       "2                   1.12           2020-11-20                             NaN   \n",
       "3                   3.30           2018-08-09                             NaN   \n",
       "4                   5.07           2020-06-16                             NaN   \n",
       "...                  ...                  ...                             ...   \n",
       "2800                3.26           2020-10-16                             NaN   \n",
       "2801               13.20           2019-12-14                             NaN   \n",
       "2802                3.40           2020-01-22                             NaN   \n",
       "2803                4.37           2020-11-08                             NaN   \n",
       "2804                3.96           2019-12-04                             NaN   \n",
       "\n",
       "     Item model number Average Battery Life (in hours)  ...  \\\n",
       "0         Herobook Pro                       5 \\tyears  ...   \n",
       "1         CoreBook Pro                             NaN  ...   \n",
       "2           81WE00NKUS                             NaN  ...   \n",
       "3           81JW0000US                        10 Hours  ...   \n",
       "4        PH315-53-72XD                         6 Hours  ...   \n",
       "...                ...                             ...  ...   \n",
       "2800               NaN                             NaN  ...   \n",
       "2801        10ST008NUS                             NaN  ...   \n",
       "2802        20NYS6JB0F                             NaN  ...   \n",
       "2803      Winnovo N140                             NaN  ...   \n",
       "2804              N15C                             NaN  ...   \n",
       "\n",
       "     Number of USB 2.0 Ports Number of USB 3.0 Ports Computer Memory Type  \\\n",
       "0                        NaN                     NaN           DDR4 SDRAM   \n",
       "1                        NaN                     NaN           DDR4 SDRAM   \n",
       "2                          1                     NaN           DDR4 SDRAM   \n",
       "3                        NaN                       1              Unknown   \n",
       "4                        NaN                       3           DDR4 SDRAM   \n",
       "...                      ...                     ...                  ...   \n",
       "2800                     NaN                     NaN                  NaN   \n",
       "2801                       2                       3              Unknown   \n",
       "2802                     NaN                     NaN           DDR4 SDRAM   \n",
       "2803                     NaN                     NaN           DDR3 SDRAM   \n",
       "2804                     NaN                     NaN           DDR3 SDRAM   \n",
       "\n",
       "     Processor Brand Processor Count Memory Speed Hard Drive Interface  \\\n",
       "0              Intel               4          NaN                ATA-4   \n",
       "1              Intel               2          NaN          Solid State   \n",
       "2              Intel               2        3.900          Solid State   \n",
       "3           Mediatek               4          NaN          Solid State   \n",
       "4              Intel               6        2.933     Gigabit Ethernet   \n",
       "...              ...             ...          ...                  ...   \n",
       "2800           Intel               1          NaN          Solid State   \n",
       "2801           Intel               1          NaN              Unknown   \n",
       "2802           Intel               4        1.800                ESATA   \n",
       "2803           Intel               2          NaN              USB 3.0   \n",
       "2804           Intel               4        2.300                  ATA   \n",
       "\n",
       "     Hardware Platform Flash Memory Size   Best_Sellers_Rank_fields  \n",
       "0                   PC            256 GB   Computers & Accessories   \n",
       "1                   PC               NaN   Computers & Accessories   \n",
       "2                   PC            256 GB   Computers & Accessories   \n",
       "3               Chrome                64   Computers & Accessories   \n",
       "4                  NaN               512   Computers & Accessories   \n",
       "...                ...               ...                        ...  \n",
       "2800                PC               256   Computers & Accessories   \n",
       "2801               NaN               256   Computers & Accessories   \n",
       "2802                PC            256 GB   Computers & Accessories   \n",
       "2803                PC            128 GB   Computers & Accessories   \n",
       "2804                PC            256 GB   Computers & Accessories   \n",
       "\n",
       "[2805 rows x 32 columns]"
      ],
      "text/html": "<div>\n<style scoped>\n    .dataframe tbody tr th:only-of-type {\n        vertical-align: middle;\n    }\n\n    .dataframe tbody tr th {\n        vertical-align: top;\n    }\n\n    .dataframe thead th {\n        text-align: right;\n    }\n</style>\n<table border=\"1\" class=\"dataframe\">\n  <thead>\n    <tr style=\"text-align: right;\">\n      <th></th>\n      <th>ASIN</th>\n      <th>name</th>\n      <th>Brand</th>\n      <th>Best Sellers Rank</th>\n      <th>Product Dimensions (inches)</th>\n      <th>Item_Weight_Pounds</th>\n      <th>Date First Available</th>\n      <th>Is Discontinued By Manufacturer</th>\n      <th>Item model number</th>\n      <th>Average Battery Life (in hours)</th>\n      <th>...</th>\n      <th>Number of USB 2.0 Ports</th>\n      <th>Number of USB 3.0 Ports</th>\n      <th>Computer Memory Type</th>\n      <th>Processor Brand</th>\n      <th>Processor Count</th>\n      <th>Memory Speed</th>\n      <th>Hard Drive Interface</th>\n      <th>Hardware Platform</th>\n      <th>Flash Memory Size</th>\n      <th>Best_Sellers_Rank_fields</th>\n    </tr>\n  </thead>\n  <tbody>\n    <tr>\n      <th>0</th>\n      <td>B085XRL3P1</td>\n      <td>CHUWI Herobook Pro 14.1 inch Windows 10 Intel ...</td>\n      <td>CHUWI</td>\n      <td>1853</td>\n      <td>13.07 x 8.43 x 0.84</td>\n      <td>3.06</td>\n      <td>2020-03-11</td>\n      <td>NaN</td>\n      <td>Herobook Pro</td>\n      <td>5 \\tyears</td>\n      <td>...</td>\n      <td>NaN</td>\n      <td>NaN</td>\n      <td>DDR4 SDRAM</td>\n      <td>Intel</td>\n      <td>4</td>\n      <td>NaN</td>\n      <td>ATA-4</td>\n      <td>PC</td>\n      <td>256 GB</td>\n      <td>Computers &amp; Accessories</td>\n    </tr>\n    <tr>\n      <th>1</th>\n      <td>B08CDM3XPJ</td>\n      <td>CHUWI CoreBook Pro Windows 10 Laptop Computer,...</td>\n      <td>CHUWI</td>\n      <td>14505</td>\n      <td>1.14 x 0.87 x 0.71</td>\n      <td>4.38</td>\n      <td>2020-06-30</td>\n      <td>NaN</td>\n      <td>CoreBook Pro</td>\n      <td>NaN</td>\n      <td>...</td>\n      <td>NaN</td>\n      <td>NaN</td>\n      <td>DDR4 SDRAM</td>\n      <td>Intel</td>\n      <td>2</td>\n      <td>NaN</td>\n      <td>Solid State</td>\n      <td>PC</td>\n      <td>NaN</td>\n      <td>Computers &amp; Accessories</td>\n    </tr>\n    <tr>\n      <th>2</th>\n      <td>B08NXSJVCR</td>\n      <td>Lenovo IdeaPad 3 Intel i5-1035G1 Quad Core 12G...</td>\n      <td>Lenovo</td>\n      <td>212</td>\n      <td>14.26 x 9.98 x 0.78</td>\n      <td>1.12</td>\n      <td>2020-11-20</td>\n      <td>NaN</td>\n      <td>81WE00NKUS</td>\n      <td>NaN</td>\n      <td>...</td>\n      <td>1</td>\n      <td>NaN</td>\n      <td>DDR4 SDRAM</td>\n      <td>Intel</td>\n      <td>2</td>\n      <td>3.900</td>\n      <td>Solid State</td>\n      <td>PC</td>\n      <td>256 GB</td>\n      <td>Computers &amp; Accessories</td>\n    </tr>\n    <tr>\n      <th>3</th>\n      <td>B07GLV1VC7</td>\n      <td>Lenovo Chromebook S330 Laptop, 14-Inch FHD (19...</td>\n      <td>Lenovo</td>\n      <td>372</td>\n      <td>12.82 x 0.82 x 9.15</td>\n      <td>3.30</td>\n      <td>2018-08-09</td>\n      <td>NaN</td>\n      <td>81JW0000US</td>\n      <td>10 Hours</td>\n      <td>...</td>\n      <td>NaN</td>\n      <td>1</td>\n      <td>Unknown</td>\n      <td>Mediatek</td>\n      <td>4</td>\n      <td>NaN</td>\n      <td>Solid State</td>\n      <td>Chrome</td>\n      <td>64</td>\n      <td>Computers &amp; Accessories</td>\n    </tr>\n    <tr>\n      <th>4</th>\n      <td>B08842D7JS</td>\n      <td>Acer Predator Helios 300 Gaming Laptop, Intel ...</td>\n      <td>Acer</td>\n      <td>146</td>\n      <td>14.31 x 10.04 x 0.9</td>\n      <td>5.07</td>\n      <td>2020-06-16</td>\n      <td>NaN</td>\n      <td>PH315-53-72XD</td>\n      <td>6 Hours</td>\n      <td>...</td>\n      <td>NaN</td>\n      <td>3</td>\n      <td>DDR4 SDRAM</td>\n      <td>Intel</td>\n      <td>6</td>\n      <td>2.933</td>\n      <td>Gigabit Ethernet</td>\n      <td>NaN</td>\n      <td>512</td>\n      <td>Computers &amp; Accessories</td>\n    </tr>\n    <tr>\n      <th>...</th>\n      <td>...</td>\n      <td>...</td>\n      <td>...</td>\n      <td>...</td>\n      <td>...</td>\n      <td>...</td>\n      <td>...</td>\n      <td>...</td>\n      <td>...</td>\n      <td>...</td>\n      <td>...</td>\n      <td>...</td>\n      <td>...</td>\n      <td>...</td>\n      <td>...</td>\n      <td>...</td>\n      <td>...</td>\n      <td>...</td>\n      <td>...</td>\n      <td>...</td>\n      <td>...</td>\n    </tr>\n    <tr>\n      <th>2800</th>\n      <td>B08L8KW3ZM</td>\n      <td>Dell Latitude 5410 14\" Notebook - Full HD - 19...</td>\n      <td>Dell</td>\n      <td>579675</td>\n      <td>8.5 x 12.72 x 0.83</td>\n      <td>3.26</td>\n      <td>2020-10-16</td>\n      <td>NaN</td>\n      <td>NaN</td>\n      <td>NaN</td>\n      <td>...</td>\n      <td>NaN</td>\n      <td>NaN</td>\n      <td>NaN</td>\n      <td>Intel</td>\n      <td>1</td>\n      <td>NaN</td>\n      <td>Solid State</td>\n      <td>PC</td>\n      <td>256</td>\n      <td>Computers &amp; Accessories</td>\n    </tr>\n    <tr>\n      <th>2801</th>\n      <td>B082RD3STD</td>\n      <td>TopSeller TC M720S SFF I5-9400 2.9G 8GB 256GB ...</td>\n      <td>Lenovo</td>\n      <td>47707</td>\n      <td>11.4 x 3.6 x 13.5</td>\n      <td>13.20</td>\n      <td>2019-12-14</td>\n      <td>NaN</td>\n      <td>10ST008NUS</td>\n      <td>NaN</td>\n      <td>...</td>\n      <td>2</td>\n      <td>3</td>\n      <td>Unknown</td>\n      <td>Intel</td>\n      <td>1</td>\n      <td>NaN</td>\n      <td>Unknown</td>\n      <td>NaN</td>\n      <td>256</td>\n      <td>Computers &amp; Accessories</td>\n    </tr>\n    <tr>\n      <th>2802</th>\n      <td>B0844KPGNF</td>\n      <td>Lenovo ThinkPad T14 Laptop - 14\" IPS FHD Touch...</td>\n      <td>Lenovo</td>\n      <td>310265</td>\n      <td>12.95 x 8.94 x 0.7</td>\n      <td>3.40</td>\n      <td>2020-01-22</td>\n      <td>NaN</td>\n      <td>20NYS6JB0F</td>\n      <td>NaN</td>\n      <td>...</td>\n      <td>NaN</td>\n      <td>NaN</td>\n      <td>DDR4 SDRAM</td>\n      <td>Intel</td>\n      <td>4</td>\n      <td>1.800</td>\n      <td>ESATA</td>\n      <td>PC</td>\n      <td>256 GB</td>\n      <td>Computers &amp; Accessories</td>\n    </tr>\n    <tr>\n      <th>2803</th>\n      <td>B08JBVT48L</td>\n      <td>Laptop 14 Inch, Winnovo N140, 6GB RAM, 128GB S...</td>\n      <td>Winnovo</td>\n      <td>4479</td>\n      <td>14.21 x 9.96 x 2.91</td>\n      <td>4.37</td>\n      <td>2020-11-08</td>\n      <td>NaN</td>\n      <td>Winnovo N140</td>\n      <td>NaN</td>\n      <td>...</td>\n      <td>NaN</td>\n      <td>NaN</td>\n      <td>DDR3 SDRAM</td>\n      <td>Intel</td>\n      <td>2</td>\n      <td>NaN</td>\n      <td>USB 3.0</td>\n      <td>PC</td>\n      <td>128 GB</td>\n      <td>Computers &amp; Accessories</td>\n    </tr>\n    <tr>\n      <th>2804</th>\n      <td>B08N63ZSV7</td>\n      <td>2020 15.6-inch Laptop 6G + 256G, Intel celeron...</td>\n      <td>XINYANGCH</td>\n      <td>29104</td>\n      <td>18.94 x 11.5 x 2.36</td>\n      <td>3.96</td>\n      <td>2019-12-04</td>\n      <td>NaN</td>\n      <td>N15C</td>\n      <td>NaN</td>\n      <td>...</td>\n      <td>NaN</td>\n      <td>NaN</td>\n      <td>DDR3 SDRAM</td>\n      <td>Intel</td>\n      <td>4</td>\n      <td>2.300</td>\n      <td>ATA</td>\n      <td>PC</td>\n      <td>256 GB</td>\n      <td>Computers &amp; Accessories</td>\n    </tr>\n  </tbody>\n</table>\n<p>2805 rows × 32 columns</p>\n</div>"
     },
     "metadata": {},
     "execution_count": 83
    }
   ],
   "source": [
    "speed.a = speed['a'].astype(float)\n",
    "speed['a'] = np.where(speed['b'] == 'MHz',speed['a'] * 0.001 ,speed['a'])\n",
    "m_new['Memory Speed'] = speed['a']\n",
    "m_new"
   ]
  },
  {
   "cell_type": "code",
   "execution_count": 84,
   "metadata": {},
   "outputs": [],
   "source": [
    "m_new = m_new.rename(columns={'Memory Speed':'Memory_Speed_In_GHz'})"
   ]
  },
  {
   "cell_type": "code",
   "execution_count": 85,
   "metadata": {},
   "outputs": [
    {
     "output_type": "execute_result",
     "data": {
      "text/plain": [
       "        a     b\n",
       "0     256    GB\n",
       "1     NaN  None\n",
       "2     256    GB\n",
       "3      64  None\n",
       "4     512  None\n",
       "...   ...   ...\n",
       "2800  256  None\n",
       "2801  256  None\n",
       "2802  256    GB\n",
       "2803  128    GB\n",
       "2804  256    GB\n",
       "\n",
       "[2805 rows x 2 columns]"
      ],
      "text/html": "<div>\n<style scoped>\n    .dataframe tbody tr th:only-of-type {\n        vertical-align: middle;\n    }\n\n    .dataframe tbody tr th {\n        vertical-align: top;\n    }\n\n    .dataframe thead th {\n        text-align: right;\n    }\n</style>\n<table border=\"1\" class=\"dataframe\">\n  <thead>\n    <tr style=\"text-align: right;\">\n      <th></th>\n      <th>a</th>\n      <th>b</th>\n    </tr>\n  </thead>\n  <tbody>\n    <tr>\n      <th>0</th>\n      <td>256</td>\n      <td>GB</td>\n    </tr>\n    <tr>\n      <th>1</th>\n      <td>NaN</td>\n      <td>None</td>\n    </tr>\n    <tr>\n      <th>2</th>\n      <td>256</td>\n      <td>GB</td>\n    </tr>\n    <tr>\n      <th>3</th>\n      <td>64</td>\n      <td>None</td>\n    </tr>\n    <tr>\n      <th>4</th>\n      <td>512</td>\n      <td>None</td>\n    </tr>\n    <tr>\n      <th>...</th>\n      <td>...</td>\n      <td>...</td>\n    </tr>\n    <tr>\n      <th>2800</th>\n      <td>256</td>\n      <td>None</td>\n    </tr>\n    <tr>\n      <th>2801</th>\n      <td>256</td>\n      <td>None</td>\n    </tr>\n    <tr>\n      <th>2802</th>\n      <td>256</td>\n      <td>GB</td>\n    </tr>\n    <tr>\n      <th>2803</th>\n      <td>128</td>\n      <td>GB</td>\n    </tr>\n    <tr>\n      <th>2804</th>\n      <td>256</td>\n      <td>GB</td>\n    </tr>\n  </tbody>\n</table>\n<p>2805 rows × 2 columns</p>\n</div>"
     },
     "metadata": {},
     "execution_count": 85
    }
   ],
   "source": [
    "flash = m_new['Flash Memory Size'].str.split(expand=True)\n",
    "flash.columns = ['a', 'b']\n",
    "flash"
   ]
  },
  {
   "cell_type": "code",
   "execution_count": 86,
   "metadata": {},
   "outputs": [
    {
     "output_type": "execute_result",
     "data": {
      "text/plain": [
       "GB    1139\n",
       "TB      43\n",
       "Name: b, dtype: int64"
      ]
     },
     "metadata": {},
     "execution_count": 86
    }
   ],
   "source": [
    "flash['b'].value_counts()"
   ]
  },
  {
   "cell_type": "code",
   "execution_count": 87,
   "metadata": {},
   "outputs": [
    {
     "output_type": "execute_result",
     "data": {
      "text/plain": [
       "            ASIN                                               name  \\\n",
       "0     B085XRL3P1  CHUWI Herobook Pro 14.1 inch Windows 10 Intel ...   \n",
       "1     B08CDM3XPJ  CHUWI CoreBook Pro Windows 10 Laptop Computer,...   \n",
       "2     B08NXSJVCR  Lenovo IdeaPad 3 Intel i5-1035G1 Quad Core 12G...   \n",
       "3     B07GLV1VC7  Lenovo Chromebook S330 Laptop, 14-Inch FHD (19...   \n",
       "4     B08842D7JS  Acer Predator Helios 300 Gaming Laptop, Intel ...   \n",
       "...          ...                                                ...   \n",
       "2800  B08L8KW3ZM  Dell Latitude 5410 14\" Notebook - Full HD - 19...   \n",
       "2801  B082RD3STD  TopSeller TC M720S SFF I5-9400 2.9G 8GB 256GB ...   \n",
       "2802  B0844KPGNF  Lenovo ThinkPad T14 Laptop - 14\" IPS FHD Touch...   \n",
       "2803  B08JBVT48L  Laptop 14 Inch, Winnovo N140, 6GB RAM, 128GB S...   \n",
       "2804  B08N63ZSV7  2020 15.6-inch Laptop 6G + 256G, Intel celeron...   \n",
       "\n",
       "          Brand  Best Sellers Rank Product Dimensions (inches)  \\\n",
       "0         CHUWI               1853        13.07 x 8.43 x 0.84    \n",
       "1         CHUWI              14505         1.14 x 0.87 x 0.71    \n",
       "2        Lenovo                212        14.26 x 9.98 x 0.78    \n",
       "3        Lenovo                372        12.82 x 0.82 x 9.15    \n",
       "4          Acer                146        14.31 x 10.04 x 0.9    \n",
       "...         ...                ...                         ...   \n",
       "2800       Dell             579675         8.5 x 12.72 x 0.83    \n",
       "2801     Lenovo              47707          11.4 x 3.6 x 13.5    \n",
       "2802     Lenovo             310265         12.95 x 8.94 x 0.7    \n",
       "2803    Winnovo               4479        14.21 x 9.96 x 2.91    \n",
       "2804  XINYANGCH              29104        18.94 x 11.5 x 2.36    \n",
       "\n",
       "      Item_Weight_Pounds Date First Available Is Discontinued By Manufacturer  \\\n",
       "0                   3.06           2020-03-11                             NaN   \n",
       "1                   4.38           2020-06-30                             NaN   \n",
       "2                   1.12           2020-11-20                             NaN   \n",
       "3                   3.30           2018-08-09                             NaN   \n",
       "4                   5.07           2020-06-16                             NaN   \n",
       "...                  ...                  ...                             ...   \n",
       "2800                3.26           2020-10-16                             NaN   \n",
       "2801               13.20           2019-12-14                             NaN   \n",
       "2802                3.40           2020-01-22                             NaN   \n",
       "2803                4.37           2020-11-08                             NaN   \n",
       "2804                3.96           2019-12-04                             NaN   \n",
       "\n",
       "     Item model number Average Battery Life (in hours)  ...  \\\n",
       "0         Herobook Pro                       5 \\tyears  ...   \n",
       "1         CoreBook Pro                             NaN  ...   \n",
       "2           81WE00NKUS                             NaN  ...   \n",
       "3           81JW0000US                        10 Hours  ...   \n",
       "4        PH315-53-72XD                         6 Hours  ...   \n",
       "...                ...                             ...  ...   \n",
       "2800               NaN                             NaN  ...   \n",
       "2801        10ST008NUS                             NaN  ...   \n",
       "2802        20NYS6JB0F                             NaN  ...   \n",
       "2803      Winnovo N140                             NaN  ...   \n",
       "2804              N15C                             NaN  ...   \n",
       "\n",
       "     Number of USB 3.0 Ports Computer Memory Type Processor Brand  \\\n",
       "0                        NaN           DDR4 SDRAM           Intel   \n",
       "1                        NaN           DDR4 SDRAM           Intel   \n",
       "2                        NaN           DDR4 SDRAM           Intel   \n",
       "3                          1              Unknown        Mediatek   \n",
       "4                          3           DDR4 SDRAM           Intel   \n",
       "...                      ...                  ...             ...   \n",
       "2800                     NaN                  NaN           Intel   \n",
       "2801                       3              Unknown           Intel   \n",
       "2802                     NaN           DDR4 SDRAM           Intel   \n",
       "2803                     NaN           DDR3 SDRAM           Intel   \n",
       "2804                     NaN           DDR3 SDRAM           Intel   \n",
       "\n",
       "     Processor Count Memory_Speed_In_GHz Hard Drive Interface  \\\n",
       "0                  4                 NaN                ATA-4   \n",
       "1                  2                 NaN          Solid State   \n",
       "2                  2               3.900          Solid State   \n",
       "3                  4                 NaN          Solid State   \n",
       "4                  6               2.933     Gigabit Ethernet   \n",
       "...              ...                 ...                  ...   \n",
       "2800               1                 NaN          Solid State   \n",
       "2801               1                 NaN              Unknown   \n",
       "2802               4               1.800                ESATA   \n",
       "2803               2                 NaN              USB 3.0   \n",
       "2804               4               2.300                  ATA   \n",
       "\n",
       "     Hardware Platform Flash Memory Size   Best_Sellers_Rank_fields  \\\n",
       "0                   PC            256 GB   Computers & Accessories    \n",
       "1                   PC               NaN   Computers & Accessories    \n",
       "2                   PC            256 GB   Computers & Accessories    \n",
       "3               Chrome                64   Computers & Accessories    \n",
       "4                  NaN               512   Computers & Accessories    \n",
       "...                ...               ...                        ...   \n",
       "2800                PC               256   Computers & Accessories    \n",
       "2801               NaN               256   Computers & Accessories    \n",
       "2802                PC            256 GB   Computers & Accessories    \n",
       "2803                PC            128 GB   Computers & Accessories    \n",
       "2804                PC            256 GB   Computers & Accessories    \n",
       "\n",
       "     Flash Memory SizeFlash Memory Size  \n",
       "0                                 256.0  \n",
       "1                                   NaN  \n",
       "2                                 256.0  \n",
       "3                                  64.0  \n",
       "4                                 512.0  \n",
       "...                                 ...  \n",
       "2800                              256.0  \n",
       "2801                              256.0  \n",
       "2802                              256.0  \n",
       "2803                              128.0  \n",
       "2804                              256.0  \n",
       "\n",
       "[2805 rows x 33 columns]"
      ],
      "text/html": "<div>\n<style scoped>\n    .dataframe tbody tr th:only-of-type {\n        vertical-align: middle;\n    }\n\n    .dataframe tbody tr th {\n        vertical-align: top;\n    }\n\n    .dataframe thead th {\n        text-align: right;\n    }\n</style>\n<table border=\"1\" class=\"dataframe\">\n  <thead>\n    <tr style=\"text-align: right;\">\n      <th></th>\n      <th>ASIN</th>\n      <th>name</th>\n      <th>Brand</th>\n      <th>Best Sellers Rank</th>\n      <th>Product Dimensions (inches)</th>\n      <th>Item_Weight_Pounds</th>\n      <th>Date First Available</th>\n      <th>Is Discontinued By Manufacturer</th>\n      <th>Item model number</th>\n      <th>Average Battery Life (in hours)</th>\n      <th>...</th>\n      <th>Number of USB 3.0 Ports</th>\n      <th>Computer Memory Type</th>\n      <th>Processor Brand</th>\n      <th>Processor Count</th>\n      <th>Memory_Speed_In_GHz</th>\n      <th>Hard Drive Interface</th>\n      <th>Hardware Platform</th>\n      <th>Flash Memory Size</th>\n      <th>Best_Sellers_Rank_fields</th>\n      <th>Flash Memory SizeFlash Memory Size</th>\n    </tr>\n  </thead>\n  <tbody>\n    <tr>\n      <th>0</th>\n      <td>B085XRL3P1</td>\n      <td>CHUWI Herobook Pro 14.1 inch Windows 10 Intel ...</td>\n      <td>CHUWI</td>\n      <td>1853</td>\n      <td>13.07 x 8.43 x 0.84</td>\n      <td>3.06</td>\n      <td>2020-03-11</td>\n      <td>NaN</td>\n      <td>Herobook Pro</td>\n      <td>5 \\tyears</td>\n      <td>...</td>\n      <td>NaN</td>\n      <td>DDR4 SDRAM</td>\n      <td>Intel</td>\n      <td>4</td>\n      <td>NaN</td>\n      <td>ATA-4</td>\n      <td>PC</td>\n      <td>256 GB</td>\n      <td>Computers &amp; Accessories</td>\n      <td>256.0</td>\n    </tr>\n    <tr>\n      <th>1</th>\n      <td>B08CDM3XPJ</td>\n      <td>CHUWI CoreBook Pro Windows 10 Laptop Computer,...</td>\n      <td>CHUWI</td>\n      <td>14505</td>\n      <td>1.14 x 0.87 x 0.71</td>\n      <td>4.38</td>\n      <td>2020-06-30</td>\n      <td>NaN</td>\n      <td>CoreBook Pro</td>\n      <td>NaN</td>\n      <td>...</td>\n      <td>NaN</td>\n      <td>DDR4 SDRAM</td>\n      <td>Intel</td>\n      <td>2</td>\n      <td>NaN</td>\n      <td>Solid State</td>\n      <td>PC</td>\n      <td>NaN</td>\n      <td>Computers &amp; Accessories</td>\n      <td>NaN</td>\n    </tr>\n    <tr>\n      <th>2</th>\n      <td>B08NXSJVCR</td>\n      <td>Lenovo IdeaPad 3 Intel i5-1035G1 Quad Core 12G...</td>\n      <td>Lenovo</td>\n      <td>212</td>\n      <td>14.26 x 9.98 x 0.78</td>\n      <td>1.12</td>\n      <td>2020-11-20</td>\n      <td>NaN</td>\n      <td>81WE00NKUS</td>\n      <td>NaN</td>\n      <td>...</td>\n      <td>NaN</td>\n      <td>DDR4 SDRAM</td>\n      <td>Intel</td>\n      <td>2</td>\n      <td>3.900</td>\n      <td>Solid State</td>\n      <td>PC</td>\n      <td>256 GB</td>\n      <td>Computers &amp; Accessories</td>\n      <td>256.0</td>\n    </tr>\n    <tr>\n      <th>3</th>\n      <td>B07GLV1VC7</td>\n      <td>Lenovo Chromebook S330 Laptop, 14-Inch FHD (19...</td>\n      <td>Lenovo</td>\n      <td>372</td>\n      <td>12.82 x 0.82 x 9.15</td>\n      <td>3.30</td>\n      <td>2018-08-09</td>\n      <td>NaN</td>\n      <td>81JW0000US</td>\n      <td>10 Hours</td>\n      <td>...</td>\n      <td>1</td>\n      <td>Unknown</td>\n      <td>Mediatek</td>\n      <td>4</td>\n      <td>NaN</td>\n      <td>Solid State</td>\n      <td>Chrome</td>\n      <td>64</td>\n      <td>Computers &amp; Accessories</td>\n      <td>64.0</td>\n    </tr>\n    <tr>\n      <th>4</th>\n      <td>B08842D7JS</td>\n      <td>Acer Predator Helios 300 Gaming Laptop, Intel ...</td>\n      <td>Acer</td>\n      <td>146</td>\n      <td>14.31 x 10.04 x 0.9</td>\n      <td>5.07</td>\n      <td>2020-06-16</td>\n      <td>NaN</td>\n      <td>PH315-53-72XD</td>\n      <td>6 Hours</td>\n      <td>...</td>\n      <td>3</td>\n      <td>DDR4 SDRAM</td>\n      <td>Intel</td>\n      <td>6</td>\n      <td>2.933</td>\n      <td>Gigabit Ethernet</td>\n      <td>NaN</td>\n      <td>512</td>\n      <td>Computers &amp; Accessories</td>\n      <td>512.0</td>\n    </tr>\n    <tr>\n      <th>...</th>\n      <td>...</td>\n      <td>...</td>\n      <td>...</td>\n      <td>...</td>\n      <td>...</td>\n      <td>...</td>\n      <td>...</td>\n      <td>...</td>\n      <td>...</td>\n      <td>...</td>\n      <td>...</td>\n      <td>...</td>\n      <td>...</td>\n      <td>...</td>\n      <td>...</td>\n      <td>...</td>\n      <td>...</td>\n      <td>...</td>\n      <td>...</td>\n      <td>...</td>\n      <td>...</td>\n    </tr>\n    <tr>\n      <th>2800</th>\n      <td>B08L8KW3ZM</td>\n      <td>Dell Latitude 5410 14\" Notebook - Full HD - 19...</td>\n      <td>Dell</td>\n      <td>579675</td>\n      <td>8.5 x 12.72 x 0.83</td>\n      <td>3.26</td>\n      <td>2020-10-16</td>\n      <td>NaN</td>\n      <td>NaN</td>\n      <td>NaN</td>\n      <td>...</td>\n      <td>NaN</td>\n      <td>NaN</td>\n      <td>Intel</td>\n      <td>1</td>\n      <td>NaN</td>\n      <td>Solid State</td>\n      <td>PC</td>\n      <td>256</td>\n      <td>Computers &amp; Accessories</td>\n      <td>256.0</td>\n    </tr>\n    <tr>\n      <th>2801</th>\n      <td>B082RD3STD</td>\n      <td>TopSeller TC M720S SFF I5-9400 2.9G 8GB 256GB ...</td>\n      <td>Lenovo</td>\n      <td>47707</td>\n      <td>11.4 x 3.6 x 13.5</td>\n      <td>13.20</td>\n      <td>2019-12-14</td>\n      <td>NaN</td>\n      <td>10ST008NUS</td>\n      <td>NaN</td>\n      <td>...</td>\n      <td>3</td>\n      <td>Unknown</td>\n      <td>Intel</td>\n      <td>1</td>\n      <td>NaN</td>\n      <td>Unknown</td>\n      <td>NaN</td>\n      <td>256</td>\n      <td>Computers &amp; Accessories</td>\n      <td>256.0</td>\n    </tr>\n    <tr>\n      <th>2802</th>\n      <td>B0844KPGNF</td>\n      <td>Lenovo ThinkPad T14 Laptop - 14\" IPS FHD Touch...</td>\n      <td>Lenovo</td>\n      <td>310265</td>\n      <td>12.95 x 8.94 x 0.7</td>\n      <td>3.40</td>\n      <td>2020-01-22</td>\n      <td>NaN</td>\n      <td>20NYS6JB0F</td>\n      <td>NaN</td>\n      <td>...</td>\n      <td>NaN</td>\n      <td>DDR4 SDRAM</td>\n      <td>Intel</td>\n      <td>4</td>\n      <td>1.800</td>\n      <td>ESATA</td>\n      <td>PC</td>\n      <td>256 GB</td>\n      <td>Computers &amp; Accessories</td>\n      <td>256.0</td>\n    </tr>\n    <tr>\n      <th>2803</th>\n      <td>B08JBVT48L</td>\n      <td>Laptop 14 Inch, Winnovo N140, 6GB RAM, 128GB S...</td>\n      <td>Winnovo</td>\n      <td>4479</td>\n      <td>14.21 x 9.96 x 2.91</td>\n      <td>4.37</td>\n      <td>2020-11-08</td>\n      <td>NaN</td>\n      <td>Winnovo N140</td>\n      <td>NaN</td>\n      <td>...</td>\n      <td>NaN</td>\n      <td>DDR3 SDRAM</td>\n      <td>Intel</td>\n      <td>2</td>\n      <td>NaN</td>\n      <td>USB 3.0</td>\n      <td>PC</td>\n      <td>128 GB</td>\n      <td>Computers &amp; Accessories</td>\n      <td>128.0</td>\n    </tr>\n    <tr>\n      <th>2804</th>\n      <td>B08N63ZSV7</td>\n      <td>2020 15.6-inch Laptop 6G + 256G, Intel celeron...</td>\n      <td>XINYANGCH</td>\n      <td>29104</td>\n      <td>18.94 x 11.5 x 2.36</td>\n      <td>3.96</td>\n      <td>2019-12-04</td>\n      <td>NaN</td>\n      <td>N15C</td>\n      <td>NaN</td>\n      <td>...</td>\n      <td>NaN</td>\n      <td>DDR3 SDRAM</td>\n      <td>Intel</td>\n      <td>4</td>\n      <td>2.300</td>\n      <td>ATA</td>\n      <td>PC</td>\n      <td>256 GB</td>\n      <td>Computers &amp; Accessories</td>\n      <td>256.0</td>\n    </tr>\n  </tbody>\n</table>\n<p>2805 rows × 33 columns</p>\n</div>"
     },
     "metadata": {},
     "execution_count": 87
    }
   ],
   "source": [
    "flash.a = flash['a'].astype(float)\n",
    "flash['a'] = np.where(flash['b'] == 'TB',flash['a'] * 1024 ,flash['a'])\n",
    "m_new['Flash Memory SizeFlash Memory Size'] = flash['a']\n",
    "m_new"
   ]
  },
  {
   "cell_type": "code",
   "execution_count": 88,
   "metadata": {},
   "outputs": [],
   "source": [
    "m_new = m_new.rename(columns={'Flash Memory Size':'Flash_Memory_Size_In_GB'})"
   ]
  },
  {
   "cell_type": "code",
   "execution_count": 89,
   "metadata": {},
   "outputs": [],
   "source": [
    "# m_new['Best Sellers Rank'] = m_new['Best Sellers Rank'].str.strip()\n",
    "# m_new['Best Sellers Rank'] = pd.to_numeric(m_new['Best Sellers Rank'])\n",
    "m_new['Processor Count'].fillna(0, inplace= True)\n",
    "\n",
    "\n",
    "m_new['Processor Count'] = m_new['Processor Count'].astype('int')"
   ]
  },
  {
   "cell_type": "code",
   "execution_count": 90,
   "metadata": {},
   "outputs": [
    {
     "output_type": "execute_result",
     "data": {
      "text/plain": [
       "ASIN                                           object\n",
       "name                                           object\n",
       "Brand                                          object\n",
       "Best Sellers Rank                               int32\n",
       "Product Dimensions (inches)                    object\n",
       "Item_Weight_Pounds                            float64\n",
       "Date First Available                   datetime64[ns]\n",
       "Is Discontinued By Manufacturer                object\n",
       "Item model number                              object\n",
       "Average Battery Life (in hours)                object\n",
       "Batteries                                      object\n",
       "Card Description                               object\n",
       "Chipset Brand                                  object\n",
       "Voltage                                        object\n",
       "Series                                         object\n",
       "National Stock Number                          object\n",
       "Wireless Type                                  object\n",
       "Max_Screen_Resolution_Pixels                   object\n",
       "Standing_Screen_Display_Size_Inches            object\n",
       "Operating System                               object\n",
       "Color                                          object\n",
       "Graphics Coprocessor                           object\n",
       "Number of USB 2.0 Ports                        object\n",
       "Number of USB 3.0 Ports                        object\n",
       "Computer Memory Type                           object\n",
       "Processor Brand                                object\n",
       "Processor Count                                 int32\n",
       "Memory_Speed_In_GHz                           float64\n",
       "Hard Drive Interface                           object\n",
       "Hardware Platform                              object\n",
       "Flash_Memory_Size_In_GB                        object\n",
       "Best_Sellers_Rank_fields                       object\n",
       "Flash Memory SizeFlash Memory Size            float64\n",
       "dtype: object"
      ]
     },
     "metadata": {},
     "execution_count": 90
    }
   ],
   "source": [
    "m_new.dtypes"
   ]
  },
  {
   "cell_type": "code",
   "execution_count": 91,
   "metadata": {},
   "outputs": [
    {
     "output_type": "execute_result",
     "data": {
      "text/plain": [
       "ASIN                                     42\n",
       "name                                     41\n",
       "Brand                                    38\n",
       "Best Sellers Rank                         0\n",
       "Product Dimensions (inches)              45\n",
       "Item_Weight_Pounds                       43\n",
       "Date First Available                     52\n",
       "Is Discontinued By Manufacturer        2784\n",
       "Item model number                       299\n",
       "Average Battery Life (in hours)        1921\n",
       "Batteries                               639\n",
       "Card Description                       1041\n",
       "Chipset Brand                           832\n",
       "Voltage                                2298\n",
       "Series                                  441\n",
       "National Stock Number                  2740\n",
       "Wireless Type                           430\n",
       "Max_Screen_Resolution_Pixels            387\n",
       "Standing_Screen_Display_Size_Inches     199\n",
       "Operating System                        228\n",
       "Color                                  1186\n",
       "Graphics Coprocessor                    411\n",
       "Number of USB 2.0 Ports                2373\n",
       "Number of USB 3.0 Ports                2118\n",
       "Computer Memory Type                    323\n",
       "Processor Brand                         274\n",
       "Processor Count                           0\n",
       "Memory_Speed_In_GHz                    1092\n",
       "Hard Drive Interface                    440\n",
       "Hardware Platform                       510\n",
       "Flash_Memory_Size_In_GB                 848\n",
       "Best_Sellers_Rank_fields                132\n",
       "Flash Memory SizeFlash Memory Size      848\n",
       "dtype: int64"
      ]
     },
     "metadata": {},
     "execution_count": 91
    }
   ],
   "source": [
    "m_new.isnull().sum()"
   ]
  },
  {
   "cell_type": "code",
   "execution_count": 92,
   "metadata": {},
   "outputs": [
    {
     "output_type": "execute_result",
     "data": {
      "text/plain": [
       "['ASIN',\n",
       " 'name',\n",
       " 'Brand',\n",
       " 'Best Sellers Rank',\n",
       " 'Product Dimensions (inches)',\n",
       " 'Item_Weight_Pounds',\n",
       " 'Date First Available',\n",
       " 'Is Discontinued By Manufacturer',\n",
       " 'Item model number',\n",
       " 'Average Battery Life (in hours)',\n",
       " 'Batteries',\n",
       " 'Card Description',\n",
       " 'Chipset Brand',\n",
       " 'Voltage',\n",
       " 'Series',\n",
       " 'National Stock Number',\n",
       " 'Wireless Type',\n",
       " 'Max_Screen_Resolution_Pixels',\n",
       " 'Standing_Screen_Display_Size_Inches',\n",
       " 'Operating System',\n",
       " 'Color',\n",
       " 'Graphics Coprocessor',\n",
       " 'Number of USB 2.0 Ports',\n",
       " 'Number of USB 3.0 Ports',\n",
       " 'Computer Memory Type',\n",
       " 'Processor Brand',\n",
       " 'Processor Count',\n",
       " 'Memory_Speed_In_GHz',\n",
       " 'Hard Drive Interface',\n",
       " 'Hardware Platform',\n",
       " 'Flash_Memory_Size_In_GB',\n",
       " 'Best_Sellers_Rank_fields',\n",
       " 'Flash Memory SizeFlash Memory Size']"
      ]
     },
     "metadata": {},
     "execution_count": 92
    }
   ],
   "source": [
    "list(m_new.columns)"
   ]
  },
  {
   "cell_type": "code",
   "execution_count": 93,
   "metadata": {},
   "outputs": [
    {
     "output_type": "execute_result",
     "data": {
      "text/plain": [
       "            ASIN                                               name  \\\n",
       "0     B085XRL3P1  CHUWI Herobook Pro 14.1 inch Windows 10 Intel ...   \n",
       "1     B08CDM3XPJ  CHUWI CoreBook Pro Windows 10 Laptop Computer,...   \n",
       "2     B08NXSJVCR  Lenovo IdeaPad 3 Intel i5-1035G1 Quad Core 12G...   \n",
       "3     B07GLV1VC7  Lenovo Chromebook S330 Laptop, 14-Inch FHD (19...   \n",
       "4     B08842D7JS  Acer Predator Helios 300 Gaming Laptop, Intel ...   \n",
       "...          ...                                                ...   \n",
       "2800  B08L8KW3ZM  Dell Latitude 5410 14\" Notebook - Full HD - 19...   \n",
       "2801  B082RD3STD  TopSeller TC M720S SFF I5-9400 2.9G 8GB 256GB ...   \n",
       "2802  B0844KPGNF  Lenovo ThinkPad T14 Laptop - 14\" IPS FHD Touch...   \n",
       "2803  B08JBVT48L  Laptop 14 Inch, Winnovo N140, 6GB RAM, 128GB S...   \n",
       "2804  B08N63ZSV7  2020 15.6-inch Laptop 6G + 256G, Intel celeron...   \n",
       "\n",
       "          Brand  Best Sellers Rank   Best_Sellers_Rank_fields  \\\n",
       "0         CHUWI               1853   Computers & Accessories    \n",
       "1         CHUWI              14505   Computers & Accessories    \n",
       "2        Lenovo                212   Computers & Accessories    \n",
       "3        Lenovo                372   Computers & Accessories    \n",
       "4          Acer                146   Computers & Accessories    \n",
       "...         ...                ...                        ...   \n",
       "2800       Dell             579675   Computers & Accessories    \n",
       "2801     Lenovo              47707   Computers & Accessories    \n",
       "2802     Lenovo             310265   Computers & Accessories    \n",
       "2803    Winnovo               4479   Computers & Accessories    \n",
       "2804  XINYANGCH              29104   Computers & Accessories    \n",
       "\n",
       "     Product Dimensions (inches)  Item_Weight_Pounds Date First Available  \\\n",
       "0           13.07 x 8.43 x 0.84                 3.06           2020-03-11   \n",
       "1            1.14 x 0.87 x 0.71                 4.38           2020-06-30   \n",
       "2           14.26 x 9.98 x 0.78                 1.12           2020-11-20   \n",
       "3           12.82 x 0.82 x 9.15                 3.30           2018-08-09   \n",
       "4           14.31 x 10.04 x 0.9                 5.07           2020-06-16   \n",
       "...                          ...                 ...                  ...   \n",
       "2800         8.5 x 12.72 x 0.83                 3.26           2020-10-16   \n",
       "2801          11.4 x 3.6 x 13.5                13.20           2019-12-14   \n",
       "2802         12.95 x 8.94 x 0.7                 3.40           2020-01-22   \n",
       "2803        14.21 x 9.96 x 2.91                 4.37           2020-11-08   \n",
       "2804        18.94 x 11.5 x 2.36                 3.96           2019-12-04   \n",
       "\n",
       "     Is Discontinued By Manufacturer Item model number  ...  \\\n",
       "0                                NaN      Herobook Pro  ...   \n",
       "1                                NaN      CoreBook Pro  ...   \n",
       "2                                NaN        81WE00NKUS  ...   \n",
       "3                                NaN        81JW0000US  ...   \n",
       "4                                NaN     PH315-53-72XD  ...   \n",
       "...                              ...               ...  ...   \n",
       "2800                             NaN               NaN  ...   \n",
       "2801                             NaN        10ST008NUS  ...   \n",
       "2802                             NaN        20NYS6JB0F  ...   \n",
       "2803                             NaN      Winnovo N140  ...   \n",
       "2804                             NaN              N15C  ...   \n",
       "\n",
       "               Graphics Coprocessor Number of USB 2.0 Ports  \\\n",
       "0     Intel Celeron Processor N4000                     NaN   \n",
       "1                               NaN                     NaN   \n",
       "2                Intel UHD Graphics                       1   \n",
       "3                               NaN                     NaN   \n",
       "4           NVIDIA GeForce RTX 2060                     NaN   \n",
       "...                             ...                     ...   \n",
       "2800         Intel UHD Graphics 620                     NaN   \n",
       "2801         Intel UHD Graphics 630                       2   \n",
       "2802  Integrated Intel UHD Graphics                     NaN   \n",
       "2803           Intel HD Graphic 500                     NaN   \n",
       "2804                      1920*1080                     NaN   \n",
       "\n",
       "     Number of USB 3.0 Ports Computer Memory Type Processor Brand  \\\n",
       "0                        NaN           DDR4 SDRAM           Intel   \n",
       "1                        NaN           DDR4 SDRAM           Intel   \n",
       "2                        NaN           DDR4 SDRAM           Intel   \n",
       "3                          1              Unknown        Mediatek   \n",
       "4                          3           DDR4 SDRAM           Intel   \n",
       "...                      ...                  ...             ...   \n",
       "2800                     NaN                  NaN           Intel   \n",
       "2801                       3              Unknown           Intel   \n",
       "2802                     NaN           DDR4 SDRAM           Intel   \n",
       "2803                     NaN           DDR3 SDRAM           Intel   \n",
       "2804                     NaN           DDR3 SDRAM           Intel   \n",
       "\n",
       "     Processor Count Memory_Speed_In_GHz Hard Drive Interface  \\\n",
       "0                  4                 NaN                ATA-4   \n",
       "1                  2                 NaN          Solid State   \n",
       "2                  2               3.900          Solid State   \n",
       "3                  4                 NaN          Solid State   \n",
       "4                  6               2.933     Gigabit Ethernet   \n",
       "...              ...                 ...                  ...   \n",
       "2800               1                 NaN          Solid State   \n",
       "2801               1                 NaN              Unknown   \n",
       "2802               4               1.800                ESATA   \n",
       "2803               2                 NaN              USB 3.0   \n",
       "2804               4               2.300                  ATA   \n",
       "\n",
       "     Hardware Platform Flash_Memory_Size_In_GB  \n",
       "0                   PC                  256 GB  \n",
       "1                   PC                     NaN  \n",
       "2                   PC                  256 GB  \n",
       "3               Chrome                      64  \n",
       "4                  NaN                     512  \n",
       "...                ...                     ...  \n",
       "2800                PC                     256  \n",
       "2801               NaN                     256  \n",
       "2802                PC                  256 GB  \n",
       "2803                PC                  128 GB  \n",
       "2804                PC                  256 GB  \n",
       "\n",
       "[2805 rows x 32 columns]"
      ],
      "text/html": "<div>\n<style scoped>\n    .dataframe tbody tr th:only-of-type {\n        vertical-align: middle;\n    }\n\n    .dataframe tbody tr th {\n        vertical-align: top;\n    }\n\n    .dataframe thead th {\n        text-align: right;\n    }\n</style>\n<table border=\"1\" class=\"dataframe\">\n  <thead>\n    <tr style=\"text-align: right;\">\n      <th></th>\n      <th>ASIN</th>\n      <th>name</th>\n      <th>Brand</th>\n      <th>Best Sellers Rank</th>\n      <th>Best_Sellers_Rank_fields</th>\n      <th>Product Dimensions (inches)</th>\n      <th>Item_Weight_Pounds</th>\n      <th>Date First Available</th>\n      <th>Is Discontinued By Manufacturer</th>\n      <th>Item model number</th>\n      <th>...</th>\n      <th>Graphics Coprocessor</th>\n      <th>Number of USB 2.0 Ports</th>\n      <th>Number of USB 3.0 Ports</th>\n      <th>Computer Memory Type</th>\n      <th>Processor Brand</th>\n      <th>Processor Count</th>\n      <th>Memory_Speed_In_GHz</th>\n      <th>Hard Drive Interface</th>\n      <th>Hardware Platform</th>\n      <th>Flash_Memory_Size_In_GB</th>\n    </tr>\n  </thead>\n  <tbody>\n    <tr>\n      <th>0</th>\n      <td>B085XRL3P1</td>\n      <td>CHUWI Herobook Pro 14.1 inch Windows 10 Intel ...</td>\n      <td>CHUWI</td>\n      <td>1853</td>\n      <td>Computers &amp; Accessories</td>\n      <td>13.07 x 8.43 x 0.84</td>\n      <td>3.06</td>\n      <td>2020-03-11</td>\n      <td>NaN</td>\n      <td>Herobook Pro</td>\n      <td>...</td>\n      <td>Intel Celeron Processor N4000</td>\n      <td>NaN</td>\n      <td>NaN</td>\n      <td>DDR4 SDRAM</td>\n      <td>Intel</td>\n      <td>4</td>\n      <td>NaN</td>\n      <td>ATA-4</td>\n      <td>PC</td>\n      <td>256 GB</td>\n    </tr>\n    <tr>\n      <th>1</th>\n      <td>B08CDM3XPJ</td>\n      <td>CHUWI CoreBook Pro Windows 10 Laptop Computer,...</td>\n      <td>CHUWI</td>\n      <td>14505</td>\n      <td>Computers &amp; Accessories</td>\n      <td>1.14 x 0.87 x 0.71</td>\n      <td>4.38</td>\n      <td>2020-06-30</td>\n      <td>NaN</td>\n      <td>CoreBook Pro</td>\n      <td>...</td>\n      <td>NaN</td>\n      <td>NaN</td>\n      <td>NaN</td>\n      <td>DDR4 SDRAM</td>\n      <td>Intel</td>\n      <td>2</td>\n      <td>NaN</td>\n      <td>Solid State</td>\n      <td>PC</td>\n      <td>NaN</td>\n    </tr>\n    <tr>\n      <th>2</th>\n      <td>B08NXSJVCR</td>\n      <td>Lenovo IdeaPad 3 Intel i5-1035G1 Quad Core 12G...</td>\n      <td>Lenovo</td>\n      <td>212</td>\n      <td>Computers &amp; Accessories</td>\n      <td>14.26 x 9.98 x 0.78</td>\n      <td>1.12</td>\n      <td>2020-11-20</td>\n      <td>NaN</td>\n      <td>81WE00NKUS</td>\n      <td>...</td>\n      <td>Intel UHD Graphics</td>\n      <td>1</td>\n      <td>NaN</td>\n      <td>DDR4 SDRAM</td>\n      <td>Intel</td>\n      <td>2</td>\n      <td>3.900</td>\n      <td>Solid State</td>\n      <td>PC</td>\n      <td>256 GB</td>\n    </tr>\n    <tr>\n      <th>3</th>\n      <td>B07GLV1VC7</td>\n      <td>Lenovo Chromebook S330 Laptop, 14-Inch FHD (19...</td>\n      <td>Lenovo</td>\n      <td>372</td>\n      <td>Computers &amp; Accessories</td>\n      <td>12.82 x 0.82 x 9.15</td>\n      <td>3.30</td>\n      <td>2018-08-09</td>\n      <td>NaN</td>\n      <td>81JW0000US</td>\n      <td>...</td>\n      <td>NaN</td>\n      <td>NaN</td>\n      <td>1</td>\n      <td>Unknown</td>\n      <td>Mediatek</td>\n      <td>4</td>\n      <td>NaN</td>\n      <td>Solid State</td>\n      <td>Chrome</td>\n      <td>64</td>\n    </tr>\n    <tr>\n      <th>4</th>\n      <td>B08842D7JS</td>\n      <td>Acer Predator Helios 300 Gaming Laptop, Intel ...</td>\n      <td>Acer</td>\n      <td>146</td>\n      <td>Computers &amp; Accessories</td>\n      <td>14.31 x 10.04 x 0.9</td>\n      <td>5.07</td>\n      <td>2020-06-16</td>\n      <td>NaN</td>\n      <td>PH315-53-72XD</td>\n      <td>...</td>\n      <td>NVIDIA GeForce RTX 2060</td>\n      <td>NaN</td>\n      <td>3</td>\n      <td>DDR4 SDRAM</td>\n      <td>Intel</td>\n      <td>6</td>\n      <td>2.933</td>\n      <td>Gigabit Ethernet</td>\n      <td>NaN</td>\n      <td>512</td>\n    </tr>\n    <tr>\n      <th>...</th>\n      <td>...</td>\n      <td>...</td>\n      <td>...</td>\n      <td>...</td>\n      <td>...</td>\n      <td>...</td>\n      <td>...</td>\n      <td>...</td>\n      <td>...</td>\n      <td>...</td>\n      <td>...</td>\n      <td>...</td>\n      <td>...</td>\n      <td>...</td>\n      <td>...</td>\n      <td>...</td>\n      <td>...</td>\n      <td>...</td>\n      <td>...</td>\n      <td>...</td>\n      <td>...</td>\n    </tr>\n    <tr>\n      <th>2800</th>\n      <td>B08L8KW3ZM</td>\n      <td>Dell Latitude 5410 14\" Notebook - Full HD - 19...</td>\n      <td>Dell</td>\n      <td>579675</td>\n      <td>Computers &amp; Accessories</td>\n      <td>8.5 x 12.72 x 0.83</td>\n      <td>3.26</td>\n      <td>2020-10-16</td>\n      <td>NaN</td>\n      <td>NaN</td>\n      <td>...</td>\n      <td>Intel UHD Graphics 620</td>\n      <td>NaN</td>\n      <td>NaN</td>\n      <td>NaN</td>\n      <td>Intel</td>\n      <td>1</td>\n      <td>NaN</td>\n      <td>Solid State</td>\n      <td>PC</td>\n      <td>256</td>\n    </tr>\n    <tr>\n      <th>2801</th>\n      <td>B082RD3STD</td>\n      <td>TopSeller TC M720S SFF I5-9400 2.9G 8GB 256GB ...</td>\n      <td>Lenovo</td>\n      <td>47707</td>\n      <td>Computers &amp; Accessories</td>\n      <td>11.4 x 3.6 x 13.5</td>\n      <td>13.20</td>\n      <td>2019-12-14</td>\n      <td>NaN</td>\n      <td>10ST008NUS</td>\n      <td>...</td>\n      <td>Intel UHD Graphics 630</td>\n      <td>2</td>\n      <td>3</td>\n      <td>Unknown</td>\n      <td>Intel</td>\n      <td>1</td>\n      <td>NaN</td>\n      <td>Unknown</td>\n      <td>NaN</td>\n      <td>256</td>\n    </tr>\n    <tr>\n      <th>2802</th>\n      <td>B0844KPGNF</td>\n      <td>Lenovo ThinkPad T14 Laptop - 14\" IPS FHD Touch...</td>\n      <td>Lenovo</td>\n      <td>310265</td>\n      <td>Computers &amp; Accessories</td>\n      <td>12.95 x 8.94 x 0.7</td>\n      <td>3.40</td>\n      <td>2020-01-22</td>\n      <td>NaN</td>\n      <td>20NYS6JB0F</td>\n      <td>...</td>\n      <td>Integrated Intel UHD Graphics</td>\n      <td>NaN</td>\n      <td>NaN</td>\n      <td>DDR4 SDRAM</td>\n      <td>Intel</td>\n      <td>4</td>\n      <td>1.800</td>\n      <td>ESATA</td>\n      <td>PC</td>\n      <td>256 GB</td>\n    </tr>\n    <tr>\n      <th>2803</th>\n      <td>B08JBVT48L</td>\n      <td>Laptop 14 Inch, Winnovo N140, 6GB RAM, 128GB S...</td>\n      <td>Winnovo</td>\n      <td>4479</td>\n      <td>Computers &amp; Accessories</td>\n      <td>14.21 x 9.96 x 2.91</td>\n      <td>4.37</td>\n      <td>2020-11-08</td>\n      <td>NaN</td>\n      <td>Winnovo N140</td>\n      <td>...</td>\n      <td>Intel HD Graphic 500</td>\n      <td>NaN</td>\n      <td>NaN</td>\n      <td>DDR3 SDRAM</td>\n      <td>Intel</td>\n      <td>2</td>\n      <td>NaN</td>\n      <td>USB 3.0</td>\n      <td>PC</td>\n      <td>128 GB</td>\n    </tr>\n    <tr>\n      <th>2804</th>\n      <td>B08N63ZSV7</td>\n      <td>2020 15.6-inch Laptop 6G + 256G, Intel celeron...</td>\n      <td>XINYANGCH</td>\n      <td>29104</td>\n      <td>Computers &amp; Accessories</td>\n      <td>18.94 x 11.5 x 2.36</td>\n      <td>3.96</td>\n      <td>2019-12-04</td>\n      <td>NaN</td>\n      <td>N15C</td>\n      <td>...</td>\n      <td>1920*1080</td>\n      <td>NaN</td>\n      <td>NaN</td>\n      <td>DDR3 SDRAM</td>\n      <td>Intel</td>\n      <td>4</td>\n      <td>2.300</td>\n      <td>ATA</td>\n      <td>PC</td>\n      <td>256 GB</td>\n    </tr>\n  </tbody>\n</table>\n<p>2805 rows × 32 columns</p>\n</div>"
     },
     "metadata": {},
     "execution_count": 93
    }
   ],
   "source": [
    "m_new = m_new[['ASIN','name','Brand','Best Sellers Rank','Best_Sellers_Rank_fields','Product Dimensions (inches)','Item_Weight_Pounds','Date First Available','Is Discontinued By Manufacturer','Item model number','Average Battery Life (in hours)','Batteries','Card Description','Chipset Brand','Voltage','Series','National Stock Number','Wireless Type','Max_Screen_Resolution_Pixels','Standing_Screen_Display_Size_Inches','Operating System','Color','Graphics Coprocessor','Number of USB 2.0 Ports','Number of USB 3.0 Ports', 'Computer Memory Type','Processor Brand','Processor Count','Memory_Speed_In_GHz','Hard Drive Interface','Hardware Platform','Flash_Memory_Size_In_GB']]\n",
    "m_new"
   ]
  },
  {
   "cell_type": "code",
   "execution_count": 94,
   "metadata": {},
   "outputs": [],
   "source": [
    "m_new.columns = ['ASIN','Title','Brand','Best-Sellers_Rank','Best_Sellers_Rank_fields','Product_Dimensions_Inches','Item_Weight_Pounds','Date_First_Available','Is_Discontinued_By_Manufacturer','Item_Model_Number','Average_Battery_Life_In_Hours)','Batteries','Card_Description','Chipset_Brand','Voltage','Series','National_Stock_Number','Wireless_Type','Max_Screen_Resolution_Pixels','Standing_Screen_Display_Size_Inches','Operating_System','Color','Graphics_Coprocessor','Number_of_USB_2.0_Ports','Number_of_USB_3.0_Ports', 'Computer_Memory_Type','Processor_Brand','Processor_Count','Memory_Speed_In_GHz','Hard_Drive_Interface','Hardware_Platform','Flash_Memory_Size_In_GB']"
   ]
  },
  {
   "cell_type": "code",
   "execution_count": 95,
   "metadata": {},
   "outputs": [
    {
     "output_type": "execute_result",
     "data": {
      "text/plain": [
       "            ASIN                                              Title  \\\n",
       "0     B085XRL3P1  CHUWI Herobook Pro 14.1 inch Windows 10 Intel ...   \n",
       "1     B08CDM3XPJ  CHUWI CoreBook Pro Windows 10 Laptop Computer,...   \n",
       "2     B08NXSJVCR  Lenovo IdeaPad 3 Intel i5-1035G1 Quad Core 12G...   \n",
       "3     B07GLV1VC7  Lenovo Chromebook S330 Laptop, 14-Inch FHD (19...   \n",
       "4     B08842D7JS  Acer Predator Helios 300 Gaming Laptop, Intel ...   \n",
       "...          ...                                                ...   \n",
       "2800  B08L8KW3ZM  Dell Latitude 5410 14\" Notebook - Full HD - 19...   \n",
       "2801  B082RD3STD  TopSeller TC M720S SFF I5-9400 2.9G 8GB 256GB ...   \n",
       "2802  B0844KPGNF  Lenovo ThinkPad T14 Laptop - 14\" IPS FHD Touch...   \n",
       "2803  B08JBVT48L  Laptop 14 Inch, Winnovo N140, 6GB RAM, 128GB S...   \n",
       "2804  B08N63ZSV7  2020 15.6-inch Laptop 6G + 256G, Intel celeron...   \n",
       "\n",
       "          Brand  Best-Sellers_Rank   Best_Sellers_Rank_fields  \\\n",
       "0         CHUWI               1853   Computers & Accessories    \n",
       "1         CHUWI              14505   Computers & Accessories    \n",
       "2        Lenovo                212   Computers & Accessories    \n",
       "3        Lenovo                372   Computers & Accessories    \n",
       "4          Acer                146   Computers & Accessories    \n",
       "...         ...                ...                        ...   \n",
       "2800       Dell             579675   Computers & Accessories    \n",
       "2801     Lenovo              47707   Computers & Accessories    \n",
       "2802     Lenovo             310265   Computers & Accessories    \n",
       "2803    Winnovo               4479   Computers & Accessories    \n",
       "2804  XINYANGCH              29104   Computers & Accessories    \n",
       "\n",
       "     Product_Dimensions_Inches  Item_Weight_Pounds Date_First_Available  \\\n",
       "0         13.07 x 8.43 x 0.84                 3.06           2020-03-11   \n",
       "1          1.14 x 0.87 x 0.71                 4.38           2020-06-30   \n",
       "2         14.26 x 9.98 x 0.78                 1.12           2020-11-20   \n",
       "3         12.82 x 0.82 x 9.15                 3.30           2018-08-09   \n",
       "4         14.31 x 10.04 x 0.9                 5.07           2020-06-16   \n",
       "...                        ...                 ...                  ...   \n",
       "2800       8.5 x 12.72 x 0.83                 3.26           2020-10-16   \n",
       "2801        11.4 x 3.6 x 13.5                13.20           2019-12-14   \n",
       "2802       12.95 x 8.94 x 0.7                 3.40           2020-01-22   \n",
       "2803      14.21 x 9.96 x 2.91                 4.37           2020-11-08   \n",
       "2804      18.94 x 11.5 x 2.36                 3.96           2019-12-04   \n",
       "\n",
       "     Is_Discontinued_By_Manufacturer Item_Model_Number  ...  \\\n",
       "0                                NaN      Herobook Pro  ...   \n",
       "1                                NaN      CoreBook Pro  ...   \n",
       "2                                NaN        81WE00NKUS  ...   \n",
       "3                                NaN        81JW0000US  ...   \n",
       "4                                NaN     PH315-53-72XD  ...   \n",
       "...                              ...               ...  ...   \n",
       "2800                             NaN               NaN  ...   \n",
       "2801                             NaN        10ST008NUS  ...   \n",
       "2802                             NaN        20NYS6JB0F  ...   \n",
       "2803                             NaN      Winnovo N140  ...   \n",
       "2804                             NaN              N15C  ...   \n",
       "\n",
       "               Graphics_Coprocessor Number_of_USB_2.0_Ports  \\\n",
       "0     Intel Celeron Processor N4000                     NaN   \n",
       "1                               NaN                     NaN   \n",
       "2                Intel UHD Graphics                       1   \n",
       "3                               NaN                     NaN   \n",
       "4           NVIDIA GeForce RTX 2060                     NaN   \n",
       "...                             ...                     ...   \n",
       "2800         Intel UHD Graphics 620                     NaN   \n",
       "2801         Intel UHD Graphics 630                       2   \n",
       "2802  Integrated Intel UHD Graphics                     NaN   \n",
       "2803           Intel HD Graphic 500                     NaN   \n",
       "2804                      1920*1080                     NaN   \n",
       "\n",
       "     Number_of_USB_3.0_Ports Computer_Memory_Type Processor_Brand  \\\n",
       "0                        NaN           DDR4 SDRAM           Intel   \n",
       "1                        NaN           DDR4 SDRAM           Intel   \n",
       "2                        NaN           DDR4 SDRAM           Intel   \n",
       "3                          1              Unknown        Mediatek   \n",
       "4                          3           DDR4 SDRAM           Intel   \n",
       "...                      ...                  ...             ...   \n",
       "2800                     NaN                  NaN           Intel   \n",
       "2801                       3              Unknown           Intel   \n",
       "2802                     NaN           DDR4 SDRAM           Intel   \n",
       "2803                     NaN           DDR3 SDRAM           Intel   \n",
       "2804                     NaN           DDR3 SDRAM           Intel   \n",
       "\n",
       "     Processor_Count Memory_Speed_In_GHz Hard_Drive_Interface  \\\n",
       "0                  4                 NaN                ATA-4   \n",
       "1                  2                 NaN          Solid State   \n",
       "2                  2               3.900          Solid State   \n",
       "3                  4                 NaN          Solid State   \n",
       "4                  6               2.933     Gigabit Ethernet   \n",
       "...              ...                 ...                  ...   \n",
       "2800               1                 NaN          Solid State   \n",
       "2801               1                 NaN              Unknown   \n",
       "2802               4               1.800                ESATA   \n",
       "2803               2                 NaN              USB 3.0   \n",
       "2804               4               2.300                  ATA   \n",
       "\n",
       "     Hardware_Platform Flash_Memory_Size_In_GB  \n",
       "0                   PC                  256 GB  \n",
       "1                   PC                     NaN  \n",
       "2                   PC                  256 GB  \n",
       "3               Chrome                      64  \n",
       "4                  NaN                     512  \n",
       "...                ...                     ...  \n",
       "2800                PC                     256  \n",
       "2801               NaN                     256  \n",
       "2802                PC                  256 GB  \n",
       "2803                PC                  128 GB  \n",
       "2804                PC                  256 GB  \n",
       "\n",
       "[2805 rows x 32 columns]"
      ],
      "text/html": "<div>\n<style scoped>\n    .dataframe tbody tr th:only-of-type {\n        vertical-align: middle;\n    }\n\n    .dataframe tbody tr th {\n        vertical-align: top;\n    }\n\n    .dataframe thead th {\n        text-align: right;\n    }\n</style>\n<table border=\"1\" class=\"dataframe\">\n  <thead>\n    <tr style=\"text-align: right;\">\n      <th></th>\n      <th>ASIN</th>\n      <th>Title</th>\n      <th>Brand</th>\n      <th>Best-Sellers_Rank</th>\n      <th>Best_Sellers_Rank_fields</th>\n      <th>Product_Dimensions_Inches</th>\n      <th>Item_Weight_Pounds</th>\n      <th>Date_First_Available</th>\n      <th>Is_Discontinued_By_Manufacturer</th>\n      <th>Item_Model_Number</th>\n      <th>...</th>\n      <th>Graphics_Coprocessor</th>\n      <th>Number_of_USB_2.0_Ports</th>\n      <th>Number_of_USB_3.0_Ports</th>\n      <th>Computer_Memory_Type</th>\n      <th>Processor_Brand</th>\n      <th>Processor_Count</th>\n      <th>Memory_Speed_In_GHz</th>\n      <th>Hard_Drive_Interface</th>\n      <th>Hardware_Platform</th>\n      <th>Flash_Memory_Size_In_GB</th>\n    </tr>\n  </thead>\n  <tbody>\n    <tr>\n      <th>0</th>\n      <td>B085XRL3P1</td>\n      <td>CHUWI Herobook Pro 14.1 inch Windows 10 Intel ...</td>\n      <td>CHUWI</td>\n      <td>1853</td>\n      <td>Computers &amp; Accessories</td>\n      <td>13.07 x 8.43 x 0.84</td>\n      <td>3.06</td>\n      <td>2020-03-11</td>\n      <td>NaN</td>\n      <td>Herobook Pro</td>\n      <td>...</td>\n      <td>Intel Celeron Processor N4000</td>\n      <td>NaN</td>\n      <td>NaN</td>\n      <td>DDR4 SDRAM</td>\n      <td>Intel</td>\n      <td>4</td>\n      <td>NaN</td>\n      <td>ATA-4</td>\n      <td>PC</td>\n      <td>256 GB</td>\n    </tr>\n    <tr>\n      <th>1</th>\n      <td>B08CDM3XPJ</td>\n      <td>CHUWI CoreBook Pro Windows 10 Laptop Computer,...</td>\n      <td>CHUWI</td>\n      <td>14505</td>\n      <td>Computers &amp; Accessories</td>\n      <td>1.14 x 0.87 x 0.71</td>\n      <td>4.38</td>\n      <td>2020-06-30</td>\n      <td>NaN</td>\n      <td>CoreBook Pro</td>\n      <td>...</td>\n      <td>NaN</td>\n      <td>NaN</td>\n      <td>NaN</td>\n      <td>DDR4 SDRAM</td>\n      <td>Intel</td>\n      <td>2</td>\n      <td>NaN</td>\n      <td>Solid State</td>\n      <td>PC</td>\n      <td>NaN</td>\n    </tr>\n    <tr>\n      <th>2</th>\n      <td>B08NXSJVCR</td>\n      <td>Lenovo IdeaPad 3 Intel i5-1035G1 Quad Core 12G...</td>\n      <td>Lenovo</td>\n      <td>212</td>\n      <td>Computers &amp; Accessories</td>\n      <td>14.26 x 9.98 x 0.78</td>\n      <td>1.12</td>\n      <td>2020-11-20</td>\n      <td>NaN</td>\n      <td>81WE00NKUS</td>\n      <td>...</td>\n      <td>Intel UHD Graphics</td>\n      <td>1</td>\n      <td>NaN</td>\n      <td>DDR4 SDRAM</td>\n      <td>Intel</td>\n      <td>2</td>\n      <td>3.900</td>\n      <td>Solid State</td>\n      <td>PC</td>\n      <td>256 GB</td>\n    </tr>\n    <tr>\n      <th>3</th>\n      <td>B07GLV1VC7</td>\n      <td>Lenovo Chromebook S330 Laptop, 14-Inch FHD (19...</td>\n      <td>Lenovo</td>\n      <td>372</td>\n      <td>Computers &amp; Accessories</td>\n      <td>12.82 x 0.82 x 9.15</td>\n      <td>3.30</td>\n      <td>2018-08-09</td>\n      <td>NaN</td>\n      <td>81JW0000US</td>\n      <td>...</td>\n      <td>NaN</td>\n      <td>NaN</td>\n      <td>1</td>\n      <td>Unknown</td>\n      <td>Mediatek</td>\n      <td>4</td>\n      <td>NaN</td>\n      <td>Solid State</td>\n      <td>Chrome</td>\n      <td>64</td>\n    </tr>\n    <tr>\n      <th>4</th>\n      <td>B08842D7JS</td>\n      <td>Acer Predator Helios 300 Gaming Laptop, Intel ...</td>\n      <td>Acer</td>\n      <td>146</td>\n      <td>Computers &amp; Accessories</td>\n      <td>14.31 x 10.04 x 0.9</td>\n      <td>5.07</td>\n      <td>2020-06-16</td>\n      <td>NaN</td>\n      <td>PH315-53-72XD</td>\n      <td>...</td>\n      <td>NVIDIA GeForce RTX 2060</td>\n      <td>NaN</td>\n      <td>3</td>\n      <td>DDR4 SDRAM</td>\n      <td>Intel</td>\n      <td>6</td>\n      <td>2.933</td>\n      <td>Gigabit Ethernet</td>\n      <td>NaN</td>\n      <td>512</td>\n    </tr>\n    <tr>\n      <th>...</th>\n      <td>...</td>\n      <td>...</td>\n      <td>...</td>\n      <td>...</td>\n      <td>...</td>\n      <td>...</td>\n      <td>...</td>\n      <td>...</td>\n      <td>...</td>\n      <td>...</td>\n      <td>...</td>\n      <td>...</td>\n      <td>...</td>\n      <td>...</td>\n      <td>...</td>\n      <td>...</td>\n      <td>...</td>\n      <td>...</td>\n      <td>...</td>\n      <td>...</td>\n      <td>...</td>\n    </tr>\n    <tr>\n      <th>2800</th>\n      <td>B08L8KW3ZM</td>\n      <td>Dell Latitude 5410 14\" Notebook - Full HD - 19...</td>\n      <td>Dell</td>\n      <td>579675</td>\n      <td>Computers &amp; Accessories</td>\n      <td>8.5 x 12.72 x 0.83</td>\n      <td>3.26</td>\n      <td>2020-10-16</td>\n      <td>NaN</td>\n      <td>NaN</td>\n      <td>...</td>\n      <td>Intel UHD Graphics 620</td>\n      <td>NaN</td>\n      <td>NaN</td>\n      <td>NaN</td>\n      <td>Intel</td>\n      <td>1</td>\n      <td>NaN</td>\n      <td>Solid State</td>\n      <td>PC</td>\n      <td>256</td>\n    </tr>\n    <tr>\n      <th>2801</th>\n      <td>B082RD3STD</td>\n      <td>TopSeller TC M720S SFF I5-9400 2.9G 8GB 256GB ...</td>\n      <td>Lenovo</td>\n      <td>47707</td>\n      <td>Computers &amp; Accessories</td>\n      <td>11.4 x 3.6 x 13.5</td>\n      <td>13.20</td>\n      <td>2019-12-14</td>\n      <td>NaN</td>\n      <td>10ST008NUS</td>\n      <td>...</td>\n      <td>Intel UHD Graphics 630</td>\n      <td>2</td>\n      <td>3</td>\n      <td>Unknown</td>\n      <td>Intel</td>\n      <td>1</td>\n      <td>NaN</td>\n      <td>Unknown</td>\n      <td>NaN</td>\n      <td>256</td>\n    </tr>\n    <tr>\n      <th>2802</th>\n      <td>B0844KPGNF</td>\n      <td>Lenovo ThinkPad T14 Laptop - 14\" IPS FHD Touch...</td>\n      <td>Lenovo</td>\n      <td>310265</td>\n      <td>Computers &amp; Accessories</td>\n      <td>12.95 x 8.94 x 0.7</td>\n      <td>3.40</td>\n      <td>2020-01-22</td>\n      <td>NaN</td>\n      <td>20NYS6JB0F</td>\n      <td>...</td>\n      <td>Integrated Intel UHD Graphics</td>\n      <td>NaN</td>\n      <td>NaN</td>\n      <td>DDR4 SDRAM</td>\n      <td>Intel</td>\n      <td>4</td>\n      <td>1.800</td>\n      <td>ESATA</td>\n      <td>PC</td>\n      <td>256 GB</td>\n    </tr>\n    <tr>\n      <th>2803</th>\n      <td>B08JBVT48L</td>\n      <td>Laptop 14 Inch, Winnovo N140, 6GB RAM, 128GB S...</td>\n      <td>Winnovo</td>\n      <td>4479</td>\n      <td>Computers &amp; Accessories</td>\n      <td>14.21 x 9.96 x 2.91</td>\n      <td>4.37</td>\n      <td>2020-11-08</td>\n      <td>NaN</td>\n      <td>Winnovo N140</td>\n      <td>...</td>\n      <td>Intel HD Graphic 500</td>\n      <td>NaN</td>\n      <td>NaN</td>\n      <td>DDR3 SDRAM</td>\n      <td>Intel</td>\n      <td>2</td>\n      <td>NaN</td>\n      <td>USB 3.0</td>\n      <td>PC</td>\n      <td>128 GB</td>\n    </tr>\n    <tr>\n      <th>2804</th>\n      <td>B08N63ZSV7</td>\n      <td>2020 15.6-inch Laptop 6G + 256G, Intel celeron...</td>\n      <td>XINYANGCH</td>\n      <td>29104</td>\n      <td>Computers &amp; Accessories</td>\n      <td>18.94 x 11.5 x 2.36</td>\n      <td>3.96</td>\n      <td>2019-12-04</td>\n      <td>NaN</td>\n      <td>N15C</td>\n      <td>...</td>\n      <td>1920*1080</td>\n      <td>NaN</td>\n      <td>NaN</td>\n      <td>DDR3 SDRAM</td>\n      <td>Intel</td>\n      <td>4</td>\n      <td>2.300</td>\n      <td>ATA</td>\n      <td>PC</td>\n      <td>256 GB</td>\n    </tr>\n  </tbody>\n</table>\n<p>2805 rows × 32 columns</p>\n</div>"
     },
     "metadata": {},
     "execution_count": 95
    }
   ],
   "source": [
    "m_new"
   ]
  },
  {
   "cell_type": "code",
   "execution_count": 96,
   "metadata": {},
   "outputs": [],
   "source": [
    "m_new = m_new.reset_index(drop=True)"
   ]
  },
  {
   "cell_type": "code",
   "execution_count": 97,
   "metadata": {},
   "outputs": [],
   "source": [
    " m_new.to_csv('product_output_laptop.csv')"
   ]
  },
  {
   "cell_type": "code",
   "execution_count": 98,
   "metadata": {},
   "outputs": [],
   "source": [
    "# db_data = 'mysql+mysqldb://' + 'root' + ':' + '234024_Anup' + '@' + 'localhost' + ':3306/' \\\n",
    "#        + 'amazon' + '?charset=utf8mb4'\n",
    "# engine = create_engine(db_data)\n",
    "\n",
    "# # Connect to the database\n",
    "# connection = pymysql.connect(host='localhost',\n",
    "#                          user='root',\n",
    "#                          password='234024_Anup',\n",
    "#                          db='amazon')"
   ]
  },
  {
   "cell_type": "code",
   "execution_count": 99,
   "metadata": {},
   "outputs": [
    {
     "output_type": "error",
     "ename": "NameError",
     "evalue": "name 'connection' is not defined",
     "traceback": [
      "\u001b[1;31m---------------------------------------------------------------------------\u001b[0m",
      "\u001b[1;31mNameError\u001b[0m                                 Traceback (most recent call last)",
      "\u001b[1;32m<ipython-input-99-ced522ae36f2>\u001b[0m in \u001b[0;36m<module>\u001b[1;34m\u001b[0m\n\u001b[1;32m----> 1\u001b[1;33m \u001b[0mconnection\u001b[0m\u001b[1;33m\u001b[0m\u001b[1;33m\u001b[0m\u001b[0m\n\u001b[0m",
      "\u001b[1;31mNameError\u001b[0m: name 'connection' is not defined"
     ]
    }
   ],
   "source": [
    "connection"
   ]
  },
  {
   "cell_type": "code",
   "execution_count": 598,
   "metadata": {
    "tags": [
     "outputPrepend"
    ]
   },
   "outputs": [
    {
     "output_type": "stream",
     "name": "stdout",
     "text": [
      " i5-4300 2.3Ghz 8GB 256gb SSD DVDRW Windows 10 Professional', 'Ubrands', 0, None, '13 x 8 x 0.8 ', 5.19, datetime.datetime(2020, 12, 18, 0, 0), None, '6570b 8 128', None, '1 Lithium ion batteries required. (included)', None, None, None, '7440', None, None, '1366 x 768 ', '14 ', 'Windows', None, '4400', None, None, 'DDR3 SDRAM', 'Intel', 2, 2.3, 'ESATA', 'PC', None)\n",
      "('B08T6FGSJZ', 'Used Like New ProBook 7250 Notebook PC - Intel Core i5-5300 2.5Ghz 8GB 256gb SSD DVDRW Windows 10 Professional', 'Ubrands', 0, None, '20.2 x 12.1 x 3.9 ', 4.39, datetime.datetime(2020, 12, 18, 0, 0), None, '7250', None, '1 Lithium ion batteries required. (included)', None, None, None, 'KJD 7250 8-256GB', None, None, '1366 x 768 ', '15.6 ', 'Windows', None, '4400', None, None, 'DDR3 SDRAM', 'Intel', 2, 2.5, 'ESATA', 'PC', None)\n",
      "('B08JBVT48L', 'Laptop 14 Inch, Winnovo N140, 6GB RAM, 128GB SSD, Intel Celeron Processor, HD IPS Display, Windows 10, Touch Numeric Keypad, Dual Band WiFi, Grey', 'Winnovo', 4479, ' Computers & Accessories ', '14.21 x 9.96 x 2.91 ', 4.37, datetime.datetime(2020, 11, 8, 0, 0), None, 'Winnovo N140', None, '1 Lithium Polymer batteries required. (included)', 'Integrated', None, '220 volts_of_alternating_current', 'Winnovo N140', None, '802.11bgn, 802.11ac', '1366*768 ', '14 ', 'Windows 10 S', 'Gray', 'Intel HD Graphic 500', None, None, 'DDR3 SDRAM', 'Intel', 2, None, 'USB 3.0', 'PC', 128.0)\n",
      "('B08N63ZSV7', '2020 15.6-inch Laptop 6G + 256G, Intel celeron J3455 high-Performance Quad-core CPU, 2PCS 4500mAh can Work continuously for 6-8 Hours, WiFi, HDMI, Bluetooth 4.0, Windows 10 (Silver 6G+256G)', 'XINYANGCH', 29104, ' Computers & Accessories ', '18.94 x 11.5 x 2.36 ', 3.96, datetime.datetime(2019, 12, 4, 0, 0), None, 'N15C', None, None, None, None, '240 volts', 'NB15A', None, 'Bluetooth', '1920*1080 ', '15 ', 'Windows 10', 'Silver 8G+128G', '1920*1080', None, None, 'DDR3 SDRAM', 'Intel', 4, 2.3, 'ATA', 'PC', 256.0)\n",
      "('B07NPXCH6Q', 'HP Chromebook 11 G5 11.6 inches Chromebook - Intel Celeron N3050 Dual-core (2 Core) 1.60 GHz (Renewed)', 'HP', 19707, ' Computers & Accessories ', '11.3 x 8.1 x 0.7 ', 2.51, datetime.datetime(2019, 2, 13, 0, 0), None, None, '12.83 Hours', '1 Lithium ion batteries required. (included)', 'Integrated', 'Intel', None, 'HP Chromebook', None, '802.11abg', '1366 x 768 ', '11.6 ', 'Chrome OS', 'Black', 'Intel HD Graphics\\xa0400', None, None, 'Unknown', 'Intel', 2, 1.6, 'Unknown', 'Chrome OS', 16.0)\n",
      "('B08MT7WLGK', 'Thomson WWNEO15I5-8BK1T 15.6 in 2.7GHz Intel Core I5 Broadwell I5-5257U Processor 8GB DDR3L RAM |1TB Hard Disk & Intel Iris 6100 Graphic Processor, Windows 10 Home, Black', 'Thomson', 91115, ' Electronics ', '15.55 x 10.43 x 3.11 ', 3.96, datetime.datetime(2020, 11, 4, 0, 0), None, 'WWNEO15I5-8BK1T', '', '1 Lithium ion batteries required. (included)', None, None, None, None, None, None, None, None, None, None, None, None, None, None, None, 0, None, None, None, None)\n",
      "('B087R5M2NP', 'Dell Inspiron 15 5593, i5593-7039SLV-PUS, 10th Gen Intel Core i7-1065G7, 15.6-Inch Fhd(1920X1080), 8GB, 512SSD, NVIDIA GeForce MX230 (Renewed)', 'Dell', 161185, ' Computers & Accessories ', '19.3 x 12.9 x 2.9 ', 6.19, datetime.datetime(2020, 4, 28, 0, 0), None, None, None, None, 'Dedicated', 'Intel', None, 'Dell Inspiron 15 5593', None, None, '1920 x 1080', '15.6 ', 'Windows 10 Home', None, None, '1', None, 'DDR4 SDRAM', 'Intel', 1, 2.666, 'Solid State', None, 8.0)\n",
      "('B07VWPHH18', '2019 Lenovo Legion Y540 Gaming Laptop Computer, 9th Gen Intel Hexa-Core i7-9750H Up to 4.5GHz, 8GB DDR4 RAM, 512GB PCIE SSD, 15.6\" FHD, GeForce GTX 1650 4GB, AC WiFi, Bluetooth 4.1, Windows 10', 'Lenovo', 173240, ' Computers & Accessories ', '14.37 x 10.24 x 1.02 ', 5.1, datetime.datetime(2019, 7, 29, 0, 0), None, 'Y540', '5 Hours', None, 'Dedicated', 'Nvidia', None, 'Legion', None, '802.11ac', '1920x1080', '15.6 ', 'Windows 10', None, 'NVIDIA GeForce GTX 1650', None, None, 'DDR4 SDRAM', 'Intel', 6, 2.666, 'PCIE x 4', 'PC', 512.0)\n",
      "('B08CMJ65Z8', 'OMEN New 15 Gaming Laptop, 15.6\" Full HD, Intel Core i7-10750H, NVIDIA GeForce RTX 2070 with Max-Q (8 GB), 16 GB DDR4 RAM, 1TB 7200 RPM SATA Hard Drive and 512 GB SSD Storage, RGB Keyboard', 'HP', 0, None, '14.17 x 10.53 x 0.79 ', 5.43, datetime.datetime(2020, 7, 9, 0, 0), None, 'Omen dh1065', '6 Hours', '1 Lithium ion batteries required. (included)', 'Dedicated', None, None, 'OMEN 15', None, 'Bluetooth', '1920 x 1080 ', '15.6 ', 'Windows 10', 'Black', 'NVIDIA GeForce RTX 2070 with Max-Q (8 GB)', None, None, 'DDR4 SDRAM', 'Intel', 6, 2.6, 'Solid State', 'PC', 512.0)\n",
      "('B08FQG55NZ', 'Dell Latitude 3000 3310 13.3\" 2 in 1 Core i3-8145 8GB RAM 128GB SSD FHD Multi-Touch 1080P Win 10 Pro (Renewed)', 'Dell', 41302, ' Computers & Accessories ', '21.2 x 13.3 x 3.6 ', 6.0, datetime.datetime(2020, 8, 11, 0, 0), None, None, None, '1 Lithium ion batteries required. (included)', 'Intel Integrated Graphics, Integrated', 'Intel', None, 'Dell Latitude 3310', None, 'Bluetooth', '1920x1080', '13.1 ', 'Windows 10 Pro', None, 'Intel', None, None, 'DDR4 SDRAM', 'Intel', 2, 3.9, None, 'PC', 128.0)\n",
      "('B08KWM1Q7K', 'Dell Xps 13.4\" 2-in-1 laptop 4K UHD Touch Screen i7-1065G7 Upto 4.9 Ghz 16GB Memory 512GB SSD Windows 10 Home Silver (Renewed)', 'Dell', 0, None, '14.96 x 10.24 x 0.93 ', 3.3, datetime.datetime(2020, 10, 8, 0, 0), None, None, None, '1 Lithium ion batteries required. (included)', None, 'Intel', None, 'Dell XPS', None, 'Bluetooth', None, '15.6 ', 'Windows 10 Home', None, None, None, None, 'DDR3 SDRAM', 'Intel', 1, None, 'Solid State', 'PC', 512.0)\n",
      "('B08KYD46L2', 'Lenovo ThinkPad T490 Laptop - 14\" FHD IPS 400nits AG, ThinkPad Privacy Guard / IR - 1.9GHz Intel Core i7-8665U Quad-Core - 16GB - 512GB SSD - Win10 Pro', 'Lenovo', 0, None, '18 x 14 x 4 ', 5.0, datetime.datetime(2020, 10, 9, 0, 0), None, 'ThinkPad T490', None, '1 9V batteries required. (included)', None, None, None, 'ThinkPad T490', None, None, '1920x1080 ', '14 ', 'Windows 10 Pro', None, 'Integrated Intel UHD Graphics', None, None, 'DDR4 SDRAM', 'Intel', 4, None, 'ESATA', 'PC', None)\n",
      "(None, None, None, 0, None, None, None, None, None, None, None, '', None, None, None, None, None, None, None, None, None, None, '', None, None, None, None, 0, None, None, None, None)\n",
      "('B08PF2HZVL', 'Laptop 14 Inch, Winnovo V146, Windows 10, 4GB RAM, 32GB ROM, Intel Atom Quad Core Processor, 19201080 FHD IPS Display, HDMI, Silver', 'Winnovo', 2787, ' Computers & Accessories ', '14.37 x 9.72 x 2.4 ', 4.34, datetime.datetime(2020, 12, 17, 0, 0), None, 'V146', '6 Hours', '1 Lithium Polymer batteries required. (included)', None, 'Intel', None, None, None, '802.11bgn, 802.11a', '1920x1080 ', '14 ', 'Windows 10', 'Silver(4+32)', 'Atom Z8350', None, None, 'DDR3 SDRAM', 'Intel', 4, None, 'USB 2.0', 'PC', None)\n",
      "('B07STHDPFJ', 'HP EliteBook 840 G5 Laptop |14\" FHD | 1.7 GHz Intel Core i5-8350U Quad-Core | 8GB RAM | 256GB SSD | Windows 10 pro', 'HP', 182236, ' Computers & Accessories ', '17.68 x 12.05 x 2.76 ', 5.06, datetime.datetime(2019, 6, 7, 0, 0), None, 'EliteBook 840 G5', None, '1 9V batteries required.', 'Integrated', 'Intel', None, '850 g5', None, '802.11ac', '1920 x 1080', '14 ', 'Windows 10 Pro', 'Silver', 'Intel UHD Graphics 620', None, None, 'DDR3 SDRAM', 'Intel', 4, None, 'ESATA', 'PC', 256.0)\n",
      "('B079J4JJSH', 'Lenovo 20L5000TUS Thinkpad T480 20L5 14\" Notebook - Windows - Intel Core i5 1.7 GHz - 8 GB RAM - 512 GB SSD, Black', 'Lenovo', 251683, ' Computers & Accessories ', '13.3 x 9.2 x 0.8 ', 3.64, datetime.datetime(2018, 8, 29, 0, 0), None, '20L5000TUS', None, '2 Lithium ion batteries required. (included)', 'Integrated', 'Intel', None, 'Lenovo Thinkpad', None, '802.11abg', '1920 x 1080 ', '14 ', 'Windows 10 Pro', 'Black', 'Intel UHD Graphics 620', None, None, 'Unknown', 'Intel', 4, 2.4, 'Unknown', 'Windows', 512.0)\n",
      "('B08MBL1QBG', 'HP 13.3\" EliteBook x360 830 G7 Multi-Touch 2-in-1 Laptop, Intel Core i7-10610U, 16GB DDR4 RAM, 256GB SSD, Windows 10 Pro (1D3F0UT#ABA)', 'HP', 44521, ' Computers & Accessories ', '17.5 x 12 x 2.7 ', 4.7, datetime.datetime(2020, 10, 31, 0, 0), None, '1D3F0UT#ABA', None, '1 Lithium ion batteries required. (included)', 'Integrated', 'Intel', None, 'EliteBook x360 830 G7', None, None, '1920 x 1080 ', '13.3 ', 'Windows 10 Pro', None, 'Integrated Intel UHD Graphics', None, None, 'DDR4 SDRAM', 'Intel Core i7-10610U', 1, 1.8, 'Serial ATA', 'PC', 256.0)\n",
      "('B00SQG3MQE', 'Acer Chromebook 11 C740-C4PE (11.6-inch HD, 4 GB, 16GB SSD)', 'Acer', 6785, ' Computers & Accessories ', '8 x 11.3 x 0.8 ', 2.87, datetime.datetime(2015, 1, 25, 0, 0), None, 'C740-C4PE', '9 Hours', '1 Lithium Polymer batteries required. (included)', 'Integrated', 'Intel', None, 'Chromebook', None, '802.11ac', '1366 x 768 ', '11.6 ', 'Chrome OS', 'Gray', 'Intel HD Graphics', '1', None, 'Unknown', 'Intel', 2, None, 'Serial ATA', 'PC', 16.0)\n",
      "('B081K4GJ1F', 'Lenovo ThinkPad X1 Yoga 4th Gen 20QF00AQUS 14\" Touchscreen 2 in 1 Ultrabook - 2560 x 1440 - Core i7 i7-8665U - 16 GB RAM - 512 GB SSD - Gray - Windows 10 Pro 64-bit - Intel UHD Graphics 620 - in-', 'Lenovo', 0, None, '8.6 x 12.7 x 0.6 ', 3.04, datetime.datetime(2019, 11, 15, 0, 0), None, '20QF00AQUS', None, None, 'Integrated', 'Intel', None, 'Lenovo Thinkpad', None, '802.11ac', '2560 x 1440', '14 ', 'Windows 10 Home', None, 'Intel UHD Graphics 620', None, None, 'Unknown', None, 1, None, 'Unknown', None, 512.0)\n",
      "('B08BB1C114', 'Dell Latitude 5410 15.6\" Notebook - HD - 1366 x 768 - Core i5 i5-10310U 10th Gen 1.7GHz Hexa-core (6 Core) - 8GB RAM - 256GB SSD', 'Dell', 0, None, '8.5 x 12.72 x 0.83 ', 3.24, datetime.datetime(2020, 6, 16, 0, 0), None, '5410', None, None, 'Integrated', 'Intel', None, 'M41KN', None, None, '1366 x 768 ', '15.6 ', 'Windows 10 Pro', None, 'Intel UHD Graphics 620', None, None, None, 'Intel', 1, None, None, 'PC', 256.0)\n",
      "('B08JBVT48L', 'Laptop 14 Inch, Winnovo N140, 6GB RAM, 128GB SSD, Intel Celeron Processor, HD IPS Display, Windows 10, Touch Numeric Keypad, Dual Band WiFi, Grey', 'Winnovo', 4479, ' Computers & Accessories ', '14.21 x 9.96 x 2.91 ', 4.37, datetime.datetime(2020, 11, 8, 0, 0), None, 'Winnovo N140', None, '1 Lithium Polymer batteries required. (included)', 'Integrated', None, '220 volts_of_alternating_current', 'Winnovo N140', None, '802.11bgn, 802.11ac', '1366*768 ', '14 ', 'Windows 10 S', 'Gray', 'Intel HD Graphic 500', None, None, 'DDR3 SDRAM', 'Intel', 2, None, 'USB 3.0', 'PC', 128.0)\n",
      "('B08N63ZSV7', '2020 15.6-inch Laptop 6G + 256G, Intel celeron J3455 high-Performance Quad-core CPU, 2PCS 4500mAh can Work continuously for 6-8 Hours, WiFi, HDMI, Bluetooth 4.0, Windows 10 (Silver 6G+256G)', 'XINYANGCH', 29104, ' Computers & Accessories ', '18.94 x 11.5 x 2.36 ', 3.96, datetime.datetime(2019, 12, 4, 0, 0), None, 'N15C', None, None, None, None, '240 volts', 'NB15A', None, 'Bluetooth', '1920*1080 ', '15 ', 'Windows 10', 'Silver 8G+128G', '1920*1080', None, None, 'DDR3 SDRAM', 'Intel', 4, 2.3, 'ATA', 'PC', 256.0)\n",
      "('B07NPXCH6Q', 'HP Chromebook 11 G5 11.6 inches Chromebook - Intel Celeron N3050 Dual-core (2 Core) 1.60 GHz (Renewed)', 'HP', 19707, ' Computers & Accessories ', '11.3 x 8.1 x 0.7 ', 2.51, datetime.datetime(2019, 2, 13, 0, 0), None, None, '12.83 Hours', '1 Lithium ion batteries required. (included)', 'Integrated', 'Intel', None, 'HP Chromebook', None, '802.11abg', '1366 x 768 ', '11.6 ', 'Chrome OS', 'Black', 'Intel HD Graphics\\xa0400', None, None, 'Unknown', 'Intel', 2, 1.6, 'Unknown', 'Chrome OS', 16.0)\n",
      "('B08MT7WLGK', 'Thomson WWNEO15I5-8BK1T 15.6 in 2.7GHz Intel Core I5 Broadwell I5-5257U Processor 8GB DDR3L RAM |1TB Hard Disk & Intel Iris 6100 Graphic Processor, Windows 10 Home, Black', 'Thomson', 91115, ' Electronics ', '15.55 x 10.43 x 3.11 ', 3.96, datetime.datetime(2020, 11, 4, 0, 0), None, 'WWNEO15I5-8BK1T', '', '1 Lithium ion batteries required. (included)', None, None, None, None, None, None, None, None, None, None, None, None, None, None, None, 0, None, None, None, None)\n",
      "('B075JSK7TR', 'Google Pixelbook (i5, 8 GB RAM, 128GB) (GA00122-US)', 'Google', 23021, ' Computers & Accessories ', '11.43 x 8.69 x 0.44 ', 2.45, datetime.datetime(2017, 10, 4, 0, 0), None, 'GA00122-US', None, '1 Lithium Polymer batteries required. (included)', 'Integrated', 'Intel', None, 'Google PixelBook', None, '802.11n, 802.11b, 802.11g', '2400 x 1600', '12.3 ', 'Chrome OS', 'White', 'HD615', None, '2', 'DDR SDRAM', 'Intel', 2, None, 'Unknown', 'PC', 128.0)\n",
      "('B07ZG2SP94', 'Dell Latitude 7400 Laptop 14 Intel Core i7 8th Gen i7-8665U Dual Core 512GB SSD 16GB 1920x1080 FHD Windows 10 Pro (Renewed)', 'Dell', 212293, ' Computers & Accessories ', '8.42 x 12.65 x 0.75 ', 2.99, datetime.datetime(2019, 10, 22, 0, 0), None, None, None, '1 Lithium ion batteries required. (included)', 'Intel Integrated Graphics, Integrated', 'Intel', None, '7400', None, '802.11ac', '1920x1080', '14 ', 'Windows 10 Pro', None, 'Intel', None, None, 'DDR4 SDRAM', 'Intel', 4, None, 'Solid State', 'PC', 16.0)\n",
      "('B01I8TO4ZQ', 'Asus Transformer Book T100TA-C1-GR-B 10.1-Inch 2-in-1 Tablet Netbook with Keyboard (2GB | 64GB | 1 Year Office 365 | Windows 10 Ready)', 'ASUS', 109676, ' Computers & Accessories ', '10.4 x 6.7 x 0.9 ', 2.4, datetime.datetime(2016, 7, 11, 0, 0), None, 'T100TA-C1-GR-B-w10', '11 Hours', '1 Lithium ion batteries required. (included)', 'Integrated', 'Intel', None, 'T100TA-C1-GR-B-W10', None, 'Bluetooth', '1366 x 768', '10.1 ', 'Windows 10', None, 'Intel HD Graphics Integrated', None, None, 'DDR3 SDRAM', 'Intel', 4, 1.33, 'Solid State', 'PC', 64.0)\n",
      "('B08FCL75GR', 'Lenovo ThinkPad T495s, 14.0\" FHD IPS 250 nits, Ryzen 7 Pro 3700U, AMD Radeon Vega 10 Graphics, 8GB, 256GB SSD, Win 10 Pro', 'Lenovo', 581535, ' Computers & Accessories ', '17 x 12 x 3 ', 4.51, datetime.datetime(2020, 8, 6, 0, 0), None, '20QJ0002US', None, '1 Lithium ion batteries required. (included)', None, 'AMD', None, 'Lenovo Thinkpad', None, None, '2.1 M', '14 ', 'Windows 10', 'Black', 'AMD Radeon Vega 10 Graphics', None, None, 'Unknown', 'AMD', 4, 2.4, 'Solid State', 'PC', 256.0)\n",
      "('B08BB8BVPJ', 'Dell Latitude 7410 14\" Touchscreen 2 in 1 Notebook - Full HD - 1920 x 1080 - Core i7 i7-10610U 10th Gen 1.8GHz Hexa-core (6 Core) - 16GB RAM - 256GB SSD', 'Dell', 0, None, '8.22 x 12.65 x 0.76 ', 3.22, datetime.datetime(2020, 6, 16, 0, 0), None, '7410', None, None, 'Integrated', 'Intel', None, '4PH18', None, None, '1920 x 1080 ', '14 ', 'Windows 10 Pro', None, None, None, None, None, 'Intel', 1, 1.8, None, 'PC', 256.0)\n",
      "('B07T32DWBH', 'Dell XPS 13 9380, XPS9380-7011SLV-PUS, 8th Generation Intel Core i7-8565U, 13.3\" 4K Ultra HD (3840x2160), 8GB 2133MHz, 512 SSD, Intel UHD Graphics 620', 'Dell Computers', 51100, ' Computers & Accessories ', '7.83 x 11.88 x 0.46 ', 2.8, datetime.datetime(2019, 6, 17, 0, 0), 'No', 'XPS9380-7011SLV-PUS', None, None, None, None, None, None, None, None, None, None, None, 'Silver', None, None, None, None, None, 0, None, None, None, None)\n",
      "('B08PVGW9K3', 'Used Well Chromebook C200M -11.6 inches 2.16-GHz Intel Bay Trail-M Dual-Intel Core N2830 CPU with 4GB of RAM and 16GB of Flash Storage, Chrome OS-Black/Silver', 'Ubrands', 1065, ' Computers & Accessories ', '12 x 7.9 x 0.8 ', 3.51, datetime.datetime(2020, 12, 7, 0, 0), None, 'ASUS C200m', None, '1 Lithium ion batteries required. (included)', None, None, None, 'ASUS Chromebook', None, 'Bluetooth', '1366 x 768 ', '11.6 ', 'Windows', None, 'N2830', None, None, 'DDR3 SDRAM', 'Intel', 2, 2.16, 'ESATA', 'PC', 16.0)\n",
      "('B08PF2HZVL', 'Laptop 14 Inch, Winnovo V146, Windows 10, 4GB RAM, 32GB ROM, Intel Atom Quad Core Processor, 19201080 FHD IPS Display, HDMI, Silver', 'Winnovo', 2787, ' Computers & Accessories ', '14.37 x 9.72 x 2.4 ', 4.34, datetime.datetime(2020, 12, 17, 0, 0), None, 'V146', '6 Hours', '1 Lithium Polymer batteries required. (included)', None, 'Intel', None, None, None, '802.11bgn, 802.11a', '1920x1080 ', '14 ', 'Windows 10', 'Silver(4+32)', 'Atom Z8350', None, None, 'DDR3 SDRAM', 'Intel', 4, None, 'USB 2.0', 'PC', None)\n",
      "('B07VQWXBRY', 'Dell XPS 9380 Laptop, 13.3\" FHD (1920x1080), Intel Core 8th Gen i7-8565U, 16GB RAM, 512 GB PCIe SSD, Windows 10 Home (Renewed)', 'Dell', 234627, ' Computers & Accessories ', '4 x 15 x 17 ', 4.69, datetime.datetime(2019, 7, 25, 0, 0), None, None, None, None, 'Integrated', None, None, 'Dell XPS 9380', None, '802.11ac', '1920 x 1080', '13.3 ', 'Windows 10', None, 'Intel', None, None, 'DDR SDRAM', 'Intel', 4, 4.6, 'Unknown', 'PC', 512.0)\n",
      "('B077SX1YRJ', 'Lenovo ThinkPad T470s Laptop Computer 14 Inch FHD Display, Intel Dual Core i5-6300U, 12GB RAM, 500GB Solid State Drive, W10P', 'Oemgenuine', 119586, ' Computers & Accessories ', '13.03 x 0.67 x 8.93 ', 2.9, datetime.datetime(2017, 3, 30, 0, 0), None, 'T470s', None, None, 'Integrated', 'Intel', None, 'ThinkPad T470s', None, '802.11ac', '1920x1080', '14 ', 'Win 7 Pro / Win 10 Pro', 'Black', 'Intel HD Graphics 520', None, None, 'SODIMM', 'Intel', 2, 2.4, 'Serial ATA', 'PC', 500.0)\n",
      "('B08L56FVR3', 'MSI Creator 15 A10SET-052 15.6\" FHD Finger Touch Panel, 60Hz 72%NTS Thin and Light Professional Laptop Intel Core i7-10875H RTX2060 16GB DDR4 1TB NVMe SSD TB3 Win10PRO VR Ready', 'MSI', 0, None, '21.81 x 14.21 x 3.39 ', 4.63, datetime.datetime(2020, 10, 13, 0, 0), None, 'Creator 15 A10SET-052', None, None, 'Dedicated', 'NVIDIA', None, 'Creator 15 A10SET-052', None, None, '1920 x 1080 ', '15.6 ', 'Windows 10 Pro', 'Space Gray with Silver Diamond cut', 'NVIDIA GeForce RTX 2060', None, '1', None, 'Intel', 8, 2.666, 'USB-C', 'PC', 16.0)\n",
      "('B08L8KW3ZM', 'Dell Latitude 5410 14\" Notebook - Full HD - 1920 x 1080 - Core i5 i5-10210U 10th Gen 1.6GHz Quad-core (4 Core) - 16GB RAM - 256GB SSD (Renewed)', 'Dell', 579675, ' Computers & Accessories ', '8.5 x 12.72 x 0.83 ', 3.26, datetime.datetime(2020, 10, 16, 0, 0), None, None, None, None, 'Integrated', 'Intel', None, 'M2HJR', None, 'Bluetooth', '1920 x 1080 ', '14 ', 'Windows 10 Pro', None, 'Intel UHD Graphics 620', None, None, None, 'Intel', 1, None, 'Solid State', 'PC', 256.0)\n",
      "('B082RD3STD', 'TopSeller TC M720S SFF I5-9400 2.9G 8GB 256GB SSD DVD W10P 64BIT', 'Lenovo', 47707, ' Computers & Accessories ', '11.4 x 3.6 x 13.5 ', 13.2, datetime.datetime(2019, 12, 14, 0, 0), None, '10ST008NUS', None, None, 'Integrated', 'Intel', None, 'M720s', None, None, '1920 x 1080 ', '1 ', 'Windows 10 Pro', 'Black', 'Intel UHD Graphics 630', '2', '3', 'Unknown', 'Intel', 1, None, 'Unknown', None, 256.0)\n",
      "('B0844KPGNF', 'Lenovo ThinkPad T14 Laptop - 14\" IPS FHD Touchscreen - 1.8Ghz Intel Core i7-10610U Quad-Core - 16GB - 512GB SSD - Win10 pro', 'Lenovo', 310265, ' Computers & Accessories ', '12.95 x 8.94 x 0.7 ', 3.4, datetime.datetime(2020, 1, 22, 0, 0), None, '20NYS6JB0F', None, '1 9V batteries required. (included)', None, None, None, 'T14', None, 'Bluetooth', '1920 x 1080 ', '14 ', 'Windows 10 Pro', 'Black', 'Integrated Intel UHD Graphics', None, None, 'DDR4 SDRAM', 'Intel', 4, 1.8, 'ESATA', 'PC', 256.0)\n",
      "('B08JBVT48L', 'Laptop 14 Inch, Winnovo N140, 6GB RAM, 128GB SSD, Intel Celeron Processor, HD IPS Display, Windows 10, Touch Numeric Keypad, Dual Band WiFi, Grey', 'Winnovo', 4479, ' Computers & Accessories ', '14.21 x 9.96 x 2.91 ', 4.37, datetime.datetime(2020, 11, 8, 0, 0), None, 'Winnovo N140', None, '1 Lithium Polymer batteries required. (included)', 'Integrated', None, '220 volts_of_alternating_current', 'Winnovo N140', None, '802.11bgn, 802.11ac', '1366*768 ', '14 ', 'Windows 10 S', 'Gray', 'Intel HD Graphic 500', None, None, 'DDR3 SDRAM', 'Intel', 2, None, 'USB 3.0', 'PC', 128.0)\n",
      "('B08N63ZSV7', '2020 15.6-inch Laptop 6G + 256G, Intel celeron J3455 high-Performance Quad-core CPU, 2PCS 4500mAh can Work continuously for 6-8 Hours, WiFi, HDMI, Bluetooth 4.0, Windows 10 (Silver 6G+256G)', 'XINYANGCH', 29104, ' Computers & Accessories ', '18.94 x 11.5 x 2.36 ', 3.96, datetime.datetime(2019, 12, 4, 0, 0), None, 'N15C', None, None, None, None, '240 volts', 'NB15A', None, 'Bluetooth', '1920*1080 ', '15 ', 'Windows 10', 'Silver 8G+128G', '1920*1080', None, None, 'DDR3 SDRAM', 'Intel', 4, 2.3, 'ATA', 'PC', 256.0)\n"
     ]
    }
   ],
   "source": [
    "# # create cursor\n",
    "# cursor=connection.cursor()\n",
    "# # Execute the to_sql for writting DF into SQL\n",
    "# m_new.to_sql('laptop', engine, if_exists='append', index=False)    \n",
    "\n",
    "# # Execute query\n",
    "# sql = \"SELECT * FROM `laptop`\"\n",
    "# cursor.execute(sql)\n",
    "\n",
    "# # Fetch all the records\n",
    "# result = cursor.fetchall()\n",
    "# for i in result:\n",
    "#     print(i)\n",
    "\n",
    "# engine.dispose()\n",
    "# connection.close()"
   ]
  },
  {
   "cell_type": "code",
   "execution_count": null,
   "metadata": {},
   "outputs": [],
   "source": [
    "#  new.to_csv('product_output_dslr.csv')"
   ]
  }
 ]
}