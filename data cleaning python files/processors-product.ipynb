{
 "metadata": {
  "language_info": {
   "codemirror_mode": {
    "name": "ipython",
    "version": 3
   },
   "file_extension": ".py",
   "mimetype": "text/x-python",
   "name": "python",
   "nbconvert_exporter": "python",
   "pygments_lexer": "ipython3",
   "version": "3.8.5-final"
  },
  "orig_nbformat": 2,
  "kernelspec": {
   "name": "python3",
   "display_name": "Python 3",
   "language": "python"
  }
 },
 "nbformat": 4,
 "nbformat_minor": 2,
 "cells": [
  {
   "cell_type": "code",
   "execution_count": 210,
   "metadata": {},
   "outputs": [],
   "source": [
    "import numpy as np\n",
    "import pandas as pd"
   ]
  },
  {
   "cell_type": "code",
   "execution_count": 211,
   "metadata": {},
   "outputs": [],
   "source": [
    "processor= pd.read_json(r\"C:\\Users\\Davide Della Valle\\Desktop\\CAB\\Project 3\\CAB-Processors\\product_output_processor.json\")"
   ]
  },
  {
   "cell_type": "code",
   "execution_count": 212,
   "metadata": {},
   "outputs": [
    {
     "output_type": "execute_result",
     "data": {
      "text/plain": [
       "                                                name  \\\n",
       "0  AMD Ryzen 5 3600 6-Core, 12-Thread Unlocked De...   \n",
       "1  AMD Ryzen 5 2600 Processor with Wraith Stealth...   \n",
       "2  Intel Core i9-9900K Desktop Processor 8 Cores ...   \n",
       "3  Intel Core i7-9700K Desktop Processor 8 Cores ...   \n",
       "4  Industrial Rugged Fanless Silent Mini PC Compu...   \n",
       "\n",
       "                                   product_tech_spec  \\\n",
       "0  [{'info': 'Brand', 'value': 'AMD'}, {'info': '...   \n",
       "1    [{'info': 'Wireless Type', 'value': '802.11a'}]   \n",
       "2  [{'info': 'Brand', 'value': 'Intel'}, {'info':...   \n",
       "3  [{'info': 'Memory Speed', 'value': '3600 MHz'}...   \n",
       "4  [{'info': 'Max Screen Resolution', 'value': '3...   \n",
       "\n",
       "                                     other_tech_spec  \\\n",
       "0                                               None   \n",
       "1  [{'info': 'Brand', 'value': 'AMD'}, {'info': '...   \n",
       "2                                               None   \n",
       "3  [{'info': 'Brand', 'value': 'Intel'}, {'info':...   \n",
       "4  [{'info': 'Series', 'value': 'LITESHIELD 2.0'}...   \n",
       "\n",
       "                                   product_addl_info                 seller  \\\n",
       "0  [{'info': 'Customer Reviews', 'value': '/*\n",
       "* F...                   None   \n",
       "1  [{'info': 'Customer Reviews', 'value': '/*\n",
       "* F...                   None   \n",
       "2  [{'info': 'Customer Reviews', 'value': '/*\n",
       "* F...              DealsPro1   \n",
       "3  [{'info': 'Customer Reviews', 'value': '/*\n",
       "* F...                   None   \n",
       "4  [{'info': 'ASIN', 'value': 'B08BKRZB4Z'}, {'in...  Critical Products LLC   \n",
       "\n",
       "                                         seller_link  \\\n",
       "0                                               None   \n",
       "1                                               None   \n",
       "2  https://www.amazon.com/gp/help/seller/at-a-gla...   \n",
       "3                                               None   \n",
       "4  https://www.amazon.com/gp/help/seller/at-a-gla...   \n",
       "\n",
       "                                         freq_bought  \\\n",
       "0  Corsair Vengeance LPX 16GB (2x8GB) DDR4 DRAM 3...   \n",
       "1                                               None   \n",
       "2  ARCTIC MX-4 - Thermal Compound Paste For Coole...   \n",
       "3  Asus Prime Z390-A Motherboard LGA1151 (Intel 8...   \n",
       "4                                               None   \n",
       "\n",
       "                                    freq_bought_link  \\\n",
       "0  /Corsair-Vengeance-3200MHz-Desktop-Memory/dp/B...   \n",
       "1                                               None   \n",
       "2  https://www.amazon.com/ARCTIC-MX-4-Compound-Mi...   \n",
       "3  /Prime-Z390-Motherboard-LGA1151-Gigabit/dp/B07...   \n",
       "4                                               None   \n",
       "\n",
       "                                 link_to_all_reviews  \n",
       "0  /AMD-Ryzen-3600-12-Thread-Processor/product-re...  \n",
       "1  /AMD-Processor-Wraith-Stealth-Cooler/product-r...  \n",
       "2  /Intel-i9-9900K-Processor-Unlocked-BX806849900...  \n",
       "3  /Intel-i7-9700K-Desktop-Processor-Unlocked/pro...  \n",
       "4  /Industrial-Fanless-Computer-Threads-i5-8500T/...  "
      ],
      "text/html": "<div>\n<style scoped>\n    .dataframe tbody tr th:only-of-type {\n        vertical-align: middle;\n    }\n\n    .dataframe tbody tr th {\n        vertical-align: top;\n    }\n\n    .dataframe thead th {\n        text-align: right;\n    }\n</style>\n<table border=\"1\" class=\"dataframe\">\n  <thead>\n    <tr style=\"text-align: right;\">\n      <th></th>\n      <th>name</th>\n      <th>product_tech_spec</th>\n      <th>other_tech_spec</th>\n      <th>product_addl_info</th>\n      <th>seller</th>\n      <th>seller_link</th>\n      <th>freq_bought</th>\n      <th>freq_bought_link</th>\n      <th>link_to_all_reviews</th>\n    </tr>\n  </thead>\n  <tbody>\n    <tr>\n      <th>0</th>\n      <td>AMD Ryzen 5 3600 6-Core, 12-Thread Unlocked De...</td>\n      <td>[{'info': 'Brand', 'value': 'AMD'}, {'info': '...</td>\n      <td>None</td>\n      <td>[{'info': 'Customer Reviews', 'value': '/*\n* F...</td>\n      <td>None</td>\n      <td>None</td>\n      <td>Corsair Vengeance LPX 16GB (2x8GB) DDR4 DRAM 3...</td>\n      <td>/Corsair-Vengeance-3200MHz-Desktop-Memory/dp/B...</td>\n      <td>/AMD-Ryzen-3600-12-Thread-Processor/product-re...</td>\n    </tr>\n    <tr>\n      <th>1</th>\n      <td>AMD Ryzen 5 2600 Processor with Wraith Stealth...</td>\n      <td>[{'info': 'Wireless Type', 'value': '802.11a'}]</td>\n      <td>[{'info': 'Brand', 'value': 'AMD'}, {'info': '...</td>\n      <td>[{'info': 'Customer Reviews', 'value': '/*\n* F...</td>\n      <td>None</td>\n      <td>None</td>\n      <td>None</td>\n      <td>None</td>\n      <td>/AMD-Processor-Wraith-Stealth-Cooler/product-r...</td>\n    </tr>\n    <tr>\n      <th>2</th>\n      <td>Intel Core i9-9900K Desktop Processor 8 Cores ...</td>\n      <td>[{'info': 'Brand', 'value': 'Intel'}, {'info':...</td>\n      <td>None</td>\n      <td>[{'info': 'Customer Reviews', 'value': '/*\n* F...</td>\n      <td>DealsPro1</td>\n      <td>https://www.amazon.com/gp/help/seller/at-a-gla...</td>\n      <td>ARCTIC MX-4 - Thermal Compound Paste For Coole...</td>\n      <td>https://www.amazon.com/ARCTIC-MX-4-Compound-Mi...</td>\n      <td>/Intel-i9-9900K-Processor-Unlocked-BX806849900...</td>\n    </tr>\n    <tr>\n      <th>3</th>\n      <td>Intel Core i7-9700K Desktop Processor 8 Cores ...</td>\n      <td>[{'info': 'Memory Speed', 'value': '3600 MHz'}...</td>\n      <td>[{'info': 'Brand', 'value': 'Intel'}, {'info':...</td>\n      <td>[{'info': 'Customer Reviews', 'value': '/*\n* F...</td>\n      <td>None</td>\n      <td>None</td>\n      <td>Asus Prime Z390-A Motherboard LGA1151 (Intel 8...</td>\n      <td>/Prime-Z390-Motherboard-LGA1151-Gigabit/dp/B07...</td>\n      <td>/Intel-i7-9700K-Desktop-Processor-Unlocked/pro...</td>\n    </tr>\n    <tr>\n      <th>4</th>\n      <td>Industrial Rugged Fanless Silent Mini PC Compu...</td>\n      <td>[{'info': 'Max Screen Resolution', 'value': '3...</td>\n      <td>[{'info': 'Series', 'value': 'LITESHIELD 2.0'}...</td>\n      <td>[{'info': 'ASIN', 'value': 'B08BKRZB4Z'}, {'in...</td>\n      <td>Critical Products LLC</td>\n      <td>https://www.amazon.com/gp/help/seller/at-a-gla...</td>\n      <td>None</td>\n      <td>None</td>\n      <td>/Industrial-Fanless-Computer-Threads-i5-8500T/...</td>\n    </tr>\n  </tbody>\n</table>\n</div>"
     },
     "metadata": {},
     "execution_count": 212
    }
   ],
   "source": [
    "processor.head()"
   ]
  },
  {
   "cell_type": "code",
   "execution_count": 213,
   "metadata": {},
   "outputs": [
    {
     "output_type": "execute_result",
     "data": {
      "text/plain": [
       "'Brand'"
      ]
     },
     "metadata": {},
     "execution_count": 213
    }
   ],
   "source": [
    "processor.product_tech_spec[0][0][\"info\"]"
   ]
  },
  {
   "cell_type": "code",
   "execution_count": 214,
   "metadata": {},
   "outputs": [
    {
     "output_type": "execute_result",
     "data": {
      "text/plain": [
       "(5894, 9)"
      ]
     },
     "metadata": {},
     "execution_count": 214
    }
   ],
   "source": [
    "processor.shape"
   ]
  },
  {
   "cell_type": "code",
   "execution_count": 215,
   "metadata": {},
   "outputs": [
    {
     "output_type": "execute_result",
     "data": {
      "text/plain": [
       "name                      5\n",
       "product_tech_spec      2402\n",
       "other_tech_spec        3327\n",
       "product_addl_info       121\n",
       "seller                 1643\n",
       "seller_link            1643\n",
       "freq_bought            4064\n",
       "freq_bought_link       4064\n",
       "link_to_all_reviews    1048\n",
       "dtype: int64"
      ]
     },
     "metadata": {},
     "execution_count": 215
    }
   ],
   "source": [
    "processor.isnull().sum()"
   ]
  },
  {
   "cell_type": "code",
   "execution_count": 216,
   "metadata": {},
   "outputs": [
    {
     "output_type": "execute_result",
     "data": {
      "text/plain": [
       "                                                   name  \\\n",
       "0     AMD Ryzen 5 3600 6-Core, 12-Thread Unlocked De...   \n",
       "1     AMD Ryzen 5 2600 Processor with Wraith Stealth...   \n",
       "2     Intel Core i9-9900K Desktop Processor 8 Cores ...   \n",
       "3     Intel Core i7-9700K Desktop Processor 8 Cores ...   \n",
       "4     Industrial Rugged Fanless Silent Mini PC Compu...   \n",
       "...                                                 ...   \n",
       "5889  YEELIYA PCIe USB 3.0 Card Type C USB Card Supe...   \n",
       "5890  ASRock B360 Gaming K4 LGA1151/Intel B360/DDR4/...   \n",
       "5891  Used Like New Notebook Thinkpad T460 Ultrabook...   \n",
       "5892  Gigabyte Gv-N165SWF2OC-4GD GeForce GTX 1650 Su...   \n",
       "5893  ASUS ROG Strix B450-I Gaming AMD AM4 (3rd/2nd ...   \n",
       "\n",
       "                                      product_tech_spec  \\\n",
       "0     [{'info': 'Brand', 'value': 'AMD'}, {'info': '...   \n",
       "1       [{'info': 'Wireless Type', 'value': '802.11a'}]   \n",
       "2     [{'info': 'Brand', 'value': 'Intel'}, {'info':...   \n",
       "3     [{'info': 'Memory Speed', 'value': '3600 MHz'}...   \n",
       "4     [{'info': 'Max Screen Resolution', 'value': '3...   \n",
       "...                                                 ...   \n",
       "5889                                               None   \n",
       "5890  [{'info': 'Wireless Type', 'value': 'Bluetooth...   \n",
       "5891  [{'info': 'Standing screen display size', 'val...   \n",
       "5892  [{'info': 'Memory Speed', 'value': '12000 MHz'...   \n",
       "5893  [{'info': 'Memory Speed', 'value': '3600 MHz'}...   \n",
       "\n",
       "                                        other_tech_spec  \\\n",
       "0                                                  None   \n",
       "1     [{'info': 'Brand', 'value': 'AMD'}, {'info': '...   \n",
       "2                                                  None   \n",
       "3     [{'info': 'Brand', 'value': 'Intel'}, {'info':...   \n",
       "4     [{'info': 'Series', 'value': 'LITESHIELD 2.0'}...   \n",
       "...                                                 ...   \n",
       "5889                                               None   \n",
       "5890  [{'info': 'Brand', 'value': 'ASRock'}, {'info'...   \n",
       "5891  [{'info': 'Brand', 'value': 'N&n'}, {'info': '...   \n",
       "5892  [{'info': 'Brand', 'value': 'Gigabyte'}, {'inf...   \n",
       "5893  [{'info': 'Brand', 'value': 'ASUS'}, {'info': ...   \n",
       "\n",
       "                                      product_addl_info  \\\n",
       "0     [{'info': 'Customer Reviews', 'value': '/*\n",
       "* F...   \n",
       "1     [{'info': 'Customer Reviews', 'value': '/*\n",
       "* F...   \n",
       "2     [{'info': 'Customer Reviews', 'value': '/*\n",
       "* F...   \n",
       "3     [{'info': 'Customer Reviews', 'value': '/*\n",
       "* F...   \n",
       "4     [{'info': 'ASIN', 'value': 'B08BKRZB4Z'}, {'in...   \n",
       "...                                                 ...   \n",
       "5889  [{'info': 'Package Dimensions', 'value': '6 x ...   \n",
       "5890  [{'info': 'Customer Reviews', 'value': '/*\n",
       "* F...   \n",
       "5891  [{'info': 'ASIN', 'value': 'B08L6HXX2R'}, {'in...   \n",
       "5892  [{'info': 'Customer Reviews', 'value': '/*\n",
       "* F...   \n",
       "5893  [{'info': 'Customer Reviews', 'value': '/*\n",
       "* F...   \n",
       "\n",
       "                     seller  \\\n",
       "0                      None   \n",
       "1                      None   \n",
       "2                 DealsPro1   \n",
       "3                      None   \n",
       "4     Critical Products LLC   \n",
       "...                     ...   \n",
       "5889                Yeeliya   \n",
       "5890                   None   \n",
       "5891                   None   \n",
       "5892                   None   \n",
       "5893              DIO Japan   \n",
       "\n",
       "                                            seller_link  \\\n",
       "0                                                  None   \n",
       "1                                                  None   \n",
       "2     https://www.amazon.com/gp/help/seller/at-a-gla...   \n",
       "3                                                  None   \n",
       "4     https://www.amazon.com/gp/help/seller/at-a-gla...   \n",
       "...                                                 ...   \n",
       "5889  https://www.amazon.com/gp/help/seller/at-a-gla...   \n",
       "5890                                               None   \n",
       "5891                                               None   \n",
       "5892                                               None   \n",
       "5893  https://www.amazon.com/gp/help/seller/at-a-gla...   \n",
       "\n",
       "                                            freq_bought  \\\n",
       "0     Corsair Vengeance LPX 16GB (2x8GB) DDR4 DRAM 3...   \n",
       "1                                                  None   \n",
       "2     ARCTIC MX-4 - Thermal Compound Paste For Coole...   \n",
       "3     Asus Prime Z390-A Motherboard LGA1151 (Intel 8...   \n",
       "4                                                  None   \n",
       "...                                                 ...   \n",
       "5889                                               None   \n",
       "5890                                               None   \n",
       "5891                                               None   \n",
       "5892                                               None   \n",
       "5893                                               None   \n",
       "\n",
       "                                       freq_bought_link  \\\n",
       "0     /Corsair-Vengeance-3200MHz-Desktop-Memory/dp/B...   \n",
       "1                                                  None   \n",
       "2     https://www.amazon.com/ARCTIC-MX-4-Compound-Mi...   \n",
       "3     /Prime-Z390-Motherboard-LGA1151-Gigabit/dp/B07...   \n",
       "4                                                  None   \n",
       "...                                                 ...   \n",
       "5889                                               None   \n",
       "5890                                               None   \n",
       "5891                                               None   \n",
       "5892                                               None   \n",
       "5893                                               None   \n",
       "\n",
       "                                    link_to_all_reviews  \n",
       "0     /AMD-Ryzen-3600-12-Thread-Processor/product-re...  \n",
       "1     /AMD-Processor-Wraith-Stealth-Cooler/product-r...  \n",
       "2     /Intel-i9-9900K-Processor-Unlocked-BX806849900...  \n",
       "3     /Intel-i7-9700K-Desktop-Processor-Unlocked/pro...  \n",
       "4     /Industrial-Fanless-Computer-Threads-i5-8500T/...  \n",
       "...                                                 ...  \n",
       "5889  /YEELIYA-PCIe-Superspeed-5Gbps-Macpro/product-...  \n",
       "5890  /ASRock-B360-K4-CrossFireX-Motherboard/product...  \n",
       "5891                                               None  \n",
       "5892  /Gigabyte-GeForce-Windforce-Graphics-Gv-N165SW...  \n",
       "5893  /ROG-Strix-B450-I-Gaming-Motherboard/product-r...  \n",
       "\n",
       "[5889 rows x 9 columns]"
      ],
      "text/html": "<div>\n<style scoped>\n    .dataframe tbody tr th:only-of-type {\n        vertical-align: middle;\n    }\n\n    .dataframe tbody tr th {\n        vertical-align: top;\n    }\n\n    .dataframe thead th {\n        text-align: right;\n    }\n</style>\n<table border=\"1\" class=\"dataframe\">\n  <thead>\n    <tr style=\"text-align: right;\">\n      <th></th>\n      <th>name</th>\n      <th>product_tech_spec</th>\n      <th>other_tech_spec</th>\n      <th>product_addl_info</th>\n      <th>seller</th>\n      <th>seller_link</th>\n      <th>freq_bought</th>\n      <th>freq_bought_link</th>\n      <th>link_to_all_reviews</th>\n    </tr>\n  </thead>\n  <tbody>\n    <tr>\n      <th>0</th>\n      <td>AMD Ryzen 5 3600 6-Core, 12-Thread Unlocked De...</td>\n      <td>[{'info': 'Brand', 'value': 'AMD'}, {'info': '...</td>\n      <td>None</td>\n      <td>[{'info': 'Customer Reviews', 'value': '/*\n* F...</td>\n      <td>None</td>\n      <td>None</td>\n      <td>Corsair Vengeance LPX 16GB (2x8GB) DDR4 DRAM 3...</td>\n      <td>/Corsair-Vengeance-3200MHz-Desktop-Memory/dp/B...</td>\n      <td>/AMD-Ryzen-3600-12-Thread-Processor/product-re...</td>\n    </tr>\n    <tr>\n      <th>1</th>\n      <td>AMD Ryzen 5 2600 Processor with Wraith Stealth...</td>\n      <td>[{'info': 'Wireless Type', 'value': '802.11a'}]</td>\n      <td>[{'info': 'Brand', 'value': 'AMD'}, {'info': '...</td>\n      <td>[{'info': 'Customer Reviews', 'value': '/*\n* F...</td>\n      <td>None</td>\n      <td>None</td>\n      <td>None</td>\n      <td>None</td>\n      <td>/AMD-Processor-Wraith-Stealth-Cooler/product-r...</td>\n    </tr>\n    <tr>\n      <th>2</th>\n      <td>Intel Core i9-9900K Desktop Processor 8 Cores ...</td>\n      <td>[{'info': 'Brand', 'value': 'Intel'}, {'info':...</td>\n      <td>None</td>\n      <td>[{'info': 'Customer Reviews', 'value': '/*\n* F...</td>\n      <td>DealsPro1</td>\n      <td>https://www.amazon.com/gp/help/seller/at-a-gla...</td>\n      <td>ARCTIC MX-4 - Thermal Compound Paste For Coole...</td>\n      <td>https://www.amazon.com/ARCTIC-MX-4-Compound-Mi...</td>\n      <td>/Intel-i9-9900K-Processor-Unlocked-BX806849900...</td>\n    </tr>\n    <tr>\n      <th>3</th>\n      <td>Intel Core i7-9700K Desktop Processor 8 Cores ...</td>\n      <td>[{'info': 'Memory Speed', 'value': '3600 MHz'}...</td>\n      <td>[{'info': 'Brand', 'value': 'Intel'}, {'info':...</td>\n      <td>[{'info': 'Customer Reviews', 'value': '/*\n* F...</td>\n      <td>None</td>\n      <td>None</td>\n      <td>Asus Prime Z390-A Motherboard LGA1151 (Intel 8...</td>\n      <td>/Prime-Z390-Motherboard-LGA1151-Gigabit/dp/B07...</td>\n      <td>/Intel-i7-9700K-Desktop-Processor-Unlocked/pro...</td>\n    </tr>\n    <tr>\n      <th>4</th>\n      <td>Industrial Rugged Fanless Silent Mini PC Compu...</td>\n      <td>[{'info': 'Max Screen Resolution', 'value': '3...</td>\n      <td>[{'info': 'Series', 'value': 'LITESHIELD 2.0'}...</td>\n      <td>[{'info': 'ASIN', 'value': 'B08BKRZB4Z'}, {'in...</td>\n      <td>Critical Products LLC</td>\n      <td>https://www.amazon.com/gp/help/seller/at-a-gla...</td>\n      <td>None</td>\n      <td>None</td>\n      <td>/Industrial-Fanless-Computer-Threads-i5-8500T/...</td>\n    </tr>\n    <tr>\n      <th>...</th>\n      <td>...</td>\n      <td>...</td>\n      <td>...</td>\n      <td>...</td>\n      <td>...</td>\n      <td>...</td>\n      <td>...</td>\n      <td>...</td>\n      <td>...</td>\n    </tr>\n    <tr>\n      <th>5889</th>\n      <td>YEELIYA PCIe USB 3.0 Card Type C USB Card Supe...</td>\n      <td>None</td>\n      <td>None</td>\n      <td>[{'info': 'Package Dimensions', 'value': '6 x ...</td>\n      <td>Yeeliya</td>\n      <td>https://www.amazon.com/gp/help/seller/at-a-gla...</td>\n      <td>None</td>\n      <td>None</td>\n      <td>/YEELIYA-PCIe-Superspeed-5Gbps-Macpro/product-...</td>\n    </tr>\n    <tr>\n      <th>5890</th>\n      <td>ASRock B360 Gaming K4 LGA1151/Intel B360/DDR4/...</td>\n      <td>[{'info': 'Wireless Type', 'value': 'Bluetooth...</td>\n      <td>[{'info': 'Brand', 'value': 'ASRock'}, {'info'...</td>\n      <td>[{'info': 'Customer Reviews', 'value': '/*\n* F...</td>\n      <td>None</td>\n      <td>None</td>\n      <td>None</td>\n      <td>None</td>\n      <td>/ASRock-B360-K4-CrossFireX-Motherboard/product...</td>\n    </tr>\n    <tr>\n      <th>5891</th>\n      <td>Used Like New Notebook Thinkpad T460 Ultrabook...</td>\n      <td>[{'info': 'Standing screen display size', 'val...</td>\n      <td>[{'info': 'Brand', 'value': 'N&amp;n'}, {'info': '...</td>\n      <td>[{'info': 'ASIN', 'value': 'B08L6HXX2R'}, {'in...</td>\n      <td>None</td>\n      <td>None</td>\n      <td>None</td>\n      <td>None</td>\n      <td>None</td>\n    </tr>\n    <tr>\n      <th>5892</th>\n      <td>Gigabyte Gv-N165SWF2OC-4GD GeForce GTX 1650 Su...</td>\n      <td>[{'info': 'Memory Speed', 'value': '12000 MHz'...</td>\n      <td>[{'info': 'Brand', 'value': 'Gigabyte'}, {'inf...</td>\n      <td>[{'info': 'Customer Reviews', 'value': '/*\n* F...</td>\n      <td>None</td>\n      <td>None</td>\n      <td>None</td>\n      <td>None</td>\n      <td>/Gigabyte-GeForce-Windforce-Graphics-Gv-N165SW...</td>\n    </tr>\n    <tr>\n      <th>5893</th>\n      <td>ASUS ROG Strix B450-I Gaming AMD AM4 (3rd/2nd ...</td>\n      <td>[{'info': 'Memory Speed', 'value': '3600 MHz'}...</td>\n      <td>[{'info': 'Brand', 'value': 'ASUS'}, {'info': ...</td>\n      <td>[{'info': 'Customer Reviews', 'value': '/*\n* F...</td>\n      <td>DIO Japan</td>\n      <td>https://www.amazon.com/gp/help/seller/at-a-gla...</td>\n      <td>None</td>\n      <td>None</td>\n      <td>/ROG-Strix-B450-I-Gaming-Motherboard/product-r...</td>\n    </tr>\n  </tbody>\n</table>\n<p>5889 rows × 9 columns</p>\n</div>"
     },
     "metadata": {},
     "execution_count": 216
    }
   ],
   "source": [
    "processor.dropna(subset=[\"name\"],inplace=True)\n",
    "processor"
   ]
  },
  {
   "cell_type": "code",
   "execution_count": 217,
   "metadata": {},
   "outputs": [],
   "source": [
    "processor.drop(columns=[\"freq_bought\",\"freq_bought_link\"],inplace=True)"
   ]
  },
  {
   "cell_type": "code",
   "execution_count": 218,
   "metadata": {},
   "outputs": [],
   "source": [
    "# reset_index(drop=True) drops the current index of the DataFrame and replaces it with an index of increasing integers.\n",
    "processor=processor.reset_index(drop=True)"
   ]
  },
  {
   "cell_type": "code",
   "execution_count": 219,
   "metadata": {},
   "outputs": [
    {
     "output_type": "execute_result",
     "data": {
      "text/plain": [
       "[{'info': 'Brand', 'value': 'AMD'},\n",
       " {'info': 'Series', 'value': 'Ryzen 5'},\n",
       " {'info': 'Item model number', 'value': 'Ryzen 5 3600'},\n",
       " {'info': 'Item Weight', 'value': '1.6 ounces'},\n",
       " {'info': 'Product Dimensions', 'value': '1.57 x 1.57 x 0.24 inches'},\n",
       " {'info': 'Item Dimensions  LxWxH', 'value': '1.57 x 1.57 x 0.24 inches'},\n",
       " {'info': 'Processor Brand', 'value': 'AMD'},\n",
       " {'info': 'Processor Count', 'value': '6'},\n",
       " {'info': 'Manufacturer', 'value': 'AMD'},\n",
       " {'info': 'ASIN', 'value': 'B07STGGQ18'},\n",
       " {'info': 'Is Discontinued By Manufacturer', 'value': 'No'},\n",
       " {'info': 'Date First Available', 'value': 'July 1, 2019'}]"
      ]
     },
     "metadata": {},
     "execution_count": 219
    }
   ],
   "source": [
    "processor.product_tech_spec[0]"
   ]
  },
  {
   "cell_type": "code",
   "execution_count": 220,
   "metadata": {},
   "outputs": [
    {
     "output_type": "execute_result",
     "data": {
      "text/plain": [
       "{'info': 'Brand', 'value': 'AMD'}"
      ]
     },
     "metadata": {},
     "execution_count": 220
    }
   ],
   "source": [
    "processor.product_tech_spec[0][0]"
   ]
  },
  {
   "cell_type": "code",
   "execution_count": 221,
   "metadata": {},
   "outputs": [
    {
     "output_type": "execute_result",
     "data": {
      "text/plain": [
       "'Brand'"
      ]
     },
     "metadata": {},
     "execution_count": 221
    }
   ],
   "source": [
    "processor.product_tech_spec[0][0][\"info\"]"
   ]
  },
  {
   "cell_type": "code",
   "execution_count": 222,
   "metadata": {},
   "outputs": [],
   "source": [
    "# shows no results cause the value is Nan\n",
    "processor.iloc[0][\"other_tech_spec\"]"
   ]
  },
  {
   "cell_type": "code",
   "execution_count": 223,
   "metadata": {},
   "outputs": [
    {
     "output_type": "execute_result",
     "data": {
      "text/plain": [
       "[{'info': 'Brand', 'value': 'AMD'},\n",
       " {'info': 'Item model number', 'value': 'YD2600BBAFBOX'},\n",
       " {'info': 'Item Weight', 'value': '1 pounds'},\n",
       " {'info': 'Product Dimensions', 'value': '1.6 x 1.6 x 0.3 inches'},\n",
       " {'info': 'Item Dimensions  LxWxH', 'value': '1.6 x 1.6 x 0.3 inches'},\n",
       " {'info': 'Processor Brand', 'value': 'AMD'},\n",
       " {'info': 'Processor Count', 'value': '6'},\n",
       " {'info': 'Computer Memory Type', 'value': 'DDR4 SDRAM'},\n",
       " {'info': 'Manufacturer', 'value': 'AMD'},\n",
       " {'info': 'ASIN', 'value': 'B07B41WS48'},\n",
       " {'info': 'Is Discontinued By Manufacturer', 'value': 'No'},\n",
       " {'info': 'Date First Available', 'value': 'April 13, 2018'}]"
      ]
     },
     "metadata": {},
     "execution_count": 223
    }
   ],
   "source": [
    "processor.iloc[1][\"other_tech_spec\"]"
   ]
  },
  {
   "cell_type": "code",
   "execution_count": 224,
   "metadata": {},
   "outputs": [
    {
     "output_type": "execute_result",
     "data": {
      "text/plain": [
       "[{'info': 'Customer Reviews',\n",
       "  'value': '/*\\n* Fix for UDP-1061. Average customer reviews has a small extra line on hover\\n* https://omni-grok.amazon.com/xref/src/appgroup/websiteTemplates/retail/SoftlinesDetailPageAssets/udp-intl-lock/src/legacy.css?indexName=WebsiteTemplates#40\\n*/\\n.noUnderline a:hover {\\ntext-decoration: none;\\n} 4.8 out of 5 stars 6,344 ratings P.when(\\'A\\', \\'ready\\').execute(function(A) {\\nA.declarative(\\'acrLink-click-metrics\\', \\'click\\', { \"allowLinkDefault\" : true }, function(event){\\nif(window.ue) {\\nue.count(\"acrLinkClickCount\", (ue.count(\"acrLinkClickCount\") || 0) + 1);\\n}\\n});\\n}); P.when(\\'A\\', \\'cf\\').execute(function(A) {\\nA.declarative(\\'acrStarsLink-click-metrics\\', \\'click\\', { \"allowLinkDefault\" : true },  function(event){\\nif(window.ue) {\\nue.count(\"acrStarsLinkWithPopoverClickCount\", (ue.count(\"acrStarsLinkWithPopoverClickCount\") || 0) + 1);\\n}\\n});\\n}); 4.8 out of 5 stars'},\n",
       " {'info': 'Best Sellers Rank', 'value': '#7 in Computer CPU Processors'}]"
      ]
     },
     "metadata": {},
     "execution_count": 224
    }
   ],
   "source": [
    "processor.iloc[3][\"product_addl_info\"]"
   ]
  },
  {
   "cell_type": "code",
   "execution_count": 225,
   "metadata": {},
   "outputs": [],
   "source": [
    "#processor.drop(columns=[\"product_addl_info\"],inplace=True)"
   ]
  },
  {
   "cell_type": "code",
   "execution_count": 226,
   "metadata": {},
   "outputs": [
    {
     "output_type": "execute_result",
     "data": {
      "text/plain": [
       "                                                name  \\\n",
       "0  AMD Ryzen 5 3600 6-Core, 12-Thread Unlocked De...   \n",
       "1  AMD Ryzen 5 2600 Processor with Wraith Stealth...   \n",
       "2  Intel Core i9-9900K Desktop Processor 8 Cores ...   \n",
       "3  Intel Core i7-9700K Desktop Processor 8 Cores ...   \n",
       "4  Industrial Rugged Fanless Silent Mini PC Compu...   \n",
       "\n",
       "                                   product_tech_spec  \\\n",
       "0  [{'info': 'Brand', 'value': 'AMD'}, {'info': '...   \n",
       "1    [{'info': 'Wireless Type', 'value': '802.11a'}]   \n",
       "2  [{'info': 'Brand', 'value': 'Intel'}, {'info':...   \n",
       "3  [{'info': 'Memory Speed', 'value': '3600 MHz'}...   \n",
       "4  [{'info': 'Max Screen Resolution', 'value': '3...   \n",
       "\n",
       "                                     other_tech_spec  \\\n",
       "0                                               None   \n",
       "1  [{'info': 'Brand', 'value': 'AMD'}, {'info': '...   \n",
       "2                                               None   \n",
       "3  [{'info': 'Brand', 'value': 'Intel'}, {'info':...   \n",
       "4  [{'info': 'Series', 'value': 'LITESHIELD 2.0'}...   \n",
       "\n",
       "                                   product_addl_info                 seller  \\\n",
       "0  [{'info': 'Customer Reviews', 'value': '/*\n",
       "* F...                   None   \n",
       "1  [{'info': 'Customer Reviews', 'value': '/*\n",
       "* F...                   None   \n",
       "2  [{'info': 'Customer Reviews', 'value': '/*\n",
       "* F...              DealsPro1   \n",
       "3  [{'info': 'Customer Reviews', 'value': '/*\n",
       "* F...                   None   \n",
       "4  [{'info': 'ASIN', 'value': 'B08BKRZB4Z'}, {'in...  Critical Products LLC   \n",
       "\n",
       "                                         seller_link  \\\n",
       "0                                               None   \n",
       "1                                               None   \n",
       "2  https://www.amazon.com/gp/help/seller/at-a-gla...   \n",
       "3                                               None   \n",
       "4  https://www.amazon.com/gp/help/seller/at-a-gla...   \n",
       "\n",
       "                                 link_to_all_reviews  \n",
       "0  /AMD-Ryzen-3600-12-Thread-Processor/product-re...  \n",
       "1  /AMD-Processor-Wraith-Stealth-Cooler/product-r...  \n",
       "2  /Intel-i9-9900K-Processor-Unlocked-BX806849900...  \n",
       "3  /Intel-i7-9700K-Desktop-Processor-Unlocked/pro...  \n",
       "4  /Industrial-Fanless-Computer-Threads-i5-8500T/...  "
      ],
      "text/html": "<div>\n<style scoped>\n    .dataframe tbody tr th:only-of-type {\n        vertical-align: middle;\n    }\n\n    .dataframe tbody tr th {\n        vertical-align: top;\n    }\n\n    .dataframe thead th {\n        text-align: right;\n    }\n</style>\n<table border=\"1\" class=\"dataframe\">\n  <thead>\n    <tr style=\"text-align: right;\">\n      <th></th>\n      <th>name</th>\n      <th>product_tech_spec</th>\n      <th>other_tech_spec</th>\n      <th>product_addl_info</th>\n      <th>seller</th>\n      <th>seller_link</th>\n      <th>link_to_all_reviews</th>\n    </tr>\n  </thead>\n  <tbody>\n    <tr>\n      <th>0</th>\n      <td>AMD Ryzen 5 3600 6-Core, 12-Thread Unlocked De...</td>\n      <td>[{'info': 'Brand', 'value': 'AMD'}, {'info': '...</td>\n      <td>None</td>\n      <td>[{'info': 'Customer Reviews', 'value': '/*\n* F...</td>\n      <td>None</td>\n      <td>None</td>\n      <td>/AMD-Ryzen-3600-12-Thread-Processor/product-re...</td>\n    </tr>\n    <tr>\n      <th>1</th>\n      <td>AMD Ryzen 5 2600 Processor with Wraith Stealth...</td>\n      <td>[{'info': 'Wireless Type', 'value': '802.11a'}]</td>\n      <td>[{'info': 'Brand', 'value': 'AMD'}, {'info': '...</td>\n      <td>[{'info': 'Customer Reviews', 'value': '/*\n* F...</td>\n      <td>None</td>\n      <td>None</td>\n      <td>/AMD-Processor-Wraith-Stealth-Cooler/product-r...</td>\n    </tr>\n    <tr>\n      <th>2</th>\n      <td>Intel Core i9-9900K Desktop Processor 8 Cores ...</td>\n      <td>[{'info': 'Brand', 'value': 'Intel'}, {'info':...</td>\n      <td>None</td>\n      <td>[{'info': 'Customer Reviews', 'value': '/*\n* F...</td>\n      <td>DealsPro1</td>\n      <td>https://www.amazon.com/gp/help/seller/at-a-gla...</td>\n      <td>/Intel-i9-9900K-Processor-Unlocked-BX806849900...</td>\n    </tr>\n    <tr>\n      <th>3</th>\n      <td>Intel Core i7-9700K Desktop Processor 8 Cores ...</td>\n      <td>[{'info': 'Memory Speed', 'value': '3600 MHz'}...</td>\n      <td>[{'info': 'Brand', 'value': 'Intel'}, {'info':...</td>\n      <td>[{'info': 'Customer Reviews', 'value': '/*\n* F...</td>\n      <td>None</td>\n      <td>None</td>\n      <td>/Intel-i7-9700K-Desktop-Processor-Unlocked/pro...</td>\n    </tr>\n    <tr>\n      <th>4</th>\n      <td>Industrial Rugged Fanless Silent Mini PC Compu...</td>\n      <td>[{'info': 'Max Screen Resolution', 'value': '3...</td>\n      <td>[{'info': 'Series', 'value': 'LITESHIELD 2.0'}...</td>\n      <td>[{'info': 'ASIN', 'value': 'B08BKRZB4Z'}, {'in...</td>\n      <td>Critical Products LLC</td>\n      <td>https://www.amazon.com/gp/help/seller/at-a-gla...</td>\n      <td>/Industrial-Fanless-Computer-Threads-i5-8500T/...</td>\n    </tr>\n  </tbody>\n</table>\n</div>"
     },
     "metadata": {},
     "execution_count": 226
    }
   ],
   "source": [
    "processor.head()"
   ]
  },
  {
   "cell_type": "code",
   "execution_count": 228,
   "metadata": {},
   "outputs": [
    {
     "output_type": "stream",
     "name": "stdout",
     "text": [
      "['Output Wattage', 'Model number', 'Item Package Quantity', 'Warranty', 'Assembled Width', 'Item Weight', 'Batteries Included?', 'Special Features', 'Standing screen display size', 'Batteries', 'Item model number', 'Series', 'Weight', 'Item Dimensions  LxWxH', 'Number of USB 3.0 Ports', 'Style', 'Display resolution', 'Preamp Outputs', 'Part Number', 'Number of Component Outputs', 'Speaker Type', 'Display Type', 'Hard Drive Interface', 'Material', 'Max Screen Resolution', 'Card Description', 'Connectivity Technology', 'Plug Profile', 'Chipset Brand', 'Graphics Card Ram Size', 'Memory Speed', 'Cover Included', 'Depth (inches)', 'Finish Types', 'Voltage', 'Brand', 'Assembled Height', 'Package Dimensions', 'Department', 'Size', 'Number Of Pieces', 'Screen Resolution', 'ASIN', 'Certification', 'Wireless Remote', 'Wireless Type', 'Manufacturer', 'Material Type', 'Language:', 'Assembled Length', 'Graphics Coprocessor', 'Number of USB 2.0 Ports', 'Included Components', 'Processor Count', 'Finish', 'Model', 'Color Name', 'Computer Memory Type', 'Processor Brand', 'Manufacturer Part Number', 'Average Battery Life (in hours)', 'Flash Memory Size', 'Hardware Platform', 'Batteries Required?', 'Voice command', 'Folding', 'Operating System', 'Date First Available', 'Display Size', 'Hard Drive Rotational Speed', 'Optical Drive Type', 'Number of Items', 'Brand Name', 'Power Source', 'National Stock Number', 'Product Dimensions', 'Warranty Description', 'Specification Met', 'Color', 'Is Discontinued By Manufacturer', 'Power Source Type']\n"
     ]
    }
   ],
   "source": [
    "# TECH SPECIFICATION\n",
    "# \n",
    "# \n",
    "#  to optimize previous code I will have to add a try / except in the iteration that makes sure the code is still running whenever a Nan value is encountered\n",
    "columns=[]\n",
    "for i in range(len(processor)):\n",
    "    try:\n",
    "        for j in processor.product_tech_spec[i]:\n",
    "            columns.append(j[\"info\"])\n",
    "    except:\n",
    "        continue\n",
    "\n",
    "columns=list(set(columns))\n",
    "print(columns)\n"
   ]
  },
  {
   "cell_type": "code",
   "execution_count": 229,
   "metadata": {},
   "outputs": [
    {
     "output_type": "execute_result",
     "data": {
      "text/plain": [
       "Empty DataFrame\n",
       "Columns: [Output Wattage, Model number, Item Package Quantity, Warranty, Assembled Width, Item Weight, Batteries Included?, Special Features, Standing screen display size, Batteries, Item model number, Series, Weight, Item Dimensions  LxWxH, Number of USB 3.0 Ports, Style, Display resolution, Preamp Outputs, Part Number, Number of Component Outputs, Speaker Type, Display Type, Hard Drive Interface, Material, Max Screen Resolution, Card Description, Connectivity Technology, Plug Profile, Chipset Brand, Graphics Card Ram Size, Memory Speed, Cover Included, Depth (inches), Finish Types, Voltage, Brand, Assembled Height, Package Dimensions, Department, Size, Number Of Pieces, Screen Resolution, ASIN, Certification, Wireless Remote, Wireless Type, Manufacturer, Material Type, Language:, Assembled Length, Graphics Coprocessor, Number of USB 2.0 Ports, Included Components, Processor Count, Finish, Model, Color Name, Computer Memory Type, Processor Brand, Manufacturer Part Number, Average Battery Life (in hours), Flash Memory Size, Hardware Platform, Batteries Required?, Voice command, Folding, Operating System, Date First Available, Display Size, Hard Drive Rotational Speed, Optical Drive Type, Number of Items, Brand Name, Power Source, National Stock Number, Product Dimensions, Warranty Description, Specification Met, Color, Is Discontinued By Manufacturer, Power Source Type]\n",
       "Index: []\n",
       "\n",
       "[0 rows x 81 columns]"
      ],
      "text/html": "<div>\n<style scoped>\n    .dataframe tbody tr th:only-of-type {\n        vertical-align: middle;\n    }\n\n    .dataframe tbody tr th {\n        vertical-align: top;\n    }\n\n    .dataframe thead th {\n        text-align: right;\n    }\n</style>\n<table border=\"1\" class=\"dataframe\">\n  <thead>\n    <tr style=\"text-align: right;\">\n      <th></th>\n      <th>Output Wattage</th>\n      <th>Model number</th>\n      <th>Item Package Quantity</th>\n      <th>Warranty</th>\n      <th>Assembled Width</th>\n      <th>Item Weight</th>\n      <th>Batteries Included?</th>\n      <th>Special Features</th>\n      <th>Standing screen display size</th>\n      <th>Batteries</th>\n      <th>...</th>\n      <th>Number of Items</th>\n      <th>Brand Name</th>\n      <th>Power Source</th>\n      <th>National Stock Number</th>\n      <th>Product Dimensions</th>\n      <th>Warranty Description</th>\n      <th>Specification Met</th>\n      <th>Color</th>\n      <th>Is Discontinued By Manufacturer</th>\n      <th>Power Source Type</th>\n    </tr>\n  </thead>\n  <tbody>\n  </tbody>\n</table>\n<p>0 rows × 81 columns</p>\n</div>"
     },
     "metadata": {},
     "execution_count": 229
    }
   ],
   "source": [
    "product_tech_spec = pd.DataFrame(columns=columns)\n",
    "product_tech_spec"
   ]
  },
  {
   "cell_type": "code",
   "execution_count": 230,
   "metadata": {},
   "outputs": [],
   "source": [
    "for i in range(len(processor)):\n",
    "    try:\n",
    "        for j in processor.product_tech_spec[i]:\n",
    "            product_tech_spec.loc[i,j[\"info\"]] = j[\"value\"]\n",
    "    except:\n",
    "        product_tech_spec.loc[i,j[\"info\"]] = \"\"\n",
    "        continue"
   ]
  },
  {
   "cell_type": "code",
   "execution_count": 231,
   "metadata": {},
   "outputs": [
    {
     "output_type": "execute_result",
     "data": {
      "text/plain": [
       "     Output Wattage Model number Item Package Quantity Warranty  \\\n",
       "0               NaN          NaN                   NaN      NaN   \n",
       "1               NaN          NaN                   NaN      NaN   \n",
       "2               NaN          NaN                   NaN      NaN   \n",
       "3               NaN          NaN                   NaN      NaN   \n",
       "4               NaN          NaN                   NaN      NaN   \n",
       "...             ...          ...                   ...      ...   \n",
       "5884            NaN          NaN                   NaN      NaN   \n",
       "5885            NaN          NaN                   NaN      NaN   \n",
       "5886            NaN          NaN                   NaN      NaN   \n",
       "5887            NaN          NaN                   NaN      NaN   \n",
       "5888            NaN          NaN                   NaN      NaN   \n",
       "\n",
       "     Assembled Width Item Weight Batteries Included? Special Features  \\\n",
       "0                NaN  1.6 ounces                 NaN              NaN   \n",
       "1                NaN         NaN                 NaN              NaN   \n",
       "2                NaN  3.2 ounces                 NaN              NaN   \n",
       "3                NaN         NaN                 NaN              NaN   \n",
       "4                NaN         NaN                 NaN              NaN   \n",
       "...              ...         ...                 ...              ...   \n",
       "5884             NaN         NaN                 NaN              NaN   \n",
       "5885             NaN         NaN                 NaN              NaN   \n",
       "5886             NaN         NaN                 NaN              NaN   \n",
       "5887             NaN         NaN                 NaN              NaN   \n",
       "5888             NaN         NaN                 NaN              NaN   \n",
       "\n",
       "     Standing screen display size Batteries  ... Number of Items Brand Name  \\\n",
       "0                             NaN       NaN  ...             NaN        NaN   \n",
       "1                             NaN       NaN  ...             NaN        NaN   \n",
       "2                             NaN       NaN  ...             NaN        NaN   \n",
       "3                             NaN       NaN  ...             NaN        NaN   \n",
       "4                             NaN       NaN  ...             NaN        NaN   \n",
       "...                           ...       ...  ...             ...        ...   \n",
       "5884                          NaN       NaN  ...             NaN        NaN   \n",
       "5885                          NaN       NaN  ...             NaN        NaN   \n",
       "5886                  14.1 Inches       NaN  ...             NaN        NaN   \n",
       "5887                          NaN       NaN  ...             NaN        NaN   \n",
       "5888                          NaN       NaN  ...             NaN        NaN   \n",
       "\n",
       "     Power Source National Stock Number         Product Dimensions  \\\n",
       "0             NaN                   NaN  1.57 x 1.57 x 0.24 inches   \n",
       "1             NaN                   NaN                        NaN   \n",
       "2             NaN                   NaN  6.3 x 10.24 x 3.15 inches   \n",
       "3             NaN                   NaN                        NaN   \n",
       "4             NaN                   NaN                        NaN   \n",
       "...           ...                   ...                        ...   \n",
       "5884          NaN                   NaN                        NaN   \n",
       "5885          NaN                   NaN                        NaN   \n",
       "5886          NaN                   NaN                        NaN   \n",
       "5887          NaN                   NaN                        NaN   \n",
       "5888          NaN                   NaN                        NaN   \n",
       "\n",
       "     Warranty Description Specification Met Color  \\\n",
       "0                     NaN               NaN   NaN   \n",
       "1                     NaN               NaN   NaN   \n",
       "2                     NaN               NaN   NaN   \n",
       "3                     NaN               NaN   NaN   \n",
       "4                     NaN               NaN   NaN   \n",
       "...                   ...               ...   ...   \n",
       "5884                  NaN               NaN   NaN   \n",
       "5885                  NaN               NaN   NaN   \n",
       "5886                  NaN               NaN   NaN   \n",
       "5887                  NaN               NaN   NaN   \n",
       "5888                  NaN               NaN   NaN   \n",
       "\n",
       "     Is Discontinued By Manufacturer Power Source Type  \n",
       "0                                 No               NaN  \n",
       "1                                NaN               NaN  \n",
       "2                                NaN               NaN  \n",
       "3                                NaN               NaN  \n",
       "4                                NaN               NaN  \n",
       "...                              ...               ...  \n",
       "5884                             NaN               NaN  \n",
       "5885                             NaN               NaN  \n",
       "5886                             NaN               NaN  \n",
       "5887                             NaN               NaN  \n",
       "5888                             NaN               NaN  \n",
       "\n",
       "[5889 rows x 81 columns]"
      ],
      "text/html": "<div>\n<style scoped>\n    .dataframe tbody tr th:only-of-type {\n        vertical-align: middle;\n    }\n\n    .dataframe tbody tr th {\n        vertical-align: top;\n    }\n\n    .dataframe thead th {\n        text-align: right;\n    }\n</style>\n<table border=\"1\" class=\"dataframe\">\n  <thead>\n    <tr style=\"text-align: right;\">\n      <th></th>\n      <th>Output Wattage</th>\n      <th>Model number</th>\n      <th>Item Package Quantity</th>\n      <th>Warranty</th>\n      <th>Assembled Width</th>\n      <th>Item Weight</th>\n      <th>Batteries Included?</th>\n      <th>Special Features</th>\n      <th>Standing screen display size</th>\n      <th>Batteries</th>\n      <th>...</th>\n      <th>Number of Items</th>\n      <th>Brand Name</th>\n      <th>Power Source</th>\n      <th>National Stock Number</th>\n      <th>Product Dimensions</th>\n      <th>Warranty Description</th>\n      <th>Specification Met</th>\n      <th>Color</th>\n      <th>Is Discontinued By Manufacturer</th>\n      <th>Power Source Type</th>\n    </tr>\n  </thead>\n  <tbody>\n    <tr>\n      <th>0</th>\n      <td>NaN</td>\n      <td>NaN</td>\n      <td>NaN</td>\n      <td>NaN</td>\n      <td>NaN</td>\n      <td>1.6 ounces</td>\n      <td>NaN</td>\n      <td>NaN</td>\n      <td>NaN</td>\n      <td>NaN</td>\n      <td>...</td>\n      <td>NaN</td>\n      <td>NaN</td>\n      <td>NaN</td>\n      <td>NaN</td>\n      <td>1.57 x 1.57 x 0.24 inches</td>\n      <td>NaN</td>\n      <td>NaN</td>\n      <td>NaN</td>\n      <td>No</td>\n      <td>NaN</td>\n    </tr>\n    <tr>\n      <th>1</th>\n      <td>NaN</td>\n      <td>NaN</td>\n      <td>NaN</td>\n      <td>NaN</td>\n      <td>NaN</td>\n      <td>NaN</td>\n      <td>NaN</td>\n      <td>NaN</td>\n      <td>NaN</td>\n      <td>NaN</td>\n      <td>...</td>\n      <td>NaN</td>\n      <td>NaN</td>\n      <td>NaN</td>\n      <td>NaN</td>\n      <td>NaN</td>\n      <td>NaN</td>\n      <td>NaN</td>\n      <td>NaN</td>\n      <td>NaN</td>\n      <td>NaN</td>\n    </tr>\n    <tr>\n      <th>2</th>\n      <td>NaN</td>\n      <td>NaN</td>\n      <td>NaN</td>\n      <td>NaN</td>\n      <td>NaN</td>\n      <td>3.2 ounces</td>\n      <td>NaN</td>\n      <td>NaN</td>\n      <td>NaN</td>\n      <td>NaN</td>\n      <td>...</td>\n      <td>NaN</td>\n      <td>NaN</td>\n      <td>NaN</td>\n      <td>NaN</td>\n      <td>6.3 x 10.24 x 3.15 inches</td>\n      <td>NaN</td>\n      <td>NaN</td>\n      <td>NaN</td>\n      <td>NaN</td>\n      <td>NaN</td>\n    </tr>\n    <tr>\n      <th>3</th>\n      <td>NaN</td>\n      <td>NaN</td>\n      <td>NaN</td>\n      <td>NaN</td>\n      <td>NaN</td>\n      <td>NaN</td>\n      <td>NaN</td>\n      <td>NaN</td>\n      <td>NaN</td>\n      <td>NaN</td>\n      <td>...</td>\n      <td>NaN</td>\n      <td>NaN</td>\n      <td>NaN</td>\n      <td>NaN</td>\n      <td>NaN</td>\n      <td>NaN</td>\n      <td>NaN</td>\n      <td>NaN</td>\n      <td>NaN</td>\n      <td>NaN</td>\n    </tr>\n    <tr>\n      <th>4</th>\n      <td>NaN</td>\n      <td>NaN</td>\n      <td>NaN</td>\n      <td>NaN</td>\n      <td>NaN</td>\n      <td>NaN</td>\n      <td>NaN</td>\n      <td>NaN</td>\n      <td>NaN</td>\n      <td>NaN</td>\n      <td>...</td>\n      <td>NaN</td>\n      <td>NaN</td>\n      <td>NaN</td>\n      <td>NaN</td>\n      <td>NaN</td>\n      <td>NaN</td>\n      <td>NaN</td>\n      <td>NaN</td>\n      <td>NaN</td>\n      <td>NaN</td>\n    </tr>\n    <tr>\n      <th>...</th>\n      <td>...</td>\n      <td>...</td>\n      <td>...</td>\n      <td>...</td>\n      <td>...</td>\n      <td>...</td>\n      <td>...</td>\n      <td>...</td>\n      <td>...</td>\n      <td>...</td>\n      <td>...</td>\n      <td>...</td>\n      <td>...</td>\n      <td>...</td>\n      <td>...</td>\n      <td>...</td>\n      <td>...</td>\n      <td>...</td>\n      <td>...</td>\n      <td>...</td>\n      <td>...</td>\n    </tr>\n    <tr>\n      <th>5884</th>\n      <td>NaN</td>\n      <td>NaN</td>\n      <td>NaN</td>\n      <td>NaN</td>\n      <td>NaN</td>\n      <td>NaN</td>\n      <td>NaN</td>\n      <td>NaN</td>\n      <td>NaN</td>\n      <td>NaN</td>\n      <td>...</td>\n      <td>NaN</td>\n      <td>NaN</td>\n      <td>NaN</td>\n      <td>NaN</td>\n      <td>NaN</td>\n      <td>NaN</td>\n      <td>NaN</td>\n      <td>NaN</td>\n      <td>NaN</td>\n      <td>NaN</td>\n    </tr>\n    <tr>\n      <th>5885</th>\n      <td>NaN</td>\n      <td>NaN</td>\n      <td>NaN</td>\n      <td>NaN</td>\n      <td>NaN</td>\n      <td>NaN</td>\n      <td>NaN</td>\n      <td>NaN</td>\n      <td>NaN</td>\n      <td>NaN</td>\n      <td>...</td>\n      <td>NaN</td>\n      <td>NaN</td>\n      <td>NaN</td>\n      <td>NaN</td>\n      <td>NaN</td>\n      <td>NaN</td>\n      <td>NaN</td>\n      <td>NaN</td>\n      <td>NaN</td>\n      <td>NaN</td>\n    </tr>\n    <tr>\n      <th>5886</th>\n      <td>NaN</td>\n      <td>NaN</td>\n      <td>NaN</td>\n      <td>NaN</td>\n      <td>NaN</td>\n      <td>NaN</td>\n      <td>NaN</td>\n      <td>NaN</td>\n      <td>14.1 Inches</td>\n      <td>NaN</td>\n      <td>...</td>\n      <td>NaN</td>\n      <td>NaN</td>\n      <td>NaN</td>\n      <td>NaN</td>\n      <td>NaN</td>\n      <td>NaN</td>\n      <td>NaN</td>\n      <td>NaN</td>\n      <td>NaN</td>\n      <td>NaN</td>\n    </tr>\n    <tr>\n      <th>5887</th>\n      <td>NaN</td>\n      <td>NaN</td>\n      <td>NaN</td>\n      <td>NaN</td>\n      <td>NaN</td>\n      <td>NaN</td>\n      <td>NaN</td>\n      <td>NaN</td>\n      <td>NaN</td>\n      <td>NaN</td>\n      <td>...</td>\n      <td>NaN</td>\n      <td>NaN</td>\n      <td>NaN</td>\n      <td>NaN</td>\n      <td>NaN</td>\n      <td>NaN</td>\n      <td>NaN</td>\n      <td>NaN</td>\n      <td>NaN</td>\n      <td>NaN</td>\n    </tr>\n    <tr>\n      <th>5888</th>\n      <td>NaN</td>\n      <td>NaN</td>\n      <td>NaN</td>\n      <td>NaN</td>\n      <td>NaN</td>\n      <td>NaN</td>\n      <td>NaN</td>\n      <td>NaN</td>\n      <td>NaN</td>\n      <td>NaN</td>\n      <td>...</td>\n      <td>NaN</td>\n      <td>NaN</td>\n      <td>NaN</td>\n      <td>NaN</td>\n      <td>NaN</td>\n      <td>NaN</td>\n      <td>NaN</td>\n      <td>NaN</td>\n      <td>NaN</td>\n      <td>NaN</td>\n    </tr>\n  </tbody>\n</table>\n<p>5889 rows × 81 columns</p>\n</div>"
     },
     "metadata": {},
     "execution_count": 231
    }
   ],
   "source": [
    "product_tech_spec"
   ]
  },
  {
   "cell_type": "code",
   "execution_count": 232,
   "metadata": {},
   "outputs": [
    {
     "output_type": "execute_result",
     "data": {
      "text/plain": [
       "Output Wattage                       1\n",
       "Model number                         2\n",
       "Item Package Quantity               12\n",
       "Warranty                            14\n",
       "Assembled Width                      2\n",
       "                                  ... \n",
       "Warranty Description                17\n",
       "Specification Met                    2\n",
       "Color                              385\n",
       "Is Discontinued By Manufacturer    558\n",
       "Power Source Type                    2\n",
       "Length: 81, dtype: int64"
      ]
     },
     "metadata": {},
     "execution_count": 232
    }
   ],
   "source": [
    "product_tech_spec.notnull().sum()"
   ]
  },
  {
   "cell_type": "code",
   "execution_count": 233,
   "metadata": {},
   "outputs": [
    {
     "output_type": "stream",
     "name": "stdout",
     "text": [
      "['Color', 'Audio-out Ports (#)', 'Operating System', 'Hard Drive Interface', 'ASIN', 'Date First Available', 'Manufacturer', 'Department', 'Item Weight', 'Language:', 'Hard Drive Rotational Speed', 'Optical Drive Type', 'Rear Webcam Resolution', 'Batteries', 'Item model number', 'Processor Count', 'Series', 'Voltage', 'Brand', 'Item Dimensions  LxWxH', 'Power Source', 'Computer Memory Type', 'Processor Brand', 'National Stock Number', 'Product Dimensions', 'Package Dimensions', 'Battery Description', 'Flash Memory Size', 'Hardware Platform', 'Is Discontinued By Manufacturer']\n"
     ]
    }
   ],
   "source": [
    "# in this code I use the shape columns[0] (shape is shown with [columns, rows] and I only need the columns) instead of the lenght of the df\n",
    "\n",
    "columns=[]\n",
    "for i in range(processor.shape[0]):\n",
    "    try:\n",
    "        for j in processor.other_tech_spec[i]:\n",
    "            columns.append(j[\"info\"])\n",
    "    except:\n",
    "        continue\n",
    "\n",
    "columns= list(set(columns))\n",
    "print(columns)"
   ]
  },
  {
   "cell_type": "code",
   "execution_count": 234,
   "metadata": {},
   "outputs": [
    {
     "output_type": "execute_result",
     "data": {
      "text/plain": [
       "Empty DataFrame\n",
       "Columns: [Color, Audio-out Ports (#), Operating System, Hard Drive Interface, ASIN, Date First Available, Manufacturer, Department, Item Weight, Language:, Hard Drive Rotational Speed, Optical Drive Type, Rear Webcam Resolution, Batteries, Item model number, Processor Count, Series, Voltage, Brand, Item Dimensions  LxWxH, Power Source, Computer Memory Type, Processor Brand, National Stock Number, Product Dimensions, Package Dimensions, Battery Description, Flash Memory Size, Hardware Platform, Is Discontinued By Manufacturer]\n",
       "Index: []\n",
       "\n",
       "[0 rows x 30 columns]"
      ],
      "text/html": "<div>\n<style scoped>\n    .dataframe tbody tr th:only-of-type {\n        vertical-align: middle;\n    }\n\n    .dataframe tbody tr th {\n        vertical-align: top;\n    }\n\n    .dataframe thead th {\n        text-align: right;\n    }\n</style>\n<table border=\"1\" class=\"dataframe\">\n  <thead>\n    <tr style=\"text-align: right;\">\n      <th></th>\n      <th>Color</th>\n      <th>Audio-out Ports (#)</th>\n      <th>Operating System</th>\n      <th>Hard Drive Interface</th>\n      <th>ASIN</th>\n      <th>Date First Available</th>\n      <th>Manufacturer</th>\n      <th>Department</th>\n      <th>Item Weight</th>\n      <th>Language:</th>\n      <th>...</th>\n      <th>Power Source</th>\n      <th>Computer Memory Type</th>\n      <th>Processor Brand</th>\n      <th>National Stock Number</th>\n      <th>Product Dimensions</th>\n      <th>Package Dimensions</th>\n      <th>Battery Description</th>\n      <th>Flash Memory Size</th>\n      <th>Hardware Platform</th>\n      <th>Is Discontinued By Manufacturer</th>\n    </tr>\n  </thead>\n  <tbody>\n  </tbody>\n</table>\n<p>0 rows × 30 columns</p>\n</div>"
     },
     "metadata": {},
     "execution_count": 234
    }
   ],
   "source": [
    "other_tech_spec = pd.DataFrame(columns=columns)\n",
    "other_tech_spec"
   ]
  },
  {
   "cell_type": "code",
   "execution_count": 235,
   "metadata": {},
   "outputs": [],
   "source": [
    "for i in range(processor.shape[0]):\n",
    "    try:\n",
    "        for j in processor.other_tech_spec[i]:\n",
    "            other_tech_spec.loc[i,j[\"info\"]] = j[\"value\"]\n",
    "    except:\n",
    "        other_tech_spec.loc[i,j[\"info\"]] = \"\"\n",
    "        continue"
   ]
  },
  {
   "cell_type": "code",
   "execution_count": 236,
   "metadata": {},
   "outputs": [
    {
     "output_type": "execute_result",
     "data": {
      "text/plain": [
       "     Color Audio-out Ports (#) Operating System Hard Drive Interface  \\\n",
       "0      NaN                 NaN              NaN                  NaN   \n",
       "1      NaN                 NaN              NaN                  NaN   \n",
       "2      NaN                 NaN              NaN                  NaN   \n",
       "3      NaN                 NaN              NaN                  NaN   \n",
       "4      NaN                 NaN       Windows 10       Serial ATA-600   \n",
       "...    ...                 ...              ...                  ...   \n",
       "5884   NaN                 NaN              NaN                  NaN   \n",
       "5885   NaN                 NaN              NaN                  NaN   \n",
       "5886   NaN                 NaN          Windows                ESATA   \n",
       "5887   NaN                 NaN              NaN                  NaN   \n",
       "5888   NaN                 NaN              NaN                  NaN   \n",
       "\n",
       "            ASIN Date First Available Manufacturer Department  Item Weight  \\\n",
       "0            NaN                               NaN        NaN          NaN   \n",
       "1     B07B41WS48       April 13, 2018          AMD        NaN     1 pounds   \n",
       "2            NaN                               NaN        NaN          NaN   \n",
       "3     B07HHN6KBZ      October 8, 2018        Intel        NaN  1.59 ounces   \n",
       "4            NaN                  NaN          NaN        NaN     5 pounds   \n",
       "...          ...                  ...          ...        ...          ...   \n",
       "5884         NaN                  NaN          NaN        NaN          NaN   \n",
       "5885  B07BMV9WJ4       April 10, 2018  ASRock Rack        NaN   3.3 pounds   \n",
       "5886         NaN                  NaN          NaN        NaN     5 pounds   \n",
       "5887  B081R359ZM    November 22, 2019     Gigabyte        NaN   1.7 pounds   \n",
       "5888  B07FKTSWNG        July 27, 2018         Asus        NaN     1 pounds   \n",
       "\n",
       "     Language:  ... Power Source Computer Memory Type Processor Brand  \\\n",
       "0          NaN  ...          NaN                  NaN             NaN   \n",
       "1          NaN  ...          NaN           DDR4 SDRAM             AMD   \n",
       "2          NaN  ...          NaN                  NaN             NaN   \n",
       "3          NaN  ...          NaN           DDR4 SDRAM           Intel   \n",
       "4          NaN  ...           DC               SODIMM           Intel   \n",
       "...        ...  ...          ...                  ...             ...   \n",
       "5884       NaN  ...          NaN                  NaN             NaN   \n",
       "5885       NaN  ...          NaN           DDR4 SDRAM             NaN   \n",
       "5886       NaN  ...          NaN     DDR3L-1600 SDRAM           Intel   \n",
       "5887       NaN  ...          NaN                  NaN             NaN   \n",
       "5888       NaN  ...          NaN           DDR4 SDRAM             NaN   \n",
       "\n",
       "     National Stock Number         Product Dimensions  Package Dimensions  \\\n",
       "0                      NaN                        NaN                 NaN   \n",
       "1                      NaN     1.6 x 1.6 x 0.3 inches                 NaN   \n",
       "2                      NaN                        NaN                 NaN   \n",
       "3                      NaN  4.57 x 3.98 x 2.76 inches                 NaN   \n",
       "4                      NaN         8 x 8 x 1.9 inches                 NaN   \n",
       "...                    ...                        ...                 ...   \n",
       "5884                   NaN                        NaN                 NaN   \n",
       "5885                   NaN         12 x 13 x 3 inches                 NaN   \n",
       "5886                   NaN                        NaN  18 x 12 x 3 inches   \n",
       "5887                   NaN  8.86 x 4.69 x 1.57 inches                 NaN   \n",
       "5888                   NaN     8.9 x 7.3 x 3.7 inches                 NaN   \n",
       "\n",
       "     Battery Description Flash Memory Size Hardware Platform  \\\n",
       "0                    NaN               NaN               NaN   \n",
       "1                    NaN               NaN               NaN   \n",
       "2                    NaN               NaN               NaN   \n",
       "3                    NaN               NaN               NaN   \n",
       "4                    NaN               NaN                PC   \n",
       "...                  ...               ...               ...   \n",
       "5884                 NaN               NaN               NaN   \n",
       "5885                 NaN               NaN               NaN   \n",
       "5886                 NaN               NaN                PC   \n",
       "5887                 NaN               NaN               NaN   \n",
       "5888                 NaN               NaN               NaN   \n",
       "\n",
       "     Is Discontinued By Manufacturer  \n",
       "0                                NaN  \n",
       "1                                 No  \n",
       "2                                NaN  \n",
       "3                                 No  \n",
       "4                                NaN  \n",
       "...                              ...  \n",
       "5884                             NaN  \n",
       "5885                              No  \n",
       "5886                             NaN  \n",
       "5887                             NaN  \n",
       "5888                              No  \n",
       "\n",
       "[5889 rows x 30 columns]"
      ],
      "text/html": "<div>\n<style scoped>\n    .dataframe tbody tr th:only-of-type {\n        vertical-align: middle;\n    }\n\n    .dataframe tbody tr th {\n        vertical-align: top;\n    }\n\n    .dataframe thead th {\n        text-align: right;\n    }\n</style>\n<table border=\"1\" class=\"dataframe\">\n  <thead>\n    <tr style=\"text-align: right;\">\n      <th></th>\n      <th>Color</th>\n      <th>Audio-out Ports (#)</th>\n      <th>Operating System</th>\n      <th>Hard Drive Interface</th>\n      <th>ASIN</th>\n      <th>Date First Available</th>\n      <th>Manufacturer</th>\n      <th>Department</th>\n      <th>Item Weight</th>\n      <th>Language:</th>\n      <th>...</th>\n      <th>Power Source</th>\n      <th>Computer Memory Type</th>\n      <th>Processor Brand</th>\n      <th>National Stock Number</th>\n      <th>Product Dimensions</th>\n      <th>Package Dimensions</th>\n      <th>Battery Description</th>\n      <th>Flash Memory Size</th>\n      <th>Hardware Platform</th>\n      <th>Is Discontinued By Manufacturer</th>\n    </tr>\n  </thead>\n  <tbody>\n    <tr>\n      <th>0</th>\n      <td>NaN</td>\n      <td>NaN</td>\n      <td>NaN</td>\n      <td>NaN</td>\n      <td>NaN</td>\n      <td></td>\n      <td>NaN</td>\n      <td>NaN</td>\n      <td>NaN</td>\n      <td>NaN</td>\n      <td>...</td>\n      <td>NaN</td>\n      <td>NaN</td>\n      <td>NaN</td>\n      <td>NaN</td>\n      <td>NaN</td>\n      <td>NaN</td>\n      <td>NaN</td>\n      <td>NaN</td>\n      <td>NaN</td>\n      <td>NaN</td>\n    </tr>\n    <tr>\n      <th>1</th>\n      <td>NaN</td>\n      <td>NaN</td>\n      <td>NaN</td>\n      <td>NaN</td>\n      <td>B07B41WS48</td>\n      <td>April 13, 2018</td>\n      <td>AMD</td>\n      <td>NaN</td>\n      <td>1 pounds</td>\n      <td>NaN</td>\n      <td>...</td>\n      <td>NaN</td>\n      <td>DDR4 SDRAM</td>\n      <td>AMD</td>\n      <td>NaN</td>\n      <td>1.6 x 1.6 x 0.3 inches</td>\n      <td>NaN</td>\n      <td>NaN</td>\n      <td>NaN</td>\n      <td>NaN</td>\n      <td>No</td>\n    </tr>\n    <tr>\n      <th>2</th>\n      <td>NaN</td>\n      <td>NaN</td>\n      <td>NaN</td>\n      <td>NaN</td>\n      <td>NaN</td>\n      <td></td>\n      <td>NaN</td>\n      <td>NaN</td>\n      <td>NaN</td>\n      <td>NaN</td>\n      <td>...</td>\n      <td>NaN</td>\n      <td>NaN</td>\n      <td>NaN</td>\n      <td>NaN</td>\n      <td>NaN</td>\n      <td>NaN</td>\n      <td>NaN</td>\n      <td>NaN</td>\n      <td>NaN</td>\n      <td>NaN</td>\n    </tr>\n    <tr>\n      <th>3</th>\n      <td>NaN</td>\n      <td>NaN</td>\n      <td>NaN</td>\n      <td>NaN</td>\n      <td>B07HHN6KBZ</td>\n      <td>October 8, 2018</td>\n      <td>Intel</td>\n      <td>NaN</td>\n      <td>1.59 ounces</td>\n      <td>NaN</td>\n      <td>...</td>\n      <td>NaN</td>\n      <td>DDR4 SDRAM</td>\n      <td>Intel</td>\n      <td>NaN</td>\n      <td>4.57 x 3.98 x 2.76 inches</td>\n      <td>NaN</td>\n      <td>NaN</td>\n      <td>NaN</td>\n      <td>NaN</td>\n      <td>No</td>\n    </tr>\n    <tr>\n      <th>4</th>\n      <td>NaN</td>\n      <td>NaN</td>\n      <td>Windows 10</td>\n      <td>Serial ATA-600</td>\n      <td>NaN</td>\n      <td>NaN</td>\n      <td>NaN</td>\n      <td>NaN</td>\n      <td>5 pounds</td>\n      <td>NaN</td>\n      <td>...</td>\n      <td>DC</td>\n      <td>SODIMM</td>\n      <td>Intel</td>\n      <td>NaN</td>\n      <td>8 x 8 x 1.9 inches</td>\n      <td>NaN</td>\n      <td>NaN</td>\n      <td>NaN</td>\n      <td>PC</td>\n      <td>NaN</td>\n    </tr>\n    <tr>\n      <th>...</th>\n      <td>...</td>\n      <td>...</td>\n      <td>...</td>\n      <td>...</td>\n      <td>...</td>\n      <td>...</td>\n      <td>...</td>\n      <td>...</td>\n      <td>...</td>\n      <td>...</td>\n      <td>...</td>\n      <td>...</td>\n      <td>...</td>\n      <td>...</td>\n      <td>...</td>\n      <td>...</td>\n      <td>...</td>\n      <td>...</td>\n      <td>...</td>\n      <td>...</td>\n      <td>...</td>\n    </tr>\n    <tr>\n      <th>5884</th>\n      <td>NaN</td>\n      <td>NaN</td>\n      <td>NaN</td>\n      <td>NaN</td>\n      <td>NaN</td>\n      <td>NaN</td>\n      <td>NaN</td>\n      <td>NaN</td>\n      <td>NaN</td>\n      <td>NaN</td>\n      <td>...</td>\n      <td>NaN</td>\n      <td>NaN</td>\n      <td>NaN</td>\n      <td>NaN</td>\n      <td>NaN</td>\n      <td>NaN</td>\n      <td>NaN</td>\n      <td>NaN</td>\n      <td>NaN</td>\n      <td>NaN</td>\n    </tr>\n    <tr>\n      <th>5885</th>\n      <td>NaN</td>\n      <td>NaN</td>\n      <td>NaN</td>\n      <td>NaN</td>\n      <td>B07BMV9WJ4</td>\n      <td>April 10, 2018</td>\n      <td>ASRock Rack</td>\n      <td>NaN</td>\n      <td>3.3 pounds</td>\n      <td>NaN</td>\n      <td>...</td>\n      <td>NaN</td>\n      <td>DDR4 SDRAM</td>\n      <td>NaN</td>\n      <td>NaN</td>\n      <td>12 x 13 x 3 inches</td>\n      <td>NaN</td>\n      <td>NaN</td>\n      <td>NaN</td>\n      <td>NaN</td>\n      <td>No</td>\n    </tr>\n    <tr>\n      <th>5886</th>\n      <td>NaN</td>\n      <td>NaN</td>\n      <td>Windows</td>\n      <td>ESATA</td>\n      <td>NaN</td>\n      <td>NaN</td>\n      <td>NaN</td>\n      <td>NaN</td>\n      <td>5 pounds</td>\n      <td>NaN</td>\n      <td>...</td>\n      <td>NaN</td>\n      <td>DDR3L-1600 SDRAM</td>\n      <td>Intel</td>\n      <td>NaN</td>\n      <td>NaN</td>\n      <td>18 x 12 x 3 inches</td>\n      <td>NaN</td>\n      <td>NaN</td>\n      <td>PC</td>\n      <td>NaN</td>\n    </tr>\n    <tr>\n      <th>5887</th>\n      <td>NaN</td>\n      <td>NaN</td>\n      <td>NaN</td>\n      <td>NaN</td>\n      <td>B081R359ZM</td>\n      <td>November 22, 2019</td>\n      <td>Gigabyte</td>\n      <td>NaN</td>\n      <td>1.7 pounds</td>\n      <td>NaN</td>\n      <td>...</td>\n      <td>NaN</td>\n      <td>NaN</td>\n      <td>NaN</td>\n      <td>NaN</td>\n      <td>8.86 x 4.69 x 1.57 inches</td>\n      <td>NaN</td>\n      <td>NaN</td>\n      <td>NaN</td>\n      <td>NaN</td>\n      <td>NaN</td>\n    </tr>\n    <tr>\n      <th>5888</th>\n      <td>NaN</td>\n      <td>NaN</td>\n      <td>NaN</td>\n      <td>NaN</td>\n      <td>B07FKTSWNG</td>\n      <td>July 27, 2018</td>\n      <td>Asus</td>\n      <td>NaN</td>\n      <td>1 pounds</td>\n      <td>NaN</td>\n      <td>...</td>\n      <td>NaN</td>\n      <td>DDR4 SDRAM</td>\n      <td>NaN</td>\n      <td>NaN</td>\n      <td>8.9 x 7.3 x 3.7 inches</td>\n      <td>NaN</td>\n      <td>NaN</td>\n      <td>NaN</td>\n      <td>NaN</td>\n      <td>No</td>\n    </tr>\n  </tbody>\n</table>\n<p>5889 rows × 30 columns</p>\n</div>"
     },
     "metadata": {},
     "execution_count": 236
    }
   ],
   "source": [
    "other_tech_spec"
   ]
  },
  {
   "cell_type": "code",
   "execution_count": 237,
   "metadata": {},
   "outputs": [
    {
     "output_type": "execute_result",
     "data": {
      "text/plain": [
       "['Output Wattage',\n",
       " 'Processor Speed',\n",
       " 'Mixer Channel Quantity',\n",
       " 'Top Material',\n",
       " 'Item Weight',\n",
       " 'Customer Reviews',\n",
       " 'Domestic Shipping',\n",
       " 'Wireless communication technologies',\n",
       " 'Color Screen',\n",
       " 'Batteries',\n",
       " 'Item model number',\n",
       " 'Release date',\n",
       " 'Import Designation',\n",
       " 'Colour',\n",
       " 'OS',\n",
       " 'Battery Power Rating',\n",
       " 'Device interface - primary',\n",
       " 'Phone Standy Time (with data)',\n",
       " 'Display resolution',\n",
       " 'Additional Features',\n",
       " 'Processor Type',\n",
       " 'Hardware Interface',\n",
       " 'Battery type',\n",
       " 'Speaker Amplification Type',\n",
       " 'Batteries Required',\n",
       " 'RAM',\n",
       " 'GPS',\n",
       " 'Voltage',\n",
       " 'Supported Software',\n",
       " 'Scanner Resolution',\n",
       " 'Wattage',\n",
       " 'Percussion Diameter',\n",
       " 'Package Dimensions',\n",
       " 'Form Factor',\n",
       " 'Speaker Count',\n",
       " 'Specific Uses For Product',\n",
       " 'Department',\n",
       " 'Size',\n",
       " 'International Shipping',\n",
       " 'Manufacturer recommended age',\n",
       " 'ASIN',\n",
       " 'Binding',\n",
       " 'Number of Strings',\n",
       " 'Manufacturer',\n",
       " 'Material Type',\n",
       " 'Language:',\n",
       " 'Other display features',\n",
       " 'Connectivity technologies',\n",
       " 'Included Components',\n",
       " 'Processor Count',\n",
       " 'Rated',\n",
       " 'Phone Talk Time',\n",
       " 'Color Name',\n",
       " 'Processor Brand',\n",
       " 'Compatible Devices',\n",
       " 'Display technology',\n",
       " 'Mfg Recommended age',\n",
       " 'Hardware Platform',\n",
       " 'Musical Style',\n",
       " 'Date First Available',\n",
       " 'Wireless Microphone Frequency',\n",
       " 'Digital Audio Protocol',\n",
       " 'Body Material',\n",
       " 'Fretboard Material',\n",
       " 'Audio Jack',\n",
       " 'Other camera features',\n",
       " 'Back Material',\n",
       " 'Best Sellers Rank',\n",
       " 'Power Source',\n",
       " 'Pricing',\n",
       " 'National Stock Number',\n",
       " 'Product Dimensions',\n",
       " 'Connector Type',\n",
       " 'Neck Material Type',\n",
       " 'GPU',\n",
       " 'Is Discontinued By Manufacturer',\n",
       " 'Computer Platform']"
      ]
     },
     "metadata": {},
     "execution_count": 237
    }
   ],
   "source": [
    "columns=[]\n",
    "for i in range(processor.shape[0]):\n",
    "    try:\n",
    "        for j in processor.product_addl_info[i]:\n",
    "            columns.append(j[\"info\"])\n",
    "    except:\n",
    "        continue\n",
    "\n",
    "columns=list(set(columns))\n",
    "columns"
   ]
  },
  {
   "cell_type": "code",
   "execution_count": 238,
   "metadata": {},
   "outputs": [
    {
     "output_type": "execute_result",
     "data": {
      "text/plain": [
       "Empty DataFrame\n",
       "Columns: [Output Wattage, Processor Speed, Mixer Channel Quantity, Top Material, Item Weight, Customer Reviews, Domestic Shipping, Wireless communication technologies, Color Screen, Batteries, Item model number, Release date, Import Designation, Colour, OS, Battery Power Rating, Device interface - primary, Phone Standy Time (with data), Display resolution, Additional Features, Processor Type, Hardware Interface, Battery type, Speaker Amplification Type, Batteries Required, RAM, GPS, Voltage, Supported Software, Scanner Resolution, Wattage, Percussion Diameter, Package Dimensions, Form Factor, Speaker Count, Specific Uses For Product, Department, Size, International Shipping, Manufacturer recommended age, ASIN, Binding, Number of Strings, Manufacturer, Material Type, Language:, Other display features, Connectivity technologies, Included Components, Processor Count, Rated, Phone Talk Time, Color Name, Processor Brand, Compatible Devices, Display technology, Mfg Recommended age, Hardware Platform, Musical Style, Date First Available, Wireless Microphone Frequency, Digital Audio Protocol, Body Material, Fretboard Material, Audio Jack, Other camera features, Back Material, Best Sellers Rank, Power Source, Pricing, National Stock Number, Product Dimensions, Connector Type, Neck Material Type, GPU, Is Discontinued By Manufacturer, Computer Platform]\n",
       "Index: []\n",
       "\n",
       "[0 rows x 77 columns]"
      ],
      "text/html": "<div>\n<style scoped>\n    .dataframe tbody tr th:only-of-type {\n        vertical-align: middle;\n    }\n\n    .dataframe tbody tr th {\n        vertical-align: top;\n    }\n\n    .dataframe thead th {\n        text-align: right;\n    }\n</style>\n<table border=\"1\" class=\"dataframe\">\n  <thead>\n    <tr style=\"text-align: right;\">\n      <th></th>\n      <th>Output Wattage</th>\n      <th>Processor Speed</th>\n      <th>Mixer Channel Quantity</th>\n      <th>Top Material</th>\n      <th>Item Weight</th>\n      <th>Customer Reviews</th>\n      <th>Domestic Shipping</th>\n      <th>Wireless communication technologies</th>\n      <th>Color Screen</th>\n      <th>Batteries</th>\n      <th>...</th>\n      <th>Best Sellers Rank</th>\n      <th>Power Source</th>\n      <th>Pricing</th>\n      <th>National Stock Number</th>\n      <th>Product Dimensions</th>\n      <th>Connector Type</th>\n      <th>Neck Material Type</th>\n      <th>GPU</th>\n      <th>Is Discontinued By Manufacturer</th>\n      <th>Computer Platform</th>\n    </tr>\n  </thead>\n  <tbody>\n  </tbody>\n</table>\n<p>0 rows × 77 columns</p>\n</div>"
     },
     "metadata": {},
     "execution_count": 238
    }
   ],
   "source": [
    "product_addl_info = pd.DataFrame(columns=columns)\n",
    "product_addl_info"
   ]
  },
  {
   "cell_type": "code",
   "execution_count": 239,
   "metadata": {},
   "outputs": [],
   "source": [
    "for i in range(processor.shape[0]):\n",
    "    try:\n",
    "        for j in processor.product_addl_info[i]:\n",
    "            product_addl_info.loc[i,j[\"info\"]] = j[\"value\"]\n",
    "    except:\n",
    "        product_addl_info.loc[i,j[\"info\"]] = \"\"\n",
    "        continue"
   ]
  },
  {
   "cell_type": "code",
   "execution_count": 240,
   "metadata": {},
   "outputs": [
    {
     "output_type": "execute_result",
     "data": {
      "text/plain": [
       "     Output Wattage Processor Speed Mixer Channel Quantity Top Material  \\\n",
       "0               NaN             NaN                    NaN          NaN   \n",
       "1               NaN             NaN                    NaN          NaN   \n",
       "2               NaN             NaN                    NaN          NaN   \n",
       "3               NaN             NaN                    NaN          NaN   \n",
       "4               NaN             NaN                    NaN          NaN   \n",
       "...             ...             ...                    ...          ...   \n",
       "5884            NaN             NaN                    NaN          NaN   \n",
       "5885            NaN             NaN                    NaN          NaN   \n",
       "5886            NaN             NaN                    NaN          NaN   \n",
       "5887            NaN             NaN                    NaN          NaN   \n",
       "5888            NaN             NaN                    NaN          NaN   \n",
       "\n",
       "      Item Weight                                   Customer Reviews  \\\n",
       "0             NaN  /*\\n* Fix for UDP-1061. Average customer revie...   \n",
       "1             NaN  /*\\n* Fix for UDP-1061. Average customer revie...   \n",
       "2             NaN  /*\\n* Fix for UDP-1061. Average customer revie...   \n",
       "3             NaN  /*\\n* Fix for UDP-1061. Average customer revie...   \n",
       "4             NaN  /*\\n* Fix for UDP-1061. Average customer revie...   \n",
       "...           ...                                                ...   \n",
       "5884  3.98 ounces  /*\\n* Fix for UDP-1061. Average customer revie...   \n",
       "5885          NaN  /*\\n* Fix for UDP-1061. Average customer revie...   \n",
       "5886          NaN                                                NaN   \n",
       "5887          NaN  /*\\n* Fix for UDP-1061. Average customer revie...   \n",
       "5888          NaN  /*\\n* Fix for UDP-1061. Average customer revie...   \n",
       "\n",
       "     Domestic Shipping Wireless communication technologies Color Screen  \\\n",
       "0                  NaN                                 NaN          NaN   \n",
       "1                  NaN                                 NaN          NaN   \n",
       "2                  NaN                                 NaN          NaN   \n",
       "3                  NaN                                 NaN          NaN   \n",
       "4                  NaN                                 NaN          NaN   \n",
       "...                ...                                 ...          ...   \n",
       "5884               NaN                                 NaN          NaN   \n",
       "5885               NaN                                 NaN          NaN   \n",
       "5886               NaN                                 NaN          NaN   \n",
       "5887               NaN                                 NaN          NaN   \n",
       "5888               NaN                                 NaN          NaN   \n",
       "\n",
       "     Batteries  ...                                  Best Sellers Rank  \\\n",
       "0          NaN  ...                      #1 in Computer CPU Processors   \n",
       "1          NaN  ...                     #17 in Computer CPU Processors   \n",
       "2          NaN  ...                     #13 in Computer CPU Processors   \n",
       "3          NaN  ...                      #7 in Computer CPU Processors   \n",
       "4          NaN  ...  #290,502 in Computers & Accessories ( See Top ...   \n",
       "...        ...  ...                                                ...   \n",
       "5884       NaN  ...                     #62 in Internal USB Port Cards   \n",
       "5885       NaN  ...                    #2,254 in Computer Motherboards   \n",
       "5886       NaN  ...  #67,794 in Computers & Accessories ( See Top 1...   \n",
       "5887       NaN  ...                    #687 in Computer Graphics Cards   \n",
       "5888       NaN  ...                      #248 in Computer Motherboards   \n",
       "\n",
       "     Power Source Pricing National Stock Number Product Dimensions  \\\n",
       "0             NaN     NaN                   NaN                NaN   \n",
       "1             NaN     NaN                   NaN                NaN   \n",
       "2             NaN     NaN                   NaN                NaN   \n",
       "3             NaN     NaN                   NaN                NaN   \n",
       "4             NaN     NaN                   NaN                NaN   \n",
       "...           ...     ...                   ...                ...   \n",
       "5884          NaN     NaN                   NaN                NaN   \n",
       "5885          NaN     NaN                   NaN                NaN   \n",
       "5886          NaN     NaN                   NaN                NaN   \n",
       "5887          NaN     NaN                   NaN                NaN   \n",
       "5888          NaN     NaN                   NaN                NaN   \n",
       "\n",
       "     Connector Type Neck Material Type  GPU Is Discontinued By Manufacturer  \\\n",
       "0               NaN                NaN  NaN                             NaN   \n",
       "1               NaN                NaN  NaN                             NaN   \n",
       "2               NaN                NaN  NaN                             NaN   \n",
       "3               NaN                NaN  NaN                             NaN   \n",
       "4               NaN                NaN  NaN                             NaN   \n",
       "...             ...                ...  ...                             ...   \n",
       "5884            NaN                NaN  NaN                             NaN   \n",
       "5885            NaN                NaN  NaN                             NaN   \n",
       "5886            NaN                NaN  NaN                             NaN   \n",
       "5887            NaN                NaN  NaN                             NaN   \n",
       "5888            NaN                NaN  NaN                             NaN   \n",
       "\n",
       "     Computer Platform  \n",
       "0                  NaN  \n",
       "1                  NaN  \n",
       "2                  NaN  \n",
       "3                  NaN  \n",
       "4                  NaN  \n",
       "...                ...  \n",
       "5884               NaN  \n",
       "5885               NaN  \n",
       "5886               NaN  \n",
       "5887               NaN  \n",
       "5888               NaN  \n",
       "\n",
       "[5889 rows x 77 columns]"
      ],
      "text/html": "<div>\n<style scoped>\n    .dataframe tbody tr th:only-of-type {\n        vertical-align: middle;\n    }\n\n    .dataframe tbody tr th {\n        vertical-align: top;\n    }\n\n    .dataframe thead th {\n        text-align: right;\n    }\n</style>\n<table border=\"1\" class=\"dataframe\">\n  <thead>\n    <tr style=\"text-align: right;\">\n      <th></th>\n      <th>Output Wattage</th>\n      <th>Processor Speed</th>\n      <th>Mixer Channel Quantity</th>\n      <th>Top Material</th>\n      <th>Item Weight</th>\n      <th>Customer Reviews</th>\n      <th>Domestic Shipping</th>\n      <th>Wireless communication technologies</th>\n      <th>Color Screen</th>\n      <th>Batteries</th>\n      <th>...</th>\n      <th>Best Sellers Rank</th>\n      <th>Power Source</th>\n      <th>Pricing</th>\n      <th>National Stock Number</th>\n      <th>Product Dimensions</th>\n      <th>Connector Type</th>\n      <th>Neck Material Type</th>\n      <th>GPU</th>\n      <th>Is Discontinued By Manufacturer</th>\n      <th>Computer Platform</th>\n    </tr>\n  </thead>\n  <tbody>\n    <tr>\n      <th>0</th>\n      <td>NaN</td>\n      <td>NaN</td>\n      <td>NaN</td>\n      <td>NaN</td>\n      <td>NaN</td>\n      <td>/*\\n* Fix for UDP-1061. Average customer revie...</td>\n      <td>NaN</td>\n      <td>NaN</td>\n      <td>NaN</td>\n      <td>NaN</td>\n      <td>...</td>\n      <td>#1 in Computer CPU Processors</td>\n      <td>NaN</td>\n      <td>NaN</td>\n      <td>NaN</td>\n      <td>NaN</td>\n      <td>NaN</td>\n      <td>NaN</td>\n      <td>NaN</td>\n      <td>NaN</td>\n      <td>NaN</td>\n    </tr>\n    <tr>\n      <th>1</th>\n      <td>NaN</td>\n      <td>NaN</td>\n      <td>NaN</td>\n      <td>NaN</td>\n      <td>NaN</td>\n      <td>/*\\n* Fix for UDP-1061. Average customer revie...</td>\n      <td>NaN</td>\n      <td>NaN</td>\n      <td>NaN</td>\n      <td>NaN</td>\n      <td>...</td>\n      <td>#17 in Computer CPU Processors</td>\n      <td>NaN</td>\n      <td>NaN</td>\n      <td>NaN</td>\n      <td>NaN</td>\n      <td>NaN</td>\n      <td>NaN</td>\n      <td>NaN</td>\n      <td>NaN</td>\n      <td>NaN</td>\n    </tr>\n    <tr>\n      <th>2</th>\n      <td>NaN</td>\n      <td>NaN</td>\n      <td>NaN</td>\n      <td>NaN</td>\n      <td>NaN</td>\n      <td>/*\\n* Fix for UDP-1061. Average customer revie...</td>\n      <td>NaN</td>\n      <td>NaN</td>\n      <td>NaN</td>\n      <td>NaN</td>\n      <td>...</td>\n      <td>#13 in Computer CPU Processors</td>\n      <td>NaN</td>\n      <td>NaN</td>\n      <td>NaN</td>\n      <td>NaN</td>\n      <td>NaN</td>\n      <td>NaN</td>\n      <td>NaN</td>\n      <td>NaN</td>\n      <td>NaN</td>\n    </tr>\n    <tr>\n      <th>3</th>\n      <td>NaN</td>\n      <td>NaN</td>\n      <td>NaN</td>\n      <td>NaN</td>\n      <td>NaN</td>\n      <td>/*\\n* Fix for UDP-1061. Average customer revie...</td>\n      <td>NaN</td>\n      <td>NaN</td>\n      <td>NaN</td>\n      <td>NaN</td>\n      <td>...</td>\n      <td>#7 in Computer CPU Processors</td>\n      <td>NaN</td>\n      <td>NaN</td>\n      <td>NaN</td>\n      <td>NaN</td>\n      <td>NaN</td>\n      <td>NaN</td>\n      <td>NaN</td>\n      <td>NaN</td>\n      <td>NaN</td>\n    </tr>\n    <tr>\n      <th>4</th>\n      <td>NaN</td>\n      <td>NaN</td>\n      <td>NaN</td>\n      <td>NaN</td>\n      <td>NaN</td>\n      <td>/*\\n* Fix for UDP-1061. Average customer revie...</td>\n      <td>NaN</td>\n      <td>NaN</td>\n      <td>NaN</td>\n      <td>NaN</td>\n      <td>...</td>\n      <td>#290,502 in Computers &amp; Accessories ( See Top ...</td>\n      <td>NaN</td>\n      <td>NaN</td>\n      <td>NaN</td>\n      <td>NaN</td>\n      <td>NaN</td>\n      <td>NaN</td>\n      <td>NaN</td>\n      <td>NaN</td>\n      <td>NaN</td>\n    </tr>\n    <tr>\n      <th>...</th>\n      <td>...</td>\n      <td>...</td>\n      <td>...</td>\n      <td>...</td>\n      <td>...</td>\n      <td>...</td>\n      <td>...</td>\n      <td>...</td>\n      <td>...</td>\n      <td>...</td>\n      <td>...</td>\n      <td>...</td>\n      <td>...</td>\n      <td>...</td>\n      <td>...</td>\n      <td>...</td>\n      <td>...</td>\n      <td>...</td>\n      <td>...</td>\n      <td>...</td>\n      <td>...</td>\n    </tr>\n    <tr>\n      <th>5884</th>\n      <td>NaN</td>\n      <td>NaN</td>\n      <td>NaN</td>\n      <td>NaN</td>\n      <td>3.98 ounces</td>\n      <td>/*\\n* Fix for UDP-1061. Average customer revie...</td>\n      <td>NaN</td>\n      <td>NaN</td>\n      <td>NaN</td>\n      <td>NaN</td>\n      <td>...</td>\n      <td>#62 in Internal USB Port Cards</td>\n      <td>NaN</td>\n      <td>NaN</td>\n      <td>NaN</td>\n      <td>NaN</td>\n      <td>NaN</td>\n      <td>NaN</td>\n      <td>NaN</td>\n      <td>NaN</td>\n      <td>NaN</td>\n    </tr>\n    <tr>\n      <th>5885</th>\n      <td>NaN</td>\n      <td>NaN</td>\n      <td>NaN</td>\n      <td>NaN</td>\n      <td>NaN</td>\n      <td>/*\\n* Fix for UDP-1061. Average customer revie...</td>\n      <td>NaN</td>\n      <td>NaN</td>\n      <td>NaN</td>\n      <td>NaN</td>\n      <td>...</td>\n      <td>#2,254 in Computer Motherboards</td>\n      <td>NaN</td>\n      <td>NaN</td>\n      <td>NaN</td>\n      <td>NaN</td>\n      <td>NaN</td>\n      <td>NaN</td>\n      <td>NaN</td>\n      <td>NaN</td>\n      <td>NaN</td>\n    </tr>\n    <tr>\n      <th>5886</th>\n      <td>NaN</td>\n      <td>NaN</td>\n      <td>NaN</td>\n      <td>NaN</td>\n      <td>NaN</td>\n      <td>NaN</td>\n      <td>NaN</td>\n      <td>NaN</td>\n      <td>NaN</td>\n      <td>NaN</td>\n      <td>...</td>\n      <td>#67,794 in Computers &amp; Accessories ( See Top 1...</td>\n      <td>NaN</td>\n      <td>NaN</td>\n      <td>NaN</td>\n      <td>NaN</td>\n      <td>NaN</td>\n      <td>NaN</td>\n      <td>NaN</td>\n      <td>NaN</td>\n      <td>NaN</td>\n    </tr>\n    <tr>\n      <th>5887</th>\n      <td>NaN</td>\n      <td>NaN</td>\n      <td>NaN</td>\n      <td>NaN</td>\n      <td>NaN</td>\n      <td>/*\\n* Fix for UDP-1061. Average customer revie...</td>\n      <td>NaN</td>\n      <td>NaN</td>\n      <td>NaN</td>\n      <td>NaN</td>\n      <td>...</td>\n      <td>#687 in Computer Graphics Cards</td>\n      <td>NaN</td>\n      <td>NaN</td>\n      <td>NaN</td>\n      <td>NaN</td>\n      <td>NaN</td>\n      <td>NaN</td>\n      <td>NaN</td>\n      <td>NaN</td>\n      <td>NaN</td>\n    </tr>\n    <tr>\n      <th>5888</th>\n      <td>NaN</td>\n      <td>NaN</td>\n      <td>NaN</td>\n      <td>NaN</td>\n      <td>NaN</td>\n      <td>/*\\n* Fix for UDP-1061. Average customer revie...</td>\n      <td>NaN</td>\n      <td>NaN</td>\n      <td>NaN</td>\n      <td>NaN</td>\n      <td>...</td>\n      <td>#248 in Computer Motherboards</td>\n      <td>NaN</td>\n      <td>NaN</td>\n      <td>NaN</td>\n      <td>NaN</td>\n      <td>NaN</td>\n      <td>NaN</td>\n      <td>NaN</td>\n      <td>NaN</td>\n      <td>NaN</td>\n    </tr>\n  </tbody>\n</table>\n<p>5889 rows × 77 columns</p>\n</div>"
     },
     "metadata": {},
     "execution_count": 240
    }
   ],
   "source": [
    "product_addl_info"
   ]
  },
  {
   "cell_type": "code",
   "execution_count": 241,
   "metadata": {},
   "outputs": [
    {
     "output_type": "execute_result",
     "data": {
      "text/plain": [
       "                                                   name Output Wattage  \\\n",
       "0     AMD Ryzen 5 3600 6-Core, 12-Thread Unlocked De...            NaN   \n",
       "1     AMD Ryzen 5 2600 Processor with Wraith Stealth...            NaN   \n",
       "2     Intel Core i9-9900K Desktop Processor 8 Cores ...            NaN   \n",
       "3     Intel Core i7-9700K Desktop Processor 8 Cores ...            NaN   \n",
       "4     Industrial Rugged Fanless Silent Mini PC Compu...            NaN   \n",
       "...                                                 ...            ...   \n",
       "5884  YEELIYA PCIe USB 3.0 Card Type C USB Card Supe...            NaN   \n",
       "5885  ASRock B360 Gaming K4 LGA1151/Intel B360/DDR4/...            NaN   \n",
       "5886  Used Like New Notebook Thinkpad T460 Ultrabook...            NaN   \n",
       "5887  Gigabyte Gv-N165SWF2OC-4GD GeForce GTX 1650 Su...            NaN   \n",
       "5888  ASUS ROG Strix B450-I Gaming AMD AM4 (3rd/2nd ...            NaN   \n",
       "\n",
       "     Model number Item Package Quantity Warranty Assembled Width Item Weight  \\\n",
       "0             NaN                   NaN      NaN             NaN  1.6 ounces   \n",
       "1             NaN                   NaN      NaN             NaN         NaN   \n",
       "2             NaN                   NaN      NaN             NaN  3.2 ounces   \n",
       "3             NaN                   NaN      NaN             NaN         NaN   \n",
       "4             NaN                   NaN      NaN             NaN         NaN   \n",
       "...           ...                   ...      ...             ...         ...   \n",
       "5884          NaN                   NaN      NaN             NaN         NaN   \n",
       "5885          NaN                   NaN      NaN             NaN         NaN   \n",
       "5886          NaN                   NaN      NaN             NaN         NaN   \n",
       "5887          NaN                   NaN      NaN             NaN         NaN   \n",
       "5888          NaN                   NaN      NaN             NaN         NaN   \n",
       "\n",
       "     Batteries Included? Special Features Standing screen display size  ...  \\\n",
       "0                    NaN              NaN                          NaN  ...   \n",
       "1                    NaN              NaN                          NaN  ...   \n",
       "2                    NaN              NaN                          NaN  ...   \n",
       "3                    NaN              NaN                          NaN  ...   \n",
       "4                    NaN              NaN                          NaN  ...   \n",
       "...                  ...              ...                          ...  ...   \n",
       "5884                 NaN              NaN                          NaN  ...   \n",
       "5885                 NaN              NaN                          NaN  ...   \n",
       "5886                 NaN              NaN                  14.1 Inches  ...   \n",
       "5887                 NaN              NaN                          NaN  ...   \n",
       "5888                 NaN              NaN                          NaN  ...   \n",
       "\n",
       "     National Stock Number Product Dimensions Connector Type  \\\n",
       "0                      NaN                NaN            NaN   \n",
       "1                      NaN                NaN            NaN   \n",
       "2                      NaN                NaN            NaN   \n",
       "3                      NaN                NaN            NaN   \n",
       "4                      NaN                NaN            NaN   \n",
       "...                    ...                ...            ...   \n",
       "5884                   NaN                NaN            NaN   \n",
       "5885                   NaN                NaN            NaN   \n",
       "5886                   NaN                NaN            NaN   \n",
       "5887                   NaN                NaN            NaN   \n",
       "5888                   NaN                NaN            NaN   \n",
       "\n",
       "     Neck Material Type  GPU Is Discontinued By Manufacturer  \\\n",
       "0                   NaN  NaN                             NaN   \n",
       "1                   NaN  NaN                             NaN   \n",
       "2                   NaN  NaN                             NaN   \n",
       "3                   NaN  NaN                             NaN   \n",
       "4                   NaN  NaN                             NaN   \n",
       "...                 ...  ...                             ...   \n",
       "5884                NaN  NaN                             NaN   \n",
       "5885                NaN  NaN                             NaN   \n",
       "5886                NaN  NaN                             NaN   \n",
       "5887                NaN  NaN                             NaN   \n",
       "5888                NaN  NaN                             NaN   \n",
       "\n",
       "     Computer Platform                                               name  \\\n",
       "0                  NaN  AMD Ryzen 5 3600 6-Core, 12-Thread Unlocked De...   \n",
       "1                  NaN  AMD Ryzen 5 2600 Processor with Wraith Stealth...   \n",
       "2                  NaN  Intel Core i9-9900K Desktop Processor 8 Cores ...   \n",
       "3                  NaN  Intel Core i7-9700K Desktop Processor 8 Cores ...   \n",
       "4                  NaN  Industrial Rugged Fanless Silent Mini PC Compu...   \n",
       "...                ...                                                ...   \n",
       "5884               NaN  YEELIYA PCIe USB 3.0 Card Type C USB Card Supe...   \n",
       "5885               NaN  ASRock B360 Gaming K4 LGA1151/Intel B360/DDR4/...   \n",
       "5886               NaN  Used Like New Notebook Thinkpad T460 Ultrabook...   \n",
       "5887               NaN  Gigabyte Gv-N165SWF2OC-4GD GeForce GTX 1650 Su...   \n",
       "5888               NaN  ASUS ROG Strix B450-I Gaming AMD AM4 (3rd/2nd ...   \n",
       "\n",
       "                     seller                                        seller_link  \n",
       "0                      None                                               None  \n",
       "1                      None                                               None  \n",
       "2                 DealsPro1  https://www.amazon.com/gp/help/seller/at-a-gla...  \n",
       "3                      None                                               None  \n",
       "4     Critical Products LLC  https://www.amazon.com/gp/help/seller/at-a-gla...  \n",
       "...                     ...                                                ...  \n",
       "5884                Yeeliya  https://www.amazon.com/gp/help/seller/at-a-gla...  \n",
       "5885                   None                                               None  \n",
       "5886                   None                                               None  \n",
       "5887                   None                                               None  \n",
       "5888              DIO Japan  https://www.amazon.com/gp/help/seller/at-a-gla...  \n",
       "\n",
       "[5889 rows x 192 columns]"
      ],
      "text/html": "<div>\n<style scoped>\n    .dataframe tbody tr th:only-of-type {\n        vertical-align: middle;\n    }\n\n    .dataframe tbody tr th {\n        vertical-align: top;\n    }\n\n    .dataframe thead th {\n        text-align: right;\n    }\n</style>\n<table border=\"1\" class=\"dataframe\">\n  <thead>\n    <tr style=\"text-align: right;\">\n      <th></th>\n      <th>name</th>\n      <th>Output Wattage</th>\n      <th>Model number</th>\n      <th>Item Package Quantity</th>\n      <th>Warranty</th>\n      <th>Assembled Width</th>\n      <th>Item Weight</th>\n      <th>Batteries Included?</th>\n      <th>Special Features</th>\n      <th>Standing screen display size</th>\n      <th>...</th>\n      <th>National Stock Number</th>\n      <th>Product Dimensions</th>\n      <th>Connector Type</th>\n      <th>Neck Material Type</th>\n      <th>GPU</th>\n      <th>Is Discontinued By Manufacturer</th>\n      <th>Computer Platform</th>\n      <th>name</th>\n      <th>seller</th>\n      <th>seller_link</th>\n    </tr>\n  </thead>\n  <tbody>\n    <tr>\n      <th>0</th>\n      <td>AMD Ryzen 5 3600 6-Core, 12-Thread Unlocked De...</td>\n      <td>NaN</td>\n      <td>NaN</td>\n      <td>NaN</td>\n      <td>NaN</td>\n      <td>NaN</td>\n      <td>1.6 ounces</td>\n      <td>NaN</td>\n      <td>NaN</td>\n      <td>NaN</td>\n      <td>...</td>\n      <td>NaN</td>\n      <td>NaN</td>\n      <td>NaN</td>\n      <td>NaN</td>\n      <td>NaN</td>\n      <td>NaN</td>\n      <td>NaN</td>\n      <td>AMD Ryzen 5 3600 6-Core, 12-Thread Unlocked De...</td>\n      <td>None</td>\n      <td>None</td>\n    </tr>\n    <tr>\n      <th>1</th>\n      <td>AMD Ryzen 5 2600 Processor with Wraith Stealth...</td>\n      <td>NaN</td>\n      <td>NaN</td>\n      <td>NaN</td>\n      <td>NaN</td>\n      <td>NaN</td>\n      <td>NaN</td>\n      <td>NaN</td>\n      <td>NaN</td>\n      <td>NaN</td>\n      <td>...</td>\n      <td>NaN</td>\n      <td>NaN</td>\n      <td>NaN</td>\n      <td>NaN</td>\n      <td>NaN</td>\n      <td>NaN</td>\n      <td>NaN</td>\n      <td>AMD Ryzen 5 2600 Processor with Wraith Stealth...</td>\n      <td>None</td>\n      <td>None</td>\n    </tr>\n    <tr>\n      <th>2</th>\n      <td>Intel Core i9-9900K Desktop Processor 8 Cores ...</td>\n      <td>NaN</td>\n      <td>NaN</td>\n      <td>NaN</td>\n      <td>NaN</td>\n      <td>NaN</td>\n      <td>3.2 ounces</td>\n      <td>NaN</td>\n      <td>NaN</td>\n      <td>NaN</td>\n      <td>...</td>\n      <td>NaN</td>\n      <td>NaN</td>\n      <td>NaN</td>\n      <td>NaN</td>\n      <td>NaN</td>\n      <td>NaN</td>\n      <td>NaN</td>\n      <td>Intel Core i9-9900K Desktop Processor 8 Cores ...</td>\n      <td>DealsPro1</td>\n      <td>https://www.amazon.com/gp/help/seller/at-a-gla...</td>\n    </tr>\n    <tr>\n      <th>3</th>\n      <td>Intel Core i7-9700K Desktop Processor 8 Cores ...</td>\n      <td>NaN</td>\n      <td>NaN</td>\n      <td>NaN</td>\n      <td>NaN</td>\n      <td>NaN</td>\n      <td>NaN</td>\n      <td>NaN</td>\n      <td>NaN</td>\n      <td>NaN</td>\n      <td>...</td>\n      <td>NaN</td>\n      <td>NaN</td>\n      <td>NaN</td>\n      <td>NaN</td>\n      <td>NaN</td>\n      <td>NaN</td>\n      <td>NaN</td>\n      <td>Intel Core i7-9700K Desktop Processor 8 Cores ...</td>\n      <td>None</td>\n      <td>None</td>\n    </tr>\n    <tr>\n      <th>4</th>\n      <td>Industrial Rugged Fanless Silent Mini PC Compu...</td>\n      <td>NaN</td>\n      <td>NaN</td>\n      <td>NaN</td>\n      <td>NaN</td>\n      <td>NaN</td>\n      <td>NaN</td>\n      <td>NaN</td>\n      <td>NaN</td>\n      <td>NaN</td>\n      <td>...</td>\n      <td>NaN</td>\n      <td>NaN</td>\n      <td>NaN</td>\n      <td>NaN</td>\n      <td>NaN</td>\n      <td>NaN</td>\n      <td>NaN</td>\n      <td>Industrial Rugged Fanless Silent Mini PC Compu...</td>\n      <td>Critical Products LLC</td>\n      <td>https://www.amazon.com/gp/help/seller/at-a-gla...</td>\n    </tr>\n    <tr>\n      <th>...</th>\n      <td>...</td>\n      <td>...</td>\n      <td>...</td>\n      <td>...</td>\n      <td>...</td>\n      <td>...</td>\n      <td>...</td>\n      <td>...</td>\n      <td>...</td>\n      <td>...</td>\n      <td>...</td>\n      <td>...</td>\n      <td>...</td>\n      <td>...</td>\n      <td>...</td>\n      <td>...</td>\n      <td>...</td>\n      <td>...</td>\n      <td>...</td>\n      <td>...</td>\n      <td>...</td>\n    </tr>\n    <tr>\n      <th>5884</th>\n      <td>YEELIYA PCIe USB 3.0 Card Type C USB Card Supe...</td>\n      <td>NaN</td>\n      <td>NaN</td>\n      <td>NaN</td>\n      <td>NaN</td>\n      <td>NaN</td>\n      <td>NaN</td>\n      <td>NaN</td>\n      <td>NaN</td>\n      <td>NaN</td>\n      <td>...</td>\n      <td>NaN</td>\n      <td>NaN</td>\n      <td>NaN</td>\n      <td>NaN</td>\n      <td>NaN</td>\n      <td>NaN</td>\n      <td>NaN</td>\n      <td>YEELIYA PCIe USB 3.0 Card Type C USB Card Supe...</td>\n      <td>Yeeliya</td>\n      <td>https://www.amazon.com/gp/help/seller/at-a-gla...</td>\n    </tr>\n    <tr>\n      <th>5885</th>\n      <td>ASRock B360 Gaming K4 LGA1151/Intel B360/DDR4/...</td>\n      <td>NaN</td>\n      <td>NaN</td>\n      <td>NaN</td>\n      <td>NaN</td>\n      <td>NaN</td>\n      <td>NaN</td>\n      <td>NaN</td>\n      <td>NaN</td>\n      <td>NaN</td>\n      <td>...</td>\n      <td>NaN</td>\n      <td>NaN</td>\n      <td>NaN</td>\n      <td>NaN</td>\n      <td>NaN</td>\n      <td>NaN</td>\n      <td>NaN</td>\n      <td>ASRock B360 Gaming K4 LGA1151/Intel B360/DDR4/...</td>\n      <td>None</td>\n      <td>None</td>\n    </tr>\n    <tr>\n      <th>5886</th>\n      <td>Used Like New Notebook Thinkpad T460 Ultrabook...</td>\n      <td>NaN</td>\n      <td>NaN</td>\n      <td>NaN</td>\n      <td>NaN</td>\n      <td>NaN</td>\n      <td>NaN</td>\n      <td>NaN</td>\n      <td>NaN</td>\n      <td>14.1 Inches</td>\n      <td>...</td>\n      <td>NaN</td>\n      <td>NaN</td>\n      <td>NaN</td>\n      <td>NaN</td>\n      <td>NaN</td>\n      <td>NaN</td>\n      <td>NaN</td>\n      <td>Used Like New Notebook Thinkpad T460 Ultrabook...</td>\n      <td>None</td>\n      <td>None</td>\n    </tr>\n    <tr>\n      <th>5887</th>\n      <td>Gigabyte Gv-N165SWF2OC-4GD GeForce GTX 1650 Su...</td>\n      <td>NaN</td>\n      <td>NaN</td>\n      <td>NaN</td>\n      <td>NaN</td>\n      <td>NaN</td>\n      <td>NaN</td>\n      <td>NaN</td>\n      <td>NaN</td>\n      <td>NaN</td>\n      <td>...</td>\n      <td>NaN</td>\n      <td>NaN</td>\n      <td>NaN</td>\n      <td>NaN</td>\n      <td>NaN</td>\n      <td>NaN</td>\n      <td>NaN</td>\n      <td>Gigabyte Gv-N165SWF2OC-4GD GeForce GTX 1650 Su...</td>\n      <td>None</td>\n      <td>None</td>\n    </tr>\n    <tr>\n      <th>5888</th>\n      <td>ASUS ROG Strix B450-I Gaming AMD AM4 (3rd/2nd ...</td>\n      <td>NaN</td>\n      <td>NaN</td>\n      <td>NaN</td>\n      <td>NaN</td>\n      <td>NaN</td>\n      <td>NaN</td>\n      <td>NaN</td>\n      <td>NaN</td>\n      <td>NaN</td>\n      <td>...</td>\n      <td>NaN</td>\n      <td>NaN</td>\n      <td>NaN</td>\n      <td>NaN</td>\n      <td>NaN</td>\n      <td>NaN</td>\n      <td>NaN</td>\n      <td>ASUS ROG Strix B450-I Gaming AMD AM4 (3rd/2nd ...</td>\n      <td>DIO Japan</td>\n      <td>https://www.amazon.com/gp/help/seller/at-a-gla...</td>\n    </tr>\n  </tbody>\n</table>\n<p>5889 rows × 192 columns</p>\n</div>"
     },
     "metadata": {},
     "execution_count": 241
    }
   ],
   "source": [
    "new_processor= pd.concat([pd.DataFrame(processor.name),product_tech_spec,other_tech_spec,product_addl_info,pd.DataFrame(processor.name),pd.DataFrame(processor.seller),pd.DataFrame(processor.seller_link)], axis=1)\n",
    "new_processor"
   ]
  },
  {
   "cell_type": "code",
   "execution_count": 242,
   "metadata": {},
   "outputs": [
    {
     "output_type": "execute_result",
     "data": {
      "text/plain": [
       "            ASIN Additional Features Assembled Height Assembled Length  \\\n",
       "0     B07STGGQ18                 NaN              NaN              NaN   \n",
       "1     B07B41WS48                 NaN              NaN              NaN   \n",
       "2     B089J731BX                 NaN              NaN              NaN   \n",
       "3     B07HHN6KBZ                 NaN              NaN              NaN   \n",
       "4     B08BKRZB4Z                 NaN              NaN              NaN   \n",
       "...          ...                 ...              ...              ...   \n",
       "5884  B08GC6VFF2                 NaN              NaN              NaN   \n",
       "5885  B07BMV9WJ4                 NaN              NaN              NaN   \n",
       "5886  B08L6HXX2R                 NaN              NaN              NaN   \n",
       "5887  B081R359ZM                 NaN              NaN              NaN   \n",
       "5888  B07FKTSWNG                 NaN              NaN              NaN   \n",
       "\n",
       "     Assembled Width Audio Jack Audio-out Ports (#)  \\\n",
       "0                NaN        NaN                 NaN   \n",
       "1                NaN        NaN                 NaN   \n",
       "2                NaN        NaN                 NaN   \n",
       "3                NaN        NaN                 NaN   \n",
       "4                NaN        NaN                 NaN   \n",
       "...              ...        ...                 ...   \n",
       "5884             NaN        NaN                 NaN   \n",
       "5885             NaN        NaN                 NaN   \n",
       "5886             NaN        NaN                 NaN   \n",
       "5887             NaN        NaN                 NaN   \n",
       "5888             NaN        NaN                 NaN   \n",
       "\n",
       "     Average Battery Life (in hours) Back Material  \\\n",
       "0                                NaN           NaN   \n",
       "1                                NaN           NaN   \n",
       "2                                NaN           NaN   \n",
       "3                                NaN           NaN   \n",
       "4                                NaN           NaN   \n",
       "...                              ...           ...   \n",
       "5884                             NaN           NaN   \n",
       "5885                             NaN           NaN   \n",
       "5886                             NaN           NaN   \n",
       "5887                             NaN           NaN   \n",
       "5888                             NaN           NaN   \n",
       "\n",
       "                                         Batteries  ... Warranty Description  \\\n",
       "0                                              NaN  ...                  NaN   \n",
       "1                                              NaN  ...                  NaN   \n",
       "2                                              NaN  ...                  NaN   \n",
       "3                                              NaN  ...                  NaN   \n",
       "4                                              NaN  ...                  NaN   \n",
       "...                                            ...  ...                  ...   \n",
       "5884                                                ...                  NaN   \n",
       "5885                                           NaN  ...                  NaN   \n",
       "5886  1 Lithium ion batteries required. (included)  ...                  NaN   \n",
       "5887                                           NaN  ...                  NaN   \n",
       "5888                                           NaN  ...                  NaN   \n",
       "\n",
       "     Wattage Weight Wireless Microphone Frequency Wireless Remote  \\\n",
       "0        NaN    NaN                           NaN             NaN   \n",
       "1        NaN    NaN                           NaN             NaN   \n",
       "2        NaN    NaN                           NaN             NaN   \n",
       "3        NaN    NaN                           NaN             NaN   \n",
       "4        NaN    NaN                           NaN             NaN   \n",
       "...      ...    ...                           ...             ...   \n",
       "5884     NaN    NaN                           NaN             NaN   \n",
       "5885     NaN    NaN                           NaN             NaN   \n",
       "5886     NaN    NaN                           NaN             NaN   \n",
       "5887     NaN    NaN                           NaN             NaN   \n",
       "5888     NaN    NaN                           NaN             NaN   \n",
       "\n",
       "                    Wireless Type Wireless communication technologies  \\\n",
       "0                             NaN                                 NaN   \n",
       "1                         802.11a                                 NaN   \n",
       "2                             NaN                                 NaN   \n",
       "3                             NaN                                 NaN   \n",
       "4                             NaN                                 NaN   \n",
       "...                           ...                                 ...   \n",
       "5884                          NaN                                 NaN   \n",
       "5885                    Bluetooth                                 NaN   \n",
       "5886                     802.11ac                                 NaN   \n",
       "5887                          NaN                                 NaN   \n",
       "5888  802.11a/b/g/n/ac, Bluetooth                                 NaN   \n",
       "\n",
       "                                                   name  \\\n",
       "0     AMD Ryzen 5 3600 6-Core, 12-Thread Unlocked De...   \n",
       "1     AMD Ryzen 5 2600 Processor with Wraith Stealth...   \n",
       "2     Intel Core i9-9900K Desktop Processor 8 Cores ...   \n",
       "3     Intel Core i7-9700K Desktop Processor 8 Cores ...   \n",
       "4     Industrial Rugged Fanless Silent Mini PC Compu...   \n",
       "...                                                 ...   \n",
       "5884  YEELIYA PCIe USB 3.0 Card Type C USB Card Supe...   \n",
       "5885  ASRock B360 Gaming K4 LGA1151/Intel B360/DDR4/...   \n",
       "5886  Used Like New Notebook Thinkpad T460 Ultrabook...   \n",
       "5887  Gigabyte Gv-N165SWF2OC-4GD GeForce GTX 1650 Su...   \n",
       "5888  ASUS ROG Strix B450-I Gaming AMD AM4 (3rd/2nd ...   \n",
       "\n",
       "                     seller                                        seller_link  \n",
       "0                      None                                               None  \n",
       "1                      None                                               None  \n",
       "2                 DealsPro1  https://www.amazon.com/gp/help/seller/at-a-gla...  \n",
       "3                      None                                               None  \n",
       "4     Critical Products LLC  https://www.amazon.com/gp/help/seller/at-a-gla...  \n",
       "...                     ...                                                ...  \n",
       "5884                Yeeliya  https://www.amazon.com/gp/help/seller/at-a-gla...  \n",
       "5885                   None                                               None  \n",
       "5886                   None                                               None  \n",
       "5887                   None                                               None  \n",
       "5888              DIO Japan  https://www.amazon.com/gp/help/seller/at-a-gla...  \n",
       "\n",
       "[5889 rows x 141 columns]"
      ],
      "text/html": "<div>\n<style scoped>\n    .dataframe tbody tr th:only-of-type {\n        vertical-align: middle;\n    }\n\n    .dataframe tbody tr th {\n        vertical-align: top;\n    }\n\n    .dataframe thead th {\n        text-align: right;\n    }\n</style>\n<table border=\"1\" class=\"dataframe\">\n  <thead>\n    <tr style=\"text-align: right;\">\n      <th></th>\n      <th>ASIN</th>\n      <th>Additional Features</th>\n      <th>Assembled Height</th>\n      <th>Assembled Length</th>\n      <th>Assembled Width</th>\n      <th>Audio Jack</th>\n      <th>Audio-out Ports (#)</th>\n      <th>Average Battery Life (in hours)</th>\n      <th>Back Material</th>\n      <th>Batteries</th>\n      <th>...</th>\n      <th>Warranty Description</th>\n      <th>Wattage</th>\n      <th>Weight</th>\n      <th>Wireless Microphone Frequency</th>\n      <th>Wireless Remote</th>\n      <th>Wireless Type</th>\n      <th>Wireless communication technologies</th>\n      <th>name</th>\n      <th>seller</th>\n      <th>seller_link</th>\n    </tr>\n  </thead>\n  <tbody>\n    <tr>\n      <th>0</th>\n      <td>B07STGGQ18</td>\n      <td>NaN</td>\n      <td>NaN</td>\n      <td>NaN</td>\n      <td>NaN</td>\n      <td>NaN</td>\n      <td>NaN</td>\n      <td>NaN</td>\n      <td>NaN</td>\n      <td>NaN</td>\n      <td>...</td>\n      <td>NaN</td>\n      <td>NaN</td>\n      <td>NaN</td>\n      <td>NaN</td>\n      <td>NaN</td>\n      <td>NaN</td>\n      <td>NaN</td>\n      <td>AMD Ryzen 5 3600 6-Core, 12-Thread Unlocked De...</td>\n      <td>None</td>\n      <td>None</td>\n    </tr>\n    <tr>\n      <th>1</th>\n      <td>B07B41WS48</td>\n      <td>NaN</td>\n      <td>NaN</td>\n      <td>NaN</td>\n      <td>NaN</td>\n      <td>NaN</td>\n      <td>NaN</td>\n      <td>NaN</td>\n      <td>NaN</td>\n      <td>NaN</td>\n      <td>...</td>\n      <td>NaN</td>\n      <td>NaN</td>\n      <td>NaN</td>\n      <td>NaN</td>\n      <td>NaN</td>\n      <td>802.11a</td>\n      <td>NaN</td>\n      <td>AMD Ryzen 5 2600 Processor with Wraith Stealth...</td>\n      <td>None</td>\n      <td>None</td>\n    </tr>\n    <tr>\n      <th>2</th>\n      <td>B089J731BX</td>\n      <td>NaN</td>\n      <td>NaN</td>\n      <td>NaN</td>\n      <td>NaN</td>\n      <td>NaN</td>\n      <td>NaN</td>\n      <td>NaN</td>\n      <td>NaN</td>\n      <td>NaN</td>\n      <td>...</td>\n      <td>NaN</td>\n      <td>NaN</td>\n      <td>NaN</td>\n      <td>NaN</td>\n      <td>NaN</td>\n      <td>NaN</td>\n      <td>NaN</td>\n      <td>Intel Core i9-9900K Desktop Processor 8 Cores ...</td>\n      <td>DealsPro1</td>\n      <td>https://www.amazon.com/gp/help/seller/at-a-gla...</td>\n    </tr>\n    <tr>\n      <th>3</th>\n      <td>B07HHN6KBZ</td>\n      <td>NaN</td>\n      <td>NaN</td>\n      <td>NaN</td>\n      <td>NaN</td>\n      <td>NaN</td>\n      <td>NaN</td>\n      <td>NaN</td>\n      <td>NaN</td>\n      <td>NaN</td>\n      <td>...</td>\n      <td>NaN</td>\n      <td>NaN</td>\n      <td>NaN</td>\n      <td>NaN</td>\n      <td>NaN</td>\n      <td>NaN</td>\n      <td>NaN</td>\n      <td>Intel Core i7-9700K Desktop Processor 8 Cores ...</td>\n      <td>None</td>\n      <td>None</td>\n    </tr>\n    <tr>\n      <th>4</th>\n      <td>B08BKRZB4Z</td>\n      <td>NaN</td>\n      <td>NaN</td>\n      <td>NaN</td>\n      <td>NaN</td>\n      <td>NaN</td>\n      <td>NaN</td>\n      <td>NaN</td>\n      <td>NaN</td>\n      <td>NaN</td>\n      <td>...</td>\n      <td>NaN</td>\n      <td>NaN</td>\n      <td>NaN</td>\n      <td>NaN</td>\n      <td>NaN</td>\n      <td>NaN</td>\n      <td>NaN</td>\n      <td>Industrial Rugged Fanless Silent Mini PC Compu...</td>\n      <td>Critical Products LLC</td>\n      <td>https://www.amazon.com/gp/help/seller/at-a-gla...</td>\n    </tr>\n    <tr>\n      <th>...</th>\n      <td>...</td>\n      <td>...</td>\n      <td>...</td>\n      <td>...</td>\n      <td>...</td>\n      <td>...</td>\n      <td>...</td>\n      <td>...</td>\n      <td>...</td>\n      <td>...</td>\n      <td>...</td>\n      <td>...</td>\n      <td>...</td>\n      <td>...</td>\n      <td>...</td>\n      <td>...</td>\n      <td>...</td>\n      <td>...</td>\n      <td>...</td>\n      <td>...</td>\n      <td>...</td>\n    </tr>\n    <tr>\n      <th>5884</th>\n      <td>B08GC6VFF2</td>\n      <td>NaN</td>\n      <td>NaN</td>\n      <td>NaN</td>\n      <td>NaN</td>\n      <td>NaN</td>\n      <td>NaN</td>\n      <td>NaN</td>\n      <td>NaN</td>\n      <td></td>\n      <td>...</td>\n      <td>NaN</td>\n      <td>NaN</td>\n      <td>NaN</td>\n      <td>NaN</td>\n      <td>NaN</td>\n      <td>NaN</td>\n      <td>NaN</td>\n      <td>YEELIYA PCIe USB 3.0 Card Type C USB Card Supe...</td>\n      <td>Yeeliya</td>\n      <td>https://www.amazon.com/gp/help/seller/at-a-gla...</td>\n    </tr>\n    <tr>\n      <th>5885</th>\n      <td>B07BMV9WJ4</td>\n      <td>NaN</td>\n      <td>NaN</td>\n      <td>NaN</td>\n      <td>NaN</td>\n      <td>NaN</td>\n      <td>NaN</td>\n      <td>NaN</td>\n      <td>NaN</td>\n      <td>NaN</td>\n      <td>...</td>\n      <td>NaN</td>\n      <td>NaN</td>\n      <td>NaN</td>\n      <td>NaN</td>\n      <td>NaN</td>\n      <td>Bluetooth</td>\n      <td>NaN</td>\n      <td>ASRock B360 Gaming K4 LGA1151/Intel B360/DDR4/...</td>\n      <td>None</td>\n      <td>None</td>\n    </tr>\n    <tr>\n      <th>5886</th>\n      <td>B08L6HXX2R</td>\n      <td>NaN</td>\n      <td>NaN</td>\n      <td>NaN</td>\n      <td>NaN</td>\n      <td>NaN</td>\n      <td>NaN</td>\n      <td>NaN</td>\n      <td>NaN</td>\n      <td>1 Lithium ion batteries required. (included)</td>\n      <td>...</td>\n      <td>NaN</td>\n      <td>NaN</td>\n      <td>NaN</td>\n      <td>NaN</td>\n      <td>NaN</td>\n      <td>802.11ac</td>\n      <td>NaN</td>\n      <td>Used Like New Notebook Thinkpad T460 Ultrabook...</td>\n      <td>None</td>\n      <td>None</td>\n    </tr>\n    <tr>\n      <th>5887</th>\n      <td>B081R359ZM</td>\n      <td>NaN</td>\n      <td>NaN</td>\n      <td>NaN</td>\n      <td>NaN</td>\n      <td>NaN</td>\n      <td>NaN</td>\n      <td>NaN</td>\n      <td>NaN</td>\n      <td>NaN</td>\n      <td>...</td>\n      <td>NaN</td>\n      <td>NaN</td>\n      <td>NaN</td>\n      <td>NaN</td>\n      <td>NaN</td>\n      <td>NaN</td>\n      <td>NaN</td>\n      <td>Gigabyte Gv-N165SWF2OC-4GD GeForce GTX 1650 Su...</td>\n      <td>None</td>\n      <td>None</td>\n    </tr>\n    <tr>\n      <th>5888</th>\n      <td>B07FKTSWNG</td>\n      <td>NaN</td>\n      <td>NaN</td>\n      <td>NaN</td>\n      <td>NaN</td>\n      <td>NaN</td>\n      <td>NaN</td>\n      <td>NaN</td>\n      <td>NaN</td>\n      <td>NaN</td>\n      <td>...</td>\n      <td>NaN</td>\n      <td>NaN</td>\n      <td>NaN</td>\n      <td>NaN</td>\n      <td>NaN</td>\n      <td>802.11a/b/g/n/ac, Bluetooth</td>\n      <td>NaN</td>\n      <td>ASUS ROG Strix B450-I Gaming AMD AM4 (3rd/2nd ...</td>\n      <td>DIO Japan</td>\n      <td>https://www.amazon.com/gp/help/seller/at-a-gla...</td>\n    </tr>\n  </tbody>\n</table>\n<p>5889 rows × 141 columns</p>\n</div>"
     },
     "metadata": {},
     "execution_count": 242
    }
   ],
   "source": [
    "new_processor = new_processor.groupby(new_processor.columns,axis=1).first()\n",
    "new_processor"
   ]
  },
  {
   "cell_type": "code",
   "execution_count": 244,
   "metadata": {},
   "outputs": [],
   "source": [
    "new_processor= new_processor.rename(columns={\"Processor Brand\":\"Brand\", 'Brand Name':\"Brand\", 'Color Name':\"Color\",\"Colour\":\"Color\"})"
   ]
  },
  {
   "cell_type": "code",
   "execution_count": 245,
   "metadata": {},
   "outputs": [
    {
     "output_type": "execute_result",
     "data": {
      "text/plain": [
       "            ASIN Additional Features Assembled Height Assembled Length  \\\n",
       "0     B07STGGQ18                 NaN              NaN              NaN   \n",
       "1     B07B41WS48                 NaN              NaN              NaN   \n",
       "2     B089J731BX                 NaN              NaN              NaN   \n",
       "3     B07HHN6KBZ                 NaN              NaN              NaN   \n",
       "4     B08BKRZB4Z                 NaN              NaN              NaN   \n",
       "...          ...                 ...              ...              ...   \n",
       "5884  B08GC6VFF2                 NaN              NaN              NaN   \n",
       "5885  B07BMV9WJ4                 NaN              NaN              NaN   \n",
       "5886  B08L6HXX2R                 NaN              NaN              NaN   \n",
       "5887  B081R359ZM                 NaN              NaN              NaN   \n",
       "5888  B07FKTSWNG                 NaN              NaN              NaN   \n",
       "\n",
       "     Assembled Width Audio Jack Audio-out Ports (#)  \\\n",
       "0                NaN        NaN                 NaN   \n",
       "1                NaN        NaN                 NaN   \n",
       "2                NaN        NaN                 NaN   \n",
       "3                NaN        NaN                 NaN   \n",
       "4                NaN        NaN                 NaN   \n",
       "...              ...        ...                 ...   \n",
       "5884             NaN        NaN                 NaN   \n",
       "5885             NaN        NaN                 NaN   \n",
       "5886             NaN        NaN                 NaN   \n",
       "5887             NaN        NaN                 NaN   \n",
       "5888             NaN        NaN                 NaN   \n",
       "\n",
       "     Average Battery Life (in hours) Back Material  \\\n",
       "0                                NaN           NaN   \n",
       "1                                NaN           NaN   \n",
       "2                                NaN           NaN   \n",
       "3                                NaN           NaN   \n",
       "4                                NaN           NaN   \n",
       "...                              ...           ...   \n",
       "5884                             NaN           NaN   \n",
       "5885                             NaN           NaN   \n",
       "5886                             NaN           NaN   \n",
       "5887                             NaN           NaN   \n",
       "5888                             NaN           NaN   \n",
       "\n",
       "                                         Batteries  ... Warranty Description  \\\n",
       "0                                              NaN  ...                  NaN   \n",
       "1                                              NaN  ...                  NaN   \n",
       "2                                              NaN  ...                  NaN   \n",
       "3                                              NaN  ...                  NaN   \n",
       "4                                              NaN  ...                  NaN   \n",
       "...                                            ...  ...                  ...   \n",
       "5884                                                ...                  NaN   \n",
       "5885                                           NaN  ...                  NaN   \n",
       "5886  1 Lithium ion batteries required. (included)  ...                  NaN   \n",
       "5887                                           NaN  ...                  NaN   \n",
       "5888                                           NaN  ...                  NaN   \n",
       "\n",
       "     Wattage Weight Wireless Microphone Frequency Wireless Remote  \\\n",
       "0        NaN    NaN                           NaN             NaN   \n",
       "1        NaN    NaN                           NaN             NaN   \n",
       "2        NaN    NaN                           NaN             NaN   \n",
       "3        NaN    NaN                           NaN             NaN   \n",
       "4        NaN    NaN                           NaN             NaN   \n",
       "...      ...    ...                           ...             ...   \n",
       "5884     NaN    NaN                           NaN             NaN   \n",
       "5885     NaN    NaN                           NaN             NaN   \n",
       "5886     NaN    NaN                           NaN             NaN   \n",
       "5887     NaN    NaN                           NaN             NaN   \n",
       "5888     NaN    NaN                           NaN             NaN   \n",
       "\n",
       "                    Wireless Type Wireless communication technologies  \\\n",
       "0                             NaN                                 NaN   \n",
       "1                         802.11a                                 NaN   \n",
       "2                             NaN                                 NaN   \n",
       "3                             NaN                                 NaN   \n",
       "4                             NaN                                 NaN   \n",
       "...                           ...                                 ...   \n",
       "5884                          NaN                                 NaN   \n",
       "5885                    Bluetooth                                 NaN   \n",
       "5886                     802.11ac                                 NaN   \n",
       "5887                          NaN                                 NaN   \n",
       "5888  802.11a/b/g/n/ac, Bluetooth                                 NaN   \n",
       "\n",
       "                                                   name  \\\n",
       "0     AMD Ryzen 5 3600 6-Core, 12-Thread Unlocked De...   \n",
       "1     AMD Ryzen 5 2600 Processor with Wraith Stealth...   \n",
       "2     Intel Core i9-9900K Desktop Processor 8 Cores ...   \n",
       "3     Intel Core i7-9700K Desktop Processor 8 Cores ...   \n",
       "4     Industrial Rugged Fanless Silent Mini PC Compu...   \n",
       "...                                                 ...   \n",
       "5884  YEELIYA PCIe USB 3.0 Card Type C USB Card Supe...   \n",
       "5885  ASRock B360 Gaming K4 LGA1151/Intel B360/DDR4/...   \n",
       "5886  Used Like New Notebook Thinkpad T460 Ultrabook...   \n",
       "5887  Gigabyte Gv-N165SWF2OC-4GD GeForce GTX 1650 Su...   \n",
       "5888  ASUS ROG Strix B450-I Gaming AMD AM4 (3rd/2nd ...   \n",
       "\n",
       "                     seller                                        seller_link  \n",
       "0                      None                                               None  \n",
       "1                      None                                               None  \n",
       "2                 DealsPro1  https://www.amazon.com/gp/help/seller/at-a-gla...  \n",
       "3                      None                                               None  \n",
       "4     Critical Products LLC  https://www.amazon.com/gp/help/seller/at-a-gla...  \n",
       "...                     ...                                                ...  \n",
       "5884                Yeeliya  https://www.amazon.com/gp/help/seller/at-a-gla...  \n",
       "5885                   None                                               None  \n",
       "5886                   None                                               None  \n",
       "5887                   None                                               None  \n",
       "5888              DIO Japan  https://www.amazon.com/gp/help/seller/at-a-gla...  \n",
       "\n",
       "[5889 rows x 137 columns]"
      ],
      "text/html": "<div>\n<style scoped>\n    .dataframe tbody tr th:only-of-type {\n        vertical-align: middle;\n    }\n\n    .dataframe tbody tr th {\n        vertical-align: top;\n    }\n\n    .dataframe thead th {\n        text-align: right;\n    }\n</style>\n<table border=\"1\" class=\"dataframe\">\n  <thead>\n    <tr style=\"text-align: right;\">\n      <th></th>\n      <th>ASIN</th>\n      <th>Additional Features</th>\n      <th>Assembled Height</th>\n      <th>Assembled Length</th>\n      <th>Assembled Width</th>\n      <th>Audio Jack</th>\n      <th>Audio-out Ports (#)</th>\n      <th>Average Battery Life (in hours)</th>\n      <th>Back Material</th>\n      <th>Batteries</th>\n      <th>...</th>\n      <th>Warranty Description</th>\n      <th>Wattage</th>\n      <th>Weight</th>\n      <th>Wireless Microphone Frequency</th>\n      <th>Wireless Remote</th>\n      <th>Wireless Type</th>\n      <th>Wireless communication technologies</th>\n      <th>name</th>\n      <th>seller</th>\n      <th>seller_link</th>\n    </tr>\n  </thead>\n  <tbody>\n    <tr>\n      <th>0</th>\n      <td>B07STGGQ18</td>\n      <td>NaN</td>\n      <td>NaN</td>\n      <td>NaN</td>\n      <td>NaN</td>\n      <td>NaN</td>\n      <td>NaN</td>\n      <td>NaN</td>\n      <td>NaN</td>\n      <td>NaN</td>\n      <td>...</td>\n      <td>NaN</td>\n      <td>NaN</td>\n      <td>NaN</td>\n      <td>NaN</td>\n      <td>NaN</td>\n      <td>NaN</td>\n      <td>NaN</td>\n      <td>AMD Ryzen 5 3600 6-Core, 12-Thread Unlocked De...</td>\n      <td>None</td>\n      <td>None</td>\n    </tr>\n    <tr>\n      <th>1</th>\n      <td>B07B41WS48</td>\n      <td>NaN</td>\n      <td>NaN</td>\n      <td>NaN</td>\n      <td>NaN</td>\n      <td>NaN</td>\n      <td>NaN</td>\n      <td>NaN</td>\n      <td>NaN</td>\n      <td>NaN</td>\n      <td>...</td>\n      <td>NaN</td>\n      <td>NaN</td>\n      <td>NaN</td>\n      <td>NaN</td>\n      <td>NaN</td>\n      <td>802.11a</td>\n      <td>NaN</td>\n      <td>AMD Ryzen 5 2600 Processor with Wraith Stealth...</td>\n      <td>None</td>\n      <td>None</td>\n    </tr>\n    <tr>\n      <th>2</th>\n      <td>B089J731BX</td>\n      <td>NaN</td>\n      <td>NaN</td>\n      <td>NaN</td>\n      <td>NaN</td>\n      <td>NaN</td>\n      <td>NaN</td>\n      <td>NaN</td>\n      <td>NaN</td>\n      <td>NaN</td>\n      <td>...</td>\n      <td>NaN</td>\n      <td>NaN</td>\n      <td>NaN</td>\n      <td>NaN</td>\n      <td>NaN</td>\n      <td>NaN</td>\n      <td>NaN</td>\n      <td>Intel Core i9-9900K Desktop Processor 8 Cores ...</td>\n      <td>DealsPro1</td>\n      <td>https://www.amazon.com/gp/help/seller/at-a-gla...</td>\n    </tr>\n    <tr>\n      <th>3</th>\n      <td>B07HHN6KBZ</td>\n      <td>NaN</td>\n      <td>NaN</td>\n      <td>NaN</td>\n      <td>NaN</td>\n      <td>NaN</td>\n      <td>NaN</td>\n      <td>NaN</td>\n      <td>NaN</td>\n      <td>NaN</td>\n      <td>...</td>\n      <td>NaN</td>\n      <td>NaN</td>\n      <td>NaN</td>\n      <td>NaN</td>\n      <td>NaN</td>\n      <td>NaN</td>\n      <td>NaN</td>\n      <td>Intel Core i7-9700K Desktop Processor 8 Cores ...</td>\n      <td>None</td>\n      <td>None</td>\n    </tr>\n    <tr>\n      <th>4</th>\n      <td>B08BKRZB4Z</td>\n      <td>NaN</td>\n      <td>NaN</td>\n      <td>NaN</td>\n      <td>NaN</td>\n      <td>NaN</td>\n      <td>NaN</td>\n      <td>NaN</td>\n      <td>NaN</td>\n      <td>NaN</td>\n      <td>...</td>\n      <td>NaN</td>\n      <td>NaN</td>\n      <td>NaN</td>\n      <td>NaN</td>\n      <td>NaN</td>\n      <td>NaN</td>\n      <td>NaN</td>\n      <td>Industrial Rugged Fanless Silent Mini PC Compu...</td>\n      <td>Critical Products LLC</td>\n      <td>https://www.amazon.com/gp/help/seller/at-a-gla...</td>\n    </tr>\n    <tr>\n      <th>...</th>\n      <td>...</td>\n      <td>...</td>\n      <td>...</td>\n      <td>...</td>\n      <td>...</td>\n      <td>...</td>\n      <td>...</td>\n      <td>...</td>\n      <td>...</td>\n      <td>...</td>\n      <td>...</td>\n      <td>...</td>\n      <td>...</td>\n      <td>...</td>\n      <td>...</td>\n      <td>...</td>\n      <td>...</td>\n      <td>...</td>\n      <td>...</td>\n      <td>...</td>\n      <td>...</td>\n    </tr>\n    <tr>\n      <th>5884</th>\n      <td>B08GC6VFF2</td>\n      <td>NaN</td>\n      <td>NaN</td>\n      <td>NaN</td>\n      <td>NaN</td>\n      <td>NaN</td>\n      <td>NaN</td>\n      <td>NaN</td>\n      <td>NaN</td>\n      <td></td>\n      <td>...</td>\n      <td>NaN</td>\n      <td>NaN</td>\n      <td>NaN</td>\n      <td>NaN</td>\n      <td>NaN</td>\n      <td>NaN</td>\n      <td>NaN</td>\n      <td>YEELIYA PCIe USB 3.0 Card Type C USB Card Supe...</td>\n      <td>Yeeliya</td>\n      <td>https://www.amazon.com/gp/help/seller/at-a-gla...</td>\n    </tr>\n    <tr>\n      <th>5885</th>\n      <td>B07BMV9WJ4</td>\n      <td>NaN</td>\n      <td>NaN</td>\n      <td>NaN</td>\n      <td>NaN</td>\n      <td>NaN</td>\n      <td>NaN</td>\n      <td>NaN</td>\n      <td>NaN</td>\n      <td>NaN</td>\n      <td>...</td>\n      <td>NaN</td>\n      <td>NaN</td>\n      <td>NaN</td>\n      <td>NaN</td>\n      <td>NaN</td>\n      <td>Bluetooth</td>\n      <td>NaN</td>\n      <td>ASRock B360 Gaming K4 LGA1151/Intel B360/DDR4/...</td>\n      <td>None</td>\n      <td>None</td>\n    </tr>\n    <tr>\n      <th>5886</th>\n      <td>B08L6HXX2R</td>\n      <td>NaN</td>\n      <td>NaN</td>\n      <td>NaN</td>\n      <td>NaN</td>\n      <td>NaN</td>\n      <td>NaN</td>\n      <td>NaN</td>\n      <td>NaN</td>\n      <td>1 Lithium ion batteries required. (included)</td>\n      <td>...</td>\n      <td>NaN</td>\n      <td>NaN</td>\n      <td>NaN</td>\n      <td>NaN</td>\n      <td>NaN</td>\n      <td>802.11ac</td>\n      <td>NaN</td>\n      <td>Used Like New Notebook Thinkpad T460 Ultrabook...</td>\n      <td>None</td>\n      <td>None</td>\n    </tr>\n    <tr>\n      <th>5887</th>\n      <td>B081R359ZM</td>\n      <td>NaN</td>\n      <td>NaN</td>\n      <td>NaN</td>\n      <td>NaN</td>\n      <td>NaN</td>\n      <td>NaN</td>\n      <td>NaN</td>\n      <td>NaN</td>\n      <td>NaN</td>\n      <td>...</td>\n      <td>NaN</td>\n      <td>NaN</td>\n      <td>NaN</td>\n      <td>NaN</td>\n      <td>NaN</td>\n      <td>NaN</td>\n      <td>NaN</td>\n      <td>Gigabyte Gv-N165SWF2OC-4GD GeForce GTX 1650 Su...</td>\n      <td>None</td>\n      <td>None</td>\n    </tr>\n    <tr>\n      <th>5888</th>\n      <td>B07FKTSWNG</td>\n      <td>NaN</td>\n      <td>NaN</td>\n      <td>NaN</td>\n      <td>NaN</td>\n      <td>NaN</td>\n      <td>NaN</td>\n      <td>NaN</td>\n      <td>NaN</td>\n      <td>NaN</td>\n      <td>...</td>\n      <td>NaN</td>\n      <td>NaN</td>\n      <td>NaN</td>\n      <td>NaN</td>\n      <td>NaN</td>\n      <td>802.11a/b/g/n/ac, Bluetooth</td>\n      <td>NaN</td>\n      <td>ASUS ROG Strix B450-I Gaming AMD AM4 (3rd/2nd ...</td>\n      <td>DIO Japan</td>\n      <td>https://www.amazon.com/gp/help/seller/at-a-gla...</td>\n    </tr>\n  </tbody>\n</table>\n<p>5889 rows × 137 columns</p>\n</div>"
     },
     "metadata": {},
     "execution_count": 245
    }
   ],
   "source": [
    "new_processor = new_processor.groupby(new_processor.columns,axis=1).first()\n",
    "new_processor"
   ]
  },
  {
   "cell_type": "code",
   "execution_count": 246,
   "metadata": {},
   "outputs": [
    {
     "output_type": "execute_result",
     "data": {
      "text/plain": [
       "ASIN                                    112\n",
       "Additional Features                    5797\n",
       "Assembled Height                       5887\n",
       "Assembled Length                       5887\n",
       "Assembled Width                        5887\n",
       "                                       ... \n",
       "Wireless Type                          3548\n",
       "Wireless communication technologies    5618\n",
       "name                                      0\n",
       "seller                                 1640\n",
       "seller_link                            1640\n",
       "Length: 137, dtype: int64"
      ]
     },
     "metadata": {},
     "execution_count": 246
    }
   ],
   "source": [
    "new_processor.isnull().sum()"
   ]
  },
  {
   "cell_type": "code",
   "execution_count": 247,
   "metadata": {},
   "outputs": [],
   "source": [
    "new_processor.dropna(subset=[\"ASIN\"],inplace=True)"
   ]
  },
  {
   "cell_type": "code",
   "execution_count": 248,
   "metadata": {},
   "outputs": [],
   "source": [
    "new_pocessor=new_processor.reset_index(drop=True)"
   ]
  },
  {
   "cell_type": "code",
   "execution_count": 249,
   "metadata": {},
   "outputs": [],
   "source": [
    "new_processor = new_processor.loc[:, list(new_processor.columns[list(new_processor.isnull().sum() < 4600)])]"
   ]
  },
  {
   "cell_type": "code",
   "execution_count": 250,
   "metadata": {},
   "outputs": [
    {
     "output_type": "execute_result",
     "data": {
      "text/plain": [
       "(5777, 33)"
      ]
     },
     "metadata": {},
     "execution_count": 250
    }
   ],
   "source": [
    "new_processor.shape"
   ]
  },
  {
   "cell_type": "code",
   "execution_count": 251,
   "metadata": {},
   "outputs": [
    {
     "output_type": "execute_result",
     "data": {
      "text/plain": [
       "ASIN                               object\n",
       "Batteries                          object\n",
       "Best Sellers Rank                  object\n",
       "Brand                              object\n",
       "Card Description                   object\n",
       "Chipset Brand                      object\n",
       "Color                              object\n",
       "Computer Memory Type               object\n",
       "Customer Reviews                   object\n",
       "Date First Available               object\n",
       "Flash Memory Size                  object\n",
       "Graphics Coprocessor               object\n",
       "Hard Drive Interface               object\n",
       "Hardware Platform                  object\n",
       "Is Discontinued By Manufacturer    object\n",
       "Item Dimensions  LxWxH             object\n",
       "Item Weight                        object\n",
       "Item model number                  object\n",
       "Manufacturer                       object\n",
       "Max Screen Resolution              object\n",
       "Memory Speed                       object\n",
       "Number of USB 2.0 Ports            object\n",
       "Operating System                   object\n",
       "Package Dimensions                 object\n",
       "Power Source                       object\n",
       "Processor Count                    object\n",
       "Product Dimensions                 object\n",
       "Series                             object\n",
       "Standing screen display size       object\n",
       "Wireless Type                      object\n",
       "name                               object\n",
       "seller                             object\n",
       "seller_link                        object\n",
       "dtype: object"
      ]
     },
     "metadata": {},
     "execution_count": 251
    }
   ],
   "source": [
    "new_processor.dtypes"
   ]
  },
  {
   "cell_type": "code",
   "execution_count": 253,
   "metadata": {},
   "outputs": [
    {
     "output_type": "execute_result",
     "data": {
      "text/plain": [
       "str"
      ]
     },
     "metadata": {},
     "execution_count": 253
    }
   ],
   "source": [
    "type(new_processor[\"Processor Count\"][0])"
   ]
  },
  {
   "cell_type": "code",
   "execution_count": 254,
   "metadata": {},
   "outputs": [],
   "source": [
    "new_processor[\"Number of USB 2.0 Ports\"] =  pd.to_numeric(new_processor[\"Number of USB 2.0 Ports\"],errors='coerce').astype(\"Int64\")\n",
    "new_processor[\"Processor Count\"] =  pd.to_numeric(new_processor[\"Processor Count\"],errors='coerce').astype(\"Int64\")"
   ]
  },
  {
   "cell_type": "code",
   "execution_count": 255,
   "metadata": {},
   "outputs": [],
   "source": [
    "a = new_processor[\"Item Weight\"].str.split(expand=True)\n",
    "a.columns=[\"a\",\"b\"]\n",
    "a.a = a['a'].astype(float)\n",
    "a['a'] = np.where(a['b'] == 'ounces',a['a'] * 0.16 ,a['a'])\n",
    "new_processor[\"Item Weight\"] = a['a'].round(3)"
   ]
  },
  {
   "cell_type": "code",
   "execution_count": 256,
   "metadata": {},
   "outputs": [],
   "source": [
    "new_processor[\"Product Dimensions\"] = new_pocessor[\"Product Dimensions\"].fillna(new_pocessor[\"Package Dimensions\"])\n",
    "new_processor.drop(columns=\"Package Dimensions\", inplace=True)"
   ]
  },
  {
   "cell_type": "code",
   "execution_count": 257,
   "metadata": {},
   "outputs": [],
   "source": [
    "new_processor=new_processor.rename(columns={\"Product Dimensions\":\"Product_Dimensions_(inches)\"})"
   ]
  },
  {
   "cell_type": "code",
   "execution_count": 258,
   "metadata": {},
   "outputs": [],
   "source": [
    "new_processor[\"Product_Dimensions_(inches)\"]=new_processor[\"Product_Dimensions_(inches)\"].str.strip(\"inches\")"
   ]
  },
  {
   "cell_type": "code",
   "execution_count": 259,
   "metadata": {},
   "outputs": [],
   "source": [
    "# new_processor.loc[new_processor[\"Average Battery Life (in hours)\"]== \"365 days\", \"Average Battery Life (in hours)\"] = 8760\n",
    "# new_processor.loc[new_processor[\"Average Battery Life (in hours)\"]== \"\", \"Average Battery Life (in hours)\"] = \"nan\"\n",
    "# new_processor.loc[new_processor[\"Average Battery Life (in hours)\"]== \"8 \\tyears\", \"Average Battery Life (in hours)\"] = 70080\n",
    "# new_processor.loc[new_processor[\"Average Battery Life (in hours)\"]== \"5 \\tyears\", \"Average Battery Life (in hours)\"] = 43800\n",
    "# new_processor.loc[new_processor[\"Average Battery Life (in hours)\"]== \"6 \\tyears\", \"Average Battery Life (in hours)\"] = 52560\n",
    "# new_processor.loc[new_processor[\"Average Battery Life (in hours)\"]== \"2 \\tyears\", \"Average Battery Life (in hours)\"] = 17520\n",
    "# new_processor.loc[new_processor[\"Average Battery Life (in hours)\"]== \"1 \\tyears\", \"Average Battery Life (in hours)\"] = 8760\n",
    "# new_processor.loc[new_processor[\"Average Battery Life (in hours)\"]== \"3 \\tyears\", \"Average Battery Life (in hours)\"] = 26280\n",
    "# new_processor.loc[new_processor[\"Average Battery Life (in hours)\"]== \"10 \\tyears\", \"Average Battery Life (in hours)\"] = 87600\n",
    "# new_processor.loc[new_processor[\"Average Battery Life (in hours)\"]== \"12 \\tmonths\", \"Average Battery Life (in hours)\"] = 8760\n",
    "# new_processor.loc[new_processor[\"Average Battery Life (in hours)\"]== \"8 \\tyears\", \"Average Battery Life (in hours)\"] = 35040\n",
    "# new_processor.loc[new_processor[\"Average Battery Life (in hours)\"]== \"7 days\", \"Average Battery Life (in hours)\"] = 168\n",
    "# new_processor.loc[new_processor[\"Average Battery Life (in hours)\"]== \"1 days\", \"Average Battery Life (in hours)\"] = 24\n",
    "# new_processor.loc[new_processor[\"Average Battery Life (in hours)\"]== \"2 days\", \"Average Battery Life (in hours)\"] = 48\n",
    "# new_processor.loc[new_processor[\"Average Battery Life (in hours)\"]== \"36 \\tmonths\", \"Average Battery Life (in hours)\"] = 26280\n",
    "# new_processor.loc[new_processor[\"Average Battery Life (in hours)\"]== \"4 \\tyears\", \"Average Battery Life (in hours)\"] = 35040\n",
    "# new_processor.loc[new_processor[\"Average Battery Life (in hours)\"]== \"6.00, 6.00, 6.00 Hours\", \"Average Battery Life (in hours)\"] = 6\n",
    "# new_processor[\"Average Battery Life (in hours)\"].unique()"
   ]
  },
  {
   "cell_type": "code",
   "execution_count": 260,
   "metadata": {},
   "outputs": [],
   "source": [
    "# new_processor[\"Average Battery Life (in hours)\"] = new_processor[\"Average Battery Life (in hours)\"].str.split(\" \").str[0]\n",
    "# new_processor[\"Average Battery Life (in hours)\"] = new_processor[\"Average Battery Life (in hours)\"].astype('float')"
   ]
  },
  {
   "cell_type": "code",
   "execution_count": 261,
   "metadata": {},
   "outputs": [
    {
     "output_type": "execute_result",
     "data": {
      "text/plain": [
       "array([nan, '3600 MHz', '2666 MHz', '3700 MHz', '2800 MHz', '2900 MHz',\n",
       "       '3.4 GHz', '2.8 GHz', '1866 MHz', '2400 MHz', '2133 GHz',\n",
       "       '3200 MHz', '1.8 GHz', '3.6 GHz', '2.6 GHz', '1 GHz', '4266 MHz',\n",
       "       '1.6 GHz', '1600 MHz', '2133 MHz', '3300 MHz', '2.2 GHz',\n",
       "       '1.5 GHz', '3100 MHz', '2933 MHz', '2.5 GHz', '3.1 GHz', '2.7 GHz',\n",
       "       '', '2.3 GHz', '3.9 GHz', '1.3 GHz', '1.92 GHz', '2 GHz',\n",
       "       '3.5 GHz', '1.1 GHz', '1200 MHz', '750 MHz', '3000 MHz',\n",
       "       '3733 MHz', '4400 MHz', '4.1 GHz', '2.9 GHz', '4.5 GHz',\n",
       "       '1333 MHz', '2.48 GHz', '2666 GHz', '2.4 GHz', '2300 MHz',\n",
       "       '4.6 GHz', '4200 MHz', '2.16 GHz', '667 MHz', '1600 GHz',\n",
       "       '3.2 GHz', '1.44 GHz', '1392 MHz', '4600 MHz', '4800 MHz',\n",
       "       '14 GHz', '5000 MHz', '1866 GHz', '5200 MHz', '2035 MHz',\n",
       "       '7008 MHz', '4700 MHz', '8 GHz', '1518 MHz', '700 MHz', '3.8 GHz',\n",
       "       '4266.00', '128 MHz', '6008 MHz', '1.7 GHz', '7200 GHz', '2',\n",
       "       '1530 MHz', '1.9 GHz', '4500 MHz', '1635 MHz', '2.1 GHz',\n",
       "       '300 MHz', '1.76 GHz', '2667 MHz', '1845 MHz', '2.24 GHz',\n",
       "       '1400 MHz', '8000 MHz', '1.83 GHz', '7000 MHz', '732 MHz',\n",
       "       '12000 MHz'], dtype=object)"
      ]
     },
     "metadata": {},
     "execution_count": 261
    }
   ],
   "source": [
    "new_pocessor[\"Memory Speed\"].unique()"
   ]
  },
  {
   "cell_type": "code",
   "execution_count": 262,
   "metadata": {},
   "outputs": [],
   "source": [
    "a = new_processor[\"Memory Speed\"].str.split(expand=True)\n",
    "a.columns=[\"a\",\"b\"]\n",
    "a.a = a['a'].astype(float)\n",
    "a['a'] = np.where(a['b'] == 'MHz',a['a'] * 0.001 ,a['a'])\n",
    "new_processor[\"Memory Speed\"] = a['a'].round(2)\n",
    "new_processor = new_processor.rename(columns={\"Memory Speed\":\"Memory_Speed_(GHz)\"}) "
   ]
  },
  {
   "cell_type": "code",
   "execution_count": 263,
   "metadata": {},
   "outputs": [
    {
     "output_type": "execute_result",
     "data": {
      "text/plain": [
       "            ASIN                                     Batteries  \\\n",
       "0     B07STGGQ18                                           NaN   \n",
       "1     B07B41WS48                                           NaN   \n",
       "2     B089J731BX                                           NaN   \n",
       "3     B07HHN6KBZ                                           NaN   \n",
       "4     B08BKRZB4Z                                           NaN   \n",
       "...          ...                                           ...   \n",
       "5884  B08GC6VFF2                                                 \n",
       "5885  B07BMV9WJ4                                           NaN   \n",
       "5886  B08L6HXX2R  1 Lithium ion batteries required. (included)   \n",
       "5887  B081R359ZM                                           NaN   \n",
       "5888  B07FKTSWNG                                           NaN   \n",
       "\n",
       "                                      Best Sellers Rank     Brand  \\\n",
       "0                         #1 in Computer CPU Processors       AMD   \n",
       "1                        #17 in Computer CPU Processors       AMD   \n",
       "2                        #13 in Computer CPU Processors     Intel   \n",
       "3                         #7 in Computer CPU Processors     Intel   \n",
       "4     #290,502 in Computers & Accessories ( See Top ...     Intel   \n",
       "...                                                 ...       ...   \n",
       "5884                     #62 in Internal USB Port Cards       NaN   \n",
       "5885                    #2,254 in Computer Motherboards    ASRock   \n",
       "5886  #67,794 in Computers & Accessories ( See Top 1...       N&n   \n",
       "5887                    #687 in Computer Graphics Cards  Gigabyte   \n",
       "5888                      #248 in Computer Motherboards      ASUS   \n",
       "\n",
       "     Card Description Chipset Brand Color Computer Memory Type  \\\n",
       "0                 NaN           NaN   NaN                  NaN   \n",
       "1                 NaN           NaN   NaN           DDR4 SDRAM   \n",
       "2                 NaN           NaN   NaN                  NaN   \n",
       "3                 NaN           NaN   NaN           DDR4 SDRAM   \n",
       "4                 NaN         Intel   NaN               SODIMM   \n",
       "...               ...           ...   ...                  ...   \n",
       "5884              NaN           NaN   NaN                  NaN   \n",
       "5885              NaN           NaN   NaN           DDR4 SDRAM   \n",
       "5886       Integrated         Intel   NaN     DDR3L-1600 SDRAM   \n",
       "5887       Integrated        NVIDIA   NaN                  NaN   \n",
       "5888              NaN           NaN   NaN           DDR4 SDRAM   \n",
       "\n",
       "                                       Customer Reviews Date First Available  \\\n",
       "0     /*\\n* Fix for UDP-1061. Average customer revie...         July 1, 2019   \n",
       "1     /*\\n* Fix for UDP-1061. Average customer revie...       April 13, 2018   \n",
       "2     /*\\n* Fix for UDP-1061. Average customer revie...         June 1, 2020   \n",
       "3     /*\\n* Fix for UDP-1061. Average customer revie...      October 8, 2018   \n",
       "4     /*\\n* Fix for UDP-1061. Average customer revie...        June 26, 2020   \n",
       "...                                                 ...                  ...   \n",
       "5884  /*\\n* Fix for UDP-1061. Average customer revie...      August 20, 2020   \n",
       "5885  /*\\n* Fix for UDP-1061. Average customer revie...       April 10, 2018   \n",
       "5886                                                NaN   September 16, 2020   \n",
       "5887  /*\\n* Fix for UDP-1061. Average customer revie...    November 22, 2019   \n",
       "5888  /*\\n* Fix for UDP-1061. Average customer revie...        July 27, 2018   \n",
       "\n",
       "      ... Operating System Power Source Processor Count  \\\n",
       "0     ...              NaN          NaN               6   \n",
       "1     ...              NaN          NaN               6   \n",
       "2     ...              NaN          NaN               1   \n",
       "3     ...              NaN          NaN               8   \n",
       "4     ...       Windows 10           DC               6   \n",
       "...   ...              ...          ...             ...   \n",
       "5884  ...              NaN          NaN            <NA>   \n",
       "5885  ...              NaN          NaN               1   \n",
       "5886  ...          Windows          NaN               2   \n",
       "5887  ...              NaN          NaN            <NA>   \n",
       "5888  ...              NaN          NaN            <NA>   \n",
       "\n",
       "     Product_Dimensions_(inches)                   Series  \\\n",
       "0            1.57 x 1.57 x 0.24                   Ryzen 5   \n",
       "1               1.6 x 1.6 x 0.3                       NaN   \n",
       "2            6.3 x 10.24 x 3.15                       NaN   \n",
       "3            4.57 x 3.98 x 2.76                       NaN   \n",
       "4                   8 x 8 x 1.9            LITESHIELD 2.0   \n",
       "...                          ...                      ...   \n",
       "5884                         NaN                      NaN   \n",
       "5885                         NaN                      NaN   \n",
       "5886                         NaN                     T460   \n",
       "5887                         NaN                      NaN   \n",
       "5888                         NaN  ROG Strix B450-I Gaming   \n",
       "\n",
       "     Standing screen display size                Wireless Type  \\\n",
       "0                             NaN                          NaN   \n",
       "1                             NaN                      802.11a   \n",
       "2                             NaN                          NaN   \n",
       "3                             NaN                          NaN   \n",
       "4                             NaN                          NaN   \n",
       "...                           ...                          ...   \n",
       "5884                          NaN                          NaN   \n",
       "5885                          NaN                    Bluetooth   \n",
       "5886                  14.1 Inches                     802.11ac   \n",
       "5887                          NaN                          NaN   \n",
       "5888                          NaN  802.11a/b/g/n/ac, Bluetooth   \n",
       "\n",
       "                                                   name  \\\n",
       "0     AMD Ryzen 5 3600 6-Core, 12-Thread Unlocked De...   \n",
       "1     AMD Ryzen 5 2600 Processor with Wraith Stealth...   \n",
       "2     Intel Core i9-9900K Desktop Processor 8 Cores ...   \n",
       "3     Intel Core i7-9700K Desktop Processor 8 Cores ...   \n",
       "4     Industrial Rugged Fanless Silent Mini PC Compu...   \n",
       "...                                                 ...   \n",
       "5884  YEELIYA PCIe USB 3.0 Card Type C USB Card Supe...   \n",
       "5885  ASRock B360 Gaming K4 LGA1151/Intel B360/DDR4/...   \n",
       "5886  Used Like New Notebook Thinkpad T460 Ultrabook...   \n",
       "5887  Gigabyte Gv-N165SWF2OC-4GD GeForce GTX 1650 Su...   \n",
       "5888  ASUS ROG Strix B450-I Gaming AMD AM4 (3rd/2nd ...   \n",
       "\n",
       "                     seller                                        seller_link  \n",
       "0                      None                                               None  \n",
       "1                      None                                               None  \n",
       "2                 DealsPro1  https://www.amazon.com/gp/help/seller/at-a-gla...  \n",
       "3                      None                                               None  \n",
       "4     Critical Products LLC  https://www.amazon.com/gp/help/seller/at-a-gla...  \n",
       "...                     ...                                                ...  \n",
       "5884                Yeeliya  https://www.amazon.com/gp/help/seller/at-a-gla...  \n",
       "5885                   None                                               None  \n",
       "5886                   None                                               None  \n",
       "5887                   None                                               None  \n",
       "5888              DIO Japan  https://www.amazon.com/gp/help/seller/at-a-gla...  \n",
       "\n",
       "[5777 rows x 32 columns]"
      ],
      "text/html": "<div>\n<style scoped>\n    .dataframe tbody tr th:only-of-type {\n        vertical-align: middle;\n    }\n\n    .dataframe tbody tr th {\n        vertical-align: top;\n    }\n\n    .dataframe thead th {\n        text-align: right;\n    }\n</style>\n<table border=\"1\" class=\"dataframe\">\n  <thead>\n    <tr style=\"text-align: right;\">\n      <th></th>\n      <th>ASIN</th>\n      <th>Batteries</th>\n      <th>Best Sellers Rank</th>\n      <th>Brand</th>\n      <th>Card Description</th>\n      <th>Chipset Brand</th>\n      <th>Color</th>\n      <th>Computer Memory Type</th>\n      <th>Customer Reviews</th>\n      <th>Date First Available</th>\n      <th>...</th>\n      <th>Operating System</th>\n      <th>Power Source</th>\n      <th>Processor Count</th>\n      <th>Product_Dimensions_(inches)</th>\n      <th>Series</th>\n      <th>Standing screen display size</th>\n      <th>Wireless Type</th>\n      <th>name</th>\n      <th>seller</th>\n      <th>seller_link</th>\n    </tr>\n  </thead>\n  <tbody>\n    <tr>\n      <th>0</th>\n      <td>B07STGGQ18</td>\n      <td>NaN</td>\n      <td>#1 in Computer CPU Processors</td>\n      <td>AMD</td>\n      <td>NaN</td>\n      <td>NaN</td>\n      <td>NaN</td>\n      <td>NaN</td>\n      <td>/*\\n* Fix for UDP-1061. Average customer revie...</td>\n      <td>July 1, 2019</td>\n      <td>...</td>\n      <td>NaN</td>\n      <td>NaN</td>\n      <td>6</td>\n      <td>1.57 x 1.57 x 0.24</td>\n      <td>Ryzen 5</td>\n      <td>NaN</td>\n      <td>NaN</td>\n      <td>AMD Ryzen 5 3600 6-Core, 12-Thread Unlocked De...</td>\n      <td>None</td>\n      <td>None</td>\n    </tr>\n    <tr>\n      <th>1</th>\n      <td>B07B41WS48</td>\n      <td>NaN</td>\n      <td>#17 in Computer CPU Processors</td>\n      <td>AMD</td>\n      <td>NaN</td>\n      <td>NaN</td>\n      <td>NaN</td>\n      <td>DDR4 SDRAM</td>\n      <td>/*\\n* Fix for UDP-1061. Average customer revie...</td>\n      <td>April 13, 2018</td>\n      <td>...</td>\n      <td>NaN</td>\n      <td>NaN</td>\n      <td>6</td>\n      <td>1.6 x 1.6 x 0.3</td>\n      <td>NaN</td>\n      <td>NaN</td>\n      <td>802.11a</td>\n      <td>AMD Ryzen 5 2600 Processor with Wraith Stealth...</td>\n      <td>None</td>\n      <td>None</td>\n    </tr>\n    <tr>\n      <th>2</th>\n      <td>B089J731BX</td>\n      <td>NaN</td>\n      <td>#13 in Computer CPU Processors</td>\n      <td>Intel</td>\n      <td>NaN</td>\n      <td>NaN</td>\n      <td>NaN</td>\n      <td>NaN</td>\n      <td>/*\\n* Fix for UDP-1061. Average customer revie...</td>\n      <td>June 1, 2020</td>\n      <td>...</td>\n      <td>NaN</td>\n      <td>NaN</td>\n      <td>1</td>\n      <td>6.3 x 10.24 x 3.15</td>\n      <td>NaN</td>\n      <td>NaN</td>\n      <td>NaN</td>\n      <td>Intel Core i9-9900K Desktop Processor 8 Cores ...</td>\n      <td>DealsPro1</td>\n      <td>https://www.amazon.com/gp/help/seller/at-a-gla...</td>\n    </tr>\n    <tr>\n      <th>3</th>\n      <td>B07HHN6KBZ</td>\n      <td>NaN</td>\n      <td>#7 in Computer CPU Processors</td>\n      <td>Intel</td>\n      <td>NaN</td>\n      <td>NaN</td>\n      <td>NaN</td>\n      <td>DDR4 SDRAM</td>\n      <td>/*\\n* Fix for UDP-1061. Average customer revie...</td>\n      <td>October 8, 2018</td>\n      <td>...</td>\n      <td>NaN</td>\n      <td>NaN</td>\n      <td>8</td>\n      <td>4.57 x 3.98 x 2.76</td>\n      <td>NaN</td>\n      <td>NaN</td>\n      <td>NaN</td>\n      <td>Intel Core i7-9700K Desktop Processor 8 Cores ...</td>\n      <td>None</td>\n      <td>None</td>\n    </tr>\n    <tr>\n      <th>4</th>\n      <td>B08BKRZB4Z</td>\n      <td>NaN</td>\n      <td>#290,502 in Computers &amp; Accessories ( See Top ...</td>\n      <td>Intel</td>\n      <td>NaN</td>\n      <td>Intel</td>\n      <td>NaN</td>\n      <td>SODIMM</td>\n      <td>/*\\n* Fix for UDP-1061. Average customer revie...</td>\n      <td>June 26, 2020</td>\n      <td>...</td>\n      <td>Windows 10</td>\n      <td>DC</td>\n      <td>6</td>\n      <td>8 x 8 x 1.9</td>\n      <td>LITESHIELD 2.0</td>\n      <td>NaN</td>\n      <td>NaN</td>\n      <td>Industrial Rugged Fanless Silent Mini PC Compu...</td>\n      <td>Critical Products LLC</td>\n      <td>https://www.amazon.com/gp/help/seller/at-a-gla...</td>\n    </tr>\n    <tr>\n      <th>...</th>\n      <td>...</td>\n      <td>...</td>\n      <td>...</td>\n      <td>...</td>\n      <td>...</td>\n      <td>...</td>\n      <td>...</td>\n      <td>...</td>\n      <td>...</td>\n      <td>...</td>\n      <td>...</td>\n      <td>...</td>\n      <td>...</td>\n      <td>...</td>\n      <td>...</td>\n      <td>...</td>\n      <td>...</td>\n      <td>...</td>\n      <td>...</td>\n      <td>...</td>\n      <td>...</td>\n    </tr>\n    <tr>\n      <th>5884</th>\n      <td>B08GC6VFF2</td>\n      <td></td>\n      <td>#62 in Internal USB Port Cards</td>\n      <td>NaN</td>\n      <td>NaN</td>\n      <td>NaN</td>\n      <td>NaN</td>\n      <td>NaN</td>\n      <td>/*\\n* Fix for UDP-1061. Average customer revie...</td>\n      <td>August 20, 2020</td>\n      <td>...</td>\n      <td>NaN</td>\n      <td>NaN</td>\n      <td>&lt;NA&gt;</td>\n      <td>NaN</td>\n      <td>NaN</td>\n      <td>NaN</td>\n      <td>NaN</td>\n      <td>YEELIYA PCIe USB 3.0 Card Type C USB Card Supe...</td>\n      <td>Yeeliya</td>\n      <td>https://www.amazon.com/gp/help/seller/at-a-gla...</td>\n    </tr>\n    <tr>\n      <th>5885</th>\n      <td>B07BMV9WJ4</td>\n      <td>NaN</td>\n      <td>#2,254 in Computer Motherboards</td>\n      <td>ASRock</td>\n      <td>NaN</td>\n      <td>NaN</td>\n      <td>NaN</td>\n      <td>DDR4 SDRAM</td>\n      <td>/*\\n* Fix for UDP-1061. Average customer revie...</td>\n      <td>April 10, 2018</td>\n      <td>...</td>\n      <td>NaN</td>\n      <td>NaN</td>\n      <td>1</td>\n      <td>NaN</td>\n      <td>NaN</td>\n      <td>NaN</td>\n      <td>Bluetooth</td>\n      <td>ASRock B360 Gaming K4 LGA1151/Intel B360/DDR4/...</td>\n      <td>None</td>\n      <td>None</td>\n    </tr>\n    <tr>\n      <th>5886</th>\n      <td>B08L6HXX2R</td>\n      <td>1 Lithium ion batteries required. (included)</td>\n      <td>#67,794 in Computers &amp; Accessories ( See Top 1...</td>\n      <td>N&amp;n</td>\n      <td>Integrated</td>\n      <td>Intel</td>\n      <td>NaN</td>\n      <td>DDR3L-1600 SDRAM</td>\n      <td>NaN</td>\n      <td>September 16, 2020</td>\n      <td>...</td>\n      <td>Windows</td>\n      <td>NaN</td>\n      <td>2</td>\n      <td>NaN</td>\n      <td>T460</td>\n      <td>14.1 Inches</td>\n      <td>802.11ac</td>\n      <td>Used Like New Notebook Thinkpad T460 Ultrabook...</td>\n      <td>None</td>\n      <td>None</td>\n    </tr>\n    <tr>\n      <th>5887</th>\n      <td>B081R359ZM</td>\n      <td>NaN</td>\n      <td>#687 in Computer Graphics Cards</td>\n      <td>Gigabyte</td>\n      <td>Integrated</td>\n      <td>NVIDIA</td>\n      <td>NaN</td>\n      <td>NaN</td>\n      <td>/*\\n* Fix for UDP-1061. Average customer revie...</td>\n      <td>November 22, 2019</td>\n      <td>...</td>\n      <td>NaN</td>\n      <td>NaN</td>\n      <td>&lt;NA&gt;</td>\n      <td>NaN</td>\n      <td>NaN</td>\n      <td>NaN</td>\n      <td>NaN</td>\n      <td>Gigabyte Gv-N165SWF2OC-4GD GeForce GTX 1650 Su...</td>\n      <td>None</td>\n      <td>None</td>\n    </tr>\n    <tr>\n      <th>5888</th>\n      <td>B07FKTSWNG</td>\n      <td>NaN</td>\n      <td>#248 in Computer Motherboards</td>\n      <td>ASUS</td>\n      <td>NaN</td>\n      <td>NaN</td>\n      <td>NaN</td>\n      <td>DDR4 SDRAM</td>\n      <td>/*\\n* Fix for UDP-1061. Average customer revie...</td>\n      <td>July 27, 2018</td>\n      <td>...</td>\n      <td>NaN</td>\n      <td>NaN</td>\n      <td>&lt;NA&gt;</td>\n      <td>NaN</td>\n      <td>ROG Strix B450-I Gaming</td>\n      <td>NaN</td>\n      <td>802.11a/b/g/n/ac, Bluetooth</td>\n      <td>ASUS ROG Strix B450-I Gaming AMD AM4 (3rd/2nd ...</td>\n      <td>DIO Japan</td>\n      <td>https://www.amazon.com/gp/help/seller/at-a-gla...</td>\n    </tr>\n  </tbody>\n</table>\n<p>5777 rows × 32 columns</p>\n</div>"
     },
     "metadata": {},
     "execution_count": 263
    }
   ],
   "source": [
    "new_processor.rename(columns={\"Memory Speed\":\"Memory_Speed_(GHz)\"}) "
   ]
  },
  {
   "cell_type": "code",
   "execution_count": 264,
   "metadata": {},
   "outputs": [],
   "source": [
    "new_processor=new_processor[['ASIN',\n",
    "'name',\n",
    " 'Batteries',\n",
    " 'Best Sellers Rank',\n",
    " 'Brand',\n",
    " 'Card Description',\n",
    " 'Chipset Brand',\n",
    " 'Color',\n",
    " 'Computer Memory Type',\n",
    " 'Customer Reviews',\n",
    " 'Date First Available',\n",
    " 'Flash Memory Size',\n",
    " 'Graphics Coprocessor',\n",
    " 'Hard Drive Interface',\n",
    " 'Hardware Platform',\n",
    " 'Is Discontinued By Manufacturer',\n",
    " 'Item Dimensions  LxWxH',\n",
    " 'Item Weight',\n",
    " 'Item model number',\n",
    " 'Manufacturer',\n",
    " 'Max Screen Resolution',\n",
    " 'Memory_Speed_(GHz)',\n",
    " 'Number of USB 2.0 Ports',\n",
    " 'Operating System',\n",
    " 'Power Source',\n",
    " 'Processor Count',\n",
    " 'Product_Dimensions_(inches)',\n",
    " 'Series',\n",
    " 'Standing screen display size',\n",
    " 'Wireless Type',\n",
    " 'seller',\n",
    " 'seller_link']]"
   ]
  },
  {
   "cell_type": "code",
   "execution_count": 276,
   "metadata": {},
   "outputs": [],
   "source": [
    "new_processor.columns=['ASIN',\n",
    "'title',\n",
    " 'Batteries',\n",
    " 'Best_Sellers_Rank',\n",
    " 'Brand',\n",
    " 'Card_Description',\n",
    " 'Chipset_Brand',\n",
    " 'Color',\n",
    " 'Computer_Memory_Type',\n",
    " 'Customer_Reviews',\n",
    " 'Date_First_Available',\n",
    " 'Flash_Memory_Size',\n",
    " 'Graphics_Coprocessor',\n",
    " 'Hard_Drive_Interface',\n",
    " 'Hardware_Platform',\n",
    " 'Is_Discontinued_By_Manufacturer',\n",
    " 'Item_Dimensions_LxWxH',\n",
    " 'Item_Weight',\n",
    " 'Item_model_number',\n",
    " 'Manufacturer',\n",
    " 'Max_Screen_Resolution',\n",
    " 'Memory_Speed_(GHz)',\n",
    " 'Number_of_USB_2.0_Ports',\n",
    " 'Operating_System',\n",
    " 'Power_Source',\n",
    " 'Processor_Count',\n",
    " 'Product_Dimensions_(inches)',\n",
    " 'Series',\n",
    " 'Standing_screen_display_size',\n",
    " 'Wireless_Type',\n",
    " 'seller',\n",
    " 'seller_link']"
   ]
  },
  {
   "cell_type": "code",
   "execution_count": 277,
   "metadata": {},
   "outputs": [
    {
     "output_type": "execute_result",
     "data": {
      "text/plain": [
       "            ASIN                                              title  \\\n",
       "0     B07STGGQ18  AMD Ryzen 5 3600 6-Core, 12-Thread Unlocked De...   \n",
       "1     B07B41WS48  AMD Ryzen 5 2600 Processor with Wraith Stealth...   \n",
       "2     B089J731BX  Intel Core i9-9900K Desktop Processor 8 Cores ...   \n",
       "3     B07HHN6KBZ  Intel Core i7-9700K Desktop Processor 8 Cores ...   \n",
       "4     B08BKRZB4Z  Industrial Rugged Fanless Silent Mini PC Compu...   \n",
       "...          ...                                                ...   \n",
       "5884  B08GC6VFF2  YEELIYA PCIe USB 3.0 Card Type C USB Card Supe...   \n",
       "5885  B07BMV9WJ4  ASRock B360 Gaming K4 LGA1151/Intel B360/DDR4/...   \n",
       "5886  B08L6HXX2R  Used Like New Notebook Thinkpad T460 Ultrabook...   \n",
       "5887  B081R359ZM  Gigabyte Gv-N165SWF2OC-4GD GeForce GTX 1650 Su...   \n",
       "5888  B07FKTSWNG  ASUS ROG Strix B450-I Gaming AMD AM4 (3rd/2nd ...   \n",
       "\n",
       "                                         Batteries  \\\n",
       "0                                              NaN   \n",
       "1                                              NaN   \n",
       "2                                              NaN   \n",
       "3                                              NaN   \n",
       "4                                              NaN   \n",
       "...                                            ...   \n",
       "5884                                                 \n",
       "5885                                           NaN   \n",
       "5886  1 Lithium ion batteries required. (included)   \n",
       "5887                                           NaN   \n",
       "5888                                           NaN   \n",
       "\n",
       "                                      Best_Sellers_Rank     Brand  \\\n",
       "0                         #1 in Computer CPU Processors       AMD   \n",
       "1                        #17 in Computer CPU Processors       AMD   \n",
       "2                        #13 in Computer CPU Processors     Intel   \n",
       "3                         #7 in Computer CPU Processors     Intel   \n",
       "4     #290,502 in Computers & Accessories ( See Top ...     Intel   \n",
       "...                                                 ...       ...   \n",
       "5884                     #62 in Internal USB Port Cards       NaN   \n",
       "5885                    #2,254 in Computer Motherboards    ASRock   \n",
       "5886  #67,794 in Computers & Accessories ( See Top 1...       N&n   \n",
       "5887                    #687 in Computer Graphics Cards  Gigabyte   \n",
       "5888                      #248 in Computer Motherboards      ASUS   \n",
       "\n",
       "     Card_Description Chipset_Brand Color Computer_Memory_Type  \\\n",
       "0                 NaN           NaN   NaN                  NaN   \n",
       "1                 NaN           NaN   NaN           DDR4 SDRAM   \n",
       "2                 NaN           NaN   NaN                  NaN   \n",
       "3                 NaN           NaN   NaN           DDR4 SDRAM   \n",
       "4                 NaN         Intel   NaN               SODIMM   \n",
       "...               ...           ...   ...                  ...   \n",
       "5884              NaN           NaN   NaN                  NaN   \n",
       "5885              NaN           NaN   NaN           DDR4 SDRAM   \n",
       "5886       Integrated         Intel   NaN     DDR3L-1600 SDRAM   \n",
       "5887       Integrated        NVIDIA   NaN                  NaN   \n",
       "5888              NaN           NaN   NaN           DDR4 SDRAM   \n",
       "\n",
       "                                       Customer_Reviews  ...  \\\n",
       "0     /*\\n* Fix for UDP-1061. Average customer revie...  ...   \n",
       "1     /*\\n* Fix for UDP-1061. Average customer revie...  ...   \n",
       "2     /*\\n* Fix for UDP-1061. Average customer revie...  ...   \n",
       "3     /*\\n* Fix for UDP-1061. Average customer revie...  ...   \n",
       "4     /*\\n* Fix for UDP-1061. Average customer revie...  ...   \n",
       "...                                                 ...  ...   \n",
       "5884  /*\\n* Fix for UDP-1061. Average customer revie...  ...   \n",
       "5885  /*\\n* Fix for UDP-1061. Average customer revie...  ...   \n",
       "5886                                                NaN  ...   \n",
       "5887  /*\\n* Fix for UDP-1061. Average customer revie...  ...   \n",
       "5888  /*\\n* Fix for UDP-1061. Average customer revie...  ...   \n",
       "\n",
       "     Number_of_USB_2.0_Ports Operating_System Power_Source Processor_Count  \\\n",
       "0                       <NA>              NaN          NaN               6   \n",
       "1                       <NA>              NaN          NaN               6   \n",
       "2                       <NA>              NaN          NaN               1   \n",
       "3                          1              NaN          NaN               8   \n",
       "4                          6       Windows 10           DC               6   \n",
       "...                      ...              ...          ...             ...   \n",
       "5884                    <NA>              NaN          NaN            <NA>   \n",
       "5885                       2              NaN          NaN               1   \n",
       "5886                    <NA>          Windows          NaN               2   \n",
       "5887                    <NA>              NaN          NaN            <NA>   \n",
       "5888                       1              NaN          NaN            <NA>   \n",
       "\n",
       "     Product_Dimensions_(inches)                   Series  \\\n",
       "0            1.57 x 1.57 x 0.24                   Ryzen 5   \n",
       "1               1.6 x 1.6 x 0.3                       NaN   \n",
       "2            6.3 x 10.24 x 3.15                       NaN   \n",
       "3            4.57 x 3.98 x 2.76                       NaN   \n",
       "4                   8 x 8 x 1.9            LITESHIELD 2.0   \n",
       "...                          ...                      ...   \n",
       "5884                         NaN                      NaN   \n",
       "5885                         NaN                      NaN   \n",
       "5886                         NaN                     T460   \n",
       "5887                         NaN                      NaN   \n",
       "5888                         NaN  ROG Strix B450-I Gaming   \n",
       "\n",
       "     Standing_screen_display_size                Wireless_Type  \\\n",
       "0                             NaN                          NaN   \n",
       "1                             NaN                      802.11a   \n",
       "2                             NaN                          NaN   \n",
       "3                             NaN                          NaN   \n",
       "4                             NaN                          NaN   \n",
       "...                           ...                          ...   \n",
       "5884                          NaN                          NaN   \n",
       "5885                          NaN                    Bluetooth   \n",
       "5886                  14.1 Inches                     802.11ac   \n",
       "5887                          NaN                          NaN   \n",
       "5888                          NaN  802.11a/b/g/n/ac, Bluetooth   \n",
       "\n",
       "                     seller                                        seller_link  \n",
       "0                      None                                               None  \n",
       "1                      None                                               None  \n",
       "2                 DealsPro1  https://www.amazon.com/gp/help/seller/at-a-gla...  \n",
       "3                      None                                               None  \n",
       "4     Critical Products LLC  https://www.amazon.com/gp/help/seller/at-a-gla...  \n",
       "...                     ...                                                ...  \n",
       "5884                Yeeliya  https://www.amazon.com/gp/help/seller/at-a-gla...  \n",
       "5885                   None                                               None  \n",
       "5886                   None                                               None  \n",
       "5887                   None                                               None  \n",
       "5888              DIO Japan  https://www.amazon.com/gp/help/seller/at-a-gla...  \n",
       "\n",
       "[5777 rows x 32 columns]"
      ],
      "text/html": "<div>\n<style scoped>\n    .dataframe tbody tr th:only-of-type {\n        vertical-align: middle;\n    }\n\n    .dataframe tbody tr th {\n        vertical-align: top;\n    }\n\n    .dataframe thead th {\n        text-align: right;\n    }\n</style>\n<table border=\"1\" class=\"dataframe\">\n  <thead>\n    <tr style=\"text-align: right;\">\n      <th></th>\n      <th>ASIN</th>\n      <th>title</th>\n      <th>Batteries</th>\n      <th>Best_Sellers_Rank</th>\n      <th>Brand</th>\n      <th>Card_Description</th>\n      <th>Chipset_Brand</th>\n      <th>Color</th>\n      <th>Computer_Memory_Type</th>\n      <th>Customer_Reviews</th>\n      <th>...</th>\n      <th>Number_of_USB_2.0_Ports</th>\n      <th>Operating_System</th>\n      <th>Power_Source</th>\n      <th>Processor_Count</th>\n      <th>Product_Dimensions_(inches)</th>\n      <th>Series</th>\n      <th>Standing_screen_display_size</th>\n      <th>Wireless_Type</th>\n      <th>seller</th>\n      <th>seller_link</th>\n    </tr>\n  </thead>\n  <tbody>\n    <tr>\n      <th>0</th>\n      <td>B07STGGQ18</td>\n      <td>AMD Ryzen 5 3600 6-Core, 12-Thread Unlocked De...</td>\n      <td>NaN</td>\n      <td>#1 in Computer CPU Processors</td>\n      <td>AMD</td>\n      <td>NaN</td>\n      <td>NaN</td>\n      <td>NaN</td>\n      <td>NaN</td>\n      <td>/*\\n* Fix for UDP-1061. Average customer revie...</td>\n      <td>...</td>\n      <td>&lt;NA&gt;</td>\n      <td>NaN</td>\n      <td>NaN</td>\n      <td>6</td>\n      <td>1.57 x 1.57 x 0.24</td>\n      <td>Ryzen 5</td>\n      <td>NaN</td>\n      <td>NaN</td>\n      <td>None</td>\n      <td>None</td>\n    </tr>\n    <tr>\n      <th>1</th>\n      <td>B07B41WS48</td>\n      <td>AMD Ryzen 5 2600 Processor with Wraith Stealth...</td>\n      <td>NaN</td>\n      <td>#17 in Computer CPU Processors</td>\n      <td>AMD</td>\n      <td>NaN</td>\n      <td>NaN</td>\n      <td>NaN</td>\n      <td>DDR4 SDRAM</td>\n      <td>/*\\n* Fix for UDP-1061. Average customer revie...</td>\n      <td>...</td>\n      <td>&lt;NA&gt;</td>\n      <td>NaN</td>\n      <td>NaN</td>\n      <td>6</td>\n      <td>1.6 x 1.6 x 0.3</td>\n      <td>NaN</td>\n      <td>NaN</td>\n      <td>802.11a</td>\n      <td>None</td>\n      <td>None</td>\n    </tr>\n    <tr>\n      <th>2</th>\n      <td>B089J731BX</td>\n      <td>Intel Core i9-9900K Desktop Processor 8 Cores ...</td>\n      <td>NaN</td>\n      <td>#13 in Computer CPU Processors</td>\n      <td>Intel</td>\n      <td>NaN</td>\n      <td>NaN</td>\n      <td>NaN</td>\n      <td>NaN</td>\n      <td>/*\\n* Fix for UDP-1061. Average customer revie...</td>\n      <td>...</td>\n      <td>&lt;NA&gt;</td>\n      <td>NaN</td>\n      <td>NaN</td>\n      <td>1</td>\n      <td>6.3 x 10.24 x 3.15</td>\n      <td>NaN</td>\n      <td>NaN</td>\n      <td>NaN</td>\n      <td>DealsPro1</td>\n      <td>https://www.amazon.com/gp/help/seller/at-a-gla...</td>\n    </tr>\n    <tr>\n      <th>3</th>\n      <td>B07HHN6KBZ</td>\n      <td>Intel Core i7-9700K Desktop Processor 8 Cores ...</td>\n      <td>NaN</td>\n      <td>#7 in Computer CPU Processors</td>\n      <td>Intel</td>\n      <td>NaN</td>\n      <td>NaN</td>\n      <td>NaN</td>\n      <td>DDR4 SDRAM</td>\n      <td>/*\\n* Fix for UDP-1061. Average customer revie...</td>\n      <td>...</td>\n      <td>1</td>\n      <td>NaN</td>\n      <td>NaN</td>\n      <td>8</td>\n      <td>4.57 x 3.98 x 2.76</td>\n      <td>NaN</td>\n      <td>NaN</td>\n      <td>NaN</td>\n      <td>None</td>\n      <td>None</td>\n    </tr>\n    <tr>\n      <th>4</th>\n      <td>B08BKRZB4Z</td>\n      <td>Industrial Rugged Fanless Silent Mini PC Compu...</td>\n      <td>NaN</td>\n      <td>#290,502 in Computers &amp; Accessories ( See Top ...</td>\n      <td>Intel</td>\n      <td>NaN</td>\n      <td>Intel</td>\n      <td>NaN</td>\n      <td>SODIMM</td>\n      <td>/*\\n* Fix for UDP-1061. Average customer revie...</td>\n      <td>...</td>\n      <td>6</td>\n      <td>Windows 10</td>\n      <td>DC</td>\n      <td>6</td>\n      <td>8 x 8 x 1.9</td>\n      <td>LITESHIELD 2.0</td>\n      <td>NaN</td>\n      <td>NaN</td>\n      <td>Critical Products LLC</td>\n      <td>https://www.amazon.com/gp/help/seller/at-a-gla...</td>\n    </tr>\n    <tr>\n      <th>...</th>\n      <td>...</td>\n      <td>...</td>\n      <td>...</td>\n      <td>...</td>\n      <td>...</td>\n      <td>...</td>\n      <td>...</td>\n      <td>...</td>\n      <td>...</td>\n      <td>...</td>\n      <td>...</td>\n      <td>...</td>\n      <td>...</td>\n      <td>...</td>\n      <td>...</td>\n      <td>...</td>\n      <td>...</td>\n      <td>...</td>\n      <td>...</td>\n      <td>...</td>\n      <td>...</td>\n    </tr>\n    <tr>\n      <th>5884</th>\n      <td>B08GC6VFF2</td>\n      <td>YEELIYA PCIe USB 3.0 Card Type C USB Card Supe...</td>\n      <td></td>\n      <td>#62 in Internal USB Port Cards</td>\n      <td>NaN</td>\n      <td>NaN</td>\n      <td>NaN</td>\n      <td>NaN</td>\n      <td>NaN</td>\n      <td>/*\\n* Fix for UDP-1061. Average customer revie...</td>\n      <td>...</td>\n      <td>&lt;NA&gt;</td>\n      <td>NaN</td>\n      <td>NaN</td>\n      <td>&lt;NA&gt;</td>\n      <td>NaN</td>\n      <td>NaN</td>\n      <td>NaN</td>\n      <td>NaN</td>\n      <td>Yeeliya</td>\n      <td>https://www.amazon.com/gp/help/seller/at-a-gla...</td>\n    </tr>\n    <tr>\n      <th>5885</th>\n      <td>B07BMV9WJ4</td>\n      <td>ASRock B360 Gaming K4 LGA1151/Intel B360/DDR4/...</td>\n      <td>NaN</td>\n      <td>#2,254 in Computer Motherboards</td>\n      <td>ASRock</td>\n      <td>NaN</td>\n      <td>NaN</td>\n      <td>NaN</td>\n      <td>DDR4 SDRAM</td>\n      <td>/*\\n* Fix for UDP-1061. Average customer revie...</td>\n      <td>...</td>\n      <td>2</td>\n      <td>NaN</td>\n      <td>NaN</td>\n      <td>1</td>\n      <td>NaN</td>\n      <td>NaN</td>\n      <td>NaN</td>\n      <td>Bluetooth</td>\n      <td>None</td>\n      <td>None</td>\n    </tr>\n    <tr>\n      <th>5886</th>\n      <td>B08L6HXX2R</td>\n      <td>Used Like New Notebook Thinkpad T460 Ultrabook...</td>\n      <td>1 Lithium ion batteries required. (included)</td>\n      <td>#67,794 in Computers &amp; Accessories ( See Top 1...</td>\n      <td>N&amp;n</td>\n      <td>Integrated</td>\n      <td>Intel</td>\n      <td>NaN</td>\n      <td>DDR3L-1600 SDRAM</td>\n      <td>NaN</td>\n      <td>...</td>\n      <td>&lt;NA&gt;</td>\n      <td>Windows</td>\n      <td>NaN</td>\n      <td>2</td>\n      <td>NaN</td>\n      <td>T460</td>\n      <td>14.1 Inches</td>\n      <td>802.11ac</td>\n      <td>None</td>\n      <td>None</td>\n    </tr>\n    <tr>\n      <th>5887</th>\n      <td>B081R359ZM</td>\n      <td>Gigabyte Gv-N165SWF2OC-4GD GeForce GTX 1650 Su...</td>\n      <td>NaN</td>\n      <td>#687 in Computer Graphics Cards</td>\n      <td>Gigabyte</td>\n      <td>Integrated</td>\n      <td>NVIDIA</td>\n      <td>NaN</td>\n      <td>NaN</td>\n      <td>/*\\n* Fix for UDP-1061. Average customer revie...</td>\n      <td>...</td>\n      <td>&lt;NA&gt;</td>\n      <td>NaN</td>\n      <td>NaN</td>\n      <td>&lt;NA&gt;</td>\n      <td>NaN</td>\n      <td>NaN</td>\n      <td>NaN</td>\n      <td>NaN</td>\n      <td>None</td>\n      <td>None</td>\n    </tr>\n    <tr>\n      <th>5888</th>\n      <td>B07FKTSWNG</td>\n      <td>ASUS ROG Strix B450-I Gaming AMD AM4 (3rd/2nd ...</td>\n      <td>NaN</td>\n      <td>#248 in Computer Motherboards</td>\n      <td>ASUS</td>\n      <td>NaN</td>\n      <td>NaN</td>\n      <td>NaN</td>\n      <td>DDR4 SDRAM</td>\n      <td>/*\\n* Fix for UDP-1061. Average customer revie...</td>\n      <td>...</td>\n      <td>1</td>\n      <td>NaN</td>\n      <td>NaN</td>\n      <td>&lt;NA&gt;</td>\n      <td>NaN</td>\n      <td>ROG Strix B450-I Gaming</td>\n      <td>NaN</td>\n      <td>802.11a/b/g/n/ac, Bluetooth</td>\n      <td>DIO Japan</td>\n      <td>https://www.amazon.com/gp/help/seller/at-a-gla...</td>\n    </tr>\n  </tbody>\n</table>\n<p>5777 rows × 32 columns</p>\n</div>"
     },
     "metadata": {},
     "execution_count": 277
    }
   ],
   "source": [
    "new_processor"
   ]
  },
  {
   "cell_type": "code",
   "execution_count": 267,
   "metadata": {},
   "outputs": [],
   "source": [
    "a = new_processor['Best_Sellers_Rank'].str.split(expand=True)\n",
    "a.columns=['c1', 'c2', 'c3', 'c4','c5','c6','c7', 'c8', 'c9', 'c41','c51','c61','c12', 'c22', 'c32', 'c42','c52','c62','c13', 'c23', 'c33', 'c43','c53','c63','c14', 'c24', 'c34', 'c44','c54']\n",
    "a[\"c1\"]  = a[\"c1\"] .str.replace('#', '').str.replace(',', '')"
   ]
  },
  {
   "cell_type": "code",
   "execution_count": 268,
   "metadata": {},
   "outputs": [
    {
     "output_type": "execute_result",
     "data": {
      "text/plain": [
       "     Seller_rank\n",
       "0              1\n",
       "1             17\n",
       "2             13\n",
       "3              7\n",
       "4         290502\n",
       "...          ...\n",
       "5884          62\n",
       "5885        2254\n",
       "5886       67794\n",
       "5887         687\n",
       "5888         248\n",
       "\n",
       "[5777 rows x 1 columns]"
      ],
      "text/html": "<div>\n<style scoped>\n    .dataframe tbody tr th:only-of-type {\n        vertical-align: middle;\n    }\n\n    .dataframe tbody tr th {\n        vertical-align: top;\n    }\n\n    .dataframe thead th {\n        text-align: right;\n    }\n</style>\n<table border=\"1\" class=\"dataframe\">\n  <thead>\n    <tr style=\"text-align: right;\">\n      <th></th>\n      <th>Seller_rank</th>\n    </tr>\n  </thead>\n  <tbody>\n    <tr>\n      <th>0</th>\n      <td>1</td>\n    </tr>\n    <tr>\n      <th>1</th>\n      <td>17</td>\n    </tr>\n    <tr>\n      <th>2</th>\n      <td>13</td>\n    </tr>\n    <tr>\n      <th>3</th>\n      <td>7</td>\n    </tr>\n    <tr>\n      <th>4</th>\n      <td>290502</td>\n    </tr>\n    <tr>\n      <th>...</th>\n      <td>...</td>\n    </tr>\n    <tr>\n      <th>5884</th>\n      <td>62</td>\n    </tr>\n    <tr>\n      <th>5885</th>\n      <td>2254</td>\n    </tr>\n    <tr>\n      <th>5886</th>\n      <td>67794</td>\n    </tr>\n    <tr>\n      <th>5887</th>\n      <td>687</td>\n    </tr>\n    <tr>\n      <th>5888</th>\n      <td>248</td>\n    </tr>\n  </tbody>\n</table>\n<p>5777 rows × 1 columns</p>\n</div>"
     },
     "metadata": {},
     "execution_count": 268
    }
   ],
   "source": [
    "a=a.rename(columns={\"c1\":\"Seller_rank\"})\n",
    "x= pd.DataFrame(a.Seller_rank)\n",
    "x"
   ]
  },
  {
   "cell_type": "code",
   "execution_count": 269,
   "metadata": {},
   "outputs": [
    {
     "output_type": "execute_result",
     "data": {
      "text/plain": [
       "           Seller_category\n",
       "0              ComputerCPU\n",
       "1              ComputerCPU\n",
       "2              ComputerCPU\n",
       "3              ComputerCPU\n",
       "4               Computers&\n",
       "...                    ...\n",
       "5884           InternalUSB\n",
       "5885  ComputerMotherboards\n",
       "5886            Computers&\n",
       "5887      ComputerGraphics\n",
       "5888  ComputerMotherboards\n",
       "\n",
       "[5777 rows x 1 columns]"
      ],
      "text/html": "<div>\n<style scoped>\n    .dataframe tbody tr th:only-of-type {\n        vertical-align: middle;\n    }\n\n    .dataframe tbody tr th {\n        vertical-align: top;\n    }\n\n    .dataframe thead th {\n        text-align: right;\n    }\n</style>\n<table border=\"1\" class=\"dataframe\">\n  <thead>\n    <tr style=\"text-align: right;\">\n      <th></th>\n      <th>Seller_category</th>\n    </tr>\n  </thead>\n  <tbody>\n    <tr>\n      <th>0</th>\n      <td>ComputerCPU</td>\n    </tr>\n    <tr>\n      <th>1</th>\n      <td>ComputerCPU</td>\n    </tr>\n    <tr>\n      <th>2</th>\n      <td>ComputerCPU</td>\n    </tr>\n    <tr>\n      <th>3</th>\n      <td>ComputerCPU</td>\n    </tr>\n    <tr>\n      <th>4</th>\n      <td>Computers&amp;</td>\n    </tr>\n    <tr>\n      <th>...</th>\n      <td>...</td>\n    </tr>\n    <tr>\n      <th>5884</th>\n      <td>InternalUSB</td>\n    </tr>\n    <tr>\n      <th>5885</th>\n      <td>ComputerMotherboards</td>\n    </tr>\n    <tr>\n      <th>5886</th>\n      <td>Computers&amp;</td>\n    </tr>\n    <tr>\n      <th>5887</th>\n      <td>ComputerGraphics</td>\n    </tr>\n    <tr>\n      <th>5888</th>\n      <td>ComputerMotherboards</td>\n    </tr>\n  </tbody>\n</table>\n<p>5777 rows × 1 columns</p>\n</div>"
     },
     "metadata": {},
     "execution_count": 269
    }
   ],
   "source": [
    "Seller_category = a.c3 + a.c4\n",
    "y = pd.DataFrame(Seller_category)\n",
    "y.columns = [\"Seller_category\"]\n",
    "y"
   ]
  },
  {
   "cell_type": "code",
   "execution_count": 270,
   "metadata": {},
   "outputs": [],
   "source": [
    "processor = pd.concat([new_processor, x, y],axis=1)\n",
    "processor.drop(columns=\"Best_Sellers_Rank\",inplace=True)"
   ]
  },
  {
   "cell_type": "code",
   "execution_count": 271,
   "metadata": {},
   "outputs": [
    {
     "output_type": "execute_result",
     "data": {
      "text/plain": [
       "            ASIN                                              title  \\\n",
       "0     B07STGGQ18  AMD Ryzen 5 3600 6-Core, 12-Thread Unlocked De...   \n",
       "1     B07B41WS48  AMD Ryzen 5 2600 Processor with Wraith Stealth...   \n",
       "2     B089J731BX  Intel Core i9-9900K Desktop Processor 8 Cores ...   \n",
       "3     B07HHN6KBZ  Intel Core i7-9700K Desktop Processor 8 Cores ...   \n",
       "4     B08BKRZB4Z  Industrial Rugged Fanless Silent Mini PC Compu...   \n",
       "...          ...                                                ...   \n",
       "5884  B08GC6VFF2  YEELIYA PCIe USB 3.0 Card Type C USB Card Supe...   \n",
       "5885  B07BMV9WJ4  ASRock B360 Gaming K4 LGA1151/Intel B360/DDR4/...   \n",
       "5886  B08L6HXX2R  Used Like New Notebook Thinkpad T460 Ultrabook...   \n",
       "5887  B081R359ZM  Gigabyte Gv-N165SWF2OC-4GD GeForce GTX 1650 Su...   \n",
       "5888  B07FKTSWNG  ASUS ROG Strix B450-I Gaming AMD AM4 (3rd/2nd ...   \n",
       "\n",
       "                                         Batteries     Brand Card_Description  \\\n",
       "0                                              NaN       AMD              NaN   \n",
       "1                                              NaN       AMD              NaN   \n",
       "2                                              NaN     Intel              NaN   \n",
       "3                                              NaN     Intel              NaN   \n",
       "4                                              NaN     Intel              NaN   \n",
       "...                                            ...       ...              ...   \n",
       "5884                                                     NaN              NaN   \n",
       "5885                                           NaN    ASRock              NaN   \n",
       "5886  1 Lithium ion batteries required. (included)       N&n       Integrated   \n",
       "5887                                           NaN  Gigabyte       Integrated   \n",
       "5888                                           NaN      ASUS              NaN   \n",
       "\n",
       "     Chipset_Brand Color Computer_Memory_Type  \\\n",
       "0              NaN   NaN                  NaN   \n",
       "1              NaN   NaN           DDR4 SDRAM   \n",
       "2              NaN   NaN                  NaN   \n",
       "3              NaN   NaN           DDR4 SDRAM   \n",
       "4            Intel   NaN               SODIMM   \n",
       "...            ...   ...                  ...   \n",
       "5884           NaN   NaN                  NaN   \n",
       "5885           NaN   NaN           DDR4 SDRAM   \n",
       "5886         Intel   NaN     DDR3L-1600 SDRAM   \n",
       "5887        NVIDIA   NaN                  NaN   \n",
       "5888           NaN   NaN           DDR4 SDRAM   \n",
       "\n",
       "                                       Customer_Reviews Date_First_Available  \\\n",
       "0     /*\\n* Fix for UDP-1061. Average customer revie...         July 1, 2019   \n",
       "1     /*\\n* Fix for UDP-1061. Average customer revie...       April 13, 2018   \n",
       "2     /*\\n* Fix for UDP-1061. Average customer revie...         June 1, 2020   \n",
       "3     /*\\n* Fix for UDP-1061. Average customer revie...      October 8, 2018   \n",
       "4     /*\\n* Fix for UDP-1061. Average customer revie...        June 26, 2020   \n",
       "...                                                 ...                  ...   \n",
       "5884  /*\\n* Fix for UDP-1061. Average customer revie...      August 20, 2020   \n",
       "5885  /*\\n* Fix for UDP-1061. Average customer revie...       April 10, 2018   \n",
       "5886                                                NaN   September 16, 2020   \n",
       "5887  /*\\n* Fix for UDP-1061. Average customer revie...    November 22, 2019   \n",
       "5888  /*\\n* Fix for UDP-1061. Average customer revie...        July 27, 2018   \n",
       "\n",
       "      ... Power_Source Processor_Count Product_Dimensions_(inches)  \\\n",
       "0     ...          NaN               6         1.57 x 1.57 x 0.24    \n",
       "1     ...          NaN               6            1.6 x 1.6 x 0.3    \n",
       "2     ...          NaN               1         6.3 x 10.24 x 3.15    \n",
       "3     ...          NaN               8         4.57 x 3.98 x 2.76    \n",
       "4     ...           DC               6                8 x 8 x 1.9    \n",
       "...   ...          ...             ...                         ...   \n",
       "5884  ...          NaN            <NA>                         NaN   \n",
       "5885  ...          NaN               1                         NaN   \n",
       "5886  ...          NaN               2                         NaN   \n",
       "5887  ...          NaN            <NA>                         NaN   \n",
       "5888  ...          NaN            <NA>                         NaN   \n",
       "\n",
       "                       Series Standing_screen_display_size  \\\n",
       "0                     Ryzen 5                          NaN   \n",
       "1                         NaN                          NaN   \n",
       "2                         NaN                          NaN   \n",
       "3                         NaN                          NaN   \n",
       "4              LITESHIELD 2.0                          NaN   \n",
       "...                       ...                          ...   \n",
       "5884                      NaN                          NaN   \n",
       "5885                      NaN                          NaN   \n",
       "5886                     T460                  14.1 Inches   \n",
       "5887                      NaN                          NaN   \n",
       "5888  ROG Strix B450-I Gaming                          NaN   \n",
       "\n",
       "                    Wireless_Type                 seller  \\\n",
       "0                             NaN                   None   \n",
       "1                         802.11a                   None   \n",
       "2                             NaN              DealsPro1   \n",
       "3                             NaN                   None   \n",
       "4                             NaN  Critical Products LLC   \n",
       "...                           ...                    ...   \n",
       "5884                          NaN                Yeeliya   \n",
       "5885                    Bluetooth                   None   \n",
       "5886                     802.11ac                   None   \n",
       "5887                          NaN                   None   \n",
       "5888  802.11a/b/g/n/ac, Bluetooth              DIO Japan   \n",
       "\n",
       "                                            seller_link Seller_rank  \\\n",
       "0                                                  None           1   \n",
       "1                                                  None          17   \n",
       "2     https://www.amazon.com/gp/help/seller/at-a-gla...          13   \n",
       "3                                                  None           7   \n",
       "4     https://www.amazon.com/gp/help/seller/at-a-gla...      290502   \n",
       "...                                                 ...         ...   \n",
       "5884  https://www.amazon.com/gp/help/seller/at-a-gla...          62   \n",
       "5885                                               None        2254   \n",
       "5886                                               None       67794   \n",
       "5887                                               None         687   \n",
       "5888  https://www.amazon.com/gp/help/seller/at-a-gla...         248   \n",
       "\n",
       "           Seller_category  \n",
       "0              ComputerCPU  \n",
       "1              ComputerCPU  \n",
       "2              ComputerCPU  \n",
       "3              ComputerCPU  \n",
       "4                Computers  \n",
       "...                    ...  \n",
       "5884           InternalUSB  \n",
       "5885  ComputerMotherboards  \n",
       "5886             Computers  \n",
       "5887      ComputerGraphics  \n",
       "5888  ComputerMotherboards  \n",
       "\n",
       "[5777 rows x 33 columns]"
      ],
      "text/html": "<div>\n<style scoped>\n    .dataframe tbody tr th:only-of-type {\n        vertical-align: middle;\n    }\n\n    .dataframe tbody tr th {\n        vertical-align: top;\n    }\n\n    .dataframe thead th {\n        text-align: right;\n    }\n</style>\n<table border=\"1\" class=\"dataframe\">\n  <thead>\n    <tr style=\"text-align: right;\">\n      <th></th>\n      <th>ASIN</th>\n      <th>title</th>\n      <th>Batteries</th>\n      <th>Brand</th>\n      <th>Card_Description</th>\n      <th>Chipset_Brand</th>\n      <th>Color</th>\n      <th>Computer_Memory_Type</th>\n      <th>Customer_Reviews</th>\n      <th>Date_First_Available</th>\n      <th>...</th>\n      <th>Power_Source</th>\n      <th>Processor_Count</th>\n      <th>Product_Dimensions_(inches)</th>\n      <th>Series</th>\n      <th>Standing_screen_display_size</th>\n      <th>Wireless_Type</th>\n      <th>seller</th>\n      <th>seller_link</th>\n      <th>Seller_rank</th>\n      <th>Seller_category</th>\n    </tr>\n  </thead>\n  <tbody>\n    <tr>\n      <th>0</th>\n      <td>B07STGGQ18</td>\n      <td>AMD Ryzen 5 3600 6-Core, 12-Thread Unlocked De...</td>\n      <td>NaN</td>\n      <td>AMD</td>\n      <td>NaN</td>\n      <td>NaN</td>\n      <td>NaN</td>\n      <td>NaN</td>\n      <td>/*\\n* Fix for UDP-1061. Average customer revie...</td>\n      <td>July 1, 2019</td>\n      <td>...</td>\n      <td>NaN</td>\n      <td>6</td>\n      <td>1.57 x 1.57 x 0.24</td>\n      <td>Ryzen 5</td>\n      <td>NaN</td>\n      <td>NaN</td>\n      <td>None</td>\n      <td>None</td>\n      <td>1</td>\n      <td>ComputerCPU</td>\n    </tr>\n    <tr>\n      <th>1</th>\n      <td>B07B41WS48</td>\n      <td>AMD Ryzen 5 2600 Processor with Wraith Stealth...</td>\n      <td>NaN</td>\n      <td>AMD</td>\n      <td>NaN</td>\n      <td>NaN</td>\n      <td>NaN</td>\n      <td>DDR4 SDRAM</td>\n      <td>/*\\n* Fix for UDP-1061. Average customer revie...</td>\n      <td>April 13, 2018</td>\n      <td>...</td>\n      <td>NaN</td>\n      <td>6</td>\n      <td>1.6 x 1.6 x 0.3</td>\n      <td>NaN</td>\n      <td>NaN</td>\n      <td>802.11a</td>\n      <td>None</td>\n      <td>None</td>\n      <td>17</td>\n      <td>ComputerCPU</td>\n    </tr>\n    <tr>\n      <th>2</th>\n      <td>B089J731BX</td>\n      <td>Intel Core i9-9900K Desktop Processor 8 Cores ...</td>\n      <td>NaN</td>\n      <td>Intel</td>\n      <td>NaN</td>\n      <td>NaN</td>\n      <td>NaN</td>\n      <td>NaN</td>\n      <td>/*\\n* Fix for UDP-1061. Average customer revie...</td>\n      <td>June 1, 2020</td>\n      <td>...</td>\n      <td>NaN</td>\n      <td>1</td>\n      <td>6.3 x 10.24 x 3.15</td>\n      <td>NaN</td>\n      <td>NaN</td>\n      <td>NaN</td>\n      <td>DealsPro1</td>\n      <td>https://www.amazon.com/gp/help/seller/at-a-gla...</td>\n      <td>13</td>\n      <td>ComputerCPU</td>\n    </tr>\n    <tr>\n      <th>3</th>\n      <td>B07HHN6KBZ</td>\n      <td>Intel Core i7-9700K Desktop Processor 8 Cores ...</td>\n      <td>NaN</td>\n      <td>Intel</td>\n      <td>NaN</td>\n      <td>NaN</td>\n      <td>NaN</td>\n      <td>DDR4 SDRAM</td>\n      <td>/*\\n* Fix for UDP-1061. Average customer revie...</td>\n      <td>October 8, 2018</td>\n      <td>...</td>\n      <td>NaN</td>\n      <td>8</td>\n      <td>4.57 x 3.98 x 2.76</td>\n      <td>NaN</td>\n      <td>NaN</td>\n      <td>NaN</td>\n      <td>None</td>\n      <td>None</td>\n      <td>7</td>\n      <td>ComputerCPU</td>\n    </tr>\n    <tr>\n      <th>4</th>\n      <td>B08BKRZB4Z</td>\n      <td>Industrial Rugged Fanless Silent Mini PC Compu...</td>\n      <td>NaN</td>\n      <td>Intel</td>\n      <td>NaN</td>\n      <td>Intel</td>\n      <td>NaN</td>\n      <td>SODIMM</td>\n      <td>/*\\n* Fix for UDP-1061. Average customer revie...</td>\n      <td>June 26, 2020</td>\n      <td>...</td>\n      <td>DC</td>\n      <td>6</td>\n      <td>8 x 8 x 1.9</td>\n      <td>LITESHIELD 2.0</td>\n      <td>NaN</td>\n      <td>NaN</td>\n      <td>Critical Products LLC</td>\n      <td>https://www.amazon.com/gp/help/seller/at-a-gla...</td>\n      <td>290502</td>\n      <td>Computers</td>\n    </tr>\n    <tr>\n      <th>...</th>\n      <td>...</td>\n      <td>...</td>\n      <td>...</td>\n      <td>...</td>\n      <td>...</td>\n      <td>...</td>\n      <td>...</td>\n      <td>...</td>\n      <td>...</td>\n      <td>...</td>\n      <td>...</td>\n      <td>...</td>\n      <td>...</td>\n      <td>...</td>\n      <td>...</td>\n      <td>...</td>\n      <td>...</td>\n      <td>...</td>\n      <td>...</td>\n      <td>...</td>\n      <td>...</td>\n    </tr>\n    <tr>\n      <th>5884</th>\n      <td>B08GC6VFF2</td>\n      <td>YEELIYA PCIe USB 3.0 Card Type C USB Card Supe...</td>\n      <td></td>\n      <td>NaN</td>\n      <td>NaN</td>\n      <td>NaN</td>\n      <td>NaN</td>\n      <td>NaN</td>\n      <td>/*\\n* Fix for UDP-1061. Average customer revie...</td>\n      <td>August 20, 2020</td>\n      <td>...</td>\n      <td>NaN</td>\n      <td>&lt;NA&gt;</td>\n      <td>NaN</td>\n      <td>NaN</td>\n      <td>NaN</td>\n      <td>NaN</td>\n      <td>Yeeliya</td>\n      <td>https://www.amazon.com/gp/help/seller/at-a-gla...</td>\n      <td>62</td>\n      <td>InternalUSB</td>\n    </tr>\n    <tr>\n      <th>5885</th>\n      <td>B07BMV9WJ4</td>\n      <td>ASRock B360 Gaming K4 LGA1151/Intel B360/DDR4/...</td>\n      <td>NaN</td>\n      <td>ASRock</td>\n      <td>NaN</td>\n      <td>NaN</td>\n      <td>NaN</td>\n      <td>DDR4 SDRAM</td>\n      <td>/*\\n* Fix for UDP-1061. Average customer revie...</td>\n      <td>April 10, 2018</td>\n      <td>...</td>\n      <td>NaN</td>\n      <td>1</td>\n      <td>NaN</td>\n      <td>NaN</td>\n      <td>NaN</td>\n      <td>Bluetooth</td>\n      <td>None</td>\n      <td>None</td>\n      <td>2254</td>\n      <td>ComputerMotherboards</td>\n    </tr>\n    <tr>\n      <th>5886</th>\n      <td>B08L6HXX2R</td>\n      <td>Used Like New Notebook Thinkpad T460 Ultrabook...</td>\n      <td>1 Lithium ion batteries required. (included)</td>\n      <td>N&amp;n</td>\n      <td>Integrated</td>\n      <td>Intel</td>\n      <td>NaN</td>\n      <td>DDR3L-1600 SDRAM</td>\n      <td>NaN</td>\n      <td>September 16, 2020</td>\n      <td>...</td>\n      <td>NaN</td>\n      <td>2</td>\n      <td>NaN</td>\n      <td>T460</td>\n      <td>14.1 Inches</td>\n      <td>802.11ac</td>\n      <td>None</td>\n      <td>None</td>\n      <td>67794</td>\n      <td>Computers</td>\n    </tr>\n    <tr>\n      <th>5887</th>\n      <td>B081R359ZM</td>\n      <td>Gigabyte Gv-N165SWF2OC-4GD GeForce GTX 1650 Su...</td>\n      <td>NaN</td>\n      <td>Gigabyte</td>\n      <td>Integrated</td>\n      <td>NVIDIA</td>\n      <td>NaN</td>\n      <td>NaN</td>\n      <td>/*\\n* Fix for UDP-1061. Average customer revie...</td>\n      <td>November 22, 2019</td>\n      <td>...</td>\n      <td>NaN</td>\n      <td>&lt;NA&gt;</td>\n      <td>NaN</td>\n      <td>NaN</td>\n      <td>NaN</td>\n      <td>NaN</td>\n      <td>None</td>\n      <td>None</td>\n      <td>687</td>\n      <td>ComputerGraphics</td>\n    </tr>\n    <tr>\n      <th>5888</th>\n      <td>B07FKTSWNG</td>\n      <td>ASUS ROG Strix B450-I Gaming AMD AM4 (3rd/2nd ...</td>\n      <td>NaN</td>\n      <td>ASUS</td>\n      <td>NaN</td>\n      <td>NaN</td>\n      <td>NaN</td>\n      <td>DDR4 SDRAM</td>\n      <td>/*\\n* Fix for UDP-1061. Average customer revie...</td>\n      <td>July 27, 2018</td>\n      <td>...</td>\n      <td>NaN</td>\n      <td>&lt;NA&gt;</td>\n      <td>NaN</td>\n      <td>ROG Strix B450-I Gaming</td>\n      <td>NaN</td>\n      <td>802.11a/b/g/n/ac, Bluetooth</td>\n      <td>DIO Japan</td>\n      <td>https://www.amazon.com/gp/help/seller/at-a-gla...</td>\n      <td>248</td>\n      <td>ComputerMotherboards</td>\n    </tr>\n  </tbody>\n</table>\n<p>5777 rows × 33 columns</p>\n</div>"
     },
     "metadata": {},
     "execution_count": 271
    }
   ],
   "source": [
    "processor.Seller_category = processor.Seller_category.str.replace(\"&\",\"\")\n",
    "processor"
   ]
  },
  {
   "cell_type": "code",
   "execution_count": 272,
   "metadata": {},
   "outputs": [],
   "source": [
    "a = processor[\"Flash_Memory_Size\"].str.split(expand=True)\n",
    "a.columns=[\"a\",\"b\"]\n",
    "a.a = a['a'].astype(float)\n",
    "a['a'] = np.where(a['b'] == 'TB',a['a'] * 1000 ,a['a'])\n",
    "a['a'] = np.where(a['b'] == 'MB',a['a'] / 1000 ,a['a'])\n",
    "processor[\"Flash_Memory_Size\"] = a['a'].round(2)\n",
    "processor = processor.rename(columns={\"Flash_Memory_Size\":\"Memory_Speed_(GB)\"}) "
   ]
  },
  {
   "cell_type": "code",
   "execution_count": 274,
   "metadata": {},
   "outputs": [],
   "source": [
    "processor.drop(columns=[\"Standing_screen_display_size\"], inplace=True)"
   ]
  },
  {
   "cell_type": "code",
   "execution_count": 278,
   "metadata": {},
   "outputs": [],
   "source": [
    "processor = processor.rename(columns={\"Item_Weight\":\"Item_Weight_(pounds)\"}) "
   ]
  },
  {
   "cell_type": "code",
   "execution_count": 286,
   "metadata": {},
   "outputs": [],
   "source": [
    "processor[\"Product_Dimensions_(inches)\"] = processor[\"Product_Dimensions_(inches)\"].fillna(processor[\"Item_Dimensions_LxWxH\"])\n",
    "processor.drop(columns=\"Item_Dimensions_LxWxH\", inplace=True)"
   ]
  },
  {
   "cell_type": "code",
   "execution_count": 289,
   "metadata": {},
   "outputs": [
    {
     "output_type": "execute_result",
     "data": {
      "text/plain": [
       "            ASIN                                              title  \\\n",
       "0     B07STGGQ18  AMD Ryzen 5 3600 6-Core, 12-Thread Unlocked De...   \n",
       "1     B07B41WS48  AMD Ryzen 5 2600 Processor with Wraith Stealth...   \n",
       "2     B089J731BX  Intel Core i9-9900K Desktop Processor 8 Cores ...   \n",
       "3     B07HHN6KBZ  Intel Core i7-9700K Desktop Processor 8 Cores ...   \n",
       "4     B08BKRZB4Z  Industrial Rugged Fanless Silent Mini PC Compu...   \n",
       "...          ...                                                ...   \n",
       "5884  B08GC6VFF2  YEELIYA PCIe USB 3.0 Card Type C USB Card Supe...   \n",
       "5885  B07BMV9WJ4  ASRock B360 Gaming K4 LGA1151/Intel B360/DDR4/...   \n",
       "5886  B08L6HXX2R  Used Like New Notebook Thinkpad T460 Ultrabook...   \n",
       "5887  B081R359ZM  Gigabyte Gv-N165SWF2OC-4GD GeForce GTX 1650 Su...   \n",
       "5888  B07FKTSWNG  ASUS ROG Strix B450-I Gaming AMD AM4 (3rd/2nd ...   \n",
       "\n",
       "                                         Batteries     Brand Card_Description  \\\n",
       "0                                              NaN       AMD              NaN   \n",
       "1                                              NaN       AMD              NaN   \n",
       "2                                              NaN     Intel              NaN   \n",
       "3                                              NaN     Intel              NaN   \n",
       "4                                              NaN     Intel              NaN   \n",
       "...                                            ...       ...              ...   \n",
       "5884                                                     NaN              NaN   \n",
       "5885                                           NaN    ASRock              NaN   \n",
       "5886  1 Lithium ion batteries required. (included)       N&n       Integrated   \n",
       "5887                                           NaN  Gigabyte       Integrated   \n",
       "5888                                           NaN      ASUS              NaN   \n",
       "\n",
       "     Chipset_Brand Color Computer_Memory_Type  \\\n",
       "0              NaN   NaN                  NaN   \n",
       "1              NaN   NaN           DDR4 SDRAM   \n",
       "2              NaN   NaN                  NaN   \n",
       "3              NaN   NaN           DDR4 SDRAM   \n",
       "4            Intel   NaN               SODIMM   \n",
       "...            ...   ...                  ...   \n",
       "5884           NaN   NaN                  NaN   \n",
       "5885           NaN   NaN           DDR4 SDRAM   \n",
       "5886         Intel   NaN     DDR3L-1600 SDRAM   \n",
       "5887        NVIDIA   NaN                  NaN   \n",
       "5888           NaN   NaN           DDR4 SDRAM   \n",
       "\n",
       "                                       Customer_Reviews Date_First_Available  \\\n",
       "0     /*\\n* Fix for UDP-1061. Average customer revie...         July 1, 2019   \n",
       "1     /*\\n* Fix for UDP-1061. Average customer revie...       April 13, 2018   \n",
       "2     /*\\n* Fix for UDP-1061. Average customer revie...         June 1, 2020   \n",
       "3     /*\\n* Fix for UDP-1061. Average customer revie...      October 8, 2018   \n",
       "4     /*\\n* Fix for UDP-1061. Average customer revie...        June 26, 2020   \n",
       "...                                                 ...                  ...   \n",
       "5884  /*\\n* Fix for UDP-1061. Average customer revie...      August 20, 2020   \n",
       "5885  /*\\n* Fix for UDP-1061. Average customer revie...       April 10, 2018   \n",
       "5886                                                NaN   September 16, 2020   \n",
       "5887  /*\\n* Fix for UDP-1061. Average customer revie...    November 22, 2019   \n",
       "5888  /*\\n* Fix for UDP-1061. Average customer revie...        July 27, 2018   \n",
       "\n",
       "      ...  Operating_System Power_Source Processor_Count  \\\n",
       "0     ...               NaN          NaN               6   \n",
       "1     ...               NaN          NaN               6   \n",
       "2     ...               NaN          NaN               1   \n",
       "3     ...               NaN          NaN               8   \n",
       "4     ...        Windows 10           DC               6   \n",
       "...   ...               ...          ...             ...   \n",
       "5884  ...               NaN          NaN            <NA>   \n",
       "5885  ...               NaN          NaN               1   \n",
       "5886  ...           Windows          NaN               2   \n",
       "5887  ...               NaN          NaN            <NA>   \n",
       "5888  ...               NaN          NaN            <NA>   \n",
       "\n",
       "     Product_Dimensions_(inches)                   Series  \\\n",
       "0            1.57 x 1.57 x 0.24                   Ryzen 5   \n",
       "1               1.6 x 1.6 x 0.3                       NaN   \n",
       "2            6.3 x 10.24 x 3.15                       NaN   \n",
       "3            4.57 x 3.98 x 2.76                       NaN   \n",
       "4                   8 x 8 x 1.9            LITESHIELD 2.0   \n",
       "...                          ...                      ...   \n",
       "5884                         NaN                      NaN   \n",
       "5885          12 x 13 x 3 inches                      NaN   \n",
       "5886                         NaN                     T460   \n",
       "5887   8.86 x 4.69 x 1.57 inches                      NaN   \n",
       "5888      8.9 x 7.3 x 3.7 inches  ROG Strix B450-I Gaming   \n",
       "\n",
       "                    Wireless_Type                 seller  \\\n",
       "0                             NaN                   None   \n",
       "1                         802.11a                   None   \n",
       "2                             NaN              DealsPro1   \n",
       "3                             NaN                   None   \n",
       "4                             NaN  Critical Products LLC   \n",
       "...                           ...                    ...   \n",
       "5884                          NaN                Yeeliya   \n",
       "5885                    Bluetooth                   None   \n",
       "5886                     802.11ac                   None   \n",
       "5887                          NaN                   None   \n",
       "5888  802.11a/b/g/n/ac, Bluetooth              DIO Japan   \n",
       "\n",
       "                                            seller_link Seller_rank  \\\n",
       "0                                                  None           1   \n",
       "1                                                  None          17   \n",
       "2     https://www.amazon.com/gp/help/seller/at-a-gla...          13   \n",
       "3                                                  None           7   \n",
       "4     https://www.amazon.com/gp/help/seller/at-a-gla...      290502   \n",
       "...                                                 ...         ...   \n",
       "5884  https://www.amazon.com/gp/help/seller/at-a-gla...          62   \n",
       "5885                                               None        2254   \n",
       "5886                                               None       67794   \n",
       "5887                                               None         687   \n",
       "5888  https://www.amazon.com/gp/help/seller/at-a-gla...         248   \n",
       "\n",
       "           Seller_category  \n",
       "0              ComputerCPU  \n",
       "1              ComputerCPU  \n",
       "2              ComputerCPU  \n",
       "3              ComputerCPU  \n",
       "4                Computers  \n",
       "...                    ...  \n",
       "5884           InternalUSB  \n",
       "5885  ComputerMotherboards  \n",
       "5886             Computers  \n",
       "5887      ComputerGraphics  \n",
       "5888  ComputerMotherboards  \n",
       "\n",
       "[5777 rows x 31 columns]"
      ],
      "text/html": "<div>\n<style scoped>\n    .dataframe tbody tr th:only-of-type {\n        vertical-align: middle;\n    }\n\n    .dataframe tbody tr th {\n        vertical-align: top;\n    }\n\n    .dataframe thead th {\n        text-align: right;\n    }\n</style>\n<table border=\"1\" class=\"dataframe\">\n  <thead>\n    <tr style=\"text-align: right;\">\n      <th></th>\n      <th>ASIN</th>\n      <th>title</th>\n      <th>Batteries</th>\n      <th>Brand</th>\n      <th>Card_Description</th>\n      <th>Chipset_Brand</th>\n      <th>Color</th>\n      <th>Computer_Memory_Type</th>\n      <th>Customer_Reviews</th>\n      <th>Date_First_Available</th>\n      <th>...</th>\n      <th>Operating_System</th>\n      <th>Power_Source</th>\n      <th>Processor_Count</th>\n      <th>Product_Dimensions_(inches)</th>\n      <th>Series</th>\n      <th>Wireless_Type</th>\n      <th>seller</th>\n      <th>seller_link</th>\n      <th>Seller_rank</th>\n      <th>Seller_category</th>\n    </tr>\n  </thead>\n  <tbody>\n    <tr>\n      <th>0</th>\n      <td>B07STGGQ18</td>\n      <td>AMD Ryzen 5 3600 6-Core, 12-Thread Unlocked De...</td>\n      <td>NaN</td>\n      <td>AMD</td>\n      <td>NaN</td>\n      <td>NaN</td>\n      <td>NaN</td>\n      <td>NaN</td>\n      <td>/*\\n* Fix for UDP-1061. Average customer revie...</td>\n      <td>July 1, 2019</td>\n      <td>...</td>\n      <td>NaN</td>\n      <td>NaN</td>\n      <td>6</td>\n      <td>1.57 x 1.57 x 0.24</td>\n      <td>Ryzen 5</td>\n      <td>NaN</td>\n      <td>None</td>\n      <td>None</td>\n      <td>1</td>\n      <td>ComputerCPU</td>\n    </tr>\n    <tr>\n      <th>1</th>\n      <td>B07B41WS48</td>\n      <td>AMD Ryzen 5 2600 Processor with Wraith Stealth...</td>\n      <td>NaN</td>\n      <td>AMD</td>\n      <td>NaN</td>\n      <td>NaN</td>\n      <td>NaN</td>\n      <td>DDR4 SDRAM</td>\n      <td>/*\\n* Fix for UDP-1061. Average customer revie...</td>\n      <td>April 13, 2018</td>\n      <td>...</td>\n      <td>NaN</td>\n      <td>NaN</td>\n      <td>6</td>\n      <td>1.6 x 1.6 x 0.3</td>\n      <td>NaN</td>\n      <td>802.11a</td>\n      <td>None</td>\n      <td>None</td>\n      <td>17</td>\n      <td>ComputerCPU</td>\n    </tr>\n    <tr>\n      <th>2</th>\n      <td>B089J731BX</td>\n      <td>Intel Core i9-9900K Desktop Processor 8 Cores ...</td>\n      <td>NaN</td>\n      <td>Intel</td>\n      <td>NaN</td>\n      <td>NaN</td>\n      <td>NaN</td>\n      <td>NaN</td>\n      <td>/*\\n* Fix for UDP-1061. Average customer revie...</td>\n      <td>June 1, 2020</td>\n      <td>...</td>\n      <td>NaN</td>\n      <td>NaN</td>\n      <td>1</td>\n      <td>6.3 x 10.24 x 3.15</td>\n      <td>NaN</td>\n      <td>NaN</td>\n      <td>DealsPro1</td>\n      <td>https://www.amazon.com/gp/help/seller/at-a-gla...</td>\n      <td>13</td>\n      <td>ComputerCPU</td>\n    </tr>\n    <tr>\n      <th>3</th>\n      <td>B07HHN6KBZ</td>\n      <td>Intel Core i7-9700K Desktop Processor 8 Cores ...</td>\n      <td>NaN</td>\n      <td>Intel</td>\n      <td>NaN</td>\n      <td>NaN</td>\n      <td>NaN</td>\n      <td>DDR4 SDRAM</td>\n      <td>/*\\n* Fix for UDP-1061. Average customer revie...</td>\n      <td>October 8, 2018</td>\n      <td>...</td>\n      <td>NaN</td>\n      <td>NaN</td>\n      <td>8</td>\n      <td>4.57 x 3.98 x 2.76</td>\n      <td>NaN</td>\n      <td>NaN</td>\n      <td>None</td>\n      <td>None</td>\n      <td>7</td>\n      <td>ComputerCPU</td>\n    </tr>\n    <tr>\n      <th>4</th>\n      <td>B08BKRZB4Z</td>\n      <td>Industrial Rugged Fanless Silent Mini PC Compu...</td>\n      <td>NaN</td>\n      <td>Intel</td>\n      <td>NaN</td>\n      <td>Intel</td>\n      <td>NaN</td>\n      <td>SODIMM</td>\n      <td>/*\\n* Fix for UDP-1061. Average customer revie...</td>\n      <td>June 26, 2020</td>\n      <td>...</td>\n      <td>Windows 10</td>\n      <td>DC</td>\n      <td>6</td>\n      <td>8 x 8 x 1.9</td>\n      <td>LITESHIELD 2.0</td>\n      <td>NaN</td>\n      <td>Critical Products LLC</td>\n      <td>https://www.amazon.com/gp/help/seller/at-a-gla...</td>\n      <td>290502</td>\n      <td>Computers</td>\n    </tr>\n    <tr>\n      <th>...</th>\n      <td>...</td>\n      <td>...</td>\n      <td>...</td>\n      <td>...</td>\n      <td>...</td>\n      <td>...</td>\n      <td>...</td>\n      <td>...</td>\n      <td>...</td>\n      <td>...</td>\n      <td>...</td>\n      <td>...</td>\n      <td>...</td>\n      <td>...</td>\n      <td>...</td>\n      <td>...</td>\n      <td>...</td>\n      <td>...</td>\n      <td>...</td>\n      <td>...</td>\n      <td>...</td>\n    </tr>\n    <tr>\n      <th>5884</th>\n      <td>B08GC6VFF2</td>\n      <td>YEELIYA PCIe USB 3.0 Card Type C USB Card Supe...</td>\n      <td></td>\n      <td>NaN</td>\n      <td>NaN</td>\n      <td>NaN</td>\n      <td>NaN</td>\n      <td>NaN</td>\n      <td>/*\\n* Fix for UDP-1061. Average customer revie...</td>\n      <td>August 20, 2020</td>\n      <td>...</td>\n      <td>NaN</td>\n      <td>NaN</td>\n      <td>&lt;NA&gt;</td>\n      <td>NaN</td>\n      <td>NaN</td>\n      <td>NaN</td>\n      <td>Yeeliya</td>\n      <td>https://www.amazon.com/gp/help/seller/at-a-gla...</td>\n      <td>62</td>\n      <td>InternalUSB</td>\n    </tr>\n    <tr>\n      <th>5885</th>\n      <td>B07BMV9WJ4</td>\n      <td>ASRock B360 Gaming K4 LGA1151/Intel B360/DDR4/...</td>\n      <td>NaN</td>\n      <td>ASRock</td>\n      <td>NaN</td>\n      <td>NaN</td>\n      <td>NaN</td>\n      <td>DDR4 SDRAM</td>\n      <td>/*\\n* Fix for UDP-1061. Average customer revie...</td>\n      <td>April 10, 2018</td>\n      <td>...</td>\n      <td>NaN</td>\n      <td>NaN</td>\n      <td>1</td>\n      <td>12 x 13 x 3 inches</td>\n      <td>NaN</td>\n      <td>Bluetooth</td>\n      <td>None</td>\n      <td>None</td>\n      <td>2254</td>\n      <td>ComputerMotherboards</td>\n    </tr>\n    <tr>\n      <th>5886</th>\n      <td>B08L6HXX2R</td>\n      <td>Used Like New Notebook Thinkpad T460 Ultrabook...</td>\n      <td>1 Lithium ion batteries required. (included)</td>\n      <td>N&amp;n</td>\n      <td>Integrated</td>\n      <td>Intel</td>\n      <td>NaN</td>\n      <td>DDR3L-1600 SDRAM</td>\n      <td>NaN</td>\n      <td>September 16, 2020</td>\n      <td>...</td>\n      <td>Windows</td>\n      <td>NaN</td>\n      <td>2</td>\n      <td>NaN</td>\n      <td>T460</td>\n      <td>802.11ac</td>\n      <td>None</td>\n      <td>None</td>\n      <td>67794</td>\n      <td>Computers</td>\n    </tr>\n    <tr>\n      <th>5887</th>\n      <td>B081R359ZM</td>\n      <td>Gigabyte Gv-N165SWF2OC-4GD GeForce GTX 1650 Su...</td>\n      <td>NaN</td>\n      <td>Gigabyte</td>\n      <td>Integrated</td>\n      <td>NVIDIA</td>\n      <td>NaN</td>\n      <td>NaN</td>\n      <td>/*\\n* Fix for UDP-1061. Average customer revie...</td>\n      <td>November 22, 2019</td>\n      <td>...</td>\n      <td>NaN</td>\n      <td>NaN</td>\n      <td>&lt;NA&gt;</td>\n      <td>8.86 x 4.69 x 1.57 inches</td>\n      <td>NaN</td>\n      <td>NaN</td>\n      <td>None</td>\n      <td>None</td>\n      <td>687</td>\n      <td>ComputerGraphics</td>\n    </tr>\n    <tr>\n      <th>5888</th>\n      <td>B07FKTSWNG</td>\n      <td>ASUS ROG Strix B450-I Gaming AMD AM4 (3rd/2nd ...</td>\n      <td>NaN</td>\n      <td>ASUS</td>\n      <td>NaN</td>\n      <td>NaN</td>\n      <td>NaN</td>\n      <td>DDR4 SDRAM</td>\n      <td>/*\\n* Fix for UDP-1061. Average customer revie...</td>\n      <td>July 27, 2018</td>\n      <td>...</td>\n      <td>NaN</td>\n      <td>NaN</td>\n      <td>&lt;NA&gt;</td>\n      <td>8.9 x 7.3 x 3.7 inches</td>\n      <td>ROG Strix B450-I Gaming</td>\n      <td>802.11a/b/g/n/ac, Bluetooth</td>\n      <td>DIO Japan</td>\n      <td>https://www.amazon.com/gp/help/seller/at-a-gla...</td>\n      <td>248</td>\n      <td>ComputerMotherboards</td>\n    </tr>\n  </tbody>\n</table>\n<p>5777 rows × 31 columns</p>\n</div>"
     },
     "metadata": {},
     "execution_count": 289
    }
   ],
   "source": [
    "processor"
   ]
  },
  {
   "cell_type": "code",
   "execution_count": 294,
   "metadata": {},
   "outputs": [
    {
     "output_type": "execute_result",
     "data": {
      "text/plain": [
       "(3501, 31)"
      ]
     },
     "metadata": {},
     "execution_count": 294
    }
   ],
   "source": [
    "processor.drop_duplicates(subset=\"ASIN\", inplace=True)\n",
    "processor = processor.reset_index(drop=True)\n",
    "processor.shape"
   ]
  }
 ]
}