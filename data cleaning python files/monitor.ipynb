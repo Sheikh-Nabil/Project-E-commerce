{
 "metadata": {
  "language_info": {
   "codemirror_mode": {
    "name": "ipython",
    "version": 3
   },
   "file_extension": ".py",
   "mimetype": "text/x-python",
   "name": "python",
   "nbconvert_exporter": "python",
   "pygments_lexer": "ipython3",
   "version": "3.8.5-final"
  },
  "orig_nbformat": 2,
  "kernelspec": {
   "name": "python3",
   "display_name": "Python 3",
   "language": "python"
  }
 },
 "nbformat": 4,
 "nbformat_minor": 2,
 "cells": [
  {
   "cell_type": "code",
   "execution_count": 315,
   "metadata": {},
   "outputs": [],
   "source": [
    "import pandas as pd\n",
    "import numpy as np\n",
    "\n",
    "import pymysql\n",
    "import pandas as pd\n",
    "from sqlalchemy import create_engine"
   ]
  },
  {
   "cell_type": "code",
   "execution_count": 316,
   "metadata": {},
   "outputs": [],
   "source": [
    "df = pd.read_json(r'C:\\Users\\anupd\\OneDrive\\Desktop\\Amazon_scraping1\\monitor\\search_output.json')"
   ]
  },
  {
   "cell_type": "code",
   "execution_count": 317,
   "metadata": {},
   "outputs": [
    {
     "output_type": "execute_result",
     "data": {
      "text/plain": [
       "                                                  title  \\\n",
       "0     Sceptre IPS 24-Inch Business Computer Monitor ...   \n",
       "1     Sceptre 20\" 1600x900 75Hz Ultra Thin LED Monit...   \n",
       "2     Sceptre Curved 27\" 75Hz LED Monitor HDMI VGA B...   \n",
       "3     Sceptre IPS 24-Inch Business Computer Monitor ...   \n",
       "4     BenQ 24 Inch IPS Monitor | 1080P | Proprietary...   \n",
       "...                                                 ...   \n",
       "6967  (5 Pack) 90 Degree Angled 2 Prong to L-Shaped ...   \n",
       "6968  HP Elite 8200 Ultra Slim Desktop PC - Intel Co...   \n",
       "6969  DTECH 15ft DB9 Serial Cable COM Port Male to M...   \n",
       "6970  YES2B 10.1 Inch Laptop Privacy Screen Filter f...   \n",
       "6971  ConnectSense Router Rebooter, Monitors Your In...   \n",
       "\n",
       "                                                    url              rating  \\\n",
       "0     https://www.amazon.com/gp/slredirect/picassoRe...  4.6 out of 5 stars   \n",
       "1     https://www.amazon.com/Sceptre-E205W-16003R-Fr...  4.5 out of 5 stars   \n",
       "2     https://www.amazon.com/Sceptre-Monitor-Speaker...  4.7 out of 5 stars   \n",
       "3     https://www.amazon.com/Sceptre-Business-Comput...  4.6 out of 5 stars   \n",
       "4     https://www.amazon.com/BenQ-proprietary-border...  4.7 out of 5 stars   \n",
       "...                                                 ...                 ...   \n",
       "6967  https://www.amazon.com/Degree-Angled-L-Shaped-...                None   \n",
       "6968  https://www.amazon.com/HP-Elite-8200-Ultra-Des...  4.3 out of 5 stars   \n",
       "6969  https://www.amazon.com/DTECH-RS232-Serial-Stra...  4.5 out of 5 stars   \n",
       "6970  https://www.amazon.com/gp/slredirect/picassoRe...  3.9 out of 5 stars   \n",
       "6971  https://www.amazon.com/gp/slredirect/picassoRe...  2.8 out of 5 stars   \n",
       "\n",
       "     review_count    price  \n",
       "0           1,134  $119.97  \n",
       "1          12,054   $79.97  \n",
       "2           4,828  $169.99  \n",
       "3           1,134  $119.97  \n",
       "4           8,532  $118.69  \n",
       "...           ...      ...  \n",
       "6967         None   $23.99  \n",
       "6968          250  $122.00  \n",
       "6969          102   $10.48  \n",
       "6970           40   $18.99  \n",
       "6971           23   $34.95  \n",
       "\n",
       "[6972 rows x 5 columns]"
      ],
      "text/html": "<div>\n<style scoped>\n    .dataframe tbody tr th:only-of-type {\n        vertical-align: middle;\n    }\n\n    .dataframe tbody tr th {\n        vertical-align: top;\n    }\n\n    .dataframe thead th {\n        text-align: right;\n    }\n</style>\n<table border=\"1\" class=\"dataframe\">\n  <thead>\n    <tr style=\"text-align: right;\">\n      <th></th>\n      <th>title</th>\n      <th>url</th>\n      <th>rating</th>\n      <th>review_count</th>\n      <th>price</th>\n    </tr>\n  </thead>\n  <tbody>\n    <tr>\n      <th>0</th>\n      <td>Sceptre IPS 24-Inch Business Computer Monitor ...</td>\n      <td>https://www.amazon.com/gp/slredirect/picassoRe...</td>\n      <td>4.6 out of 5 stars</td>\n      <td>1,134</td>\n      <td>$119.97</td>\n    </tr>\n    <tr>\n      <th>1</th>\n      <td>Sceptre 20\" 1600x900 75Hz Ultra Thin LED Monit...</td>\n      <td>https://www.amazon.com/Sceptre-E205W-16003R-Fr...</td>\n      <td>4.5 out of 5 stars</td>\n      <td>12,054</td>\n      <td>$79.97</td>\n    </tr>\n    <tr>\n      <th>2</th>\n      <td>Sceptre Curved 27\" 75Hz LED Monitor HDMI VGA B...</td>\n      <td>https://www.amazon.com/Sceptre-Monitor-Speaker...</td>\n      <td>4.7 out of 5 stars</td>\n      <td>4,828</td>\n      <td>$169.99</td>\n    </tr>\n    <tr>\n      <th>3</th>\n      <td>Sceptre IPS 24-Inch Business Computer Monitor ...</td>\n      <td>https://www.amazon.com/Sceptre-Business-Comput...</td>\n      <td>4.6 out of 5 stars</td>\n      <td>1,134</td>\n      <td>$119.97</td>\n    </tr>\n    <tr>\n      <th>4</th>\n      <td>BenQ 24 Inch IPS Monitor | 1080P | Proprietary...</td>\n      <td>https://www.amazon.com/BenQ-proprietary-border...</td>\n      <td>4.7 out of 5 stars</td>\n      <td>8,532</td>\n      <td>$118.69</td>\n    </tr>\n    <tr>\n      <th>...</th>\n      <td>...</td>\n      <td>...</td>\n      <td>...</td>\n      <td>...</td>\n      <td>...</td>\n    </tr>\n    <tr>\n      <th>6967</th>\n      <td>(5 Pack) 90 Degree Angled 2 Prong to L-Shaped ...</td>\n      <td>https://www.amazon.com/Degree-Angled-L-Shaped-...</td>\n      <td>None</td>\n      <td>None</td>\n      <td>$23.99</td>\n    </tr>\n    <tr>\n      <th>6968</th>\n      <td>HP Elite 8200 Ultra Slim Desktop PC - Intel Co...</td>\n      <td>https://www.amazon.com/HP-Elite-8200-Ultra-Des...</td>\n      <td>4.3 out of 5 stars</td>\n      <td>250</td>\n      <td>$122.00</td>\n    </tr>\n    <tr>\n      <th>6969</th>\n      <td>DTECH 15ft DB9 Serial Cable COM Port Male to M...</td>\n      <td>https://www.amazon.com/DTECH-RS232-Serial-Stra...</td>\n      <td>4.5 out of 5 stars</td>\n      <td>102</td>\n      <td>$10.48</td>\n    </tr>\n    <tr>\n      <th>6970</th>\n      <td>YES2B 10.1 Inch Laptop Privacy Screen Filter f...</td>\n      <td>https://www.amazon.com/gp/slredirect/picassoRe...</td>\n      <td>3.9 out of 5 stars</td>\n      <td>40</td>\n      <td>$18.99</td>\n    </tr>\n    <tr>\n      <th>6971</th>\n      <td>ConnectSense Router Rebooter, Monitors Your In...</td>\n      <td>https://www.amazon.com/gp/slredirect/picassoRe...</td>\n      <td>2.8 out of 5 stars</td>\n      <td>23</td>\n      <td>$34.95</td>\n    </tr>\n  </tbody>\n</table>\n<p>6972 rows × 5 columns</p>\n</div>"
     },
     "metadata": {},
     "execution_count": 317
    }
   ],
   "source": [
    "df"
   ]
  },
  {
   "cell_type": "code",
   "execution_count": 318,
   "metadata": {},
   "outputs": [
    {
     "output_type": "execute_result",
     "data": {
      "text/plain": [
       "title           object\n",
       "url             object\n",
       "rating          object\n",
       "review_count    object\n",
       "price           object\n",
       "dtype: object"
      ]
     },
     "metadata": {},
     "execution_count": 318
    }
   ],
   "source": [
    "df.dtypes"
   ]
  },
  {
   "cell_type": "code",
   "execution_count": 319,
   "metadata": {},
   "outputs": [
    {
     "output_type": "execute_result",
     "data": {
      "text/plain": [
       "title              0\n",
       "url                0\n",
       "rating          1143\n",
       "review_count    1143\n",
       "price            240\n",
       "dtype: int64"
      ]
     },
     "metadata": {},
     "execution_count": 319
    }
   ],
   "source": [
    "df.isnull().sum()"
   ]
  },
  {
   "cell_type": "code",
   "execution_count": 320,
   "metadata": {},
   "outputs": [],
   "source": [
    "df.dropna(inplace= True)"
   ]
  },
  {
   "cell_type": "code",
   "execution_count": 321,
   "metadata": {},
   "outputs": [
    {
     "output_type": "execute_result",
     "data": {
      "text/plain": [
       "                                               title  \\\n",
       "0  Sceptre IPS 24-Inch Business Computer Monitor ...   \n",
       "1  Sceptre 20\" 1600x900 75Hz Ultra Thin LED Monit...   \n",
       "2  Sceptre Curved 27\" 75Hz LED Monitor HDMI VGA B...   \n",
       "3  Sceptre IPS 24-Inch Business Computer Monitor ...   \n",
       "4  BenQ 24 Inch IPS Monitor | 1080P | Proprietary...   \n",
       "\n",
       "                                                 url              rating  \\\n",
       "0  https://www.amazon.com/gp/slredirect/picassoRe...  4.6 out of 5 stars   \n",
       "1  https://www.amazon.com/Sceptre-E205W-16003R-Fr...  4.5 out of 5 stars   \n",
       "2  https://www.amazon.com/Sceptre-Monitor-Speaker...  4.7 out of 5 stars   \n",
       "3  https://www.amazon.com/Sceptre-Business-Comput...  4.6 out of 5 stars   \n",
       "4  https://www.amazon.com/BenQ-proprietary-border...  4.7 out of 5 stars   \n",
       "\n",
       "  review_count    price  \n",
       "0        1,134  $119.97  \n",
       "1       12,054   $79.97  \n",
       "2        4,828  $169.99  \n",
       "3        1,134  $119.97  \n",
       "4        8,532  $118.69  "
      ],
      "text/html": "<div>\n<style scoped>\n    .dataframe tbody tr th:only-of-type {\n        vertical-align: middle;\n    }\n\n    .dataframe tbody tr th {\n        vertical-align: top;\n    }\n\n    .dataframe thead th {\n        text-align: right;\n    }\n</style>\n<table border=\"1\" class=\"dataframe\">\n  <thead>\n    <tr style=\"text-align: right;\">\n      <th></th>\n      <th>title</th>\n      <th>url</th>\n      <th>rating</th>\n      <th>review_count</th>\n      <th>price</th>\n    </tr>\n  </thead>\n  <tbody>\n    <tr>\n      <th>0</th>\n      <td>Sceptre IPS 24-Inch Business Computer Monitor ...</td>\n      <td>https://www.amazon.com/gp/slredirect/picassoRe...</td>\n      <td>4.6 out of 5 stars</td>\n      <td>1,134</td>\n      <td>$119.97</td>\n    </tr>\n    <tr>\n      <th>1</th>\n      <td>Sceptre 20\" 1600x900 75Hz Ultra Thin LED Monit...</td>\n      <td>https://www.amazon.com/Sceptre-E205W-16003R-Fr...</td>\n      <td>4.5 out of 5 stars</td>\n      <td>12,054</td>\n      <td>$79.97</td>\n    </tr>\n    <tr>\n      <th>2</th>\n      <td>Sceptre Curved 27\" 75Hz LED Monitor HDMI VGA B...</td>\n      <td>https://www.amazon.com/Sceptre-Monitor-Speaker...</td>\n      <td>4.7 out of 5 stars</td>\n      <td>4,828</td>\n      <td>$169.99</td>\n    </tr>\n    <tr>\n      <th>3</th>\n      <td>Sceptre IPS 24-Inch Business Computer Monitor ...</td>\n      <td>https://www.amazon.com/Sceptre-Business-Comput...</td>\n      <td>4.6 out of 5 stars</td>\n      <td>1,134</td>\n      <td>$119.97</td>\n    </tr>\n    <tr>\n      <th>4</th>\n      <td>BenQ 24 Inch IPS Monitor | 1080P | Proprietary...</td>\n      <td>https://www.amazon.com/BenQ-proprietary-border...</td>\n      <td>4.7 out of 5 stars</td>\n      <td>8,532</td>\n      <td>$118.69</td>\n    </tr>\n  </tbody>\n</table>\n</div>"
     },
     "metadata": {},
     "execution_count": 321
    }
   ],
   "source": [
    "df.head(5)"
   ]
  },
  {
   "cell_type": "code",
   "execution_count": 322,
   "metadata": {},
   "outputs": [
    {
     "output_type": "execute_result",
     "data": {
      "text/plain": [
       "0       4.6\n",
       "1       4.5\n",
       "2       4.7\n",
       "3       4.6\n",
       "4       4.7\n",
       "       ... \n",
       "6966    4.6\n",
       "6968    4.3\n",
       "6969    4.5\n",
       "6970    3.9\n",
       "6971    2.8\n",
       "Name: rating, Length: 5607, dtype: object"
      ]
     },
     "metadata": {},
     "execution_count": 322
    }
   ],
   "source": [
    "df['rating'].map(lambda x:x.split(' ', 1)[0])"
   ]
  },
  {
   "cell_type": "code",
   "execution_count": 323,
   "metadata": {},
   "outputs": [
    {
     "output_type": "execute_result",
     "data": {
      "text/plain": [
       "                                                  title  \\\n",
       "0     Sceptre IPS 24-Inch Business Computer Monitor ...   \n",
       "1     Sceptre 20\" 1600x900 75Hz Ultra Thin LED Monit...   \n",
       "2     Sceptre Curved 27\" 75Hz LED Monitor HDMI VGA B...   \n",
       "3     Sceptre IPS 24-Inch Business Computer Monitor ...   \n",
       "4     BenQ 24 Inch IPS Monitor | 1080P | Proprietary...   \n",
       "...                                                 ...   \n",
       "6966  Deeirao 4 Port 15 Pin Female(4 in 1 Out) VGA S...   \n",
       "6968  HP Elite 8200 Ultra Slim Desktop PC - Intel Co...   \n",
       "6969  DTECH 15ft DB9 Serial Cable COM Port Male to M...   \n",
       "6970  YES2B 10.1 Inch Laptop Privacy Screen Filter f...   \n",
       "6971  ConnectSense Router Rebooter, Monitors Your In...   \n",
       "\n",
       "                                                    url rating review_count  \\\n",
       "0     https://www.amazon.com/gp/slredirect/picassoRe...    4.6        1,134   \n",
       "1     https://www.amazon.com/Sceptre-E205W-16003R-Fr...    4.5       12,054   \n",
       "2     https://www.amazon.com/Sceptre-Monitor-Speaker...    4.7        4,828   \n",
       "3     https://www.amazon.com/Sceptre-Business-Comput...    4.6        1,134   \n",
       "4     https://www.amazon.com/BenQ-proprietary-border...    4.7        8,532   \n",
       "...                                                 ...    ...          ...   \n",
       "6966  https://www.amazon.com/Deeirao-Female-Resoluti...    4.6           29   \n",
       "6968  https://www.amazon.com/HP-Elite-8200-Ultra-Des...    4.3          250   \n",
       "6969  https://www.amazon.com/DTECH-RS232-Serial-Stra...    4.5          102   \n",
       "6970  https://www.amazon.com/gp/slredirect/picassoRe...    3.9           40   \n",
       "6971  https://www.amazon.com/gp/slredirect/picassoRe...    2.8           23   \n",
       "\n",
       "        price  \n",
       "0     $119.97  \n",
       "1      $79.97  \n",
       "2     $169.99  \n",
       "3     $119.97  \n",
       "4     $118.69  \n",
       "...       ...  \n",
       "6966   $13.99  \n",
       "6968  $122.00  \n",
       "6969   $10.48  \n",
       "6970   $18.99  \n",
       "6971   $34.95  \n",
       "\n",
       "[5607 rows x 5 columns]"
      ],
      "text/html": "<div>\n<style scoped>\n    .dataframe tbody tr th:only-of-type {\n        vertical-align: middle;\n    }\n\n    .dataframe tbody tr th {\n        vertical-align: top;\n    }\n\n    .dataframe thead th {\n        text-align: right;\n    }\n</style>\n<table border=\"1\" class=\"dataframe\">\n  <thead>\n    <tr style=\"text-align: right;\">\n      <th></th>\n      <th>title</th>\n      <th>url</th>\n      <th>rating</th>\n      <th>review_count</th>\n      <th>price</th>\n    </tr>\n  </thead>\n  <tbody>\n    <tr>\n      <th>0</th>\n      <td>Sceptre IPS 24-Inch Business Computer Monitor ...</td>\n      <td>https://www.amazon.com/gp/slredirect/picassoRe...</td>\n      <td>4.6</td>\n      <td>1,134</td>\n      <td>$119.97</td>\n    </tr>\n    <tr>\n      <th>1</th>\n      <td>Sceptre 20\" 1600x900 75Hz Ultra Thin LED Monit...</td>\n      <td>https://www.amazon.com/Sceptre-E205W-16003R-Fr...</td>\n      <td>4.5</td>\n      <td>12,054</td>\n      <td>$79.97</td>\n    </tr>\n    <tr>\n      <th>2</th>\n      <td>Sceptre Curved 27\" 75Hz LED Monitor HDMI VGA B...</td>\n      <td>https://www.amazon.com/Sceptre-Monitor-Speaker...</td>\n      <td>4.7</td>\n      <td>4,828</td>\n      <td>$169.99</td>\n    </tr>\n    <tr>\n      <th>3</th>\n      <td>Sceptre IPS 24-Inch Business Computer Monitor ...</td>\n      <td>https://www.amazon.com/Sceptre-Business-Comput...</td>\n      <td>4.6</td>\n      <td>1,134</td>\n      <td>$119.97</td>\n    </tr>\n    <tr>\n      <th>4</th>\n      <td>BenQ 24 Inch IPS Monitor | 1080P | Proprietary...</td>\n      <td>https://www.amazon.com/BenQ-proprietary-border...</td>\n      <td>4.7</td>\n      <td>8,532</td>\n      <td>$118.69</td>\n    </tr>\n    <tr>\n      <th>...</th>\n      <td>...</td>\n      <td>...</td>\n      <td>...</td>\n      <td>...</td>\n      <td>...</td>\n    </tr>\n    <tr>\n      <th>6966</th>\n      <td>Deeirao 4 Port 15 Pin Female(4 in 1 Out) VGA S...</td>\n      <td>https://www.amazon.com/Deeirao-Female-Resoluti...</td>\n      <td>4.6</td>\n      <td>29</td>\n      <td>$13.99</td>\n    </tr>\n    <tr>\n      <th>6968</th>\n      <td>HP Elite 8200 Ultra Slim Desktop PC - Intel Co...</td>\n      <td>https://www.amazon.com/HP-Elite-8200-Ultra-Des...</td>\n      <td>4.3</td>\n      <td>250</td>\n      <td>$122.00</td>\n    </tr>\n    <tr>\n      <th>6969</th>\n      <td>DTECH 15ft DB9 Serial Cable COM Port Male to M...</td>\n      <td>https://www.amazon.com/DTECH-RS232-Serial-Stra...</td>\n      <td>4.5</td>\n      <td>102</td>\n      <td>$10.48</td>\n    </tr>\n    <tr>\n      <th>6970</th>\n      <td>YES2B 10.1 Inch Laptop Privacy Screen Filter f...</td>\n      <td>https://www.amazon.com/gp/slredirect/picassoRe...</td>\n      <td>3.9</td>\n      <td>40</td>\n      <td>$18.99</td>\n    </tr>\n    <tr>\n      <th>6971</th>\n      <td>ConnectSense Router Rebooter, Monitors Your In...</td>\n      <td>https://www.amazon.com/gp/slredirect/picassoRe...</td>\n      <td>2.8</td>\n      <td>23</td>\n      <td>$34.95</td>\n    </tr>\n  </tbody>\n</table>\n<p>5607 rows × 5 columns</p>\n</div>"
     },
     "metadata": {},
     "execution_count": 323
    }
   ],
   "source": [
    "df.rating = df['rating'].map(lambda x:x.split(' ', 1)[0])\n",
    "df"
   ]
  },
  {
   "cell_type": "code",
   "execution_count": 324,
   "metadata": {},
   "outputs": [],
   "source": [
    "df.rating = df.rating.astype(float)"
   ]
  },
  {
   "cell_type": "code",
   "execution_count": 325,
   "metadata": {},
   "outputs": [],
   "source": [
    "df['review_count'] = df['review_count'].str.replace(',', '').astype(int)"
   ]
  },
  {
   "cell_type": "code",
   "execution_count": 326,
   "metadata": {},
   "outputs": [
    {
     "output_type": "execute_result",
     "data": {
      "text/plain": [
       "                                                  title  \\\n",
       "0     Sceptre IPS 24-Inch Business Computer Monitor ...   \n",
       "1     Sceptre 20\" 1600x900 75Hz Ultra Thin LED Monit...   \n",
       "2     Sceptre Curved 27\" 75Hz LED Monitor HDMI VGA B...   \n",
       "3     Sceptre IPS 24-Inch Business Computer Monitor ...   \n",
       "4     BenQ 24 Inch IPS Monitor | 1080P | Proprietary...   \n",
       "...                                                 ...   \n",
       "6966  Deeirao 4 Port 15 Pin Female(4 in 1 Out) VGA S...   \n",
       "6968  HP Elite 8200 Ultra Slim Desktop PC - Intel Co...   \n",
       "6969  DTECH 15ft DB9 Serial Cable COM Port Male to M...   \n",
       "6970  YES2B 10.1 Inch Laptop Privacy Screen Filter f...   \n",
       "6971  ConnectSense Router Rebooter, Monitors Your In...   \n",
       "\n",
       "                                                    url  rating  review_count  \\\n",
       "0     https://www.amazon.com/gp/slredirect/picassoRe...     4.6          1134   \n",
       "1     https://www.amazon.com/Sceptre-E205W-16003R-Fr...     4.5         12054   \n",
       "2     https://www.amazon.com/Sceptre-Monitor-Speaker...     4.7          4828   \n",
       "3     https://www.amazon.com/Sceptre-Business-Comput...     4.6          1134   \n",
       "4     https://www.amazon.com/BenQ-proprietary-border...     4.7          8532   \n",
       "...                                                 ...     ...           ...   \n",
       "6966  https://www.amazon.com/Deeirao-Female-Resoluti...     4.6            29   \n",
       "6968  https://www.amazon.com/HP-Elite-8200-Ultra-Des...     4.3           250   \n",
       "6969  https://www.amazon.com/DTECH-RS232-Serial-Stra...     4.5           102   \n",
       "6970  https://www.amazon.com/gp/slredirect/picassoRe...     3.9            40   \n",
       "6971  https://www.amazon.com/gp/slredirect/picassoRe...     2.8            23   \n",
       "\n",
       "        price  \n",
       "0     $119.97  \n",
       "1      $79.97  \n",
       "2     $169.99  \n",
       "3     $119.97  \n",
       "4     $118.69  \n",
       "...       ...  \n",
       "6966   $13.99  \n",
       "6968  $122.00  \n",
       "6969   $10.48  \n",
       "6970   $18.99  \n",
       "6971   $34.95  \n",
       "\n",
       "[5607 rows x 5 columns]"
      ],
      "text/html": "<div>\n<style scoped>\n    .dataframe tbody tr th:only-of-type {\n        vertical-align: middle;\n    }\n\n    .dataframe tbody tr th {\n        vertical-align: top;\n    }\n\n    .dataframe thead th {\n        text-align: right;\n    }\n</style>\n<table border=\"1\" class=\"dataframe\">\n  <thead>\n    <tr style=\"text-align: right;\">\n      <th></th>\n      <th>title</th>\n      <th>url</th>\n      <th>rating</th>\n      <th>review_count</th>\n      <th>price</th>\n    </tr>\n  </thead>\n  <tbody>\n    <tr>\n      <th>0</th>\n      <td>Sceptre IPS 24-Inch Business Computer Monitor ...</td>\n      <td>https://www.amazon.com/gp/slredirect/picassoRe...</td>\n      <td>4.6</td>\n      <td>1134</td>\n      <td>$119.97</td>\n    </tr>\n    <tr>\n      <th>1</th>\n      <td>Sceptre 20\" 1600x900 75Hz Ultra Thin LED Monit...</td>\n      <td>https://www.amazon.com/Sceptre-E205W-16003R-Fr...</td>\n      <td>4.5</td>\n      <td>12054</td>\n      <td>$79.97</td>\n    </tr>\n    <tr>\n      <th>2</th>\n      <td>Sceptre Curved 27\" 75Hz LED Monitor HDMI VGA B...</td>\n      <td>https://www.amazon.com/Sceptre-Monitor-Speaker...</td>\n      <td>4.7</td>\n      <td>4828</td>\n      <td>$169.99</td>\n    </tr>\n    <tr>\n      <th>3</th>\n      <td>Sceptre IPS 24-Inch Business Computer Monitor ...</td>\n      <td>https://www.amazon.com/Sceptre-Business-Comput...</td>\n      <td>4.6</td>\n      <td>1134</td>\n      <td>$119.97</td>\n    </tr>\n    <tr>\n      <th>4</th>\n      <td>BenQ 24 Inch IPS Monitor | 1080P | Proprietary...</td>\n      <td>https://www.amazon.com/BenQ-proprietary-border...</td>\n      <td>4.7</td>\n      <td>8532</td>\n      <td>$118.69</td>\n    </tr>\n    <tr>\n      <th>...</th>\n      <td>...</td>\n      <td>...</td>\n      <td>...</td>\n      <td>...</td>\n      <td>...</td>\n    </tr>\n    <tr>\n      <th>6966</th>\n      <td>Deeirao 4 Port 15 Pin Female(4 in 1 Out) VGA S...</td>\n      <td>https://www.amazon.com/Deeirao-Female-Resoluti...</td>\n      <td>4.6</td>\n      <td>29</td>\n      <td>$13.99</td>\n    </tr>\n    <tr>\n      <th>6968</th>\n      <td>HP Elite 8200 Ultra Slim Desktop PC - Intel Co...</td>\n      <td>https://www.amazon.com/HP-Elite-8200-Ultra-Des...</td>\n      <td>4.3</td>\n      <td>250</td>\n      <td>$122.00</td>\n    </tr>\n    <tr>\n      <th>6969</th>\n      <td>DTECH 15ft DB9 Serial Cable COM Port Male to M...</td>\n      <td>https://www.amazon.com/DTECH-RS232-Serial-Stra...</td>\n      <td>4.5</td>\n      <td>102</td>\n      <td>$10.48</td>\n    </tr>\n    <tr>\n      <th>6970</th>\n      <td>YES2B 10.1 Inch Laptop Privacy Screen Filter f...</td>\n      <td>https://www.amazon.com/gp/slredirect/picassoRe...</td>\n      <td>3.9</td>\n      <td>40</td>\n      <td>$18.99</td>\n    </tr>\n    <tr>\n      <th>6971</th>\n      <td>ConnectSense Router Rebooter, Monitors Your In...</td>\n      <td>https://www.amazon.com/gp/slredirect/picassoRe...</td>\n      <td>2.8</td>\n      <td>23</td>\n      <td>$34.95</td>\n    </tr>\n  </tbody>\n</table>\n<p>5607 rows × 5 columns</p>\n</div>"
     },
     "metadata": {},
     "execution_count": 326
    }
   ],
   "source": [
    "df"
   ]
  },
  {
   "cell_type": "code",
   "execution_count": 327,
   "metadata": {},
   "outputs": [
    {
     "output_type": "execute_result",
     "data": {
      "text/plain": [
       "title            object\n",
       "url              object\n",
       "rating          float64\n",
       "review_count      int32\n",
       "price            object\n",
       "dtype: object"
      ]
     },
     "metadata": {},
     "execution_count": 327
    }
   ],
   "source": [
    "df.dtypes"
   ]
  },
  {
   "cell_type": "code",
   "execution_count": 328,
   "metadata": {},
   "outputs": [],
   "source": [
    "df['price'] = df['price'].str.replace('$', '').str.replace(',', '').astype(float)"
   ]
  },
  {
   "cell_type": "code",
   "execution_count": 329,
   "metadata": {},
   "outputs": [
    {
     "output_type": "execute_result",
     "data": {
      "text/plain": [
       "                                                  title  \\\n",
       "0     Sceptre IPS 24-Inch Business Computer Monitor ...   \n",
       "1     Sceptre 20\" 1600x900 75Hz Ultra Thin LED Monit...   \n",
       "2     Sceptre Curved 27\" 75Hz LED Monitor HDMI VGA B...   \n",
       "3     Sceptre IPS 24-Inch Business Computer Monitor ...   \n",
       "4     BenQ 24 Inch IPS Monitor | 1080P | Proprietary...   \n",
       "...                                                 ...   \n",
       "6966  Deeirao 4 Port 15 Pin Female(4 in 1 Out) VGA S...   \n",
       "6968  HP Elite 8200 Ultra Slim Desktop PC - Intel Co...   \n",
       "6969  DTECH 15ft DB9 Serial Cable COM Port Male to M...   \n",
       "6970  YES2B 10.1 Inch Laptop Privacy Screen Filter f...   \n",
       "6971  ConnectSense Router Rebooter, Monitors Your In...   \n",
       "\n",
       "                                                    url  rating  review_count  \\\n",
       "0     https://www.amazon.com/gp/slredirect/picassoRe...     4.6          1134   \n",
       "1     https://www.amazon.com/Sceptre-E205W-16003R-Fr...     4.5         12054   \n",
       "2     https://www.amazon.com/Sceptre-Monitor-Speaker...     4.7          4828   \n",
       "3     https://www.amazon.com/Sceptre-Business-Comput...     4.6          1134   \n",
       "4     https://www.amazon.com/BenQ-proprietary-border...     4.7          8532   \n",
       "...                                                 ...     ...           ...   \n",
       "6966  https://www.amazon.com/Deeirao-Female-Resoluti...     4.6            29   \n",
       "6968  https://www.amazon.com/HP-Elite-8200-Ultra-Des...     4.3           250   \n",
       "6969  https://www.amazon.com/DTECH-RS232-Serial-Stra...     4.5           102   \n",
       "6970  https://www.amazon.com/gp/slredirect/picassoRe...     3.9            40   \n",
       "6971  https://www.amazon.com/gp/slredirect/picassoRe...     2.8            23   \n",
       "\n",
       "       price  \n",
       "0     119.97  \n",
       "1      79.97  \n",
       "2     169.99  \n",
       "3     119.97  \n",
       "4     118.69  \n",
       "...      ...  \n",
       "6966   13.99  \n",
       "6968  122.00  \n",
       "6969   10.48  \n",
       "6970   18.99  \n",
       "6971   34.95  \n",
       "\n",
       "[5607 rows x 5 columns]"
      ],
      "text/html": "<div>\n<style scoped>\n    .dataframe tbody tr th:only-of-type {\n        vertical-align: middle;\n    }\n\n    .dataframe tbody tr th {\n        vertical-align: top;\n    }\n\n    .dataframe thead th {\n        text-align: right;\n    }\n</style>\n<table border=\"1\" class=\"dataframe\">\n  <thead>\n    <tr style=\"text-align: right;\">\n      <th></th>\n      <th>title</th>\n      <th>url</th>\n      <th>rating</th>\n      <th>review_count</th>\n      <th>price</th>\n    </tr>\n  </thead>\n  <tbody>\n    <tr>\n      <th>0</th>\n      <td>Sceptre IPS 24-Inch Business Computer Monitor ...</td>\n      <td>https://www.amazon.com/gp/slredirect/picassoRe...</td>\n      <td>4.6</td>\n      <td>1134</td>\n      <td>119.97</td>\n    </tr>\n    <tr>\n      <th>1</th>\n      <td>Sceptre 20\" 1600x900 75Hz Ultra Thin LED Monit...</td>\n      <td>https://www.amazon.com/Sceptre-E205W-16003R-Fr...</td>\n      <td>4.5</td>\n      <td>12054</td>\n      <td>79.97</td>\n    </tr>\n    <tr>\n      <th>2</th>\n      <td>Sceptre Curved 27\" 75Hz LED Monitor HDMI VGA B...</td>\n      <td>https://www.amazon.com/Sceptre-Monitor-Speaker...</td>\n      <td>4.7</td>\n      <td>4828</td>\n      <td>169.99</td>\n    </tr>\n    <tr>\n      <th>3</th>\n      <td>Sceptre IPS 24-Inch Business Computer Monitor ...</td>\n      <td>https://www.amazon.com/Sceptre-Business-Comput...</td>\n      <td>4.6</td>\n      <td>1134</td>\n      <td>119.97</td>\n    </tr>\n    <tr>\n      <th>4</th>\n      <td>BenQ 24 Inch IPS Monitor | 1080P | Proprietary...</td>\n      <td>https://www.amazon.com/BenQ-proprietary-border...</td>\n      <td>4.7</td>\n      <td>8532</td>\n      <td>118.69</td>\n    </tr>\n    <tr>\n      <th>...</th>\n      <td>...</td>\n      <td>...</td>\n      <td>...</td>\n      <td>...</td>\n      <td>...</td>\n    </tr>\n    <tr>\n      <th>6966</th>\n      <td>Deeirao 4 Port 15 Pin Female(4 in 1 Out) VGA S...</td>\n      <td>https://www.amazon.com/Deeirao-Female-Resoluti...</td>\n      <td>4.6</td>\n      <td>29</td>\n      <td>13.99</td>\n    </tr>\n    <tr>\n      <th>6968</th>\n      <td>HP Elite 8200 Ultra Slim Desktop PC - Intel Co...</td>\n      <td>https://www.amazon.com/HP-Elite-8200-Ultra-Des...</td>\n      <td>4.3</td>\n      <td>250</td>\n      <td>122.00</td>\n    </tr>\n    <tr>\n      <th>6969</th>\n      <td>DTECH 15ft DB9 Serial Cable COM Port Male to M...</td>\n      <td>https://www.amazon.com/DTECH-RS232-Serial-Stra...</td>\n      <td>4.5</td>\n      <td>102</td>\n      <td>10.48</td>\n    </tr>\n    <tr>\n      <th>6970</th>\n      <td>YES2B 10.1 Inch Laptop Privacy Screen Filter f...</td>\n      <td>https://www.amazon.com/gp/slredirect/picassoRe...</td>\n      <td>3.9</td>\n      <td>40</td>\n      <td>18.99</td>\n    </tr>\n    <tr>\n      <th>6971</th>\n      <td>ConnectSense Router Rebooter, Monitors Your In...</td>\n      <td>https://www.amazon.com/gp/slredirect/picassoRe...</td>\n      <td>2.8</td>\n      <td>23</td>\n      <td>34.95</td>\n    </tr>\n  </tbody>\n</table>\n<p>5607 rows × 5 columns</p>\n</div>"
     },
     "metadata": {},
     "execution_count": 329
    }
   ],
   "source": [
    "df"
   ]
  },
  {
   "cell_type": "code",
   "execution_count": 330,
   "metadata": {},
   "outputs": [
    {
     "output_type": "execute_result",
     "data": {
      "text/plain": [
       "                                                  title  \\\n",
       "0     Sceptre IPS 24-Inch Business Computer Monitor ...   \n",
       "1     Sceptre 20\" 1600x900 75Hz Ultra Thin LED Monit...   \n",
       "2     Sceptre Curved 27\" 75Hz LED Monitor HDMI VGA B...   \n",
       "3     Sceptre IPS 24-Inch Business Computer Monitor ...   \n",
       "4     BenQ 24 Inch IPS Monitor | 1080P | Proprietary...   \n",
       "...                                                 ...   \n",
       "6966  Deeirao 4 Port 15 Pin Female(4 in 1 Out) VGA S...   \n",
       "6968  HP Elite 8200 Ultra Slim Desktop PC - Intel Co...   \n",
       "6969  DTECH 15ft DB9 Serial Cable COM Port Male to M...   \n",
       "6970  YES2B 10.1 Inch Laptop Privacy Screen Filter f...   \n",
       "6971  ConnectSense Router Rebooter, Monitors Your In...   \n",
       "\n",
       "                                                    url  rating  review_count  \\\n",
       "0     https://www.amazon.com/gp/slredirect/picassoRe...     4.6          1134   \n",
       "1     https://www.amazon.com/Sceptre-E205W-16003R-Fr...     4.5         12054   \n",
       "2     https://www.amazon.com/Sceptre-Monitor-Speaker...     4.7          4828   \n",
       "3     https://www.amazon.com/Sceptre-Business-Comput...     4.6          1134   \n",
       "4     https://www.amazon.com/BenQ-proprietary-border...     4.7          8532   \n",
       "...                                                 ...     ...           ...   \n",
       "6966  https://www.amazon.com/Deeirao-Female-Resoluti...     4.6            29   \n",
       "6968  https://www.amazon.com/HP-Elite-8200-Ultra-Des...     4.3           250   \n",
       "6969  https://www.amazon.com/DTECH-RS232-Serial-Stra...     4.5           102   \n",
       "6970  https://www.amazon.com/gp/slredirect/picassoRe...     3.9            40   \n",
       "6971  https://www.amazon.com/gp/slredirect/picassoRe...     2.8            23   \n",
       "\n",
       "       price product_type  \n",
       "0     119.97      monitor  \n",
       "1      79.97      monitor  \n",
       "2     169.99      monitor  \n",
       "3     119.97      monitor  \n",
       "4     118.69      monitor  \n",
       "...      ...          ...  \n",
       "6966   13.99      monitor  \n",
       "6968  122.00      monitor  \n",
       "6969   10.48      monitor  \n",
       "6970   18.99      monitor  \n",
       "6971   34.95      monitor  \n",
       "\n",
       "[5607 rows x 6 columns]"
      ],
      "text/html": "<div>\n<style scoped>\n    .dataframe tbody tr th:only-of-type {\n        vertical-align: middle;\n    }\n\n    .dataframe tbody tr th {\n        vertical-align: top;\n    }\n\n    .dataframe thead th {\n        text-align: right;\n    }\n</style>\n<table border=\"1\" class=\"dataframe\">\n  <thead>\n    <tr style=\"text-align: right;\">\n      <th></th>\n      <th>title</th>\n      <th>url</th>\n      <th>rating</th>\n      <th>review_count</th>\n      <th>price</th>\n      <th>product_type</th>\n    </tr>\n  </thead>\n  <tbody>\n    <tr>\n      <th>0</th>\n      <td>Sceptre IPS 24-Inch Business Computer Monitor ...</td>\n      <td>https://www.amazon.com/gp/slredirect/picassoRe...</td>\n      <td>4.6</td>\n      <td>1134</td>\n      <td>119.97</td>\n      <td>monitor</td>\n    </tr>\n    <tr>\n      <th>1</th>\n      <td>Sceptre 20\" 1600x900 75Hz Ultra Thin LED Monit...</td>\n      <td>https://www.amazon.com/Sceptre-E205W-16003R-Fr...</td>\n      <td>4.5</td>\n      <td>12054</td>\n      <td>79.97</td>\n      <td>monitor</td>\n    </tr>\n    <tr>\n      <th>2</th>\n      <td>Sceptre Curved 27\" 75Hz LED Monitor HDMI VGA B...</td>\n      <td>https://www.amazon.com/Sceptre-Monitor-Speaker...</td>\n      <td>4.7</td>\n      <td>4828</td>\n      <td>169.99</td>\n      <td>monitor</td>\n    </tr>\n    <tr>\n      <th>3</th>\n      <td>Sceptre IPS 24-Inch Business Computer Monitor ...</td>\n      <td>https://www.amazon.com/Sceptre-Business-Comput...</td>\n      <td>4.6</td>\n      <td>1134</td>\n      <td>119.97</td>\n      <td>monitor</td>\n    </tr>\n    <tr>\n      <th>4</th>\n      <td>BenQ 24 Inch IPS Monitor | 1080P | Proprietary...</td>\n      <td>https://www.amazon.com/BenQ-proprietary-border...</td>\n      <td>4.7</td>\n      <td>8532</td>\n      <td>118.69</td>\n      <td>monitor</td>\n    </tr>\n    <tr>\n      <th>...</th>\n      <td>...</td>\n      <td>...</td>\n      <td>...</td>\n      <td>...</td>\n      <td>...</td>\n      <td>...</td>\n    </tr>\n    <tr>\n      <th>6966</th>\n      <td>Deeirao 4 Port 15 Pin Female(4 in 1 Out) VGA S...</td>\n      <td>https://www.amazon.com/Deeirao-Female-Resoluti...</td>\n      <td>4.6</td>\n      <td>29</td>\n      <td>13.99</td>\n      <td>monitor</td>\n    </tr>\n    <tr>\n      <th>6968</th>\n      <td>HP Elite 8200 Ultra Slim Desktop PC - Intel Co...</td>\n      <td>https://www.amazon.com/HP-Elite-8200-Ultra-Des...</td>\n      <td>4.3</td>\n      <td>250</td>\n      <td>122.00</td>\n      <td>monitor</td>\n    </tr>\n    <tr>\n      <th>6969</th>\n      <td>DTECH 15ft DB9 Serial Cable COM Port Male to M...</td>\n      <td>https://www.amazon.com/DTECH-RS232-Serial-Stra...</td>\n      <td>4.5</td>\n      <td>102</td>\n      <td>10.48</td>\n      <td>monitor</td>\n    </tr>\n    <tr>\n      <th>6970</th>\n      <td>YES2B 10.1 Inch Laptop Privacy Screen Filter f...</td>\n      <td>https://www.amazon.com/gp/slredirect/picassoRe...</td>\n      <td>3.9</td>\n      <td>40</td>\n      <td>18.99</td>\n      <td>monitor</td>\n    </tr>\n    <tr>\n      <th>6971</th>\n      <td>ConnectSense Router Rebooter, Monitors Your In...</td>\n      <td>https://www.amazon.com/gp/slredirect/picassoRe...</td>\n      <td>2.8</td>\n      <td>23</td>\n      <td>34.95</td>\n      <td>monitor</td>\n    </tr>\n  </tbody>\n</table>\n<p>5607 rows × 6 columns</p>\n</div>"
     },
     "metadata": {},
     "execution_count": 330
    }
   ],
   "source": [
    "df['product_type'] = 'monitor'\n",
    "df"
   ]
  },
  {
   "cell_type": "code",
   "execution_count": 331,
   "metadata": {},
   "outputs": [
    {
     "output_type": "execute_result",
     "data": {
      "text/plain": [
       "                                                  title  \\\n",
       "0     Sceptre IPS 24-Inch Business Computer Monitor ...   \n",
       "1     Sceptre 20\" 1600x900 75Hz Ultra Thin LED Monit...   \n",
       "2     Sceptre Curved 27\" 75Hz LED Monitor HDMI VGA B...   \n",
       "3     Sceptre IPS 24-Inch Business Computer Monitor ...   \n",
       "4     BenQ 24 Inch IPS Monitor | 1080P | Proprietary...   \n",
       "...                                                 ...   \n",
       "5602  Deeirao 4 Port 15 Pin Female(4 in 1 Out) VGA S...   \n",
       "5603  HP Elite 8200 Ultra Slim Desktop PC - Intel Co...   \n",
       "5604  DTECH 15ft DB9 Serial Cable COM Port Male to M...   \n",
       "5605  YES2B 10.1 Inch Laptop Privacy Screen Filter f...   \n",
       "5606  ConnectSense Router Rebooter, Monitors Your In...   \n",
       "\n",
       "                                                    url  rating  review_count  \\\n",
       "0     https://www.amazon.com/gp/slredirect/picassoRe...     4.6          1134   \n",
       "1     https://www.amazon.com/Sceptre-E205W-16003R-Fr...     4.5         12054   \n",
       "2     https://www.amazon.com/Sceptre-Monitor-Speaker...     4.7          4828   \n",
       "3     https://www.amazon.com/Sceptre-Business-Comput...     4.6          1134   \n",
       "4     https://www.amazon.com/BenQ-proprietary-border...     4.7          8532   \n",
       "...                                                 ...     ...           ...   \n",
       "5602  https://www.amazon.com/Deeirao-Female-Resoluti...     4.6            29   \n",
       "5603  https://www.amazon.com/HP-Elite-8200-Ultra-Des...     4.3           250   \n",
       "5604  https://www.amazon.com/DTECH-RS232-Serial-Stra...     4.5           102   \n",
       "5605  https://www.amazon.com/gp/slredirect/picassoRe...     3.9            40   \n",
       "5606  https://www.amazon.com/gp/slredirect/picassoRe...     2.8            23   \n",
       "\n",
       "       price product_type  \n",
       "0     119.97      monitor  \n",
       "1      79.97      monitor  \n",
       "2     169.99      monitor  \n",
       "3     119.97      monitor  \n",
       "4     118.69      monitor  \n",
       "...      ...          ...  \n",
       "5602   13.99      monitor  \n",
       "5603  122.00      monitor  \n",
       "5604   10.48      monitor  \n",
       "5605   18.99      monitor  \n",
       "5606   34.95      monitor  \n",
       "\n",
       "[5607 rows x 6 columns]"
      ],
      "text/html": "<div>\n<style scoped>\n    .dataframe tbody tr th:only-of-type {\n        vertical-align: middle;\n    }\n\n    .dataframe tbody tr th {\n        vertical-align: top;\n    }\n\n    .dataframe thead th {\n        text-align: right;\n    }\n</style>\n<table border=\"1\" class=\"dataframe\">\n  <thead>\n    <tr style=\"text-align: right;\">\n      <th></th>\n      <th>title</th>\n      <th>url</th>\n      <th>rating</th>\n      <th>review_count</th>\n      <th>price</th>\n      <th>product_type</th>\n    </tr>\n  </thead>\n  <tbody>\n    <tr>\n      <th>0</th>\n      <td>Sceptre IPS 24-Inch Business Computer Monitor ...</td>\n      <td>https://www.amazon.com/gp/slredirect/picassoRe...</td>\n      <td>4.6</td>\n      <td>1134</td>\n      <td>119.97</td>\n      <td>monitor</td>\n    </tr>\n    <tr>\n      <th>1</th>\n      <td>Sceptre 20\" 1600x900 75Hz Ultra Thin LED Monit...</td>\n      <td>https://www.amazon.com/Sceptre-E205W-16003R-Fr...</td>\n      <td>4.5</td>\n      <td>12054</td>\n      <td>79.97</td>\n      <td>monitor</td>\n    </tr>\n    <tr>\n      <th>2</th>\n      <td>Sceptre Curved 27\" 75Hz LED Monitor HDMI VGA B...</td>\n      <td>https://www.amazon.com/Sceptre-Monitor-Speaker...</td>\n      <td>4.7</td>\n      <td>4828</td>\n      <td>169.99</td>\n      <td>monitor</td>\n    </tr>\n    <tr>\n      <th>3</th>\n      <td>Sceptre IPS 24-Inch Business Computer Monitor ...</td>\n      <td>https://www.amazon.com/Sceptre-Business-Comput...</td>\n      <td>4.6</td>\n      <td>1134</td>\n      <td>119.97</td>\n      <td>monitor</td>\n    </tr>\n    <tr>\n      <th>4</th>\n      <td>BenQ 24 Inch IPS Monitor | 1080P | Proprietary...</td>\n      <td>https://www.amazon.com/BenQ-proprietary-border...</td>\n      <td>4.7</td>\n      <td>8532</td>\n      <td>118.69</td>\n      <td>monitor</td>\n    </tr>\n    <tr>\n      <th>...</th>\n      <td>...</td>\n      <td>...</td>\n      <td>...</td>\n      <td>...</td>\n      <td>...</td>\n      <td>...</td>\n    </tr>\n    <tr>\n      <th>5602</th>\n      <td>Deeirao 4 Port 15 Pin Female(4 in 1 Out) VGA S...</td>\n      <td>https://www.amazon.com/Deeirao-Female-Resoluti...</td>\n      <td>4.6</td>\n      <td>29</td>\n      <td>13.99</td>\n      <td>monitor</td>\n    </tr>\n    <tr>\n      <th>5603</th>\n      <td>HP Elite 8200 Ultra Slim Desktop PC - Intel Co...</td>\n      <td>https://www.amazon.com/HP-Elite-8200-Ultra-Des...</td>\n      <td>4.3</td>\n      <td>250</td>\n      <td>122.00</td>\n      <td>monitor</td>\n    </tr>\n    <tr>\n      <th>5604</th>\n      <td>DTECH 15ft DB9 Serial Cable COM Port Male to M...</td>\n      <td>https://www.amazon.com/DTECH-RS232-Serial-Stra...</td>\n      <td>4.5</td>\n      <td>102</td>\n      <td>10.48</td>\n      <td>monitor</td>\n    </tr>\n    <tr>\n      <th>5605</th>\n      <td>YES2B 10.1 Inch Laptop Privacy Screen Filter f...</td>\n      <td>https://www.amazon.com/gp/slredirect/picassoRe...</td>\n      <td>3.9</td>\n      <td>40</td>\n      <td>18.99</td>\n      <td>monitor</td>\n    </tr>\n    <tr>\n      <th>5606</th>\n      <td>ConnectSense Router Rebooter, Monitors Your In...</td>\n      <td>https://www.amazon.com/gp/slredirect/picassoRe...</td>\n      <td>2.8</td>\n      <td>23</td>\n      <td>34.95</td>\n      <td>monitor</td>\n    </tr>\n  </tbody>\n</table>\n<p>5607 rows × 6 columns</p>\n</div>"
     },
     "metadata": {},
     "execution_count": 331
    }
   ],
   "source": [
    "df_new = df.reset_index(drop=True)\n",
    "df_new"
   ]
  },
  {
   "cell_type": "code",
   "execution_count": 332,
   "metadata": {},
   "outputs": [
    {
     "output_type": "execute_result",
     "data": {
      "text/plain": [
       "'https://www.amazon.com/gp/slredirect/picassoRedirect.html/ref=pa_sp_atf_computers-intl-ship_sr_pg1_1?ie=UTF8&adId=A03711302FSURVRL87DTU&url=%2FSceptre-Business-Computer-Speakers-E248W-FPT%2Fdp%2FB087QRW81Z%2Fref%3Dsr_1_1_sspa%3Fcrid%3D1W0VDKZJUGG9E%26dchild%3D1%26keywords%3Dmonitor%26qid%3D1611534996%26s%3Dcomputers-intl-ship%26sprefix%3Dmonit%252Ccomputers-intl-ship%252C249%26sr%3D1-1-spons%26psc%3D1&qualifier=1611534996&id=3796638231181440&widgetName=sp_atf'"
      ]
     },
     "metadata": {},
     "execution_count": 332
    }
   ],
   "source": [
    "df.url[0]"
   ]
  },
  {
   "cell_type": "code",
   "execution_count": 333,
   "metadata": {},
   "outputs": [
    {
     "output_type": "execute_result",
     "data": {
      "text/plain": [
       "0       https://www.amazon.com/gp/slredirect/picassoRe...\n",
       "1       https://www.amazon.com/Sceptre-E205W-16003R-Fr...\n",
       "2       https://www.amazon.com/Sceptre-Monitor-Speaker...\n",
       "3       https://www.amazon.com/Sceptre-Business-Comput...\n",
       "4       https://www.amazon.com/BenQ-proprietary-border...\n",
       "                              ...                        \n",
       "5602    https://www.amazon.com/Deeirao-Female-Resoluti...\n",
       "5603    https://www.amazon.com/HP-Elite-8200-Ultra-Des...\n",
       "5604    https://www.amazon.com/DTECH-RS232-Serial-Stra...\n",
       "5605    https://www.amazon.com/gp/slredirect/picassoRe...\n",
       "5606    https://www.amazon.com/gp/slredirect/picassoRe...\n",
       "Name: url, Length: 5607, dtype: object"
      ]
     },
     "metadata": {},
     "execution_count": 333
    }
   ],
   "source": [
    "urls = df_new['url']\n",
    "urls"
   ]
  },
  {
   "cell_type": "code",
   "execution_count": 334,
   "metadata": {},
   "outputs": [
    {
     "output_type": "execute_result",
     "data": {
      "text/plain": [
       "          c1              c2  \\\n",
       "0     https:  www.amazon.com   \n",
       "1     https:  www.amazon.com   \n",
       "2     https:  www.amazon.com   \n",
       "3     https:  www.amazon.com   \n",
       "4     https:  www.amazon.com   \n",
       "...      ...             ...   \n",
       "5602  https:  www.amazon.com   \n",
       "5603  https:  www.amazon.com   \n",
       "5604  https:  www.amazon.com   \n",
       "5605  https:  www.amazon.com   \n",
       "5606  https:  www.amazon.com   \n",
       "\n",
       "                                                    c3          c4  \\\n",
       "0                                                   gp  slredirect   \n",
       "1     Sceptre-E205W-16003R-Frameless-Speakers-Metallic          dp   \n",
       "2      Sceptre-Monitor-Speakers-Edge-Less-C275W-1920RN          dp   \n",
       "3         Sceptre-Business-Computer-Speakers-E248W-FPT          dp   \n",
       "4        BenQ-proprietary-borderless-Brightness-GW2480          dp   \n",
       "...                                                ...         ...   \n",
       "5602       Deeirao-Female-Resolution-1920x1440-Monitor          dp   \n",
       "5603                       HP-Elite-8200-Ultra-Desktop          dp   \n",
       "5604               DTECH-RS232-Serial-Straight-Through          dp   \n",
       "5605                                                gp  slredirect   \n",
       "5606                                                gp  slredirect   \n",
       "\n",
       "                        c5                                                 c6  \n",
       "0     picassoRedirect.html  ref=pa_sp_atf_computers-intl-ship_sr_pg1_1?ie=...  \n",
       "1               B07743412C  ref=sr_1_2?crid=1W0VDKZJUGG9E&dchild=1&keyword...  \n",
       "2               B07MTRQ6B3  ref=sr_1_3?crid=1W0VDKZJUGG9E&dchild=1&keyword...  \n",
       "3               B087QRW81Z  ref=sr_1_4?crid=1W0VDKZJUGG9E&dchild=1&keyword...  \n",
       "4               B072XCZSSW  ref=sr_1_5?crid=1W0VDKZJUGG9E&dchild=1&keyword...  \n",
       "...                    ...                                                ...  \n",
       "5602            B075XLN559  ref=sr_1_4669?crid=1W0VDKZJUGG9E&dchild=1&keyw...  \n",
       "5603            B0754MN7D3  ref=sr_1_4671?crid=1W0VDKZJUGG9E&dchild=1&keyw...  \n",
       "5604            B07B24HBXN  ref=sr_1_4672?crid=1W0VDKZJUGG9E&dchild=1&keyw...  \n",
       "5605  picassoRedirect.html  ref=pa_sp_btf_computers-intl-ship_sr_pg389_1?i...  \n",
       "5606  picassoRedirect.html  ref=pa_sp_btf_computers-intl-ship_sr_pg389_1?i...  \n",
       "\n",
       "[5607 rows x 6 columns]"
      ],
      "text/html": "<div>\n<style scoped>\n    .dataframe tbody tr th:only-of-type {\n        vertical-align: middle;\n    }\n\n    .dataframe tbody tr th {\n        vertical-align: top;\n    }\n\n    .dataframe thead th {\n        text-align: right;\n    }\n</style>\n<table border=\"1\" class=\"dataframe\">\n  <thead>\n    <tr style=\"text-align: right;\">\n      <th></th>\n      <th>c1</th>\n      <th>c2</th>\n      <th>c3</th>\n      <th>c4</th>\n      <th>c5</th>\n      <th>c6</th>\n    </tr>\n  </thead>\n  <tbody>\n    <tr>\n      <th>0</th>\n      <td>https:</td>\n      <td>www.amazon.com</td>\n      <td>gp</td>\n      <td>slredirect</td>\n      <td>picassoRedirect.html</td>\n      <td>ref=pa_sp_atf_computers-intl-ship_sr_pg1_1?ie=...</td>\n    </tr>\n    <tr>\n      <th>1</th>\n      <td>https:</td>\n      <td>www.amazon.com</td>\n      <td>Sceptre-E205W-16003R-Frameless-Speakers-Metallic</td>\n      <td>dp</td>\n      <td>B07743412C</td>\n      <td>ref=sr_1_2?crid=1W0VDKZJUGG9E&amp;dchild=1&amp;keyword...</td>\n    </tr>\n    <tr>\n      <th>2</th>\n      <td>https:</td>\n      <td>www.amazon.com</td>\n      <td>Sceptre-Monitor-Speakers-Edge-Less-C275W-1920RN</td>\n      <td>dp</td>\n      <td>B07MTRQ6B3</td>\n      <td>ref=sr_1_3?crid=1W0VDKZJUGG9E&amp;dchild=1&amp;keyword...</td>\n    </tr>\n    <tr>\n      <th>3</th>\n      <td>https:</td>\n      <td>www.amazon.com</td>\n      <td>Sceptre-Business-Computer-Speakers-E248W-FPT</td>\n      <td>dp</td>\n      <td>B087QRW81Z</td>\n      <td>ref=sr_1_4?crid=1W0VDKZJUGG9E&amp;dchild=1&amp;keyword...</td>\n    </tr>\n    <tr>\n      <th>4</th>\n      <td>https:</td>\n      <td>www.amazon.com</td>\n      <td>BenQ-proprietary-borderless-Brightness-GW2480</td>\n      <td>dp</td>\n      <td>B072XCZSSW</td>\n      <td>ref=sr_1_5?crid=1W0VDKZJUGG9E&amp;dchild=1&amp;keyword...</td>\n    </tr>\n    <tr>\n      <th>...</th>\n      <td>...</td>\n      <td>...</td>\n      <td>...</td>\n      <td>...</td>\n      <td>...</td>\n      <td>...</td>\n    </tr>\n    <tr>\n      <th>5602</th>\n      <td>https:</td>\n      <td>www.amazon.com</td>\n      <td>Deeirao-Female-Resolution-1920x1440-Monitor</td>\n      <td>dp</td>\n      <td>B075XLN559</td>\n      <td>ref=sr_1_4669?crid=1W0VDKZJUGG9E&amp;dchild=1&amp;keyw...</td>\n    </tr>\n    <tr>\n      <th>5603</th>\n      <td>https:</td>\n      <td>www.amazon.com</td>\n      <td>HP-Elite-8200-Ultra-Desktop</td>\n      <td>dp</td>\n      <td>B0754MN7D3</td>\n      <td>ref=sr_1_4671?crid=1W0VDKZJUGG9E&amp;dchild=1&amp;keyw...</td>\n    </tr>\n    <tr>\n      <th>5604</th>\n      <td>https:</td>\n      <td>www.amazon.com</td>\n      <td>DTECH-RS232-Serial-Straight-Through</td>\n      <td>dp</td>\n      <td>B07B24HBXN</td>\n      <td>ref=sr_1_4672?crid=1W0VDKZJUGG9E&amp;dchild=1&amp;keyw...</td>\n    </tr>\n    <tr>\n      <th>5605</th>\n      <td>https:</td>\n      <td>www.amazon.com</td>\n      <td>gp</td>\n      <td>slredirect</td>\n      <td>picassoRedirect.html</td>\n      <td>ref=pa_sp_btf_computers-intl-ship_sr_pg389_1?i...</td>\n    </tr>\n    <tr>\n      <th>5606</th>\n      <td>https:</td>\n      <td>www.amazon.com</td>\n      <td>gp</td>\n      <td>slredirect</td>\n      <td>picassoRedirect.html</td>\n      <td>ref=pa_sp_btf_computers-intl-ship_sr_pg389_1?i...</td>\n    </tr>\n  </tbody>\n</table>\n<p>5607 rows × 6 columns</p>\n</div>"
     },
     "metadata": {},
     "execution_count": 334
    }
   ],
   "source": [
    "cols = ['c1', 'c2', 'c3', 'c4','c5','c6']\n",
    "make_me = []\n",
    "for url in urls:\n",
    "    lst = url.split(\"/\")\n",
    "    # your business rules go here\n",
    "    make_me.append([x for x in lst if not x.isdigit() and not x == \"\"])\n",
    "    \n",
    "\n",
    "df8 = pd.DataFrame(make_me, columns=cols)\n",
    "df8"
   ]
  },
  {
   "cell_type": "code",
   "execution_count": 335,
   "metadata": {},
   "outputs": [
    {
     "output_type": "execute_result",
     "data": {
      "text/plain": [
       "0       picassoRedirect.html\n",
       "1                 B07743412C\n",
       "2                 B07MTRQ6B3\n",
       "3                 B087QRW81Z\n",
       "4                 B072XCZSSW\n",
       "                ...         \n",
       "5602              B075XLN559\n",
       "5603              B0754MN7D3\n",
       "5604              B07B24HBXN\n",
       "5605    picassoRedirect.html\n",
       "5606    picassoRedirect.html\n",
       "Name: c5, Length: 5607, dtype: object"
      ]
     },
     "metadata": {},
     "execution_count": 335
    }
   ],
   "source": [
    "abc = df8['c5']\n",
    "abc"
   ]
  },
  {
   "cell_type": "code",
   "execution_count": 336,
   "metadata": {},
   "outputs": [
    {
     "output_type": "execute_result",
     "data": {
      "text/plain": [
       "0       ref=pa_sp_atf_computers-intl-ship_sr_pg1_1?ie=...\n",
       "1       ref=sr_1_2?crid=1W0VDKZJUGG9E&dchild=1&keyword...\n",
       "2       ref=sr_1_3?crid=1W0VDKZJUGG9E&dchild=1&keyword...\n",
       "3       ref=sr_1_4?crid=1W0VDKZJUGG9E&dchild=1&keyword...\n",
       "4       ref=sr_1_5?crid=1W0VDKZJUGG9E&dchild=1&keyword...\n",
       "                              ...                        \n",
       "5602    ref=sr_1_4669?crid=1W0VDKZJUGG9E&dchild=1&keyw...\n",
       "5603    ref=sr_1_4671?crid=1W0VDKZJUGG9E&dchild=1&keyw...\n",
       "5604    ref=sr_1_4672?crid=1W0VDKZJUGG9E&dchild=1&keyw...\n",
       "5605    ref=pa_sp_btf_computers-intl-ship_sr_pg389_1?i...\n",
       "5606    ref=pa_sp_btf_computers-intl-ship_sr_pg389_1?i...\n",
       "Name: c6, Length: 5607, dtype: object"
      ]
     },
     "metadata": {},
     "execution_count": 336
    }
   ],
   "source": [
    "df2 = df8['c6']\n",
    "df2"
   ]
  },
  {
   "cell_type": "code",
   "execution_count": 337,
   "metadata": {},
   "outputs": [
    {
     "output_type": "execute_result",
     "data": {
      "text/plain": [
       "                                                     c1  \\\n",
       "0     https://www.amazon.com/gp/slredirect/picassoRe...   \n",
       "1     https://www.amazon.com/Sceptre-E205W-16003R-Fr...   \n",
       "2     https://www.amazon.com/Sceptre-Monitor-Speaker...   \n",
       "3     https://www.amazon.com/Sceptre-Business-Comput...   \n",
       "4     https://www.amazon.com/BenQ-proprietary-border...   \n",
       "...                                                 ...   \n",
       "5602  https://www.amazon.com/Deeirao-Female-Resoluti...   \n",
       "5603  https://www.amazon.com/HP-Elite-8200-Ultra-Des...   \n",
       "5604  https://www.amazon.com/DTECH-RS232-Serial-Stra...   \n",
       "5605  https://www.amazon.com/gp/slredirect/picassoRe...   \n",
       "5606  https://www.amazon.com/gp/slredirect/picassoRe...   \n",
       "\n",
       "                                                     c2              c3  \\\n",
       "0         FSceptre-Business-Computer-Speakers-E248W-FPT             Fdp   \n",
       "1                                  Ccomputers-intl-ship     C249&sr=1-2   \n",
       "2                                  Ccomputers-intl-ship     C249&sr=1-3   \n",
       "3                                  Ccomputers-intl-ship     C249&sr=1-4   \n",
       "4                                  Ccomputers-intl-ship     C249&sr=1-5   \n",
       "...                                                 ...             ...   \n",
       "5602                               Ccomputers-intl-ship  C249&sr=1-4669   \n",
       "5603                               Ccomputers-intl-ship  C249&sr=1-4671   \n",
       "5604                               Ccomputers-intl-ship  C249&sr=1-4672   \n",
       "5605                FYES2B-Laptop-Privacy-Screen-Filter             Fdp   \n",
       "5606  FConnectSense-Automatically-Connection-Schedul...             Fdp   \n",
       "\n",
       "               d4                                            c5           c6  \\\n",
       "0     FB087QRW81Z     Fref%3Dsr_1_1_sspa%3Fcrid%3D1W0VDKZJUGG9E  6dchild%3D1   \n",
       "1            None                                          None         None   \n",
       "2            None                                          None         None   \n",
       "3            None                                          None         None   \n",
       "4            None                                          None         None   \n",
       "...           ...                                           ...          ...   \n",
       "5602         None                                          None         None   \n",
       "5603         None                                          None         None   \n",
       "5604         None                                          None         None   \n",
       "5605  FB081SJZX8F  Fref%3Dsr_1_4673_sspa%3Fcrid%3D1W0VDKZJUGG9E  6dchild%3D1   \n",
       "5606  FB08GSS37R7  Fref%3Dsr_1_4674_sspa%3Fcrid%3D1W0VDKZJUGG9E  6dchild%3D1   \n",
       "\n",
       "                       c7                 c8                        c9  \\\n",
       "0     6keywords%3Dmonitor  6qid%3D1611534996  6s%3Dcomputers-intl-ship   \n",
       "1                    None               None                      None   \n",
       "2                    None               None                      None   \n",
       "3                    None               None                      None   \n",
       "4                    None               None                      None   \n",
       "...                   ...                ...                       ...   \n",
       "5602                 None               None                      None   \n",
       "5603                 None               None                      None   \n",
       "5604                 None               None                      None   \n",
       "5605  6keywords%3Dmonitor  6qid%3D1611052896  6s%3Dcomputers-intl-ship   \n",
       "5606  6keywords%3Dmonitor  6qid%3D1611052896  6s%3Dcomputers-intl-ship   \n",
       "\n",
       "                   c10                     c11     c12                 c13  \\\n",
       "0     6sprefix%3Dmonit  52Ccomputers-intl-ship  52C249     6sr%3D1-1-spons   \n",
       "1                 None                    None    None                None   \n",
       "2                 None                    None    None                None   \n",
       "3                 None                    None    None                None   \n",
       "4                 None                    None    None                None   \n",
       "...                ...                     ...     ...                 ...   \n",
       "5602              None                    None    None                None   \n",
       "5603              None                    None    None                None   \n",
       "5604              None                    None    None                None   \n",
       "5605  6sprefix%3Dmonit  52Ccomputers-intl-ship  52C249  6sr%3D1-4673-spons   \n",
       "5606  6sprefix%3Dmonit  52Ccomputers-intl-ship  52C249  6sr%3D1-4674-spons   \n",
       "\n",
       "                                                    c14  \n",
       "0     6psc%3D1&qualifier=1611534996&id=3796638231181...  \n",
       "1                                                  None  \n",
       "2                                                  None  \n",
       "3                                                  None  \n",
       "4                                                  None  \n",
       "...                                                 ...  \n",
       "5602                                               None  \n",
       "5603                                               None  \n",
       "5604                                               None  \n",
       "5605  6psc%3D1&qualifier=1611535428&id=5026044985104...  \n",
       "5606  6psc%3D1&qualifier=1611535428&id=5026044985104...  \n",
       "\n",
       "[5607 rows x 14 columns]"
      ],
      "text/html": "<div>\n<style scoped>\n    .dataframe tbody tr th:only-of-type {\n        vertical-align: middle;\n    }\n\n    .dataframe tbody tr th {\n        vertical-align: top;\n    }\n\n    .dataframe thead th {\n        text-align: right;\n    }\n</style>\n<table border=\"1\" class=\"dataframe\">\n  <thead>\n    <tr style=\"text-align: right;\">\n      <th></th>\n      <th>c1</th>\n      <th>c2</th>\n      <th>c3</th>\n      <th>d4</th>\n      <th>c5</th>\n      <th>c6</th>\n      <th>c7</th>\n      <th>c8</th>\n      <th>c9</th>\n      <th>c10</th>\n      <th>c11</th>\n      <th>c12</th>\n      <th>c13</th>\n      <th>c14</th>\n    </tr>\n  </thead>\n  <tbody>\n    <tr>\n      <th>0</th>\n      <td>https://www.amazon.com/gp/slredirect/picassoRe...</td>\n      <td>FSceptre-Business-Computer-Speakers-E248W-FPT</td>\n      <td>Fdp</td>\n      <td>FB087QRW81Z</td>\n      <td>Fref%3Dsr_1_1_sspa%3Fcrid%3D1W0VDKZJUGG9E</td>\n      <td>6dchild%3D1</td>\n      <td>6keywords%3Dmonitor</td>\n      <td>6qid%3D1611534996</td>\n      <td>6s%3Dcomputers-intl-ship</td>\n      <td>6sprefix%3Dmonit</td>\n      <td>52Ccomputers-intl-ship</td>\n      <td>52C249</td>\n      <td>6sr%3D1-1-spons</td>\n      <td>6psc%3D1&amp;qualifier=1611534996&amp;id=3796638231181...</td>\n    </tr>\n    <tr>\n      <th>1</th>\n      <td>https://www.amazon.com/Sceptre-E205W-16003R-Fr...</td>\n      <td>Ccomputers-intl-ship</td>\n      <td>C249&amp;sr=1-2</td>\n      <td>None</td>\n      <td>None</td>\n      <td>None</td>\n      <td>None</td>\n      <td>None</td>\n      <td>None</td>\n      <td>None</td>\n      <td>None</td>\n      <td>None</td>\n      <td>None</td>\n      <td>None</td>\n    </tr>\n    <tr>\n      <th>2</th>\n      <td>https://www.amazon.com/Sceptre-Monitor-Speaker...</td>\n      <td>Ccomputers-intl-ship</td>\n      <td>C249&amp;sr=1-3</td>\n      <td>None</td>\n      <td>None</td>\n      <td>None</td>\n      <td>None</td>\n      <td>None</td>\n      <td>None</td>\n      <td>None</td>\n      <td>None</td>\n      <td>None</td>\n      <td>None</td>\n      <td>None</td>\n    </tr>\n    <tr>\n      <th>3</th>\n      <td>https://www.amazon.com/Sceptre-Business-Comput...</td>\n      <td>Ccomputers-intl-ship</td>\n      <td>C249&amp;sr=1-4</td>\n      <td>None</td>\n      <td>None</td>\n      <td>None</td>\n      <td>None</td>\n      <td>None</td>\n      <td>None</td>\n      <td>None</td>\n      <td>None</td>\n      <td>None</td>\n      <td>None</td>\n      <td>None</td>\n    </tr>\n    <tr>\n      <th>4</th>\n      <td>https://www.amazon.com/BenQ-proprietary-border...</td>\n      <td>Ccomputers-intl-ship</td>\n      <td>C249&amp;sr=1-5</td>\n      <td>None</td>\n      <td>None</td>\n      <td>None</td>\n      <td>None</td>\n      <td>None</td>\n      <td>None</td>\n      <td>None</td>\n      <td>None</td>\n      <td>None</td>\n      <td>None</td>\n      <td>None</td>\n    </tr>\n    <tr>\n      <th>...</th>\n      <td>...</td>\n      <td>...</td>\n      <td>...</td>\n      <td>...</td>\n      <td>...</td>\n      <td>...</td>\n      <td>...</td>\n      <td>...</td>\n      <td>...</td>\n      <td>...</td>\n      <td>...</td>\n      <td>...</td>\n      <td>...</td>\n      <td>...</td>\n    </tr>\n    <tr>\n      <th>5602</th>\n      <td>https://www.amazon.com/Deeirao-Female-Resoluti...</td>\n      <td>Ccomputers-intl-ship</td>\n      <td>C249&amp;sr=1-4669</td>\n      <td>None</td>\n      <td>None</td>\n      <td>None</td>\n      <td>None</td>\n      <td>None</td>\n      <td>None</td>\n      <td>None</td>\n      <td>None</td>\n      <td>None</td>\n      <td>None</td>\n      <td>None</td>\n    </tr>\n    <tr>\n      <th>5603</th>\n      <td>https://www.amazon.com/HP-Elite-8200-Ultra-Des...</td>\n      <td>Ccomputers-intl-ship</td>\n      <td>C249&amp;sr=1-4671</td>\n      <td>None</td>\n      <td>None</td>\n      <td>None</td>\n      <td>None</td>\n      <td>None</td>\n      <td>None</td>\n      <td>None</td>\n      <td>None</td>\n      <td>None</td>\n      <td>None</td>\n      <td>None</td>\n    </tr>\n    <tr>\n      <th>5604</th>\n      <td>https://www.amazon.com/DTECH-RS232-Serial-Stra...</td>\n      <td>Ccomputers-intl-ship</td>\n      <td>C249&amp;sr=1-4672</td>\n      <td>None</td>\n      <td>None</td>\n      <td>None</td>\n      <td>None</td>\n      <td>None</td>\n      <td>None</td>\n      <td>None</td>\n      <td>None</td>\n      <td>None</td>\n      <td>None</td>\n      <td>None</td>\n    </tr>\n    <tr>\n      <th>5605</th>\n      <td>https://www.amazon.com/gp/slredirect/picassoRe...</td>\n      <td>FYES2B-Laptop-Privacy-Screen-Filter</td>\n      <td>Fdp</td>\n      <td>FB081SJZX8F</td>\n      <td>Fref%3Dsr_1_4673_sspa%3Fcrid%3D1W0VDKZJUGG9E</td>\n      <td>6dchild%3D1</td>\n      <td>6keywords%3Dmonitor</td>\n      <td>6qid%3D1611052896</td>\n      <td>6s%3Dcomputers-intl-ship</td>\n      <td>6sprefix%3Dmonit</td>\n      <td>52Ccomputers-intl-ship</td>\n      <td>52C249</td>\n      <td>6sr%3D1-4673-spons</td>\n      <td>6psc%3D1&amp;qualifier=1611535428&amp;id=5026044985104...</td>\n    </tr>\n    <tr>\n      <th>5606</th>\n      <td>https://www.amazon.com/gp/slredirect/picassoRe...</td>\n      <td>FConnectSense-Automatically-Connection-Schedul...</td>\n      <td>Fdp</td>\n      <td>FB08GSS37R7</td>\n      <td>Fref%3Dsr_1_4674_sspa%3Fcrid%3D1W0VDKZJUGG9E</td>\n      <td>6dchild%3D1</td>\n      <td>6keywords%3Dmonitor</td>\n      <td>6qid%3D1611052896</td>\n      <td>6s%3Dcomputers-intl-ship</td>\n      <td>6sprefix%3Dmonit</td>\n      <td>52Ccomputers-intl-ship</td>\n      <td>52C249</td>\n      <td>6sr%3D1-4674-spons</td>\n      <td>6psc%3D1&amp;qualifier=1611535428&amp;id=5026044985104...</td>\n    </tr>\n  </tbody>\n</table>\n<p>5607 rows × 14 columns</p>\n</div>"
     },
     "metadata": {},
     "execution_count": 337
    }
   ],
   "source": [
    "cols = ['c1','c2','c3','d4','c5','c6','c7','c8','c9','c10','c11','c12','c13','c14']\n",
    "make_me = []\n",
    "for url in urls:\n",
    "    lst = url.split(\"%2\")\n",
    "    # your business rules go here\n",
    "    make_me.append([x for x in lst if not x.isdigit() and not x == \"\"])\n",
    "    \n",
    "\n",
    "df4 = pd.DataFrame(make_me, columns=cols)\n",
    "df4"
   ]
  },
  {
   "cell_type": "code",
   "execution_count": null,
   "metadata": {},
   "outputs": [],
   "source": []
  },
  {
   "cell_type": "code",
   "execution_count": 338,
   "metadata": {},
   "outputs": [
    {
     "output_type": "execute_result",
     "data": {
      "text/plain": [
       "0       FB087QRW81Z\n",
       "1              None\n",
       "2              None\n",
       "3              None\n",
       "4              None\n",
       "           ...     \n",
       "5602           None\n",
       "5603           None\n",
       "5604           None\n",
       "5605    FB081SJZX8F\n",
       "5606    FB08GSS37R7\n",
       "Name: d4, Length: 5607, dtype: object"
      ]
     },
     "metadata": {},
     "execution_count": 338
    }
   ],
   "source": [
    "abcd = df4['d4']\n",
    "abcd"
   ]
  },
  {
   "cell_type": "code",
   "execution_count": 339,
   "metadata": {},
   "outputs": [
    {
     "output_type": "execute_result",
     "data": {
      "text/plain": [
       "               d4\n",
       "0     FB087QRW81Z\n",
       "1            None\n",
       "2            None\n",
       "3            None\n",
       "4            None\n",
       "...           ...\n",
       "5602         None\n",
       "5603         None\n",
       "5604         None\n",
       "5605  FB081SJZX8F\n",
       "5606  FB08GSS37R7\n",
       "\n",
       "[5607 rows x 1 columns]"
      ],
      "text/html": "<div>\n<style scoped>\n    .dataframe tbody tr th:only-of-type {\n        vertical-align: middle;\n    }\n\n    .dataframe tbody tr th {\n        vertical-align: top;\n    }\n\n    .dataframe thead th {\n        text-align: right;\n    }\n</style>\n<table border=\"1\" class=\"dataframe\">\n  <thead>\n    <tr style=\"text-align: right;\">\n      <th></th>\n      <th>d4</th>\n    </tr>\n  </thead>\n  <tbody>\n    <tr>\n      <th>0</th>\n      <td>FB087QRW81Z</td>\n    </tr>\n    <tr>\n      <th>1</th>\n      <td>None</td>\n    </tr>\n    <tr>\n      <th>2</th>\n      <td>None</td>\n    </tr>\n    <tr>\n      <th>3</th>\n      <td>None</td>\n    </tr>\n    <tr>\n      <th>4</th>\n      <td>None</td>\n    </tr>\n    <tr>\n      <th>...</th>\n      <td>...</td>\n    </tr>\n    <tr>\n      <th>5602</th>\n      <td>None</td>\n    </tr>\n    <tr>\n      <th>5603</th>\n      <td>None</td>\n    </tr>\n    <tr>\n      <th>5604</th>\n      <td>None</td>\n    </tr>\n    <tr>\n      <th>5605</th>\n      <td>FB081SJZX8F</td>\n    </tr>\n    <tr>\n      <th>5606</th>\n      <td>FB08GSS37R7</td>\n    </tr>\n  </tbody>\n</table>\n<p>5607 rows × 1 columns</p>\n</div>"
     },
     "metadata": {},
     "execution_count": 339
    }
   ],
   "source": [
    "pd.DataFrame(abcd)"
   ]
  },
  {
   "cell_type": "code",
   "execution_count": 340,
   "metadata": {},
   "outputs": [
    {
     "output_type": "execute_result",
     "data": {
      "text/plain": [
       "                        c5           d4\n",
       "0     picassoRedirect.html  FB087QRW81Z\n",
       "1               B07743412C         None\n",
       "2               B07MTRQ6B3         None\n",
       "3               B087QRW81Z         None\n",
       "4               B072XCZSSW         None\n",
       "...                    ...          ...\n",
       "5602            B075XLN559         None\n",
       "5603            B0754MN7D3         None\n",
       "5604            B07B24HBXN         None\n",
       "5605  picassoRedirect.html  FB081SJZX8F\n",
       "5606  picassoRedirect.html  FB08GSS37R7\n",
       "\n",
       "[5607 rows x 2 columns]"
      ],
      "text/html": "<div>\n<style scoped>\n    .dataframe tbody tr th:only-of-type {\n        vertical-align: middle;\n    }\n\n    .dataframe tbody tr th {\n        vertical-align: top;\n    }\n\n    .dataframe thead th {\n        text-align: right;\n    }\n</style>\n<table border=\"1\" class=\"dataframe\">\n  <thead>\n    <tr style=\"text-align: right;\">\n      <th></th>\n      <th>c5</th>\n      <th>d4</th>\n    </tr>\n  </thead>\n  <tbody>\n    <tr>\n      <th>0</th>\n      <td>picassoRedirect.html</td>\n      <td>FB087QRW81Z</td>\n    </tr>\n    <tr>\n      <th>1</th>\n      <td>B07743412C</td>\n      <td>None</td>\n    </tr>\n    <tr>\n      <th>2</th>\n      <td>B07MTRQ6B3</td>\n      <td>None</td>\n    </tr>\n    <tr>\n      <th>3</th>\n      <td>B087QRW81Z</td>\n      <td>None</td>\n    </tr>\n    <tr>\n      <th>4</th>\n      <td>B072XCZSSW</td>\n      <td>None</td>\n    </tr>\n    <tr>\n      <th>...</th>\n      <td>...</td>\n      <td>...</td>\n    </tr>\n    <tr>\n      <th>5602</th>\n      <td>B075XLN559</td>\n      <td>None</td>\n    </tr>\n    <tr>\n      <th>5603</th>\n      <td>B0754MN7D3</td>\n      <td>None</td>\n    </tr>\n    <tr>\n      <th>5604</th>\n      <td>B07B24HBXN</td>\n      <td>None</td>\n    </tr>\n    <tr>\n      <th>5605</th>\n      <td>picassoRedirect.html</td>\n      <td>FB081SJZX8F</td>\n    </tr>\n    <tr>\n      <th>5606</th>\n      <td>picassoRedirect.html</td>\n      <td>FB08GSS37R7</td>\n    </tr>\n  </tbody>\n</table>\n<p>5607 rows × 2 columns</p>\n</div>"
     },
     "metadata": {},
     "execution_count": 340
    }
   ],
   "source": [
    "abcde = pd.concat([abc, abcd], axis=1)\n",
    "abcde"
   ]
  },
  {
   "cell_type": "code",
   "execution_count": 341,
   "metadata": {},
   "outputs": [
    {
     "output_type": "execute_result",
     "data": {
      "text/plain": [
       "                        c5          d4\n",
       "0     picassoRedirect.html  B087QRW81Z\n",
       "1               B07743412C        None\n",
       "2               B07MTRQ6B3        None\n",
       "3               B087QRW81Z        None\n",
       "4               B072XCZSSW        None\n",
       "...                    ...         ...\n",
       "5602            B075XLN559        None\n",
       "5603            B0754MN7D3        None\n",
       "5604            B07B24HBXN        None\n",
       "5605  picassoRedirect.html  B081SJZX8F\n",
       "5606  picassoRedirect.html  B08GSS37R7\n",
       "\n",
       "[5607 rows x 2 columns]"
      ],
      "text/html": "<div>\n<style scoped>\n    .dataframe tbody tr th:only-of-type {\n        vertical-align: middle;\n    }\n\n    .dataframe tbody tr th {\n        vertical-align: top;\n    }\n\n    .dataframe thead th {\n        text-align: right;\n    }\n</style>\n<table border=\"1\" class=\"dataframe\">\n  <thead>\n    <tr style=\"text-align: right;\">\n      <th></th>\n      <th>c5</th>\n      <th>d4</th>\n    </tr>\n  </thead>\n  <tbody>\n    <tr>\n      <th>0</th>\n      <td>picassoRedirect.html</td>\n      <td>B087QRW81Z</td>\n    </tr>\n    <tr>\n      <th>1</th>\n      <td>B07743412C</td>\n      <td>None</td>\n    </tr>\n    <tr>\n      <th>2</th>\n      <td>B07MTRQ6B3</td>\n      <td>None</td>\n    </tr>\n    <tr>\n      <th>3</th>\n      <td>B087QRW81Z</td>\n      <td>None</td>\n    </tr>\n    <tr>\n      <th>4</th>\n      <td>B072XCZSSW</td>\n      <td>None</td>\n    </tr>\n    <tr>\n      <th>...</th>\n      <td>...</td>\n      <td>...</td>\n    </tr>\n    <tr>\n      <th>5602</th>\n      <td>B075XLN559</td>\n      <td>None</td>\n    </tr>\n    <tr>\n      <th>5603</th>\n      <td>B0754MN7D3</td>\n      <td>None</td>\n    </tr>\n    <tr>\n      <th>5604</th>\n      <td>B07B24HBXN</td>\n      <td>None</td>\n    </tr>\n    <tr>\n      <th>5605</th>\n      <td>picassoRedirect.html</td>\n      <td>B081SJZX8F</td>\n    </tr>\n    <tr>\n      <th>5606</th>\n      <td>picassoRedirect.html</td>\n      <td>B08GSS37R7</td>\n    </tr>\n  </tbody>\n</table>\n<p>5607 rows × 2 columns</p>\n</div>"
     },
     "metadata": {},
     "execution_count": 341
    }
   ],
   "source": [
    "abcde['d4'] = abcde['d4'].str[1:]\n",
    "abcde"
   ]
  },
  {
   "cell_type": "code",
   "execution_count": 342,
   "metadata": {},
   "outputs": [
    {
     "output_type": "execute_result",
     "data": {
      "text/plain": [
       "              c5          d4\n",
       "0     B087QRW81Z  B087QRW81Z\n",
       "1     B07743412C        None\n",
       "2     B07MTRQ6B3        None\n",
       "3     B087QRW81Z        None\n",
       "4     B072XCZSSW        None\n",
       "...          ...         ...\n",
       "5602  B075XLN559        None\n",
       "5603  B0754MN7D3        None\n",
       "5604  B07B24HBXN        None\n",
       "5605  B081SJZX8F  B081SJZX8F\n",
       "5606  B08GSS37R7  B08GSS37R7\n",
       "\n",
       "[5607 rows x 2 columns]"
      ],
      "text/html": "<div>\n<style scoped>\n    .dataframe tbody tr th:only-of-type {\n        vertical-align: middle;\n    }\n\n    .dataframe tbody tr th {\n        vertical-align: top;\n    }\n\n    .dataframe thead th {\n        text-align: right;\n    }\n</style>\n<table border=\"1\" class=\"dataframe\">\n  <thead>\n    <tr style=\"text-align: right;\">\n      <th></th>\n      <th>c5</th>\n      <th>d4</th>\n    </tr>\n  </thead>\n  <tbody>\n    <tr>\n      <th>0</th>\n      <td>B087QRW81Z</td>\n      <td>B087QRW81Z</td>\n    </tr>\n    <tr>\n      <th>1</th>\n      <td>B07743412C</td>\n      <td>None</td>\n    </tr>\n    <tr>\n      <th>2</th>\n      <td>B07MTRQ6B3</td>\n      <td>None</td>\n    </tr>\n    <tr>\n      <th>3</th>\n      <td>B087QRW81Z</td>\n      <td>None</td>\n    </tr>\n    <tr>\n      <th>4</th>\n      <td>B072XCZSSW</td>\n      <td>None</td>\n    </tr>\n    <tr>\n      <th>...</th>\n      <td>...</td>\n      <td>...</td>\n    </tr>\n    <tr>\n      <th>5602</th>\n      <td>B075XLN559</td>\n      <td>None</td>\n    </tr>\n    <tr>\n      <th>5603</th>\n      <td>B0754MN7D3</td>\n      <td>None</td>\n    </tr>\n    <tr>\n      <th>5604</th>\n      <td>B07B24HBXN</td>\n      <td>None</td>\n    </tr>\n    <tr>\n      <th>5605</th>\n      <td>B081SJZX8F</td>\n      <td>B081SJZX8F</td>\n    </tr>\n    <tr>\n      <th>5606</th>\n      <td>B08GSS37R7</td>\n      <td>B08GSS37R7</td>\n    </tr>\n  </tbody>\n</table>\n<p>5607 rows × 2 columns</p>\n</div>"
     },
     "metadata": {},
     "execution_count": 342
    }
   ],
   "source": [
    "abcde['c5'] = np.where(abcde['c5'] == 'picassoRedirect.html', abcde['d4'], abcde['c5'])\n",
    "abcde"
   ]
  },
  {
   "cell_type": "code",
   "execution_count": 343,
   "metadata": {},
   "outputs": [
    {
     "output_type": "execute_result",
     "data": {
      "text/plain": [
       "              c5\n",
       "0     B087QRW81Z\n",
       "1     B07743412C\n",
       "2     B07MTRQ6B3\n",
       "3     B087QRW81Z\n",
       "4     B072XCZSSW\n",
       "...          ...\n",
       "5602  B075XLN559\n",
       "5603  B0754MN7D3\n",
       "5604  B07B24HBXN\n",
       "5605  B081SJZX8F\n",
       "5606  B08GSS37R7\n",
       "\n",
       "[5607 rows x 1 columns]"
      ],
      "text/html": "<div>\n<style scoped>\n    .dataframe tbody tr th:only-of-type {\n        vertical-align: middle;\n    }\n\n    .dataframe tbody tr th {\n        vertical-align: top;\n    }\n\n    .dataframe thead th {\n        text-align: right;\n    }\n</style>\n<table border=\"1\" class=\"dataframe\">\n  <thead>\n    <tr style=\"text-align: right;\">\n      <th></th>\n      <th>c5</th>\n    </tr>\n  </thead>\n  <tbody>\n    <tr>\n      <th>0</th>\n      <td>B087QRW81Z</td>\n    </tr>\n    <tr>\n      <th>1</th>\n      <td>B07743412C</td>\n    </tr>\n    <tr>\n      <th>2</th>\n      <td>B07MTRQ6B3</td>\n    </tr>\n    <tr>\n      <th>3</th>\n      <td>B087QRW81Z</td>\n    </tr>\n    <tr>\n      <th>4</th>\n      <td>B072XCZSSW</td>\n    </tr>\n    <tr>\n      <th>...</th>\n      <td>...</td>\n    </tr>\n    <tr>\n      <th>5602</th>\n      <td>B075XLN559</td>\n    </tr>\n    <tr>\n      <th>5603</th>\n      <td>B0754MN7D3</td>\n    </tr>\n    <tr>\n      <th>5604</th>\n      <td>B07B24HBXN</td>\n    </tr>\n    <tr>\n      <th>5605</th>\n      <td>B081SJZX8F</td>\n    </tr>\n    <tr>\n      <th>5606</th>\n      <td>B08GSS37R7</td>\n    </tr>\n  </tbody>\n</table>\n<p>5607 rows × 1 columns</p>\n</div>"
     },
     "metadata": {},
     "execution_count": 343
    }
   ],
   "source": [
    "new_f1 = abcde.drop(['d4',], axis=1)\n",
    "new_f1"
   ]
  },
  {
   "cell_type": "code",
   "execution_count": 344,
   "metadata": {},
   "outputs": [],
   "source": [
    "# abcde[\"period\"] = abcde[\"c5\"] + abcde[\"d4\"]\n",
    "# abcde"
   ]
  },
  {
   "cell_type": "code",
   "execution_count": 345,
   "metadata": {},
   "outputs": [
    {
     "output_type": "execute_result",
     "data": {
      "text/plain": [
       "                                                  title  \\\n",
       "0     Sceptre IPS 24-Inch Business Computer Monitor ...   \n",
       "1     Sceptre 20\" 1600x900 75Hz Ultra Thin LED Monit...   \n",
       "2     Sceptre Curved 27\" 75Hz LED Monitor HDMI VGA B...   \n",
       "3     Sceptre IPS 24-Inch Business Computer Monitor ...   \n",
       "4     BenQ 24 Inch IPS Monitor | 1080P | Proprietary...   \n",
       "...                                                 ...   \n",
       "5602  Deeirao 4 Port 15 Pin Female(4 in 1 Out) VGA S...   \n",
       "5603  HP Elite 8200 Ultra Slim Desktop PC - Intel Co...   \n",
       "5604  DTECH 15ft DB9 Serial Cable COM Port Male to M...   \n",
       "5605  YES2B 10.1 Inch Laptop Privacy Screen Filter f...   \n",
       "5606  ConnectSense Router Rebooter, Monitors Your In...   \n",
       "\n",
       "                                                    url  rating  review_count  \\\n",
       "0     https://www.amazon.com/gp/slredirect/picassoRe...     4.6          1134   \n",
       "1     https://www.amazon.com/Sceptre-E205W-16003R-Fr...     4.5         12054   \n",
       "2     https://www.amazon.com/Sceptre-Monitor-Speaker...     4.7          4828   \n",
       "3     https://www.amazon.com/Sceptre-Business-Comput...     4.6          1134   \n",
       "4     https://www.amazon.com/BenQ-proprietary-border...     4.7          8532   \n",
       "...                                                 ...     ...           ...   \n",
       "5602  https://www.amazon.com/Deeirao-Female-Resoluti...     4.6            29   \n",
       "5603  https://www.amazon.com/HP-Elite-8200-Ultra-Des...     4.3           250   \n",
       "5604  https://www.amazon.com/DTECH-RS232-Serial-Stra...     4.5           102   \n",
       "5605  https://www.amazon.com/gp/slredirect/picassoRe...     3.9            40   \n",
       "5606  https://www.amazon.com/gp/slredirect/picassoRe...     2.8            23   \n",
       "\n",
       "       price product_type          c5  \n",
       "0     119.97      monitor  B087QRW81Z  \n",
       "1      79.97      monitor  B07743412C  \n",
       "2     169.99      monitor  B07MTRQ6B3  \n",
       "3     119.97      monitor  B087QRW81Z  \n",
       "4     118.69      monitor  B072XCZSSW  \n",
       "...      ...          ...         ...  \n",
       "5602   13.99      monitor  B075XLN559  \n",
       "5603  122.00      monitor  B0754MN7D3  \n",
       "5604   10.48      monitor  B07B24HBXN  \n",
       "5605   18.99      monitor  B081SJZX8F  \n",
       "5606   34.95      monitor  B08GSS37R7  \n",
       "\n",
       "[5607 rows x 7 columns]"
      ],
      "text/html": "<div>\n<style scoped>\n    .dataframe tbody tr th:only-of-type {\n        vertical-align: middle;\n    }\n\n    .dataframe tbody tr th {\n        vertical-align: top;\n    }\n\n    .dataframe thead th {\n        text-align: right;\n    }\n</style>\n<table border=\"1\" class=\"dataframe\">\n  <thead>\n    <tr style=\"text-align: right;\">\n      <th></th>\n      <th>title</th>\n      <th>url</th>\n      <th>rating</th>\n      <th>review_count</th>\n      <th>price</th>\n      <th>product_type</th>\n      <th>c5</th>\n    </tr>\n  </thead>\n  <tbody>\n    <tr>\n      <th>0</th>\n      <td>Sceptre IPS 24-Inch Business Computer Monitor ...</td>\n      <td>https://www.amazon.com/gp/slredirect/picassoRe...</td>\n      <td>4.6</td>\n      <td>1134</td>\n      <td>119.97</td>\n      <td>monitor</td>\n      <td>B087QRW81Z</td>\n    </tr>\n    <tr>\n      <th>1</th>\n      <td>Sceptre 20\" 1600x900 75Hz Ultra Thin LED Monit...</td>\n      <td>https://www.amazon.com/Sceptre-E205W-16003R-Fr...</td>\n      <td>4.5</td>\n      <td>12054</td>\n      <td>79.97</td>\n      <td>monitor</td>\n      <td>B07743412C</td>\n    </tr>\n    <tr>\n      <th>2</th>\n      <td>Sceptre Curved 27\" 75Hz LED Monitor HDMI VGA B...</td>\n      <td>https://www.amazon.com/Sceptre-Monitor-Speaker...</td>\n      <td>4.7</td>\n      <td>4828</td>\n      <td>169.99</td>\n      <td>monitor</td>\n      <td>B07MTRQ6B3</td>\n    </tr>\n    <tr>\n      <th>3</th>\n      <td>Sceptre IPS 24-Inch Business Computer Monitor ...</td>\n      <td>https://www.amazon.com/Sceptre-Business-Comput...</td>\n      <td>4.6</td>\n      <td>1134</td>\n      <td>119.97</td>\n      <td>monitor</td>\n      <td>B087QRW81Z</td>\n    </tr>\n    <tr>\n      <th>4</th>\n      <td>BenQ 24 Inch IPS Monitor | 1080P | Proprietary...</td>\n      <td>https://www.amazon.com/BenQ-proprietary-border...</td>\n      <td>4.7</td>\n      <td>8532</td>\n      <td>118.69</td>\n      <td>monitor</td>\n      <td>B072XCZSSW</td>\n    </tr>\n    <tr>\n      <th>...</th>\n      <td>...</td>\n      <td>...</td>\n      <td>...</td>\n      <td>...</td>\n      <td>...</td>\n      <td>...</td>\n      <td>...</td>\n    </tr>\n    <tr>\n      <th>5602</th>\n      <td>Deeirao 4 Port 15 Pin Female(4 in 1 Out) VGA S...</td>\n      <td>https://www.amazon.com/Deeirao-Female-Resoluti...</td>\n      <td>4.6</td>\n      <td>29</td>\n      <td>13.99</td>\n      <td>monitor</td>\n      <td>B075XLN559</td>\n    </tr>\n    <tr>\n      <th>5603</th>\n      <td>HP Elite 8200 Ultra Slim Desktop PC - Intel Co...</td>\n      <td>https://www.amazon.com/HP-Elite-8200-Ultra-Des...</td>\n      <td>4.3</td>\n      <td>250</td>\n      <td>122.00</td>\n      <td>monitor</td>\n      <td>B0754MN7D3</td>\n    </tr>\n    <tr>\n      <th>5604</th>\n      <td>DTECH 15ft DB9 Serial Cable COM Port Male to M...</td>\n      <td>https://www.amazon.com/DTECH-RS232-Serial-Stra...</td>\n      <td>4.5</td>\n      <td>102</td>\n      <td>10.48</td>\n      <td>monitor</td>\n      <td>B07B24HBXN</td>\n    </tr>\n    <tr>\n      <th>5605</th>\n      <td>YES2B 10.1 Inch Laptop Privacy Screen Filter f...</td>\n      <td>https://www.amazon.com/gp/slredirect/picassoRe...</td>\n      <td>3.9</td>\n      <td>40</td>\n      <td>18.99</td>\n      <td>monitor</td>\n      <td>B081SJZX8F</td>\n    </tr>\n    <tr>\n      <th>5606</th>\n      <td>ConnectSense Router Rebooter, Monitors Your In...</td>\n      <td>https://www.amazon.com/gp/slredirect/picassoRe...</td>\n      <td>2.8</td>\n      <td>23</td>\n      <td>34.95</td>\n      <td>monitor</td>\n      <td>B08GSS37R7</td>\n    </tr>\n  </tbody>\n</table>\n<p>5607 rows × 7 columns</p>\n</div>"
     },
     "metadata": {},
     "execution_count": 345
    }
   ],
   "source": [
    "final_1 = pd.concat([df_new, new_f1], axis=1)\n",
    "final_1"
   ]
  },
  {
   "cell_type": "code",
   "execution_count": 346,
   "metadata": {},
   "outputs": [
    {
     "output_type": "execute_result",
     "data": {
      "text/plain": [
       "                                                  title  rating  review_count  \\\n",
       "0     Sceptre IPS 24-Inch Business Computer Monitor ...     4.6          1134   \n",
       "1     Sceptre 20\" 1600x900 75Hz Ultra Thin LED Monit...     4.5         12054   \n",
       "2     Sceptre Curved 27\" 75Hz LED Monitor HDMI VGA B...     4.7          4828   \n",
       "3     Sceptre IPS 24-Inch Business Computer Monitor ...     4.6          1134   \n",
       "4     BenQ 24 Inch IPS Monitor | 1080P | Proprietary...     4.7          8532   \n",
       "...                                                 ...     ...           ...   \n",
       "5602  Deeirao 4 Port 15 Pin Female(4 in 1 Out) VGA S...     4.6            29   \n",
       "5603  HP Elite 8200 Ultra Slim Desktop PC - Intel Co...     4.3           250   \n",
       "5604  DTECH 15ft DB9 Serial Cable COM Port Male to M...     4.5           102   \n",
       "5605  YES2B 10.1 Inch Laptop Privacy Screen Filter f...     3.9            40   \n",
       "5606  ConnectSense Router Rebooter, Monitors Your In...     2.8            23   \n",
       "\n",
       "       price product_type          c5  \n",
       "0     119.97      monitor  B087QRW81Z  \n",
       "1      79.97      monitor  B07743412C  \n",
       "2     169.99      monitor  B07MTRQ6B3  \n",
       "3     119.97      monitor  B087QRW81Z  \n",
       "4     118.69      monitor  B072XCZSSW  \n",
       "...      ...          ...         ...  \n",
       "5602   13.99      monitor  B075XLN559  \n",
       "5603  122.00      monitor  B0754MN7D3  \n",
       "5604   10.48      monitor  B07B24HBXN  \n",
       "5605   18.99      monitor  B081SJZX8F  \n",
       "5606   34.95      monitor  B08GSS37R7  \n",
       "\n",
       "[5607 rows x 6 columns]"
      ],
      "text/html": "<div>\n<style scoped>\n    .dataframe tbody tr th:only-of-type {\n        vertical-align: middle;\n    }\n\n    .dataframe tbody tr th {\n        vertical-align: top;\n    }\n\n    .dataframe thead th {\n        text-align: right;\n    }\n</style>\n<table border=\"1\" class=\"dataframe\">\n  <thead>\n    <tr style=\"text-align: right;\">\n      <th></th>\n      <th>title</th>\n      <th>rating</th>\n      <th>review_count</th>\n      <th>price</th>\n      <th>product_type</th>\n      <th>c5</th>\n    </tr>\n  </thead>\n  <tbody>\n    <tr>\n      <th>0</th>\n      <td>Sceptre IPS 24-Inch Business Computer Monitor ...</td>\n      <td>4.6</td>\n      <td>1134</td>\n      <td>119.97</td>\n      <td>monitor</td>\n      <td>B087QRW81Z</td>\n    </tr>\n    <tr>\n      <th>1</th>\n      <td>Sceptre 20\" 1600x900 75Hz Ultra Thin LED Monit...</td>\n      <td>4.5</td>\n      <td>12054</td>\n      <td>79.97</td>\n      <td>monitor</td>\n      <td>B07743412C</td>\n    </tr>\n    <tr>\n      <th>2</th>\n      <td>Sceptre Curved 27\" 75Hz LED Monitor HDMI VGA B...</td>\n      <td>4.7</td>\n      <td>4828</td>\n      <td>169.99</td>\n      <td>monitor</td>\n      <td>B07MTRQ6B3</td>\n    </tr>\n    <tr>\n      <th>3</th>\n      <td>Sceptre IPS 24-Inch Business Computer Monitor ...</td>\n      <td>4.6</td>\n      <td>1134</td>\n      <td>119.97</td>\n      <td>monitor</td>\n      <td>B087QRW81Z</td>\n    </tr>\n    <tr>\n      <th>4</th>\n      <td>BenQ 24 Inch IPS Monitor | 1080P | Proprietary...</td>\n      <td>4.7</td>\n      <td>8532</td>\n      <td>118.69</td>\n      <td>monitor</td>\n      <td>B072XCZSSW</td>\n    </tr>\n    <tr>\n      <th>...</th>\n      <td>...</td>\n      <td>...</td>\n      <td>...</td>\n      <td>...</td>\n      <td>...</td>\n      <td>...</td>\n    </tr>\n    <tr>\n      <th>5602</th>\n      <td>Deeirao 4 Port 15 Pin Female(4 in 1 Out) VGA S...</td>\n      <td>4.6</td>\n      <td>29</td>\n      <td>13.99</td>\n      <td>monitor</td>\n      <td>B075XLN559</td>\n    </tr>\n    <tr>\n      <th>5603</th>\n      <td>HP Elite 8200 Ultra Slim Desktop PC - Intel Co...</td>\n      <td>4.3</td>\n      <td>250</td>\n      <td>122.00</td>\n      <td>monitor</td>\n      <td>B0754MN7D3</td>\n    </tr>\n    <tr>\n      <th>5604</th>\n      <td>DTECH 15ft DB9 Serial Cable COM Port Male to M...</td>\n      <td>4.5</td>\n      <td>102</td>\n      <td>10.48</td>\n      <td>monitor</td>\n      <td>B07B24HBXN</td>\n    </tr>\n    <tr>\n      <th>5605</th>\n      <td>YES2B 10.1 Inch Laptop Privacy Screen Filter f...</td>\n      <td>3.9</td>\n      <td>40</td>\n      <td>18.99</td>\n      <td>monitor</td>\n      <td>B081SJZX8F</td>\n    </tr>\n    <tr>\n      <th>5606</th>\n      <td>ConnectSense Router Rebooter, Monitors Your In...</td>\n      <td>2.8</td>\n      <td>23</td>\n      <td>34.95</td>\n      <td>monitor</td>\n      <td>B08GSS37R7</td>\n    </tr>\n  </tbody>\n</table>\n<p>5607 rows × 6 columns</p>\n</div>"
     },
     "metadata": {},
     "execution_count": 346
    }
   ],
   "source": [
    "new_f2 = final_1.drop(['url',], axis=1)\n",
    "new_f2"
   ]
  },
  {
   "cell_type": "code",
   "execution_count": 347,
   "metadata": {},
   "outputs": [
    {
     "output_type": "execute_result",
     "data": {
      "text/plain": [
       "title            object\n",
       "rating          float64\n",
       "review_count      int32\n",
       "price           float64\n",
       "product_type     object\n",
       "c5               object\n",
       "dtype: object"
      ]
     },
     "metadata": {},
     "execution_count": 347
    }
   ],
   "source": [
    "new_f2.dtypes"
   ]
  },
  {
   "cell_type": "code",
   "execution_count": 348,
   "metadata": {},
   "outputs": [
    {
     "output_type": "execute_result",
     "data": {
      "text/plain": [
       "                                                  title  rating  review_count  \\\n",
       "0     Sceptre IPS 24-Inch Business Computer Monitor ...     4.6          1134   \n",
       "1     Sceptre 20\" 1600x900 75Hz Ultra Thin LED Monit...     4.5         12054   \n",
       "2     Sceptre Curved 27\" 75Hz LED Monitor HDMI VGA B...     4.7          4828   \n",
       "3     Sceptre IPS 24-Inch Business Computer Monitor ...     4.6          1134   \n",
       "4     BenQ 24 Inch IPS Monitor | 1080P | Proprietary...     4.7          8532   \n",
       "...                                                 ...     ...           ...   \n",
       "5602  Deeirao 4 Port 15 Pin Female(4 in 1 Out) VGA S...     4.6            29   \n",
       "5603  HP Elite 8200 Ultra Slim Desktop PC - Intel Co...     4.3           250   \n",
       "5604  DTECH 15ft DB9 Serial Cable COM Port Male to M...     4.5           102   \n",
       "5605  YES2B 10.1 Inch Laptop Privacy Screen Filter f...     3.9            40   \n",
       "5606  ConnectSense Router Rebooter, Monitors Your In...     2.8            23   \n",
       "\n",
       "       price product_type        ASIN  \n",
       "0     119.97      monitor  B087QRW81Z  \n",
       "1      79.97      monitor  B07743412C  \n",
       "2     169.99      monitor  B07MTRQ6B3  \n",
       "3     119.97      monitor  B087QRW81Z  \n",
       "4     118.69      monitor  B072XCZSSW  \n",
       "...      ...          ...         ...  \n",
       "5602   13.99      monitor  B075XLN559  \n",
       "5603  122.00      monitor  B0754MN7D3  \n",
       "5604   10.48      monitor  B07B24HBXN  \n",
       "5605   18.99      monitor  B081SJZX8F  \n",
       "5606   34.95      monitor  B08GSS37R7  \n",
       "\n",
       "[5607 rows x 6 columns]"
      ],
      "text/html": "<div>\n<style scoped>\n    .dataframe tbody tr th:only-of-type {\n        vertical-align: middle;\n    }\n\n    .dataframe tbody tr th {\n        vertical-align: top;\n    }\n\n    .dataframe thead th {\n        text-align: right;\n    }\n</style>\n<table border=\"1\" class=\"dataframe\">\n  <thead>\n    <tr style=\"text-align: right;\">\n      <th></th>\n      <th>title</th>\n      <th>rating</th>\n      <th>review_count</th>\n      <th>price</th>\n      <th>product_type</th>\n      <th>ASIN</th>\n    </tr>\n  </thead>\n  <tbody>\n    <tr>\n      <th>0</th>\n      <td>Sceptre IPS 24-Inch Business Computer Monitor ...</td>\n      <td>4.6</td>\n      <td>1134</td>\n      <td>119.97</td>\n      <td>monitor</td>\n      <td>B087QRW81Z</td>\n    </tr>\n    <tr>\n      <th>1</th>\n      <td>Sceptre 20\" 1600x900 75Hz Ultra Thin LED Monit...</td>\n      <td>4.5</td>\n      <td>12054</td>\n      <td>79.97</td>\n      <td>monitor</td>\n      <td>B07743412C</td>\n    </tr>\n    <tr>\n      <th>2</th>\n      <td>Sceptre Curved 27\" 75Hz LED Monitor HDMI VGA B...</td>\n      <td>4.7</td>\n      <td>4828</td>\n      <td>169.99</td>\n      <td>monitor</td>\n      <td>B07MTRQ6B3</td>\n    </tr>\n    <tr>\n      <th>3</th>\n      <td>Sceptre IPS 24-Inch Business Computer Monitor ...</td>\n      <td>4.6</td>\n      <td>1134</td>\n      <td>119.97</td>\n      <td>monitor</td>\n      <td>B087QRW81Z</td>\n    </tr>\n    <tr>\n      <th>4</th>\n      <td>BenQ 24 Inch IPS Monitor | 1080P | Proprietary...</td>\n      <td>4.7</td>\n      <td>8532</td>\n      <td>118.69</td>\n      <td>monitor</td>\n      <td>B072XCZSSW</td>\n    </tr>\n    <tr>\n      <th>...</th>\n      <td>...</td>\n      <td>...</td>\n      <td>...</td>\n      <td>...</td>\n      <td>...</td>\n      <td>...</td>\n    </tr>\n    <tr>\n      <th>5602</th>\n      <td>Deeirao 4 Port 15 Pin Female(4 in 1 Out) VGA S...</td>\n      <td>4.6</td>\n      <td>29</td>\n      <td>13.99</td>\n      <td>monitor</td>\n      <td>B075XLN559</td>\n    </tr>\n    <tr>\n      <th>5603</th>\n      <td>HP Elite 8200 Ultra Slim Desktop PC - Intel Co...</td>\n      <td>4.3</td>\n      <td>250</td>\n      <td>122.00</td>\n      <td>monitor</td>\n      <td>B0754MN7D3</td>\n    </tr>\n    <tr>\n      <th>5604</th>\n      <td>DTECH 15ft DB9 Serial Cable COM Port Male to M...</td>\n      <td>4.5</td>\n      <td>102</td>\n      <td>10.48</td>\n      <td>monitor</td>\n      <td>B07B24HBXN</td>\n    </tr>\n    <tr>\n      <th>5605</th>\n      <td>YES2B 10.1 Inch Laptop Privacy Screen Filter f...</td>\n      <td>3.9</td>\n      <td>40</td>\n      <td>18.99</td>\n      <td>monitor</td>\n      <td>B081SJZX8F</td>\n    </tr>\n    <tr>\n      <th>5606</th>\n      <td>ConnectSense Router Rebooter, Monitors Your In...</td>\n      <td>2.8</td>\n      <td>23</td>\n      <td>34.95</td>\n      <td>monitor</td>\n      <td>B08GSS37R7</td>\n    </tr>\n  </tbody>\n</table>\n<p>5607 rows × 6 columns</p>\n</div>"
     },
     "metadata": {},
     "execution_count": 348
    }
   ],
   "source": [
    "new_f3 =new_f2.rename(columns={'c5': 'ASIN'})\n",
    "new_f3"
   ]
  },
  {
   "cell_type": "code",
   "execution_count": 349,
   "metadata": {},
   "outputs": [
    {
     "output_type": "execute_result",
     "data": {
      "text/plain": [
       "title            object\n",
       "rating          float64\n",
       "review_count      int32\n",
       "price           float64\n",
       "product_type     object\n",
       "ASIN             object\n",
       "dtype: object"
      ]
     },
     "metadata": {},
     "execution_count": 349
    }
   ],
   "source": [
    "new_f3.dtypes"
   ]
  },
  {
   "cell_type": "code",
   "execution_count": 350,
   "metadata": {},
   "outputs": [],
   "source": [
    "# new_f3.insert(0, column='ASIN', value = ASIN)\n",
    "# new_f3"
   ]
  },
  {
   "cell_type": "code",
   "execution_count": 351,
   "metadata": {},
   "outputs": [
    {
     "output_type": "execute_result",
     "data": {
      "text/plain": [
       "['title', 'rating', 'review_count', 'price', 'product_type', 'ASIN']"
      ]
     },
     "metadata": {},
     "execution_count": 351
    }
   ],
   "source": [
    "cols = new_f3.columns.tolist()\n",
    "cols"
   ]
  },
  {
   "cell_type": "code",
   "execution_count": 352,
   "metadata": {},
   "outputs": [
    {
     "output_type": "execute_result",
     "data": {
      "text/plain": [
       "['ASIN', 'title', 'rating', 'review_count', 'price', 'product_type']"
      ]
     },
     "metadata": {},
     "execution_count": 352
    }
   ],
   "source": [
    "cols = cols[-1:] + cols[:-1]\n",
    "cols"
   ]
  },
  {
   "cell_type": "code",
   "execution_count": 353,
   "metadata": {},
   "outputs": [
    {
     "output_type": "execute_result",
     "data": {
      "text/plain": [
       "            ASIN                                              title  rating  \\\n",
       "0     B087QRW81Z  Sceptre IPS 24-Inch Business Computer Monitor ...     4.6   \n",
       "1     B07743412C  Sceptre 20\" 1600x900 75Hz Ultra Thin LED Monit...     4.5   \n",
       "2     B07MTRQ6B3  Sceptre Curved 27\" 75Hz LED Monitor HDMI VGA B...     4.7   \n",
       "3     B087QRW81Z  Sceptre IPS 24-Inch Business Computer Monitor ...     4.6   \n",
       "4     B072XCZSSW  BenQ 24 Inch IPS Monitor | 1080P | Proprietary...     4.7   \n",
       "...          ...                                                ...     ...   \n",
       "5602  B075XLN559  Deeirao 4 Port 15 Pin Female(4 in 1 Out) VGA S...     4.6   \n",
       "5603  B0754MN7D3  HP Elite 8200 Ultra Slim Desktop PC - Intel Co...     4.3   \n",
       "5604  B07B24HBXN  DTECH 15ft DB9 Serial Cable COM Port Male to M...     4.5   \n",
       "5605  B081SJZX8F  YES2B 10.1 Inch Laptop Privacy Screen Filter f...     3.9   \n",
       "5606  B08GSS37R7  ConnectSense Router Rebooter, Monitors Your In...     2.8   \n",
       "\n",
       "      review_count   price product_type  \n",
       "0             1134  119.97      monitor  \n",
       "1            12054   79.97      monitor  \n",
       "2             4828  169.99      monitor  \n",
       "3             1134  119.97      monitor  \n",
       "4             8532  118.69      monitor  \n",
       "...            ...     ...          ...  \n",
       "5602            29   13.99      monitor  \n",
       "5603           250  122.00      monitor  \n",
       "5604           102   10.48      monitor  \n",
       "5605            40   18.99      monitor  \n",
       "5606            23   34.95      monitor  \n",
       "\n",
       "[5607 rows x 6 columns]"
      ],
      "text/html": "<div>\n<style scoped>\n    .dataframe tbody tr th:only-of-type {\n        vertical-align: middle;\n    }\n\n    .dataframe tbody tr th {\n        vertical-align: top;\n    }\n\n    .dataframe thead th {\n        text-align: right;\n    }\n</style>\n<table border=\"1\" class=\"dataframe\">\n  <thead>\n    <tr style=\"text-align: right;\">\n      <th></th>\n      <th>ASIN</th>\n      <th>title</th>\n      <th>rating</th>\n      <th>review_count</th>\n      <th>price</th>\n      <th>product_type</th>\n    </tr>\n  </thead>\n  <tbody>\n    <tr>\n      <th>0</th>\n      <td>B087QRW81Z</td>\n      <td>Sceptre IPS 24-Inch Business Computer Monitor ...</td>\n      <td>4.6</td>\n      <td>1134</td>\n      <td>119.97</td>\n      <td>monitor</td>\n    </tr>\n    <tr>\n      <th>1</th>\n      <td>B07743412C</td>\n      <td>Sceptre 20\" 1600x900 75Hz Ultra Thin LED Monit...</td>\n      <td>4.5</td>\n      <td>12054</td>\n      <td>79.97</td>\n      <td>monitor</td>\n    </tr>\n    <tr>\n      <th>2</th>\n      <td>B07MTRQ6B3</td>\n      <td>Sceptre Curved 27\" 75Hz LED Monitor HDMI VGA B...</td>\n      <td>4.7</td>\n      <td>4828</td>\n      <td>169.99</td>\n      <td>monitor</td>\n    </tr>\n    <tr>\n      <th>3</th>\n      <td>B087QRW81Z</td>\n      <td>Sceptre IPS 24-Inch Business Computer Monitor ...</td>\n      <td>4.6</td>\n      <td>1134</td>\n      <td>119.97</td>\n      <td>monitor</td>\n    </tr>\n    <tr>\n      <th>4</th>\n      <td>B072XCZSSW</td>\n      <td>BenQ 24 Inch IPS Monitor | 1080P | Proprietary...</td>\n      <td>4.7</td>\n      <td>8532</td>\n      <td>118.69</td>\n      <td>monitor</td>\n    </tr>\n    <tr>\n      <th>...</th>\n      <td>...</td>\n      <td>...</td>\n      <td>...</td>\n      <td>...</td>\n      <td>...</td>\n      <td>...</td>\n    </tr>\n    <tr>\n      <th>5602</th>\n      <td>B075XLN559</td>\n      <td>Deeirao 4 Port 15 Pin Female(4 in 1 Out) VGA S...</td>\n      <td>4.6</td>\n      <td>29</td>\n      <td>13.99</td>\n      <td>monitor</td>\n    </tr>\n    <tr>\n      <th>5603</th>\n      <td>B0754MN7D3</td>\n      <td>HP Elite 8200 Ultra Slim Desktop PC - Intel Co...</td>\n      <td>4.3</td>\n      <td>250</td>\n      <td>122.00</td>\n      <td>monitor</td>\n    </tr>\n    <tr>\n      <th>5604</th>\n      <td>B07B24HBXN</td>\n      <td>DTECH 15ft DB9 Serial Cable COM Port Male to M...</td>\n      <td>4.5</td>\n      <td>102</td>\n      <td>10.48</td>\n      <td>monitor</td>\n    </tr>\n    <tr>\n      <th>5605</th>\n      <td>B081SJZX8F</td>\n      <td>YES2B 10.1 Inch Laptop Privacy Screen Filter f...</td>\n      <td>3.9</td>\n      <td>40</td>\n      <td>18.99</td>\n      <td>monitor</td>\n    </tr>\n    <tr>\n      <th>5606</th>\n      <td>B08GSS37R7</td>\n      <td>ConnectSense Router Rebooter, Monitors Your In...</td>\n      <td>2.8</td>\n      <td>23</td>\n      <td>34.95</td>\n      <td>monitor</td>\n    </tr>\n  </tbody>\n</table>\n<p>5607 rows × 6 columns</p>\n</div>"
     },
     "metadata": {},
     "execution_count": 353
    }
   ],
   "source": [
    "new_f3 = new_f3[cols]\n",
    "new_f3"
   ]
  },
  {
   "cell_type": "code",
   "execution_count": 354,
   "metadata": {},
   "outputs": [],
   "source": [
    "new_f3.to_csv('search_monitor.csv')"
   ]
  },
  {
   "cell_type": "code",
   "execution_count": 355,
   "metadata": {},
   "outputs": [],
   "source": [
    "# best = new_f3.sort_values(\"review_count\", inplace=True)\n"
   ]
  },
  {
   "cell_type": "code",
   "execution_count": 356,
   "metadata": {},
   "outputs": [
    {
     "output_type": "execute_result",
     "data": {
      "text/plain": [
       "            ASIN                                              title  rating  \\\n",
       "0     B087QRW81Z  Sceptre IPS 24-Inch Business Computer Monitor ...     4.6   \n",
       "1     B07743412C  Sceptre 20\" 1600x900 75Hz Ultra Thin LED Monit...     4.5   \n",
       "2     B07MTRQ6B3  Sceptre Curved 27\" 75Hz LED Monitor HDMI VGA B...     4.7   \n",
       "3     B087QRW81Z  Sceptre IPS 24-Inch Business Computer Monitor ...     4.6   \n",
       "4     B072XCZSSW  BenQ 24 Inch IPS Monitor | 1080P | Proprietary...     4.7   \n",
       "...          ...                                                ...     ...   \n",
       "5602  B075XLN559  Deeirao 4 Port 15 Pin Female(4 in 1 Out) VGA S...     4.6   \n",
       "5603  B0754MN7D3  HP Elite 8200 Ultra Slim Desktop PC - Intel Co...     4.3   \n",
       "5604  B07B24HBXN  DTECH 15ft DB9 Serial Cable COM Port Male to M...     4.5   \n",
       "5605  B081SJZX8F  YES2B 10.1 Inch Laptop Privacy Screen Filter f...     3.9   \n",
       "5606  B08GSS37R7  ConnectSense Router Rebooter, Monitors Your In...     2.8   \n",
       "\n",
       "      review_count  \n",
       "0             1134  \n",
       "1            12054  \n",
       "2             4828  \n",
       "3             1134  \n",
       "4             8532  \n",
       "...            ...  \n",
       "5602            29  \n",
       "5603           250  \n",
       "5604           102  \n",
       "5605            40  \n",
       "5606            23  \n",
       "\n",
       "[5607 rows x 4 columns]"
      ],
      "text/html": "<div>\n<style scoped>\n    .dataframe tbody tr th:only-of-type {\n        vertical-align: middle;\n    }\n\n    .dataframe tbody tr th {\n        vertical-align: top;\n    }\n\n    .dataframe thead th {\n        text-align: right;\n    }\n</style>\n<table border=\"1\" class=\"dataframe\">\n  <thead>\n    <tr style=\"text-align: right;\">\n      <th></th>\n      <th>ASIN</th>\n      <th>title</th>\n      <th>rating</th>\n      <th>review_count</th>\n    </tr>\n  </thead>\n  <tbody>\n    <tr>\n      <th>0</th>\n      <td>B087QRW81Z</td>\n      <td>Sceptre IPS 24-Inch Business Computer Monitor ...</td>\n      <td>4.6</td>\n      <td>1134</td>\n    </tr>\n    <tr>\n      <th>1</th>\n      <td>B07743412C</td>\n      <td>Sceptre 20\" 1600x900 75Hz Ultra Thin LED Monit...</td>\n      <td>4.5</td>\n      <td>12054</td>\n    </tr>\n    <tr>\n      <th>2</th>\n      <td>B07MTRQ6B3</td>\n      <td>Sceptre Curved 27\" 75Hz LED Monitor HDMI VGA B...</td>\n      <td>4.7</td>\n      <td>4828</td>\n    </tr>\n    <tr>\n      <th>3</th>\n      <td>B087QRW81Z</td>\n      <td>Sceptre IPS 24-Inch Business Computer Monitor ...</td>\n      <td>4.6</td>\n      <td>1134</td>\n    </tr>\n    <tr>\n      <th>4</th>\n      <td>B072XCZSSW</td>\n      <td>BenQ 24 Inch IPS Monitor | 1080P | Proprietary...</td>\n      <td>4.7</td>\n      <td>8532</td>\n    </tr>\n    <tr>\n      <th>...</th>\n      <td>...</td>\n      <td>...</td>\n      <td>...</td>\n      <td>...</td>\n    </tr>\n    <tr>\n      <th>5602</th>\n      <td>B075XLN559</td>\n      <td>Deeirao 4 Port 15 Pin Female(4 in 1 Out) VGA S...</td>\n      <td>4.6</td>\n      <td>29</td>\n    </tr>\n    <tr>\n      <th>5603</th>\n      <td>B0754MN7D3</td>\n      <td>HP Elite 8200 Ultra Slim Desktop PC - Intel Co...</td>\n      <td>4.3</td>\n      <td>250</td>\n    </tr>\n    <tr>\n      <th>5604</th>\n      <td>B07B24HBXN</td>\n      <td>DTECH 15ft DB9 Serial Cable COM Port Male to M...</td>\n      <td>4.5</td>\n      <td>102</td>\n    </tr>\n    <tr>\n      <th>5605</th>\n      <td>B081SJZX8F</td>\n      <td>YES2B 10.1 Inch Laptop Privacy Screen Filter f...</td>\n      <td>3.9</td>\n      <td>40</td>\n    </tr>\n    <tr>\n      <th>5606</th>\n      <td>B08GSS37R7</td>\n      <td>ConnectSense Router Rebooter, Monitors Your In...</td>\n      <td>2.8</td>\n      <td>23</td>\n    </tr>\n  </tbody>\n</table>\n<p>5607 rows × 4 columns</p>\n</div>"
     },
     "metadata": {},
     "execution_count": 356
    }
   ],
   "source": [
    "best = new_f3[['ASIN', 'title', 'rating', 'review_count']]\n",
    "best"
   ]
  },
  {
   "cell_type": "code",
   "execution_count": 357,
   "metadata": {},
   "outputs": [
    {
     "output_type": "execute_result",
     "data": {
      "text/plain": [
       "            ASIN                                              title  rating  \\\n",
       "4894  B0143UM4TC  Corsair Vengeance LPX 16GB (2x8GB) DDR4 DRAM 3...     4.8   \n",
       "5029  B079JD7F7G  TP-Link AC1750 Smart WiFi Router (Archer A7) -...     4.5   \n",
       "3387  B085VR6G8C  Blue Light Blocking Glasses - 3Pack Computer G...     4.6   \n",
       "4886  B073SBQMCX  Western Digital 1TB WD Blue 3D NAND Internal P...     4.8   \n",
       "3436  B06XCD4PDF  Tablet Stand Adjustable, Lamicall Tablet Stand...     4.8   \n",
       "3745  B07MVZZV3G  Power Strip, Bototek Surge Protector with 10 A...     4.8   \n",
       "3750  B07MVZZV3G  Power Strip, Bototek Surge Protector with 10 A...     4.8   \n",
       "5501  B07R4SG77T  FEIYOLD Blue Light Blocking Glasses Women/Men,...     4.6   \n",
       "37    B07CVL2D2S  Acer SB220Q bi 21.5 Inches Full HD (1920 x 108...     4.7   \n",
       "1569  B071WYP3BY  MOSISO Laptop Sleeve Compatible with MacBook P...     4.6   \n",
       "3803  B07RF1XD36  Acer Aspire 5 Slim Laptop, 15.6 inches Full HD...     4.6   \n",
       "3658  B017Q8ZVWK  DisplayPort to HDMI, Benfei Gold-Plated DP Dis...     4.4   \n",
       "3668  B017Q8ZVWK  DisplayPort to HDMI, Benfei Gold-Plated DP Dis...     4.4   \n",
       "4896  B07RL5L8ZL  USB C Hub Multiport Adapter - 7 in 1 Portable ...     4.6   \n",
       "5030  B06XH46MWW  NETGEAR Cable Modem CM500 - Compatible with Al...     4.4   \n",
       "2082  B07DDK3W5D  Amazon Basics USB-Powered PC Computer Speakers...     4.5   \n",
       "988   B072PZN5ZK  Mini DisplayPort to HDMI Adapter [Super Slim, ...     4.6   \n",
       "2273  B072PZN5ZK  Mini DisplayPort to HDMI Adapter [Super Slim, ...     4.6   \n",
       "39    B072M34RQC  HP VH240a 23.8-Inch Full HD 1080p IPS LED Moni...     4.7   \n",
       "497   B01M4S7ZGM  Monitor Stand Riser, 2 Tiers Wood Monitor Rise...     4.6   \n",
       "40    B07GD7H18F  AOC C24G1 24\" Curved Frameless Gaming Monitor,...     4.7   \n",
       "485   B08CND55T5  HDMI to VGA, 10 Pack, Benfei Gold-Plated HDMI ...     4.5   \n",
       "1177  B08CND55T5  HDMI to VGA, 10 Pack, Benfei Gold-Plated HDMI ...     4.5   \n",
       "2813  B07NXR9R22  Soundance Laptop Stand, Aluminum Computer Rise...     4.8   \n",
       "1256  B01KRLYPNE                    Rankie VGA to VGA Cable, 6 Feet     4.7   \n",
       "5560  B07V1SZCY6  TP-Link USB Bluetooth Adapter for PC(UB400), 4...     4.4   \n",
       "2733  B07M9N2R5R  MOSISO Compatible with MacBook Air 13 inch Cas...     4.2   \n",
       "3182  B07M9N2R5R  MOSISO Compatible with MacBook Air 13 inch Cas...     4.2   \n",
       "182   B07PV8XTNL  Amazon Basics Computer Monitor TV Replacement ...     4.7   \n",
       "4806  B0781Z5PCL  NETGEAR Nighthawk Cable Modem Wi-Fi Router Com...     4.4   \n",
       "1     B07743412C  Sceptre 20\" 1600x900 75Hz Ultra Thin LED Monit...     4.5   \n",
       "59    B07KXSR99Y  Sceptre 24\" Curved 75Hz Gaming LED Monitor Ful...     4.6   \n",
       "5393  B07TC2BK1X  Raspberry Pi 4 Model B 2019 Quad Core 64 Bit W...     4.8   \n",
       "1614  B01MR397OH  Dual Monitor Mount for 13-27 inch LCD LED Moni...     4.7   \n",
       "1605  B01MR397OH  Dual Monitor Mount for 13-27 inch LCD LED Moni...     4.7   \n",
       "4500  B016Y2BVKA  Havit Wired Gaming Keyboard Mouse Combo LED Ra...     4.5   \n",
       "1164  B01GPMRYNM  DisplayPort to VGA Adapter, Benfei DP DisplayP...     4.4   \n",
       "4563  B07YFFX5MD  Western Digital 1TB WD Blue SN550 NVMe Interna...     4.8   \n",
       "4568  B07YFFX5MD  Western Digital 1TB WD Blue SN550 NVMe Interna...     4.8   \n",
       "947   B089SJB5YS  Mini DisplayPort to HDMI Cable iVanky 10ft(3m)...     4.6   \n",
       "\n",
       "      review_count  \n",
       "4894         68499  \n",
       "5029         38533  \n",
       "3387         33389  \n",
       "4886         32917  \n",
       "3436         32510  \n",
       "3745         28732  \n",
       "3750         28732  \n",
       "5501         25562  \n",
       "37           25069  \n",
       "1569         24062  \n",
       "3803         23269  \n",
       "3658         22536  \n",
       "3668         22536  \n",
       "4896         22307  \n",
       "5030         21435  \n",
       "2082         20852  \n",
       "988          19674  \n",
       "2273         19674  \n",
       "39           19084  \n",
       "497          19011  \n",
       "40           17883  \n",
       "485          17705  \n",
       "1177         17705  \n",
       "2813         16769  \n",
       "1256         16730  \n",
       "5560         16652  \n",
       "2733         16438  \n",
       "3182         16438  \n",
       "182          16223  \n",
       "4806         13438  \n",
       "1            12054  \n",
       "59           12031  \n",
       "5393         11836  \n",
       "1614         11798  \n",
       "1605         11798  \n",
       "4500         11730  \n",
       "1164         11723  \n",
       "4563         11070  \n",
       "4568         11070  \n",
       "947          10514  "
      ],
      "text/html": "<div>\n<style scoped>\n    .dataframe tbody tr th:only-of-type {\n        vertical-align: middle;\n    }\n\n    .dataframe tbody tr th {\n        vertical-align: top;\n    }\n\n    .dataframe thead th {\n        text-align: right;\n    }\n</style>\n<table border=\"1\" class=\"dataframe\">\n  <thead>\n    <tr style=\"text-align: right;\">\n      <th></th>\n      <th>ASIN</th>\n      <th>title</th>\n      <th>rating</th>\n      <th>review_count</th>\n    </tr>\n  </thead>\n  <tbody>\n    <tr>\n      <th>4894</th>\n      <td>B0143UM4TC</td>\n      <td>Corsair Vengeance LPX 16GB (2x8GB) DDR4 DRAM 3...</td>\n      <td>4.8</td>\n      <td>68499</td>\n    </tr>\n    <tr>\n      <th>5029</th>\n      <td>B079JD7F7G</td>\n      <td>TP-Link AC1750 Smart WiFi Router (Archer A7) -...</td>\n      <td>4.5</td>\n      <td>38533</td>\n    </tr>\n    <tr>\n      <th>3387</th>\n      <td>B085VR6G8C</td>\n      <td>Blue Light Blocking Glasses - 3Pack Computer G...</td>\n      <td>4.6</td>\n      <td>33389</td>\n    </tr>\n    <tr>\n      <th>4886</th>\n      <td>B073SBQMCX</td>\n      <td>Western Digital 1TB WD Blue 3D NAND Internal P...</td>\n      <td>4.8</td>\n      <td>32917</td>\n    </tr>\n    <tr>\n      <th>3436</th>\n      <td>B06XCD4PDF</td>\n      <td>Tablet Stand Adjustable, Lamicall Tablet Stand...</td>\n      <td>4.8</td>\n      <td>32510</td>\n    </tr>\n    <tr>\n      <th>3745</th>\n      <td>B07MVZZV3G</td>\n      <td>Power Strip, Bototek Surge Protector with 10 A...</td>\n      <td>4.8</td>\n      <td>28732</td>\n    </tr>\n    <tr>\n      <th>3750</th>\n      <td>B07MVZZV3G</td>\n      <td>Power Strip, Bototek Surge Protector with 10 A...</td>\n      <td>4.8</td>\n      <td>28732</td>\n    </tr>\n    <tr>\n      <th>5501</th>\n      <td>B07R4SG77T</td>\n      <td>FEIYOLD Blue Light Blocking Glasses Women/Men,...</td>\n      <td>4.6</td>\n      <td>25562</td>\n    </tr>\n    <tr>\n      <th>37</th>\n      <td>B07CVL2D2S</td>\n      <td>Acer SB220Q bi 21.5 Inches Full HD (1920 x 108...</td>\n      <td>4.7</td>\n      <td>25069</td>\n    </tr>\n    <tr>\n      <th>1569</th>\n      <td>B071WYP3BY</td>\n      <td>MOSISO Laptop Sleeve Compatible with MacBook P...</td>\n      <td>4.6</td>\n      <td>24062</td>\n    </tr>\n    <tr>\n      <th>3803</th>\n      <td>B07RF1XD36</td>\n      <td>Acer Aspire 5 Slim Laptop, 15.6 inches Full HD...</td>\n      <td>4.6</td>\n      <td>23269</td>\n    </tr>\n    <tr>\n      <th>3658</th>\n      <td>B017Q8ZVWK</td>\n      <td>DisplayPort to HDMI, Benfei Gold-Plated DP Dis...</td>\n      <td>4.4</td>\n      <td>22536</td>\n    </tr>\n    <tr>\n      <th>3668</th>\n      <td>B017Q8ZVWK</td>\n      <td>DisplayPort to HDMI, Benfei Gold-Plated DP Dis...</td>\n      <td>4.4</td>\n      <td>22536</td>\n    </tr>\n    <tr>\n      <th>4896</th>\n      <td>B07RL5L8ZL</td>\n      <td>USB C Hub Multiport Adapter - 7 in 1 Portable ...</td>\n      <td>4.6</td>\n      <td>22307</td>\n    </tr>\n    <tr>\n      <th>5030</th>\n      <td>B06XH46MWW</td>\n      <td>NETGEAR Cable Modem CM500 - Compatible with Al...</td>\n      <td>4.4</td>\n      <td>21435</td>\n    </tr>\n    <tr>\n      <th>2082</th>\n      <td>B07DDK3W5D</td>\n      <td>Amazon Basics USB-Powered PC Computer Speakers...</td>\n      <td>4.5</td>\n      <td>20852</td>\n    </tr>\n    <tr>\n      <th>988</th>\n      <td>B072PZN5ZK</td>\n      <td>Mini DisplayPort to HDMI Adapter [Super Slim, ...</td>\n      <td>4.6</td>\n      <td>19674</td>\n    </tr>\n    <tr>\n      <th>2273</th>\n      <td>B072PZN5ZK</td>\n      <td>Mini DisplayPort to HDMI Adapter [Super Slim, ...</td>\n      <td>4.6</td>\n      <td>19674</td>\n    </tr>\n    <tr>\n      <th>39</th>\n      <td>B072M34RQC</td>\n      <td>HP VH240a 23.8-Inch Full HD 1080p IPS LED Moni...</td>\n      <td>4.7</td>\n      <td>19084</td>\n    </tr>\n    <tr>\n      <th>497</th>\n      <td>B01M4S7ZGM</td>\n      <td>Monitor Stand Riser, 2 Tiers Wood Monitor Rise...</td>\n      <td>4.6</td>\n      <td>19011</td>\n    </tr>\n    <tr>\n      <th>40</th>\n      <td>B07GD7H18F</td>\n      <td>AOC C24G1 24\" Curved Frameless Gaming Monitor,...</td>\n      <td>4.7</td>\n      <td>17883</td>\n    </tr>\n    <tr>\n      <th>485</th>\n      <td>B08CND55T5</td>\n      <td>HDMI to VGA, 10 Pack, Benfei Gold-Plated HDMI ...</td>\n      <td>4.5</td>\n      <td>17705</td>\n    </tr>\n    <tr>\n      <th>1177</th>\n      <td>B08CND55T5</td>\n      <td>HDMI to VGA, 10 Pack, Benfei Gold-Plated HDMI ...</td>\n      <td>4.5</td>\n      <td>17705</td>\n    </tr>\n    <tr>\n      <th>2813</th>\n      <td>B07NXR9R22</td>\n      <td>Soundance Laptop Stand, Aluminum Computer Rise...</td>\n      <td>4.8</td>\n      <td>16769</td>\n    </tr>\n    <tr>\n      <th>1256</th>\n      <td>B01KRLYPNE</td>\n      <td>Rankie VGA to VGA Cable, 6 Feet</td>\n      <td>4.7</td>\n      <td>16730</td>\n    </tr>\n    <tr>\n      <th>5560</th>\n      <td>B07V1SZCY6</td>\n      <td>TP-Link USB Bluetooth Adapter for PC(UB400), 4...</td>\n      <td>4.4</td>\n      <td>16652</td>\n    </tr>\n    <tr>\n      <th>2733</th>\n      <td>B07M9N2R5R</td>\n      <td>MOSISO Compatible with MacBook Air 13 inch Cas...</td>\n      <td>4.2</td>\n      <td>16438</td>\n    </tr>\n    <tr>\n      <th>3182</th>\n      <td>B07M9N2R5R</td>\n      <td>MOSISO Compatible with MacBook Air 13 inch Cas...</td>\n      <td>4.2</td>\n      <td>16438</td>\n    </tr>\n    <tr>\n      <th>182</th>\n      <td>B07PV8XTNL</td>\n      <td>Amazon Basics Computer Monitor TV Replacement ...</td>\n      <td>4.7</td>\n      <td>16223</td>\n    </tr>\n    <tr>\n      <th>4806</th>\n      <td>B0781Z5PCL</td>\n      <td>NETGEAR Nighthawk Cable Modem Wi-Fi Router Com...</td>\n      <td>4.4</td>\n      <td>13438</td>\n    </tr>\n    <tr>\n      <th>1</th>\n      <td>B07743412C</td>\n      <td>Sceptre 20\" 1600x900 75Hz Ultra Thin LED Monit...</td>\n      <td>4.5</td>\n      <td>12054</td>\n    </tr>\n    <tr>\n      <th>59</th>\n      <td>B07KXSR99Y</td>\n      <td>Sceptre 24\" Curved 75Hz Gaming LED Monitor Ful...</td>\n      <td>4.6</td>\n      <td>12031</td>\n    </tr>\n    <tr>\n      <th>5393</th>\n      <td>B07TC2BK1X</td>\n      <td>Raspberry Pi 4 Model B 2019 Quad Core 64 Bit W...</td>\n      <td>4.8</td>\n      <td>11836</td>\n    </tr>\n    <tr>\n      <th>1614</th>\n      <td>B01MR397OH</td>\n      <td>Dual Monitor Mount for 13-27 inch LCD LED Moni...</td>\n      <td>4.7</td>\n      <td>11798</td>\n    </tr>\n    <tr>\n      <th>1605</th>\n      <td>B01MR397OH</td>\n      <td>Dual Monitor Mount for 13-27 inch LCD LED Moni...</td>\n      <td>4.7</td>\n      <td>11798</td>\n    </tr>\n    <tr>\n      <th>4500</th>\n      <td>B016Y2BVKA</td>\n      <td>Havit Wired Gaming Keyboard Mouse Combo LED Ra...</td>\n      <td>4.5</td>\n      <td>11730</td>\n    </tr>\n    <tr>\n      <th>1164</th>\n      <td>B01GPMRYNM</td>\n      <td>DisplayPort to VGA Adapter, Benfei DP DisplayP...</td>\n      <td>4.4</td>\n      <td>11723</td>\n    </tr>\n    <tr>\n      <th>4563</th>\n      <td>B07YFFX5MD</td>\n      <td>Western Digital 1TB WD Blue SN550 NVMe Interna...</td>\n      <td>4.8</td>\n      <td>11070</td>\n    </tr>\n    <tr>\n      <th>4568</th>\n      <td>B07YFFX5MD</td>\n      <td>Western Digital 1TB WD Blue SN550 NVMe Interna...</td>\n      <td>4.8</td>\n      <td>11070</td>\n    </tr>\n    <tr>\n      <th>947</th>\n      <td>B089SJB5YS</td>\n      <td>Mini DisplayPort to HDMI Cable iVanky 10ft(3m)...</td>\n      <td>4.6</td>\n      <td>10514</td>\n    </tr>\n  </tbody>\n</table>\n</div>"
     },
     "metadata": {},
     "execution_count": 357
    }
   ],
   "source": [
    "best_1 = best.sort_values(by='review_count', ascending=False)\n",
    "best_1.head(40)"
   ]
  },
  {
   "cell_type": "code",
   "execution_count": 358,
   "metadata": {},
   "outputs": [
    {
     "output_type": "execute_result",
     "data": {
      "text/plain": [
       "            ASIN                                              title  rating  \\\n",
       "4894  B0143UM4TC  Corsair Vengeance LPX 16GB (2x8GB) DDR4 DRAM 3...     4.8   \n",
       "5029  B079JD7F7G  TP-Link AC1750 Smart WiFi Router (Archer A7) -...     4.5   \n",
       "3387  B085VR6G8C  Blue Light Blocking Glasses - 3Pack Computer G...     4.6   \n",
       "4886  B073SBQMCX  Western Digital 1TB WD Blue 3D NAND Internal P...     4.8   \n",
       "3436  B06XCD4PDF  Tablet Stand Adjustable, Lamicall Tablet Stand...     4.8   \n",
       "...          ...                                                ...     ...   \n",
       "4652  B07YZ5QD99  UL Listed 180W 150W AC Charger Fit for Asus RO...     1.0   \n",
       "1426  B07S85WT5V  Photodon Tab Attachment Privacy Filter for Sam...     1.0   \n",
       "2434  B07S97TRVM  Gordon Sinclair Black Cell Phone Holder Comput...     1.0   \n",
       "667   B08QD3FB85  KVM Switch Dual Monitor, 4K@60Hz (YUV 4:4:4), ...     1.0   \n",
       "3225  B08H1ZJLLF  C&Z Wooden Computer Laptop Monitor Stand Riser...     1.0   \n",
       "\n",
       "      review_count  \n",
       "4894         68499  \n",
       "5029         38533  \n",
       "3387         33389  \n",
       "4886         32917  \n",
       "3436         32510  \n",
       "...            ...  \n",
       "4652             1  \n",
       "1426             1  \n",
       "2434             1  \n",
       "667              1  \n",
       "3225             1  \n",
       "\n",
       "[5607 rows x 4 columns]"
      ],
      "text/html": "<div>\n<style scoped>\n    .dataframe tbody tr th:only-of-type {\n        vertical-align: middle;\n    }\n\n    .dataframe tbody tr th {\n        vertical-align: top;\n    }\n\n    .dataframe thead th {\n        text-align: right;\n    }\n</style>\n<table border=\"1\" class=\"dataframe\">\n  <thead>\n    <tr style=\"text-align: right;\">\n      <th></th>\n      <th>ASIN</th>\n      <th>title</th>\n      <th>rating</th>\n      <th>review_count</th>\n    </tr>\n  </thead>\n  <tbody>\n    <tr>\n      <th>4894</th>\n      <td>B0143UM4TC</td>\n      <td>Corsair Vengeance LPX 16GB (2x8GB) DDR4 DRAM 3...</td>\n      <td>4.8</td>\n      <td>68499</td>\n    </tr>\n    <tr>\n      <th>5029</th>\n      <td>B079JD7F7G</td>\n      <td>TP-Link AC1750 Smart WiFi Router (Archer A7) -...</td>\n      <td>4.5</td>\n      <td>38533</td>\n    </tr>\n    <tr>\n      <th>3387</th>\n      <td>B085VR6G8C</td>\n      <td>Blue Light Blocking Glasses - 3Pack Computer G...</td>\n      <td>4.6</td>\n      <td>33389</td>\n    </tr>\n    <tr>\n      <th>4886</th>\n      <td>B073SBQMCX</td>\n      <td>Western Digital 1TB WD Blue 3D NAND Internal P...</td>\n      <td>4.8</td>\n      <td>32917</td>\n    </tr>\n    <tr>\n      <th>3436</th>\n      <td>B06XCD4PDF</td>\n      <td>Tablet Stand Adjustable, Lamicall Tablet Stand...</td>\n      <td>4.8</td>\n      <td>32510</td>\n    </tr>\n    <tr>\n      <th>...</th>\n      <td>...</td>\n      <td>...</td>\n      <td>...</td>\n      <td>...</td>\n    </tr>\n    <tr>\n      <th>4652</th>\n      <td>B07YZ5QD99</td>\n      <td>UL Listed 180W 150W AC Charger Fit for Asus RO...</td>\n      <td>1.0</td>\n      <td>1</td>\n    </tr>\n    <tr>\n      <th>1426</th>\n      <td>B07S85WT5V</td>\n      <td>Photodon Tab Attachment Privacy Filter for Sam...</td>\n      <td>1.0</td>\n      <td>1</td>\n    </tr>\n    <tr>\n      <th>2434</th>\n      <td>B07S97TRVM</td>\n      <td>Gordon Sinclair Black Cell Phone Holder Comput...</td>\n      <td>1.0</td>\n      <td>1</td>\n    </tr>\n    <tr>\n      <th>667</th>\n      <td>B08QD3FB85</td>\n      <td>KVM Switch Dual Monitor, 4K@60Hz (YUV 4:4:4), ...</td>\n      <td>1.0</td>\n      <td>1</td>\n    </tr>\n    <tr>\n      <th>3225</th>\n      <td>B08H1ZJLLF</td>\n      <td>C&amp;Z Wooden Computer Laptop Monitor Stand Riser...</td>\n      <td>1.0</td>\n      <td>1</td>\n    </tr>\n  </tbody>\n</table>\n<p>5607 rows × 4 columns</p>\n</div>"
     },
     "metadata": {},
     "execution_count": 358
    }
   ],
   "source": [
    "best_1 = best_1.sort_values(['review_count','rating'], ascending= False)\n",
    "best_1"
   ]
  },
  {
   "cell_type": "code",
   "execution_count": null,
   "metadata": {},
   "outputs": [],
   "source": []
  },
  {
   "cell_type": "code",
   "execution_count": 359,
   "metadata": {},
   "outputs": [
    {
     "output_type": "execute_result",
     "data": {
      "text/plain": [
       "'Sceptre IPS 24-Inch Business Computer Monitor 1080p 75Hz with HDMI VGA Build-in Speakers, E248W-FPT, Machine Black'"
      ]
     },
     "metadata": {},
     "execution_count": 359
    }
   ],
   "source": [
    "new_f3['title'].iloc[0]"
   ]
  },
  {
   "cell_type": "code",
   "execution_count": 360,
   "metadata": {},
   "outputs": [],
   "source": [
    "df1 = pd.read_json(r'C:\\Users\\anupd\\OneDrive\\Desktop\\Amazon_scraping1\\monitor\\product_monitor.json')"
   ]
  },
  {
   "cell_type": "code",
   "execution_count": 361,
   "metadata": {},
   "outputs": [
    {
     "output_type": "execute_result",
     "data": {
      "text/plain": [
       "                                                   name  \\\n",
       "0     Sceptre IPS 24-Inch Business Computer Monitor ...   \n",
       "1     Sceptre 20\" 1600x900 75Hz Ultra Thin LED Monit...   \n",
       "2     Sceptre Curved 27\" 75Hz LED Monitor HDMI VGA B...   \n",
       "3     Sceptre IPS 24-Inch Business Computer Monitor ...   \n",
       "4     BenQ 24 Inch IPS Monitor | 1080P | Proprietary...   \n",
       "...                                                 ...   \n",
       "6967  (5 Pack) 90 Degree Angled 2 Prong to L-Shaped ...   \n",
       "6968  HP Elite 8200 Ultra Slim Desktop PC - Intel Co...   \n",
       "6969  DTECH 15ft DB9 Serial Cable COM Port Male to M...   \n",
       "6970  YES2B 10.1 Inch Laptop Privacy Screen Filter f...   \n",
       "6971  ConnectSense Router Rebooter, Monitors Your In...   \n",
       "\n",
       "                                        product_summary  \\\n",
       "0     [{'info': 'Standing screen display size', 'val...   \n",
       "1     [{'info': 'Standing screen display size', 'val...   \n",
       "2     [{'info': 'Standing screen display size', 'val...   \n",
       "3     [{'info': 'Standing screen display size', 'val...   \n",
       "4     [{'info': 'Standing screen display size', 'val...   \n",
       "...                                                 ...   \n",
       "6967                                               None   \n",
       "6968  [{'info': 'Graphics Coprocessor', 'value': 'In...   \n",
       "6969                                               None   \n",
       "6970                                               None   \n",
       "6971                                               None   \n",
       "\n",
       "                                   product_tech_details  \\\n",
       "0     [{'info': 'Brand', 'value': 'Sceptre'}, {'info...   \n",
       "1     [{'info': 'Brand', 'value': 'Sceptre'}, {'info...   \n",
       "2     [{'info': 'Brand', 'value': 'Sceptre'}, {'info...   \n",
       "3     [{'info': 'Brand', 'value': 'Sceptre'}, {'info...   \n",
       "4     [{'info': 'Brand', 'value': 'BenQ'}, {'info': ...   \n",
       "...                                                 ...   \n",
       "6967                                               None   \n",
       "6968  [{'info': 'Brand', 'value': 'HP'}, {'info': 'I...   \n",
       "6969                                               None   \n",
       "6970                                               None   \n",
       "6971                                               None   \n",
       "\n",
       "                                      product_addl_info               seller  \\\n",
       "0     [{'info': 'Customer Reviews', 'value': '/*\n",
       "* F...                 None   \n",
       "1     [{'info': 'Customer Reviews', 'value': '/*\n",
       "* F...                 None   \n",
       "2     [{'info': 'Customer Reviews', 'value': '/*\n",
       "* F...                 None   \n",
       "3     [{'info': 'Customer Reviews', 'value': '/*\n",
       "* F...                 None   \n",
       "4     [{'info': 'Customer Reviews', 'value': '/*\n",
       "* F...                 None   \n",
       "...                                                 ...                  ...   \n",
       "6967  [{'info': 'Package Dimensions', 'value': '9.8 ...         Brenda Deals   \n",
       "6968  [{'info': 'ASIN', 'value': 'B0754MN7D3'}, {'in...  Quality Recertified   \n",
       "6969  [{'info': 'Package Dimensions', 'value': '8.98...        DTECH Co.,Ltd   \n",
       "6970  [{'info': 'Product Dimensions', 'value': '5.12...                YES2B   \n",
       "6971  [{'info': 'Package Dimensions', 'value': '6.61...     Grid Connect Inc   \n",
       "\n",
       "                                            seller_link  \\\n",
       "0                                                  None   \n",
       "1                                                  None   \n",
       "2                                                  None   \n",
       "3                                                  None   \n",
       "4                                                  None   \n",
       "...                                                 ...   \n",
       "6967  https://www.amazon.com/gp/help/seller/at-a-gla...   \n",
       "6968  https://www.amazon.com/gp/help/seller/at-a-gla...   \n",
       "6969  https://www.amazon.com/gp/help/seller/at-a-gla...   \n",
       "6970  https://www.amazon.com/gp/help/seller/at-a-gla...   \n",
       "6971  https://www.amazon.com/gp/help/seller/at-a-gla...   \n",
       "\n",
       "                                            freq_bought  \\\n",
       "0                                                  None   \n",
       "1                                                  None   \n",
       "2                                                  None   \n",
       "3                                                  None   \n",
       "4                                                  None   \n",
       "...                                                 ...   \n",
       "6967                                               None   \n",
       "6968  DisplayPort to HDMI, Benfei Gold-Plated DP Dis...   \n",
       "6969  DTECH 15 ft Straight Through Serial DB9 Cable ...   \n",
       "6970                                               None   \n",
       "6971                                               None   \n",
       "\n",
       "                                       freq_bought_link  \\\n",
       "0                                                  None   \n",
       "1                                                  None   \n",
       "2                                                  None   \n",
       "3                                                  None   \n",
       "4                                                  None   \n",
       "...                                                 ...   \n",
       "6967                                               None   \n",
       "6968  https://www.amazon.com/DisplayPort-Adapter-Con...   \n",
       "6969  https://www.amazon.com/DTECH-Straight-Through-...   \n",
       "6970                                               None   \n",
       "6971                                               None   \n",
       "\n",
       "                                    link_to_all_reviews  \n",
       "0     /Sceptre-Business-Computer-Speakers-E248W-FPT/...  \n",
       "1     /Sceptre-E205W-16003R-Frameless-Speakers-Metal...  \n",
       "2     /Sceptre-Monitor-Speakers-Edge-Less-C275W-1920...  \n",
       "3     /Sceptre-Business-Computer-Speakers-E248W-FPT/...  \n",
       "4     /BenQ-proprietary-borderless-Brightness-GW2480...  \n",
       "...                                                 ...  \n",
       "6967                                               None  \n",
       "6968  /HP-Elite-8200-Ultra-Desktop/product-reviews/B...  \n",
       "6969  /DTECH-RS232-Serial-Straight-Through/product-r...  \n",
       "6970  /YES2B-Laptop-Privacy-Screen-Filter/product-re...  \n",
       "6971  /ConnectSense-Automatically-Connection-Schedul...  \n",
       "\n",
       "[6972 rows x 9 columns]"
      ],
      "text/html": "<div>\n<style scoped>\n    .dataframe tbody tr th:only-of-type {\n        vertical-align: middle;\n    }\n\n    .dataframe tbody tr th {\n        vertical-align: top;\n    }\n\n    .dataframe thead th {\n        text-align: right;\n    }\n</style>\n<table border=\"1\" class=\"dataframe\">\n  <thead>\n    <tr style=\"text-align: right;\">\n      <th></th>\n      <th>name</th>\n      <th>product_summary</th>\n      <th>product_tech_details</th>\n      <th>product_addl_info</th>\n      <th>seller</th>\n      <th>seller_link</th>\n      <th>freq_bought</th>\n      <th>freq_bought_link</th>\n      <th>link_to_all_reviews</th>\n    </tr>\n  </thead>\n  <tbody>\n    <tr>\n      <th>0</th>\n      <td>Sceptre IPS 24-Inch Business Computer Monitor ...</td>\n      <td>[{'info': 'Standing screen display size', 'val...</td>\n      <td>[{'info': 'Brand', 'value': 'Sceptre'}, {'info...</td>\n      <td>[{'info': 'Customer Reviews', 'value': '/*\n* F...</td>\n      <td>None</td>\n      <td>None</td>\n      <td>None</td>\n      <td>None</td>\n      <td>/Sceptre-Business-Computer-Speakers-E248W-FPT/...</td>\n    </tr>\n    <tr>\n      <th>1</th>\n      <td>Sceptre 20\" 1600x900 75Hz Ultra Thin LED Monit...</td>\n      <td>[{'info': 'Standing screen display size', 'val...</td>\n      <td>[{'info': 'Brand', 'value': 'Sceptre'}, {'info...</td>\n      <td>[{'info': 'Customer Reviews', 'value': '/*\n* F...</td>\n      <td>None</td>\n      <td>None</td>\n      <td>None</td>\n      <td>None</td>\n      <td>/Sceptre-E205W-16003R-Frameless-Speakers-Metal...</td>\n    </tr>\n    <tr>\n      <th>2</th>\n      <td>Sceptre Curved 27\" 75Hz LED Monitor HDMI VGA B...</td>\n      <td>[{'info': 'Standing screen display size', 'val...</td>\n      <td>[{'info': 'Brand', 'value': 'Sceptre'}, {'info...</td>\n      <td>[{'info': 'Customer Reviews', 'value': '/*\n* F...</td>\n      <td>None</td>\n      <td>None</td>\n      <td>None</td>\n      <td>None</td>\n      <td>/Sceptre-Monitor-Speakers-Edge-Less-C275W-1920...</td>\n    </tr>\n    <tr>\n      <th>3</th>\n      <td>Sceptre IPS 24-Inch Business Computer Monitor ...</td>\n      <td>[{'info': 'Standing screen display size', 'val...</td>\n      <td>[{'info': 'Brand', 'value': 'Sceptre'}, {'info...</td>\n      <td>[{'info': 'Customer Reviews', 'value': '/*\n* F...</td>\n      <td>None</td>\n      <td>None</td>\n      <td>None</td>\n      <td>None</td>\n      <td>/Sceptre-Business-Computer-Speakers-E248W-FPT/...</td>\n    </tr>\n    <tr>\n      <th>4</th>\n      <td>BenQ 24 Inch IPS Monitor | 1080P | Proprietary...</td>\n      <td>[{'info': 'Standing screen display size', 'val...</td>\n      <td>[{'info': 'Brand', 'value': 'BenQ'}, {'info': ...</td>\n      <td>[{'info': 'Customer Reviews', 'value': '/*\n* F...</td>\n      <td>None</td>\n      <td>None</td>\n      <td>None</td>\n      <td>None</td>\n      <td>/BenQ-proprietary-borderless-Brightness-GW2480...</td>\n    </tr>\n    <tr>\n      <th>...</th>\n      <td>...</td>\n      <td>...</td>\n      <td>...</td>\n      <td>...</td>\n      <td>...</td>\n      <td>...</td>\n      <td>...</td>\n      <td>...</td>\n      <td>...</td>\n    </tr>\n    <tr>\n      <th>6967</th>\n      <td>(5 Pack) 90 Degree Angled 2 Prong to L-Shaped ...</td>\n      <td>None</td>\n      <td>None</td>\n      <td>[{'info': 'Package Dimensions', 'value': '9.8 ...</td>\n      <td>Brenda Deals</td>\n      <td>https://www.amazon.com/gp/help/seller/at-a-gla...</td>\n      <td>None</td>\n      <td>None</td>\n      <td>None</td>\n    </tr>\n    <tr>\n      <th>6968</th>\n      <td>HP Elite 8200 Ultra Slim Desktop PC - Intel Co...</td>\n      <td>[{'info': 'Graphics Coprocessor', 'value': 'In...</td>\n      <td>[{'info': 'Brand', 'value': 'HP'}, {'info': 'I...</td>\n      <td>[{'info': 'ASIN', 'value': 'B0754MN7D3'}, {'in...</td>\n      <td>Quality Recertified</td>\n      <td>https://www.amazon.com/gp/help/seller/at-a-gla...</td>\n      <td>DisplayPort to HDMI, Benfei Gold-Plated DP Dis...</td>\n      <td>https://www.amazon.com/DisplayPort-Adapter-Con...</td>\n      <td>/HP-Elite-8200-Ultra-Desktop/product-reviews/B...</td>\n    </tr>\n    <tr>\n      <th>6969</th>\n      <td>DTECH 15ft DB9 Serial Cable COM Port Male to M...</td>\n      <td>None</td>\n      <td>None</td>\n      <td>[{'info': 'Package Dimensions', 'value': '8.98...</td>\n      <td>DTECH Co.,Ltd</td>\n      <td>https://www.amazon.com/gp/help/seller/at-a-gla...</td>\n      <td>DTECH 15 ft Straight Through Serial DB9 Cable ...</td>\n      <td>https://www.amazon.com/DTECH-Straight-Through-...</td>\n      <td>/DTECH-RS232-Serial-Straight-Through/product-r...</td>\n    </tr>\n    <tr>\n      <th>6970</th>\n      <td>YES2B 10.1 Inch Laptop Privacy Screen Filter f...</td>\n      <td>None</td>\n      <td>None</td>\n      <td>[{'info': 'Product Dimensions', 'value': '5.12...</td>\n      <td>YES2B</td>\n      <td>https://www.amazon.com/gp/help/seller/at-a-gla...</td>\n      <td>None</td>\n      <td>None</td>\n      <td>/YES2B-Laptop-Privacy-Screen-Filter/product-re...</td>\n    </tr>\n    <tr>\n      <th>6971</th>\n      <td>ConnectSense Router Rebooter, Monitors Your In...</td>\n      <td>None</td>\n      <td>None</td>\n      <td>[{'info': 'Package Dimensions', 'value': '6.61...</td>\n      <td>Grid Connect Inc</td>\n      <td>https://www.amazon.com/gp/help/seller/at-a-gla...</td>\n      <td>None</td>\n      <td>None</td>\n      <td>/ConnectSense-Automatically-Connection-Schedul...</td>\n    </tr>\n  </tbody>\n</table>\n<p>6972 rows × 9 columns</p>\n</div>"
     },
     "metadata": {},
     "execution_count": 361
    }
   ],
   "source": [
    "df1"
   ]
  },
  {
   "cell_type": "code",
   "execution_count": 362,
   "metadata": {},
   "outputs": [
    {
     "output_type": "execute_result",
     "data": {
      "text/plain": [
       "name                      12\n",
       "product_summary         4456\n",
       "product_tech_details    5810\n",
       "product_addl_info        568\n",
       "seller                  1492\n",
       "seller_link             1492\n",
       "freq_bought             5035\n",
       "freq_bought_link        5035\n",
       "link_to_all_reviews     1609\n",
       "dtype: int64"
      ]
     },
     "metadata": {},
     "execution_count": 362
    }
   ],
   "source": [
    "df1.isnull().sum()"
   ]
  },
  {
   "cell_type": "code",
   "execution_count": 363,
   "metadata": {},
   "outputs": [
    {
     "output_type": "execute_result",
     "data": {
      "text/plain": [
       "                                                   name  \\\n",
       "0     Sceptre IPS 24-Inch Business Computer Monitor ...   \n",
       "1     Sceptre 20\" 1600x900 75Hz Ultra Thin LED Monit...   \n",
       "2     Sceptre Curved 27\" 75Hz LED Monitor HDMI VGA B...   \n",
       "3     Sceptre IPS 24-Inch Business Computer Monitor ...   \n",
       "4     BenQ 24 Inch IPS Monitor | 1080P | Proprietary...   \n",
       "...                                                 ...   \n",
       "6967  (5 Pack) 90 Degree Angled 2 Prong to L-Shaped ...   \n",
       "6968  HP Elite 8200 Ultra Slim Desktop PC - Intel Co...   \n",
       "6969  DTECH 15ft DB9 Serial Cable COM Port Male to M...   \n",
       "6970  YES2B 10.1 Inch Laptop Privacy Screen Filter f...   \n",
       "6971  ConnectSense Router Rebooter, Monitors Your In...   \n",
       "\n",
       "                                        product_summary  \\\n",
       "0     [{'info': 'Standing screen display size', 'val...   \n",
       "1     [{'info': 'Standing screen display size', 'val...   \n",
       "2     [{'info': 'Standing screen display size', 'val...   \n",
       "3     [{'info': 'Standing screen display size', 'val...   \n",
       "4     [{'info': 'Standing screen display size', 'val...   \n",
       "...                                                 ...   \n",
       "6967                                               None   \n",
       "6968  [{'info': 'Graphics Coprocessor', 'value': 'In...   \n",
       "6969                                               None   \n",
       "6970                                               None   \n",
       "6971                                               None   \n",
       "\n",
       "                                   product_tech_details  \\\n",
       "0     [{'info': 'Brand', 'value': 'Sceptre'}, {'info...   \n",
       "1     [{'info': 'Brand', 'value': 'Sceptre'}, {'info...   \n",
       "2     [{'info': 'Brand', 'value': 'Sceptre'}, {'info...   \n",
       "3     [{'info': 'Brand', 'value': 'Sceptre'}, {'info...   \n",
       "4     [{'info': 'Brand', 'value': 'BenQ'}, {'info': ...   \n",
       "...                                                 ...   \n",
       "6967                                               None   \n",
       "6968  [{'info': 'Brand', 'value': 'HP'}, {'info': 'I...   \n",
       "6969                                               None   \n",
       "6970                                               None   \n",
       "6971                                               None   \n",
       "\n",
       "                                      product_addl_info  \n",
       "0     [{'info': 'Customer Reviews', 'value': '/*\n",
       "* F...  \n",
       "1     [{'info': 'Customer Reviews', 'value': '/*\n",
       "* F...  \n",
       "2     [{'info': 'Customer Reviews', 'value': '/*\n",
       "* F...  \n",
       "3     [{'info': 'Customer Reviews', 'value': '/*\n",
       "* F...  \n",
       "4     [{'info': 'Customer Reviews', 'value': '/*\n",
       "* F...  \n",
       "...                                                 ...  \n",
       "6967  [{'info': 'Package Dimensions', 'value': '9.8 ...  \n",
       "6968  [{'info': 'ASIN', 'value': 'B0754MN7D3'}, {'in...  \n",
       "6969  [{'info': 'Package Dimensions', 'value': '8.98...  \n",
       "6970  [{'info': 'Product Dimensions', 'value': '5.12...  \n",
       "6971  [{'info': 'Package Dimensions', 'value': '6.61...  \n",
       "\n",
       "[6972 rows x 4 columns]"
      ],
      "text/html": "<div>\n<style scoped>\n    .dataframe tbody tr th:only-of-type {\n        vertical-align: middle;\n    }\n\n    .dataframe tbody tr th {\n        vertical-align: top;\n    }\n\n    .dataframe thead th {\n        text-align: right;\n    }\n</style>\n<table border=\"1\" class=\"dataframe\">\n  <thead>\n    <tr style=\"text-align: right;\">\n      <th></th>\n      <th>name</th>\n      <th>product_summary</th>\n      <th>product_tech_details</th>\n      <th>product_addl_info</th>\n    </tr>\n  </thead>\n  <tbody>\n    <tr>\n      <th>0</th>\n      <td>Sceptre IPS 24-Inch Business Computer Monitor ...</td>\n      <td>[{'info': 'Standing screen display size', 'val...</td>\n      <td>[{'info': 'Brand', 'value': 'Sceptre'}, {'info...</td>\n      <td>[{'info': 'Customer Reviews', 'value': '/*\n* F...</td>\n    </tr>\n    <tr>\n      <th>1</th>\n      <td>Sceptre 20\" 1600x900 75Hz Ultra Thin LED Monit...</td>\n      <td>[{'info': 'Standing screen display size', 'val...</td>\n      <td>[{'info': 'Brand', 'value': 'Sceptre'}, {'info...</td>\n      <td>[{'info': 'Customer Reviews', 'value': '/*\n* F...</td>\n    </tr>\n    <tr>\n      <th>2</th>\n      <td>Sceptre Curved 27\" 75Hz LED Monitor HDMI VGA B...</td>\n      <td>[{'info': 'Standing screen display size', 'val...</td>\n      <td>[{'info': 'Brand', 'value': 'Sceptre'}, {'info...</td>\n      <td>[{'info': 'Customer Reviews', 'value': '/*\n* F...</td>\n    </tr>\n    <tr>\n      <th>3</th>\n      <td>Sceptre IPS 24-Inch Business Computer Monitor ...</td>\n      <td>[{'info': 'Standing screen display size', 'val...</td>\n      <td>[{'info': 'Brand', 'value': 'Sceptre'}, {'info...</td>\n      <td>[{'info': 'Customer Reviews', 'value': '/*\n* F...</td>\n    </tr>\n    <tr>\n      <th>4</th>\n      <td>BenQ 24 Inch IPS Monitor | 1080P | Proprietary...</td>\n      <td>[{'info': 'Standing screen display size', 'val...</td>\n      <td>[{'info': 'Brand', 'value': 'BenQ'}, {'info': ...</td>\n      <td>[{'info': 'Customer Reviews', 'value': '/*\n* F...</td>\n    </tr>\n    <tr>\n      <th>...</th>\n      <td>...</td>\n      <td>...</td>\n      <td>...</td>\n      <td>...</td>\n    </tr>\n    <tr>\n      <th>6967</th>\n      <td>(5 Pack) 90 Degree Angled 2 Prong to L-Shaped ...</td>\n      <td>None</td>\n      <td>None</td>\n      <td>[{'info': 'Package Dimensions', 'value': '9.8 ...</td>\n    </tr>\n    <tr>\n      <th>6968</th>\n      <td>HP Elite 8200 Ultra Slim Desktop PC - Intel Co...</td>\n      <td>[{'info': 'Graphics Coprocessor', 'value': 'In...</td>\n      <td>[{'info': 'Brand', 'value': 'HP'}, {'info': 'I...</td>\n      <td>[{'info': 'ASIN', 'value': 'B0754MN7D3'}, {'in...</td>\n    </tr>\n    <tr>\n      <th>6969</th>\n      <td>DTECH 15ft DB9 Serial Cable COM Port Male to M...</td>\n      <td>None</td>\n      <td>None</td>\n      <td>[{'info': 'Package Dimensions', 'value': '8.98...</td>\n    </tr>\n    <tr>\n      <th>6970</th>\n      <td>YES2B 10.1 Inch Laptop Privacy Screen Filter f...</td>\n      <td>None</td>\n      <td>None</td>\n      <td>[{'info': 'Product Dimensions', 'value': '5.12...</td>\n    </tr>\n    <tr>\n      <th>6971</th>\n      <td>ConnectSense Router Rebooter, Monitors Your In...</td>\n      <td>None</td>\n      <td>None</td>\n      <td>[{'info': 'Package Dimensions', 'value': '6.61...</td>\n    </tr>\n  </tbody>\n</table>\n<p>6972 rows × 4 columns</p>\n</div>"
     },
     "metadata": {},
     "execution_count": 363
    }
   ],
   "source": [
    "p1 = df1[['name', 'product_summary','product_tech_details', 'product_addl_info']]\n",
    "p1"
   ]
  },
  {
   "cell_type": "code",
   "execution_count": 364,
   "metadata": {},
   "outputs": [
    {
     "output_type": "execute_result",
     "data": {
      "text/plain": [
       "2"
      ]
     },
     "metadata": {},
     "execution_count": 364
    }
   ],
   "source": [
    "len(p1.product_addl_info[0])"
   ]
  },
  {
   "cell_type": "code",
   "execution_count": 365,
   "metadata": {},
   "outputs": [
    {
     "output_type": "execute_result",
     "data": {
      "text/plain": [
       "[{'info': 'Customer Reviews',\n",
       "  'value': '/*\\n* Fix for UDP-1061. Average customer reviews has a small extra line on hover\\n* https://omni-grok.amazon.com/xref/src/appgroup/websiteTemplates/retail/SoftlinesDetailPageAssets/udp-intl-lock/src/legacy.css?indexName=WebsiteTemplates#40\\n*/\\n.noUnderline a:hover {\\ntext-decoration: none;\\n} 4.6 out of 5 stars 1,134 ratings P.when(\\'A\\', \\'ready\\').execute(function(A) {\\nA.declarative(\\'acrLink-click-metrics\\', \\'click\\', { \"allowLinkDefault\" : true }, function(event){\\nif(window.ue) {\\nue.count(\"acrLinkClickCount\", (ue.count(\"acrLinkClickCount\") || 0) + 1);\\n}\\n});\\n}); P.when(\\'A\\', \\'cf\\').execute(function(A) {\\nA.declarative(\\'acrStarsLink-click-metrics\\', \\'click\\', { \"allowLinkDefault\" : true },  function(event){\\nif(window.ue) {\\nue.count(\"acrStarsLinkWithPopoverClickCount\", (ue.count(\"acrStarsLinkWithPopoverClickCount\") || 0) + 1);\\n}\\n});\\n}); 4.6 out of 5 stars'},\n",
       " {'info': 'Best Sellers Rank',\n",
       "  'value': '#765 in Electronics ( See Top 100 in Electronics ) #34 in Computer Monitors'}]"
      ]
     },
     "metadata": {},
     "execution_count": 365
    }
   ],
   "source": [
    "p1.product_addl_info[0]"
   ]
  },
  {
   "cell_type": "code",
   "execution_count": 366,
   "metadata": {},
   "outputs": [],
   "source": [
    "add_col =  []\n",
    "for i in range(p1.shape[0]):\n",
    "    try:\n",
    "        for j in range(len(p1.product_tech_details[i])):\n",
    "            col = p1.product_tech_details[i][j]['info']\n",
    "            if col not in add_col:\n",
    "                add_col.append(col)\n",
    "    except:\n",
    "        continue"
   ]
  },
  {
   "cell_type": "code",
   "execution_count": 367,
   "metadata": {},
   "outputs": [
    {
     "output_type": "execute_result",
     "data": {
      "text/plain": [
       "['Brand',\n",
       " 'Series',\n",
       " 'Item model number',\n",
       " 'Item Weight',\n",
       " 'Product Dimensions',\n",
       " 'Item Dimensions  LxWxH',\n",
       " 'Color',\n",
       " 'Voltage',\n",
       " 'Manufacturer',\n",
       " 'ASIN',\n",
       " 'Date First Available',\n",
       " 'Is Discontinued By Manufacturer',\n",
       " 'Power Source',\n",
       " 'Processor Count',\n",
       " 'Batteries',\n",
       " 'Operating System',\n",
       " 'Computer Memory Type',\n",
       " 'Processor Brand',\n",
       " 'Department',\n",
       " 'Language:',\n",
       " 'National Stock Number',\n",
       " 'Package Dimensions',\n",
       " 'Hardware Platform',\n",
       " 'Flash Memory Size',\n",
       " 'Hard Drive Interface',\n",
       " 'Rear Webcam Resolution',\n",
       " 'Hard Drive Rotational Speed',\n",
       " 'Optical Drive Type']"
      ]
     },
     "metadata": {},
     "execution_count": 367
    }
   ],
   "source": [
    "add_col"
   ]
  },
  {
   "cell_type": "code",
   "execution_count": 368,
   "metadata": {},
   "outputs": [
    {
     "output_type": "execute_result",
     "data": {
      "text/plain": [
       "Empty DataFrame\n",
       "Columns: [name, Brand, Series, Item model number, Item Weight, Product Dimensions, Item Dimensions  LxWxH, Color, Voltage, Manufacturer, ASIN, Date First Available, Is Discontinued By Manufacturer, Power Source, Processor Count, Batteries, Operating System, Computer Memory Type, Processor Brand, Department, Language:, National Stock Number, Package Dimensions, Hardware Platform, Flash Memory Size, Hard Drive Interface, Rear Webcam Resolution, Hard Drive Rotational Speed, Optical Drive Type]\n",
       "Index: []\n",
       "\n",
       "[0 rows x 29 columns]"
      ],
      "text/html": "<div>\n<style scoped>\n    .dataframe tbody tr th:only-of-type {\n        vertical-align: middle;\n    }\n\n    .dataframe tbody tr th {\n        vertical-align: top;\n    }\n\n    .dataframe thead th {\n        text-align: right;\n    }\n</style>\n<table border=\"1\" class=\"dataframe\">\n  <thead>\n    <tr style=\"text-align: right;\">\n      <th></th>\n      <th>name</th>\n      <th>Brand</th>\n      <th>Series</th>\n      <th>Item model number</th>\n      <th>Item Weight</th>\n      <th>Product Dimensions</th>\n      <th>Item Dimensions  LxWxH</th>\n      <th>Color</th>\n      <th>Voltage</th>\n      <th>Manufacturer</th>\n      <th>...</th>\n      <th>Department</th>\n      <th>Language:</th>\n      <th>National Stock Number</th>\n      <th>Package Dimensions</th>\n      <th>Hardware Platform</th>\n      <th>Flash Memory Size</th>\n      <th>Hard Drive Interface</th>\n      <th>Rear Webcam Resolution</th>\n      <th>Hard Drive Rotational Speed</th>\n      <th>Optical Drive Type</th>\n    </tr>\n  </thead>\n  <tbody>\n  </tbody>\n</table>\n<p>0 rows × 29 columns</p>\n</div>"
     },
     "metadata": {},
     "execution_count": 368
    }
   ],
   "source": [
    "m_1 = pd.DataFrame(columns=['name'] + add_col)\n",
    "m_1"
   ]
  },
  {
   "cell_type": "code",
   "execution_count": 369,
   "metadata": {},
   "outputs": [],
   "source": [
    "for i in range(p1.shape[0]):\n",
    "    try:\n",
    "        for j in range(len(p1.product_tech_details[i])):\n",
    "            col = p1.product_tech_details[i][j]['info']\n",
    "            val = p1.product_tech_details[i][j]['value']\n",
    "\n",
    "            m_1.loc[i,col] = val\n",
    "            \n",
    "    except:\n",
    "        m_1.loc[i,col] = ''\n",
    "        continue"
   ]
  },
  {
   "cell_type": "code",
   "execution_count": 370,
   "metadata": {},
   "outputs": [
    {
     "output_type": "execute_result",
     "data": {
      "text/plain": [
       "                                                   name    Brand     Series  \\\n",
       "0     Sceptre IPS 24-Inch Business Computer Monitor ...  Sceptre  E248W-FPT   \n",
       "1     Sceptre 20\" 1600x900 75Hz Ultra Thin LED Monit...  Sceptre        NaN   \n",
       "2     Sceptre Curved 27\" 75Hz LED Monitor HDMI VGA B...  Sceptre        NaN   \n",
       "3     Sceptre IPS 24-Inch Business Computer Monitor ...  Sceptre  E248W-FPT   \n",
       "4     BenQ 24 Inch IPS Monitor | 1080P | Proprietary...     BenQ     GW2480   \n",
       "...                                                 ...      ...        ...   \n",
       "6967  (5 Pack) 90 Degree Angled 2 Prong to L-Shaped ...      NaN        NaN   \n",
       "6968  HP Elite 8200 Ultra Slim Desktop PC - Intel Co...       HP        NaN   \n",
       "6969  DTECH 15ft DB9 Serial Cable COM Port Male to M...      NaN        NaN   \n",
       "6970  YES2B 10.1 Inch Laptop Privacy Screen Filter f...      NaN        NaN   \n",
       "6971  ConnectSense Router Rebooter, Monitors Your In...      NaN        NaN   \n",
       "\n",
       "     Item model number  Item Weight           Product Dimensions  \\\n",
       "0            E248W-FPT  6.02 pounds  21.25 x 7.03 x 15.53 inches   \n",
       "1         E205W-16003R  4.43 pounds  18.35 x 7.17 x 13.58 inches   \n",
       "2         C275W-1920RN   8.6 pounds  24.27 x 9.01 x 17.69 inches   \n",
       "3            E248W-FPT  6.02 pounds  21.25 x 7.03 x 15.53 inches   \n",
       "4               GW2480   8.4 pounds   16.54 x 6.9 x 21.26 inches   \n",
       "...                ...          ...                          ...   \n",
       "6967               NaN          NaN                          NaN   \n",
       "6968        Elite 8200   6.8 pounds        10 x 9.9 x 2.6 inches   \n",
       "6969               NaN          NaN                          NaN   \n",
       "6970               NaN          NaN                          NaN   \n",
       "6971               NaN          NaN                          NaN   \n",
       "\n",
       "           Item Dimensions  LxWxH           Color         Voltage  \\\n",
       "0     21.25 x 7.03 x 15.53 inches   Machine Black  120 Volts (AC)   \n",
       "1     18.35 x 7.17 x 13.58 inches  Metallic Black  110 Volts (AC)   \n",
       "2     24.27 x 9.01 x 17.69 inches     Metal Black  120 Volts (AC)   \n",
       "3     21.25 x 7.03 x 15.53 inches   Machine Black  120 Volts (AC)   \n",
       "4      16.54 x 6.9 x 21.26 inches           Black       240 Volts   \n",
       "...                           ...             ...             ...   \n",
       "6967                          NaN             NaN             NaN   \n",
       "6968        10 x 9.9 x 2.6 inches             NaN             NaN   \n",
       "6969                          NaN             NaN             NaN   \n",
       "6970                          NaN             NaN             NaN   \n",
       "6971                          NaN             NaN             NaN   \n",
       "\n",
       "     Manufacturer  ... Department Language: National Stock Number  \\\n",
       "0         Sceptre  ...        NaN       NaN                   NaN   \n",
       "1         Sceptre  ...        NaN       NaN                   NaN   \n",
       "2         Sceptre  ...        NaN       NaN                   NaN   \n",
       "3         Sceptre  ...        NaN       NaN                   NaN   \n",
       "4            BenQ  ...        NaN       NaN                   NaN   \n",
       "...           ...  ...        ...       ...                   ...   \n",
       "6967          NaN  ...        NaN       NaN                   NaN   \n",
       "6968          NaN  ...        NaN       NaN                   NaN   \n",
       "6969          NaN  ...        NaN       NaN                   NaN   \n",
       "6970          NaN  ...        NaN       NaN                   NaN   \n",
       "6971          NaN  ...        NaN       NaN                   NaN   \n",
       "\n",
       "     Package Dimensions Hardware Platform Flash Memory Size  \\\n",
       "0                   NaN               NaN               NaN   \n",
       "1                   NaN               NaN               NaN   \n",
       "2                   NaN               NaN               NaN   \n",
       "3                   NaN               NaN               NaN   \n",
       "4                   NaN               NaN               NaN   \n",
       "...                 ...               ...               ...   \n",
       "6967                NaN               NaN               NaN   \n",
       "6968                NaN           Windows            128 GB   \n",
       "6969                NaN               NaN               NaN   \n",
       "6970                NaN               NaN               NaN   \n",
       "6971                NaN               NaN               NaN   \n",
       "\n",
       "     Hard Drive Interface Rear Webcam Resolution Hard Drive Rotational Speed  \\\n",
       "0                     NaN                    NaN                         NaN   \n",
       "1                     NaN                    NaN                         NaN   \n",
       "2                     NaN                    NaN                         NaN   \n",
       "3                     NaN                    NaN                         NaN   \n",
       "4                     NaN                    NaN                         NaN   \n",
       "...                   ...                    ...                         ...   \n",
       "6967                  NaN                    NaN                         NaN   \n",
       "6968          Solid State                    NaN                         NaN   \n",
       "6969                                         NaN                         NaN   \n",
       "6970                                         NaN                         NaN   \n",
       "6971                                         NaN                         NaN   \n",
       "\n",
       "     Optical Drive Type  \n",
       "0                   NaN  \n",
       "1                   NaN  \n",
       "2                   NaN  \n",
       "3                   NaN  \n",
       "4                   NaN  \n",
       "...                 ...  \n",
       "6967                NaN  \n",
       "6968                NaN  \n",
       "6969                NaN  \n",
       "6970                NaN  \n",
       "6971                NaN  \n",
       "\n",
       "[6972 rows x 29 columns]"
      ],
      "text/html": "<div>\n<style scoped>\n    .dataframe tbody tr th:only-of-type {\n        vertical-align: middle;\n    }\n\n    .dataframe tbody tr th {\n        vertical-align: top;\n    }\n\n    .dataframe thead th {\n        text-align: right;\n    }\n</style>\n<table border=\"1\" class=\"dataframe\">\n  <thead>\n    <tr style=\"text-align: right;\">\n      <th></th>\n      <th>name</th>\n      <th>Brand</th>\n      <th>Series</th>\n      <th>Item model number</th>\n      <th>Item Weight</th>\n      <th>Product Dimensions</th>\n      <th>Item Dimensions  LxWxH</th>\n      <th>Color</th>\n      <th>Voltage</th>\n      <th>Manufacturer</th>\n      <th>...</th>\n      <th>Department</th>\n      <th>Language:</th>\n      <th>National Stock Number</th>\n      <th>Package Dimensions</th>\n      <th>Hardware Platform</th>\n      <th>Flash Memory Size</th>\n      <th>Hard Drive Interface</th>\n      <th>Rear Webcam Resolution</th>\n      <th>Hard Drive Rotational Speed</th>\n      <th>Optical Drive Type</th>\n    </tr>\n  </thead>\n  <tbody>\n    <tr>\n      <th>0</th>\n      <td>Sceptre IPS 24-Inch Business Computer Monitor ...</td>\n      <td>Sceptre</td>\n      <td>E248W-FPT</td>\n      <td>E248W-FPT</td>\n      <td>6.02 pounds</td>\n      <td>21.25 x 7.03 x 15.53 inches</td>\n      <td>21.25 x 7.03 x 15.53 inches</td>\n      <td>Machine Black</td>\n      <td>120 Volts (AC)</td>\n      <td>Sceptre</td>\n      <td>...</td>\n      <td>NaN</td>\n      <td>NaN</td>\n      <td>NaN</td>\n      <td>NaN</td>\n      <td>NaN</td>\n      <td>NaN</td>\n      <td>NaN</td>\n      <td>NaN</td>\n      <td>NaN</td>\n      <td>NaN</td>\n    </tr>\n    <tr>\n      <th>1</th>\n      <td>Sceptre 20\" 1600x900 75Hz Ultra Thin LED Monit...</td>\n      <td>Sceptre</td>\n      <td>NaN</td>\n      <td>E205W-16003R</td>\n      <td>4.43 pounds</td>\n      <td>18.35 x 7.17 x 13.58 inches</td>\n      <td>18.35 x 7.17 x 13.58 inches</td>\n      <td>Metallic Black</td>\n      <td>110 Volts (AC)</td>\n      <td>Sceptre</td>\n      <td>...</td>\n      <td>NaN</td>\n      <td>NaN</td>\n      <td>NaN</td>\n      <td>NaN</td>\n      <td>NaN</td>\n      <td>NaN</td>\n      <td>NaN</td>\n      <td>NaN</td>\n      <td>NaN</td>\n      <td>NaN</td>\n    </tr>\n    <tr>\n      <th>2</th>\n      <td>Sceptre Curved 27\" 75Hz LED Monitor HDMI VGA B...</td>\n      <td>Sceptre</td>\n      <td>NaN</td>\n      <td>C275W-1920RN</td>\n      <td>8.6 pounds</td>\n      <td>24.27 x 9.01 x 17.69 inches</td>\n      <td>24.27 x 9.01 x 17.69 inches</td>\n      <td>Metal Black</td>\n      <td>120 Volts (AC)</td>\n      <td>Sceptre</td>\n      <td>...</td>\n      <td>NaN</td>\n      <td>NaN</td>\n      <td>NaN</td>\n      <td>NaN</td>\n      <td>NaN</td>\n      <td>NaN</td>\n      <td>NaN</td>\n      <td>NaN</td>\n      <td>NaN</td>\n      <td>NaN</td>\n    </tr>\n    <tr>\n      <th>3</th>\n      <td>Sceptre IPS 24-Inch Business Computer Monitor ...</td>\n      <td>Sceptre</td>\n      <td>E248W-FPT</td>\n      <td>E248W-FPT</td>\n      <td>6.02 pounds</td>\n      <td>21.25 x 7.03 x 15.53 inches</td>\n      <td>21.25 x 7.03 x 15.53 inches</td>\n      <td>Machine Black</td>\n      <td>120 Volts (AC)</td>\n      <td>Sceptre</td>\n      <td>...</td>\n      <td>NaN</td>\n      <td>NaN</td>\n      <td>NaN</td>\n      <td>NaN</td>\n      <td>NaN</td>\n      <td>NaN</td>\n      <td>NaN</td>\n      <td>NaN</td>\n      <td>NaN</td>\n      <td>NaN</td>\n    </tr>\n    <tr>\n      <th>4</th>\n      <td>BenQ 24 Inch IPS Monitor | 1080P | Proprietary...</td>\n      <td>BenQ</td>\n      <td>GW2480</td>\n      <td>GW2480</td>\n      <td>8.4 pounds</td>\n      <td>16.54 x 6.9 x 21.26 inches</td>\n      <td>16.54 x 6.9 x 21.26 inches</td>\n      <td>Black</td>\n      <td>240 Volts</td>\n      <td>BenQ</td>\n      <td>...</td>\n      <td>NaN</td>\n      <td>NaN</td>\n      <td>NaN</td>\n      <td>NaN</td>\n      <td>NaN</td>\n      <td>NaN</td>\n      <td>NaN</td>\n      <td>NaN</td>\n      <td>NaN</td>\n      <td>NaN</td>\n    </tr>\n    <tr>\n      <th>...</th>\n      <td>...</td>\n      <td>...</td>\n      <td>...</td>\n      <td>...</td>\n      <td>...</td>\n      <td>...</td>\n      <td>...</td>\n      <td>...</td>\n      <td>...</td>\n      <td>...</td>\n      <td>...</td>\n      <td>...</td>\n      <td>...</td>\n      <td>...</td>\n      <td>...</td>\n      <td>...</td>\n      <td>...</td>\n      <td>...</td>\n      <td>...</td>\n      <td>...</td>\n      <td>...</td>\n    </tr>\n    <tr>\n      <th>6967</th>\n      <td>(5 Pack) 90 Degree Angled 2 Prong to L-Shaped ...</td>\n      <td>NaN</td>\n      <td>NaN</td>\n      <td>NaN</td>\n      <td>NaN</td>\n      <td>NaN</td>\n      <td>NaN</td>\n      <td>NaN</td>\n      <td>NaN</td>\n      <td>NaN</td>\n      <td>...</td>\n      <td>NaN</td>\n      <td>NaN</td>\n      <td>NaN</td>\n      <td>NaN</td>\n      <td>NaN</td>\n      <td>NaN</td>\n      <td>NaN</td>\n      <td>NaN</td>\n      <td>NaN</td>\n      <td>NaN</td>\n    </tr>\n    <tr>\n      <th>6968</th>\n      <td>HP Elite 8200 Ultra Slim Desktop PC - Intel Co...</td>\n      <td>HP</td>\n      <td>NaN</td>\n      <td>Elite 8200</td>\n      <td>6.8 pounds</td>\n      <td>10 x 9.9 x 2.6 inches</td>\n      <td>10 x 9.9 x 2.6 inches</td>\n      <td>NaN</td>\n      <td>NaN</td>\n      <td>NaN</td>\n      <td>...</td>\n      <td>NaN</td>\n      <td>NaN</td>\n      <td>NaN</td>\n      <td>NaN</td>\n      <td>Windows</td>\n      <td>128 GB</td>\n      <td>Solid State</td>\n      <td>NaN</td>\n      <td>NaN</td>\n      <td>NaN</td>\n    </tr>\n    <tr>\n      <th>6969</th>\n      <td>DTECH 15ft DB9 Serial Cable COM Port Male to M...</td>\n      <td>NaN</td>\n      <td>NaN</td>\n      <td>NaN</td>\n      <td>NaN</td>\n      <td>NaN</td>\n      <td>NaN</td>\n      <td>NaN</td>\n      <td>NaN</td>\n      <td>NaN</td>\n      <td>...</td>\n      <td>NaN</td>\n      <td>NaN</td>\n      <td>NaN</td>\n      <td>NaN</td>\n      <td>NaN</td>\n      <td>NaN</td>\n      <td></td>\n      <td>NaN</td>\n      <td>NaN</td>\n      <td>NaN</td>\n    </tr>\n    <tr>\n      <th>6970</th>\n      <td>YES2B 10.1 Inch Laptop Privacy Screen Filter f...</td>\n      <td>NaN</td>\n      <td>NaN</td>\n      <td>NaN</td>\n      <td>NaN</td>\n      <td>NaN</td>\n      <td>NaN</td>\n      <td>NaN</td>\n      <td>NaN</td>\n      <td>NaN</td>\n      <td>...</td>\n      <td>NaN</td>\n      <td>NaN</td>\n      <td>NaN</td>\n      <td>NaN</td>\n      <td>NaN</td>\n      <td>NaN</td>\n      <td></td>\n      <td>NaN</td>\n      <td>NaN</td>\n      <td>NaN</td>\n    </tr>\n    <tr>\n      <th>6971</th>\n      <td>ConnectSense Router Rebooter, Monitors Your In...</td>\n      <td>NaN</td>\n      <td>NaN</td>\n      <td>NaN</td>\n      <td>NaN</td>\n      <td>NaN</td>\n      <td>NaN</td>\n      <td>NaN</td>\n      <td>NaN</td>\n      <td>NaN</td>\n      <td>...</td>\n      <td>NaN</td>\n      <td>NaN</td>\n      <td>NaN</td>\n      <td>NaN</td>\n      <td>NaN</td>\n      <td>NaN</td>\n      <td></td>\n      <td>NaN</td>\n      <td>NaN</td>\n      <td>NaN</td>\n    </tr>\n  </tbody>\n</table>\n<p>6972 rows × 29 columns</p>\n</div>"
     },
     "metadata": {},
     "execution_count": 370
    }
   ],
   "source": [
    "m_1.name = p1.name\n",
    "m_1"
   ]
  },
  {
   "cell_type": "code",
   "execution_count": 772,
   "metadata": {},
   "outputs": [
    {
     "output_type": "execute_result",
     "data": {
      "text/plain": [
       "Empty DataFrame\n",
       "Columns: [Brand, Item model number, Item Weight, Product Dimensions, Item Dimensions  LxWxH, Color, Processor Count, Computer Memory Type, Manufacturer, ASIN, Is Discontinued By Manufacturer, Date First Available, Voltage, Series, Power Source, Batteries, Department, Language:, National Stock Number, Package Dimensions, Operating System, Flash Memory Size, Hardware Platform, Processor Brand, Hard Drive Interface, Hard Drive Rotational Speed, Rear Webcam Resolution, Optical Drive Type]\n",
       "Index: []\n",
       "\n",
       "[0 rows x 28 columns]"
      ],
      "text/html": "<div>\n<style scoped>\n    .dataframe tbody tr th:only-of-type {\n        vertical-align: middle;\n    }\n\n    .dataframe tbody tr th {\n        vertical-align: top;\n    }\n\n    .dataframe thead th {\n        text-align: right;\n    }\n</style>\n<table border=\"1\" class=\"dataframe\">\n  <thead>\n    <tr style=\"text-align: right;\">\n      <th></th>\n      <th>Brand</th>\n      <th>Item model number</th>\n      <th>Item Weight</th>\n      <th>Product Dimensions</th>\n      <th>Item Dimensions  LxWxH</th>\n      <th>Color</th>\n      <th>Processor Count</th>\n      <th>Computer Memory Type</th>\n      <th>Manufacturer</th>\n      <th>ASIN</th>\n      <th>...</th>\n      <th>National Stock Number</th>\n      <th>Package Dimensions</th>\n      <th>Operating System</th>\n      <th>Flash Memory Size</th>\n      <th>Hardware Platform</th>\n      <th>Processor Brand</th>\n      <th>Hard Drive Interface</th>\n      <th>Hard Drive Rotational Speed</th>\n      <th>Rear Webcam Resolution</th>\n      <th>Optical Drive Type</th>\n    </tr>\n  </thead>\n  <tbody>\n  </tbody>\n</table>\n<p>0 rows × 28 columns</p>\n</div>"
     },
     "metadata": {},
     "execution_count": 772
    }
   ],
   "source": []
  },
  {
   "cell_type": "code",
   "execution_count": 371,
   "metadata": {},
   "outputs": [
    {
     "output_type": "execute_result",
     "data": {
      "text/plain": [
       "                                                   name    Brand     Series  \\\n",
       "0     Sceptre IPS 24-Inch Business Computer Monitor ...  Sceptre  E248W-FPT   \n",
       "1     Sceptre 20\" 1600x900 75Hz Ultra Thin LED Monit...  Sceptre        NaN   \n",
       "2     Sceptre Curved 27\" 75Hz LED Monitor HDMI VGA B...  Sceptre        NaN   \n",
       "3     Sceptre IPS 24-Inch Business Computer Monitor ...  Sceptre  E248W-FPT   \n",
       "4     BenQ 24 Inch IPS Monitor | 1080P | Proprietary...     BenQ     GW2480   \n",
       "...                                                 ...      ...        ...   \n",
       "6967  (5 Pack) 90 Degree Angled 2 Prong to L-Shaped ...      NaN        NaN   \n",
       "6968  HP Elite 8200 Ultra Slim Desktop PC - Intel Co...       HP        NaN   \n",
       "6969  DTECH 15ft DB9 Serial Cable COM Port Male to M...      NaN        NaN   \n",
       "6970  YES2B 10.1 Inch Laptop Privacy Screen Filter f...      NaN        NaN   \n",
       "6971  ConnectSense Router Rebooter, Monitors Your In...      NaN        NaN   \n",
       "\n",
       "     Item model number  Item Weight           Product Dimensions  \\\n",
       "0            E248W-FPT  6.02 pounds  21.25 x 7.03 x 15.53 inches   \n",
       "1         E205W-16003R  4.43 pounds  18.35 x 7.17 x 13.58 inches   \n",
       "2         C275W-1920RN   8.6 pounds  24.27 x 9.01 x 17.69 inches   \n",
       "3            E248W-FPT  6.02 pounds  21.25 x 7.03 x 15.53 inches   \n",
       "4               GW2480   8.4 pounds   16.54 x 6.9 x 21.26 inches   \n",
       "...                ...          ...                          ...   \n",
       "6967               NaN          NaN                          NaN   \n",
       "6968        Elite 8200   6.8 pounds        10 x 9.9 x 2.6 inches   \n",
       "6969               NaN          NaN                          NaN   \n",
       "6970               NaN          NaN                          NaN   \n",
       "6971               NaN          NaN                          NaN   \n",
       "\n",
       "           Item Dimensions  LxWxH           Color         Voltage  \\\n",
       "0     21.25 x 7.03 x 15.53 inches   Machine Black  120 Volts (AC)   \n",
       "1     18.35 x 7.17 x 13.58 inches  Metallic Black  110 Volts (AC)   \n",
       "2     24.27 x 9.01 x 17.69 inches     Metal Black  120 Volts (AC)   \n",
       "3     21.25 x 7.03 x 15.53 inches   Machine Black  120 Volts (AC)   \n",
       "4      16.54 x 6.9 x 21.26 inches           Black       240 Volts   \n",
       "...                           ...             ...             ...   \n",
       "6967                          NaN             NaN             NaN   \n",
       "6968        10 x 9.9 x 2.6 inches             NaN             NaN   \n",
       "6969                          NaN             NaN             NaN   \n",
       "6970                          NaN             NaN             NaN   \n",
       "6971                          NaN             NaN             NaN   \n",
       "\n",
       "     Manufacturer  ... Department Language: National Stock Number  \\\n",
       "0         Sceptre  ...        NaN       NaN                   NaN   \n",
       "1         Sceptre  ...        NaN       NaN                   NaN   \n",
       "2         Sceptre  ...        NaN       NaN                   NaN   \n",
       "3         Sceptre  ...        NaN       NaN                   NaN   \n",
       "4            BenQ  ...        NaN       NaN                   NaN   \n",
       "...           ...  ...        ...       ...                   ...   \n",
       "6967          NaN  ...        NaN       NaN                   NaN   \n",
       "6968          NaN  ...        NaN       NaN                   NaN   \n",
       "6969          NaN  ...        NaN       NaN                   NaN   \n",
       "6970          NaN  ...        NaN       NaN                   NaN   \n",
       "6971          NaN  ...        NaN       NaN                   NaN   \n",
       "\n",
       "     Package Dimensions Hardware Platform Flash Memory Size  \\\n",
       "0                   NaN               NaN               NaN   \n",
       "1                   NaN               NaN               NaN   \n",
       "2                   NaN               NaN               NaN   \n",
       "3                   NaN               NaN               NaN   \n",
       "4                   NaN               NaN               NaN   \n",
       "...                 ...               ...               ...   \n",
       "6967                NaN               NaN               NaN   \n",
       "6968                NaN           Windows            128 GB   \n",
       "6969                NaN               NaN               NaN   \n",
       "6970                NaN               NaN               NaN   \n",
       "6971                NaN               NaN               NaN   \n",
       "\n",
       "     Hard Drive Interface Rear Webcam Resolution Hard Drive Rotational Speed  \\\n",
       "0                     NaN                    NaN                         NaN   \n",
       "1                     NaN                    NaN                         NaN   \n",
       "2                     NaN                    NaN                         NaN   \n",
       "3                     NaN                    NaN                         NaN   \n",
       "4                     NaN                    NaN                         NaN   \n",
       "...                   ...                    ...                         ...   \n",
       "6967                  NaN                    NaN                         NaN   \n",
       "6968          Solid State                    NaN                         NaN   \n",
       "6969                                         NaN                         NaN   \n",
       "6970                                         NaN                         NaN   \n",
       "6971                                         NaN                         NaN   \n",
       "\n",
       "     Optical Drive Type  \n",
       "0                   NaN  \n",
       "1                   NaN  \n",
       "2                   NaN  \n",
       "3                   NaN  \n",
       "4                   NaN  \n",
       "...                 ...  \n",
       "6967                NaN  \n",
       "6968                NaN  \n",
       "6969                NaN  \n",
       "6970                NaN  \n",
       "6971                NaN  \n",
       "\n",
       "[6972 rows x 29 columns]"
      ],
      "text/html": "<div>\n<style scoped>\n    .dataframe tbody tr th:only-of-type {\n        vertical-align: middle;\n    }\n\n    .dataframe tbody tr th {\n        vertical-align: top;\n    }\n\n    .dataframe thead th {\n        text-align: right;\n    }\n</style>\n<table border=\"1\" class=\"dataframe\">\n  <thead>\n    <tr style=\"text-align: right;\">\n      <th></th>\n      <th>name</th>\n      <th>Brand</th>\n      <th>Series</th>\n      <th>Item model number</th>\n      <th>Item Weight</th>\n      <th>Product Dimensions</th>\n      <th>Item Dimensions  LxWxH</th>\n      <th>Color</th>\n      <th>Voltage</th>\n      <th>Manufacturer</th>\n      <th>...</th>\n      <th>Department</th>\n      <th>Language:</th>\n      <th>National Stock Number</th>\n      <th>Package Dimensions</th>\n      <th>Hardware Platform</th>\n      <th>Flash Memory Size</th>\n      <th>Hard Drive Interface</th>\n      <th>Rear Webcam Resolution</th>\n      <th>Hard Drive Rotational Speed</th>\n      <th>Optical Drive Type</th>\n    </tr>\n  </thead>\n  <tbody>\n    <tr>\n      <th>0</th>\n      <td>Sceptre IPS 24-Inch Business Computer Monitor ...</td>\n      <td>Sceptre</td>\n      <td>E248W-FPT</td>\n      <td>E248W-FPT</td>\n      <td>6.02 pounds</td>\n      <td>21.25 x 7.03 x 15.53 inches</td>\n      <td>21.25 x 7.03 x 15.53 inches</td>\n      <td>Machine Black</td>\n      <td>120 Volts (AC)</td>\n      <td>Sceptre</td>\n      <td>...</td>\n      <td>NaN</td>\n      <td>NaN</td>\n      <td>NaN</td>\n      <td>NaN</td>\n      <td>NaN</td>\n      <td>NaN</td>\n      <td>NaN</td>\n      <td>NaN</td>\n      <td>NaN</td>\n      <td>NaN</td>\n    </tr>\n    <tr>\n      <th>1</th>\n      <td>Sceptre 20\" 1600x900 75Hz Ultra Thin LED Monit...</td>\n      <td>Sceptre</td>\n      <td>NaN</td>\n      <td>E205W-16003R</td>\n      <td>4.43 pounds</td>\n      <td>18.35 x 7.17 x 13.58 inches</td>\n      <td>18.35 x 7.17 x 13.58 inches</td>\n      <td>Metallic Black</td>\n      <td>110 Volts (AC)</td>\n      <td>Sceptre</td>\n      <td>...</td>\n      <td>NaN</td>\n      <td>NaN</td>\n      <td>NaN</td>\n      <td>NaN</td>\n      <td>NaN</td>\n      <td>NaN</td>\n      <td>NaN</td>\n      <td>NaN</td>\n      <td>NaN</td>\n      <td>NaN</td>\n    </tr>\n    <tr>\n      <th>2</th>\n      <td>Sceptre Curved 27\" 75Hz LED Monitor HDMI VGA B...</td>\n      <td>Sceptre</td>\n      <td>NaN</td>\n      <td>C275W-1920RN</td>\n      <td>8.6 pounds</td>\n      <td>24.27 x 9.01 x 17.69 inches</td>\n      <td>24.27 x 9.01 x 17.69 inches</td>\n      <td>Metal Black</td>\n      <td>120 Volts (AC)</td>\n      <td>Sceptre</td>\n      <td>...</td>\n      <td>NaN</td>\n      <td>NaN</td>\n      <td>NaN</td>\n      <td>NaN</td>\n      <td>NaN</td>\n      <td>NaN</td>\n      <td>NaN</td>\n      <td>NaN</td>\n      <td>NaN</td>\n      <td>NaN</td>\n    </tr>\n    <tr>\n      <th>3</th>\n      <td>Sceptre IPS 24-Inch Business Computer Monitor ...</td>\n      <td>Sceptre</td>\n      <td>E248W-FPT</td>\n      <td>E248W-FPT</td>\n      <td>6.02 pounds</td>\n      <td>21.25 x 7.03 x 15.53 inches</td>\n      <td>21.25 x 7.03 x 15.53 inches</td>\n      <td>Machine Black</td>\n      <td>120 Volts (AC)</td>\n      <td>Sceptre</td>\n      <td>...</td>\n      <td>NaN</td>\n      <td>NaN</td>\n      <td>NaN</td>\n      <td>NaN</td>\n      <td>NaN</td>\n      <td>NaN</td>\n      <td>NaN</td>\n      <td>NaN</td>\n      <td>NaN</td>\n      <td>NaN</td>\n    </tr>\n    <tr>\n      <th>4</th>\n      <td>BenQ 24 Inch IPS Monitor | 1080P | Proprietary...</td>\n      <td>BenQ</td>\n      <td>GW2480</td>\n      <td>GW2480</td>\n      <td>8.4 pounds</td>\n      <td>16.54 x 6.9 x 21.26 inches</td>\n      <td>16.54 x 6.9 x 21.26 inches</td>\n      <td>Black</td>\n      <td>240 Volts</td>\n      <td>BenQ</td>\n      <td>...</td>\n      <td>NaN</td>\n      <td>NaN</td>\n      <td>NaN</td>\n      <td>NaN</td>\n      <td>NaN</td>\n      <td>NaN</td>\n      <td>NaN</td>\n      <td>NaN</td>\n      <td>NaN</td>\n      <td>NaN</td>\n    </tr>\n    <tr>\n      <th>...</th>\n      <td>...</td>\n      <td>...</td>\n      <td>...</td>\n      <td>...</td>\n      <td>...</td>\n      <td>...</td>\n      <td>...</td>\n      <td>...</td>\n      <td>...</td>\n      <td>...</td>\n      <td>...</td>\n      <td>...</td>\n      <td>...</td>\n      <td>...</td>\n      <td>...</td>\n      <td>...</td>\n      <td>...</td>\n      <td>...</td>\n      <td>...</td>\n      <td>...</td>\n      <td>...</td>\n    </tr>\n    <tr>\n      <th>6967</th>\n      <td>(5 Pack) 90 Degree Angled 2 Prong to L-Shaped ...</td>\n      <td>NaN</td>\n      <td>NaN</td>\n      <td>NaN</td>\n      <td>NaN</td>\n      <td>NaN</td>\n      <td>NaN</td>\n      <td>NaN</td>\n      <td>NaN</td>\n      <td>NaN</td>\n      <td>...</td>\n      <td>NaN</td>\n      <td>NaN</td>\n      <td>NaN</td>\n      <td>NaN</td>\n      <td>NaN</td>\n      <td>NaN</td>\n      <td>NaN</td>\n      <td>NaN</td>\n      <td>NaN</td>\n      <td>NaN</td>\n    </tr>\n    <tr>\n      <th>6968</th>\n      <td>HP Elite 8200 Ultra Slim Desktop PC - Intel Co...</td>\n      <td>HP</td>\n      <td>NaN</td>\n      <td>Elite 8200</td>\n      <td>6.8 pounds</td>\n      <td>10 x 9.9 x 2.6 inches</td>\n      <td>10 x 9.9 x 2.6 inches</td>\n      <td>NaN</td>\n      <td>NaN</td>\n      <td>NaN</td>\n      <td>...</td>\n      <td>NaN</td>\n      <td>NaN</td>\n      <td>NaN</td>\n      <td>NaN</td>\n      <td>Windows</td>\n      <td>128 GB</td>\n      <td>Solid State</td>\n      <td>NaN</td>\n      <td>NaN</td>\n      <td>NaN</td>\n    </tr>\n    <tr>\n      <th>6969</th>\n      <td>DTECH 15ft DB9 Serial Cable COM Port Male to M...</td>\n      <td>NaN</td>\n      <td>NaN</td>\n      <td>NaN</td>\n      <td>NaN</td>\n      <td>NaN</td>\n      <td>NaN</td>\n      <td>NaN</td>\n      <td>NaN</td>\n      <td>NaN</td>\n      <td>...</td>\n      <td>NaN</td>\n      <td>NaN</td>\n      <td>NaN</td>\n      <td>NaN</td>\n      <td>NaN</td>\n      <td>NaN</td>\n      <td></td>\n      <td>NaN</td>\n      <td>NaN</td>\n      <td>NaN</td>\n    </tr>\n    <tr>\n      <th>6970</th>\n      <td>YES2B 10.1 Inch Laptop Privacy Screen Filter f...</td>\n      <td>NaN</td>\n      <td>NaN</td>\n      <td>NaN</td>\n      <td>NaN</td>\n      <td>NaN</td>\n      <td>NaN</td>\n      <td>NaN</td>\n      <td>NaN</td>\n      <td>NaN</td>\n      <td>...</td>\n      <td>NaN</td>\n      <td>NaN</td>\n      <td>NaN</td>\n      <td>NaN</td>\n      <td>NaN</td>\n      <td>NaN</td>\n      <td></td>\n      <td>NaN</td>\n      <td>NaN</td>\n      <td>NaN</td>\n    </tr>\n    <tr>\n      <th>6971</th>\n      <td>ConnectSense Router Rebooter, Monitors Your In...</td>\n      <td>NaN</td>\n      <td>NaN</td>\n      <td>NaN</td>\n      <td>NaN</td>\n      <td>NaN</td>\n      <td>NaN</td>\n      <td>NaN</td>\n      <td>NaN</td>\n      <td>NaN</td>\n      <td>...</td>\n      <td>NaN</td>\n      <td>NaN</td>\n      <td>NaN</td>\n      <td>NaN</td>\n      <td>NaN</td>\n      <td>NaN</td>\n      <td></td>\n      <td>NaN</td>\n      <td>NaN</td>\n      <td>NaN</td>\n    </tr>\n  </tbody>\n</table>\n<p>6972 rows × 29 columns</p>\n</div>"
     },
     "metadata": {},
     "execution_count": 371
    }
   ],
   "source": [
    "m_1"
   ]
  },
  {
   "cell_type": "code",
   "execution_count": 372,
   "metadata": {},
   "outputs": [
    {
     "output_type": "execute_result",
     "data": {
      "text/plain": [
       "5810"
      ]
     },
     "metadata": {},
     "execution_count": 372
    }
   ],
   "source": [
    "m_1.Brand.isnull().sum()"
   ]
  },
  {
   "cell_type": "code",
   "execution_count": 373,
   "metadata": {},
   "outputs": [
    {
     "output_type": "execute_result",
     "data": {
      "text/plain": [
       "3862"
      ]
     },
     "metadata": {},
     "execution_count": 373
    }
   ],
   "source": [
    "len(set(m_1.name))"
   ]
  },
  {
   "cell_type": "code",
   "execution_count": 374,
   "metadata": {},
   "outputs": [
    {
     "output_type": "execute_result",
     "data": {
      "text/plain": [
       "name                                 12\n",
       "Brand                              5810\n",
       "Series                             6345\n",
       "Item model number                  5829\n",
       "Item Weight                        5810\n",
       "Product Dimensions                 5861\n",
       "Item Dimensions  LxWxH             5860\n",
       "Color                              5920\n",
       "Voltage                            6363\n",
       "Manufacturer                       5861\n",
       "ASIN                               5861\n",
       "Date First Available                502\n",
       "Is Discontinued By Manufacturer    6523\n",
       "Power Source                       6723\n",
       "Processor Count                    6861\n",
       "Batteries                          6758\n",
       "Operating System                   6887\n",
       "Computer Memory Type               6890\n",
       "Processor Brand                    6905\n",
       "Department                         6960\n",
       "Language:                          6931\n",
       "National Stock Number              6967\n",
       "Package Dimensions                 6923\n",
       "Hardware Platform                  6885\n",
       "Flash Memory Size                  6937\n",
       "Hard Drive Interface               6869\n",
       "Rear Webcam Resolution             6967\n",
       "Hard Drive Rotational Speed        6925\n",
       "Optical Drive Type                 6945\n",
       "dtype: int64"
      ]
     },
     "metadata": {},
     "execution_count": 374
    }
   ],
   "source": [
    "m_1.isnull().sum()"
   ]
  },
  {
   "cell_type": "code",
   "execution_count": 375,
   "metadata": {},
   "outputs": [
    {
     "output_type": "execute_result",
     "data": {
      "text/plain": [
       "                                        product_summary\n",
       "0     [{'info': 'Standing screen display size', 'val...\n",
       "1     [{'info': 'Standing screen display size', 'val...\n",
       "2     [{'info': 'Standing screen display size', 'val...\n",
       "3     [{'info': 'Standing screen display size', 'val...\n",
       "4     [{'info': 'Standing screen display size', 'val...\n",
       "...                                                 ...\n",
       "6967                                               None\n",
       "6968  [{'info': 'Graphics Coprocessor', 'value': 'In...\n",
       "6969                                               None\n",
       "6970                                               None\n",
       "6971                                               None\n",
       "\n",
       "[6972 rows x 1 columns]"
      ],
      "text/html": "<div>\n<style scoped>\n    .dataframe tbody tr th:only-of-type {\n        vertical-align: middle;\n    }\n\n    .dataframe tbody tr th {\n        vertical-align: top;\n    }\n\n    .dataframe thead th {\n        text-align: right;\n    }\n</style>\n<table border=\"1\" class=\"dataframe\">\n  <thead>\n    <tr style=\"text-align: right;\">\n      <th></th>\n      <th>product_summary</th>\n    </tr>\n  </thead>\n  <tbody>\n    <tr>\n      <th>0</th>\n      <td>[{'info': 'Standing screen display size', 'val...</td>\n    </tr>\n    <tr>\n      <th>1</th>\n      <td>[{'info': 'Standing screen display size', 'val...</td>\n    </tr>\n    <tr>\n      <th>2</th>\n      <td>[{'info': 'Standing screen display size', 'val...</td>\n    </tr>\n    <tr>\n      <th>3</th>\n      <td>[{'info': 'Standing screen display size', 'val...</td>\n    </tr>\n    <tr>\n      <th>4</th>\n      <td>[{'info': 'Standing screen display size', 'val...</td>\n    </tr>\n    <tr>\n      <th>...</th>\n      <td>...</td>\n    </tr>\n    <tr>\n      <th>6967</th>\n      <td>None</td>\n    </tr>\n    <tr>\n      <th>6968</th>\n      <td>[{'info': 'Graphics Coprocessor', 'value': 'In...</td>\n    </tr>\n    <tr>\n      <th>6969</th>\n      <td>None</td>\n    </tr>\n    <tr>\n      <th>6970</th>\n      <td>None</td>\n    </tr>\n    <tr>\n      <th>6971</th>\n      <td>None</td>\n    </tr>\n  </tbody>\n</table>\n<p>6972 rows × 1 columns</p>\n</div>"
     },
     "metadata": {},
     "execution_count": 375
    }
   ],
   "source": [
    "p2 = p1[['product_summary']]\n",
    "p2"
   ]
  },
  {
   "cell_type": "code",
   "execution_count": 376,
   "metadata": {},
   "outputs": [],
   "source": [
    "add_col1 =  []\n",
    "for i in range(p2.shape[0]):\n",
    "    try:\n",
    "        for j in range(len(p2.product_summary[i])):\n",
    "            col = p2.product_summary[i][j]['info']\n",
    "            if col not in add_col1:\n",
    "                add_col1.append(col)\n",
    "    except:\n",
    "        continue"
   ]
  },
  {
   "cell_type": "code",
   "execution_count": 377,
   "metadata": {},
   "outputs": [
    {
     "output_type": "execute_result",
     "data": {
      "text/plain": [
       "['Standing screen display size',\n",
       " 'Screen Resolution',\n",
       " 'Max Screen Resolution',\n",
       " 'Number of USB 2.0 Ports',\n",
       " 'Manufacturer',\n",
       " 'Brand',\n",
       " 'Item Weight',\n",
       " 'Package Dimensions',\n",
       " 'Item model number',\n",
       " 'Material Type',\n",
       " 'Size',\n",
       " 'Manufacturer Part Number',\n",
       " 'Number of USB 3.0 Ports',\n",
       " 'Graphics Coprocessor',\n",
       " 'Part Number',\n",
       " 'Product Dimensions',\n",
       " 'Batteries',\n",
       " 'Is Discontinued By Manufacturer',\n",
       " 'Color',\n",
       " 'Power Source',\n",
       " 'Item Package Quantity',\n",
       " 'Certification',\n",
       " 'Included Components',\n",
       " 'Batteries Included?',\n",
       " 'Batteries Required?',\n",
       " 'Battery Cell Type',\n",
       " 'Warranty Description',\n",
       " 'Wireless Type',\n",
       " 'Contains',\n",
       " 'National Stock Number',\n",
       " 'Card Description',\n",
       " 'Item Dimensions  LxWxH',\n",
       " 'ASIN',\n",
       " 'Date First Available',\n",
       " 'Number of Items',\n",
       " 'Series',\n",
       " 'Brand Name',\n",
       " 'Color Name',\n",
       " 'Specification Met',\n",
       " 'Item display height',\n",
       " 'Expansion',\n",
       " 'Voltage',\n",
       " 'Style',\n",
       " 'Material',\n",
       " 'Shape',\n",
       " 'Type of Bulb',\n",
       " 'Switch Style',\n",
       " 'Special Features',\n",
       " 'Assembled Height',\n",
       " 'Assembled Length',\n",
       " 'Assembled Width',\n",
       " 'Finish Types',\n",
       " 'Specific Uses',\n",
       " 'Shade Color',\n",
       " 'Shade Material',\n",
       " 'Light Direction',\n",
       " 'Switch Installation Type',\n",
       " 'Wattage',\n",
       " 'Bulb Features',\n",
       " 'Color Temperature',\n",
       " 'Average Life',\n",
       " 'Line Size',\n",
       " 'Hardware Platform',\n",
       " 'Model',\n",
       " 'Cover Included',\n",
       " 'Graphics Card Ram Size',\n",
       " 'Number of Drawers',\n",
       " 'Total Recycled Content Percentage',\n",
       " 'Post-Consumer Recycled Content Percentage',\n",
       " 'Chipset Brand',\n",
       " 'Average Battery Life (in hours)',\n",
       " 'Computer Memory Type',\n",
       " 'Model number',\n",
       " 'Networking Feature',\n",
       " 'Installation Method',\n",
       " 'Operating System',\n",
       " 'Batteries required',\n",
       " 'Processor Count',\n",
       " 'Department',\n",
       " 'Language:',\n",
       " 'Processor Brand',\n",
       " 'Hard Drive Interface',\n",
       " 'Memory Speed',\n",
       " 'Number of Lights',\n",
       " 'Number of Blades',\n",
       " 'Head Style',\n",
       " 'Measurement System',\n",
       " 'Flash Memory Size',\n",
       " 'Hard Drive Rotational Speed',\n",
       " 'Wireless Remote',\n",
       " 'Warranty',\n",
       " 'Weight',\n",
       " None,\n",
       " 'Customer Reviews',\n",
       " 'Best Sellers Rank']"
      ]
     },
     "metadata": {},
     "execution_count": 377
    }
   ],
   "source": [
    "add_col1"
   ]
  },
  {
   "cell_type": "code",
   "execution_count": 378,
   "metadata": {},
   "outputs": [
    {
     "output_type": "execute_result",
     "data": {
      "text/plain": [
       "Empty DataFrame\n",
       "Columns: [Standing screen display size, Screen Resolution, Max Screen Resolution, Number of USB 2.0 Ports, Manufacturer, Brand, Item Weight, Package Dimensions, Item model number, Material Type, Size, Manufacturer Part Number, Number of USB 3.0 Ports, Graphics Coprocessor, Part Number, Product Dimensions, Batteries, Is Discontinued By Manufacturer, Color, Power Source, Item Package Quantity, Certification, Included Components, Batteries Included?, Batteries Required?, Battery Cell Type, Warranty Description, Wireless Type, Contains, National Stock Number, Card Description, Item Dimensions  LxWxH, ASIN, Date First Available, Number of Items, Series, Brand Name, Color Name, Specification Met, Item display height, Expansion, Voltage, Style, Material, Shape, Type of Bulb, Switch Style, Special Features, Assembled Height, Assembled Length, Assembled Width, Finish Types, Specific Uses, Shade Color, Shade Material, Light Direction, Switch Installation Type, Wattage, Bulb Features, Color Temperature, Average Life, Line Size, Hardware Platform, Model, Cover Included, Graphics Card Ram Size, Number of Drawers, Total Recycled Content Percentage, Post-Consumer Recycled Content Percentage, Chipset Brand, Average Battery Life (in hours), Computer Memory Type, Model number, Networking Feature, Installation Method, Operating System, Batteries required, Processor Count, Department, Language:, Processor Brand, Hard Drive Interface, Memory Speed, Number of Lights, Number of Blades, Head Style, Measurement System, Flash Memory Size, Hard Drive Rotational Speed, Wireless Remote, Warranty, Weight, None, Customer Reviews, Best Sellers Rank]\n",
       "Index: []\n",
       "\n",
       "[0 rows x 95 columns]"
      ],
      "text/html": "<div>\n<style scoped>\n    .dataframe tbody tr th:only-of-type {\n        vertical-align: middle;\n    }\n\n    .dataframe tbody tr th {\n        vertical-align: top;\n    }\n\n    .dataframe thead th {\n        text-align: right;\n    }\n</style>\n<table border=\"1\" class=\"dataframe\">\n  <thead>\n    <tr style=\"text-align: right;\">\n      <th></th>\n      <th>Standing screen display size</th>\n      <th>Screen Resolution</th>\n      <th>Max Screen Resolution</th>\n      <th>Number of USB 2.0 Ports</th>\n      <th>Manufacturer</th>\n      <th>Brand</th>\n      <th>Item Weight</th>\n      <th>Package Dimensions</th>\n      <th>Item model number</th>\n      <th>Material Type</th>\n      <th>...</th>\n      <th>Head Style</th>\n      <th>Measurement System</th>\n      <th>Flash Memory Size</th>\n      <th>Hard Drive Rotational Speed</th>\n      <th>Wireless Remote</th>\n      <th>Warranty</th>\n      <th>Weight</th>\n      <th>NaN</th>\n      <th>Customer Reviews</th>\n      <th>Best Sellers Rank</th>\n    </tr>\n  </thead>\n  <tbody>\n  </tbody>\n</table>\n<p>0 rows × 95 columns</p>\n</div>"
     },
     "metadata": {},
     "execution_count": 378
    }
   ],
   "source": [
    "m_2 = pd.DataFrame(columns= add_col1)\n",
    "m_2"
   ]
  },
  {
   "cell_type": "code",
   "execution_count": 379,
   "metadata": {},
   "outputs": [],
   "source": [
    "for i in range(p2.shape[0]):\n",
    "    try:\n",
    "        for j in range(len(p2.product_summary[i])):\n",
    "            col = p2.product_summary[i][j]['info']\n",
    "            val = p2.product_summary[i][j]['value']\n",
    "\n",
    "            m_2.loc[i,col] = val\n",
    "            \n",
    "    except:\n",
    "        m_2.loc[i,col] = ''\n",
    "        continue"
   ]
  },
  {
   "cell_type": "code",
   "execution_count": 380,
   "metadata": {},
   "outputs": [
    {
     "output_type": "execute_result",
     "data": {
      "text/plain": [
       "     Standing screen display size Screen Resolution Max Screen Resolution  \\\n",
       "0                       24 Inches         1920x1080    1920 x 1080 Pixels   \n",
       "1                       20 Inches          1600x900     1600 x 900 Pixels   \n",
       "2                       27 Inches         1920x1080    1920 x 1080 Pixels   \n",
       "3                       24 Inches         1920x1080    1920 x 1080 Pixels   \n",
       "4                     23.8 Inches       1920 x 1080      1920x1080 Pixels   \n",
       "...                           ...               ...                   ...   \n",
       "6967                          NaN               NaN                   NaN   \n",
       "6968                          NaN               NaN                   NaN   \n",
       "6969                          NaN               NaN                   NaN   \n",
       "6970                          NaN               NaN                   NaN   \n",
       "6971                          NaN               NaN                   NaN   \n",
       "\n",
       "     Number of USB 2.0 Ports Manufacturer Brand Item Weight  \\\n",
       "0                        NaN          NaN   NaN         NaN   \n",
       "1                        NaN          NaN   NaN         NaN   \n",
       "2                        NaN          NaN   NaN         NaN   \n",
       "3                        NaN          NaN   NaN         NaN   \n",
       "4                        NaN          NaN   NaN         NaN   \n",
       "...                      ...          ...   ...         ...   \n",
       "6967                     NaN          NaN   NaN         NaN   \n",
       "6968                      10          NaN   NaN         NaN   \n",
       "6969                                  NaN   NaN         NaN   \n",
       "6970                                  NaN   NaN         NaN   \n",
       "6971                                  NaN   NaN         NaN   \n",
       "\n",
       "     Package Dimensions Item model number Material Type  ... Head Style  \\\n",
       "0                   NaN               NaN           NaN  ...        NaN   \n",
       "1                   NaN               NaN           NaN  ...        NaN   \n",
       "2                   NaN               NaN           NaN  ...        NaN   \n",
       "3                   NaN               NaN           NaN  ...        NaN   \n",
       "4                   NaN               NaN           NaN  ...        NaN   \n",
       "...                 ...               ...           ...  ...        ...   \n",
       "6967                NaN               NaN           NaN  ...        NaN   \n",
       "6968                NaN               NaN           NaN  ...        NaN   \n",
       "6969                NaN               NaN           NaN  ...        NaN   \n",
       "6970                NaN               NaN           NaN  ...        NaN   \n",
       "6971                NaN               NaN           NaN  ...        NaN   \n",
       "\n",
       "     Measurement System Flash Memory Size Hard Drive Rotational Speed  \\\n",
       "0                   NaN               NaN                         NaN   \n",
       "1                   NaN               NaN                         NaN   \n",
       "2                   NaN               NaN                         NaN   \n",
       "3                   NaN               NaN                         NaN   \n",
       "4                   NaN               NaN                         NaN   \n",
       "...                 ...               ...                         ...   \n",
       "6967                NaN               NaN                         NaN   \n",
       "6968                NaN               NaN                         NaN   \n",
       "6969                NaN               NaN                         NaN   \n",
       "6970                NaN               NaN                         NaN   \n",
       "6971                NaN               NaN                         NaN   \n",
       "\n",
       "     Wireless Remote Warranty Weight  NaN Customer Reviews Best Sellers Rank  \n",
       "0                NaN      NaN    NaN  NaN              NaN               NaN  \n",
       "1                NaN      NaN    NaN  NaN              NaN               NaN  \n",
       "2                NaN      NaN    NaN  NaN              NaN               NaN  \n",
       "3                NaN      NaN    NaN  NaN              NaN               NaN  \n",
       "4                NaN      NaN    NaN  NaN              NaN               NaN  \n",
       "...              ...      ...    ...  ...              ...               ...  \n",
       "6967             NaN      NaN    NaN  NaN              NaN               NaN  \n",
       "6968             NaN      NaN    NaN  NaN              NaN               NaN  \n",
       "6969             NaN      NaN    NaN  NaN              NaN               NaN  \n",
       "6970             NaN      NaN    NaN  NaN              NaN               NaN  \n",
       "6971             NaN      NaN    NaN  NaN              NaN               NaN  \n",
       "\n",
       "[6972 rows x 95 columns]"
      ],
      "text/html": "<div>\n<style scoped>\n    .dataframe tbody tr th:only-of-type {\n        vertical-align: middle;\n    }\n\n    .dataframe tbody tr th {\n        vertical-align: top;\n    }\n\n    .dataframe thead th {\n        text-align: right;\n    }\n</style>\n<table border=\"1\" class=\"dataframe\">\n  <thead>\n    <tr style=\"text-align: right;\">\n      <th></th>\n      <th>Standing screen display size</th>\n      <th>Screen Resolution</th>\n      <th>Max Screen Resolution</th>\n      <th>Number of USB 2.0 Ports</th>\n      <th>Manufacturer</th>\n      <th>Brand</th>\n      <th>Item Weight</th>\n      <th>Package Dimensions</th>\n      <th>Item model number</th>\n      <th>Material Type</th>\n      <th>...</th>\n      <th>Head Style</th>\n      <th>Measurement System</th>\n      <th>Flash Memory Size</th>\n      <th>Hard Drive Rotational Speed</th>\n      <th>Wireless Remote</th>\n      <th>Warranty</th>\n      <th>Weight</th>\n      <th>NaN</th>\n      <th>Customer Reviews</th>\n      <th>Best Sellers Rank</th>\n    </tr>\n  </thead>\n  <tbody>\n    <tr>\n      <th>0</th>\n      <td>24 Inches</td>\n      <td>1920x1080</td>\n      <td>1920 x 1080 Pixels</td>\n      <td>NaN</td>\n      <td>NaN</td>\n      <td>NaN</td>\n      <td>NaN</td>\n      <td>NaN</td>\n      <td>NaN</td>\n      <td>NaN</td>\n      <td>...</td>\n      <td>NaN</td>\n      <td>NaN</td>\n      <td>NaN</td>\n      <td>NaN</td>\n      <td>NaN</td>\n      <td>NaN</td>\n      <td>NaN</td>\n      <td>NaN</td>\n      <td>NaN</td>\n      <td>NaN</td>\n    </tr>\n    <tr>\n      <th>1</th>\n      <td>20 Inches</td>\n      <td>1600x900</td>\n      <td>1600 x 900 Pixels</td>\n      <td>NaN</td>\n      <td>NaN</td>\n      <td>NaN</td>\n      <td>NaN</td>\n      <td>NaN</td>\n      <td>NaN</td>\n      <td>NaN</td>\n      <td>...</td>\n      <td>NaN</td>\n      <td>NaN</td>\n      <td>NaN</td>\n      <td>NaN</td>\n      <td>NaN</td>\n      <td>NaN</td>\n      <td>NaN</td>\n      <td>NaN</td>\n      <td>NaN</td>\n      <td>NaN</td>\n    </tr>\n    <tr>\n      <th>2</th>\n      <td>27 Inches</td>\n      <td>1920x1080</td>\n      <td>1920 x 1080 Pixels</td>\n      <td>NaN</td>\n      <td>NaN</td>\n      <td>NaN</td>\n      <td>NaN</td>\n      <td>NaN</td>\n      <td>NaN</td>\n      <td>NaN</td>\n      <td>...</td>\n      <td>NaN</td>\n      <td>NaN</td>\n      <td>NaN</td>\n      <td>NaN</td>\n      <td>NaN</td>\n      <td>NaN</td>\n      <td>NaN</td>\n      <td>NaN</td>\n      <td>NaN</td>\n      <td>NaN</td>\n    </tr>\n    <tr>\n      <th>3</th>\n      <td>24 Inches</td>\n      <td>1920x1080</td>\n      <td>1920 x 1080 Pixels</td>\n      <td>NaN</td>\n      <td>NaN</td>\n      <td>NaN</td>\n      <td>NaN</td>\n      <td>NaN</td>\n      <td>NaN</td>\n      <td>NaN</td>\n      <td>...</td>\n      <td>NaN</td>\n      <td>NaN</td>\n      <td>NaN</td>\n      <td>NaN</td>\n      <td>NaN</td>\n      <td>NaN</td>\n      <td>NaN</td>\n      <td>NaN</td>\n      <td>NaN</td>\n      <td>NaN</td>\n    </tr>\n    <tr>\n      <th>4</th>\n      <td>23.8 Inches</td>\n      <td>1920 x 1080</td>\n      <td>1920x1080 Pixels</td>\n      <td>NaN</td>\n      <td>NaN</td>\n      <td>NaN</td>\n      <td>NaN</td>\n      <td>NaN</td>\n      <td>NaN</td>\n      <td>NaN</td>\n      <td>...</td>\n      <td>NaN</td>\n      <td>NaN</td>\n      <td>NaN</td>\n      <td>NaN</td>\n      <td>NaN</td>\n      <td>NaN</td>\n      <td>NaN</td>\n      <td>NaN</td>\n      <td>NaN</td>\n      <td>NaN</td>\n    </tr>\n    <tr>\n      <th>...</th>\n      <td>...</td>\n      <td>...</td>\n      <td>...</td>\n      <td>...</td>\n      <td>...</td>\n      <td>...</td>\n      <td>...</td>\n      <td>...</td>\n      <td>...</td>\n      <td>...</td>\n      <td>...</td>\n      <td>...</td>\n      <td>...</td>\n      <td>...</td>\n      <td>...</td>\n      <td>...</td>\n      <td>...</td>\n      <td>...</td>\n      <td>...</td>\n      <td>...</td>\n      <td>...</td>\n    </tr>\n    <tr>\n      <th>6967</th>\n      <td>NaN</td>\n      <td>NaN</td>\n      <td>NaN</td>\n      <td>NaN</td>\n      <td>NaN</td>\n      <td>NaN</td>\n      <td>NaN</td>\n      <td>NaN</td>\n      <td>NaN</td>\n      <td>NaN</td>\n      <td>...</td>\n      <td>NaN</td>\n      <td>NaN</td>\n      <td>NaN</td>\n      <td>NaN</td>\n      <td>NaN</td>\n      <td>NaN</td>\n      <td>NaN</td>\n      <td>NaN</td>\n      <td>NaN</td>\n      <td>NaN</td>\n    </tr>\n    <tr>\n      <th>6968</th>\n      <td>NaN</td>\n      <td>NaN</td>\n      <td>NaN</td>\n      <td>10</td>\n      <td>NaN</td>\n      <td>NaN</td>\n      <td>NaN</td>\n      <td>NaN</td>\n      <td>NaN</td>\n      <td>NaN</td>\n      <td>...</td>\n      <td>NaN</td>\n      <td>NaN</td>\n      <td>NaN</td>\n      <td>NaN</td>\n      <td>NaN</td>\n      <td>NaN</td>\n      <td>NaN</td>\n      <td>NaN</td>\n      <td>NaN</td>\n      <td>NaN</td>\n    </tr>\n    <tr>\n      <th>6969</th>\n      <td>NaN</td>\n      <td>NaN</td>\n      <td>NaN</td>\n      <td></td>\n      <td>NaN</td>\n      <td>NaN</td>\n      <td>NaN</td>\n      <td>NaN</td>\n      <td>NaN</td>\n      <td>NaN</td>\n      <td>...</td>\n      <td>NaN</td>\n      <td>NaN</td>\n      <td>NaN</td>\n      <td>NaN</td>\n      <td>NaN</td>\n      <td>NaN</td>\n      <td>NaN</td>\n      <td>NaN</td>\n      <td>NaN</td>\n      <td>NaN</td>\n    </tr>\n    <tr>\n      <th>6970</th>\n      <td>NaN</td>\n      <td>NaN</td>\n      <td>NaN</td>\n      <td></td>\n      <td>NaN</td>\n      <td>NaN</td>\n      <td>NaN</td>\n      <td>NaN</td>\n      <td>NaN</td>\n      <td>NaN</td>\n      <td>...</td>\n      <td>NaN</td>\n      <td>NaN</td>\n      <td>NaN</td>\n      <td>NaN</td>\n      <td>NaN</td>\n      <td>NaN</td>\n      <td>NaN</td>\n      <td>NaN</td>\n      <td>NaN</td>\n      <td>NaN</td>\n    </tr>\n    <tr>\n      <th>6971</th>\n      <td>NaN</td>\n      <td>NaN</td>\n      <td>NaN</td>\n      <td></td>\n      <td>NaN</td>\n      <td>NaN</td>\n      <td>NaN</td>\n      <td>NaN</td>\n      <td>NaN</td>\n      <td>NaN</td>\n      <td>...</td>\n      <td>NaN</td>\n      <td>NaN</td>\n      <td>NaN</td>\n      <td>NaN</td>\n      <td>NaN</td>\n      <td>NaN</td>\n      <td>NaN</td>\n      <td>NaN</td>\n      <td>NaN</td>\n      <td>NaN</td>\n    </tr>\n  </tbody>\n</table>\n<p>6972 rows × 95 columns</p>\n</div>"
     },
     "metadata": {},
     "execution_count": 380
    }
   ],
   "source": [
    "m_2"
   ]
  },
  {
   "cell_type": "code",
   "execution_count": 381,
   "metadata": {},
   "outputs": [],
   "source": [
    "# m_2 = m_2.add_suffix('')\n",
    "# m_2"
   ]
  },
  {
   "cell_type": "code",
   "execution_count": 382,
   "metadata": {},
   "outputs": [],
   "source": [
    "# brand_2 = m_2[['Brand']]\n",
    "# brand_2\n",
    "# # brand_21 =brand_2.rename(columns={'Brand':'Brand_1'})"
   ]
  },
  {
   "cell_type": "code",
   "execution_count": 383,
   "metadata": {},
   "outputs": [],
   "source": [
    "# brand_1 = m_1[['name', 'Brand']]\n",
    "# brand_1"
   ]
  },
  {
   "cell_type": "code",
   "execution_count": 384,
   "metadata": {},
   "outputs": [],
   "source": [
    "# brand_12 = brand_1.fillna(0)\n",
    "# brand_12"
   ]
  },
  {
   "cell_type": "code",
   "execution_count": 385,
   "metadata": {},
   "outputs": [],
   "source": [
    "# brand = pd.concat([brand_1, brand_2], axis=1)\n",
    "# brand"
   ]
  },
  {
   "cell_type": "code",
   "execution_count": 386,
   "metadata": {},
   "outputs": [],
   "source": [
    "# brand['Brand'] = np.where(brand['Brand'] == 0, brand['Brand_1'], brand['Brand'])\n",
    "# brand_12 = brand_1.fillna(0)"
   ]
  },
  {
   "cell_type": "code",
   "execution_count": 387,
   "metadata": {},
   "outputs": [
    {
     "output_type": "execute_result",
     "data": {
      "text/plain": [
       "                                      product_addl_info\n",
       "0     [{'info': 'Customer Reviews', 'value': '/*\n",
       "* F...\n",
       "1     [{'info': 'Customer Reviews', 'value': '/*\n",
       "* F...\n",
       "2     [{'info': 'Customer Reviews', 'value': '/*\n",
       "* F...\n",
       "3     [{'info': 'Customer Reviews', 'value': '/*\n",
       "* F...\n",
       "4     [{'info': 'Customer Reviews', 'value': '/*\n",
       "* F...\n",
       "...                                                 ...\n",
       "6967  [{'info': 'Package Dimensions', 'value': '9.8 ...\n",
       "6968  [{'info': 'ASIN', 'value': 'B0754MN7D3'}, {'in...\n",
       "6969  [{'info': 'Package Dimensions', 'value': '8.98...\n",
       "6970  [{'info': 'Product Dimensions', 'value': '5.12...\n",
       "6971  [{'info': 'Package Dimensions', 'value': '6.61...\n",
       "\n",
       "[6972 rows x 1 columns]"
      ],
      "text/html": "<div>\n<style scoped>\n    .dataframe tbody tr th:only-of-type {\n        vertical-align: middle;\n    }\n\n    .dataframe tbody tr th {\n        vertical-align: top;\n    }\n\n    .dataframe thead th {\n        text-align: right;\n    }\n</style>\n<table border=\"1\" class=\"dataframe\">\n  <thead>\n    <tr style=\"text-align: right;\">\n      <th></th>\n      <th>product_addl_info</th>\n    </tr>\n  </thead>\n  <tbody>\n    <tr>\n      <th>0</th>\n      <td>[{'info': 'Customer Reviews', 'value': '/*\n* F...</td>\n    </tr>\n    <tr>\n      <th>1</th>\n      <td>[{'info': 'Customer Reviews', 'value': '/*\n* F...</td>\n    </tr>\n    <tr>\n      <th>2</th>\n      <td>[{'info': 'Customer Reviews', 'value': '/*\n* F...</td>\n    </tr>\n    <tr>\n      <th>3</th>\n      <td>[{'info': 'Customer Reviews', 'value': '/*\n* F...</td>\n    </tr>\n    <tr>\n      <th>4</th>\n      <td>[{'info': 'Customer Reviews', 'value': '/*\n* F...</td>\n    </tr>\n    <tr>\n      <th>...</th>\n      <td>...</td>\n    </tr>\n    <tr>\n      <th>6967</th>\n      <td>[{'info': 'Package Dimensions', 'value': '9.8 ...</td>\n    </tr>\n    <tr>\n      <th>6968</th>\n      <td>[{'info': 'ASIN', 'value': 'B0754MN7D3'}, {'in...</td>\n    </tr>\n    <tr>\n      <th>6969</th>\n      <td>[{'info': 'Package Dimensions', 'value': '8.98...</td>\n    </tr>\n    <tr>\n      <th>6970</th>\n      <td>[{'info': 'Product Dimensions', 'value': '5.12...</td>\n    </tr>\n    <tr>\n      <th>6971</th>\n      <td>[{'info': 'Package Dimensions', 'value': '6.61...</td>\n    </tr>\n  </tbody>\n</table>\n<p>6972 rows × 1 columns</p>\n</div>"
     },
     "metadata": {},
     "execution_count": 387
    }
   ],
   "source": [
    "p3 = p1[['product_addl_info']]\n",
    "p3"
   ]
  },
  {
   "cell_type": "code",
   "execution_count": 388,
   "metadata": {},
   "outputs": [],
   "source": [
    "add_col2 =  []\n",
    "for i in range(p3.shape[0]):\n",
    "    try:\n",
    "        for j in range(len(p3.product_addl_info[i])):\n",
    "            col = p3.product_addl_info[i][j]['info']\n",
    "            if col not in add_col2:\n",
    "                add_col2.append(col)\n",
    "    except:\n",
    "        continue"
   ]
  },
  {
   "cell_type": "code",
   "execution_count": 389,
   "metadata": {},
   "outputs": [
    {
     "output_type": "execute_result",
     "data": {
      "text/plain": [
       "['Customer Reviews',\n",
       " 'Best Sellers Rank',\n",
       " 'Package Dimensions',\n",
       " 'Item Weight',\n",
       " 'ASIN',\n",
       " 'Batteries',\n",
       " 'Date First Available',\n",
       " 'Manufacturer',\n",
       " 'Product Dimensions',\n",
       " 'Department',\n",
       " 'Item model number',\n",
       " 'Is Discontinued By Manufacturer',\n",
       " 'Domestic Shipping',\n",
       " 'International Shipping',\n",
       " 'Connectivity technologies',\n",
       " 'Display technology',\n",
       " 'Display resolution',\n",
       " 'Other display features',\n",
       " 'Scanner Resolution',\n",
       " 'Colour',\n",
       " 'Language:',\n",
       " 'Material Care Instructions',\n",
       " 'Is Assembly Required?',\n",
       " 'Batteries Required',\n",
       " 'Included Components',\n",
       " 'Additional Features',\n",
       " 'Release date',\n",
       " 'Pricing',\n",
       " 'Binding',\n",
       " 'Number of Pieces',\n",
       " 'Color Name',\n",
       " 'Speaker Amplification Type',\n",
       " 'Output Wattage',\n",
       " 'Power Source',\n",
       " 'Wattage',\n",
       " 'Warranty Description',\n",
       " 'Import Designation',\n",
       " 'National Stock Number',\n",
       " 'OS',\n",
       " 'RAM',\n",
       " 'Manufacturer recommended age',\n",
       " 'Mfg Recommended age',\n",
       " 'Connector Type',\n",
       " 'Size',\n",
       " 'Hardware Platform',\n",
       " 'Compatible Devices',\n",
       " 'Material Type',\n",
       " 'Display size',\n",
       " 'Form Factor',\n",
       " 'Number of Shelves']"
      ]
     },
     "metadata": {},
     "execution_count": 389
    }
   ],
   "source": [
    "add_col2"
   ]
  },
  {
   "cell_type": "code",
   "execution_count": 390,
   "metadata": {},
   "outputs": [
    {
     "output_type": "execute_result",
     "data": {
      "text/plain": [
       "Empty DataFrame\n",
       "Columns: [Customer Reviews, Best Sellers Rank, Package Dimensions, Item Weight, ASIN, Batteries, Date First Available, Manufacturer, Product Dimensions, Department, Item model number, Is Discontinued By Manufacturer, Domestic Shipping, International Shipping, Connectivity technologies, Display technology, Display resolution, Other display features, Scanner Resolution, Colour, Language:, Material Care Instructions, Is Assembly Required?, Batteries Required, Included Components, Additional Features, Release date, Pricing, Binding, Number of Pieces, Color Name, Speaker Amplification Type, Output Wattage, Power Source, Wattage, Warranty Description, Import Designation, National Stock Number, OS, RAM, Manufacturer recommended age, Mfg Recommended age, Connector Type, Size, Hardware Platform, Compatible Devices, Material Type, Display size, Form Factor, Number of Shelves]\n",
       "Index: []\n",
       "\n",
       "[0 rows x 50 columns]"
      ],
      "text/html": "<div>\n<style scoped>\n    .dataframe tbody tr th:only-of-type {\n        vertical-align: middle;\n    }\n\n    .dataframe tbody tr th {\n        vertical-align: top;\n    }\n\n    .dataframe thead th {\n        text-align: right;\n    }\n</style>\n<table border=\"1\" class=\"dataframe\">\n  <thead>\n    <tr style=\"text-align: right;\">\n      <th></th>\n      <th>Customer Reviews</th>\n      <th>Best Sellers Rank</th>\n      <th>Package Dimensions</th>\n      <th>Item Weight</th>\n      <th>ASIN</th>\n      <th>Batteries</th>\n      <th>Date First Available</th>\n      <th>Manufacturer</th>\n      <th>Product Dimensions</th>\n      <th>Department</th>\n      <th>...</th>\n      <th>Manufacturer recommended age</th>\n      <th>Mfg Recommended age</th>\n      <th>Connector Type</th>\n      <th>Size</th>\n      <th>Hardware Platform</th>\n      <th>Compatible Devices</th>\n      <th>Material Type</th>\n      <th>Display size</th>\n      <th>Form Factor</th>\n      <th>Number of Shelves</th>\n    </tr>\n  </thead>\n  <tbody>\n  </tbody>\n</table>\n<p>0 rows × 50 columns</p>\n</div>"
     },
     "metadata": {},
     "execution_count": 390
    }
   ],
   "source": [
    "m_3 = pd.DataFrame(columns= add_col2)\n",
    "m_3"
   ]
  },
  {
   "cell_type": "code",
   "execution_count": 391,
   "metadata": {},
   "outputs": [],
   "source": [
    "for i in range(p3.shape[0]):\n",
    "    try:\n",
    "        for j in range(len(p3.product_addl_info[i])):\n",
    "            col = p3.product_addl_info[i][j]['info']\n",
    "            val = p3.product_addl_info[i][j]['value']\n",
    "\n",
    "            m_3.loc[i,col] = val\n",
    "            \n",
    "    except:\n",
    "        m_3.loc[i,col] = ''\n",
    "        continue"
   ]
  },
  {
   "cell_type": "code",
   "execution_count": 392,
   "metadata": {},
   "outputs": [
    {
     "output_type": "execute_result",
     "data": {
      "text/plain": [
       "                                       Customer Reviews  \\\n",
       "0     /*\\n* Fix for UDP-1061. Average customer revie...   \n",
       "1     /*\\n* Fix for UDP-1061. Average customer revie...   \n",
       "2     /*\\n* Fix for UDP-1061. Average customer revie...   \n",
       "3     /*\\n* Fix for UDP-1061. Average customer revie...   \n",
       "4     /*\\n* Fix for UDP-1061. Average customer revie...   \n",
       "...                                                 ...   \n",
       "6967                                                NaN   \n",
       "6968  /*\\n* Fix for UDP-1061. Average customer revie...   \n",
       "6969  /*\\n* Fix for UDP-1061. Average customer revie...   \n",
       "6970  /*\\n* Fix for UDP-1061. Average customer revie...   \n",
       "6971  /*\\n* Fix for UDP-1061. Average customer revie...   \n",
       "\n",
       "                                      Best Sellers Rank  \\\n",
       "0     #765 in Electronics ( See Top 100 in Electroni...   \n",
       "1     #63 in Electronics ( See Top 100 in Electronic...   \n",
       "2     #138 in Electronics ( See Top 100 in Electroni...   \n",
       "3     #765 in Electronics ( See Top 100 in Electroni...   \n",
       "4     #493 in Electronics ( See Top 100 in Electroni...   \n",
       "...                                                 ...   \n",
       "6967                                                NaN   \n",
       "6968  #1,608 in Computers & Accessories ( See Top 10...   \n",
       "6969                               #91 in Serial Cables   \n",
       "6970  #38,412 in Computers & Accessories ( See Top 1...   \n",
       "6971                                                NaN   \n",
       "\n",
       "             Package Dimensions  Item Weight        ASIN Batteries  \\\n",
       "0                           NaN          NaN         NaN       NaN   \n",
       "1                           NaN          NaN         NaN       NaN   \n",
       "2                           NaN          NaN         NaN       NaN   \n",
       "3                           NaN          NaN         NaN       NaN   \n",
       "4                           NaN          NaN         NaN       NaN   \n",
       "...                         ...          ...         ...       ...   \n",
       "6967   9.8 x 6.22 x 2.91 inches  1.03 pounds  B08NC5DSY1       NaN   \n",
       "6968                        NaN          NaN  B0754MN7D3       NaN   \n",
       "6969  8.98 x 7.13 x 1.18 inches   9.7 ounces  B07B24HBXN       NaN   \n",
       "6970                        NaN   6.4 ounces  B081SJZX8F       NaN   \n",
       "6971  6.61 x 6.38 x 2.32 inches  14.4 ounces  B08GSS37R7       NaN   \n",
       "\n",
       "     Date First Available                                    Manufacturer  \\\n",
       "0                     NaN                                             NaN   \n",
       "1                     NaN                                             NaN   \n",
       "2                     NaN                                             NaN   \n",
       "3                     NaN                                             NaN   \n",
       "4                     NaN                                             NaN   \n",
       "...                   ...                                             ...   \n",
       "6967    November 12, 2020                                         BRENDAZ   \n",
       "6968      August 25, 2017                                             NaN   \n",
       "6969       March 24, 2018  Guangzhou DTECH Electronics Technology Co.,Ltd   \n",
       "6970    November 20, 2019                              RoitsNine Co.,Ltd.   \n",
       "6971      August 27, 2020                                    ConnectSense   \n",
       "\n",
       "            Product Dimensions Department  ... Manufacturer recommended age  \\\n",
       "0                          NaN        NaN  ...                          NaN   \n",
       "1                          NaN        NaN  ...                          NaN   \n",
       "2                          NaN        NaN  ...                          NaN   \n",
       "3                          NaN        NaN  ...                          NaN   \n",
       "4                          NaN        NaN  ...                          NaN   \n",
       "...                        ...        ...  ...                          ...   \n",
       "6967                       NaN        NaN  ...                          NaN   \n",
       "6968                       NaN        NaN  ...                          NaN   \n",
       "6969                       NaN        NaN  ...                          NaN   \n",
       "6970  5.12 x 8.7 x 0.01 inches        NaN  ...                          NaN   \n",
       "6971                       NaN        NaN  ...                          NaN   \n",
       "\n",
       "     Mfg Recommended age Connector Type Size Hardware Platform  \\\n",
       "0                    NaN            NaN  NaN               NaN   \n",
       "1                    NaN            NaN  NaN               NaN   \n",
       "2                    NaN            NaN  NaN               NaN   \n",
       "3                    NaN            NaN  NaN               NaN   \n",
       "4                    NaN            NaN  NaN               NaN   \n",
       "...                  ...            ...  ...               ...   \n",
       "6967                 NaN            NaN  NaN               NaN   \n",
       "6968                 NaN            NaN  NaN               NaN   \n",
       "6969                 NaN            NaN  NaN               NaN   \n",
       "6970                 NaN            NaN  NaN               NaN   \n",
       "6971                 NaN            NaN  NaN               NaN   \n",
       "\n",
       "     Compatible Devices Material Type Display size Form Factor  \\\n",
       "0                   NaN           NaN          NaN         NaN   \n",
       "1                   NaN           NaN          NaN         NaN   \n",
       "2                   NaN           NaN          NaN         NaN   \n",
       "3                   NaN           NaN          NaN         NaN   \n",
       "4                   NaN           NaN          NaN         NaN   \n",
       "...                 ...           ...          ...         ...   \n",
       "6967                NaN           NaN          NaN         NaN   \n",
       "6968                NaN           NaN          NaN         NaN   \n",
       "6969                NaN           NaN          NaN         NaN   \n",
       "6970                NaN           NaN          NaN         NaN   \n",
       "6971                NaN           NaN          NaN         NaN   \n",
       "\n",
       "     Number of Shelves  \n",
       "0                  NaN  \n",
       "1                  NaN  \n",
       "2                  NaN  \n",
       "3                  NaN  \n",
       "4                  NaN  \n",
       "...                ...  \n",
       "6967               NaN  \n",
       "6968               NaN  \n",
       "6969               NaN  \n",
       "6970               NaN  \n",
       "6971               NaN  \n",
       "\n",
       "[6972 rows x 50 columns]"
      ],
      "text/html": "<div>\n<style scoped>\n    .dataframe tbody tr th:only-of-type {\n        vertical-align: middle;\n    }\n\n    .dataframe tbody tr th {\n        vertical-align: top;\n    }\n\n    .dataframe thead th {\n        text-align: right;\n    }\n</style>\n<table border=\"1\" class=\"dataframe\">\n  <thead>\n    <tr style=\"text-align: right;\">\n      <th></th>\n      <th>Customer Reviews</th>\n      <th>Best Sellers Rank</th>\n      <th>Package Dimensions</th>\n      <th>Item Weight</th>\n      <th>ASIN</th>\n      <th>Batteries</th>\n      <th>Date First Available</th>\n      <th>Manufacturer</th>\n      <th>Product Dimensions</th>\n      <th>Department</th>\n      <th>...</th>\n      <th>Manufacturer recommended age</th>\n      <th>Mfg Recommended age</th>\n      <th>Connector Type</th>\n      <th>Size</th>\n      <th>Hardware Platform</th>\n      <th>Compatible Devices</th>\n      <th>Material Type</th>\n      <th>Display size</th>\n      <th>Form Factor</th>\n      <th>Number of Shelves</th>\n    </tr>\n  </thead>\n  <tbody>\n    <tr>\n      <th>0</th>\n      <td>/*\\n* Fix for UDP-1061. Average customer revie...</td>\n      <td>#765 in Electronics ( See Top 100 in Electroni...</td>\n      <td>NaN</td>\n      <td>NaN</td>\n      <td>NaN</td>\n      <td>NaN</td>\n      <td>NaN</td>\n      <td>NaN</td>\n      <td>NaN</td>\n      <td>NaN</td>\n      <td>...</td>\n      <td>NaN</td>\n      <td>NaN</td>\n      <td>NaN</td>\n      <td>NaN</td>\n      <td>NaN</td>\n      <td>NaN</td>\n      <td>NaN</td>\n      <td>NaN</td>\n      <td>NaN</td>\n      <td>NaN</td>\n    </tr>\n    <tr>\n      <th>1</th>\n      <td>/*\\n* Fix for UDP-1061. Average customer revie...</td>\n      <td>#63 in Electronics ( See Top 100 in Electronic...</td>\n      <td>NaN</td>\n      <td>NaN</td>\n      <td>NaN</td>\n      <td>NaN</td>\n      <td>NaN</td>\n      <td>NaN</td>\n      <td>NaN</td>\n      <td>NaN</td>\n      <td>...</td>\n      <td>NaN</td>\n      <td>NaN</td>\n      <td>NaN</td>\n      <td>NaN</td>\n      <td>NaN</td>\n      <td>NaN</td>\n      <td>NaN</td>\n      <td>NaN</td>\n      <td>NaN</td>\n      <td>NaN</td>\n    </tr>\n    <tr>\n      <th>2</th>\n      <td>/*\\n* Fix for UDP-1061. Average customer revie...</td>\n      <td>#138 in Electronics ( See Top 100 in Electroni...</td>\n      <td>NaN</td>\n      <td>NaN</td>\n      <td>NaN</td>\n      <td>NaN</td>\n      <td>NaN</td>\n      <td>NaN</td>\n      <td>NaN</td>\n      <td>NaN</td>\n      <td>...</td>\n      <td>NaN</td>\n      <td>NaN</td>\n      <td>NaN</td>\n      <td>NaN</td>\n      <td>NaN</td>\n      <td>NaN</td>\n      <td>NaN</td>\n      <td>NaN</td>\n      <td>NaN</td>\n      <td>NaN</td>\n    </tr>\n    <tr>\n      <th>3</th>\n      <td>/*\\n* Fix for UDP-1061. Average customer revie...</td>\n      <td>#765 in Electronics ( See Top 100 in Electroni...</td>\n      <td>NaN</td>\n      <td>NaN</td>\n      <td>NaN</td>\n      <td>NaN</td>\n      <td>NaN</td>\n      <td>NaN</td>\n      <td>NaN</td>\n      <td>NaN</td>\n      <td>...</td>\n      <td>NaN</td>\n      <td>NaN</td>\n      <td>NaN</td>\n      <td>NaN</td>\n      <td>NaN</td>\n      <td>NaN</td>\n      <td>NaN</td>\n      <td>NaN</td>\n      <td>NaN</td>\n      <td>NaN</td>\n    </tr>\n    <tr>\n      <th>4</th>\n      <td>/*\\n* Fix for UDP-1061. Average customer revie...</td>\n      <td>#493 in Electronics ( See Top 100 in Electroni...</td>\n      <td>NaN</td>\n      <td>NaN</td>\n      <td>NaN</td>\n      <td>NaN</td>\n      <td>NaN</td>\n      <td>NaN</td>\n      <td>NaN</td>\n      <td>NaN</td>\n      <td>...</td>\n      <td>NaN</td>\n      <td>NaN</td>\n      <td>NaN</td>\n      <td>NaN</td>\n      <td>NaN</td>\n      <td>NaN</td>\n      <td>NaN</td>\n      <td>NaN</td>\n      <td>NaN</td>\n      <td>NaN</td>\n    </tr>\n    <tr>\n      <th>...</th>\n      <td>...</td>\n      <td>...</td>\n      <td>...</td>\n      <td>...</td>\n      <td>...</td>\n      <td>...</td>\n      <td>...</td>\n      <td>...</td>\n      <td>...</td>\n      <td>...</td>\n      <td>...</td>\n      <td>...</td>\n      <td>...</td>\n      <td>...</td>\n      <td>...</td>\n      <td>...</td>\n      <td>...</td>\n      <td>...</td>\n      <td>...</td>\n      <td>...</td>\n      <td>...</td>\n    </tr>\n    <tr>\n      <th>6967</th>\n      <td>NaN</td>\n      <td>NaN</td>\n      <td>9.8 x 6.22 x 2.91 inches</td>\n      <td>1.03 pounds</td>\n      <td>B08NC5DSY1</td>\n      <td>NaN</td>\n      <td>November 12, 2020</td>\n      <td>BRENDAZ</td>\n      <td>NaN</td>\n      <td>NaN</td>\n      <td>...</td>\n      <td>NaN</td>\n      <td>NaN</td>\n      <td>NaN</td>\n      <td>NaN</td>\n      <td>NaN</td>\n      <td>NaN</td>\n      <td>NaN</td>\n      <td>NaN</td>\n      <td>NaN</td>\n      <td>NaN</td>\n    </tr>\n    <tr>\n      <th>6968</th>\n      <td>/*\\n* Fix for UDP-1061. Average customer revie...</td>\n      <td>#1,608 in Computers &amp; Accessories ( See Top 10...</td>\n      <td>NaN</td>\n      <td>NaN</td>\n      <td>B0754MN7D3</td>\n      <td>NaN</td>\n      <td>August 25, 2017</td>\n      <td>NaN</td>\n      <td>NaN</td>\n      <td>NaN</td>\n      <td>...</td>\n      <td>NaN</td>\n      <td>NaN</td>\n      <td>NaN</td>\n      <td>NaN</td>\n      <td>NaN</td>\n      <td>NaN</td>\n      <td>NaN</td>\n      <td>NaN</td>\n      <td>NaN</td>\n      <td>NaN</td>\n    </tr>\n    <tr>\n      <th>6969</th>\n      <td>/*\\n* Fix for UDP-1061. Average customer revie...</td>\n      <td>#91 in Serial Cables</td>\n      <td>8.98 x 7.13 x 1.18 inches</td>\n      <td>9.7 ounces</td>\n      <td>B07B24HBXN</td>\n      <td>NaN</td>\n      <td>March 24, 2018</td>\n      <td>Guangzhou DTECH Electronics Technology Co.,Ltd</td>\n      <td>NaN</td>\n      <td>NaN</td>\n      <td>...</td>\n      <td>NaN</td>\n      <td>NaN</td>\n      <td>NaN</td>\n      <td>NaN</td>\n      <td>NaN</td>\n      <td>NaN</td>\n      <td>NaN</td>\n      <td>NaN</td>\n      <td>NaN</td>\n      <td>NaN</td>\n    </tr>\n    <tr>\n      <th>6970</th>\n      <td>/*\\n* Fix for UDP-1061. Average customer revie...</td>\n      <td>#38,412 in Computers &amp; Accessories ( See Top 1...</td>\n      <td>NaN</td>\n      <td>6.4 ounces</td>\n      <td>B081SJZX8F</td>\n      <td>NaN</td>\n      <td>November 20, 2019</td>\n      <td>RoitsNine Co.,Ltd.</td>\n      <td>5.12 x 8.7 x 0.01 inches</td>\n      <td>NaN</td>\n      <td>...</td>\n      <td>NaN</td>\n      <td>NaN</td>\n      <td>NaN</td>\n      <td>NaN</td>\n      <td>NaN</td>\n      <td>NaN</td>\n      <td>NaN</td>\n      <td>NaN</td>\n      <td>NaN</td>\n      <td>NaN</td>\n    </tr>\n    <tr>\n      <th>6971</th>\n      <td>/*\\n* Fix for UDP-1061. Average customer revie...</td>\n      <td>NaN</td>\n      <td>6.61 x 6.38 x 2.32 inches</td>\n      <td>14.4 ounces</td>\n      <td>B08GSS37R7</td>\n      <td>NaN</td>\n      <td>August 27, 2020</td>\n      <td>ConnectSense</td>\n      <td>NaN</td>\n      <td>NaN</td>\n      <td>...</td>\n      <td>NaN</td>\n      <td>NaN</td>\n      <td>NaN</td>\n      <td>NaN</td>\n      <td>NaN</td>\n      <td>NaN</td>\n      <td>NaN</td>\n      <td>NaN</td>\n      <td>NaN</td>\n      <td>NaN</td>\n    </tr>\n  </tbody>\n</table>\n<p>6972 rows × 50 columns</p>\n</div>"
     },
     "metadata": {},
     "execution_count": 392
    }
   ],
   "source": [
    "m_3"
   ]
  },
  {
   "cell_type": "code",
   "execution_count": null,
   "metadata": {},
   "outputs": [],
   "source": []
  },
  {
   "cell_type": "code",
   "execution_count": 393,
   "metadata": {},
   "outputs": [
    {
     "output_type": "execute_result",
     "data": {
      "text/plain": [
       "                                                   name    Brand     Series  \\\n",
       "0     Sceptre IPS 24-Inch Business Computer Monitor ...  Sceptre  E248W-FPT   \n",
       "1     Sceptre 20\" 1600x900 75Hz Ultra Thin LED Monit...  Sceptre        NaN   \n",
       "2     Sceptre Curved 27\" 75Hz LED Monitor HDMI VGA B...  Sceptre        NaN   \n",
       "3     Sceptre IPS 24-Inch Business Computer Monitor ...  Sceptre  E248W-FPT   \n",
       "4     BenQ 24 Inch IPS Monitor | 1080P | Proprietary...     BenQ     GW2480   \n",
       "...                                                 ...      ...        ...   \n",
       "6967  (5 Pack) 90 Degree Angled 2 Prong to L-Shaped ...      NaN        NaN   \n",
       "6968  HP Elite 8200 Ultra Slim Desktop PC - Intel Co...       HP        NaN   \n",
       "6969  DTECH 15ft DB9 Serial Cable COM Port Male to M...      NaN        NaN   \n",
       "6970  YES2B 10.1 Inch Laptop Privacy Screen Filter f...      NaN        NaN   \n",
       "6971  ConnectSense Router Rebooter, Monitors Your In...      NaN        NaN   \n",
       "\n",
       "     Item model number  Item Weight           Product Dimensions  \\\n",
       "0            E248W-FPT  6.02 pounds  21.25 x 7.03 x 15.53 inches   \n",
       "1         E205W-16003R  4.43 pounds  18.35 x 7.17 x 13.58 inches   \n",
       "2         C275W-1920RN   8.6 pounds  24.27 x 9.01 x 17.69 inches   \n",
       "3            E248W-FPT  6.02 pounds  21.25 x 7.03 x 15.53 inches   \n",
       "4               GW2480   8.4 pounds   16.54 x 6.9 x 21.26 inches   \n",
       "...                ...          ...                          ...   \n",
       "6967               NaN          NaN                          NaN   \n",
       "6968        Elite 8200   6.8 pounds        10 x 9.9 x 2.6 inches   \n",
       "6969               NaN          NaN                          NaN   \n",
       "6970               NaN          NaN                          NaN   \n",
       "6971               NaN          NaN                          NaN   \n",
       "\n",
       "           Item Dimensions  LxWxH           Color         Voltage  \\\n",
       "0     21.25 x 7.03 x 15.53 inches   Machine Black  120 Volts (AC)   \n",
       "1     18.35 x 7.17 x 13.58 inches  Metallic Black  110 Volts (AC)   \n",
       "2     24.27 x 9.01 x 17.69 inches     Metal Black  120 Volts (AC)   \n",
       "3     21.25 x 7.03 x 15.53 inches   Machine Black  120 Volts (AC)   \n",
       "4      16.54 x 6.9 x 21.26 inches           Black       240 Volts   \n",
       "...                           ...             ...             ...   \n",
       "6967                          NaN             NaN             NaN   \n",
       "6968        10 x 9.9 x 2.6 inches             NaN             NaN   \n",
       "6969                          NaN             NaN             NaN   \n",
       "6970                          NaN             NaN             NaN   \n",
       "6971                          NaN             NaN             NaN   \n",
       "\n",
       "     Manufacturer  ... Manufacturer recommended age Mfg Recommended age  \\\n",
       "0         Sceptre  ...                          NaN                 NaN   \n",
       "1         Sceptre  ...                          NaN                 NaN   \n",
       "2         Sceptre  ...                          NaN                 NaN   \n",
       "3         Sceptre  ...                          NaN                 NaN   \n",
       "4            BenQ  ...                          NaN                 NaN   \n",
       "...           ...  ...                          ...                 ...   \n",
       "6967          NaN  ...                          NaN                 NaN   \n",
       "6968          NaN  ...                          NaN                 NaN   \n",
       "6969          NaN  ...                          NaN                 NaN   \n",
       "6970          NaN  ...                          NaN                 NaN   \n",
       "6971          NaN  ...                          NaN                 NaN   \n",
       "\n",
       "     Connector Type Size Hardware Platform Compatible Devices Material Type  \\\n",
       "0               NaN  NaN               NaN                NaN           NaN   \n",
       "1               NaN  NaN               NaN                NaN           NaN   \n",
       "2               NaN  NaN               NaN                NaN           NaN   \n",
       "3               NaN  NaN               NaN                NaN           NaN   \n",
       "4               NaN  NaN               NaN                NaN           NaN   \n",
       "...             ...  ...               ...                ...           ...   \n",
       "6967            NaN  NaN               NaN                NaN           NaN   \n",
       "6968            NaN  NaN               NaN                NaN           NaN   \n",
       "6969            NaN  NaN               NaN                NaN           NaN   \n",
       "6970            NaN  NaN               NaN                NaN           NaN   \n",
       "6971            NaN  NaN               NaN                NaN           NaN   \n",
       "\n",
       "     Display size Form Factor Number of Shelves  \n",
       "0             NaN         NaN               NaN  \n",
       "1             NaN         NaN               NaN  \n",
       "2             NaN         NaN               NaN  \n",
       "3             NaN         NaN               NaN  \n",
       "4             NaN         NaN               NaN  \n",
       "...           ...         ...               ...  \n",
       "6967          NaN         NaN               NaN  \n",
       "6968          NaN         NaN               NaN  \n",
       "6969          NaN         NaN               NaN  \n",
       "6970          NaN         NaN               NaN  \n",
       "6971          NaN         NaN               NaN  \n",
       "\n",
       "[6972 rows x 174 columns]"
      ],
      "text/html": "<div>\n<style scoped>\n    .dataframe tbody tr th:only-of-type {\n        vertical-align: middle;\n    }\n\n    .dataframe tbody tr th {\n        vertical-align: top;\n    }\n\n    .dataframe thead th {\n        text-align: right;\n    }\n</style>\n<table border=\"1\" class=\"dataframe\">\n  <thead>\n    <tr style=\"text-align: right;\">\n      <th></th>\n      <th>name</th>\n      <th>Brand</th>\n      <th>Series</th>\n      <th>Item model number</th>\n      <th>Item Weight</th>\n      <th>Product Dimensions</th>\n      <th>Item Dimensions  LxWxH</th>\n      <th>Color</th>\n      <th>Voltage</th>\n      <th>Manufacturer</th>\n      <th>...</th>\n      <th>Manufacturer recommended age</th>\n      <th>Mfg Recommended age</th>\n      <th>Connector Type</th>\n      <th>Size</th>\n      <th>Hardware Platform</th>\n      <th>Compatible Devices</th>\n      <th>Material Type</th>\n      <th>Display size</th>\n      <th>Form Factor</th>\n      <th>Number of Shelves</th>\n    </tr>\n  </thead>\n  <tbody>\n    <tr>\n      <th>0</th>\n      <td>Sceptre IPS 24-Inch Business Computer Monitor ...</td>\n      <td>Sceptre</td>\n      <td>E248W-FPT</td>\n      <td>E248W-FPT</td>\n      <td>6.02 pounds</td>\n      <td>21.25 x 7.03 x 15.53 inches</td>\n      <td>21.25 x 7.03 x 15.53 inches</td>\n      <td>Machine Black</td>\n      <td>120 Volts (AC)</td>\n      <td>Sceptre</td>\n      <td>...</td>\n      <td>NaN</td>\n      <td>NaN</td>\n      <td>NaN</td>\n      <td>NaN</td>\n      <td>NaN</td>\n      <td>NaN</td>\n      <td>NaN</td>\n      <td>NaN</td>\n      <td>NaN</td>\n      <td>NaN</td>\n    </tr>\n    <tr>\n      <th>1</th>\n      <td>Sceptre 20\" 1600x900 75Hz Ultra Thin LED Monit...</td>\n      <td>Sceptre</td>\n      <td>NaN</td>\n      <td>E205W-16003R</td>\n      <td>4.43 pounds</td>\n      <td>18.35 x 7.17 x 13.58 inches</td>\n      <td>18.35 x 7.17 x 13.58 inches</td>\n      <td>Metallic Black</td>\n      <td>110 Volts (AC)</td>\n      <td>Sceptre</td>\n      <td>...</td>\n      <td>NaN</td>\n      <td>NaN</td>\n      <td>NaN</td>\n      <td>NaN</td>\n      <td>NaN</td>\n      <td>NaN</td>\n      <td>NaN</td>\n      <td>NaN</td>\n      <td>NaN</td>\n      <td>NaN</td>\n    </tr>\n    <tr>\n      <th>2</th>\n      <td>Sceptre Curved 27\" 75Hz LED Monitor HDMI VGA B...</td>\n      <td>Sceptre</td>\n      <td>NaN</td>\n      <td>C275W-1920RN</td>\n      <td>8.6 pounds</td>\n      <td>24.27 x 9.01 x 17.69 inches</td>\n      <td>24.27 x 9.01 x 17.69 inches</td>\n      <td>Metal Black</td>\n      <td>120 Volts (AC)</td>\n      <td>Sceptre</td>\n      <td>...</td>\n      <td>NaN</td>\n      <td>NaN</td>\n      <td>NaN</td>\n      <td>NaN</td>\n      <td>NaN</td>\n      <td>NaN</td>\n      <td>NaN</td>\n      <td>NaN</td>\n      <td>NaN</td>\n      <td>NaN</td>\n    </tr>\n    <tr>\n      <th>3</th>\n      <td>Sceptre IPS 24-Inch Business Computer Monitor ...</td>\n      <td>Sceptre</td>\n      <td>E248W-FPT</td>\n      <td>E248W-FPT</td>\n      <td>6.02 pounds</td>\n      <td>21.25 x 7.03 x 15.53 inches</td>\n      <td>21.25 x 7.03 x 15.53 inches</td>\n      <td>Machine Black</td>\n      <td>120 Volts (AC)</td>\n      <td>Sceptre</td>\n      <td>...</td>\n      <td>NaN</td>\n      <td>NaN</td>\n      <td>NaN</td>\n      <td>NaN</td>\n      <td>NaN</td>\n      <td>NaN</td>\n      <td>NaN</td>\n      <td>NaN</td>\n      <td>NaN</td>\n      <td>NaN</td>\n    </tr>\n    <tr>\n      <th>4</th>\n      <td>BenQ 24 Inch IPS Monitor | 1080P | Proprietary...</td>\n      <td>BenQ</td>\n      <td>GW2480</td>\n      <td>GW2480</td>\n      <td>8.4 pounds</td>\n      <td>16.54 x 6.9 x 21.26 inches</td>\n      <td>16.54 x 6.9 x 21.26 inches</td>\n      <td>Black</td>\n      <td>240 Volts</td>\n      <td>BenQ</td>\n      <td>...</td>\n      <td>NaN</td>\n      <td>NaN</td>\n      <td>NaN</td>\n      <td>NaN</td>\n      <td>NaN</td>\n      <td>NaN</td>\n      <td>NaN</td>\n      <td>NaN</td>\n      <td>NaN</td>\n      <td>NaN</td>\n    </tr>\n    <tr>\n      <th>...</th>\n      <td>...</td>\n      <td>...</td>\n      <td>...</td>\n      <td>...</td>\n      <td>...</td>\n      <td>...</td>\n      <td>...</td>\n      <td>...</td>\n      <td>...</td>\n      <td>...</td>\n      <td>...</td>\n      <td>...</td>\n      <td>...</td>\n      <td>...</td>\n      <td>...</td>\n      <td>...</td>\n      <td>...</td>\n      <td>...</td>\n      <td>...</td>\n      <td>...</td>\n      <td>...</td>\n    </tr>\n    <tr>\n      <th>6967</th>\n      <td>(5 Pack) 90 Degree Angled 2 Prong to L-Shaped ...</td>\n      <td>NaN</td>\n      <td>NaN</td>\n      <td>NaN</td>\n      <td>NaN</td>\n      <td>NaN</td>\n      <td>NaN</td>\n      <td>NaN</td>\n      <td>NaN</td>\n      <td>NaN</td>\n      <td>...</td>\n      <td>NaN</td>\n      <td>NaN</td>\n      <td>NaN</td>\n      <td>NaN</td>\n      <td>NaN</td>\n      <td>NaN</td>\n      <td>NaN</td>\n      <td>NaN</td>\n      <td>NaN</td>\n      <td>NaN</td>\n    </tr>\n    <tr>\n      <th>6968</th>\n      <td>HP Elite 8200 Ultra Slim Desktop PC - Intel Co...</td>\n      <td>HP</td>\n      <td>NaN</td>\n      <td>Elite 8200</td>\n      <td>6.8 pounds</td>\n      <td>10 x 9.9 x 2.6 inches</td>\n      <td>10 x 9.9 x 2.6 inches</td>\n      <td>NaN</td>\n      <td>NaN</td>\n      <td>NaN</td>\n      <td>...</td>\n      <td>NaN</td>\n      <td>NaN</td>\n      <td>NaN</td>\n      <td>NaN</td>\n      <td>NaN</td>\n      <td>NaN</td>\n      <td>NaN</td>\n      <td>NaN</td>\n      <td>NaN</td>\n      <td>NaN</td>\n    </tr>\n    <tr>\n      <th>6969</th>\n      <td>DTECH 15ft DB9 Serial Cable COM Port Male to M...</td>\n      <td>NaN</td>\n      <td>NaN</td>\n      <td>NaN</td>\n      <td>NaN</td>\n      <td>NaN</td>\n      <td>NaN</td>\n      <td>NaN</td>\n      <td>NaN</td>\n      <td>NaN</td>\n      <td>...</td>\n      <td>NaN</td>\n      <td>NaN</td>\n      <td>NaN</td>\n      <td>NaN</td>\n      <td>NaN</td>\n      <td>NaN</td>\n      <td>NaN</td>\n      <td>NaN</td>\n      <td>NaN</td>\n      <td>NaN</td>\n    </tr>\n    <tr>\n      <th>6970</th>\n      <td>YES2B 10.1 Inch Laptop Privacy Screen Filter f...</td>\n      <td>NaN</td>\n      <td>NaN</td>\n      <td>NaN</td>\n      <td>NaN</td>\n      <td>NaN</td>\n      <td>NaN</td>\n      <td>NaN</td>\n      <td>NaN</td>\n      <td>NaN</td>\n      <td>...</td>\n      <td>NaN</td>\n      <td>NaN</td>\n      <td>NaN</td>\n      <td>NaN</td>\n      <td>NaN</td>\n      <td>NaN</td>\n      <td>NaN</td>\n      <td>NaN</td>\n      <td>NaN</td>\n      <td>NaN</td>\n    </tr>\n    <tr>\n      <th>6971</th>\n      <td>ConnectSense Router Rebooter, Monitors Your In...</td>\n      <td>NaN</td>\n      <td>NaN</td>\n      <td>NaN</td>\n      <td>NaN</td>\n      <td>NaN</td>\n      <td>NaN</td>\n      <td>NaN</td>\n      <td>NaN</td>\n      <td>NaN</td>\n      <td>...</td>\n      <td>NaN</td>\n      <td>NaN</td>\n      <td>NaN</td>\n      <td>NaN</td>\n      <td>NaN</td>\n      <td>NaN</td>\n      <td>NaN</td>\n      <td>NaN</td>\n      <td>NaN</td>\n      <td>NaN</td>\n    </tr>\n  </tbody>\n</table>\n<p>6972 rows × 174 columns</p>\n</div>"
     },
     "metadata": {},
     "execution_count": 393
    }
   ],
   "source": [
    "merge = pd.concat([m_1, m_2, m_3], axis=1) # join='inner', ignore_index= True)\n",
    "merge"
   ]
  },
  {
   "cell_type": "code",
   "execution_count": 394,
   "metadata": {},
   "outputs": [
    {
     "output_type": "execute_result",
     "data": {
      "text/plain": [
       "(6972, 174)"
      ]
     },
     "metadata": {},
     "execution_count": 394
    }
   ],
   "source": [
    "merge.shape"
   ]
  },
  {
   "cell_type": "code",
   "execution_count": 395,
   "metadata": {},
   "outputs": [
    {
     "output_type": "execute_result",
     "data": {
      "text/plain": [
       "            ASIN Additional Features Assembled Height Assembled Length  \\\n",
       "0     B087QRW81Z                 NaN              NaN              NaN   \n",
       "1     B07743412C                 NaN              NaN              NaN   \n",
       "2     B07MTRQ6B3                 NaN              NaN              NaN   \n",
       "3     B087QRW81Z                 NaN              NaN              NaN   \n",
       "4     B072XCZSSW                 NaN              NaN              NaN   \n",
       "...          ...                 ...              ...              ...   \n",
       "6967  B08NC5DSY1                 NaN              NaN              NaN   \n",
       "6968  B0754MN7D3                 NaN              NaN              NaN   \n",
       "6969  B07B24HBXN                 NaN              NaN              NaN   \n",
       "6970  B081SJZX8F                 NaN              NaN              NaN   \n",
       "6971  B08GSS37R7                 NaN              NaN              NaN   \n",
       "\n",
       "     Assembled Width Average Battery Life (in hours) Average Life Batteries  \\\n",
       "0                NaN                             NaN          NaN       NaN   \n",
       "1                NaN                             NaN          NaN       NaN   \n",
       "2                NaN                             NaN          NaN       NaN   \n",
       "3                NaN                             NaN          NaN       NaN   \n",
       "4                NaN                             NaN          NaN       NaN   \n",
       "...              ...                             ...          ...       ...   \n",
       "6967             NaN                             NaN          NaN       NaN   \n",
       "6968             NaN                             NaN          NaN       NaN   \n",
       "6969             NaN                             NaN          NaN       NaN   \n",
       "6970             NaN                             NaN          NaN       NaN   \n",
       "6971             NaN                             NaN          NaN       NaN   \n",
       "\n",
       "     Batteries Included? Batteries Required  ...  \\\n",
       "0                    NaN                NaN  ...   \n",
       "1                    NaN                NaN  ...   \n",
       "2                    NaN                NaN  ...   \n",
       "3                    NaN                NaN  ...   \n",
       "4                    NaN                NaN  ...   \n",
       "...                  ...                ...  ...   \n",
       "6967                 NaN                NaN  ...   \n",
       "6968                 NaN                NaN  ...   \n",
       "6969                 NaN                NaN  ...   \n",
       "6970                 NaN                NaN  ...   \n",
       "6971                 NaN                NaN  ...   \n",
       "\n",
       "     Total Recycled Content Percentage Type of Bulb         Voltage Warranty  \\\n",
       "0                                  NaN          NaN  120 Volts (AC)      NaN   \n",
       "1                                  NaN          NaN  110 Volts (AC)      NaN   \n",
       "2                                  NaN          NaN  120 Volts (AC)      NaN   \n",
       "3                                  NaN          NaN  120 Volts (AC)      NaN   \n",
       "4                                  NaN          NaN       240 Volts      NaN   \n",
       "...                                ...          ...             ...      ...   \n",
       "6967                               NaN          NaN             NaN      NaN   \n",
       "6968                               NaN          NaN             NaN      NaN   \n",
       "6969                               NaN          NaN             NaN      NaN   \n",
       "6970                               NaN          NaN             NaN      NaN   \n",
       "6971                               NaN          NaN             NaN      NaN   \n",
       "\n",
       "     Warranty Description Wattage Weight Wireless Remote Wireless Type  \\\n",
       "0                     NaN     NaN    NaN             NaN           NaN   \n",
       "1                     NaN     NaN    NaN             NaN           NaN   \n",
       "2                     NaN     NaN    NaN             NaN           NaN   \n",
       "3                     NaN     NaN    NaN             NaN           NaN   \n",
       "4                     NaN     NaN    NaN             NaN           NaN   \n",
       "...                   ...     ...    ...             ...           ...   \n",
       "6967                  NaN     NaN    NaN             NaN           NaN   \n",
       "6968                  NaN     NaN    NaN             NaN           NaN   \n",
       "6969                  NaN     NaN    NaN             NaN           NaN   \n",
       "6970                  NaN     NaN    NaN             NaN           NaN   \n",
       "6971                  NaN     NaN    NaN             NaN           NaN   \n",
       "\n",
       "                                                   name  \n",
       "0     Sceptre IPS 24-Inch Business Computer Monitor ...  \n",
       "1     Sceptre 20\" 1600x900 75Hz Ultra Thin LED Monit...  \n",
       "2     Sceptre Curved 27\" 75Hz LED Monitor HDMI VGA B...  \n",
       "3     Sceptre IPS 24-Inch Business Computer Monitor ...  \n",
       "4     BenQ 24 Inch IPS Monitor | 1080P | Proprietary...  \n",
       "...                                                 ...  \n",
       "6967  (5 Pack) 90 Degree Angled 2 Prong to L-Shaped ...  \n",
       "6968  HP Elite 8200 Ultra Slim Desktop PC - Intel Co...  \n",
       "6969  DTECH 15ft DB9 Serial Cable COM Port Male to M...  \n",
       "6970  YES2B 10.1 Inch Laptop Privacy Screen Filter f...  \n",
       "6971  ConnectSense Router Rebooter, Monitors Your In...  \n",
       "\n",
       "[6972 rows x 125 columns]"
      ],
      "text/html": "<div>\n<style scoped>\n    .dataframe tbody tr th:only-of-type {\n        vertical-align: middle;\n    }\n\n    .dataframe tbody tr th {\n        vertical-align: top;\n    }\n\n    .dataframe thead th {\n        text-align: right;\n    }\n</style>\n<table border=\"1\" class=\"dataframe\">\n  <thead>\n    <tr style=\"text-align: right;\">\n      <th></th>\n      <th>ASIN</th>\n      <th>Additional Features</th>\n      <th>Assembled Height</th>\n      <th>Assembled Length</th>\n      <th>Assembled Width</th>\n      <th>Average Battery Life (in hours)</th>\n      <th>Average Life</th>\n      <th>Batteries</th>\n      <th>Batteries Included?</th>\n      <th>Batteries Required</th>\n      <th>...</th>\n      <th>Total Recycled Content Percentage</th>\n      <th>Type of Bulb</th>\n      <th>Voltage</th>\n      <th>Warranty</th>\n      <th>Warranty Description</th>\n      <th>Wattage</th>\n      <th>Weight</th>\n      <th>Wireless Remote</th>\n      <th>Wireless Type</th>\n      <th>name</th>\n    </tr>\n  </thead>\n  <tbody>\n    <tr>\n      <th>0</th>\n      <td>B087QRW81Z</td>\n      <td>NaN</td>\n      <td>NaN</td>\n      <td>NaN</td>\n      <td>NaN</td>\n      <td>NaN</td>\n      <td>NaN</td>\n      <td>NaN</td>\n      <td>NaN</td>\n      <td>NaN</td>\n      <td>...</td>\n      <td>NaN</td>\n      <td>NaN</td>\n      <td>120 Volts (AC)</td>\n      <td>NaN</td>\n      <td>NaN</td>\n      <td>NaN</td>\n      <td>NaN</td>\n      <td>NaN</td>\n      <td>NaN</td>\n      <td>Sceptre IPS 24-Inch Business Computer Monitor ...</td>\n    </tr>\n    <tr>\n      <th>1</th>\n      <td>B07743412C</td>\n      <td>NaN</td>\n      <td>NaN</td>\n      <td>NaN</td>\n      <td>NaN</td>\n      <td>NaN</td>\n      <td>NaN</td>\n      <td>NaN</td>\n      <td>NaN</td>\n      <td>NaN</td>\n      <td>...</td>\n      <td>NaN</td>\n      <td>NaN</td>\n      <td>110 Volts (AC)</td>\n      <td>NaN</td>\n      <td>NaN</td>\n      <td>NaN</td>\n      <td>NaN</td>\n      <td>NaN</td>\n      <td>NaN</td>\n      <td>Sceptre 20\" 1600x900 75Hz Ultra Thin LED Monit...</td>\n    </tr>\n    <tr>\n      <th>2</th>\n      <td>B07MTRQ6B3</td>\n      <td>NaN</td>\n      <td>NaN</td>\n      <td>NaN</td>\n      <td>NaN</td>\n      <td>NaN</td>\n      <td>NaN</td>\n      <td>NaN</td>\n      <td>NaN</td>\n      <td>NaN</td>\n      <td>...</td>\n      <td>NaN</td>\n      <td>NaN</td>\n      <td>120 Volts (AC)</td>\n      <td>NaN</td>\n      <td>NaN</td>\n      <td>NaN</td>\n      <td>NaN</td>\n      <td>NaN</td>\n      <td>NaN</td>\n      <td>Sceptre Curved 27\" 75Hz LED Monitor HDMI VGA B...</td>\n    </tr>\n    <tr>\n      <th>3</th>\n      <td>B087QRW81Z</td>\n      <td>NaN</td>\n      <td>NaN</td>\n      <td>NaN</td>\n      <td>NaN</td>\n      <td>NaN</td>\n      <td>NaN</td>\n      <td>NaN</td>\n      <td>NaN</td>\n      <td>NaN</td>\n      <td>...</td>\n      <td>NaN</td>\n      <td>NaN</td>\n      <td>120 Volts (AC)</td>\n      <td>NaN</td>\n      <td>NaN</td>\n      <td>NaN</td>\n      <td>NaN</td>\n      <td>NaN</td>\n      <td>NaN</td>\n      <td>Sceptre IPS 24-Inch Business Computer Monitor ...</td>\n    </tr>\n    <tr>\n      <th>4</th>\n      <td>B072XCZSSW</td>\n      <td>NaN</td>\n      <td>NaN</td>\n      <td>NaN</td>\n      <td>NaN</td>\n      <td>NaN</td>\n      <td>NaN</td>\n      <td>NaN</td>\n      <td>NaN</td>\n      <td>NaN</td>\n      <td>...</td>\n      <td>NaN</td>\n      <td>NaN</td>\n      <td>240 Volts</td>\n      <td>NaN</td>\n      <td>NaN</td>\n      <td>NaN</td>\n      <td>NaN</td>\n      <td>NaN</td>\n      <td>NaN</td>\n      <td>BenQ 24 Inch IPS Monitor | 1080P | Proprietary...</td>\n    </tr>\n    <tr>\n      <th>...</th>\n      <td>...</td>\n      <td>...</td>\n      <td>...</td>\n      <td>...</td>\n      <td>...</td>\n      <td>...</td>\n      <td>...</td>\n      <td>...</td>\n      <td>...</td>\n      <td>...</td>\n      <td>...</td>\n      <td>...</td>\n      <td>...</td>\n      <td>...</td>\n      <td>...</td>\n      <td>...</td>\n      <td>...</td>\n      <td>...</td>\n      <td>...</td>\n      <td>...</td>\n      <td>...</td>\n    </tr>\n    <tr>\n      <th>6967</th>\n      <td>B08NC5DSY1</td>\n      <td>NaN</td>\n      <td>NaN</td>\n      <td>NaN</td>\n      <td>NaN</td>\n      <td>NaN</td>\n      <td>NaN</td>\n      <td>NaN</td>\n      <td>NaN</td>\n      <td>NaN</td>\n      <td>...</td>\n      <td>NaN</td>\n      <td>NaN</td>\n      <td>NaN</td>\n      <td>NaN</td>\n      <td>NaN</td>\n      <td>NaN</td>\n      <td>NaN</td>\n      <td>NaN</td>\n      <td>NaN</td>\n      <td>(5 Pack) 90 Degree Angled 2 Prong to L-Shaped ...</td>\n    </tr>\n    <tr>\n      <th>6968</th>\n      <td>B0754MN7D3</td>\n      <td>NaN</td>\n      <td>NaN</td>\n      <td>NaN</td>\n      <td>NaN</td>\n      <td>NaN</td>\n      <td>NaN</td>\n      <td>NaN</td>\n      <td>NaN</td>\n      <td>NaN</td>\n      <td>...</td>\n      <td>NaN</td>\n      <td>NaN</td>\n      <td>NaN</td>\n      <td>NaN</td>\n      <td>NaN</td>\n      <td>NaN</td>\n      <td>NaN</td>\n      <td>NaN</td>\n      <td>NaN</td>\n      <td>HP Elite 8200 Ultra Slim Desktop PC - Intel Co...</td>\n    </tr>\n    <tr>\n      <th>6969</th>\n      <td>B07B24HBXN</td>\n      <td>NaN</td>\n      <td>NaN</td>\n      <td>NaN</td>\n      <td>NaN</td>\n      <td>NaN</td>\n      <td>NaN</td>\n      <td>NaN</td>\n      <td>NaN</td>\n      <td>NaN</td>\n      <td>...</td>\n      <td>NaN</td>\n      <td>NaN</td>\n      <td>NaN</td>\n      <td>NaN</td>\n      <td>NaN</td>\n      <td>NaN</td>\n      <td>NaN</td>\n      <td>NaN</td>\n      <td>NaN</td>\n      <td>DTECH 15ft DB9 Serial Cable COM Port Male to M...</td>\n    </tr>\n    <tr>\n      <th>6970</th>\n      <td>B081SJZX8F</td>\n      <td>NaN</td>\n      <td>NaN</td>\n      <td>NaN</td>\n      <td>NaN</td>\n      <td>NaN</td>\n      <td>NaN</td>\n      <td>NaN</td>\n      <td>NaN</td>\n      <td>NaN</td>\n      <td>...</td>\n      <td>NaN</td>\n      <td>NaN</td>\n      <td>NaN</td>\n      <td>NaN</td>\n      <td>NaN</td>\n      <td>NaN</td>\n      <td>NaN</td>\n      <td>NaN</td>\n      <td>NaN</td>\n      <td>YES2B 10.1 Inch Laptop Privacy Screen Filter f...</td>\n    </tr>\n    <tr>\n      <th>6971</th>\n      <td>B08GSS37R7</td>\n      <td>NaN</td>\n      <td>NaN</td>\n      <td>NaN</td>\n      <td>NaN</td>\n      <td>NaN</td>\n      <td>NaN</td>\n      <td>NaN</td>\n      <td>NaN</td>\n      <td>NaN</td>\n      <td>...</td>\n      <td>NaN</td>\n      <td>NaN</td>\n      <td>NaN</td>\n      <td>NaN</td>\n      <td>NaN</td>\n      <td>NaN</td>\n      <td>NaN</td>\n      <td>NaN</td>\n      <td>NaN</td>\n      <td>ConnectSense Router Rebooter, Monitors Your In...</td>\n    </tr>\n  </tbody>\n</table>\n<p>6972 rows × 125 columns</p>\n</div>"
     },
     "metadata": {},
     "execution_count": 395
    }
   ],
   "source": [
    "m_new = merge.groupby(merge.columns,axis=1).first()\n",
    "m_new"
   ]
  },
  {
   "cell_type": "code",
   "execution_count": 396,
   "metadata": {},
   "outputs": [
    {
     "output_type": "execute_result",
     "data": {
      "text/plain": [
       "0       Sceptre\n",
       "1       Sceptre\n",
       "2       Sceptre\n",
       "3       Sceptre\n",
       "4          BenQ\n",
       "         ...   \n",
       "6967        NaN\n",
       "6968         HP\n",
       "6969        NaN\n",
       "6970        NaN\n",
       "6971        NaN\n",
       "Name: Brand, Length: 6972, dtype: object"
      ]
     },
     "metadata": {},
     "execution_count": 396
    }
   ],
   "source": [
    "m_new.Brand"
   ]
  },
  {
   "cell_type": "code",
   "execution_count": 397,
   "metadata": {},
   "outputs": [
    {
     "output_type": "execute_result",
     "data": {
      "text/plain": [
       "ASIN                    559\n",
       "Additional Features    6958\n",
       "Assembled Height       6964\n",
       "Assembled Length       6964\n",
       "Assembled Width        6964\n",
       "                       ... \n",
       "Wattage                6959\n",
       "Weight                 6964\n",
       "Wireless Remote        6971\n",
       "Wireless Type          6840\n",
       "name                     12\n",
       "Length: 125, dtype: int64"
      ]
     },
     "metadata": {},
     "execution_count": 397
    }
   ],
   "source": [
    "m_new.isnull().sum()"
   ]
  },
  {
   "cell_type": "code",
   "execution_count": 398,
   "metadata": {},
   "outputs": [
    {
     "output_type": "stream",
     "name": "stdout",
     "text": [
      "Index(['ASIN', 'Additional Features', 'Assembled Height', 'Assembled Length',\n       'Assembled Width', 'Average Battery Life (in hours)', 'Average Life',\n       'Batteries', 'Batteries Included?', 'Batteries Required',\n       ...\n       'Total Recycled Content Percentage', 'Type of Bulb', 'Voltage',\n       'Warranty', 'Warranty Description', 'Wattage', 'Weight',\n       'Wireless Remote', 'Wireless Type', 'name'],\n      dtype='object', length=125)\n"
     ]
    }
   ],
   "source": [
    "print(m_new.columns)"
   ]
  },
  {
   "cell_type": "code",
   "execution_count": 399,
   "metadata": {},
   "outputs": [
    {
     "output_type": "stream",
     "name": "stdout",
     "text": [
      "ASIN\nAdditional Features\nAssembled Height\nAssembled Length\nAssembled Width\nAverage Battery Life (in hours)\nAverage Life\nBatteries\nBatteries Included?\nBatteries Required\nBatteries Required?\nBatteries required\nBattery Cell Type\nBest Sellers Rank\nBinding\nBrand\nBrand Name\nBulb Features\nCard Description\nCertification\nChipset Brand\nColor\nColor Name\nColor Temperature\nColour\nCompatible Devices\nComputer Memory Type\nConnectivity technologies\nConnector Type\nContains\nCover Included\nCustomer Reviews\nDate First Available\nDepartment\nDisplay resolution\nDisplay size\nDisplay technology\nDomestic Shipping\nExpansion\nFinish Types\nFlash Memory Size\nForm Factor\nGraphics Card Ram Size\nGraphics Coprocessor\nHard Drive Interface\nHard Drive Rotational Speed\nHardware Platform\nHead Style\nImport Designation\nIncluded Components\nInstallation Method\nInternational Shipping\nIs Assembly Required?\nIs Discontinued By Manufacturer\nItem Dimensions  LxWxH\nItem Package Quantity\nItem Weight\nItem display height\nItem model number\nLanguage:\nLight Direction\nLine Size\nManufacturer\nManufacturer Part Number\nManufacturer recommended age\nMaterial\nMaterial Care Instructions\nMaterial Type\nMax Screen Resolution\nMeasurement System\nMemory Speed\nMfg Recommended age\nModel\nModel number\nNational Stock Number\nNetworking Feature\nNumber of Blades\nNumber of Drawers\nNumber of Items\nNumber of Lights\nNumber of Pieces\nNumber of Shelves\nNumber of USB 2.0 Ports\nNumber of USB 3.0 Ports\nOS\nOperating System\nOptical Drive Type\nOther display features\nOutput Wattage\nPackage Dimensions\nPart Number\nPost-Consumer Recycled Content Percentage\nPower Source\nPricing\nProcessor Brand\nProcessor Count\nProduct Dimensions\nRAM\nRear Webcam Resolution\nRelease date\nScanner Resolution\nScreen Resolution\nSeries\nShade Color\nShade Material\nShape\nSize\nSpeaker Amplification Type\nSpecial Features\nSpecific Uses\nSpecification Met\nStanding screen display size\nStyle\nSwitch Installation Type\nSwitch Style\nTotal Recycled Content Percentage\nType of Bulb\nVoltage\nWarranty\nWarranty Description\nWattage\nWeight\nWireless Remote\nWireless Type\nname\n"
     ]
    }
   ],
   "source": [
    "for col_name in m_new.columns:\n",
    "    print(col_name)"
   ]
  },
  {
   "cell_type": "code",
   "execution_count": 400,
   "metadata": {},
   "outputs": [
    {
     "output_type": "execute_result",
     "data": {
      "text/plain": [
       "                                                   name        ASIN    Brand  \\\n",
       "0     Sceptre IPS 24-Inch Business Computer Monitor ...  B087QRW81Z  Sceptre   \n",
       "1     Sceptre 20\" 1600x900 75Hz Ultra Thin LED Monit...  B07743412C  Sceptre   \n",
       "2     Sceptre Curved 27\" 75Hz LED Monitor HDMI VGA B...  B07MTRQ6B3  Sceptre   \n",
       "3     Sceptre IPS 24-Inch Business Computer Monitor ...  B087QRW81Z  Sceptre   \n",
       "4     BenQ 24 Inch IPS Monitor | 1080P | Proprietary...  B072XCZSSW     BenQ   \n",
       "...                                                 ...         ...      ...   \n",
       "6967  (5 Pack) 90 Degree Angled 2 Prong to L-Shaped ...  B08NC5DSY1      NaN   \n",
       "6968  HP Elite 8200 Ultra Slim Desktop PC - Intel Co...  B0754MN7D3       HP   \n",
       "6969  DTECH 15ft DB9 Serial Cable COM Port Male to M...  B07B24HBXN      NaN   \n",
       "6970  YES2B 10.1 Inch Laptop Privacy Screen Filter f...  B081SJZX8F      NaN   \n",
       "6971  ConnectSense Router Rebooter, Monitors Your In...  B08GSS37R7      NaN   \n",
       "\n",
       "                                      Best Sellers Rank  \\\n",
       "0     #765 in Electronics ( See Top 100 in Electroni...   \n",
       "1     #63 in Electronics ( See Top 100 in Electronic...   \n",
       "2     #138 in Electronics ( See Top 100 in Electroni...   \n",
       "3     #765 in Electronics ( See Top 100 in Electroni...   \n",
       "4     #493 in Electronics ( See Top 100 in Electroni...   \n",
       "...                                                 ...   \n",
       "6967                                                NaN   \n",
       "6968  #1,608 in Computers & Accessories ( See Top 10...   \n",
       "6969                               #91 in Serial Cables   \n",
       "6970  #38,412 in Computers & Accessories ( See Top 1...   \n",
       "6971                                                NaN   \n",
       "\n",
       "               Product Dimensions         Package Dimensions  Item Weight  \\\n",
       "0     21.25 x 7.03 x 15.53 inches                        NaN  6.02 pounds   \n",
       "1     18.35 x 7.17 x 13.58 inches                        NaN  4.43 pounds   \n",
       "2     24.27 x 9.01 x 17.69 inches                        NaN   8.6 pounds   \n",
       "3     21.25 x 7.03 x 15.53 inches                        NaN  6.02 pounds   \n",
       "4      16.54 x 6.9 x 21.26 inches                        NaN   8.4 pounds   \n",
       "...                           ...                        ...          ...   \n",
       "6967                          NaN   9.8 x 6.22 x 2.91 inches  1.03 pounds   \n",
       "6968        10 x 9.9 x 2.6 inches                        NaN   6.8 pounds   \n",
       "6969                          NaN  8.98 x 7.13 x 1.18 inches   9.7 ounces   \n",
       "6970     5.12 x 8.7 x 0.01 inches                        NaN   6.4 ounces   \n",
       "6971                          NaN  6.61 x 6.38 x 2.32 inches  14.4 ounces   \n",
       "\n",
       "     Date First Available Is Discontinued By Manufacturer Item model number  \\\n",
       "0             May 1, 2020                             NaN         E248W-FPT   \n",
       "1        November 1, 2017                              No      E205W-16003R   \n",
       "2        January 11, 2019                              No      C275W-1920RN   \n",
       "3             May 1, 2020                             NaN         E248W-FPT   \n",
       "4          August 2, 2017                              No            GW2480   \n",
       "...                   ...                             ...               ...   \n",
       "6967                                                  NaN        5pk, 10pk,   \n",
       "6968      August 25, 2017                             NaN        Elite 8200   \n",
       "6969       March 24, 2018                              No               NaN   \n",
       "6970    November 20, 2019                             NaN               NaN   \n",
       "6971      August 27, 2020                             NaN               NaN   \n",
       "\n",
       "      ... Item Package Quantity           Color Number of USB 2.0 Ports  \\\n",
       "0     ...                   NaN   Machine Black                     NaN   \n",
       "1     ...                   NaN  Metallic Black                     NaN   \n",
       "2     ...                   NaN     Metal Black                     NaN   \n",
       "3     ...                   NaN   Machine Black                     NaN   \n",
       "4     ...                   NaN           Black                     NaN   \n",
       "...   ...                   ...             ...                     ...   \n",
       "6967  ...                   NaN             NaN                     NaN   \n",
       "6968  ...                   NaN             NaN                      10   \n",
       "6969  ...                   NaN             NaN                           \n",
       "6970  ...                   NaN             NaN                           \n",
       "6971  ...                   NaN             NaN                           \n",
       "\n",
       "     Number of USB 3.0 Ports Memory Speed Graphics Coprocessor  \\\n",
       "0                        NaN          NaN                  NaN   \n",
       "1                        NaN          NaN                  NaN   \n",
       "2                        NaN          NaN                  NaN   \n",
       "3                        NaN          NaN                  NaN   \n",
       "4                        NaN          NaN                  NaN   \n",
       "...                      ...          ...                  ...   \n",
       "6967                     NaN          NaN                  NaN   \n",
       "6968                     NaN          NaN    Intel HD Graphics   \n",
       "6969                     NaN          NaN                  NaN   \n",
       "6970                     NaN          NaN                  NaN   \n",
       "6971                     NaN          NaN                  NaN   \n",
       "\n",
       "     Computer Memory Type Average Battery Life (in hours)  \\\n",
       "0                     NaN                             NaN   \n",
       "1                     NaN                             NaN   \n",
       "2                     NaN                             NaN   \n",
       "3                     NaN                             NaN   \n",
       "4                     NaN                             NaN   \n",
       "...                   ...                             ...   \n",
       "6967                  NaN                             NaN   \n",
       "6968               SODIMM                             NaN   \n",
       "6969                  NaN                             NaN   \n",
       "6970                  NaN                             NaN   \n",
       "6971                  NaN                             NaN   \n",
       "\n",
       "     Graphics Card Ram Size Processor Count  \n",
       "0                       NaN             NaN  \n",
       "1                       NaN             NaN  \n",
       "2                       NaN             NaN  \n",
       "3                       NaN             NaN  \n",
       "4                       NaN             NaN  \n",
       "...                     ...             ...  \n",
       "6967                    NaN             NaN  \n",
       "6968                    NaN               1  \n",
       "6969                    NaN             NaN  \n",
       "6970                    NaN             NaN  \n",
       "6971                    NaN             NaN  \n",
       "\n",
       "[6972 rows x 31 columns]"
      ],
      "text/html": "<div>\n<style scoped>\n    .dataframe tbody tr th:only-of-type {\n        vertical-align: middle;\n    }\n\n    .dataframe tbody tr th {\n        vertical-align: top;\n    }\n\n    .dataframe thead th {\n        text-align: right;\n    }\n</style>\n<table border=\"1\" class=\"dataframe\">\n  <thead>\n    <tr style=\"text-align: right;\">\n      <th></th>\n      <th>name</th>\n      <th>ASIN</th>\n      <th>Brand</th>\n      <th>Best Sellers Rank</th>\n      <th>Product Dimensions</th>\n      <th>Package Dimensions</th>\n      <th>Item Weight</th>\n      <th>Date First Available</th>\n      <th>Is Discontinued By Manufacturer</th>\n      <th>Item model number</th>\n      <th>...</th>\n      <th>Item Package Quantity</th>\n      <th>Color</th>\n      <th>Number of USB 2.0 Ports</th>\n      <th>Number of USB 3.0 Ports</th>\n      <th>Memory Speed</th>\n      <th>Graphics Coprocessor</th>\n      <th>Computer Memory Type</th>\n      <th>Average Battery Life (in hours)</th>\n      <th>Graphics Card Ram Size</th>\n      <th>Processor Count</th>\n    </tr>\n  </thead>\n  <tbody>\n    <tr>\n      <th>0</th>\n      <td>Sceptre IPS 24-Inch Business Computer Monitor ...</td>\n      <td>B087QRW81Z</td>\n      <td>Sceptre</td>\n      <td>#765 in Electronics ( See Top 100 in Electroni...</td>\n      <td>21.25 x 7.03 x 15.53 inches</td>\n      <td>NaN</td>\n      <td>6.02 pounds</td>\n      <td>May 1, 2020</td>\n      <td>NaN</td>\n      <td>E248W-FPT</td>\n      <td>...</td>\n      <td>NaN</td>\n      <td>Machine Black</td>\n      <td>NaN</td>\n      <td>NaN</td>\n      <td>NaN</td>\n      <td>NaN</td>\n      <td>NaN</td>\n      <td>NaN</td>\n      <td>NaN</td>\n      <td>NaN</td>\n    </tr>\n    <tr>\n      <th>1</th>\n      <td>Sceptre 20\" 1600x900 75Hz Ultra Thin LED Monit...</td>\n      <td>B07743412C</td>\n      <td>Sceptre</td>\n      <td>#63 in Electronics ( See Top 100 in Electronic...</td>\n      <td>18.35 x 7.17 x 13.58 inches</td>\n      <td>NaN</td>\n      <td>4.43 pounds</td>\n      <td>November 1, 2017</td>\n      <td>No</td>\n      <td>E205W-16003R</td>\n      <td>...</td>\n      <td>NaN</td>\n      <td>Metallic Black</td>\n      <td>NaN</td>\n      <td>NaN</td>\n      <td>NaN</td>\n      <td>NaN</td>\n      <td>NaN</td>\n      <td>NaN</td>\n      <td>NaN</td>\n      <td>NaN</td>\n    </tr>\n    <tr>\n      <th>2</th>\n      <td>Sceptre Curved 27\" 75Hz LED Monitor HDMI VGA B...</td>\n      <td>B07MTRQ6B3</td>\n      <td>Sceptre</td>\n      <td>#138 in Electronics ( See Top 100 in Electroni...</td>\n      <td>24.27 x 9.01 x 17.69 inches</td>\n      <td>NaN</td>\n      <td>8.6 pounds</td>\n      <td>January 11, 2019</td>\n      <td>No</td>\n      <td>C275W-1920RN</td>\n      <td>...</td>\n      <td>NaN</td>\n      <td>Metal Black</td>\n      <td>NaN</td>\n      <td>NaN</td>\n      <td>NaN</td>\n      <td>NaN</td>\n      <td>NaN</td>\n      <td>NaN</td>\n      <td>NaN</td>\n      <td>NaN</td>\n    </tr>\n    <tr>\n      <th>3</th>\n      <td>Sceptre IPS 24-Inch Business Computer Monitor ...</td>\n      <td>B087QRW81Z</td>\n      <td>Sceptre</td>\n      <td>#765 in Electronics ( See Top 100 in Electroni...</td>\n      <td>21.25 x 7.03 x 15.53 inches</td>\n      <td>NaN</td>\n      <td>6.02 pounds</td>\n      <td>May 1, 2020</td>\n      <td>NaN</td>\n      <td>E248W-FPT</td>\n      <td>...</td>\n      <td>NaN</td>\n      <td>Machine Black</td>\n      <td>NaN</td>\n      <td>NaN</td>\n      <td>NaN</td>\n      <td>NaN</td>\n      <td>NaN</td>\n      <td>NaN</td>\n      <td>NaN</td>\n      <td>NaN</td>\n    </tr>\n    <tr>\n      <th>4</th>\n      <td>BenQ 24 Inch IPS Monitor | 1080P | Proprietary...</td>\n      <td>B072XCZSSW</td>\n      <td>BenQ</td>\n      <td>#493 in Electronics ( See Top 100 in Electroni...</td>\n      <td>16.54 x 6.9 x 21.26 inches</td>\n      <td>NaN</td>\n      <td>8.4 pounds</td>\n      <td>August 2, 2017</td>\n      <td>No</td>\n      <td>GW2480</td>\n      <td>...</td>\n      <td>NaN</td>\n      <td>Black</td>\n      <td>NaN</td>\n      <td>NaN</td>\n      <td>NaN</td>\n      <td>NaN</td>\n      <td>NaN</td>\n      <td>NaN</td>\n      <td>NaN</td>\n      <td>NaN</td>\n    </tr>\n    <tr>\n      <th>...</th>\n      <td>...</td>\n      <td>...</td>\n      <td>...</td>\n      <td>...</td>\n      <td>...</td>\n      <td>...</td>\n      <td>...</td>\n      <td>...</td>\n      <td>...</td>\n      <td>...</td>\n      <td>...</td>\n      <td>...</td>\n      <td>...</td>\n      <td>...</td>\n      <td>...</td>\n      <td>...</td>\n      <td>...</td>\n      <td>...</td>\n      <td>...</td>\n      <td>...</td>\n      <td>...</td>\n    </tr>\n    <tr>\n      <th>6967</th>\n      <td>(5 Pack) 90 Degree Angled 2 Prong to L-Shaped ...</td>\n      <td>B08NC5DSY1</td>\n      <td>NaN</td>\n      <td>NaN</td>\n      <td>NaN</td>\n      <td>9.8 x 6.22 x 2.91 inches</td>\n      <td>1.03 pounds</td>\n      <td></td>\n      <td>NaN</td>\n      <td>5pk, 10pk,</td>\n      <td>...</td>\n      <td>NaN</td>\n      <td>NaN</td>\n      <td>NaN</td>\n      <td>NaN</td>\n      <td>NaN</td>\n      <td>NaN</td>\n      <td>NaN</td>\n      <td>NaN</td>\n      <td>NaN</td>\n      <td>NaN</td>\n    </tr>\n    <tr>\n      <th>6968</th>\n      <td>HP Elite 8200 Ultra Slim Desktop PC - Intel Co...</td>\n      <td>B0754MN7D3</td>\n      <td>HP</td>\n      <td>#1,608 in Computers &amp; Accessories ( See Top 10...</td>\n      <td>10 x 9.9 x 2.6 inches</td>\n      <td>NaN</td>\n      <td>6.8 pounds</td>\n      <td>August 25, 2017</td>\n      <td>NaN</td>\n      <td>Elite 8200</td>\n      <td>...</td>\n      <td>NaN</td>\n      <td>NaN</td>\n      <td>10</td>\n      <td>NaN</td>\n      <td>NaN</td>\n      <td>Intel HD Graphics</td>\n      <td>SODIMM</td>\n      <td>NaN</td>\n      <td>NaN</td>\n      <td>1</td>\n    </tr>\n    <tr>\n      <th>6969</th>\n      <td>DTECH 15ft DB9 Serial Cable COM Port Male to M...</td>\n      <td>B07B24HBXN</td>\n      <td>NaN</td>\n      <td>#91 in Serial Cables</td>\n      <td>NaN</td>\n      <td>8.98 x 7.13 x 1.18 inches</td>\n      <td>9.7 ounces</td>\n      <td>March 24, 2018</td>\n      <td>No</td>\n      <td>NaN</td>\n      <td>...</td>\n      <td>NaN</td>\n      <td>NaN</td>\n      <td></td>\n      <td>NaN</td>\n      <td>NaN</td>\n      <td>NaN</td>\n      <td>NaN</td>\n      <td>NaN</td>\n      <td>NaN</td>\n      <td>NaN</td>\n    </tr>\n    <tr>\n      <th>6970</th>\n      <td>YES2B 10.1 Inch Laptop Privacy Screen Filter f...</td>\n      <td>B081SJZX8F</td>\n      <td>NaN</td>\n      <td>#38,412 in Computers &amp; Accessories ( See Top 1...</td>\n      <td>5.12 x 8.7 x 0.01 inches</td>\n      <td>NaN</td>\n      <td>6.4 ounces</td>\n      <td>November 20, 2019</td>\n      <td>NaN</td>\n      <td>NaN</td>\n      <td>...</td>\n      <td>NaN</td>\n      <td>NaN</td>\n      <td></td>\n      <td>NaN</td>\n      <td>NaN</td>\n      <td>NaN</td>\n      <td>NaN</td>\n      <td>NaN</td>\n      <td>NaN</td>\n      <td>NaN</td>\n    </tr>\n    <tr>\n      <th>6971</th>\n      <td>ConnectSense Router Rebooter, Monitors Your In...</td>\n      <td>B08GSS37R7</td>\n      <td>NaN</td>\n      <td>NaN</td>\n      <td>NaN</td>\n      <td>6.61 x 6.38 x 2.32 inches</td>\n      <td>14.4 ounces</td>\n      <td>August 27, 2020</td>\n      <td>NaN</td>\n      <td>NaN</td>\n      <td>...</td>\n      <td>NaN</td>\n      <td>NaN</td>\n      <td></td>\n      <td>NaN</td>\n      <td>NaN</td>\n      <td>NaN</td>\n      <td>NaN</td>\n      <td>NaN</td>\n      <td>NaN</td>\n      <td>NaN</td>\n    </tr>\n  </tbody>\n</table>\n<p>6972 rows × 31 columns</p>\n</div>"
     },
     "metadata": {},
     "execution_count": 400
    }
   ],
   "source": [
    "final = m_new[['name','ASIN', 'Brand','Best Sellers Rank', 'Product Dimensions','Package Dimensions','Item Weight','Date First Available','Is Discontinued By Manufacturer', 'Item model number','Batteries','Card Description','Voltage', 'Series','National Stock Number','Chipset Brand', 'Batteries Required?', 'Wireless Type', 'Standing screen display size', 'Max Screen Resolution', 'Part Number', 'Item Package Quantity', 'Color', 'Number of USB 2.0 Ports', 'Number of USB 3.0 Ports', 'Memory Speed', 'Graphics Coprocessor',  'Computer Memory Type', 'Average Battery Life (in hours)', 'Graphics Card Ram Size', 'Processor Count' ]]\n",
    "final"
   ]
  },
  {
   "cell_type": "code",
   "execution_count": 401,
   "metadata": {},
   "outputs": [],
   "source": [
    "# final_d = final[final.duplicated(subset= ['ASIN'])]\n",
    "# final_d"
   ]
  },
  {
   "cell_type": "code",
   "execution_count": 402,
   "metadata": {},
   "outputs": [
    {
     "output_type": "execute_result",
     "data": {
      "text/plain": [
       "                                                   name        ASIN    Brand  \\\n",
       "1     Sceptre 20\" 1600x900 75Hz Ultra Thin LED Monit...  B07743412C  Sceptre   \n",
       "2     Sceptre Curved 27\" 75Hz LED Monitor HDMI VGA B...  B07MTRQ6B3  Sceptre   \n",
       "4     BenQ 24 Inch IPS Monitor | 1080P | Proprietary...  B072XCZSSW     BenQ   \n",
       "5             LG 24M47VQ 24-Inch LED-lit Monitor, Black  B00W95RR32       LG   \n",
       "6     Acer R240HY bidx 23.8-Inch IPS HDMI DVI VGA (1...  B0148NNKTC     Acer   \n",
       "...                                                 ...         ...      ...   \n",
       "6964  Apple MacBook Compatible – Premium Black Priva...  B06XT2J985      NaN   \n",
       "6965  Besign Adjustable Laptop Stand, Ergonomic Rise...  B07RQ89Y8G   BESIGN   \n",
       "6967  (5 Pack) 90 Degree Angled 2 Prong to L-Shaped ...  B08NC5DSY1      NaN   \n",
       "6968  HP Elite 8200 Ultra Slim Desktop PC - Intel Co...  B0754MN7D3       HP   \n",
       "6969  DTECH 15ft DB9 Serial Cable COM Port Male to M...  B07B24HBXN      NaN   \n",
       "\n",
       "                                      Best Sellers Rank  \\\n",
       "1     #63 in Electronics ( See Top 100 in Electronic...   \n",
       "2     #138 in Electronics ( See Top 100 in Electroni...   \n",
       "4     #493 in Electronics ( See Top 100 in Electroni...   \n",
       "5     #145 in Electronics ( See Top 100 in Electroni...   \n",
       "6     #279 in Electronics ( See Top 100 in Electroni...   \n",
       "...                                                 ...   \n",
       "6964       #204 in Monitor Anti-Glare & Privacy Filters   \n",
       "6965  #6,516 in Office Products ( See Top 100 in Off...   \n",
       "6967                                                NaN   \n",
       "6968  #1,608 in Computers & Accessories ( See Top 10...   \n",
       "6969                               #91 in Serial Cables   \n",
       "\n",
       "                Product Dimensions         Package Dimensions  Item Weight  \\\n",
       "1      18.35 x 7.17 x 13.58 inches                        NaN  4.43 pounds   \n",
       "2      24.27 x 9.01 x 17.69 inches                        NaN   8.6 pounds   \n",
       "4       16.54 x 6.9 x 21.26 inches                        NaN   8.4 pounds   \n",
       "5         21.9 x 7.8 x 17.2 inches                        NaN   6.2 pounds   \n",
       "6           21.3 x 7.3 x 16 inches                        NaN   6.4 pounds   \n",
       "...                            ...                        ...          ...   \n",
       "6964   16.14 x 10.24 x 0.39 inches                        NaN   4.9 ounces   \n",
       "6965  10.63 x 10.63 x 10.63 inches                        NaN  1.45 pounds   \n",
       "6967                           NaN   9.8 x 6.22 x 2.91 inches  1.03 pounds   \n",
       "6968         10 x 9.9 x 2.6 inches                        NaN   6.8 pounds   \n",
       "6969                           NaN  8.98 x 7.13 x 1.18 inches   9.7 ounces   \n",
       "\n",
       "     Date First Available Is Discontinued By Manufacturer Item model number  \\\n",
       "1        November 1, 2017                              No      E205W-16003R   \n",
       "2        January 11, 2019                              No      C275W-1920RN   \n",
       "4          August 2, 2017                              No            GW2480   \n",
       "5           April 9, 2015                              No           24M47VQ   \n",
       "6       September 6, 2015                              No       R240HY bidx   \n",
       "...                   ...                             ...               ...   \n",
       "6964                                                   No          APNA2007   \n",
       "6965                                                  NaN               NaN   \n",
       "6967                                                  NaN        5pk, 10pk,   \n",
       "6968      August 25, 2017                             NaN        Elite 8200   \n",
       "6969       March 24, 2018                              No               NaN   \n",
       "\n",
       "      ... Item Package Quantity           Color Number of USB 2.0 Ports  \\\n",
       "1     ...                   NaN  Metallic Black                     NaN   \n",
       "2     ...                   NaN     Metal Black                     NaN   \n",
       "4     ...                   NaN           Black                     NaN   \n",
       "5     ...                   NaN           Black                     NaN   \n",
       "6     ...                   NaN           Black                     NaN   \n",
       "...   ...                   ...             ...                     ...   \n",
       "6964  ...                   NaN             NaN                     NaN   \n",
       "6965  ...                   NaN           Black                     NaN   \n",
       "6967  ...                   NaN             NaN                     NaN   \n",
       "6968  ...                   NaN             NaN                      10   \n",
       "6969  ...                   NaN             NaN                           \n",
       "\n",
       "     Number of USB 3.0 Ports Memory Speed Graphics Coprocessor  \\\n",
       "1                        NaN          NaN                  NaN   \n",
       "2                        NaN          NaN                  NaN   \n",
       "4                        NaN          NaN                  NaN   \n",
       "5                        NaN          NaN                  NaN   \n",
       "6                        NaN          NaN                  NaN   \n",
       "...                      ...          ...                  ...   \n",
       "6964                     NaN          NaN                  NaN   \n",
       "6965                     NaN          NaN                  NaN   \n",
       "6967                     NaN          NaN                  NaN   \n",
       "6968                     NaN          NaN    Intel HD Graphics   \n",
       "6969                     NaN          NaN                  NaN   \n",
       "\n",
       "     Computer Memory Type Average Battery Life (in hours)  \\\n",
       "1                     NaN                             NaN   \n",
       "2                     NaN                             NaN   \n",
       "4                     NaN                             NaN   \n",
       "5                     NaN                             NaN   \n",
       "6                     NaN                             NaN   \n",
       "...                   ...                             ...   \n",
       "6964                  NaN                             NaN   \n",
       "6965                  NaN                             NaN   \n",
       "6967                  NaN                             NaN   \n",
       "6968               SODIMM                             NaN   \n",
       "6969                  NaN                             NaN   \n",
       "\n",
       "     Graphics Card Ram Size Processor Count  \n",
       "1                       NaN             NaN  \n",
       "2                       NaN             NaN  \n",
       "4                       NaN             NaN  \n",
       "5                       NaN             NaN  \n",
       "6                       NaN             NaN  \n",
       "...                     ...             ...  \n",
       "6964                    NaN             NaN  \n",
       "6965                    NaN             NaN  \n",
       "6967                    NaN             NaN  \n",
       "6968                    NaN               1  \n",
       "6969                    NaN             NaN  \n",
       "\n",
       "[2992 rows x 31 columns]"
      ],
      "text/html": "<div>\n<style scoped>\n    .dataframe tbody tr th:only-of-type {\n        vertical-align: middle;\n    }\n\n    .dataframe tbody tr th {\n        vertical-align: top;\n    }\n\n    .dataframe thead th {\n        text-align: right;\n    }\n</style>\n<table border=\"1\" class=\"dataframe\">\n  <thead>\n    <tr style=\"text-align: right;\">\n      <th></th>\n      <th>name</th>\n      <th>ASIN</th>\n      <th>Brand</th>\n      <th>Best Sellers Rank</th>\n      <th>Product Dimensions</th>\n      <th>Package Dimensions</th>\n      <th>Item Weight</th>\n      <th>Date First Available</th>\n      <th>Is Discontinued By Manufacturer</th>\n      <th>Item model number</th>\n      <th>...</th>\n      <th>Item Package Quantity</th>\n      <th>Color</th>\n      <th>Number of USB 2.0 Ports</th>\n      <th>Number of USB 3.0 Ports</th>\n      <th>Memory Speed</th>\n      <th>Graphics Coprocessor</th>\n      <th>Computer Memory Type</th>\n      <th>Average Battery Life (in hours)</th>\n      <th>Graphics Card Ram Size</th>\n      <th>Processor Count</th>\n    </tr>\n  </thead>\n  <tbody>\n    <tr>\n      <th>1</th>\n      <td>Sceptre 20\" 1600x900 75Hz Ultra Thin LED Monit...</td>\n      <td>B07743412C</td>\n      <td>Sceptre</td>\n      <td>#63 in Electronics ( See Top 100 in Electronic...</td>\n      <td>18.35 x 7.17 x 13.58 inches</td>\n      <td>NaN</td>\n      <td>4.43 pounds</td>\n      <td>November 1, 2017</td>\n      <td>No</td>\n      <td>E205W-16003R</td>\n      <td>...</td>\n      <td>NaN</td>\n      <td>Metallic Black</td>\n      <td>NaN</td>\n      <td>NaN</td>\n      <td>NaN</td>\n      <td>NaN</td>\n      <td>NaN</td>\n      <td>NaN</td>\n      <td>NaN</td>\n      <td>NaN</td>\n    </tr>\n    <tr>\n      <th>2</th>\n      <td>Sceptre Curved 27\" 75Hz LED Monitor HDMI VGA B...</td>\n      <td>B07MTRQ6B3</td>\n      <td>Sceptre</td>\n      <td>#138 in Electronics ( See Top 100 in Electroni...</td>\n      <td>24.27 x 9.01 x 17.69 inches</td>\n      <td>NaN</td>\n      <td>8.6 pounds</td>\n      <td>January 11, 2019</td>\n      <td>No</td>\n      <td>C275W-1920RN</td>\n      <td>...</td>\n      <td>NaN</td>\n      <td>Metal Black</td>\n      <td>NaN</td>\n      <td>NaN</td>\n      <td>NaN</td>\n      <td>NaN</td>\n      <td>NaN</td>\n      <td>NaN</td>\n      <td>NaN</td>\n      <td>NaN</td>\n    </tr>\n    <tr>\n      <th>4</th>\n      <td>BenQ 24 Inch IPS Monitor | 1080P | Proprietary...</td>\n      <td>B072XCZSSW</td>\n      <td>BenQ</td>\n      <td>#493 in Electronics ( See Top 100 in Electroni...</td>\n      <td>16.54 x 6.9 x 21.26 inches</td>\n      <td>NaN</td>\n      <td>8.4 pounds</td>\n      <td>August 2, 2017</td>\n      <td>No</td>\n      <td>GW2480</td>\n      <td>...</td>\n      <td>NaN</td>\n      <td>Black</td>\n      <td>NaN</td>\n      <td>NaN</td>\n      <td>NaN</td>\n      <td>NaN</td>\n      <td>NaN</td>\n      <td>NaN</td>\n      <td>NaN</td>\n      <td>NaN</td>\n    </tr>\n    <tr>\n      <th>5</th>\n      <td>LG 24M47VQ 24-Inch LED-lit Monitor, Black</td>\n      <td>B00W95RR32</td>\n      <td>LG</td>\n      <td>#145 in Electronics ( See Top 100 in Electroni...</td>\n      <td>21.9 x 7.8 x 17.2 inches</td>\n      <td>NaN</td>\n      <td>6.2 pounds</td>\n      <td>April 9, 2015</td>\n      <td>No</td>\n      <td>24M47VQ</td>\n      <td>...</td>\n      <td>NaN</td>\n      <td>Black</td>\n      <td>NaN</td>\n      <td>NaN</td>\n      <td>NaN</td>\n      <td>NaN</td>\n      <td>NaN</td>\n      <td>NaN</td>\n      <td>NaN</td>\n      <td>NaN</td>\n    </tr>\n    <tr>\n      <th>6</th>\n      <td>Acer R240HY bidx 23.8-Inch IPS HDMI DVI VGA (1...</td>\n      <td>B0148NNKTC</td>\n      <td>Acer</td>\n      <td>#279 in Electronics ( See Top 100 in Electroni...</td>\n      <td>21.3 x 7.3 x 16 inches</td>\n      <td>NaN</td>\n      <td>6.4 pounds</td>\n      <td>September 6, 2015</td>\n      <td>No</td>\n      <td>R240HY bidx</td>\n      <td>...</td>\n      <td>NaN</td>\n      <td>Black</td>\n      <td>NaN</td>\n      <td>NaN</td>\n      <td>NaN</td>\n      <td>NaN</td>\n      <td>NaN</td>\n      <td>NaN</td>\n      <td>NaN</td>\n      <td>NaN</td>\n    </tr>\n    <tr>\n      <th>...</th>\n      <td>...</td>\n      <td>...</td>\n      <td>...</td>\n      <td>...</td>\n      <td>...</td>\n      <td>...</td>\n      <td>...</td>\n      <td>...</td>\n      <td>...</td>\n      <td>...</td>\n      <td>...</td>\n      <td>...</td>\n      <td>...</td>\n      <td>...</td>\n      <td>...</td>\n      <td>...</td>\n      <td>...</td>\n      <td>...</td>\n      <td>...</td>\n      <td>...</td>\n      <td>...</td>\n    </tr>\n    <tr>\n      <th>6964</th>\n      <td>Apple MacBook Compatible – Premium Black Priva...</td>\n      <td>B06XT2J985</td>\n      <td>NaN</td>\n      <td>#204 in Monitor Anti-Glare &amp; Privacy Filters</td>\n      <td>16.14 x 10.24 x 0.39 inches</td>\n      <td>NaN</td>\n      <td>4.9 ounces</td>\n      <td></td>\n      <td>No</td>\n      <td>APNA2007</td>\n      <td>...</td>\n      <td>NaN</td>\n      <td>NaN</td>\n      <td>NaN</td>\n      <td>NaN</td>\n      <td>NaN</td>\n      <td>NaN</td>\n      <td>NaN</td>\n      <td>NaN</td>\n      <td>NaN</td>\n      <td>NaN</td>\n    </tr>\n    <tr>\n      <th>6965</th>\n      <td>Besign Adjustable Laptop Stand, Ergonomic Rise...</td>\n      <td>B07RQ89Y8G</td>\n      <td>BESIGN</td>\n      <td>#6,516 in Office Products ( See Top 100 in Off...</td>\n      <td>10.63 x 10.63 x 10.63 inches</td>\n      <td>NaN</td>\n      <td>1.45 pounds</td>\n      <td></td>\n      <td>NaN</td>\n      <td>NaN</td>\n      <td>...</td>\n      <td>NaN</td>\n      <td>Black</td>\n      <td>NaN</td>\n      <td>NaN</td>\n      <td>NaN</td>\n      <td>NaN</td>\n      <td>NaN</td>\n      <td>NaN</td>\n      <td>NaN</td>\n      <td>NaN</td>\n    </tr>\n    <tr>\n      <th>6967</th>\n      <td>(5 Pack) 90 Degree Angled 2 Prong to L-Shaped ...</td>\n      <td>B08NC5DSY1</td>\n      <td>NaN</td>\n      <td>NaN</td>\n      <td>NaN</td>\n      <td>9.8 x 6.22 x 2.91 inches</td>\n      <td>1.03 pounds</td>\n      <td></td>\n      <td>NaN</td>\n      <td>5pk, 10pk,</td>\n      <td>...</td>\n      <td>NaN</td>\n      <td>NaN</td>\n      <td>NaN</td>\n      <td>NaN</td>\n      <td>NaN</td>\n      <td>NaN</td>\n      <td>NaN</td>\n      <td>NaN</td>\n      <td>NaN</td>\n      <td>NaN</td>\n    </tr>\n    <tr>\n      <th>6968</th>\n      <td>HP Elite 8200 Ultra Slim Desktop PC - Intel Co...</td>\n      <td>B0754MN7D3</td>\n      <td>HP</td>\n      <td>#1,608 in Computers &amp; Accessories ( See Top 10...</td>\n      <td>10 x 9.9 x 2.6 inches</td>\n      <td>NaN</td>\n      <td>6.8 pounds</td>\n      <td>August 25, 2017</td>\n      <td>NaN</td>\n      <td>Elite 8200</td>\n      <td>...</td>\n      <td>NaN</td>\n      <td>NaN</td>\n      <td>10</td>\n      <td>NaN</td>\n      <td>NaN</td>\n      <td>Intel HD Graphics</td>\n      <td>SODIMM</td>\n      <td>NaN</td>\n      <td>NaN</td>\n      <td>1</td>\n    </tr>\n    <tr>\n      <th>6969</th>\n      <td>DTECH 15ft DB9 Serial Cable COM Port Male to M...</td>\n      <td>B07B24HBXN</td>\n      <td>NaN</td>\n      <td>#91 in Serial Cables</td>\n      <td>NaN</td>\n      <td>8.98 x 7.13 x 1.18 inches</td>\n      <td>9.7 ounces</td>\n      <td>March 24, 2018</td>\n      <td>No</td>\n      <td>NaN</td>\n      <td>...</td>\n      <td>NaN</td>\n      <td>NaN</td>\n      <td></td>\n      <td>NaN</td>\n      <td>NaN</td>\n      <td>NaN</td>\n      <td>NaN</td>\n      <td>NaN</td>\n      <td>NaN</td>\n      <td>NaN</td>\n    </tr>\n  </tbody>\n</table>\n<p>2992 rows × 31 columns</p>\n</div>"
     },
     "metadata": {},
     "execution_count": 402
    }
   ],
   "source": [
    "final.drop_duplicates(subset =\"ASIN\",keep = False, inplace = True) \n",
    "final"
   ]
  },
  {
   "cell_type": "code",
   "execution_count": 403,
   "metadata": {},
   "outputs": [
    {
     "output_type": "execute_result",
     "data": {
      "text/plain": [
       "name                                  1\n",
       "ASIN                                  0\n",
       "Brand                              1828\n",
       "Best Sellers Rank                    61\n",
       "Product Dimensions                 1214\n",
       "Package Dimensions                 1777\n",
       "Item Weight                           2\n",
       "Date First Available                  1\n",
       "Is Discontinued By Manufacturer    1767\n",
       "Item model number                  1158\n",
       "Batteries                          2836\n",
       "Card Description                   2955\n",
       "Voltage                            2806\n",
       "Series                             2600\n",
       "National Stock Number              2981\n",
       "Chipset Brand                      2973\n",
       "Batteries Required?                2960\n",
       "Wireless Type                      2904\n",
       "Standing screen display size       2376\n",
       "Max Screen Resolution              2228\n",
       "Part Number                        2978\n",
       "Item Package Quantity              2987\n",
       "Color                              2077\n",
       "Number of USB 2.0 Ports            2865\n",
       "Number of USB 3.0 Ports            2881\n",
       "Memory Speed                       2968\n",
       "Graphics Coprocessor               2934\n",
       "Computer Memory Type               2921\n",
       "Average Battery Life (in hours)    2980\n",
       "Graphics Card Ram Size             2958\n",
       "Processor Count                    2904\n",
       "dtype: int64"
      ]
     },
     "metadata": {},
     "execution_count": 403
    }
   ],
   "source": [
    "final.isnull().sum()"
   ]
  },
  {
   "cell_type": "code",
   "execution_count": 404,
   "metadata": {},
   "outputs": [],
   "source": [
    "# final_d1 = final_d[final_d.duplicated(subset= ['name'])]\n",
    "# final_d1"
   ]
  },
  {
   "cell_type": "code",
   "execution_count": 405,
   "metadata": {},
   "outputs": [],
   "source": [
    "# final_d1.drop_duplicates(subset =\"name\",keep = False, inplace = True) \n",
    "# final_d1"
   ]
  },
  {
   "cell_type": "code",
   "execution_count": 406,
   "metadata": {},
   "outputs": [
    {
     "output_type": "execute_result",
     "data": {
      "text/plain": [
       "                                                   name        ASIN    Brand  \\\n",
       "0     Sceptre 20\" 1600x900 75Hz Ultra Thin LED Monit...  B07743412C  Sceptre   \n",
       "1     Sceptre Curved 27\" 75Hz LED Monitor HDMI VGA B...  B07MTRQ6B3  Sceptre   \n",
       "2     BenQ 24 Inch IPS Monitor | 1080P | Proprietary...  B072XCZSSW     BenQ   \n",
       "3             LG 24M47VQ 24-Inch LED-lit Monitor, Black  B00W95RR32       LG   \n",
       "4     Acer R240HY bidx 23.8-Inch IPS HDMI DVI VGA (1...  B0148NNKTC     Acer   \n",
       "...                                                 ...         ...      ...   \n",
       "2987  Apple MacBook Compatible – Premium Black Priva...  B06XT2J985      NaN   \n",
       "2988  Besign Adjustable Laptop Stand, Ergonomic Rise...  B07RQ89Y8G   BESIGN   \n",
       "2989  (5 Pack) 90 Degree Angled 2 Prong to L-Shaped ...  B08NC5DSY1      NaN   \n",
       "2990  HP Elite 8200 Ultra Slim Desktop PC - Intel Co...  B0754MN7D3       HP   \n",
       "2991  DTECH 15ft DB9 Serial Cable COM Port Male to M...  B07B24HBXN      NaN   \n",
       "\n",
       "                                      Best Sellers Rank  \\\n",
       "0     #63 in Electronics ( See Top 100 in Electronic...   \n",
       "1     #138 in Electronics ( See Top 100 in Electroni...   \n",
       "2     #493 in Electronics ( See Top 100 in Electroni...   \n",
       "3     #145 in Electronics ( See Top 100 in Electroni...   \n",
       "4     #279 in Electronics ( See Top 100 in Electroni...   \n",
       "...                                                 ...   \n",
       "2987       #204 in Monitor Anti-Glare & Privacy Filters   \n",
       "2988  #6,516 in Office Products ( See Top 100 in Off...   \n",
       "2989                                                NaN   \n",
       "2990  #1,608 in Computers & Accessories ( See Top 10...   \n",
       "2991                               #91 in Serial Cables   \n",
       "\n",
       "                Product Dimensions         Package Dimensions  Item Weight  \\\n",
       "0      18.35 x 7.17 x 13.58 inches                        NaN  4.43 pounds   \n",
       "1      24.27 x 9.01 x 17.69 inches                        NaN   8.6 pounds   \n",
       "2       16.54 x 6.9 x 21.26 inches                        NaN   8.4 pounds   \n",
       "3         21.9 x 7.8 x 17.2 inches                        NaN   6.2 pounds   \n",
       "4           21.3 x 7.3 x 16 inches                        NaN   6.4 pounds   \n",
       "...                            ...                        ...          ...   \n",
       "2987   16.14 x 10.24 x 0.39 inches                        NaN   4.9 ounces   \n",
       "2988  10.63 x 10.63 x 10.63 inches                        NaN  1.45 pounds   \n",
       "2989                           NaN   9.8 x 6.22 x 2.91 inches  1.03 pounds   \n",
       "2990         10 x 9.9 x 2.6 inches                        NaN   6.8 pounds   \n",
       "2991                           NaN  8.98 x 7.13 x 1.18 inches   9.7 ounces   \n",
       "\n",
       "     Date First Available Is Discontinued By Manufacturer Item model number  \\\n",
       "0        November 1, 2017                              No      E205W-16003R   \n",
       "1        January 11, 2019                              No      C275W-1920RN   \n",
       "2          August 2, 2017                              No            GW2480   \n",
       "3           April 9, 2015                              No           24M47VQ   \n",
       "4       September 6, 2015                              No       R240HY bidx   \n",
       "...                   ...                             ...               ...   \n",
       "2987                                                   No          APNA2007   \n",
       "2988                                                  NaN               NaN   \n",
       "2989                                                  NaN        5pk, 10pk,   \n",
       "2990      August 25, 2017                             NaN        Elite 8200   \n",
       "2991       March 24, 2018                              No               NaN   \n",
       "\n",
       "      ... Item Package Quantity           Color Number of USB 2.0 Ports  \\\n",
       "0     ...                   NaN  Metallic Black                     NaN   \n",
       "1     ...                   NaN     Metal Black                     NaN   \n",
       "2     ...                   NaN           Black                     NaN   \n",
       "3     ...                   NaN           Black                     NaN   \n",
       "4     ...                   NaN           Black                     NaN   \n",
       "...   ...                   ...             ...                     ...   \n",
       "2987  ...                   NaN             NaN                     NaN   \n",
       "2988  ...                   NaN           Black                     NaN   \n",
       "2989  ...                   NaN             NaN                     NaN   \n",
       "2990  ...                   NaN             NaN                      10   \n",
       "2991  ...                   NaN             NaN                           \n",
       "\n",
       "     Number of USB 3.0 Ports Memory Speed Graphics Coprocessor  \\\n",
       "0                        NaN          NaN                  NaN   \n",
       "1                        NaN          NaN                  NaN   \n",
       "2                        NaN          NaN                  NaN   \n",
       "3                        NaN          NaN                  NaN   \n",
       "4                        NaN          NaN                  NaN   \n",
       "...                      ...          ...                  ...   \n",
       "2987                     NaN          NaN                  NaN   \n",
       "2988                     NaN          NaN                  NaN   \n",
       "2989                     NaN          NaN                  NaN   \n",
       "2990                     NaN          NaN    Intel HD Graphics   \n",
       "2991                     NaN          NaN                  NaN   \n",
       "\n",
       "     Computer Memory Type Average Battery Life (in hours)  \\\n",
       "0                     NaN                             NaN   \n",
       "1                     NaN                             NaN   \n",
       "2                     NaN                             NaN   \n",
       "3                     NaN                             NaN   \n",
       "4                     NaN                             NaN   \n",
       "...                   ...                             ...   \n",
       "2987                  NaN                             NaN   \n",
       "2988                  NaN                             NaN   \n",
       "2989                  NaN                             NaN   \n",
       "2990               SODIMM                             NaN   \n",
       "2991                  NaN                             NaN   \n",
       "\n",
       "     Graphics Card Ram Size Processor Count  \n",
       "0                       NaN             NaN  \n",
       "1                       NaN             NaN  \n",
       "2                       NaN             NaN  \n",
       "3                       NaN             NaN  \n",
       "4                       NaN             NaN  \n",
       "...                     ...             ...  \n",
       "2987                    NaN             NaN  \n",
       "2988                    NaN             NaN  \n",
       "2989                    NaN             NaN  \n",
       "2990                    NaN               1  \n",
       "2991                    NaN             NaN  \n",
       "\n",
       "[2992 rows x 31 columns]"
      ],
      "text/html": "<div>\n<style scoped>\n    .dataframe tbody tr th:only-of-type {\n        vertical-align: middle;\n    }\n\n    .dataframe tbody tr th {\n        vertical-align: top;\n    }\n\n    .dataframe thead th {\n        text-align: right;\n    }\n</style>\n<table border=\"1\" class=\"dataframe\">\n  <thead>\n    <tr style=\"text-align: right;\">\n      <th></th>\n      <th>name</th>\n      <th>ASIN</th>\n      <th>Brand</th>\n      <th>Best Sellers Rank</th>\n      <th>Product Dimensions</th>\n      <th>Package Dimensions</th>\n      <th>Item Weight</th>\n      <th>Date First Available</th>\n      <th>Is Discontinued By Manufacturer</th>\n      <th>Item model number</th>\n      <th>...</th>\n      <th>Item Package Quantity</th>\n      <th>Color</th>\n      <th>Number of USB 2.0 Ports</th>\n      <th>Number of USB 3.0 Ports</th>\n      <th>Memory Speed</th>\n      <th>Graphics Coprocessor</th>\n      <th>Computer Memory Type</th>\n      <th>Average Battery Life (in hours)</th>\n      <th>Graphics Card Ram Size</th>\n      <th>Processor Count</th>\n    </tr>\n  </thead>\n  <tbody>\n    <tr>\n      <th>0</th>\n      <td>Sceptre 20\" 1600x900 75Hz Ultra Thin LED Monit...</td>\n      <td>B07743412C</td>\n      <td>Sceptre</td>\n      <td>#63 in Electronics ( See Top 100 in Electronic...</td>\n      <td>18.35 x 7.17 x 13.58 inches</td>\n      <td>NaN</td>\n      <td>4.43 pounds</td>\n      <td>November 1, 2017</td>\n      <td>No</td>\n      <td>E205W-16003R</td>\n      <td>...</td>\n      <td>NaN</td>\n      <td>Metallic Black</td>\n      <td>NaN</td>\n      <td>NaN</td>\n      <td>NaN</td>\n      <td>NaN</td>\n      <td>NaN</td>\n      <td>NaN</td>\n      <td>NaN</td>\n      <td>NaN</td>\n    </tr>\n    <tr>\n      <th>1</th>\n      <td>Sceptre Curved 27\" 75Hz LED Monitor HDMI VGA B...</td>\n      <td>B07MTRQ6B3</td>\n      <td>Sceptre</td>\n      <td>#138 in Electronics ( See Top 100 in Electroni...</td>\n      <td>24.27 x 9.01 x 17.69 inches</td>\n      <td>NaN</td>\n      <td>8.6 pounds</td>\n      <td>January 11, 2019</td>\n      <td>No</td>\n      <td>C275W-1920RN</td>\n      <td>...</td>\n      <td>NaN</td>\n      <td>Metal Black</td>\n      <td>NaN</td>\n      <td>NaN</td>\n      <td>NaN</td>\n      <td>NaN</td>\n      <td>NaN</td>\n      <td>NaN</td>\n      <td>NaN</td>\n      <td>NaN</td>\n    </tr>\n    <tr>\n      <th>2</th>\n      <td>BenQ 24 Inch IPS Monitor | 1080P | Proprietary...</td>\n      <td>B072XCZSSW</td>\n      <td>BenQ</td>\n      <td>#493 in Electronics ( See Top 100 in Electroni...</td>\n      <td>16.54 x 6.9 x 21.26 inches</td>\n      <td>NaN</td>\n      <td>8.4 pounds</td>\n      <td>August 2, 2017</td>\n      <td>No</td>\n      <td>GW2480</td>\n      <td>...</td>\n      <td>NaN</td>\n      <td>Black</td>\n      <td>NaN</td>\n      <td>NaN</td>\n      <td>NaN</td>\n      <td>NaN</td>\n      <td>NaN</td>\n      <td>NaN</td>\n      <td>NaN</td>\n      <td>NaN</td>\n    </tr>\n    <tr>\n      <th>3</th>\n      <td>LG 24M47VQ 24-Inch LED-lit Monitor, Black</td>\n      <td>B00W95RR32</td>\n      <td>LG</td>\n      <td>#145 in Electronics ( See Top 100 in Electroni...</td>\n      <td>21.9 x 7.8 x 17.2 inches</td>\n      <td>NaN</td>\n      <td>6.2 pounds</td>\n      <td>April 9, 2015</td>\n      <td>No</td>\n      <td>24M47VQ</td>\n      <td>...</td>\n      <td>NaN</td>\n      <td>Black</td>\n      <td>NaN</td>\n      <td>NaN</td>\n      <td>NaN</td>\n      <td>NaN</td>\n      <td>NaN</td>\n      <td>NaN</td>\n      <td>NaN</td>\n      <td>NaN</td>\n    </tr>\n    <tr>\n      <th>4</th>\n      <td>Acer R240HY bidx 23.8-Inch IPS HDMI DVI VGA (1...</td>\n      <td>B0148NNKTC</td>\n      <td>Acer</td>\n      <td>#279 in Electronics ( See Top 100 in Electroni...</td>\n      <td>21.3 x 7.3 x 16 inches</td>\n      <td>NaN</td>\n      <td>6.4 pounds</td>\n      <td>September 6, 2015</td>\n      <td>No</td>\n      <td>R240HY bidx</td>\n      <td>...</td>\n      <td>NaN</td>\n      <td>Black</td>\n      <td>NaN</td>\n      <td>NaN</td>\n      <td>NaN</td>\n      <td>NaN</td>\n      <td>NaN</td>\n      <td>NaN</td>\n      <td>NaN</td>\n      <td>NaN</td>\n    </tr>\n    <tr>\n      <th>...</th>\n      <td>...</td>\n      <td>...</td>\n      <td>...</td>\n      <td>...</td>\n      <td>...</td>\n      <td>...</td>\n      <td>...</td>\n      <td>...</td>\n      <td>...</td>\n      <td>...</td>\n      <td>...</td>\n      <td>...</td>\n      <td>...</td>\n      <td>...</td>\n      <td>...</td>\n      <td>...</td>\n      <td>...</td>\n      <td>...</td>\n      <td>...</td>\n      <td>...</td>\n      <td>...</td>\n    </tr>\n    <tr>\n      <th>2987</th>\n      <td>Apple MacBook Compatible – Premium Black Priva...</td>\n      <td>B06XT2J985</td>\n      <td>NaN</td>\n      <td>#204 in Monitor Anti-Glare &amp; Privacy Filters</td>\n      <td>16.14 x 10.24 x 0.39 inches</td>\n      <td>NaN</td>\n      <td>4.9 ounces</td>\n      <td></td>\n      <td>No</td>\n      <td>APNA2007</td>\n      <td>...</td>\n      <td>NaN</td>\n      <td>NaN</td>\n      <td>NaN</td>\n      <td>NaN</td>\n      <td>NaN</td>\n      <td>NaN</td>\n      <td>NaN</td>\n      <td>NaN</td>\n      <td>NaN</td>\n      <td>NaN</td>\n    </tr>\n    <tr>\n      <th>2988</th>\n      <td>Besign Adjustable Laptop Stand, Ergonomic Rise...</td>\n      <td>B07RQ89Y8G</td>\n      <td>BESIGN</td>\n      <td>#6,516 in Office Products ( See Top 100 in Off...</td>\n      <td>10.63 x 10.63 x 10.63 inches</td>\n      <td>NaN</td>\n      <td>1.45 pounds</td>\n      <td></td>\n      <td>NaN</td>\n      <td>NaN</td>\n      <td>...</td>\n      <td>NaN</td>\n      <td>Black</td>\n      <td>NaN</td>\n      <td>NaN</td>\n      <td>NaN</td>\n      <td>NaN</td>\n      <td>NaN</td>\n      <td>NaN</td>\n      <td>NaN</td>\n      <td>NaN</td>\n    </tr>\n    <tr>\n      <th>2989</th>\n      <td>(5 Pack) 90 Degree Angled 2 Prong to L-Shaped ...</td>\n      <td>B08NC5DSY1</td>\n      <td>NaN</td>\n      <td>NaN</td>\n      <td>NaN</td>\n      <td>9.8 x 6.22 x 2.91 inches</td>\n      <td>1.03 pounds</td>\n      <td></td>\n      <td>NaN</td>\n      <td>5pk, 10pk,</td>\n      <td>...</td>\n      <td>NaN</td>\n      <td>NaN</td>\n      <td>NaN</td>\n      <td>NaN</td>\n      <td>NaN</td>\n      <td>NaN</td>\n      <td>NaN</td>\n      <td>NaN</td>\n      <td>NaN</td>\n      <td>NaN</td>\n    </tr>\n    <tr>\n      <th>2990</th>\n      <td>HP Elite 8200 Ultra Slim Desktop PC - Intel Co...</td>\n      <td>B0754MN7D3</td>\n      <td>HP</td>\n      <td>#1,608 in Computers &amp; Accessories ( See Top 10...</td>\n      <td>10 x 9.9 x 2.6 inches</td>\n      <td>NaN</td>\n      <td>6.8 pounds</td>\n      <td>August 25, 2017</td>\n      <td>NaN</td>\n      <td>Elite 8200</td>\n      <td>...</td>\n      <td>NaN</td>\n      <td>NaN</td>\n      <td>10</td>\n      <td>NaN</td>\n      <td>NaN</td>\n      <td>Intel HD Graphics</td>\n      <td>SODIMM</td>\n      <td>NaN</td>\n      <td>NaN</td>\n      <td>1</td>\n    </tr>\n    <tr>\n      <th>2991</th>\n      <td>DTECH 15ft DB9 Serial Cable COM Port Male to M...</td>\n      <td>B07B24HBXN</td>\n      <td>NaN</td>\n      <td>#91 in Serial Cables</td>\n      <td>NaN</td>\n      <td>8.98 x 7.13 x 1.18 inches</td>\n      <td>9.7 ounces</td>\n      <td>March 24, 2018</td>\n      <td>No</td>\n      <td>NaN</td>\n      <td>...</td>\n      <td>NaN</td>\n      <td>NaN</td>\n      <td></td>\n      <td>NaN</td>\n      <td>NaN</td>\n      <td>NaN</td>\n      <td>NaN</td>\n      <td>NaN</td>\n      <td>NaN</td>\n      <td>NaN</td>\n    </tr>\n  </tbody>\n</table>\n<p>2992 rows × 31 columns</p>\n</div>"
     },
     "metadata": {},
     "execution_count": 406
    }
   ],
   "source": [
    "final = final.reset_index(drop= True)\n",
    "final"
   ]
  },
  {
   "cell_type": "code",
   "execution_count": 407,
   "metadata": {},
   "outputs": [],
   "source": [
    "# final_d['New_Sample'] = final_d['Product Dimensions'].str.split().str[-1]\n",
    "# final_d['New_Sample'] = final_d['Product Dimensions'].apply(lambda x: x.split()[-1])"
   ]
  },
  {
   "cell_type": "code",
   "execution_count": null,
   "metadata": {},
   "outputs": [],
   "source": []
  },
  {
   "cell_type": "code",
   "execution_count": 408,
   "metadata": {},
   "outputs": [
    {
     "output_type": "execute_result",
     "data": {
      "text/plain": [
       "0        18.35 x 7.17 x 13.58 \n",
       "1        24.27 x 9.01 x 17.69 \n",
       "2         16.54 x 6.9 x 21.26 \n",
       "3           21.9 x 7.8 x 17.2 \n",
       "4             21.3 x 7.3 x 16 \n",
       "                 ...          \n",
       "2987     16.14 x 10.24 x 0.39 \n",
       "2988    10.63 x 10.63 x 10.63 \n",
       "2989                       NaN\n",
       "2990           10 x 9.9 x 2.6 \n",
       "2991                       NaN\n",
       "Name: Product Dimensions (inches), Length: 2992, dtype: object"
      ]
     },
     "metadata": {},
     "execution_count": 408
    }
   ],
   "source": [
    "# final['Product Dimensions'].str.split('\\s+').str[:-1].apply(lambda parts: \" \".join(parts))\n",
    "final['Product Dimensions (inches)'] = final['Product Dimensions'].str.rstrip('inches')\n",
    "final['Product Dimensions (inches)']\n"
   ]
  },
  {
   "cell_type": "code",
   "execution_count": 409,
   "metadata": {},
   "outputs": [],
   "source": [
    "# final_d['Product Dimensions'].str.rstrip('inches')"
   ]
  },
  {
   "cell_type": "code",
   "execution_count": 410,
   "metadata": {},
   "outputs": [
    {
     "output_type": "execute_result",
     "data": {
      "text/plain": [
       "                                                   name        ASIN    Brand  \\\n",
       "0     Sceptre 20\" 1600x900 75Hz Ultra Thin LED Monit...  B07743412C  Sceptre   \n",
       "1     Sceptre Curved 27\" 75Hz LED Monitor HDMI VGA B...  B07MTRQ6B3  Sceptre   \n",
       "2     BenQ 24 Inch IPS Monitor | 1080P | Proprietary...  B072XCZSSW     BenQ   \n",
       "3             LG 24M47VQ 24-Inch LED-lit Monitor, Black  B00W95RR32       LG   \n",
       "4     Acer R240HY bidx 23.8-Inch IPS HDMI DVI VGA (1...  B0148NNKTC     Acer   \n",
       "...                                                 ...         ...      ...   \n",
       "2987  Apple MacBook Compatible – Premium Black Priva...  B06XT2J985      NaN   \n",
       "2988  Besign Adjustable Laptop Stand, Ergonomic Rise...  B07RQ89Y8G   BESIGN   \n",
       "2989  (5 Pack) 90 Degree Angled 2 Prong to L-Shaped ...  B08NC5DSY1      NaN   \n",
       "2990  HP Elite 8200 Ultra Slim Desktop PC - Intel Co...  B0754MN7D3       HP   \n",
       "2991  DTECH 15ft DB9 Serial Cable COM Port Male to M...  B07B24HBXN      NaN   \n",
       "\n",
       "                                      Best Sellers Rank  \\\n",
       "0     #63 in Electronics ( See Top 100 in Electronic...   \n",
       "1     #138 in Electronics ( See Top 100 in Electroni...   \n",
       "2     #493 in Electronics ( See Top 100 in Electroni...   \n",
       "3     #145 in Electronics ( See Top 100 in Electroni...   \n",
       "4     #279 in Electronics ( See Top 100 in Electroni...   \n",
       "...                                                 ...   \n",
       "2987       #204 in Monitor Anti-Glare & Privacy Filters   \n",
       "2988  #6,516 in Office Products ( See Top 100 in Off...   \n",
       "2989                                                NaN   \n",
       "2990  #1,608 in Computers & Accessories ( See Top 10...   \n",
       "2991                               #91 in Serial Cables   \n",
       "\n",
       "          Product Dimensions         Package Dimensions  Item Weight  \\\n",
       "0      18.35 x 7.17 x 13.58                         NaN  4.43 pounds   \n",
       "1      24.27 x 9.01 x 17.69                         NaN   8.6 pounds   \n",
       "2       16.54 x 6.9 x 21.26                         NaN   8.4 pounds   \n",
       "3         21.9 x 7.8 x 17.2                         NaN   6.2 pounds   \n",
       "4           21.3 x 7.3 x 16                         NaN   6.4 pounds   \n",
       "...                      ...                        ...          ...   \n",
       "2987   16.14 x 10.24 x 0.39                         NaN   4.9 ounces   \n",
       "2988  10.63 x 10.63 x 10.63                         NaN  1.45 pounds   \n",
       "2989                     NaN   9.8 x 6.22 x 2.91 inches  1.03 pounds   \n",
       "2990         10 x 9.9 x 2.6                         NaN   6.8 pounds   \n",
       "2991                     NaN  8.98 x 7.13 x 1.18 inches   9.7 ounces   \n",
       "\n",
       "     Date First Available Is Discontinued By Manufacturer Item model number  \\\n",
       "0        November 1, 2017                              No      E205W-16003R   \n",
       "1        January 11, 2019                              No      C275W-1920RN   \n",
       "2          August 2, 2017                              No            GW2480   \n",
       "3           April 9, 2015                              No           24M47VQ   \n",
       "4       September 6, 2015                              No       R240HY bidx   \n",
       "...                   ...                             ...               ...   \n",
       "2987                                                   No          APNA2007   \n",
       "2988                                                  NaN               NaN   \n",
       "2989                                                  NaN        5pk, 10pk,   \n",
       "2990      August 25, 2017                             NaN        Elite 8200   \n",
       "2991       March 24, 2018                              No               NaN   \n",
       "\n",
       "      ...           Color Number of USB 2.0 Ports Number of USB 3.0 Ports  \\\n",
       "0     ...  Metallic Black                     NaN                     NaN   \n",
       "1     ...     Metal Black                     NaN                     NaN   \n",
       "2     ...           Black                     NaN                     NaN   \n",
       "3     ...           Black                     NaN                     NaN   \n",
       "4     ...           Black                     NaN                     NaN   \n",
       "...   ...             ...                     ...                     ...   \n",
       "2987  ...             NaN                     NaN                     NaN   \n",
       "2988  ...           Black                     NaN                     NaN   \n",
       "2989  ...             NaN                     NaN                     NaN   \n",
       "2990  ...             NaN                      10                     NaN   \n",
       "2991  ...             NaN                                             NaN   \n",
       "\n",
       "     Memory Speed Graphics Coprocessor Computer Memory Type  \\\n",
       "0             NaN                  NaN                  NaN   \n",
       "1             NaN                  NaN                  NaN   \n",
       "2             NaN                  NaN                  NaN   \n",
       "3             NaN                  NaN                  NaN   \n",
       "4             NaN                  NaN                  NaN   \n",
       "...           ...                  ...                  ...   \n",
       "2987          NaN                  NaN                  NaN   \n",
       "2988          NaN                  NaN                  NaN   \n",
       "2989          NaN                  NaN                  NaN   \n",
       "2990          NaN    Intel HD Graphics               SODIMM   \n",
       "2991          NaN                  NaN                  NaN   \n",
       "\n",
       "     Average Battery Life (in hours) Graphics Card Ram Size Processor Count  \\\n",
       "0                                NaN                    NaN             NaN   \n",
       "1                                NaN                    NaN             NaN   \n",
       "2                                NaN                    NaN             NaN   \n",
       "3                                NaN                    NaN             NaN   \n",
       "4                                NaN                    NaN             NaN   \n",
       "...                              ...                    ...             ...   \n",
       "2987                             NaN                    NaN             NaN   \n",
       "2988                             NaN                    NaN             NaN   \n",
       "2989                             NaN                    NaN             NaN   \n",
       "2990                             NaN                    NaN               1   \n",
       "2991                             NaN                    NaN             NaN   \n",
       "\n",
       "     Product Dimensions (inches)  \n",
       "0          18.35 x 7.17 x 13.58   \n",
       "1          24.27 x 9.01 x 17.69   \n",
       "2           16.54 x 6.9 x 21.26   \n",
       "3             21.9 x 7.8 x 17.2   \n",
       "4               21.3 x 7.3 x 16   \n",
       "...                          ...  \n",
       "2987       16.14 x 10.24 x 0.39   \n",
       "2988      10.63 x 10.63 x 10.63   \n",
       "2989                         NaN  \n",
       "2990             10 x 9.9 x 2.6   \n",
       "2991                         NaN  \n",
       "\n",
       "[2992 rows x 32 columns]"
      ],
      "text/html": "<div>\n<style scoped>\n    .dataframe tbody tr th:only-of-type {\n        vertical-align: middle;\n    }\n\n    .dataframe tbody tr th {\n        vertical-align: top;\n    }\n\n    .dataframe thead th {\n        text-align: right;\n    }\n</style>\n<table border=\"1\" class=\"dataframe\">\n  <thead>\n    <tr style=\"text-align: right;\">\n      <th></th>\n      <th>name</th>\n      <th>ASIN</th>\n      <th>Brand</th>\n      <th>Best Sellers Rank</th>\n      <th>Product Dimensions</th>\n      <th>Package Dimensions</th>\n      <th>Item Weight</th>\n      <th>Date First Available</th>\n      <th>Is Discontinued By Manufacturer</th>\n      <th>Item model number</th>\n      <th>...</th>\n      <th>Color</th>\n      <th>Number of USB 2.0 Ports</th>\n      <th>Number of USB 3.0 Ports</th>\n      <th>Memory Speed</th>\n      <th>Graphics Coprocessor</th>\n      <th>Computer Memory Type</th>\n      <th>Average Battery Life (in hours)</th>\n      <th>Graphics Card Ram Size</th>\n      <th>Processor Count</th>\n      <th>Product Dimensions (inches)</th>\n    </tr>\n  </thead>\n  <tbody>\n    <tr>\n      <th>0</th>\n      <td>Sceptre 20\" 1600x900 75Hz Ultra Thin LED Monit...</td>\n      <td>B07743412C</td>\n      <td>Sceptre</td>\n      <td>#63 in Electronics ( See Top 100 in Electronic...</td>\n      <td>18.35 x 7.17 x 13.58</td>\n      <td>NaN</td>\n      <td>4.43 pounds</td>\n      <td>November 1, 2017</td>\n      <td>No</td>\n      <td>E205W-16003R</td>\n      <td>...</td>\n      <td>Metallic Black</td>\n      <td>NaN</td>\n      <td>NaN</td>\n      <td>NaN</td>\n      <td>NaN</td>\n      <td>NaN</td>\n      <td>NaN</td>\n      <td>NaN</td>\n      <td>NaN</td>\n      <td>18.35 x 7.17 x 13.58</td>\n    </tr>\n    <tr>\n      <th>1</th>\n      <td>Sceptre Curved 27\" 75Hz LED Monitor HDMI VGA B...</td>\n      <td>B07MTRQ6B3</td>\n      <td>Sceptre</td>\n      <td>#138 in Electronics ( See Top 100 in Electroni...</td>\n      <td>24.27 x 9.01 x 17.69</td>\n      <td>NaN</td>\n      <td>8.6 pounds</td>\n      <td>January 11, 2019</td>\n      <td>No</td>\n      <td>C275W-1920RN</td>\n      <td>...</td>\n      <td>Metal Black</td>\n      <td>NaN</td>\n      <td>NaN</td>\n      <td>NaN</td>\n      <td>NaN</td>\n      <td>NaN</td>\n      <td>NaN</td>\n      <td>NaN</td>\n      <td>NaN</td>\n      <td>24.27 x 9.01 x 17.69</td>\n    </tr>\n    <tr>\n      <th>2</th>\n      <td>BenQ 24 Inch IPS Monitor | 1080P | Proprietary...</td>\n      <td>B072XCZSSW</td>\n      <td>BenQ</td>\n      <td>#493 in Electronics ( See Top 100 in Electroni...</td>\n      <td>16.54 x 6.9 x 21.26</td>\n      <td>NaN</td>\n      <td>8.4 pounds</td>\n      <td>August 2, 2017</td>\n      <td>No</td>\n      <td>GW2480</td>\n      <td>...</td>\n      <td>Black</td>\n      <td>NaN</td>\n      <td>NaN</td>\n      <td>NaN</td>\n      <td>NaN</td>\n      <td>NaN</td>\n      <td>NaN</td>\n      <td>NaN</td>\n      <td>NaN</td>\n      <td>16.54 x 6.9 x 21.26</td>\n    </tr>\n    <tr>\n      <th>3</th>\n      <td>LG 24M47VQ 24-Inch LED-lit Monitor, Black</td>\n      <td>B00W95RR32</td>\n      <td>LG</td>\n      <td>#145 in Electronics ( See Top 100 in Electroni...</td>\n      <td>21.9 x 7.8 x 17.2</td>\n      <td>NaN</td>\n      <td>6.2 pounds</td>\n      <td>April 9, 2015</td>\n      <td>No</td>\n      <td>24M47VQ</td>\n      <td>...</td>\n      <td>Black</td>\n      <td>NaN</td>\n      <td>NaN</td>\n      <td>NaN</td>\n      <td>NaN</td>\n      <td>NaN</td>\n      <td>NaN</td>\n      <td>NaN</td>\n      <td>NaN</td>\n      <td>21.9 x 7.8 x 17.2</td>\n    </tr>\n    <tr>\n      <th>4</th>\n      <td>Acer R240HY bidx 23.8-Inch IPS HDMI DVI VGA (1...</td>\n      <td>B0148NNKTC</td>\n      <td>Acer</td>\n      <td>#279 in Electronics ( See Top 100 in Electroni...</td>\n      <td>21.3 x 7.3 x 16</td>\n      <td>NaN</td>\n      <td>6.4 pounds</td>\n      <td>September 6, 2015</td>\n      <td>No</td>\n      <td>R240HY bidx</td>\n      <td>...</td>\n      <td>Black</td>\n      <td>NaN</td>\n      <td>NaN</td>\n      <td>NaN</td>\n      <td>NaN</td>\n      <td>NaN</td>\n      <td>NaN</td>\n      <td>NaN</td>\n      <td>NaN</td>\n      <td>21.3 x 7.3 x 16</td>\n    </tr>\n    <tr>\n      <th>...</th>\n      <td>...</td>\n      <td>...</td>\n      <td>...</td>\n      <td>...</td>\n      <td>...</td>\n      <td>...</td>\n      <td>...</td>\n      <td>...</td>\n      <td>...</td>\n      <td>...</td>\n      <td>...</td>\n      <td>...</td>\n      <td>...</td>\n      <td>...</td>\n      <td>...</td>\n      <td>...</td>\n      <td>...</td>\n      <td>...</td>\n      <td>...</td>\n      <td>...</td>\n      <td>...</td>\n    </tr>\n    <tr>\n      <th>2987</th>\n      <td>Apple MacBook Compatible – Premium Black Priva...</td>\n      <td>B06XT2J985</td>\n      <td>NaN</td>\n      <td>#204 in Monitor Anti-Glare &amp; Privacy Filters</td>\n      <td>16.14 x 10.24 x 0.39</td>\n      <td>NaN</td>\n      <td>4.9 ounces</td>\n      <td></td>\n      <td>No</td>\n      <td>APNA2007</td>\n      <td>...</td>\n      <td>NaN</td>\n      <td>NaN</td>\n      <td>NaN</td>\n      <td>NaN</td>\n      <td>NaN</td>\n      <td>NaN</td>\n      <td>NaN</td>\n      <td>NaN</td>\n      <td>NaN</td>\n      <td>16.14 x 10.24 x 0.39</td>\n    </tr>\n    <tr>\n      <th>2988</th>\n      <td>Besign Adjustable Laptop Stand, Ergonomic Rise...</td>\n      <td>B07RQ89Y8G</td>\n      <td>BESIGN</td>\n      <td>#6,516 in Office Products ( See Top 100 in Off...</td>\n      <td>10.63 x 10.63 x 10.63</td>\n      <td>NaN</td>\n      <td>1.45 pounds</td>\n      <td></td>\n      <td>NaN</td>\n      <td>NaN</td>\n      <td>...</td>\n      <td>Black</td>\n      <td>NaN</td>\n      <td>NaN</td>\n      <td>NaN</td>\n      <td>NaN</td>\n      <td>NaN</td>\n      <td>NaN</td>\n      <td>NaN</td>\n      <td>NaN</td>\n      <td>10.63 x 10.63 x 10.63</td>\n    </tr>\n    <tr>\n      <th>2989</th>\n      <td>(5 Pack) 90 Degree Angled 2 Prong to L-Shaped ...</td>\n      <td>B08NC5DSY1</td>\n      <td>NaN</td>\n      <td>NaN</td>\n      <td>NaN</td>\n      <td>9.8 x 6.22 x 2.91 inches</td>\n      <td>1.03 pounds</td>\n      <td></td>\n      <td>NaN</td>\n      <td>5pk, 10pk,</td>\n      <td>...</td>\n      <td>NaN</td>\n      <td>NaN</td>\n      <td>NaN</td>\n      <td>NaN</td>\n      <td>NaN</td>\n      <td>NaN</td>\n      <td>NaN</td>\n      <td>NaN</td>\n      <td>NaN</td>\n      <td>NaN</td>\n    </tr>\n    <tr>\n      <th>2990</th>\n      <td>HP Elite 8200 Ultra Slim Desktop PC - Intel Co...</td>\n      <td>B0754MN7D3</td>\n      <td>HP</td>\n      <td>#1,608 in Computers &amp; Accessories ( See Top 10...</td>\n      <td>10 x 9.9 x 2.6</td>\n      <td>NaN</td>\n      <td>6.8 pounds</td>\n      <td>August 25, 2017</td>\n      <td>NaN</td>\n      <td>Elite 8200</td>\n      <td>...</td>\n      <td>NaN</td>\n      <td>10</td>\n      <td>NaN</td>\n      <td>NaN</td>\n      <td>Intel HD Graphics</td>\n      <td>SODIMM</td>\n      <td>NaN</td>\n      <td>NaN</td>\n      <td>1</td>\n      <td>10 x 9.9 x 2.6</td>\n    </tr>\n    <tr>\n      <th>2991</th>\n      <td>DTECH 15ft DB9 Serial Cable COM Port Male to M...</td>\n      <td>B07B24HBXN</td>\n      <td>NaN</td>\n      <td>#91 in Serial Cables</td>\n      <td>NaN</td>\n      <td>8.98 x 7.13 x 1.18 inches</td>\n      <td>9.7 ounces</td>\n      <td>March 24, 2018</td>\n      <td>No</td>\n      <td>NaN</td>\n      <td>...</td>\n      <td>NaN</td>\n      <td></td>\n      <td>NaN</td>\n      <td>NaN</td>\n      <td>NaN</td>\n      <td>NaN</td>\n      <td>NaN</td>\n      <td>NaN</td>\n      <td>NaN</td>\n      <td>NaN</td>\n    </tr>\n  </tbody>\n</table>\n<p>2992 rows × 32 columns</p>\n</div>"
     },
     "metadata": {},
     "execution_count": 410
    }
   ],
   "source": [
    "final['Product Dimensions'] = final['Product Dimensions (inches)']\n",
    "final"
   ]
  },
  {
   "cell_type": "code",
   "execution_count": 411,
   "metadata": {},
   "outputs": [
    {
     "output_type": "execute_result",
     "data": {
      "text/plain": [
       "name                               Sceptre Curved 27\" 75Hz LED Monitor HDMI VGA B...\n",
       "ASIN                                                                      B07MTRQ6B3\n",
       "Brand                                                                        Sceptre\n",
       "Best Sellers Rank                  #138 in Electronics ( See Top 100 in Electroni...\n",
       "Product Dimensions                                             24.27 x 9.01 x 17.69 \n",
       "Package Dimensions                                                               NaN\n",
       "Item Weight                                                               8.6 pounds\n",
       "Date First Available                                                January 11, 2019\n",
       "Is Discontinued By Manufacturer                                                   No\n",
       "Item model number                                                       C275W-1920RN\n",
       "Batteries                                                                        NaN\n",
       "Card Description                                                                 NaN\n",
       "Voltage                                                               120 Volts (AC)\n",
       "Series                                                                           NaN\n",
       "National Stock Number                                                            NaN\n",
       "Chipset Brand                                                                    NaN\n",
       "Batteries Required?                                                              NaN\n",
       "Wireless Type                                                                    NaN\n",
       "Standing screen display size                                               27 Inches\n",
       "Max Screen Resolution                                             1920 x 1080 Pixels\n",
       "Part Number                                                                      NaN\n",
       "Item Package Quantity                                                            NaN\n",
       "Color                                                                    Metal Black\n",
       "Number of USB 2.0 Ports                                                          NaN\n",
       "Number of USB 3.0 Ports                                                          NaN\n",
       "Memory Speed                                                                     NaN\n",
       "Graphics Coprocessor                                                             NaN\n",
       "Computer Memory Type                                                             NaN\n",
       "Average Battery Life (in hours)                                                  NaN\n",
       "Graphics Card Ram Size                                                           NaN\n",
       "Processor Count                                                                  NaN\n",
       "Product Dimensions (inches)                                    24.27 x 9.01 x 17.69 \n",
       "Name: 1, dtype: object"
      ]
     },
     "metadata": {},
     "execution_count": 411
    }
   ],
   "source": [
    "final.iloc[1]"
   ]
  },
  {
   "cell_type": "code",
   "execution_count": 412,
   "metadata": {},
   "outputs": [
    {
     "output_type": "execute_result",
     "data": {
      "text/plain": [
       "                                                   name        ASIN    Brand  \\\n",
       "0     Sceptre 20\" 1600x900 75Hz Ultra Thin LED Monit...  B07743412C  Sceptre   \n",
       "1     Sceptre Curved 27\" 75Hz LED Monitor HDMI VGA B...  B07MTRQ6B3  Sceptre   \n",
       "2     BenQ 24 Inch IPS Monitor | 1080P | Proprietary...  B072XCZSSW     BenQ   \n",
       "3             LG 24M47VQ 24-Inch LED-lit Monitor, Black  B00W95RR32       LG   \n",
       "4     Acer R240HY bidx 23.8-Inch IPS HDMI DVI VGA (1...  B0148NNKTC     Acer   \n",
       "...                                                 ...         ...      ...   \n",
       "2987  Apple MacBook Compatible – Premium Black Priva...  B06XT2J985      NaN   \n",
       "2988  Besign Adjustable Laptop Stand, Ergonomic Rise...  B07RQ89Y8G   BESIGN   \n",
       "2989  (5 Pack) 90 Degree Angled 2 Prong to L-Shaped ...  B08NC5DSY1      NaN   \n",
       "2990  HP Elite 8200 Ultra Slim Desktop PC - Intel Co...  B0754MN7D3       HP   \n",
       "2991  DTECH 15ft DB9 Serial Cable COM Port Male to M...  B07B24HBXN      NaN   \n",
       "\n",
       "                                      Best Sellers Rank  \\\n",
       "0     #63 in Electronics ( See Top 100 in Electronic...   \n",
       "1     #138 in Electronics ( See Top 100 in Electroni...   \n",
       "2     #493 in Electronics ( See Top 100 in Electroni...   \n",
       "3     #145 in Electronics ( See Top 100 in Electroni...   \n",
       "4     #279 in Electronics ( See Top 100 in Electroni...   \n",
       "...                                                 ...   \n",
       "2987       #204 in Monitor Anti-Glare & Privacy Filters   \n",
       "2988  #6,516 in Office Products ( See Top 100 in Off...   \n",
       "2989                                                NaN   \n",
       "2990  #1,608 in Computers & Accessories ( See Top 10...   \n",
       "2991                               #91 in Serial Cables   \n",
       "\n",
       "          Product Dimensions         Package Dimensions  Item Weight  \\\n",
       "0      18.35 x 7.17 x 13.58                         NaN  4.43 pounds   \n",
       "1      24.27 x 9.01 x 17.69                         NaN   8.6 pounds   \n",
       "2       16.54 x 6.9 x 21.26                         NaN   8.4 pounds   \n",
       "3         21.9 x 7.8 x 17.2                         NaN   6.2 pounds   \n",
       "4           21.3 x 7.3 x 16                         NaN   6.4 pounds   \n",
       "...                      ...                        ...          ...   \n",
       "2987   16.14 x 10.24 x 0.39                         NaN   4.9 ounces   \n",
       "2988  10.63 x 10.63 x 10.63                         NaN  1.45 pounds   \n",
       "2989                     NaN   9.8 x 6.22 x 2.91 inches  1.03 pounds   \n",
       "2990         10 x 9.9 x 2.6                         NaN   6.8 pounds   \n",
       "2991                     NaN  8.98 x 7.13 x 1.18 inches   9.7 ounces   \n",
       "\n",
       "     Date First Available Is Discontinued By Manufacturer Item model number  \\\n",
       "0        November 1, 2017                              No      E205W-16003R   \n",
       "1        January 11, 2019                              No      C275W-1920RN   \n",
       "2          August 2, 2017                              No            GW2480   \n",
       "3           April 9, 2015                              No           24M47VQ   \n",
       "4       September 6, 2015                              No       R240HY bidx   \n",
       "...                   ...                             ...               ...   \n",
       "2987                                                   No          APNA2007   \n",
       "2988                                                  NaN               NaN   \n",
       "2989                                                  NaN        5pk, 10pk,   \n",
       "2990      August 25, 2017                             NaN        Elite 8200   \n",
       "2991       March 24, 2018                              No               NaN   \n",
       "\n",
       "      ... Item Package Quantity           Color Number of USB 2.0 Ports  \\\n",
       "0     ...                   NaN  Metallic Black                     NaN   \n",
       "1     ...                   NaN     Metal Black                     NaN   \n",
       "2     ...                   NaN           Black                     NaN   \n",
       "3     ...                   NaN           Black                     NaN   \n",
       "4     ...                   NaN           Black                     NaN   \n",
       "...   ...                   ...             ...                     ...   \n",
       "2987  ...                   NaN             NaN                     NaN   \n",
       "2988  ...                   NaN           Black                     NaN   \n",
       "2989  ...                   NaN             NaN                     NaN   \n",
       "2990  ...                   NaN             NaN                      10   \n",
       "2991  ...                   NaN             NaN                           \n",
       "\n",
       "     Number of USB 3.0 Ports Memory Speed Graphics Coprocessor  \\\n",
       "0                        NaN          NaN                  NaN   \n",
       "1                        NaN          NaN                  NaN   \n",
       "2                        NaN          NaN                  NaN   \n",
       "3                        NaN          NaN                  NaN   \n",
       "4                        NaN          NaN                  NaN   \n",
       "...                      ...          ...                  ...   \n",
       "2987                     NaN          NaN                  NaN   \n",
       "2988                     NaN          NaN                  NaN   \n",
       "2989                     NaN          NaN                  NaN   \n",
       "2990                     NaN          NaN    Intel HD Graphics   \n",
       "2991                     NaN          NaN                  NaN   \n",
       "\n",
       "     Computer Memory Type Average Battery Life (in hours)  \\\n",
       "0                     NaN                             NaN   \n",
       "1                     NaN                             NaN   \n",
       "2                     NaN                             NaN   \n",
       "3                     NaN                             NaN   \n",
       "4                     NaN                             NaN   \n",
       "...                   ...                             ...   \n",
       "2987                  NaN                             NaN   \n",
       "2988                  NaN                             NaN   \n",
       "2989                  NaN                             NaN   \n",
       "2990               SODIMM                             NaN   \n",
       "2991                  NaN                             NaN   \n",
       "\n",
       "     Graphics Card Ram Size Processor Count  \n",
       "0                       NaN             NaN  \n",
       "1                       NaN             NaN  \n",
       "2                       NaN             NaN  \n",
       "3                       NaN             NaN  \n",
       "4                       NaN             NaN  \n",
       "...                     ...             ...  \n",
       "2987                    NaN             NaN  \n",
       "2988                    NaN             NaN  \n",
       "2989                    NaN             NaN  \n",
       "2990                    NaN               1  \n",
       "2991                    NaN             NaN  \n",
       "\n",
       "[2992 rows x 31 columns]"
      ],
      "text/html": "<div>\n<style scoped>\n    .dataframe tbody tr th:only-of-type {\n        vertical-align: middle;\n    }\n\n    .dataframe tbody tr th {\n        vertical-align: top;\n    }\n\n    .dataframe thead th {\n        text-align: right;\n    }\n</style>\n<table border=\"1\" class=\"dataframe\">\n  <thead>\n    <tr style=\"text-align: right;\">\n      <th></th>\n      <th>name</th>\n      <th>ASIN</th>\n      <th>Brand</th>\n      <th>Best Sellers Rank</th>\n      <th>Product Dimensions</th>\n      <th>Package Dimensions</th>\n      <th>Item Weight</th>\n      <th>Date First Available</th>\n      <th>Is Discontinued By Manufacturer</th>\n      <th>Item model number</th>\n      <th>...</th>\n      <th>Item Package Quantity</th>\n      <th>Color</th>\n      <th>Number of USB 2.0 Ports</th>\n      <th>Number of USB 3.0 Ports</th>\n      <th>Memory Speed</th>\n      <th>Graphics Coprocessor</th>\n      <th>Computer Memory Type</th>\n      <th>Average Battery Life (in hours)</th>\n      <th>Graphics Card Ram Size</th>\n      <th>Processor Count</th>\n    </tr>\n  </thead>\n  <tbody>\n    <tr>\n      <th>0</th>\n      <td>Sceptre 20\" 1600x900 75Hz Ultra Thin LED Monit...</td>\n      <td>B07743412C</td>\n      <td>Sceptre</td>\n      <td>#63 in Electronics ( See Top 100 in Electronic...</td>\n      <td>18.35 x 7.17 x 13.58</td>\n      <td>NaN</td>\n      <td>4.43 pounds</td>\n      <td>November 1, 2017</td>\n      <td>No</td>\n      <td>E205W-16003R</td>\n      <td>...</td>\n      <td>NaN</td>\n      <td>Metallic Black</td>\n      <td>NaN</td>\n      <td>NaN</td>\n      <td>NaN</td>\n      <td>NaN</td>\n      <td>NaN</td>\n      <td>NaN</td>\n      <td>NaN</td>\n      <td>NaN</td>\n    </tr>\n    <tr>\n      <th>1</th>\n      <td>Sceptre Curved 27\" 75Hz LED Monitor HDMI VGA B...</td>\n      <td>B07MTRQ6B3</td>\n      <td>Sceptre</td>\n      <td>#138 in Electronics ( See Top 100 in Electroni...</td>\n      <td>24.27 x 9.01 x 17.69</td>\n      <td>NaN</td>\n      <td>8.6 pounds</td>\n      <td>January 11, 2019</td>\n      <td>No</td>\n      <td>C275W-1920RN</td>\n      <td>...</td>\n      <td>NaN</td>\n      <td>Metal Black</td>\n      <td>NaN</td>\n      <td>NaN</td>\n      <td>NaN</td>\n      <td>NaN</td>\n      <td>NaN</td>\n      <td>NaN</td>\n      <td>NaN</td>\n      <td>NaN</td>\n    </tr>\n    <tr>\n      <th>2</th>\n      <td>BenQ 24 Inch IPS Monitor | 1080P | Proprietary...</td>\n      <td>B072XCZSSW</td>\n      <td>BenQ</td>\n      <td>#493 in Electronics ( See Top 100 in Electroni...</td>\n      <td>16.54 x 6.9 x 21.26</td>\n      <td>NaN</td>\n      <td>8.4 pounds</td>\n      <td>August 2, 2017</td>\n      <td>No</td>\n      <td>GW2480</td>\n      <td>...</td>\n      <td>NaN</td>\n      <td>Black</td>\n      <td>NaN</td>\n      <td>NaN</td>\n      <td>NaN</td>\n      <td>NaN</td>\n      <td>NaN</td>\n      <td>NaN</td>\n      <td>NaN</td>\n      <td>NaN</td>\n    </tr>\n    <tr>\n      <th>3</th>\n      <td>LG 24M47VQ 24-Inch LED-lit Monitor, Black</td>\n      <td>B00W95RR32</td>\n      <td>LG</td>\n      <td>#145 in Electronics ( See Top 100 in Electroni...</td>\n      <td>21.9 x 7.8 x 17.2</td>\n      <td>NaN</td>\n      <td>6.2 pounds</td>\n      <td>April 9, 2015</td>\n      <td>No</td>\n      <td>24M47VQ</td>\n      <td>...</td>\n      <td>NaN</td>\n      <td>Black</td>\n      <td>NaN</td>\n      <td>NaN</td>\n      <td>NaN</td>\n      <td>NaN</td>\n      <td>NaN</td>\n      <td>NaN</td>\n      <td>NaN</td>\n      <td>NaN</td>\n    </tr>\n    <tr>\n      <th>4</th>\n      <td>Acer R240HY bidx 23.8-Inch IPS HDMI DVI VGA (1...</td>\n      <td>B0148NNKTC</td>\n      <td>Acer</td>\n      <td>#279 in Electronics ( See Top 100 in Electroni...</td>\n      <td>21.3 x 7.3 x 16</td>\n      <td>NaN</td>\n      <td>6.4 pounds</td>\n      <td>September 6, 2015</td>\n      <td>No</td>\n      <td>R240HY bidx</td>\n      <td>...</td>\n      <td>NaN</td>\n      <td>Black</td>\n      <td>NaN</td>\n      <td>NaN</td>\n      <td>NaN</td>\n      <td>NaN</td>\n      <td>NaN</td>\n      <td>NaN</td>\n      <td>NaN</td>\n      <td>NaN</td>\n    </tr>\n    <tr>\n      <th>...</th>\n      <td>...</td>\n      <td>...</td>\n      <td>...</td>\n      <td>...</td>\n      <td>...</td>\n      <td>...</td>\n      <td>...</td>\n      <td>...</td>\n      <td>...</td>\n      <td>...</td>\n      <td>...</td>\n      <td>...</td>\n      <td>...</td>\n      <td>...</td>\n      <td>...</td>\n      <td>...</td>\n      <td>...</td>\n      <td>...</td>\n      <td>...</td>\n      <td>...</td>\n      <td>...</td>\n    </tr>\n    <tr>\n      <th>2987</th>\n      <td>Apple MacBook Compatible – Premium Black Priva...</td>\n      <td>B06XT2J985</td>\n      <td>NaN</td>\n      <td>#204 in Monitor Anti-Glare &amp; Privacy Filters</td>\n      <td>16.14 x 10.24 x 0.39</td>\n      <td>NaN</td>\n      <td>4.9 ounces</td>\n      <td></td>\n      <td>No</td>\n      <td>APNA2007</td>\n      <td>...</td>\n      <td>NaN</td>\n      <td>NaN</td>\n      <td>NaN</td>\n      <td>NaN</td>\n      <td>NaN</td>\n      <td>NaN</td>\n      <td>NaN</td>\n      <td>NaN</td>\n      <td>NaN</td>\n      <td>NaN</td>\n    </tr>\n    <tr>\n      <th>2988</th>\n      <td>Besign Adjustable Laptop Stand, Ergonomic Rise...</td>\n      <td>B07RQ89Y8G</td>\n      <td>BESIGN</td>\n      <td>#6,516 in Office Products ( See Top 100 in Off...</td>\n      <td>10.63 x 10.63 x 10.63</td>\n      <td>NaN</td>\n      <td>1.45 pounds</td>\n      <td></td>\n      <td>NaN</td>\n      <td>NaN</td>\n      <td>...</td>\n      <td>NaN</td>\n      <td>Black</td>\n      <td>NaN</td>\n      <td>NaN</td>\n      <td>NaN</td>\n      <td>NaN</td>\n      <td>NaN</td>\n      <td>NaN</td>\n      <td>NaN</td>\n      <td>NaN</td>\n    </tr>\n    <tr>\n      <th>2989</th>\n      <td>(5 Pack) 90 Degree Angled 2 Prong to L-Shaped ...</td>\n      <td>B08NC5DSY1</td>\n      <td>NaN</td>\n      <td>NaN</td>\n      <td>NaN</td>\n      <td>9.8 x 6.22 x 2.91 inches</td>\n      <td>1.03 pounds</td>\n      <td></td>\n      <td>NaN</td>\n      <td>5pk, 10pk,</td>\n      <td>...</td>\n      <td>NaN</td>\n      <td>NaN</td>\n      <td>NaN</td>\n      <td>NaN</td>\n      <td>NaN</td>\n      <td>NaN</td>\n      <td>NaN</td>\n      <td>NaN</td>\n      <td>NaN</td>\n      <td>NaN</td>\n    </tr>\n    <tr>\n      <th>2990</th>\n      <td>HP Elite 8200 Ultra Slim Desktop PC - Intel Co...</td>\n      <td>B0754MN7D3</td>\n      <td>HP</td>\n      <td>#1,608 in Computers &amp; Accessories ( See Top 10...</td>\n      <td>10 x 9.9 x 2.6</td>\n      <td>NaN</td>\n      <td>6.8 pounds</td>\n      <td>August 25, 2017</td>\n      <td>NaN</td>\n      <td>Elite 8200</td>\n      <td>...</td>\n      <td>NaN</td>\n      <td>NaN</td>\n      <td>10</td>\n      <td>NaN</td>\n      <td>NaN</td>\n      <td>Intel HD Graphics</td>\n      <td>SODIMM</td>\n      <td>NaN</td>\n      <td>NaN</td>\n      <td>1</td>\n    </tr>\n    <tr>\n      <th>2991</th>\n      <td>DTECH 15ft DB9 Serial Cable COM Port Male to M...</td>\n      <td>B07B24HBXN</td>\n      <td>NaN</td>\n      <td>#91 in Serial Cables</td>\n      <td>NaN</td>\n      <td>8.98 x 7.13 x 1.18 inches</td>\n      <td>9.7 ounces</td>\n      <td>March 24, 2018</td>\n      <td>No</td>\n      <td>NaN</td>\n      <td>...</td>\n      <td>NaN</td>\n      <td>NaN</td>\n      <td></td>\n      <td>NaN</td>\n      <td>NaN</td>\n      <td>NaN</td>\n      <td>NaN</td>\n      <td>NaN</td>\n      <td>NaN</td>\n      <td>NaN</td>\n    </tr>\n  </tbody>\n</table>\n<p>2992 rows × 31 columns</p>\n</div>"
     },
     "metadata": {},
     "execution_count": 412
    }
   ],
   "source": [
    "final = final.drop(['Product Dimensions (inches)'], axis=1)\n",
    "final"
   ]
  },
  {
   "cell_type": "code",
   "execution_count": 413,
   "metadata": {},
   "outputs": [
    {
     "output_type": "execute_result",
     "data": {
      "text/plain": [
       "         a       b\n",
       "0     4.43  pounds\n",
       "1      8.6  pounds\n",
       "2      8.4  pounds\n",
       "3      6.2  pounds\n",
       "4      6.4  pounds\n",
       "...    ...     ...\n",
       "2987   4.9  ounces\n",
       "2988  1.45  pounds\n",
       "2989  1.03  pounds\n",
       "2990   6.8  pounds\n",
       "2991   9.7  ounces\n",
       "\n",
       "[2992 rows x 2 columns]"
      ],
      "text/html": "<div>\n<style scoped>\n    .dataframe tbody tr th:only-of-type {\n        vertical-align: middle;\n    }\n\n    .dataframe tbody tr th {\n        vertical-align: top;\n    }\n\n    .dataframe thead th {\n        text-align: right;\n    }\n</style>\n<table border=\"1\" class=\"dataframe\">\n  <thead>\n    <tr style=\"text-align: right;\">\n      <th></th>\n      <th>a</th>\n      <th>b</th>\n    </tr>\n  </thead>\n  <tbody>\n    <tr>\n      <th>0</th>\n      <td>4.43</td>\n      <td>pounds</td>\n    </tr>\n    <tr>\n      <th>1</th>\n      <td>8.6</td>\n      <td>pounds</td>\n    </tr>\n    <tr>\n      <th>2</th>\n      <td>8.4</td>\n      <td>pounds</td>\n    </tr>\n    <tr>\n      <th>3</th>\n      <td>6.2</td>\n      <td>pounds</td>\n    </tr>\n    <tr>\n      <th>4</th>\n      <td>6.4</td>\n      <td>pounds</td>\n    </tr>\n    <tr>\n      <th>...</th>\n      <td>...</td>\n      <td>...</td>\n    </tr>\n    <tr>\n      <th>2987</th>\n      <td>4.9</td>\n      <td>ounces</td>\n    </tr>\n    <tr>\n      <th>2988</th>\n      <td>1.45</td>\n      <td>pounds</td>\n    </tr>\n    <tr>\n      <th>2989</th>\n      <td>1.03</td>\n      <td>pounds</td>\n    </tr>\n    <tr>\n      <th>2990</th>\n      <td>6.8</td>\n      <td>pounds</td>\n    </tr>\n    <tr>\n      <th>2991</th>\n      <td>9.7</td>\n      <td>ounces</td>\n    </tr>\n  </tbody>\n</table>\n<p>2992 rows × 2 columns</p>\n</div>"
     },
     "metadata": {},
     "execution_count": 413
    }
   ],
   "source": [
    "a = final['Item Weight'].str.split(expand=True)\n",
    "a.columns = ['a', 'b']\n",
    "a"
   ]
  },
  {
   "cell_type": "code",
   "execution_count": 414,
   "metadata": {},
   "outputs": [
    {
     "output_type": "execute_result",
     "data": {
      "text/plain": [
       "                                                   name        ASIN    Brand  \\\n",
       "0     Sceptre 20\" 1600x900 75Hz Ultra Thin LED Monit...  B07743412C  Sceptre   \n",
       "1     Sceptre Curved 27\" 75Hz LED Monitor HDMI VGA B...  B07MTRQ6B3  Sceptre   \n",
       "2     BenQ 24 Inch IPS Monitor | 1080P | Proprietary...  B072XCZSSW     BenQ   \n",
       "3             LG 24M47VQ 24-Inch LED-lit Monitor, Black  B00W95RR32       LG   \n",
       "4     Acer R240HY bidx 23.8-Inch IPS HDMI DVI VGA (1...  B0148NNKTC     Acer   \n",
       "...                                                 ...         ...      ...   \n",
       "2987  Apple MacBook Compatible – Premium Black Priva...  B06XT2J985      NaN   \n",
       "2988  Besign Adjustable Laptop Stand, Ergonomic Rise...  B07RQ89Y8G   BESIGN   \n",
       "2989  (5 Pack) 90 Degree Angled 2 Prong to L-Shaped ...  B08NC5DSY1      NaN   \n",
       "2990  HP Elite 8200 Ultra Slim Desktop PC - Intel Co...  B0754MN7D3       HP   \n",
       "2991  DTECH 15ft DB9 Serial Cable COM Port Male to M...  B07B24HBXN      NaN   \n",
       "\n",
       "                                      Best Sellers Rank  \\\n",
       "0     #63 in Electronics ( See Top 100 in Electronic...   \n",
       "1     #138 in Electronics ( See Top 100 in Electroni...   \n",
       "2     #493 in Electronics ( See Top 100 in Electroni...   \n",
       "3     #145 in Electronics ( See Top 100 in Electroni...   \n",
       "4     #279 in Electronics ( See Top 100 in Electroni...   \n",
       "...                                                 ...   \n",
       "2987       #204 in Monitor Anti-Glare & Privacy Filters   \n",
       "2988  #6,516 in Office Products ( See Top 100 in Off...   \n",
       "2989                                                NaN   \n",
       "2990  #1,608 in Computers & Accessories ( See Top 10...   \n",
       "2991                               #91 in Serial Cables   \n",
       "\n",
       "          Product Dimensions         Package Dimensions  Item Weight  \\\n",
       "0      18.35 x 7.17 x 13.58                         NaN        4.430   \n",
       "1      24.27 x 9.01 x 17.69                         NaN        8.600   \n",
       "2       16.54 x 6.9 x 21.26                         NaN        8.400   \n",
       "3         21.9 x 7.8 x 17.2                         NaN        6.200   \n",
       "4           21.3 x 7.3 x 16                         NaN        6.400   \n",
       "...                      ...                        ...          ...   \n",
       "2987   16.14 x 10.24 x 0.39                         NaN        0.784   \n",
       "2988  10.63 x 10.63 x 10.63                         NaN        1.450   \n",
       "2989                     NaN   9.8 x 6.22 x 2.91 inches        1.030   \n",
       "2990         10 x 9.9 x 2.6                         NaN        6.800   \n",
       "2991                     NaN  8.98 x 7.13 x 1.18 inches        1.552   \n",
       "\n",
       "     Date First Available Is Discontinued By Manufacturer Item model number  \\\n",
       "0        November 1, 2017                              No      E205W-16003R   \n",
       "1        January 11, 2019                              No      C275W-1920RN   \n",
       "2          August 2, 2017                              No            GW2480   \n",
       "3           April 9, 2015                              No           24M47VQ   \n",
       "4       September 6, 2015                              No       R240HY bidx   \n",
       "...                   ...                             ...               ...   \n",
       "2987                                                   No          APNA2007   \n",
       "2988                                                  NaN               NaN   \n",
       "2989                                                  NaN        5pk, 10pk,   \n",
       "2990      August 25, 2017                             NaN        Elite 8200   \n",
       "2991       March 24, 2018                              No               NaN   \n",
       "\n",
       "      ... Item Package Quantity           Color Number of USB 2.0 Ports  \\\n",
       "0     ...                   NaN  Metallic Black                     NaN   \n",
       "1     ...                   NaN     Metal Black                     NaN   \n",
       "2     ...                   NaN           Black                     NaN   \n",
       "3     ...                   NaN           Black                     NaN   \n",
       "4     ...                   NaN           Black                     NaN   \n",
       "...   ...                   ...             ...                     ...   \n",
       "2987  ...                   NaN             NaN                     NaN   \n",
       "2988  ...                   NaN           Black                     NaN   \n",
       "2989  ...                   NaN             NaN                     NaN   \n",
       "2990  ...                   NaN             NaN                      10   \n",
       "2991  ...                   NaN             NaN                           \n",
       "\n",
       "     Number of USB 3.0 Ports Memory Speed Graphics Coprocessor  \\\n",
       "0                        NaN          NaN                  NaN   \n",
       "1                        NaN          NaN                  NaN   \n",
       "2                        NaN          NaN                  NaN   \n",
       "3                        NaN          NaN                  NaN   \n",
       "4                        NaN          NaN                  NaN   \n",
       "...                      ...          ...                  ...   \n",
       "2987                     NaN          NaN                  NaN   \n",
       "2988                     NaN          NaN                  NaN   \n",
       "2989                     NaN          NaN                  NaN   \n",
       "2990                     NaN          NaN    Intel HD Graphics   \n",
       "2991                     NaN          NaN                  NaN   \n",
       "\n",
       "     Computer Memory Type Average Battery Life (in hours)  \\\n",
       "0                     NaN                             NaN   \n",
       "1                     NaN                             NaN   \n",
       "2                     NaN                             NaN   \n",
       "3                     NaN                             NaN   \n",
       "4                     NaN                             NaN   \n",
       "...                   ...                             ...   \n",
       "2987                  NaN                             NaN   \n",
       "2988                  NaN                             NaN   \n",
       "2989                  NaN                             NaN   \n",
       "2990               SODIMM                             NaN   \n",
       "2991                  NaN                             NaN   \n",
       "\n",
       "     Graphics Card Ram Size Processor Count  \n",
       "0                       NaN             NaN  \n",
       "1                       NaN             NaN  \n",
       "2                       NaN             NaN  \n",
       "3                       NaN             NaN  \n",
       "4                       NaN             NaN  \n",
       "...                     ...             ...  \n",
       "2987                    NaN             NaN  \n",
       "2988                    NaN             NaN  \n",
       "2989                    NaN             NaN  \n",
       "2990                    NaN               1  \n",
       "2991                    NaN             NaN  \n",
       "\n",
       "[2992 rows x 31 columns]"
      ],
      "text/html": "<div>\n<style scoped>\n    .dataframe tbody tr th:only-of-type {\n        vertical-align: middle;\n    }\n\n    .dataframe tbody tr th {\n        vertical-align: top;\n    }\n\n    .dataframe thead th {\n        text-align: right;\n    }\n</style>\n<table border=\"1\" class=\"dataframe\">\n  <thead>\n    <tr style=\"text-align: right;\">\n      <th></th>\n      <th>name</th>\n      <th>ASIN</th>\n      <th>Brand</th>\n      <th>Best Sellers Rank</th>\n      <th>Product Dimensions</th>\n      <th>Package Dimensions</th>\n      <th>Item Weight</th>\n      <th>Date First Available</th>\n      <th>Is Discontinued By Manufacturer</th>\n      <th>Item model number</th>\n      <th>...</th>\n      <th>Item Package Quantity</th>\n      <th>Color</th>\n      <th>Number of USB 2.0 Ports</th>\n      <th>Number of USB 3.0 Ports</th>\n      <th>Memory Speed</th>\n      <th>Graphics Coprocessor</th>\n      <th>Computer Memory Type</th>\n      <th>Average Battery Life (in hours)</th>\n      <th>Graphics Card Ram Size</th>\n      <th>Processor Count</th>\n    </tr>\n  </thead>\n  <tbody>\n    <tr>\n      <th>0</th>\n      <td>Sceptre 20\" 1600x900 75Hz Ultra Thin LED Monit...</td>\n      <td>B07743412C</td>\n      <td>Sceptre</td>\n      <td>#63 in Electronics ( See Top 100 in Electronic...</td>\n      <td>18.35 x 7.17 x 13.58</td>\n      <td>NaN</td>\n      <td>4.430</td>\n      <td>November 1, 2017</td>\n      <td>No</td>\n      <td>E205W-16003R</td>\n      <td>...</td>\n      <td>NaN</td>\n      <td>Metallic Black</td>\n      <td>NaN</td>\n      <td>NaN</td>\n      <td>NaN</td>\n      <td>NaN</td>\n      <td>NaN</td>\n      <td>NaN</td>\n      <td>NaN</td>\n      <td>NaN</td>\n    </tr>\n    <tr>\n      <th>1</th>\n      <td>Sceptre Curved 27\" 75Hz LED Monitor HDMI VGA B...</td>\n      <td>B07MTRQ6B3</td>\n      <td>Sceptre</td>\n      <td>#138 in Electronics ( See Top 100 in Electroni...</td>\n      <td>24.27 x 9.01 x 17.69</td>\n      <td>NaN</td>\n      <td>8.600</td>\n      <td>January 11, 2019</td>\n      <td>No</td>\n      <td>C275W-1920RN</td>\n      <td>...</td>\n      <td>NaN</td>\n      <td>Metal Black</td>\n      <td>NaN</td>\n      <td>NaN</td>\n      <td>NaN</td>\n      <td>NaN</td>\n      <td>NaN</td>\n      <td>NaN</td>\n      <td>NaN</td>\n      <td>NaN</td>\n    </tr>\n    <tr>\n      <th>2</th>\n      <td>BenQ 24 Inch IPS Monitor | 1080P | Proprietary...</td>\n      <td>B072XCZSSW</td>\n      <td>BenQ</td>\n      <td>#493 in Electronics ( See Top 100 in Electroni...</td>\n      <td>16.54 x 6.9 x 21.26</td>\n      <td>NaN</td>\n      <td>8.400</td>\n      <td>August 2, 2017</td>\n      <td>No</td>\n      <td>GW2480</td>\n      <td>...</td>\n      <td>NaN</td>\n      <td>Black</td>\n      <td>NaN</td>\n      <td>NaN</td>\n      <td>NaN</td>\n      <td>NaN</td>\n      <td>NaN</td>\n      <td>NaN</td>\n      <td>NaN</td>\n      <td>NaN</td>\n    </tr>\n    <tr>\n      <th>3</th>\n      <td>LG 24M47VQ 24-Inch LED-lit Monitor, Black</td>\n      <td>B00W95RR32</td>\n      <td>LG</td>\n      <td>#145 in Electronics ( See Top 100 in Electroni...</td>\n      <td>21.9 x 7.8 x 17.2</td>\n      <td>NaN</td>\n      <td>6.200</td>\n      <td>April 9, 2015</td>\n      <td>No</td>\n      <td>24M47VQ</td>\n      <td>...</td>\n      <td>NaN</td>\n      <td>Black</td>\n      <td>NaN</td>\n      <td>NaN</td>\n      <td>NaN</td>\n      <td>NaN</td>\n      <td>NaN</td>\n      <td>NaN</td>\n      <td>NaN</td>\n      <td>NaN</td>\n    </tr>\n    <tr>\n      <th>4</th>\n      <td>Acer R240HY bidx 23.8-Inch IPS HDMI DVI VGA (1...</td>\n      <td>B0148NNKTC</td>\n      <td>Acer</td>\n      <td>#279 in Electronics ( See Top 100 in Electroni...</td>\n      <td>21.3 x 7.3 x 16</td>\n      <td>NaN</td>\n      <td>6.400</td>\n      <td>September 6, 2015</td>\n      <td>No</td>\n      <td>R240HY bidx</td>\n      <td>...</td>\n      <td>NaN</td>\n      <td>Black</td>\n      <td>NaN</td>\n      <td>NaN</td>\n      <td>NaN</td>\n      <td>NaN</td>\n      <td>NaN</td>\n      <td>NaN</td>\n      <td>NaN</td>\n      <td>NaN</td>\n    </tr>\n    <tr>\n      <th>...</th>\n      <td>...</td>\n      <td>...</td>\n      <td>...</td>\n      <td>...</td>\n      <td>...</td>\n      <td>...</td>\n      <td>...</td>\n      <td>...</td>\n      <td>...</td>\n      <td>...</td>\n      <td>...</td>\n      <td>...</td>\n      <td>...</td>\n      <td>...</td>\n      <td>...</td>\n      <td>...</td>\n      <td>...</td>\n      <td>...</td>\n      <td>...</td>\n      <td>...</td>\n      <td>...</td>\n    </tr>\n    <tr>\n      <th>2987</th>\n      <td>Apple MacBook Compatible – Premium Black Priva...</td>\n      <td>B06XT2J985</td>\n      <td>NaN</td>\n      <td>#204 in Monitor Anti-Glare &amp; Privacy Filters</td>\n      <td>16.14 x 10.24 x 0.39</td>\n      <td>NaN</td>\n      <td>0.784</td>\n      <td></td>\n      <td>No</td>\n      <td>APNA2007</td>\n      <td>...</td>\n      <td>NaN</td>\n      <td>NaN</td>\n      <td>NaN</td>\n      <td>NaN</td>\n      <td>NaN</td>\n      <td>NaN</td>\n      <td>NaN</td>\n      <td>NaN</td>\n      <td>NaN</td>\n      <td>NaN</td>\n    </tr>\n    <tr>\n      <th>2988</th>\n      <td>Besign Adjustable Laptop Stand, Ergonomic Rise...</td>\n      <td>B07RQ89Y8G</td>\n      <td>BESIGN</td>\n      <td>#6,516 in Office Products ( See Top 100 in Off...</td>\n      <td>10.63 x 10.63 x 10.63</td>\n      <td>NaN</td>\n      <td>1.450</td>\n      <td></td>\n      <td>NaN</td>\n      <td>NaN</td>\n      <td>...</td>\n      <td>NaN</td>\n      <td>Black</td>\n      <td>NaN</td>\n      <td>NaN</td>\n      <td>NaN</td>\n      <td>NaN</td>\n      <td>NaN</td>\n      <td>NaN</td>\n      <td>NaN</td>\n      <td>NaN</td>\n    </tr>\n    <tr>\n      <th>2989</th>\n      <td>(5 Pack) 90 Degree Angled 2 Prong to L-Shaped ...</td>\n      <td>B08NC5DSY1</td>\n      <td>NaN</td>\n      <td>NaN</td>\n      <td>NaN</td>\n      <td>9.8 x 6.22 x 2.91 inches</td>\n      <td>1.030</td>\n      <td></td>\n      <td>NaN</td>\n      <td>5pk, 10pk,</td>\n      <td>...</td>\n      <td>NaN</td>\n      <td>NaN</td>\n      <td>NaN</td>\n      <td>NaN</td>\n      <td>NaN</td>\n      <td>NaN</td>\n      <td>NaN</td>\n      <td>NaN</td>\n      <td>NaN</td>\n      <td>NaN</td>\n    </tr>\n    <tr>\n      <th>2990</th>\n      <td>HP Elite 8200 Ultra Slim Desktop PC - Intel Co...</td>\n      <td>B0754MN7D3</td>\n      <td>HP</td>\n      <td>#1,608 in Computers &amp; Accessories ( See Top 10...</td>\n      <td>10 x 9.9 x 2.6</td>\n      <td>NaN</td>\n      <td>6.800</td>\n      <td>August 25, 2017</td>\n      <td>NaN</td>\n      <td>Elite 8200</td>\n      <td>...</td>\n      <td>NaN</td>\n      <td>NaN</td>\n      <td>10</td>\n      <td>NaN</td>\n      <td>NaN</td>\n      <td>Intel HD Graphics</td>\n      <td>SODIMM</td>\n      <td>NaN</td>\n      <td>NaN</td>\n      <td>1</td>\n    </tr>\n    <tr>\n      <th>2991</th>\n      <td>DTECH 15ft DB9 Serial Cable COM Port Male to M...</td>\n      <td>B07B24HBXN</td>\n      <td>NaN</td>\n      <td>#91 in Serial Cables</td>\n      <td>NaN</td>\n      <td>8.98 x 7.13 x 1.18 inches</td>\n      <td>1.552</td>\n      <td>March 24, 2018</td>\n      <td>No</td>\n      <td>NaN</td>\n      <td>...</td>\n      <td>NaN</td>\n      <td>NaN</td>\n      <td></td>\n      <td>NaN</td>\n      <td>NaN</td>\n      <td>NaN</td>\n      <td>NaN</td>\n      <td>NaN</td>\n      <td>NaN</td>\n      <td>NaN</td>\n    </tr>\n  </tbody>\n</table>\n<p>2992 rows × 31 columns</p>\n</div>"
     },
     "metadata": {},
     "execution_count": 414
    }
   ],
   "source": [
    "a.a = a['a'].astype(float)\n",
    "a['a'] = np.where(a['b'] == 'ounces',a['a'] * 0.16 ,a['a'])\n",
    "final['Item Weight'] = a['a']\n",
    "final"
   ]
  },
  {
   "cell_type": "code",
   "execution_count": 415,
   "metadata": {},
   "outputs": [
    {
     "output_type": "execute_result",
     "data": {
      "text/plain": [
       "                                                   name        ASIN    Brand  \\\n",
       "0     Sceptre 20\" 1600x900 75Hz Ultra Thin LED Monit...  B07743412C  Sceptre   \n",
       "1     Sceptre Curved 27\" 75Hz LED Monitor HDMI VGA B...  B07MTRQ6B3  Sceptre   \n",
       "2     BenQ 24 Inch IPS Monitor | 1080P | Proprietary...  B072XCZSSW     BenQ   \n",
       "3             LG 24M47VQ 24-Inch LED-lit Monitor, Black  B00W95RR32       LG   \n",
       "4     Acer R240HY bidx 23.8-Inch IPS HDMI DVI VGA (1...  B0148NNKTC     Acer   \n",
       "...                                                 ...         ...      ...   \n",
       "2987  Apple MacBook Compatible – Premium Black Priva...  B06XT2J985      NaN   \n",
       "2988  Besign Adjustable Laptop Stand, Ergonomic Rise...  B07RQ89Y8G   BESIGN   \n",
       "2989  (5 Pack) 90 Degree Angled 2 Prong to L-Shaped ...  B08NC5DSY1      NaN   \n",
       "2990  HP Elite 8200 Ultra Slim Desktop PC - Intel Co...  B0754MN7D3       HP   \n",
       "2991  DTECH 15ft DB9 Serial Cable COM Port Male to M...  B07B24HBXN      NaN   \n",
       "\n",
       "                                      Best Sellers Rank  \\\n",
       "0     #63 in Electronics ( See Top 100 in Electronic...   \n",
       "1     #138 in Electronics ( See Top 100 in Electroni...   \n",
       "2     #493 in Electronics ( See Top 100 in Electroni...   \n",
       "3     #145 in Electronics ( See Top 100 in Electroni...   \n",
       "4     #279 in Electronics ( See Top 100 in Electroni...   \n",
       "...                                                 ...   \n",
       "2987       #204 in Monitor Anti-Glare & Privacy Filters   \n",
       "2988  #6,516 in Office Products ( See Top 100 in Off...   \n",
       "2989                                                NaN   \n",
       "2990  #1,608 in Computers & Accessories ( See Top 10...   \n",
       "2991                               #91 in Serial Cables   \n",
       "\n",
       "     Product Dimensions (inches)         Package Dimensions  \\\n",
       "0          18.35 x 7.17 x 13.58                         NaN   \n",
       "1          24.27 x 9.01 x 17.69                         NaN   \n",
       "2           16.54 x 6.9 x 21.26                         NaN   \n",
       "3             21.9 x 7.8 x 17.2                         NaN   \n",
       "4               21.3 x 7.3 x 16                         NaN   \n",
       "...                          ...                        ...   \n",
       "2987       16.14 x 10.24 x 0.39                         NaN   \n",
       "2988      10.63 x 10.63 x 10.63                         NaN   \n",
       "2989                         NaN   9.8 x 6.22 x 2.91 inches   \n",
       "2990             10 x 9.9 x 2.6                         NaN   \n",
       "2991                         NaN  8.98 x 7.13 x 1.18 inches   \n",
       "\n",
       "      Item Weight (pounds) Date First Available  \\\n",
       "0                    4.430     November 1, 2017   \n",
       "1                    8.600     January 11, 2019   \n",
       "2                    8.400       August 2, 2017   \n",
       "3                    6.200        April 9, 2015   \n",
       "4                    6.400    September 6, 2015   \n",
       "...                    ...                  ...   \n",
       "2987                 0.784                        \n",
       "2988                 1.450                        \n",
       "2989                 1.030                        \n",
       "2990                 6.800      August 25, 2017   \n",
       "2991                 1.552       March 24, 2018   \n",
       "\n",
       "     Is Discontinued By Manufacturer Item model number  ...  \\\n",
       "0                                 No      E205W-16003R  ...   \n",
       "1                                 No      C275W-1920RN  ...   \n",
       "2                                 No            GW2480  ...   \n",
       "3                                 No           24M47VQ  ...   \n",
       "4                                 No       R240HY bidx  ...   \n",
       "...                              ...               ...  ...   \n",
       "2987                              No          APNA2007  ...   \n",
       "2988                             NaN               NaN  ...   \n",
       "2989                             NaN        5pk, 10pk,  ...   \n",
       "2990                             NaN        Elite 8200  ...   \n",
       "2991                              No               NaN  ...   \n",
       "\n",
       "     Item Package Quantity           Color Number of USB 2.0 Ports  \\\n",
       "0                      NaN  Metallic Black                     NaN   \n",
       "1                      NaN     Metal Black                     NaN   \n",
       "2                      NaN           Black                     NaN   \n",
       "3                      NaN           Black                     NaN   \n",
       "4                      NaN           Black                     NaN   \n",
       "...                    ...             ...                     ...   \n",
       "2987                   NaN             NaN                     NaN   \n",
       "2988                   NaN           Black                     NaN   \n",
       "2989                   NaN             NaN                     NaN   \n",
       "2990                   NaN             NaN                      10   \n",
       "2991                   NaN             NaN                           \n",
       "\n",
       "     Number of USB 3.0 Ports Memory Speed Graphics Coprocessor  \\\n",
       "0                        NaN          NaN                  NaN   \n",
       "1                        NaN          NaN                  NaN   \n",
       "2                        NaN          NaN                  NaN   \n",
       "3                        NaN          NaN                  NaN   \n",
       "4                        NaN          NaN                  NaN   \n",
       "...                      ...          ...                  ...   \n",
       "2987                     NaN          NaN                  NaN   \n",
       "2988                     NaN          NaN                  NaN   \n",
       "2989                     NaN          NaN                  NaN   \n",
       "2990                     NaN          NaN    Intel HD Graphics   \n",
       "2991                     NaN          NaN                  NaN   \n",
       "\n",
       "     Computer Memory Type Average Battery Life (in hours)  \\\n",
       "0                     NaN                             NaN   \n",
       "1                     NaN                             NaN   \n",
       "2                     NaN                             NaN   \n",
       "3                     NaN                             NaN   \n",
       "4                     NaN                             NaN   \n",
       "...                   ...                             ...   \n",
       "2987                  NaN                             NaN   \n",
       "2988                  NaN                             NaN   \n",
       "2989                  NaN                             NaN   \n",
       "2990               SODIMM                             NaN   \n",
       "2991                  NaN                             NaN   \n",
       "\n",
       "     Graphics Card Ram Size Processor Count  \n",
       "0                       NaN             NaN  \n",
       "1                       NaN             NaN  \n",
       "2                       NaN             NaN  \n",
       "3                       NaN             NaN  \n",
       "4                       NaN             NaN  \n",
       "...                     ...             ...  \n",
       "2987                    NaN             NaN  \n",
       "2988                    NaN             NaN  \n",
       "2989                    NaN             NaN  \n",
       "2990                    NaN               1  \n",
       "2991                    NaN             NaN  \n",
       "\n",
       "[2992 rows x 31 columns]"
      ],
      "text/html": "<div>\n<style scoped>\n    .dataframe tbody tr th:only-of-type {\n        vertical-align: middle;\n    }\n\n    .dataframe tbody tr th {\n        vertical-align: top;\n    }\n\n    .dataframe thead th {\n        text-align: right;\n    }\n</style>\n<table border=\"1\" class=\"dataframe\">\n  <thead>\n    <tr style=\"text-align: right;\">\n      <th></th>\n      <th>name</th>\n      <th>ASIN</th>\n      <th>Brand</th>\n      <th>Best Sellers Rank</th>\n      <th>Product Dimensions (inches)</th>\n      <th>Package Dimensions</th>\n      <th>Item Weight (pounds)</th>\n      <th>Date First Available</th>\n      <th>Is Discontinued By Manufacturer</th>\n      <th>Item model number</th>\n      <th>...</th>\n      <th>Item Package Quantity</th>\n      <th>Color</th>\n      <th>Number of USB 2.0 Ports</th>\n      <th>Number of USB 3.0 Ports</th>\n      <th>Memory Speed</th>\n      <th>Graphics Coprocessor</th>\n      <th>Computer Memory Type</th>\n      <th>Average Battery Life (in hours)</th>\n      <th>Graphics Card Ram Size</th>\n      <th>Processor Count</th>\n    </tr>\n  </thead>\n  <tbody>\n    <tr>\n      <th>0</th>\n      <td>Sceptre 20\" 1600x900 75Hz Ultra Thin LED Monit...</td>\n      <td>B07743412C</td>\n      <td>Sceptre</td>\n      <td>#63 in Electronics ( See Top 100 in Electronic...</td>\n      <td>18.35 x 7.17 x 13.58</td>\n      <td>NaN</td>\n      <td>4.430</td>\n      <td>November 1, 2017</td>\n      <td>No</td>\n      <td>E205W-16003R</td>\n      <td>...</td>\n      <td>NaN</td>\n      <td>Metallic Black</td>\n      <td>NaN</td>\n      <td>NaN</td>\n      <td>NaN</td>\n      <td>NaN</td>\n      <td>NaN</td>\n      <td>NaN</td>\n      <td>NaN</td>\n      <td>NaN</td>\n    </tr>\n    <tr>\n      <th>1</th>\n      <td>Sceptre Curved 27\" 75Hz LED Monitor HDMI VGA B...</td>\n      <td>B07MTRQ6B3</td>\n      <td>Sceptre</td>\n      <td>#138 in Electronics ( See Top 100 in Electroni...</td>\n      <td>24.27 x 9.01 x 17.69</td>\n      <td>NaN</td>\n      <td>8.600</td>\n      <td>January 11, 2019</td>\n      <td>No</td>\n      <td>C275W-1920RN</td>\n      <td>...</td>\n      <td>NaN</td>\n      <td>Metal Black</td>\n      <td>NaN</td>\n      <td>NaN</td>\n      <td>NaN</td>\n      <td>NaN</td>\n      <td>NaN</td>\n      <td>NaN</td>\n      <td>NaN</td>\n      <td>NaN</td>\n    </tr>\n    <tr>\n      <th>2</th>\n      <td>BenQ 24 Inch IPS Monitor | 1080P | Proprietary...</td>\n      <td>B072XCZSSW</td>\n      <td>BenQ</td>\n      <td>#493 in Electronics ( See Top 100 in Electroni...</td>\n      <td>16.54 x 6.9 x 21.26</td>\n      <td>NaN</td>\n      <td>8.400</td>\n      <td>August 2, 2017</td>\n      <td>No</td>\n      <td>GW2480</td>\n      <td>...</td>\n      <td>NaN</td>\n      <td>Black</td>\n      <td>NaN</td>\n      <td>NaN</td>\n      <td>NaN</td>\n      <td>NaN</td>\n      <td>NaN</td>\n      <td>NaN</td>\n      <td>NaN</td>\n      <td>NaN</td>\n    </tr>\n    <tr>\n      <th>3</th>\n      <td>LG 24M47VQ 24-Inch LED-lit Monitor, Black</td>\n      <td>B00W95RR32</td>\n      <td>LG</td>\n      <td>#145 in Electronics ( See Top 100 in Electroni...</td>\n      <td>21.9 x 7.8 x 17.2</td>\n      <td>NaN</td>\n      <td>6.200</td>\n      <td>April 9, 2015</td>\n      <td>No</td>\n      <td>24M47VQ</td>\n      <td>...</td>\n      <td>NaN</td>\n      <td>Black</td>\n      <td>NaN</td>\n      <td>NaN</td>\n      <td>NaN</td>\n      <td>NaN</td>\n      <td>NaN</td>\n      <td>NaN</td>\n      <td>NaN</td>\n      <td>NaN</td>\n    </tr>\n    <tr>\n      <th>4</th>\n      <td>Acer R240HY bidx 23.8-Inch IPS HDMI DVI VGA (1...</td>\n      <td>B0148NNKTC</td>\n      <td>Acer</td>\n      <td>#279 in Electronics ( See Top 100 in Electroni...</td>\n      <td>21.3 x 7.3 x 16</td>\n      <td>NaN</td>\n      <td>6.400</td>\n      <td>September 6, 2015</td>\n      <td>No</td>\n      <td>R240HY bidx</td>\n      <td>...</td>\n      <td>NaN</td>\n      <td>Black</td>\n      <td>NaN</td>\n      <td>NaN</td>\n      <td>NaN</td>\n      <td>NaN</td>\n      <td>NaN</td>\n      <td>NaN</td>\n      <td>NaN</td>\n      <td>NaN</td>\n    </tr>\n    <tr>\n      <th>...</th>\n      <td>...</td>\n      <td>...</td>\n      <td>...</td>\n      <td>...</td>\n      <td>...</td>\n      <td>...</td>\n      <td>...</td>\n      <td>...</td>\n      <td>...</td>\n      <td>...</td>\n      <td>...</td>\n      <td>...</td>\n      <td>...</td>\n      <td>...</td>\n      <td>...</td>\n      <td>...</td>\n      <td>...</td>\n      <td>...</td>\n      <td>...</td>\n      <td>...</td>\n      <td>...</td>\n    </tr>\n    <tr>\n      <th>2987</th>\n      <td>Apple MacBook Compatible – Premium Black Priva...</td>\n      <td>B06XT2J985</td>\n      <td>NaN</td>\n      <td>#204 in Monitor Anti-Glare &amp; Privacy Filters</td>\n      <td>16.14 x 10.24 x 0.39</td>\n      <td>NaN</td>\n      <td>0.784</td>\n      <td></td>\n      <td>No</td>\n      <td>APNA2007</td>\n      <td>...</td>\n      <td>NaN</td>\n      <td>NaN</td>\n      <td>NaN</td>\n      <td>NaN</td>\n      <td>NaN</td>\n      <td>NaN</td>\n      <td>NaN</td>\n      <td>NaN</td>\n      <td>NaN</td>\n      <td>NaN</td>\n    </tr>\n    <tr>\n      <th>2988</th>\n      <td>Besign Adjustable Laptop Stand, Ergonomic Rise...</td>\n      <td>B07RQ89Y8G</td>\n      <td>BESIGN</td>\n      <td>#6,516 in Office Products ( See Top 100 in Off...</td>\n      <td>10.63 x 10.63 x 10.63</td>\n      <td>NaN</td>\n      <td>1.450</td>\n      <td></td>\n      <td>NaN</td>\n      <td>NaN</td>\n      <td>...</td>\n      <td>NaN</td>\n      <td>Black</td>\n      <td>NaN</td>\n      <td>NaN</td>\n      <td>NaN</td>\n      <td>NaN</td>\n      <td>NaN</td>\n      <td>NaN</td>\n      <td>NaN</td>\n      <td>NaN</td>\n    </tr>\n    <tr>\n      <th>2989</th>\n      <td>(5 Pack) 90 Degree Angled 2 Prong to L-Shaped ...</td>\n      <td>B08NC5DSY1</td>\n      <td>NaN</td>\n      <td>NaN</td>\n      <td>NaN</td>\n      <td>9.8 x 6.22 x 2.91 inches</td>\n      <td>1.030</td>\n      <td></td>\n      <td>NaN</td>\n      <td>5pk, 10pk,</td>\n      <td>...</td>\n      <td>NaN</td>\n      <td>NaN</td>\n      <td>NaN</td>\n      <td>NaN</td>\n      <td>NaN</td>\n      <td>NaN</td>\n      <td>NaN</td>\n      <td>NaN</td>\n      <td>NaN</td>\n      <td>NaN</td>\n    </tr>\n    <tr>\n      <th>2990</th>\n      <td>HP Elite 8200 Ultra Slim Desktop PC - Intel Co...</td>\n      <td>B0754MN7D3</td>\n      <td>HP</td>\n      <td>#1,608 in Computers &amp; Accessories ( See Top 10...</td>\n      <td>10 x 9.9 x 2.6</td>\n      <td>NaN</td>\n      <td>6.800</td>\n      <td>August 25, 2017</td>\n      <td>NaN</td>\n      <td>Elite 8200</td>\n      <td>...</td>\n      <td>NaN</td>\n      <td>NaN</td>\n      <td>10</td>\n      <td>NaN</td>\n      <td>NaN</td>\n      <td>Intel HD Graphics</td>\n      <td>SODIMM</td>\n      <td>NaN</td>\n      <td>NaN</td>\n      <td>1</td>\n    </tr>\n    <tr>\n      <th>2991</th>\n      <td>DTECH 15ft DB9 Serial Cable COM Port Male to M...</td>\n      <td>B07B24HBXN</td>\n      <td>NaN</td>\n      <td>#91 in Serial Cables</td>\n      <td>NaN</td>\n      <td>8.98 x 7.13 x 1.18 inches</td>\n      <td>1.552</td>\n      <td>March 24, 2018</td>\n      <td>No</td>\n      <td>NaN</td>\n      <td>...</td>\n      <td>NaN</td>\n      <td>NaN</td>\n      <td></td>\n      <td>NaN</td>\n      <td>NaN</td>\n      <td>NaN</td>\n      <td>NaN</td>\n      <td>NaN</td>\n      <td>NaN</td>\n      <td>NaN</td>\n    </tr>\n  </tbody>\n</table>\n<p>2992 rows × 31 columns</p>\n</div>"
     },
     "metadata": {},
     "execution_count": 415
    }
   ],
   "source": [
    "final = final.rename(columns={'Product Dimensions' : 'Product Dimensions (inches)', 'Item Weight':'Item Weight (pounds)'})\n",
    "final"
   ]
  },
  {
   "cell_type": "code",
   "execution_count": 416,
   "metadata": {},
   "outputs": [],
   "source": [
    "final['Best_Sellers_Rank_fields'] = final['Best Sellers Rank'].str.split('(').str[0]"
   ]
  },
  {
   "cell_type": "code",
   "execution_count": 417,
   "metadata": {},
   "outputs": [],
   "source": [
    "final['Best Sellers Rank'] = final['Best_Sellers_Rank_fields']"
   ]
  },
  {
   "cell_type": "code",
   "execution_count": 418,
   "metadata": {},
   "outputs": [],
   "source": [
    "final['Best_Sellers_Rank_1'] = final['Best Sellers Rank'].str.split('in').str[0]"
   ]
  },
  {
   "cell_type": "code",
   "execution_count": 419,
   "metadata": {},
   "outputs": [
    {
     "output_type": "execute_result",
     "data": {
      "text/plain": [
       "                                                   name        ASIN    Brand  \\\n",
       "0     Sceptre 20\" 1600x900 75Hz Ultra Thin LED Monit...  B07743412C  Sceptre   \n",
       "1     Sceptre Curved 27\" 75Hz LED Monitor HDMI VGA B...  B07MTRQ6B3  Sceptre   \n",
       "2     BenQ 24 Inch IPS Monitor | 1080P | Proprietary...  B072XCZSSW     BenQ   \n",
       "3             LG 24M47VQ 24-Inch LED-lit Monitor, Black  B00W95RR32       LG   \n",
       "4     Acer R240HY bidx 23.8-Inch IPS HDMI DVI VGA (1...  B0148NNKTC     Acer   \n",
       "...                                                 ...         ...      ...   \n",
       "2987  Apple MacBook Compatible – Premium Black Priva...  B06XT2J985      NaN   \n",
       "2988  Besign Adjustable Laptop Stand, Ergonomic Rise...  B07RQ89Y8G   BESIGN   \n",
       "2989  (5 Pack) 90 Degree Angled 2 Prong to L-Shaped ...  B08NC5DSY1      NaN   \n",
       "2990  HP Elite 8200 Ultra Slim Desktop PC - Intel Co...  B0754MN7D3       HP   \n",
       "2991  DTECH 15ft DB9 Serial Cable COM Port Male to M...  B07B24HBXN      NaN   \n",
       "\n",
       "     Best Sellers Rank Product Dimensions (inches)         Package Dimensions  \\\n",
       "0                 #63        18.35 x 7.17 x 13.58                         NaN   \n",
       "1                #138        24.27 x 9.01 x 17.69                         NaN   \n",
       "2                #493         16.54 x 6.9 x 21.26                         NaN   \n",
       "3                #145           21.9 x 7.8 x 17.2                         NaN   \n",
       "4                #279             21.3 x 7.3 x 16                         NaN   \n",
       "...                ...                         ...                        ...   \n",
       "2987             #204        16.14 x 10.24 x 0.39                         NaN   \n",
       "2988           #6,516       10.63 x 10.63 x 10.63                         NaN   \n",
       "2989               NaN                         NaN   9.8 x 6.22 x 2.91 inches   \n",
       "2990           #1,608              10 x 9.9 x 2.6                         NaN   \n",
       "2991              #91                          NaN  8.98 x 7.13 x 1.18 inches   \n",
       "\n",
       "      Item Weight (pounds) Date First Available  \\\n",
       "0                    4.430     November 1, 2017   \n",
       "1                    8.600     January 11, 2019   \n",
       "2                    8.400       August 2, 2017   \n",
       "3                    6.200        April 9, 2015   \n",
       "4                    6.400    September 6, 2015   \n",
       "...                    ...                  ...   \n",
       "2987                 0.784                        \n",
       "2988                 1.450                        \n",
       "2989                 1.030                        \n",
       "2990                 6.800      August 25, 2017   \n",
       "2991                 1.552       March 24, 2018   \n",
       "\n",
       "     Is Discontinued By Manufacturer Item model number  ...  \\\n",
       "0                                 No      E205W-16003R  ...   \n",
       "1                                 No      C275W-1920RN  ...   \n",
       "2                                 No            GW2480  ...   \n",
       "3                                 No           24M47VQ  ...   \n",
       "4                                 No       R240HY bidx  ...   \n",
       "...                              ...               ...  ...   \n",
       "2987                              No          APNA2007  ...   \n",
       "2988                             NaN               NaN  ...   \n",
       "2989                             NaN        5pk, 10pk,  ...   \n",
       "2990                             NaN        Elite 8200  ...   \n",
       "2991                              No               NaN  ...   \n",
       "\n",
       "     Number of USB 2.0 Ports Number of USB 3.0 Ports Memory Speed  \\\n",
       "0                        NaN                     NaN          NaN   \n",
       "1                        NaN                     NaN          NaN   \n",
       "2                        NaN                     NaN          NaN   \n",
       "3                        NaN                     NaN          NaN   \n",
       "4                        NaN                     NaN          NaN   \n",
       "...                      ...                     ...          ...   \n",
       "2987                     NaN                     NaN          NaN   \n",
       "2988                     NaN                     NaN          NaN   \n",
       "2989                     NaN                     NaN          NaN   \n",
       "2990                      10                     NaN          NaN   \n",
       "2991                                             NaN          NaN   \n",
       "\n",
       "     Graphics Coprocessor Computer Memory Type  \\\n",
       "0                     NaN                  NaN   \n",
       "1                     NaN                  NaN   \n",
       "2                     NaN                  NaN   \n",
       "3                     NaN                  NaN   \n",
       "4                     NaN                  NaN   \n",
       "...                   ...                  ...   \n",
       "2987                  NaN                  NaN   \n",
       "2988                  NaN                  NaN   \n",
       "2989                  NaN                  NaN   \n",
       "2990    Intel HD Graphics               SODIMM   \n",
       "2991                  NaN                  NaN   \n",
       "\n",
       "     Average Battery Life (in hours) Graphics Card Ram Size Processor Count  \\\n",
       "0                                NaN                    NaN             NaN   \n",
       "1                                NaN                    NaN             NaN   \n",
       "2                                NaN                    NaN             NaN   \n",
       "3                                NaN                    NaN             NaN   \n",
       "4                                NaN                    NaN             NaN   \n",
       "...                              ...                    ...             ...   \n",
       "2987                             NaN                    NaN             NaN   \n",
       "2988                             NaN                    NaN             NaN   \n",
       "2989                             NaN                    NaN             NaN   \n",
       "2990                             NaN                    NaN               1   \n",
       "2991                             NaN                    NaN             NaN   \n",
       "\n",
       "                          Best_Sellers_Rank_fields Best_Sellers_Rank_1  \n",
       "0                              #63 in Electronics                 #63   \n",
       "1                             #138 in Electronics                #138   \n",
       "2                             #493 in Electronics                #493   \n",
       "3                             #145 in Electronics                #145   \n",
       "4                             #279 in Electronics                #279   \n",
       "...                                            ...                 ...  \n",
       "2987  #204 in Monitor Anti-Glare & Privacy Filters               #204   \n",
       "2988                    #6,516 in Office Products              #6,516   \n",
       "2989                                           NaN                 NaN  \n",
       "2990            #1,608 in Computers & Accessories              #1,608   \n",
       "2991                          #91 in Serial Cables                #91   \n",
       "\n",
       "[2992 rows x 33 columns]"
      ],
      "text/html": "<div>\n<style scoped>\n    .dataframe tbody tr th:only-of-type {\n        vertical-align: middle;\n    }\n\n    .dataframe tbody tr th {\n        vertical-align: top;\n    }\n\n    .dataframe thead th {\n        text-align: right;\n    }\n</style>\n<table border=\"1\" class=\"dataframe\">\n  <thead>\n    <tr style=\"text-align: right;\">\n      <th></th>\n      <th>name</th>\n      <th>ASIN</th>\n      <th>Brand</th>\n      <th>Best Sellers Rank</th>\n      <th>Product Dimensions (inches)</th>\n      <th>Package Dimensions</th>\n      <th>Item Weight (pounds)</th>\n      <th>Date First Available</th>\n      <th>Is Discontinued By Manufacturer</th>\n      <th>Item model number</th>\n      <th>...</th>\n      <th>Number of USB 2.0 Ports</th>\n      <th>Number of USB 3.0 Ports</th>\n      <th>Memory Speed</th>\n      <th>Graphics Coprocessor</th>\n      <th>Computer Memory Type</th>\n      <th>Average Battery Life (in hours)</th>\n      <th>Graphics Card Ram Size</th>\n      <th>Processor Count</th>\n      <th>Best_Sellers_Rank_fields</th>\n      <th>Best_Sellers_Rank_1</th>\n    </tr>\n  </thead>\n  <tbody>\n    <tr>\n      <th>0</th>\n      <td>Sceptre 20\" 1600x900 75Hz Ultra Thin LED Monit...</td>\n      <td>B07743412C</td>\n      <td>Sceptre</td>\n      <td>#63</td>\n      <td>18.35 x 7.17 x 13.58</td>\n      <td>NaN</td>\n      <td>4.430</td>\n      <td>November 1, 2017</td>\n      <td>No</td>\n      <td>E205W-16003R</td>\n      <td>...</td>\n      <td>NaN</td>\n      <td>NaN</td>\n      <td>NaN</td>\n      <td>NaN</td>\n      <td>NaN</td>\n      <td>NaN</td>\n      <td>NaN</td>\n      <td>NaN</td>\n      <td>#63 in Electronics</td>\n      <td>#63</td>\n    </tr>\n    <tr>\n      <th>1</th>\n      <td>Sceptre Curved 27\" 75Hz LED Monitor HDMI VGA B...</td>\n      <td>B07MTRQ6B3</td>\n      <td>Sceptre</td>\n      <td>#138</td>\n      <td>24.27 x 9.01 x 17.69</td>\n      <td>NaN</td>\n      <td>8.600</td>\n      <td>January 11, 2019</td>\n      <td>No</td>\n      <td>C275W-1920RN</td>\n      <td>...</td>\n      <td>NaN</td>\n      <td>NaN</td>\n      <td>NaN</td>\n      <td>NaN</td>\n      <td>NaN</td>\n      <td>NaN</td>\n      <td>NaN</td>\n      <td>NaN</td>\n      <td>#138 in Electronics</td>\n      <td>#138</td>\n    </tr>\n    <tr>\n      <th>2</th>\n      <td>BenQ 24 Inch IPS Monitor | 1080P | Proprietary...</td>\n      <td>B072XCZSSW</td>\n      <td>BenQ</td>\n      <td>#493</td>\n      <td>16.54 x 6.9 x 21.26</td>\n      <td>NaN</td>\n      <td>8.400</td>\n      <td>August 2, 2017</td>\n      <td>No</td>\n      <td>GW2480</td>\n      <td>...</td>\n      <td>NaN</td>\n      <td>NaN</td>\n      <td>NaN</td>\n      <td>NaN</td>\n      <td>NaN</td>\n      <td>NaN</td>\n      <td>NaN</td>\n      <td>NaN</td>\n      <td>#493 in Electronics</td>\n      <td>#493</td>\n    </tr>\n    <tr>\n      <th>3</th>\n      <td>LG 24M47VQ 24-Inch LED-lit Monitor, Black</td>\n      <td>B00W95RR32</td>\n      <td>LG</td>\n      <td>#145</td>\n      <td>21.9 x 7.8 x 17.2</td>\n      <td>NaN</td>\n      <td>6.200</td>\n      <td>April 9, 2015</td>\n      <td>No</td>\n      <td>24M47VQ</td>\n      <td>...</td>\n      <td>NaN</td>\n      <td>NaN</td>\n      <td>NaN</td>\n      <td>NaN</td>\n      <td>NaN</td>\n      <td>NaN</td>\n      <td>NaN</td>\n      <td>NaN</td>\n      <td>#145 in Electronics</td>\n      <td>#145</td>\n    </tr>\n    <tr>\n      <th>4</th>\n      <td>Acer R240HY bidx 23.8-Inch IPS HDMI DVI VGA (1...</td>\n      <td>B0148NNKTC</td>\n      <td>Acer</td>\n      <td>#279</td>\n      <td>21.3 x 7.3 x 16</td>\n      <td>NaN</td>\n      <td>6.400</td>\n      <td>September 6, 2015</td>\n      <td>No</td>\n      <td>R240HY bidx</td>\n      <td>...</td>\n      <td>NaN</td>\n      <td>NaN</td>\n      <td>NaN</td>\n      <td>NaN</td>\n      <td>NaN</td>\n      <td>NaN</td>\n      <td>NaN</td>\n      <td>NaN</td>\n      <td>#279 in Electronics</td>\n      <td>#279</td>\n    </tr>\n    <tr>\n      <th>...</th>\n      <td>...</td>\n      <td>...</td>\n      <td>...</td>\n      <td>...</td>\n      <td>...</td>\n      <td>...</td>\n      <td>...</td>\n      <td>...</td>\n      <td>...</td>\n      <td>...</td>\n      <td>...</td>\n      <td>...</td>\n      <td>...</td>\n      <td>...</td>\n      <td>...</td>\n      <td>...</td>\n      <td>...</td>\n      <td>...</td>\n      <td>...</td>\n      <td>...</td>\n      <td>...</td>\n    </tr>\n    <tr>\n      <th>2987</th>\n      <td>Apple MacBook Compatible – Premium Black Priva...</td>\n      <td>B06XT2J985</td>\n      <td>NaN</td>\n      <td>#204</td>\n      <td>16.14 x 10.24 x 0.39</td>\n      <td>NaN</td>\n      <td>0.784</td>\n      <td></td>\n      <td>No</td>\n      <td>APNA2007</td>\n      <td>...</td>\n      <td>NaN</td>\n      <td>NaN</td>\n      <td>NaN</td>\n      <td>NaN</td>\n      <td>NaN</td>\n      <td>NaN</td>\n      <td>NaN</td>\n      <td>NaN</td>\n      <td>#204 in Monitor Anti-Glare &amp; Privacy Filters</td>\n      <td>#204</td>\n    </tr>\n    <tr>\n      <th>2988</th>\n      <td>Besign Adjustable Laptop Stand, Ergonomic Rise...</td>\n      <td>B07RQ89Y8G</td>\n      <td>BESIGN</td>\n      <td>#6,516</td>\n      <td>10.63 x 10.63 x 10.63</td>\n      <td>NaN</td>\n      <td>1.450</td>\n      <td></td>\n      <td>NaN</td>\n      <td>NaN</td>\n      <td>...</td>\n      <td>NaN</td>\n      <td>NaN</td>\n      <td>NaN</td>\n      <td>NaN</td>\n      <td>NaN</td>\n      <td>NaN</td>\n      <td>NaN</td>\n      <td>NaN</td>\n      <td>#6,516 in Office Products</td>\n      <td>#6,516</td>\n    </tr>\n    <tr>\n      <th>2989</th>\n      <td>(5 Pack) 90 Degree Angled 2 Prong to L-Shaped ...</td>\n      <td>B08NC5DSY1</td>\n      <td>NaN</td>\n      <td>NaN</td>\n      <td>NaN</td>\n      <td>9.8 x 6.22 x 2.91 inches</td>\n      <td>1.030</td>\n      <td></td>\n      <td>NaN</td>\n      <td>5pk, 10pk,</td>\n      <td>...</td>\n      <td>NaN</td>\n      <td>NaN</td>\n      <td>NaN</td>\n      <td>NaN</td>\n      <td>NaN</td>\n      <td>NaN</td>\n      <td>NaN</td>\n      <td>NaN</td>\n      <td>NaN</td>\n      <td>NaN</td>\n    </tr>\n    <tr>\n      <th>2990</th>\n      <td>HP Elite 8200 Ultra Slim Desktop PC - Intel Co...</td>\n      <td>B0754MN7D3</td>\n      <td>HP</td>\n      <td>#1,608</td>\n      <td>10 x 9.9 x 2.6</td>\n      <td>NaN</td>\n      <td>6.800</td>\n      <td>August 25, 2017</td>\n      <td>NaN</td>\n      <td>Elite 8200</td>\n      <td>...</td>\n      <td>10</td>\n      <td>NaN</td>\n      <td>NaN</td>\n      <td>Intel HD Graphics</td>\n      <td>SODIMM</td>\n      <td>NaN</td>\n      <td>NaN</td>\n      <td>1</td>\n      <td>#1,608 in Computers &amp; Accessories</td>\n      <td>#1,608</td>\n    </tr>\n    <tr>\n      <th>2991</th>\n      <td>DTECH 15ft DB9 Serial Cable COM Port Male to M...</td>\n      <td>B07B24HBXN</td>\n      <td>NaN</td>\n      <td>#91</td>\n      <td>NaN</td>\n      <td>8.98 x 7.13 x 1.18 inches</td>\n      <td>1.552</td>\n      <td>March 24, 2018</td>\n      <td>No</td>\n      <td>NaN</td>\n      <td>...</td>\n      <td></td>\n      <td>NaN</td>\n      <td>NaN</td>\n      <td>NaN</td>\n      <td>NaN</td>\n      <td>NaN</td>\n      <td>NaN</td>\n      <td>NaN</td>\n      <td>#91 in Serial Cables</td>\n      <td>#91</td>\n    </tr>\n  </tbody>\n</table>\n<p>2992 rows × 33 columns</p>\n</div>"
     },
     "metadata": {},
     "execution_count": 419
    }
   ],
   "source": [
    "final['Best Sellers Rank'] = final['Best_Sellers_Rank_1']\n",
    "final"
   ]
  },
  {
   "cell_type": "code",
   "execution_count": 420,
   "metadata": {},
   "outputs": [
    {
     "output_type": "execute_result",
     "data": {
      "text/plain": [
       "                                                   name        ASIN    Brand  \\\n",
       "0     Sceptre 20\" 1600x900 75Hz Ultra Thin LED Monit...  B07743412C  Sceptre   \n",
       "1     Sceptre Curved 27\" 75Hz LED Monitor HDMI VGA B...  B07MTRQ6B3  Sceptre   \n",
       "2     BenQ 24 Inch IPS Monitor | 1080P | Proprietary...  B072XCZSSW     BenQ   \n",
       "3             LG 24M47VQ 24-Inch LED-lit Monitor, Black  B00W95RR32       LG   \n",
       "4     Acer R240HY bidx 23.8-Inch IPS HDMI DVI VGA (1...  B0148NNKTC     Acer   \n",
       "...                                                 ...         ...      ...   \n",
       "2987  Apple MacBook Compatible – Premium Black Priva...  B06XT2J985      NaN   \n",
       "2988  Besign Adjustable Laptop Stand, Ergonomic Rise...  B07RQ89Y8G   BESIGN   \n",
       "2989  (5 Pack) 90 Degree Angled 2 Prong to L-Shaped ...  B08NC5DSY1      NaN   \n",
       "2990  HP Elite 8200 Ultra Slim Desktop PC - Intel Co...  B0754MN7D3       HP   \n",
       "2991  DTECH 15ft DB9 Serial Cable COM Port Male to M...  B07B24HBXN      NaN   \n",
       "\n",
       "     Best Sellers Rank Product Dimensions (inches)         Package Dimensions  \\\n",
       "0                 #63        18.35 x 7.17 x 13.58                         NaN   \n",
       "1                #138        24.27 x 9.01 x 17.69                         NaN   \n",
       "2                #493         16.54 x 6.9 x 21.26                         NaN   \n",
       "3                #145           21.9 x 7.8 x 17.2                         NaN   \n",
       "4                #279             21.3 x 7.3 x 16                         NaN   \n",
       "...                ...                         ...                        ...   \n",
       "2987             #204        16.14 x 10.24 x 0.39                         NaN   \n",
       "2988           #6,516       10.63 x 10.63 x 10.63                         NaN   \n",
       "2989               NaN                         NaN   9.8 x 6.22 x 2.91 inches   \n",
       "2990           #1,608              10 x 9.9 x 2.6                         NaN   \n",
       "2991              #91                          NaN  8.98 x 7.13 x 1.18 inches   \n",
       "\n",
       "      Item Weight (pounds) Date First Available  \\\n",
       "0                    4.430     November 1, 2017   \n",
       "1                    8.600     January 11, 2019   \n",
       "2                    8.400       August 2, 2017   \n",
       "3                    6.200        April 9, 2015   \n",
       "4                    6.400    September 6, 2015   \n",
       "...                    ...                  ...   \n",
       "2987                 0.784                        \n",
       "2988                 1.450                        \n",
       "2989                 1.030                        \n",
       "2990                 6.800      August 25, 2017   \n",
       "2991                 1.552       March 24, 2018   \n",
       "\n",
       "     Is Discontinued By Manufacturer Item model number  ...  \\\n",
       "0                                 No      E205W-16003R  ...   \n",
       "1                                 No      C275W-1920RN  ...   \n",
       "2                                 No            GW2480  ...   \n",
       "3                                 No           24M47VQ  ...   \n",
       "4                                 No       R240HY bidx  ...   \n",
       "...                              ...               ...  ...   \n",
       "2987                              No          APNA2007  ...   \n",
       "2988                             NaN               NaN  ...   \n",
       "2989                             NaN        5pk, 10pk,  ...   \n",
       "2990                             NaN        Elite 8200  ...   \n",
       "2991                              No               NaN  ...   \n",
       "\n",
       "     Number of USB 3.0 Ports Memory Speed Graphics Coprocessor  \\\n",
       "0                        NaN          NaN                  NaN   \n",
       "1                        NaN          NaN                  NaN   \n",
       "2                        NaN          NaN                  NaN   \n",
       "3                        NaN          NaN                  NaN   \n",
       "4                        NaN          NaN                  NaN   \n",
       "...                      ...          ...                  ...   \n",
       "2987                     NaN          NaN                  NaN   \n",
       "2988                     NaN          NaN                  NaN   \n",
       "2989                     NaN          NaN                  NaN   \n",
       "2990                     NaN          NaN    Intel HD Graphics   \n",
       "2991                     NaN          NaN                  NaN   \n",
       "\n",
       "     Computer Memory Type Average Battery Life (in hours)  \\\n",
       "0                     NaN                             NaN   \n",
       "1                     NaN                             NaN   \n",
       "2                     NaN                             NaN   \n",
       "3                     NaN                             NaN   \n",
       "4                     NaN                             NaN   \n",
       "...                   ...                             ...   \n",
       "2987                  NaN                             NaN   \n",
       "2988                  NaN                             NaN   \n",
       "2989                  NaN                             NaN   \n",
       "2990               SODIMM                             NaN   \n",
       "2991                  NaN                             NaN   \n",
       "\n",
       "     Graphics Card Ram Size Processor Count  \\\n",
       "0                       NaN             NaN   \n",
       "1                       NaN             NaN   \n",
       "2                       NaN             NaN   \n",
       "3                       NaN             NaN   \n",
       "4                       NaN             NaN   \n",
       "...                     ...             ...   \n",
       "2987                    NaN             NaN   \n",
       "2988                    NaN             NaN   \n",
       "2989                    NaN             NaN   \n",
       "2990                    NaN               1   \n",
       "2991                    NaN             NaN   \n",
       "\n",
       "                          Best_Sellers_Rank_fields Best_Sellers_Rank_1  \\\n",
       "0                              #63 in Electronics                 #63    \n",
       "1                             #138 in Electronics                #138    \n",
       "2                             #493 in Electronics                #493    \n",
       "3                             #145 in Electronics                #145    \n",
       "4                             #279 in Electronics                #279    \n",
       "...                                            ...                 ...   \n",
       "2987  #204 in Monitor Anti-Glare & Privacy Filters               #204    \n",
       "2988                    #6,516 in Office Products              #6,516    \n",
       "2989                                           NaN                 NaN   \n",
       "2990            #1,608 in Computers & Accessories              #1,608    \n",
       "2991                          #91 in Serial Cables                #91    \n",
       "\n",
       "                 Best_Sellers_Rank_fields_1  \n",
       "0                              Electronics   \n",
       "1                              Electronics   \n",
       "2                              Electronics   \n",
       "3                              Electronics   \n",
       "4                              Electronics   \n",
       "...                                     ...  \n",
       "2987   Monitor Anti-Glare & Privacy Filters  \n",
       "2988                       Office Products   \n",
       "2989                                    NaN  \n",
       "2990               Computers & Accessories   \n",
       "2991                          Serial Cables  \n",
       "\n",
       "[2992 rows x 34 columns]"
      ],
      "text/html": "<div>\n<style scoped>\n    .dataframe tbody tr th:only-of-type {\n        vertical-align: middle;\n    }\n\n    .dataframe tbody tr th {\n        vertical-align: top;\n    }\n\n    .dataframe thead th {\n        text-align: right;\n    }\n</style>\n<table border=\"1\" class=\"dataframe\">\n  <thead>\n    <tr style=\"text-align: right;\">\n      <th></th>\n      <th>name</th>\n      <th>ASIN</th>\n      <th>Brand</th>\n      <th>Best Sellers Rank</th>\n      <th>Product Dimensions (inches)</th>\n      <th>Package Dimensions</th>\n      <th>Item Weight (pounds)</th>\n      <th>Date First Available</th>\n      <th>Is Discontinued By Manufacturer</th>\n      <th>Item model number</th>\n      <th>...</th>\n      <th>Number of USB 3.0 Ports</th>\n      <th>Memory Speed</th>\n      <th>Graphics Coprocessor</th>\n      <th>Computer Memory Type</th>\n      <th>Average Battery Life (in hours)</th>\n      <th>Graphics Card Ram Size</th>\n      <th>Processor Count</th>\n      <th>Best_Sellers_Rank_fields</th>\n      <th>Best_Sellers_Rank_1</th>\n      <th>Best_Sellers_Rank_fields_1</th>\n    </tr>\n  </thead>\n  <tbody>\n    <tr>\n      <th>0</th>\n      <td>Sceptre 20\" 1600x900 75Hz Ultra Thin LED Monit...</td>\n      <td>B07743412C</td>\n      <td>Sceptre</td>\n      <td>#63</td>\n      <td>18.35 x 7.17 x 13.58</td>\n      <td>NaN</td>\n      <td>4.430</td>\n      <td>November 1, 2017</td>\n      <td>No</td>\n      <td>E205W-16003R</td>\n      <td>...</td>\n      <td>NaN</td>\n      <td>NaN</td>\n      <td>NaN</td>\n      <td>NaN</td>\n      <td>NaN</td>\n      <td>NaN</td>\n      <td>NaN</td>\n      <td>#63 in Electronics</td>\n      <td>#63</td>\n      <td>Electronics</td>\n    </tr>\n    <tr>\n      <th>1</th>\n      <td>Sceptre Curved 27\" 75Hz LED Monitor HDMI VGA B...</td>\n      <td>B07MTRQ6B3</td>\n      <td>Sceptre</td>\n      <td>#138</td>\n      <td>24.27 x 9.01 x 17.69</td>\n      <td>NaN</td>\n      <td>8.600</td>\n      <td>January 11, 2019</td>\n      <td>No</td>\n      <td>C275W-1920RN</td>\n      <td>...</td>\n      <td>NaN</td>\n      <td>NaN</td>\n      <td>NaN</td>\n      <td>NaN</td>\n      <td>NaN</td>\n      <td>NaN</td>\n      <td>NaN</td>\n      <td>#138 in Electronics</td>\n      <td>#138</td>\n      <td>Electronics</td>\n    </tr>\n    <tr>\n      <th>2</th>\n      <td>BenQ 24 Inch IPS Monitor | 1080P | Proprietary...</td>\n      <td>B072XCZSSW</td>\n      <td>BenQ</td>\n      <td>#493</td>\n      <td>16.54 x 6.9 x 21.26</td>\n      <td>NaN</td>\n      <td>8.400</td>\n      <td>August 2, 2017</td>\n      <td>No</td>\n      <td>GW2480</td>\n      <td>...</td>\n      <td>NaN</td>\n      <td>NaN</td>\n      <td>NaN</td>\n      <td>NaN</td>\n      <td>NaN</td>\n      <td>NaN</td>\n      <td>NaN</td>\n      <td>#493 in Electronics</td>\n      <td>#493</td>\n      <td>Electronics</td>\n    </tr>\n    <tr>\n      <th>3</th>\n      <td>LG 24M47VQ 24-Inch LED-lit Monitor, Black</td>\n      <td>B00W95RR32</td>\n      <td>LG</td>\n      <td>#145</td>\n      <td>21.9 x 7.8 x 17.2</td>\n      <td>NaN</td>\n      <td>6.200</td>\n      <td>April 9, 2015</td>\n      <td>No</td>\n      <td>24M47VQ</td>\n      <td>...</td>\n      <td>NaN</td>\n      <td>NaN</td>\n      <td>NaN</td>\n      <td>NaN</td>\n      <td>NaN</td>\n      <td>NaN</td>\n      <td>NaN</td>\n      <td>#145 in Electronics</td>\n      <td>#145</td>\n      <td>Electronics</td>\n    </tr>\n    <tr>\n      <th>4</th>\n      <td>Acer R240HY bidx 23.8-Inch IPS HDMI DVI VGA (1...</td>\n      <td>B0148NNKTC</td>\n      <td>Acer</td>\n      <td>#279</td>\n      <td>21.3 x 7.3 x 16</td>\n      <td>NaN</td>\n      <td>6.400</td>\n      <td>September 6, 2015</td>\n      <td>No</td>\n      <td>R240HY bidx</td>\n      <td>...</td>\n      <td>NaN</td>\n      <td>NaN</td>\n      <td>NaN</td>\n      <td>NaN</td>\n      <td>NaN</td>\n      <td>NaN</td>\n      <td>NaN</td>\n      <td>#279 in Electronics</td>\n      <td>#279</td>\n      <td>Electronics</td>\n    </tr>\n    <tr>\n      <th>...</th>\n      <td>...</td>\n      <td>...</td>\n      <td>...</td>\n      <td>...</td>\n      <td>...</td>\n      <td>...</td>\n      <td>...</td>\n      <td>...</td>\n      <td>...</td>\n      <td>...</td>\n      <td>...</td>\n      <td>...</td>\n      <td>...</td>\n      <td>...</td>\n      <td>...</td>\n      <td>...</td>\n      <td>...</td>\n      <td>...</td>\n      <td>...</td>\n      <td>...</td>\n      <td>...</td>\n    </tr>\n    <tr>\n      <th>2987</th>\n      <td>Apple MacBook Compatible – Premium Black Priva...</td>\n      <td>B06XT2J985</td>\n      <td>NaN</td>\n      <td>#204</td>\n      <td>16.14 x 10.24 x 0.39</td>\n      <td>NaN</td>\n      <td>0.784</td>\n      <td></td>\n      <td>No</td>\n      <td>APNA2007</td>\n      <td>...</td>\n      <td>NaN</td>\n      <td>NaN</td>\n      <td>NaN</td>\n      <td>NaN</td>\n      <td>NaN</td>\n      <td>NaN</td>\n      <td>NaN</td>\n      <td>#204 in Monitor Anti-Glare &amp; Privacy Filters</td>\n      <td>#204</td>\n      <td>Monitor Anti-Glare &amp; Privacy Filters</td>\n    </tr>\n    <tr>\n      <th>2988</th>\n      <td>Besign Adjustable Laptop Stand, Ergonomic Rise...</td>\n      <td>B07RQ89Y8G</td>\n      <td>BESIGN</td>\n      <td>#6,516</td>\n      <td>10.63 x 10.63 x 10.63</td>\n      <td>NaN</td>\n      <td>1.450</td>\n      <td></td>\n      <td>NaN</td>\n      <td>NaN</td>\n      <td>...</td>\n      <td>NaN</td>\n      <td>NaN</td>\n      <td>NaN</td>\n      <td>NaN</td>\n      <td>NaN</td>\n      <td>NaN</td>\n      <td>NaN</td>\n      <td>#6,516 in Office Products</td>\n      <td>#6,516</td>\n      <td>Office Products</td>\n    </tr>\n    <tr>\n      <th>2989</th>\n      <td>(5 Pack) 90 Degree Angled 2 Prong to L-Shaped ...</td>\n      <td>B08NC5DSY1</td>\n      <td>NaN</td>\n      <td>NaN</td>\n      <td>NaN</td>\n      <td>9.8 x 6.22 x 2.91 inches</td>\n      <td>1.030</td>\n      <td></td>\n      <td>NaN</td>\n      <td>5pk, 10pk,</td>\n      <td>...</td>\n      <td>NaN</td>\n      <td>NaN</td>\n      <td>NaN</td>\n      <td>NaN</td>\n      <td>NaN</td>\n      <td>NaN</td>\n      <td>NaN</td>\n      <td>NaN</td>\n      <td>NaN</td>\n      <td>NaN</td>\n    </tr>\n    <tr>\n      <th>2990</th>\n      <td>HP Elite 8200 Ultra Slim Desktop PC - Intel Co...</td>\n      <td>B0754MN7D3</td>\n      <td>HP</td>\n      <td>#1,608</td>\n      <td>10 x 9.9 x 2.6</td>\n      <td>NaN</td>\n      <td>6.800</td>\n      <td>August 25, 2017</td>\n      <td>NaN</td>\n      <td>Elite 8200</td>\n      <td>...</td>\n      <td>NaN</td>\n      <td>NaN</td>\n      <td>Intel HD Graphics</td>\n      <td>SODIMM</td>\n      <td>NaN</td>\n      <td>NaN</td>\n      <td>1</td>\n      <td>#1,608 in Computers &amp; Accessories</td>\n      <td>#1,608</td>\n      <td>Computers &amp; Accessories</td>\n    </tr>\n    <tr>\n      <th>2991</th>\n      <td>DTECH 15ft DB9 Serial Cable COM Port Male to M...</td>\n      <td>B07B24HBXN</td>\n      <td>NaN</td>\n      <td>#91</td>\n      <td>NaN</td>\n      <td>8.98 x 7.13 x 1.18 inches</td>\n      <td>1.552</td>\n      <td>March 24, 2018</td>\n      <td>No</td>\n      <td>NaN</td>\n      <td>...</td>\n      <td>NaN</td>\n      <td>NaN</td>\n      <td>NaN</td>\n      <td>NaN</td>\n      <td>NaN</td>\n      <td>NaN</td>\n      <td>NaN</td>\n      <td>#91 in Serial Cables</td>\n      <td>#91</td>\n      <td>Serial Cables</td>\n    </tr>\n  </tbody>\n</table>\n<p>2992 rows × 34 columns</p>\n</div>"
     },
     "metadata": {},
     "execution_count": 420
    }
   ],
   "source": [
    "final['Best_Sellers_Rank_fields_1'] = final['Best_Sellers_Rank_fields'].str.split('in').str[1]\n",
    "final"
   ]
  },
  {
   "cell_type": "code",
   "execution_count": 421,
   "metadata": {},
   "outputs": [],
   "source": [
    "final['Best_Sellers_Rank_fields'] = final['Best_Sellers_Rank_fields_1']"
   ]
  },
  {
   "cell_type": "code",
   "execution_count": 422,
   "metadata": {},
   "outputs": [],
   "source": [
    "final.drop(['Best_Sellers_Rank_1', 'Best_Sellers_Rank_fields_1'], axis=1, inplace=True)"
   ]
  },
  {
   "cell_type": "code",
   "execution_count": 423,
   "metadata": {},
   "outputs": [
    {
     "output_type": "execute_result",
     "data": {
      "text/plain": [
       "                                                   name        ASIN    Brand  \\\n",
       "0     Sceptre 20\" 1600x900 75Hz Ultra Thin LED Monit...  B07743412C  Sceptre   \n",
       "1     Sceptre Curved 27\" 75Hz LED Monitor HDMI VGA B...  B07MTRQ6B3  Sceptre   \n",
       "2     BenQ 24 Inch IPS Monitor | 1080P | Proprietary...  B072XCZSSW     BenQ   \n",
       "3             LG 24M47VQ 24-Inch LED-lit Monitor, Black  B00W95RR32       LG   \n",
       "4     Acer R240HY bidx 23.8-Inch IPS HDMI DVI VGA (1...  B0148NNKTC     Acer   \n",
       "...                                                 ...         ...      ...   \n",
       "2987  Apple MacBook Compatible – Premium Black Priva...  B06XT2J985      NaN   \n",
       "2988  Besign Adjustable Laptop Stand, Ergonomic Rise...  B07RQ89Y8G   BESIGN   \n",
       "2989  (5 Pack) 90 Degree Angled 2 Prong to L-Shaped ...  B08NC5DSY1      NaN   \n",
       "2990  HP Elite 8200 Ultra Slim Desktop PC - Intel Co...  B0754MN7D3       HP   \n",
       "2991  DTECH 15ft DB9 Serial Cable COM Port Male to M...  B07B24HBXN      NaN   \n",
       "\n",
       "     Best Sellers Rank Product Dimensions (inches)         Package Dimensions  \\\n",
       "0                 #63        18.35 x 7.17 x 13.58                         NaN   \n",
       "1                #138        24.27 x 9.01 x 17.69                         NaN   \n",
       "2                #493         16.54 x 6.9 x 21.26                         NaN   \n",
       "3                #145           21.9 x 7.8 x 17.2                         NaN   \n",
       "4                #279             21.3 x 7.3 x 16                         NaN   \n",
       "...                ...                         ...                        ...   \n",
       "2987             #204        16.14 x 10.24 x 0.39                         NaN   \n",
       "2988           #6,516       10.63 x 10.63 x 10.63                         NaN   \n",
       "2989               NaN                         NaN   9.8 x 6.22 x 2.91 inches   \n",
       "2990           #1,608              10 x 9.9 x 2.6                         NaN   \n",
       "2991              #91                          NaN  8.98 x 7.13 x 1.18 inches   \n",
       "\n",
       "      Item Weight (pounds) Date First Available  \\\n",
       "0                    4.430     November 1, 2017   \n",
       "1                    8.600     January 11, 2019   \n",
       "2                    8.400       August 2, 2017   \n",
       "3                    6.200        April 9, 2015   \n",
       "4                    6.400    September 6, 2015   \n",
       "...                    ...                  ...   \n",
       "2987                 0.784                        \n",
       "2988                 1.450                        \n",
       "2989                 1.030                        \n",
       "2990                 6.800      August 25, 2017   \n",
       "2991                 1.552       March 24, 2018   \n",
       "\n",
       "     Is Discontinued By Manufacturer Item model number  ...           Color  \\\n",
       "0                                 No      E205W-16003R  ...  Metallic Black   \n",
       "1                                 No      C275W-1920RN  ...     Metal Black   \n",
       "2                                 No            GW2480  ...           Black   \n",
       "3                                 No           24M47VQ  ...           Black   \n",
       "4                                 No       R240HY bidx  ...           Black   \n",
       "...                              ...               ...  ...             ...   \n",
       "2987                              No          APNA2007  ...             NaN   \n",
       "2988                             NaN               NaN  ...           Black   \n",
       "2989                             NaN        5pk, 10pk,  ...             NaN   \n",
       "2990                             NaN        Elite 8200  ...             NaN   \n",
       "2991                              No               NaN  ...             NaN   \n",
       "\n",
       "     Number of USB 2.0 Ports Number of USB 3.0 Ports Memory Speed  \\\n",
       "0                        NaN                     NaN          NaN   \n",
       "1                        NaN                     NaN          NaN   \n",
       "2                        NaN                     NaN          NaN   \n",
       "3                        NaN                     NaN          NaN   \n",
       "4                        NaN                     NaN          NaN   \n",
       "...                      ...                     ...          ...   \n",
       "2987                     NaN                     NaN          NaN   \n",
       "2988                     NaN                     NaN          NaN   \n",
       "2989                     NaN                     NaN          NaN   \n",
       "2990                      10                     NaN          NaN   \n",
       "2991                                             NaN          NaN   \n",
       "\n",
       "     Graphics Coprocessor Computer Memory Type  \\\n",
       "0                     NaN                  NaN   \n",
       "1                     NaN                  NaN   \n",
       "2                     NaN                  NaN   \n",
       "3                     NaN                  NaN   \n",
       "4                     NaN                  NaN   \n",
       "...                   ...                  ...   \n",
       "2987                  NaN                  NaN   \n",
       "2988                  NaN                  NaN   \n",
       "2989                  NaN                  NaN   \n",
       "2990    Intel HD Graphics               SODIMM   \n",
       "2991                  NaN                  NaN   \n",
       "\n",
       "     Average Battery Life (in hours) Graphics Card Ram Size Processor Count  \\\n",
       "0                                NaN                    NaN             NaN   \n",
       "1                                NaN                    NaN             NaN   \n",
       "2                                NaN                    NaN             NaN   \n",
       "3                                NaN                    NaN             NaN   \n",
       "4                                NaN                    NaN             NaN   \n",
       "...                              ...                    ...             ...   \n",
       "2987                             NaN                    NaN             NaN   \n",
       "2988                             NaN                    NaN             NaN   \n",
       "2989                             NaN                    NaN             NaN   \n",
       "2990                             NaN                    NaN               1   \n",
       "2991                             NaN                    NaN             NaN   \n",
       "\n",
       "                   Best_Sellers_Rank_fields  \n",
       "0                              Electronics   \n",
       "1                              Electronics   \n",
       "2                              Electronics   \n",
       "3                              Electronics   \n",
       "4                              Electronics   \n",
       "...                                     ...  \n",
       "2987   Monitor Anti-Glare & Privacy Filters  \n",
       "2988                       Office Products   \n",
       "2989                                    NaN  \n",
       "2990               Computers & Accessories   \n",
       "2991                          Serial Cables  \n",
       "\n",
       "[2992 rows x 32 columns]"
      ],
      "text/html": "<div>\n<style scoped>\n    .dataframe tbody tr th:only-of-type {\n        vertical-align: middle;\n    }\n\n    .dataframe tbody tr th {\n        vertical-align: top;\n    }\n\n    .dataframe thead th {\n        text-align: right;\n    }\n</style>\n<table border=\"1\" class=\"dataframe\">\n  <thead>\n    <tr style=\"text-align: right;\">\n      <th></th>\n      <th>name</th>\n      <th>ASIN</th>\n      <th>Brand</th>\n      <th>Best Sellers Rank</th>\n      <th>Product Dimensions (inches)</th>\n      <th>Package Dimensions</th>\n      <th>Item Weight (pounds)</th>\n      <th>Date First Available</th>\n      <th>Is Discontinued By Manufacturer</th>\n      <th>Item model number</th>\n      <th>...</th>\n      <th>Color</th>\n      <th>Number of USB 2.0 Ports</th>\n      <th>Number of USB 3.0 Ports</th>\n      <th>Memory Speed</th>\n      <th>Graphics Coprocessor</th>\n      <th>Computer Memory Type</th>\n      <th>Average Battery Life (in hours)</th>\n      <th>Graphics Card Ram Size</th>\n      <th>Processor Count</th>\n      <th>Best_Sellers_Rank_fields</th>\n    </tr>\n  </thead>\n  <tbody>\n    <tr>\n      <th>0</th>\n      <td>Sceptre 20\" 1600x900 75Hz Ultra Thin LED Monit...</td>\n      <td>B07743412C</td>\n      <td>Sceptre</td>\n      <td>#63</td>\n      <td>18.35 x 7.17 x 13.58</td>\n      <td>NaN</td>\n      <td>4.430</td>\n      <td>November 1, 2017</td>\n      <td>No</td>\n      <td>E205W-16003R</td>\n      <td>...</td>\n      <td>Metallic Black</td>\n      <td>NaN</td>\n      <td>NaN</td>\n      <td>NaN</td>\n      <td>NaN</td>\n      <td>NaN</td>\n      <td>NaN</td>\n      <td>NaN</td>\n      <td>NaN</td>\n      <td>Electronics</td>\n    </tr>\n    <tr>\n      <th>1</th>\n      <td>Sceptre Curved 27\" 75Hz LED Monitor HDMI VGA B...</td>\n      <td>B07MTRQ6B3</td>\n      <td>Sceptre</td>\n      <td>#138</td>\n      <td>24.27 x 9.01 x 17.69</td>\n      <td>NaN</td>\n      <td>8.600</td>\n      <td>January 11, 2019</td>\n      <td>No</td>\n      <td>C275W-1920RN</td>\n      <td>...</td>\n      <td>Metal Black</td>\n      <td>NaN</td>\n      <td>NaN</td>\n      <td>NaN</td>\n      <td>NaN</td>\n      <td>NaN</td>\n      <td>NaN</td>\n      <td>NaN</td>\n      <td>NaN</td>\n      <td>Electronics</td>\n    </tr>\n    <tr>\n      <th>2</th>\n      <td>BenQ 24 Inch IPS Monitor | 1080P | Proprietary...</td>\n      <td>B072XCZSSW</td>\n      <td>BenQ</td>\n      <td>#493</td>\n      <td>16.54 x 6.9 x 21.26</td>\n      <td>NaN</td>\n      <td>8.400</td>\n      <td>August 2, 2017</td>\n      <td>No</td>\n      <td>GW2480</td>\n      <td>...</td>\n      <td>Black</td>\n      <td>NaN</td>\n      <td>NaN</td>\n      <td>NaN</td>\n      <td>NaN</td>\n      <td>NaN</td>\n      <td>NaN</td>\n      <td>NaN</td>\n      <td>NaN</td>\n      <td>Electronics</td>\n    </tr>\n    <tr>\n      <th>3</th>\n      <td>LG 24M47VQ 24-Inch LED-lit Monitor, Black</td>\n      <td>B00W95RR32</td>\n      <td>LG</td>\n      <td>#145</td>\n      <td>21.9 x 7.8 x 17.2</td>\n      <td>NaN</td>\n      <td>6.200</td>\n      <td>April 9, 2015</td>\n      <td>No</td>\n      <td>24M47VQ</td>\n      <td>...</td>\n      <td>Black</td>\n      <td>NaN</td>\n      <td>NaN</td>\n      <td>NaN</td>\n      <td>NaN</td>\n      <td>NaN</td>\n      <td>NaN</td>\n      <td>NaN</td>\n      <td>NaN</td>\n      <td>Electronics</td>\n    </tr>\n    <tr>\n      <th>4</th>\n      <td>Acer R240HY bidx 23.8-Inch IPS HDMI DVI VGA (1...</td>\n      <td>B0148NNKTC</td>\n      <td>Acer</td>\n      <td>#279</td>\n      <td>21.3 x 7.3 x 16</td>\n      <td>NaN</td>\n      <td>6.400</td>\n      <td>September 6, 2015</td>\n      <td>No</td>\n      <td>R240HY bidx</td>\n      <td>...</td>\n      <td>Black</td>\n      <td>NaN</td>\n      <td>NaN</td>\n      <td>NaN</td>\n      <td>NaN</td>\n      <td>NaN</td>\n      <td>NaN</td>\n      <td>NaN</td>\n      <td>NaN</td>\n      <td>Electronics</td>\n    </tr>\n    <tr>\n      <th>...</th>\n      <td>...</td>\n      <td>...</td>\n      <td>...</td>\n      <td>...</td>\n      <td>...</td>\n      <td>...</td>\n      <td>...</td>\n      <td>...</td>\n      <td>...</td>\n      <td>...</td>\n      <td>...</td>\n      <td>...</td>\n      <td>...</td>\n      <td>...</td>\n      <td>...</td>\n      <td>...</td>\n      <td>...</td>\n      <td>...</td>\n      <td>...</td>\n      <td>...</td>\n      <td>...</td>\n    </tr>\n    <tr>\n      <th>2987</th>\n      <td>Apple MacBook Compatible – Premium Black Priva...</td>\n      <td>B06XT2J985</td>\n      <td>NaN</td>\n      <td>#204</td>\n      <td>16.14 x 10.24 x 0.39</td>\n      <td>NaN</td>\n      <td>0.784</td>\n      <td></td>\n      <td>No</td>\n      <td>APNA2007</td>\n      <td>...</td>\n      <td>NaN</td>\n      <td>NaN</td>\n      <td>NaN</td>\n      <td>NaN</td>\n      <td>NaN</td>\n      <td>NaN</td>\n      <td>NaN</td>\n      <td>NaN</td>\n      <td>NaN</td>\n      <td>Monitor Anti-Glare &amp; Privacy Filters</td>\n    </tr>\n    <tr>\n      <th>2988</th>\n      <td>Besign Adjustable Laptop Stand, Ergonomic Rise...</td>\n      <td>B07RQ89Y8G</td>\n      <td>BESIGN</td>\n      <td>#6,516</td>\n      <td>10.63 x 10.63 x 10.63</td>\n      <td>NaN</td>\n      <td>1.450</td>\n      <td></td>\n      <td>NaN</td>\n      <td>NaN</td>\n      <td>...</td>\n      <td>Black</td>\n      <td>NaN</td>\n      <td>NaN</td>\n      <td>NaN</td>\n      <td>NaN</td>\n      <td>NaN</td>\n      <td>NaN</td>\n      <td>NaN</td>\n      <td>NaN</td>\n      <td>Office Products</td>\n    </tr>\n    <tr>\n      <th>2989</th>\n      <td>(5 Pack) 90 Degree Angled 2 Prong to L-Shaped ...</td>\n      <td>B08NC5DSY1</td>\n      <td>NaN</td>\n      <td>NaN</td>\n      <td>NaN</td>\n      <td>9.8 x 6.22 x 2.91 inches</td>\n      <td>1.030</td>\n      <td></td>\n      <td>NaN</td>\n      <td>5pk, 10pk,</td>\n      <td>...</td>\n      <td>NaN</td>\n      <td>NaN</td>\n      <td>NaN</td>\n      <td>NaN</td>\n      <td>NaN</td>\n      <td>NaN</td>\n      <td>NaN</td>\n      <td>NaN</td>\n      <td>NaN</td>\n      <td>NaN</td>\n    </tr>\n    <tr>\n      <th>2990</th>\n      <td>HP Elite 8200 Ultra Slim Desktop PC - Intel Co...</td>\n      <td>B0754MN7D3</td>\n      <td>HP</td>\n      <td>#1,608</td>\n      <td>10 x 9.9 x 2.6</td>\n      <td>NaN</td>\n      <td>6.800</td>\n      <td>August 25, 2017</td>\n      <td>NaN</td>\n      <td>Elite 8200</td>\n      <td>...</td>\n      <td>NaN</td>\n      <td>10</td>\n      <td>NaN</td>\n      <td>NaN</td>\n      <td>Intel HD Graphics</td>\n      <td>SODIMM</td>\n      <td>NaN</td>\n      <td>NaN</td>\n      <td>1</td>\n      <td>Computers &amp; Accessories</td>\n    </tr>\n    <tr>\n      <th>2991</th>\n      <td>DTECH 15ft DB9 Serial Cable COM Port Male to M...</td>\n      <td>B07B24HBXN</td>\n      <td>NaN</td>\n      <td>#91</td>\n      <td>NaN</td>\n      <td>8.98 x 7.13 x 1.18 inches</td>\n      <td>1.552</td>\n      <td>March 24, 2018</td>\n      <td>No</td>\n      <td>NaN</td>\n      <td>...</td>\n      <td>NaN</td>\n      <td></td>\n      <td>NaN</td>\n      <td>NaN</td>\n      <td>NaN</td>\n      <td>NaN</td>\n      <td>NaN</td>\n      <td>NaN</td>\n      <td>NaN</td>\n      <td>Serial Cables</td>\n    </tr>\n  </tbody>\n</table>\n<p>2992 rows × 32 columns</p>\n</div>"
     },
     "metadata": {},
     "execution_count": 423
    }
   ],
   "source": [
    "final"
   ]
  },
  {
   "cell_type": "code",
   "execution_count": 424,
   "metadata": {},
   "outputs": [
    {
     "output_type": "execute_result",
     "data": {
      "text/plain": [
       "['name',\n",
       " 'ASIN',\n",
       " 'Brand',\n",
       " 'Best Sellers Rank',\n",
       " 'Product Dimensions (inches)',\n",
       " 'Package Dimensions',\n",
       " 'Item Weight (pounds)',\n",
       " 'Date First Available',\n",
       " 'Is Discontinued By Manufacturer',\n",
       " 'Item model number',\n",
       " 'Batteries',\n",
       " 'Card Description',\n",
       " 'Voltage',\n",
       " 'Series',\n",
       " 'National Stock Number',\n",
       " 'Chipset Brand',\n",
       " 'Batteries Required?',\n",
       " 'Wireless Type',\n",
       " 'Standing screen display size',\n",
       " 'Max Screen Resolution',\n",
       " 'Part Number',\n",
       " 'Item Package Quantity',\n",
       " 'Color',\n",
       " 'Number of USB 2.0 Ports',\n",
       " 'Number of USB 3.0 Ports',\n",
       " 'Memory Speed',\n",
       " 'Graphics Coprocessor',\n",
       " 'Computer Memory Type',\n",
       " 'Average Battery Life (in hours)',\n",
       " 'Graphics Card Ram Size',\n",
       " 'Processor Count',\n",
       " 'Best_Sellers_Rank_fields']"
      ]
     },
     "metadata": {},
     "execution_count": 424
    }
   ],
   "source": [
    "cols_b1= final.columns.tolist()\n",
    "cols_b1"
   ]
  },
  {
   "cell_type": "code",
   "execution_count": 425,
   "metadata": {},
   "outputs": [
    {
     "output_type": "execute_result",
     "data": {
      "text/plain": [
       "['name',\n",
       " 'ASIN',\n",
       " 'Brand',\n",
       " 'Best Sellers Rank',\n",
       " 'Best_Sellers_Rank_fields',\n",
       " 'Product Dimensions (inches)',\n",
       " 'Package Dimensions',\n",
       " 'Item Weight (pounds)',\n",
       " 'Date First Available',\n",
       " 'Is Discontinued By Manufacturer',\n",
       " 'Item model number',\n",
       " 'Batteries',\n",
       " 'Card Description',\n",
       " 'Voltage',\n",
       " 'Series',\n",
       " 'National Stock Number',\n",
       " 'Chipset Brand',\n",
       " 'Batteries Required?',\n",
       " 'Wireless Type',\n",
       " 'Standing screen display size',\n",
       " 'Max Screen Resolution',\n",
       " 'Part Number',\n",
       " 'Item Package Quantity',\n",
       " 'Color',\n",
       " 'Number of USB 2.0 Ports',\n",
       " 'Number of USB 3.0 Ports',\n",
       " 'Memory Speed',\n",
       " 'Graphics Coprocessor',\n",
       " 'Computer Memory Type',\n",
       " 'Average Battery Life (in hours)',\n",
       " 'Graphics Card Ram Size',\n",
       " 'Processor Count']"
      ]
     },
     "metadata": {},
     "execution_count": 425
    }
   ],
   "source": [
    "cols_b1= cols_b1[:4] + cols_b1[-1:] + cols_b1[4:-1]\n",
    "cols_b1"
   ]
  },
  {
   "cell_type": "code",
   "execution_count": 426,
   "metadata": {},
   "outputs": [
    {
     "output_type": "execute_result",
     "data": {
      "text/plain": [
       "                                                   name        ASIN    Brand  \\\n",
       "0     Sceptre 20\" 1600x900 75Hz Ultra Thin LED Monit...  B07743412C  Sceptre   \n",
       "1     Sceptre Curved 27\" 75Hz LED Monitor HDMI VGA B...  B07MTRQ6B3  Sceptre   \n",
       "2     BenQ 24 Inch IPS Monitor | 1080P | Proprietary...  B072XCZSSW     BenQ   \n",
       "3             LG 24M47VQ 24-Inch LED-lit Monitor, Black  B00W95RR32       LG   \n",
       "4     Acer R240HY bidx 23.8-Inch IPS HDMI DVI VGA (1...  B0148NNKTC     Acer   \n",
       "...                                                 ...         ...      ...   \n",
       "2987  Apple MacBook Compatible – Premium Black Priva...  B06XT2J985      NaN   \n",
       "2988  Besign Adjustable Laptop Stand, Ergonomic Rise...  B07RQ89Y8G   BESIGN   \n",
       "2989  (5 Pack) 90 Degree Angled 2 Prong to L-Shaped ...  B08NC5DSY1      NaN   \n",
       "2990  HP Elite 8200 Ultra Slim Desktop PC - Intel Co...  B0754MN7D3       HP   \n",
       "2991  DTECH 15ft DB9 Serial Cable COM Port Male to M...  B07B24HBXN      NaN   \n",
       "\n",
       "     Best Sellers Rank               Best_Sellers_Rank_fields  \\\n",
       "0                 #63                            Electronics    \n",
       "1                #138                            Electronics    \n",
       "2                #493                            Electronics    \n",
       "3                #145                            Electronics    \n",
       "4                #279                            Electronics    \n",
       "...                ...                                    ...   \n",
       "2987             #204    Monitor Anti-Glare & Privacy Filters   \n",
       "2988           #6,516                        Office Products    \n",
       "2989               NaN                                    NaN   \n",
       "2990           #1,608                Computers & Accessories    \n",
       "2991              #91                           Serial Cables   \n",
       "\n",
       "     Product Dimensions (inches)         Package Dimensions  \\\n",
       "0          18.35 x 7.17 x 13.58                         NaN   \n",
       "1          24.27 x 9.01 x 17.69                         NaN   \n",
       "2           16.54 x 6.9 x 21.26                         NaN   \n",
       "3             21.9 x 7.8 x 17.2                         NaN   \n",
       "4               21.3 x 7.3 x 16                         NaN   \n",
       "...                          ...                        ...   \n",
       "2987       16.14 x 10.24 x 0.39                         NaN   \n",
       "2988      10.63 x 10.63 x 10.63                         NaN   \n",
       "2989                         NaN   9.8 x 6.22 x 2.91 inches   \n",
       "2990             10 x 9.9 x 2.6                         NaN   \n",
       "2991                         NaN  8.98 x 7.13 x 1.18 inches   \n",
       "\n",
       "      Item Weight (pounds) Date First Available  \\\n",
       "0                    4.430     November 1, 2017   \n",
       "1                    8.600     January 11, 2019   \n",
       "2                    8.400       August 2, 2017   \n",
       "3                    6.200        April 9, 2015   \n",
       "4                    6.400    September 6, 2015   \n",
       "...                    ...                  ...   \n",
       "2987                 0.784                        \n",
       "2988                 1.450                        \n",
       "2989                 1.030                        \n",
       "2990                 6.800      August 25, 2017   \n",
       "2991                 1.552       March 24, 2018   \n",
       "\n",
       "     Is Discontinued By Manufacturer  ... Item Package Quantity  \\\n",
       "0                                 No  ...                   NaN   \n",
       "1                                 No  ...                   NaN   \n",
       "2                                 No  ...                   NaN   \n",
       "3                                 No  ...                   NaN   \n",
       "4                                 No  ...                   NaN   \n",
       "...                              ...  ...                   ...   \n",
       "2987                              No  ...                   NaN   \n",
       "2988                             NaN  ...                   NaN   \n",
       "2989                             NaN  ...                   NaN   \n",
       "2990                             NaN  ...                   NaN   \n",
       "2991                              No  ...                   NaN   \n",
       "\n",
       "               Color Number of USB 2.0 Ports Number of USB 3.0 Ports  \\\n",
       "0     Metallic Black                     NaN                     NaN   \n",
       "1        Metal Black                     NaN                     NaN   \n",
       "2              Black                     NaN                     NaN   \n",
       "3              Black                     NaN                     NaN   \n",
       "4              Black                     NaN                     NaN   \n",
       "...              ...                     ...                     ...   \n",
       "2987             NaN                     NaN                     NaN   \n",
       "2988           Black                     NaN                     NaN   \n",
       "2989             NaN                     NaN                     NaN   \n",
       "2990             NaN                      10                     NaN   \n",
       "2991             NaN                                             NaN   \n",
       "\n",
       "     Memory Speed Graphics Coprocessor Computer Memory Type  \\\n",
       "0             NaN                  NaN                  NaN   \n",
       "1             NaN                  NaN                  NaN   \n",
       "2             NaN                  NaN                  NaN   \n",
       "3             NaN                  NaN                  NaN   \n",
       "4             NaN                  NaN                  NaN   \n",
       "...           ...                  ...                  ...   \n",
       "2987          NaN                  NaN                  NaN   \n",
       "2988          NaN                  NaN                  NaN   \n",
       "2989          NaN                  NaN                  NaN   \n",
       "2990          NaN    Intel HD Graphics               SODIMM   \n",
       "2991          NaN                  NaN                  NaN   \n",
       "\n",
       "     Average Battery Life (in hours) Graphics Card Ram Size Processor Count  \n",
       "0                                NaN                    NaN             NaN  \n",
       "1                                NaN                    NaN             NaN  \n",
       "2                                NaN                    NaN             NaN  \n",
       "3                                NaN                    NaN             NaN  \n",
       "4                                NaN                    NaN             NaN  \n",
       "...                              ...                    ...             ...  \n",
       "2987                             NaN                    NaN             NaN  \n",
       "2988                             NaN                    NaN             NaN  \n",
       "2989                             NaN                    NaN             NaN  \n",
       "2990                             NaN                    NaN               1  \n",
       "2991                             NaN                    NaN             NaN  \n",
       "\n",
       "[2992 rows x 32 columns]"
      ],
      "text/html": "<div>\n<style scoped>\n    .dataframe tbody tr th:only-of-type {\n        vertical-align: middle;\n    }\n\n    .dataframe tbody tr th {\n        vertical-align: top;\n    }\n\n    .dataframe thead th {\n        text-align: right;\n    }\n</style>\n<table border=\"1\" class=\"dataframe\">\n  <thead>\n    <tr style=\"text-align: right;\">\n      <th></th>\n      <th>name</th>\n      <th>ASIN</th>\n      <th>Brand</th>\n      <th>Best Sellers Rank</th>\n      <th>Best_Sellers_Rank_fields</th>\n      <th>Product Dimensions (inches)</th>\n      <th>Package Dimensions</th>\n      <th>Item Weight (pounds)</th>\n      <th>Date First Available</th>\n      <th>Is Discontinued By Manufacturer</th>\n      <th>...</th>\n      <th>Item Package Quantity</th>\n      <th>Color</th>\n      <th>Number of USB 2.0 Ports</th>\n      <th>Number of USB 3.0 Ports</th>\n      <th>Memory Speed</th>\n      <th>Graphics Coprocessor</th>\n      <th>Computer Memory Type</th>\n      <th>Average Battery Life (in hours)</th>\n      <th>Graphics Card Ram Size</th>\n      <th>Processor Count</th>\n    </tr>\n  </thead>\n  <tbody>\n    <tr>\n      <th>0</th>\n      <td>Sceptre 20\" 1600x900 75Hz Ultra Thin LED Monit...</td>\n      <td>B07743412C</td>\n      <td>Sceptre</td>\n      <td>#63</td>\n      <td>Electronics</td>\n      <td>18.35 x 7.17 x 13.58</td>\n      <td>NaN</td>\n      <td>4.430</td>\n      <td>November 1, 2017</td>\n      <td>No</td>\n      <td>...</td>\n      <td>NaN</td>\n      <td>Metallic Black</td>\n      <td>NaN</td>\n      <td>NaN</td>\n      <td>NaN</td>\n      <td>NaN</td>\n      <td>NaN</td>\n      <td>NaN</td>\n      <td>NaN</td>\n      <td>NaN</td>\n    </tr>\n    <tr>\n      <th>1</th>\n      <td>Sceptre Curved 27\" 75Hz LED Monitor HDMI VGA B...</td>\n      <td>B07MTRQ6B3</td>\n      <td>Sceptre</td>\n      <td>#138</td>\n      <td>Electronics</td>\n      <td>24.27 x 9.01 x 17.69</td>\n      <td>NaN</td>\n      <td>8.600</td>\n      <td>January 11, 2019</td>\n      <td>No</td>\n      <td>...</td>\n      <td>NaN</td>\n      <td>Metal Black</td>\n      <td>NaN</td>\n      <td>NaN</td>\n      <td>NaN</td>\n      <td>NaN</td>\n      <td>NaN</td>\n      <td>NaN</td>\n      <td>NaN</td>\n      <td>NaN</td>\n    </tr>\n    <tr>\n      <th>2</th>\n      <td>BenQ 24 Inch IPS Monitor | 1080P | Proprietary...</td>\n      <td>B072XCZSSW</td>\n      <td>BenQ</td>\n      <td>#493</td>\n      <td>Electronics</td>\n      <td>16.54 x 6.9 x 21.26</td>\n      <td>NaN</td>\n      <td>8.400</td>\n      <td>August 2, 2017</td>\n      <td>No</td>\n      <td>...</td>\n      <td>NaN</td>\n      <td>Black</td>\n      <td>NaN</td>\n      <td>NaN</td>\n      <td>NaN</td>\n      <td>NaN</td>\n      <td>NaN</td>\n      <td>NaN</td>\n      <td>NaN</td>\n      <td>NaN</td>\n    </tr>\n    <tr>\n      <th>3</th>\n      <td>LG 24M47VQ 24-Inch LED-lit Monitor, Black</td>\n      <td>B00W95RR32</td>\n      <td>LG</td>\n      <td>#145</td>\n      <td>Electronics</td>\n      <td>21.9 x 7.8 x 17.2</td>\n      <td>NaN</td>\n      <td>6.200</td>\n      <td>April 9, 2015</td>\n      <td>No</td>\n      <td>...</td>\n      <td>NaN</td>\n      <td>Black</td>\n      <td>NaN</td>\n      <td>NaN</td>\n      <td>NaN</td>\n      <td>NaN</td>\n      <td>NaN</td>\n      <td>NaN</td>\n      <td>NaN</td>\n      <td>NaN</td>\n    </tr>\n    <tr>\n      <th>4</th>\n      <td>Acer R240HY bidx 23.8-Inch IPS HDMI DVI VGA (1...</td>\n      <td>B0148NNKTC</td>\n      <td>Acer</td>\n      <td>#279</td>\n      <td>Electronics</td>\n      <td>21.3 x 7.3 x 16</td>\n      <td>NaN</td>\n      <td>6.400</td>\n      <td>September 6, 2015</td>\n      <td>No</td>\n      <td>...</td>\n      <td>NaN</td>\n      <td>Black</td>\n      <td>NaN</td>\n      <td>NaN</td>\n      <td>NaN</td>\n      <td>NaN</td>\n      <td>NaN</td>\n      <td>NaN</td>\n      <td>NaN</td>\n      <td>NaN</td>\n    </tr>\n    <tr>\n      <th>...</th>\n      <td>...</td>\n      <td>...</td>\n      <td>...</td>\n      <td>...</td>\n      <td>...</td>\n      <td>...</td>\n      <td>...</td>\n      <td>...</td>\n      <td>...</td>\n      <td>...</td>\n      <td>...</td>\n      <td>...</td>\n      <td>...</td>\n      <td>...</td>\n      <td>...</td>\n      <td>...</td>\n      <td>...</td>\n      <td>...</td>\n      <td>...</td>\n      <td>...</td>\n      <td>...</td>\n    </tr>\n    <tr>\n      <th>2987</th>\n      <td>Apple MacBook Compatible – Premium Black Priva...</td>\n      <td>B06XT2J985</td>\n      <td>NaN</td>\n      <td>#204</td>\n      <td>Monitor Anti-Glare &amp; Privacy Filters</td>\n      <td>16.14 x 10.24 x 0.39</td>\n      <td>NaN</td>\n      <td>0.784</td>\n      <td></td>\n      <td>No</td>\n      <td>...</td>\n      <td>NaN</td>\n      <td>NaN</td>\n      <td>NaN</td>\n      <td>NaN</td>\n      <td>NaN</td>\n      <td>NaN</td>\n      <td>NaN</td>\n      <td>NaN</td>\n      <td>NaN</td>\n      <td>NaN</td>\n    </tr>\n    <tr>\n      <th>2988</th>\n      <td>Besign Adjustable Laptop Stand, Ergonomic Rise...</td>\n      <td>B07RQ89Y8G</td>\n      <td>BESIGN</td>\n      <td>#6,516</td>\n      <td>Office Products</td>\n      <td>10.63 x 10.63 x 10.63</td>\n      <td>NaN</td>\n      <td>1.450</td>\n      <td></td>\n      <td>NaN</td>\n      <td>...</td>\n      <td>NaN</td>\n      <td>Black</td>\n      <td>NaN</td>\n      <td>NaN</td>\n      <td>NaN</td>\n      <td>NaN</td>\n      <td>NaN</td>\n      <td>NaN</td>\n      <td>NaN</td>\n      <td>NaN</td>\n    </tr>\n    <tr>\n      <th>2989</th>\n      <td>(5 Pack) 90 Degree Angled 2 Prong to L-Shaped ...</td>\n      <td>B08NC5DSY1</td>\n      <td>NaN</td>\n      <td>NaN</td>\n      <td>NaN</td>\n      <td>NaN</td>\n      <td>9.8 x 6.22 x 2.91 inches</td>\n      <td>1.030</td>\n      <td></td>\n      <td>NaN</td>\n      <td>...</td>\n      <td>NaN</td>\n      <td>NaN</td>\n      <td>NaN</td>\n      <td>NaN</td>\n      <td>NaN</td>\n      <td>NaN</td>\n      <td>NaN</td>\n      <td>NaN</td>\n      <td>NaN</td>\n      <td>NaN</td>\n    </tr>\n    <tr>\n      <th>2990</th>\n      <td>HP Elite 8200 Ultra Slim Desktop PC - Intel Co...</td>\n      <td>B0754MN7D3</td>\n      <td>HP</td>\n      <td>#1,608</td>\n      <td>Computers &amp; Accessories</td>\n      <td>10 x 9.9 x 2.6</td>\n      <td>NaN</td>\n      <td>6.800</td>\n      <td>August 25, 2017</td>\n      <td>NaN</td>\n      <td>...</td>\n      <td>NaN</td>\n      <td>NaN</td>\n      <td>10</td>\n      <td>NaN</td>\n      <td>NaN</td>\n      <td>Intel HD Graphics</td>\n      <td>SODIMM</td>\n      <td>NaN</td>\n      <td>NaN</td>\n      <td>1</td>\n    </tr>\n    <tr>\n      <th>2991</th>\n      <td>DTECH 15ft DB9 Serial Cable COM Port Male to M...</td>\n      <td>B07B24HBXN</td>\n      <td>NaN</td>\n      <td>#91</td>\n      <td>Serial Cables</td>\n      <td>NaN</td>\n      <td>8.98 x 7.13 x 1.18 inches</td>\n      <td>1.552</td>\n      <td>March 24, 2018</td>\n      <td>No</td>\n      <td>...</td>\n      <td>NaN</td>\n      <td>NaN</td>\n      <td></td>\n      <td>NaN</td>\n      <td>NaN</td>\n      <td>NaN</td>\n      <td>NaN</td>\n      <td>NaN</td>\n      <td>NaN</td>\n      <td>NaN</td>\n    </tr>\n  </tbody>\n</table>\n<p>2992 rows × 32 columns</p>\n</div>"
     },
     "metadata": {},
     "execution_count": 426
    }
   ],
   "source": [
    "final = final[cols_b1]\n",
    "final\n"
   ]
  },
  {
   "cell_type": "code",
   "execution_count": 427,
   "metadata": {},
   "outputs": [],
   "source": [
    "final['Best Sellers Rank'] = final['Best Sellers Rank'].str.replace('#', '').str.replace(',', '')"
   ]
  },
  {
   "cell_type": "code",
   "execution_count": 428,
   "metadata": {},
   "outputs": [
    {
     "output_type": "execute_result",
     "data": {
      "text/plain": [
       "                                                   name        ASIN    Brand  \\\n",
       "0     Sceptre 20\" 1600x900 75Hz Ultra Thin LED Monit...  B07743412C  Sceptre   \n",
       "1     Sceptre Curved 27\" 75Hz LED Monitor HDMI VGA B...  B07MTRQ6B3  Sceptre   \n",
       "2     BenQ 24 Inch IPS Monitor | 1080P | Proprietary...  B072XCZSSW     BenQ   \n",
       "3             LG 24M47VQ 24-Inch LED-lit Monitor, Black  B00W95RR32       LG   \n",
       "4     Acer R240HY bidx 23.8-Inch IPS HDMI DVI VGA (1...  B0148NNKTC     Acer   \n",
       "...                                                 ...         ...      ...   \n",
       "2987  Apple MacBook Compatible – Premium Black Priva...  B06XT2J985      NaN   \n",
       "2988  Besign Adjustable Laptop Stand, Ergonomic Rise...  B07RQ89Y8G   BESIGN   \n",
       "2989  (5 Pack) 90 Degree Angled 2 Prong to L-Shaped ...  B08NC5DSY1      NaN   \n",
       "2990  HP Elite 8200 Ultra Slim Desktop PC - Intel Co...  B0754MN7D3       HP   \n",
       "2991  DTECH 15ft DB9 Serial Cable COM Port Male to M...  B07B24HBXN      NaN   \n",
       "\n",
       "     Best Sellers Rank               Best_Sellers_Rank_fields  \\\n",
       "0                  63                            Electronics    \n",
       "1                 138                            Electronics    \n",
       "2                 493                            Electronics    \n",
       "3                 145                            Electronics    \n",
       "4                 279                            Electronics    \n",
       "...                ...                                    ...   \n",
       "2987              204    Monitor Anti-Glare & Privacy Filters   \n",
       "2988             6516                        Office Products    \n",
       "2989               NaN                                    NaN   \n",
       "2990             1608                Computers & Accessories    \n",
       "2991               91                           Serial Cables   \n",
       "\n",
       "     Product Dimensions (inches)         Package Dimensions  \\\n",
       "0          18.35 x 7.17 x 13.58                         NaN   \n",
       "1          24.27 x 9.01 x 17.69                         NaN   \n",
       "2           16.54 x 6.9 x 21.26                         NaN   \n",
       "3             21.9 x 7.8 x 17.2                         NaN   \n",
       "4               21.3 x 7.3 x 16                         NaN   \n",
       "...                          ...                        ...   \n",
       "2987       16.14 x 10.24 x 0.39                         NaN   \n",
       "2988      10.63 x 10.63 x 10.63                         NaN   \n",
       "2989                         NaN   9.8 x 6.22 x 2.91 inches   \n",
       "2990             10 x 9.9 x 2.6                         NaN   \n",
       "2991                         NaN  8.98 x 7.13 x 1.18 inches   \n",
       "\n",
       "      Item Weight (pounds) Date First Available  \\\n",
       "0                    4.430     November 1, 2017   \n",
       "1                    8.600     January 11, 2019   \n",
       "2                    8.400       August 2, 2017   \n",
       "3                    6.200        April 9, 2015   \n",
       "4                    6.400    September 6, 2015   \n",
       "...                    ...                  ...   \n",
       "2987                 0.784                        \n",
       "2988                 1.450                        \n",
       "2989                 1.030                        \n",
       "2990                 6.800      August 25, 2017   \n",
       "2991                 1.552       March 24, 2018   \n",
       "\n",
       "     Is Discontinued By Manufacturer  ... Item Package Quantity  \\\n",
       "0                                 No  ...                   NaN   \n",
       "1                                 No  ...                   NaN   \n",
       "2                                 No  ...                   NaN   \n",
       "3                                 No  ...                   NaN   \n",
       "4                                 No  ...                   NaN   \n",
       "...                              ...  ...                   ...   \n",
       "2987                              No  ...                   NaN   \n",
       "2988                             NaN  ...                   NaN   \n",
       "2989                             NaN  ...                   NaN   \n",
       "2990                             NaN  ...                   NaN   \n",
       "2991                              No  ...                   NaN   \n",
       "\n",
       "               Color Number of USB 2.0 Ports Number of USB 3.0 Ports  \\\n",
       "0     Metallic Black                     NaN                     NaN   \n",
       "1        Metal Black                     NaN                     NaN   \n",
       "2              Black                     NaN                     NaN   \n",
       "3              Black                     NaN                     NaN   \n",
       "4              Black                     NaN                     NaN   \n",
       "...              ...                     ...                     ...   \n",
       "2987             NaN                     NaN                     NaN   \n",
       "2988           Black                     NaN                     NaN   \n",
       "2989             NaN                     NaN                     NaN   \n",
       "2990             NaN                      10                     NaN   \n",
       "2991             NaN                                             NaN   \n",
       "\n",
       "     Memory Speed Graphics Coprocessor Computer Memory Type  \\\n",
       "0             NaN                  NaN                  NaN   \n",
       "1             NaN                  NaN                  NaN   \n",
       "2             NaN                  NaN                  NaN   \n",
       "3             NaN                  NaN                  NaN   \n",
       "4             NaN                  NaN                  NaN   \n",
       "...           ...                  ...                  ...   \n",
       "2987          NaN                  NaN                  NaN   \n",
       "2988          NaN                  NaN                  NaN   \n",
       "2989          NaN                  NaN                  NaN   \n",
       "2990          NaN    Intel HD Graphics               SODIMM   \n",
       "2991          NaN                  NaN                  NaN   \n",
       "\n",
       "     Average Battery Life (in hours) Graphics Card Ram Size Processor Count  \n",
       "0                                NaN                    NaN             NaN  \n",
       "1                                NaN                    NaN             NaN  \n",
       "2                                NaN                    NaN             NaN  \n",
       "3                                NaN                    NaN             NaN  \n",
       "4                                NaN                    NaN             NaN  \n",
       "...                              ...                    ...             ...  \n",
       "2987                             NaN                    NaN             NaN  \n",
       "2988                             NaN                    NaN             NaN  \n",
       "2989                             NaN                    NaN             NaN  \n",
       "2990                             NaN                    NaN               1  \n",
       "2991                             NaN                    NaN             NaN  \n",
       "\n",
       "[2992 rows x 32 columns]"
      ],
      "text/html": "<div>\n<style scoped>\n    .dataframe tbody tr th:only-of-type {\n        vertical-align: middle;\n    }\n\n    .dataframe tbody tr th {\n        vertical-align: top;\n    }\n\n    .dataframe thead th {\n        text-align: right;\n    }\n</style>\n<table border=\"1\" class=\"dataframe\">\n  <thead>\n    <tr style=\"text-align: right;\">\n      <th></th>\n      <th>name</th>\n      <th>ASIN</th>\n      <th>Brand</th>\n      <th>Best Sellers Rank</th>\n      <th>Best_Sellers_Rank_fields</th>\n      <th>Product Dimensions (inches)</th>\n      <th>Package Dimensions</th>\n      <th>Item Weight (pounds)</th>\n      <th>Date First Available</th>\n      <th>Is Discontinued By Manufacturer</th>\n      <th>...</th>\n      <th>Item Package Quantity</th>\n      <th>Color</th>\n      <th>Number of USB 2.0 Ports</th>\n      <th>Number of USB 3.0 Ports</th>\n      <th>Memory Speed</th>\n      <th>Graphics Coprocessor</th>\n      <th>Computer Memory Type</th>\n      <th>Average Battery Life (in hours)</th>\n      <th>Graphics Card Ram Size</th>\n      <th>Processor Count</th>\n    </tr>\n  </thead>\n  <tbody>\n    <tr>\n      <th>0</th>\n      <td>Sceptre 20\" 1600x900 75Hz Ultra Thin LED Monit...</td>\n      <td>B07743412C</td>\n      <td>Sceptre</td>\n      <td>63</td>\n      <td>Electronics</td>\n      <td>18.35 x 7.17 x 13.58</td>\n      <td>NaN</td>\n      <td>4.430</td>\n      <td>November 1, 2017</td>\n      <td>No</td>\n      <td>...</td>\n      <td>NaN</td>\n      <td>Metallic Black</td>\n      <td>NaN</td>\n      <td>NaN</td>\n      <td>NaN</td>\n      <td>NaN</td>\n      <td>NaN</td>\n      <td>NaN</td>\n      <td>NaN</td>\n      <td>NaN</td>\n    </tr>\n    <tr>\n      <th>1</th>\n      <td>Sceptre Curved 27\" 75Hz LED Monitor HDMI VGA B...</td>\n      <td>B07MTRQ6B3</td>\n      <td>Sceptre</td>\n      <td>138</td>\n      <td>Electronics</td>\n      <td>24.27 x 9.01 x 17.69</td>\n      <td>NaN</td>\n      <td>8.600</td>\n      <td>January 11, 2019</td>\n      <td>No</td>\n      <td>...</td>\n      <td>NaN</td>\n      <td>Metal Black</td>\n      <td>NaN</td>\n      <td>NaN</td>\n      <td>NaN</td>\n      <td>NaN</td>\n      <td>NaN</td>\n      <td>NaN</td>\n      <td>NaN</td>\n      <td>NaN</td>\n    </tr>\n    <tr>\n      <th>2</th>\n      <td>BenQ 24 Inch IPS Monitor | 1080P | Proprietary...</td>\n      <td>B072XCZSSW</td>\n      <td>BenQ</td>\n      <td>493</td>\n      <td>Electronics</td>\n      <td>16.54 x 6.9 x 21.26</td>\n      <td>NaN</td>\n      <td>8.400</td>\n      <td>August 2, 2017</td>\n      <td>No</td>\n      <td>...</td>\n      <td>NaN</td>\n      <td>Black</td>\n      <td>NaN</td>\n      <td>NaN</td>\n      <td>NaN</td>\n      <td>NaN</td>\n      <td>NaN</td>\n      <td>NaN</td>\n      <td>NaN</td>\n      <td>NaN</td>\n    </tr>\n    <tr>\n      <th>3</th>\n      <td>LG 24M47VQ 24-Inch LED-lit Monitor, Black</td>\n      <td>B00W95RR32</td>\n      <td>LG</td>\n      <td>145</td>\n      <td>Electronics</td>\n      <td>21.9 x 7.8 x 17.2</td>\n      <td>NaN</td>\n      <td>6.200</td>\n      <td>April 9, 2015</td>\n      <td>No</td>\n      <td>...</td>\n      <td>NaN</td>\n      <td>Black</td>\n      <td>NaN</td>\n      <td>NaN</td>\n      <td>NaN</td>\n      <td>NaN</td>\n      <td>NaN</td>\n      <td>NaN</td>\n      <td>NaN</td>\n      <td>NaN</td>\n    </tr>\n    <tr>\n      <th>4</th>\n      <td>Acer R240HY bidx 23.8-Inch IPS HDMI DVI VGA (1...</td>\n      <td>B0148NNKTC</td>\n      <td>Acer</td>\n      <td>279</td>\n      <td>Electronics</td>\n      <td>21.3 x 7.3 x 16</td>\n      <td>NaN</td>\n      <td>6.400</td>\n      <td>September 6, 2015</td>\n      <td>No</td>\n      <td>...</td>\n      <td>NaN</td>\n      <td>Black</td>\n      <td>NaN</td>\n      <td>NaN</td>\n      <td>NaN</td>\n      <td>NaN</td>\n      <td>NaN</td>\n      <td>NaN</td>\n      <td>NaN</td>\n      <td>NaN</td>\n    </tr>\n    <tr>\n      <th>...</th>\n      <td>...</td>\n      <td>...</td>\n      <td>...</td>\n      <td>...</td>\n      <td>...</td>\n      <td>...</td>\n      <td>...</td>\n      <td>...</td>\n      <td>...</td>\n      <td>...</td>\n      <td>...</td>\n      <td>...</td>\n      <td>...</td>\n      <td>...</td>\n      <td>...</td>\n      <td>...</td>\n      <td>...</td>\n      <td>...</td>\n      <td>...</td>\n      <td>...</td>\n      <td>...</td>\n    </tr>\n    <tr>\n      <th>2987</th>\n      <td>Apple MacBook Compatible – Premium Black Priva...</td>\n      <td>B06XT2J985</td>\n      <td>NaN</td>\n      <td>204</td>\n      <td>Monitor Anti-Glare &amp; Privacy Filters</td>\n      <td>16.14 x 10.24 x 0.39</td>\n      <td>NaN</td>\n      <td>0.784</td>\n      <td></td>\n      <td>No</td>\n      <td>...</td>\n      <td>NaN</td>\n      <td>NaN</td>\n      <td>NaN</td>\n      <td>NaN</td>\n      <td>NaN</td>\n      <td>NaN</td>\n      <td>NaN</td>\n      <td>NaN</td>\n      <td>NaN</td>\n      <td>NaN</td>\n    </tr>\n    <tr>\n      <th>2988</th>\n      <td>Besign Adjustable Laptop Stand, Ergonomic Rise...</td>\n      <td>B07RQ89Y8G</td>\n      <td>BESIGN</td>\n      <td>6516</td>\n      <td>Office Products</td>\n      <td>10.63 x 10.63 x 10.63</td>\n      <td>NaN</td>\n      <td>1.450</td>\n      <td></td>\n      <td>NaN</td>\n      <td>...</td>\n      <td>NaN</td>\n      <td>Black</td>\n      <td>NaN</td>\n      <td>NaN</td>\n      <td>NaN</td>\n      <td>NaN</td>\n      <td>NaN</td>\n      <td>NaN</td>\n      <td>NaN</td>\n      <td>NaN</td>\n    </tr>\n    <tr>\n      <th>2989</th>\n      <td>(5 Pack) 90 Degree Angled 2 Prong to L-Shaped ...</td>\n      <td>B08NC5DSY1</td>\n      <td>NaN</td>\n      <td>NaN</td>\n      <td>NaN</td>\n      <td>NaN</td>\n      <td>9.8 x 6.22 x 2.91 inches</td>\n      <td>1.030</td>\n      <td></td>\n      <td>NaN</td>\n      <td>...</td>\n      <td>NaN</td>\n      <td>NaN</td>\n      <td>NaN</td>\n      <td>NaN</td>\n      <td>NaN</td>\n      <td>NaN</td>\n      <td>NaN</td>\n      <td>NaN</td>\n      <td>NaN</td>\n      <td>NaN</td>\n    </tr>\n    <tr>\n      <th>2990</th>\n      <td>HP Elite 8200 Ultra Slim Desktop PC - Intel Co...</td>\n      <td>B0754MN7D3</td>\n      <td>HP</td>\n      <td>1608</td>\n      <td>Computers &amp; Accessories</td>\n      <td>10 x 9.9 x 2.6</td>\n      <td>NaN</td>\n      <td>6.800</td>\n      <td>August 25, 2017</td>\n      <td>NaN</td>\n      <td>...</td>\n      <td>NaN</td>\n      <td>NaN</td>\n      <td>10</td>\n      <td>NaN</td>\n      <td>NaN</td>\n      <td>Intel HD Graphics</td>\n      <td>SODIMM</td>\n      <td>NaN</td>\n      <td>NaN</td>\n      <td>1</td>\n    </tr>\n    <tr>\n      <th>2991</th>\n      <td>DTECH 15ft DB9 Serial Cable COM Port Male to M...</td>\n      <td>B07B24HBXN</td>\n      <td>NaN</td>\n      <td>91</td>\n      <td>Serial Cables</td>\n      <td>NaN</td>\n      <td>8.98 x 7.13 x 1.18 inches</td>\n      <td>1.552</td>\n      <td>March 24, 2018</td>\n      <td>No</td>\n      <td>...</td>\n      <td>NaN</td>\n      <td>NaN</td>\n      <td></td>\n      <td>NaN</td>\n      <td>NaN</td>\n      <td>NaN</td>\n      <td>NaN</td>\n      <td>NaN</td>\n      <td>NaN</td>\n      <td>NaN</td>\n    </tr>\n  </tbody>\n</table>\n<p>2992 rows × 32 columns</p>\n</div>"
     },
     "metadata": {},
     "execution_count": 428
    }
   ],
   "source": [
    "final"
   ]
  },
  {
   "cell_type": "code",
   "execution_count": 429,
   "metadata": {},
   "outputs": [],
   "source": [
    "final['Package Dimensions (inches)'] = final['Package Dimensions'].str.rstrip('inches')\n",
    "final['Package Dimensions'] = final['Package Dimensions (inches)']\n",
    "final = final.drop(['Package Dimensions (inches)'], axis=1)\n"
   ]
  },
  {
   "cell_type": "code",
   "execution_count": 430,
   "metadata": {},
   "outputs": [
    {
     "output_type": "execute_result",
     "data": {
      "text/plain": [
       "                                                   name        ASIN    Brand  \\\n",
       "0     Sceptre 20\" 1600x900 75Hz Ultra Thin LED Monit...  B07743412C  Sceptre   \n",
       "1     Sceptre Curved 27\" 75Hz LED Monitor HDMI VGA B...  B07MTRQ6B3  Sceptre   \n",
       "2     BenQ 24 Inch IPS Monitor | 1080P | Proprietary...  B072XCZSSW     BenQ   \n",
       "3             LG 24M47VQ 24-Inch LED-lit Monitor, Black  B00W95RR32       LG   \n",
       "4     Acer R240HY bidx 23.8-Inch IPS HDMI DVI VGA (1...  B0148NNKTC     Acer   \n",
       "...                                                 ...         ...      ...   \n",
       "2987  Apple MacBook Compatible – Premium Black Priva...  B06XT2J985      NaN   \n",
       "2988  Besign Adjustable Laptop Stand, Ergonomic Rise...  B07RQ89Y8G   BESIGN   \n",
       "2989  (5 Pack) 90 Degree Angled 2 Prong to L-Shaped ...  B08NC5DSY1      NaN   \n",
       "2990  HP Elite 8200 Ultra Slim Desktop PC - Intel Co...  B0754MN7D3       HP   \n",
       "2991  DTECH 15ft DB9 Serial Cable COM Port Male to M...  B07B24HBXN      NaN   \n",
       "\n",
       "     Best Sellers Rank               Best_Sellers_Rank_fields  \\\n",
       "0                  63                            Electronics    \n",
       "1                 138                            Electronics    \n",
       "2                 493                            Electronics    \n",
       "3                 145                            Electronics    \n",
       "4                 279                            Electronics    \n",
       "...                ...                                    ...   \n",
       "2987              204    Monitor Anti-Glare & Privacy Filters   \n",
       "2988             6516                        Office Products    \n",
       "2989               NaN                                    NaN   \n",
       "2990             1608                Computers & Accessories    \n",
       "2991               91                           Serial Cables   \n",
       "\n",
       "     Product Dimensions (inches) Package Dimensions (inches)  \\\n",
       "0          18.35 x 7.17 x 13.58                          NaN   \n",
       "1          24.27 x 9.01 x 17.69                          NaN   \n",
       "2           16.54 x 6.9 x 21.26                          NaN   \n",
       "3             21.9 x 7.8 x 17.2                          NaN   \n",
       "4               21.3 x 7.3 x 16                          NaN   \n",
       "...                          ...                         ...   \n",
       "2987       16.14 x 10.24 x 0.39                          NaN   \n",
       "2988      10.63 x 10.63 x 10.63                          NaN   \n",
       "2989                         NaN          9.8 x 6.22 x 2.91    \n",
       "2990             10 x 9.9 x 2.6                          NaN   \n",
       "2991                         NaN         8.98 x 7.13 x 1.18    \n",
       "\n",
       "      Item Weight (pounds) Date First Available  \\\n",
       "0                    4.430     November 1, 2017   \n",
       "1                    8.600     January 11, 2019   \n",
       "2                    8.400       August 2, 2017   \n",
       "3                    6.200        April 9, 2015   \n",
       "4                    6.400    September 6, 2015   \n",
       "...                    ...                  ...   \n",
       "2987                 0.784                        \n",
       "2988                 1.450                        \n",
       "2989                 1.030                        \n",
       "2990                 6.800      August 25, 2017   \n",
       "2991                 1.552       March 24, 2018   \n",
       "\n",
       "     Is Discontinued By Manufacturer  ... Item Package Quantity  \\\n",
       "0                                 No  ...                   NaN   \n",
       "1                                 No  ...                   NaN   \n",
       "2                                 No  ...                   NaN   \n",
       "3                                 No  ...                   NaN   \n",
       "4                                 No  ...                   NaN   \n",
       "...                              ...  ...                   ...   \n",
       "2987                              No  ...                   NaN   \n",
       "2988                             NaN  ...                   NaN   \n",
       "2989                             NaN  ...                   NaN   \n",
       "2990                             NaN  ...                   NaN   \n",
       "2991                              No  ...                   NaN   \n",
       "\n",
       "               Color Number of USB 2.0 Ports Number of USB 3.0 Ports  \\\n",
       "0     Metallic Black                     NaN                     NaN   \n",
       "1        Metal Black                     NaN                     NaN   \n",
       "2              Black                     NaN                     NaN   \n",
       "3              Black                     NaN                     NaN   \n",
       "4              Black                     NaN                     NaN   \n",
       "...              ...                     ...                     ...   \n",
       "2987             NaN                     NaN                     NaN   \n",
       "2988           Black                     NaN                     NaN   \n",
       "2989             NaN                     NaN                     NaN   \n",
       "2990             NaN                      10                     NaN   \n",
       "2991             NaN                                             NaN   \n",
       "\n",
       "     Memory Speed Graphics Coprocessor Computer Memory Type  \\\n",
       "0             NaN                  NaN                  NaN   \n",
       "1             NaN                  NaN                  NaN   \n",
       "2             NaN                  NaN                  NaN   \n",
       "3             NaN                  NaN                  NaN   \n",
       "4             NaN                  NaN                  NaN   \n",
       "...           ...                  ...                  ...   \n",
       "2987          NaN                  NaN                  NaN   \n",
       "2988          NaN                  NaN                  NaN   \n",
       "2989          NaN                  NaN                  NaN   \n",
       "2990          NaN    Intel HD Graphics               SODIMM   \n",
       "2991          NaN                  NaN                  NaN   \n",
       "\n",
       "     Average Battery Life (in hours) Graphics Card Ram Size Processor Count  \n",
       "0                                NaN                    NaN             NaN  \n",
       "1                                NaN                    NaN             NaN  \n",
       "2                                NaN                    NaN             NaN  \n",
       "3                                NaN                    NaN             NaN  \n",
       "4                                NaN                    NaN             NaN  \n",
       "...                              ...                    ...             ...  \n",
       "2987                             NaN                    NaN             NaN  \n",
       "2988                             NaN                    NaN             NaN  \n",
       "2989                             NaN                    NaN             NaN  \n",
       "2990                             NaN                    NaN               1  \n",
       "2991                             NaN                    NaN             NaN  \n",
       "\n",
       "[2992 rows x 32 columns]"
      ],
      "text/html": "<div>\n<style scoped>\n    .dataframe tbody tr th:only-of-type {\n        vertical-align: middle;\n    }\n\n    .dataframe tbody tr th {\n        vertical-align: top;\n    }\n\n    .dataframe thead th {\n        text-align: right;\n    }\n</style>\n<table border=\"1\" class=\"dataframe\">\n  <thead>\n    <tr style=\"text-align: right;\">\n      <th></th>\n      <th>name</th>\n      <th>ASIN</th>\n      <th>Brand</th>\n      <th>Best Sellers Rank</th>\n      <th>Best_Sellers_Rank_fields</th>\n      <th>Product Dimensions (inches)</th>\n      <th>Package Dimensions (inches)</th>\n      <th>Item Weight (pounds)</th>\n      <th>Date First Available</th>\n      <th>Is Discontinued By Manufacturer</th>\n      <th>...</th>\n      <th>Item Package Quantity</th>\n      <th>Color</th>\n      <th>Number of USB 2.0 Ports</th>\n      <th>Number of USB 3.0 Ports</th>\n      <th>Memory Speed</th>\n      <th>Graphics Coprocessor</th>\n      <th>Computer Memory Type</th>\n      <th>Average Battery Life (in hours)</th>\n      <th>Graphics Card Ram Size</th>\n      <th>Processor Count</th>\n    </tr>\n  </thead>\n  <tbody>\n    <tr>\n      <th>0</th>\n      <td>Sceptre 20\" 1600x900 75Hz Ultra Thin LED Monit...</td>\n      <td>B07743412C</td>\n      <td>Sceptre</td>\n      <td>63</td>\n      <td>Electronics</td>\n      <td>18.35 x 7.17 x 13.58</td>\n      <td>NaN</td>\n      <td>4.430</td>\n      <td>November 1, 2017</td>\n      <td>No</td>\n      <td>...</td>\n      <td>NaN</td>\n      <td>Metallic Black</td>\n      <td>NaN</td>\n      <td>NaN</td>\n      <td>NaN</td>\n      <td>NaN</td>\n      <td>NaN</td>\n      <td>NaN</td>\n      <td>NaN</td>\n      <td>NaN</td>\n    </tr>\n    <tr>\n      <th>1</th>\n      <td>Sceptre Curved 27\" 75Hz LED Monitor HDMI VGA B...</td>\n      <td>B07MTRQ6B3</td>\n      <td>Sceptre</td>\n      <td>138</td>\n      <td>Electronics</td>\n      <td>24.27 x 9.01 x 17.69</td>\n      <td>NaN</td>\n      <td>8.600</td>\n      <td>January 11, 2019</td>\n      <td>No</td>\n      <td>...</td>\n      <td>NaN</td>\n      <td>Metal Black</td>\n      <td>NaN</td>\n      <td>NaN</td>\n      <td>NaN</td>\n      <td>NaN</td>\n      <td>NaN</td>\n      <td>NaN</td>\n      <td>NaN</td>\n      <td>NaN</td>\n    </tr>\n    <tr>\n      <th>2</th>\n      <td>BenQ 24 Inch IPS Monitor | 1080P | Proprietary...</td>\n      <td>B072XCZSSW</td>\n      <td>BenQ</td>\n      <td>493</td>\n      <td>Electronics</td>\n      <td>16.54 x 6.9 x 21.26</td>\n      <td>NaN</td>\n      <td>8.400</td>\n      <td>August 2, 2017</td>\n      <td>No</td>\n      <td>...</td>\n      <td>NaN</td>\n      <td>Black</td>\n      <td>NaN</td>\n      <td>NaN</td>\n      <td>NaN</td>\n      <td>NaN</td>\n      <td>NaN</td>\n      <td>NaN</td>\n      <td>NaN</td>\n      <td>NaN</td>\n    </tr>\n    <tr>\n      <th>3</th>\n      <td>LG 24M47VQ 24-Inch LED-lit Monitor, Black</td>\n      <td>B00W95RR32</td>\n      <td>LG</td>\n      <td>145</td>\n      <td>Electronics</td>\n      <td>21.9 x 7.8 x 17.2</td>\n      <td>NaN</td>\n      <td>6.200</td>\n      <td>April 9, 2015</td>\n      <td>No</td>\n      <td>...</td>\n      <td>NaN</td>\n      <td>Black</td>\n      <td>NaN</td>\n      <td>NaN</td>\n      <td>NaN</td>\n      <td>NaN</td>\n      <td>NaN</td>\n      <td>NaN</td>\n      <td>NaN</td>\n      <td>NaN</td>\n    </tr>\n    <tr>\n      <th>4</th>\n      <td>Acer R240HY bidx 23.8-Inch IPS HDMI DVI VGA (1...</td>\n      <td>B0148NNKTC</td>\n      <td>Acer</td>\n      <td>279</td>\n      <td>Electronics</td>\n      <td>21.3 x 7.3 x 16</td>\n      <td>NaN</td>\n      <td>6.400</td>\n      <td>September 6, 2015</td>\n      <td>No</td>\n      <td>...</td>\n      <td>NaN</td>\n      <td>Black</td>\n      <td>NaN</td>\n      <td>NaN</td>\n      <td>NaN</td>\n      <td>NaN</td>\n      <td>NaN</td>\n      <td>NaN</td>\n      <td>NaN</td>\n      <td>NaN</td>\n    </tr>\n    <tr>\n      <th>...</th>\n      <td>...</td>\n      <td>...</td>\n      <td>...</td>\n      <td>...</td>\n      <td>...</td>\n      <td>...</td>\n      <td>...</td>\n      <td>...</td>\n      <td>...</td>\n      <td>...</td>\n      <td>...</td>\n      <td>...</td>\n      <td>...</td>\n      <td>...</td>\n      <td>...</td>\n      <td>...</td>\n      <td>...</td>\n      <td>...</td>\n      <td>...</td>\n      <td>...</td>\n      <td>...</td>\n    </tr>\n    <tr>\n      <th>2987</th>\n      <td>Apple MacBook Compatible – Premium Black Priva...</td>\n      <td>B06XT2J985</td>\n      <td>NaN</td>\n      <td>204</td>\n      <td>Monitor Anti-Glare &amp; Privacy Filters</td>\n      <td>16.14 x 10.24 x 0.39</td>\n      <td>NaN</td>\n      <td>0.784</td>\n      <td></td>\n      <td>No</td>\n      <td>...</td>\n      <td>NaN</td>\n      <td>NaN</td>\n      <td>NaN</td>\n      <td>NaN</td>\n      <td>NaN</td>\n      <td>NaN</td>\n      <td>NaN</td>\n      <td>NaN</td>\n      <td>NaN</td>\n      <td>NaN</td>\n    </tr>\n    <tr>\n      <th>2988</th>\n      <td>Besign Adjustable Laptop Stand, Ergonomic Rise...</td>\n      <td>B07RQ89Y8G</td>\n      <td>BESIGN</td>\n      <td>6516</td>\n      <td>Office Products</td>\n      <td>10.63 x 10.63 x 10.63</td>\n      <td>NaN</td>\n      <td>1.450</td>\n      <td></td>\n      <td>NaN</td>\n      <td>...</td>\n      <td>NaN</td>\n      <td>Black</td>\n      <td>NaN</td>\n      <td>NaN</td>\n      <td>NaN</td>\n      <td>NaN</td>\n      <td>NaN</td>\n      <td>NaN</td>\n      <td>NaN</td>\n      <td>NaN</td>\n    </tr>\n    <tr>\n      <th>2989</th>\n      <td>(5 Pack) 90 Degree Angled 2 Prong to L-Shaped ...</td>\n      <td>B08NC5DSY1</td>\n      <td>NaN</td>\n      <td>NaN</td>\n      <td>NaN</td>\n      <td>NaN</td>\n      <td>9.8 x 6.22 x 2.91</td>\n      <td>1.030</td>\n      <td></td>\n      <td>NaN</td>\n      <td>...</td>\n      <td>NaN</td>\n      <td>NaN</td>\n      <td>NaN</td>\n      <td>NaN</td>\n      <td>NaN</td>\n      <td>NaN</td>\n      <td>NaN</td>\n      <td>NaN</td>\n      <td>NaN</td>\n      <td>NaN</td>\n    </tr>\n    <tr>\n      <th>2990</th>\n      <td>HP Elite 8200 Ultra Slim Desktop PC - Intel Co...</td>\n      <td>B0754MN7D3</td>\n      <td>HP</td>\n      <td>1608</td>\n      <td>Computers &amp; Accessories</td>\n      <td>10 x 9.9 x 2.6</td>\n      <td>NaN</td>\n      <td>6.800</td>\n      <td>August 25, 2017</td>\n      <td>NaN</td>\n      <td>...</td>\n      <td>NaN</td>\n      <td>NaN</td>\n      <td>10</td>\n      <td>NaN</td>\n      <td>NaN</td>\n      <td>Intel HD Graphics</td>\n      <td>SODIMM</td>\n      <td>NaN</td>\n      <td>NaN</td>\n      <td>1</td>\n    </tr>\n    <tr>\n      <th>2991</th>\n      <td>DTECH 15ft DB9 Serial Cable COM Port Male to M...</td>\n      <td>B07B24HBXN</td>\n      <td>NaN</td>\n      <td>91</td>\n      <td>Serial Cables</td>\n      <td>NaN</td>\n      <td>8.98 x 7.13 x 1.18</td>\n      <td>1.552</td>\n      <td>March 24, 2018</td>\n      <td>No</td>\n      <td>...</td>\n      <td>NaN</td>\n      <td>NaN</td>\n      <td></td>\n      <td>NaN</td>\n      <td>NaN</td>\n      <td>NaN</td>\n      <td>NaN</td>\n      <td>NaN</td>\n      <td>NaN</td>\n      <td>NaN</td>\n    </tr>\n  </tbody>\n</table>\n<p>2992 rows × 32 columns</p>\n</div>"
     },
     "metadata": {},
     "execution_count": 430
    }
   ],
   "source": [
    "final = final.rename(columns={'Package Dimensions' : 'Package Dimensions (inches)'})\n",
    "final"
   ]
  },
  {
   "cell_type": "code",
   "execution_count": 431,
   "metadata": {},
   "outputs": [
    {
     "output_type": "execute_result",
     "data": {
      "text/plain": [
       "                                                   name        ASIN    Brand  \\\n",
       "0     Sceptre 20\" 1600x900 75Hz Ultra Thin LED Monit...  B07743412C  Sceptre   \n",
       "1     Sceptre Curved 27\" 75Hz LED Monitor HDMI VGA B...  B07MTRQ6B3  Sceptre   \n",
       "2     BenQ 24 Inch IPS Monitor | 1080P | Proprietary...  B072XCZSSW     BenQ   \n",
       "3             LG 24M47VQ 24-Inch LED-lit Monitor, Black  B00W95RR32       LG   \n",
       "4     Acer R240HY bidx 23.8-Inch IPS HDMI DVI VGA (1...  B0148NNKTC     Acer   \n",
       "...                                                 ...         ...      ...   \n",
       "2987  Apple MacBook Compatible – Premium Black Priva...  B06XT2J985      NaN   \n",
       "2988  Besign Adjustable Laptop Stand, Ergonomic Rise...  B07RQ89Y8G   BESIGN   \n",
       "2989  (5 Pack) 90 Degree Angled 2 Prong to L-Shaped ...  B08NC5DSY1      NaN   \n",
       "2990  HP Elite 8200 Ultra Slim Desktop PC - Intel Co...  B0754MN7D3       HP   \n",
       "2991  DTECH 15ft DB9 Serial Cable COM Port Male to M...  B07B24HBXN      NaN   \n",
       "\n",
       "     Best Sellers Rank               Best_Sellers_Rank_fields  \\\n",
       "0                  63                            Electronics    \n",
       "1                 138                            Electronics    \n",
       "2                 493                            Electronics    \n",
       "3                 145                            Electronics    \n",
       "4                 279                            Electronics    \n",
       "...                ...                                    ...   \n",
       "2987              204    Monitor Anti-Glare & Privacy Filters   \n",
       "2988             6516                        Office Products    \n",
       "2989               NaN                                    NaN   \n",
       "2990             1608                Computers & Accessories    \n",
       "2991               91                           Serial Cables   \n",
       "\n",
       "     Product Dimensions (inches) Package Dimensions (inches)  \\\n",
       "0          18.35 x 7.17 x 13.58                          NaN   \n",
       "1          24.27 x 9.01 x 17.69                          NaN   \n",
       "2           16.54 x 6.9 x 21.26                          NaN   \n",
       "3             21.9 x 7.8 x 17.2                          NaN   \n",
       "4               21.3 x 7.3 x 16                          NaN   \n",
       "...                          ...                         ...   \n",
       "2987       16.14 x 10.24 x 0.39                          NaN   \n",
       "2988      10.63 x 10.63 x 10.63                          NaN   \n",
       "2989                         NaN          9.8 x 6.22 x 2.91    \n",
       "2990             10 x 9.9 x 2.6                          NaN   \n",
       "2991                         NaN         8.98 x 7.13 x 1.18    \n",
       "\n",
       "      Item Weight (pounds) Date First Available  \\\n",
       "0                    4.430           2017-11-01   \n",
       "1                    8.600           2019-01-11   \n",
       "2                    8.400           2017-08-02   \n",
       "3                    6.200           2015-04-09   \n",
       "4                    6.400           2015-09-06   \n",
       "...                    ...                  ...   \n",
       "2987                 0.784                  NaT   \n",
       "2988                 1.450                  NaT   \n",
       "2989                 1.030                  NaT   \n",
       "2990                 6.800           2017-08-25   \n",
       "2991                 1.552           2018-03-24   \n",
       "\n",
       "     Is Discontinued By Manufacturer  ... Item Package Quantity  \\\n",
       "0                                 No  ...                   NaN   \n",
       "1                                 No  ...                   NaN   \n",
       "2                                 No  ...                   NaN   \n",
       "3                                 No  ...                   NaN   \n",
       "4                                 No  ...                   NaN   \n",
       "...                              ...  ...                   ...   \n",
       "2987                              No  ...                   NaN   \n",
       "2988                             NaN  ...                   NaN   \n",
       "2989                             NaN  ...                   NaN   \n",
       "2990                             NaN  ...                   NaN   \n",
       "2991                              No  ...                   NaN   \n",
       "\n",
       "               Color Number of USB 2.0 Ports Number of USB 3.0 Ports  \\\n",
       "0     Metallic Black                     NaN                     NaN   \n",
       "1        Metal Black                     NaN                     NaN   \n",
       "2              Black                     NaN                     NaN   \n",
       "3              Black                     NaN                     NaN   \n",
       "4              Black                     NaN                     NaN   \n",
       "...              ...                     ...                     ...   \n",
       "2987             NaN                     NaN                     NaN   \n",
       "2988           Black                     NaN                     NaN   \n",
       "2989             NaN                     NaN                     NaN   \n",
       "2990             NaN                      10                     NaN   \n",
       "2991             NaN                                             NaN   \n",
       "\n",
       "     Memory Speed Graphics Coprocessor Computer Memory Type  \\\n",
       "0             NaN                  NaN                  NaN   \n",
       "1             NaN                  NaN                  NaN   \n",
       "2             NaN                  NaN                  NaN   \n",
       "3             NaN                  NaN                  NaN   \n",
       "4             NaN                  NaN                  NaN   \n",
       "...           ...                  ...                  ...   \n",
       "2987          NaN                  NaN                  NaN   \n",
       "2988          NaN                  NaN                  NaN   \n",
       "2989          NaN                  NaN                  NaN   \n",
       "2990          NaN    Intel HD Graphics               SODIMM   \n",
       "2991          NaN                  NaN                  NaN   \n",
       "\n",
       "     Average Battery Life (in hours) Graphics Card Ram Size Processor Count  \n",
       "0                                NaN                    NaN             NaN  \n",
       "1                                NaN                    NaN             NaN  \n",
       "2                                NaN                    NaN             NaN  \n",
       "3                                NaN                    NaN             NaN  \n",
       "4                                NaN                    NaN             NaN  \n",
       "...                              ...                    ...             ...  \n",
       "2987                             NaN                    NaN             NaN  \n",
       "2988                             NaN                    NaN             NaN  \n",
       "2989                             NaN                    NaN             NaN  \n",
       "2990                             NaN                    NaN               1  \n",
       "2991                             NaN                    NaN             NaN  \n",
       "\n",
       "[2992 rows x 32 columns]"
      ],
      "text/html": "<div>\n<style scoped>\n    .dataframe tbody tr th:only-of-type {\n        vertical-align: middle;\n    }\n\n    .dataframe tbody tr th {\n        vertical-align: top;\n    }\n\n    .dataframe thead th {\n        text-align: right;\n    }\n</style>\n<table border=\"1\" class=\"dataframe\">\n  <thead>\n    <tr style=\"text-align: right;\">\n      <th></th>\n      <th>name</th>\n      <th>ASIN</th>\n      <th>Brand</th>\n      <th>Best Sellers Rank</th>\n      <th>Best_Sellers_Rank_fields</th>\n      <th>Product Dimensions (inches)</th>\n      <th>Package Dimensions (inches)</th>\n      <th>Item Weight (pounds)</th>\n      <th>Date First Available</th>\n      <th>Is Discontinued By Manufacturer</th>\n      <th>...</th>\n      <th>Item Package Quantity</th>\n      <th>Color</th>\n      <th>Number of USB 2.0 Ports</th>\n      <th>Number of USB 3.0 Ports</th>\n      <th>Memory Speed</th>\n      <th>Graphics Coprocessor</th>\n      <th>Computer Memory Type</th>\n      <th>Average Battery Life (in hours)</th>\n      <th>Graphics Card Ram Size</th>\n      <th>Processor Count</th>\n    </tr>\n  </thead>\n  <tbody>\n    <tr>\n      <th>0</th>\n      <td>Sceptre 20\" 1600x900 75Hz Ultra Thin LED Monit...</td>\n      <td>B07743412C</td>\n      <td>Sceptre</td>\n      <td>63</td>\n      <td>Electronics</td>\n      <td>18.35 x 7.17 x 13.58</td>\n      <td>NaN</td>\n      <td>4.430</td>\n      <td>2017-11-01</td>\n      <td>No</td>\n      <td>...</td>\n      <td>NaN</td>\n      <td>Metallic Black</td>\n      <td>NaN</td>\n      <td>NaN</td>\n      <td>NaN</td>\n      <td>NaN</td>\n      <td>NaN</td>\n      <td>NaN</td>\n      <td>NaN</td>\n      <td>NaN</td>\n    </tr>\n    <tr>\n      <th>1</th>\n      <td>Sceptre Curved 27\" 75Hz LED Monitor HDMI VGA B...</td>\n      <td>B07MTRQ6B3</td>\n      <td>Sceptre</td>\n      <td>138</td>\n      <td>Electronics</td>\n      <td>24.27 x 9.01 x 17.69</td>\n      <td>NaN</td>\n      <td>8.600</td>\n      <td>2019-01-11</td>\n      <td>No</td>\n      <td>...</td>\n      <td>NaN</td>\n      <td>Metal Black</td>\n      <td>NaN</td>\n      <td>NaN</td>\n      <td>NaN</td>\n      <td>NaN</td>\n      <td>NaN</td>\n      <td>NaN</td>\n      <td>NaN</td>\n      <td>NaN</td>\n    </tr>\n    <tr>\n      <th>2</th>\n      <td>BenQ 24 Inch IPS Monitor | 1080P | Proprietary...</td>\n      <td>B072XCZSSW</td>\n      <td>BenQ</td>\n      <td>493</td>\n      <td>Electronics</td>\n      <td>16.54 x 6.9 x 21.26</td>\n      <td>NaN</td>\n      <td>8.400</td>\n      <td>2017-08-02</td>\n      <td>No</td>\n      <td>...</td>\n      <td>NaN</td>\n      <td>Black</td>\n      <td>NaN</td>\n      <td>NaN</td>\n      <td>NaN</td>\n      <td>NaN</td>\n      <td>NaN</td>\n      <td>NaN</td>\n      <td>NaN</td>\n      <td>NaN</td>\n    </tr>\n    <tr>\n      <th>3</th>\n      <td>LG 24M47VQ 24-Inch LED-lit Monitor, Black</td>\n      <td>B00W95RR32</td>\n      <td>LG</td>\n      <td>145</td>\n      <td>Electronics</td>\n      <td>21.9 x 7.8 x 17.2</td>\n      <td>NaN</td>\n      <td>6.200</td>\n      <td>2015-04-09</td>\n      <td>No</td>\n      <td>...</td>\n      <td>NaN</td>\n      <td>Black</td>\n      <td>NaN</td>\n      <td>NaN</td>\n      <td>NaN</td>\n      <td>NaN</td>\n      <td>NaN</td>\n      <td>NaN</td>\n      <td>NaN</td>\n      <td>NaN</td>\n    </tr>\n    <tr>\n      <th>4</th>\n      <td>Acer R240HY bidx 23.8-Inch IPS HDMI DVI VGA (1...</td>\n      <td>B0148NNKTC</td>\n      <td>Acer</td>\n      <td>279</td>\n      <td>Electronics</td>\n      <td>21.3 x 7.3 x 16</td>\n      <td>NaN</td>\n      <td>6.400</td>\n      <td>2015-09-06</td>\n      <td>No</td>\n      <td>...</td>\n      <td>NaN</td>\n      <td>Black</td>\n      <td>NaN</td>\n      <td>NaN</td>\n      <td>NaN</td>\n      <td>NaN</td>\n      <td>NaN</td>\n      <td>NaN</td>\n      <td>NaN</td>\n      <td>NaN</td>\n    </tr>\n    <tr>\n      <th>...</th>\n      <td>...</td>\n      <td>...</td>\n      <td>...</td>\n      <td>...</td>\n      <td>...</td>\n      <td>...</td>\n      <td>...</td>\n      <td>...</td>\n      <td>...</td>\n      <td>...</td>\n      <td>...</td>\n      <td>...</td>\n      <td>...</td>\n      <td>...</td>\n      <td>...</td>\n      <td>...</td>\n      <td>...</td>\n      <td>...</td>\n      <td>...</td>\n      <td>...</td>\n      <td>...</td>\n    </tr>\n    <tr>\n      <th>2987</th>\n      <td>Apple MacBook Compatible – Premium Black Priva...</td>\n      <td>B06XT2J985</td>\n      <td>NaN</td>\n      <td>204</td>\n      <td>Monitor Anti-Glare &amp; Privacy Filters</td>\n      <td>16.14 x 10.24 x 0.39</td>\n      <td>NaN</td>\n      <td>0.784</td>\n      <td>NaT</td>\n      <td>No</td>\n      <td>...</td>\n      <td>NaN</td>\n      <td>NaN</td>\n      <td>NaN</td>\n      <td>NaN</td>\n      <td>NaN</td>\n      <td>NaN</td>\n      <td>NaN</td>\n      <td>NaN</td>\n      <td>NaN</td>\n      <td>NaN</td>\n    </tr>\n    <tr>\n      <th>2988</th>\n      <td>Besign Adjustable Laptop Stand, Ergonomic Rise...</td>\n      <td>B07RQ89Y8G</td>\n      <td>BESIGN</td>\n      <td>6516</td>\n      <td>Office Products</td>\n      <td>10.63 x 10.63 x 10.63</td>\n      <td>NaN</td>\n      <td>1.450</td>\n      <td>NaT</td>\n      <td>NaN</td>\n      <td>...</td>\n      <td>NaN</td>\n      <td>Black</td>\n      <td>NaN</td>\n      <td>NaN</td>\n      <td>NaN</td>\n      <td>NaN</td>\n      <td>NaN</td>\n      <td>NaN</td>\n      <td>NaN</td>\n      <td>NaN</td>\n    </tr>\n    <tr>\n      <th>2989</th>\n      <td>(5 Pack) 90 Degree Angled 2 Prong to L-Shaped ...</td>\n      <td>B08NC5DSY1</td>\n      <td>NaN</td>\n      <td>NaN</td>\n      <td>NaN</td>\n      <td>NaN</td>\n      <td>9.8 x 6.22 x 2.91</td>\n      <td>1.030</td>\n      <td>NaT</td>\n      <td>NaN</td>\n      <td>...</td>\n      <td>NaN</td>\n      <td>NaN</td>\n      <td>NaN</td>\n      <td>NaN</td>\n      <td>NaN</td>\n      <td>NaN</td>\n      <td>NaN</td>\n      <td>NaN</td>\n      <td>NaN</td>\n      <td>NaN</td>\n    </tr>\n    <tr>\n      <th>2990</th>\n      <td>HP Elite 8200 Ultra Slim Desktop PC - Intel Co...</td>\n      <td>B0754MN7D3</td>\n      <td>HP</td>\n      <td>1608</td>\n      <td>Computers &amp; Accessories</td>\n      <td>10 x 9.9 x 2.6</td>\n      <td>NaN</td>\n      <td>6.800</td>\n      <td>2017-08-25</td>\n      <td>NaN</td>\n      <td>...</td>\n      <td>NaN</td>\n      <td>NaN</td>\n      <td>10</td>\n      <td>NaN</td>\n      <td>NaN</td>\n      <td>Intel HD Graphics</td>\n      <td>SODIMM</td>\n      <td>NaN</td>\n      <td>NaN</td>\n      <td>1</td>\n    </tr>\n    <tr>\n      <th>2991</th>\n      <td>DTECH 15ft DB9 Serial Cable COM Port Male to M...</td>\n      <td>B07B24HBXN</td>\n      <td>NaN</td>\n      <td>91</td>\n      <td>Serial Cables</td>\n      <td>NaN</td>\n      <td>8.98 x 7.13 x 1.18</td>\n      <td>1.552</td>\n      <td>2018-03-24</td>\n      <td>No</td>\n      <td>...</td>\n      <td>NaN</td>\n      <td>NaN</td>\n      <td></td>\n      <td>NaN</td>\n      <td>NaN</td>\n      <td>NaN</td>\n      <td>NaN</td>\n      <td>NaN</td>\n      <td>NaN</td>\n      <td>NaN</td>\n    </tr>\n  </tbody>\n</table>\n<p>2992 rows × 32 columns</p>\n</div>"
     },
     "metadata": {},
     "execution_count": 431
    }
   ],
   "source": [
    "final['Date First Available'] =  pd.to_datetime(final['Date First Available'], infer_datetime_format=True)\n",
    "final"
   ]
  },
  {
   "cell_type": "code",
   "execution_count": 432,
   "metadata": {},
   "outputs": [],
   "source": [
    "# replace any NaN values with the corresponding value of final['Package Dimensions (inches)']\n",
    "\n",
    "\n",
    "final['Product Dimensions (inches)'].fillna(final['Package Dimensions (inches)'], inplace=True)\n",
    "del final['Package Dimensions (inches)']\n"
   ]
  },
  {
   "cell_type": "code",
   "execution_count": 433,
   "metadata": {},
   "outputs": [
    {
     "output_type": "execute_result",
     "data": {
      "text/plain": [
       "                                                   name        ASIN    Brand  \\\n",
       "0     Sceptre 20\" 1600x900 75Hz Ultra Thin LED Monit...  B07743412C  Sceptre   \n",
       "1     Sceptre Curved 27\" 75Hz LED Monitor HDMI VGA B...  B07MTRQ6B3  Sceptre   \n",
       "2     BenQ 24 Inch IPS Monitor | 1080P | Proprietary...  B072XCZSSW     BenQ   \n",
       "3             LG 24M47VQ 24-Inch LED-lit Monitor, Black  B00W95RR32       LG   \n",
       "4     Acer R240HY bidx 23.8-Inch IPS HDMI DVI VGA (1...  B0148NNKTC     Acer   \n",
       "...                                                 ...         ...      ...   \n",
       "2987  Apple MacBook Compatible – Premium Black Priva...  B06XT2J985      NaN   \n",
       "2988  Besign Adjustable Laptop Stand, Ergonomic Rise...  B07RQ89Y8G   BESIGN   \n",
       "2989  (5 Pack) 90 Degree Angled 2 Prong to L-Shaped ...  B08NC5DSY1      NaN   \n",
       "2990  HP Elite 8200 Ultra Slim Desktop PC - Intel Co...  B0754MN7D3       HP   \n",
       "2991  DTECH 15ft DB9 Serial Cable COM Port Male to M...  B07B24HBXN      NaN   \n",
       "\n",
       "     Best Sellers Rank               Best_Sellers_Rank_fields  \\\n",
       "0                  63                            Electronics    \n",
       "1                 138                            Electronics    \n",
       "2                 493                            Electronics    \n",
       "3                 145                            Electronics    \n",
       "4                 279                            Electronics    \n",
       "...                ...                                    ...   \n",
       "2987              204    Monitor Anti-Glare & Privacy Filters   \n",
       "2988             6516                        Office Products    \n",
       "2989               NaN                                    NaN   \n",
       "2990             1608                Computers & Accessories    \n",
       "2991               91                           Serial Cables   \n",
       "\n",
       "     Product Dimensions (inches)  Item Weight (pounds) Date First Available  \\\n",
       "0          18.35 x 7.17 x 13.58                  4.430           2017-11-01   \n",
       "1          24.27 x 9.01 x 17.69                  8.600           2019-01-11   \n",
       "2           16.54 x 6.9 x 21.26                  8.400           2017-08-02   \n",
       "3             21.9 x 7.8 x 17.2                  6.200           2015-04-09   \n",
       "4               21.3 x 7.3 x 16                  6.400           2015-09-06   \n",
       "...                          ...                   ...                  ...   \n",
       "2987       16.14 x 10.24 x 0.39                  0.784                  NaT   \n",
       "2988      10.63 x 10.63 x 10.63                  1.450                  NaT   \n",
       "2989          9.8 x 6.22 x 2.91                  1.030                  NaT   \n",
       "2990             10 x 9.9 x 2.6                  6.800           2017-08-25   \n",
       "2991         8.98 x 7.13 x 1.18                  1.552           2018-03-24   \n",
       "\n",
       "     Is Discontinued By Manufacturer Item model number  ...  \\\n",
       "0                                 No      E205W-16003R  ...   \n",
       "1                                 No      C275W-1920RN  ...   \n",
       "2                                 No            GW2480  ...   \n",
       "3                                 No           24M47VQ  ...   \n",
       "4                                 No       R240HY bidx  ...   \n",
       "...                              ...               ...  ...   \n",
       "2987                              No          APNA2007  ...   \n",
       "2988                             NaN               NaN  ...   \n",
       "2989                             NaN        5pk, 10pk,  ...   \n",
       "2990                             NaN        Elite 8200  ...   \n",
       "2991                              No               NaN  ...   \n",
       "\n",
       "     Item Package Quantity           Color Number of USB 2.0 Ports  \\\n",
       "0                      NaN  Metallic Black                     NaN   \n",
       "1                      NaN     Metal Black                     NaN   \n",
       "2                      NaN           Black                     NaN   \n",
       "3                      NaN           Black                     NaN   \n",
       "4                      NaN           Black                     NaN   \n",
       "...                    ...             ...                     ...   \n",
       "2987                   NaN             NaN                     NaN   \n",
       "2988                   NaN           Black                     NaN   \n",
       "2989                   NaN             NaN                     NaN   \n",
       "2990                   NaN             NaN                      10   \n",
       "2991                   NaN             NaN                           \n",
       "\n",
       "     Number of USB 3.0 Ports Memory Speed Graphics Coprocessor  \\\n",
       "0                        NaN          NaN                  NaN   \n",
       "1                        NaN          NaN                  NaN   \n",
       "2                        NaN          NaN                  NaN   \n",
       "3                        NaN          NaN                  NaN   \n",
       "4                        NaN          NaN                  NaN   \n",
       "...                      ...          ...                  ...   \n",
       "2987                     NaN          NaN                  NaN   \n",
       "2988                     NaN          NaN                  NaN   \n",
       "2989                     NaN          NaN                  NaN   \n",
       "2990                     NaN          NaN    Intel HD Graphics   \n",
       "2991                     NaN          NaN                  NaN   \n",
       "\n",
       "     Computer Memory Type Average Battery Life (in hours)  \\\n",
       "0                     NaN                             NaN   \n",
       "1                     NaN                             NaN   \n",
       "2                     NaN                             NaN   \n",
       "3                     NaN                             NaN   \n",
       "4                     NaN                             NaN   \n",
       "...                   ...                             ...   \n",
       "2987                  NaN                             NaN   \n",
       "2988                  NaN                             NaN   \n",
       "2989                  NaN                             NaN   \n",
       "2990               SODIMM                             NaN   \n",
       "2991                  NaN                             NaN   \n",
       "\n",
       "     Graphics Card Ram Size Processor Count  \n",
       "0                       NaN             NaN  \n",
       "1                       NaN             NaN  \n",
       "2                       NaN             NaN  \n",
       "3                       NaN             NaN  \n",
       "4                       NaN             NaN  \n",
       "...                     ...             ...  \n",
       "2987                    NaN             NaN  \n",
       "2988                    NaN             NaN  \n",
       "2989                    NaN             NaN  \n",
       "2990                    NaN               1  \n",
       "2991                    NaN             NaN  \n",
       "\n",
       "[2992 rows x 31 columns]"
      ],
      "text/html": "<div>\n<style scoped>\n    .dataframe tbody tr th:only-of-type {\n        vertical-align: middle;\n    }\n\n    .dataframe tbody tr th {\n        vertical-align: top;\n    }\n\n    .dataframe thead th {\n        text-align: right;\n    }\n</style>\n<table border=\"1\" class=\"dataframe\">\n  <thead>\n    <tr style=\"text-align: right;\">\n      <th></th>\n      <th>name</th>\n      <th>ASIN</th>\n      <th>Brand</th>\n      <th>Best Sellers Rank</th>\n      <th>Best_Sellers_Rank_fields</th>\n      <th>Product Dimensions (inches)</th>\n      <th>Item Weight (pounds)</th>\n      <th>Date First Available</th>\n      <th>Is Discontinued By Manufacturer</th>\n      <th>Item model number</th>\n      <th>...</th>\n      <th>Item Package Quantity</th>\n      <th>Color</th>\n      <th>Number of USB 2.0 Ports</th>\n      <th>Number of USB 3.0 Ports</th>\n      <th>Memory Speed</th>\n      <th>Graphics Coprocessor</th>\n      <th>Computer Memory Type</th>\n      <th>Average Battery Life (in hours)</th>\n      <th>Graphics Card Ram Size</th>\n      <th>Processor Count</th>\n    </tr>\n  </thead>\n  <tbody>\n    <tr>\n      <th>0</th>\n      <td>Sceptre 20\" 1600x900 75Hz Ultra Thin LED Monit...</td>\n      <td>B07743412C</td>\n      <td>Sceptre</td>\n      <td>63</td>\n      <td>Electronics</td>\n      <td>18.35 x 7.17 x 13.58</td>\n      <td>4.430</td>\n      <td>2017-11-01</td>\n      <td>No</td>\n      <td>E205W-16003R</td>\n      <td>...</td>\n      <td>NaN</td>\n      <td>Metallic Black</td>\n      <td>NaN</td>\n      <td>NaN</td>\n      <td>NaN</td>\n      <td>NaN</td>\n      <td>NaN</td>\n      <td>NaN</td>\n      <td>NaN</td>\n      <td>NaN</td>\n    </tr>\n    <tr>\n      <th>1</th>\n      <td>Sceptre Curved 27\" 75Hz LED Monitor HDMI VGA B...</td>\n      <td>B07MTRQ6B3</td>\n      <td>Sceptre</td>\n      <td>138</td>\n      <td>Electronics</td>\n      <td>24.27 x 9.01 x 17.69</td>\n      <td>8.600</td>\n      <td>2019-01-11</td>\n      <td>No</td>\n      <td>C275W-1920RN</td>\n      <td>...</td>\n      <td>NaN</td>\n      <td>Metal Black</td>\n      <td>NaN</td>\n      <td>NaN</td>\n      <td>NaN</td>\n      <td>NaN</td>\n      <td>NaN</td>\n      <td>NaN</td>\n      <td>NaN</td>\n      <td>NaN</td>\n    </tr>\n    <tr>\n      <th>2</th>\n      <td>BenQ 24 Inch IPS Monitor | 1080P | Proprietary...</td>\n      <td>B072XCZSSW</td>\n      <td>BenQ</td>\n      <td>493</td>\n      <td>Electronics</td>\n      <td>16.54 x 6.9 x 21.26</td>\n      <td>8.400</td>\n      <td>2017-08-02</td>\n      <td>No</td>\n      <td>GW2480</td>\n      <td>...</td>\n      <td>NaN</td>\n      <td>Black</td>\n      <td>NaN</td>\n      <td>NaN</td>\n      <td>NaN</td>\n      <td>NaN</td>\n      <td>NaN</td>\n      <td>NaN</td>\n      <td>NaN</td>\n      <td>NaN</td>\n    </tr>\n    <tr>\n      <th>3</th>\n      <td>LG 24M47VQ 24-Inch LED-lit Monitor, Black</td>\n      <td>B00W95RR32</td>\n      <td>LG</td>\n      <td>145</td>\n      <td>Electronics</td>\n      <td>21.9 x 7.8 x 17.2</td>\n      <td>6.200</td>\n      <td>2015-04-09</td>\n      <td>No</td>\n      <td>24M47VQ</td>\n      <td>...</td>\n      <td>NaN</td>\n      <td>Black</td>\n      <td>NaN</td>\n      <td>NaN</td>\n      <td>NaN</td>\n      <td>NaN</td>\n      <td>NaN</td>\n      <td>NaN</td>\n      <td>NaN</td>\n      <td>NaN</td>\n    </tr>\n    <tr>\n      <th>4</th>\n      <td>Acer R240HY bidx 23.8-Inch IPS HDMI DVI VGA (1...</td>\n      <td>B0148NNKTC</td>\n      <td>Acer</td>\n      <td>279</td>\n      <td>Electronics</td>\n      <td>21.3 x 7.3 x 16</td>\n      <td>6.400</td>\n      <td>2015-09-06</td>\n      <td>No</td>\n      <td>R240HY bidx</td>\n      <td>...</td>\n      <td>NaN</td>\n      <td>Black</td>\n      <td>NaN</td>\n      <td>NaN</td>\n      <td>NaN</td>\n      <td>NaN</td>\n      <td>NaN</td>\n      <td>NaN</td>\n      <td>NaN</td>\n      <td>NaN</td>\n    </tr>\n    <tr>\n      <th>...</th>\n      <td>...</td>\n      <td>...</td>\n      <td>...</td>\n      <td>...</td>\n      <td>...</td>\n      <td>...</td>\n      <td>...</td>\n      <td>...</td>\n      <td>...</td>\n      <td>...</td>\n      <td>...</td>\n      <td>...</td>\n      <td>...</td>\n      <td>...</td>\n      <td>...</td>\n      <td>...</td>\n      <td>...</td>\n      <td>...</td>\n      <td>...</td>\n      <td>...</td>\n      <td>...</td>\n    </tr>\n    <tr>\n      <th>2987</th>\n      <td>Apple MacBook Compatible – Premium Black Priva...</td>\n      <td>B06XT2J985</td>\n      <td>NaN</td>\n      <td>204</td>\n      <td>Monitor Anti-Glare &amp; Privacy Filters</td>\n      <td>16.14 x 10.24 x 0.39</td>\n      <td>0.784</td>\n      <td>NaT</td>\n      <td>No</td>\n      <td>APNA2007</td>\n      <td>...</td>\n      <td>NaN</td>\n      <td>NaN</td>\n      <td>NaN</td>\n      <td>NaN</td>\n      <td>NaN</td>\n      <td>NaN</td>\n      <td>NaN</td>\n      <td>NaN</td>\n      <td>NaN</td>\n      <td>NaN</td>\n    </tr>\n    <tr>\n      <th>2988</th>\n      <td>Besign Adjustable Laptop Stand, Ergonomic Rise...</td>\n      <td>B07RQ89Y8G</td>\n      <td>BESIGN</td>\n      <td>6516</td>\n      <td>Office Products</td>\n      <td>10.63 x 10.63 x 10.63</td>\n      <td>1.450</td>\n      <td>NaT</td>\n      <td>NaN</td>\n      <td>NaN</td>\n      <td>...</td>\n      <td>NaN</td>\n      <td>Black</td>\n      <td>NaN</td>\n      <td>NaN</td>\n      <td>NaN</td>\n      <td>NaN</td>\n      <td>NaN</td>\n      <td>NaN</td>\n      <td>NaN</td>\n      <td>NaN</td>\n    </tr>\n    <tr>\n      <th>2989</th>\n      <td>(5 Pack) 90 Degree Angled 2 Prong to L-Shaped ...</td>\n      <td>B08NC5DSY1</td>\n      <td>NaN</td>\n      <td>NaN</td>\n      <td>NaN</td>\n      <td>9.8 x 6.22 x 2.91</td>\n      <td>1.030</td>\n      <td>NaT</td>\n      <td>NaN</td>\n      <td>5pk, 10pk,</td>\n      <td>...</td>\n      <td>NaN</td>\n      <td>NaN</td>\n      <td>NaN</td>\n      <td>NaN</td>\n      <td>NaN</td>\n      <td>NaN</td>\n      <td>NaN</td>\n      <td>NaN</td>\n      <td>NaN</td>\n      <td>NaN</td>\n    </tr>\n    <tr>\n      <th>2990</th>\n      <td>HP Elite 8200 Ultra Slim Desktop PC - Intel Co...</td>\n      <td>B0754MN7D3</td>\n      <td>HP</td>\n      <td>1608</td>\n      <td>Computers &amp; Accessories</td>\n      <td>10 x 9.9 x 2.6</td>\n      <td>6.800</td>\n      <td>2017-08-25</td>\n      <td>NaN</td>\n      <td>Elite 8200</td>\n      <td>...</td>\n      <td>NaN</td>\n      <td>NaN</td>\n      <td>10</td>\n      <td>NaN</td>\n      <td>NaN</td>\n      <td>Intel HD Graphics</td>\n      <td>SODIMM</td>\n      <td>NaN</td>\n      <td>NaN</td>\n      <td>1</td>\n    </tr>\n    <tr>\n      <th>2991</th>\n      <td>DTECH 15ft DB9 Serial Cable COM Port Male to M...</td>\n      <td>B07B24HBXN</td>\n      <td>NaN</td>\n      <td>91</td>\n      <td>Serial Cables</td>\n      <td>8.98 x 7.13 x 1.18</td>\n      <td>1.552</td>\n      <td>2018-03-24</td>\n      <td>No</td>\n      <td>NaN</td>\n      <td>...</td>\n      <td>NaN</td>\n      <td>NaN</td>\n      <td></td>\n      <td>NaN</td>\n      <td>NaN</td>\n      <td>NaN</td>\n      <td>NaN</td>\n      <td>NaN</td>\n      <td>NaN</td>\n      <td>NaN</td>\n    </tr>\n  </tbody>\n</table>\n<p>2992 rows × 31 columns</p>\n</div>"
     },
     "metadata": {},
     "execution_count": 433
    }
   ],
   "source": [
    "final"
   ]
  },
  {
   "cell_type": "code",
   "execution_count": null,
   "metadata": {},
   "outputs": [],
   "source": []
  },
  {
   "cell_type": "code",
   "execution_count": 434,
   "metadata": {},
   "outputs": [],
   "source": [
    "# .stack creates a series with a MultiIndex and takes care of the null values for you. It aligns the second level on the column names and because the column names are the same there is only one - unstacking just produces a single column.\n",
    "\n",
    "# That's really just a guess based on the differences between Index's if you don't change the column names.\n",
    "\n",
    "# s = p_d.stack()\n",
    "# s"
   ]
  },
  {
   "cell_type": "code",
   "execution_count": 435,
   "metadata": {},
   "outputs": [],
   "source": [
    "# p_d = p_d.fillna(0)\n",
    "# p_d"
   ]
  },
  {
   "cell_type": "code",
   "execution_count": 447,
   "metadata": {},
   "outputs": [
    {
     "output_type": "execute_result",
     "data": {
      "text/plain": [
       "name                                       object\n",
       "ASIN                                       object\n",
       "Brand                                      object\n",
       "Best Sellers Rank                           int32\n",
       "Best_Sellers_Rank_fields                   object\n",
       "Product Dimensions (inches)                object\n",
       "Item Weight (pounds)                      float64\n",
       "Date First Available               datetime64[ns]\n",
       "Is Discontinued By Manufacturer            object\n",
       "Item model number                          object\n",
       "Batteries                                  object\n",
       "Card Description                           object\n",
       "Voltage                                    object\n",
       "Series                                     object\n",
       "National Stock Number                      object\n",
       "Chipset Brand                              object\n",
       "Batteries Required?                        object\n",
       "Wireless Type                              object\n",
       "Standing screen display size               object\n",
       "Max Screen Resolution                      object\n",
       "Part Number                                object\n",
       "Item Package Quantity                      object\n",
       "Color                                      object\n",
       "Number of USB 2.0 Ports                    object\n",
       "Number of USB 3.0 Ports                    object\n",
       "Memory Speed                               object\n",
       "Graphics Coprocessor                       object\n",
       "Computer Memory Type                       object\n",
       "Average Battery Life (in hours)            object\n",
       "Graphics Card Ram Size                     object\n",
       "Processor Count                            object\n",
       "dtype: object"
      ]
     },
     "metadata": {},
     "execution_count": 447
    }
   ],
   "source": [
    "final.dtypes"
   ]
  },
  {
   "cell_type": "code",
   "execution_count": 437,
   "metadata": {},
   "outputs": [
    {
     "output_type": "execute_result",
     "data": {
      "text/plain": [
       "name                                  1\n",
       "ASIN                                  0\n",
       "Brand                              1828\n",
       "Best Sellers Rank                    61\n",
       "Best_Sellers_Rank_fields             63\n",
       "Product Dimensions (inches)          15\n",
       "Item Weight (pounds)                  6\n",
       "Date First Available               2276\n",
       "Is Discontinued By Manufacturer    1767\n",
       "Item model number                  1158\n",
       "Batteries                          2836\n",
       "Card Description                   2955\n",
       "Voltage                            2806\n",
       "Series                             2600\n",
       "National Stock Number              2981\n",
       "Chipset Brand                      2973\n",
       "Batteries Required?                2960\n",
       "Wireless Type                      2904\n",
       "Standing screen display size       2376\n",
       "Max Screen Resolution              2228\n",
       "Part Number                        2978\n",
       "Item Package Quantity              2987\n",
       "Color                              2077\n",
       "Number of USB 2.0 Ports            2865\n",
       "Number of USB 3.0 Ports            2881\n",
       "Memory Speed                       2968\n",
       "Graphics Coprocessor               2934\n",
       "Computer Memory Type               2921\n",
       "Average Battery Life (in hours)    2980\n",
       "Graphics Card Ram Size             2958\n",
       "Processor Count                    2904\n",
       "dtype: int64"
      ]
     },
     "metadata": {},
     "execution_count": 437
    }
   ],
   "source": [
    "final.isnull().sum()"
   ]
  },
  {
   "cell_type": "code",
   "execution_count": 438,
   "metadata": {},
   "outputs": [],
   "source": [
    "# final[final['Best Sellers Rank'].isnull()]"
   ]
  },
  {
   "cell_type": "code",
   "execution_count": 439,
   "metadata": {},
   "outputs": [],
   "source": [
    "# final['Max Screen Resolution']"
   ]
  },
  {
   "cell_type": "code",
   "execution_count": 440,
   "metadata": {},
   "outputs": [],
   "source": [
    "final['Best Sellers Rank'] = final['Best Sellers Rank'].str.strip()"
   ]
  },
  {
   "cell_type": "code",
   "execution_count": 441,
   "metadata": {},
   "outputs": [],
   "source": []
  },
  {
   "cell_type": "code",
   "execution_count": 442,
   "metadata": {},
   "outputs": [],
   "source": [
    "final['Best Sellers Rank'] = pd.to_numeric(final['Best Sellers Rank'])"
   ]
  },
  {
   "cell_type": "code",
   "execution_count": 444,
   "metadata": {},
   "outputs": [],
   "source": [
    "final['Best Sellers Rank'].fillna(0, inplace= True)"
   ]
  },
  {
   "cell_type": "code",
   "execution_count": 445,
   "metadata": {},
   "outputs": [],
   "source": [
    "final['Best Sellers Rank'] = final['Best Sellers Rank'].astype('int')"
   ]
  },
  {
   "cell_type": "code",
   "execution_count": 446,
   "metadata": {},
   "outputs": [
    {
     "output_type": "execute_result",
     "data": {
      "text/plain": [
       "0         63\n",
       "1        138\n",
       "2        493\n",
       "3        145\n",
       "4        279\n",
       "        ... \n",
       "2987     204\n",
       "2988    6516\n",
       "2989       0\n",
       "2990    1608\n",
       "2991      91\n",
       "Name: Best Sellers Rank, Length: 2992, dtype: int32"
      ]
     },
     "metadata": {},
     "execution_count": 446
    }
   ],
   "source": [
    "final['Best Sellers Rank']"
   ]
  },
  {
   "cell_type": "code",
   "execution_count": 448,
   "metadata": {},
   "outputs": [
    {
     "output_type": "execute_result",
     "data": {
      "text/plain": [
       "0"
      ]
     },
     "metadata": {},
     "execution_count": 448
    }
   ],
   "source": [
    "final['Best Sellers Rank'].isna().sum()"
   ]
  },
  {
   "cell_type": "code",
   "execution_count": 449,
   "metadata": {},
   "outputs": [
    {
     "output_type": "execute_result",
     "data": {
      "text/plain": [
       "                                                   name        ASIN    Brand  \\\n",
       "0     Sceptre 20\" 1600x900 75Hz Ultra Thin LED Monit...  B07743412C  Sceptre   \n",
       "1     Sceptre Curved 27\" 75Hz LED Monitor HDMI VGA B...  B07MTRQ6B3  Sceptre   \n",
       "2     BenQ 24 Inch IPS Monitor | 1080P | Proprietary...  B072XCZSSW     BenQ   \n",
       "3             LG 24M47VQ 24-Inch LED-lit Monitor, Black  B00W95RR32       LG   \n",
       "4     Acer R240HY bidx 23.8-Inch IPS HDMI DVI VGA (1...  B0148NNKTC     Acer   \n",
       "...                                                 ...         ...      ...   \n",
       "2987  Apple MacBook Compatible – Premium Black Priva...  B06XT2J985      NaN   \n",
       "2988  Besign Adjustable Laptop Stand, Ergonomic Rise...  B07RQ89Y8G   BESIGN   \n",
       "2989  (5 Pack) 90 Degree Angled 2 Prong to L-Shaped ...  B08NC5DSY1      NaN   \n",
       "2990  HP Elite 8200 Ultra Slim Desktop PC - Intel Co...  B0754MN7D3       HP   \n",
       "2991  DTECH 15ft DB9 Serial Cable COM Port Male to M...  B07B24HBXN      NaN   \n",
       "\n",
       "      Best Sellers Rank               Best_Sellers_Rank_fields  \\\n",
       "0                    63                           Electronics    \n",
       "1                   138                           Electronics    \n",
       "2                   493                           Electronics    \n",
       "3                   145                           Electronics    \n",
       "4                   279                           Electronics    \n",
       "...                 ...                                    ...   \n",
       "2987                204   Monitor Anti-Glare & Privacy Filters   \n",
       "2988               6516                       Office Products    \n",
       "2989                  0                                    NaN   \n",
       "2990               1608               Computers & Accessories    \n",
       "2991                 91                          Serial Cables   \n",
       "\n",
       "     Product Dimensions (inches)  Item Weight (pounds) Date First Available  \\\n",
       "0          18.35 x 7.17 x 13.58                  4.430           2017-11-01   \n",
       "1          24.27 x 9.01 x 17.69                  8.600           2019-01-11   \n",
       "2           16.54 x 6.9 x 21.26                  8.400           2017-08-02   \n",
       "3             21.9 x 7.8 x 17.2                  6.200           2015-04-09   \n",
       "4               21.3 x 7.3 x 16                  6.400           2015-09-06   \n",
       "...                          ...                   ...                  ...   \n",
       "2987       16.14 x 10.24 x 0.39                  0.784                  NaT   \n",
       "2988      10.63 x 10.63 x 10.63                  1.450                  NaT   \n",
       "2989          9.8 x 6.22 x 2.91                  1.030                  NaT   \n",
       "2990             10 x 9.9 x 2.6                  6.800           2017-08-25   \n",
       "2991         8.98 x 7.13 x 1.18                  1.552           2018-03-24   \n",
       "\n",
       "     Is Discontinued By Manufacturer Item model number  ...  \\\n",
       "0                                 No      E205W-16003R  ...   \n",
       "1                                 No      C275W-1920RN  ...   \n",
       "2                                 No            GW2480  ...   \n",
       "3                                 No           24M47VQ  ...   \n",
       "4                                 No       R240HY bidx  ...   \n",
       "...                              ...               ...  ...   \n",
       "2987                              No          APNA2007  ...   \n",
       "2988                             NaN               NaN  ...   \n",
       "2989                             NaN        5pk, 10pk,  ...   \n",
       "2990                             NaN        Elite 8200  ...   \n",
       "2991                              No               NaN  ...   \n",
       "\n",
       "     Item Package Quantity           Color Number of USB 2.0 Ports  \\\n",
       "0                      NaN  Metallic Black                     NaN   \n",
       "1                      NaN     Metal Black                     NaN   \n",
       "2                      NaN           Black                     NaN   \n",
       "3                      NaN           Black                     NaN   \n",
       "4                      NaN           Black                     NaN   \n",
       "...                    ...             ...                     ...   \n",
       "2987                   NaN             NaN                     NaN   \n",
       "2988                   NaN           Black                     NaN   \n",
       "2989                   NaN             NaN                     NaN   \n",
       "2990                   NaN             NaN                      10   \n",
       "2991                   NaN             NaN                           \n",
       "\n",
       "     Number of USB 3.0 Ports Memory Speed Graphics Coprocessor  \\\n",
       "0                        NaN          NaN                  NaN   \n",
       "1                        NaN          NaN                  NaN   \n",
       "2                        NaN          NaN                  NaN   \n",
       "3                        NaN          NaN                  NaN   \n",
       "4                        NaN          NaN                  NaN   \n",
       "...                      ...          ...                  ...   \n",
       "2987                     NaN          NaN                  NaN   \n",
       "2988                     NaN          NaN                  NaN   \n",
       "2989                     NaN          NaN                  NaN   \n",
       "2990                     NaN          NaN    Intel HD Graphics   \n",
       "2991                     NaN          NaN                  NaN   \n",
       "\n",
       "     Computer Memory Type Average Battery Life (in hours)  \\\n",
       "0                     NaN                             NaN   \n",
       "1                     NaN                             NaN   \n",
       "2                     NaN                             NaN   \n",
       "3                     NaN                             NaN   \n",
       "4                     NaN                             NaN   \n",
       "...                   ...                             ...   \n",
       "2987                  NaN                             NaN   \n",
       "2988                  NaN                             NaN   \n",
       "2989                  NaN                             NaN   \n",
       "2990               SODIMM                             NaN   \n",
       "2991                  NaN                             NaN   \n",
       "\n",
       "     Graphics Card Ram Size Processor Count  \n",
       "0                       NaN             NaN  \n",
       "1                       NaN             NaN  \n",
       "2                       NaN             NaN  \n",
       "3                       NaN             NaN  \n",
       "4                       NaN             NaN  \n",
       "...                     ...             ...  \n",
       "2987                    NaN             NaN  \n",
       "2988                    NaN             NaN  \n",
       "2989                    NaN             NaN  \n",
       "2990                    NaN               1  \n",
       "2991                    NaN             NaN  \n",
       "\n",
       "[2992 rows x 31 columns]"
      ],
      "text/html": "<div>\n<style scoped>\n    .dataframe tbody tr th:only-of-type {\n        vertical-align: middle;\n    }\n\n    .dataframe tbody tr th {\n        vertical-align: top;\n    }\n\n    .dataframe thead th {\n        text-align: right;\n    }\n</style>\n<table border=\"1\" class=\"dataframe\">\n  <thead>\n    <tr style=\"text-align: right;\">\n      <th></th>\n      <th>name</th>\n      <th>ASIN</th>\n      <th>Brand</th>\n      <th>Best Sellers Rank</th>\n      <th>Best_Sellers_Rank_fields</th>\n      <th>Product Dimensions (inches)</th>\n      <th>Item Weight (pounds)</th>\n      <th>Date First Available</th>\n      <th>Is Discontinued By Manufacturer</th>\n      <th>Item model number</th>\n      <th>...</th>\n      <th>Item Package Quantity</th>\n      <th>Color</th>\n      <th>Number of USB 2.0 Ports</th>\n      <th>Number of USB 3.0 Ports</th>\n      <th>Memory Speed</th>\n      <th>Graphics Coprocessor</th>\n      <th>Computer Memory Type</th>\n      <th>Average Battery Life (in hours)</th>\n      <th>Graphics Card Ram Size</th>\n      <th>Processor Count</th>\n    </tr>\n  </thead>\n  <tbody>\n    <tr>\n      <th>0</th>\n      <td>Sceptre 20\" 1600x900 75Hz Ultra Thin LED Monit...</td>\n      <td>B07743412C</td>\n      <td>Sceptre</td>\n      <td>63</td>\n      <td>Electronics</td>\n      <td>18.35 x 7.17 x 13.58</td>\n      <td>4.430</td>\n      <td>2017-11-01</td>\n      <td>No</td>\n      <td>E205W-16003R</td>\n      <td>...</td>\n      <td>NaN</td>\n      <td>Metallic Black</td>\n      <td>NaN</td>\n      <td>NaN</td>\n      <td>NaN</td>\n      <td>NaN</td>\n      <td>NaN</td>\n      <td>NaN</td>\n      <td>NaN</td>\n      <td>NaN</td>\n    </tr>\n    <tr>\n      <th>1</th>\n      <td>Sceptre Curved 27\" 75Hz LED Monitor HDMI VGA B...</td>\n      <td>B07MTRQ6B3</td>\n      <td>Sceptre</td>\n      <td>138</td>\n      <td>Electronics</td>\n      <td>24.27 x 9.01 x 17.69</td>\n      <td>8.600</td>\n      <td>2019-01-11</td>\n      <td>No</td>\n      <td>C275W-1920RN</td>\n      <td>...</td>\n      <td>NaN</td>\n      <td>Metal Black</td>\n      <td>NaN</td>\n      <td>NaN</td>\n      <td>NaN</td>\n      <td>NaN</td>\n      <td>NaN</td>\n      <td>NaN</td>\n      <td>NaN</td>\n      <td>NaN</td>\n    </tr>\n    <tr>\n      <th>2</th>\n      <td>BenQ 24 Inch IPS Monitor | 1080P | Proprietary...</td>\n      <td>B072XCZSSW</td>\n      <td>BenQ</td>\n      <td>493</td>\n      <td>Electronics</td>\n      <td>16.54 x 6.9 x 21.26</td>\n      <td>8.400</td>\n      <td>2017-08-02</td>\n      <td>No</td>\n      <td>GW2480</td>\n      <td>...</td>\n      <td>NaN</td>\n      <td>Black</td>\n      <td>NaN</td>\n      <td>NaN</td>\n      <td>NaN</td>\n      <td>NaN</td>\n      <td>NaN</td>\n      <td>NaN</td>\n      <td>NaN</td>\n      <td>NaN</td>\n    </tr>\n    <tr>\n      <th>3</th>\n      <td>LG 24M47VQ 24-Inch LED-lit Monitor, Black</td>\n      <td>B00W95RR32</td>\n      <td>LG</td>\n      <td>145</td>\n      <td>Electronics</td>\n      <td>21.9 x 7.8 x 17.2</td>\n      <td>6.200</td>\n      <td>2015-04-09</td>\n      <td>No</td>\n      <td>24M47VQ</td>\n      <td>...</td>\n      <td>NaN</td>\n      <td>Black</td>\n      <td>NaN</td>\n      <td>NaN</td>\n      <td>NaN</td>\n      <td>NaN</td>\n      <td>NaN</td>\n      <td>NaN</td>\n      <td>NaN</td>\n      <td>NaN</td>\n    </tr>\n    <tr>\n      <th>4</th>\n      <td>Acer R240HY bidx 23.8-Inch IPS HDMI DVI VGA (1...</td>\n      <td>B0148NNKTC</td>\n      <td>Acer</td>\n      <td>279</td>\n      <td>Electronics</td>\n      <td>21.3 x 7.3 x 16</td>\n      <td>6.400</td>\n      <td>2015-09-06</td>\n      <td>No</td>\n      <td>R240HY bidx</td>\n      <td>...</td>\n      <td>NaN</td>\n      <td>Black</td>\n      <td>NaN</td>\n      <td>NaN</td>\n      <td>NaN</td>\n      <td>NaN</td>\n      <td>NaN</td>\n      <td>NaN</td>\n      <td>NaN</td>\n      <td>NaN</td>\n    </tr>\n    <tr>\n      <th>...</th>\n      <td>...</td>\n      <td>...</td>\n      <td>...</td>\n      <td>...</td>\n      <td>...</td>\n      <td>...</td>\n      <td>...</td>\n      <td>...</td>\n      <td>...</td>\n      <td>...</td>\n      <td>...</td>\n      <td>...</td>\n      <td>...</td>\n      <td>...</td>\n      <td>...</td>\n      <td>...</td>\n      <td>...</td>\n      <td>...</td>\n      <td>...</td>\n      <td>...</td>\n      <td>...</td>\n    </tr>\n    <tr>\n      <th>2987</th>\n      <td>Apple MacBook Compatible – Premium Black Priva...</td>\n      <td>B06XT2J985</td>\n      <td>NaN</td>\n      <td>204</td>\n      <td>Monitor Anti-Glare &amp; Privacy Filters</td>\n      <td>16.14 x 10.24 x 0.39</td>\n      <td>0.784</td>\n      <td>NaT</td>\n      <td>No</td>\n      <td>APNA2007</td>\n      <td>...</td>\n      <td>NaN</td>\n      <td>NaN</td>\n      <td>NaN</td>\n      <td>NaN</td>\n      <td>NaN</td>\n      <td>NaN</td>\n      <td>NaN</td>\n      <td>NaN</td>\n      <td>NaN</td>\n      <td>NaN</td>\n    </tr>\n    <tr>\n      <th>2988</th>\n      <td>Besign Adjustable Laptop Stand, Ergonomic Rise...</td>\n      <td>B07RQ89Y8G</td>\n      <td>BESIGN</td>\n      <td>6516</td>\n      <td>Office Products</td>\n      <td>10.63 x 10.63 x 10.63</td>\n      <td>1.450</td>\n      <td>NaT</td>\n      <td>NaN</td>\n      <td>NaN</td>\n      <td>...</td>\n      <td>NaN</td>\n      <td>Black</td>\n      <td>NaN</td>\n      <td>NaN</td>\n      <td>NaN</td>\n      <td>NaN</td>\n      <td>NaN</td>\n      <td>NaN</td>\n      <td>NaN</td>\n      <td>NaN</td>\n    </tr>\n    <tr>\n      <th>2989</th>\n      <td>(5 Pack) 90 Degree Angled 2 Prong to L-Shaped ...</td>\n      <td>B08NC5DSY1</td>\n      <td>NaN</td>\n      <td>0</td>\n      <td>NaN</td>\n      <td>9.8 x 6.22 x 2.91</td>\n      <td>1.030</td>\n      <td>NaT</td>\n      <td>NaN</td>\n      <td>5pk, 10pk,</td>\n      <td>...</td>\n      <td>NaN</td>\n      <td>NaN</td>\n      <td>NaN</td>\n      <td>NaN</td>\n      <td>NaN</td>\n      <td>NaN</td>\n      <td>NaN</td>\n      <td>NaN</td>\n      <td>NaN</td>\n      <td>NaN</td>\n    </tr>\n    <tr>\n      <th>2990</th>\n      <td>HP Elite 8200 Ultra Slim Desktop PC - Intel Co...</td>\n      <td>B0754MN7D3</td>\n      <td>HP</td>\n      <td>1608</td>\n      <td>Computers &amp; Accessories</td>\n      <td>10 x 9.9 x 2.6</td>\n      <td>6.800</td>\n      <td>2017-08-25</td>\n      <td>NaN</td>\n      <td>Elite 8200</td>\n      <td>...</td>\n      <td>NaN</td>\n      <td>NaN</td>\n      <td>10</td>\n      <td>NaN</td>\n      <td>NaN</td>\n      <td>Intel HD Graphics</td>\n      <td>SODIMM</td>\n      <td>NaN</td>\n      <td>NaN</td>\n      <td>1</td>\n    </tr>\n    <tr>\n      <th>2991</th>\n      <td>DTECH 15ft DB9 Serial Cable COM Port Male to M...</td>\n      <td>B07B24HBXN</td>\n      <td>NaN</td>\n      <td>91</td>\n      <td>Serial Cables</td>\n      <td>8.98 x 7.13 x 1.18</td>\n      <td>1.552</td>\n      <td>2018-03-24</td>\n      <td>No</td>\n      <td>NaN</td>\n      <td>...</td>\n      <td>NaN</td>\n      <td>NaN</td>\n      <td></td>\n      <td>NaN</td>\n      <td>NaN</td>\n      <td>NaN</td>\n      <td>NaN</td>\n      <td>NaN</td>\n      <td>NaN</td>\n      <td>NaN</td>\n    </tr>\n  </tbody>\n</table>\n<p>2992 rows × 31 columns</p>\n</div>"
     },
     "metadata": {},
     "execution_count": 449
    }
   ],
   "source": [
    "final"
   ]
  },
  {
   "cell_type": "code",
   "execution_count": 450,
   "metadata": {},
   "outputs": [
    {
     "output_type": "execute_result",
     "data": {
      "text/plain": [
       "name                               Sceptre 20\" 1600x900 75Hz Ultra Thin LED Monit...\n",
       "ASIN                                                                      B07743412C\n",
       "Brand                                                                        Sceptre\n",
       "Best Sellers Rank                                                                 63\n",
       "Best_Sellers_Rank_fields                                                Electronics \n",
       "Product Dimensions (inches)                                    18.35 x 7.17 x 13.58 \n",
       "Item Weight (pounds)                                                            4.43\n",
       "Date First Available                                             2017-11-01 00:00:00\n",
       "Is Discontinued By Manufacturer                                                   No\n",
       "Item model number                                                       E205W-16003R\n",
       "Batteries                                                                        NaN\n",
       "Card Description                                                                 NaN\n",
       "Voltage                                                               110 Volts (AC)\n",
       "Series                                                                           NaN\n",
       "National Stock Number                                                            NaN\n",
       "Chipset Brand                                                                    NaN\n",
       "Batteries Required?                                                              NaN\n",
       "Wireless Type                                                                    NaN\n",
       "Standing screen display size                                               20 Inches\n",
       "Max Screen Resolution                                              1600 x 900 Pixels\n",
       "Part Number                                                                      NaN\n",
       "Item Package Quantity                                                            NaN\n",
       "Color                                                                 Metallic Black\n",
       "Number of USB 2.0 Ports                                                          NaN\n",
       "Number of USB 3.0 Ports                                                          NaN\n",
       "Memory Speed                                                                     NaN\n",
       "Graphics Coprocessor                                                             NaN\n",
       "Computer Memory Type                                                             NaN\n",
       "Average Battery Life (in hours)                                                  NaN\n",
       "Graphics Card Ram Size                                                           NaN\n",
       "Processor Count                                                                  NaN\n",
       "Name: 0, dtype: object"
      ]
     },
     "metadata": {},
     "execution_count": 450
    }
   ],
   "source": [
    "final.iloc[0]"
   ]
  },
  {
   "cell_type": "code",
   "execution_count": null,
   "metadata": {},
   "outputs": [],
   "source": []
  },
  {
   "cell_type": "code",
   "execution_count": 452,
   "metadata": {},
   "outputs": [],
   "source": [
    "final['Max Screen Resolution (Pixels)'] = final['Max Screen Resolution'].str.rstrip('Pixels')"
   ]
  },
  {
   "cell_type": "code",
   "execution_count": 453,
   "metadata": {},
   "outputs": [],
   "source": [
    "final['Max Screen Resolution'] = final['Max Screen Resolution (Pixels)']\n",
    "final = final.drop(['Max Screen Resolution (Pixels)'], axis=1)"
   ]
  },
  {
   "cell_type": "code",
   "execution_count": 458,
   "metadata": {},
   "outputs": [],
   "source": [
    "final = final.rename(columns={'Max Screen Resolution':'Max Screen Resolution (Pixels)'})"
   ]
  },
  {
   "cell_type": "code",
   "execution_count": 459,
   "metadata": {},
   "outputs": [
    {
     "output_type": "execute_result",
     "data": {
      "text/plain": [
       "                                                   name        ASIN    Brand  \\\n",
       "0     Sceptre 20\" 1600x900 75Hz Ultra Thin LED Monit...  B07743412C  Sceptre   \n",
       "1     Sceptre Curved 27\" 75Hz LED Monitor HDMI VGA B...  B07MTRQ6B3  Sceptre   \n",
       "2     BenQ 24 Inch IPS Monitor | 1080P | Proprietary...  B072XCZSSW     BenQ   \n",
       "3             LG 24M47VQ 24-Inch LED-lit Monitor, Black  B00W95RR32       LG   \n",
       "4     Acer R240HY bidx 23.8-Inch IPS HDMI DVI VGA (1...  B0148NNKTC     Acer   \n",
       "...                                                 ...         ...      ...   \n",
       "2987  Apple MacBook Compatible – Premium Black Priva...  B06XT2J985      NaN   \n",
       "2988  Besign Adjustable Laptop Stand, Ergonomic Rise...  B07RQ89Y8G   BESIGN   \n",
       "2989  (5 Pack) 90 Degree Angled 2 Prong to L-Shaped ...  B08NC5DSY1      NaN   \n",
       "2990  HP Elite 8200 Ultra Slim Desktop PC - Intel Co...  B0754MN7D3       HP   \n",
       "2991  DTECH 15ft DB9 Serial Cable COM Port Male to M...  B07B24HBXN      NaN   \n",
       "\n",
       "      Best Sellers Rank               Best_Sellers_Rank_fields  \\\n",
       "0                    63                           Electronics    \n",
       "1                   138                           Electronics    \n",
       "2                   493                           Electronics    \n",
       "3                   145                           Electronics    \n",
       "4                   279                           Electronics    \n",
       "...                 ...                                    ...   \n",
       "2987                204   Monitor Anti-Glare & Privacy Filters   \n",
       "2988               6516                       Office Products    \n",
       "2989                  0                                    NaN   \n",
       "2990               1608               Computers & Accessories    \n",
       "2991                 91                          Serial Cables   \n",
       "\n",
       "     Product Dimensions (inches)  Item Weight (pounds) Date First Available  \\\n",
       "0          18.35 x 7.17 x 13.58                  4.430           2017-11-01   \n",
       "1          24.27 x 9.01 x 17.69                  8.600           2019-01-11   \n",
       "2           16.54 x 6.9 x 21.26                  8.400           2017-08-02   \n",
       "3             21.9 x 7.8 x 17.2                  6.200           2015-04-09   \n",
       "4               21.3 x 7.3 x 16                  6.400           2015-09-06   \n",
       "...                          ...                   ...                  ...   \n",
       "2987       16.14 x 10.24 x 0.39                  0.784                  NaT   \n",
       "2988      10.63 x 10.63 x 10.63                  1.450                  NaT   \n",
       "2989          9.8 x 6.22 x 2.91                  1.030                  NaT   \n",
       "2990             10 x 9.9 x 2.6                  6.800           2017-08-25   \n",
       "2991         8.98 x 7.13 x 1.18                  1.552           2018-03-24   \n",
       "\n",
       "     Is Discontinued By Manufacturer Item model number  ...  \\\n",
       "0                                 No      E205W-16003R  ...   \n",
       "1                                 No      C275W-1920RN  ...   \n",
       "2                                 No            GW2480  ...   \n",
       "3                                 No           24M47VQ  ...   \n",
       "4                                 No       R240HY bidx  ...   \n",
       "...                              ...               ...  ...   \n",
       "2987                              No          APNA2007  ...   \n",
       "2988                             NaN               NaN  ...   \n",
       "2989                             NaN        5pk, 10pk,  ...   \n",
       "2990                             NaN        Elite 8200  ...   \n",
       "2991                              No               NaN  ...   \n",
       "\n",
       "     Item Package Quantity           Color Number of USB 2.0 Ports  \\\n",
       "0                      NaN  Metallic Black                     NaN   \n",
       "1                      NaN     Metal Black                     NaN   \n",
       "2                      NaN           Black                     NaN   \n",
       "3                      NaN           Black                     NaN   \n",
       "4                      NaN           Black                     NaN   \n",
       "...                    ...             ...                     ...   \n",
       "2987                   NaN             NaN                     NaN   \n",
       "2988                   NaN           Black                     NaN   \n",
       "2989                   NaN             NaN                     NaN   \n",
       "2990                   NaN             NaN                      10   \n",
       "2991                   NaN             NaN                           \n",
       "\n",
       "     Number of USB 3.0 Ports Memory Speed Graphics Coprocessor  \\\n",
       "0                        NaN          NaN                  NaN   \n",
       "1                        NaN          NaN                  NaN   \n",
       "2                        NaN          NaN                  NaN   \n",
       "3                        NaN          NaN                  NaN   \n",
       "4                        NaN          NaN                  NaN   \n",
       "...                      ...          ...                  ...   \n",
       "2987                     NaN          NaN                  NaN   \n",
       "2988                     NaN          NaN                  NaN   \n",
       "2989                     NaN          NaN                  NaN   \n",
       "2990                     NaN          NaN    Intel HD Graphics   \n",
       "2991                     NaN          NaN                  NaN   \n",
       "\n",
       "     Computer Memory Type Average Battery Life (in hours)  \\\n",
       "0                     NaN                             NaN   \n",
       "1                     NaN                             NaN   \n",
       "2                     NaN                             NaN   \n",
       "3                     NaN                             NaN   \n",
       "4                     NaN                             NaN   \n",
       "...                   ...                             ...   \n",
       "2987                  NaN                             NaN   \n",
       "2988                  NaN                             NaN   \n",
       "2989                  NaN                             NaN   \n",
       "2990               SODIMM                             NaN   \n",
       "2991                  NaN                             NaN   \n",
       "\n",
       "     Graphics Card Ram Size Processor Count  \n",
       "0                       NaN             NaN  \n",
       "1                       NaN             NaN  \n",
       "2                       NaN             NaN  \n",
       "3                       NaN             NaN  \n",
       "4                       NaN             NaN  \n",
       "...                     ...             ...  \n",
       "2987                    NaN             NaN  \n",
       "2988                    NaN             NaN  \n",
       "2989                    NaN             NaN  \n",
       "2990                    NaN               1  \n",
       "2991                    NaN             NaN  \n",
       "\n",
       "[2992 rows x 31 columns]"
      ],
      "text/html": "<div>\n<style scoped>\n    .dataframe tbody tr th:only-of-type {\n        vertical-align: middle;\n    }\n\n    .dataframe tbody tr th {\n        vertical-align: top;\n    }\n\n    .dataframe thead th {\n        text-align: right;\n    }\n</style>\n<table border=\"1\" class=\"dataframe\">\n  <thead>\n    <tr style=\"text-align: right;\">\n      <th></th>\n      <th>name</th>\n      <th>ASIN</th>\n      <th>Brand</th>\n      <th>Best Sellers Rank</th>\n      <th>Best_Sellers_Rank_fields</th>\n      <th>Product Dimensions (inches)</th>\n      <th>Item Weight (pounds)</th>\n      <th>Date First Available</th>\n      <th>Is Discontinued By Manufacturer</th>\n      <th>Item model number</th>\n      <th>...</th>\n      <th>Item Package Quantity</th>\n      <th>Color</th>\n      <th>Number of USB 2.0 Ports</th>\n      <th>Number of USB 3.0 Ports</th>\n      <th>Memory Speed</th>\n      <th>Graphics Coprocessor</th>\n      <th>Computer Memory Type</th>\n      <th>Average Battery Life (in hours)</th>\n      <th>Graphics Card Ram Size</th>\n      <th>Processor Count</th>\n    </tr>\n  </thead>\n  <tbody>\n    <tr>\n      <th>0</th>\n      <td>Sceptre 20\" 1600x900 75Hz Ultra Thin LED Monit...</td>\n      <td>B07743412C</td>\n      <td>Sceptre</td>\n      <td>63</td>\n      <td>Electronics</td>\n      <td>18.35 x 7.17 x 13.58</td>\n      <td>4.430</td>\n      <td>2017-11-01</td>\n      <td>No</td>\n      <td>E205W-16003R</td>\n      <td>...</td>\n      <td>NaN</td>\n      <td>Metallic Black</td>\n      <td>NaN</td>\n      <td>NaN</td>\n      <td>NaN</td>\n      <td>NaN</td>\n      <td>NaN</td>\n      <td>NaN</td>\n      <td>NaN</td>\n      <td>NaN</td>\n    </tr>\n    <tr>\n      <th>1</th>\n      <td>Sceptre Curved 27\" 75Hz LED Monitor HDMI VGA B...</td>\n      <td>B07MTRQ6B3</td>\n      <td>Sceptre</td>\n      <td>138</td>\n      <td>Electronics</td>\n      <td>24.27 x 9.01 x 17.69</td>\n      <td>8.600</td>\n      <td>2019-01-11</td>\n      <td>No</td>\n      <td>C275W-1920RN</td>\n      <td>...</td>\n      <td>NaN</td>\n      <td>Metal Black</td>\n      <td>NaN</td>\n      <td>NaN</td>\n      <td>NaN</td>\n      <td>NaN</td>\n      <td>NaN</td>\n      <td>NaN</td>\n      <td>NaN</td>\n      <td>NaN</td>\n    </tr>\n    <tr>\n      <th>2</th>\n      <td>BenQ 24 Inch IPS Monitor | 1080P | Proprietary...</td>\n      <td>B072XCZSSW</td>\n      <td>BenQ</td>\n      <td>493</td>\n      <td>Electronics</td>\n      <td>16.54 x 6.9 x 21.26</td>\n      <td>8.400</td>\n      <td>2017-08-02</td>\n      <td>No</td>\n      <td>GW2480</td>\n      <td>...</td>\n      <td>NaN</td>\n      <td>Black</td>\n      <td>NaN</td>\n      <td>NaN</td>\n      <td>NaN</td>\n      <td>NaN</td>\n      <td>NaN</td>\n      <td>NaN</td>\n      <td>NaN</td>\n      <td>NaN</td>\n    </tr>\n    <tr>\n      <th>3</th>\n      <td>LG 24M47VQ 24-Inch LED-lit Monitor, Black</td>\n      <td>B00W95RR32</td>\n      <td>LG</td>\n      <td>145</td>\n      <td>Electronics</td>\n      <td>21.9 x 7.8 x 17.2</td>\n      <td>6.200</td>\n      <td>2015-04-09</td>\n      <td>No</td>\n      <td>24M47VQ</td>\n      <td>...</td>\n      <td>NaN</td>\n      <td>Black</td>\n      <td>NaN</td>\n      <td>NaN</td>\n      <td>NaN</td>\n      <td>NaN</td>\n      <td>NaN</td>\n      <td>NaN</td>\n      <td>NaN</td>\n      <td>NaN</td>\n    </tr>\n    <tr>\n      <th>4</th>\n      <td>Acer R240HY bidx 23.8-Inch IPS HDMI DVI VGA (1...</td>\n      <td>B0148NNKTC</td>\n      <td>Acer</td>\n      <td>279</td>\n      <td>Electronics</td>\n      <td>21.3 x 7.3 x 16</td>\n      <td>6.400</td>\n      <td>2015-09-06</td>\n      <td>No</td>\n      <td>R240HY bidx</td>\n      <td>...</td>\n      <td>NaN</td>\n      <td>Black</td>\n      <td>NaN</td>\n      <td>NaN</td>\n      <td>NaN</td>\n      <td>NaN</td>\n      <td>NaN</td>\n      <td>NaN</td>\n      <td>NaN</td>\n      <td>NaN</td>\n    </tr>\n    <tr>\n      <th>...</th>\n      <td>...</td>\n      <td>...</td>\n      <td>...</td>\n      <td>...</td>\n      <td>...</td>\n      <td>...</td>\n      <td>...</td>\n      <td>...</td>\n      <td>...</td>\n      <td>...</td>\n      <td>...</td>\n      <td>...</td>\n      <td>...</td>\n      <td>...</td>\n      <td>...</td>\n      <td>...</td>\n      <td>...</td>\n      <td>...</td>\n      <td>...</td>\n      <td>...</td>\n      <td>...</td>\n    </tr>\n    <tr>\n      <th>2987</th>\n      <td>Apple MacBook Compatible – Premium Black Priva...</td>\n      <td>B06XT2J985</td>\n      <td>NaN</td>\n      <td>204</td>\n      <td>Monitor Anti-Glare &amp; Privacy Filters</td>\n      <td>16.14 x 10.24 x 0.39</td>\n      <td>0.784</td>\n      <td>NaT</td>\n      <td>No</td>\n      <td>APNA2007</td>\n      <td>...</td>\n      <td>NaN</td>\n      <td>NaN</td>\n      <td>NaN</td>\n      <td>NaN</td>\n      <td>NaN</td>\n      <td>NaN</td>\n      <td>NaN</td>\n      <td>NaN</td>\n      <td>NaN</td>\n      <td>NaN</td>\n    </tr>\n    <tr>\n      <th>2988</th>\n      <td>Besign Adjustable Laptop Stand, Ergonomic Rise...</td>\n      <td>B07RQ89Y8G</td>\n      <td>BESIGN</td>\n      <td>6516</td>\n      <td>Office Products</td>\n      <td>10.63 x 10.63 x 10.63</td>\n      <td>1.450</td>\n      <td>NaT</td>\n      <td>NaN</td>\n      <td>NaN</td>\n      <td>...</td>\n      <td>NaN</td>\n      <td>Black</td>\n      <td>NaN</td>\n      <td>NaN</td>\n      <td>NaN</td>\n      <td>NaN</td>\n      <td>NaN</td>\n      <td>NaN</td>\n      <td>NaN</td>\n      <td>NaN</td>\n    </tr>\n    <tr>\n      <th>2989</th>\n      <td>(5 Pack) 90 Degree Angled 2 Prong to L-Shaped ...</td>\n      <td>B08NC5DSY1</td>\n      <td>NaN</td>\n      <td>0</td>\n      <td>NaN</td>\n      <td>9.8 x 6.22 x 2.91</td>\n      <td>1.030</td>\n      <td>NaT</td>\n      <td>NaN</td>\n      <td>5pk, 10pk,</td>\n      <td>...</td>\n      <td>NaN</td>\n      <td>NaN</td>\n      <td>NaN</td>\n      <td>NaN</td>\n      <td>NaN</td>\n      <td>NaN</td>\n      <td>NaN</td>\n      <td>NaN</td>\n      <td>NaN</td>\n      <td>NaN</td>\n    </tr>\n    <tr>\n      <th>2990</th>\n      <td>HP Elite 8200 Ultra Slim Desktop PC - Intel Co...</td>\n      <td>B0754MN7D3</td>\n      <td>HP</td>\n      <td>1608</td>\n      <td>Computers &amp; Accessories</td>\n      <td>10 x 9.9 x 2.6</td>\n      <td>6.800</td>\n      <td>2017-08-25</td>\n      <td>NaN</td>\n      <td>Elite 8200</td>\n      <td>...</td>\n      <td>NaN</td>\n      <td>NaN</td>\n      <td>10</td>\n      <td>NaN</td>\n      <td>NaN</td>\n      <td>Intel HD Graphics</td>\n      <td>SODIMM</td>\n      <td>NaN</td>\n      <td>NaN</td>\n      <td>1</td>\n    </tr>\n    <tr>\n      <th>2991</th>\n      <td>DTECH 15ft DB9 Serial Cable COM Port Male to M...</td>\n      <td>B07B24HBXN</td>\n      <td>NaN</td>\n      <td>91</td>\n      <td>Serial Cables</td>\n      <td>8.98 x 7.13 x 1.18</td>\n      <td>1.552</td>\n      <td>2018-03-24</td>\n      <td>No</td>\n      <td>NaN</td>\n      <td>...</td>\n      <td>NaN</td>\n      <td>NaN</td>\n      <td></td>\n      <td>NaN</td>\n      <td>NaN</td>\n      <td>NaN</td>\n      <td>NaN</td>\n      <td>NaN</td>\n      <td>NaN</td>\n      <td>NaN</td>\n    </tr>\n  </tbody>\n</table>\n<p>2992 rows × 31 columns</p>\n</div>"
     },
     "metadata": {},
     "execution_count": 459
    }
   ],
   "source": [
    "final"
   ]
  },
  {
   "cell_type": "code",
   "execution_count": 460,
   "metadata": {},
   "outputs": [
    {
     "output_type": "execute_result",
     "data": {
      "text/plain": [
       "name                                  1\n",
       "ASIN                                  0\n",
       "Brand                              1828\n",
       "Best Sellers Rank                     0\n",
       "Best_Sellers_Rank_fields             63\n",
       "Product Dimensions (inches)          15\n",
       "Item Weight (pounds)                  6\n",
       "Date First Available               2276\n",
       "Is Discontinued By Manufacturer    1767\n",
       "Item model number                  1158\n",
       "Batteries                          2836\n",
       "Card Description                   2955\n",
       "Voltage                            2806\n",
       "Series                             2600\n",
       "National Stock Number              2981\n",
       "Chipset Brand                      2973\n",
       "Batteries Required?                2960\n",
       "Wireless Type                      2904\n",
       "Standing screen display size       2376\n",
       "Max Screen Resolution (Pixels)     2228\n",
       "Part Number                        2978\n",
       "Item Package Quantity              2987\n",
       "Color                              2077\n",
       "Number of USB 2.0 Ports            2865\n",
       "Number of USB 3.0 Ports            2881\n",
       "Memory Speed                       2968\n",
       "Graphics Coprocessor               2934\n",
       "Computer Memory Type               2921\n",
       "Average Battery Life (in hours)    2980\n",
       "Graphics Card Ram Size             2958\n",
       "Processor Count                    2904\n",
       "dtype: int64"
      ]
     },
     "metadata": {},
     "execution_count": 460
    }
   ],
   "source": [
    "final.isnull().sum()"
   ]
  },
  {
   "cell_type": "code",
   "execution_count": 312,
   "metadata": {},
   "outputs": [
    {
     "output_type": "execute_result",
     "data": {
      "text/plain": [
       "0         20 Inches\n",
       "1         27 Inches\n",
       "2       23.8 Inches\n",
       "3         24 Inches\n",
       "4       23.8 Inches\n",
       "           ...     \n",
       "2987            NaN\n",
       "2988            NaN\n",
       "2989            NaN\n",
       "2990            NaN\n",
       "2991            NaN\n",
       "Name: Standing screen display size, Length: 2992, dtype: object"
      ]
     },
     "metadata": {},
     "execution_count": 312
    }
   ],
   "source": [
    "final['Standing screen display size']"
   ]
  },
  {
   "cell_type": "code",
   "execution_count": 313,
   "metadata": {},
   "outputs": [],
   "source": [
    "final['Standing screen display size (Inches)'] = final['Standing screen display size'].str.rstrip('Inches')\n",
    "final['Standing screen display size'] = final['Standing screen display size (Inches)']\n",
    "final = final.drop(['Standing screen display size (Inches)'], axis=1)"
   ]
  },
  {
   "cell_type": "code",
   "execution_count": 314,
   "metadata": {},
   "outputs": [
    {
     "output_type": "execute_result",
     "data": {
      "text/plain": [
       "0         20 \n",
       "1         27 \n",
       "2       23.8 \n",
       "3         24 \n",
       "4       23.8 \n",
       "        ...  \n",
       "2987      NaN\n",
       "2988      NaN\n",
       "2989      NaN\n",
       "2990      NaN\n",
       "2991      NaN\n",
       "Name: Standing screen display size, Length: 2992, dtype: object"
      ]
     },
     "metadata": {},
     "execution_count": 314
    }
   ],
   "source": [
    "final['Standing screen display size']"
   ]
  },
  {
   "cell_type": "code",
   "execution_count": 603,
   "metadata": {},
   "outputs": [],
   "source": [
    "final.to_csv('product_monitor.csv')"
   ]
  },
  {
   "cell_type": "code",
   "execution_count": 604,
   "metadata": {},
   "outputs": [],
   "source": [
    "# db_data = 'mysql+mysqldb://' + 'root' + ':' + '234024_Anup' + '@' + 'localhost' + ':3306/' \\\n",
    "#        + 'monitor' + '?charset=utf8mb4'\n",
    "# engine = create_engine(db_data)\n",
    "\n",
    "# # Connect to the database\n",
    "# connection = pymysql.connect(host='localhost',\n",
    "#                          user='root',\n",
    "#                          password='234024_Anup',\n",
    "#                          db='monitor')    \n"
   ]
  },
  {
   "cell_type": "code",
   "execution_count": 605,
   "metadata": {},
   "outputs": [
    {
     "output_type": "execute_result",
     "data": {
      "text/plain": [
       "<pymysql.connections.Connection at 0x27959a076a0>"
      ]
     },
     "metadata": {},
     "execution_count": 605
    }
   ],
   "source": [
    "connection"
   ]
  },
  {
   "cell_type": "code",
   "execution_count": 606,
   "metadata": {
    "tags": [
     "outputPrepend"
    ]
   },
   "outputs": [
    {
     "output_type": "stream",
     "name": "stdout",
     "text": [
      " to HDMI, 3 USB 3.0 Ports, SD/TF Cards Reader, 100W Power Delivery Dock for iPad Pro/MacBook/Type C Devices', 4.7, 7792, 24.99, 'monitor')\n",
      "('B00QRMFEAQ', 'MarCELL Cellular Temperature/Humidity Monitor (Verizon)', 4.6, 299, 189.0, 'monitor')\n",
      "('B08DCBLQ4Q', 'HDMI to VGA , Yiany Gold-Plated 1080P HDMI Male to VGA Male Adapter Cable Compatible for Computer, Laptop, PC, Monitor, Projector, HDTV, DVD, Xbox - 6 Feet', 4.5, 84, 7.89, 'monitor')\n",
      "('B0875G3MPT', 'StarTech.com Monitor Privacy Screen for 27 inch PC Display - Computer Screen Security Filter - Blue Light Reducing Screen Protector Film - 16:9 Widescreen - Matte/Glossy - +/-30 Degree (PRIVSCNMON27)', 1.0, 1, 72.44, 'monitor')\n",
      "('B07R4SG77T', 'FEIYOLD Blue Light Blocking Glasses Women/Men,Retro Round Anti Eyestrain Computer Gaming Glasses(2Pack)', 4.6, 25562, 21.98, 'monitor')\n",
      "('B00KFZ98YO', 'ADJ Products AC POWER STRIP (PC-100A)', 4.7, 627, 37.99, 'monitor')\n",
      "('B01IUNRF0G', 'Acer 19.5 Monitor LED Mercury Free', 4.5, 3, 98.0, 'monitor')\n",
      "('B087ZXXFRM', 'HDTV to VGA+Audio Converter, Audio Output Cable Computer Set-top Box Converter Connector Adapter for Laptop, PC, Monitor, Projector, HDTV, Chromebook, Roku, Xbox(3.5mm Stereo Cable Included)', 4.4, 2, 6.99, 'monitor')\n",
      "('B087QRW81Z', 'Sceptre IPS 24-Inch Business Computer Monitor 1080p 75Hz with HDMI VGA Build-in Speakers, E248W-FPT, Machine Black', 4.6, 1134, 119.97, 'monitor')\n",
      "('B089BTLL9K', 'Sceptre IPS 27-Inch Business Computer Monitor 1080p 75Hz with HDMI VGA Build-in Speakers, Machine Black 2020 (e275W-FPT)', 4.6, 1156, 139.97, 'monitor')\n",
      "('B07MKZHR3P', 'AV-Cables 12G 4K HD SDI BNC - BNC Cable Belden 4855R Mini RG59 (50ft, Black)', 4.6, 43, 84.36, 'monitor')\n",
      "('B081SJZX8F', 'YES2B 10.1 Inch Laptop Privacy Screen Filter for 16:9 Widescreen Display - Computer Monitor Notebook Anti-Spy, Anti-Blue Light and Anti-Glare Protector Made in Korea', 3.9, 40, 18.99, 'monitor')\n",
      "('B0731GNYCN', 'Mini DisplayPort to DisplayPort Cable, BENFEI Mini DP(Thunderbolt Compatible) to DP 6 Feet Cable (Male to Male) Gold-Plated Cord, Supports Supports 4K@60Hz, 2K@144Hz', 4.6, 1150, 7.85, 'monitor')\n",
      "('B083KD1LLH', 'kwmobile Artist Glove for Graphics Tablet - Elastane Glove for Drawing on Graphics Tablets, Pads, Monitors - Size Large - Black', 4.2, 45, 7.99, 'monitor')\n",
      "('B08F7VR67J', '[Apple MFi Certified] Lightning to HDMI, Lightning to Digital Audio & 4K Video Adapter, 1080P Sync Screen Connector with Charging Port for iPhone 11/XS/XR/X/8 7/iPad, iPod on HD TV/Monitor/Projector', 3.9, 194, 13.99, 'monitor')\n",
      "('B074CBYWZ9', '10 Feet 3 Prong Power Cord AC Wall 3 Slot Wire Cable for Desktop Computer Monitor Printer Cooker TV Projector NEMA 5-15P to IEC320C13 TYPE SJT 18AWG, 3X0.824mm², 125/250V 10A - UL Listed Approve', 4.2, 16, 8.5, 'monitor')\n",
      "('B08CXR6LB3', 'JAOK HDMI Streaming Stick,Mini Display Dongle, 4K 1080P WiFi Smart TV Compatible Chrome Android/iOS/Mobile/PC/TV/Monitor/Projector,Supports Miracast Airplay DLNA', 4.5, 95, 22.99, 'monitor')\n",
      "('B00QRMFEAQ', 'MarCELL Cellular Temperature/Humidity Monitor (Verizon)', 4.6, 299, 189.0, 'monitor')\n",
      "('B0834RNBKZ', 'MICA Computer Speakers, Wired Computer Sound Bar, Wooden Mini Soundbar, USB Powered PC Speakers 3.5mm AUX & PC Input (Upgrade), Yellow (M30i)', 4.1, 394, 35.99, 'monitor')\n",
      "('B0831LS8ZK', 'HDMI Adapter for iPhone and ipad, GrayRabbit 2K Digital AV Adapter with USB 3.0. Compatible with iphone12/11/11 Pro/XS/XR/X/8 7, iPad . HD TV/Monitor/Projector', 3.8, 19, 16.99, 'monitor')\n",
      "('B07NZMR3SJ', '(BOZABOZA) 15\" Wide (331 x 186) Privacy Screen Filter [Anti-Blue Ray] [Anti-Glare] [Anti-Scratch] [Matte or Gloss] Privacy Protector for Laptop, Notebook, LCD, Monitor, Display', 4.7, 3, 31.99, 'monitor')\n",
      "('B07VXJ4XZ5', 'Active Display Port to HDMI 2.0 Adapter,Anbear Displayort to HDMI2.0b Adapter for Enabled PC /Tablet to HDMI Monitor /TV/ Projector, Support HDR displays up to 4k,UltraHD,4096x2160@60Hz', 4.3, 20, 12.99, 'monitor')\n",
      "('B08GSS37R7', 'ConnectSense Router Rebooter, Monitors Your Internet and Automatically Reboots When A Connection Failure is Detected, Can Be Used as a Scheduled ON/Off Cycler or Remote ON/Off Controller', 2.8, 23, 34.95, 'monitor')\n",
      "('B084KXMSCM', 'PIPI Senior Wet Diaper Monitor', 5.0, 1, 49.0, 'monitor')\n",
      "('B07MKZHR3P', 'AV-Cables 12G 4K HD SDI BNC - BNC Cable Belden 4855R Mini RG59 (50ft, Black)', 4.6, 43, 84.36, 'monitor')\n",
      "('B081SJZX8F', 'YES2B 10.1 Inch Laptop Privacy Screen Filter for 16:9 Widescreen Display - Computer Monitor Notebook Anti-Spy, Anti-Blue Light and Anti-Glare Protector Made in Korea', 3.9, 40, 18.99, 'monitor')\n",
      "('B074CBYWZ9', '10 Feet 3 Prong Power Cord AC Wall 3 Slot Wire Cable for Desktop Computer Monitor Printer Cooker TV Projector NEMA 5-15P to IEC320C13 TYPE SJT 18AWG, 3X0.824mm², 125/250V 10A - UL Listed Approve', 4.2, 16, 8.5, 'monitor')\n",
      "('B08CXR6LB3', 'JAOK HDMI Streaming Stick,Mini Display Dongle, 4K 1080P WiFi Smart TV Compatible Chrome Android/iOS/Mobile/PC/TV/Monitor/Projector,Supports Miracast Airplay DLNA', 4.5, 95, 22.99, 'monitor')\n",
      "('B0834RNBKZ', 'MICA Computer Speakers, Wired Computer Sound Bar, Wooden Mini Soundbar, USB Powered PC Speakers 3.5mm AUX & PC Input (Upgrade), Yellow (M30i)', 4.1, 394, 35.99, 'monitor')\n",
      "('B0831LS8ZK', 'HDMI Adapter for iPhone and ipad, GrayRabbit 2K Digital AV Adapter with USB 3.0. Compatible with iphone12/11/11 Pro/XS/XR/X/8 7, iPad . HD TV/Monitor/Projector', 3.8, 19, 16.99, 'monitor')\n",
      "('B00QRMFEAQ', 'MarCELL Cellular Temperature/Humidity Monitor (Verizon)', 4.6, 299, 189.0, 'monitor')\n",
      "('B08721BPDP', 'SOONHUA Wireless Display Receiver Adapter WiFi Dongle Screen Mirror 1080P HDMI TV Streaming Sticks Contact for Phone/PC Screen to TV/Projector/Monitor Support', 3.1, 29, 14.99, 'monitor')\n",
      "('B07NZMR3SJ', '(BOZABOZA) 15\" Wide (331 x 186) Privacy Screen Filter [Anti-Blue Ray] [Anti-Glare] [Anti-Scratch] [Matte or Gloss] Privacy Protector for Laptop, Notebook, LCD, Monitor, Display', 4.7, 3, 31.99, 'monitor')\n",
      "('B07GVK3GCN', 'E-SDS 4K HDMI KVM Switch 4 Port USB KVM HDMI Switch Support Button Switch,Hotkey Switch and Auto Scan Switch - HDMI1.4b and HDCP2.2 Version', 3.6, 11, 99.99, 'monitor')\n",
      "('B0885SW67M', '1080P HD Plug and Play Webcam with Microphone, 110° Wide Angle Computer Mac Laptop Desktop Web Camera, Online USB PC Webcams for Video Calling Recording, Zoom Meeting, Skype or Game Live Streaming', 4.5, 112, 29.99, 'monitor')\n",
      "('B07V1QQRNG', 'Displayport to VGA Cable 6Ft 2-Pack,UKYEE Display Port (DP) to VGA Adapter Cord 6 Feet for Computer Monitor Projector and More Gold-Plated', 4.3, 27, 14.99, 'monitor')\n",
      "('B08GSS37R7', 'ConnectSense Router Rebooter, Monitors Your Internet and Automatically Reboots When A Connection Failure is Detected, Can Be Used as a Scheduled ON/Off Cycler or Remote ON/Off Controller', 2.8, 23, 34.95, 'monitor')\n",
      "('B084KXMSCM', 'PIPI Senior Wet Diaper Monitor', 5.0, 1, 49.0, 'monitor')\n",
      "('B07MKZHR3P', 'AV-Cables 12G 4K HD SDI BNC - BNC Cable Belden 4855R Mini RG59 (50ft, Black)', 4.6, 43, 84.36, 'monitor')\n",
      "('B081SJZX8F', 'YES2B 10.1 Inch Laptop Privacy Screen Filter for 16:9 Widescreen Display - Computer Monitor Notebook Anti-Spy, Anti-Blue Light and Anti-Glare Protector Made in Korea', 3.9, 40, 18.99, 'monitor')\n",
      "('B07YBZT9W6', 'MacBook Pro 13 Screen Protector - Anti Blue Light Anti Glare Filter for 2015-2012 Old Apple MacBook Pro 13 Model A1425 A1502, Eye Protection Screen Protector With Ultra Thin Keyboard Cover', 3.9, 35, 16.49, 'monitor')\n",
      "('B0828JWNSW', 'FONHCOO Clip-on Blue Light Blocking Glasses Womens Mens 2 Pack Over Prescription Glasses Framless Lens Anti Eyestrain Headaches UV Filter Computer Gamer Eyeglasses', 4.2, 527, 16.99, 'monitor')\n",
      "('B086GQSKK3', 'Victure 1080P Webcam with Dual Microphones, Full HD Video Camera for Computers PC Laptop Desktop, USB Plug and Play, Conference Study Video Calling', 4.3, 1896, 29.99, 'monitor')\n",
      "('B07NWKRW51', \"23.8'' Privacy Screen Filter for Desktop Computer Widescreen Monitor, Anti-Glare Anti-Scratch Protector Film for Data Confidentiality - Aspect Ratio 16:9\", 4.2, 19, 46.99, 'monitor')\n",
      "('B00QRMFEAQ', 'MarCELL Cellular Temperature/Humidity Monitor (Verizon)', 4.6, 299, 189.0, 'monitor')\n",
      "('B000MMHEMS', 'DELL AS501PA SOUND BAR SPEAKERS FOR DELL FLAT PANEL LCD', 4.1, 18, 26.78, 'monitor')\n",
      "('B07YDNSGY2', 'USB C to DisplayPort Cable,QGeeM 4K@60HZ Thunderbolt 3 to Displayport Cable Compatible with MacBook Pro 2019/2018,ipad pro 2018,Surface Book,Dell XPS,Sumsang Galaxy S10 Note 9 Dex,USB C to DP Adapter', 4.6, 918, 14.99, 'monitor')\n",
      "('B077Z9GNWV', 'Kanto S4 Desktop Speaker Stands for Midsize Speakers | White | Pair', 4.8, 95, 44.99, 'monitor')\n",
      "('B0856R4H3N', 'HDMI to VGA,HONSHEN HDMI Male to VGA Female Converter Adapter with Audio for Computer, Desktop, Laptop, PC, Monitor, Projector, HDTV, Chromebook, Raspberry Pi, Roku, Xbox and More', 4.3, 18, 7.99, 'monitor')\n",
      "('B07W4DHS5B', 'Logitech StreamCam, Live Streaming Webcam, Full 1080p HD 60fps Vertical Video, Smart auto Focus and Exposure, Dual Camera-Mount Versatility, with USB-C, for YouTube, Gaming Twitch, PC/Mac - White', 4.4, 579, 178.98, 'monitor')\n",
      "('B08GSS37R7', 'ConnectSense Router Rebooter, Monitors Your Internet and Automatically Reboots When A Connection Failure is Detected, Can Be Used as a Scheduled ON/Off Cycler or Remote ON/Off Controller', 2.8, 23, 34.95, 'monitor')\n",
      "('B084KXMSCM', 'PIPI Senior Wet Diaper Monitor', 5.0, 1, 49.0, 'monitor')\n",
      "('B07MKZHR3P', 'AV-Cables 12G 4K HD SDI BNC - BNC Cable Belden 4855R Mini RG59 (50ft, Black)', 4.6, 43, 84.36, 'monitor')\n",
      "('B07VPQP15T', 'EleDuino Raspberry PI 4 Aluminum Case with Dual Intelligent Temperature Control Fan (Black)', 4.5, 182, 24.9, 'monitor')\n",
      "('B07D67GTSQ', 'StarTech.com Power Cord - 3 ft / 1m - NEMA 5-15P to C13 Power Cord - Right Angle - Computer Power Cord - Power Cable - Power Supply Cord Black', 5.0, 16, 7.99, 'monitor')\n",
      "('B07VFFZCJZ', 'Adjustable Laptop Stand, EPN Laptop Riser with Heat-Vent to Elevate Laptop, Aluminum Notebook Holder Compatible for MacBook Pro/Air, Surface Laptop, Dell XPS, HP, Samsung and Other 11-17.3 in', 4.8, 1265, 27.99, 'monitor')\n",
      "('B08K3HWPLG', 'Felt Sleeve Case Bag 15.6 inch Portable Monitor, Felt Carrying Pouch Protective Cover - by Cyrret, Light Grey', 4.1, 4, 11.99, 'monitor')\n",
      "('B08NV6VMC4', 'MSECORE Mini Desktop PC, Micro Computer with Intel Core i5-9400F 6-Core Processor, 16G DDR4| 128G SSD|1T HDD, GTX1050Ti, 4K, Dual Monitor Capable, WiFi, Bluetooth, Win10 Pro', 5.0, 4, 769.89, 'monitor')\n",
      "('B082TX97MN', 'USB C Hub Multifunction Adapter - 11 in 1 with 10W Wireless Charger Docking,RJ45 HD MI VGA Converter with Ethernet ,4K USB3.0 PD Charging Wireless USB Hub VGA,SD TF Card Reader', 4.3, 24, 49.99, 'monitor')\n",
      "('B06Y1FYMZQ', \"XtremPro Metal Printer Stand w/Non Skid Protective Feet, 2 Levels Shelf for Printers, Fax, PC Monitors, Laptops, TV's, Gaming Consoles, DVD Players, Stereos, 18.5 in x 12.25 in x 5.75 in – Grey\", 3.7, 12, 26.99, 'monitor')\n",
      "('B00QRMFEAQ', 'MarCELL Cellular Temperature/Humidity Monitor (Verizon)', 4.6, 299, 189.0, 'monitor')\n",
      "('B00B829384', 'StarTech.com 6ft Heavy Duty Computer Power Extension Cord (IEC C14 to IEC C15) - 14 AWG Replacement Power Cable for PC, PDU or Monitor - 250V, 15A (PXTC14C156)', 4.8, 14, 15.06, 'monitor')\n",
      "('B0899CR6LX', 'Aibecy 8192 Levels Pressure Digital Rechargeable Pen Stylus Pen with 20pcs Pen Nips Pen Holder for BOSTO 13HD/16HD/16HDK/16HDT/22UX Graphics Monitor Drawing Tablet', 4.2, 8, 19.99, 'monitor')\n",
      "('B07V1SZCY6', 'TP-Link USB Bluetooth Adapter for PC(UB400), 4.0 Bluetooth Dongle Receiver Support Windows 10/8.1/8/7/XP for Desktop, Laptop, Mouse, Keyboard, Printers, Headsets, Speakers, PS4/ Xbox Controllers', 4.4, 16652, 9.99, 'monitor')\n",
      "('B08FTHLGVB', 'Blue Light Filter Reading Glasses 2.0 Womens/Mens: Read Optics UK Ready Reader Eye Glasses (1.5,2,2.5) for Computer/Screen Bluelight & UV Eye Protection with Lightweight Clear Lens in Ultra Thin Case', 4.2, 11, 9.99, 'monitor')\n",
      "('B07MP5PZHZ', 'Blue Light Blocking Glasses Men Women, All-in-One Bundle Kit, Non Prescription Large Square Frame Glasses, Anti Glare UV Filter Blue Blockers, Reduce Computer Screen Eye Strain by BEVAN & BLAIR', 4.2, 122, 21.97, 'monitor')\n",
      "('B081SJZX8F', 'YES2B 10.1 Inch Laptop Privacy Screen Filter for 16:9 Widescreen Display - Computer Monitor Notebook Anti-Spy, Anti-Blue Light and Anti-Glare Protector Made in Korea', 3.9, 40, 18.99, 'monitor')\n",
      "('B08GSS37R7', 'ConnectSense Router Rebooter, Monitors Your Internet and Automatically Reboots When A Connection Failure is Detected, Can Be Used as a Scheduled ON/Off Cycler or Remote ON/Off Controller', 2.8, 23, 34.95, 'monitor')\n",
      "('B07MKZHR3P', 'AV-Cables 12G 4K HD SDI BNC - BNC Cable Belden 4855R Mini RG59 (50ft, Black)', 4.6, 43, 84.36, 'monitor')\n",
      "('B081SJZX8F', 'YES2B 10.1 Inch Laptop Privacy Screen Filter for 16:9 Widescreen Display - Computer Monitor Notebook Anti-Spy, Anti-Blue Light and Anti-Glare Protector Made in Korea', 3.9, 40, 18.99, 'monitor')\n",
      "('B08BKVGY3S', 'Besign LS10 Aluminum Laptop Stand, Ergonomic Adjustable Notebook Stand, Riser Holder Computer Stand Compatible with Air, Pro, Dell, HP, Lenovo More 10-15.6\" Laptops, Black', 4.8, 555, 25.99, 'monitor')\n",
      "('B07WTXG3XW', 'NETGEAR Orbi Whole Home Mesh WiFi System (RBK13) – Router replacement covers up to 4,500 sq. ft. with 1 Router & 2 Satellites', 4.4, 505, 114.88, 'monitor')\n",
      "('B0792X3KXB', 'Gomarty 14V 3A AC Adapter for Samsung SyncMaster LCD/TFT 770 S22A300B S22A100N S23B550V S27B550V S27D391H S27D391H S27D393H S27D590P BN44-00592B A3514-DPN AD-3014 AD-4214N Monitor', 5.0, 6, 11.88, 'monitor')\n",
      "('B07RQLZ74T', 'Deal4GO LCD Skin Monitor Temperature Thermal Sensor Cable 4.72\" Replacement for iMac A1419 2012/2013/2014/2015 923-0310', 5.0, 1, 10.9, 'monitor')\n",
      "('B00QRMFEAQ', 'MarCELL Cellular Temperature/Humidity Monitor (Verizon)', 4.6, 299, 189.0, 'monitor')\n",
      "('B082STNLGY', 'FREEGENE HDMI to VGA and Audio Adapter with Cable 1.5ft for Monitor of PC/Desktop/Tablet/Laptop', 3.6, 6, 7.99, 'monitor')\n",
      "('B07D67GTSQ', 'StarTech.com Power Cord - 3 ft / 1m - NEMA 5-15P to C13 Power Cord - Right Angle - Computer Power Cord - Power Cable - Power Supply Cord Black', 5.0, 16, 7.99, 'monitor')\n",
      "('B07VFFZCJZ', 'Adjustable Laptop Stand, EPN Laptop Riser with Heat-Vent to Elevate Laptop, Aluminum Notebook Holder Compatible for MacBook Pro/Air, Surface Laptop, Dell XPS, HP, Samsung and Other 11-17.3 in', 4.8, 1265, 27.99, 'monitor')\n",
      "('B08K3HWPLG', 'Felt Sleeve Case Bag 15.6 inch Portable Monitor, Felt Carrying Pouch Protective Cover - by Cyrret, Light Grey', 4.1, 4, 11.99, 'monitor')\n",
      "('B08GSS37R7', 'ConnectSense Router Rebooter, Monitors Your Internet and Automatically Reboots When A Connection Failure is Detected, Can Be Used as a Scheduled ON/Off Cycler or Remote ON/Off Controller', 2.8, 23, 34.95, 'monitor')\n",
      "('B084KXMSCM', 'PIPI Senior Wet Diaper Monitor', 5.0, 1, 49.0, 'monitor')\n",
      "('B07MKZHR3P', 'AV-Cables 12G 4K HD SDI BNC - BNC Cable Belden 4855R Mini RG59 (50ft, Black)', 4.6, 43, 84.36, 'monitor')\n",
      "('B081SJZX8F', 'YES2B 10.1 Inch Laptop Privacy Screen Filter for 16:9 Widescreen Display - Computer Monitor Notebook Anti-Spy, Anti-Blue Light and Anti-Glare Protector Made in Korea', 3.9, 40, 18.99, 'monitor')\n",
      "('B0887WX6HP', 'Webcam with Microphone for Desktop, DEPSTECH 2K QHD USB Web Cam with Auto Light Correction, Desktop Computer Camera Streaming Camera for Video Conferencing, Teaching, Streaming, and Gaming', 4.0, 3477, 17.99, 'monitor')\n",
      "('B08BTMKX6Y', 'Wireless HDMI Display Dongle Adapter, 4K Ultra HD WiFi Streaming Video Receiver Screen Mirroring for iPhone/iPad/iOS/Android/PC/Tablet/Windows/Mac OS to HDTV/Monitor/Projector(5G+2.4G)', 3.1, 5, 23.0, 'monitor')\n",
      "('B07CKMZ8B6', 'USB-C to VGA Adapter,3-in-1 USB3.1 Type C to DisplayPort 4K Cable,DP to VGA 1080P Converter,USB C to DP to VGA Adapter Compatible with MacBook Pro,Chromebook,Monitor,Projector', 3.4, 4, 7.19, 'monitor')\n",
      "('B01IUNRF0G', 'Acer 19.5 Monitor LED Mercury Free', 4.5, 3, 98.0, 'monitor')\n",
      "('B081DJMNMX', 'CessBlu Fit over Blue Light Blocking Glasses for Men Women Reading Computer Screen with Orange Lenses Anti Blue Rays Glare', 3.8, 6, 11.02, 'monitor')\n",
      "('B00066HOS4', 'StarTech.com VGA Gender Changer - HD15 Female to HD15 Male - - Male/Male - Monitor Adapter (GC15HSM)', 4.1, 89, 4.51, 'monitor')\n",
      "('B00QRMFEAQ', 'MarCELL Cellular Temperature/Humidity Monitor (Verizon)', 4.6, 299, 189.0, 'monitor')\n",
      "('B06XKD3326', 'LNOCCIY 14V 3A AC Adapter Charger Power Supply for Samsung SyncMaster LCD/TFT 770 BN44-00592B S22A300B S22A100N S23B550V S27B550V S27D391H S27D391H S27D393H S27D590P A3514-DPN AD-4214N Monitor', 4.4, 24, 10.99, 'monitor')\n",
      "('B08CSF534T', 'USB 3.0 Switch Selector 2 Computers Sharing 4 Port USB Peripheral Switcher Box Hub for Mouse, Keyboard, Scanner, Printer with 2 Pack USB Cable Support Hotkey Switching', 4.4, 61, 36.99, 'monitor')\n",
      "('B087T7L6SG', 'High Definition HD 1080P Web Camera USB Video Recording with Microphone for Home Business Skype Video Conference Work On Computer Laptop PC Game Streaming Sky Web OS X Win 10 8 7 Vista XP', 4.2, 75, 12.99, 'monitor')\n",
      "('B07PPZPHV8', 'USB C Hub, POWLAKEN 11 in 1 USB C Adapter with Ethernet, 4K USB C to HDMI, VGA, 2 USB3.0 2 USB2.0 PD, SD TF Card Reader, Audio, Compatible Mac Pro and Other Type C Laptops', 4.4, 4450, 37.99, 'monitor')\n",
      "('B08GSS37R7', 'ConnectSense Router Rebooter, Monitors Your Internet and Automatically Reboots When A Connection Failure is Detected, Can Be Used as a Scheduled ON/Off Cycler or Remote ON/Off Controller', 2.8, 23, 34.95, 'monitor')\n",
      "('B084KXMSCM', 'PIPI Senior Wet Diaper Monitor', 5.0, 1, 49.0, 'monitor')\n",
      "('B07MKZHR3P', 'AV-Cables 12G 4K HD SDI BNC - BNC Cable Belden 4855R Mini RG59 (50ft, Black)', 4.6, 43, 84.36, 'monitor')\n",
      "('B07VPQP15T', 'EleDuino Raspberry PI 4 Aluminum Case with Dual Intelligent Temperature Control Fan (Black)', 4.5, 182, 24.9, 'monitor')\n",
      "('B009AFW6XU', 'SF Cable 3ft Standard Computer Power Cord NEMA 5-15P to IEC 320 C13-18 AWG Replacement AC Power Cable for PC or Monitor - 125V, 10A', 4.1, 58, 6.95, 'monitor')\n",
      "('B07V81BC29', '[UL Listed] OMNIHIL 8 Feet AC/DC Adapter Compatible with Samsung AD-3612S BN44-00139C,BX2035 BX2050 BX2235 BX2250 BX2335 BX2350 BX2450 BX2450L LS23WHUKFK P2070H PX2370 XL2270 XL2370 LCD TV Monitor', 5.0, 1, 21.96, 'monitor')\n",
      "('B014QM3ILK', 'TNP 4 Port USB 2.0 KVM Switch Manual Selector Rack Mount Box Adapter with 4 VGA USB KVM Cables for Computer PC Laptop Notebook Monitor Keyboard Mouse Black', 3.6, 37, 19.99, 'monitor')\n",
      "('B002XVYZ82', 'StarTech.com 6ft Mini DisplayPort to DisplayPort Cable - M/M - mDP to DP 1.2 Adapter Cable - Thunderbolt to DP w/ HBR2 Support (MDP2DPMM6)', 4.6, 1671, 8.75, 'monitor')\n",
      "('B00QRMFEAQ', 'MarCELL Cellular Temperature/Humidity Monitor (Verizon)', 4.6, 299, 189.0, 'monitor')\n",
      "('B06XT2J985', 'Apple MacBook Compatible – Premium Black Privacy Screen and Blue Light Screen Protector– Anti-Glare, Anti-Scratch, Blocks 96% UV (Latest 13 inch MacBook Pro & 2018 MacBook Air, Black)', 3.9, 398, 24.99, 'monitor')\n",
      "('B07RQ89Y8G', 'Besign Adjustable Laptop Stand, Ergonomic Riser Notebook Computer Holder Stand Compatible with Air, Pro, Dell XPS, HP, Lenovo More 10-15.6\" Laptops, Black', 4.4, 3042, 15.99, 'monitor')\n",
      "('B075XLN559', 'Deeirao 4 Port 15 Pin Female(4 in 1 Out) VGA Switch Box Resolution up to 1920x1440 for PC TV Monitor (4 Port Switch)', 4.6, 29, 13.99, 'monitor')\n",
      "('B0754MN7D3', 'HP Elite 8200 Ultra Slim Desktop PC - Intel Core i5-2400S 2.7GHz 8GB 128GB SSD Windows 10 Professional (Renewed)', 4.3, 250, 122.0, 'monitor')\n",
      "('B07B24HBXN', 'DTECH 15ft DB9 Serial Cable COM Port Male to Male RS232 Straight Through 9 Pin Data Cord', 4.5, 102, 10.48, 'monitor')\n",
      "('B081SJZX8F', 'YES2B 10.1 Inch Laptop Privacy Screen Filter for 16:9 Widescreen Display - Computer Monitor Notebook Anti-Spy, Anti-Blue Light and Anti-Glare Protector Made in Korea', 3.9, 40, 18.99, 'monitor')\n",
      "('B08GSS37R7', 'ConnectSense Router Rebooter, Monitors Your Internet and Automatically Reboots When A Connection Failure is Detected, Can Be Used as a Scheduled ON/Off Cycler or Remote ON/Off Controller', 2.8, 23, 34.95, 'monitor')\n"
     ]
    }
   ],
   "source": [
    "# # create cursor\n",
    "# cursor=connection.cursor()\n",
    "# # Execute the to_sql for writting DF into SQL\n",
    "# new_f3.to_sql('search', engine, if_exists='append', index=False)    \n",
    "\n",
    "# # Execute query\n",
    "# sql = \"SELECT * FROM search\"\n",
    "# cursor.execute(sql)\n",
    "\n",
    "# # Fetch all the records\n",
    "# result = cursor.fetchall()\n",
    "# for i in result:\n",
    "#     print(i)\n",
    "\n",
    "# engine.dispose()\n",
    "# connection.close()"
   ]
  },
  {
   "cell_type": "code",
   "execution_count": 607,
   "metadata": {},
   "outputs": [
    {
     "output_type": "execute_result",
     "data": {
      "text/plain": [
       "name                               MSI Full HD Gaming Non-Glare Super Narrow Beze...\n",
       "ASIN                                                                      B08JXR817G\n",
       "Brand                                                                            MSI\n",
       "Best Sellers Rank                                                               4191\n",
       "Best_Sellers_Ranking_Fields                                              Electronics\n",
       "Product Dimensions (inches)                                       24.29 x 21 x 7.18 \n",
       "Item Weight (pounds)                                                           15.15\n",
       "Date First Available                                             2020-09-23 00:00:00\n",
       "Is Discontinued By Manufacturer                                                  NaN\n",
       "Item model number                                                      Optix MAG274R\n",
       "Batteries                                                                        NaN\n",
       "Card Description                                                                 NaN\n",
       "Voltage                                                                          NaN\n",
       "Series                                                                           NaN\n",
       "National Stock Number                                                            NaN\n",
       "Chipset Brand                                                                    NaN\n",
       "Batteries Required?                                                              NaN\n",
       "Wireless Type                                                                    NaN\n",
       "Standing screen display size                                                     27 \n",
       "Max Screen Resolution                                                    1920 x 1080\n",
       "Part Number                                                                      NaN\n",
       "Item Package Quantity                                                            NaN\n",
       "Color                                                                          Black\n",
       "Number of USB 2.0 Ports                                                          NaN\n",
       "Number of USB 3.0 Ports                                                          NaN\n",
       "Memory Speed                                                                     NaN\n",
       "Graphics Coprocessor                                                             NaN\n",
       "Computer Memory Type                                                             NaN\n",
       "Average Battery Life (in hours)                                                  NaN\n",
       "Graphics Card Ram Size                                                           NaN\n",
       "Processor Count                                                                  NaN\n",
       "Name: 30, dtype: object"
      ]
     },
     "metadata": {},
     "execution_count": 607
    }
   ],
   "source": [
    "final.iloc[30]"
   ]
  },
  {
   "cell_type": "code",
   "execution_count": null,
   "metadata": {},
   "outputs": [],
   "source": []
  }
 ]
}