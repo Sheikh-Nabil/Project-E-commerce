{
 "metadata": {
  "language_info": {
   "codemirror_mode": {
    "name": "ipython",
    "version": 3
   },
   "file_extension": ".py",
   "mimetype": "text/x-python",
   "name": "python",
   "nbconvert_exporter": "python",
   "pygments_lexer": "ipython3",
   "version": "3.8.5-final"
  },
  "orig_nbformat": 2,
  "kernelspec": {
   "name": "python3",
   "display_name": "Python 3",
   "language": "python"
  }
 },
 "nbformat": 4,
 "nbformat_minor": 2,
 "cells": [
  {
   "cell_type": "code",
   "execution_count": 222,
   "metadata": {},
   "outputs": [],
   "source": [
    "import pandas as pd\n",
    "import numpy as np\n",
    "from datetime import date"
   ]
  },
  {
   "cell_type": "code",
   "execution_count": 223,
   "metadata": {},
   "outputs": [],
   "source": [
    "hp = pd.read_json(r\"C:\\Users\\Davide Della Valle\\Desktop\\CAB\\Project 3\\CAB-headphones\\product_output_headphone.json\")"
   ]
  },
  {
   "cell_type": "code",
   "execution_count": 224,
   "metadata": {},
   "outputs": [
    {
     "output_type": "execute_result",
     "data": {
      "text/plain": [
       "                                                   name  \\\n",
       "0     Artix CL750 Foldable Noise Isolating On Ear He...   \n",
       "1     Wireless Over-Ear Headphones with Deep Bass, F...   \n",
       "2     Sony MDRZX110/BLK ZX Series Stereo Headphones ...   \n",
       "3     Bluetooth Over-Ear Headphones, Zihnic Foldable...   \n",
       "4     TOZO T6 True Wireless Earbuds Bluetooth Headph...   \n",
       "...                                                 ...   \n",
       "8738                  Spectra USB Transcription Headset   \n",
       "8739  USB Computer Headset with Microphone, Elikliv ...   \n",
       "8740  VEVER K701 Earpads Replacement Ear Cushions Pa...   \n",
       "8741  True Wireless Headphones, APEKX Update 5.0 Aut...   \n",
       "8742  True Wireless Earbuds, Hadisala Bluetooth 5.0 ...   \n",
       "\n",
       "                                      product_tech_spec other_tech_spec  \\\n",
       "0                                                  None            None   \n",
       "1                                                  None            None   \n",
       "2                                                  None            None   \n",
       "3                                                  None            None   \n",
       "4                                                  None            None   \n",
       "...                                                 ...             ...   \n",
       "8738  [{'info': 'Brand', 'value': 'VEC ELECTRONICS'}...            None   \n",
       "8739                                               None            None   \n",
       "8740                                               None            None   \n",
       "8741                                               None            None   \n",
       "8742                                               None            None   \n",
       "\n",
       "                                           product_info             seller  \\\n",
       "0     [{'info': 'Package Dimensions', 'value': '9.06...       7thContinent   \n",
       "1     [{'info': 'Product Dimensions', 'value': '6.7 ...             Zihnic   \n",
       "2     [{'info': 'Product Dimensions', 'value': '5.87...               None   \n",
       "3     [{'info': 'Product Dimensions', 'value': '6.7 ...             Zihnic   \n",
       "4     [{'info': 'Package Dimensions', 'value': '4.61...            Accumie   \n",
       "...                                                 ...                ...   \n",
       "8738  [{'info': 'Customer Reviews', 'value': '/*\n",
       "* F...  Kesef_Brother_Inc   \n",
       "8739  [{'info': 'Product Dimensions', 'value': '6.69...        Elikliv USA   \n",
       "8740  [{'info': 'Product Dimensions', 'value': '3 x ...              VEVER   \n",
       "8741  [{'info': 'Product Dimensions', 'value': '3.52...           APEKX US   \n",
       "8742  [{'info': 'Package Dimensions', 'value': '4.13...         MiSiLan-US   \n",
       "\n",
       "                                            seller_link  \\\n",
       "0     https://www.amazon.com/gp/help/seller/at-a-gla...   \n",
       "1     https://www.amazon.com/gp/help/seller/at-a-gla...   \n",
       "2                                                  None   \n",
       "3     https://www.amazon.com/gp/help/seller/at-a-gla...   \n",
       "4     https://www.amazon.com/gp/help/seller/at-a-gla...   \n",
       "...                                                 ...   \n",
       "8738  https://www.amazon.com/gp/help/seller/at-a-gla...   \n",
       "8739  https://www.amazon.com/gp/help/seller/at-a-gla...   \n",
       "8740  https://www.amazon.com/gp/help/seller/at-a-gla...   \n",
       "8741  https://www.amazon.com/gp/help/seller/at-a-gla...   \n",
       "8742  https://www.amazon.com/gp/help/seller/at-a-gla...   \n",
       "\n",
       "                                            freq_bought  \\\n",
       "0                                                  None   \n",
       "1                                                  None   \n",
       "2                                                  None   \n",
       "3                                                  None   \n",
       "4     TOZO W1 Wireless Charger Thin Aviation Aluminu...   \n",
       "...                                                 ...   \n",
       "8738                                               None   \n",
       "8739                                               None   \n",
       "8740                                               None   \n",
       "8741  Occiam Bluetooth Headphones-True Wireless Earb...   \n",
       "8742                                               None   \n",
       "\n",
       "                                       freq_bought_link  \\\n",
       "0                                                  None   \n",
       "1                                                  None   \n",
       "2                                                  None   \n",
       "3                                                  None   \n",
       "4     https://www.amazon.com/TOZO-Wireless-Aviation-...   \n",
       "...                                                 ...   \n",
       "8738                                               None   \n",
       "8739                                               None   \n",
       "8740                                               None   \n",
       "8741  https://www.amazon.com/Bluetooth-Headphones-Tr...   \n",
       "8742                                               None   \n",
       "\n",
       "                                    link_to_all_reviews  \n",
       "0     /Foldable-Isolating-Headphones-Microphone-Adju...  \n",
       "1     /Wireless-Over-Ear-Headphones-Foldable-Prolong...  \n",
       "2     /Sony-MDRZX110-BLK-Stereo-Headphones/product-r...  \n",
       "3     /Bluetooth-Over-Ear-Headphones-Foldable-Prolon...  \n",
       "4     /TOZO-T6-Bluetooth-Headphones-Waterproof/produ...  \n",
       "...                                                 ...  \n",
       "8738  /VEC-ELECTRONICS-SP-USB-Spectra-Transcription/...  \n",
       "8739                                               None  \n",
       "8740  /VEVER-Earpads-Replacement-Cushions-Headphones...  \n",
       "8741  /Wireless-Headphones-APEKX-Earphones-Binaural/...  \n",
       "8742  /Hadisala-Bluetooth-Headphones-Waterproof-Earp...  \n",
       "\n",
       "[8743 rows x 9 columns]"
      ],
      "text/html": "<div>\n<style scoped>\n    .dataframe tbody tr th:only-of-type {\n        vertical-align: middle;\n    }\n\n    .dataframe tbody tr th {\n        vertical-align: top;\n    }\n\n    .dataframe thead th {\n        text-align: right;\n    }\n</style>\n<table border=\"1\" class=\"dataframe\">\n  <thead>\n    <tr style=\"text-align: right;\">\n      <th></th>\n      <th>name</th>\n      <th>product_tech_spec</th>\n      <th>other_tech_spec</th>\n      <th>product_info</th>\n      <th>seller</th>\n      <th>seller_link</th>\n      <th>freq_bought</th>\n      <th>freq_bought_link</th>\n      <th>link_to_all_reviews</th>\n    </tr>\n  </thead>\n  <tbody>\n    <tr>\n      <th>0</th>\n      <td>Artix CL750 Foldable Noise Isolating On Ear He...</td>\n      <td>None</td>\n      <td>None</td>\n      <td>[{'info': 'Package Dimensions', 'value': '9.06...</td>\n      <td>7thContinent</td>\n      <td>https://www.amazon.com/gp/help/seller/at-a-gla...</td>\n      <td>None</td>\n      <td>None</td>\n      <td>/Foldable-Isolating-Headphones-Microphone-Adju...</td>\n    </tr>\n    <tr>\n      <th>1</th>\n      <td>Wireless Over-Ear Headphones with Deep Bass, F...</td>\n      <td>None</td>\n      <td>None</td>\n      <td>[{'info': 'Product Dimensions', 'value': '6.7 ...</td>\n      <td>Zihnic</td>\n      <td>https://www.amazon.com/gp/help/seller/at-a-gla...</td>\n      <td>None</td>\n      <td>None</td>\n      <td>/Wireless-Over-Ear-Headphones-Foldable-Prolong...</td>\n    </tr>\n    <tr>\n      <th>2</th>\n      <td>Sony MDRZX110/BLK ZX Series Stereo Headphones ...</td>\n      <td>None</td>\n      <td>None</td>\n      <td>[{'info': 'Product Dimensions', 'value': '5.87...</td>\n      <td>None</td>\n      <td>None</td>\n      <td>None</td>\n      <td>None</td>\n      <td>/Sony-MDRZX110-BLK-Stereo-Headphones/product-r...</td>\n    </tr>\n    <tr>\n      <th>3</th>\n      <td>Bluetooth Over-Ear Headphones, Zihnic Foldable...</td>\n      <td>None</td>\n      <td>None</td>\n      <td>[{'info': 'Product Dimensions', 'value': '6.7 ...</td>\n      <td>Zihnic</td>\n      <td>https://www.amazon.com/gp/help/seller/at-a-gla...</td>\n      <td>None</td>\n      <td>None</td>\n      <td>/Bluetooth-Over-Ear-Headphones-Foldable-Prolon...</td>\n    </tr>\n    <tr>\n      <th>4</th>\n      <td>TOZO T6 True Wireless Earbuds Bluetooth Headph...</td>\n      <td>None</td>\n      <td>None</td>\n      <td>[{'info': 'Package Dimensions', 'value': '4.61...</td>\n      <td>Accumie</td>\n      <td>https://www.amazon.com/gp/help/seller/at-a-gla...</td>\n      <td>TOZO W1 Wireless Charger Thin Aviation Aluminu...</td>\n      <td>https://www.amazon.com/TOZO-Wireless-Aviation-...</td>\n      <td>/TOZO-T6-Bluetooth-Headphones-Waterproof/produ...</td>\n    </tr>\n    <tr>\n      <th>...</th>\n      <td>...</td>\n      <td>...</td>\n      <td>...</td>\n      <td>...</td>\n      <td>...</td>\n      <td>...</td>\n      <td>...</td>\n      <td>...</td>\n      <td>...</td>\n    </tr>\n    <tr>\n      <th>8738</th>\n      <td>Spectra USB Transcription Headset</td>\n      <td>[{'info': 'Brand', 'value': 'VEC ELECTRONICS'}...</td>\n      <td>None</td>\n      <td>[{'info': 'Customer Reviews', 'value': '/*\n* F...</td>\n      <td>Kesef_Brother_Inc</td>\n      <td>https://www.amazon.com/gp/help/seller/at-a-gla...</td>\n      <td>None</td>\n      <td>None</td>\n      <td>/VEC-ELECTRONICS-SP-USB-Spectra-Transcription/...</td>\n    </tr>\n    <tr>\n      <th>8739</th>\n      <td>USB Computer Headset with Microphone, Elikliv ...</td>\n      <td>None</td>\n      <td>None</td>\n      <td>[{'info': 'Product Dimensions', 'value': '6.69...</td>\n      <td>Elikliv USA</td>\n      <td>https://www.amazon.com/gp/help/seller/at-a-gla...</td>\n      <td>None</td>\n      <td>None</td>\n      <td>None</td>\n    </tr>\n    <tr>\n      <th>8740</th>\n      <td>VEVER K701 Earpads Replacement Ear Cushions Pa...</td>\n      <td>None</td>\n      <td>None</td>\n      <td>[{'info': 'Product Dimensions', 'value': '3 x ...</td>\n      <td>VEVER</td>\n      <td>https://www.amazon.com/gp/help/seller/at-a-gla...</td>\n      <td>None</td>\n      <td>None</td>\n      <td>/VEVER-Earpads-Replacement-Cushions-Headphones...</td>\n    </tr>\n    <tr>\n      <th>8741</th>\n      <td>True Wireless Headphones, APEKX Update 5.0 Aut...</td>\n      <td>None</td>\n      <td>None</td>\n      <td>[{'info': 'Product Dimensions', 'value': '3.52...</td>\n      <td>APEKX US</td>\n      <td>https://www.amazon.com/gp/help/seller/at-a-gla...</td>\n      <td>Occiam Bluetooth Headphones-True Wireless Earb...</td>\n      <td>https://www.amazon.com/Bluetooth-Headphones-Tr...</td>\n      <td>/Wireless-Headphones-APEKX-Earphones-Binaural/...</td>\n    </tr>\n    <tr>\n      <th>8742</th>\n      <td>True Wireless Earbuds, Hadisala Bluetooth 5.0 ...</td>\n      <td>None</td>\n      <td>None</td>\n      <td>[{'info': 'Package Dimensions', 'value': '4.13...</td>\n      <td>MiSiLan-US</td>\n      <td>https://www.amazon.com/gp/help/seller/at-a-gla...</td>\n      <td>None</td>\n      <td>None</td>\n      <td>/Hadisala-Bluetooth-Headphones-Waterproof-Earp...</td>\n    </tr>\n  </tbody>\n</table>\n<p>8743 rows × 9 columns</p>\n</div>"
     },
     "metadata": {},
     "execution_count": 224
    }
   ],
   "source": [
    "hp"
   ]
  },
  {
   "cell_type": "code",
   "execution_count": 213,
   "metadata": {},
   "outputs": [
    {
     "output_type": "execute_result",
     "data": {
      "text/plain": [
       "name                     16\n",
       "product_tech_spec      8529\n",
       "other_tech_spec        8737\n",
       "product_info            226\n",
       "seller                  709\n",
       "seller_link             709\n",
       "freq_bought            5308\n",
       "freq_bought_link       5308\n",
       "link_to_all_reviews     998\n",
       "dtype: int64"
      ]
     },
     "metadata": {},
     "execution_count": 213
    }
   ],
   "source": [
    "hp.isnull().sum()"
   ]
  },
  {
   "cell_type": "code",
   "execution_count": 214,
   "metadata": {},
   "outputs": [],
   "source": [
    "hp.drop(columns=[\"other_tech_spec\",\"freq_bought\",\"freq_bought_link\",\"product_tech_spec\"], inplace=True)"
   ]
  },
  {
   "cell_type": "code",
   "execution_count": 215,
   "metadata": {},
   "outputs": [],
   "source": [
    "hp.dropna(subset=[\"name\"],inplace=True)"
   ]
  },
  {
   "cell_type": "code",
   "execution_count": 216,
   "metadata": {},
   "outputs": [
    {
     "output_type": "execute_result",
     "data": {
      "text/plain": [
       "                                                   name  \\\n",
       "0     Artix CL750 Foldable Noise Isolating On Ear He...   \n",
       "1     Wireless Over-Ear Headphones with Deep Bass, F...   \n",
       "2     Sony MDRZX110/BLK ZX Series Stereo Headphones ...   \n",
       "3     Bluetooth Over-Ear Headphones, Zihnic Foldable...   \n",
       "4     TOZO T6 True Wireless Earbuds Bluetooth Headph...   \n",
       "...                                                 ...   \n",
       "8722                  Spectra USB Transcription Headset   \n",
       "8723  USB Computer Headset with Microphone, Elikliv ...   \n",
       "8724  VEVER K701 Earpads Replacement Ear Cushions Pa...   \n",
       "8725  True Wireless Headphones, APEKX Update 5.0 Aut...   \n",
       "8726  True Wireless Earbuds, Hadisala Bluetooth 5.0 ...   \n",
       "\n",
       "                                           product_info             seller  \\\n",
       "0     [{'info': 'Package Dimensions', 'value': '9.06...       7thContinent   \n",
       "1     [{'info': 'Product Dimensions', 'value': '6.7 ...             Zihnic   \n",
       "2     [{'info': 'Product Dimensions', 'value': '5.87...               None   \n",
       "3     [{'info': 'Product Dimensions', 'value': '6.7 ...             Zihnic   \n",
       "4     [{'info': 'Package Dimensions', 'value': '4.61...            Accumie   \n",
       "...                                                 ...                ...   \n",
       "8722  [{'info': 'Customer Reviews', 'value': '/*\n",
       "* F...  Kesef_Brother_Inc   \n",
       "8723  [{'info': 'Product Dimensions', 'value': '6.69...        Elikliv USA   \n",
       "8724  [{'info': 'Product Dimensions', 'value': '3 x ...              VEVER   \n",
       "8725  [{'info': 'Product Dimensions', 'value': '3.52...           APEKX US   \n",
       "8726  [{'info': 'Package Dimensions', 'value': '4.13...         MiSiLan-US   \n",
       "\n",
       "                                            seller_link  \\\n",
       "0     https://www.amazon.com/gp/help/seller/at-a-gla...   \n",
       "1     https://www.amazon.com/gp/help/seller/at-a-gla...   \n",
       "2                                                  None   \n",
       "3     https://www.amazon.com/gp/help/seller/at-a-gla...   \n",
       "4     https://www.amazon.com/gp/help/seller/at-a-gla...   \n",
       "...                                                 ...   \n",
       "8722  https://www.amazon.com/gp/help/seller/at-a-gla...   \n",
       "8723  https://www.amazon.com/gp/help/seller/at-a-gla...   \n",
       "8724  https://www.amazon.com/gp/help/seller/at-a-gla...   \n",
       "8725  https://www.amazon.com/gp/help/seller/at-a-gla...   \n",
       "8726  https://www.amazon.com/gp/help/seller/at-a-gla...   \n",
       "\n",
       "                                    link_to_all_reviews  \n",
       "0     /Foldable-Isolating-Headphones-Microphone-Adju...  \n",
       "1     /Wireless-Over-Ear-Headphones-Foldable-Prolong...  \n",
       "2     /Sony-MDRZX110-BLK-Stereo-Headphones/product-r...  \n",
       "3     /Bluetooth-Over-Ear-Headphones-Foldable-Prolon...  \n",
       "4     /TOZO-T6-Bluetooth-Headphones-Waterproof/produ...  \n",
       "...                                                 ...  \n",
       "8722  /VEC-ELECTRONICS-SP-USB-Spectra-Transcription/...  \n",
       "8723                                               None  \n",
       "8724  /VEVER-Earpads-Replacement-Cushions-Headphones...  \n",
       "8725  /Wireless-Headphones-APEKX-Earphones-Binaural/...  \n",
       "8726  /Hadisala-Bluetooth-Headphones-Waterproof-Earp...  \n",
       "\n",
       "[8727 rows x 5 columns]"
      ],
      "text/html": "<div>\n<style scoped>\n    .dataframe tbody tr th:only-of-type {\n        vertical-align: middle;\n    }\n\n    .dataframe tbody tr th {\n        vertical-align: top;\n    }\n\n    .dataframe thead th {\n        text-align: right;\n    }\n</style>\n<table border=\"1\" class=\"dataframe\">\n  <thead>\n    <tr style=\"text-align: right;\">\n      <th></th>\n      <th>name</th>\n      <th>product_info</th>\n      <th>seller</th>\n      <th>seller_link</th>\n      <th>link_to_all_reviews</th>\n    </tr>\n  </thead>\n  <tbody>\n    <tr>\n      <th>0</th>\n      <td>Artix CL750 Foldable Noise Isolating On Ear He...</td>\n      <td>[{'info': 'Package Dimensions', 'value': '9.06...</td>\n      <td>7thContinent</td>\n      <td>https://www.amazon.com/gp/help/seller/at-a-gla...</td>\n      <td>/Foldable-Isolating-Headphones-Microphone-Adju...</td>\n    </tr>\n    <tr>\n      <th>1</th>\n      <td>Wireless Over-Ear Headphones with Deep Bass, F...</td>\n      <td>[{'info': 'Product Dimensions', 'value': '6.7 ...</td>\n      <td>Zihnic</td>\n      <td>https://www.amazon.com/gp/help/seller/at-a-gla...</td>\n      <td>/Wireless-Over-Ear-Headphones-Foldable-Prolong...</td>\n    </tr>\n    <tr>\n      <th>2</th>\n      <td>Sony MDRZX110/BLK ZX Series Stereo Headphones ...</td>\n      <td>[{'info': 'Product Dimensions', 'value': '5.87...</td>\n      <td>None</td>\n      <td>None</td>\n      <td>/Sony-MDRZX110-BLK-Stereo-Headphones/product-r...</td>\n    </tr>\n    <tr>\n      <th>3</th>\n      <td>Bluetooth Over-Ear Headphones, Zihnic Foldable...</td>\n      <td>[{'info': 'Product Dimensions', 'value': '6.7 ...</td>\n      <td>Zihnic</td>\n      <td>https://www.amazon.com/gp/help/seller/at-a-gla...</td>\n      <td>/Bluetooth-Over-Ear-Headphones-Foldable-Prolon...</td>\n    </tr>\n    <tr>\n      <th>4</th>\n      <td>TOZO T6 True Wireless Earbuds Bluetooth Headph...</td>\n      <td>[{'info': 'Package Dimensions', 'value': '4.61...</td>\n      <td>Accumie</td>\n      <td>https://www.amazon.com/gp/help/seller/at-a-gla...</td>\n      <td>/TOZO-T6-Bluetooth-Headphones-Waterproof/produ...</td>\n    </tr>\n    <tr>\n      <th>...</th>\n      <td>...</td>\n      <td>...</td>\n      <td>...</td>\n      <td>...</td>\n      <td>...</td>\n    </tr>\n    <tr>\n      <th>8722</th>\n      <td>Spectra USB Transcription Headset</td>\n      <td>[{'info': 'Customer Reviews', 'value': '/*\n* F...</td>\n      <td>Kesef_Brother_Inc</td>\n      <td>https://www.amazon.com/gp/help/seller/at-a-gla...</td>\n      <td>/VEC-ELECTRONICS-SP-USB-Spectra-Transcription/...</td>\n    </tr>\n    <tr>\n      <th>8723</th>\n      <td>USB Computer Headset with Microphone, Elikliv ...</td>\n      <td>[{'info': 'Product Dimensions', 'value': '6.69...</td>\n      <td>Elikliv USA</td>\n      <td>https://www.amazon.com/gp/help/seller/at-a-gla...</td>\n      <td>None</td>\n    </tr>\n    <tr>\n      <th>8724</th>\n      <td>VEVER K701 Earpads Replacement Ear Cushions Pa...</td>\n      <td>[{'info': 'Product Dimensions', 'value': '3 x ...</td>\n      <td>VEVER</td>\n      <td>https://www.amazon.com/gp/help/seller/at-a-gla...</td>\n      <td>/VEVER-Earpads-Replacement-Cushions-Headphones...</td>\n    </tr>\n    <tr>\n      <th>8725</th>\n      <td>True Wireless Headphones, APEKX Update 5.0 Aut...</td>\n      <td>[{'info': 'Product Dimensions', 'value': '3.52...</td>\n      <td>APEKX US</td>\n      <td>https://www.amazon.com/gp/help/seller/at-a-gla...</td>\n      <td>/Wireless-Headphones-APEKX-Earphones-Binaural/...</td>\n    </tr>\n    <tr>\n      <th>8726</th>\n      <td>True Wireless Earbuds, Hadisala Bluetooth 5.0 ...</td>\n      <td>[{'info': 'Package Dimensions', 'value': '4.13...</td>\n      <td>MiSiLan-US</td>\n      <td>https://www.amazon.com/gp/help/seller/at-a-gla...</td>\n      <td>/Hadisala-Bluetooth-Headphones-Waterproof-Earp...</td>\n    </tr>\n  </tbody>\n</table>\n<p>8727 rows × 5 columns</p>\n</div>"
     },
     "metadata": {},
     "execution_count": 216
    }
   ],
   "source": [
    "hp.reset_index(drop=True)"
   ]
  },
  {
   "cell_type": "code",
   "execution_count": 217,
   "metadata": {},
   "outputs": [
    {
     "output_type": "execute_result",
     "data": {
      "text/plain": [
       "Index(['name', 'product_info', 'seller', 'seller_link', 'link_to_all_reviews'], dtype='object')"
      ]
     },
     "metadata": {},
     "execution_count": 217
    }
   ],
   "source": [
    "hp.columns"
   ]
  },
  {
   "cell_type": "code",
   "execution_count": 218,
   "metadata": {},
   "outputs": [
    {
     "output_type": "execute_result",
     "data": {
      "text/plain": [
       "'/Foldable-Isolating-Headphones-Microphone-Adjustable/product-reviews/B087JVV8FK/ref=cm_cr_dp_d_show_all_btm?ie=UTF8&reviewerType=all_reviews'"
      ]
     },
     "metadata": {},
     "execution_count": 218
    }
   ],
   "source": [
    "hp.link_to_all_reviews[0]"
   ]
  },
  {
   "cell_type": "code",
   "execution_count": 219,
   "metadata": {},
   "outputs": [
    {
     "output_type": "stream",
     "name": "stdout",
     "text": [
      "['Scanner Resolution', 'Display technology', 'Date First Available', 'Release date', 'RAM', 'Customer Reviews', 'Size', 'Hardware Platform', 'Power Source', 'Batteries Required', 'Rated', 'Included Components', 'Speaker Count', 'Specific Uses For Product', 'Color Name', 'Pricing', 'Is Dishwasher Safe', 'Binding', 'Output Wattage', 'GSM frequencies', 'Wireless communication technologies', 'Connector Type', 'Warranty Description', 'Colour', 'Form Factor', 'Guitar Pick Thickness', 'Audio Jack', 'Batteries', 'Language:', 'Other display features', 'Battery type', 'Speaker Amplification Type', 'Proficiency Level', 'Package Dimensions', 'Department', 'Product Dimensions', 'Phone Standy Time (with data)', 'Manufacturer', 'Import Designation', 'Standing screen display size', 'Voltage', 'Color Screen', 'Connectivity technologies', 'International Shipping', 'National Stock Number', 'Item model number', 'ASIN', 'Fabric Type', 'Manufacturer recommended age', 'Device interface - primary', 'Our Recommended age', 'Compatible Devices', 'Item Weight', 'Best Sellers Rank', 'Domestic Shipping', 'Wattage', 'Hardware Interface', 'Additional Features', 'Is Assembly Required?', 'Phone Talk Time', 'Material Type', 'Mfg Recommended age', 'Is Discontinued By Manufacturer', 'Volume', 'OS']\n"
     ]
    }
   ],
   "source": [
    "col=[]\n",
    "for i in range(hp.shape[0]):\n",
    "    try:\n",
    "        for j in hp.product_info[i]:\n",
    "            col.append(j[\"info\"])\n",
    "    except:\n",
    "        continue\n",
    "\n",
    "col=list(set(col))\n",
    "\n",
    "print(col)"
   ]
  },
  {
   "cell_type": "code",
   "execution_count": 220,
   "metadata": {},
   "outputs": [
    {
     "output_type": "execute_result",
     "data": {
      "text/plain": [
       "Empty DataFrame\n",
       "Columns: [Scanner Resolution, Display technology, Date First Available, Release date, RAM, Customer Reviews, Size, Hardware Platform, Power Source, Batteries Required, Rated, Included Components, Speaker Count, Specific Uses For Product, Color Name, Pricing, Is Dishwasher Safe, Binding, Output Wattage, GSM frequencies, Wireless communication technologies, Connector Type, Warranty Description, Colour, Form Factor, Guitar Pick Thickness, Audio Jack, Batteries, Language:, Other display features, Battery type, Speaker Amplification Type, Proficiency Level, Package Dimensions, Department, Product Dimensions, Phone Standy Time (with data), Manufacturer, Import Designation, Standing screen display size, Voltage, Color Screen, Connectivity technologies, International Shipping, National Stock Number, Item model number, ASIN, Fabric Type, Manufacturer recommended age, Device interface - primary, Our Recommended age, Compatible Devices, Item Weight, Best Sellers Rank, Domestic Shipping, Wattage, Hardware Interface, Additional Features, Is Assembly Required?, Phone Talk Time, Material Type, Mfg Recommended age, Is Discontinued By Manufacturer, Volume, OS]\n",
       "Index: []\n",
       "\n",
       "[0 rows x 65 columns]"
      ],
      "text/html": "<div>\n<style scoped>\n    .dataframe tbody tr th:only-of-type {\n        vertical-align: middle;\n    }\n\n    .dataframe tbody tr th {\n        vertical-align: top;\n    }\n\n    .dataframe thead th {\n        text-align: right;\n    }\n</style>\n<table border=\"1\" class=\"dataframe\">\n  <thead>\n    <tr style=\"text-align: right;\">\n      <th></th>\n      <th>Scanner Resolution</th>\n      <th>Display technology</th>\n      <th>Date First Available</th>\n      <th>Release date</th>\n      <th>RAM</th>\n      <th>Customer Reviews</th>\n      <th>Size</th>\n      <th>Hardware Platform</th>\n      <th>Power Source</th>\n      <th>Batteries Required</th>\n      <th>...</th>\n      <th>Wattage</th>\n      <th>Hardware Interface</th>\n      <th>Additional Features</th>\n      <th>Is Assembly Required?</th>\n      <th>Phone Talk Time</th>\n      <th>Material Type</th>\n      <th>Mfg Recommended age</th>\n      <th>Is Discontinued By Manufacturer</th>\n      <th>Volume</th>\n      <th>OS</th>\n    </tr>\n  </thead>\n  <tbody>\n  </tbody>\n</table>\n<p>0 rows × 65 columns</p>\n</div>"
     },
     "metadata": {},
     "execution_count": 220
    }
   ],
   "source": [
    "product_info = pd.DataFrame(columns=col)\n",
    "product_info"
   ]
  },
  {
   "cell_type": "code",
   "execution_count": 221,
   "metadata": {},
   "outputs": [],
   "source": [
    "for i in range(hp.shape[0]):\n",
    "    try:\n",
    "        for j in hp.product_info[i]:\n",
    "            product_info.loc[i,j[\"info\"]] = j[\"value\"]\n",
    "    except:\n",
    "        product_info.loc[i,j[\"info\"]] = \"\"\n",
    "        continue"
   ]
  },
  {
   "cell_type": "code",
   "execution_count": 225,
   "metadata": {},
   "outputs": [
    {
     "output_type": "execute_result",
     "data": {
      "text/plain": [
       "     Scanner Resolution Display technology Date First Available Release date  \\\n",
       "0                   NaN                NaN      January 2, 2020          NaN   \n",
       "1                   NaN                NaN        April 8, 2019          NaN   \n",
       "2                   NaN                NaN        July 28, 2017          NaN   \n",
       "3                   NaN                NaN     November 9, 2018          NaN   \n",
       "4                   NaN                NaN        July 31, 2020          NaN   \n",
       "...                 ...                ...                  ...          ...   \n",
       "8722                NaN                NaN         May 14, 2020          NaN   \n",
       "8723                NaN                NaN                  NaN          NaN   \n",
       "8724                NaN                NaN     November 7, 2019          NaN   \n",
       "8725                NaN                NaN        March 9, 2017          NaN   \n",
       "8726                NaN                NaN      October 2, 2016          NaN   \n",
       "\n",
       "      RAM                                   Customer Reviews Size  \\\n",
       "0     NaN  /*\\n* Fix for UDP-1061. Average customer revie...  NaN   \n",
       "1     NaN  /*\\n* Fix for UDP-1061. Average customer revie...  NaN   \n",
       "2     NaN  /*\\n* Fix for UDP-1061. Average customer revie...  NaN   \n",
       "3     NaN  /*\\n* Fix for UDP-1061. Average customer revie...  NaN   \n",
       "4     NaN  /*\\n* Fix for UDP-1061. Average customer revie...  NaN   \n",
       "...   ...                                                ...  ...   \n",
       "8722  NaN  /*\\n* Fix for UDP-1061. Average customer revie...  NaN   \n",
       "8723  NaN  /*\\n* Fix for UDP-1061. Average customer revie...  NaN   \n",
       "8724  NaN  /*\\n* Fix for UDP-1061. Average customer revie...  NaN   \n",
       "8725  NaN  /*\\n* Fix for UDP-1061. Average customer revie...  NaN   \n",
       "8726  NaN  /*\\n* Fix for UDP-1061. Average customer revie...  NaN   \n",
       "\n",
       "     Hardware Platform Power Source Batteries Required  ... Wattage  \\\n",
       "0                  NaN          NaN                NaN  ...     NaN   \n",
       "1                  NaN          NaN                NaN  ...     NaN   \n",
       "2                  NaN          NaN                NaN  ...     NaN   \n",
       "3                  NaN          NaN                NaN  ...     NaN   \n",
       "4                  NaN          NaN                NaN  ...     NaN   \n",
       "...                ...          ...                ...  ...     ...   \n",
       "8722               NaN          NaN                NaN  ...     NaN   \n",
       "8723               NaN          NaN                NaN  ...     NaN   \n",
       "8724               NaN          NaN                NaN  ...     NaN   \n",
       "8725               NaN          NaN                NaN  ...     NaN   \n",
       "8726               NaN          NaN                NaN  ...     NaN   \n",
       "\n",
       "     Hardware Interface Additional Features Is Assembly Required?  \\\n",
       "0                   NaN                 NaN                   NaN   \n",
       "1                   NaN                 NaN                   NaN   \n",
       "2                   NaN                 NaN                   NaN   \n",
       "3                   NaN                 NaN                   NaN   \n",
       "4                   NaN                 NaN                   NaN   \n",
       "...                 ...                 ...                   ...   \n",
       "8722                NaN                 NaN                   NaN   \n",
       "8723                NaN                 NaN                   NaN   \n",
       "8724                NaN                 NaN                   NaN   \n",
       "8725                NaN                 NaN                   NaN   \n",
       "8726                NaN                 NaN                   NaN   \n",
       "\n",
       "     Phone Talk Time Material Type Mfg Recommended age  \\\n",
       "0                NaN           NaN                 NaN   \n",
       "1                NaN           NaN                 NaN   \n",
       "2                NaN           NaN                 NaN   \n",
       "3                NaN           NaN                 NaN   \n",
       "4                NaN           NaN                 NaN   \n",
       "...              ...           ...                 ...   \n",
       "8722             NaN           NaN                 NaN   \n",
       "8723             NaN           NaN                 NaN   \n",
       "8724             NaN           NaN                 NaN   \n",
       "8725             NaN           NaN                 NaN   \n",
       "8726             NaN           NaN                 NaN   \n",
       "\n",
       "     Is Discontinued By Manufacturer Volume   OS  \n",
       "0                                NaN    NaN  NaN  \n",
       "1                                NaN    NaN  NaN  \n",
       "2                                 No    NaN  NaN  \n",
       "3                                 No    NaN  NaN  \n",
       "4                                 No    NaN  NaN  \n",
       "...                              ...    ...  ...  \n",
       "8722                             NaN    NaN  NaN  \n",
       "8723                             NaN    NaN  NaN  \n",
       "8724                             NaN    NaN  NaN  \n",
       "8725                              No    NaN  NaN  \n",
       "8726                              No    NaN  NaN  \n",
       "\n",
       "[8727 rows x 65 columns]"
      ],
      "text/html": "<div>\n<style scoped>\n    .dataframe tbody tr th:only-of-type {\n        vertical-align: middle;\n    }\n\n    .dataframe tbody tr th {\n        vertical-align: top;\n    }\n\n    .dataframe thead th {\n        text-align: right;\n    }\n</style>\n<table border=\"1\" class=\"dataframe\">\n  <thead>\n    <tr style=\"text-align: right;\">\n      <th></th>\n      <th>Scanner Resolution</th>\n      <th>Display technology</th>\n      <th>Date First Available</th>\n      <th>Release date</th>\n      <th>RAM</th>\n      <th>Customer Reviews</th>\n      <th>Size</th>\n      <th>Hardware Platform</th>\n      <th>Power Source</th>\n      <th>Batteries Required</th>\n      <th>...</th>\n      <th>Wattage</th>\n      <th>Hardware Interface</th>\n      <th>Additional Features</th>\n      <th>Is Assembly Required?</th>\n      <th>Phone Talk Time</th>\n      <th>Material Type</th>\n      <th>Mfg Recommended age</th>\n      <th>Is Discontinued By Manufacturer</th>\n      <th>Volume</th>\n      <th>OS</th>\n    </tr>\n  </thead>\n  <tbody>\n    <tr>\n      <th>0</th>\n      <td>NaN</td>\n      <td>NaN</td>\n      <td>January 2, 2020</td>\n      <td>NaN</td>\n      <td>NaN</td>\n      <td>/*\\n* Fix for UDP-1061. Average customer revie...</td>\n      <td>NaN</td>\n      <td>NaN</td>\n      <td>NaN</td>\n      <td>NaN</td>\n      <td>...</td>\n      <td>NaN</td>\n      <td>NaN</td>\n      <td>NaN</td>\n      <td>NaN</td>\n      <td>NaN</td>\n      <td>NaN</td>\n      <td>NaN</td>\n      <td>NaN</td>\n      <td>NaN</td>\n      <td>NaN</td>\n    </tr>\n    <tr>\n      <th>1</th>\n      <td>NaN</td>\n      <td>NaN</td>\n      <td>April 8, 2019</td>\n      <td>NaN</td>\n      <td>NaN</td>\n      <td>/*\\n* Fix for UDP-1061. Average customer revie...</td>\n      <td>NaN</td>\n      <td>NaN</td>\n      <td>NaN</td>\n      <td>NaN</td>\n      <td>...</td>\n      <td>NaN</td>\n      <td>NaN</td>\n      <td>NaN</td>\n      <td>NaN</td>\n      <td>NaN</td>\n      <td>NaN</td>\n      <td>NaN</td>\n      <td>NaN</td>\n      <td>NaN</td>\n      <td>NaN</td>\n    </tr>\n    <tr>\n      <th>2</th>\n      <td>NaN</td>\n      <td>NaN</td>\n      <td>July 28, 2017</td>\n      <td>NaN</td>\n      <td>NaN</td>\n      <td>/*\\n* Fix for UDP-1061. Average customer revie...</td>\n      <td>NaN</td>\n      <td>NaN</td>\n      <td>NaN</td>\n      <td>NaN</td>\n      <td>...</td>\n      <td>NaN</td>\n      <td>NaN</td>\n      <td>NaN</td>\n      <td>NaN</td>\n      <td>NaN</td>\n      <td>NaN</td>\n      <td>NaN</td>\n      <td>No</td>\n      <td>NaN</td>\n      <td>NaN</td>\n    </tr>\n    <tr>\n      <th>3</th>\n      <td>NaN</td>\n      <td>NaN</td>\n      <td>November 9, 2018</td>\n      <td>NaN</td>\n      <td>NaN</td>\n      <td>/*\\n* Fix for UDP-1061. Average customer revie...</td>\n      <td>NaN</td>\n      <td>NaN</td>\n      <td>NaN</td>\n      <td>NaN</td>\n      <td>...</td>\n      <td>NaN</td>\n      <td>NaN</td>\n      <td>NaN</td>\n      <td>NaN</td>\n      <td>NaN</td>\n      <td>NaN</td>\n      <td>NaN</td>\n      <td>No</td>\n      <td>NaN</td>\n      <td>NaN</td>\n    </tr>\n    <tr>\n      <th>4</th>\n      <td>NaN</td>\n      <td>NaN</td>\n      <td>July 31, 2020</td>\n      <td>NaN</td>\n      <td>NaN</td>\n      <td>/*\\n* Fix for UDP-1061. Average customer revie...</td>\n      <td>NaN</td>\n      <td>NaN</td>\n      <td>NaN</td>\n      <td>NaN</td>\n      <td>...</td>\n      <td>NaN</td>\n      <td>NaN</td>\n      <td>NaN</td>\n      <td>NaN</td>\n      <td>NaN</td>\n      <td>NaN</td>\n      <td>NaN</td>\n      <td>No</td>\n      <td>NaN</td>\n      <td>NaN</td>\n    </tr>\n    <tr>\n      <th>...</th>\n      <td>...</td>\n      <td>...</td>\n      <td>...</td>\n      <td>...</td>\n      <td>...</td>\n      <td>...</td>\n      <td>...</td>\n      <td>...</td>\n      <td>...</td>\n      <td>...</td>\n      <td>...</td>\n      <td>...</td>\n      <td>...</td>\n      <td>...</td>\n      <td>...</td>\n      <td>...</td>\n      <td>...</td>\n      <td>...</td>\n      <td>...</td>\n      <td>...</td>\n      <td>...</td>\n    </tr>\n    <tr>\n      <th>8722</th>\n      <td>NaN</td>\n      <td>NaN</td>\n      <td>May 14, 2020</td>\n      <td>NaN</td>\n      <td>NaN</td>\n      <td>/*\\n* Fix for UDP-1061. Average customer revie...</td>\n      <td>NaN</td>\n      <td>NaN</td>\n      <td>NaN</td>\n      <td>NaN</td>\n      <td>...</td>\n      <td>NaN</td>\n      <td>NaN</td>\n      <td>NaN</td>\n      <td>NaN</td>\n      <td>NaN</td>\n      <td>NaN</td>\n      <td>NaN</td>\n      <td>NaN</td>\n      <td>NaN</td>\n      <td>NaN</td>\n    </tr>\n    <tr>\n      <th>8723</th>\n      <td>NaN</td>\n      <td>NaN</td>\n      <td>NaN</td>\n      <td>NaN</td>\n      <td>NaN</td>\n      <td>/*\\n* Fix for UDP-1061. Average customer revie...</td>\n      <td>NaN</td>\n      <td>NaN</td>\n      <td>NaN</td>\n      <td>NaN</td>\n      <td>...</td>\n      <td>NaN</td>\n      <td>NaN</td>\n      <td>NaN</td>\n      <td>NaN</td>\n      <td>NaN</td>\n      <td>NaN</td>\n      <td>NaN</td>\n      <td>NaN</td>\n      <td>NaN</td>\n      <td>NaN</td>\n    </tr>\n    <tr>\n      <th>8724</th>\n      <td>NaN</td>\n      <td>NaN</td>\n      <td>November 7, 2019</td>\n      <td>NaN</td>\n      <td>NaN</td>\n      <td>/*\\n* Fix for UDP-1061. Average customer revie...</td>\n      <td>NaN</td>\n      <td>NaN</td>\n      <td>NaN</td>\n      <td>NaN</td>\n      <td>...</td>\n      <td>NaN</td>\n      <td>NaN</td>\n      <td>NaN</td>\n      <td>NaN</td>\n      <td>NaN</td>\n      <td>NaN</td>\n      <td>NaN</td>\n      <td>NaN</td>\n      <td>NaN</td>\n      <td>NaN</td>\n    </tr>\n    <tr>\n      <th>8725</th>\n      <td>NaN</td>\n      <td>NaN</td>\n      <td>March 9, 2017</td>\n      <td>NaN</td>\n      <td>NaN</td>\n      <td>/*\\n* Fix for UDP-1061. Average customer revie...</td>\n      <td>NaN</td>\n      <td>NaN</td>\n      <td>NaN</td>\n      <td>NaN</td>\n      <td>...</td>\n      <td>NaN</td>\n      <td>NaN</td>\n      <td>NaN</td>\n      <td>NaN</td>\n      <td>NaN</td>\n      <td>NaN</td>\n      <td>NaN</td>\n      <td>No</td>\n      <td>NaN</td>\n      <td>NaN</td>\n    </tr>\n    <tr>\n      <th>8726</th>\n      <td>NaN</td>\n      <td>NaN</td>\n      <td>October 2, 2016</td>\n      <td>NaN</td>\n      <td>NaN</td>\n      <td>/*\\n* Fix for UDP-1061. Average customer revie...</td>\n      <td>NaN</td>\n      <td>NaN</td>\n      <td>NaN</td>\n      <td>NaN</td>\n      <td>...</td>\n      <td>NaN</td>\n      <td>NaN</td>\n      <td>NaN</td>\n      <td>NaN</td>\n      <td>NaN</td>\n      <td>NaN</td>\n      <td>NaN</td>\n      <td>No</td>\n      <td>NaN</td>\n      <td>NaN</td>\n    </tr>\n  </tbody>\n</table>\n<p>8727 rows × 65 columns</p>\n</div>"
     },
     "metadata": {},
     "execution_count": 225
    }
   ],
   "source": [
    "product_info"
   ]
  },
  {
   "cell_type": "code",
   "execution_count": 226,
   "metadata": {},
   "outputs": [],
   "source": [
    "product_info = product_info.loc[:,list(product_info.columns[list(product_info.isnull().sum() < 8000)])]"
   ]
  },
  {
   "cell_type": "code",
   "execution_count": 227,
   "metadata": {},
   "outputs": [
    {
     "output_type": "execute_result",
     "data": {
      "text/plain": [
       "     Date First Available                                   Customer Reviews  \\\n",
       "0         January 2, 2020  /*\\n* Fix for UDP-1061. Average customer revie...   \n",
       "1           April 8, 2019  /*\\n* Fix for UDP-1061. Average customer revie...   \n",
       "2           July 28, 2017  /*\\n* Fix for UDP-1061. Average customer revie...   \n",
       "3        November 9, 2018  /*\\n* Fix for UDP-1061. Average customer revie...   \n",
       "4           July 31, 2020  /*\\n* Fix for UDP-1061. Average customer revie...   \n",
       "...                   ...                                                ...   \n",
       "8722         May 14, 2020  /*\\n* Fix for UDP-1061. Average customer revie...   \n",
       "8723                  NaN  /*\\n* Fix for UDP-1061. Average customer revie...   \n",
       "8724     November 7, 2019  /*\\n* Fix for UDP-1061. Average customer revie...   \n",
       "8725        March 9, 2017  /*\\n* Fix for UDP-1061. Average customer revie...   \n",
       "8726      October 2, 2016  /*\\n* Fix for UDP-1061. Average customer revie...   \n",
       "\n",
       "                                              Batteries  \\\n",
       "0                                                   NaN   \n",
       "1          1 Lithium ion batteries required. (included)   \n",
       "2                     1 Lithium ion batteries required.   \n",
       "3          1 Lithium ion batteries required. (included)   \n",
       "4     1 Product Specific batteries required. (included)   \n",
       "...                                                 ...   \n",
       "8722                                                NaN   \n",
       "8723                                                NaN   \n",
       "8724                                                NaN   \n",
       "8725                                                NaN   \n",
       "8726       1 Lithium ion batteries required. (included)   \n",
       "\n",
       "              Package Dimensions    Department         Product Dimensions  \\\n",
       "0      9.06 x 7.95 x 3.54 inches           NaN                        NaN   \n",
       "1                            NaN           NaN    6.7 x 6.7 x 3.35 inches   \n",
       "2                            NaN           NaN  5.87 x 1.81 x 7.87 inches   \n",
       "3                            NaN           NaN    6.7 x 6.7 x 3.35 inches   \n",
       "4      4.61 x 4.57 x 1.46 inches           All                        NaN   \n",
       "...                          ...           ...                        ...   \n",
       "8722                         NaN  Unisex-adult  1.18 x 0.97 x 0.79 inches   \n",
       "8723                         NaN           NaN                        NaN   \n",
       "8724   6.69 x 4.57 x 0.55 inches           NaN                        NaN   \n",
       "8725                         NaN           NaN  7.48 x 3.15 x 0.59 inches   \n",
       "8726  11.02 x 9.57 x 1.38 inches           NaN                        NaN   \n",
       "\n",
       "        Manufacturer Item model number        ASIN   Item Weight  \\\n",
       "0              Artix        750_Black1  B087JVV8FK   12.6 ounces   \n",
       "1             Zihnic               NaN  B07Q9M1LW9    9.9 ounces   \n",
       "2               Sony      MDRZX110/BLK  B00NJ2M33I    4.8 ounces   \n",
       "3             Zihnic        5962916614  B07K5214NZ   10.4 ounces   \n",
       "4               TOZO                T6  B08F1SX35C    5.9 ounces   \n",
       "...              ...               ...         ...           ...   \n",
       "8722           coumi     COUMI ANC-860  B088M1RGGS    5.6 ounces   \n",
       "8723             NaN               NaN         NaN           NaN   \n",
       "8724      Lavien LLC               NaN  B0814WJ4NL  0.739 ounces   \n",
       "8725             Gen        4351631155  B07M6184SP  0.176 ounces   \n",
       "8726  aBrilliantLife               NaN  B07MV48RN6    4.6 ounces   \n",
       "\n",
       "                                      Best Sellers Rank  \\\n",
       "0                              #35 in On-Ear Headphones   \n",
       "1                            #58 in Over-Ear Headphones   \n",
       "2                               #1 in On-Ear Headphones   \n",
       "3                             #6 in Over-Ear Headphones   \n",
       "4                    #108 in Earbud & In-Ear Headphones   \n",
       "...                                                 ...   \n",
       "8722               #3,572 in Earbud & In-Ear Headphones   \n",
       "8723  #1,383 in Video Games ( See Top 100 in Video G...   \n",
       "8724                        #1,699 in Headphone Earpads   \n",
       "8725  #215,144 in Cell Phones & Accessories ( See To...   \n",
       "8726                                                NaN   \n",
       "\n",
       "     Is Discontinued By Manufacturer  \n",
       "0                                NaN  \n",
       "1                                NaN  \n",
       "2                                 No  \n",
       "3                                 No  \n",
       "4                                 No  \n",
       "...                              ...  \n",
       "8722                             NaN  \n",
       "8723                             NaN  \n",
       "8724                             NaN  \n",
       "8725                              No  \n",
       "8726                              No  \n",
       "\n",
       "[8727 rows x 12 columns]"
      ],
      "text/html": "<div>\n<style scoped>\n    .dataframe tbody tr th:only-of-type {\n        vertical-align: middle;\n    }\n\n    .dataframe tbody tr th {\n        vertical-align: top;\n    }\n\n    .dataframe thead th {\n        text-align: right;\n    }\n</style>\n<table border=\"1\" class=\"dataframe\">\n  <thead>\n    <tr style=\"text-align: right;\">\n      <th></th>\n      <th>Date First Available</th>\n      <th>Customer Reviews</th>\n      <th>Batteries</th>\n      <th>Package Dimensions</th>\n      <th>Department</th>\n      <th>Product Dimensions</th>\n      <th>Manufacturer</th>\n      <th>Item model number</th>\n      <th>ASIN</th>\n      <th>Item Weight</th>\n      <th>Best Sellers Rank</th>\n      <th>Is Discontinued By Manufacturer</th>\n    </tr>\n  </thead>\n  <tbody>\n    <tr>\n      <th>0</th>\n      <td>January 2, 2020</td>\n      <td>/*\\n* Fix for UDP-1061. Average customer revie...</td>\n      <td>NaN</td>\n      <td>9.06 x 7.95 x 3.54 inches</td>\n      <td>NaN</td>\n      <td>NaN</td>\n      <td>Artix</td>\n      <td>750_Black1</td>\n      <td>B087JVV8FK</td>\n      <td>12.6 ounces</td>\n      <td>#35 in On-Ear Headphones</td>\n      <td>NaN</td>\n    </tr>\n    <tr>\n      <th>1</th>\n      <td>April 8, 2019</td>\n      <td>/*\\n* Fix for UDP-1061. Average customer revie...</td>\n      <td>1 Lithium ion batteries required. (included)</td>\n      <td>NaN</td>\n      <td>NaN</td>\n      <td>6.7 x 6.7 x 3.35 inches</td>\n      <td>Zihnic</td>\n      <td>NaN</td>\n      <td>B07Q9M1LW9</td>\n      <td>9.9 ounces</td>\n      <td>#58 in Over-Ear Headphones</td>\n      <td>NaN</td>\n    </tr>\n    <tr>\n      <th>2</th>\n      <td>July 28, 2017</td>\n      <td>/*\\n* Fix for UDP-1061. Average customer revie...</td>\n      <td>1 Lithium ion batteries required.</td>\n      <td>NaN</td>\n      <td>NaN</td>\n      <td>5.87 x 1.81 x 7.87 inches</td>\n      <td>Sony</td>\n      <td>MDRZX110/BLK</td>\n      <td>B00NJ2M33I</td>\n      <td>4.8 ounces</td>\n      <td>#1 in On-Ear Headphones</td>\n      <td>No</td>\n    </tr>\n    <tr>\n      <th>3</th>\n      <td>November 9, 2018</td>\n      <td>/*\\n* Fix for UDP-1061. Average customer revie...</td>\n      <td>1 Lithium ion batteries required. (included)</td>\n      <td>NaN</td>\n      <td>NaN</td>\n      <td>6.7 x 6.7 x 3.35 inches</td>\n      <td>Zihnic</td>\n      <td>5962916614</td>\n      <td>B07K5214NZ</td>\n      <td>10.4 ounces</td>\n      <td>#6 in Over-Ear Headphones</td>\n      <td>No</td>\n    </tr>\n    <tr>\n      <th>4</th>\n      <td>July 31, 2020</td>\n      <td>/*\\n* Fix for UDP-1061. Average customer revie...</td>\n      <td>1 Product Specific batteries required. (included)</td>\n      <td>4.61 x 4.57 x 1.46 inches</td>\n      <td>All</td>\n      <td>NaN</td>\n      <td>TOZO</td>\n      <td>T6</td>\n      <td>B08F1SX35C</td>\n      <td>5.9 ounces</td>\n      <td>#108 in Earbud &amp; In-Ear Headphones</td>\n      <td>No</td>\n    </tr>\n    <tr>\n      <th>...</th>\n      <td>...</td>\n      <td>...</td>\n      <td>...</td>\n      <td>...</td>\n      <td>...</td>\n      <td>...</td>\n      <td>...</td>\n      <td>...</td>\n      <td>...</td>\n      <td>...</td>\n      <td>...</td>\n      <td>...</td>\n    </tr>\n    <tr>\n      <th>8722</th>\n      <td>May 14, 2020</td>\n      <td>/*\\n* Fix for UDP-1061. Average customer revie...</td>\n      <td>NaN</td>\n      <td>NaN</td>\n      <td>Unisex-adult</td>\n      <td>1.18 x 0.97 x 0.79 inches</td>\n      <td>coumi</td>\n      <td>COUMI ANC-860</td>\n      <td>B088M1RGGS</td>\n      <td>5.6 ounces</td>\n      <td>#3,572 in Earbud &amp; In-Ear Headphones</td>\n      <td>NaN</td>\n    </tr>\n    <tr>\n      <th>8723</th>\n      <td>NaN</td>\n      <td>/*\\n* Fix for UDP-1061. Average customer revie...</td>\n      <td>NaN</td>\n      <td>NaN</td>\n      <td>NaN</td>\n      <td>NaN</td>\n      <td>NaN</td>\n      <td>NaN</td>\n      <td>NaN</td>\n      <td>NaN</td>\n      <td>#1,383 in Video Games ( See Top 100 in Video G...</td>\n      <td>NaN</td>\n    </tr>\n    <tr>\n      <th>8724</th>\n      <td>November 7, 2019</td>\n      <td>/*\\n* Fix for UDP-1061. Average customer revie...</td>\n      <td>NaN</td>\n      <td>6.69 x 4.57 x 0.55 inches</td>\n      <td>NaN</td>\n      <td>NaN</td>\n      <td>Lavien LLC</td>\n      <td>NaN</td>\n      <td>B0814WJ4NL</td>\n      <td>0.739 ounces</td>\n      <td>#1,699 in Headphone Earpads</td>\n      <td>NaN</td>\n    </tr>\n    <tr>\n      <th>8725</th>\n      <td>March 9, 2017</td>\n      <td>/*\\n* Fix for UDP-1061. Average customer revie...</td>\n      <td>NaN</td>\n      <td>NaN</td>\n      <td>NaN</td>\n      <td>7.48 x 3.15 x 0.59 inches</td>\n      <td>Gen</td>\n      <td>4351631155</td>\n      <td>B07M6184SP</td>\n      <td>0.176 ounces</td>\n      <td>#215,144 in Cell Phones &amp; Accessories ( See To...</td>\n      <td>No</td>\n    </tr>\n    <tr>\n      <th>8726</th>\n      <td>October 2, 2016</td>\n      <td>/*\\n* Fix for UDP-1061. Average customer revie...</td>\n      <td>1 Lithium ion batteries required. (included)</td>\n      <td>11.02 x 9.57 x 1.38 inches</td>\n      <td>NaN</td>\n      <td>NaN</td>\n      <td>aBrilliantLife</td>\n      <td>NaN</td>\n      <td>B07MV48RN6</td>\n      <td>4.6 ounces</td>\n      <td>NaN</td>\n      <td>No</td>\n    </tr>\n  </tbody>\n</table>\n<p>8727 rows × 12 columns</p>\n</div>"
     },
     "metadata": {},
     "execution_count": 227
    }
   ],
   "source": [
    "product_info"
   ]
  },
  {
   "cell_type": "code",
   "execution_count": 228,
   "metadata": {},
   "outputs": [
    {
     "output_type": "execute_result",
     "data": {
      "text/plain": [
       "Date First Available                241\n",
       "Customer Reviews                    633\n",
       "Batteries                          5944\n",
       "Package Dimensions                 4410\n",
       "Department                         7459\n",
       "Product Dimensions                 4777\n",
       "Manufacturer                        821\n",
       "Item model number                  3611\n",
       "ASIN                                343\n",
       "Item Weight                         434\n",
       "Best Sellers Rank                   277\n",
       "Is Discontinued By Manufacturer    5287\n",
       "dtype: int64"
      ]
     },
     "metadata": {},
     "execution_count": 228
    }
   ],
   "source": [
    "product_info.isnull().sum()"
   ]
  },
  {
   "cell_type": "code",
   "execution_count": 229,
   "metadata": {},
   "outputs": [
    {
     "output_type": "execute_result",
     "data": {
      "text/plain": [
       "                                                   name Date First Available  \\\n",
       "0     Artix CL750 Foldable Noise Isolating On Ear He...      January 2, 2020   \n",
       "1     Wireless Over-Ear Headphones with Deep Bass, F...        April 8, 2019   \n",
       "2     Sony MDRZX110/BLK ZX Series Stereo Headphones ...        July 28, 2017   \n",
       "3     Bluetooth Over-Ear Headphones, Zihnic Foldable...     November 9, 2018   \n",
       "4     TOZO T6 True Wireless Earbuds Bluetooth Headph...        July 31, 2020   \n",
       "...                                                 ...                  ...   \n",
       "8738                  Spectra USB Transcription Headset                  NaN   \n",
       "8739  USB Computer Headset with Microphone, Elikliv ...                  NaN   \n",
       "8740  VEVER K701 Earpads Replacement Ear Cushions Pa...                  NaN   \n",
       "8741  True Wireless Headphones, APEKX Update 5.0 Aut...                  NaN   \n",
       "8742  True Wireless Earbuds, Hadisala Bluetooth 5.0 ...                  NaN   \n",
       "\n",
       "                                       Customer Reviews  \\\n",
       "0     /*\\n* Fix for UDP-1061. Average customer revie...   \n",
       "1     /*\\n* Fix for UDP-1061. Average customer revie...   \n",
       "2     /*\\n* Fix for UDP-1061. Average customer revie...   \n",
       "3     /*\\n* Fix for UDP-1061. Average customer revie...   \n",
       "4     /*\\n* Fix for UDP-1061. Average customer revie...   \n",
       "...                                                 ...   \n",
       "8738                                                NaN   \n",
       "8739                                                NaN   \n",
       "8740                                                NaN   \n",
       "8741                                                NaN   \n",
       "8742                                                NaN   \n",
       "\n",
       "                                              Batteries  \\\n",
       "0                                                   NaN   \n",
       "1          1 Lithium ion batteries required. (included)   \n",
       "2                     1 Lithium ion batteries required.   \n",
       "3          1 Lithium ion batteries required. (included)   \n",
       "4     1 Product Specific batteries required. (included)   \n",
       "...                                                 ...   \n",
       "8738                                                NaN   \n",
       "8739                                                NaN   \n",
       "8740                                                NaN   \n",
       "8741                                                NaN   \n",
       "8742                                                NaN   \n",
       "\n",
       "             Package Dimensions Department         Product Dimensions  \\\n",
       "0     9.06 x 7.95 x 3.54 inches        NaN                        NaN   \n",
       "1                           NaN        NaN    6.7 x 6.7 x 3.35 inches   \n",
       "2                           NaN        NaN  5.87 x 1.81 x 7.87 inches   \n",
       "3                           NaN        NaN    6.7 x 6.7 x 3.35 inches   \n",
       "4     4.61 x 4.57 x 1.46 inches        All                        NaN   \n",
       "...                         ...        ...                        ...   \n",
       "8738                        NaN        NaN                        NaN   \n",
       "8739                        NaN        NaN                        NaN   \n",
       "8740                        NaN        NaN                        NaN   \n",
       "8741                        NaN        NaN                        NaN   \n",
       "8742                        NaN        NaN                        NaN   \n",
       "\n",
       "     Manufacturer Item model number        ASIN  Item Weight  \\\n",
       "0           Artix        750_Black1  B087JVV8FK  12.6 ounces   \n",
       "1          Zihnic               NaN  B07Q9M1LW9   9.9 ounces   \n",
       "2            Sony      MDRZX110/BLK  B00NJ2M33I   4.8 ounces   \n",
       "3          Zihnic        5962916614  B07K5214NZ  10.4 ounces   \n",
       "4            TOZO                T6  B08F1SX35C   5.9 ounces   \n",
       "...           ...               ...         ...          ...   \n",
       "8738          NaN               NaN         NaN          NaN   \n",
       "8739          NaN               NaN         NaN          NaN   \n",
       "8740          NaN               NaN         NaN          NaN   \n",
       "8741          NaN               NaN         NaN          NaN   \n",
       "8742          NaN               NaN         NaN          NaN   \n",
       "\n",
       "                       Best Sellers Rank Is Discontinued By Manufacturer  \\\n",
       "0               #35 in On-Ear Headphones                             NaN   \n",
       "1             #58 in Over-Ear Headphones                             NaN   \n",
       "2                #1 in On-Ear Headphones                              No   \n",
       "3              #6 in Over-Ear Headphones                              No   \n",
       "4     #108 in Earbud & In-Ear Headphones                              No   \n",
       "...                                  ...                             ...   \n",
       "8738                                 NaN                             NaN   \n",
       "8739                                 NaN                             NaN   \n",
       "8740                                 NaN                             NaN   \n",
       "8741                                 NaN                             NaN   \n",
       "8742                                 NaN                             NaN   \n",
       "\n",
       "                 seller  \n",
       "0          7thContinent  \n",
       "1                Zihnic  \n",
       "2                  None  \n",
       "3                Zihnic  \n",
       "4               Accumie  \n",
       "...                 ...  \n",
       "8738  Kesef_Brother_Inc  \n",
       "8739        Elikliv USA  \n",
       "8740              VEVER  \n",
       "8741           APEKX US  \n",
       "8742         MiSiLan-US  \n",
       "\n",
       "[8743 rows x 14 columns]"
      ],
      "text/html": "<div>\n<style scoped>\n    .dataframe tbody tr th:only-of-type {\n        vertical-align: middle;\n    }\n\n    .dataframe tbody tr th {\n        vertical-align: top;\n    }\n\n    .dataframe thead th {\n        text-align: right;\n    }\n</style>\n<table border=\"1\" class=\"dataframe\">\n  <thead>\n    <tr style=\"text-align: right;\">\n      <th></th>\n      <th>name</th>\n      <th>Date First Available</th>\n      <th>Customer Reviews</th>\n      <th>Batteries</th>\n      <th>Package Dimensions</th>\n      <th>Department</th>\n      <th>Product Dimensions</th>\n      <th>Manufacturer</th>\n      <th>Item model number</th>\n      <th>ASIN</th>\n      <th>Item Weight</th>\n      <th>Best Sellers Rank</th>\n      <th>Is Discontinued By Manufacturer</th>\n      <th>seller</th>\n    </tr>\n  </thead>\n  <tbody>\n    <tr>\n      <th>0</th>\n      <td>Artix CL750 Foldable Noise Isolating On Ear He...</td>\n      <td>January 2, 2020</td>\n      <td>/*\\n* Fix for UDP-1061. Average customer revie...</td>\n      <td>NaN</td>\n      <td>9.06 x 7.95 x 3.54 inches</td>\n      <td>NaN</td>\n      <td>NaN</td>\n      <td>Artix</td>\n      <td>750_Black1</td>\n      <td>B087JVV8FK</td>\n      <td>12.6 ounces</td>\n      <td>#35 in On-Ear Headphones</td>\n      <td>NaN</td>\n      <td>7thContinent</td>\n    </tr>\n    <tr>\n      <th>1</th>\n      <td>Wireless Over-Ear Headphones with Deep Bass, F...</td>\n      <td>April 8, 2019</td>\n      <td>/*\\n* Fix for UDP-1061. Average customer revie...</td>\n      <td>1 Lithium ion batteries required. (included)</td>\n      <td>NaN</td>\n      <td>NaN</td>\n      <td>6.7 x 6.7 x 3.35 inches</td>\n      <td>Zihnic</td>\n      <td>NaN</td>\n      <td>B07Q9M1LW9</td>\n      <td>9.9 ounces</td>\n      <td>#58 in Over-Ear Headphones</td>\n      <td>NaN</td>\n      <td>Zihnic</td>\n    </tr>\n    <tr>\n      <th>2</th>\n      <td>Sony MDRZX110/BLK ZX Series Stereo Headphones ...</td>\n      <td>July 28, 2017</td>\n      <td>/*\\n* Fix for UDP-1061. Average customer revie...</td>\n      <td>1 Lithium ion batteries required.</td>\n      <td>NaN</td>\n      <td>NaN</td>\n      <td>5.87 x 1.81 x 7.87 inches</td>\n      <td>Sony</td>\n      <td>MDRZX110/BLK</td>\n      <td>B00NJ2M33I</td>\n      <td>4.8 ounces</td>\n      <td>#1 in On-Ear Headphones</td>\n      <td>No</td>\n      <td>None</td>\n    </tr>\n    <tr>\n      <th>3</th>\n      <td>Bluetooth Over-Ear Headphones, Zihnic Foldable...</td>\n      <td>November 9, 2018</td>\n      <td>/*\\n* Fix for UDP-1061. Average customer revie...</td>\n      <td>1 Lithium ion batteries required. (included)</td>\n      <td>NaN</td>\n      <td>NaN</td>\n      <td>6.7 x 6.7 x 3.35 inches</td>\n      <td>Zihnic</td>\n      <td>5962916614</td>\n      <td>B07K5214NZ</td>\n      <td>10.4 ounces</td>\n      <td>#6 in Over-Ear Headphones</td>\n      <td>No</td>\n      <td>Zihnic</td>\n    </tr>\n    <tr>\n      <th>4</th>\n      <td>TOZO T6 True Wireless Earbuds Bluetooth Headph...</td>\n      <td>July 31, 2020</td>\n      <td>/*\\n* Fix for UDP-1061. Average customer revie...</td>\n      <td>1 Product Specific batteries required. (included)</td>\n      <td>4.61 x 4.57 x 1.46 inches</td>\n      <td>All</td>\n      <td>NaN</td>\n      <td>TOZO</td>\n      <td>T6</td>\n      <td>B08F1SX35C</td>\n      <td>5.9 ounces</td>\n      <td>#108 in Earbud &amp; In-Ear Headphones</td>\n      <td>No</td>\n      <td>Accumie</td>\n    </tr>\n    <tr>\n      <th>...</th>\n      <td>...</td>\n      <td>...</td>\n      <td>...</td>\n      <td>...</td>\n      <td>...</td>\n      <td>...</td>\n      <td>...</td>\n      <td>...</td>\n      <td>...</td>\n      <td>...</td>\n      <td>...</td>\n      <td>...</td>\n      <td>...</td>\n      <td>...</td>\n    </tr>\n    <tr>\n      <th>8738</th>\n      <td>Spectra USB Transcription Headset</td>\n      <td>NaN</td>\n      <td>NaN</td>\n      <td>NaN</td>\n      <td>NaN</td>\n      <td>NaN</td>\n      <td>NaN</td>\n      <td>NaN</td>\n      <td>NaN</td>\n      <td>NaN</td>\n      <td>NaN</td>\n      <td>NaN</td>\n      <td>NaN</td>\n      <td>Kesef_Brother_Inc</td>\n    </tr>\n    <tr>\n      <th>8739</th>\n      <td>USB Computer Headset with Microphone, Elikliv ...</td>\n      <td>NaN</td>\n      <td>NaN</td>\n      <td>NaN</td>\n      <td>NaN</td>\n      <td>NaN</td>\n      <td>NaN</td>\n      <td>NaN</td>\n      <td>NaN</td>\n      <td>NaN</td>\n      <td>NaN</td>\n      <td>NaN</td>\n      <td>NaN</td>\n      <td>Elikliv USA</td>\n    </tr>\n    <tr>\n      <th>8740</th>\n      <td>VEVER K701 Earpads Replacement Ear Cushions Pa...</td>\n      <td>NaN</td>\n      <td>NaN</td>\n      <td>NaN</td>\n      <td>NaN</td>\n      <td>NaN</td>\n      <td>NaN</td>\n      <td>NaN</td>\n      <td>NaN</td>\n      <td>NaN</td>\n      <td>NaN</td>\n      <td>NaN</td>\n      <td>NaN</td>\n      <td>VEVER</td>\n    </tr>\n    <tr>\n      <th>8741</th>\n      <td>True Wireless Headphones, APEKX Update 5.0 Aut...</td>\n      <td>NaN</td>\n      <td>NaN</td>\n      <td>NaN</td>\n      <td>NaN</td>\n      <td>NaN</td>\n      <td>NaN</td>\n      <td>NaN</td>\n      <td>NaN</td>\n      <td>NaN</td>\n      <td>NaN</td>\n      <td>NaN</td>\n      <td>NaN</td>\n      <td>APEKX US</td>\n    </tr>\n    <tr>\n      <th>8742</th>\n      <td>True Wireless Earbuds, Hadisala Bluetooth 5.0 ...</td>\n      <td>NaN</td>\n      <td>NaN</td>\n      <td>NaN</td>\n      <td>NaN</td>\n      <td>NaN</td>\n      <td>NaN</td>\n      <td>NaN</td>\n      <td>NaN</td>\n      <td>NaN</td>\n      <td>NaN</td>\n      <td>NaN</td>\n      <td>NaN</td>\n      <td>MiSiLan-US</td>\n    </tr>\n  </tbody>\n</table>\n<p>8743 rows × 14 columns</p>\n</div>"
     },
     "metadata": {},
     "execution_count": 229
    }
   ],
   "source": [
    "new_hp = pd.concat([pd.DataFrame(hp.name), product_info, pd.DataFrame(hp.seller)],axis=1)\n",
    "new_hp"
   ]
  },
  {
   "cell_type": "code",
   "execution_count": 230,
   "metadata": {},
   "outputs": [
    {
     "output_type": "execute_result",
     "data": {
      "text/plain": [
       "name                                 16\n",
       "Date First Available                257\n",
       "Customer Reviews                    649\n",
       "Batteries                          5960\n",
       "Package Dimensions                 4426\n",
       "Department                         7475\n",
       "Product Dimensions                 4793\n",
       "Manufacturer                        837\n",
       "Item model number                  3627\n",
       "ASIN                                359\n",
       "Item Weight                         450\n",
       "Best Sellers Rank                   293\n",
       "Is Discontinued By Manufacturer    5303\n",
       "seller                              709\n",
       "dtype: int64"
      ]
     },
     "metadata": {},
     "execution_count": 230
    }
   ],
   "source": [
    "new_hp.isnull().sum()"
   ]
  },
  {
   "cell_type": "code",
   "execution_count": 231,
   "metadata": {},
   "outputs": [
    {
     "output_type": "execute_result",
     "data": {
      "text/plain": [
       "                                                   name Date First Available  \\\n",
       "0     Artix CL750 Foldable Noise Isolating On Ear He...      January 2, 2020   \n",
       "1     Wireless Over-Ear Headphones with Deep Bass, F...        April 8, 2019   \n",
       "2     Sony MDRZX110/BLK ZX Series Stereo Headphones ...        July 28, 2017   \n",
       "3     Bluetooth Over-Ear Headphones, Zihnic Foldable...     November 9, 2018   \n",
       "4     TOZO T6 True Wireless Earbuds Bluetooth Headph...        July 31, 2020   \n",
       "...                                                 ...                  ...   \n",
       "5167  Tosuny Computer Headset with Mic USB Headphone...          May 6, 2020   \n",
       "5168  DISNEY COLLECTION Black Hard Plastic Case for ...    December 19, 2020   \n",
       "5169  Lavien Replacement Ear Pads for Bose SoundLink...     November 7, 2019   \n",
       "5170  PHONSUN Headphone Audio Jack Flex Cable for LG...        March 9, 2017   \n",
       "5171  Bluetooth Beanie Hat Cap Winter Knit Toque wit...      October 2, 2016   \n",
       "\n",
       "                                       Customer Reviews  \\\n",
       "0     /*\\n* Fix for UDP-1061. Average customer revie...   \n",
       "1     /*\\n* Fix for UDP-1061. Average customer revie...   \n",
       "2     /*\\n* Fix for UDP-1061. Average customer revie...   \n",
       "3     /*\\n* Fix for UDP-1061. Average customer revie...   \n",
       "4     /*\\n* Fix for UDP-1061. Average customer revie...   \n",
       "...                                                 ...   \n",
       "5167  /*\\n* Fix for UDP-1061. Average customer revie...   \n",
       "5168  /*\\n* Fix for UDP-1061. Average customer revie...   \n",
       "5169  /*\\n* Fix for UDP-1061. Average customer revie...   \n",
       "5170  /*\\n* Fix for UDP-1061. Average customer revie...   \n",
       "5171  /*\\n* Fix for UDP-1061. Average customer revie...   \n",
       "\n",
       "                                              Batteries  \\\n",
       "0                                                   NaN   \n",
       "1          1 Lithium ion batteries required. (included)   \n",
       "2                     1 Lithium ion batteries required.   \n",
       "3          1 Lithium ion batteries required. (included)   \n",
       "4     1 Product Specific batteries required. (included)   \n",
       "...                                                 ...   \n",
       "5167                                                NaN   \n",
       "5168                                                NaN   \n",
       "5169                                                NaN   \n",
       "5170                                                NaN   \n",
       "5171       1 Lithium ion batteries required. (included)   \n",
       "\n",
       "              Package Dimensions         Product Dimensions  \\\n",
       "0      9.06 x 7.95 x 3.54 inches                        NaN   \n",
       "1                            NaN    6.7 x 6.7 x 3.35 inches   \n",
       "2                            NaN  5.87 x 1.81 x 7.87 inches   \n",
       "3                            NaN    6.7 x 6.7 x 3.35 inches   \n",
       "4      4.61 x 4.57 x 1.46 inches                        NaN   \n",
       "...                          ...                        ...   \n",
       "5167                         NaN                        NaN   \n",
       "5168                         NaN  1.85 x 1.06 x 2.24 inches   \n",
       "5169   6.69 x 4.57 x 0.55 inches                        NaN   \n",
       "5170                         NaN  7.48 x 3.15 x 0.59 inches   \n",
       "5171  11.02 x 9.57 x 1.38 inches                        NaN   \n",
       "\n",
       "           Manufacturer Item model number        ASIN   Item Weight  \\\n",
       "0                 Artix        750_Black1  B087JVV8FK   12.6 ounces   \n",
       "1                Zihnic               NaN  B07Q9M1LW9    9.9 ounces   \n",
       "2                  Sony      MDRZX110/BLK  B00NJ2M33I    4.8 ounces   \n",
       "3                Zihnic        5962916614  B07K5214NZ   10.4 ounces   \n",
       "4                  TOZO                T6  B08F1SX35C    5.9 ounces   \n",
       "...                 ...               ...         ...           ...   \n",
       "5167             Tosuny               NaN  B0886CKLN3   2.11 ounces   \n",
       "5168  DISNEY COLLECTION               NaN  B08R1YRVG2    4.8 ounces   \n",
       "5169         Lavien LLC               NaN  B0814WJ4NL  0.739 ounces   \n",
       "5170                Gen        4351631155  B07M6184SP  0.176 ounces   \n",
       "5171     aBrilliantLife               NaN  B07MV48RN6    4.6 ounces   \n",
       "\n",
       "                                      Best Sellers Rank  \\\n",
       "0                              #35 in On-Ear Headphones   \n",
       "1                            #58 in Over-Ear Headphones   \n",
       "2                               #1 in On-Ear Headphones   \n",
       "3                             #6 in Over-Ear Headphones   \n",
       "4                    #108 in Earbud & In-Ear Headphones   \n",
       "...                                                 ...   \n",
       "5167                        #1,139 in Computer Headsets   \n",
       "5168                          #3,788 in Headphone Cases   \n",
       "5169                        #1,699 in Headphone Earpads   \n",
       "5170  #215,144 in Cell Phones & Accessories ( See To...   \n",
       "5171                                                NaN   \n",
       "\n",
       "     Is Discontinued By Manufacturer          seller  \n",
       "0                                NaN    7thContinent  \n",
       "1                                NaN          Zihnic  \n",
       "2                                 No            None  \n",
       "3                                 No          Zihnic  \n",
       "4                                 No         Accumie  \n",
       "...                              ...             ...  \n",
       "5167                             NaN       Tosuny-us  \n",
       "5168                             NaN           OHYOu  \n",
       "5169                             NaN      Lavien LLC  \n",
       "5170                              No         PHONSUN  \n",
       "5171                              No  aBrilliantLife  \n",
       "\n",
       "[5172 rows x 13 columns]"
      ],
      "text/html": "<div>\n<style scoped>\n    .dataframe tbody tr th:only-of-type {\n        vertical-align: middle;\n    }\n\n    .dataframe tbody tr th {\n        vertical-align: top;\n    }\n\n    .dataframe thead th {\n        text-align: right;\n    }\n</style>\n<table border=\"1\" class=\"dataframe\">\n  <thead>\n    <tr style=\"text-align: right;\">\n      <th></th>\n      <th>name</th>\n      <th>Date First Available</th>\n      <th>Customer Reviews</th>\n      <th>Batteries</th>\n      <th>Package Dimensions</th>\n      <th>Product Dimensions</th>\n      <th>Manufacturer</th>\n      <th>Item model number</th>\n      <th>ASIN</th>\n      <th>Item Weight</th>\n      <th>Best Sellers Rank</th>\n      <th>Is Discontinued By Manufacturer</th>\n      <th>seller</th>\n    </tr>\n  </thead>\n  <tbody>\n    <tr>\n      <th>0</th>\n      <td>Artix CL750 Foldable Noise Isolating On Ear He...</td>\n      <td>January 2, 2020</td>\n      <td>/*\\n* Fix for UDP-1061. Average customer revie...</td>\n      <td>NaN</td>\n      <td>9.06 x 7.95 x 3.54 inches</td>\n      <td>NaN</td>\n      <td>Artix</td>\n      <td>750_Black1</td>\n      <td>B087JVV8FK</td>\n      <td>12.6 ounces</td>\n      <td>#35 in On-Ear Headphones</td>\n      <td>NaN</td>\n      <td>7thContinent</td>\n    </tr>\n    <tr>\n      <th>1</th>\n      <td>Wireless Over-Ear Headphones with Deep Bass, F...</td>\n      <td>April 8, 2019</td>\n      <td>/*\\n* Fix for UDP-1061. Average customer revie...</td>\n      <td>1 Lithium ion batteries required. (included)</td>\n      <td>NaN</td>\n      <td>6.7 x 6.7 x 3.35 inches</td>\n      <td>Zihnic</td>\n      <td>NaN</td>\n      <td>B07Q9M1LW9</td>\n      <td>9.9 ounces</td>\n      <td>#58 in Over-Ear Headphones</td>\n      <td>NaN</td>\n      <td>Zihnic</td>\n    </tr>\n    <tr>\n      <th>2</th>\n      <td>Sony MDRZX110/BLK ZX Series Stereo Headphones ...</td>\n      <td>July 28, 2017</td>\n      <td>/*\\n* Fix for UDP-1061. Average customer revie...</td>\n      <td>1 Lithium ion batteries required.</td>\n      <td>NaN</td>\n      <td>5.87 x 1.81 x 7.87 inches</td>\n      <td>Sony</td>\n      <td>MDRZX110/BLK</td>\n      <td>B00NJ2M33I</td>\n      <td>4.8 ounces</td>\n      <td>#1 in On-Ear Headphones</td>\n      <td>No</td>\n      <td>None</td>\n    </tr>\n    <tr>\n      <th>3</th>\n      <td>Bluetooth Over-Ear Headphones, Zihnic Foldable...</td>\n      <td>November 9, 2018</td>\n      <td>/*\\n* Fix for UDP-1061. Average customer revie...</td>\n      <td>1 Lithium ion batteries required. (included)</td>\n      <td>NaN</td>\n      <td>6.7 x 6.7 x 3.35 inches</td>\n      <td>Zihnic</td>\n      <td>5962916614</td>\n      <td>B07K5214NZ</td>\n      <td>10.4 ounces</td>\n      <td>#6 in Over-Ear Headphones</td>\n      <td>No</td>\n      <td>Zihnic</td>\n    </tr>\n    <tr>\n      <th>4</th>\n      <td>TOZO T6 True Wireless Earbuds Bluetooth Headph...</td>\n      <td>July 31, 2020</td>\n      <td>/*\\n* Fix for UDP-1061. Average customer revie...</td>\n      <td>1 Product Specific batteries required. (included)</td>\n      <td>4.61 x 4.57 x 1.46 inches</td>\n      <td>NaN</td>\n      <td>TOZO</td>\n      <td>T6</td>\n      <td>B08F1SX35C</td>\n      <td>5.9 ounces</td>\n      <td>#108 in Earbud &amp; In-Ear Headphones</td>\n      <td>No</td>\n      <td>Accumie</td>\n    </tr>\n    <tr>\n      <th>...</th>\n      <td>...</td>\n      <td>...</td>\n      <td>...</td>\n      <td>...</td>\n      <td>...</td>\n      <td>...</td>\n      <td>...</td>\n      <td>...</td>\n      <td>...</td>\n      <td>...</td>\n      <td>...</td>\n      <td>...</td>\n      <td>...</td>\n    </tr>\n    <tr>\n      <th>5167</th>\n      <td>Tosuny Computer Headset with Mic USB Headphone...</td>\n      <td>May 6, 2020</td>\n      <td>/*\\n* Fix for UDP-1061. Average customer revie...</td>\n      <td>NaN</td>\n      <td>NaN</td>\n      <td>NaN</td>\n      <td>Tosuny</td>\n      <td>NaN</td>\n      <td>B0886CKLN3</td>\n      <td>2.11 ounces</td>\n      <td>#1,139 in Computer Headsets</td>\n      <td>NaN</td>\n      <td>Tosuny-us</td>\n    </tr>\n    <tr>\n      <th>5168</th>\n      <td>DISNEY COLLECTION Black Hard Plastic Case for ...</td>\n      <td>December 19, 2020</td>\n      <td>/*\\n* Fix for UDP-1061. Average customer revie...</td>\n      <td>NaN</td>\n      <td>NaN</td>\n      <td>1.85 x 1.06 x 2.24 inches</td>\n      <td>DISNEY COLLECTION</td>\n      <td>NaN</td>\n      <td>B08R1YRVG2</td>\n      <td>4.8 ounces</td>\n      <td>#3,788 in Headphone Cases</td>\n      <td>NaN</td>\n      <td>OHYOu</td>\n    </tr>\n    <tr>\n      <th>5169</th>\n      <td>Lavien Replacement Ear Pads for Bose SoundLink...</td>\n      <td>November 7, 2019</td>\n      <td>/*\\n* Fix for UDP-1061. Average customer revie...</td>\n      <td>NaN</td>\n      <td>6.69 x 4.57 x 0.55 inches</td>\n      <td>NaN</td>\n      <td>Lavien LLC</td>\n      <td>NaN</td>\n      <td>B0814WJ4NL</td>\n      <td>0.739 ounces</td>\n      <td>#1,699 in Headphone Earpads</td>\n      <td>NaN</td>\n      <td>Lavien LLC</td>\n    </tr>\n    <tr>\n      <th>5170</th>\n      <td>PHONSUN Headphone Audio Jack Flex Cable for LG...</td>\n      <td>March 9, 2017</td>\n      <td>/*\\n* Fix for UDP-1061. Average customer revie...</td>\n      <td>NaN</td>\n      <td>NaN</td>\n      <td>7.48 x 3.15 x 0.59 inches</td>\n      <td>Gen</td>\n      <td>4351631155</td>\n      <td>B07M6184SP</td>\n      <td>0.176 ounces</td>\n      <td>#215,144 in Cell Phones &amp; Accessories ( See To...</td>\n      <td>No</td>\n      <td>PHONSUN</td>\n    </tr>\n    <tr>\n      <th>5171</th>\n      <td>Bluetooth Beanie Hat Cap Winter Knit Toque wit...</td>\n      <td>October 2, 2016</td>\n      <td>/*\\n* Fix for UDP-1061. Average customer revie...</td>\n      <td>1 Lithium ion batteries required. (included)</td>\n      <td>11.02 x 9.57 x 1.38 inches</td>\n      <td>NaN</td>\n      <td>aBrilliantLife</td>\n      <td>NaN</td>\n      <td>B07MV48RN6</td>\n      <td>4.6 ounces</td>\n      <td>NaN</td>\n      <td>No</td>\n      <td>aBrilliantLife</td>\n    </tr>\n  </tbody>\n</table>\n<p>5172 rows × 13 columns</p>\n</div>"
     },
     "metadata": {},
     "execution_count": 231
    }
   ],
   "source": [
    "new_hp.dropna(subset=[\"ASIN\"], inplace=True)\n",
    "new_hp.drop(columns=\"Department\", inplace=True)\n",
    "new_hp.drop_duplicates(subset=\"ASIN\", inplace=True)\n",
    "new_hp=new_hp.reset_index(drop=True)\n",
    "new_hp"
   ]
  },
  {
   "cell_type": "code",
   "execution_count": 232,
   "metadata": {},
   "outputs": [],
   "source": [
    "final_hp = new_hp"
   ]
  },
  {
   "cell_type": "code",
   "execution_count": 233,
   "metadata": {},
   "outputs": [
    {
     "output_type": "execute_result",
     "data": {
      "text/plain": [
       "(5172, 13)"
      ]
     },
     "metadata": {},
     "execution_count": 233
    }
   ],
   "source": [
    "final_hp.shape"
   ]
  },
  {
   "cell_type": "code",
   "execution_count": 234,
   "metadata": {},
   "outputs": [
    {
     "output_type": "execute_result",
     "data": {
      "text/plain": [
       "name                               5172\n",
       "Date First Available               5110\n",
       "Customer Reviews                   4954\n",
       "Batteries                          1592\n",
       "Package Dimensions                 2452\n",
       "Product Dimensions                 2624\n",
       "Manufacturer                       4998\n",
       "Item model number                  2776\n",
       "ASIN                               5172\n",
       "Item Weight                        5097\n",
       "Best Sellers Rank                  5122\n",
       "Is Discontinued By Manufacturer    1938\n",
       "seller                             4620\n",
       "dtype: int64"
      ]
     },
     "metadata": {},
     "execution_count": 234
    }
   ],
   "source": [
    "final_hp.notnull().sum()"
   ]
  },
  {
   "cell_type": "code",
   "execution_count": 235,
   "metadata": {},
   "outputs": [
    {
     "output_type": "execute_result",
     "data": {
      "text/plain": [
       "                                                name Date First Available  \\\n",
       "0  Artix CL750 Foldable Noise Isolating On Ear He...      January 2, 2020   \n",
       "1  Wireless Over-Ear Headphones with Deep Bass, F...        April 8, 2019   \n",
       "2  Sony MDRZX110/BLK ZX Series Stereo Headphones ...        July 28, 2017   \n",
       "3  Bluetooth Over-Ear Headphones, Zihnic Foldable...     November 9, 2018   \n",
       "4  TOZO T6 True Wireless Earbuds Bluetooth Headph...        July 31, 2020   \n",
       "\n",
       "                                    Customer Reviews  \\\n",
       "0  /*\\n* Fix for UDP-1061. Average customer revie...   \n",
       "1  /*\\n* Fix for UDP-1061. Average customer revie...   \n",
       "2  /*\\n* Fix for UDP-1061. Average customer revie...   \n",
       "3  /*\\n* Fix for UDP-1061. Average customer revie...   \n",
       "4  /*\\n* Fix for UDP-1061. Average customer revie...   \n",
       "\n",
       "                                           Batteries  \\\n",
       "0                                                NaN   \n",
       "1       1 Lithium ion batteries required. (included)   \n",
       "2                  1 Lithium ion batteries required.   \n",
       "3       1 Lithium ion batteries required. (included)   \n",
       "4  1 Product Specific batteries required. (included)   \n",
       "\n",
       "          Package Dimensions         Product Dimensions Manufacturer  \\\n",
       "0  9.06 x 7.95 x 3.54 inches                        NaN        Artix   \n",
       "1                        NaN    6.7 x 6.7 x 3.35 inches       Zihnic   \n",
       "2                        NaN  5.87 x 1.81 x 7.87 inches         Sony   \n",
       "3                        NaN    6.7 x 6.7 x 3.35 inches       Zihnic   \n",
       "4  4.61 x 4.57 x 1.46 inches                        NaN         TOZO   \n",
       "\n",
       "  Item model number        ASIN  Item Weight  \\\n",
       "0        750_Black1  B087JVV8FK  12.6 ounces   \n",
       "1               NaN  B07Q9M1LW9   9.9 ounces   \n",
       "2      MDRZX110/BLK  B00NJ2M33I   4.8 ounces   \n",
       "3        5962916614  B07K5214NZ  10.4 ounces   \n",
       "4                T6  B08F1SX35C   5.9 ounces   \n",
       "\n",
       "                    Best Sellers Rank Is Discontinued By Manufacturer  \\\n",
       "0            #35 in On-Ear Headphones                             NaN   \n",
       "1          #58 in Over-Ear Headphones                             NaN   \n",
       "2             #1 in On-Ear Headphones                              No   \n",
       "3           #6 in Over-Ear Headphones                              No   \n",
       "4  #108 in Earbud & In-Ear Headphones                              No   \n",
       "\n",
       "         seller  \n",
       "0  7thContinent  \n",
       "1        Zihnic  \n",
       "2          None  \n",
       "3        Zihnic  \n",
       "4       Accumie  "
      ],
      "text/html": "<div>\n<style scoped>\n    .dataframe tbody tr th:only-of-type {\n        vertical-align: middle;\n    }\n\n    .dataframe tbody tr th {\n        vertical-align: top;\n    }\n\n    .dataframe thead th {\n        text-align: right;\n    }\n</style>\n<table border=\"1\" class=\"dataframe\">\n  <thead>\n    <tr style=\"text-align: right;\">\n      <th></th>\n      <th>name</th>\n      <th>Date First Available</th>\n      <th>Customer Reviews</th>\n      <th>Batteries</th>\n      <th>Package Dimensions</th>\n      <th>Product Dimensions</th>\n      <th>Manufacturer</th>\n      <th>Item model number</th>\n      <th>ASIN</th>\n      <th>Item Weight</th>\n      <th>Best Sellers Rank</th>\n      <th>Is Discontinued By Manufacturer</th>\n      <th>seller</th>\n    </tr>\n  </thead>\n  <tbody>\n    <tr>\n      <th>0</th>\n      <td>Artix CL750 Foldable Noise Isolating On Ear He...</td>\n      <td>January 2, 2020</td>\n      <td>/*\\n* Fix for UDP-1061. Average customer revie...</td>\n      <td>NaN</td>\n      <td>9.06 x 7.95 x 3.54 inches</td>\n      <td>NaN</td>\n      <td>Artix</td>\n      <td>750_Black1</td>\n      <td>B087JVV8FK</td>\n      <td>12.6 ounces</td>\n      <td>#35 in On-Ear Headphones</td>\n      <td>NaN</td>\n      <td>7thContinent</td>\n    </tr>\n    <tr>\n      <th>1</th>\n      <td>Wireless Over-Ear Headphones with Deep Bass, F...</td>\n      <td>April 8, 2019</td>\n      <td>/*\\n* Fix for UDP-1061. Average customer revie...</td>\n      <td>1 Lithium ion batteries required. (included)</td>\n      <td>NaN</td>\n      <td>6.7 x 6.7 x 3.35 inches</td>\n      <td>Zihnic</td>\n      <td>NaN</td>\n      <td>B07Q9M1LW9</td>\n      <td>9.9 ounces</td>\n      <td>#58 in Over-Ear Headphones</td>\n      <td>NaN</td>\n      <td>Zihnic</td>\n    </tr>\n    <tr>\n      <th>2</th>\n      <td>Sony MDRZX110/BLK ZX Series Stereo Headphones ...</td>\n      <td>July 28, 2017</td>\n      <td>/*\\n* Fix for UDP-1061. Average customer revie...</td>\n      <td>1 Lithium ion batteries required.</td>\n      <td>NaN</td>\n      <td>5.87 x 1.81 x 7.87 inches</td>\n      <td>Sony</td>\n      <td>MDRZX110/BLK</td>\n      <td>B00NJ2M33I</td>\n      <td>4.8 ounces</td>\n      <td>#1 in On-Ear Headphones</td>\n      <td>No</td>\n      <td>None</td>\n    </tr>\n    <tr>\n      <th>3</th>\n      <td>Bluetooth Over-Ear Headphones, Zihnic Foldable...</td>\n      <td>November 9, 2018</td>\n      <td>/*\\n* Fix for UDP-1061. Average customer revie...</td>\n      <td>1 Lithium ion batteries required. (included)</td>\n      <td>NaN</td>\n      <td>6.7 x 6.7 x 3.35 inches</td>\n      <td>Zihnic</td>\n      <td>5962916614</td>\n      <td>B07K5214NZ</td>\n      <td>10.4 ounces</td>\n      <td>#6 in Over-Ear Headphones</td>\n      <td>No</td>\n      <td>Zihnic</td>\n    </tr>\n    <tr>\n      <th>4</th>\n      <td>TOZO T6 True Wireless Earbuds Bluetooth Headph...</td>\n      <td>July 31, 2020</td>\n      <td>/*\\n* Fix for UDP-1061. Average customer revie...</td>\n      <td>1 Product Specific batteries required. (included)</td>\n      <td>4.61 x 4.57 x 1.46 inches</td>\n      <td>NaN</td>\n      <td>TOZO</td>\n      <td>T6</td>\n      <td>B08F1SX35C</td>\n      <td>5.9 ounces</td>\n      <td>#108 in Earbud &amp; In-Ear Headphones</td>\n      <td>No</td>\n      <td>Accumie</td>\n    </tr>\n  </tbody>\n</table>\n</div>"
     },
     "metadata": {},
     "execution_count": 235
    }
   ],
   "source": [
    "final_hp.head()"
   ]
  },
  {
   "cell_type": "code",
   "execution_count": 236,
   "metadata": {},
   "outputs": [],
   "source": [
    "final_hp[\"Product Dimensions\"] = final_hp[\"Product Dimensions\"].fillna(final_hp[\"Package Dimensions\"])"
   ]
  },
  {
   "cell_type": "code",
   "execution_count": 237,
   "metadata": {},
   "outputs": [
    {
     "output_type": "execute_result",
     "data": {
      "text/plain": [
       "                                                   name Date First Available  \\\n",
       "0     Artix CL750 Foldable Noise Isolating On Ear He...      January 2, 2020   \n",
       "1     Wireless Over-Ear Headphones with Deep Bass, F...        April 8, 2019   \n",
       "2     Sony MDRZX110/BLK ZX Series Stereo Headphones ...        July 28, 2017   \n",
       "3     Bluetooth Over-Ear Headphones, Zihnic Foldable...     November 9, 2018   \n",
       "4     TOZO T6 True Wireless Earbuds Bluetooth Headph...        July 31, 2020   \n",
       "...                                                 ...                  ...   \n",
       "5167  Tosuny Computer Headset with Mic USB Headphone...          May 6, 2020   \n",
       "5168  DISNEY COLLECTION Black Hard Plastic Case for ...    December 19, 2020   \n",
       "5169  Lavien Replacement Ear Pads for Bose SoundLink...     November 7, 2019   \n",
       "5170  PHONSUN Headphone Audio Jack Flex Cable for LG...        March 9, 2017   \n",
       "5171  Bluetooth Beanie Hat Cap Winter Knit Toque wit...      October 2, 2016   \n",
       "\n",
       "                                       Customer Reviews  \\\n",
       "0     /*\\n* Fix for UDP-1061. Average customer revie...   \n",
       "1     /*\\n* Fix for UDP-1061. Average customer revie...   \n",
       "2     /*\\n* Fix for UDP-1061. Average customer revie...   \n",
       "3     /*\\n* Fix for UDP-1061. Average customer revie...   \n",
       "4     /*\\n* Fix for UDP-1061. Average customer revie...   \n",
       "...                                                 ...   \n",
       "5167  /*\\n* Fix for UDP-1061. Average customer revie...   \n",
       "5168  /*\\n* Fix for UDP-1061. Average customer revie...   \n",
       "5169  /*\\n* Fix for UDP-1061. Average customer revie...   \n",
       "5170  /*\\n* Fix for UDP-1061. Average customer revie...   \n",
       "5171  /*\\n* Fix for UDP-1061. Average customer revie...   \n",
       "\n",
       "                                              Batteries  \\\n",
       "0                                                   NaN   \n",
       "1          1 Lithium ion batteries required. (included)   \n",
       "2                     1 Lithium ion batteries required.   \n",
       "3          1 Lithium ion batteries required. (included)   \n",
       "4     1 Product Specific batteries required. (included)   \n",
       "...                                                 ...   \n",
       "5167                                                NaN   \n",
       "5168                                                NaN   \n",
       "5169                                                NaN   \n",
       "5170                                                NaN   \n",
       "5171       1 Lithium ion batteries required. (included)   \n",
       "\n",
       "              Package Dimensions          Product Dimensions  \\\n",
       "0      9.06 x 7.95 x 3.54 inches   9.06 x 7.95 x 3.54 inches   \n",
       "1                            NaN     6.7 x 6.7 x 3.35 inches   \n",
       "2                            NaN   5.87 x 1.81 x 7.87 inches   \n",
       "3                            NaN     6.7 x 6.7 x 3.35 inches   \n",
       "4      4.61 x 4.57 x 1.46 inches   4.61 x 4.57 x 1.46 inches   \n",
       "...                          ...                         ...   \n",
       "5167                         NaN                         NaN   \n",
       "5168                         NaN   1.85 x 1.06 x 2.24 inches   \n",
       "5169   6.69 x 4.57 x 0.55 inches   6.69 x 4.57 x 0.55 inches   \n",
       "5170                         NaN   7.48 x 3.15 x 0.59 inches   \n",
       "5171  11.02 x 9.57 x 1.38 inches  11.02 x 9.57 x 1.38 inches   \n",
       "\n",
       "           Manufacturer Item model number        ASIN   Item Weight  \\\n",
       "0                 Artix        750_Black1  B087JVV8FK   12.6 ounces   \n",
       "1                Zihnic               NaN  B07Q9M1LW9    9.9 ounces   \n",
       "2                  Sony      MDRZX110/BLK  B00NJ2M33I    4.8 ounces   \n",
       "3                Zihnic        5962916614  B07K5214NZ   10.4 ounces   \n",
       "4                  TOZO                T6  B08F1SX35C    5.9 ounces   \n",
       "...                 ...               ...         ...           ...   \n",
       "5167             Tosuny               NaN  B0886CKLN3   2.11 ounces   \n",
       "5168  DISNEY COLLECTION               NaN  B08R1YRVG2    4.8 ounces   \n",
       "5169         Lavien LLC               NaN  B0814WJ4NL  0.739 ounces   \n",
       "5170                Gen        4351631155  B07M6184SP  0.176 ounces   \n",
       "5171     aBrilliantLife               NaN  B07MV48RN6    4.6 ounces   \n",
       "\n",
       "                                      Best Sellers Rank  \\\n",
       "0                              #35 in On-Ear Headphones   \n",
       "1                            #58 in Over-Ear Headphones   \n",
       "2                               #1 in On-Ear Headphones   \n",
       "3                             #6 in Over-Ear Headphones   \n",
       "4                    #108 in Earbud & In-Ear Headphones   \n",
       "...                                                 ...   \n",
       "5167                        #1,139 in Computer Headsets   \n",
       "5168                          #3,788 in Headphone Cases   \n",
       "5169                        #1,699 in Headphone Earpads   \n",
       "5170  #215,144 in Cell Phones & Accessories ( See To...   \n",
       "5171                                                NaN   \n",
       "\n",
       "     Is Discontinued By Manufacturer          seller  \n",
       "0                                NaN    7thContinent  \n",
       "1                                NaN          Zihnic  \n",
       "2                                 No            None  \n",
       "3                                 No          Zihnic  \n",
       "4                                 No         Accumie  \n",
       "...                              ...             ...  \n",
       "5167                             NaN       Tosuny-us  \n",
       "5168                             NaN           OHYOu  \n",
       "5169                             NaN      Lavien LLC  \n",
       "5170                              No         PHONSUN  \n",
       "5171                              No  aBrilliantLife  \n",
       "\n",
       "[5172 rows x 13 columns]"
      ],
      "text/html": "<div>\n<style scoped>\n    .dataframe tbody tr th:only-of-type {\n        vertical-align: middle;\n    }\n\n    .dataframe tbody tr th {\n        vertical-align: top;\n    }\n\n    .dataframe thead th {\n        text-align: right;\n    }\n</style>\n<table border=\"1\" class=\"dataframe\">\n  <thead>\n    <tr style=\"text-align: right;\">\n      <th></th>\n      <th>name</th>\n      <th>Date First Available</th>\n      <th>Customer Reviews</th>\n      <th>Batteries</th>\n      <th>Package Dimensions</th>\n      <th>Product Dimensions</th>\n      <th>Manufacturer</th>\n      <th>Item model number</th>\n      <th>ASIN</th>\n      <th>Item Weight</th>\n      <th>Best Sellers Rank</th>\n      <th>Is Discontinued By Manufacturer</th>\n      <th>seller</th>\n    </tr>\n  </thead>\n  <tbody>\n    <tr>\n      <th>0</th>\n      <td>Artix CL750 Foldable Noise Isolating On Ear He...</td>\n      <td>January 2, 2020</td>\n      <td>/*\\n* Fix for UDP-1061. Average customer revie...</td>\n      <td>NaN</td>\n      <td>9.06 x 7.95 x 3.54 inches</td>\n      <td>9.06 x 7.95 x 3.54 inches</td>\n      <td>Artix</td>\n      <td>750_Black1</td>\n      <td>B087JVV8FK</td>\n      <td>12.6 ounces</td>\n      <td>#35 in On-Ear Headphones</td>\n      <td>NaN</td>\n      <td>7thContinent</td>\n    </tr>\n    <tr>\n      <th>1</th>\n      <td>Wireless Over-Ear Headphones with Deep Bass, F...</td>\n      <td>April 8, 2019</td>\n      <td>/*\\n* Fix for UDP-1061. Average customer revie...</td>\n      <td>1 Lithium ion batteries required. (included)</td>\n      <td>NaN</td>\n      <td>6.7 x 6.7 x 3.35 inches</td>\n      <td>Zihnic</td>\n      <td>NaN</td>\n      <td>B07Q9M1LW9</td>\n      <td>9.9 ounces</td>\n      <td>#58 in Over-Ear Headphones</td>\n      <td>NaN</td>\n      <td>Zihnic</td>\n    </tr>\n    <tr>\n      <th>2</th>\n      <td>Sony MDRZX110/BLK ZX Series Stereo Headphones ...</td>\n      <td>July 28, 2017</td>\n      <td>/*\\n* Fix for UDP-1061. Average customer revie...</td>\n      <td>1 Lithium ion batteries required.</td>\n      <td>NaN</td>\n      <td>5.87 x 1.81 x 7.87 inches</td>\n      <td>Sony</td>\n      <td>MDRZX110/BLK</td>\n      <td>B00NJ2M33I</td>\n      <td>4.8 ounces</td>\n      <td>#1 in On-Ear Headphones</td>\n      <td>No</td>\n      <td>None</td>\n    </tr>\n    <tr>\n      <th>3</th>\n      <td>Bluetooth Over-Ear Headphones, Zihnic Foldable...</td>\n      <td>November 9, 2018</td>\n      <td>/*\\n* Fix for UDP-1061. Average customer revie...</td>\n      <td>1 Lithium ion batteries required. (included)</td>\n      <td>NaN</td>\n      <td>6.7 x 6.7 x 3.35 inches</td>\n      <td>Zihnic</td>\n      <td>5962916614</td>\n      <td>B07K5214NZ</td>\n      <td>10.4 ounces</td>\n      <td>#6 in Over-Ear Headphones</td>\n      <td>No</td>\n      <td>Zihnic</td>\n    </tr>\n    <tr>\n      <th>4</th>\n      <td>TOZO T6 True Wireless Earbuds Bluetooth Headph...</td>\n      <td>July 31, 2020</td>\n      <td>/*\\n* Fix for UDP-1061. Average customer revie...</td>\n      <td>1 Product Specific batteries required. (included)</td>\n      <td>4.61 x 4.57 x 1.46 inches</td>\n      <td>4.61 x 4.57 x 1.46 inches</td>\n      <td>TOZO</td>\n      <td>T6</td>\n      <td>B08F1SX35C</td>\n      <td>5.9 ounces</td>\n      <td>#108 in Earbud &amp; In-Ear Headphones</td>\n      <td>No</td>\n      <td>Accumie</td>\n    </tr>\n    <tr>\n      <th>...</th>\n      <td>...</td>\n      <td>...</td>\n      <td>...</td>\n      <td>...</td>\n      <td>...</td>\n      <td>...</td>\n      <td>...</td>\n      <td>...</td>\n      <td>...</td>\n      <td>...</td>\n      <td>...</td>\n      <td>...</td>\n      <td>...</td>\n    </tr>\n    <tr>\n      <th>5167</th>\n      <td>Tosuny Computer Headset with Mic USB Headphone...</td>\n      <td>May 6, 2020</td>\n      <td>/*\\n* Fix for UDP-1061. Average customer revie...</td>\n      <td>NaN</td>\n      <td>NaN</td>\n      <td>NaN</td>\n      <td>Tosuny</td>\n      <td>NaN</td>\n      <td>B0886CKLN3</td>\n      <td>2.11 ounces</td>\n      <td>#1,139 in Computer Headsets</td>\n      <td>NaN</td>\n      <td>Tosuny-us</td>\n    </tr>\n    <tr>\n      <th>5168</th>\n      <td>DISNEY COLLECTION Black Hard Plastic Case for ...</td>\n      <td>December 19, 2020</td>\n      <td>/*\\n* Fix for UDP-1061. Average customer revie...</td>\n      <td>NaN</td>\n      <td>NaN</td>\n      <td>1.85 x 1.06 x 2.24 inches</td>\n      <td>DISNEY COLLECTION</td>\n      <td>NaN</td>\n      <td>B08R1YRVG2</td>\n      <td>4.8 ounces</td>\n      <td>#3,788 in Headphone Cases</td>\n      <td>NaN</td>\n      <td>OHYOu</td>\n    </tr>\n    <tr>\n      <th>5169</th>\n      <td>Lavien Replacement Ear Pads for Bose SoundLink...</td>\n      <td>November 7, 2019</td>\n      <td>/*\\n* Fix for UDP-1061. Average customer revie...</td>\n      <td>NaN</td>\n      <td>6.69 x 4.57 x 0.55 inches</td>\n      <td>6.69 x 4.57 x 0.55 inches</td>\n      <td>Lavien LLC</td>\n      <td>NaN</td>\n      <td>B0814WJ4NL</td>\n      <td>0.739 ounces</td>\n      <td>#1,699 in Headphone Earpads</td>\n      <td>NaN</td>\n      <td>Lavien LLC</td>\n    </tr>\n    <tr>\n      <th>5170</th>\n      <td>PHONSUN Headphone Audio Jack Flex Cable for LG...</td>\n      <td>March 9, 2017</td>\n      <td>/*\\n* Fix for UDP-1061. Average customer revie...</td>\n      <td>NaN</td>\n      <td>NaN</td>\n      <td>7.48 x 3.15 x 0.59 inches</td>\n      <td>Gen</td>\n      <td>4351631155</td>\n      <td>B07M6184SP</td>\n      <td>0.176 ounces</td>\n      <td>#215,144 in Cell Phones &amp; Accessories ( See To...</td>\n      <td>No</td>\n      <td>PHONSUN</td>\n    </tr>\n    <tr>\n      <th>5171</th>\n      <td>Bluetooth Beanie Hat Cap Winter Knit Toque wit...</td>\n      <td>October 2, 2016</td>\n      <td>/*\\n* Fix for UDP-1061. Average customer revie...</td>\n      <td>1 Lithium ion batteries required. (included)</td>\n      <td>11.02 x 9.57 x 1.38 inches</td>\n      <td>11.02 x 9.57 x 1.38 inches</td>\n      <td>aBrilliantLife</td>\n      <td>NaN</td>\n      <td>B07MV48RN6</td>\n      <td>4.6 ounces</td>\n      <td>NaN</td>\n      <td>No</td>\n      <td>aBrilliantLife</td>\n    </tr>\n  </tbody>\n</table>\n<p>5172 rows × 13 columns</p>\n</div>"
     },
     "metadata": {},
     "execution_count": 237
    }
   ],
   "source": [
    "final_hp=final_hp.reset_index(drop=True)\n",
    "final_hp"
   ]
  },
  {
   "cell_type": "code",
   "execution_count": 238,
   "metadata": {},
   "outputs": [],
   "source": [
    "final_hp.drop(columns=\"Package Dimensions\",inplace=True)"
   ]
  },
  {
   "cell_type": "code",
   "execution_count": 239,
   "metadata": {},
   "outputs": [],
   "source": [
    "final_hp= final_hp.rename(columns={\"Product Dimensions\":\"Product_Dimensions_(inches)\"})"
   ]
  },
  {
   "cell_type": "code",
   "execution_count": 240,
   "metadata": {},
   "outputs": [],
   "source": [
    "final_hp[\"Product_Dimensions_(inches)\"]=final_hp[\"Product_Dimensions_(inches)\"].str.strip(\"inches\")"
   ]
  },
  {
   "cell_type": "code",
   "execution_count": 241,
   "metadata": {},
   "outputs": [
    {
     "output_type": "execute_result",
     "data": {
      "text/plain": [
       "                                                   name Date First Available  \\\n",
       "0     Artix CL750 Foldable Noise Isolating On Ear He...      January 2, 2020   \n",
       "1     Wireless Over-Ear Headphones with Deep Bass, F...        April 8, 2019   \n",
       "2     Sony MDRZX110/BLK ZX Series Stereo Headphones ...        July 28, 2017   \n",
       "3     Bluetooth Over-Ear Headphones, Zihnic Foldable...     November 9, 2018   \n",
       "4     TOZO T6 True Wireless Earbuds Bluetooth Headph...        July 31, 2020   \n",
       "...                                                 ...                  ...   \n",
       "5167  Tosuny Computer Headset with Mic USB Headphone...          May 6, 2020   \n",
       "5168  DISNEY COLLECTION Black Hard Plastic Case for ...    December 19, 2020   \n",
       "5169  Lavien Replacement Ear Pads for Bose SoundLink...     November 7, 2019   \n",
       "5170  PHONSUN Headphone Audio Jack Flex Cable for LG...        March 9, 2017   \n",
       "5171  Bluetooth Beanie Hat Cap Winter Knit Toque wit...      October 2, 2016   \n",
       "\n",
       "                                       Customer Reviews  \\\n",
       "0     /*\\n* Fix for UDP-1061. Average customer revie...   \n",
       "1     /*\\n* Fix for UDP-1061. Average customer revie...   \n",
       "2     /*\\n* Fix for UDP-1061. Average customer revie...   \n",
       "3     /*\\n* Fix for UDP-1061. Average customer revie...   \n",
       "4     /*\\n* Fix for UDP-1061. Average customer revie...   \n",
       "...                                                 ...   \n",
       "5167  /*\\n* Fix for UDP-1061. Average customer revie...   \n",
       "5168  /*\\n* Fix for UDP-1061. Average customer revie...   \n",
       "5169  /*\\n* Fix for UDP-1061. Average customer revie...   \n",
       "5170  /*\\n* Fix for UDP-1061. Average customer revie...   \n",
       "5171  /*\\n* Fix for UDP-1061. Average customer revie...   \n",
       "\n",
       "                                              Batteries  \\\n",
       "0                                                   NaN   \n",
       "1          1 Lithium ion batteries required. (included)   \n",
       "2                     1 Lithium ion batteries required.   \n",
       "3          1 Lithium ion batteries required. (included)   \n",
       "4     1 Product Specific batteries required. (included)   \n",
       "...                                                 ...   \n",
       "5167                                                NaN   \n",
       "5168                                                NaN   \n",
       "5169                                                NaN   \n",
       "5170                                                NaN   \n",
       "5171       1 Lithium ion batteries required. (included)   \n",
       "\n",
       "     Product_Dimensions_(inches)       Manufacturer Item model number  \\\n",
       "0            9.06 x 7.95 x 3.54               Artix        750_Black1   \n",
       "1              6.7 x 6.7 x 3.35              Zihnic               NaN   \n",
       "2            5.87 x 1.81 x 7.87                Sony      MDRZX110/BLK   \n",
       "3              6.7 x 6.7 x 3.35              Zihnic        5962916614   \n",
       "4            4.61 x 4.57 x 1.46                TOZO                T6   \n",
       "...                          ...                ...               ...   \n",
       "5167                         NaN             Tosuny               NaN   \n",
       "5168         1.85 x 1.06 x 2.24   DISNEY COLLECTION               NaN   \n",
       "5169         6.69 x 4.57 x 0.55          Lavien LLC               NaN   \n",
       "5170         7.48 x 3.15 x 0.59                 Gen        4351631155   \n",
       "5171        11.02 x 9.57 x 1.38      aBrilliantLife               NaN   \n",
       "\n",
       "            ASIN  Item Weight  \\\n",
       "0     B087JVV8FK      2.01600   \n",
       "1     B07Q9M1LW9      1.58400   \n",
       "2     B00NJ2M33I      0.76800   \n",
       "3     B07K5214NZ      1.66400   \n",
       "4     B08F1SX35C      0.94400   \n",
       "...          ...          ...   \n",
       "5167  B0886CKLN3      0.33760   \n",
       "5168  B08R1YRVG2      0.76800   \n",
       "5169  B0814WJ4NL      0.11824   \n",
       "5170  B07M6184SP      0.02816   \n",
       "5171  B07MV48RN6      0.73600   \n",
       "\n",
       "                                      Best Sellers Rank  \\\n",
       "0                              #35 in On-Ear Headphones   \n",
       "1                            #58 in Over-Ear Headphones   \n",
       "2                               #1 in On-Ear Headphones   \n",
       "3                             #6 in Over-Ear Headphones   \n",
       "4                    #108 in Earbud & In-Ear Headphones   \n",
       "...                                                 ...   \n",
       "5167                        #1,139 in Computer Headsets   \n",
       "5168                          #3,788 in Headphone Cases   \n",
       "5169                        #1,699 in Headphone Earpads   \n",
       "5170  #215,144 in Cell Phones & Accessories ( See To...   \n",
       "5171                                                NaN   \n",
       "\n",
       "     Is Discontinued By Manufacturer          seller  \n",
       "0                                NaN    7thContinent  \n",
       "1                                NaN          Zihnic  \n",
       "2                                 No            None  \n",
       "3                                 No          Zihnic  \n",
       "4                                 No         Accumie  \n",
       "...                              ...             ...  \n",
       "5167                             NaN       Tosuny-us  \n",
       "5168                             NaN           OHYOu  \n",
       "5169                             NaN      Lavien LLC  \n",
       "5170                              No         PHONSUN  \n",
       "5171                              No  aBrilliantLife  \n",
       "\n",
       "[5172 rows x 12 columns]"
      ],
      "text/html": "<div>\n<style scoped>\n    .dataframe tbody tr th:only-of-type {\n        vertical-align: middle;\n    }\n\n    .dataframe tbody tr th {\n        vertical-align: top;\n    }\n\n    .dataframe thead th {\n        text-align: right;\n    }\n</style>\n<table border=\"1\" class=\"dataframe\">\n  <thead>\n    <tr style=\"text-align: right;\">\n      <th></th>\n      <th>name</th>\n      <th>Date First Available</th>\n      <th>Customer Reviews</th>\n      <th>Batteries</th>\n      <th>Product_Dimensions_(inches)</th>\n      <th>Manufacturer</th>\n      <th>Item model number</th>\n      <th>ASIN</th>\n      <th>Item Weight</th>\n      <th>Best Sellers Rank</th>\n      <th>Is Discontinued By Manufacturer</th>\n      <th>seller</th>\n    </tr>\n  </thead>\n  <tbody>\n    <tr>\n      <th>0</th>\n      <td>Artix CL750 Foldable Noise Isolating On Ear He...</td>\n      <td>January 2, 2020</td>\n      <td>/*\\n* Fix for UDP-1061. Average customer revie...</td>\n      <td>NaN</td>\n      <td>9.06 x 7.95 x 3.54</td>\n      <td>Artix</td>\n      <td>750_Black1</td>\n      <td>B087JVV8FK</td>\n      <td>2.01600</td>\n      <td>#35 in On-Ear Headphones</td>\n      <td>NaN</td>\n      <td>7thContinent</td>\n    </tr>\n    <tr>\n      <th>1</th>\n      <td>Wireless Over-Ear Headphones with Deep Bass, F...</td>\n      <td>April 8, 2019</td>\n      <td>/*\\n* Fix for UDP-1061. Average customer revie...</td>\n      <td>1 Lithium ion batteries required. (included)</td>\n      <td>6.7 x 6.7 x 3.35</td>\n      <td>Zihnic</td>\n      <td>NaN</td>\n      <td>B07Q9M1LW9</td>\n      <td>1.58400</td>\n      <td>#58 in Over-Ear Headphones</td>\n      <td>NaN</td>\n      <td>Zihnic</td>\n    </tr>\n    <tr>\n      <th>2</th>\n      <td>Sony MDRZX110/BLK ZX Series Stereo Headphones ...</td>\n      <td>July 28, 2017</td>\n      <td>/*\\n* Fix for UDP-1061. Average customer revie...</td>\n      <td>1 Lithium ion batteries required.</td>\n      <td>5.87 x 1.81 x 7.87</td>\n      <td>Sony</td>\n      <td>MDRZX110/BLK</td>\n      <td>B00NJ2M33I</td>\n      <td>0.76800</td>\n      <td>#1 in On-Ear Headphones</td>\n      <td>No</td>\n      <td>None</td>\n    </tr>\n    <tr>\n      <th>3</th>\n      <td>Bluetooth Over-Ear Headphones, Zihnic Foldable...</td>\n      <td>November 9, 2018</td>\n      <td>/*\\n* Fix for UDP-1061. Average customer revie...</td>\n      <td>1 Lithium ion batteries required. (included)</td>\n      <td>6.7 x 6.7 x 3.35</td>\n      <td>Zihnic</td>\n      <td>5962916614</td>\n      <td>B07K5214NZ</td>\n      <td>1.66400</td>\n      <td>#6 in Over-Ear Headphones</td>\n      <td>No</td>\n      <td>Zihnic</td>\n    </tr>\n    <tr>\n      <th>4</th>\n      <td>TOZO T6 True Wireless Earbuds Bluetooth Headph...</td>\n      <td>July 31, 2020</td>\n      <td>/*\\n* Fix for UDP-1061. Average customer revie...</td>\n      <td>1 Product Specific batteries required. (included)</td>\n      <td>4.61 x 4.57 x 1.46</td>\n      <td>TOZO</td>\n      <td>T6</td>\n      <td>B08F1SX35C</td>\n      <td>0.94400</td>\n      <td>#108 in Earbud &amp; In-Ear Headphones</td>\n      <td>No</td>\n      <td>Accumie</td>\n    </tr>\n    <tr>\n      <th>...</th>\n      <td>...</td>\n      <td>...</td>\n      <td>...</td>\n      <td>...</td>\n      <td>...</td>\n      <td>...</td>\n      <td>...</td>\n      <td>...</td>\n      <td>...</td>\n      <td>...</td>\n      <td>...</td>\n      <td>...</td>\n    </tr>\n    <tr>\n      <th>5167</th>\n      <td>Tosuny Computer Headset with Mic USB Headphone...</td>\n      <td>May 6, 2020</td>\n      <td>/*\\n* Fix for UDP-1061. Average customer revie...</td>\n      <td>NaN</td>\n      <td>NaN</td>\n      <td>Tosuny</td>\n      <td>NaN</td>\n      <td>B0886CKLN3</td>\n      <td>0.33760</td>\n      <td>#1,139 in Computer Headsets</td>\n      <td>NaN</td>\n      <td>Tosuny-us</td>\n    </tr>\n    <tr>\n      <th>5168</th>\n      <td>DISNEY COLLECTION Black Hard Plastic Case for ...</td>\n      <td>December 19, 2020</td>\n      <td>/*\\n* Fix for UDP-1061. Average customer revie...</td>\n      <td>NaN</td>\n      <td>1.85 x 1.06 x 2.24</td>\n      <td>DISNEY COLLECTION</td>\n      <td>NaN</td>\n      <td>B08R1YRVG2</td>\n      <td>0.76800</td>\n      <td>#3,788 in Headphone Cases</td>\n      <td>NaN</td>\n      <td>OHYOu</td>\n    </tr>\n    <tr>\n      <th>5169</th>\n      <td>Lavien Replacement Ear Pads for Bose SoundLink...</td>\n      <td>November 7, 2019</td>\n      <td>/*\\n* Fix for UDP-1061. Average customer revie...</td>\n      <td>NaN</td>\n      <td>6.69 x 4.57 x 0.55</td>\n      <td>Lavien LLC</td>\n      <td>NaN</td>\n      <td>B0814WJ4NL</td>\n      <td>0.11824</td>\n      <td>#1,699 in Headphone Earpads</td>\n      <td>NaN</td>\n      <td>Lavien LLC</td>\n    </tr>\n    <tr>\n      <th>5170</th>\n      <td>PHONSUN Headphone Audio Jack Flex Cable for LG...</td>\n      <td>March 9, 2017</td>\n      <td>/*\\n* Fix for UDP-1061. Average customer revie...</td>\n      <td>NaN</td>\n      <td>7.48 x 3.15 x 0.59</td>\n      <td>Gen</td>\n      <td>4351631155</td>\n      <td>B07M6184SP</td>\n      <td>0.02816</td>\n      <td>#215,144 in Cell Phones &amp; Accessories ( See To...</td>\n      <td>No</td>\n      <td>PHONSUN</td>\n    </tr>\n    <tr>\n      <th>5171</th>\n      <td>Bluetooth Beanie Hat Cap Winter Knit Toque wit...</td>\n      <td>October 2, 2016</td>\n      <td>/*\\n* Fix for UDP-1061. Average customer revie...</td>\n      <td>1 Lithium ion batteries required. (included)</td>\n      <td>11.02 x 9.57 x 1.38</td>\n      <td>aBrilliantLife</td>\n      <td>NaN</td>\n      <td>B07MV48RN6</td>\n      <td>0.73600</td>\n      <td>NaN</td>\n      <td>No</td>\n      <td>aBrilliantLife</td>\n    </tr>\n  </tbody>\n</table>\n<p>5172 rows × 12 columns</p>\n</div>"
     },
     "metadata": {},
     "execution_count": 241
    }
   ],
   "source": [
    "a = final_hp[\"Item Weight\"].str.split(expand=True)\n",
    "a.columns=[\"a\",\"b\"]\n",
    "a.a = a['a'].astype(float)\n",
    "a['a'] = np.where(a['b'] == 'ounces',a['a'] * 0.16 ,a['a'])\n",
    "final_hp[\"Item Weight\"] = a['a']\n",
    "final_hp"
   ]
  },
  {
   "cell_type": "code",
   "execution_count": 242,
   "metadata": {},
   "outputs": [
    {
     "output_type": "execute_result",
     "data": {
      "text/plain": [
       "['name',\n",
       " 'Date First Available',\n",
       " 'Customer Reviews',\n",
       " 'Batteries',\n",
       " 'Product_Dimensions_(inches)',\n",
       " 'Manufacturer',\n",
       " 'Item model number',\n",
       " 'ASIN',\n",
       " 'Item Weight',\n",
       " 'Best Sellers Rank',\n",
       " 'Is Discontinued By Manufacturer',\n",
       " 'seller']"
      ]
     },
     "metadata": {},
     "execution_count": 242
    }
   ],
   "source": [
    "list(final_hp.columns)"
   ]
  },
  {
   "cell_type": "code",
   "execution_count": 243,
   "metadata": {},
   "outputs": [
    {
     "output_type": "execute_result",
     "data": {
      "text/plain": [
       "name                                       object\n",
       "Date First Available               datetime64[ns]\n",
       "Customer Reviews                           object\n",
       "Batteries                                  object\n",
       "Product_Dimensions_(inches)                object\n",
       "Manufacturer                               object\n",
       "Item model number                          object\n",
       "ASIN                                       object\n",
       "Item Weight                               float64\n",
       "Best Sellers Rank                          object\n",
       "Is Discontinued By Manufacturer            object\n",
       "seller                                     object\n",
       "dtype: object"
      ]
     },
     "metadata": {},
     "execution_count": 243
    }
   ],
   "source": [
    "final_hp[\"Date First Available\"] = pd.to_datetime(final_hp['Date First Available'])\n",
    "final_hp.dtypes"
   ]
  },
  {
   "cell_type": "code",
   "execution_count": 244,
   "metadata": {},
   "outputs": [],
   "source": [
    "final_hp = final_hp[['ASIN', 'name','Manufacturer', 'Product_Dimensions_(inches)', 'Batteries', 'Date First Available', 'Item Weight', 'Is Discontinued By Manufacturer', 'Best Sellers Rank','Customer Reviews','Item model number', 'seller']]"
   ]
  },
  {
   "cell_type": "code",
   "execution_count": 245,
   "metadata": {},
   "outputs": [],
   "source": [
    "a = final_hp['Best Sellers Rank'].str.split(expand=True)\n",
    "a.columns=['c1', 'c2', 'c3', 'c4','c5','c6','c7', 'c8', 'c9', 'c41','c51','c61','c12', 'c22', 'c32', 'c42','c52','c62','c13', 'c23', 'c33', 'c43','c53','c63','c14', 'c24', 'c34', 'c44','c54','c64',\"c74\",\"c75\"]\n",
    "a[\"c1\"]  = a[\"c1\"] .str.replace('#', '').str.replace(',', '')"
   ]
  },
  {
   "cell_type": "code",
   "execution_count": 246,
   "metadata": {},
   "outputs": [
    {
     "output_type": "execute_result",
     "data": {
      "text/plain": [
       "32"
      ]
     },
     "metadata": {},
     "execution_count": 246
    }
   ],
   "source": [
    "len(a.columns)"
   ]
  },
  {
   "cell_type": "code",
   "execution_count": 247,
   "metadata": {},
   "outputs": [
    {
     "output_type": "execute_result",
     "data": {
      "text/plain": [
       "     Seller_rank\n",
       "0             35\n",
       "1             58\n",
       "2              1\n",
       "3              6\n",
       "4            108\n",
       "...          ...\n",
       "5167        1139\n",
       "5168        3788\n",
       "5169        1699\n",
       "5170      215144\n",
       "5171         NaN\n",
       "\n",
       "[5172 rows x 1 columns]"
      ],
      "text/html": "<div>\n<style scoped>\n    .dataframe tbody tr th:only-of-type {\n        vertical-align: middle;\n    }\n\n    .dataframe tbody tr th {\n        vertical-align: top;\n    }\n\n    .dataframe thead th {\n        text-align: right;\n    }\n</style>\n<table border=\"1\" class=\"dataframe\">\n  <thead>\n    <tr style=\"text-align: right;\">\n      <th></th>\n      <th>Seller_rank</th>\n    </tr>\n  </thead>\n  <tbody>\n    <tr>\n      <th>0</th>\n      <td>35</td>\n    </tr>\n    <tr>\n      <th>1</th>\n      <td>58</td>\n    </tr>\n    <tr>\n      <th>2</th>\n      <td>1</td>\n    </tr>\n    <tr>\n      <th>3</th>\n      <td>6</td>\n    </tr>\n    <tr>\n      <th>4</th>\n      <td>108</td>\n    </tr>\n    <tr>\n      <th>...</th>\n      <td>...</td>\n    </tr>\n    <tr>\n      <th>5167</th>\n      <td>1139</td>\n    </tr>\n    <tr>\n      <th>5168</th>\n      <td>3788</td>\n    </tr>\n    <tr>\n      <th>5169</th>\n      <td>1699</td>\n    </tr>\n    <tr>\n      <th>5170</th>\n      <td>215144</td>\n    </tr>\n    <tr>\n      <th>5171</th>\n      <td>NaN</td>\n    </tr>\n  </tbody>\n</table>\n<p>5172 rows × 1 columns</p>\n</div>"
     },
     "metadata": {},
     "execution_count": 247
    }
   ],
   "source": [
    "a=a.rename(columns={\"c1\":\"Seller_rank\"})\n",
    "x= pd.DataFrame(a.Seller_rank)\n",
    "x"
   ]
  },
  {
   "cell_type": "code",
   "execution_count": 248,
   "metadata": {},
   "outputs": [
    {
     "output_type": "execute_result",
     "data": {
      "text/plain": [
       "     Seller_rank   c2         c3          c4      c5           c6    c7    c8  \\\n",
       "0             35   in     On-Ear  Headphones    None         None  None  None   \n",
       "1             58   in   Over-Ear  Headphones    None         None  None  None   \n",
       "2              1   in     On-Ear  Headphones    None         None  None  None   \n",
       "3              6   in   Over-Ear  Headphones    None         None  None  None   \n",
       "4            108   in     Earbud           &  In-Ear   Headphones  None  None   \n",
       "...          ...  ...        ...         ...     ...          ...   ...   ...   \n",
       "5167        1139   in   Computer    Headsets    None         None  None  None   \n",
       "5168        3788   in  Headphone       Cases    None         None  None  None   \n",
       "5169        1699   in  Headphone     Earpads    None         None  None  None   \n",
       "5170      215144   in       Cell      Phones       &  Accessories     (   See   \n",
       "5171         NaN  NaN        NaN         NaN     NaN          NaN   NaN   NaN   \n",
       "\n",
       "        c9   c41  ...   c53   c63   c14   c24   c34   c44   c54   c64   c74  \\\n",
       "0     None  None  ...  None  None  None  None  None  None  None  None  None   \n",
       "1     None  None  ...  None  None  None  None  None  None  None  None  None   \n",
       "2     None  None  ...  None  None  None  None  None  None  None  None  None   \n",
       "3     None  None  ...  None  None  None  None  None  None  None  None  None   \n",
       "4     None  None  ...  None  None  None  None  None  None  None  None  None   \n",
       "...    ...   ...  ...   ...   ...   ...   ...   ...   ...   ...   ...   ...   \n",
       "5167  None  None  ...  None  None  None  None  None  None  None  None  None   \n",
       "5168  None  None  ...  None  None  None  None  None  None  None  None  None   \n",
       "5169  None  None  ...  None  None  None  None  None  None  None  None  None   \n",
       "5170   Top   100  ...  None  None  None  None  None  None  None  None  None   \n",
       "5171   NaN   NaN  ...   NaN   NaN   NaN   NaN   NaN   NaN   NaN   NaN   NaN   \n",
       "\n",
       "       c75  \n",
       "0     None  \n",
       "1     None  \n",
       "2     None  \n",
       "3     None  \n",
       "4     None  \n",
       "...    ...  \n",
       "5167  None  \n",
       "5168  None  \n",
       "5169  None  \n",
       "5170  None  \n",
       "5171   NaN  \n",
       "\n",
       "[5172 rows x 32 columns]"
      ],
      "text/html": "<div>\n<style scoped>\n    .dataframe tbody tr th:only-of-type {\n        vertical-align: middle;\n    }\n\n    .dataframe tbody tr th {\n        vertical-align: top;\n    }\n\n    .dataframe thead th {\n        text-align: right;\n    }\n</style>\n<table border=\"1\" class=\"dataframe\">\n  <thead>\n    <tr style=\"text-align: right;\">\n      <th></th>\n      <th>Seller_rank</th>\n      <th>c2</th>\n      <th>c3</th>\n      <th>c4</th>\n      <th>c5</th>\n      <th>c6</th>\n      <th>c7</th>\n      <th>c8</th>\n      <th>c9</th>\n      <th>c41</th>\n      <th>...</th>\n      <th>c53</th>\n      <th>c63</th>\n      <th>c14</th>\n      <th>c24</th>\n      <th>c34</th>\n      <th>c44</th>\n      <th>c54</th>\n      <th>c64</th>\n      <th>c74</th>\n      <th>c75</th>\n    </tr>\n  </thead>\n  <tbody>\n    <tr>\n      <th>0</th>\n      <td>35</td>\n      <td>in</td>\n      <td>On-Ear</td>\n      <td>Headphones</td>\n      <td>None</td>\n      <td>None</td>\n      <td>None</td>\n      <td>None</td>\n      <td>None</td>\n      <td>None</td>\n      <td>...</td>\n      <td>None</td>\n      <td>None</td>\n      <td>None</td>\n      <td>None</td>\n      <td>None</td>\n      <td>None</td>\n      <td>None</td>\n      <td>None</td>\n      <td>None</td>\n      <td>None</td>\n    </tr>\n    <tr>\n      <th>1</th>\n      <td>58</td>\n      <td>in</td>\n      <td>Over-Ear</td>\n      <td>Headphones</td>\n      <td>None</td>\n      <td>None</td>\n      <td>None</td>\n      <td>None</td>\n      <td>None</td>\n      <td>None</td>\n      <td>...</td>\n      <td>None</td>\n      <td>None</td>\n      <td>None</td>\n      <td>None</td>\n      <td>None</td>\n      <td>None</td>\n      <td>None</td>\n      <td>None</td>\n      <td>None</td>\n      <td>None</td>\n    </tr>\n    <tr>\n      <th>2</th>\n      <td>1</td>\n      <td>in</td>\n      <td>On-Ear</td>\n      <td>Headphones</td>\n      <td>None</td>\n      <td>None</td>\n      <td>None</td>\n      <td>None</td>\n      <td>None</td>\n      <td>None</td>\n      <td>...</td>\n      <td>None</td>\n      <td>None</td>\n      <td>None</td>\n      <td>None</td>\n      <td>None</td>\n      <td>None</td>\n      <td>None</td>\n      <td>None</td>\n      <td>None</td>\n      <td>None</td>\n    </tr>\n    <tr>\n      <th>3</th>\n      <td>6</td>\n      <td>in</td>\n      <td>Over-Ear</td>\n      <td>Headphones</td>\n      <td>None</td>\n      <td>None</td>\n      <td>None</td>\n      <td>None</td>\n      <td>None</td>\n      <td>None</td>\n      <td>...</td>\n      <td>None</td>\n      <td>None</td>\n      <td>None</td>\n      <td>None</td>\n      <td>None</td>\n      <td>None</td>\n      <td>None</td>\n      <td>None</td>\n      <td>None</td>\n      <td>None</td>\n    </tr>\n    <tr>\n      <th>4</th>\n      <td>108</td>\n      <td>in</td>\n      <td>Earbud</td>\n      <td>&amp;</td>\n      <td>In-Ear</td>\n      <td>Headphones</td>\n      <td>None</td>\n      <td>None</td>\n      <td>None</td>\n      <td>None</td>\n      <td>...</td>\n      <td>None</td>\n      <td>None</td>\n      <td>None</td>\n      <td>None</td>\n      <td>None</td>\n      <td>None</td>\n      <td>None</td>\n      <td>None</td>\n      <td>None</td>\n      <td>None</td>\n    </tr>\n    <tr>\n      <th>...</th>\n      <td>...</td>\n      <td>...</td>\n      <td>...</td>\n      <td>...</td>\n      <td>...</td>\n      <td>...</td>\n      <td>...</td>\n      <td>...</td>\n      <td>...</td>\n      <td>...</td>\n      <td>...</td>\n      <td>...</td>\n      <td>...</td>\n      <td>...</td>\n      <td>...</td>\n      <td>...</td>\n      <td>...</td>\n      <td>...</td>\n      <td>...</td>\n      <td>...</td>\n      <td>...</td>\n    </tr>\n    <tr>\n      <th>5167</th>\n      <td>1139</td>\n      <td>in</td>\n      <td>Computer</td>\n      <td>Headsets</td>\n      <td>None</td>\n      <td>None</td>\n      <td>None</td>\n      <td>None</td>\n      <td>None</td>\n      <td>None</td>\n      <td>...</td>\n      <td>None</td>\n      <td>None</td>\n      <td>None</td>\n      <td>None</td>\n      <td>None</td>\n      <td>None</td>\n      <td>None</td>\n      <td>None</td>\n      <td>None</td>\n      <td>None</td>\n    </tr>\n    <tr>\n      <th>5168</th>\n      <td>3788</td>\n      <td>in</td>\n      <td>Headphone</td>\n      <td>Cases</td>\n      <td>None</td>\n      <td>None</td>\n      <td>None</td>\n      <td>None</td>\n      <td>None</td>\n      <td>None</td>\n      <td>...</td>\n      <td>None</td>\n      <td>None</td>\n      <td>None</td>\n      <td>None</td>\n      <td>None</td>\n      <td>None</td>\n      <td>None</td>\n      <td>None</td>\n      <td>None</td>\n      <td>None</td>\n    </tr>\n    <tr>\n      <th>5169</th>\n      <td>1699</td>\n      <td>in</td>\n      <td>Headphone</td>\n      <td>Earpads</td>\n      <td>None</td>\n      <td>None</td>\n      <td>None</td>\n      <td>None</td>\n      <td>None</td>\n      <td>None</td>\n      <td>...</td>\n      <td>None</td>\n      <td>None</td>\n      <td>None</td>\n      <td>None</td>\n      <td>None</td>\n      <td>None</td>\n      <td>None</td>\n      <td>None</td>\n      <td>None</td>\n      <td>None</td>\n    </tr>\n    <tr>\n      <th>5170</th>\n      <td>215144</td>\n      <td>in</td>\n      <td>Cell</td>\n      <td>Phones</td>\n      <td>&amp;</td>\n      <td>Accessories</td>\n      <td>(</td>\n      <td>See</td>\n      <td>Top</td>\n      <td>100</td>\n      <td>...</td>\n      <td>None</td>\n      <td>None</td>\n      <td>None</td>\n      <td>None</td>\n      <td>None</td>\n      <td>None</td>\n      <td>None</td>\n      <td>None</td>\n      <td>None</td>\n      <td>None</td>\n    </tr>\n    <tr>\n      <th>5171</th>\n      <td>NaN</td>\n      <td>NaN</td>\n      <td>NaN</td>\n      <td>NaN</td>\n      <td>NaN</td>\n      <td>NaN</td>\n      <td>NaN</td>\n      <td>NaN</td>\n      <td>NaN</td>\n      <td>NaN</td>\n      <td>...</td>\n      <td>NaN</td>\n      <td>NaN</td>\n      <td>NaN</td>\n      <td>NaN</td>\n      <td>NaN</td>\n      <td>NaN</td>\n      <td>NaN</td>\n      <td>NaN</td>\n      <td>NaN</td>\n      <td>NaN</td>\n    </tr>\n  </tbody>\n</table>\n<p>5172 rows × 32 columns</p>\n</div>"
     },
     "metadata": {},
     "execution_count": 248
    }
   ],
   "source": [
    "a"
   ]
  },
  {
   "cell_type": "code",
   "execution_count": 249,
   "metadata": {},
   "outputs": [],
   "source": [
    "Seller_category = a.c3 + a.c4"
   ]
  },
  {
   "cell_type": "code",
   "execution_count": 250,
   "metadata": {},
   "outputs": [
    {
     "output_type": "execute_result",
     "data": {
      "text/plain": [
       "         Seller_category\n",
       "0       On-EarHeadphones\n",
       "1     Over-EarHeadphones\n",
       "2       On-EarHeadphones\n",
       "3     Over-EarHeadphones\n",
       "4                Earbud&\n",
       "...                  ...\n",
       "5167    ComputerHeadsets\n",
       "5168      HeadphoneCases\n",
       "5169    HeadphoneEarpads\n",
       "5170          CellPhones\n",
       "5171                 NaN\n",
       "\n",
       "[5172 rows x 1 columns]"
      ],
      "text/html": "<div>\n<style scoped>\n    .dataframe tbody tr th:only-of-type {\n        vertical-align: middle;\n    }\n\n    .dataframe tbody tr th {\n        vertical-align: top;\n    }\n\n    .dataframe thead th {\n        text-align: right;\n    }\n</style>\n<table border=\"1\" class=\"dataframe\">\n  <thead>\n    <tr style=\"text-align: right;\">\n      <th></th>\n      <th>Seller_category</th>\n    </tr>\n  </thead>\n  <tbody>\n    <tr>\n      <th>0</th>\n      <td>On-EarHeadphones</td>\n    </tr>\n    <tr>\n      <th>1</th>\n      <td>Over-EarHeadphones</td>\n    </tr>\n    <tr>\n      <th>2</th>\n      <td>On-EarHeadphones</td>\n    </tr>\n    <tr>\n      <th>3</th>\n      <td>Over-EarHeadphones</td>\n    </tr>\n    <tr>\n      <th>4</th>\n      <td>Earbud&amp;</td>\n    </tr>\n    <tr>\n      <th>...</th>\n      <td>...</td>\n    </tr>\n    <tr>\n      <th>5167</th>\n      <td>ComputerHeadsets</td>\n    </tr>\n    <tr>\n      <th>5168</th>\n      <td>HeadphoneCases</td>\n    </tr>\n    <tr>\n      <th>5169</th>\n      <td>HeadphoneEarpads</td>\n    </tr>\n    <tr>\n      <th>5170</th>\n      <td>CellPhones</td>\n    </tr>\n    <tr>\n      <th>5171</th>\n      <td>NaN</td>\n    </tr>\n  </tbody>\n</table>\n<p>5172 rows × 1 columns</p>\n</div>"
     },
     "metadata": {},
     "execution_count": 250
    }
   ],
   "source": [
    "y = pd.DataFrame(Seller_category)\n",
    "y.columns = [\"Seller_category\"]\n",
    "y"
   ]
  },
  {
   "cell_type": "code",
   "execution_count": 251,
   "metadata": {},
   "outputs": [],
   "source": [
    "headphone = pd.concat([final_hp, x, y],axis=1)\n",
    "headphone.drop(columns=\"Best Sellers Rank\",inplace=True)"
   ]
  },
  {
   "cell_type": "code",
   "execution_count": 252,
   "metadata": {},
   "outputs": [],
   "source": [
    "headphone.Seller_category = headphone.Seller_category.str.replace(\"&\",\"\")"
   ]
  },
  {
   "cell_type": "code",
   "execution_count": 254,
   "metadata": {},
   "outputs": [
    {
     "output_type": "execute_result",
     "data": {
      "text/plain": [
       "            ASIN                                               name  \\\n",
       "0     B087JVV8FK  Artix CL750 Foldable Noise Isolating On Ear He...   \n",
       "1     B07Q9M1LW9  Wireless Over-Ear Headphones with Deep Bass, F...   \n",
       "2     B00NJ2M33I  Sony MDRZX110/BLK ZX Series Stereo Headphones ...   \n",
       "3     B07K5214NZ  Bluetooth Over-Ear Headphones, Zihnic Foldable...   \n",
       "4     B08F1SX35C  TOZO T6 True Wireless Earbuds Bluetooth Headph...   \n",
       "...          ...                                                ...   \n",
       "5167  B0886CKLN3  Tosuny Computer Headset with Mic USB Headphone...   \n",
       "5168  B08R1YRVG2  DISNEY COLLECTION Black Hard Plastic Case for ...   \n",
       "5169  B0814WJ4NL  Lavien Replacement Ear Pads for Bose SoundLink...   \n",
       "5170  B07M6184SP  PHONSUN Headphone Audio Jack Flex Cable for LG...   \n",
       "5171  B07MV48RN6  Bluetooth Beanie Hat Cap Winter Knit Toque wit...   \n",
       "\n",
       "           Manufacturer Product_Dimensions_(inches)  \\\n",
       "0                 Artix         9.06 x 7.95 x 3.54    \n",
       "1                Zihnic           6.7 x 6.7 x 3.35    \n",
       "2                  Sony         5.87 x 1.81 x 7.87    \n",
       "3                Zihnic           6.7 x 6.7 x 3.35    \n",
       "4                  TOZO         4.61 x 4.57 x 1.46    \n",
       "...                 ...                         ...   \n",
       "5167             Tosuny                         NaN   \n",
       "5168  DISNEY COLLECTION         1.85 x 1.06 x 2.24    \n",
       "5169         Lavien LLC         6.69 x 4.57 x 0.55    \n",
       "5170                Gen         7.48 x 3.15 x 0.59    \n",
       "5171     aBrilliantLife        11.02 x 9.57 x 1.38    \n",
       "\n",
       "                                              Batteries Date First Available  \\\n",
       "0                                                   NaN           2020-01-02   \n",
       "1          1 Lithium ion batteries required. (included)           2019-04-08   \n",
       "2                     1 Lithium ion batteries required.           2017-07-28   \n",
       "3          1 Lithium ion batteries required. (included)           2018-11-09   \n",
       "4     1 Product Specific batteries required. (included)           2020-07-31   \n",
       "...                                                 ...                  ...   \n",
       "5167                                                NaN           2020-05-06   \n",
       "5168                                                NaN           2020-12-19   \n",
       "5169                                                NaN           2019-11-07   \n",
       "5170                                                NaN           2017-03-09   \n",
       "5171       1 Lithium ion batteries required. (included)           2016-10-02   \n",
       "\n",
       "      Item Weight Is Discontinued By Manufacturer  \\\n",
       "0         2.01600                             NaN   \n",
       "1         1.58400                             NaN   \n",
       "2         0.76800                              No   \n",
       "3         1.66400                              No   \n",
       "4         0.94400                              No   \n",
       "...           ...                             ...   \n",
       "5167      0.33760                             NaN   \n",
       "5168      0.76800                             NaN   \n",
       "5169      0.11824                             NaN   \n",
       "5170      0.02816                              No   \n",
       "5171      0.73600                              No   \n",
       "\n",
       "                                       Customer Reviews Item model number  \\\n",
       "0     /*\\n* Fix for UDP-1061. Average customer revie...        750_Black1   \n",
       "1     /*\\n* Fix for UDP-1061. Average customer revie...               NaN   \n",
       "2     /*\\n* Fix for UDP-1061. Average customer revie...      MDRZX110/BLK   \n",
       "3     /*\\n* Fix for UDP-1061. Average customer revie...        5962916614   \n",
       "4     /*\\n* Fix for UDP-1061. Average customer revie...                T6   \n",
       "...                                                 ...               ...   \n",
       "5167  /*\\n* Fix for UDP-1061. Average customer revie...               NaN   \n",
       "5168  /*\\n* Fix for UDP-1061. Average customer revie...               NaN   \n",
       "5169  /*\\n* Fix for UDP-1061. Average customer revie...               NaN   \n",
       "5170  /*\\n* Fix for UDP-1061. Average customer revie...        4351631155   \n",
       "5171  /*\\n* Fix for UDP-1061. Average customer revie...               NaN   \n",
       "\n",
       "              seller Seller_rank     Seller_category  \n",
       "0       7thContinent          35    On-EarHeadphones  \n",
       "1             Zihnic          58  Over-EarHeadphones  \n",
       "2               None           1    On-EarHeadphones  \n",
       "3             Zihnic           6  Over-EarHeadphones  \n",
       "4            Accumie         108              Earbud  \n",
       "...              ...         ...                 ...  \n",
       "5167       Tosuny-us        1139    ComputerHeadsets  \n",
       "5168           OHYOu        3788      HeadphoneCases  \n",
       "5169      Lavien LLC        1699    HeadphoneEarpads  \n",
       "5170         PHONSUN      215144          CellPhones  \n",
       "5171  aBrilliantLife         NaN                 NaN  \n",
       "\n",
       "[5172 rows x 13 columns]"
      ],
      "text/html": "<div>\n<style scoped>\n    .dataframe tbody tr th:only-of-type {\n        vertical-align: middle;\n    }\n\n    .dataframe tbody tr th {\n        vertical-align: top;\n    }\n\n    .dataframe thead th {\n        text-align: right;\n    }\n</style>\n<table border=\"1\" class=\"dataframe\">\n  <thead>\n    <tr style=\"text-align: right;\">\n      <th></th>\n      <th>ASIN</th>\n      <th>name</th>\n      <th>Manufacturer</th>\n      <th>Product_Dimensions_(inches)</th>\n      <th>Batteries</th>\n      <th>Date First Available</th>\n      <th>Item Weight</th>\n      <th>Is Discontinued By Manufacturer</th>\n      <th>Customer Reviews</th>\n      <th>Item model number</th>\n      <th>seller</th>\n      <th>Seller_rank</th>\n      <th>Seller_category</th>\n    </tr>\n  </thead>\n  <tbody>\n    <tr>\n      <th>0</th>\n      <td>B087JVV8FK</td>\n      <td>Artix CL750 Foldable Noise Isolating On Ear He...</td>\n      <td>Artix</td>\n      <td>9.06 x 7.95 x 3.54</td>\n      <td>NaN</td>\n      <td>2020-01-02</td>\n      <td>2.01600</td>\n      <td>NaN</td>\n      <td>/*\\n* Fix for UDP-1061. Average customer revie...</td>\n      <td>750_Black1</td>\n      <td>7thContinent</td>\n      <td>35</td>\n      <td>On-EarHeadphones</td>\n    </tr>\n    <tr>\n      <th>1</th>\n      <td>B07Q9M1LW9</td>\n      <td>Wireless Over-Ear Headphones with Deep Bass, F...</td>\n      <td>Zihnic</td>\n      <td>6.7 x 6.7 x 3.35</td>\n      <td>1 Lithium ion batteries required. (included)</td>\n      <td>2019-04-08</td>\n      <td>1.58400</td>\n      <td>NaN</td>\n      <td>/*\\n* Fix for UDP-1061. Average customer revie...</td>\n      <td>NaN</td>\n      <td>Zihnic</td>\n      <td>58</td>\n      <td>Over-EarHeadphones</td>\n    </tr>\n    <tr>\n      <th>2</th>\n      <td>B00NJ2M33I</td>\n      <td>Sony MDRZX110/BLK ZX Series Stereo Headphones ...</td>\n      <td>Sony</td>\n      <td>5.87 x 1.81 x 7.87</td>\n      <td>1 Lithium ion batteries required.</td>\n      <td>2017-07-28</td>\n      <td>0.76800</td>\n      <td>No</td>\n      <td>/*\\n* Fix for UDP-1061. Average customer revie...</td>\n      <td>MDRZX110/BLK</td>\n      <td>None</td>\n      <td>1</td>\n      <td>On-EarHeadphones</td>\n    </tr>\n    <tr>\n      <th>3</th>\n      <td>B07K5214NZ</td>\n      <td>Bluetooth Over-Ear Headphones, Zihnic Foldable...</td>\n      <td>Zihnic</td>\n      <td>6.7 x 6.7 x 3.35</td>\n      <td>1 Lithium ion batteries required. (included)</td>\n      <td>2018-11-09</td>\n      <td>1.66400</td>\n      <td>No</td>\n      <td>/*\\n* Fix for UDP-1061. Average customer revie...</td>\n      <td>5962916614</td>\n      <td>Zihnic</td>\n      <td>6</td>\n      <td>Over-EarHeadphones</td>\n    </tr>\n    <tr>\n      <th>4</th>\n      <td>B08F1SX35C</td>\n      <td>TOZO T6 True Wireless Earbuds Bluetooth Headph...</td>\n      <td>TOZO</td>\n      <td>4.61 x 4.57 x 1.46</td>\n      <td>1 Product Specific batteries required. (included)</td>\n      <td>2020-07-31</td>\n      <td>0.94400</td>\n      <td>No</td>\n      <td>/*\\n* Fix for UDP-1061. Average customer revie...</td>\n      <td>T6</td>\n      <td>Accumie</td>\n      <td>108</td>\n      <td>Earbud</td>\n    </tr>\n    <tr>\n      <th>...</th>\n      <td>...</td>\n      <td>...</td>\n      <td>...</td>\n      <td>...</td>\n      <td>...</td>\n      <td>...</td>\n      <td>...</td>\n      <td>...</td>\n      <td>...</td>\n      <td>...</td>\n      <td>...</td>\n      <td>...</td>\n      <td>...</td>\n    </tr>\n    <tr>\n      <th>5167</th>\n      <td>B0886CKLN3</td>\n      <td>Tosuny Computer Headset with Mic USB Headphone...</td>\n      <td>Tosuny</td>\n      <td>NaN</td>\n      <td>NaN</td>\n      <td>2020-05-06</td>\n      <td>0.33760</td>\n      <td>NaN</td>\n      <td>/*\\n* Fix for UDP-1061. Average customer revie...</td>\n      <td>NaN</td>\n      <td>Tosuny-us</td>\n      <td>1139</td>\n      <td>ComputerHeadsets</td>\n    </tr>\n    <tr>\n      <th>5168</th>\n      <td>B08R1YRVG2</td>\n      <td>DISNEY COLLECTION Black Hard Plastic Case for ...</td>\n      <td>DISNEY COLLECTION</td>\n      <td>1.85 x 1.06 x 2.24</td>\n      <td>NaN</td>\n      <td>2020-12-19</td>\n      <td>0.76800</td>\n      <td>NaN</td>\n      <td>/*\\n* Fix for UDP-1061. Average customer revie...</td>\n      <td>NaN</td>\n      <td>OHYOu</td>\n      <td>3788</td>\n      <td>HeadphoneCases</td>\n    </tr>\n    <tr>\n      <th>5169</th>\n      <td>B0814WJ4NL</td>\n      <td>Lavien Replacement Ear Pads for Bose SoundLink...</td>\n      <td>Lavien LLC</td>\n      <td>6.69 x 4.57 x 0.55</td>\n      <td>NaN</td>\n      <td>2019-11-07</td>\n      <td>0.11824</td>\n      <td>NaN</td>\n      <td>/*\\n* Fix for UDP-1061. Average customer revie...</td>\n      <td>NaN</td>\n      <td>Lavien LLC</td>\n      <td>1699</td>\n      <td>HeadphoneEarpads</td>\n    </tr>\n    <tr>\n      <th>5170</th>\n      <td>B07M6184SP</td>\n      <td>PHONSUN Headphone Audio Jack Flex Cable for LG...</td>\n      <td>Gen</td>\n      <td>7.48 x 3.15 x 0.59</td>\n      <td>NaN</td>\n      <td>2017-03-09</td>\n      <td>0.02816</td>\n      <td>No</td>\n      <td>/*\\n* Fix for UDP-1061. Average customer revie...</td>\n      <td>4351631155</td>\n      <td>PHONSUN</td>\n      <td>215144</td>\n      <td>CellPhones</td>\n    </tr>\n    <tr>\n      <th>5171</th>\n      <td>B07MV48RN6</td>\n      <td>Bluetooth Beanie Hat Cap Winter Knit Toque wit...</td>\n      <td>aBrilliantLife</td>\n      <td>11.02 x 9.57 x 1.38</td>\n      <td>1 Lithium ion batteries required. (included)</td>\n      <td>2016-10-02</td>\n      <td>0.73600</td>\n      <td>No</td>\n      <td>/*\\n* Fix for UDP-1061. Average customer revie...</td>\n      <td>NaN</td>\n      <td>aBrilliantLife</td>\n      <td>NaN</td>\n      <td>NaN</td>\n    </tr>\n  </tbody>\n</table>\n<p>5172 rows × 13 columns</p>\n</div>"
     },
     "metadata": {},
     "execution_count": 254
    }
   ],
   "source": [
    "headphone"
   ]
  },
  {
   "cell_type": "code",
   "execution_count": 257,
   "metadata": {},
   "outputs": [],
   "source": [
    "headphone.to_csv(r\"C:\\Users\\Davide Della Valle\\Desktop\\CAB\\Project 3\\CAB-headphones\\product_headphones.csv\", index=False)"
   ]
  },
  {
   "cell_type": "code",
   "execution_count": null,
   "metadata": {},
   "outputs": [],
   "source": []
  }
 ]
}