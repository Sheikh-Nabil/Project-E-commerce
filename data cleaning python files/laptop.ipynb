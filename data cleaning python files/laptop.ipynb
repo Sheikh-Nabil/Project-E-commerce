{
 "metadata": {
  "language_info": {
   "codemirror_mode": {
    "name": "ipython",
    "version": 3
   },
   "file_extension": ".py",
   "mimetype": "text/x-python",
   "name": "python",
   "nbconvert_exporter": "python",
   "pygments_lexer": "ipython3",
   "version": "3.8.5-final"
  },
  "orig_nbformat": 2,
  "kernelspec": {
   "name": "python3",
   "display_name": "Python 3",
   "language": "python"
  }
 },
 "nbformat": 4,
 "nbformat_minor": 2,
 "cells": [
  {
   "cell_type": "code",
   "execution_count": 172,
   "metadata": {},
   "outputs": [],
   "source": [
    "import pandas as pd\n",
    "import numpy as np"
   ]
  },
  {
   "cell_type": "code",
   "execution_count": 173,
   "metadata": {},
   "outputs": [
    {
     "output_type": "execute_result",
     "data": {
      "text/plain": [
       "                                                  title  \\\n",
       "0     Acer Spin 5 Convertible Laptop, 13.5\" 2K 2256 ...   \n",
       "1     Acer Swift 3 Intel Evo Thin & Light Laptop, 14...   \n",
       "2     ASUS TUF Gaming Laptop, 15.6” 144Hz Full HD IP...   \n",
       "3     ASUS VivoBook 15 Thin and Light Laptop- 15.6” ...   \n",
       "4     Acer Chromebook Spin 311 Convertible Laptop, I...   \n",
       "...                                                 ...   \n",
       "2659  Lenovo Chromebook Duet, 2-in-1, 10.1\" WUXGA (1...   \n",
       "2660  Acer Chromebook 11 C740-C4PE (11.6-inch HD, 4 ...   \n",
       "2661  Dell Latitude 5310 13.3\" Notebook - Full HD - ...   \n",
       "2662  2020 15.6-inch Laptop 6G + 256G, Intel celeron...   \n",
       "2663  CHUWI Herobook Pro 14.1 inch Windows 10 Intel ...   \n",
       "\n",
       "                                                    url              rating  \\\n",
       "0     https://www.amazon.com/gp/slredirect/picassoRe...  4.5 out of 5 stars   \n",
       "1     https://www.amazon.com/gp/slredirect/picassoRe...  3.7 out of 5 stars   \n",
       "2     https://www.amazon.com/ASUS-IPS-Type-i7-9750H-...  4.6 out of 5 stars   \n",
       "3     https://www.amazon.com/ASUS-VivoBook-i5-1035G1...  4.5 out of 5 stars   \n",
       "4     https://www.amazon.com/Acer-Chromebook-Convert...  4.7 out of 5 stars   \n",
       "...                                                 ...                 ...   \n",
       "2659  https://www.amazon.com/Lenovo-Chromebook-Media...  4.8 out of 5 stars   \n",
       "2660  https://www.amazon.com/Acer-Chromebook-C740-C4...  4.0 out of 5 stars   \n",
       "2661  https://www.amazon.com/Dell-Latitude-5310-13-3...                None   \n",
       "2662  https://www.amazon.com/gp/slredirect/picassoRe...  3.0 out of 5 stars   \n",
       "2663  https://www.amazon.com/gp/slredirect/picassoRe...  4.0 out of 5 stars   \n",
       "\n",
       "     review_count      price  \n",
       "0             358    $839.99  \n",
       "1              13    $799.99  \n",
       "2             653    $769.99  \n",
       "3           3,044    $599.99  \n",
       "4           3,936    $269.99  \n",
       "...           ...        ...  \n",
       "2659           75    $288.60  \n",
       "2660          206       None  \n",
       "2661         None  $1,764.99  \n",
       "2662            3    $359.00  \n",
       "2663          343    $339.00  \n",
       "\n",
       "[2664 rows x 5 columns]"
      ],
      "text/html": "<div>\n<style scoped>\n    .dataframe tbody tr th:only-of-type {\n        vertical-align: middle;\n    }\n\n    .dataframe tbody tr th {\n        vertical-align: top;\n    }\n\n    .dataframe thead th {\n        text-align: right;\n    }\n</style>\n<table border=\"1\" class=\"dataframe\">\n  <thead>\n    <tr style=\"text-align: right;\">\n      <th></th>\n      <th>title</th>\n      <th>url</th>\n      <th>rating</th>\n      <th>review_count</th>\n      <th>price</th>\n    </tr>\n  </thead>\n  <tbody>\n    <tr>\n      <th>0</th>\n      <td>Acer Spin 5 Convertible Laptop, 13.5\" 2K 2256 ...</td>\n      <td>https://www.amazon.com/gp/slredirect/picassoRe...</td>\n      <td>4.5 out of 5 stars</td>\n      <td>358</td>\n      <td>$839.99</td>\n    </tr>\n    <tr>\n      <th>1</th>\n      <td>Acer Swift 3 Intel Evo Thin &amp; Light Laptop, 14...</td>\n      <td>https://www.amazon.com/gp/slredirect/picassoRe...</td>\n      <td>3.7 out of 5 stars</td>\n      <td>13</td>\n      <td>$799.99</td>\n    </tr>\n    <tr>\n      <th>2</th>\n      <td>ASUS TUF Gaming Laptop, 15.6” 144Hz Full HD IP...</td>\n      <td>https://www.amazon.com/ASUS-IPS-Type-i7-9750H-...</td>\n      <td>4.6 out of 5 stars</td>\n      <td>653</td>\n      <td>$769.99</td>\n    </tr>\n    <tr>\n      <th>3</th>\n      <td>ASUS VivoBook 15 Thin and Light Laptop- 15.6” ...</td>\n      <td>https://www.amazon.com/ASUS-VivoBook-i5-1035G1...</td>\n      <td>4.5 out of 5 stars</td>\n      <td>3,044</td>\n      <td>$599.99</td>\n    </tr>\n    <tr>\n      <th>4</th>\n      <td>Acer Chromebook Spin 311 Convertible Laptop, I...</td>\n      <td>https://www.amazon.com/Acer-Chromebook-Convert...</td>\n      <td>4.7 out of 5 stars</td>\n      <td>3,936</td>\n      <td>$269.99</td>\n    </tr>\n    <tr>\n      <th>...</th>\n      <td>...</td>\n      <td>...</td>\n      <td>...</td>\n      <td>...</td>\n      <td>...</td>\n    </tr>\n    <tr>\n      <th>2659</th>\n      <td>Lenovo Chromebook Duet, 2-in-1, 10.1\" WUXGA (1...</td>\n      <td>https://www.amazon.com/Lenovo-Chromebook-Media...</td>\n      <td>4.8 out of 5 stars</td>\n      <td>75</td>\n      <td>$288.60</td>\n    </tr>\n    <tr>\n      <th>2660</th>\n      <td>Acer Chromebook 11 C740-C4PE (11.6-inch HD, 4 ...</td>\n      <td>https://www.amazon.com/Acer-Chromebook-C740-C4...</td>\n      <td>4.0 out of 5 stars</td>\n      <td>206</td>\n      <td>None</td>\n    </tr>\n    <tr>\n      <th>2661</th>\n      <td>Dell Latitude 5310 13.3\" Notebook - Full HD - ...</td>\n      <td>https://www.amazon.com/Dell-Latitude-5310-13-3...</td>\n      <td>None</td>\n      <td>None</td>\n      <td>$1,764.99</td>\n    </tr>\n    <tr>\n      <th>2662</th>\n      <td>2020 15.6-inch Laptop 6G + 256G, Intel celeron...</td>\n      <td>https://www.amazon.com/gp/slredirect/picassoRe...</td>\n      <td>3.0 out of 5 stars</td>\n      <td>3</td>\n      <td>$359.00</td>\n    </tr>\n    <tr>\n      <th>2663</th>\n      <td>CHUWI Herobook Pro 14.1 inch Windows 10 Intel ...</td>\n      <td>https://www.amazon.com/gp/slredirect/picassoRe...</td>\n      <td>4.0 out of 5 stars</td>\n      <td>343</td>\n      <td>$339.00</td>\n    </tr>\n  </tbody>\n</table>\n<p>2664 rows × 5 columns</p>\n</div>"
     },
     "metadata": {},
     "execution_count": 173
    }
   ],
   "source": [
    "#SearchFile\n",
    "laptop = pd.read_json('LT_scraping.json')\n",
    "laptop"
   ]
  },
  {
   "cell_type": "code",
   "execution_count": 174,
   "metadata": {},
   "outputs": [
    {
     "output_type": "execute_result",
     "data": {
      "text/plain": [
       "title           object\n",
       "url             object\n",
       "rating          object\n",
       "review_count    object\n",
       "price           object\n",
       "dtype: object"
      ]
     },
     "metadata": {},
     "execution_count": 174
    }
   ],
   "source": [
    "laptop.dtypes"
   ]
  },
  {
   "cell_type": "code",
   "execution_count": 175,
   "metadata": {},
   "outputs": [],
   "source": [
    "laptop.dropna(inplace = True)"
   ]
  },
  {
   "cell_type": "code",
   "execution_count": 176,
   "metadata": {},
   "outputs": [
    {
     "output_type": "execute_result",
     "data": {
      "text/plain": [
       "title           0\n",
       "url             0\n",
       "rating          0\n",
       "review_count    0\n",
       "price           0\n",
       "dtype: int64"
      ]
     },
     "metadata": {},
     "execution_count": 176
    }
   ],
   "source": [
    "laptop.isnull().sum()"
   ]
  },
  {
   "cell_type": "code",
   "execution_count": 177,
   "metadata": {},
   "outputs": [
    {
     "output_type": "execute_result",
     "data": {
      "text/plain": [
       "(1999, 5)"
      ]
     },
     "metadata": {},
     "execution_count": 177
    }
   ],
   "source": [
    "laptop.shape"
   ]
  },
  {
   "cell_type": "code",
   "execution_count": 178,
   "metadata": {},
   "outputs": [
    {
     "output_type": "execute_result",
     "data": {
      "text/plain": [
       "'4.5'"
      ]
     },
     "metadata": {},
     "execution_count": 178
    }
   ],
   "source": [
    "laptop.rating[0].split(' ')[0]"
   ]
  },
  {
   "cell_type": "code",
   "execution_count": 179,
   "metadata": {},
   "outputs": [
    {
     "output_type": "execute_result",
     "data": {
      "text/plain": [
       "                                                  title  \\\n",
       "0     Acer Spin 5 Convertible Laptop, 13.5\" 2K 2256 ...   \n",
       "1     Acer Swift 3 Intel Evo Thin & Light Laptop, 14...   \n",
       "2     ASUS TUF Gaming Laptop, 15.6” 144Hz Full HD IP...   \n",
       "3     ASUS VivoBook 15 Thin and Light Laptop- 15.6” ...   \n",
       "4     Acer Chromebook Spin 311 Convertible Laptop, I...   \n",
       "...                                                 ...   \n",
       "2655  XIDU Tour Pro 12.5\" Touchscreen Laptop, 2K(256...   \n",
       "2658  Lenovo 15.6\" ThinkPad P52 LCD Mobile Workstati...   \n",
       "2659  Lenovo Chromebook Duet, 2-in-1, 10.1\" WUXGA (1...   \n",
       "2662  2020 15.6-inch Laptop 6G + 256G, Intel celeron...   \n",
       "2663  CHUWI Herobook Pro 14.1 inch Windows 10 Intel ...   \n",
       "\n",
       "                                                    url rating review_count  \\\n",
       "0     https://www.amazon.com/gp/slredirect/picassoRe...    4.5          358   \n",
       "1     https://www.amazon.com/gp/slredirect/picassoRe...    3.7           13   \n",
       "2     https://www.amazon.com/ASUS-IPS-Type-i7-9750H-...    4.6          653   \n",
       "3     https://www.amazon.com/ASUS-VivoBook-i5-1035G1...    4.5        3,044   \n",
       "4     https://www.amazon.com/Acer-Chromebook-Convert...    4.7        3,936   \n",
       "...                                                 ...    ...          ...   \n",
       "2655  https://www.amazon.com/gp/slredirect/picassoRe...    4.4           55   \n",
       "2658  https://www.amazon.com/Lenovo-ThinkPad-Worksta...    4.0            1   \n",
       "2659  https://www.amazon.com/Lenovo-Chromebook-Media...    4.8           75   \n",
       "2662  https://www.amazon.com/gp/slredirect/picassoRe...    3.0            3   \n",
       "2663  https://www.amazon.com/gp/slredirect/picassoRe...    4.0          343   \n",
       "\n",
       "          price  \n",
       "0       $839.99  \n",
       "1       $799.99  \n",
       "2       $769.99  \n",
       "3       $599.99  \n",
       "4       $269.99  \n",
       "...         ...  \n",
       "2655    $429.99  \n",
       "2658  $2,629.36  \n",
       "2659    $288.60  \n",
       "2662    $359.00  \n",
       "2663    $339.00  \n",
       "\n",
       "[1999 rows x 5 columns]"
      ],
      "text/html": "<div>\n<style scoped>\n    .dataframe tbody tr th:only-of-type {\n        vertical-align: middle;\n    }\n\n    .dataframe tbody tr th {\n        vertical-align: top;\n    }\n\n    .dataframe thead th {\n        text-align: right;\n    }\n</style>\n<table border=\"1\" class=\"dataframe\">\n  <thead>\n    <tr style=\"text-align: right;\">\n      <th></th>\n      <th>title</th>\n      <th>url</th>\n      <th>rating</th>\n      <th>review_count</th>\n      <th>price</th>\n    </tr>\n  </thead>\n  <tbody>\n    <tr>\n      <th>0</th>\n      <td>Acer Spin 5 Convertible Laptop, 13.5\" 2K 2256 ...</td>\n      <td>https://www.amazon.com/gp/slredirect/picassoRe...</td>\n      <td>4.5</td>\n      <td>358</td>\n      <td>$839.99</td>\n    </tr>\n    <tr>\n      <th>1</th>\n      <td>Acer Swift 3 Intel Evo Thin &amp; Light Laptop, 14...</td>\n      <td>https://www.amazon.com/gp/slredirect/picassoRe...</td>\n      <td>3.7</td>\n      <td>13</td>\n      <td>$799.99</td>\n    </tr>\n    <tr>\n      <th>2</th>\n      <td>ASUS TUF Gaming Laptop, 15.6” 144Hz Full HD IP...</td>\n      <td>https://www.amazon.com/ASUS-IPS-Type-i7-9750H-...</td>\n      <td>4.6</td>\n      <td>653</td>\n      <td>$769.99</td>\n    </tr>\n    <tr>\n      <th>3</th>\n      <td>ASUS VivoBook 15 Thin and Light Laptop- 15.6” ...</td>\n      <td>https://www.amazon.com/ASUS-VivoBook-i5-1035G1...</td>\n      <td>4.5</td>\n      <td>3,044</td>\n      <td>$599.99</td>\n    </tr>\n    <tr>\n      <th>4</th>\n      <td>Acer Chromebook Spin 311 Convertible Laptop, I...</td>\n      <td>https://www.amazon.com/Acer-Chromebook-Convert...</td>\n      <td>4.7</td>\n      <td>3,936</td>\n      <td>$269.99</td>\n    </tr>\n    <tr>\n      <th>...</th>\n      <td>...</td>\n      <td>...</td>\n      <td>...</td>\n      <td>...</td>\n      <td>...</td>\n    </tr>\n    <tr>\n      <th>2655</th>\n      <td>XIDU Tour Pro 12.5\" Touchscreen Laptop, 2K(256...</td>\n      <td>https://www.amazon.com/gp/slredirect/picassoRe...</td>\n      <td>4.4</td>\n      <td>55</td>\n      <td>$429.99</td>\n    </tr>\n    <tr>\n      <th>2658</th>\n      <td>Lenovo 15.6\" ThinkPad P52 LCD Mobile Workstati...</td>\n      <td>https://www.amazon.com/Lenovo-ThinkPad-Worksta...</td>\n      <td>4.0</td>\n      <td>1</td>\n      <td>$2,629.36</td>\n    </tr>\n    <tr>\n      <th>2659</th>\n      <td>Lenovo Chromebook Duet, 2-in-1, 10.1\" WUXGA (1...</td>\n      <td>https://www.amazon.com/Lenovo-Chromebook-Media...</td>\n      <td>4.8</td>\n      <td>75</td>\n      <td>$288.60</td>\n    </tr>\n    <tr>\n      <th>2662</th>\n      <td>2020 15.6-inch Laptop 6G + 256G, Intel celeron...</td>\n      <td>https://www.amazon.com/gp/slredirect/picassoRe...</td>\n      <td>3.0</td>\n      <td>3</td>\n      <td>$359.00</td>\n    </tr>\n    <tr>\n      <th>2663</th>\n      <td>CHUWI Herobook Pro 14.1 inch Windows 10 Intel ...</td>\n      <td>https://www.amazon.com/gp/slredirect/picassoRe...</td>\n      <td>4.0</td>\n      <td>343</td>\n      <td>$339.00</td>\n    </tr>\n  </tbody>\n</table>\n<p>1999 rows × 5 columns</p>\n</div>"
     },
     "metadata": {},
     "execution_count": 179
    }
   ],
   "source": [
    "laptop.rating = laptop.rating.map(lambda x: x.split(' ')[0])\n",
    "laptop"
   ]
  },
  {
   "cell_type": "code",
   "execution_count": 180,
   "metadata": {},
   "outputs": [
    {
     "output_type": "execute_result",
     "data": {
      "text/plain": [
       "                                                  title  \\\n",
       "0     Acer Spin 5 Convertible Laptop, 13.5\" 2K 2256 ...   \n",
       "1     Acer Swift 3 Intel Evo Thin & Light Laptop, 14...   \n",
       "2     ASUS TUF Gaming Laptop, 15.6” 144Hz Full HD IP...   \n",
       "3     ASUS VivoBook 15 Thin and Light Laptop- 15.6” ...   \n",
       "4     Acer Chromebook Spin 311 Convertible Laptop, I...   \n",
       "...                                                 ...   \n",
       "2655  XIDU Tour Pro 12.5\" Touchscreen Laptop, 2K(256...   \n",
       "2658  Lenovo 15.6\" ThinkPad P52 LCD Mobile Workstati...   \n",
       "2659  Lenovo Chromebook Duet, 2-in-1, 10.1\" WUXGA (1...   \n",
       "2662  2020 15.6-inch Laptop 6G + 256G, Intel celeron...   \n",
       "2663  CHUWI Herobook Pro 14.1 inch Windows 10 Intel ...   \n",
       "\n",
       "                                                    url rating review_count  \\\n",
       "0     https://www.amazon.com/gp/slredirect/picassoRe...    4.5          358   \n",
       "1     https://www.amazon.com/gp/slredirect/picassoRe...    3.7           13   \n",
       "2     https://www.amazon.com/ASUS-IPS-Type-i7-9750H-...    4.6          653   \n",
       "3     https://www.amazon.com/ASUS-VivoBook-i5-1035G1...    4.5         3044   \n",
       "4     https://www.amazon.com/Acer-Chromebook-Convert...    4.7         3936   \n",
       "...                                                 ...    ...          ...   \n",
       "2655  https://www.amazon.com/gp/slredirect/picassoRe...    4.4           55   \n",
       "2658  https://www.amazon.com/Lenovo-ThinkPad-Worksta...    4.0            1   \n",
       "2659  https://www.amazon.com/Lenovo-Chromebook-Media...    4.8           75   \n",
       "2662  https://www.amazon.com/gp/slredirect/picassoRe...    3.0            3   \n",
       "2663  https://www.amazon.com/gp/slredirect/picassoRe...    4.0          343   \n",
       "\n",
       "        price  \n",
       "0      839.99  \n",
       "1      799.99  \n",
       "2      769.99  \n",
       "3      599.99  \n",
       "4      269.99  \n",
       "...       ...  \n",
       "2655   429.99  \n",
       "2658  2629.36  \n",
       "2659   288.60  \n",
       "2662   359.00  \n",
       "2663   339.00  \n",
       "\n",
       "[1999 rows x 5 columns]"
      ],
      "text/html": "<div>\n<style scoped>\n    .dataframe tbody tr th:only-of-type {\n        vertical-align: middle;\n    }\n\n    .dataframe tbody tr th {\n        vertical-align: top;\n    }\n\n    .dataframe thead th {\n        text-align: right;\n    }\n</style>\n<table border=\"1\" class=\"dataframe\">\n  <thead>\n    <tr style=\"text-align: right;\">\n      <th></th>\n      <th>title</th>\n      <th>url</th>\n      <th>rating</th>\n      <th>review_count</th>\n      <th>price</th>\n    </tr>\n  </thead>\n  <tbody>\n    <tr>\n      <th>0</th>\n      <td>Acer Spin 5 Convertible Laptop, 13.5\" 2K 2256 ...</td>\n      <td>https://www.amazon.com/gp/slredirect/picassoRe...</td>\n      <td>4.5</td>\n      <td>358</td>\n      <td>839.99</td>\n    </tr>\n    <tr>\n      <th>1</th>\n      <td>Acer Swift 3 Intel Evo Thin &amp; Light Laptop, 14...</td>\n      <td>https://www.amazon.com/gp/slredirect/picassoRe...</td>\n      <td>3.7</td>\n      <td>13</td>\n      <td>799.99</td>\n    </tr>\n    <tr>\n      <th>2</th>\n      <td>ASUS TUF Gaming Laptop, 15.6” 144Hz Full HD IP...</td>\n      <td>https://www.amazon.com/ASUS-IPS-Type-i7-9750H-...</td>\n      <td>4.6</td>\n      <td>653</td>\n      <td>769.99</td>\n    </tr>\n    <tr>\n      <th>3</th>\n      <td>ASUS VivoBook 15 Thin and Light Laptop- 15.6” ...</td>\n      <td>https://www.amazon.com/ASUS-VivoBook-i5-1035G1...</td>\n      <td>4.5</td>\n      <td>3044</td>\n      <td>599.99</td>\n    </tr>\n    <tr>\n      <th>4</th>\n      <td>Acer Chromebook Spin 311 Convertible Laptop, I...</td>\n      <td>https://www.amazon.com/Acer-Chromebook-Convert...</td>\n      <td>4.7</td>\n      <td>3936</td>\n      <td>269.99</td>\n    </tr>\n    <tr>\n      <th>...</th>\n      <td>...</td>\n      <td>...</td>\n      <td>...</td>\n      <td>...</td>\n      <td>...</td>\n    </tr>\n    <tr>\n      <th>2655</th>\n      <td>XIDU Tour Pro 12.5\" Touchscreen Laptop, 2K(256...</td>\n      <td>https://www.amazon.com/gp/slredirect/picassoRe...</td>\n      <td>4.4</td>\n      <td>55</td>\n      <td>429.99</td>\n    </tr>\n    <tr>\n      <th>2658</th>\n      <td>Lenovo 15.6\" ThinkPad P52 LCD Mobile Workstati...</td>\n      <td>https://www.amazon.com/Lenovo-ThinkPad-Worksta...</td>\n      <td>4.0</td>\n      <td>1</td>\n      <td>2629.36</td>\n    </tr>\n    <tr>\n      <th>2659</th>\n      <td>Lenovo Chromebook Duet, 2-in-1, 10.1\" WUXGA (1...</td>\n      <td>https://www.amazon.com/Lenovo-Chromebook-Media...</td>\n      <td>4.8</td>\n      <td>75</td>\n      <td>288.60</td>\n    </tr>\n    <tr>\n      <th>2662</th>\n      <td>2020 15.6-inch Laptop 6G + 256G, Intel celeron...</td>\n      <td>https://www.amazon.com/gp/slredirect/picassoRe...</td>\n      <td>3.0</td>\n      <td>3</td>\n      <td>359.00</td>\n    </tr>\n    <tr>\n      <th>2663</th>\n      <td>CHUWI Herobook Pro 14.1 inch Windows 10 Intel ...</td>\n      <td>https://www.amazon.com/gp/slredirect/picassoRe...</td>\n      <td>4.0</td>\n      <td>343</td>\n      <td>339.00</td>\n    </tr>\n  </tbody>\n</table>\n<p>1999 rows × 5 columns</p>\n</div>"
     },
     "metadata": {},
     "execution_count": 180
    }
   ],
   "source": [
    "laptop['review_count'] = laptop['review_count'].str.replace(',', '')\n",
    "laptop['price'] = laptop['price'].str.replace('$', '')\n",
    "laptop['price'] = laptop['price'].str.replace(',', '')\n",
    "laptop"
   ]
  },
  {
   "cell_type": "code",
   "execution_count": 181,
   "metadata": {},
   "outputs": [
    {
     "output_type": "execute_result",
     "data": {
      "text/plain": [
       "title           object\n",
       "url             object\n",
       "rating          object\n",
       "review_count    object\n",
       "price           object\n",
       "dtype: object"
      ]
     },
     "metadata": {},
     "execution_count": 181
    }
   ],
   "source": [
    "laptop.dtypes"
   ]
  },
  {
   "cell_type": "code",
   "execution_count": 182,
   "metadata": {},
   "outputs": [
    {
     "output_type": "execute_result",
     "data": {
      "text/plain": [
       "title            object\n",
       "url              object\n",
       "rating          float64\n",
       "review_count      int32\n",
       "price           float64\n",
       "dtype: object"
      ]
     },
     "metadata": {},
     "execution_count": 182
    }
   ],
   "source": [
    "laptop.rating = laptop.rating.astype('float')\n",
    "laptop.price = laptop.price.astype('float')\n",
    "laptop.review_count = laptop.review_count.astype('int')     \n",
    "laptop.dtypes"
   ]
  },
  {
   "cell_type": "code",
   "execution_count": 183,
   "metadata": {},
   "outputs": [
    {
     "output_type": "execute_result",
     "data": {
      "text/plain": [
       "                                                  title  \\\n",
       "0     Acer Spin 5 Convertible Laptop, 13.5\" 2K 2256 ...   \n",
       "1     Acer Swift 3 Intel Evo Thin & Light Laptop, 14...   \n",
       "2     ASUS TUF Gaming Laptop, 15.6” 144Hz Full HD IP...   \n",
       "3     ASUS VivoBook 15 Thin and Light Laptop- 15.6” ...   \n",
       "4     Acer Chromebook Spin 311 Convertible Laptop, I...   \n",
       "...                                                 ...   \n",
       "1994  XIDU Tour Pro 12.5\" Touchscreen Laptop, 2K(256...   \n",
       "1995  Lenovo 15.6\" ThinkPad P52 LCD Mobile Workstati...   \n",
       "1996  Lenovo Chromebook Duet, 2-in-1, 10.1\" WUXGA (1...   \n",
       "1997  2020 15.6-inch Laptop 6G + 256G, Intel celeron...   \n",
       "1998  CHUWI Herobook Pro 14.1 inch Windows 10 Intel ...   \n",
       "\n",
       "                                                    url  rating  review_count  \\\n",
       "0     https://www.amazon.com/gp/slredirect/picassoRe...     4.5           358   \n",
       "1     https://www.amazon.com/gp/slredirect/picassoRe...     3.7            13   \n",
       "2     https://www.amazon.com/ASUS-IPS-Type-i7-9750H-...     4.6           653   \n",
       "3     https://www.amazon.com/ASUS-VivoBook-i5-1035G1...     4.5          3044   \n",
       "4     https://www.amazon.com/Acer-Chromebook-Convert...     4.7          3936   \n",
       "...                                                 ...     ...           ...   \n",
       "1994  https://www.amazon.com/gp/slredirect/picassoRe...     4.4            55   \n",
       "1995  https://www.amazon.com/Lenovo-ThinkPad-Worksta...     4.0             1   \n",
       "1996  https://www.amazon.com/Lenovo-Chromebook-Media...     4.8            75   \n",
       "1997  https://www.amazon.com/gp/slredirect/picassoRe...     3.0             3   \n",
       "1998  https://www.amazon.com/gp/slredirect/picassoRe...     4.0           343   \n",
       "\n",
       "        price  \n",
       "0      839.99  \n",
       "1      799.99  \n",
       "2      769.99  \n",
       "3      599.99  \n",
       "4      269.99  \n",
       "...       ...  \n",
       "1994   429.99  \n",
       "1995  2629.36  \n",
       "1996   288.60  \n",
       "1997   359.00  \n",
       "1998   339.00  \n",
       "\n",
       "[1999 rows x 5 columns]"
      ],
      "text/html": "<div>\n<style scoped>\n    .dataframe tbody tr th:only-of-type {\n        vertical-align: middle;\n    }\n\n    .dataframe tbody tr th {\n        vertical-align: top;\n    }\n\n    .dataframe thead th {\n        text-align: right;\n    }\n</style>\n<table border=\"1\" class=\"dataframe\">\n  <thead>\n    <tr style=\"text-align: right;\">\n      <th></th>\n      <th>title</th>\n      <th>url</th>\n      <th>rating</th>\n      <th>review_count</th>\n      <th>price</th>\n    </tr>\n  </thead>\n  <tbody>\n    <tr>\n      <th>0</th>\n      <td>Acer Spin 5 Convertible Laptop, 13.5\" 2K 2256 ...</td>\n      <td>https://www.amazon.com/gp/slredirect/picassoRe...</td>\n      <td>4.5</td>\n      <td>358</td>\n      <td>839.99</td>\n    </tr>\n    <tr>\n      <th>1</th>\n      <td>Acer Swift 3 Intel Evo Thin &amp; Light Laptop, 14...</td>\n      <td>https://www.amazon.com/gp/slredirect/picassoRe...</td>\n      <td>3.7</td>\n      <td>13</td>\n      <td>799.99</td>\n    </tr>\n    <tr>\n      <th>2</th>\n      <td>ASUS TUF Gaming Laptop, 15.6” 144Hz Full HD IP...</td>\n      <td>https://www.amazon.com/ASUS-IPS-Type-i7-9750H-...</td>\n      <td>4.6</td>\n      <td>653</td>\n      <td>769.99</td>\n    </tr>\n    <tr>\n      <th>3</th>\n      <td>ASUS VivoBook 15 Thin and Light Laptop- 15.6” ...</td>\n      <td>https://www.amazon.com/ASUS-VivoBook-i5-1035G1...</td>\n      <td>4.5</td>\n      <td>3044</td>\n      <td>599.99</td>\n    </tr>\n    <tr>\n      <th>4</th>\n      <td>Acer Chromebook Spin 311 Convertible Laptop, I...</td>\n      <td>https://www.amazon.com/Acer-Chromebook-Convert...</td>\n      <td>4.7</td>\n      <td>3936</td>\n      <td>269.99</td>\n    </tr>\n    <tr>\n      <th>...</th>\n      <td>...</td>\n      <td>...</td>\n      <td>...</td>\n      <td>...</td>\n      <td>...</td>\n    </tr>\n    <tr>\n      <th>1994</th>\n      <td>XIDU Tour Pro 12.5\" Touchscreen Laptop, 2K(256...</td>\n      <td>https://www.amazon.com/gp/slredirect/picassoRe...</td>\n      <td>4.4</td>\n      <td>55</td>\n      <td>429.99</td>\n    </tr>\n    <tr>\n      <th>1995</th>\n      <td>Lenovo 15.6\" ThinkPad P52 LCD Mobile Workstati...</td>\n      <td>https://www.amazon.com/Lenovo-ThinkPad-Worksta...</td>\n      <td>4.0</td>\n      <td>1</td>\n      <td>2629.36</td>\n    </tr>\n    <tr>\n      <th>1996</th>\n      <td>Lenovo Chromebook Duet, 2-in-1, 10.1\" WUXGA (1...</td>\n      <td>https://www.amazon.com/Lenovo-Chromebook-Media...</td>\n      <td>4.8</td>\n      <td>75</td>\n      <td>288.60</td>\n    </tr>\n    <tr>\n      <th>1997</th>\n      <td>2020 15.6-inch Laptop 6G + 256G, Intel celeron...</td>\n      <td>https://www.amazon.com/gp/slredirect/picassoRe...</td>\n      <td>3.0</td>\n      <td>3</td>\n      <td>359.00</td>\n    </tr>\n    <tr>\n      <th>1998</th>\n      <td>CHUWI Herobook Pro 14.1 inch Windows 10 Intel ...</td>\n      <td>https://www.amazon.com/gp/slredirect/picassoRe...</td>\n      <td>4.0</td>\n      <td>343</td>\n      <td>339.00</td>\n    </tr>\n  </tbody>\n</table>\n<p>1999 rows × 5 columns</p>\n</div>"
     },
     "metadata": {},
     "execution_count": 183
    }
   ],
   "source": [
    "#reseting index\n",
    "laptop1 = laptop.reset_index(drop=True)\n",
    "laptop1"
   ]
  },
  {
   "cell_type": "code",
   "execution_count": 184,
   "metadata": {},
   "outputs": [],
   "source": [
    "laptop1['product_type'] = 'LAPTOP'"
   ]
  },
  {
   "cell_type": "code",
   "execution_count": 185,
   "metadata": {},
   "outputs": [
    {
     "output_type": "execute_result",
     "data": {
      "text/plain": [
       "0       https://www.amazon.com/gp/slredirect/picassoRe...\n",
       "1       https://www.amazon.com/gp/slredirect/picassoRe...\n",
       "2       https://www.amazon.com/ASUS-IPS-Type-i7-9750H-...\n",
       "3       https://www.amazon.com/ASUS-VivoBook-i5-1035G1...\n",
       "4       https://www.amazon.com/Acer-Chromebook-Convert...\n",
       "                              ...                        \n",
       "2655    https://www.amazon.com/gp/slredirect/picassoRe...\n",
       "2658    https://www.amazon.com/Lenovo-ThinkPad-Worksta...\n",
       "2659    https://www.amazon.com/Lenovo-Chromebook-Media...\n",
       "2662    https://www.amazon.com/gp/slredirect/picassoRe...\n",
       "2663    https://www.amazon.com/gp/slredirect/picassoRe...\n",
       "Name: url, Length: 1999, dtype: object"
      ]
     },
     "metadata": {},
     "execution_count": 185
    }
   ],
   "source": [
    "urls = laptop['url']\n",
    "urls"
   ]
  },
  {
   "cell_type": "code",
   "execution_count": 186,
   "metadata": {},
   "outputs": [
    {
     "output_type": "execute_result",
     "data": {
      "text/plain": [
       "          c1              c2  \\\n",
       "0     https:  www.amazon.com   \n",
       "1     https:  www.amazon.com   \n",
       "2     https:  www.amazon.com   \n",
       "3     https:  www.amazon.com   \n",
       "4     https:  www.amazon.com   \n",
       "...      ...             ...   \n",
       "1994  https:  www.amazon.com   \n",
       "1995  https:  www.amazon.com   \n",
       "1996  https:  www.amazon.com   \n",
       "1997  https:  www.amazon.com   \n",
       "1998  https:  www.amazon.com   \n",
       "\n",
       "                                                     c3          c4  \\\n",
       "0                                                    gp  slredirect   \n",
       "1                                                    gp  slredirect   \n",
       "2         ASUS-IPS-Type-i7-9750H-Processor-FX505GT-AB73          dp   \n",
       "3       ASUS-VivoBook-i5-1035G1-Fingerprint-F512JA-AS54          dp   \n",
       "4     Acer-Chromebook-Convertible-Bluetooth-CP311-2H...          dp   \n",
       "...                                                 ...         ...   \n",
       "1994                                                 gp  slredirect   \n",
       "1995   Lenovo-ThinkPad-Workstation-Hexa-core-20M9000LUS          dp   \n",
       "1996   Lenovo-Chromebook-MediaTek-Integrated-ZA6F0031US          dp   \n",
       "1997                                                 gp  slredirect   \n",
       "1998                                                 gp  slredirect   \n",
       "\n",
       "                        c5                                                 c6  \n",
       "0     picassoRedirect.html  ref=pa_sp_atf_electronics-intl-ship_sr_pg1_1?i...  \n",
       "1     picassoRedirect.html  ref=pa_sp_atf_electronics-intl-ship_sr_pg1_1?i...  \n",
       "2               B08KH2Q1FG  ref=sr_1_3?dchild=1&keywords=laptops&qid=16110...  \n",
       "3               B086QZSLDH  ref=sr_1_4?dchild=1&keywords=laptops&qid=16110...  \n",
       "4               B086MBQKH2  ref=sr_1_5?dchild=1&keywords=laptops&qid=16110...  \n",
       "...                    ...                                                ...  \n",
       "1994  picassoRedirect.html  ref=pa_sp_mtf_electronics-intl-ship_sr_pg156_1...  \n",
       "1995            B07F5JCW9M  ref=sr_1_1873?dchild=1&keywords=laptops&qid=16...  \n",
       "1996            B08F4JRXFZ  ref=sr_1_1874?dchild=1&keywords=laptops&qid=16...  \n",
       "1997  picassoRedirect.html  ref=pa_sp_btf_electronics-intl-ship_sr_pg156_1...  \n",
       "1998  picassoRedirect.html  ref=pa_sp_btf_electronics-intl-ship_sr_pg156_1...  \n",
       "\n",
       "[1999 rows x 6 columns]"
      ],
      "text/html": "<div>\n<style scoped>\n    .dataframe tbody tr th:only-of-type {\n        vertical-align: middle;\n    }\n\n    .dataframe tbody tr th {\n        vertical-align: top;\n    }\n\n    .dataframe thead th {\n        text-align: right;\n    }\n</style>\n<table border=\"1\" class=\"dataframe\">\n  <thead>\n    <tr style=\"text-align: right;\">\n      <th></th>\n      <th>c1</th>\n      <th>c2</th>\n      <th>c3</th>\n      <th>c4</th>\n      <th>c5</th>\n      <th>c6</th>\n    </tr>\n  </thead>\n  <tbody>\n    <tr>\n      <th>0</th>\n      <td>https:</td>\n      <td>www.amazon.com</td>\n      <td>gp</td>\n      <td>slredirect</td>\n      <td>picassoRedirect.html</td>\n      <td>ref=pa_sp_atf_electronics-intl-ship_sr_pg1_1?i...</td>\n    </tr>\n    <tr>\n      <th>1</th>\n      <td>https:</td>\n      <td>www.amazon.com</td>\n      <td>gp</td>\n      <td>slredirect</td>\n      <td>picassoRedirect.html</td>\n      <td>ref=pa_sp_atf_electronics-intl-ship_sr_pg1_1?i...</td>\n    </tr>\n    <tr>\n      <th>2</th>\n      <td>https:</td>\n      <td>www.amazon.com</td>\n      <td>ASUS-IPS-Type-i7-9750H-Processor-FX505GT-AB73</td>\n      <td>dp</td>\n      <td>B08KH2Q1FG</td>\n      <td>ref=sr_1_3?dchild=1&amp;keywords=laptops&amp;qid=16110...</td>\n    </tr>\n    <tr>\n      <th>3</th>\n      <td>https:</td>\n      <td>www.amazon.com</td>\n      <td>ASUS-VivoBook-i5-1035G1-Fingerprint-F512JA-AS54</td>\n      <td>dp</td>\n      <td>B086QZSLDH</td>\n      <td>ref=sr_1_4?dchild=1&amp;keywords=laptops&amp;qid=16110...</td>\n    </tr>\n    <tr>\n      <th>4</th>\n      <td>https:</td>\n      <td>www.amazon.com</td>\n      <td>Acer-Chromebook-Convertible-Bluetooth-CP311-2H...</td>\n      <td>dp</td>\n      <td>B086MBQKH2</td>\n      <td>ref=sr_1_5?dchild=1&amp;keywords=laptops&amp;qid=16110...</td>\n    </tr>\n    <tr>\n      <th>...</th>\n      <td>...</td>\n      <td>...</td>\n      <td>...</td>\n      <td>...</td>\n      <td>...</td>\n      <td>...</td>\n    </tr>\n    <tr>\n      <th>1994</th>\n      <td>https:</td>\n      <td>www.amazon.com</td>\n      <td>gp</td>\n      <td>slredirect</td>\n      <td>picassoRedirect.html</td>\n      <td>ref=pa_sp_mtf_electronics-intl-ship_sr_pg156_1...</td>\n    </tr>\n    <tr>\n      <th>1995</th>\n      <td>https:</td>\n      <td>www.amazon.com</td>\n      <td>Lenovo-ThinkPad-Workstation-Hexa-core-20M9000LUS</td>\n      <td>dp</td>\n      <td>B07F5JCW9M</td>\n      <td>ref=sr_1_1873?dchild=1&amp;keywords=laptops&amp;qid=16...</td>\n    </tr>\n    <tr>\n      <th>1996</th>\n      <td>https:</td>\n      <td>www.amazon.com</td>\n      <td>Lenovo-Chromebook-MediaTek-Integrated-ZA6F0031US</td>\n      <td>dp</td>\n      <td>B08F4JRXFZ</td>\n      <td>ref=sr_1_1874?dchild=1&amp;keywords=laptops&amp;qid=16...</td>\n    </tr>\n    <tr>\n      <th>1997</th>\n      <td>https:</td>\n      <td>www.amazon.com</td>\n      <td>gp</td>\n      <td>slredirect</td>\n      <td>picassoRedirect.html</td>\n      <td>ref=pa_sp_btf_electronics-intl-ship_sr_pg156_1...</td>\n    </tr>\n    <tr>\n      <th>1998</th>\n      <td>https:</td>\n      <td>www.amazon.com</td>\n      <td>gp</td>\n      <td>slredirect</td>\n      <td>picassoRedirect.html</td>\n      <td>ref=pa_sp_btf_electronics-intl-ship_sr_pg156_1...</td>\n    </tr>\n  </tbody>\n</table>\n<p>1999 rows × 6 columns</p>\n</div>"
     },
     "metadata": {},
     "execution_count": 186
    }
   ],
   "source": [
    "cols = ['c1', 'c2', 'c3', 'c4','c5','c6']\n",
    "make_me = []\n",
    "for url in urls:\n",
    "    lst = url.split(\"/\")\n",
    "    # your business rules go here\n",
    "    make_me.append([x for x in lst if not x.isdigit() and not x == \"\"])\n",
    "    \n",
    "\n",
    "laptop2 = pd.DataFrame(make_me, columns=cols)\n",
    "laptop2"
   ]
  },
  {
   "cell_type": "code",
   "execution_count": 187,
   "metadata": {},
   "outputs": [
    {
     "output_type": "execute_result",
     "data": {
      "text/plain": [
       "0       picassoRedirect.html\n",
       "1       picassoRedirect.html\n",
       "2                 B08KH2Q1FG\n",
       "3                 B086QZSLDH\n",
       "4                 B086MBQKH2\n",
       "                ...         \n",
       "1994    picassoRedirect.html\n",
       "1995              B07F5JCW9M\n",
       "1996              B08F4JRXFZ\n",
       "1997    picassoRedirect.html\n",
       "1998    picassoRedirect.html\n",
       "Name: c5, Length: 1999, dtype: object"
      ]
     },
     "metadata": {},
     "execution_count": 187
    }
   ],
   "source": [
    "asin = laptop2['c5']\n",
    "asin"
   ]
  },
  {
   "cell_type": "code",
   "execution_count": 188,
   "metadata": {},
   "outputs": [
    {
     "output_type": "execute_result",
     "data": {
      "text/plain": [
       "0       ref=pa_sp_atf_electronics-intl-ship_sr_pg1_1?i...\n",
       "1       ref=pa_sp_atf_electronics-intl-ship_sr_pg1_1?i...\n",
       "2       ref=sr_1_3?dchild=1&keywords=laptops&qid=16110...\n",
       "3       ref=sr_1_4?dchild=1&keywords=laptops&qid=16110...\n",
       "4       ref=sr_1_5?dchild=1&keywords=laptops&qid=16110...\n",
       "                              ...                        \n",
       "1994    ref=pa_sp_mtf_electronics-intl-ship_sr_pg156_1...\n",
       "1995    ref=sr_1_1873?dchild=1&keywords=laptops&qid=16...\n",
       "1996    ref=sr_1_1874?dchild=1&keywords=laptops&qid=16...\n",
       "1997    ref=pa_sp_btf_electronics-intl-ship_sr_pg156_1...\n",
       "1998    ref=pa_sp_btf_electronics-intl-ship_sr_pg156_1...\n",
       "Name: c6, Length: 1999, dtype: object"
      ]
     },
     "metadata": {},
     "execution_count": 188
    }
   ],
   "source": [
    "laptop3 = laptop2['c6']\n",
    "laptop3"
   ]
  },
  {
   "cell_type": "code",
   "execution_count": 189,
   "metadata": {},
   "outputs": [
    {
     "output_type": "execute_result",
     "data": {
      "text/plain": [
       "                                                     c1  \\\n",
       "0     https://www.amazon.com/gp/slredirect/picassoRe...   \n",
       "1     https://www.amazon.com/gp/slredirect/picassoRe...   \n",
       "2     https://www.amazon.com/ASUS-IPS-Type-i7-9750H-...   \n",
       "3     https://www.amazon.com/ASUS-VivoBook-i5-1035G1...   \n",
       "4     https://www.amazon.com/Acer-Chromebook-Convert...   \n",
       "...                                                 ...   \n",
       "1994  https://www.amazon.com/gp/slredirect/picassoRe...   \n",
       "1995  https://www.amazon.com/Lenovo-ThinkPad-Worksta...   \n",
       "1996  https://www.amazon.com/Lenovo-Chromebook-Media...   \n",
       "1997  https://www.amazon.com/gp/slredirect/picassoRe...   \n",
       "1998  https://www.amazon.com/gp/slredirect/picassoRe...   \n",
       "\n",
       "                                                     c2    c3           d4  \\\n",
       "0     FAcer-Convertible-i7-1065G7-Rechargeable-SP513...   Fdp  FB086KJCJDM   \n",
       "1     FAcer-i7-1165G7-Graphics-Fingerprint-SF314-59-...   Fdp  FB08JQJ5RKK   \n",
       "2                                                  None  None         None   \n",
       "3                                                  None  None         None   \n",
       "4                                                  None  None         None   \n",
       "...                                                 ...   ...          ...   \n",
       "1994   FXIDU-Touchscreen-2560x1440-Keyboard-Fingerprint   Fdp  FB08P4CGZYK   \n",
       "1995                                               None  None         None   \n",
       "1996                                               None  None         None   \n",
       "1997  F15-6-inch-high-Performance-Quad-core-continuo...   Fdp  FB08N63ZSV7   \n",
       "1998           FCHUWI-Herobook-Pro-Notebook-Lightweight   Fdp  FB085XRL3P1   \n",
       "\n",
       "                                      c5                   c6  \\\n",
       "0        Fref%3Dsr_1_1_sspa%3Fdchild%3D1  6keywords%3Dlaptops   \n",
       "1        Fref%3Dsr_1_2_sspa%3Fdchild%3D1  6keywords%3Dlaptops   \n",
       "2                                   None                 None   \n",
       "3                                   None                 None   \n",
       "4                                   None                 None   \n",
       "...                                  ...                  ...   \n",
       "1994  Fref%3Dsr_1_1870_sspa%3Fdchild%3D1  6keywords%3Dlaptops   \n",
       "1995                                None                 None   \n",
       "1996                                None                 None   \n",
       "1997  Fref%3Dsr_1_1877_sspa%3Fdchild%3D1  6keywords%3Dlaptops   \n",
       "1998  Fref%3Dsr_1_1878_sspa%3Fdchild%3D1  6keywords%3Dlaptops   \n",
       "\n",
       "                     c7                c8                  c9  \\\n",
       "0     6qid%3D1611053262  6s%3Delectronics     6sr%3D1-1-spons   \n",
       "1     6qid%3D1611053262  6s%3Delectronics     6sr%3D1-2-spons   \n",
       "2                  None              None                None   \n",
       "3                  None              None                None   \n",
       "4                  None              None                None   \n",
       "...                 ...               ...                 ...   \n",
       "1994  6qid%3D1611051748  6s%3Delectronics  6sr%3D1-1870-spons   \n",
       "1995               None              None                None   \n",
       "1996               None              None                None   \n",
       "1997  6qid%3D1611051748  6s%3Delectronics  6sr%3D1-1877-spons   \n",
       "1998  6qid%3D1611051748  6s%3Delectronics  6sr%3D1-1878-spons   \n",
       "\n",
       "                                                    c10   c11  \n",
       "0     6psc%3D1&qualifier=1611053262&id=7014795608993...  None  \n",
       "1     6psc%3D1&qualifier=1611053262&id=7014795608993...  None  \n",
       "2                                                  None  None  \n",
       "3                                                  None  None  \n",
       "4                                                  None  None  \n",
       "...                                                 ...   ...  \n",
       "1994  6psc%3D1&qualifier=1611053452&id=5248085494608...  None  \n",
       "1995                                               None  None  \n",
       "1996                                               None  None  \n",
       "1997  6psc%3D1&qualifier=1611053452&id=5248085494608...  None  \n",
       "1998  6psc%3D1&qualifier=1611053452&id=5248085494608...  None  \n",
       "\n",
       "[1999 rows x 11 columns]"
      ],
      "text/html": "<div>\n<style scoped>\n    .dataframe tbody tr th:only-of-type {\n        vertical-align: middle;\n    }\n\n    .dataframe tbody tr th {\n        vertical-align: top;\n    }\n\n    .dataframe thead th {\n        text-align: right;\n    }\n</style>\n<table border=\"1\" class=\"dataframe\">\n  <thead>\n    <tr style=\"text-align: right;\">\n      <th></th>\n      <th>c1</th>\n      <th>c2</th>\n      <th>c3</th>\n      <th>d4</th>\n      <th>c5</th>\n      <th>c6</th>\n      <th>c7</th>\n      <th>c8</th>\n      <th>c9</th>\n      <th>c10</th>\n      <th>c11</th>\n    </tr>\n  </thead>\n  <tbody>\n    <tr>\n      <th>0</th>\n      <td>https://www.amazon.com/gp/slredirect/picassoRe...</td>\n      <td>FAcer-Convertible-i7-1065G7-Rechargeable-SP513...</td>\n      <td>Fdp</td>\n      <td>FB086KJCJDM</td>\n      <td>Fref%3Dsr_1_1_sspa%3Fdchild%3D1</td>\n      <td>6keywords%3Dlaptops</td>\n      <td>6qid%3D1611053262</td>\n      <td>6s%3Delectronics</td>\n      <td>6sr%3D1-1-spons</td>\n      <td>6psc%3D1&amp;qualifier=1611053262&amp;id=7014795608993...</td>\n      <td>None</td>\n    </tr>\n    <tr>\n      <th>1</th>\n      <td>https://www.amazon.com/gp/slredirect/picassoRe...</td>\n      <td>FAcer-i7-1165G7-Graphics-Fingerprint-SF314-59-...</td>\n      <td>Fdp</td>\n      <td>FB08JQJ5RKK</td>\n      <td>Fref%3Dsr_1_2_sspa%3Fdchild%3D1</td>\n      <td>6keywords%3Dlaptops</td>\n      <td>6qid%3D1611053262</td>\n      <td>6s%3Delectronics</td>\n      <td>6sr%3D1-2-spons</td>\n      <td>6psc%3D1&amp;qualifier=1611053262&amp;id=7014795608993...</td>\n      <td>None</td>\n    </tr>\n    <tr>\n      <th>2</th>\n      <td>https://www.amazon.com/ASUS-IPS-Type-i7-9750H-...</td>\n      <td>None</td>\n      <td>None</td>\n      <td>None</td>\n      <td>None</td>\n      <td>None</td>\n      <td>None</td>\n      <td>None</td>\n      <td>None</td>\n      <td>None</td>\n      <td>None</td>\n    </tr>\n    <tr>\n      <th>3</th>\n      <td>https://www.amazon.com/ASUS-VivoBook-i5-1035G1...</td>\n      <td>None</td>\n      <td>None</td>\n      <td>None</td>\n      <td>None</td>\n      <td>None</td>\n      <td>None</td>\n      <td>None</td>\n      <td>None</td>\n      <td>None</td>\n      <td>None</td>\n    </tr>\n    <tr>\n      <th>4</th>\n      <td>https://www.amazon.com/Acer-Chromebook-Convert...</td>\n      <td>None</td>\n      <td>None</td>\n      <td>None</td>\n      <td>None</td>\n      <td>None</td>\n      <td>None</td>\n      <td>None</td>\n      <td>None</td>\n      <td>None</td>\n      <td>None</td>\n    </tr>\n    <tr>\n      <th>...</th>\n      <td>...</td>\n      <td>...</td>\n      <td>...</td>\n      <td>...</td>\n      <td>...</td>\n      <td>...</td>\n      <td>...</td>\n      <td>...</td>\n      <td>...</td>\n      <td>...</td>\n      <td>...</td>\n    </tr>\n    <tr>\n      <th>1994</th>\n      <td>https://www.amazon.com/gp/slredirect/picassoRe...</td>\n      <td>FXIDU-Touchscreen-2560x1440-Keyboard-Fingerprint</td>\n      <td>Fdp</td>\n      <td>FB08P4CGZYK</td>\n      <td>Fref%3Dsr_1_1870_sspa%3Fdchild%3D1</td>\n      <td>6keywords%3Dlaptops</td>\n      <td>6qid%3D1611051748</td>\n      <td>6s%3Delectronics</td>\n      <td>6sr%3D1-1870-spons</td>\n      <td>6psc%3D1&amp;qualifier=1611053452&amp;id=5248085494608...</td>\n      <td>None</td>\n    </tr>\n    <tr>\n      <th>1995</th>\n      <td>https://www.amazon.com/Lenovo-ThinkPad-Worksta...</td>\n      <td>None</td>\n      <td>None</td>\n      <td>None</td>\n      <td>None</td>\n      <td>None</td>\n      <td>None</td>\n      <td>None</td>\n      <td>None</td>\n      <td>None</td>\n      <td>None</td>\n    </tr>\n    <tr>\n      <th>1996</th>\n      <td>https://www.amazon.com/Lenovo-Chromebook-Media...</td>\n      <td>None</td>\n      <td>None</td>\n      <td>None</td>\n      <td>None</td>\n      <td>None</td>\n      <td>None</td>\n      <td>None</td>\n      <td>None</td>\n      <td>None</td>\n      <td>None</td>\n    </tr>\n    <tr>\n      <th>1997</th>\n      <td>https://www.amazon.com/gp/slredirect/picassoRe...</td>\n      <td>F15-6-inch-high-Performance-Quad-core-continuo...</td>\n      <td>Fdp</td>\n      <td>FB08N63ZSV7</td>\n      <td>Fref%3Dsr_1_1877_sspa%3Fdchild%3D1</td>\n      <td>6keywords%3Dlaptops</td>\n      <td>6qid%3D1611051748</td>\n      <td>6s%3Delectronics</td>\n      <td>6sr%3D1-1877-spons</td>\n      <td>6psc%3D1&amp;qualifier=1611053452&amp;id=5248085494608...</td>\n      <td>None</td>\n    </tr>\n    <tr>\n      <th>1998</th>\n      <td>https://www.amazon.com/gp/slredirect/picassoRe...</td>\n      <td>FCHUWI-Herobook-Pro-Notebook-Lightweight</td>\n      <td>Fdp</td>\n      <td>FB085XRL3P1</td>\n      <td>Fref%3Dsr_1_1878_sspa%3Fdchild%3D1</td>\n      <td>6keywords%3Dlaptops</td>\n      <td>6qid%3D1611051748</td>\n      <td>6s%3Delectronics</td>\n      <td>6sr%3D1-1878-spons</td>\n      <td>6psc%3D1&amp;qualifier=1611053452&amp;id=5248085494608...</td>\n      <td>None</td>\n    </tr>\n  </tbody>\n</table>\n<p>1999 rows × 11 columns</p>\n</div>"
     },
     "metadata": {},
     "execution_count": 189
    }
   ],
   "source": [
    "cols = ['c1','c2','c3','d4','c5','c6','c7','c8','c9','c10','c11']\n",
    "make_me = []\n",
    "for url in urls:\n",
    "    lst = url.split(\"%2\")\n",
    "    # your business rules go here\n",
    "    make_me.append([x for x in lst if not x.isdigit() and not x == \"\"])\n",
    "    \n",
    "\n",
    "laptop4 = pd.DataFrame(make_me, columns=cols)\n",
    "laptop4"
   ]
  },
  {
   "cell_type": "code",
   "execution_count": 190,
   "metadata": {},
   "outputs": [
    {
     "output_type": "execute_result",
     "data": {
      "text/plain": [
       "0       FB086KJCJDM\n",
       "1       FB08JQJ5RKK\n",
       "2              None\n",
       "3              None\n",
       "4              None\n",
       "           ...     \n",
       "1994    FB08P4CGZYK\n",
       "1995           None\n",
       "1996           None\n",
       "1997    FB08N63ZSV7\n",
       "1998    FB085XRL3P1\n",
       "Name: d4, Length: 1999, dtype: object"
      ]
     },
     "metadata": {},
     "execution_count": 190
    }
   ],
   "source": [
    "laptop5 = laptop4['d4']\n",
    "laptop5"
   ]
  },
  {
   "cell_type": "code",
   "execution_count": 191,
   "metadata": {},
   "outputs": [
    {
     "output_type": "execute_result",
     "data": {
      "text/plain": [
       "               d4\n",
       "0     FB086KJCJDM\n",
       "1     FB08JQJ5RKK\n",
       "2            None\n",
       "3            None\n",
       "4            None\n",
       "...           ...\n",
       "1994  FB08P4CGZYK\n",
       "1995         None\n",
       "1996         None\n",
       "1997  FB08N63ZSV7\n",
       "1998  FB085XRL3P1\n",
       "\n",
       "[1999 rows x 1 columns]"
      ],
      "text/html": "<div>\n<style scoped>\n    .dataframe tbody tr th:only-of-type {\n        vertical-align: middle;\n    }\n\n    .dataframe tbody tr th {\n        vertical-align: top;\n    }\n\n    .dataframe thead th {\n        text-align: right;\n    }\n</style>\n<table border=\"1\" class=\"dataframe\">\n  <thead>\n    <tr style=\"text-align: right;\">\n      <th></th>\n      <th>d4</th>\n    </tr>\n  </thead>\n  <tbody>\n    <tr>\n      <th>0</th>\n      <td>FB086KJCJDM</td>\n    </tr>\n    <tr>\n      <th>1</th>\n      <td>FB08JQJ5RKK</td>\n    </tr>\n    <tr>\n      <th>2</th>\n      <td>None</td>\n    </tr>\n    <tr>\n      <th>3</th>\n      <td>None</td>\n    </tr>\n    <tr>\n      <th>4</th>\n      <td>None</td>\n    </tr>\n    <tr>\n      <th>...</th>\n      <td>...</td>\n    </tr>\n    <tr>\n      <th>1994</th>\n      <td>FB08P4CGZYK</td>\n    </tr>\n    <tr>\n      <th>1995</th>\n      <td>None</td>\n    </tr>\n    <tr>\n      <th>1996</th>\n      <td>None</td>\n    </tr>\n    <tr>\n      <th>1997</th>\n      <td>FB08N63ZSV7</td>\n    </tr>\n    <tr>\n      <th>1998</th>\n      <td>FB085XRL3P1</td>\n    </tr>\n  </tbody>\n</table>\n<p>1999 rows × 1 columns</p>\n</div>"
     },
     "metadata": {},
     "execution_count": 191
    }
   ],
   "source": [
    "pd.DataFrame(laptop5)"
   ]
  },
  {
   "cell_type": "code",
   "execution_count": 192,
   "metadata": {},
   "outputs": [
    {
     "output_type": "execute_result",
     "data": {
      "text/plain": [
       "                        c5           d4\n",
       "0     picassoRedirect.html  FB086KJCJDM\n",
       "1     picassoRedirect.html  FB08JQJ5RKK\n",
       "2               B08KH2Q1FG         None\n",
       "3               B086QZSLDH         None\n",
       "4               B086MBQKH2         None\n",
       "...                    ...          ...\n",
       "1994  picassoRedirect.html  FB08P4CGZYK\n",
       "1995            B07F5JCW9M         None\n",
       "1996            B08F4JRXFZ         None\n",
       "1997  picassoRedirect.html  FB08N63ZSV7\n",
       "1998  picassoRedirect.html  FB085XRL3P1\n",
       "\n",
       "[1999 rows x 2 columns]"
      ],
      "text/html": "<div>\n<style scoped>\n    .dataframe tbody tr th:only-of-type {\n        vertical-align: middle;\n    }\n\n    .dataframe tbody tr th {\n        vertical-align: top;\n    }\n\n    .dataframe thead th {\n        text-align: right;\n    }\n</style>\n<table border=\"1\" class=\"dataframe\">\n  <thead>\n    <tr style=\"text-align: right;\">\n      <th></th>\n      <th>c5</th>\n      <th>d4</th>\n    </tr>\n  </thead>\n  <tbody>\n    <tr>\n      <th>0</th>\n      <td>picassoRedirect.html</td>\n      <td>FB086KJCJDM</td>\n    </tr>\n    <tr>\n      <th>1</th>\n      <td>picassoRedirect.html</td>\n      <td>FB08JQJ5RKK</td>\n    </tr>\n    <tr>\n      <th>2</th>\n      <td>B08KH2Q1FG</td>\n      <td>None</td>\n    </tr>\n    <tr>\n      <th>3</th>\n      <td>B086QZSLDH</td>\n      <td>None</td>\n    </tr>\n    <tr>\n      <th>4</th>\n      <td>B086MBQKH2</td>\n      <td>None</td>\n    </tr>\n    <tr>\n      <th>...</th>\n      <td>...</td>\n      <td>...</td>\n    </tr>\n    <tr>\n      <th>1994</th>\n      <td>picassoRedirect.html</td>\n      <td>FB08P4CGZYK</td>\n    </tr>\n    <tr>\n      <th>1995</th>\n      <td>B07F5JCW9M</td>\n      <td>None</td>\n    </tr>\n    <tr>\n      <th>1996</th>\n      <td>B08F4JRXFZ</td>\n      <td>None</td>\n    </tr>\n    <tr>\n      <th>1997</th>\n      <td>picassoRedirect.html</td>\n      <td>FB08N63ZSV7</td>\n    </tr>\n    <tr>\n      <th>1998</th>\n      <td>picassoRedirect.html</td>\n      <td>FB085XRL3P1</td>\n    </tr>\n  </tbody>\n</table>\n<p>1999 rows × 2 columns</p>\n</div>"
     },
     "metadata": {},
     "execution_count": 192
    }
   ],
   "source": [
    "laptop6 = pd.concat([asin, laptop5], axis=1)\n",
    "laptop6"
   ]
  },
  {
   "cell_type": "code",
   "execution_count": 193,
   "metadata": {},
   "outputs": [
    {
     "output_type": "execute_result",
     "data": {
      "text/plain": [
       "                        c5          d4\n",
       "0     picassoRedirect.html  B086KJCJDM\n",
       "1     picassoRedirect.html  B08JQJ5RKK\n",
       "2               B08KH2Q1FG        None\n",
       "3               B086QZSLDH        None\n",
       "4               B086MBQKH2        None\n",
       "...                    ...         ...\n",
       "1994  picassoRedirect.html  B08P4CGZYK\n",
       "1995            B07F5JCW9M        None\n",
       "1996            B08F4JRXFZ        None\n",
       "1997  picassoRedirect.html  B08N63ZSV7\n",
       "1998  picassoRedirect.html  B085XRL3P1\n",
       "\n",
       "[1999 rows x 2 columns]"
      ],
      "text/html": "<div>\n<style scoped>\n    .dataframe tbody tr th:only-of-type {\n        vertical-align: middle;\n    }\n\n    .dataframe tbody tr th {\n        vertical-align: top;\n    }\n\n    .dataframe thead th {\n        text-align: right;\n    }\n</style>\n<table border=\"1\" class=\"dataframe\">\n  <thead>\n    <tr style=\"text-align: right;\">\n      <th></th>\n      <th>c5</th>\n      <th>d4</th>\n    </tr>\n  </thead>\n  <tbody>\n    <tr>\n      <th>0</th>\n      <td>picassoRedirect.html</td>\n      <td>B086KJCJDM</td>\n    </tr>\n    <tr>\n      <th>1</th>\n      <td>picassoRedirect.html</td>\n      <td>B08JQJ5RKK</td>\n    </tr>\n    <tr>\n      <th>2</th>\n      <td>B08KH2Q1FG</td>\n      <td>None</td>\n    </tr>\n    <tr>\n      <th>3</th>\n      <td>B086QZSLDH</td>\n      <td>None</td>\n    </tr>\n    <tr>\n      <th>4</th>\n      <td>B086MBQKH2</td>\n      <td>None</td>\n    </tr>\n    <tr>\n      <th>...</th>\n      <td>...</td>\n      <td>...</td>\n    </tr>\n    <tr>\n      <th>1994</th>\n      <td>picassoRedirect.html</td>\n      <td>B08P4CGZYK</td>\n    </tr>\n    <tr>\n      <th>1995</th>\n      <td>B07F5JCW9M</td>\n      <td>None</td>\n    </tr>\n    <tr>\n      <th>1996</th>\n      <td>B08F4JRXFZ</td>\n      <td>None</td>\n    </tr>\n    <tr>\n      <th>1997</th>\n      <td>picassoRedirect.html</td>\n      <td>B08N63ZSV7</td>\n    </tr>\n    <tr>\n      <th>1998</th>\n      <td>picassoRedirect.html</td>\n      <td>B085XRL3P1</td>\n    </tr>\n  </tbody>\n</table>\n<p>1999 rows × 2 columns</p>\n</div>"
     },
     "metadata": {},
     "execution_count": 193
    }
   ],
   "source": [
    "laptop6['d4'] = laptop6['d4'].str[1:]\n",
    "laptop6"
   ]
  },
  {
   "cell_type": "code",
   "execution_count": 194,
   "metadata": {},
   "outputs": [
    {
     "output_type": "execute_result",
     "data": {
      "text/plain": [
       "              c5          d4\n",
       "0     B086KJCJDM  B086KJCJDM\n",
       "1     B08JQJ5RKK  B08JQJ5RKK\n",
       "2     B08KH2Q1FG        None\n",
       "3     B086QZSLDH        None\n",
       "4     B086MBQKH2        None\n",
       "...          ...         ...\n",
       "1994  B08P4CGZYK  B08P4CGZYK\n",
       "1995  B07F5JCW9M        None\n",
       "1996  B08F4JRXFZ        None\n",
       "1997  B08N63ZSV7  B08N63ZSV7\n",
       "1998  B085XRL3P1  B085XRL3P1\n",
       "\n",
       "[1999 rows x 2 columns]"
      ],
      "text/html": "<div>\n<style scoped>\n    .dataframe tbody tr th:only-of-type {\n        vertical-align: middle;\n    }\n\n    .dataframe tbody tr th {\n        vertical-align: top;\n    }\n\n    .dataframe thead th {\n        text-align: right;\n    }\n</style>\n<table border=\"1\" class=\"dataframe\">\n  <thead>\n    <tr style=\"text-align: right;\">\n      <th></th>\n      <th>c5</th>\n      <th>d4</th>\n    </tr>\n  </thead>\n  <tbody>\n    <tr>\n      <th>0</th>\n      <td>B086KJCJDM</td>\n      <td>B086KJCJDM</td>\n    </tr>\n    <tr>\n      <th>1</th>\n      <td>B08JQJ5RKK</td>\n      <td>B08JQJ5RKK</td>\n    </tr>\n    <tr>\n      <th>2</th>\n      <td>B08KH2Q1FG</td>\n      <td>None</td>\n    </tr>\n    <tr>\n      <th>3</th>\n      <td>B086QZSLDH</td>\n      <td>None</td>\n    </tr>\n    <tr>\n      <th>4</th>\n      <td>B086MBQKH2</td>\n      <td>None</td>\n    </tr>\n    <tr>\n      <th>...</th>\n      <td>...</td>\n      <td>...</td>\n    </tr>\n    <tr>\n      <th>1994</th>\n      <td>B08P4CGZYK</td>\n      <td>B08P4CGZYK</td>\n    </tr>\n    <tr>\n      <th>1995</th>\n      <td>B07F5JCW9M</td>\n      <td>None</td>\n    </tr>\n    <tr>\n      <th>1996</th>\n      <td>B08F4JRXFZ</td>\n      <td>None</td>\n    </tr>\n    <tr>\n      <th>1997</th>\n      <td>B08N63ZSV7</td>\n      <td>B08N63ZSV7</td>\n    </tr>\n    <tr>\n      <th>1998</th>\n      <td>B085XRL3P1</td>\n      <td>B085XRL3P1</td>\n    </tr>\n  </tbody>\n</table>\n<p>1999 rows × 2 columns</p>\n</div>"
     },
     "metadata": {},
     "execution_count": 194
    }
   ],
   "source": [
    "laptop6['c5'] = np.where(laptop6['c5'] == 'picassoRedirect.html', laptop6['d4'], laptop6['c5'])\n",
    "laptop6"
   ]
  },
  {
   "cell_type": "code",
   "execution_count": 195,
   "metadata": {},
   "outputs": [
    {
     "output_type": "execute_result",
     "data": {
      "text/plain": [
       "              c5\n",
       "0     B086KJCJDM\n",
       "1     B08JQJ5RKK\n",
       "2     B08KH2Q1FG\n",
       "3     B086QZSLDH\n",
       "4     B086MBQKH2\n",
       "...          ...\n",
       "1994  B08P4CGZYK\n",
       "1995  B07F5JCW9M\n",
       "1996  B08F4JRXFZ\n",
       "1997  B08N63ZSV7\n",
       "1998  B085XRL3P1\n",
       "\n",
       "[1999 rows x 1 columns]"
      ],
      "text/html": "<div>\n<style scoped>\n    .dataframe tbody tr th:only-of-type {\n        vertical-align: middle;\n    }\n\n    .dataframe tbody tr th {\n        vertical-align: top;\n    }\n\n    .dataframe thead th {\n        text-align: right;\n    }\n</style>\n<table border=\"1\" class=\"dataframe\">\n  <thead>\n    <tr style=\"text-align: right;\">\n      <th></th>\n      <th>c5</th>\n    </tr>\n  </thead>\n  <tbody>\n    <tr>\n      <th>0</th>\n      <td>B086KJCJDM</td>\n    </tr>\n    <tr>\n      <th>1</th>\n      <td>B08JQJ5RKK</td>\n    </tr>\n    <tr>\n      <th>2</th>\n      <td>B08KH2Q1FG</td>\n    </tr>\n    <tr>\n      <th>3</th>\n      <td>B086QZSLDH</td>\n    </tr>\n    <tr>\n      <th>4</th>\n      <td>B086MBQKH2</td>\n    </tr>\n    <tr>\n      <th>...</th>\n      <td>...</td>\n    </tr>\n    <tr>\n      <th>1994</th>\n      <td>B08P4CGZYK</td>\n    </tr>\n    <tr>\n      <th>1995</th>\n      <td>B07F5JCW9M</td>\n    </tr>\n    <tr>\n      <th>1996</th>\n      <td>B08F4JRXFZ</td>\n    </tr>\n    <tr>\n      <th>1997</th>\n      <td>B08N63ZSV7</td>\n    </tr>\n    <tr>\n      <th>1998</th>\n      <td>B085XRL3P1</td>\n    </tr>\n  </tbody>\n</table>\n<p>1999 rows × 1 columns</p>\n</div>"
     },
     "metadata": {},
     "execution_count": 195
    }
   ],
   "source": [
    "newasin = laptop6.drop(['d4'],axis=1)\n",
    "newasin"
   ]
  },
  {
   "cell_type": "code",
   "execution_count": 196,
   "metadata": {},
   "outputs": [
    {
     "output_type": "execute_result",
     "data": {
      "text/plain": [
       "                                                  title  \\\n",
       "0     Acer Spin 5 Convertible Laptop, 13.5\" 2K 2256 ...   \n",
       "1     Acer Swift 3 Intel Evo Thin & Light Laptop, 14...   \n",
       "2     ASUS TUF Gaming Laptop, 15.6” 144Hz Full HD IP...   \n",
       "3     ASUS VivoBook 15 Thin and Light Laptop- 15.6” ...   \n",
       "4     Acer Chromebook Spin 311 Convertible Laptop, I...   \n",
       "...                                                 ...   \n",
       "1994  XIDU Tour Pro 12.5\" Touchscreen Laptop, 2K(256...   \n",
       "1995  Lenovo 15.6\" ThinkPad P52 LCD Mobile Workstati...   \n",
       "1996  Lenovo Chromebook Duet, 2-in-1, 10.1\" WUXGA (1...   \n",
       "1997  2020 15.6-inch Laptop 6G + 256G, Intel celeron...   \n",
       "1998  CHUWI Herobook Pro 14.1 inch Windows 10 Intel ...   \n",
       "\n",
       "                                                    url  rating  review_count  \\\n",
       "0     https://www.amazon.com/gp/slredirect/picassoRe...     4.5           358   \n",
       "1     https://www.amazon.com/gp/slredirect/picassoRe...     3.7            13   \n",
       "2     https://www.amazon.com/ASUS-IPS-Type-i7-9750H-...     4.6           653   \n",
       "3     https://www.amazon.com/ASUS-VivoBook-i5-1035G1...     4.5          3044   \n",
       "4     https://www.amazon.com/Acer-Chromebook-Convert...     4.7          3936   \n",
       "...                                                 ...     ...           ...   \n",
       "1994  https://www.amazon.com/gp/slredirect/picassoRe...     4.4            55   \n",
       "1995  https://www.amazon.com/Lenovo-ThinkPad-Worksta...     4.0             1   \n",
       "1996  https://www.amazon.com/Lenovo-Chromebook-Media...     4.8            75   \n",
       "1997  https://www.amazon.com/gp/slredirect/picassoRe...     3.0             3   \n",
       "1998  https://www.amazon.com/gp/slredirect/picassoRe...     4.0           343   \n",
       "\n",
       "        price product_type          c5  \n",
       "0      839.99       LAPTOP  B086KJCJDM  \n",
       "1      799.99       LAPTOP  B08JQJ5RKK  \n",
       "2      769.99       LAPTOP  B08KH2Q1FG  \n",
       "3      599.99       LAPTOP  B086QZSLDH  \n",
       "4      269.99       LAPTOP  B086MBQKH2  \n",
       "...       ...          ...         ...  \n",
       "1994   429.99       LAPTOP  B08P4CGZYK  \n",
       "1995  2629.36       LAPTOP  B07F5JCW9M  \n",
       "1996   288.60       LAPTOP  B08F4JRXFZ  \n",
       "1997   359.00       LAPTOP  B08N63ZSV7  \n",
       "1998   339.00       LAPTOP  B085XRL3P1  \n",
       "\n",
       "[1999 rows x 7 columns]"
      ],
      "text/html": "<div>\n<style scoped>\n    .dataframe tbody tr th:only-of-type {\n        vertical-align: middle;\n    }\n\n    .dataframe tbody tr th {\n        vertical-align: top;\n    }\n\n    .dataframe thead th {\n        text-align: right;\n    }\n</style>\n<table border=\"1\" class=\"dataframe\">\n  <thead>\n    <tr style=\"text-align: right;\">\n      <th></th>\n      <th>title</th>\n      <th>url</th>\n      <th>rating</th>\n      <th>review_count</th>\n      <th>price</th>\n      <th>product_type</th>\n      <th>c5</th>\n    </tr>\n  </thead>\n  <tbody>\n    <tr>\n      <th>0</th>\n      <td>Acer Spin 5 Convertible Laptop, 13.5\" 2K 2256 ...</td>\n      <td>https://www.amazon.com/gp/slredirect/picassoRe...</td>\n      <td>4.5</td>\n      <td>358</td>\n      <td>839.99</td>\n      <td>LAPTOP</td>\n      <td>B086KJCJDM</td>\n    </tr>\n    <tr>\n      <th>1</th>\n      <td>Acer Swift 3 Intel Evo Thin &amp; Light Laptop, 14...</td>\n      <td>https://www.amazon.com/gp/slredirect/picassoRe...</td>\n      <td>3.7</td>\n      <td>13</td>\n      <td>799.99</td>\n      <td>LAPTOP</td>\n      <td>B08JQJ5RKK</td>\n    </tr>\n    <tr>\n      <th>2</th>\n      <td>ASUS TUF Gaming Laptop, 15.6” 144Hz Full HD IP...</td>\n      <td>https://www.amazon.com/ASUS-IPS-Type-i7-9750H-...</td>\n      <td>4.6</td>\n      <td>653</td>\n      <td>769.99</td>\n      <td>LAPTOP</td>\n      <td>B08KH2Q1FG</td>\n    </tr>\n    <tr>\n      <th>3</th>\n      <td>ASUS VivoBook 15 Thin and Light Laptop- 15.6” ...</td>\n      <td>https://www.amazon.com/ASUS-VivoBook-i5-1035G1...</td>\n      <td>4.5</td>\n      <td>3044</td>\n      <td>599.99</td>\n      <td>LAPTOP</td>\n      <td>B086QZSLDH</td>\n    </tr>\n    <tr>\n      <th>4</th>\n      <td>Acer Chromebook Spin 311 Convertible Laptop, I...</td>\n      <td>https://www.amazon.com/Acer-Chromebook-Convert...</td>\n      <td>4.7</td>\n      <td>3936</td>\n      <td>269.99</td>\n      <td>LAPTOP</td>\n      <td>B086MBQKH2</td>\n    </tr>\n    <tr>\n      <th>...</th>\n      <td>...</td>\n      <td>...</td>\n      <td>...</td>\n      <td>...</td>\n      <td>...</td>\n      <td>...</td>\n      <td>...</td>\n    </tr>\n    <tr>\n      <th>1994</th>\n      <td>XIDU Tour Pro 12.5\" Touchscreen Laptop, 2K(256...</td>\n      <td>https://www.amazon.com/gp/slredirect/picassoRe...</td>\n      <td>4.4</td>\n      <td>55</td>\n      <td>429.99</td>\n      <td>LAPTOP</td>\n      <td>B08P4CGZYK</td>\n    </tr>\n    <tr>\n      <th>1995</th>\n      <td>Lenovo 15.6\" ThinkPad P52 LCD Mobile Workstati...</td>\n      <td>https://www.amazon.com/Lenovo-ThinkPad-Worksta...</td>\n      <td>4.0</td>\n      <td>1</td>\n      <td>2629.36</td>\n      <td>LAPTOP</td>\n      <td>B07F5JCW9M</td>\n    </tr>\n    <tr>\n      <th>1996</th>\n      <td>Lenovo Chromebook Duet, 2-in-1, 10.1\" WUXGA (1...</td>\n      <td>https://www.amazon.com/Lenovo-Chromebook-Media...</td>\n      <td>4.8</td>\n      <td>75</td>\n      <td>288.60</td>\n      <td>LAPTOP</td>\n      <td>B08F4JRXFZ</td>\n    </tr>\n    <tr>\n      <th>1997</th>\n      <td>2020 15.6-inch Laptop 6G + 256G, Intel celeron...</td>\n      <td>https://www.amazon.com/gp/slredirect/picassoRe...</td>\n      <td>3.0</td>\n      <td>3</td>\n      <td>359.00</td>\n      <td>LAPTOP</td>\n      <td>B08N63ZSV7</td>\n    </tr>\n    <tr>\n      <th>1998</th>\n      <td>CHUWI Herobook Pro 14.1 inch Windows 10 Intel ...</td>\n      <td>https://www.amazon.com/gp/slredirect/picassoRe...</td>\n      <td>4.0</td>\n      <td>343</td>\n      <td>339.00</td>\n      <td>LAPTOP</td>\n      <td>B085XRL3P1</td>\n    </tr>\n  </tbody>\n</table>\n<p>1999 rows × 7 columns</p>\n</div>"
     },
     "metadata": {},
     "execution_count": 196
    }
   ],
   "source": [
    "laptopasin = pd.concat([laptop1, newasin], axis=1)\n",
    "laptopasin"
   ]
  },
  {
   "cell_type": "code",
   "execution_count": 197,
   "metadata": {},
   "outputs": [],
   "source": [
    "laptopasin = laptopasin.drop(['url' ], axis = 1)"
   ]
  },
  {
   "cell_type": "code",
   "execution_count": 198,
   "metadata": {},
   "outputs": [
    {
     "output_type": "execute_result",
     "data": {
      "text/plain": [
       "                                                  title  rating  review_count  \\\n",
       "0     Acer Spin 5 Convertible Laptop, 13.5\" 2K 2256 ...     4.5           358   \n",
       "1     Acer Swift 3 Intel Evo Thin & Light Laptop, 14...     3.7            13   \n",
       "2     ASUS TUF Gaming Laptop, 15.6” 144Hz Full HD IP...     4.6           653   \n",
       "3     ASUS VivoBook 15 Thin and Light Laptop- 15.6” ...     4.5          3044   \n",
       "4     Acer Chromebook Spin 311 Convertible Laptop, I...     4.7          3936   \n",
       "...                                                 ...     ...           ...   \n",
       "1994  XIDU Tour Pro 12.5\" Touchscreen Laptop, 2K(256...     4.4            55   \n",
       "1995  Lenovo 15.6\" ThinkPad P52 LCD Mobile Workstati...     4.0             1   \n",
       "1996  Lenovo Chromebook Duet, 2-in-1, 10.1\" WUXGA (1...     4.8            75   \n",
       "1997  2020 15.6-inch Laptop 6G + 256G, Intel celeron...     3.0             3   \n",
       "1998  CHUWI Herobook Pro 14.1 inch Windows 10 Intel ...     4.0           343   \n",
       "\n",
       "        price product_type        ASIN  \n",
       "0      839.99       LAPTOP  B086KJCJDM  \n",
       "1      799.99       LAPTOP  B08JQJ5RKK  \n",
       "2      769.99       LAPTOP  B08KH2Q1FG  \n",
       "3      599.99       LAPTOP  B086QZSLDH  \n",
       "4      269.99       LAPTOP  B086MBQKH2  \n",
       "...       ...          ...         ...  \n",
       "1994   429.99       LAPTOP  B08P4CGZYK  \n",
       "1995  2629.36       LAPTOP  B07F5JCW9M  \n",
       "1996   288.60       LAPTOP  B08F4JRXFZ  \n",
       "1997   359.00       LAPTOP  B08N63ZSV7  \n",
       "1998   339.00       LAPTOP  B085XRL3P1  \n",
       "\n",
       "[1999 rows x 6 columns]"
      ],
      "text/html": "<div>\n<style scoped>\n    .dataframe tbody tr th:only-of-type {\n        vertical-align: middle;\n    }\n\n    .dataframe tbody tr th {\n        vertical-align: top;\n    }\n\n    .dataframe thead th {\n        text-align: right;\n    }\n</style>\n<table border=\"1\" class=\"dataframe\">\n  <thead>\n    <tr style=\"text-align: right;\">\n      <th></th>\n      <th>title</th>\n      <th>rating</th>\n      <th>review_count</th>\n      <th>price</th>\n      <th>product_type</th>\n      <th>ASIN</th>\n    </tr>\n  </thead>\n  <tbody>\n    <tr>\n      <th>0</th>\n      <td>Acer Spin 5 Convertible Laptop, 13.5\" 2K 2256 ...</td>\n      <td>4.5</td>\n      <td>358</td>\n      <td>839.99</td>\n      <td>LAPTOP</td>\n      <td>B086KJCJDM</td>\n    </tr>\n    <tr>\n      <th>1</th>\n      <td>Acer Swift 3 Intel Evo Thin &amp; Light Laptop, 14...</td>\n      <td>3.7</td>\n      <td>13</td>\n      <td>799.99</td>\n      <td>LAPTOP</td>\n      <td>B08JQJ5RKK</td>\n    </tr>\n    <tr>\n      <th>2</th>\n      <td>ASUS TUF Gaming Laptop, 15.6” 144Hz Full HD IP...</td>\n      <td>4.6</td>\n      <td>653</td>\n      <td>769.99</td>\n      <td>LAPTOP</td>\n      <td>B08KH2Q1FG</td>\n    </tr>\n    <tr>\n      <th>3</th>\n      <td>ASUS VivoBook 15 Thin and Light Laptop- 15.6” ...</td>\n      <td>4.5</td>\n      <td>3044</td>\n      <td>599.99</td>\n      <td>LAPTOP</td>\n      <td>B086QZSLDH</td>\n    </tr>\n    <tr>\n      <th>4</th>\n      <td>Acer Chromebook Spin 311 Convertible Laptop, I...</td>\n      <td>4.7</td>\n      <td>3936</td>\n      <td>269.99</td>\n      <td>LAPTOP</td>\n      <td>B086MBQKH2</td>\n    </tr>\n    <tr>\n      <th>...</th>\n      <td>...</td>\n      <td>...</td>\n      <td>...</td>\n      <td>...</td>\n      <td>...</td>\n      <td>...</td>\n    </tr>\n    <tr>\n      <th>1994</th>\n      <td>XIDU Tour Pro 12.5\" Touchscreen Laptop, 2K(256...</td>\n      <td>4.4</td>\n      <td>55</td>\n      <td>429.99</td>\n      <td>LAPTOP</td>\n      <td>B08P4CGZYK</td>\n    </tr>\n    <tr>\n      <th>1995</th>\n      <td>Lenovo 15.6\" ThinkPad P52 LCD Mobile Workstati...</td>\n      <td>4.0</td>\n      <td>1</td>\n      <td>2629.36</td>\n      <td>LAPTOP</td>\n      <td>B07F5JCW9M</td>\n    </tr>\n    <tr>\n      <th>1996</th>\n      <td>Lenovo Chromebook Duet, 2-in-1, 10.1\" WUXGA (1...</td>\n      <td>4.8</td>\n      <td>75</td>\n      <td>288.60</td>\n      <td>LAPTOP</td>\n      <td>B08F4JRXFZ</td>\n    </tr>\n    <tr>\n      <th>1997</th>\n      <td>2020 15.6-inch Laptop 6G + 256G, Intel celeron...</td>\n      <td>3.0</td>\n      <td>3</td>\n      <td>359.00</td>\n      <td>LAPTOP</td>\n      <td>B08N63ZSV7</td>\n    </tr>\n    <tr>\n      <th>1998</th>\n      <td>CHUWI Herobook Pro 14.1 inch Windows 10 Intel ...</td>\n      <td>4.0</td>\n      <td>343</td>\n      <td>339.00</td>\n      <td>LAPTOP</td>\n      <td>B085XRL3P1</td>\n    </tr>\n  </tbody>\n</table>\n<p>1999 rows × 6 columns</p>\n</div>"
     },
     "metadata": {},
     "execution_count": 198
    }
   ],
   "source": [
    "laptopasin = laptopasin.rename(columns={'c5': 'ASIN'})\n",
    "laptopasin"
   ]
  },
  {
   "cell_type": "code",
   "execution_count": 199,
   "metadata": {},
   "outputs": [
    {
     "output_type": "execute_result",
     "data": {
      "text/plain": [
       "            ASIN                                              title    price  \\\n",
       "0     B086KJCJDM  Acer Spin 5 Convertible Laptop, 13.5\" 2K 2256 ...   839.99   \n",
       "1     B08JQJ5RKK  Acer Swift 3 Intel Evo Thin & Light Laptop, 14...   799.99   \n",
       "2     B08KH2Q1FG  ASUS TUF Gaming Laptop, 15.6” 144Hz Full HD IP...   769.99   \n",
       "3     B086QZSLDH  ASUS VivoBook 15 Thin and Light Laptop- 15.6” ...   599.99   \n",
       "4     B086MBQKH2  Acer Chromebook Spin 311 Convertible Laptop, I...   269.99   \n",
       "...          ...                                                ...      ...   \n",
       "1994  B08P4CGZYK  XIDU Tour Pro 12.5\" Touchscreen Laptop, 2K(256...   429.99   \n",
       "1995  B07F5JCW9M  Lenovo 15.6\" ThinkPad P52 LCD Mobile Workstati...  2629.36   \n",
       "1996  B08F4JRXFZ  Lenovo Chromebook Duet, 2-in-1, 10.1\" WUXGA (1...   288.60   \n",
       "1997  B08N63ZSV7  2020 15.6-inch Laptop 6G + 256G, Intel celeron...   359.00   \n",
       "1998  B085XRL3P1  CHUWI Herobook Pro 14.1 inch Windows 10 Intel ...   339.00   \n",
       "\n",
       "      rating  review_count product_type  \n",
       "0        4.5           358       LAPTOP  \n",
       "1        3.7            13       LAPTOP  \n",
       "2        4.6           653       LAPTOP  \n",
       "3        4.5          3044       LAPTOP  \n",
       "4        4.7          3936       LAPTOP  \n",
       "...      ...           ...          ...  \n",
       "1994     4.4            55       LAPTOP  \n",
       "1995     4.0             1       LAPTOP  \n",
       "1996     4.8            75       LAPTOP  \n",
       "1997     3.0             3       LAPTOP  \n",
       "1998     4.0           343       LAPTOP  \n",
       "\n",
       "[1999 rows x 6 columns]"
      ],
      "text/html": "<div>\n<style scoped>\n    .dataframe tbody tr th:only-of-type {\n        vertical-align: middle;\n    }\n\n    .dataframe tbody tr th {\n        vertical-align: top;\n    }\n\n    .dataframe thead th {\n        text-align: right;\n    }\n</style>\n<table border=\"1\" class=\"dataframe\">\n  <thead>\n    <tr style=\"text-align: right;\">\n      <th></th>\n      <th>ASIN</th>\n      <th>title</th>\n      <th>price</th>\n      <th>rating</th>\n      <th>review_count</th>\n      <th>product_type</th>\n    </tr>\n  </thead>\n  <tbody>\n    <tr>\n      <th>0</th>\n      <td>B086KJCJDM</td>\n      <td>Acer Spin 5 Convertible Laptop, 13.5\" 2K 2256 ...</td>\n      <td>839.99</td>\n      <td>4.5</td>\n      <td>358</td>\n      <td>LAPTOP</td>\n    </tr>\n    <tr>\n      <th>1</th>\n      <td>B08JQJ5RKK</td>\n      <td>Acer Swift 3 Intel Evo Thin &amp; Light Laptop, 14...</td>\n      <td>799.99</td>\n      <td>3.7</td>\n      <td>13</td>\n      <td>LAPTOP</td>\n    </tr>\n    <tr>\n      <th>2</th>\n      <td>B08KH2Q1FG</td>\n      <td>ASUS TUF Gaming Laptop, 15.6” 144Hz Full HD IP...</td>\n      <td>769.99</td>\n      <td>4.6</td>\n      <td>653</td>\n      <td>LAPTOP</td>\n    </tr>\n    <tr>\n      <th>3</th>\n      <td>B086QZSLDH</td>\n      <td>ASUS VivoBook 15 Thin and Light Laptop- 15.6” ...</td>\n      <td>599.99</td>\n      <td>4.5</td>\n      <td>3044</td>\n      <td>LAPTOP</td>\n    </tr>\n    <tr>\n      <th>4</th>\n      <td>B086MBQKH2</td>\n      <td>Acer Chromebook Spin 311 Convertible Laptop, I...</td>\n      <td>269.99</td>\n      <td>4.7</td>\n      <td>3936</td>\n      <td>LAPTOP</td>\n    </tr>\n    <tr>\n      <th>...</th>\n      <td>...</td>\n      <td>...</td>\n      <td>...</td>\n      <td>...</td>\n      <td>...</td>\n      <td>...</td>\n    </tr>\n    <tr>\n      <th>1994</th>\n      <td>B08P4CGZYK</td>\n      <td>XIDU Tour Pro 12.5\" Touchscreen Laptop, 2K(256...</td>\n      <td>429.99</td>\n      <td>4.4</td>\n      <td>55</td>\n      <td>LAPTOP</td>\n    </tr>\n    <tr>\n      <th>1995</th>\n      <td>B07F5JCW9M</td>\n      <td>Lenovo 15.6\" ThinkPad P52 LCD Mobile Workstati...</td>\n      <td>2629.36</td>\n      <td>4.0</td>\n      <td>1</td>\n      <td>LAPTOP</td>\n    </tr>\n    <tr>\n      <th>1996</th>\n      <td>B08F4JRXFZ</td>\n      <td>Lenovo Chromebook Duet, 2-in-1, 10.1\" WUXGA (1...</td>\n      <td>288.60</td>\n      <td>4.8</td>\n      <td>75</td>\n      <td>LAPTOP</td>\n    </tr>\n    <tr>\n      <th>1997</th>\n      <td>B08N63ZSV7</td>\n      <td>2020 15.6-inch Laptop 6G + 256G, Intel celeron...</td>\n      <td>359.00</td>\n      <td>3.0</td>\n      <td>3</td>\n      <td>LAPTOP</td>\n    </tr>\n    <tr>\n      <th>1998</th>\n      <td>B085XRL3P1</td>\n      <td>CHUWI Herobook Pro 14.1 inch Windows 10 Intel ...</td>\n      <td>339.00</td>\n      <td>4.0</td>\n      <td>343</td>\n      <td>LAPTOP</td>\n    </tr>\n  </tbody>\n</table>\n<p>1999 rows × 6 columns</p>\n</div>"
     },
     "metadata": {},
     "execution_count": 199
    }
   ],
   "source": [
    "#final search data for Laptop\n",
    "laptopasin = laptopasin[['ASIN', 'title', 'price', 'rating', 'review_count', 'product_type']]\n",
    "laptopasin"
   ]
  },
  {
   "cell_type": "code",
   "execution_count": 200,
   "metadata": {},
   "outputs": [
    {
     "output_type": "execute_result",
     "data": {
      "text/plain": [
       "ASIN             object\n",
       "title            object\n",
       "price           float64\n",
       "rating          float64\n",
       "review_count      int32\n",
       "product_type     object\n",
       "dtype: object"
      ]
     },
     "metadata": {},
     "execution_count": 200
    }
   ],
   "source": [
    "laptopasin.dtypes"
   ]
  },
  {
   "cell_type": "code",
   "execution_count": 201,
   "metadata": {},
   "outputs": [],
   "source": [
    "#Trying with Shekhar's code for Product file"
   ]
  },
  {
   "cell_type": "code",
   "execution_count": 202,
   "metadata": {},
   "outputs": [
    {
     "output_type": "execute_result",
     "data": {
      "text/plain": [
       "                                                   name  \\\n",
       "0     CHUWI Herobook Pro 14.1 inch Windows 10 Intel ...   \n",
       "1     CHUWI CoreBook Pro Windows 10 Laptop Computer,...   \n",
       "2     Lenovo IdeaPad 3 Intel i5-1035G1 Quad Core 12G...   \n",
       "3     Lenovo Chromebook S330 Laptop, 14-Inch FHD (19...   \n",
       "4     Acer Predator Helios 300 Gaming Laptop, Intel ...   \n",
       "...                                                 ...   \n",
       "2800  Dell Latitude 5410 14\" Notebook - Full HD - 19...   \n",
       "2801  TopSeller TC M720S SFF I5-9400 2.9G 8GB 256GB ...   \n",
       "2802  Lenovo ThinkPad T14 Laptop - 14\" IPS FHD Touch...   \n",
       "2803  Laptop 14 Inch, Winnovo N140, 6GB RAM, 128GB S...   \n",
       "2804  2020 15.6-inch Laptop 6G + 256G, Intel celeron...   \n",
       "\n",
       "                                        product_summary  \\\n",
       "0     [{'info': 'Standing screen display size', 'val...   \n",
       "1     [{'info': 'Standing screen display size', 'val...   \n",
       "2     [{'info': 'Standing screen display size', 'val...   \n",
       "3     [{'info': 'Standing screen display size', 'val...   \n",
       "4     [{'info': 'Standing screen display size', 'val...   \n",
       "...                                                 ...   \n",
       "2800  [{'info': 'Standing screen display size', 'val...   \n",
       "2801  [{'info': 'Standing screen display size', 'val...   \n",
       "2802  [{'info': 'Standing screen display size', 'val...   \n",
       "2803  [{'info': 'Standing screen display size', 'val...   \n",
       "2804  [{'info': 'Standing screen display size', 'val...   \n",
       "\n",
       "                                      product_tech_spec  \\\n",
       "0     [{'info': 'Brand', 'value': 'CHUWI'}, {'info':...   \n",
       "1     [{'info': 'Brand', 'value': 'CHUWI'}, {'info':...   \n",
       "2     [{'info': 'Brand', 'value': 'Lenovo'}, {'info'...   \n",
       "3     [{'info': 'Brand', 'value': 'Lenovo'}, {'info'...   \n",
       "4     [{'info': 'Brand', 'value': 'Acer'}, {'info': ...   \n",
       "...                                                 ...   \n",
       "2800  [{'info': 'Brand', 'value': 'Dell'}, {'info': ...   \n",
       "2801  [{'info': 'Brand', 'value': 'Lenovo'}, {'info'...   \n",
       "2802  [{'info': 'Brand', 'value': 'Lenovo'}, {'info'...   \n",
       "2803  [{'info': 'Brand', 'value': 'Winnovo'}, {'info...   \n",
       "2804  [{'info': 'Brand', 'value': 'XINYANGCH'}, {'in...   \n",
       "\n",
       "                                      product_addl_info  \n",
       "0     [{'info': 'ASIN', 'value': 'B085XRL3P1'}, {'in...  \n",
       "1     [{'info': 'ASIN', 'value': 'B08CDM3XPJ'}, {'in...  \n",
       "2     [{'info': 'ASIN', 'value': 'B08NXSJVCR'}, {'in...  \n",
       "3     [{'info': 'ASIN', 'value': 'B07GLV1VC7'}, {'in...  \n",
       "4     [{'info': 'ASIN', 'value': 'B08842D7JS'}, {'in...  \n",
       "...                                                 ...  \n",
       "2800  [{'info': 'ASIN', 'value': 'B08L8KW3ZM'}, {'in...  \n",
       "2801  [{'info': 'ASIN', 'value': 'B082RD3STD'}, {'in...  \n",
       "2802  [{'info': 'ASIN', 'value': 'B0844KPGNF'}, {'in...  \n",
       "2803  [{'info': 'ASIN', 'value': 'B08JBVT48L'}, {'in...  \n",
       "2804  [{'info': 'ASIN', 'value': 'B08N63ZSV7'}, {'in...  \n",
       "\n",
       "[2805 rows x 4 columns]"
      ],
      "text/html": "<div>\n<style scoped>\n    .dataframe tbody tr th:only-of-type {\n        vertical-align: middle;\n    }\n\n    .dataframe tbody tr th {\n        vertical-align: top;\n    }\n\n    .dataframe thead th {\n        text-align: right;\n    }\n</style>\n<table border=\"1\" class=\"dataframe\">\n  <thead>\n    <tr style=\"text-align: right;\">\n      <th></th>\n      <th>name</th>\n      <th>product_summary</th>\n      <th>product_tech_spec</th>\n      <th>product_addl_info</th>\n    </tr>\n  </thead>\n  <tbody>\n    <tr>\n      <th>0</th>\n      <td>CHUWI Herobook Pro 14.1 inch Windows 10 Intel ...</td>\n      <td>[{'info': 'Standing screen display size', 'val...</td>\n      <td>[{'info': 'Brand', 'value': 'CHUWI'}, {'info':...</td>\n      <td>[{'info': 'ASIN', 'value': 'B085XRL3P1'}, {'in...</td>\n    </tr>\n    <tr>\n      <th>1</th>\n      <td>CHUWI CoreBook Pro Windows 10 Laptop Computer,...</td>\n      <td>[{'info': 'Standing screen display size', 'val...</td>\n      <td>[{'info': 'Brand', 'value': 'CHUWI'}, {'info':...</td>\n      <td>[{'info': 'ASIN', 'value': 'B08CDM3XPJ'}, {'in...</td>\n    </tr>\n    <tr>\n      <th>2</th>\n      <td>Lenovo IdeaPad 3 Intel i5-1035G1 Quad Core 12G...</td>\n      <td>[{'info': 'Standing screen display size', 'val...</td>\n      <td>[{'info': 'Brand', 'value': 'Lenovo'}, {'info'...</td>\n      <td>[{'info': 'ASIN', 'value': 'B08NXSJVCR'}, {'in...</td>\n    </tr>\n    <tr>\n      <th>3</th>\n      <td>Lenovo Chromebook S330 Laptop, 14-Inch FHD (19...</td>\n      <td>[{'info': 'Standing screen display size', 'val...</td>\n      <td>[{'info': 'Brand', 'value': 'Lenovo'}, {'info'...</td>\n      <td>[{'info': 'ASIN', 'value': 'B07GLV1VC7'}, {'in...</td>\n    </tr>\n    <tr>\n      <th>4</th>\n      <td>Acer Predator Helios 300 Gaming Laptop, Intel ...</td>\n      <td>[{'info': 'Standing screen display size', 'val...</td>\n      <td>[{'info': 'Brand', 'value': 'Acer'}, {'info': ...</td>\n      <td>[{'info': 'ASIN', 'value': 'B08842D7JS'}, {'in...</td>\n    </tr>\n    <tr>\n      <th>...</th>\n      <td>...</td>\n      <td>...</td>\n      <td>...</td>\n      <td>...</td>\n    </tr>\n    <tr>\n      <th>2800</th>\n      <td>Dell Latitude 5410 14\" Notebook - Full HD - 19...</td>\n      <td>[{'info': 'Standing screen display size', 'val...</td>\n      <td>[{'info': 'Brand', 'value': 'Dell'}, {'info': ...</td>\n      <td>[{'info': 'ASIN', 'value': 'B08L8KW3ZM'}, {'in...</td>\n    </tr>\n    <tr>\n      <th>2801</th>\n      <td>TopSeller TC M720S SFF I5-9400 2.9G 8GB 256GB ...</td>\n      <td>[{'info': 'Standing screen display size', 'val...</td>\n      <td>[{'info': 'Brand', 'value': 'Lenovo'}, {'info'...</td>\n      <td>[{'info': 'ASIN', 'value': 'B082RD3STD'}, {'in...</td>\n    </tr>\n    <tr>\n      <th>2802</th>\n      <td>Lenovo ThinkPad T14 Laptop - 14\" IPS FHD Touch...</td>\n      <td>[{'info': 'Standing screen display size', 'val...</td>\n      <td>[{'info': 'Brand', 'value': 'Lenovo'}, {'info'...</td>\n      <td>[{'info': 'ASIN', 'value': 'B0844KPGNF'}, {'in...</td>\n    </tr>\n    <tr>\n      <th>2803</th>\n      <td>Laptop 14 Inch, Winnovo N140, 6GB RAM, 128GB S...</td>\n      <td>[{'info': 'Standing screen display size', 'val...</td>\n      <td>[{'info': 'Brand', 'value': 'Winnovo'}, {'info...</td>\n      <td>[{'info': 'ASIN', 'value': 'B08JBVT48L'}, {'in...</td>\n    </tr>\n    <tr>\n      <th>2804</th>\n      <td>2020 15.6-inch Laptop 6G + 256G, Intel celeron...</td>\n      <td>[{'info': 'Standing screen display size', 'val...</td>\n      <td>[{'info': 'Brand', 'value': 'XINYANGCH'}, {'in...</td>\n      <td>[{'info': 'ASIN', 'value': 'B08N63ZSV7'}, {'in...</td>\n    </tr>\n  </tbody>\n</table>\n<p>2805 rows × 4 columns</p>\n</div>"
     },
     "metadata": {},
     "execution_count": 202
    }
   ],
   "source": [
    "df = pd.read_json('laptopprod.json')\n",
    "df = df[['name', 'product_summary', 'product_tech_spec', 'product_addl_info']]\n",
    "df"
   ]
  },
  {
   "cell_type": "code",
   "execution_count": 203,
   "metadata": {},
   "outputs": [
    {
     "output_type": "execute_result",
     "data": {
      "text/plain": [
       "name                  41\n",
       "product_summary      198\n",
       "product_tech_spec    199\n",
       "product_addl_info     46\n",
       "dtype: int64"
      ]
     },
     "metadata": {},
     "execution_count": 203
    }
   ],
   "source": [
    "df.isnull().sum()"
   ]
  },
  {
   "cell_type": "code",
   "execution_count": 204,
   "metadata": {},
   "outputs": [
    {
     "output_type": "execute_result",
     "data": {
      "text/plain": [
       "0       [{'info': 'Brand', 'value': 'CHUWI'}, {'info':...\n",
       "1       [{'info': 'Brand', 'value': 'CHUWI'}, {'info':...\n",
       "2       [{'info': 'Brand', 'value': 'Lenovo'}, {'info'...\n",
       "3       [{'info': 'Brand', 'value': 'Lenovo'}, {'info'...\n",
       "4       [{'info': 'Brand', 'value': 'Acer'}, {'info': ...\n",
       "                              ...                        \n",
       "2800    [{'info': 'Brand', 'value': 'Dell'}, {'info': ...\n",
       "2801    [{'info': 'Brand', 'value': 'Lenovo'}, {'info'...\n",
       "2802    [{'info': 'Brand', 'value': 'Lenovo'}, {'info'...\n",
       "2803    [{'info': 'Brand', 'value': 'Winnovo'}, {'info...\n",
       "2804    [{'info': 'Brand', 'value': 'XINYANGCH'}, {'in...\n",
       "Name: product_tech_spec, Length: 2805, dtype: object"
      ]
     },
     "metadata": {},
     "execution_count": 204
    }
   ],
   "source": [
    "df.product_tech_spec"
   ]
  },
  {
   "cell_type": "code",
   "execution_count": 205,
   "metadata": {},
   "outputs": [],
   "source": [
    "#For product_addl_info\n",
    "add_col =  []\n",
    "for i in range(df.shape[0]):\n",
    "    try:\n",
    "        for j in range(len(df.product_addl_info[i])):\n",
    "            col = df.product_addl_info[i][j]['info']\n",
    "            if col not in add_col:\n",
    "                add_col.append(col)\n",
    "    except:\n",
    "        continue"
   ]
  },
  {
   "cell_type": "code",
   "execution_count": 206,
   "metadata": {},
   "outputs": [
    {
     "output_type": "execute_result",
     "data": {
      "text/plain": [
       "'ASIN'"
      ]
     },
     "metadata": {},
     "execution_count": 206
    }
   ],
   "source": [
    "df.product_addl_info[0][0]['info']"
   ]
  },
  {
   "cell_type": "code",
   "execution_count": 207,
   "metadata": {},
   "outputs": [
    {
     "output_type": "execute_result",
     "data": {
      "text/plain": [
       "3"
      ]
     },
     "metadata": {},
     "execution_count": 207
    }
   ],
   "source": [
    "len(df.product_addl_info[100])"
   ]
  },
  {
   "cell_type": "code",
   "execution_count": 208,
   "metadata": {},
   "outputs": [
    {
     "output_type": "execute_result",
     "data": {
      "text/plain": [
       "[{'info': 'ASIN', 'value': 'B085XRL3P1'},\n",
       " {'info': 'Customer Reviews',\n",
       "  'value': '/*\\n* Fix for UDP-1061. Average customer reviews has a small extra line on hover\\n* https://omni-grok.amazon.com/xref/src/appgroup/websiteTemplates/retail/SoftlinesDetailPageAssets/udp-intl-lock/src/legacy.css?indexName=WebsiteTemplates#40\\n*/\\n.noUnderline a:hover {\\ntext-decoration: none;\\n} 4.0 out of 5 stars 353 ratings P.when(\\'A\\', \\'ready\\').execute(function(A) {\\nA.declarative(\\'acrLink-click-metrics\\', \\'click\\', { \"allowLinkDefault\" : true }, function(event){\\nif(window.ue) {\\nue.count(\"acrLinkClickCount\", (ue.count(\"acrLinkClickCount\") || 0) + 1);\\n}\\n});\\n}); P.when(\\'A\\', \\'cf\\').execute(function(A) {\\nA.declarative(\\'acrStarsLink-click-metrics\\', \\'click\\', { \"allowLinkDefault\" : true },  function(event){\\nif(window.ue) {\\nue.count(\"acrStarsLinkWithPopoverClickCount\", (ue.count(\"acrStarsLinkWithPopoverClickCount\") || 0) + 1);\\n}\\n});\\n}); 4.0 out of 5 stars'},\n",
       " {'info': 'Best Sellers Rank',\n",
       "  'value': '#1,853 in Computers & Accessories ( See Top 100 in Computers & Accessories ) #178 in Traditional Laptop Computers'},\n",
       " {'info': 'Date First Available', 'value': 'March 11, 2020'}]"
      ]
     },
     "metadata": {},
     "execution_count": 208
    }
   ],
   "source": [
    "df.product_addl_info[0]"
   ]
  },
  {
   "cell_type": "code",
   "execution_count": 209,
   "metadata": {},
   "outputs": [
    {
     "output_type": "execute_result",
     "data": {
      "text/plain": [
       "['ASIN',\n",
       " 'Customer Reviews',\n",
       " 'Best Sellers Rank',\n",
       " 'Date First Available',\n",
       " 'Product Dimensions',\n",
       " 'Item Weight',\n",
       " 'Item model number',\n",
       " 'Batteries',\n",
       " 'Manufacturer',\n",
       " 'Is Discontinued By Manufacturer',\n",
       " 'Form Factor',\n",
       " 'Batteries Required',\n",
       " 'Package Dimensions',\n",
       " 'OS',\n",
       " 'GPU',\n",
       " 'RAM',\n",
       " 'Wireless communication technologies',\n",
       " 'Display technology',\n",
       " 'Display resolution',\n",
       " 'Other display features',\n",
       " 'Device interface - primary',\n",
       " 'Other camera features',\n",
       " 'Colour',\n",
       " 'Included Components',\n",
       " 'National Stock Number',\n",
       " 'Specific Uses For Product',\n",
       " 'Warranty Description']"
      ]
     },
     "metadata": {},
     "execution_count": 209
    }
   ],
   "source": [
    "add_col"
   ]
  },
  {
   "cell_type": "code",
   "execution_count": 210,
   "metadata": {},
   "outputs": [
    {
     "output_type": "execute_result",
     "data": {
      "text/plain": [
       "Empty DataFrame\n",
       "Columns: [name, ASIN, Customer Reviews, Best Sellers Rank, Date First Available, Product Dimensions, Item Weight, Item model number, Batteries, Manufacturer, Is Discontinued By Manufacturer, Form Factor, Batteries Required, Package Dimensions, OS, GPU, RAM, Wireless communication technologies, Display technology, Display resolution, Other display features, Device interface - primary, Other camera features, Colour, Included Components, National Stock Number, Specific Uses For Product, Warranty Description]\n",
       "Index: []\n",
       "\n",
       "[0 rows x 28 columns]"
      ],
      "text/html": "<div>\n<style scoped>\n    .dataframe tbody tr th:only-of-type {\n        vertical-align: middle;\n    }\n\n    .dataframe tbody tr th {\n        vertical-align: top;\n    }\n\n    .dataframe thead th {\n        text-align: right;\n    }\n</style>\n<table border=\"1\" class=\"dataframe\">\n  <thead>\n    <tr style=\"text-align: right;\">\n      <th></th>\n      <th>name</th>\n      <th>ASIN</th>\n      <th>Customer Reviews</th>\n      <th>Best Sellers Rank</th>\n      <th>Date First Available</th>\n      <th>Product Dimensions</th>\n      <th>Item Weight</th>\n      <th>Item model number</th>\n      <th>Batteries</th>\n      <th>Manufacturer</th>\n      <th>...</th>\n      <th>Display technology</th>\n      <th>Display resolution</th>\n      <th>Other display features</th>\n      <th>Device interface - primary</th>\n      <th>Other camera features</th>\n      <th>Colour</th>\n      <th>Included Components</th>\n      <th>National Stock Number</th>\n      <th>Specific Uses For Product</th>\n      <th>Warranty Description</th>\n    </tr>\n  </thead>\n  <tbody>\n  </tbody>\n</table>\n<p>0 rows × 28 columns</p>\n</div>"
     },
     "metadata": {},
     "execution_count": 210
    }
   ],
   "source": [
    "new = pd.DataFrame(columns=['name'] + add_col)\n",
    "new"
   ]
  },
  {
   "cell_type": "code",
   "execution_count": 211,
   "metadata": {},
   "outputs": [],
   "source": [
    "for i in range(df.shape[0]):\n",
    "    try:\n",
    "        for j in range(len(df.product_addl_info[i])):\n",
    "            col = df.product_addl_info[i][j]['info']\n",
    "            val = df.product_addl_info[i][j]['value']\n",
    "\n",
    "            new.loc[i,col] = val\n",
    "            \n",
    "    except:\n",
    "        new.loc[i,col] = ''\n",
    "        continue"
   ]
  },
  {
   "cell_type": "code",
   "execution_count": 212,
   "metadata": {},
   "outputs": [],
   "source": [
    "new.name = df.name"
   ]
  },
  {
   "cell_type": "code",
   "execution_count": 213,
   "metadata": {},
   "outputs": [
    {
     "output_type": "execute_result",
     "data": {
      "text/plain": [
       "'CHUWI CoreBook Pro Windows 10 Laptop Computer, 13 inch 2K IPS Display, 8G RAM / 256GB NVMe SSD with Intel Core i3 Processor Notebook, Support PD Charge'"
      ]
     },
     "metadata": {},
     "execution_count": 213
    }
   ],
   "source": [
    "df.loc[1,'name']"
   ]
  },
  {
   "cell_type": "code",
   "execution_count": 214,
   "metadata": {},
   "outputs": [
    {
     "output_type": "execute_result",
     "data": {
      "text/plain": [
       "                                                   name        ASIN  \\\n",
       "0     CHUWI Herobook Pro 14.1 inch Windows 10 Intel ...  B085XRL3P1   \n",
       "1     CHUWI CoreBook Pro Windows 10 Laptop Computer,...  B08CDM3XPJ   \n",
       "2     Lenovo IdeaPad 3 Intel i5-1035G1 Quad Core 12G...  B08NXSJVCR   \n",
       "3     Lenovo Chromebook S330 Laptop, 14-Inch FHD (19...  B07GLV1VC7   \n",
       "4     Acer Predator Helios 300 Gaming Laptop, Intel ...  B08842D7JS   \n",
       "...                                                 ...         ...   \n",
       "2800  Dell Latitude 5410 14\" Notebook - Full HD - 19...  B08L8KW3ZM   \n",
       "2801  TopSeller TC M720S SFF I5-9400 2.9G 8GB 256GB ...  B082RD3STD   \n",
       "2802  Lenovo ThinkPad T14 Laptop - 14\" IPS FHD Touch...  B0844KPGNF   \n",
       "2803  Laptop 14 Inch, Winnovo N140, 6GB RAM, 128GB S...  B08JBVT48L   \n",
       "2804  2020 15.6-inch Laptop 6G + 256G, Intel celeron...  B08N63ZSV7   \n",
       "\n",
       "                                       Customer Reviews  \\\n",
       "0     /*\\n* Fix for UDP-1061. Average customer revie...   \n",
       "1     /*\\n* Fix for UDP-1061. Average customer revie...   \n",
       "2     /*\\n* Fix for UDP-1061. Average customer revie...   \n",
       "3     /*\\n* Fix for UDP-1061. Average customer revie...   \n",
       "4     /*\\n* Fix for UDP-1061. Average customer revie...   \n",
       "...                                                 ...   \n",
       "2800                                                NaN   \n",
       "2801  /*\\n* Fix for UDP-1061. Average customer revie...   \n",
       "2802                                                NaN   \n",
       "2803  /*\\n* Fix for UDP-1061. Average customer revie...   \n",
       "2804  /*\\n* Fix for UDP-1061. Average customer revie...   \n",
       "\n",
       "                                      Best Sellers Rank Date First Available  \\\n",
       "0     #1,853 in Computers & Accessories ( See Top 10...       March 11, 2020   \n",
       "1     #14,505 in Computers & Accessories ( See Top 1...        June 30, 2020   \n",
       "2     #212 in Computers & Accessories ( See Top 100 ...    November 20, 2020   \n",
       "3     #372 in Computers & Accessories ( See Top 100 ...       August 9, 2018   \n",
       "4     #146 in Computers & Accessories ( See Top 100 ...        June 16, 2020   \n",
       "...                                                 ...                  ...   \n",
       "2800  #579,675 in Computers & Accessories ( See Top ...     October 16, 2020   \n",
       "2801  #47,707 in Computers & Accessories ( See Top 1...    December 14, 2019   \n",
       "2802  #310,265 in Computers & Accessories ( See Top ...     January 22, 2020   \n",
       "2803  #4,479 in Computers & Accessories ( See Top 10...     November 8, 2020   \n",
       "2804  #29,104 in Computers & Accessories ( See Top 1...     December 4, 2019   \n",
       "\n",
       "     Product Dimensions Item Weight Item model number Batteries Manufacturer  \\\n",
       "0                   NaN         NaN               NaN       NaN          NaN   \n",
       "1                   NaN         NaN               NaN       NaN          NaN   \n",
       "2                   NaN         NaN               NaN       NaN          NaN   \n",
       "3                   NaN         NaN               NaN       NaN          NaN   \n",
       "4                   NaN         NaN               NaN       NaN          NaN   \n",
       "...                 ...         ...               ...       ...          ...   \n",
       "2800                NaN         NaN               NaN       NaN          NaN   \n",
       "2801                NaN         NaN               NaN       NaN          NaN   \n",
       "2802                NaN         NaN               NaN       NaN          NaN   \n",
       "2803                NaN         NaN               NaN       NaN          NaN   \n",
       "2804                NaN         NaN               NaN       NaN          NaN   \n",
       "\n",
       "      ... Display technology Display resolution Other display features  \\\n",
       "0     ...                NaN                NaN                    NaN   \n",
       "1     ...                NaN                NaN                    NaN   \n",
       "2     ...                NaN                NaN                    NaN   \n",
       "3     ...                NaN                NaN                    NaN   \n",
       "4     ...                NaN                NaN                    NaN   \n",
       "...   ...                ...                ...                    ...   \n",
       "2800  ...                NaN                NaN                    NaN   \n",
       "2801  ...                NaN                NaN                    NaN   \n",
       "2802  ...                NaN                NaN                    NaN   \n",
       "2803  ...                NaN                NaN                    NaN   \n",
       "2804  ...                NaN                NaN                    NaN   \n",
       "\n",
       "     Device interface - primary Other camera features Colour  \\\n",
       "0                           NaN                   NaN    NaN   \n",
       "1                           NaN                   NaN    NaN   \n",
       "2                           NaN                   NaN    NaN   \n",
       "3                           NaN                   NaN    NaN   \n",
       "4                           NaN                   NaN    NaN   \n",
       "...                         ...                   ...    ...   \n",
       "2800                        NaN                   NaN    NaN   \n",
       "2801                        NaN                   NaN    NaN   \n",
       "2802                        NaN                   NaN    NaN   \n",
       "2803                        NaN                   NaN    NaN   \n",
       "2804                        NaN                   NaN    NaN   \n",
       "\n",
       "     Included Components National Stock Number Specific Uses For Product  \\\n",
       "0                    NaN                   NaN                       NaN   \n",
       "1                    NaN                   NaN                       NaN   \n",
       "2                    NaN                   NaN                       NaN   \n",
       "3                    NaN                   NaN                       NaN   \n",
       "4                    NaN                   NaN                       NaN   \n",
       "...                  ...                   ...                       ...   \n",
       "2800                 NaN                   NaN                       NaN   \n",
       "2801                 NaN                   NaN                       NaN   \n",
       "2802                 NaN                   NaN                       NaN   \n",
       "2803                 NaN                   NaN                       NaN   \n",
       "2804                 NaN                   NaN                       NaN   \n",
       "\n",
       "     Warranty Description  \n",
       "0                     NaN  \n",
       "1                     NaN  \n",
       "2                     NaN  \n",
       "3                     NaN  \n",
       "4                     NaN  \n",
       "...                   ...  \n",
       "2800                  NaN  \n",
       "2801                  NaN  \n",
       "2802                  NaN  \n",
       "2803                  NaN  \n",
       "2804                  NaN  \n",
       "\n",
       "[2805 rows x 28 columns]"
      ],
      "text/html": "<div>\n<style scoped>\n    .dataframe tbody tr th:only-of-type {\n        vertical-align: middle;\n    }\n\n    .dataframe tbody tr th {\n        vertical-align: top;\n    }\n\n    .dataframe thead th {\n        text-align: right;\n    }\n</style>\n<table border=\"1\" class=\"dataframe\">\n  <thead>\n    <tr style=\"text-align: right;\">\n      <th></th>\n      <th>name</th>\n      <th>ASIN</th>\n      <th>Customer Reviews</th>\n      <th>Best Sellers Rank</th>\n      <th>Date First Available</th>\n      <th>Product Dimensions</th>\n      <th>Item Weight</th>\n      <th>Item model number</th>\n      <th>Batteries</th>\n      <th>Manufacturer</th>\n      <th>...</th>\n      <th>Display technology</th>\n      <th>Display resolution</th>\n      <th>Other display features</th>\n      <th>Device interface - primary</th>\n      <th>Other camera features</th>\n      <th>Colour</th>\n      <th>Included Components</th>\n      <th>National Stock Number</th>\n      <th>Specific Uses For Product</th>\n      <th>Warranty Description</th>\n    </tr>\n  </thead>\n  <tbody>\n    <tr>\n      <th>0</th>\n      <td>CHUWI Herobook Pro 14.1 inch Windows 10 Intel ...</td>\n      <td>B085XRL3P1</td>\n      <td>/*\\n* Fix for UDP-1061. Average customer revie...</td>\n      <td>#1,853 in Computers &amp; Accessories ( See Top 10...</td>\n      <td>March 11, 2020</td>\n      <td>NaN</td>\n      <td>NaN</td>\n      <td>NaN</td>\n      <td>NaN</td>\n      <td>NaN</td>\n      <td>...</td>\n      <td>NaN</td>\n      <td>NaN</td>\n      <td>NaN</td>\n      <td>NaN</td>\n      <td>NaN</td>\n      <td>NaN</td>\n      <td>NaN</td>\n      <td>NaN</td>\n      <td>NaN</td>\n      <td>NaN</td>\n    </tr>\n    <tr>\n      <th>1</th>\n      <td>CHUWI CoreBook Pro Windows 10 Laptop Computer,...</td>\n      <td>B08CDM3XPJ</td>\n      <td>/*\\n* Fix for UDP-1061. Average customer revie...</td>\n      <td>#14,505 in Computers &amp; Accessories ( See Top 1...</td>\n      <td>June 30, 2020</td>\n      <td>NaN</td>\n      <td>NaN</td>\n      <td>NaN</td>\n      <td>NaN</td>\n      <td>NaN</td>\n      <td>...</td>\n      <td>NaN</td>\n      <td>NaN</td>\n      <td>NaN</td>\n      <td>NaN</td>\n      <td>NaN</td>\n      <td>NaN</td>\n      <td>NaN</td>\n      <td>NaN</td>\n      <td>NaN</td>\n      <td>NaN</td>\n    </tr>\n    <tr>\n      <th>2</th>\n      <td>Lenovo IdeaPad 3 Intel i5-1035G1 Quad Core 12G...</td>\n      <td>B08NXSJVCR</td>\n      <td>/*\\n* Fix for UDP-1061. Average customer revie...</td>\n      <td>#212 in Computers &amp; Accessories ( See Top 100 ...</td>\n      <td>November 20, 2020</td>\n      <td>NaN</td>\n      <td>NaN</td>\n      <td>NaN</td>\n      <td>NaN</td>\n      <td>NaN</td>\n      <td>...</td>\n      <td>NaN</td>\n      <td>NaN</td>\n      <td>NaN</td>\n      <td>NaN</td>\n      <td>NaN</td>\n      <td>NaN</td>\n      <td>NaN</td>\n      <td>NaN</td>\n      <td>NaN</td>\n      <td>NaN</td>\n    </tr>\n    <tr>\n      <th>3</th>\n      <td>Lenovo Chromebook S330 Laptop, 14-Inch FHD (19...</td>\n      <td>B07GLV1VC7</td>\n      <td>/*\\n* Fix for UDP-1061. Average customer revie...</td>\n      <td>#372 in Computers &amp; Accessories ( See Top 100 ...</td>\n      <td>August 9, 2018</td>\n      <td>NaN</td>\n      <td>NaN</td>\n      <td>NaN</td>\n      <td>NaN</td>\n      <td>NaN</td>\n      <td>...</td>\n      <td>NaN</td>\n      <td>NaN</td>\n      <td>NaN</td>\n      <td>NaN</td>\n      <td>NaN</td>\n      <td>NaN</td>\n      <td>NaN</td>\n      <td>NaN</td>\n      <td>NaN</td>\n      <td>NaN</td>\n    </tr>\n    <tr>\n      <th>4</th>\n      <td>Acer Predator Helios 300 Gaming Laptop, Intel ...</td>\n      <td>B08842D7JS</td>\n      <td>/*\\n* Fix for UDP-1061. Average customer revie...</td>\n      <td>#146 in Computers &amp; Accessories ( See Top 100 ...</td>\n      <td>June 16, 2020</td>\n      <td>NaN</td>\n      <td>NaN</td>\n      <td>NaN</td>\n      <td>NaN</td>\n      <td>NaN</td>\n      <td>...</td>\n      <td>NaN</td>\n      <td>NaN</td>\n      <td>NaN</td>\n      <td>NaN</td>\n      <td>NaN</td>\n      <td>NaN</td>\n      <td>NaN</td>\n      <td>NaN</td>\n      <td>NaN</td>\n      <td>NaN</td>\n    </tr>\n    <tr>\n      <th>...</th>\n      <td>...</td>\n      <td>...</td>\n      <td>...</td>\n      <td>...</td>\n      <td>...</td>\n      <td>...</td>\n      <td>...</td>\n      <td>...</td>\n      <td>...</td>\n      <td>...</td>\n      <td>...</td>\n      <td>...</td>\n      <td>...</td>\n      <td>...</td>\n      <td>...</td>\n      <td>...</td>\n      <td>...</td>\n      <td>...</td>\n      <td>...</td>\n      <td>...</td>\n      <td>...</td>\n    </tr>\n    <tr>\n      <th>2800</th>\n      <td>Dell Latitude 5410 14\" Notebook - Full HD - 19...</td>\n      <td>B08L8KW3ZM</td>\n      <td>NaN</td>\n      <td>#579,675 in Computers &amp; Accessories ( See Top ...</td>\n      <td>October 16, 2020</td>\n      <td>NaN</td>\n      <td>NaN</td>\n      <td>NaN</td>\n      <td>NaN</td>\n      <td>NaN</td>\n      <td>...</td>\n      <td>NaN</td>\n      <td>NaN</td>\n      <td>NaN</td>\n      <td>NaN</td>\n      <td>NaN</td>\n      <td>NaN</td>\n      <td>NaN</td>\n      <td>NaN</td>\n      <td>NaN</td>\n      <td>NaN</td>\n    </tr>\n    <tr>\n      <th>2801</th>\n      <td>TopSeller TC M720S SFF I5-9400 2.9G 8GB 256GB ...</td>\n      <td>B082RD3STD</td>\n      <td>/*\\n* Fix for UDP-1061. Average customer revie...</td>\n      <td>#47,707 in Computers &amp; Accessories ( See Top 1...</td>\n      <td>December 14, 2019</td>\n      <td>NaN</td>\n      <td>NaN</td>\n      <td>NaN</td>\n      <td>NaN</td>\n      <td>NaN</td>\n      <td>...</td>\n      <td>NaN</td>\n      <td>NaN</td>\n      <td>NaN</td>\n      <td>NaN</td>\n      <td>NaN</td>\n      <td>NaN</td>\n      <td>NaN</td>\n      <td>NaN</td>\n      <td>NaN</td>\n      <td>NaN</td>\n    </tr>\n    <tr>\n      <th>2802</th>\n      <td>Lenovo ThinkPad T14 Laptop - 14\" IPS FHD Touch...</td>\n      <td>B0844KPGNF</td>\n      <td>NaN</td>\n      <td>#310,265 in Computers &amp; Accessories ( See Top ...</td>\n      <td>January 22, 2020</td>\n      <td>NaN</td>\n      <td>NaN</td>\n      <td>NaN</td>\n      <td>NaN</td>\n      <td>NaN</td>\n      <td>...</td>\n      <td>NaN</td>\n      <td>NaN</td>\n      <td>NaN</td>\n      <td>NaN</td>\n      <td>NaN</td>\n      <td>NaN</td>\n      <td>NaN</td>\n      <td>NaN</td>\n      <td>NaN</td>\n      <td>NaN</td>\n    </tr>\n    <tr>\n      <th>2803</th>\n      <td>Laptop 14 Inch, Winnovo N140, 6GB RAM, 128GB S...</td>\n      <td>B08JBVT48L</td>\n      <td>/*\\n* Fix for UDP-1061. Average customer revie...</td>\n      <td>#4,479 in Computers &amp; Accessories ( See Top 10...</td>\n      <td>November 8, 2020</td>\n      <td>NaN</td>\n      <td>NaN</td>\n      <td>NaN</td>\n      <td>NaN</td>\n      <td>NaN</td>\n      <td>...</td>\n      <td>NaN</td>\n      <td>NaN</td>\n      <td>NaN</td>\n      <td>NaN</td>\n      <td>NaN</td>\n      <td>NaN</td>\n      <td>NaN</td>\n      <td>NaN</td>\n      <td>NaN</td>\n      <td>NaN</td>\n    </tr>\n    <tr>\n      <th>2804</th>\n      <td>2020 15.6-inch Laptop 6G + 256G, Intel celeron...</td>\n      <td>B08N63ZSV7</td>\n      <td>/*\\n* Fix for UDP-1061. Average customer revie...</td>\n      <td>#29,104 in Computers &amp; Accessories ( See Top 1...</td>\n      <td>December 4, 2019</td>\n      <td>NaN</td>\n      <td>NaN</td>\n      <td>NaN</td>\n      <td>NaN</td>\n      <td>NaN</td>\n      <td>...</td>\n      <td>NaN</td>\n      <td>NaN</td>\n      <td>NaN</td>\n      <td>NaN</td>\n      <td>NaN</td>\n      <td>NaN</td>\n      <td>NaN</td>\n      <td>NaN</td>\n      <td>NaN</td>\n      <td>NaN</td>\n    </tr>\n  </tbody>\n</table>\n<p>2805 rows × 28 columns</p>\n</div>"
     },
     "metadata": {},
     "execution_count": 214
    }
   ],
   "source": [
    "new"
   ]
  },
  {
   "cell_type": "code",
   "execution_count": 215,
   "metadata": {},
   "outputs": [
    {
     "output_type": "execute_result",
     "data": {
      "text/plain": [
       "1733"
      ]
     },
     "metadata": {},
     "execution_count": 215
    }
   ],
   "source": [
    "len(set(new.ASIN))"
   ]
  },
  {
   "cell_type": "code",
   "execution_count": 216,
   "metadata": {},
   "outputs": [
    {
     "output_type": "execute_result",
     "data": {
      "text/plain": [
       "0    B085XRL3P1\n",
       "1    B08CDM3XPJ\n",
       "2    B08NXSJVCR\n",
       "3    B07GLV1VC7\n",
       "4    B08842D7JS\n",
       "5    B084SKWC89\n",
       "6    B08PF2HZVL\n",
       "7           NaN\n",
       "8    B08H6YZY3Y\n",
       "9    B086KJCJDM\n",
       "Name: ASIN, dtype: object"
      ]
     },
     "metadata": {},
     "execution_count": 216
    }
   ],
   "source": [
    "new.ASIN[0:10]"
   ]
  },
  {
   "cell_type": "code",
   "execution_count": 217,
   "metadata": {},
   "outputs": [
    {
     "output_type": "execute_result",
     "data": {
      "text/plain": [
       "name                                     41\n",
       "ASIN                                     49\n",
       "Customer Reviews                        709\n",
       "Best Sellers Rank                       132\n",
       "Date First Available                     14\n",
       "Product Dimensions                     2756\n",
       "Item Weight                            2650\n",
       "Item model number                      2661\n",
       "Batteries                              2663\n",
       "Manufacturer                           2644\n",
       "Is Discontinued By Manufacturer        2786\n",
       "Form Factor                            2802\n",
       "Batteries Required                     2802\n",
       "Package Dimensions                     2698\n",
       "OS                                     2803\n",
       "GPU                                    2803\n",
       "RAM                                    2803\n",
       "Wireless communication technologies    2803\n",
       "Display technology                     2804\n",
       "Display resolution                     2804\n",
       "Other display features                 2803\n",
       "Device interface - primary             2803\n",
       "Other camera features                  2804\n",
       "Colour                                 2803\n",
       "Included Components                    2802\n",
       "National Stock Number                  2804\n",
       "Specific Uses For Product              2803\n",
       "Warranty Description                   2803\n",
       "dtype: int64"
      ]
     },
     "metadata": {},
     "execution_count": 217
    }
   ],
   "source": [
    "new.isnull().sum()"
   ]
  },
  {
   "cell_type": "code",
   "execution_count": 218,
   "metadata": {},
   "outputs": [],
   "source": [
    "#new[new.duplicated(subset= ['ASIN'])]"
   ]
  },
  {
   "cell_type": "code",
   "execution_count": 219,
   "metadata": {},
   "outputs": [
    {
     "output_type": "execute_result",
     "data": {
      "text/plain": [
       "B08JBVT48L    152\n",
       "B08P6TY5BM    113\n",
       "B08PVGW9K3    111\n",
       "B08MT7WLGK     94\n",
       "B08KXKMTCB     85\n",
       "B08N63ZSV7     80\n",
       "B08PF2HZVL     66\n",
       "B08P4CGZYK     50\n",
       "B08HZ4KWJW     49\n",
       "B0899GH6H9     45\n",
       "Name: ASIN, dtype: int64"
      ]
     },
     "metadata": {},
     "execution_count": 219
    }
   ],
   "source": [
    "new.ASIN.value_counts()[0:10]"
   ]
  },
  {
   "cell_type": "code",
   "execution_count": 220,
   "metadata": {},
   "outputs": [],
   "source": [
    "#for product_tech_spec"
   ]
  },
  {
   "cell_type": "code",
   "execution_count": 221,
   "metadata": {},
   "outputs": [
    {
     "output_type": "execute_result",
     "data": {
      "text/plain": [
       "0       [{'info': 'Brand', 'value': 'CHUWI'}, {'info':...\n",
       "1       [{'info': 'Brand', 'value': 'CHUWI'}, {'info':...\n",
       "2       [{'info': 'Brand', 'value': 'Lenovo'}, {'info'...\n",
       "3       [{'info': 'Brand', 'value': 'Lenovo'}, {'info'...\n",
       "4       [{'info': 'Brand', 'value': 'Acer'}, {'info': ...\n",
       "                              ...                        \n",
       "2800    [{'info': 'Brand', 'value': 'Dell'}, {'info': ...\n",
       "2801    [{'info': 'Brand', 'value': 'Lenovo'}, {'info'...\n",
       "2802    [{'info': 'Brand', 'value': 'Lenovo'}, {'info'...\n",
       "2803    [{'info': 'Brand', 'value': 'Winnovo'}, {'info...\n",
       "2804    [{'info': 'Brand', 'value': 'XINYANGCH'}, {'in...\n",
       "Name: product_tech_spec, Length: 2805, dtype: object"
      ]
     },
     "metadata": {},
     "execution_count": 221
    }
   ],
   "source": [
    "df.product_tech_spec"
   ]
  },
  {
   "cell_type": "code",
   "execution_count": 222,
   "metadata": {},
   "outputs": [],
   "source": [
    "add_col2 =  []\n",
    "for i in range(df.shape[0]):\n",
    "    try:\n",
    "        for j in range(len(df.product_tech_spec[i])):\n",
    "            col = df.product_tech_spec[i][j]['info']\n",
    "            if col not in add_col2:\n",
    "                add_col2.append(col)\n",
    "    except:\n",
    "        continue"
   ]
  },
  {
   "cell_type": "code",
   "execution_count": 223,
   "metadata": {},
   "outputs": [],
   "source": [
    "m_3 = pd.DataFrame(columns= add_col2)\n",
    "m_3\n",
    "for i in range(df.shape[0]):\n",
    "    try:\n",
    "        for j in range(len(df.product_tech_spec[i])):\n",
    "            col = df.product_tech_spec[i][j]['info']\n",
    "            val = df.product_tech_spec[i][j]['value']\n",
    "\n",
    "            m_3.loc[i,col] = val\n",
    "            \n",
    "    except:\n",
    "        m_3.loc[i,col] = ''\n",
    "        continue\n"
   ]
  },
  {
   "cell_type": "code",
   "execution_count": 224,
   "metadata": {},
   "outputs": [
    {
     "output_type": "execute_result",
     "data": {
      "text/plain": [
       "          Brand          Series Item model number Hardware Platform  \\\n",
       "0         CHUWI    HeroBook Pro      Herobook Pro                PC   \n",
       "1         CHUWI             NaN      CoreBook Pro                PC   \n",
       "2        Lenovo  Lenovo Ideapad        81WE00NKUS                PC   \n",
       "3        Lenovo    Ideapad S330        81JW0000US            Chrome   \n",
       "4          Acer   PH315-53-72XD     PH315-53-72XD               NaN   \n",
       "...         ...             ...               ...               ...   \n",
       "2800       Dell           M2HJR               NaN                PC   \n",
       "2801     Lenovo           M720s        10ST008NUS               NaN   \n",
       "2802     Lenovo             T14        20NYS6JB0F                PC   \n",
       "2803    Winnovo    Winnovo N140      Winnovo N140                PC   \n",
       "2804  XINYANGCH           NB15A              N15C                PC   \n",
       "\n",
       "     Operating System  Item Weight          Product Dimensions  \\\n",
       "0          Windows 10  3.06 pounds  13.07 x 8.43 x 0.84 inches   \n",
       "1                 NaN  4.38 pounds   1.14 x 0.87 x 0.71 inches   \n",
       "2          Windows 10     7 ounces  14.26 x 9.98 x 0.78 inches   \n",
       "3           Chrome OS   3.3 pounds  12.82 x 0.82 x 9.15 inches   \n",
       "4     Windows 10 Home  5.07 pounds  14.31 x 10.04 x 0.9 inches   \n",
       "...               ...          ...                         ...   \n",
       "2800   Windows 10 Pro  3.26 pounds   8.5 x 12.72 x 0.83 inches   \n",
       "2801   Windows 10 Pro  13.2 pounds    11.4 x 3.6 x 13.5 inches   \n",
       "2802   Windows 10 Pro   3.4 pounds   12.95 x 8.94 x 0.7 inches   \n",
       "2803     Windows 10 S  4.37 pounds                         NaN   \n",
       "2804       Windows 10  3.96 pounds                         NaN   \n",
       "\n",
       "          Item Dimensions  LxWxH               Color Rear Webcam Resolution  \\\n",
       "0     13.07 x 8.43 x 0.84 inches  Herobook Pro(2020)     500 Lines Per Inch   \n",
       "1      1.14 x 0.87 x 0.71 inches                 NaN                    NaN   \n",
       "2     14.26 x 9.98 x 0.78 inches       Platinum Grey                    NaN   \n",
       "3     12.82 x 0.82 x 9.15 inches      Business Black                    NaN   \n",
       "4     14.31 x 10.04 x 0.9 inches                 NaN                    NaN   \n",
       "...                          ...                 ...                    ...   \n",
       "2800   8.5 x 12.72 x 0.83 inches                 NaN                    NaN   \n",
       "2801    11.4 x 3.6 x 13.5 inches               Black                    NaN   \n",
       "2802   12.95 x 8.94 x 0.7 inches               Black                    NaN   \n",
       "2803                         NaN                Gray                    NaN   \n",
       "2804                         NaN      Silver 8G+128G                    NaN   \n",
       "\n",
       "      ... Hard Drive Rotational Speed Optical Drive Type  \\\n",
       "0     ...                         NaN                NaN   \n",
       "1     ...                         NaN                NaN   \n",
       "2     ...                         NaN                NaN   \n",
       "3     ...                    7200 RPM                NaN   \n",
       "4     ...                         NaN   No Optical Drive   \n",
       "...   ...                         ...                ...   \n",
       "2800  ...                         NaN                NaN   \n",
       "2801  ...                         NaN             DVD±RW   \n",
       "2802  ...                         NaN                NaN   \n",
       "2803  ...                         NaN                NaN   \n",
       "2804  ...                         NaN                NaN   \n",
       "\n",
       "                               Voltage          Package Dimensions  \\\n",
       "0                                  NaN                         NaN   \n",
       "1                                  NaN                         NaN   \n",
       "2                                  NaN                         NaN   \n",
       "3                                  NaN                         NaN   \n",
       "4                            220 volts                         NaN   \n",
       "...                                ...                         ...   \n",
       "2800                               NaN                         NaN   \n",
       "2801                               NaN                         NaN   \n",
       "2802                               NaN                         NaN   \n",
       "2803  220 volts_of_alternating_current  14.21 x 9.96 x 2.91 inches   \n",
       "2804                         240 volts  18.94 x 11.5 x 2.36 inches   \n",
       "\n",
       "     Manufacturer ASIN Date First Available Battery Description  \\\n",
       "0             NaN  NaN                  NaN                 NaN   \n",
       "1             NaN  NaN                  NaN                 NaN   \n",
       "2             NaN  NaN                  NaN                 NaN   \n",
       "3             NaN  NaN                  NaN                 NaN   \n",
       "4             NaN  NaN                  NaN                 NaN   \n",
       "...           ...  ...                  ...                 ...   \n",
       "2800          NaN  NaN                  NaN                 NaN   \n",
       "2801          NaN  NaN                  NaN                 NaN   \n",
       "2802          NaN  NaN                  NaN                 NaN   \n",
       "2803          NaN  NaN                  NaN                 NaN   \n",
       "2804          NaN  NaN                  NaN                 NaN   \n",
       "\n",
       "     Audio-out Ports (#) Is Discontinued By Manufacturer  \n",
       "0                    NaN                             NaN  \n",
       "1                    NaN                             NaN  \n",
       "2                    NaN                             NaN  \n",
       "3                    NaN                             NaN  \n",
       "4                    NaN                             NaN  \n",
       "...                  ...                             ...  \n",
       "2800                 NaN                             NaN  \n",
       "2801                 NaN                             NaN  \n",
       "2802                 NaN                             NaN  \n",
       "2803                 NaN                             NaN  \n",
       "2804                 NaN                             NaN  \n",
       "\n",
       "[2805 rows x 27 columns]"
      ],
      "text/html": "<div>\n<style scoped>\n    .dataframe tbody tr th:only-of-type {\n        vertical-align: middle;\n    }\n\n    .dataframe tbody tr th {\n        vertical-align: top;\n    }\n\n    .dataframe thead th {\n        text-align: right;\n    }\n</style>\n<table border=\"1\" class=\"dataframe\">\n  <thead>\n    <tr style=\"text-align: right;\">\n      <th></th>\n      <th>Brand</th>\n      <th>Series</th>\n      <th>Item model number</th>\n      <th>Hardware Platform</th>\n      <th>Operating System</th>\n      <th>Item Weight</th>\n      <th>Product Dimensions</th>\n      <th>Item Dimensions  LxWxH</th>\n      <th>Color</th>\n      <th>Rear Webcam Resolution</th>\n      <th>...</th>\n      <th>Hard Drive Rotational Speed</th>\n      <th>Optical Drive Type</th>\n      <th>Voltage</th>\n      <th>Package Dimensions</th>\n      <th>Manufacturer</th>\n      <th>ASIN</th>\n      <th>Date First Available</th>\n      <th>Battery Description</th>\n      <th>Audio-out Ports (#)</th>\n      <th>Is Discontinued By Manufacturer</th>\n    </tr>\n  </thead>\n  <tbody>\n    <tr>\n      <th>0</th>\n      <td>CHUWI</td>\n      <td>HeroBook Pro</td>\n      <td>Herobook Pro</td>\n      <td>PC</td>\n      <td>Windows 10</td>\n      <td>3.06 pounds</td>\n      <td>13.07 x 8.43 x 0.84 inches</td>\n      <td>13.07 x 8.43 x 0.84 inches</td>\n      <td>Herobook Pro(2020)</td>\n      <td>500 Lines Per Inch</td>\n      <td>...</td>\n      <td>NaN</td>\n      <td>NaN</td>\n      <td>NaN</td>\n      <td>NaN</td>\n      <td>NaN</td>\n      <td>NaN</td>\n      <td>NaN</td>\n      <td>NaN</td>\n      <td>NaN</td>\n      <td>NaN</td>\n    </tr>\n    <tr>\n      <th>1</th>\n      <td>CHUWI</td>\n      <td>NaN</td>\n      <td>CoreBook Pro</td>\n      <td>PC</td>\n      <td>NaN</td>\n      <td>4.38 pounds</td>\n      <td>1.14 x 0.87 x 0.71 inches</td>\n      <td>1.14 x 0.87 x 0.71 inches</td>\n      <td>NaN</td>\n      <td>NaN</td>\n      <td>...</td>\n      <td>NaN</td>\n      <td>NaN</td>\n      <td>NaN</td>\n      <td>NaN</td>\n      <td>NaN</td>\n      <td>NaN</td>\n      <td>NaN</td>\n      <td>NaN</td>\n      <td>NaN</td>\n      <td>NaN</td>\n    </tr>\n    <tr>\n      <th>2</th>\n      <td>Lenovo</td>\n      <td>Lenovo Ideapad</td>\n      <td>81WE00NKUS</td>\n      <td>PC</td>\n      <td>Windows 10</td>\n      <td>7 ounces</td>\n      <td>14.26 x 9.98 x 0.78 inches</td>\n      <td>14.26 x 9.98 x 0.78 inches</td>\n      <td>Platinum Grey</td>\n      <td>NaN</td>\n      <td>...</td>\n      <td>NaN</td>\n      <td>NaN</td>\n      <td>NaN</td>\n      <td>NaN</td>\n      <td>NaN</td>\n      <td>NaN</td>\n      <td>NaN</td>\n      <td>NaN</td>\n      <td>NaN</td>\n      <td>NaN</td>\n    </tr>\n    <tr>\n      <th>3</th>\n      <td>Lenovo</td>\n      <td>Ideapad S330</td>\n      <td>81JW0000US</td>\n      <td>Chrome</td>\n      <td>Chrome OS</td>\n      <td>3.3 pounds</td>\n      <td>12.82 x 0.82 x 9.15 inches</td>\n      <td>12.82 x 0.82 x 9.15 inches</td>\n      <td>Business Black</td>\n      <td>NaN</td>\n      <td>...</td>\n      <td>7200 RPM</td>\n      <td>NaN</td>\n      <td>NaN</td>\n      <td>NaN</td>\n      <td>NaN</td>\n      <td>NaN</td>\n      <td>NaN</td>\n      <td>NaN</td>\n      <td>NaN</td>\n      <td>NaN</td>\n    </tr>\n    <tr>\n      <th>4</th>\n      <td>Acer</td>\n      <td>PH315-53-72XD</td>\n      <td>PH315-53-72XD</td>\n      <td>NaN</td>\n      <td>Windows 10 Home</td>\n      <td>5.07 pounds</td>\n      <td>14.31 x 10.04 x 0.9 inches</td>\n      <td>14.31 x 10.04 x 0.9 inches</td>\n      <td>NaN</td>\n      <td>NaN</td>\n      <td>...</td>\n      <td>NaN</td>\n      <td>No Optical Drive</td>\n      <td>220 volts</td>\n      <td>NaN</td>\n      <td>NaN</td>\n      <td>NaN</td>\n      <td>NaN</td>\n      <td>NaN</td>\n      <td>NaN</td>\n      <td>NaN</td>\n    </tr>\n    <tr>\n      <th>...</th>\n      <td>...</td>\n      <td>...</td>\n      <td>...</td>\n      <td>...</td>\n      <td>...</td>\n      <td>...</td>\n      <td>...</td>\n      <td>...</td>\n      <td>...</td>\n      <td>...</td>\n      <td>...</td>\n      <td>...</td>\n      <td>...</td>\n      <td>...</td>\n      <td>...</td>\n      <td>...</td>\n      <td>...</td>\n      <td>...</td>\n      <td>...</td>\n      <td>...</td>\n      <td>...</td>\n    </tr>\n    <tr>\n      <th>2800</th>\n      <td>Dell</td>\n      <td>M2HJR</td>\n      <td>NaN</td>\n      <td>PC</td>\n      <td>Windows 10 Pro</td>\n      <td>3.26 pounds</td>\n      <td>8.5 x 12.72 x 0.83 inches</td>\n      <td>8.5 x 12.72 x 0.83 inches</td>\n      <td>NaN</td>\n      <td>NaN</td>\n      <td>...</td>\n      <td>NaN</td>\n      <td>NaN</td>\n      <td>NaN</td>\n      <td>NaN</td>\n      <td>NaN</td>\n      <td>NaN</td>\n      <td>NaN</td>\n      <td>NaN</td>\n      <td>NaN</td>\n      <td>NaN</td>\n    </tr>\n    <tr>\n      <th>2801</th>\n      <td>Lenovo</td>\n      <td>M720s</td>\n      <td>10ST008NUS</td>\n      <td>NaN</td>\n      <td>Windows 10 Pro</td>\n      <td>13.2 pounds</td>\n      <td>11.4 x 3.6 x 13.5 inches</td>\n      <td>11.4 x 3.6 x 13.5 inches</td>\n      <td>Black</td>\n      <td>NaN</td>\n      <td>...</td>\n      <td>NaN</td>\n      <td>DVD±RW</td>\n      <td>NaN</td>\n      <td>NaN</td>\n      <td>NaN</td>\n      <td>NaN</td>\n      <td>NaN</td>\n      <td>NaN</td>\n      <td>NaN</td>\n      <td>NaN</td>\n    </tr>\n    <tr>\n      <th>2802</th>\n      <td>Lenovo</td>\n      <td>T14</td>\n      <td>20NYS6JB0F</td>\n      <td>PC</td>\n      <td>Windows 10 Pro</td>\n      <td>3.4 pounds</td>\n      <td>12.95 x 8.94 x 0.7 inches</td>\n      <td>12.95 x 8.94 x 0.7 inches</td>\n      <td>Black</td>\n      <td>NaN</td>\n      <td>...</td>\n      <td>NaN</td>\n      <td>NaN</td>\n      <td>NaN</td>\n      <td>NaN</td>\n      <td>NaN</td>\n      <td>NaN</td>\n      <td>NaN</td>\n      <td>NaN</td>\n      <td>NaN</td>\n      <td>NaN</td>\n    </tr>\n    <tr>\n      <th>2803</th>\n      <td>Winnovo</td>\n      <td>Winnovo N140</td>\n      <td>Winnovo N140</td>\n      <td>PC</td>\n      <td>Windows 10 S</td>\n      <td>4.37 pounds</td>\n      <td>NaN</td>\n      <td>NaN</td>\n      <td>Gray</td>\n      <td>NaN</td>\n      <td>...</td>\n      <td>NaN</td>\n      <td>NaN</td>\n      <td>220 volts_of_alternating_current</td>\n      <td>14.21 x 9.96 x 2.91 inches</td>\n      <td>NaN</td>\n      <td>NaN</td>\n      <td>NaN</td>\n      <td>NaN</td>\n      <td>NaN</td>\n      <td>NaN</td>\n    </tr>\n    <tr>\n      <th>2804</th>\n      <td>XINYANGCH</td>\n      <td>NB15A</td>\n      <td>N15C</td>\n      <td>PC</td>\n      <td>Windows 10</td>\n      <td>3.96 pounds</td>\n      <td>NaN</td>\n      <td>NaN</td>\n      <td>Silver 8G+128G</td>\n      <td>NaN</td>\n      <td>...</td>\n      <td>NaN</td>\n      <td>NaN</td>\n      <td>240 volts</td>\n      <td>18.94 x 11.5 x 2.36 inches</td>\n      <td>NaN</td>\n      <td>NaN</td>\n      <td>NaN</td>\n      <td>NaN</td>\n      <td>NaN</td>\n      <td>NaN</td>\n    </tr>\n  </tbody>\n</table>\n<p>2805 rows × 27 columns</p>\n</div>"
     },
     "metadata": {},
     "execution_count": 224
    }
   ],
   "source": [
    "m_3"
   ]
  },
  {
   "cell_type": "code",
   "execution_count": 225,
   "metadata": {},
   "outputs": [
    {
     "output_type": "execute_result",
     "data": {
      "text/plain": [
       "Brand                               200\n",
       "Series                              441\n",
       "Item model number                   444\n",
       "Hardware Platform                   510\n",
       "Operating System                    228\n",
       "Item Weight                         199\n",
       "Product Dimensions                 1014\n",
       "Item Dimensions  LxWxH             1014\n",
       "Color                              1187\n",
       "Rear Webcam Resolution             2561\n",
       "Processor Brand                     274\n",
       "Processor Count                     217\n",
       "Computer Memory Type                323\n",
       "Flash Memory Size                   848\n",
       "Hard Drive Interface                440\n",
       "Power Source                        941\n",
       "Batteries                           682\n",
       "Hard Drive Rotational Speed        2385\n",
       "Optical Drive Type                 2280\n",
       "Voltage                            2298\n",
       "Package Dimensions                 1993\n",
       "Manufacturer                       2798\n",
       "ASIN                               2798\n",
       "Date First Available               2797\n",
       "Battery Description                2800\n",
       "Audio-out Ports (#)                2802\n",
       "Is Discontinued By Manufacturer    2804\n",
       "dtype: int64"
      ]
     },
     "metadata": {},
     "execution_count": 225
    }
   ],
   "source": [
    "m_3.isnull().sum()"
   ]
  },
  {
   "cell_type": "code",
   "execution_count": 226,
   "metadata": {},
   "outputs": [],
   "source": [
    "#product_summary\n",
    "add_col2 =  []\n",
    "for i in range(df.shape[0]):\n",
    "    try:\n",
    "        for j in range(len(df.product_summary[i])):\n",
    "            col = df.product_summary[i][j]['info']\n",
    "            if col not in add_col2:\n",
    "                add_col2.append(col)\n",
    "    except:\n",
    "        continue"
   ]
  },
  {
   "cell_type": "code",
   "execution_count": 227,
   "metadata": {},
   "outputs": [],
   "source": [
    "m_4 = pd.DataFrame(columns= add_col2)\n",
    "m_4\n",
    "for i in range(df.shape[0]):\n",
    "    try:\n",
    "        for j in range(len(df.product_summary[i])):\n",
    "            col = df.product_summary[i][j]['info']\n",
    "            val = df.product_summary[i][j]['value']\n",
    "\n",
    "            m_4.loc[i,col] = val\n",
    "            \n",
    "    except:\n",
    "        m_4.loc[i,col] = ''\n",
    "        continue\n"
   ]
  },
  {
   "cell_type": "code",
   "execution_count": 228,
   "metadata": {},
   "outputs": [
    {
     "output_type": "execute_result",
     "data": {
      "text/plain": [
       "     Standing screen display size Screen Resolution  \\\n",
       "0                     14.1 Inches         1920x1080   \n",
       "1                       13 Inches               NaN   \n",
       "2                     15.6 Inches          1366x768   \n",
       "3                       14 Inches               NaN   \n",
       "4                     15.6 Inches               NaN   \n",
       "...                           ...               ...   \n",
       "2800                    14 Inches               NaN   \n",
       "2801                     1 Inches               NaN   \n",
       "2802                    14 Inches               NaN   \n",
       "2803                    14 Inches          1366x768   \n",
       "2804                    15 Inches               NaN   \n",
       "\n",
       "           Max Screen Resolution           Graphics Coprocessor Chipset Brand  \\\n",
       "0     1920 x 1080 Lines Per Inch  Intel Celeron Processor N4000         Intel   \n",
       "1             2160 x 1440 Pixels                            NaN         Intel   \n",
       "2              1366 x 768 Pixels             Intel UHD Graphics         Intel   \n",
       "3               1920X1080 Pixels                            NaN         Intel   \n",
       "4             1920 x 1080 Pixels        NVIDIA GeForce RTX 2060        NVIDIA   \n",
       "...                          ...                            ...           ...   \n",
       "2800          1920 x 1080 Pixels         Intel UHD Graphics 620         Intel   \n",
       "2801          1920 x 1080 Pixels         Intel UHD Graphics 630         Intel   \n",
       "2802          1920 x 1080 Pixels  Integrated Intel UHD Graphics           NaN   \n",
       "2803             1366*768 Pixels           Intel HD Graphic 500           NaN   \n",
       "2804            1920*1080 Pixels                      1920*1080           NaN   \n",
       "\n",
       "     Card Description        Wireless Type Average Battery Life (in hours)  \\\n",
       "0          Integrated            Bluetooth                       5 \\tyears   \n",
       "1                 NaN                  NaN                             NaN   \n",
       "2           Dedicated              802.11a                             NaN   \n",
       "3          Integrated             802.11ac                        10 Hours   \n",
       "4            RTX 2060             802.11ax                         6 Hours   \n",
       "...               ...                  ...                             ...   \n",
       "2800       Integrated            Bluetooth                             NaN   \n",
       "2801       Integrated                  NaN                             NaN   \n",
       "2802              NaN            Bluetooth                             NaN   \n",
       "2803       Integrated  802.11bgn, 802.11ac                             NaN   \n",
       "2804              NaN            Bluetooth                             NaN   \n",
       "\n",
       "     Memory Speed Number of USB 2.0 Ports  ... Size Color Style Power Source  \\\n",
       "0             NaN                     NaN  ...  NaN   NaN   NaN          NaN   \n",
       "1             NaN                     NaN  ...  NaN   NaN   NaN          NaN   \n",
       "2         3.9 GHz                       1  ...  NaN   NaN   NaN          NaN   \n",
       "3             NaN                     NaN  ...  NaN   NaN   NaN          NaN   \n",
       "4        2933 MHz                     NaN  ...  NaN   NaN   NaN          NaN   \n",
       "...           ...                     ...  ...  ...   ...   ...          ...   \n",
       "2800          NaN                     NaN  ...  NaN   NaN   NaN          NaN   \n",
       "2801          NaN                       2  ...  NaN   NaN   NaN          NaN   \n",
       "2802      1.8 GHz                     NaN  ...  NaN   NaN   NaN          NaN   \n",
       "2803          NaN                     NaN  ...  NaN   NaN   NaN          NaN   \n",
       "2804      2.3 GHz                     NaN  ...  NaN   NaN   NaN          NaN   \n",
       "\n",
       "     Item Package Quantity Display Style Usage Included Components  \\\n",
       "0                      NaN           NaN   NaN                 NaN   \n",
       "1                      NaN           NaN   NaN                 NaN   \n",
       "2                      NaN           NaN   NaN                 NaN   \n",
       "3                      NaN           NaN   NaN                 NaN   \n",
       "4                      NaN           NaN   NaN                 NaN   \n",
       "...                    ...           ...   ...                 ...   \n",
       "2800                   NaN           NaN   NaN                 NaN   \n",
       "2801                   NaN           NaN   NaN                 NaN   \n",
       "2802                   NaN           NaN   NaN                 NaN   \n",
       "2803                   NaN           NaN   NaN                 NaN   \n",
       "2804                   NaN           NaN   NaN                 NaN   \n",
       "\n",
       "     Batteries Required? Warranty Description  \n",
       "0                    NaN                  NaN  \n",
       "1                    NaN                  NaN  \n",
       "2                    NaN                  NaN  \n",
       "3                    NaN                  NaN  \n",
       "4                    NaN                  NaN  \n",
       "...                  ...                  ...  \n",
       "2800                 NaN                  NaN  \n",
       "2801                 NaN                  NaN  \n",
       "2802                 NaN                  NaN  \n",
       "2803                 NaN                  NaN  \n",
       "2804                 NaN                  NaN  \n",
       "\n",
       "[2805 rows x 29 columns]"
      ],
      "text/html": "<div>\n<style scoped>\n    .dataframe tbody tr th:only-of-type {\n        vertical-align: middle;\n    }\n\n    .dataframe tbody tr th {\n        vertical-align: top;\n    }\n\n    .dataframe thead th {\n        text-align: right;\n    }\n</style>\n<table border=\"1\" class=\"dataframe\">\n  <thead>\n    <tr style=\"text-align: right;\">\n      <th></th>\n      <th>Standing screen display size</th>\n      <th>Screen Resolution</th>\n      <th>Max Screen Resolution</th>\n      <th>Graphics Coprocessor</th>\n      <th>Chipset Brand</th>\n      <th>Card Description</th>\n      <th>Wireless Type</th>\n      <th>Average Battery Life (in hours)</th>\n      <th>Memory Speed</th>\n      <th>Number of USB 2.0 Ports</th>\n      <th>...</th>\n      <th>Size</th>\n      <th>Color</th>\n      <th>Style</th>\n      <th>Power Source</th>\n      <th>Item Package Quantity</th>\n      <th>Display Style</th>\n      <th>Usage</th>\n      <th>Included Components</th>\n      <th>Batteries Required?</th>\n      <th>Warranty Description</th>\n    </tr>\n  </thead>\n  <tbody>\n    <tr>\n      <th>0</th>\n      <td>14.1 Inches</td>\n      <td>1920x1080</td>\n      <td>1920 x 1080 Lines Per Inch</td>\n      <td>Intel Celeron Processor N4000</td>\n      <td>Intel</td>\n      <td>Integrated</td>\n      <td>Bluetooth</td>\n      <td>5 \\tyears</td>\n      <td>NaN</td>\n      <td>NaN</td>\n      <td>...</td>\n      <td>NaN</td>\n      <td>NaN</td>\n      <td>NaN</td>\n      <td>NaN</td>\n      <td>NaN</td>\n      <td>NaN</td>\n      <td>NaN</td>\n      <td>NaN</td>\n      <td>NaN</td>\n      <td>NaN</td>\n    </tr>\n    <tr>\n      <th>1</th>\n      <td>13 Inches</td>\n      <td>NaN</td>\n      <td>2160 x 1440 Pixels</td>\n      <td>NaN</td>\n      <td>Intel</td>\n      <td>NaN</td>\n      <td>NaN</td>\n      <td>NaN</td>\n      <td>NaN</td>\n      <td>NaN</td>\n      <td>...</td>\n      <td>NaN</td>\n      <td>NaN</td>\n      <td>NaN</td>\n      <td>NaN</td>\n      <td>NaN</td>\n      <td>NaN</td>\n      <td>NaN</td>\n      <td>NaN</td>\n      <td>NaN</td>\n      <td>NaN</td>\n    </tr>\n    <tr>\n      <th>2</th>\n      <td>15.6 Inches</td>\n      <td>1366x768</td>\n      <td>1366 x 768 Pixels</td>\n      <td>Intel UHD Graphics</td>\n      <td>Intel</td>\n      <td>Dedicated</td>\n      <td>802.11a</td>\n      <td>NaN</td>\n      <td>3.9 GHz</td>\n      <td>1</td>\n      <td>...</td>\n      <td>NaN</td>\n      <td>NaN</td>\n      <td>NaN</td>\n      <td>NaN</td>\n      <td>NaN</td>\n      <td>NaN</td>\n      <td>NaN</td>\n      <td>NaN</td>\n      <td>NaN</td>\n      <td>NaN</td>\n    </tr>\n    <tr>\n      <th>3</th>\n      <td>14 Inches</td>\n      <td>NaN</td>\n      <td>1920X1080 Pixels</td>\n      <td>NaN</td>\n      <td>Intel</td>\n      <td>Integrated</td>\n      <td>802.11ac</td>\n      <td>10 Hours</td>\n      <td>NaN</td>\n      <td>NaN</td>\n      <td>...</td>\n      <td>NaN</td>\n      <td>NaN</td>\n      <td>NaN</td>\n      <td>NaN</td>\n      <td>NaN</td>\n      <td>NaN</td>\n      <td>NaN</td>\n      <td>NaN</td>\n      <td>NaN</td>\n      <td>NaN</td>\n    </tr>\n    <tr>\n      <th>4</th>\n      <td>15.6 Inches</td>\n      <td>NaN</td>\n      <td>1920 x 1080 Pixels</td>\n      <td>NVIDIA GeForce RTX 2060</td>\n      <td>NVIDIA</td>\n      <td>RTX 2060</td>\n      <td>802.11ax</td>\n      <td>6 Hours</td>\n      <td>2933 MHz</td>\n      <td>NaN</td>\n      <td>...</td>\n      <td>NaN</td>\n      <td>NaN</td>\n      <td>NaN</td>\n      <td>NaN</td>\n      <td>NaN</td>\n      <td>NaN</td>\n      <td>NaN</td>\n      <td>NaN</td>\n      <td>NaN</td>\n      <td>NaN</td>\n    </tr>\n    <tr>\n      <th>...</th>\n      <td>...</td>\n      <td>...</td>\n      <td>...</td>\n      <td>...</td>\n      <td>...</td>\n      <td>...</td>\n      <td>...</td>\n      <td>...</td>\n      <td>...</td>\n      <td>...</td>\n      <td>...</td>\n      <td>...</td>\n      <td>...</td>\n      <td>...</td>\n      <td>...</td>\n      <td>...</td>\n      <td>...</td>\n      <td>...</td>\n      <td>...</td>\n      <td>...</td>\n      <td>...</td>\n    </tr>\n    <tr>\n      <th>2800</th>\n      <td>14 Inches</td>\n      <td>NaN</td>\n      <td>1920 x 1080 Pixels</td>\n      <td>Intel UHD Graphics 620</td>\n      <td>Intel</td>\n      <td>Integrated</td>\n      <td>Bluetooth</td>\n      <td>NaN</td>\n      <td>NaN</td>\n      <td>NaN</td>\n      <td>...</td>\n      <td>NaN</td>\n      <td>NaN</td>\n      <td>NaN</td>\n      <td>NaN</td>\n      <td>NaN</td>\n      <td>NaN</td>\n      <td>NaN</td>\n      <td>NaN</td>\n      <td>NaN</td>\n      <td>NaN</td>\n    </tr>\n    <tr>\n      <th>2801</th>\n      <td>1 Inches</td>\n      <td>NaN</td>\n      <td>1920 x 1080 Pixels</td>\n      <td>Intel UHD Graphics 630</td>\n      <td>Intel</td>\n      <td>Integrated</td>\n      <td>NaN</td>\n      <td>NaN</td>\n      <td>NaN</td>\n      <td>2</td>\n      <td>...</td>\n      <td>NaN</td>\n      <td>NaN</td>\n      <td>NaN</td>\n      <td>NaN</td>\n      <td>NaN</td>\n      <td>NaN</td>\n      <td>NaN</td>\n      <td>NaN</td>\n      <td>NaN</td>\n      <td>NaN</td>\n    </tr>\n    <tr>\n      <th>2802</th>\n      <td>14 Inches</td>\n      <td>NaN</td>\n      <td>1920 x 1080 Pixels</td>\n      <td>Integrated Intel UHD Graphics</td>\n      <td>NaN</td>\n      <td>NaN</td>\n      <td>Bluetooth</td>\n      <td>NaN</td>\n      <td>1.8 GHz</td>\n      <td>NaN</td>\n      <td>...</td>\n      <td>NaN</td>\n      <td>NaN</td>\n      <td>NaN</td>\n      <td>NaN</td>\n      <td>NaN</td>\n      <td>NaN</td>\n      <td>NaN</td>\n      <td>NaN</td>\n      <td>NaN</td>\n      <td>NaN</td>\n    </tr>\n    <tr>\n      <th>2803</th>\n      <td>14 Inches</td>\n      <td>1366x768</td>\n      <td>1366*768 Pixels</td>\n      <td>Intel HD Graphic 500</td>\n      <td>NaN</td>\n      <td>Integrated</td>\n      <td>802.11bgn, 802.11ac</td>\n      <td>NaN</td>\n      <td>NaN</td>\n      <td>NaN</td>\n      <td>...</td>\n      <td>NaN</td>\n      <td>NaN</td>\n      <td>NaN</td>\n      <td>NaN</td>\n      <td>NaN</td>\n      <td>NaN</td>\n      <td>NaN</td>\n      <td>NaN</td>\n      <td>NaN</td>\n      <td>NaN</td>\n    </tr>\n    <tr>\n      <th>2804</th>\n      <td>15 Inches</td>\n      <td>NaN</td>\n      <td>1920*1080 Pixels</td>\n      <td>1920*1080</td>\n      <td>NaN</td>\n      <td>NaN</td>\n      <td>Bluetooth</td>\n      <td>NaN</td>\n      <td>2.3 GHz</td>\n      <td>NaN</td>\n      <td>...</td>\n      <td>NaN</td>\n      <td>NaN</td>\n      <td>NaN</td>\n      <td>NaN</td>\n      <td>NaN</td>\n      <td>NaN</td>\n      <td>NaN</td>\n      <td>NaN</td>\n      <td>NaN</td>\n      <td>NaN</td>\n    </tr>\n  </tbody>\n</table>\n<p>2805 rows × 29 columns</p>\n</div>"
     },
     "metadata": {},
     "execution_count": 228
    }
   ],
   "source": [
    "m_4"
   ]
  },
  {
   "cell_type": "code",
   "execution_count": 229,
   "metadata": {},
   "outputs": [
    {
     "output_type": "execute_result",
     "data": {
      "text/plain": [
       "Standing screen display size        199\n",
       "Screen Resolution                  1747\n",
       "Max Screen Resolution               387\n",
       "Graphics Coprocessor                411\n",
       "Chipset Brand                       832\n",
       "Card Description                   1041\n",
       "Wireless Type                       430\n",
       "Average Battery Life (in hours)    1921\n",
       "Memory Speed                       1092\n",
       "Number of USB 2.0 Ports            2373\n",
       "Graphics Card Ram Size             2106\n",
       "Number of USB 3.0 Ports            2118\n",
       "National Stock Number              2741\n",
       "Manufacturer                       2804\n",
       "Part Number                        2804\n",
       "Item Weight                        2804\n",
       "Product Dimensions                 2804\n",
       "Item model number                  2804\n",
       "Is Discontinued By Manufacturer    2804\n",
       "Size                               2804\n",
       "Color                              2804\n",
       "Style                              2804\n",
       "Power Source                       2804\n",
       "Item Package Quantity              2804\n",
       "Display Style                      2804\n",
       "Usage                              2804\n",
       "Included Components                2804\n",
       "Batteries Required?                2804\n",
       "Warranty Description               2804\n",
       "dtype: int64"
      ]
     },
     "metadata": {},
     "execution_count": 229
    }
   ],
   "source": [
    "m_4.isnull().sum()"
   ]
  },
  {
   "cell_type": "code",
   "execution_count": 230,
   "metadata": {},
   "outputs": [],
   "source": [
    "#new.OS"
   ]
  },
  {
   "cell_type": "code",
   "execution_count": 231,
   "metadata": {},
   "outputs": [],
   "source": [
    "#after splitting final datas:\n",
    "#m_3\n",
    "#m_4\n",
    "#new"
   ]
  },
  {
   "cell_type": "code",
   "execution_count": 232,
   "metadata": {},
   "outputs": [
    {
     "output_type": "execute_result",
     "data": {
      "text/plain": [
       "            ASIN Audio-out Ports (#) Average Battery Life (in hours)  \\\n",
       "0     B085XRL3P1                 NaN                       5 \\tyears   \n",
       "1     B08CDM3XPJ                 NaN                             NaN   \n",
       "2     B08NXSJVCR                 NaN                             NaN   \n",
       "3     B07GLV1VC7                 NaN                        10 Hours   \n",
       "4     B08842D7JS                 NaN                         6 Hours   \n",
       "...          ...                 ...                             ...   \n",
       "2800  B08L8KW3ZM                 NaN                             NaN   \n",
       "2801  B082RD3STD                 NaN                             NaN   \n",
       "2802  B0844KPGNF                 NaN                             NaN   \n",
       "2803  B08JBVT48L                 NaN                             NaN   \n",
       "2804  B08N63ZSV7                 NaN                             NaN   \n",
       "\n",
       "                                             Batteries Batteries Required  \\\n",
       "0                                                  NaN                NaN   \n",
       "1                                                  NaN                NaN   \n",
       "2     1 Lithium Polymer batteries required. (included)                NaN   \n",
       "3     1 Lithium Polymer batteries required. (included)                NaN   \n",
       "4         1 Lithium ion batteries required. (included)                NaN   \n",
       "...                                                ...                ...   \n",
       "2800                                               NaN                NaN   \n",
       "2801                                               NaN                NaN   \n",
       "2802               1 9V batteries required. (included)                NaN   \n",
       "2803  1 Lithium Polymer batteries required. (included)                NaN   \n",
       "2804                                               NaN                NaN   \n",
       "\n",
       "     Batteries Required? Battery Description  \\\n",
       "0                    NaN                 NaN   \n",
       "1                    NaN                 NaN   \n",
       "2                    NaN                 NaN   \n",
       "3                    NaN                 NaN   \n",
       "4                    NaN                 NaN   \n",
       "...                  ...                 ...   \n",
       "2800                 NaN                 NaN   \n",
       "2801                 NaN                 NaN   \n",
       "2802                 NaN                 NaN   \n",
       "2803                 NaN                 NaN   \n",
       "2804                 NaN                 NaN   \n",
       "\n",
       "                                      Best Sellers Rank      Brand  \\\n",
       "0     #1,853 in Computers & Accessories ( See Top 10...      CHUWI   \n",
       "1     #14,505 in Computers & Accessories ( See Top 1...      CHUWI   \n",
       "2     #212 in Computers & Accessories ( See Top 100 ...     Lenovo   \n",
       "3     #372 in Computers & Accessories ( See Top 100 ...     Lenovo   \n",
       "4     #146 in Computers & Accessories ( See Top 100 ...       Acer   \n",
       "...                                                 ...        ...   \n",
       "2800  #579,675 in Computers & Accessories ( See Top ...       Dell   \n",
       "2801  #47,707 in Computers & Accessories ( See Top 1...     Lenovo   \n",
       "2802  #310,265 in Computers & Accessories ( See Top ...     Lenovo   \n",
       "2803  #4,479 in Computers & Accessories ( See Top 10...    Winnovo   \n",
       "2804  #29,104 in Computers & Accessories ( See Top 1...  XINYANGCH   \n",
       "\n",
       "     Card Description  ... Size Specific Uses For Product  \\\n",
       "0          Integrated  ...  NaN                       NaN   \n",
       "1                 NaN  ...  NaN                       NaN   \n",
       "2           Dedicated  ...  NaN                       NaN   \n",
       "3          Integrated  ...  NaN                       NaN   \n",
       "4            RTX 2060  ...  NaN                       NaN   \n",
       "...               ...  ...  ...                       ...   \n",
       "2800       Integrated  ...  NaN                       NaN   \n",
       "2801       Integrated  ...  NaN                       NaN   \n",
       "2802              NaN  ...  NaN                       NaN   \n",
       "2803       Integrated  ...  NaN                       NaN   \n",
       "2804              NaN  ...  NaN                       NaN   \n",
       "\n",
       "     Standing screen display size Style Usage  \\\n",
       "0                     14.1 Inches   NaN   NaN   \n",
       "1                       13 Inches   NaN   NaN   \n",
       "2                     15.6 Inches   NaN   NaN   \n",
       "3                       14 Inches   NaN   NaN   \n",
       "4                     15.6 Inches   NaN   NaN   \n",
       "...                           ...   ...   ...   \n",
       "2800                    14 Inches   NaN   NaN   \n",
       "2801                     1 Inches   NaN   NaN   \n",
       "2802                    14 Inches   NaN   NaN   \n",
       "2803                    14 Inches   NaN   NaN   \n",
       "2804                    15 Inches   NaN   NaN   \n",
       "\n",
       "                               Voltage Warranty Description  \\\n",
       "0                                  NaN                  NaN   \n",
       "1                                  NaN                  NaN   \n",
       "2                                  NaN                  NaN   \n",
       "3                                  NaN                  NaN   \n",
       "4                            220 volts                  NaN   \n",
       "...                                ...                  ...   \n",
       "2800                               NaN                  NaN   \n",
       "2801                               NaN                  NaN   \n",
       "2802                               NaN                  NaN   \n",
       "2803  220 volts_of_alternating_current                  NaN   \n",
       "2804                         240 volts                  NaN   \n",
       "\n",
       "            Wireless Type Wireless communication technologies  \\\n",
       "0               Bluetooth                                 NaN   \n",
       "1                     NaN                                 NaN   \n",
       "2                 802.11a                                 NaN   \n",
       "3                802.11ac                                 NaN   \n",
       "4                802.11ax                                 NaN   \n",
       "...                   ...                                 ...   \n",
       "2800            Bluetooth                                 NaN   \n",
       "2801                  NaN                                 NaN   \n",
       "2802            Bluetooth                                 NaN   \n",
       "2803  802.11bgn, 802.11ac                                 NaN   \n",
       "2804            Bluetooth                                 NaN   \n",
       "\n",
       "                                                   name  \n",
       "0     CHUWI Herobook Pro 14.1 inch Windows 10 Intel ...  \n",
       "1     CHUWI CoreBook Pro Windows 10 Laptop Computer,...  \n",
       "2     Lenovo IdeaPad 3 Intel i5-1035G1 Quad Core 12G...  \n",
       "3     Lenovo Chromebook S330 Laptop, 14-Inch FHD (19...  \n",
       "4     Acer Predator Helios 300 Gaming Laptop, Intel ...  \n",
       "...                                                 ...  \n",
       "2800  Dell Latitude 5410 14\" Notebook - Full HD - 19...  \n",
       "2801  TopSeller TC M720S SFF I5-9400 2.9G 8GB 256GB ...  \n",
       "2802  Lenovo ThinkPad T14 Laptop - 14\" IPS FHD Touch...  \n",
       "2803  Laptop 14 Inch, Winnovo N140, 6GB RAM, 128GB S...  \n",
       "2804  2020 15.6-inch Laptop 6G + 256G, Intel celeron...  \n",
       "\n",
       "[2805 rows x 65 columns]"
      ],
      "text/html": "<div>\n<style scoped>\n    .dataframe tbody tr th:only-of-type {\n        vertical-align: middle;\n    }\n\n    .dataframe tbody tr th {\n        vertical-align: top;\n    }\n\n    .dataframe thead th {\n        text-align: right;\n    }\n</style>\n<table border=\"1\" class=\"dataframe\">\n  <thead>\n    <tr style=\"text-align: right;\">\n      <th></th>\n      <th>ASIN</th>\n      <th>Audio-out Ports (#)</th>\n      <th>Average Battery Life (in hours)</th>\n      <th>Batteries</th>\n      <th>Batteries Required</th>\n      <th>Batteries Required?</th>\n      <th>Battery Description</th>\n      <th>Best Sellers Rank</th>\n      <th>Brand</th>\n      <th>Card Description</th>\n      <th>...</th>\n      <th>Size</th>\n      <th>Specific Uses For Product</th>\n      <th>Standing screen display size</th>\n      <th>Style</th>\n      <th>Usage</th>\n      <th>Voltage</th>\n      <th>Warranty Description</th>\n      <th>Wireless Type</th>\n      <th>Wireless communication technologies</th>\n      <th>name</th>\n    </tr>\n  </thead>\n  <tbody>\n    <tr>\n      <th>0</th>\n      <td>B085XRL3P1</td>\n      <td>NaN</td>\n      <td>5 \\tyears</td>\n      <td>NaN</td>\n      <td>NaN</td>\n      <td>NaN</td>\n      <td>NaN</td>\n      <td>#1,853 in Computers &amp; Accessories ( See Top 10...</td>\n      <td>CHUWI</td>\n      <td>Integrated</td>\n      <td>...</td>\n      <td>NaN</td>\n      <td>NaN</td>\n      <td>14.1 Inches</td>\n      <td>NaN</td>\n      <td>NaN</td>\n      <td>NaN</td>\n      <td>NaN</td>\n      <td>Bluetooth</td>\n      <td>NaN</td>\n      <td>CHUWI Herobook Pro 14.1 inch Windows 10 Intel ...</td>\n    </tr>\n    <tr>\n      <th>1</th>\n      <td>B08CDM3XPJ</td>\n      <td>NaN</td>\n      <td>NaN</td>\n      <td>NaN</td>\n      <td>NaN</td>\n      <td>NaN</td>\n      <td>NaN</td>\n      <td>#14,505 in Computers &amp; Accessories ( See Top 1...</td>\n      <td>CHUWI</td>\n      <td>NaN</td>\n      <td>...</td>\n      <td>NaN</td>\n      <td>NaN</td>\n      <td>13 Inches</td>\n      <td>NaN</td>\n      <td>NaN</td>\n      <td>NaN</td>\n      <td>NaN</td>\n      <td>NaN</td>\n      <td>NaN</td>\n      <td>CHUWI CoreBook Pro Windows 10 Laptop Computer,...</td>\n    </tr>\n    <tr>\n      <th>2</th>\n      <td>B08NXSJVCR</td>\n      <td>NaN</td>\n      <td>NaN</td>\n      <td>1 Lithium Polymer batteries required. (included)</td>\n      <td>NaN</td>\n      <td>NaN</td>\n      <td>NaN</td>\n      <td>#212 in Computers &amp; Accessories ( See Top 100 ...</td>\n      <td>Lenovo</td>\n      <td>Dedicated</td>\n      <td>...</td>\n      <td>NaN</td>\n      <td>NaN</td>\n      <td>15.6 Inches</td>\n      <td>NaN</td>\n      <td>NaN</td>\n      <td>NaN</td>\n      <td>NaN</td>\n      <td>802.11a</td>\n      <td>NaN</td>\n      <td>Lenovo IdeaPad 3 Intel i5-1035G1 Quad Core 12G...</td>\n    </tr>\n    <tr>\n      <th>3</th>\n      <td>B07GLV1VC7</td>\n      <td>NaN</td>\n      <td>10 Hours</td>\n      <td>1 Lithium Polymer batteries required. (included)</td>\n      <td>NaN</td>\n      <td>NaN</td>\n      <td>NaN</td>\n      <td>#372 in Computers &amp; Accessories ( See Top 100 ...</td>\n      <td>Lenovo</td>\n      <td>Integrated</td>\n      <td>...</td>\n      <td>NaN</td>\n      <td>NaN</td>\n      <td>14 Inches</td>\n      <td>NaN</td>\n      <td>NaN</td>\n      <td>NaN</td>\n      <td>NaN</td>\n      <td>802.11ac</td>\n      <td>NaN</td>\n      <td>Lenovo Chromebook S330 Laptop, 14-Inch FHD (19...</td>\n    </tr>\n    <tr>\n      <th>4</th>\n      <td>B08842D7JS</td>\n      <td>NaN</td>\n      <td>6 Hours</td>\n      <td>1 Lithium ion batteries required. (included)</td>\n      <td>NaN</td>\n      <td>NaN</td>\n      <td>NaN</td>\n      <td>#146 in Computers &amp; Accessories ( See Top 100 ...</td>\n      <td>Acer</td>\n      <td>RTX 2060</td>\n      <td>...</td>\n      <td>NaN</td>\n      <td>NaN</td>\n      <td>15.6 Inches</td>\n      <td>NaN</td>\n      <td>NaN</td>\n      <td>220 volts</td>\n      <td>NaN</td>\n      <td>802.11ax</td>\n      <td>NaN</td>\n      <td>Acer Predator Helios 300 Gaming Laptop, Intel ...</td>\n    </tr>\n    <tr>\n      <th>...</th>\n      <td>...</td>\n      <td>...</td>\n      <td>...</td>\n      <td>...</td>\n      <td>...</td>\n      <td>...</td>\n      <td>...</td>\n      <td>...</td>\n      <td>...</td>\n      <td>...</td>\n      <td>...</td>\n      <td>...</td>\n      <td>...</td>\n      <td>...</td>\n      <td>...</td>\n      <td>...</td>\n      <td>...</td>\n      <td>...</td>\n      <td>...</td>\n      <td>...</td>\n      <td>...</td>\n    </tr>\n    <tr>\n      <th>2800</th>\n      <td>B08L8KW3ZM</td>\n      <td>NaN</td>\n      <td>NaN</td>\n      <td>NaN</td>\n      <td>NaN</td>\n      <td>NaN</td>\n      <td>NaN</td>\n      <td>#579,675 in Computers &amp; Accessories ( See Top ...</td>\n      <td>Dell</td>\n      <td>Integrated</td>\n      <td>...</td>\n      <td>NaN</td>\n      <td>NaN</td>\n      <td>14 Inches</td>\n      <td>NaN</td>\n      <td>NaN</td>\n      <td>NaN</td>\n      <td>NaN</td>\n      <td>Bluetooth</td>\n      <td>NaN</td>\n      <td>Dell Latitude 5410 14\" Notebook - Full HD - 19...</td>\n    </tr>\n    <tr>\n      <th>2801</th>\n      <td>B082RD3STD</td>\n      <td>NaN</td>\n      <td>NaN</td>\n      <td>NaN</td>\n      <td>NaN</td>\n      <td>NaN</td>\n      <td>NaN</td>\n      <td>#47,707 in Computers &amp; Accessories ( See Top 1...</td>\n      <td>Lenovo</td>\n      <td>Integrated</td>\n      <td>...</td>\n      <td>NaN</td>\n      <td>NaN</td>\n      <td>1 Inches</td>\n      <td>NaN</td>\n      <td>NaN</td>\n      <td>NaN</td>\n      <td>NaN</td>\n      <td>NaN</td>\n      <td>NaN</td>\n      <td>TopSeller TC M720S SFF I5-9400 2.9G 8GB 256GB ...</td>\n    </tr>\n    <tr>\n      <th>2802</th>\n      <td>B0844KPGNF</td>\n      <td>NaN</td>\n      <td>NaN</td>\n      <td>1 9V batteries required. (included)</td>\n      <td>NaN</td>\n      <td>NaN</td>\n      <td>NaN</td>\n      <td>#310,265 in Computers &amp; Accessories ( See Top ...</td>\n      <td>Lenovo</td>\n      <td>NaN</td>\n      <td>...</td>\n      <td>NaN</td>\n      <td>NaN</td>\n      <td>14 Inches</td>\n      <td>NaN</td>\n      <td>NaN</td>\n      <td>NaN</td>\n      <td>NaN</td>\n      <td>Bluetooth</td>\n      <td>NaN</td>\n      <td>Lenovo ThinkPad T14 Laptop - 14\" IPS FHD Touch...</td>\n    </tr>\n    <tr>\n      <th>2803</th>\n      <td>B08JBVT48L</td>\n      <td>NaN</td>\n      <td>NaN</td>\n      <td>1 Lithium Polymer batteries required. (included)</td>\n      <td>NaN</td>\n      <td>NaN</td>\n      <td>NaN</td>\n      <td>#4,479 in Computers &amp; Accessories ( See Top 10...</td>\n      <td>Winnovo</td>\n      <td>Integrated</td>\n      <td>...</td>\n      <td>NaN</td>\n      <td>NaN</td>\n      <td>14 Inches</td>\n      <td>NaN</td>\n      <td>NaN</td>\n      <td>220 volts_of_alternating_current</td>\n      <td>NaN</td>\n      <td>802.11bgn, 802.11ac</td>\n      <td>NaN</td>\n      <td>Laptop 14 Inch, Winnovo N140, 6GB RAM, 128GB S...</td>\n    </tr>\n    <tr>\n      <th>2804</th>\n      <td>B08N63ZSV7</td>\n      <td>NaN</td>\n      <td>NaN</td>\n      <td>NaN</td>\n      <td>NaN</td>\n      <td>NaN</td>\n      <td>NaN</td>\n      <td>#29,104 in Computers &amp; Accessories ( See Top 1...</td>\n      <td>XINYANGCH</td>\n      <td>NaN</td>\n      <td>...</td>\n      <td>NaN</td>\n      <td>NaN</td>\n      <td>15 Inches</td>\n      <td>NaN</td>\n      <td>NaN</td>\n      <td>240 volts</td>\n      <td>NaN</td>\n      <td>Bluetooth</td>\n      <td>NaN</td>\n      <td>2020 15.6-inch Laptop 6G + 256G, Intel celeron...</td>\n    </tr>\n  </tbody>\n</table>\n<p>2805 rows × 65 columns</p>\n</div>"
     },
     "metadata": {},
     "execution_count": 232
    }
   ],
   "source": [
    "merge = pd.concat([new, m_3, m_4], axis=1)\n",
    "m_new = merge.groupby(merge.columns,axis=1).first()\n",
    "m_new"
   ]
  },
  {
   "cell_type": "code",
   "execution_count": 233,
   "metadata": {},
   "outputs": [
    {
     "output_type": "execute_result",
     "data": {
      "text/plain": [
       "['ASIN',\n",
       " 'Audio-out Ports (#)',\n",
       " 'Average Battery Life (in hours)',\n",
       " 'Batteries',\n",
       " 'Batteries Required',\n",
       " 'Batteries Required?',\n",
       " 'Battery Description',\n",
       " 'Best Sellers Rank',\n",
       " 'Brand',\n",
       " 'Card Description',\n",
       " 'Chipset Brand',\n",
       " 'Color',\n",
       " 'Colour',\n",
       " 'Computer Memory Type',\n",
       " 'Customer Reviews',\n",
       " 'Date First Available',\n",
       " 'Device interface - primary',\n",
       " 'Display Style',\n",
       " 'Display resolution',\n",
       " 'Display technology',\n",
       " 'Flash Memory Size',\n",
       " 'Form Factor',\n",
       " 'GPU',\n",
       " 'Graphics Card Ram Size',\n",
       " 'Graphics Coprocessor',\n",
       " 'Hard Drive Interface',\n",
       " 'Hard Drive Rotational Speed',\n",
       " 'Hardware Platform',\n",
       " 'Included Components',\n",
       " 'Is Discontinued By Manufacturer',\n",
       " 'Item Dimensions  LxWxH',\n",
       " 'Item Package Quantity',\n",
       " 'Item Weight',\n",
       " 'Item model number',\n",
       " 'Manufacturer',\n",
       " 'Max Screen Resolution',\n",
       " 'Memory Speed',\n",
       " 'National Stock Number',\n",
       " 'Number of USB 2.0 Ports',\n",
       " 'Number of USB 3.0 Ports',\n",
       " 'OS',\n",
       " 'Operating System',\n",
       " 'Optical Drive Type',\n",
       " 'Other camera features',\n",
       " 'Other display features',\n",
       " 'Package Dimensions',\n",
       " 'Part Number',\n",
       " 'Power Source',\n",
       " 'Processor Brand',\n",
       " 'Processor Count',\n",
       " 'Product Dimensions',\n",
       " 'RAM',\n",
       " 'Rear Webcam Resolution',\n",
       " 'Screen Resolution',\n",
       " 'Series',\n",
       " 'Size',\n",
       " 'Specific Uses For Product',\n",
       " 'Standing screen display size',\n",
       " 'Style',\n",
       " 'Usage',\n",
       " 'Voltage',\n",
       " 'Warranty Description',\n",
       " 'Wireless Type',\n",
       " 'Wireless communication technologies',\n",
       " 'name']"
      ]
     },
     "metadata": {},
     "execution_count": 233
    }
   ],
   "source": [
    "list(m_new.columns.values)"
   ]
  },
  {
   "cell_type": "code",
   "execution_count": 234,
   "metadata": {},
   "outputs": [
    {
     "output_type": "execute_result",
     "data": {
      "text/plain": [
       "            ASIN Audio-out Ports (#) Average Battery Life (in hours)  \\\n",
       "2     B08NXSJVCR                 NaN                             NaN   \n",
       "3     B07GLV1VC7                 NaN                        10 Hours   \n",
       "4     B08842D7JS                 NaN                         6 Hours   \n",
       "5     B084SKWC89                 NaN                        10 Hours   \n",
       "8     B08H6YZY3Y                 NaN                     15.45 Hours   \n",
       "...          ...                 ...                             ...   \n",
       "2798  B077SX1YRJ                 NaN                             NaN   \n",
       "2799  B08L56FVR3                 NaN                             NaN   \n",
       "2800  B08L8KW3ZM                 NaN                             NaN   \n",
       "2801  B082RD3STD                 NaN                             NaN   \n",
       "2802  B0844KPGNF                 NaN                             NaN   \n",
       "\n",
       "                                             Batteries Batteries Required  \\\n",
       "2     1 Lithium Polymer batteries required. (included)                NaN   \n",
       "3     1 Lithium Polymer batteries required. (included)                NaN   \n",
       "4         1 Lithium ion batteries required. (included)                NaN   \n",
       "5       1 Lithium Metal batteries required. (included)                NaN   \n",
       "8     1 Lithium Polymer batteries required. (included)                NaN   \n",
       "...                                                ...                ...   \n",
       "2798                                               NaN                NaN   \n",
       "2799                                               NaN                NaN   \n",
       "2800                                               NaN                NaN   \n",
       "2801                                               NaN                NaN   \n",
       "2802               1 9V batteries required. (included)                NaN   \n",
       "\n",
       "     Batteries Required? Battery Description  \\\n",
       "2                    NaN                 NaN   \n",
       "3                    NaN                 NaN   \n",
       "4                    NaN                 NaN   \n",
       "5                    NaN                 NaN   \n",
       "8                    NaN                 NaN   \n",
       "...                  ...                 ...   \n",
       "2798                 NaN                 NaN   \n",
       "2799                 NaN                 NaN   \n",
       "2800                 NaN                 NaN   \n",
       "2801                 NaN                 NaN   \n",
       "2802                 NaN                 NaN   \n",
       "\n",
       "                                      Best Sellers Rank       Brand  \\\n",
       "2     #212 in Computers & Accessories ( See Top 100 ...      Lenovo   \n",
       "3     #372 in Computers & Accessories ( See Top 100 ...      Lenovo   \n",
       "4     #146 in Computers & Accessories ( See Top 100 ...        Acer   \n",
       "5     #669 in Computers & Accessories ( See Top 100 ...          HP   \n",
       "8     #2,997 in Computers & Accessories ( See Top 10...          HP   \n",
       "...                                                 ...         ...   \n",
       "2798  #119,586 in Computers & Accessories ( See Top ...  Oemgenuine   \n",
       "2799                                                NaN         MSI   \n",
       "2800  #579,675 in Computers & Accessories ( See Top ...        Dell   \n",
       "2801  #47,707 in Computers & Accessories ( See Top 1...      Lenovo   \n",
       "2802  #310,265 in Computers & Accessories ( See Top ...      Lenovo   \n",
       "\n",
       "     Card Description  ... Size Specific Uses For Product  \\\n",
       "2           Dedicated  ...  NaN                       NaN   \n",
       "3          Integrated  ...  NaN                       NaN   \n",
       "4            RTX 2060  ...  NaN                       NaN   \n",
       "5          Integrated  ...  NaN                       NaN   \n",
       "8          Integrated  ...  NaN                       NaN   \n",
       "...               ...  ...  ...                       ...   \n",
       "2798       Integrated  ...  NaN                       NaN   \n",
       "2799        Dedicated  ...  NaN                       NaN   \n",
       "2800       Integrated  ...  NaN                       NaN   \n",
       "2801       Integrated  ...  NaN                       NaN   \n",
       "2802              NaN  ...  NaN                       NaN   \n",
       "\n",
       "     Standing screen display size Style Usage    Voltage Warranty Description  \\\n",
       "2                     15.6 Inches   NaN   NaN        NaN                  NaN   \n",
       "3                       14 Inches   NaN   NaN        NaN                  NaN   \n",
       "4                     15.6 Inches   NaN   NaN  220 volts                  NaN   \n",
       "5                       14 Inches   NaN   NaN        NaN                  NaN   \n",
       "8                     11.6 Inches   NaN   NaN        NaN                  NaN   \n",
       "...                           ...   ...   ...        ...                  ...   \n",
       "2798                    14 Inches   NaN   NaN        NaN                  NaN   \n",
       "2799                  15.6 Inches   NaN   NaN        NaN                  NaN   \n",
       "2800                    14 Inches   NaN   NaN        NaN                  NaN   \n",
       "2801                     1 Inches   NaN   NaN        NaN                  NaN   \n",
       "2802                    14 Inches   NaN   NaN        NaN                  NaN   \n",
       "\n",
       "                    Wireless Type Wireless communication technologies  \\\n",
       "2                         802.11a                                 NaN   \n",
       "3                        802.11ac                                 NaN   \n",
       "4                        802.11ax                                 NaN   \n",
       "5     802.11a/b/g/n/ac, Bluetooth                                 NaN   \n",
       "8     Bluetooth, 802.11a/b/g/n/ac                                 NaN   \n",
       "...                           ...                                 ...   \n",
       "2798                     802.11ac                                 NaN   \n",
       "2799                          NaN                                 NaN   \n",
       "2800                    Bluetooth                                 NaN   \n",
       "2801                          NaN                                 NaN   \n",
       "2802                    Bluetooth                                 NaN   \n",
       "\n",
       "                                                   name  \n",
       "2     Lenovo IdeaPad 3 Intel i5-1035G1 Quad Core 12G...  \n",
       "3     Lenovo Chromebook S330 Laptop, 14-Inch FHD (19...  \n",
       "4     Acer Predator Helios 300 Gaming Laptop, Intel ...  \n",
       "5     HP Stream 14-inch Laptop, Intel Celeron N4000,...  \n",
       "8     HP Chromebook 11-inch Laptop - Up to 15 Hour B...  \n",
       "...                                                 ...  \n",
       "2798  Lenovo ThinkPad T470s Laptop Computer 14 Inch ...  \n",
       "2799  MSI Creator 15 A10SET-052 15.6\" FHD Finger Tou...  \n",
       "2800  Dell Latitude 5410 14\" Notebook - Full HD - 19...  \n",
       "2801  TopSeller TC M720S SFF I5-9400 2.9G 8GB 256GB ...  \n",
       "2802  Lenovo ThinkPad T14 Laptop - 14\" IPS FHD Touch...  \n",
       "\n",
       "[1605 rows x 65 columns]"
      ],
      "text/html": "<div>\n<style scoped>\n    .dataframe tbody tr th:only-of-type {\n        vertical-align: middle;\n    }\n\n    .dataframe tbody tr th {\n        vertical-align: top;\n    }\n\n    .dataframe thead th {\n        text-align: right;\n    }\n</style>\n<table border=\"1\" class=\"dataframe\">\n  <thead>\n    <tr style=\"text-align: right;\">\n      <th></th>\n      <th>ASIN</th>\n      <th>Audio-out Ports (#)</th>\n      <th>Average Battery Life (in hours)</th>\n      <th>Batteries</th>\n      <th>Batteries Required</th>\n      <th>Batteries Required?</th>\n      <th>Battery Description</th>\n      <th>Best Sellers Rank</th>\n      <th>Brand</th>\n      <th>Card Description</th>\n      <th>...</th>\n      <th>Size</th>\n      <th>Specific Uses For Product</th>\n      <th>Standing screen display size</th>\n      <th>Style</th>\n      <th>Usage</th>\n      <th>Voltage</th>\n      <th>Warranty Description</th>\n      <th>Wireless Type</th>\n      <th>Wireless communication technologies</th>\n      <th>name</th>\n    </tr>\n  </thead>\n  <tbody>\n    <tr>\n      <th>2</th>\n      <td>B08NXSJVCR</td>\n      <td>NaN</td>\n      <td>NaN</td>\n      <td>1 Lithium Polymer batteries required. (included)</td>\n      <td>NaN</td>\n      <td>NaN</td>\n      <td>NaN</td>\n      <td>#212 in Computers &amp; Accessories ( See Top 100 ...</td>\n      <td>Lenovo</td>\n      <td>Dedicated</td>\n      <td>...</td>\n      <td>NaN</td>\n      <td>NaN</td>\n      <td>15.6 Inches</td>\n      <td>NaN</td>\n      <td>NaN</td>\n      <td>NaN</td>\n      <td>NaN</td>\n      <td>802.11a</td>\n      <td>NaN</td>\n      <td>Lenovo IdeaPad 3 Intel i5-1035G1 Quad Core 12G...</td>\n    </tr>\n    <tr>\n      <th>3</th>\n      <td>B07GLV1VC7</td>\n      <td>NaN</td>\n      <td>10 Hours</td>\n      <td>1 Lithium Polymer batteries required. (included)</td>\n      <td>NaN</td>\n      <td>NaN</td>\n      <td>NaN</td>\n      <td>#372 in Computers &amp; Accessories ( See Top 100 ...</td>\n      <td>Lenovo</td>\n      <td>Integrated</td>\n      <td>...</td>\n      <td>NaN</td>\n      <td>NaN</td>\n      <td>14 Inches</td>\n      <td>NaN</td>\n      <td>NaN</td>\n      <td>NaN</td>\n      <td>NaN</td>\n      <td>802.11ac</td>\n      <td>NaN</td>\n      <td>Lenovo Chromebook S330 Laptop, 14-Inch FHD (19...</td>\n    </tr>\n    <tr>\n      <th>4</th>\n      <td>B08842D7JS</td>\n      <td>NaN</td>\n      <td>6 Hours</td>\n      <td>1 Lithium ion batteries required. (included)</td>\n      <td>NaN</td>\n      <td>NaN</td>\n      <td>NaN</td>\n      <td>#146 in Computers &amp; Accessories ( See Top 100 ...</td>\n      <td>Acer</td>\n      <td>RTX 2060</td>\n      <td>...</td>\n      <td>NaN</td>\n      <td>NaN</td>\n      <td>15.6 Inches</td>\n      <td>NaN</td>\n      <td>NaN</td>\n      <td>220 volts</td>\n      <td>NaN</td>\n      <td>802.11ax</td>\n      <td>NaN</td>\n      <td>Acer Predator Helios 300 Gaming Laptop, Intel ...</td>\n    </tr>\n    <tr>\n      <th>5</th>\n      <td>B084SKWC89</td>\n      <td>NaN</td>\n      <td>10 Hours</td>\n      <td>1 Lithium Metal batteries required. (included)</td>\n      <td>NaN</td>\n      <td>NaN</td>\n      <td>NaN</td>\n      <td>#669 in Computers &amp; Accessories ( See Top 100 ...</td>\n      <td>HP</td>\n      <td>Integrated</td>\n      <td>...</td>\n      <td>NaN</td>\n      <td>NaN</td>\n      <td>14 Inches</td>\n      <td>NaN</td>\n      <td>NaN</td>\n      <td>NaN</td>\n      <td>NaN</td>\n      <td>802.11a/b/g/n/ac, Bluetooth</td>\n      <td>NaN</td>\n      <td>HP Stream 14-inch Laptop, Intel Celeron N4000,...</td>\n    </tr>\n    <tr>\n      <th>8</th>\n      <td>B08H6YZY3Y</td>\n      <td>NaN</td>\n      <td>15.45 Hours</td>\n      <td>1 Lithium Polymer batteries required. (included)</td>\n      <td>NaN</td>\n      <td>NaN</td>\n      <td>NaN</td>\n      <td>#2,997 in Computers &amp; Accessories ( See Top 10...</td>\n      <td>HP</td>\n      <td>Integrated</td>\n      <td>...</td>\n      <td>NaN</td>\n      <td>NaN</td>\n      <td>11.6 Inches</td>\n      <td>NaN</td>\n      <td>NaN</td>\n      <td>NaN</td>\n      <td>NaN</td>\n      <td>Bluetooth, 802.11a/b/g/n/ac</td>\n      <td>NaN</td>\n      <td>HP Chromebook 11-inch Laptop - Up to 15 Hour B...</td>\n    </tr>\n    <tr>\n      <th>...</th>\n      <td>...</td>\n      <td>...</td>\n      <td>...</td>\n      <td>...</td>\n      <td>...</td>\n      <td>...</td>\n      <td>...</td>\n      <td>...</td>\n      <td>...</td>\n      <td>...</td>\n      <td>...</td>\n      <td>...</td>\n      <td>...</td>\n      <td>...</td>\n      <td>...</td>\n      <td>...</td>\n      <td>...</td>\n      <td>...</td>\n      <td>...</td>\n      <td>...</td>\n      <td>...</td>\n    </tr>\n    <tr>\n      <th>2798</th>\n      <td>B077SX1YRJ</td>\n      <td>NaN</td>\n      <td>NaN</td>\n      <td>NaN</td>\n      <td>NaN</td>\n      <td>NaN</td>\n      <td>NaN</td>\n      <td>#119,586 in Computers &amp; Accessories ( See Top ...</td>\n      <td>Oemgenuine</td>\n      <td>Integrated</td>\n      <td>...</td>\n      <td>NaN</td>\n      <td>NaN</td>\n      <td>14 Inches</td>\n      <td>NaN</td>\n      <td>NaN</td>\n      <td>NaN</td>\n      <td>NaN</td>\n      <td>802.11ac</td>\n      <td>NaN</td>\n      <td>Lenovo ThinkPad T470s Laptop Computer 14 Inch ...</td>\n    </tr>\n    <tr>\n      <th>2799</th>\n      <td>B08L56FVR3</td>\n      <td>NaN</td>\n      <td>NaN</td>\n      <td>NaN</td>\n      <td>NaN</td>\n      <td>NaN</td>\n      <td>NaN</td>\n      <td>NaN</td>\n      <td>MSI</td>\n      <td>Dedicated</td>\n      <td>...</td>\n      <td>NaN</td>\n      <td>NaN</td>\n      <td>15.6 Inches</td>\n      <td>NaN</td>\n      <td>NaN</td>\n      <td>NaN</td>\n      <td>NaN</td>\n      <td>NaN</td>\n      <td>NaN</td>\n      <td>MSI Creator 15 A10SET-052 15.6\" FHD Finger Tou...</td>\n    </tr>\n    <tr>\n      <th>2800</th>\n      <td>B08L8KW3ZM</td>\n      <td>NaN</td>\n      <td>NaN</td>\n      <td>NaN</td>\n      <td>NaN</td>\n      <td>NaN</td>\n      <td>NaN</td>\n      <td>#579,675 in Computers &amp; Accessories ( See Top ...</td>\n      <td>Dell</td>\n      <td>Integrated</td>\n      <td>...</td>\n      <td>NaN</td>\n      <td>NaN</td>\n      <td>14 Inches</td>\n      <td>NaN</td>\n      <td>NaN</td>\n      <td>NaN</td>\n      <td>NaN</td>\n      <td>Bluetooth</td>\n      <td>NaN</td>\n      <td>Dell Latitude 5410 14\" Notebook - Full HD - 19...</td>\n    </tr>\n    <tr>\n      <th>2801</th>\n      <td>B082RD3STD</td>\n      <td>NaN</td>\n      <td>NaN</td>\n      <td>NaN</td>\n      <td>NaN</td>\n      <td>NaN</td>\n      <td>NaN</td>\n      <td>#47,707 in Computers &amp; Accessories ( See Top 1...</td>\n      <td>Lenovo</td>\n      <td>Integrated</td>\n      <td>...</td>\n      <td>NaN</td>\n      <td>NaN</td>\n      <td>1 Inches</td>\n      <td>NaN</td>\n      <td>NaN</td>\n      <td>NaN</td>\n      <td>NaN</td>\n      <td>NaN</td>\n      <td>NaN</td>\n      <td>TopSeller TC M720S SFF I5-9400 2.9G 8GB 256GB ...</td>\n    </tr>\n    <tr>\n      <th>2802</th>\n      <td>B0844KPGNF</td>\n      <td>NaN</td>\n      <td>NaN</td>\n      <td>1 9V batteries required. (included)</td>\n      <td>NaN</td>\n      <td>NaN</td>\n      <td>NaN</td>\n      <td>#310,265 in Computers &amp; Accessories ( See Top ...</td>\n      <td>Lenovo</td>\n      <td>NaN</td>\n      <td>...</td>\n      <td>NaN</td>\n      <td>NaN</td>\n      <td>14 Inches</td>\n      <td>NaN</td>\n      <td>NaN</td>\n      <td>NaN</td>\n      <td>NaN</td>\n      <td>Bluetooth</td>\n      <td>NaN</td>\n      <td>Lenovo ThinkPad T14 Laptop - 14\" IPS FHD Touch...</td>\n    </tr>\n  </tbody>\n</table>\n<p>1605 rows × 65 columns</p>\n</div>"
     },
     "metadata": {},
     "execution_count": 234
    }
   ],
   "source": [
    "m_new.drop_duplicates(subset =\"name\",keep = False, inplace = True) \n",
    "m_new"
   ]
  },
  {
   "cell_type": "code",
   "execution_count": 235,
   "metadata": {},
   "outputs": [
    {
     "output_type": "execute_result",
     "data": {
      "text/plain": [
       "            ASIN Average Battery Life (in hours)  \\\n",
       "2     B08NXSJVCR                             NaN   \n",
       "3     B07GLV1VC7                        10 Hours   \n",
       "4     B08842D7JS                         6 Hours   \n",
       "5     B084SKWC89                        10 Hours   \n",
       "8     B08H6YZY3Y                     15.45 Hours   \n",
       "...          ...                             ...   \n",
       "2798  B077SX1YRJ                             NaN   \n",
       "2799  B08L56FVR3                             NaN   \n",
       "2800  B08L8KW3ZM                             NaN   \n",
       "2801  B082RD3STD                             NaN   \n",
       "2802  B0844KPGNF                             NaN   \n",
       "\n",
       "                                             Batteries  \\\n",
       "2     1 Lithium Polymer batteries required. (included)   \n",
       "3     1 Lithium Polymer batteries required. (included)   \n",
       "4         1 Lithium ion batteries required. (included)   \n",
       "5       1 Lithium Metal batteries required. (included)   \n",
       "8     1 Lithium Polymer batteries required. (included)   \n",
       "...                                                ...   \n",
       "2798                                               NaN   \n",
       "2799                                               NaN   \n",
       "2800                                               NaN   \n",
       "2801                                               NaN   \n",
       "2802               1 9V batteries required. (included)   \n",
       "\n",
       "                                      Best Sellers Rank       Brand  \\\n",
       "2     #212 in Computers & Accessories ( See Top 100 ...      Lenovo   \n",
       "3     #372 in Computers & Accessories ( See Top 100 ...      Lenovo   \n",
       "4     #146 in Computers & Accessories ( See Top 100 ...        Acer   \n",
       "5     #669 in Computers & Accessories ( See Top 100 ...          HP   \n",
       "8     #2,997 in Computers & Accessories ( See Top 10...          HP   \n",
       "...                                                 ...         ...   \n",
       "2798  #119,586 in Computers & Accessories ( See Top ...  Oemgenuine   \n",
       "2799                                                NaN         MSI   \n",
       "2800  #579,675 in Computers & Accessories ( See Top ...        Dell   \n",
       "2801  #47,707 in Computers & Accessories ( See Top 1...      Lenovo   \n",
       "2802  #310,265 in Computers & Accessories ( See Top ...      Lenovo   \n",
       "\n",
       "     Card Description Chipset Brand                               Color  \\\n",
       "2           Dedicated         Intel                       Platinum Grey   \n",
       "3          Integrated         Intel                      Business Black   \n",
       "4            RTX 2060        NVIDIA                                 NaN   \n",
       "5          Integrated         Intel                          Royal Blue   \n",
       "8          Integrated      MediaTek                          Snow White   \n",
       "...               ...           ...                                 ...   \n",
       "2798       Integrated         Intel                               Black   \n",
       "2799        Dedicated        NVIDIA  Space Gray with Silver Diamond cut   \n",
       "2800       Integrated         Intel                                 NaN   \n",
       "2801       Integrated         Intel                               Black   \n",
       "2802              NaN           NaN                               Black   \n",
       "\n",
       "     Computer Memory Type                                   Customer Reviews  \\\n",
       "2              DDR4 SDRAM  /*\\n* Fix for UDP-1061. Average customer revie...   \n",
       "3                 Unknown  /*\\n* Fix for UDP-1061. Average customer revie...   \n",
       "4              DDR4 SDRAM  /*\\n* Fix for UDP-1061. Average customer revie...   \n",
       "5              DDR4 SDRAM  /*\\n* Fix for UDP-1061. Average customer revie...   \n",
       "8                   SDRAM  /*\\n* Fix for UDP-1061. Average customer revie...   \n",
       "...                   ...                                                ...   \n",
       "2798               SODIMM                                                NaN   \n",
       "2799                  NaN                                                NaN   \n",
       "2800                  NaN                                                NaN   \n",
       "2801              Unknown  /*\\n* Fix for UDP-1061. Average customer revie...   \n",
       "2802           DDR4 SDRAM                                                NaN   \n",
       "\n",
       "      ...     Power Source Processor Brand Processor Count  \\\n",
       "2     ...     AC & Battery           Intel               2   \n",
       "3     ...  Battery Powered        Mediatek               4   \n",
       "4     ...  Battery Powered           Intel               6   \n",
       "5     ...  Battery Powered           Intel               2   \n",
       "8     ...  Battery Powered        MediaTek               8   \n",
       "...   ...              ...             ...             ...   \n",
       "2798  ...  Battery Powered           Intel               2   \n",
       "2799  ...              NaN           Intel               8   \n",
       "2800  ...  Battery Powered           Intel               1   \n",
       "2801  ...              NaN           Intel               1   \n",
       "2802  ...              NaN           Intel               4   \n",
       "\n",
       "              Product Dimensions Screen Resolution                 Series  \\\n",
       "2     14.26 x 9.98 x 0.78 inches          1366x768         Lenovo Ideapad   \n",
       "3     12.82 x 0.82 x 9.15 inches               NaN           Ideapad S330   \n",
       "4     14.31 x 10.04 x 0.9 inches               NaN          PH315-53-72XD   \n",
       "5       13.27 x 8.9 x 0.7 inches               NaN          Stream Laptop   \n",
       "8     7.59 x 11.22 x 0.66 inches               NaN       HP 11 Chromebook   \n",
       "...                          ...               ...                    ...   \n",
       "2798  13.03 x 0.67 x 8.93 inches               NaN         ThinkPad T470s   \n",
       "2799                         NaN               NaN  Creator 15 A10SET-052   \n",
       "2800   8.5 x 12.72 x 0.83 inches               NaN                  M2HJR   \n",
       "2801    11.4 x 3.6 x 13.5 inches               NaN                  M720s   \n",
       "2802   12.95 x 8.94 x 0.7 inches               NaN                    T14   \n",
       "\n",
       "     Standing screen display size    Voltage                Wireless Type  \\\n",
       "2                     15.6 Inches        NaN                      802.11a   \n",
       "3                       14 Inches        NaN                     802.11ac   \n",
       "4                     15.6 Inches  220 volts                     802.11ax   \n",
       "5                       14 Inches        NaN  802.11a/b/g/n/ac, Bluetooth   \n",
       "8                     11.6 Inches        NaN  Bluetooth, 802.11a/b/g/n/ac   \n",
       "...                           ...        ...                          ...   \n",
       "2798                    14 Inches        NaN                     802.11ac   \n",
       "2799                  15.6 Inches        NaN                          NaN   \n",
       "2800                    14 Inches        NaN                    Bluetooth   \n",
       "2801                     1 Inches        NaN                          NaN   \n",
       "2802                    14 Inches        NaN                    Bluetooth   \n",
       "\n",
       "                                                   name  \n",
       "2     Lenovo IdeaPad 3 Intel i5-1035G1 Quad Core 12G...  \n",
       "3     Lenovo Chromebook S330 Laptop, 14-Inch FHD (19...  \n",
       "4     Acer Predator Helios 300 Gaming Laptop, Intel ...  \n",
       "5     HP Stream 14-inch Laptop, Intel Celeron N4000,...  \n",
       "8     HP Chromebook 11-inch Laptop - Up to 15 Hour B...  \n",
       "...                                                 ...  \n",
       "2798  Lenovo ThinkPad T470s Laptop Computer 14 Inch ...  \n",
       "2799  MSI Creator 15 A10SET-052 15.6\" FHD Finger Tou...  \n",
       "2800  Dell Latitude 5410 14\" Notebook - Full HD - 19...  \n",
       "2801  TopSeller TC M720S SFF I5-9400 2.9G 8GB 256GB ...  \n",
       "2802  Lenovo ThinkPad T14 Laptop - 14\" IPS FHD Touch...  \n",
       "\n",
       "[1605 rows x 37 columns]"
      ],
      "text/html": "<div>\n<style scoped>\n    .dataframe tbody tr th:only-of-type {\n        vertical-align: middle;\n    }\n\n    .dataframe tbody tr th {\n        vertical-align: top;\n    }\n\n    .dataframe thead th {\n        text-align: right;\n    }\n</style>\n<table border=\"1\" class=\"dataframe\">\n  <thead>\n    <tr style=\"text-align: right;\">\n      <th></th>\n      <th>ASIN</th>\n      <th>Average Battery Life (in hours)</th>\n      <th>Batteries</th>\n      <th>Best Sellers Rank</th>\n      <th>Brand</th>\n      <th>Card Description</th>\n      <th>Chipset Brand</th>\n      <th>Color</th>\n      <th>Computer Memory Type</th>\n      <th>Customer Reviews</th>\n      <th>...</th>\n      <th>Power Source</th>\n      <th>Processor Brand</th>\n      <th>Processor Count</th>\n      <th>Product Dimensions</th>\n      <th>Screen Resolution</th>\n      <th>Series</th>\n      <th>Standing screen display size</th>\n      <th>Voltage</th>\n      <th>Wireless Type</th>\n      <th>name</th>\n    </tr>\n  </thead>\n  <tbody>\n    <tr>\n      <th>2</th>\n      <td>B08NXSJVCR</td>\n      <td>NaN</td>\n      <td>1 Lithium Polymer batteries required. (included)</td>\n      <td>#212 in Computers &amp; Accessories ( See Top 100 ...</td>\n      <td>Lenovo</td>\n      <td>Dedicated</td>\n      <td>Intel</td>\n      <td>Platinum Grey</td>\n      <td>DDR4 SDRAM</td>\n      <td>/*\\n* Fix for UDP-1061. Average customer revie...</td>\n      <td>...</td>\n      <td>AC &amp; Battery</td>\n      <td>Intel</td>\n      <td>2</td>\n      <td>14.26 x 9.98 x 0.78 inches</td>\n      <td>1366x768</td>\n      <td>Lenovo Ideapad</td>\n      <td>15.6 Inches</td>\n      <td>NaN</td>\n      <td>802.11a</td>\n      <td>Lenovo IdeaPad 3 Intel i5-1035G1 Quad Core 12G...</td>\n    </tr>\n    <tr>\n      <th>3</th>\n      <td>B07GLV1VC7</td>\n      <td>10 Hours</td>\n      <td>1 Lithium Polymer batteries required. (included)</td>\n      <td>#372 in Computers &amp; Accessories ( See Top 100 ...</td>\n      <td>Lenovo</td>\n      <td>Integrated</td>\n      <td>Intel</td>\n      <td>Business Black</td>\n      <td>Unknown</td>\n      <td>/*\\n* Fix for UDP-1061. Average customer revie...</td>\n      <td>...</td>\n      <td>Battery Powered</td>\n      <td>Mediatek</td>\n      <td>4</td>\n      <td>12.82 x 0.82 x 9.15 inches</td>\n      <td>NaN</td>\n      <td>Ideapad S330</td>\n      <td>14 Inches</td>\n      <td>NaN</td>\n      <td>802.11ac</td>\n      <td>Lenovo Chromebook S330 Laptop, 14-Inch FHD (19...</td>\n    </tr>\n    <tr>\n      <th>4</th>\n      <td>B08842D7JS</td>\n      <td>6 Hours</td>\n      <td>1 Lithium ion batteries required. (included)</td>\n      <td>#146 in Computers &amp; Accessories ( See Top 100 ...</td>\n      <td>Acer</td>\n      <td>RTX 2060</td>\n      <td>NVIDIA</td>\n      <td>NaN</td>\n      <td>DDR4 SDRAM</td>\n      <td>/*\\n* Fix for UDP-1061. Average customer revie...</td>\n      <td>...</td>\n      <td>Battery Powered</td>\n      <td>Intel</td>\n      <td>6</td>\n      <td>14.31 x 10.04 x 0.9 inches</td>\n      <td>NaN</td>\n      <td>PH315-53-72XD</td>\n      <td>15.6 Inches</td>\n      <td>220 volts</td>\n      <td>802.11ax</td>\n      <td>Acer Predator Helios 300 Gaming Laptop, Intel ...</td>\n    </tr>\n    <tr>\n      <th>5</th>\n      <td>B084SKWC89</td>\n      <td>10 Hours</td>\n      <td>1 Lithium Metal batteries required. (included)</td>\n      <td>#669 in Computers &amp; Accessories ( See Top 100 ...</td>\n      <td>HP</td>\n      <td>Integrated</td>\n      <td>Intel</td>\n      <td>Royal Blue</td>\n      <td>DDR4 SDRAM</td>\n      <td>/*\\n* Fix for UDP-1061. Average customer revie...</td>\n      <td>...</td>\n      <td>Battery Powered</td>\n      <td>Intel</td>\n      <td>2</td>\n      <td>13.27 x 8.9 x 0.7 inches</td>\n      <td>NaN</td>\n      <td>Stream Laptop</td>\n      <td>14 Inches</td>\n      <td>NaN</td>\n      <td>802.11a/b/g/n/ac, Bluetooth</td>\n      <td>HP Stream 14-inch Laptop, Intel Celeron N4000,...</td>\n    </tr>\n    <tr>\n      <th>8</th>\n      <td>B08H6YZY3Y</td>\n      <td>15.45 Hours</td>\n      <td>1 Lithium Polymer batteries required. (included)</td>\n      <td>#2,997 in Computers &amp; Accessories ( See Top 10...</td>\n      <td>HP</td>\n      <td>Integrated</td>\n      <td>MediaTek</td>\n      <td>Snow White</td>\n      <td>SDRAM</td>\n      <td>/*\\n* Fix for UDP-1061. Average customer revie...</td>\n      <td>...</td>\n      <td>Battery Powered</td>\n      <td>MediaTek</td>\n      <td>8</td>\n      <td>7.59 x 11.22 x 0.66 inches</td>\n      <td>NaN</td>\n      <td>HP 11 Chromebook</td>\n      <td>11.6 Inches</td>\n      <td>NaN</td>\n      <td>Bluetooth, 802.11a/b/g/n/ac</td>\n      <td>HP Chromebook 11-inch Laptop - Up to 15 Hour B...</td>\n    </tr>\n    <tr>\n      <th>...</th>\n      <td>...</td>\n      <td>...</td>\n      <td>...</td>\n      <td>...</td>\n      <td>...</td>\n      <td>...</td>\n      <td>...</td>\n      <td>...</td>\n      <td>...</td>\n      <td>...</td>\n      <td>...</td>\n      <td>...</td>\n      <td>...</td>\n      <td>...</td>\n      <td>...</td>\n      <td>...</td>\n      <td>...</td>\n      <td>...</td>\n      <td>...</td>\n      <td>...</td>\n      <td>...</td>\n    </tr>\n    <tr>\n      <th>2798</th>\n      <td>B077SX1YRJ</td>\n      <td>NaN</td>\n      <td>NaN</td>\n      <td>#119,586 in Computers &amp; Accessories ( See Top ...</td>\n      <td>Oemgenuine</td>\n      <td>Integrated</td>\n      <td>Intel</td>\n      <td>Black</td>\n      <td>SODIMM</td>\n      <td>NaN</td>\n      <td>...</td>\n      <td>Battery Powered</td>\n      <td>Intel</td>\n      <td>2</td>\n      <td>13.03 x 0.67 x 8.93 inches</td>\n      <td>NaN</td>\n      <td>ThinkPad T470s</td>\n      <td>14 Inches</td>\n      <td>NaN</td>\n      <td>802.11ac</td>\n      <td>Lenovo ThinkPad T470s Laptop Computer 14 Inch ...</td>\n    </tr>\n    <tr>\n      <th>2799</th>\n      <td>B08L56FVR3</td>\n      <td>NaN</td>\n      <td>NaN</td>\n      <td>NaN</td>\n      <td>MSI</td>\n      <td>Dedicated</td>\n      <td>NVIDIA</td>\n      <td>Space Gray with Silver Diamond cut</td>\n      <td>NaN</td>\n      <td>NaN</td>\n      <td>...</td>\n      <td>NaN</td>\n      <td>Intel</td>\n      <td>8</td>\n      <td>NaN</td>\n      <td>NaN</td>\n      <td>Creator 15 A10SET-052</td>\n      <td>15.6 Inches</td>\n      <td>NaN</td>\n      <td>NaN</td>\n      <td>MSI Creator 15 A10SET-052 15.6\" FHD Finger Tou...</td>\n    </tr>\n    <tr>\n      <th>2800</th>\n      <td>B08L8KW3ZM</td>\n      <td>NaN</td>\n      <td>NaN</td>\n      <td>#579,675 in Computers &amp; Accessories ( See Top ...</td>\n      <td>Dell</td>\n      <td>Integrated</td>\n      <td>Intel</td>\n      <td>NaN</td>\n      <td>NaN</td>\n      <td>NaN</td>\n      <td>...</td>\n      <td>Battery Powered</td>\n      <td>Intel</td>\n      <td>1</td>\n      <td>8.5 x 12.72 x 0.83 inches</td>\n      <td>NaN</td>\n      <td>M2HJR</td>\n      <td>14 Inches</td>\n      <td>NaN</td>\n      <td>Bluetooth</td>\n      <td>Dell Latitude 5410 14\" Notebook - Full HD - 19...</td>\n    </tr>\n    <tr>\n      <th>2801</th>\n      <td>B082RD3STD</td>\n      <td>NaN</td>\n      <td>NaN</td>\n      <td>#47,707 in Computers &amp; Accessories ( See Top 1...</td>\n      <td>Lenovo</td>\n      <td>Integrated</td>\n      <td>Intel</td>\n      <td>Black</td>\n      <td>Unknown</td>\n      <td>/*\\n* Fix for UDP-1061. Average customer revie...</td>\n      <td>...</td>\n      <td>NaN</td>\n      <td>Intel</td>\n      <td>1</td>\n      <td>11.4 x 3.6 x 13.5 inches</td>\n      <td>NaN</td>\n      <td>M720s</td>\n      <td>1 Inches</td>\n      <td>NaN</td>\n      <td>NaN</td>\n      <td>TopSeller TC M720S SFF I5-9400 2.9G 8GB 256GB ...</td>\n    </tr>\n    <tr>\n      <th>2802</th>\n      <td>B0844KPGNF</td>\n      <td>NaN</td>\n      <td>1 9V batteries required. (included)</td>\n      <td>#310,265 in Computers &amp; Accessories ( See Top ...</td>\n      <td>Lenovo</td>\n      <td>NaN</td>\n      <td>NaN</td>\n      <td>Black</td>\n      <td>DDR4 SDRAM</td>\n      <td>NaN</td>\n      <td>...</td>\n      <td>NaN</td>\n      <td>Intel</td>\n      <td>4</td>\n      <td>12.95 x 8.94 x 0.7 inches</td>\n      <td>NaN</td>\n      <td>T14</td>\n      <td>14 Inches</td>\n      <td>NaN</td>\n      <td>Bluetooth</td>\n      <td>Lenovo ThinkPad T14 Laptop - 14\" IPS FHD Touch...</td>\n    </tr>\n  </tbody>\n</table>\n<p>1605 rows × 37 columns</p>\n</div>"
     },
     "metadata": {},
     "execution_count": 235
    }
   ],
   "source": [
    "m_new = m_new.loc[:,list(m_new.columns[list(m_new.isnull().sum()<1500)])]\n",
    "m_new"
   ]
  },
  {
   "cell_type": "code",
   "execution_count": 236,
   "metadata": {},
   "outputs": [],
   "source": [
    "#Getting best seller rank only\n",
    "a = m_new['Best Sellers Rank'].str.split(expand=True)\n",
    "new  = a[[0]]\n",
    "new.columns = ['a']\n",
    "new['a'] = new['a'].str.replace('#', '').str.replace(',', '')\n",
    "m_new['Best Sellers Rank'] = new['a']"
   ]
  },
  {
   "cell_type": "code",
   "execution_count": 237,
   "metadata": {},
   "outputs": [],
   "source": [
    "#renaming column names\n",
    "m_new = m_new.rename(columns={'Average Battery Life (in hours)': 'Batterylife_hrs', 'Customer Reviews': 'Cust_reviews','Date First Available': 'First_date_avai', 'Flash Memory Size': 'Memory_size', 'Item Dimensions  LxWxH': 'Item_Dimension', 'Item Weight': 'Item_weight', 'Max Screen Resolution': 'MaxScreen_res', 'Memory Speed': 'Memory_speed', 'Operating System': 'OS', 'Product Dimensions': 'Prod_dimension', 'Standing screen display size': 'Display_size', 'Graphics Card Ram Size': 'Graphic_cardramsize', 'Hard Drive Interface': 'Hard_drive_interface', 'Hard Drive Rotational Speed': 'Harddrive_rotaionalspeed', 'Optical Drive Type': 'Optical_drive_type', 'Wireless Type': 'Wireless_type'})"
   ]
  },
  {
   "cell_type": "code",
   "execution_count": 238,
   "metadata": {},
   "outputs": [],
   "source": [
    "#Removing extras from columns like inches, ounces etc.\n",
    "m_new['Batterylife_hrs'] = m_new['Batterylife_hrs'].str.replace('Hours', '')\n",
    "m_new['Memory_size'] = m_new['Memory_size'].str.replace('GB', '')\n",
    "m_new['Item_Dimension'] = m_new['Item_Dimension'].str.replace('inches', '')\n",
    "m_new['Item_weight'] = m_new['Item_weight'].str.replace('ounces', '')\n",
    "m_new['MaxScreen_res'] = m_new['MaxScreen_res'].str.replace('Pixels', '')\n",
    "m_new['Memory_speed'] = m_new['Memory_speed'].str.replace('GHz', '')\n",
    "m_new['Prod_dimension'] = m_new['Prod_dimension'].str.replace('inches', '')\n",
    "m_new['Display_size'] = m_new['Display_size'].str.replace('Inches', '')"
   ]
  },
  {
   "cell_type": "code",
   "execution_count": 239,
   "metadata": {},
   "outputs": [],
   "source": [
    "#resetting index\n",
    "m_new = m_new.reset_index(drop=True)"
   ]
  },
  {
   "cell_type": "code",
   "execution_count": 240,
   "metadata": {},
   "outputs": [],
   "source": [
    "#Dropping few columns\n",
    "#m_new = m_new.drop(['Harddrive_rotaionalspeed', 'Optical_drive_type', 'Wireless_type' ], axis = 1)"
   ]
  },
  {
   "cell_type": "code",
   "execution_count": 241,
   "metadata": {},
   "outputs": [
    {
     "output_type": "execute_result",
     "data": {
      "text/plain": [
       "ASIN                                                               B08NXSJVCR\n",
       "Batterylife_hrs                                                           NaN\n",
       "Batteries                    1 Lithium Polymer batteries required. (included)\n",
       "Best Sellers Rank                                                         212\n",
       "Brand                                                                  Lenovo\n",
       "Card Description                                                    Dedicated\n",
       "Chipset Brand                                                           Intel\n",
       "Color                                                           Platinum Grey\n",
       "Computer Memory Type                                               DDR4 SDRAM\n",
       "Cust_reviews                /*\\n* Fix for UDP-1061. Average customer revie...\n",
       "First_date_avai                                             November 20, 2020\n",
       "Memory_size                                                              256 \n",
       "Graphic_cardramsize                                                       NaN\n",
       "Graphics Coprocessor                                       Intel UHD Graphics\n",
       "Hard_drive_interface                                              Solid State\n",
       "Harddrive_rotaionalspeed                                                  NaN\n",
       "Hardware Platform                                                          PC\n",
       "Item_Dimension                                           14.26 x 9.98 x 0.78 \n",
       "Item_weight                                                                7 \n",
       "Item model number                                                  81WE00NKUS\n",
       "MaxScreen_res                                                     1366 x 768 \n",
       "Memory_speed                                                             3.9 \n",
       "Number of USB 2.0 Ports                                                     1\n",
       "Number of USB 3.0 Ports                                                   NaN\n",
       "OS                                                                 Windows 10\n",
       "Optical_drive_type                                                        NaN\n",
       "Package Dimensions                                                        NaN\n",
       "Power Source                                                     AC & Battery\n",
       "Processor Brand                                                         Intel\n",
       "Processor Count                                                             2\n",
       "Prod_dimension                                           14.26 x 9.98 x 0.78 \n",
       "Screen Resolution                                                    1366x768\n",
       "Series                                                         Lenovo Ideapad\n",
       "Display_size                                                            15.6 \n",
       "Voltage                                                                   NaN\n",
       "Wireless_type                                                         802.11a\n",
       "name                        Lenovo IdeaPad 3 Intel i5-1035G1 Quad Core 12G...\n",
       "Name: 0, dtype: object"
      ]
     },
     "metadata": {},
     "execution_count": 241
    }
   ],
   "source": [
    "m_new.iloc[0]"
   ]
  },
  {
   "cell_type": "code",
   "execution_count": 242,
   "metadata": {},
   "outputs": [
    {
     "output_type": "execute_result",
     "data": {
      "text/plain": [
       "            ASIN Batterylife_hrs  \\\n",
       "0     B08NXSJVCR             NaN   \n",
       "1     B07GLV1VC7             10    \n",
       "2     B08842D7JS              6    \n",
       "3     B084SKWC89             10    \n",
       "4     B08H6YZY3Y          15.45    \n",
       "...          ...             ...   \n",
       "1600  B077SX1YRJ             NaN   \n",
       "1601  B08L56FVR3             NaN   \n",
       "1602  B08L8KW3ZM             NaN   \n",
       "1603  B082RD3STD             NaN   \n",
       "1604  B0844KPGNF             NaN   \n",
       "\n",
       "                                             Batteries Best Sellers Rank  \\\n",
       "0     1 Lithium Polymer batteries required. (included)               212   \n",
       "1     1 Lithium Polymer batteries required. (included)               372   \n",
       "2         1 Lithium ion batteries required. (included)               146   \n",
       "3       1 Lithium Metal batteries required. (included)               669   \n",
       "4     1 Lithium Polymer batteries required. (included)              2997   \n",
       "...                                                ...               ...   \n",
       "1600                                               NaN            119586   \n",
       "1601                                               NaN               NaN   \n",
       "1602                                               NaN            579675   \n",
       "1603                                               NaN             47707   \n",
       "1604               1 9V batteries required. (included)            310265   \n",
       "\n",
       "           Brand Card Description Chipset Brand  \\\n",
       "0         Lenovo        Dedicated         Intel   \n",
       "1         Lenovo       Integrated         Intel   \n",
       "2           Acer         RTX 2060        NVIDIA   \n",
       "3             HP       Integrated         Intel   \n",
       "4             HP       Integrated      MediaTek   \n",
       "...          ...              ...           ...   \n",
       "1600  Oemgenuine       Integrated         Intel   \n",
       "1601         MSI        Dedicated        NVIDIA   \n",
       "1602        Dell       Integrated         Intel   \n",
       "1603      Lenovo       Integrated         Intel   \n",
       "1604      Lenovo              NaN           NaN   \n",
       "\n",
       "                                   Color Computer Memory Type  \\\n",
       "0                          Platinum Grey           DDR4 SDRAM   \n",
       "1                         Business Black              Unknown   \n",
       "2                                    NaN           DDR4 SDRAM   \n",
       "3                             Royal Blue           DDR4 SDRAM   \n",
       "4                             Snow White                SDRAM   \n",
       "...                                  ...                  ...   \n",
       "1600                               Black               SODIMM   \n",
       "1601  Space Gray with Silver Diamond cut                  NaN   \n",
       "1602                                 NaN                  NaN   \n",
       "1603                               Black              Unknown   \n",
       "1604                               Black           DDR4 SDRAM   \n",
       "\n",
       "                                           Cust_reviews  ...     Power Source  \\\n",
       "0     /*\\n* Fix for UDP-1061. Average customer revie...  ...     AC & Battery   \n",
       "1     /*\\n* Fix for UDP-1061. Average customer revie...  ...  Battery Powered   \n",
       "2     /*\\n* Fix for UDP-1061. Average customer revie...  ...  Battery Powered   \n",
       "3     /*\\n* Fix for UDP-1061. Average customer revie...  ...  Battery Powered   \n",
       "4     /*\\n* Fix for UDP-1061. Average customer revie...  ...  Battery Powered   \n",
       "...                                                 ...  ...              ...   \n",
       "1600                                                NaN  ...  Battery Powered   \n",
       "1601                                                NaN  ...              NaN   \n",
       "1602                                                NaN  ...  Battery Powered   \n",
       "1603  /*\\n* Fix for UDP-1061. Average customer revie...  ...              NaN   \n",
       "1604                                                NaN  ...              NaN   \n",
       "\n",
       "     Processor Brand Processor Count        Prod_dimension Screen Resolution  \\\n",
       "0              Intel               2  14.26 x 9.98 x 0.78           1366x768   \n",
       "1           Mediatek               4  12.82 x 0.82 x 9.15                NaN   \n",
       "2              Intel               6  14.31 x 10.04 x 0.9                NaN   \n",
       "3              Intel               2    13.27 x 8.9 x 0.7                NaN   \n",
       "4           MediaTek               8  7.59 x 11.22 x 0.66                NaN   \n",
       "...              ...             ...                   ...               ...   \n",
       "1600           Intel               2  13.03 x 0.67 x 8.93                NaN   \n",
       "1601           Intel               8                   NaN               NaN   \n",
       "1602           Intel               1   8.5 x 12.72 x 0.83                NaN   \n",
       "1603           Intel               1    11.4 x 3.6 x 13.5                NaN   \n",
       "1604           Intel               4   12.95 x 8.94 x 0.7                NaN   \n",
       "\n",
       "                     Series Display_size    Voltage  \\\n",
       "0            Lenovo Ideapad        15.6         NaN   \n",
       "1              Ideapad S330          14         NaN   \n",
       "2             PH315-53-72XD        15.6   220 volts   \n",
       "3             Stream Laptop          14         NaN   \n",
       "4          HP 11 Chromebook        11.6         NaN   \n",
       "...                     ...          ...        ...   \n",
       "1600         ThinkPad T470s          14         NaN   \n",
       "1601  Creator 15 A10SET-052        15.6         NaN   \n",
       "1602                  M2HJR          14         NaN   \n",
       "1603                  M720s           1         NaN   \n",
       "1604                    T14          14         NaN   \n",
       "\n",
       "                    Wireless_type  \\\n",
       "0                         802.11a   \n",
       "1                        802.11ac   \n",
       "2                        802.11ax   \n",
       "3     802.11a/b/g/n/ac, Bluetooth   \n",
       "4     Bluetooth, 802.11a/b/g/n/ac   \n",
       "...                           ...   \n",
       "1600                     802.11ac   \n",
       "1601                          NaN   \n",
       "1602                    Bluetooth   \n",
       "1603                          NaN   \n",
       "1604                    Bluetooth   \n",
       "\n",
       "                                                   name  \n",
       "0     Lenovo IdeaPad 3 Intel i5-1035G1 Quad Core 12G...  \n",
       "1     Lenovo Chromebook S330 Laptop, 14-Inch FHD (19...  \n",
       "2     Acer Predator Helios 300 Gaming Laptop, Intel ...  \n",
       "3     HP Stream 14-inch Laptop, Intel Celeron N4000,...  \n",
       "4     HP Chromebook 11-inch Laptop - Up to 15 Hour B...  \n",
       "...                                                 ...  \n",
       "1600  Lenovo ThinkPad T470s Laptop Computer 14 Inch ...  \n",
       "1601  MSI Creator 15 A10SET-052 15.6\" FHD Finger Tou...  \n",
       "1602  Dell Latitude 5410 14\" Notebook - Full HD - 19...  \n",
       "1603  TopSeller TC M720S SFF I5-9400 2.9G 8GB 256GB ...  \n",
       "1604  Lenovo ThinkPad T14 Laptop - 14\" IPS FHD Touch...  \n",
       "\n",
       "[1605 rows x 37 columns]"
      ],
      "text/html": "<div>\n<style scoped>\n    .dataframe tbody tr th:only-of-type {\n        vertical-align: middle;\n    }\n\n    .dataframe tbody tr th {\n        vertical-align: top;\n    }\n\n    .dataframe thead th {\n        text-align: right;\n    }\n</style>\n<table border=\"1\" class=\"dataframe\">\n  <thead>\n    <tr style=\"text-align: right;\">\n      <th></th>\n      <th>ASIN</th>\n      <th>Batterylife_hrs</th>\n      <th>Batteries</th>\n      <th>Best Sellers Rank</th>\n      <th>Brand</th>\n      <th>Card Description</th>\n      <th>Chipset Brand</th>\n      <th>Color</th>\n      <th>Computer Memory Type</th>\n      <th>Cust_reviews</th>\n      <th>...</th>\n      <th>Power Source</th>\n      <th>Processor Brand</th>\n      <th>Processor Count</th>\n      <th>Prod_dimension</th>\n      <th>Screen Resolution</th>\n      <th>Series</th>\n      <th>Display_size</th>\n      <th>Voltage</th>\n      <th>Wireless_type</th>\n      <th>name</th>\n    </tr>\n  </thead>\n  <tbody>\n    <tr>\n      <th>0</th>\n      <td>B08NXSJVCR</td>\n      <td>NaN</td>\n      <td>1 Lithium Polymer batteries required. (included)</td>\n      <td>212</td>\n      <td>Lenovo</td>\n      <td>Dedicated</td>\n      <td>Intel</td>\n      <td>Platinum Grey</td>\n      <td>DDR4 SDRAM</td>\n      <td>/*\\n* Fix for UDP-1061. Average customer revie...</td>\n      <td>...</td>\n      <td>AC &amp; Battery</td>\n      <td>Intel</td>\n      <td>2</td>\n      <td>14.26 x 9.98 x 0.78</td>\n      <td>1366x768</td>\n      <td>Lenovo Ideapad</td>\n      <td>15.6</td>\n      <td>NaN</td>\n      <td>802.11a</td>\n      <td>Lenovo IdeaPad 3 Intel i5-1035G1 Quad Core 12G...</td>\n    </tr>\n    <tr>\n      <th>1</th>\n      <td>B07GLV1VC7</td>\n      <td>10</td>\n      <td>1 Lithium Polymer batteries required. (included)</td>\n      <td>372</td>\n      <td>Lenovo</td>\n      <td>Integrated</td>\n      <td>Intel</td>\n      <td>Business Black</td>\n      <td>Unknown</td>\n      <td>/*\\n* Fix for UDP-1061. Average customer revie...</td>\n      <td>...</td>\n      <td>Battery Powered</td>\n      <td>Mediatek</td>\n      <td>4</td>\n      <td>12.82 x 0.82 x 9.15</td>\n      <td>NaN</td>\n      <td>Ideapad S330</td>\n      <td>14</td>\n      <td>NaN</td>\n      <td>802.11ac</td>\n      <td>Lenovo Chromebook S330 Laptop, 14-Inch FHD (19...</td>\n    </tr>\n    <tr>\n      <th>2</th>\n      <td>B08842D7JS</td>\n      <td>6</td>\n      <td>1 Lithium ion batteries required. (included)</td>\n      <td>146</td>\n      <td>Acer</td>\n      <td>RTX 2060</td>\n      <td>NVIDIA</td>\n      <td>NaN</td>\n      <td>DDR4 SDRAM</td>\n      <td>/*\\n* Fix for UDP-1061. Average customer revie...</td>\n      <td>...</td>\n      <td>Battery Powered</td>\n      <td>Intel</td>\n      <td>6</td>\n      <td>14.31 x 10.04 x 0.9</td>\n      <td>NaN</td>\n      <td>PH315-53-72XD</td>\n      <td>15.6</td>\n      <td>220 volts</td>\n      <td>802.11ax</td>\n      <td>Acer Predator Helios 300 Gaming Laptop, Intel ...</td>\n    </tr>\n    <tr>\n      <th>3</th>\n      <td>B084SKWC89</td>\n      <td>10</td>\n      <td>1 Lithium Metal batteries required. (included)</td>\n      <td>669</td>\n      <td>HP</td>\n      <td>Integrated</td>\n      <td>Intel</td>\n      <td>Royal Blue</td>\n      <td>DDR4 SDRAM</td>\n      <td>/*\\n* Fix for UDP-1061. Average customer revie...</td>\n      <td>...</td>\n      <td>Battery Powered</td>\n      <td>Intel</td>\n      <td>2</td>\n      <td>13.27 x 8.9 x 0.7</td>\n      <td>NaN</td>\n      <td>Stream Laptop</td>\n      <td>14</td>\n      <td>NaN</td>\n      <td>802.11a/b/g/n/ac, Bluetooth</td>\n      <td>HP Stream 14-inch Laptop, Intel Celeron N4000,...</td>\n    </tr>\n    <tr>\n      <th>4</th>\n      <td>B08H6YZY3Y</td>\n      <td>15.45</td>\n      <td>1 Lithium Polymer batteries required. (included)</td>\n      <td>2997</td>\n      <td>HP</td>\n      <td>Integrated</td>\n      <td>MediaTek</td>\n      <td>Snow White</td>\n      <td>SDRAM</td>\n      <td>/*\\n* Fix for UDP-1061. Average customer revie...</td>\n      <td>...</td>\n      <td>Battery Powered</td>\n      <td>MediaTek</td>\n      <td>8</td>\n      <td>7.59 x 11.22 x 0.66</td>\n      <td>NaN</td>\n      <td>HP 11 Chromebook</td>\n      <td>11.6</td>\n      <td>NaN</td>\n      <td>Bluetooth, 802.11a/b/g/n/ac</td>\n      <td>HP Chromebook 11-inch Laptop - Up to 15 Hour B...</td>\n    </tr>\n    <tr>\n      <th>...</th>\n      <td>...</td>\n      <td>...</td>\n      <td>...</td>\n      <td>...</td>\n      <td>...</td>\n      <td>...</td>\n      <td>...</td>\n      <td>...</td>\n      <td>...</td>\n      <td>...</td>\n      <td>...</td>\n      <td>...</td>\n      <td>...</td>\n      <td>...</td>\n      <td>...</td>\n      <td>...</td>\n      <td>...</td>\n      <td>...</td>\n      <td>...</td>\n      <td>...</td>\n      <td>...</td>\n    </tr>\n    <tr>\n      <th>1600</th>\n      <td>B077SX1YRJ</td>\n      <td>NaN</td>\n      <td>NaN</td>\n      <td>119586</td>\n      <td>Oemgenuine</td>\n      <td>Integrated</td>\n      <td>Intel</td>\n      <td>Black</td>\n      <td>SODIMM</td>\n      <td>NaN</td>\n      <td>...</td>\n      <td>Battery Powered</td>\n      <td>Intel</td>\n      <td>2</td>\n      <td>13.03 x 0.67 x 8.93</td>\n      <td>NaN</td>\n      <td>ThinkPad T470s</td>\n      <td>14</td>\n      <td>NaN</td>\n      <td>802.11ac</td>\n      <td>Lenovo ThinkPad T470s Laptop Computer 14 Inch ...</td>\n    </tr>\n    <tr>\n      <th>1601</th>\n      <td>B08L56FVR3</td>\n      <td>NaN</td>\n      <td>NaN</td>\n      <td>NaN</td>\n      <td>MSI</td>\n      <td>Dedicated</td>\n      <td>NVIDIA</td>\n      <td>Space Gray with Silver Diamond cut</td>\n      <td>NaN</td>\n      <td>NaN</td>\n      <td>...</td>\n      <td>NaN</td>\n      <td>Intel</td>\n      <td>8</td>\n      <td>NaN</td>\n      <td>NaN</td>\n      <td>Creator 15 A10SET-052</td>\n      <td>15.6</td>\n      <td>NaN</td>\n      <td>NaN</td>\n      <td>MSI Creator 15 A10SET-052 15.6\" FHD Finger Tou...</td>\n    </tr>\n    <tr>\n      <th>1602</th>\n      <td>B08L8KW3ZM</td>\n      <td>NaN</td>\n      <td>NaN</td>\n      <td>579675</td>\n      <td>Dell</td>\n      <td>Integrated</td>\n      <td>Intel</td>\n      <td>NaN</td>\n      <td>NaN</td>\n      <td>NaN</td>\n      <td>...</td>\n      <td>Battery Powered</td>\n      <td>Intel</td>\n      <td>1</td>\n      <td>8.5 x 12.72 x 0.83</td>\n      <td>NaN</td>\n      <td>M2HJR</td>\n      <td>14</td>\n      <td>NaN</td>\n      <td>Bluetooth</td>\n      <td>Dell Latitude 5410 14\" Notebook - Full HD - 19...</td>\n    </tr>\n    <tr>\n      <th>1603</th>\n      <td>B082RD3STD</td>\n      <td>NaN</td>\n      <td>NaN</td>\n      <td>47707</td>\n      <td>Lenovo</td>\n      <td>Integrated</td>\n      <td>Intel</td>\n      <td>Black</td>\n      <td>Unknown</td>\n      <td>/*\\n* Fix for UDP-1061. Average customer revie...</td>\n      <td>...</td>\n      <td>NaN</td>\n      <td>Intel</td>\n      <td>1</td>\n      <td>11.4 x 3.6 x 13.5</td>\n      <td>NaN</td>\n      <td>M720s</td>\n      <td>1</td>\n      <td>NaN</td>\n      <td>NaN</td>\n      <td>TopSeller TC M720S SFF I5-9400 2.9G 8GB 256GB ...</td>\n    </tr>\n    <tr>\n      <th>1604</th>\n      <td>B0844KPGNF</td>\n      <td>NaN</td>\n      <td>1 9V batteries required. (included)</td>\n      <td>310265</td>\n      <td>Lenovo</td>\n      <td>NaN</td>\n      <td>NaN</td>\n      <td>Black</td>\n      <td>DDR4 SDRAM</td>\n      <td>NaN</td>\n      <td>...</td>\n      <td>NaN</td>\n      <td>Intel</td>\n      <td>4</td>\n      <td>12.95 x 8.94 x 0.7</td>\n      <td>NaN</td>\n      <td>T14</td>\n      <td>14</td>\n      <td>NaN</td>\n      <td>Bluetooth</td>\n      <td>Lenovo ThinkPad T14 Laptop - 14\" IPS FHD Touch...</td>\n    </tr>\n  </tbody>\n</table>\n<p>1605 rows × 37 columns</p>\n</div>"
     },
     "metadata": {},
     "execution_count": 242
    }
   ],
   "source": [
    "m_new['First_date_avai']= pd.to_datetime(m_new['First_date_avai'])\n",
    "m_new"
   ]
  },
  {
   "cell_type": "code",
   "execution_count": 243,
   "metadata": {},
   "outputs": [
    {
     "output_type": "execute_result",
     "data": {
      "text/plain": [
       "ASIN                                object\n",
       "Batterylife_hrs                     object\n",
       "Batteries                           object\n",
       "Best Sellers Rank                   object\n",
       "Brand                               object\n",
       "Card Description                    object\n",
       "Chipset Brand                       object\n",
       "Color                               object\n",
       "Computer Memory Type                object\n",
       "Cust_reviews                        object\n",
       "First_date_avai             datetime64[ns]\n",
       "Memory_size                         object\n",
       "Graphic_cardramsize                 object\n",
       "Graphics Coprocessor                object\n",
       "Hard_drive_interface                object\n",
       "Harddrive_rotaionalspeed            object\n",
       "Hardware Platform                   object\n",
       "Item_Dimension                      object\n",
       "Item_weight                         object\n",
       "Item model number                   object\n",
       "MaxScreen_res                       object\n",
       "Memory_speed                        object\n",
       "Number of USB 2.0 Ports             object\n",
       "Number of USB 3.0 Ports             object\n",
       "OS                                  object\n",
       "Optical_drive_type                  object\n",
       "Package Dimensions                  object\n",
       "Power Source                        object\n",
       "Processor Brand                     object\n",
       "Processor Count                     object\n",
       "Prod_dimension                      object\n",
       "Screen Resolution                   object\n",
       "Series                              object\n",
       "Display_size                        object\n",
       "Voltage                             object\n",
       "Wireless_type                       object\n",
       "name                                object\n",
       "dtype: object"
      ]
     },
     "metadata": {},
     "execution_count": 243
    }
   ],
   "source": [
    "m_new.dtypes"
   ]
  },
  {
   "cell_type": "code",
   "execution_count": 244,
   "metadata": {},
   "outputs": [
    {
     "output_type": "execute_result",
     "data": {
      "text/plain": [
       "            ASIN                                              title    price  \\\n",
       "0     B086KJCJDM  Acer Spin 5 Convertible Laptop, 13.5\" 2K 2256 ...   839.99   \n",
       "1     B08JQJ5RKK  Acer Swift 3 Intel Evo Thin & Light Laptop, 14...   799.99   \n",
       "2     B08KH2Q1FG  ASUS TUF Gaming Laptop, 15.6” 144Hz Full HD IP...   769.99   \n",
       "3     B086QZSLDH  ASUS VivoBook 15 Thin and Light Laptop- 15.6” ...   599.99   \n",
       "4     B086MBQKH2  Acer Chromebook Spin 311 Convertible Laptop, I...   269.99   \n",
       "...          ...                                                ...      ...   \n",
       "1994  B08P4CGZYK  XIDU Tour Pro 12.5\" Touchscreen Laptop, 2K(256...   429.99   \n",
       "1995  B07F5JCW9M  Lenovo 15.6\" ThinkPad P52 LCD Mobile Workstati...  2629.36   \n",
       "1996  B08F4JRXFZ  Lenovo Chromebook Duet, 2-in-1, 10.1\" WUXGA (1...   288.60   \n",
       "1997  B08N63ZSV7  2020 15.6-inch Laptop 6G + 256G, Intel celeron...   359.00   \n",
       "1998  B085XRL3P1  CHUWI Herobook Pro 14.1 inch Windows 10 Intel ...   339.00   \n",
       "\n",
       "      rating  review_count product_type  \n",
       "0        4.5           358       LAPTOP  \n",
       "1        3.7            13       LAPTOP  \n",
       "2        4.6           653       LAPTOP  \n",
       "3        4.5          3044       LAPTOP  \n",
       "4        4.7          3936       LAPTOP  \n",
       "...      ...           ...          ...  \n",
       "1994     4.4            55       LAPTOP  \n",
       "1995     4.0             1       LAPTOP  \n",
       "1996     4.8            75       LAPTOP  \n",
       "1997     3.0             3       LAPTOP  \n",
       "1998     4.0           343       LAPTOP  \n",
       "\n",
       "[1999 rows x 6 columns]"
      ],
      "text/html": "<div>\n<style scoped>\n    .dataframe tbody tr th:only-of-type {\n        vertical-align: middle;\n    }\n\n    .dataframe tbody tr th {\n        vertical-align: top;\n    }\n\n    .dataframe thead th {\n        text-align: right;\n    }\n</style>\n<table border=\"1\" class=\"dataframe\">\n  <thead>\n    <tr style=\"text-align: right;\">\n      <th></th>\n      <th>ASIN</th>\n      <th>title</th>\n      <th>price</th>\n      <th>rating</th>\n      <th>review_count</th>\n      <th>product_type</th>\n    </tr>\n  </thead>\n  <tbody>\n    <tr>\n      <th>0</th>\n      <td>B086KJCJDM</td>\n      <td>Acer Spin 5 Convertible Laptop, 13.5\" 2K 2256 ...</td>\n      <td>839.99</td>\n      <td>4.5</td>\n      <td>358</td>\n      <td>LAPTOP</td>\n    </tr>\n    <tr>\n      <th>1</th>\n      <td>B08JQJ5RKK</td>\n      <td>Acer Swift 3 Intel Evo Thin &amp; Light Laptop, 14...</td>\n      <td>799.99</td>\n      <td>3.7</td>\n      <td>13</td>\n      <td>LAPTOP</td>\n    </tr>\n    <tr>\n      <th>2</th>\n      <td>B08KH2Q1FG</td>\n      <td>ASUS TUF Gaming Laptop, 15.6” 144Hz Full HD IP...</td>\n      <td>769.99</td>\n      <td>4.6</td>\n      <td>653</td>\n      <td>LAPTOP</td>\n    </tr>\n    <tr>\n      <th>3</th>\n      <td>B086QZSLDH</td>\n      <td>ASUS VivoBook 15 Thin and Light Laptop- 15.6” ...</td>\n      <td>599.99</td>\n      <td>4.5</td>\n      <td>3044</td>\n      <td>LAPTOP</td>\n    </tr>\n    <tr>\n      <th>4</th>\n      <td>B086MBQKH2</td>\n      <td>Acer Chromebook Spin 311 Convertible Laptop, I...</td>\n      <td>269.99</td>\n      <td>4.7</td>\n      <td>3936</td>\n      <td>LAPTOP</td>\n    </tr>\n    <tr>\n      <th>...</th>\n      <td>...</td>\n      <td>...</td>\n      <td>...</td>\n      <td>...</td>\n      <td>...</td>\n      <td>...</td>\n    </tr>\n    <tr>\n      <th>1994</th>\n      <td>B08P4CGZYK</td>\n      <td>XIDU Tour Pro 12.5\" Touchscreen Laptop, 2K(256...</td>\n      <td>429.99</td>\n      <td>4.4</td>\n      <td>55</td>\n      <td>LAPTOP</td>\n    </tr>\n    <tr>\n      <th>1995</th>\n      <td>B07F5JCW9M</td>\n      <td>Lenovo 15.6\" ThinkPad P52 LCD Mobile Workstati...</td>\n      <td>2629.36</td>\n      <td>4.0</td>\n      <td>1</td>\n      <td>LAPTOP</td>\n    </tr>\n    <tr>\n      <th>1996</th>\n      <td>B08F4JRXFZ</td>\n      <td>Lenovo Chromebook Duet, 2-in-1, 10.1\" WUXGA (1...</td>\n      <td>288.60</td>\n      <td>4.8</td>\n      <td>75</td>\n      <td>LAPTOP</td>\n    </tr>\n    <tr>\n      <th>1997</th>\n      <td>B08N63ZSV7</td>\n      <td>2020 15.6-inch Laptop 6G + 256G, Intel celeron...</td>\n      <td>359.00</td>\n      <td>3.0</td>\n      <td>3</td>\n      <td>LAPTOP</td>\n    </tr>\n    <tr>\n      <th>1998</th>\n      <td>B085XRL3P1</td>\n      <td>CHUWI Herobook Pro 14.1 inch Windows 10 Intel ...</td>\n      <td>339.00</td>\n      <td>4.0</td>\n      <td>343</td>\n      <td>LAPTOP</td>\n    </tr>\n  </tbody>\n</table>\n<p>1999 rows × 6 columns</p>\n</div>"
     },
     "metadata": {},
     "execution_count": 244
    }
   ],
   "source": [
    "laptopasin"
   ]
  },
  {
   "cell_type": "code",
   "execution_count": 245,
   "metadata": {},
   "outputs": [],
   "source": [
    "#taking search data to sql\n",
    "import pymysql\n",
    "import pandas as pd\n",
    "from sqlalchemy import create_engine"
   ]
  },
  {
   "cell_type": "code",
   "execution_count": 246,
   "metadata": {},
   "outputs": [],
   "source": [
    "db_data = 'mysql+mysqldb://' + 'root' + ':' + 'Mysql!19891' + '@' + 'localhost' + ':3306/' \\\n",
    "       + 'laptop' + '?charset=utf8mb4'\n",
    "engine = create_engine(db_data)\n",
    "\n",
    "# Connect to the database\n",
    "connection = pymysql.connect(host='localhost',\n",
    "                         user='root',\n",
    "                         password='Mysql!19891',\n",
    "                         db='laptop')"
   ]
  },
  {
   "cell_type": "code",
   "execution_count": 247,
   "metadata": {},
   "outputs": [
    {
     "output_type": "execute_result",
     "data": {
      "text/plain": [
       "<pymysql.connections.Connection at 0x211160f7d30>"
      ]
     },
     "metadata": {},
     "execution_count": 247
    }
   ],
   "source": [
    "connection"
   ]
  },
  {
   "cell_type": "code",
   "execution_count": 248,
   "metadata": {
    "tags": [
     "outputPrepend"
    ]
   },
   "outputs": [
    {
     "output_type": "stream",
     "name": "stdout",
     "text": [
      "SSD, Backlit Keyboard, Bluetooth, HDMI, Win 10', 924.89, 2.6, 5, 'LAPTOP')\n",
      "('B08N63ZSV7', '2020 15.6-inch Laptop 6G + 256G, Intel celeron J3455 high-Performance Quad-core CPU, 2PCS 4500mAh can Work continuously for 6-8 Hours, WiFi, HDMI, Bluetooth 4.0, Windows 10 (Silver 6G+256G)', 359.0, 3.0, 3, 'LAPTOP')\n",
      "('B08P6MRCQ7', 'CHUWI HeroBook Plus 15.6 inch Intel J4125 LPDDR4X 12GB RAM,256GB SSD Laptop,Windows 10 Notebook,Thin and Lightweight Notebook with 2.4G/5G WiFi,RJ45 Interface,BT 5.1 up to 1TB SSD', 439.0, 4.0, 76, 'LAPTOP')\n",
      "('B08N4VG1W2', 'iProda 14\" Stream Laptop, Intel i3 Notebook (up to 2.4GHz), 8GB Memory, 256GB SSD, Full HD IPS 19201080 Display, Windows 10 Pro, Perfect PC for Student and Home use (Intel i3)', 378.98, 3.9, 11, 'LAPTOP')\n",
      "('B08P4X79QN', 'Used Like New laptops Elitebook 840 G1 14.0 Inch High Performance Laptop Computer, Intel i5 4300U up to 2.9GHz, 8GB Memory, 500GB HDD, USB 3.0, Window 10 Professional', 329.0, 4.5, 2, 'LAPTOP')\n",
      "('B07RCZW3D4', 'Dell XPS 13 Laptop 13.3\", UHD, Intel Core i7-8565U, Intel UHD 620 Graphics, 256GB SSD Storage, 16GB RAM, XPS9380-7977SLV-PUS', 1750.0, 1.0, 1, 'LAPTOP')\n",
      "('B08DLCJ6VP', 'Acer 15.6inch Chromebook-Intel Celeron N4000 Processor, 4GB Memory, 32GB SSD Storage, Bluetooth, Chrome OS-(Renewed)', 249.99, 4.5, 36, 'LAPTOP')\n",
      "('B08P4CGZYK', 'XIDU Tour Pro 12.5\" Touchscreen Laptop, 2K(2560x1440) IPS Display, Backlit Keyboard, Fingerprint Reader, Intel Celeron 3867U, 8GB RAM, 128GB eMMC, Windows 10 Home (Space Gray)', 429.99, 4.4, 55, 'LAPTOP')\n",
      "('B085XRL3P1', 'CHUWI Herobook Pro 14.1 inch Windows 10 Intel N4000 Dual Core 8GB RAM 256GB ROM Notebook,Thin and Lightweight Laptop,BT4.0 (Herobook Pro (Herobook Pro(2020))', 339.0, 4.0, 343, 'LAPTOP')\n",
      "('B08G7YLMBS', 'Lenovo Yoga C940 2-in-1 14\" 4K Ultra HD Touch-Screen Laptop - i7-1065G7, RGB Backlit Keyboard, Webcam, WiFi 6, IPS, Alexa, USB-C, Thunderbolt 3, IntelIris Plus, Win 10 (16GB RAM | 512GB PCIe SSD)', 1348.63, 2.0, 1, 'LAPTOP')\n",
      "('B08N63ZSV7', '2020 15.6-inch Laptop 6G + 256G, Intel celeron J3455 high-Performance Quad-core CPU, 2PCS 4500mAh can Work continuously for 6-8 Hours, WiFi, HDMI, Bluetooth 4.0, Windows 10 (Silver 6G+256G)', 359.0, 3.0, 3, 'LAPTOP')\n",
      "('B08P6MRCQ7', 'CHUWI HeroBook Plus 15.6 inch Intel J4125 LPDDR4X 12GB RAM,256GB SSD Laptop,Windows 10 Notebook,Thin and Lightweight Notebook with 2.4G/5G WiFi,RJ45 Interface,BT 5.1 up to 1TB SSD', 439.0, 4.0, 76, 'LAPTOP')\n",
      "('B08N4VG1W2', 'iProda 14\" Stream Laptop, Intel i3 Notebook (up to 2.4GHz), 8GB Memory, 256GB SSD, Full HD IPS 19201080 Display, Windows 10 Pro, Perfect PC for Student and Home use (Intel i3)', 378.98, 3.9, 11, 'LAPTOP')\n",
      "('B08P4X79QN', 'Used Like New laptops Elitebook 840 G1 14.0 Inch High Performance Laptop Computer, Intel i5 4300U up to 2.9GHz, 8GB Memory, 500GB HDD, USB 3.0, Window 10 Professional', 329.0, 4.5, 2, 'LAPTOP')\n",
      "('B0811ZZMP9', 'Lenovo Yoga C940-14 FHD Touch - 10th gen i7-1065G7-12GB - 512GB SSD - Gray', 1114.99, 4.5, 130, 'LAPTOP')\n",
      "('B07HYXVWYP', 'Lenovo ThinkPad X1 Extreme 1st Gen 20MF000LUS 15.6\" Notebook - 1920 x 1080 - Core i7 i7-8750H - 16 GB RAM - 512 GB SSD', 1957.57, 4.5, 10, 'LAPTOP')\n",
      "('B08P4CGZYK', 'XIDU Tour Pro 12.5\" Touchscreen Laptop, 2K(2560x1440) IPS Display, Backlit Keyboard, Fingerprint Reader, Intel Celeron 3867U, 8GB RAM, 128GB eMMC, Windows 10 Home (Space Gray)', 429.99, 4.4, 55, 'LAPTOP')\n",
      "('B085XRL3P1', 'CHUWI Herobook Pro 14.1 inch Windows 10 Intel N4000 Dual Core 8GB RAM 256GB ROM Notebook,Thin and Lightweight Laptop,BT4.0 (Herobook Pro (Herobook Pro(2020))', 339.0, 4.0, 343, 'LAPTOP')\n",
      "('B07WQNKJQR', 'Lenovo ThinkPad P53 Mobile Workstation 20QN001VUS - Intel Six Core i7-9850H, 16GB RAM, 512GB PCIe Nvme SSD, 15.6\" HDR 400 FHD IPS 500Nits Display, NVIDIA Quadro T2000 4GB Graphics, Windows 10 Pro', 2049.99, 3.3, 2, 'LAPTOP')\n",
      "('B07W5PWTT7', 'Lenovo ThinkPad P1 Gen 2 20QT0016US 15.6\" Mobile Workstation', 2079.99, 4.5, 2, 'LAPTOP')\n",
      "('B07S18BKJP', 'Dell Latitude 5000 5400 14\" Notebook - 1920 X 1080 - Core i7 i7-8665U - 16GB RAM - 512GB SSD', 1723.56, 4.0, 1, 'LAPTOP')\n",
      "('B08GL8SSQ3', 'Latest_Dell XPS 15 15.6\" 4K UHD OLED InfinityEdge Anti-Reflective Display, 9th Generation Intel Core i7-9750H Processor, 16GB RAM, 512 SSD, Wireless+Bluetooth, NVIDIA_GeForce GTX 1650，Window 10 Pro', 1799.0, 5.0, 1, 'LAPTOP')\n",
      "('B08N63ZSV7', '2020 15.6-inch Laptop 6G + 256G, Intel celeron J3455 high-Performance Quad-core CPU, 2PCS 4500mAh can Work continuously for 6-8 Hours, WiFi, HDMI, Bluetooth 4.0, Windows 10 (Silver 6G+256G)', 359.0, 3.0, 3, 'LAPTOP')\n",
      "('B08P6MRCQ7', 'CHUWI HeroBook Plus 15.6 inch Intel J4125 LPDDR4X 12GB RAM,256GB SSD Laptop,Windows 10 Notebook,Thin and Lightweight Notebook with 2.4G/5G WiFi,RJ45 Interface,BT 5.1 up to 1TB SSD', 439.0, 4.0, 76, 'LAPTOP')\n",
      "('B08N4VG1W2', 'iProda 14\" Stream Laptop, Intel i3 Notebook (up to 2.4GHz), 8GB Memory, 256GB SSD, Full HD IPS 19201080 Display, Windows 10 Pro, Perfect PC for Student and Home use (Intel i3)', 378.98, 3.9, 11, 'LAPTOP')\n",
      "('B08P4X79QN', 'Used Like New laptops Elitebook 840 G1 14.0 Inch High Performance Laptop Computer, Intel i5 4300U up to 2.9GHz, 8GB Memory, 500GB HDD, USB 3.0, Window 10 Professional', 329.0, 4.5, 2, 'LAPTOP')\n",
      "('B08G8WYYFW', 'Acer Enduro T1 ET108-11A-80PZ Rugged Tablet, 8.0\" WXGA IPS Touch, MediaTek MT8385 Octa-Core Processor, 4GB LPDDR4, 64GB eMMC, WiFi-5, Front 2MP Webcam, Rear 5MP Webcam, Handstrap, Android 9 Pie', 349.99, 5.0, 1, 'LAPTOP')\n",
      "('B08N63ZSV7', '2020 15.6-inch Laptop 6G + 256G, Intel celeron J3455 high-Performance Quad-core CPU, 2PCS 4500mAh can Work continuously for 6-8 Hours, WiFi, HDMI, Bluetooth 4.0, Windows 10 (Silver 6G+256G)', 359.0, 3.0, 3, 'LAPTOP')\n",
      "('B08P4CGZYK', 'XIDU Tour Pro 12.5\" Touchscreen Laptop, 2K(2560x1440) IPS Display, Backlit Keyboard, Fingerprint Reader, Intel Celeron 3867U, 8GB RAM, 128GB eMMC, Windows 10 Home (Space Gray)', 429.99, 4.4, 55, 'LAPTOP')\n",
      "('B08FQG55NZ', 'Dell Latitude 3000 3310 13.3\" 2 in 1 Core i3-8145 8GB RAM 128GB SSD FHD Multi-Touch 1080P Win 10 Pro (Renewed)', 579.99, 4.5, 2, 'LAPTOP')\n",
      "('B085XRL3P1', 'CHUWI Herobook Pro 14.1 inch Windows 10 Intel N4000 Dual Core 8GB RAM 256GB ROM Notebook,Thin and Lightweight Laptop,BT4.0 (Herobook Pro (Herobook Pro(2020))', 339.0, 4.0, 343, 'LAPTOP')\n",
      "('B08P6MRCQ7', 'CHUWI HeroBook Plus 15.6 inch Intel J4125 LPDDR4X 12GB RAM,256GB SSD Laptop,Windows 10 Notebook,Thin and Lightweight Notebook with 2.4G/5G WiFi,RJ45 Interface,BT 5.1 up to 1TB SSD', 439.0, 4.0, 76, 'LAPTOP')\n",
      "('B08N4VG1W2', 'iProda 14\" Stream Laptop, Intel i3 Notebook (up to 2.4GHz), 8GB Memory, 256GB SSD, Full HD IPS 19201080 Display, Windows 10 Pro, Perfect PC for Student and Home use (Intel i3)', 378.98, 3.9, 11, 'LAPTOP')\n",
      "('B08P4X79QN', 'Used Like New laptops Elitebook 840 G1 14.0 Inch High Performance Laptop Computer, Intel i5 4300U up to 2.9GHz, 8GB Memory, 500GB HDD, USB 3.0, Window 10 Professional', 329.0, 4.5, 2, 'LAPTOP')\n",
      "('B07FPTQR5J', 'Lenovo ThinkPad X1 Yoga (3rd Gen) Multimode Ultrabook - Windows 10 Pro - Intel i7-8650U, 1TB NVMe-PCIe , 16GB RAM, 14\" WQHD HDR (2560×1440) Touchscreen with Pen, Fingerprint Reader (Black)', 1629.0, 4.6, 7, 'LAPTOP')\n",
      "('B08BJ9DPYD', 'HP 14-in Chromebook N3350 N3350 4GB 32GB 14-ca000nr', 219.0, 4.7, 31, 'LAPTOP')\n",
      "('B07ZHF8BL4', 'Dell Inspiron Chromebook 2-in-1 14 C7486-14 FHD Touch - i3-8130U - 4GB - 128GB eMMC (Renewed)', 489.0, 3.9, 12, 'LAPTOP')\n",
      "('B08P6MRCQ7', 'CHUWI HeroBook Plus 15.6 inch Intel J4125 LPDDR4X 12GB RAM,256GB SSD Laptop,Windows 10 Notebook,Thin and Lightweight Notebook with 2.4G/5G WiFi,RJ45 Interface,BT 5.1 up to 1TB SSD', 439.0, 4.0, 76, 'LAPTOP')\n",
      "('B08P4CGZYK', 'XIDU Tour Pro 12.5\" Touchscreen Laptop, 2K(2560x1440) IPS Display, Backlit Keyboard, Fingerprint Reader, Intel Celeron 3867U, 8GB RAM, 128GB eMMC, Windows 10 Home (Space Gray)', 429.99, 4.4, 55, 'LAPTOP')\n",
      "('B08DFNHKNM', 'Lenovo Legion Y540-15 Gaming Laptop, 15.6\" IPS, 60Hz, 300 nits, Intel Core i7-9750H Processor, 16G DDR4 2666Mz, 512GB, 1TB 7200, NVIDIA GTX1660Ti, Win 10, 81SX00NNUS, Raven Black (Renewed)', 1149.0, 5.0, 2, 'LAPTOP')\n",
      "('B08N63ZSV7', '2020 15.6-inch Laptop 6G + 256G, Intel celeron J3455 high-Performance Quad-core CPU, 2PCS 4500mAh can Work continuously for 6-8 Hours, WiFi, HDMI, Bluetooth 4.0, Windows 10 (Silver 6G+256G)', 359.0, 3.0, 3, 'LAPTOP')\n",
      "('B085XRL3P1', 'CHUWI Herobook Pro 14.1 inch Windows 10 Intel N4000 Dual Core 8GB RAM 256GB ROM Notebook,Thin and Lightweight Laptop,BT4.0 (Herobook Pro (Herobook Pro(2020))', 339.0, 4.0, 343, 'LAPTOP')\n",
      "('B08N4VG1W2', 'iProda 14\" Stream Laptop, Intel i3 Notebook (up to 2.4GHz), 8GB Memory, 256GB SSD, Full HD IPS 19201080 Display, Windows 10 Pro, Perfect PC for Student and Home use (Intel i3)', 378.98, 3.9, 11, 'LAPTOP')\n",
      "('B08P4X79QN', 'Used Like New laptops Elitebook 840 G1 14.0 Inch High Performance Laptop Computer, Intel i5 4300U up to 2.9GHz, 8GB Memory, 500GB HDD, USB 3.0, Window 10 Professional', 329.0, 4.5, 2, 'LAPTOP')\n",
      "('B07YQYPG31', 'Lenovo ThinkPad P53 20QN0049US 15.6\" Mobile Workstation - 1920 x 1080 - Core i7 i7-9750H - 16 GB RAM - 512 GB SSD - Midnight Black - Windows 10 Pro 64-bit - NVIDIA Quadro T2000 with 4 GB - in-pla', 1749.99, 1.0, 1, 'LAPTOP')\n",
      "('B08P6MRCQ7', 'CHUWI HeroBook Plus 15.6 inch Intel J4125 LPDDR4X 12GB RAM,256GB SSD Laptop,Windows 10 Notebook,Thin and Lightweight Notebook with 2.4G/5G WiFi,RJ45 Interface,BT 5.1 up to 1TB SSD', 439.0, 4.0, 76, 'LAPTOP')\n",
      "('B08P4CGZYK', 'XIDU Tour Pro 12.5\" Touchscreen Laptop, 2K(2560x1440) IPS Display, Backlit Keyboard, Fingerprint Reader, Intel Celeron 3867U, 8GB RAM, 128GB eMMC, Windows 10 Home (Space Gray)', 429.99, 4.4, 55, 'LAPTOP')\n",
      "('B081RJRJ8Y', 'HP Elite Dragonfly Notebook PC', 1999.0, 3.0, 2, 'LAPTOP')\n",
      "('B079J5BL2G', 'Lenovo ThinkPad T480 Business Laptop 14\" Anti-Glare HD (1366x768), 8th Gen Intel Quad-Core i5-8250U, 500GB HDD, 4GB DDR4 RAM, FingerPrint Reader, Webcam, WiFi-AC + BlueTooth, Windows 10 Professional', 1039.0, 3.4, 6, 'LAPTOP')\n",
      "('B08N63ZSV7', '2020 15.6-inch Laptop 6G + 256G, Intel celeron J3455 high-Performance Quad-core CPU, 2PCS 4500mAh can Work continuously for 6-8 Hours, WiFi, HDMI, Bluetooth 4.0, Windows 10 (Silver 6G+256G)', 359.0, 3.0, 3, 'LAPTOP')\n",
      "('B085XRL3P1', 'CHUWI Herobook Pro 14.1 inch Windows 10 Intel N4000 Dual Core 8GB RAM 256GB ROM Notebook,Thin and Lightweight Laptop,BT4.0 (Herobook Pro (Herobook Pro(2020))', 339.0, 4.0, 343, 'LAPTOP')\n",
      "('B08N4VG1W2', 'iProda 14\" Stream Laptop, Intel i3 Notebook (up to 2.4GHz), 8GB Memory, 256GB SSD, Full HD IPS 19201080 Display, Windows 10 Pro, Perfect PC for Student and Home use (Intel i3)', 378.98, 3.9, 11, 'LAPTOP')\n",
      "('B08P4X79QN', 'Used Like New laptops Elitebook 840 G1 14.0 Inch High Performance Laptop Computer, Intel i5 4300U up to 2.9GHz, 8GB Memory, 500GB HDD, USB 3.0, Window 10 Professional', 329.0, 4.5, 2, 'LAPTOP')\n",
      "('B0821NL4NL', 'Lenovo Thinkcentre M720E, Intel Core i5-9400 - 2.90GHz (up to 4.10GHz), 8GB, 256GB SSD, Windows 10 Pro', 619.99, 4.9, 20, 'LAPTOP')\n",
      "('B08P4CGZYK', 'XIDU Tour Pro 12.5\" Touchscreen Laptop, 2K(2560x1440) IPS Display, Backlit Keyboard, Fingerprint Reader, Intel Celeron 3867U, 8GB RAM, 128GB eMMC, Windows 10 Home (Space Gray)', 429.99, 4.4, 55, 'LAPTOP')\n",
      "('B085XRL3P1', 'CHUWI Herobook Pro 14.1 inch Windows 10 Intel N4000 Dual Core 8GB RAM 256GB ROM Notebook,Thin and Lightweight Laptop,BT4.0 (Herobook Pro (Herobook Pro(2020))', 339.0, 4.0, 343, 'LAPTOP')\n",
      "('B0856QVM2F', 'Lenovo Chromebook Duet, 2-in-1, 10.1\" WUXGA (1920 x 1200) Display, MediaTek Helio P60T, 4GB LPDDR4X RAM, 64GB eMCP SSD, Integrated ARM G72 MP3 Graphics, Chrome OS, ZA6F0031US, Ice Blue + Iron Grey', 249.0, 4.4, 259, 'LAPTOP')\n",
      "('B08N63ZSV7', '2020 15.6-inch Laptop 6G + 256G, Intel celeron J3455 high-Performance Quad-core CPU, 2PCS 4500mAh can Work continuously for 6-8 Hours, WiFi, HDMI, Bluetooth 4.0, Windows 10 (Silver 6G+256G)', 359.0, 3.0, 3, 'LAPTOP')\n",
      "('B08P6MRCQ7', 'CHUWI HeroBook Plus 15.6 inch Intel J4125 LPDDR4X 12GB RAM,256GB SSD Laptop,Windows 10 Notebook,Thin and Lightweight Notebook with 2.4G/5G WiFi,RJ45 Interface,BT 5.1 up to 1TB SSD', 439.0, 4.0, 76, 'LAPTOP')\n",
      "('B08N4VG1W2', 'iProda 14\" Stream Laptop, Intel i3 Notebook (up to 2.4GHz), 8GB Memory, 256GB SSD, Full HD IPS 19201080 Display, Windows 10 Pro, Perfect PC for Student and Home use (Intel i3)', 378.98, 3.9, 11, 'LAPTOP')\n",
      "('B08P4X79QN', 'Used Like New laptops Elitebook 840 G1 14.0 Inch High Performance Laptop Computer, Intel i5 4300U up to 2.9GHz, 8GB Memory, 500GB HDD, USB 3.0, Window 10 Professional', 329.0, 4.5, 2, 'LAPTOP')\n",
      "('B07SQCCFGX', 'Lenovo 20QJ0007US Ts T495s 3700u 16gb 512gb W10p', 1028.0, 3.9, 2, 'LAPTOP')\n",
      "('B08N63ZSV7', '2020 15.6-inch Laptop 6G + 256G, Intel celeron J3455 high-Performance Quad-core CPU, 2PCS 4500mAh can Work continuously for 6-8 Hours, WiFi, HDMI, Bluetooth 4.0, Windows 10 (Silver 6G+256G)', 359.0, 3.0, 3, 'LAPTOP')\n",
      "('B08P4CGZYK', 'XIDU Tour Pro 12.5\" Touchscreen Laptop, 2K(2560x1440) IPS Display, Backlit Keyboard, Fingerprint Reader, Intel Celeron 3867U, 8GB RAM, 128GB eMMC, Windows 10 Home (Space Gray)', 429.99, 4.4, 55, 'LAPTOP')\n",
      "('B00I9HU29K', 'Dell XPS 2-in-1 Ultrabook Laptop Computer - 11.6\" Quad HD Touch-Screen - Intel Core i5 - 4GB Memory - 128GB Solid State Drive - Carbon Fiber', 639.0, 3.3, 76, 'LAPTOP')\n",
      "('B07RM4N2JR', 'HP Elitebook 840 G3 14\" Laptop, core i7-6600U 2.6GHz, 8GB RAM, 256GB SSD, Webcam, USB-C, Windows 10 Pro 64Bit (Renewed)', 499.0, 5.0, 1, 'LAPTOP')\n",
      "('B085XRL3P1', 'CHUWI Herobook Pro 14.1 inch Windows 10 Intel N4000 Dual Core 8GB RAM 256GB ROM Notebook,Thin and Lightweight Laptop,BT4.0 (Herobook Pro (Herobook Pro(2020))', 339.0, 4.0, 343, 'LAPTOP')\n",
      "('B08P6MRCQ7', 'CHUWI HeroBook Plus 15.6 inch Intel J4125 LPDDR4X 12GB RAM,256GB SSD Laptop,Windows 10 Notebook,Thin and Lightweight Notebook with 2.4G/5G WiFi,RJ45 Interface,BT 5.1 up to 1TB SSD', 439.0, 4.0, 76, 'LAPTOP')\n",
      "('B08N4VG1W2', 'iProda 14\" Stream Laptop, Intel i3 Notebook (up to 2.4GHz), 8GB Memory, 256GB SSD, Full HD IPS 19201080 Display, Windows 10 Pro, Perfect PC for Student and Home use (Intel i3)', 378.98, 3.9, 11, 'LAPTOP')\n",
      "('B08P4X79QN', 'Used Like New laptops Elitebook 840 G1 14.0 Inch High Performance Laptop Computer, Intel i5 4300U up to 2.9GHz, 8GB Memory, 500GB HDD, USB 3.0, Window 10 Professional', 329.0, 4.5, 2, 'LAPTOP')\n",
      "('B01MZGDEQ5', 'Dell XPS 13 9360 13.3\" Laptop QHD+ Touchscreen 7th Gen Intel Core i7-7500U, 16GB RAM, 512GB NVME SSD Machined Aluminum Display Silver Win 10 ROSE GOLD', 1999.11, 3.5, 7, 'LAPTOP')\n",
      "('B08P6MRCQ7', 'CHUWI HeroBook Plus 15.6 inch Intel J4125 LPDDR4X 12GB RAM,256GB SSD Laptop,Windows 10 Notebook,Thin and Lightweight Notebook with 2.4G/5G WiFi,RJ45 Interface,BT 5.1 up to 1TB SSD', 439.0, 4.0, 76, 'LAPTOP')\n",
      "('B08P4CGZYK', 'XIDU Tour Pro 12.5\" Touchscreen Laptop, 2K(2560x1440) IPS Display, Backlit Keyboard, Fingerprint Reader, Intel Celeron 3867U, 8GB RAM, 128GB eMMC, Windows 10 Home (Space Gray)', 429.99, 4.4, 55, 'LAPTOP')\n",
      "('B07WDDBS7R', 'Asus ROG Strix Scar III (2019) Gaming Laptop, 15.6” 240Hz IPS Type FHD, NVIDIA GeForce RTX 2060, Intel Core i7-9750H, 16GB DDR4, 1TB PCIe Nvme SSD, Per-Key RGB KB, Windows 10, G531GV-DB76 (Renewed)', 1798.11, 5.0, 2, 'LAPTOP')\n",
      "('B07SXTTW96', 'Acer Predator Helios 300 Ph315-52-71RT 15.6\" Gaming Notebook - 1920 X 1080 - Core i7 i7-9750H - 16 GB RAM - 512 GB SSD - Black - Windows 10 Pro 64-bit - NVIDIA GeForce RTX 2060 with 6 GB - in-PLA', 1496.99, 5.0, 2, 'LAPTOP')\n",
      "('B08N63ZSV7', '2020 15.6-inch Laptop 6G + 256G, Intel celeron J3455 high-Performance Quad-core CPU, 2PCS 4500mAh can Work continuously for 6-8 Hours, WiFi, HDMI, Bluetooth 4.0, Windows 10 (Silver 6G+256G)', 359.0, 3.0, 3, 'LAPTOP')\n",
      "('B085XRL3P1', 'CHUWI Herobook Pro 14.1 inch Windows 10 Intel N4000 Dual Core 8GB RAM 256GB ROM Notebook,Thin and Lightweight Laptop,BT4.0 (Herobook Pro (Herobook Pro(2020))', 339.0, 4.0, 343, 'LAPTOP')\n",
      "('B085XRL3P1', 'CHUWI Herobook Pro 14.1 inch Windows 10 Intel N4000 Dual Core 8GB RAM 256GB ROM Notebook,Thin and Lightweight Laptop,BT4.0 (Herobook Pro (Herobook Pro(2020))', 339.0, 4.0, 343, 'LAPTOP')\n",
      "('B08N4VG1W2', 'iProda 14\" Stream Laptop, Intel i3 Notebook (up to 2.4GHz), 8GB Memory, 256GB SSD, Full HD IPS 19201080 Display, Windows 10 Pro, Perfect PC for Student and Home use (Intel i3)', 378.98, 3.9, 11, 'LAPTOP')\n",
      "('B07RT1Z56D', 'MSI GS75 STEALTH-242-17.3\" 144Hz - i7-9750H - NVIDIA RTX 2080 Max Q - 32GB - 1TB SSD', 2749.97, 5.0, 1, 'LAPTOP')\n",
      "('B08B3Y7GCG', 'Dell Latitude 7410 14\" Notebook - Intel Core i5 i5-10310U 1.7GHz', 1459.59, 1.0, 1, 'LAPTOP')\n",
      "('B08P4CGZYK', 'XIDU Tour Pro 12.5\" Touchscreen Laptop, 2K(2560x1440) IPS Display, Backlit Keyboard, Fingerprint Reader, Intel Celeron 3867U, 8GB RAM, 128GB eMMC, Windows 10 Home (Space Gray)', 429.99, 4.4, 55, 'LAPTOP')\n",
      "('B08P4X79QN', 'Used Like New laptops Elitebook 840 G1 14.0 Inch High Performance Laptop Computer, Intel i5 4300U up to 2.9GHz, 8GB Memory, 500GB HDD, USB 3.0, Window 10 Professional', 329.0, 4.5, 2, 'LAPTOP')\n",
      "('B07XVQRFTP', 'Asus Chromebook C423NA, 14\" HD Nano-Edge Display, Intel Processor N3350, 4GB DDR4, 64GB eMMC, Chrome OS', 254.0, 4.7, 11, 'LAPTOP')\n",
      "('B07RJKRQGZ', 'Acer Swift 3 SF314-55-58P9, 14\" Full HD, 8th Gen Intel Core i5-8265U, 8GB DDR4, 256GB PCIe SSD, Gigabit WiFi, Back-lit Keyboard, Windows 10 Professional', 659.99, 4.8, 15, 'LAPTOP')\n",
      "('B07NVTDPFT', 'Samsung 11.6in LED 16GB Chromebook Exynos 5 Dual-Core 1.7GHz 2GB XE303C12-A01US (Renewed)', 156.14, 3.0, 32, 'LAPTOP')\n",
      "('B08N63ZSV7', '2020 15.6-inch Laptop 6G + 256G, Intel celeron J3455 high-Performance Quad-core CPU, 2PCS 4500mAh can Work continuously for 6-8 Hours, WiFi, HDMI, Bluetooth 4.0, Windows 10 (Silver 6G+256G)', 359.0, 3.0, 3, 'LAPTOP')\n",
      "('B08P6MRCQ7', 'CHUWI HeroBook Plus 15.6 inch Intel J4125 LPDDR4X 12GB RAM,256GB SSD Laptop,Windows 10 Notebook,Thin and Lightweight Notebook with 2.4G/5G WiFi,RJ45 Interface,BT 5.1 up to 1TB SSD', 439.0, 4.0, 76, 'LAPTOP')\n",
      "('B08N4VG1W2', 'iProda 14\" Stream Laptop, Intel i3 Notebook (up to 2.4GHz), 8GB Memory, 256GB SSD, Full HD IPS 19201080 Display, Windows 10 Pro, Perfect PC for Student and Home use (Intel i3)', 378.98, 3.9, 11, 'LAPTOP')\n",
      "('B08P4X79QN', 'Used Like New laptops Elitebook 840 G1 14.0 Inch High Performance Laptop Computer, Intel i5 4300U up to 2.9GHz, 8GB Memory, 500GB HDD, USB 3.0, Window 10 Professional', 329.0, 4.5, 2, 'LAPTOP')\n",
      "('B01N9QKYZ9', 'ASUS Gaming Thin and Light Laptop, 15.6-inch Full HD , Intel Core i7-7700HQ Processor, 16GB DDR4 RAM, 128GB SSD + 1TB HDD, GeForce GTX 1060 3GB, Windows 10 - FX502VM-AS73', 1499.0, 3.7, 139, 'LAPTOP')\n",
      "('B08BCFXPZS', 'Microsoft Surface Book 3 (SMG-00001) | 15in (3240 x 2160) Touch-Screen | Intel Core i7 Processor | 16GB RAM | 256TB SSD Storage | Windows 10 Pro | GeForce GTX 1660 GPU', 2369.0, 1.0, 1, 'LAPTOP')\n",
      "('B08P6MRCQ7', 'CHUWI HeroBook Plus 15.6 inch Intel J4125 LPDDR4X 12GB RAM,256GB SSD Laptop,Windows 10 Notebook,Thin and Lightweight Notebook with 2.4G/5G WiFi,RJ45 Interface,BT 5.1 up to 1TB SSD', 439.0, 4.0, 76, 'LAPTOP')\n",
      "('B08P4CGZYK', 'XIDU Tour Pro 12.5\" Touchscreen Laptop, 2K(2560x1440) IPS Display, Backlit Keyboard, Fingerprint Reader, Intel Celeron 3867U, 8GB RAM, 128GB eMMC, Windows 10 Home (Space Gray)', 429.99, 4.4, 55, 'LAPTOP')\n",
      "('B07F5JCW9M', 'Lenovo 15.6\" ThinkPad P52 LCD Mobile Workstation Intel Core i7 (8th Gen) i7-8850H Hexa-core (6 Core) 2.6GHz 16GB 512GB SSD Windows 10 Pro 64-bit Model 20M9000LUS', 2629.36, 4.0, 1, 'LAPTOP')\n",
      "('B08F4JRXFZ', 'Lenovo Chromebook Duet, 2-in-1, 10.1\" WUXGA (1920 x 1200) Display, MediaTek Helio P60T, 4GB LPDDR4X RAM, 128GB eMCP SSD, Integrated ARM G72 MP3 Graphics, Chrome OS, ZA6F0031US, Ice Blue + Iron Grey', 288.6, 4.8, 75, 'LAPTOP')\n",
      "('B08N63ZSV7', '2020 15.6-inch Laptop 6G + 256G, Intel celeron J3455 high-Performance Quad-core CPU, 2PCS 4500mAh can Work continuously for 6-8 Hours, WiFi, HDMI, Bluetooth 4.0, Windows 10 (Silver 6G+256G)', 359.0, 3.0, 3, 'LAPTOP')\n",
      "('B085XRL3P1', 'CHUWI Herobook Pro 14.1 inch Windows 10 Intel N4000 Dual Core 8GB RAM 256GB ROM Notebook,Thin and Lightweight Laptop,BT4.0 (Herobook Pro (Herobook Pro(2020))', 339.0, 4.0, 343, 'LAPTOP')\n"
     ]
    }
   ],
   "source": [
    "# create cursor\n",
    "cursor=connection.cursor()\n",
    "# Execute the to_sql for writting DF into SQL\n",
    "laptopasin.to_sql('search', engine, if_exists='append', index=False)    \n",
    "\n",
    "# Execute query\n",
    "sql = \"SELECT * FROM `search`\"\n",
    "cursor.execute(sql)\n",
    "\n",
    "# Fetch all the records\n",
    "result = cursor.fetchall()\n",
    "for i in result:\n",
    "    print(i)\n",
    "\n",
    "engine.dispose()\n",
    "connection.close()"
   ]
  },
  {
   "cell_type": "code",
   "execution_count": 249,
   "metadata": {},
   "outputs": [
    {
     "output_type": "execute_result",
     "data": {
      "text/plain": [
       "            ASIN Batterylife_hrs  \\\n",
       "0     B08NXSJVCR             NaN   \n",
       "1     B07GLV1VC7             10    \n",
       "2     B08842D7JS              6    \n",
       "3     B084SKWC89             10    \n",
       "4     B08H6YZY3Y          15.45    \n",
       "...          ...             ...   \n",
       "1600  B077SX1YRJ             NaN   \n",
       "1601  B08L56FVR3             NaN   \n",
       "1602  B08L8KW3ZM             NaN   \n",
       "1603  B082RD3STD             NaN   \n",
       "1604  B0844KPGNF             NaN   \n",
       "\n",
       "                                             Batteries Best Sellers Rank  \\\n",
       "0     1 Lithium Polymer batteries required. (included)               212   \n",
       "1     1 Lithium Polymer batteries required. (included)               372   \n",
       "2         1 Lithium ion batteries required. (included)               146   \n",
       "3       1 Lithium Metal batteries required. (included)               669   \n",
       "4     1 Lithium Polymer batteries required. (included)              2997   \n",
       "...                                                ...               ...   \n",
       "1600                                               NaN            119586   \n",
       "1601                                               NaN               NaN   \n",
       "1602                                               NaN            579675   \n",
       "1603                                               NaN             47707   \n",
       "1604               1 9V batteries required. (included)            310265   \n",
       "\n",
       "           Brand Card Description Chipset Brand  \\\n",
       "0         Lenovo        Dedicated         Intel   \n",
       "1         Lenovo       Integrated         Intel   \n",
       "2           Acer         RTX 2060        NVIDIA   \n",
       "3             HP       Integrated         Intel   \n",
       "4             HP       Integrated      MediaTek   \n",
       "...          ...              ...           ...   \n",
       "1600  Oemgenuine       Integrated         Intel   \n",
       "1601         MSI        Dedicated        NVIDIA   \n",
       "1602        Dell       Integrated         Intel   \n",
       "1603      Lenovo       Integrated         Intel   \n",
       "1604      Lenovo              NaN           NaN   \n",
       "\n",
       "                                   Color Computer Memory Type  \\\n",
       "0                          Platinum Grey           DDR4 SDRAM   \n",
       "1                         Business Black              Unknown   \n",
       "2                                    NaN           DDR4 SDRAM   \n",
       "3                             Royal Blue           DDR4 SDRAM   \n",
       "4                             Snow White                SDRAM   \n",
       "...                                  ...                  ...   \n",
       "1600                               Black               SODIMM   \n",
       "1601  Space Gray with Silver Diamond cut                  NaN   \n",
       "1602                                 NaN                  NaN   \n",
       "1603                               Black              Unknown   \n",
       "1604                               Black           DDR4 SDRAM   \n",
       "\n",
       "                                           Cust_reviews  ...     Power Source  \\\n",
       "0     /*\\n* Fix for UDP-1061. Average customer revie...  ...     AC & Battery   \n",
       "1     /*\\n* Fix for UDP-1061. Average customer revie...  ...  Battery Powered   \n",
       "2     /*\\n* Fix for UDP-1061. Average customer revie...  ...  Battery Powered   \n",
       "3     /*\\n* Fix for UDP-1061. Average customer revie...  ...  Battery Powered   \n",
       "4     /*\\n* Fix for UDP-1061. Average customer revie...  ...  Battery Powered   \n",
       "...                                                 ...  ...              ...   \n",
       "1600                                                NaN  ...  Battery Powered   \n",
       "1601                                                NaN  ...              NaN   \n",
       "1602                                                NaN  ...  Battery Powered   \n",
       "1603  /*\\n* Fix for UDP-1061. Average customer revie...  ...              NaN   \n",
       "1604                                                NaN  ...              NaN   \n",
       "\n",
       "     Processor Brand Processor Count        Prod_dimension Screen Resolution  \\\n",
       "0              Intel               2  14.26 x 9.98 x 0.78           1366x768   \n",
       "1           Mediatek               4  12.82 x 0.82 x 9.15                NaN   \n",
       "2              Intel               6  14.31 x 10.04 x 0.9                NaN   \n",
       "3              Intel               2    13.27 x 8.9 x 0.7                NaN   \n",
       "4           MediaTek               8  7.59 x 11.22 x 0.66                NaN   \n",
       "...              ...             ...                   ...               ...   \n",
       "1600           Intel               2  13.03 x 0.67 x 8.93                NaN   \n",
       "1601           Intel               8                   NaN               NaN   \n",
       "1602           Intel               1   8.5 x 12.72 x 0.83                NaN   \n",
       "1603           Intel               1    11.4 x 3.6 x 13.5                NaN   \n",
       "1604           Intel               4   12.95 x 8.94 x 0.7                NaN   \n",
       "\n",
       "                     Series Display_size    Voltage  \\\n",
       "0            Lenovo Ideapad        15.6         NaN   \n",
       "1              Ideapad S330          14         NaN   \n",
       "2             PH315-53-72XD        15.6   220 volts   \n",
       "3             Stream Laptop          14         NaN   \n",
       "4          HP 11 Chromebook        11.6         NaN   \n",
       "...                     ...          ...        ...   \n",
       "1600         ThinkPad T470s          14         NaN   \n",
       "1601  Creator 15 A10SET-052        15.6         NaN   \n",
       "1602                  M2HJR          14         NaN   \n",
       "1603                  M720s           1         NaN   \n",
       "1604                    T14          14         NaN   \n",
       "\n",
       "                    Wireless_type  \\\n",
       "0                         802.11a   \n",
       "1                        802.11ac   \n",
       "2                        802.11ax   \n",
       "3     802.11a/b/g/n/ac, Bluetooth   \n",
       "4     Bluetooth, 802.11a/b/g/n/ac   \n",
       "...                           ...   \n",
       "1600                     802.11ac   \n",
       "1601                          NaN   \n",
       "1602                    Bluetooth   \n",
       "1603                          NaN   \n",
       "1604                    Bluetooth   \n",
       "\n",
       "                                                   name  \n",
       "0     Lenovo IdeaPad 3 Intel i5-1035G1 Quad Core 12G...  \n",
       "1     Lenovo Chromebook S330 Laptop, 14-Inch FHD (19...  \n",
       "2     Acer Predator Helios 300 Gaming Laptop, Intel ...  \n",
       "3     HP Stream 14-inch Laptop, Intel Celeron N4000,...  \n",
       "4     HP Chromebook 11-inch Laptop - Up to 15 Hour B...  \n",
       "...                                                 ...  \n",
       "1600  Lenovo ThinkPad T470s Laptop Computer 14 Inch ...  \n",
       "1601  MSI Creator 15 A10SET-052 15.6\" FHD Finger Tou...  \n",
       "1602  Dell Latitude 5410 14\" Notebook - Full HD - 19...  \n",
       "1603  TopSeller TC M720S SFF I5-9400 2.9G 8GB 256GB ...  \n",
       "1604  Lenovo ThinkPad T14 Laptop - 14\" IPS FHD Touch...  \n",
       "\n",
       "[1605 rows x 37 columns]"
      ],
      "text/html": "<div>\n<style scoped>\n    .dataframe tbody tr th:only-of-type {\n        vertical-align: middle;\n    }\n\n    .dataframe tbody tr th {\n        vertical-align: top;\n    }\n\n    .dataframe thead th {\n        text-align: right;\n    }\n</style>\n<table border=\"1\" class=\"dataframe\">\n  <thead>\n    <tr style=\"text-align: right;\">\n      <th></th>\n      <th>ASIN</th>\n      <th>Batterylife_hrs</th>\n      <th>Batteries</th>\n      <th>Best Sellers Rank</th>\n      <th>Brand</th>\n      <th>Card Description</th>\n      <th>Chipset Brand</th>\n      <th>Color</th>\n      <th>Computer Memory Type</th>\n      <th>Cust_reviews</th>\n      <th>...</th>\n      <th>Power Source</th>\n      <th>Processor Brand</th>\n      <th>Processor Count</th>\n      <th>Prod_dimension</th>\n      <th>Screen Resolution</th>\n      <th>Series</th>\n      <th>Display_size</th>\n      <th>Voltage</th>\n      <th>Wireless_type</th>\n      <th>name</th>\n    </tr>\n  </thead>\n  <tbody>\n    <tr>\n      <th>0</th>\n      <td>B08NXSJVCR</td>\n      <td>NaN</td>\n      <td>1 Lithium Polymer batteries required. (included)</td>\n      <td>212</td>\n      <td>Lenovo</td>\n      <td>Dedicated</td>\n      <td>Intel</td>\n      <td>Platinum Grey</td>\n      <td>DDR4 SDRAM</td>\n      <td>/*\\n* Fix for UDP-1061. Average customer revie...</td>\n      <td>...</td>\n      <td>AC &amp; Battery</td>\n      <td>Intel</td>\n      <td>2</td>\n      <td>14.26 x 9.98 x 0.78</td>\n      <td>1366x768</td>\n      <td>Lenovo Ideapad</td>\n      <td>15.6</td>\n      <td>NaN</td>\n      <td>802.11a</td>\n      <td>Lenovo IdeaPad 3 Intel i5-1035G1 Quad Core 12G...</td>\n    </tr>\n    <tr>\n      <th>1</th>\n      <td>B07GLV1VC7</td>\n      <td>10</td>\n      <td>1 Lithium Polymer batteries required. (included)</td>\n      <td>372</td>\n      <td>Lenovo</td>\n      <td>Integrated</td>\n      <td>Intel</td>\n      <td>Business Black</td>\n      <td>Unknown</td>\n      <td>/*\\n* Fix for UDP-1061. Average customer revie...</td>\n      <td>...</td>\n      <td>Battery Powered</td>\n      <td>Mediatek</td>\n      <td>4</td>\n      <td>12.82 x 0.82 x 9.15</td>\n      <td>NaN</td>\n      <td>Ideapad S330</td>\n      <td>14</td>\n      <td>NaN</td>\n      <td>802.11ac</td>\n      <td>Lenovo Chromebook S330 Laptop, 14-Inch FHD (19...</td>\n    </tr>\n    <tr>\n      <th>2</th>\n      <td>B08842D7JS</td>\n      <td>6</td>\n      <td>1 Lithium ion batteries required. (included)</td>\n      <td>146</td>\n      <td>Acer</td>\n      <td>RTX 2060</td>\n      <td>NVIDIA</td>\n      <td>NaN</td>\n      <td>DDR4 SDRAM</td>\n      <td>/*\\n* Fix for UDP-1061. Average customer revie...</td>\n      <td>...</td>\n      <td>Battery Powered</td>\n      <td>Intel</td>\n      <td>6</td>\n      <td>14.31 x 10.04 x 0.9</td>\n      <td>NaN</td>\n      <td>PH315-53-72XD</td>\n      <td>15.6</td>\n      <td>220 volts</td>\n      <td>802.11ax</td>\n      <td>Acer Predator Helios 300 Gaming Laptop, Intel ...</td>\n    </tr>\n    <tr>\n      <th>3</th>\n      <td>B084SKWC89</td>\n      <td>10</td>\n      <td>1 Lithium Metal batteries required. (included)</td>\n      <td>669</td>\n      <td>HP</td>\n      <td>Integrated</td>\n      <td>Intel</td>\n      <td>Royal Blue</td>\n      <td>DDR4 SDRAM</td>\n      <td>/*\\n* Fix for UDP-1061. Average customer revie...</td>\n      <td>...</td>\n      <td>Battery Powered</td>\n      <td>Intel</td>\n      <td>2</td>\n      <td>13.27 x 8.9 x 0.7</td>\n      <td>NaN</td>\n      <td>Stream Laptop</td>\n      <td>14</td>\n      <td>NaN</td>\n      <td>802.11a/b/g/n/ac, Bluetooth</td>\n      <td>HP Stream 14-inch Laptop, Intel Celeron N4000,...</td>\n    </tr>\n    <tr>\n      <th>4</th>\n      <td>B08H6YZY3Y</td>\n      <td>15.45</td>\n      <td>1 Lithium Polymer batteries required. (included)</td>\n      <td>2997</td>\n      <td>HP</td>\n      <td>Integrated</td>\n      <td>MediaTek</td>\n      <td>Snow White</td>\n      <td>SDRAM</td>\n      <td>/*\\n* Fix for UDP-1061. Average customer revie...</td>\n      <td>...</td>\n      <td>Battery Powered</td>\n      <td>MediaTek</td>\n      <td>8</td>\n      <td>7.59 x 11.22 x 0.66</td>\n      <td>NaN</td>\n      <td>HP 11 Chromebook</td>\n      <td>11.6</td>\n      <td>NaN</td>\n      <td>Bluetooth, 802.11a/b/g/n/ac</td>\n      <td>HP Chromebook 11-inch Laptop - Up to 15 Hour B...</td>\n    </tr>\n    <tr>\n      <th>...</th>\n      <td>...</td>\n      <td>...</td>\n      <td>...</td>\n      <td>...</td>\n      <td>...</td>\n      <td>...</td>\n      <td>...</td>\n      <td>...</td>\n      <td>...</td>\n      <td>...</td>\n      <td>...</td>\n      <td>...</td>\n      <td>...</td>\n      <td>...</td>\n      <td>...</td>\n      <td>...</td>\n      <td>...</td>\n      <td>...</td>\n      <td>...</td>\n      <td>...</td>\n      <td>...</td>\n    </tr>\n    <tr>\n      <th>1600</th>\n      <td>B077SX1YRJ</td>\n      <td>NaN</td>\n      <td>NaN</td>\n      <td>119586</td>\n      <td>Oemgenuine</td>\n      <td>Integrated</td>\n      <td>Intel</td>\n      <td>Black</td>\n      <td>SODIMM</td>\n      <td>NaN</td>\n      <td>...</td>\n      <td>Battery Powered</td>\n      <td>Intel</td>\n      <td>2</td>\n      <td>13.03 x 0.67 x 8.93</td>\n      <td>NaN</td>\n      <td>ThinkPad T470s</td>\n      <td>14</td>\n      <td>NaN</td>\n      <td>802.11ac</td>\n      <td>Lenovo ThinkPad T470s Laptop Computer 14 Inch ...</td>\n    </tr>\n    <tr>\n      <th>1601</th>\n      <td>B08L56FVR3</td>\n      <td>NaN</td>\n      <td>NaN</td>\n      <td>NaN</td>\n      <td>MSI</td>\n      <td>Dedicated</td>\n      <td>NVIDIA</td>\n      <td>Space Gray with Silver Diamond cut</td>\n      <td>NaN</td>\n      <td>NaN</td>\n      <td>...</td>\n      <td>NaN</td>\n      <td>Intel</td>\n      <td>8</td>\n      <td>NaN</td>\n      <td>NaN</td>\n      <td>Creator 15 A10SET-052</td>\n      <td>15.6</td>\n      <td>NaN</td>\n      <td>NaN</td>\n      <td>MSI Creator 15 A10SET-052 15.6\" FHD Finger Tou...</td>\n    </tr>\n    <tr>\n      <th>1602</th>\n      <td>B08L8KW3ZM</td>\n      <td>NaN</td>\n      <td>NaN</td>\n      <td>579675</td>\n      <td>Dell</td>\n      <td>Integrated</td>\n      <td>Intel</td>\n      <td>NaN</td>\n      <td>NaN</td>\n      <td>NaN</td>\n      <td>...</td>\n      <td>Battery Powered</td>\n      <td>Intel</td>\n      <td>1</td>\n      <td>8.5 x 12.72 x 0.83</td>\n      <td>NaN</td>\n      <td>M2HJR</td>\n      <td>14</td>\n      <td>NaN</td>\n      <td>Bluetooth</td>\n      <td>Dell Latitude 5410 14\" Notebook - Full HD - 19...</td>\n    </tr>\n    <tr>\n      <th>1603</th>\n      <td>B082RD3STD</td>\n      <td>NaN</td>\n      <td>NaN</td>\n      <td>47707</td>\n      <td>Lenovo</td>\n      <td>Integrated</td>\n      <td>Intel</td>\n      <td>Black</td>\n      <td>Unknown</td>\n      <td>/*\\n* Fix for UDP-1061. Average customer revie...</td>\n      <td>...</td>\n      <td>NaN</td>\n      <td>Intel</td>\n      <td>1</td>\n      <td>11.4 x 3.6 x 13.5</td>\n      <td>NaN</td>\n      <td>M720s</td>\n      <td>1</td>\n      <td>NaN</td>\n      <td>NaN</td>\n      <td>TopSeller TC M720S SFF I5-9400 2.9G 8GB 256GB ...</td>\n    </tr>\n    <tr>\n      <th>1604</th>\n      <td>B0844KPGNF</td>\n      <td>NaN</td>\n      <td>1 9V batteries required. (included)</td>\n      <td>310265</td>\n      <td>Lenovo</td>\n      <td>NaN</td>\n      <td>NaN</td>\n      <td>Black</td>\n      <td>DDR4 SDRAM</td>\n      <td>NaN</td>\n      <td>...</td>\n      <td>NaN</td>\n      <td>Intel</td>\n      <td>4</td>\n      <td>12.95 x 8.94 x 0.7</td>\n      <td>NaN</td>\n      <td>T14</td>\n      <td>14</td>\n      <td>NaN</td>\n      <td>Bluetooth</td>\n      <td>Lenovo ThinkPad T14 Laptop - 14\" IPS FHD Touch...</td>\n    </tr>\n  </tbody>\n</table>\n<p>1605 rows × 37 columns</p>\n</div>"
     },
     "metadata": {},
     "execution_count": 249
    }
   ],
   "source": [
    "m_new"
   ]
  },
  {
   "cell_type": "code",
   "execution_count": 250,
   "metadata": {},
   "outputs": [
    {
     "output_type": "execute_result",
     "data": {
      "text/plain": [
       "            ASIN Batterylife_hrs  \\\n",
       "0     B08NXSJVCR             NaN   \n",
       "1     B07GLV1VC7             10    \n",
       "2     B08842D7JS              6    \n",
       "3     B084SKWC89             10    \n",
       "4     B08H6YZY3Y          15.45    \n",
       "...          ...             ...   \n",
       "1600  B077SX1YRJ             NaN   \n",
       "1601  B08L56FVR3             NaN   \n",
       "1602  B08L8KW3ZM             NaN   \n",
       "1603  B082RD3STD             NaN   \n",
       "1604  B0844KPGNF             NaN   \n",
       "\n",
       "                                             Batteries Best Sellers Rank  \\\n",
       "0     1 Lithium Polymer batteries required. (included)               212   \n",
       "1     1 Lithium Polymer batteries required. (included)               372   \n",
       "2         1 Lithium ion batteries required. (included)               146   \n",
       "3       1 Lithium Metal batteries required. (included)               669   \n",
       "4     1 Lithium Polymer batteries required. (included)              2997   \n",
       "...                                                ...               ...   \n",
       "1600                                               NaN            119586   \n",
       "1601                                               NaN               NaN   \n",
       "1602                                               NaN            579675   \n",
       "1603                                               NaN             47707   \n",
       "1604               1 9V batteries required. (included)            310265   \n",
       "\n",
       "           Brand Card Description Chipset Brand  \\\n",
       "0         Lenovo        Dedicated         Intel   \n",
       "1         Lenovo       Integrated         Intel   \n",
       "2           Acer         RTX 2060        NVIDIA   \n",
       "3             HP       Integrated         Intel   \n",
       "4             HP       Integrated      MediaTek   \n",
       "...          ...              ...           ...   \n",
       "1600  Oemgenuine       Integrated         Intel   \n",
       "1601         MSI        Dedicated        NVIDIA   \n",
       "1602        Dell       Integrated         Intel   \n",
       "1603      Lenovo       Integrated         Intel   \n",
       "1604      Lenovo              NaN           NaN   \n",
       "\n",
       "                                   Color Computer Memory Type  \\\n",
       "0                          Platinum Grey           DDR4 SDRAM   \n",
       "1                         Business Black              Unknown   \n",
       "2                                    NaN           DDR4 SDRAM   \n",
       "3                             Royal Blue           DDR4 SDRAM   \n",
       "4                             Snow White                SDRAM   \n",
       "...                                  ...                  ...   \n",
       "1600                               Black               SODIMM   \n",
       "1601  Space Gray with Silver Diamond cut                  NaN   \n",
       "1602                                 NaN                  NaN   \n",
       "1603                               Black              Unknown   \n",
       "1604                               Black           DDR4 SDRAM   \n",
       "\n",
       "                                           Cust_reviews  ...     Power Source  \\\n",
       "0     /*\\n* Fix for UDP-1061. Average customer revie...  ...     AC & Battery   \n",
       "1     /*\\n* Fix for UDP-1061. Average customer revie...  ...  Battery Powered   \n",
       "2     /*\\n* Fix for UDP-1061. Average customer revie...  ...  Battery Powered   \n",
       "3     /*\\n* Fix for UDP-1061. Average customer revie...  ...  Battery Powered   \n",
       "4     /*\\n* Fix for UDP-1061. Average customer revie...  ...  Battery Powered   \n",
       "...                                                 ...  ...              ...   \n",
       "1600                                                NaN  ...  Battery Powered   \n",
       "1601                                                NaN  ...              NaN   \n",
       "1602                                                NaN  ...  Battery Powered   \n",
       "1603  /*\\n* Fix for UDP-1061. Average customer revie...  ...              NaN   \n",
       "1604                                                NaN  ...              NaN   \n",
       "\n",
       "     Processor Brand Processor Count        Prod_dimension Screen Resolution  \\\n",
       "0              Intel               2  14.26 x 9.98 x 0.78           1366x768   \n",
       "1           Mediatek               4  12.82 x 0.82 x 9.15                NaN   \n",
       "2              Intel               6  14.31 x 10.04 x 0.9                NaN   \n",
       "3              Intel               2    13.27 x 8.9 x 0.7                NaN   \n",
       "4           MediaTek               8  7.59 x 11.22 x 0.66                NaN   \n",
       "...              ...             ...                   ...               ...   \n",
       "1600           Intel               2  13.03 x 0.67 x 8.93                NaN   \n",
       "1601           Intel               8                   NaN               NaN   \n",
       "1602           Intel               1   8.5 x 12.72 x 0.83                NaN   \n",
       "1603           Intel               1    11.4 x 3.6 x 13.5                NaN   \n",
       "1604           Intel               4   12.95 x 8.94 x 0.7                NaN   \n",
       "\n",
       "                     Series Display_size    Voltage  \\\n",
       "0            Lenovo Ideapad        15.6         NaN   \n",
       "1              Ideapad S330          14         NaN   \n",
       "2             PH315-53-72XD        15.6   220 volts   \n",
       "3             Stream Laptop          14         NaN   \n",
       "4          HP 11 Chromebook        11.6         NaN   \n",
       "...                     ...          ...        ...   \n",
       "1600         ThinkPad T470s          14         NaN   \n",
       "1601  Creator 15 A10SET-052        15.6         NaN   \n",
       "1602                  M2HJR          14         NaN   \n",
       "1603                  M720s           1         NaN   \n",
       "1604                    T14          14         NaN   \n",
       "\n",
       "                    Wireless_type  \\\n",
       "0                         802.11a   \n",
       "1                        802.11ac   \n",
       "2                        802.11ax   \n",
       "3     802.11a/b/g/n/ac, Bluetooth   \n",
       "4     Bluetooth, 802.11a/b/g/n/ac   \n",
       "...                           ...   \n",
       "1600                     802.11ac   \n",
       "1601                          NaN   \n",
       "1602                    Bluetooth   \n",
       "1603                          NaN   \n",
       "1604                    Bluetooth   \n",
       "\n",
       "                                                  Title  \n",
       "0     Lenovo IdeaPad 3 Intel i5-1035G1 Quad Core 12G...  \n",
       "1     Lenovo Chromebook S330 Laptop, 14-Inch FHD (19...  \n",
       "2     Acer Predator Helios 300 Gaming Laptop, Intel ...  \n",
       "3     HP Stream 14-inch Laptop, Intel Celeron N4000,...  \n",
       "4     HP Chromebook 11-inch Laptop - Up to 15 Hour B...  \n",
       "...                                                 ...  \n",
       "1600  Lenovo ThinkPad T470s Laptop Computer 14 Inch ...  \n",
       "1601  MSI Creator 15 A10SET-052 15.6\" FHD Finger Tou...  \n",
       "1602  Dell Latitude 5410 14\" Notebook - Full HD - 19...  \n",
       "1603  TopSeller TC M720S SFF I5-9400 2.9G 8GB 256GB ...  \n",
       "1604  Lenovo ThinkPad T14 Laptop - 14\" IPS FHD Touch...  \n",
       "\n",
       "[1605 rows x 37 columns]"
      ],
      "text/html": "<div>\n<style scoped>\n    .dataframe tbody tr th:only-of-type {\n        vertical-align: middle;\n    }\n\n    .dataframe tbody tr th {\n        vertical-align: top;\n    }\n\n    .dataframe thead th {\n        text-align: right;\n    }\n</style>\n<table border=\"1\" class=\"dataframe\">\n  <thead>\n    <tr style=\"text-align: right;\">\n      <th></th>\n      <th>ASIN</th>\n      <th>Batterylife_hrs</th>\n      <th>Batteries</th>\n      <th>Best Sellers Rank</th>\n      <th>Brand</th>\n      <th>Card Description</th>\n      <th>Chipset Brand</th>\n      <th>Color</th>\n      <th>Computer Memory Type</th>\n      <th>Cust_reviews</th>\n      <th>...</th>\n      <th>Power Source</th>\n      <th>Processor Brand</th>\n      <th>Processor Count</th>\n      <th>Prod_dimension</th>\n      <th>Screen Resolution</th>\n      <th>Series</th>\n      <th>Display_size</th>\n      <th>Voltage</th>\n      <th>Wireless_type</th>\n      <th>Title</th>\n    </tr>\n  </thead>\n  <tbody>\n    <tr>\n      <th>0</th>\n      <td>B08NXSJVCR</td>\n      <td>NaN</td>\n      <td>1 Lithium Polymer batteries required. (included)</td>\n      <td>212</td>\n      <td>Lenovo</td>\n      <td>Dedicated</td>\n      <td>Intel</td>\n      <td>Platinum Grey</td>\n      <td>DDR4 SDRAM</td>\n      <td>/*\\n* Fix for UDP-1061. Average customer revie...</td>\n      <td>...</td>\n      <td>AC &amp; Battery</td>\n      <td>Intel</td>\n      <td>2</td>\n      <td>14.26 x 9.98 x 0.78</td>\n      <td>1366x768</td>\n      <td>Lenovo Ideapad</td>\n      <td>15.6</td>\n      <td>NaN</td>\n      <td>802.11a</td>\n      <td>Lenovo IdeaPad 3 Intel i5-1035G1 Quad Core 12G...</td>\n    </tr>\n    <tr>\n      <th>1</th>\n      <td>B07GLV1VC7</td>\n      <td>10</td>\n      <td>1 Lithium Polymer batteries required. (included)</td>\n      <td>372</td>\n      <td>Lenovo</td>\n      <td>Integrated</td>\n      <td>Intel</td>\n      <td>Business Black</td>\n      <td>Unknown</td>\n      <td>/*\\n* Fix for UDP-1061. Average customer revie...</td>\n      <td>...</td>\n      <td>Battery Powered</td>\n      <td>Mediatek</td>\n      <td>4</td>\n      <td>12.82 x 0.82 x 9.15</td>\n      <td>NaN</td>\n      <td>Ideapad S330</td>\n      <td>14</td>\n      <td>NaN</td>\n      <td>802.11ac</td>\n      <td>Lenovo Chromebook S330 Laptop, 14-Inch FHD (19...</td>\n    </tr>\n    <tr>\n      <th>2</th>\n      <td>B08842D7JS</td>\n      <td>6</td>\n      <td>1 Lithium ion batteries required. (included)</td>\n      <td>146</td>\n      <td>Acer</td>\n      <td>RTX 2060</td>\n      <td>NVIDIA</td>\n      <td>NaN</td>\n      <td>DDR4 SDRAM</td>\n      <td>/*\\n* Fix for UDP-1061. Average customer revie...</td>\n      <td>...</td>\n      <td>Battery Powered</td>\n      <td>Intel</td>\n      <td>6</td>\n      <td>14.31 x 10.04 x 0.9</td>\n      <td>NaN</td>\n      <td>PH315-53-72XD</td>\n      <td>15.6</td>\n      <td>220 volts</td>\n      <td>802.11ax</td>\n      <td>Acer Predator Helios 300 Gaming Laptop, Intel ...</td>\n    </tr>\n    <tr>\n      <th>3</th>\n      <td>B084SKWC89</td>\n      <td>10</td>\n      <td>1 Lithium Metal batteries required. (included)</td>\n      <td>669</td>\n      <td>HP</td>\n      <td>Integrated</td>\n      <td>Intel</td>\n      <td>Royal Blue</td>\n      <td>DDR4 SDRAM</td>\n      <td>/*\\n* Fix for UDP-1061. Average customer revie...</td>\n      <td>...</td>\n      <td>Battery Powered</td>\n      <td>Intel</td>\n      <td>2</td>\n      <td>13.27 x 8.9 x 0.7</td>\n      <td>NaN</td>\n      <td>Stream Laptop</td>\n      <td>14</td>\n      <td>NaN</td>\n      <td>802.11a/b/g/n/ac, Bluetooth</td>\n      <td>HP Stream 14-inch Laptop, Intel Celeron N4000,...</td>\n    </tr>\n    <tr>\n      <th>4</th>\n      <td>B08H6YZY3Y</td>\n      <td>15.45</td>\n      <td>1 Lithium Polymer batteries required. (included)</td>\n      <td>2997</td>\n      <td>HP</td>\n      <td>Integrated</td>\n      <td>MediaTek</td>\n      <td>Snow White</td>\n      <td>SDRAM</td>\n      <td>/*\\n* Fix for UDP-1061. Average customer revie...</td>\n      <td>...</td>\n      <td>Battery Powered</td>\n      <td>MediaTek</td>\n      <td>8</td>\n      <td>7.59 x 11.22 x 0.66</td>\n      <td>NaN</td>\n      <td>HP 11 Chromebook</td>\n      <td>11.6</td>\n      <td>NaN</td>\n      <td>Bluetooth, 802.11a/b/g/n/ac</td>\n      <td>HP Chromebook 11-inch Laptop - Up to 15 Hour B...</td>\n    </tr>\n    <tr>\n      <th>...</th>\n      <td>...</td>\n      <td>...</td>\n      <td>...</td>\n      <td>...</td>\n      <td>...</td>\n      <td>...</td>\n      <td>...</td>\n      <td>...</td>\n      <td>...</td>\n      <td>...</td>\n      <td>...</td>\n      <td>...</td>\n      <td>...</td>\n      <td>...</td>\n      <td>...</td>\n      <td>...</td>\n      <td>...</td>\n      <td>...</td>\n      <td>...</td>\n      <td>...</td>\n      <td>...</td>\n    </tr>\n    <tr>\n      <th>1600</th>\n      <td>B077SX1YRJ</td>\n      <td>NaN</td>\n      <td>NaN</td>\n      <td>119586</td>\n      <td>Oemgenuine</td>\n      <td>Integrated</td>\n      <td>Intel</td>\n      <td>Black</td>\n      <td>SODIMM</td>\n      <td>NaN</td>\n      <td>...</td>\n      <td>Battery Powered</td>\n      <td>Intel</td>\n      <td>2</td>\n      <td>13.03 x 0.67 x 8.93</td>\n      <td>NaN</td>\n      <td>ThinkPad T470s</td>\n      <td>14</td>\n      <td>NaN</td>\n      <td>802.11ac</td>\n      <td>Lenovo ThinkPad T470s Laptop Computer 14 Inch ...</td>\n    </tr>\n    <tr>\n      <th>1601</th>\n      <td>B08L56FVR3</td>\n      <td>NaN</td>\n      <td>NaN</td>\n      <td>NaN</td>\n      <td>MSI</td>\n      <td>Dedicated</td>\n      <td>NVIDIA</td>\n      <td>Space Gray with Silver Diamond cut</td>\n      <td>NaN</td>\n      <td>NaN</td>\n      <td>...</td>\n      <td>NaN</td>\n      <td>Intel</td>\n      <td>8</td>\n      <td>NaN</td>\n      <td>NaN</td>\n      <td>Creator 15 A10SET-052</td>\n      <td>15.6</td>\n      <td>NaN</td>\n      <td>NaN</td>\n      <td>MSI Creator 15 A10SET-052 15.6\" FHD Finger Tou...</td>\n    </tr>\n    <tr>\n      <th>1602</th>\n      <td>B08L8KW3ZM</td>\n      <td>NaN</td>\n      <td>NaN</td>\n      <td>579675</td>\n      <td>Dell</td>\n      <td>Integrated</td>\n      <td>Intel</td>\n      <td>NaN</td>\n      <td>NaN</td>\n      <td>NaN</td>\n      <td>...</td>\n      <td>Battery Powered</td>\n      <td>Intel</td>\n      <td>1</td>\n      <td>8.5 x 12.72 x 0.83</td>\n      <td>NaN</td>\n      <td>M2HJR</td>\n      <td>14</td>\n      <td>NaN</td>\n      <td>Bluetooth</td>\n      <td>Dell Latitude 5410 14\" Notebook - Full HD - 19...</td>\n    </tr>\n    <tr>\n      <th>1603</th>\n      <td>B082RD3STD</td>\n      <td>NaN</td>\n      <td>NaN</td>\n      <td>47707</td>\n      <td>Lenovo</td>\n      <td>Integrated</td>\n      <td>Intel</td>\n      <td>Black</td>\n      <td>Unknown</td>\n      <td>/*\\n* Fix for UDP-1061. Average customer revie...</td>\n      <td>...</td>\n      <td>NaN</td>\n      <td>Intel</td>\n      <td>1</td>\n      <td>11.4 x 3.6 x 13.5</td>\n      <td>NaN</td>\n      <td>M720s</td>\n      <td>1</td>\n      <td>NaN</td>\n      <td>NaN</td>\n      <td>TopSeller TC M720S SFF I5-9400 2.9G 8GB 256GB ...</td>\n    </tr>\n    <tr>\n      <th>1604</th>\n      <td>B0844KPGNF</td>\n      <td>NaN</td>\n      <td>1 9V batteries required. (included)</td>\n      <td>310265</td>\n      <td>Lenovo</td>\n      <td>NaN</td>\n      <td>NaN</td>\n      <td>Black</td>\n      <td>DDR4 SDRAM</td>\n      <td>NaN</td>\n      <td>...</td>\n      <td>NaN</td>\n      <td>Intel</td>\n      <td>4</td>\n      <td>12.95 x 8.94 x 0.7</td>\n      <td>NaN</td>\n      <td>T14</td>\n      <td>14</td>\n      <td>NaN</td>\n      <td>Bluetooth</td>\n      <td>Lenovo ThinkPad T14 Laptop - 14\" IPS FHD Touch...</td>\n    </tr>\n  </tbody>\n</table>\n<p>1605 rows × 37 columns</p>\n</div>"
     },
     "metadata": {},
     "execution_count": 250
    }
   ],
   "source": [
    "m_new = m_new.rename(columns={'name': 'Title'})\n",
    "m_new"
   ]
  },
  {
   "cell_type": "code",
   "execution_count": 251,
   "metadata": {},
   "outputs": [
    {
     "output_type": "stream",
     "name": "stdout",
     "text": [
      "ASIN\nBatterylife_hrs\nBatteries\nBest Sellers Rank\nBrand\nCard Description\nChipset Brand\nColor\nComputer Memory Type\nCust_reviews\nFirst_date_avai\nMemory_size\nGraphic_cardramsize\nGraphics Coprocessor\nHard_drive_interface\nHarddrive_rotaionalspeed\nHardware Platform\nItem_Dimension\nItem_weight\nItem model number\nMaxScreen_res\nMemory_speed\nNumber of USB 2.0 Ports\nNumber of USB 3.0 Ports\nOS\nOptical_drive_type\nPackage Dimensions\nPower Source\nProcessor Brand\nProcessor Count\nProd_dimension\nScreen Resolution\nSeries\nDisplay_size\nVoltage\nWireless_type\nTitle\n"
     ]
    }
   ],
   "source": [
    "for col in m_new.columns: \n",
    "    print(col) "
   ]
  },
  {
   "cell_type": "code",
   "execution_count": 252,
   "metadata": {},
   "outputs": [
    {
     "output_type": "execute_result",
     "data": {
      "text/plain": [
       "                                                  Title        ASIN  \\\n",
       "0     Lenovo IdeaPad 3 Intel i5-1035G1 Quad Core 12G...  B08NXSJVCR   \n",
       "1     Lenovo Chromebook S330 Laptop, 14-Inch FHD (19...  B07GLV1VC7   \n",
       "2     Acer Predator Helios 300 Gaming Laptop, Intel ...  B08842D7JS   \n",
       "3     HP Stream 14-inch Laptop, Intel Celeron N4000,...  B084SKWC89   \n",
       "4     HP Chromebook 11-inch Laptop - Up to 15 Hour B...  B08H6YZY3Y   \n",
       "...                                                 ...         ...   \n",
       "1600  Lenovo ThinkPad T470s Laptop Computer 14 Inch ...  B077SX1YRJ   \n",
       "1601  MSI Creator 15 A10SET-052 15.6\" FHD Finger Tou...  B08L56FVR3   \n",
       "1602  Dell Latitude 5410 14\" Notebook - Full HD - 19...  B08L8KW3ZM   \n",
       "1603  TopSeller TC M720S SFF I5-9400 2.9G 8GB 256GB ...  B082RD3STD   \n",
       "1604  Lenovo ThinkPad T14 Laptop - 14\" IPS FHD Touch...  B0844KPGNF   \n",
       "\n",
       "     Batterylife_hrs                                         Batteries  \\\n",
       "0                NaN  1 Lithium Polymer batteries required. (included)   \n",
       "1                10   1 Lithium Polymer batteries required. (included)   \n",
       "2                 6       1 Lithium ion batteries required. (included)   \n",
       "3                10     1 Lithium Metal batteries required. (included)   \n",
       "4             15.45   1 Lithium Polymer batteries required. (included)   \n",
       "...              ...                                               ...   \n",
       "1600             NaN                                               NaN   \n",
       "1601             NaN                                               NaN   \n",
       "1602             NaN                                               NaN   \n",
       "1603             NaN                                               NaN   \n",
       "1604             NaN               1 9V batteries required. (included)   \n",
       "\n",
       "     Best Sellers Rank       Brand Card Description Chipset Brand  \\\n",
       "0                  212      Lenovo        Dedicated         Intel   \n",
       "1                  372      Lenovo       Integrated         Intel   \n",
       "2                  146        Acer         RTX 2060        NVIDIA   \n",
       "3                  669          HP       Integrated         Intel   \n",
       "4                 2997          HP       Integrated      MediaTek   \n",
       "...                ...         ...              ...           ...   \n",
       "1600            119586  Oemgenuine       Integrated         Intel   \n",
       "1601               NaN         MSI        Dedicated        NVIDIA   \n",
       "1602            579675        Dell       Integrated         Intel   \n",
       "1603             47707      Lenovo       Integrated         Intel   \n",
       "1604            310265      Lenovo              NaN           NaN   \n",
       "\n",
       "                                   Color Computer Memory Type  ...  \\\n",
       "0                          Platinum Grey           DDR4 SDRAM  ...   \n",
       "1                         Business Black              Unknown  ...   \n",
       "2                                    NaN           DDR4 SDRAM  ...   \n",
       "3                             Royal Blue           DDR4 SDRAM  ...   \n",
       "4                             Snow White                SDRAM  ...   \n",
       "...                                  ...                  ...  ...   \n",
       "1600                               Black               SODIMM  ...   \n",
       "1601  Space Gray with Silver Diamond cut                  NaN  ...   \n",
       "1602                                 NaN                  NaN  ...   \n",
       "1603                               Black              Unknown  ...   \n",
       "1604                               Black           DDR4 SDRAM  ...   \n",
       "\n",
       "         Power Source     Power Source Processor Brand Processor Count  \\\n",
       "0        AC & Battery     AC & Battery           Intel               2   \n",
       "1     Battery Powered  Battery Powered        Mediatek               4   \n",
       "2     Battery Powered  Battery Powered           Intel               6   \n",
       "3     Battery Powered  Battery Powered           Intel               2   \n",
       "4     Battery Powered  Battery Powered        MediaTek               8   \n",
       "...               ...              ...             ...             ...   \n",
       "1600  Battery Powered  Battery Powered           Intel               2   \n",
       "1601              NaN              NaN           Intel               8   \n",
       "1602  Battery Powered  Battery Powered           Intel               1   \n",
       "1603              NaN              NaN           Intel               1   \n",
       "1604              NaN              NaN           Intel               4   \n",
       "\n",
       "            Prod_dimension Screen Resolution                 Series  \\\n",
       "0     14.26 x 9.98 x 0.78           1366x768         Lenovo Ideapad   \n",
       "1     12.82 x 0.82 x 9.15                NaN           Ideapad S330   \n",
       "2     14.31 x 10.04 x 0.9                NaN          PH315-53-72XD   \n",
       "3       13.27 x 8.9 x 0.7                NaN          Stream Laptop   \n",
       "4     7.59 x 11.22 x 0.66                NaN       HP 11 Chromebook   \n",
       "...                    ...               ...                    ...   \n",
       "1600  13.03 x 0.67 x 8.93                NaN         ThinkPad T470s   \n",
       "1601                   NaN               NaN  Creator 15 A10SET-052   \n",
       "1602   8.5 x 12.72 x 0.83                NaN                  M2HJR   \n",
       "1603    11.4 x 3.6 x 13.5                NaN                  M720s   \n",
       "1604   12.95 x 8.94 x 0.7                NaN                    T14   \n",
       "\n",
       "     Display_size    Voltage                Wireless_type  \n",
       "0           15.6         NaN                      802.11a  \n",
       "1             14         NaN                     802.11ac  \n",
       "2           15.6   220 volts                     802.11ax  \n",
       "3             14         NaN  802.11a/b/g/n/ac, Bluetooth  \n",
       "4           11.6         NaN  Bluetooth, 802.11a/b/g/n/ac  \n",
       "...           ...        ...                          ...  \n",
       "1600          14         NaN                     802.11ac  \n",
       "1601        15.6         NaN                          NaN  \n",
       "1602          14         NaN                    Bluetooth  \n",
       "1603           1         NaN                          NaN  \n",
       "1604          14         NaN                    Bluetooth  \n",
       "\n",
       "[1605 rows x 38 columns]"
      ],
      "text/html": "<div>\n<style scoped>\n    .dataframe tbody tr th:only-of-type {\n        vertical-align: middle;\n    }\n\n    .dataframe tbody tr th {\n        vertical-align: top;\n    }\n\n    .dataframe thead th {\n        text-align: right;\n    }\n</style>\n<table border=\"1\" class=\"dataframe\">\n  <thead>\n    <tr style=\"text-align: right;\">\n      <th></th>\n      <th>Title</th>\n      <th>ASIN</th>\n      <th>Batterylife_hrs</th>\n      <th>Batteries</th>\n      <th>Best Sellers Rank</th>\n      <th>Brand</th>\n      <th>Card Description</th>\n      <th>Chipset Brand</th>\n      <th>Color</th>\n      <th>Computer Memory Type</th>\n      <th>...</th>\n      <th>Power Source</th>\n      <th>Power Source</th>\n      <th>Processor Brand</th>\n      <th>Processor Count</th>\n      <th>Prod_dimension</th>\n      <th>Screen Resolution</th>\n      <th>Series</th>\n      <th>Display_size</th>\n      <th>Voltage</th>\n      <th>Wireless_type</th>\n    </tr>\n  </thead>\n  <tbody>\n    <tr>\n      <th>0</th>\n      <td>Lenovo IdeaPad 3 Intel i5-1035G1 Quad Core 12G...</td>\n      <td>B08NXSJVCR</td>\n      <td>NaN</td>\n      <td>1 Lithium Polymer batteries required. (included)</td>\n      <td>212</td>\n      <td>Lenovo</td>\n      <td>Dedicated</td>\n      <td>Intel</td>\n      <td>Platinum Grey</td>\n      <td>DDR4 SDRAM</td>\n      <td>...</td>\n      <td>AC &amp; Battery</td>\n      <td>AC &amp; Battery</td>\n      <td>Intel</td>\n      <td>2</td>\n      <td>14.26 x 9.98 x 0.78</td>\n      <td>1366x768</td>\n      <td>Lenovo Ideapad</td>\n      <td>15.6</td>\n      <td>NaN</td>\n      <td>802.11a</td>\n    </tr>\n    <tr>\n      <th>1</th>\n      <td>Lenovo Chromebook S330 Laptop, 14-Inch FHD (19...</td>\n      <td>B07GLV1VC7</td>\n      <td>10</td>\n      <td>1 Lithium Polymer batteries required. (included)</td>\n      <td>372</td>\n      <td>Lenovo</td>\n      <td>Integrated</td>\n      <td>Intel</td>\n      <td>Business Black</td>\n      <td>Unknown</td>\n      <td>...</td>\n      <td>Battery Powered</td>\n      <td>Battery Powered</td>\n      <td>Mediatek</td>\n      <td>4</td>\n      <td>12.82 x 0.82 x 9.15</td>\n      <td>NaN</td>\n      <td>Ideapad S330</td>\n      <td>14</td>\n      <td>NaN</td>\n      <td>802.11ac</td>\n    </tr>\n    <tr>\n      <th>2</th>\n      <td>Acer Predator Helios 300 Gaming Laptop, Intel ...</td>\n      <td>B08842D7JS</td>\n      <td>6</td>\n      <td>1 Lithium ion batteries required. (included)</td>\n      <td>146</td>\n      <td>Acer</td>\n      <td>RTX 2060</td>\n      <td>NVIDIA</td>\n      <td>NaN</td>\n      <td>DDR4 SDRAM</td>\n      <td>...</td>\n      <td>Battery Powered</td>\n      <td>Battery Powered</td>\n      <td>Intel</td>\n      <td>6</td>\n      <td>14.31 x 10.04 x 0.9</td>\n      <td>NaN</td>\n      <td>PH315-53-72XD</td>\n      <td>15.6</td>\n      <td>220 volts</td>\n      <td>802.11ax</td>\n    </tr>\n    <tr>\n      <th>3</th>\n      <td>HP Stream 14-inch Laptop, Intel Celeron N4000,...</td>\n      <td>B084SKWC89</td>\n      <td>10</td>\n      <td>1 Lithium Metal batteries required. (included)</td>\n      <td>669</td>\n      <td>HP</td>\n      <td>Integrated</td>\n      <td>Intel</td>\n      <td>Royal Blue</td>\n      <td>DDR4 SDRAM</td>\n      <td>...</td>\n      <td>Battery Powered</td>\n      <td>Battery Powered</td>\n      <td>Intel</td>\n      <td>2</td>\n      <td>13.27 x 8.9 x 0.7</td>\n      <td>NaN</td>\n      <td>Stream Laptop</td>\n      <td>14</td>\n      <td>NaN</td>\n      <td>802.11a/b/g/n/ac, Bluetooth</td>\n    </tr>\n    <tr>\n      <th>4</th>\n      <td>HP Chromebook 11-inch Laptop - Up to 15 Hour B...</td>\n      <td>B08H6YZY3Y</td>\n      <td>15.45</td>\n      <td>1 Lithium Polymer batteries required. (included)</td>\n      <td>2997</td>\n      <td>HP</td>\n      <td>Integrated</td>\n      <td>MediaTek</td>\n      <td>Snow White</td>\n      <td>SDRAM</td>\n      <td>...</td>\n      <td>Battery Powered</td>\n      <td>Battery Powered</td>\n      <td>MediaTek</td>\n      <td>8</td>\n      <td>7.59 x 11.22 x 0.66</td>\n      <td>NaN</td>\n      <td>HP 11 Chromebook</td>\n      <td>11.6</td>\n      <td>NaN</td>\n      <td>Bluetooth, 802.11a/b/g/n/ac</td>\n    </tr>\n    <tr>\n      <th>...</th>\n      <td>...</td>\n      <td>...</td>\n      <td>...</td>\n      <td>...</td>\n      <td>...</td>\n      <td>...</td>\n      <td>...</td>\n      <td>...</td>\n      <td>...</td>\n      <td>...</td>\n      <td>...</td>\n      <td>...</td>\n      <td>...</td>\n      <td>...</td>\n      <td>...</td>\n      <td>...</td>\n      <td>...</td>\n      <td>...</td>\n      <td>...</td>\n      <td>...</td>\n      <td>...</td>\n    </tr>\n    <tr>\n      <th>1600</th>\n      <td>Lenovo ThinkPad T470s Laptop Computer 14 Inch ...</td>\n      <td>B077SX1YRJ</td>\n      <td>NaN</td>\n      <td>NaN</td>\n      <td>119586</td>\n      <td>Oemgenuine</td>\n      <td>Integrated</td>\n      <td>Intel</td>\n      <td>Black</td>\n      <td>SODIMM</td>\n      <td>...</td>\n      <td>Battery Powered</td>\n      <td>Battery Powered</td>\n      <td>Intel</td>\n      <td>2</td>\n      <td>13.03 x 0.67 x 8.93</td>\n      <td>NaN</td>\n      <td>ThinkPad T470s</td>\n      <td>14</td>\n      <td>NaN</td>\n      <td>802.11ac</td>\n    </tr>\n    <tr>\n      <th>1601</th>\n      <td>MSI Creator 15 A10SET-052 15.6\" FHD Finger Tou...</td>\n      <td>B08L56FVR3</td>\n      <td>NaN</td>\n      <td>NaN</td>\n      <td>NaN</td>\n      <td>MSI</td>\n      <td>Dedicated</td>\n      <td>NVIDIA</td>\n      <td>Space Gray with Silver Diamond cut</td>\n      <td>NaN</td>\n      <td>...</td>\n      <td>NaN</td>\n      <td>NaN</td>\n      <td>Intel</td>\n      <td>8</td>\n      <td>NaN</td>\n      <td>NaN</td>\n      <td>Creator 15 A10SET-052</td>\n      <td>15.6</td>\n      <td>NaN</td>\n      <td>NaN</td>\n    </tr>\n    <tr>\n      <th>1602</th>\n      <td>Dell Latitude 5410 14\" Notebook - Full HD - 19...</td>\n      <td>B08L8KW3ZM</td>\n      <td>NaN</td>\n      <td>NaN</td>\n      <td>579675</td>\n      <td>Dell</td>\n      <td>Integrated</td>\n      <td>Intel</td>\n      <td>NaN</td>\n      <td>NaN</td>\n      <td>...</td>\n      <td>Battery Powered</td>\n      <td>Battery Powered</td>\n      <td>Intel</td>\n      <td>1</td>\n      <td>8.5 x 12.72 x 0.83</td>\n      <td>NaN</td>\n      <td>M2HJR</td>\n      <td>14</td>\n      <td>NaN</td>\n      <td>Bluetooth</td>\n    </tr>\n    <tr>\n      <th>1603</th>\n      <td>TopSeller TC M720S SFF I5-9400 2.9G 8GB 256GB ...</td>\n      <td>B082RD3STD</td>\n      <td>NaN</td>\n      <td>NaN</td>\n      <td>47707</td>\n      <td>Lenovo</td>\n      <td>Integrated</td>\n      <td>Intel</td>\n      <td>Black</td>\n      <td>Unknown</td>\n      <td>...</td>\n      <td>NaN</td>\n      <td>NaN</td>\n      <td>Intel</td>\n      <td>1</td>\n      <td>11.4 x 3.6 x 13.5</td>\n      <td>NaN</td>\n      <td>M720s</td>\n      <td>1</td>\n      <td>NaN</td>\n      <td>NaN</td>\n    </tr>\n    <tr>\n      <th>1604</th>\n      <td>Lenovo ThinkPad T14 Laptop - 14\" IPS FHD Touch...</td>\n      <td>B0844KPGNF</td>\n      <td>NaN</td>\n      <td>1 9V batteries required. (included)</td>\n      <td>310265</td>\n      <td>Lenovo</td>\n      <td>NaN</td>\n      <td>NaN</td>\n      <td>Black</td>\n      <td>DDR4 SDRAM</td>\n      <td>...</td>\n      <td>NaN</td>\n      <td>NaN</td>\n      <td>Intel</td>\n      <td>4</td>\n      <td>12.95 x 8.94 x 0.7</td>\n      <td>NaN</td>\n      <td>T14</td>\n      <td>14</td>\n      <td>NaN</td>\n      <td>Bluetooth</td>\n    </tr>\n  </tbody>\n</table>\n<p>1605 rows × 38 columns</p>\n</div>"
     },
     "metadata": {},
     "execution_count": 252
    }
   ],
   "source": [
    "m_new = m_new[['Title', 'ASIN', 'Batterylife_hrs', 'Batteries', 'Best Sellers Rank', 'Brand', 'Card Description','Chipset Brand', 'Color', 'Computer Memory Type', 'Cust_reviews', 'First_date_avai', 'Memory_size', 'Graphic_cardramsize', 'Graphics Coprocessor', 'Hard_drive_interface', 'Harddrive_rotaionalspeed', 'Hardware Platform', 'Item_Dimension','Item_weight', 'Item model number', 'MaxScreen_res', 'Memory_speed', 'Number of USB 2.0 Ports', 'Number of USB 3.0 Ports', 'OS', 'Optical_drive_type', 'Package Dimensions', 'Power Source', 'Power Source', 'Processor Brand', 'Processor Count', 'Prod_dimension', 'Screen Resolution', 'Series', 'Display_size', 'Voltage', 'Wireless_type']]\n",
    "m_new"
   ]
  },
  {
   "cell_type": "code",
   "execution_count": 253,
   "metadata": {},
   "outputs": [
    {
     "output_type": "execute_result",
     "data": {
      "text/plain": [
       "                                                  Title        ASIN  \\\n",
       "0     Lenovo IdeaPad 3 Intel i5-1035G1 Quad Core 12G...  B08NXSJVCR   \n",
       "1     Lenovo Chromebook S330 Laptop, 14-Inch FHD (19...  B07GLV1VC7   \n",
       "2     Acer Predator Helios 300 Gaming Laptop, Intel ...  B08842D7JS   \n",
       "3     HP Stream 14-inch Laptop, Intel Celeron N4000,...  B084SKWC89   \n",
       "4     HP Chromebook 11-inch Laptop - Up to 15 Hour B...  B08H6YZY3Y   \n",
       "...                                                 ...         ...   \n",
       "1600  Lenovo ThinkPad T470s Laptop Computer 14 Inch ...  B077SX1YRJ   \n",
       "1601  MSI Creator 15 A10SET-052 15.6\" FHD Finger Tou...  B08L56FVR3   \n",
       "1602  Dell Latitude 5410 14\" Notebook - Full HD - 19...  B08L8KW3ZM   \n",
       "1603  TopSeller TC M720S SFF I5-9400 2.9G 8GB 256GB ...  B082RD3STD   \n",
       "1604  Lenovo ThinkPad T14 Laptop - 14\" IPS FHD Touch...  B0844KPGNF   \n",
       "\n",
       "     Batterylife_hrs                                         Batteries  \\\n",
       "0                NaN  1 Lithium Polymer batteries required. (included)   \n",
       "1                10   1 Lithium Polymer batteries required. (included)   \n",
       "2                 6       1 Lithium ion batteries required. (included)   \n",
       "3                10     1 Lithium Metal batteries required. (included)   \n",
       "4             15.45   1 Lithium Polymer batteries required. (included)   \n",
       "...              ...                                               ...   \n",
       "1600             NaN                                               NaN   \n",
       "1601             NaN                                               NaN   \n",
       "1602             NaN                                               NaN   \n",
       "1603             NaN                                               NaN   \n",
       "1604             NaN               1 9V batteries required. (included)   \n",
       "\n",
       "     Best Sellers Rank       Brand Card Description  \\\n",
       "0                  212      Lenovo        Dedicated   \n",
       "1                  372      Lenovo       Integrated   \n",
       "2                  146        Acer         RTX 2060   \n",
       "3                  669          HP       Integrated   \n",
       "4                 2997          HP       Integrated   \n",
       "...                ...         ...              ...   \n",
       "1600            119586  Oemgenuine       Integrated   \n",
       "1601               NaN         MSI        Dedicated   \n",
       "1602            579675        Dell       Integrated   \n",
       "1603             47707      Lenovo       Integrated   \n",
       "1604            310265      Lenovo              NaN   \n",
       "\n",
       "                                   Color Computer Memory Type First_date_avai  \\\n",
       "0                          Platinum Grey           DDR4 SDRAM      2020-11-20   \n",
       "1                         Business Black              Unknown      2018-08-09   \n",
       "2                                    NaN           DDR4 SDRAM      2020-06-16   \n",
       "3                             Royal Blue           DDR4 SDRAM      2020-03-01   \n",
       "4                             Snow White                SDRAM      2020-10-04   \n",
       "...                                  ...                  ...             ...   \n",
       "1600                               Black               SODIMM      2017-03-30   \n",
       "1601  Space Gray with Silver Diamond cut                  NaN      2020-10-13   \n",
       "1602                                 NaN                  NaN      2020-10-16   \n",
       "1603                               Black              Unknown      2019-12-14   \n",
       "1604                               Black           DDR4 SDRAM      2020-01-22   \n",
       "\n",
       "      ... Memory_speed                      OS     Power Source  \\\n",
       "0     ...         3.9               Windows 10     AC & Battery   \n",
       "1     ...          NaN               Chrome OS  Battery Powered   \n",
       "2     ...     2933 MHz         Windows 10 Home  Battery Powered   \n",
       "3     ...         2.6          Windows 10 Home  Battery Powered   \n",
       "4     ...          NaN               Chrome OS  Battery Powered   \n",
       "...   ...          ...                     ...              ...   \n",
       "1600  ...     2400 MHz  Win 7 Pro / Win 10 Pro  Battery Powered   \n",
       "1601  ...     2666 MHz          Windows 10 Pro              NaN   \n",
       "1602  ...          NaN          Windows 10 Pro  Battery Powered   \n",
       "1603  ...          NaN          Windows 10 Pro              NaN   \n",
       "1604  ...         1.8           Windows 10 Pro              NaN   \n",
       "\n",
       "         Power Source Processor Brand Processor Count        Prod_dimension  \\\n",
       "0        AC & Battery           Intel               2  14.26 x 9.98 x 0.78    \n",
       "1     Battery Powered        Mediatek               4  12.82 x 0.82 x 9.15    \n",
       "2     Battery Powered           Intel               6  14.31 x 10.04 x 0.9    \n",
       "3     Battery Powered           Intel               2    13.27 x 8.9 x 0.7    \n",
       "4     Battery Powered        MediaTek               8  7.59 x 11.22 x 0.66    \n",
       "...               ...             ...             ...                   ...   \n",
       "1600  Battery Powered           Intel               2  13.03 x 0.67 x 8.93    \n",
       "1601              NaN           Intel               8                   NaN   \n",
       "1602  Battery Powered           Intel               1   8.5 x 12.72 x 0.83    \n",
       "1603              NaN           Intel               1    11.4 x 3.6 x 13.5    \n",
       "1604              NaN           Intel               4   12.95 x 8.94 x 0.7    \n",
       "\n",
       "     Screen Resolution                 Series Display_size  \n",
       "0             1366x768         Lenovo Ideapad        15.6   \n",
       "1                  NaN           Ideapad S330          14   \n",
       "2                  NaN          PH315-53-72XD        15.6   \n",
       "3                  NaN          Stream Laptop          14   \n",
       "4                  NaN       HP 11 Chromebook        11.6   \n",
       "...                ...                    ...          ...  \n",
       "1600               NaN         ThinkPad T470s          14   \n",
       "1601               NaN  Creator 15 A10SET-052        15.6   \n",
       "1602               NaN                  M2HJR          14   \n",
       "1603               NaN                  M720s           1   \n",
       "1604               NaN                    T14          14   \n",
       "\n",
       "[1605 rows x 27 columns]"
      ],
      "text/html": "<div>\n<style scoped>\n    .dataframe tbody tr th:only-of-type {\n        vertical-align: middle;\n    }\n\n    .dataframe tbody tr th {\n        vertical-align: top;\n    }\n\n    .dataframe thead th {\n        text-align: right;\n    }\n</style>\n<table border=\"1\" class=\"dataframe\">\n  <thead>\n    <tr style=\"text-align: right;\">\n      <th></th>\n      <th>Title</th>\n      <th>ASIN</th>\n      <th>Batterylife_hrs</th>\n      <th>Batteries</th>\n      <th>Best Sellers Rank</th>\n      <th>Brand</th>\n      <th>Card Description</th>\n      <th>Color</th>\n      <th>Computer Memory Type</th>\n      <th>First_date_avai</th>\n      <th>...</th>\n      <th>Memory_speed</th>\n      <th>OS</th>\n      <th>Power Source</th>\n      <th>Power Source</th>\n      <th>Processor Brand</th>\n      <th>Processor Count</th>\n      <th>Prod_dimension</th>\n      <th>Screen Resolution</th>\n      <th>Series</th>\n      <th>Display_size</th>\n    </tr>\n  </thead>\n  <tbody>\n    <tr>\n      <th>0</th>\n      <td>Lenovo IdeaPad 3 Intel i5-1035G1 Quad Core 12G...</td>\n      <td>B08NXSJVCR</td>\n      <td>NaN</td>\n      <td>1 Lithium Polymer batteries required. (included)</td>\n      <td>212</td>\n      <td>Lenovo</td>\n      <td>Dedicated</td>\n      <td>Platinum Grey</td>\n      <td>DDR4 SDRAM</td>\n      <td>2020-11-20</td>\n      <td>...</td>\n      <td>3.9</td>\n      <td>Windows 10</td>\n      <td>AC &amp; Battery</td>\n      <td>AC &amp; Battery</td>\n      <td>Intel</td>\n      <td>2</td>\n      <td>14.26 x 9.98 x 0.78</td>\n      <td>1366x768</td>\n      <td>Lenovo Ideapad</td>\n      <td>15.6</td>\n    </tr>\n    <tr>\n      <th>1</th>\n      <td>Lenovo Chromebook S330 Laptop, 14-Inch FHD (19...</td>\n      <td>B07GLV1VC7</td>\n      <td>10</td>\n      <td>1 Lithium Polymer batteries required. (included)</td>\n      <td>372</td>\n      <td>Lenovo</td>\n      <td>Integrated</td>\n      <td>Business Black</td>\n      <td>Unknown</td>\n      <td>2018-08-09</td>\n      <td>...</td>\n      <td>NaN</td>\n      <td>Chrome OS</td>\n      <td>Battery Powered</td>\n      <td>Battery Powered</td>\n      <td>Mediatek</td>\n      <td>4</td>\n      <td>12.82 x 0.82 x 9.15</td>\n      <td>NaN</td>\n      <td>Ideapad S330</td>\n      <td>14</td>\n    </tr>\n    <tr>\n      <th>2</th>\n      <td>Acer Predator Helios 300 Gaming Laptop, Intel ...</td>\n      <td>B08842D7JS</td>\n      <td>6</td>\n      <td>1 Lithium ion batteries required. (included)</td>\n      <td>146</td>\n      <td>Acer</td>\n      <td>RTX 2060</td>\n      <td>NaN</td>\n      <td>DDR4 SDRAM</td>\n      <td>2020-06-16</td>\n      <td>...</td>\n      <td>2933 MHz</td>\n      <td>Windows 10 Home</td>\n      <td>Battery Powered</td>\n      <td>Battery Powered</td>\n      <td>Intel</td>\n      <td>6</td>\n      <td>14.31 x 10.04 x 0.9</td>\n      <td>NaN</td>\n      <td>PH315-53-72XD</td>\n      <td>15.6</td>\n    </tr>\n    <tr>\n      <th>3</th>\n      <td>HP Stream 14-inch Laptop, Intel Celeron N4000,...</td>\n      <td>B084SKWC89</td>\n      <td>10</td>\n      <td>1 Lithium Metal batteries required. (included)</td>\n      <td>669</td>\n      <td>HP</td>\n      <td>Integrated</td>\n      <td>Royal Blue</td>\n      <td>DDR4 SDRAM</td>\n      <td>2020-03-01</td>\n      <td>...</td>\n      <td>2.6</td>\n      <td>Windows 10 Home</td>\n      <td>Battery Powered</td>\n      <td>Battery Powered</td>\n      <td>Intel</td>\n      <td>2</td>\n      <td>13.27 x 8.9 x 0.7</td>\n      <td>NaN</td>\n      <td>Stream Laptop</td>\n      <td>14</td>\n    </tr>\n    <tr>\n      <th>4</th>\n      <td>HP Chromebook 11-inch Laptop - Up to 15 Hour B...</td>\n      <td>B08H6YZY3Y</td>\n      <td>15.45</td>\n      <td>1 Lithium Polymer batteries required. (included)</td>\n      <td>2997</td>\n      <td>HP</td>\n      <td>Integrated</td>\n      <td>Snow White</td>\n      <td>SDRAM</td>\n      <td>2020-10-04</td>\n      <td>...</td>\n      <td>NaN</td>\n      <td>Chrome OS</td>\n      <td>Battery Powered</td>\n      <td>Battery Powered</td>\n      <td>MediaTek</td>\n      <td>8</td>\n      <td>7.59 x 11.22 x 0.66</td>\n      <td>NaN</td>\n      <td>HP 11 Chromebook</td>\n      <td>11.6</td>\n    </tr>\n    <tr>\n      <th>...</th>\n      <td>...</td>\n      <td>...</td>\n      <td>...</td>\n      <td>...</td>\n      <td>...</td>\n      <td>...</td>\n      <td>...</td>\n      <td>...</td>\n      <td>...</td>\n      <td>...</td>\n      <td>...</td>\n      <td>...</td>\n      <td>...</td>\n      <td>...</td>\n      <td>...</td>\n      <td>...</td>\n      <td>...</td>\n      <td>...</td>\n      <td>...</td>\n      <td>...</td>\n      <td>...</td>\n    </tr>\n    <tr>\n      <th>1600</th>\n      <td>Lenovo ThinkPad T470s Laptop Computer 14 Inch ...</td>\n      <td>B077SX1YRJ</td>\n      <td>NaN</td>\n      <td>NaN</td>\n      <td>119586</td>\n      <td>Oemgenuine</td>\n      <td>Integrated</td>\n      <td>Black</td>\n      <td>SODIMM</td>\n      <td>2017-03-30</td>\n      <td>...</td>\n      <td>2400 MHz</td>\n      <td>Win 7 Pro / Win 10 Pro</td>\n      <td>Battery Powered</td>\n      <td>Battery Powered</td>\n      <td>Intel</td>\n      <td>2</td>\n      <td>13.03 x 0.67 x 8.93</td>\n      <td>NaN</td>\n      <td>ThinkPad T470s</td>\n      <td>14</td>\n    </tr>\n    <tr>\n      <th>1601</th>\n      <td>MSI Creator 15 A10SET-052 15.6\" FHD Finger Tou...</td>\n      <td>B08L56FVR3</td>\n      <td>NaN</td>\n      <td>NaN</td>\n      <td>NaN</td>\n      <td>MSI</td>\n      <td>Dedicated</td>\n      <td>Space Gray with Silver Diamond cut</td>\n      <td>NaN</td>\n      <td>2020-10-13</td>\n      <td>...</td>\n      <td>2666 MHz</td>\n      <td>Windows 10 Pro</td>\n      <td>NaN</td>\n      <td>NaN</td>\n      <td>Intel</td>\n      <td>8</td>\n      <td>NaN</td>\n      <td>NaN</td>\n      <td>Creator 15 A10SET-052</td>\n      <td>15.6</td>\n    </tr>\n    <tr>\n      <th>1602</th>\n      <td>Dell Latitude 5410 14\" Notebook - Full HD - 19...</td>\n      <td>B08L8KW3ZM</td>\n      <td>NaN</td>\n      <td>NaN</td>\n      <td>579675</td>\n      <td>Dell</td>\n      <td>Integrated</td>\n      <td>NaN</td>\n      <td>NaN</td>\n      <td>2020-10-16</td>\n      <td>...</td>\n      <td>NaN</td>\n      <td>Windows 10 Pro</td>\n      <td>Battery Powered</td>\n      <td>Battery Powered</td>\n      <td>Intel</td>\n      <td>1</td>\n      <td>8.5 x 12.72 x 0.83</td>\n      <td>NaN</td>\n      <td>M2HJR</td>\n      <td>14</td>\n    </tr>\n    <tr>\n      <th>1603</th>\n      <td>TopSeller TC M720S SFF I5-9400 2.9G 8GB 256GB ...</td>\n      <td>B082RD3STD</td>\n      <td>NaN</td>\n      <td>NaN</td>\n      <td>47707</td>\n      <td>Lenovo</td>\n      <td>Integrated</td>\n      <td>Black</td>\n      <td>Unknown</td>\n      <td>2019-12-14</td>\n      <td>...</td>\n      <td>NaN</td>\n      <td>Windows 10 Pro</td>\n      <td>NaN</td>\n      <td>NaN</td>\n      <td>Intel</td>\n      <td>1</td>\n      <td>11.4 x 3.6 x 13.5</td>\n      <td>NaN</td>\n      <td>M720s</td>\n      <td>1</td>\n    </tr>\n    <tr>\n      <th>1604</th>\n      <td>Lenovo ThinkPad T14 Laptop - 14\" IPS FHD Touch...</td>\n      <td>B0844KPGNF</td>\n      <td>NaN</td>\n      <td>1 9V batteries required. (included)</td>\n      <td>310265</td>\n      <td>Lenovo</td>\n      <td>NaN</td>\n      <td>Black</td>\n      <td>DDR4 SDRAM</td>\n      <td>2020-01-22</td>\n      <td>...</td>\n      <td>1.8</td>\n      <td>Windows 10 Pro</td>\n      <td>NaN</td>\n      <td>NaN</td>\n      <td>Intel</td>\n      <td>4</td>\n      <td>12.95 x 8.94 x 0.7</td>\n      <td>NaN</td>\n      <td>T14</td>\n      <td>14</td>\n    </tr>\n  </tbody>\n</table>\n<p>1605 rows × 27 columns</p>\n</div>"
     },
     "metadata": {},
     "execution_count": 253
    }
   ],
   "source": [
    "m_new = m_new.drop(['Chipset Brand', 'Cust_reviews', 'Graphic_cardramsize', 'Hard_drive_interface', 'Harddrive_rotaionalspeed', 'Number of USB 2.0 Ports', 'Number of USB 3.0 Ports', 'Optical_drive_type', 'Package Dimensions', 'Voltage', 'Wireless_type' ], axis = 1)\n",
    "m_new"
   ]
  },
  {
   "cell_type": "code",
   "execution_count": 254,
   "metadata": {},
   "outputs": [
    {
     "output_type": "execute_result",
     "data": {
      "text/plain": [
       "['Title',\n",
       " 'ASIN',\n",
       " 'Batterylife_hrs',\n",
       " 'Batteries',\n",
       " 'Best Sellers Rank',\n",
       " 'Brand',\n",
       " 'Card Description',\n",
       " 'Color',\n",
       " 'Computer Memory Type',\n",
       " 'First_date_avai',\n",
       " 'Memory_size',\n",
       " 'Graphics Coprocessor',\n",
       " 'Hardware Platform',\n",
       " 'Item_Dimension',\n",
       " 'Item_weight',\n",
       " 'Item model number',\n",
       " 'MaxScreen_res',\n",
       " 'Memory_speed',\n",
       " 'OS',\n",
       " 'Power Source',\n",
       " 'Power Source',\n",
       " 'Processor Brand',\n",
       " 'Processor Count',\n",
       " 'Prod_dimension',\n",
       " 'Screen Resolution',\n",
       " 'Series',\n",
       " 'Display_size']"
      ]
     },
     "metadata": {},
     "execution_count": 254
    }
   ],
   "source": [
    "list(m_new.columns)"
   ]
  },
  {
   "cell_type": "code",
   "execution_count": 255,
   "metadata": {},
   "outputs": [
    {
     "output_type": "execute_result",
     "data": {
      "text/plain": [
       "                                                  Title        ASIN  \\\n",
       "0     Lenovo IdeaPad 3 Intel i5-1035G1 Quad Core 12G...  B08NXSJVCR   \n",
       "1     Lenovo Chromebook S330 Laptop, 14-Inch FHD (19...  B07GLV1VC7   \n",
       "2     Acer Predator Helios 300 Gaming Laptop, Intel ...  B08842D7JS   \n",
       "3     HP Stream 14-inch Laptop, Intel Celeron N4000,...  B084SKWC89   \n",
       "4     HP Chromebook 11-inch Laptop - Up to 15 Hour B...  B08H6YZY3Y   \n",
       "...                                                 ...         ...   \n",
       "1600  Lenovo ThinkPad T470s Laptop Computer 14 Inch ...  B077SX1YRJ   \n",
       "1601  MSI Creator 15 A10SET-052 15.6\" FHD Finger Tou...  B08L56FVR3   \n",
       "1602  Dell Latitude 5410 14\" Notebook - Full HD - 19...  B08L8KW3ZM   \n",
       "1603  TopSeller TC M720S SFF I5-9400 2.9G 8GB 256GB ...  B082RD3STD   \n",
       "1604  Lenovo ThinkPad T14 Laptop - 14\" IPS FHD Touch...  B0844KPGNF   \n",
       "\n",
       "     Batterylife_hrs                                         Batteries  \\\n",
       "0                NaN  1 Lithium Polymer batteries required. (included)   \n",
       "1                10   1 Lithium Polymer batteries required. (included)   \n",
       "2                 6       1 Lithium ion batteries required. (included)   \n",
       "3                10     1 Lithium Metal batteries required. (included)   \n",
       "4             15.45   1 Lithium Polymer batteries required. (included)   \n",
       "...              ...                                               ...   \n",
       "1600             NaN                                               NaN   \n",
       "1601             NaN                                               NaN   \n",
       "1602             NaN                                               NaN   \n",
       "1603             NaN                                               NaN   \n",
       "1604             NaN               1 9V batteries required. (included)   \n",
       "\n",
       "     Best_seller_rank       Brand Card_Description  \\\n",
       "0                 212      Lenovo        Dedicated   \n",
       "1                 372      Lenovo       Integrated   \n",
       "2                 146        Acer         RTX 2060   \n",
       "3                 669          HP       Integrated   \n",
       "4                2997          HP       Integrated   \n",
       "...               ...         ...              ...   \n",
       "1600           119586  Oemgenuine       Integrated   \n",
       "1601              NaN         MSI        Dedicated   \n",
       "1602           579675        Dell       Integrated   \n",
       "1603            47707      Lenovo       Integrated   \n",
       "1604           310265      Lenovo              NaN   \n",
       "\n",
       "                                   Color Comp_memory_type First_date_avai  \\\n",
       "0                          Platinum Grey       DDR4 SDRAM      2020-11-20   \n",
       "1                         Business Black          Unknown      2018-08-09   \n",
       "2                                    NaN       DDR4 SDRAM      2020-06-16   \n",
       "3                             Royal Blue       DDR4 SDRAM      2020-03-01   \n",
       "4                             Snow White            SDRAM      2020-10-04   \n",
       "...                                  ...              ...             ...   \n",
       "1600                               Black           SODIMM      2017-03-30   \n",
       "1601  Space Gray with Silver Diamond cut              NaN      2020-10-13   \n",
       "1602                                 NaN              NaN      2020-10-16   \n",
       "1603                               Black          Unknown      2019-12-14   \n",
       "1604                               Black       DDR4 SDRAM      2020-01-22   \n",
       "\n",
       "      ... Memory_speed                      OS     Power_source  \\\n",
       "0     ...         3.9               Windows 10     AC & Battery   \n",
       "1     ...          NaN               Chrome OS  Battery Powered   \n",
       "2     ...     2933 MHz         Windows 10 Home  Battery Powered   \n",
       "3     ...         2.6          Windows 10 Home  Battery Powered   \n",
       "4     ...          NaN               Chrome OS  Battery Powered   \n",
       "...   ...          ...                     ...              ...   \n",
       "1600  ...     2400 MHz  Win 7 Pro / Win 10 Pro  Battery Powered   \n",
       "1601  ...     2666 MHz          Windows 10 Pro              NaN   \n",
       "1602  ...          NaN          Windows 10 Pro  Battery Powered   \n",
       "1603  ...          NaN          Windows 10 Pro              NaN   \n",
       "1604  ...         1.8           Windows 10 Pro              NaN   \n",
       "\n",
       "         Power_source Processor_brand Processor_count        Prod_dimension  \\\n",
       "0        AC & Battery           Intel               2  14.26 x 9.98 x 0.78    \n",
       "1     Battery Powered        Mediatek               4  12.82 x 0.82 x 9.15    \n",
       "2     Battery Powered           Intel               6  14.31 x 10.04 x 0.9    \n",
       "3     Battery Powered           Intel               2    13.27 x 8.9 x 0.7    \n",
       "4     Battery Powered        MediaTek               8  7.59 x 11.22 x 0.66    \n",
       "...               ...             ...             ...                   ...   \n",
       "1600  Battery Powered           Intel               2  13.03 x 0.67 x 8.93    \n",
       "1601              NaN           Intel               8                   NaN   \n",
       "1602  Battery Powered           Intel               1   8.5 x 12.72 x 0.83    \n",
       "1603              NaN           Intel               1    11.4 x 3.6 x 13.5    \n",
       "1604              NaN           Intel               4   12.95 x 8.94 x 0.7    \n",
       "\n",
       "     Screen_resolution                 Series Display_size  \n",
       "0             1366x768         Lenovo Ideapad        15.6   \n",
       "1                  NaN           Ideapad S330          14   \n",
       "2                  NaN          PH315-53-72XD        15.6   \n",
       "3                  NaN          Stream Laptop          14   \n",
       "4                  NaN       HP 11 Chromebook        11.6   \n",
       "...                ...                    ...          ...  \n",
       "1600               NaN         ThinkPad T470s          14   \n",
       "1601               NaN  Creator 15 A10SET-052        15.6   \n",
       "1602               NaN                  M2HJR          14   \n",
       "1603               NaN                  M720s           1   \n",
       "1604               NaN                    T14          14   \n",
       "\n",
       "[1605 rows x 27 columns]"
      ],
      "text/html": "<div>\n<style scoped>\n    .dataframe tbody tr th:only-of-type {\n        vertical-align: middle;\n    }\n\n    .dataframe tbody tr th {\n        vertical-align: top;\n    }\n\n    .dataframe thead th {\n        text-align: right;\n    }\n</style>\n<table border=\"1\" class=\"dataframe\">\n  <thead>\n    <tr style=\"text-align: right;\">\n      <th></th>\n      <th>Title</th>\n      <th>ASIN</th>\n      <th>Batterylife_hrs</th>\n      <th>Batteries</th>\n      <th>Best_seller_rank</th>\n      <th>Brand</th>\n      <th>Card_Description</th>\n      <th>Color</th>\n      <th>Comp_memory_type</th>\n      <th>First_date_avai</th>\n      <th>...</th>\n      <th>Memory_speed</th>\n      <th>OS</th>\n      <th>Power_source</th>\n      <th>Power_source</th>\n      <th>Processor_brand</th>\n      <th>Processor_count</th>\n      <th>Prod_dimension</th>\n      <th>Screen_resolution</th>\n      <th>Series</th>\n      <th>Display_size</th>\n    </tr>\n  </thead>\n  <tbody>\n    <tr>\n      <th>0</th>\n      <td>Lenovo IdeaPad 3 Intel i5-1035G1 Quad Core 12G...</td>\n      <td>B08NXSJVCR</td>\n      <td>NaN</td>\n      <td>1 Lithium Polymer batteries required. (included)</td>\n      <td>212</td>\n      <td>Lenovo</td>\n      <td>Dedicated</td>\n      <td>Platinum Grey</td>\n      <td>DDR4 SDRAM</td>\n      <td>2020-11-20</td>\n      <td>...</td>\n      <td>3.9</td>\n      <td>Windows 10</td>\n      <td>AC &amp; Battery</td>\n      <td>AC &amp; Battery</td>\n      <td>Intel</td>\n      <td>2</td>\n      <td>14.26 x 9.98 x 0.78</td>\n      <td>1366x768</td>\n      <td>Lenovo Ideapad</td>\n      <td>15.6</td>\n    </tr>\n    <tr>\n      <th>1</th>\n      <td>Lenovo Chromebook S330 Laptop, 14-Inch FHD (19...</td>\n      <td>B07GLV1VC7</td>\n      <td>10</td>\n      <td>1 Lithium Polymer batteries required. (included)</td>\n      <td>372</td>\n      <td>Lenovo</td>\n      <td>Integrated</td>\n      <td>Business Black</td>\n      <td>Unknown</td>\n      <td>2018-08-09</td>\n      <td>...</td>\n      <td>NaN</td>\n      <td>Chrome OS</td>\n      <td>Battery Powered</td>\n      <td>Battery Powered</td>\n      <td>Mediatek</td>\n      <td>4</td>\n      <td>12.82 x 0.82 x 9.15</td>\n      <td>NaN</td>\n      <td>Ideapad S330</td>\n      <td>14</td>\n    </tr>\n    <tr>\n      <th>2</th>\n      <td>Acer Predator Helios 300 Gaming Laptop, Intel ...</td>\n      <td>B08842D7JS</td>\n      <td>6</td>\n      <td>1 Lithium ion batteries required. (included)</td>\n      <td>146</td>\n      <td>Acer</td>\n      <td>RTX 2060</td>\n      <td>NaN</td>\n      <td>DDR4 SDRAM</td>\n      <td>2020-06-16</td>\n      <td>...</td>\n      <td>2933 MHz</td>\n      <td>Windows 10 Home</td>\n      <td>Battery Powered</td>\n      <td>Battery Powered</td>\n      <td>Intel</td>\n      <td>6</td>\n      <td>14.31 x 10.04 x 0.9</td>\n      <td>NaN</td>\n      <td>PH315-53-72XD</td>\n      <td>15.6</td>\n    </tr>\n    <tr>\n      <th>3</th>\n      <td>HP Stream 14-inch Laptop, Intel Celeron N4000,...</td>\n      <td>B084SKWC89</td>\n      <td>10</td>\n      <td>1 Lithium Metal batteries required. (included)</td>\n      <td>669</td>\n      <td>HP</td>\n      <td>Integrated</td>\n      <td>Royal Blue</td>\n      <td>DDR4 SDRAM</td>\n      <td>2020-03-01</td>\n      <td>...</td>\n      <td>2.6</td>\n      <td>Windows 10 Home</td>\n      <td>Battery Powered</td>\n      <td>Battery Powered</td>\n      <td>Intel</td>\n      <td>2</td>\n      <td>13.27 x 8.9 x 0.7</td>\n      <td>NaN</td>\n      <td>Stream Laptop</td>\n      <td>14</td>\n    </tr>\n    <tr>\n      <th>4</th>\n      <td>HP Chromebook 11-inch Laptop - Up to 15 Hour B...</td>\n      <td>B08H6YZY3Y</td>\n      <td>15.45</td>\n      <td>1 Lithium Polymer batteries required. (included)</td>\n      <td>2997</td>\n      <td>HP</td>\n      <td>Integrated</td>\n      <td>Snow White</td>\n      <td>SDRAM</td>\n      <td>2020-10-04</td>\n      <td>...</td>\n      <td>NaN</td>\n      <td>Chrome OS</td>\n      <td>Battery Powered</td>\n      <td>Battery Powered</td>\n      <td>MediaTek</td>\n      <td>8</td>\n      <td>7.59 x 11.22 x 0.66</td>\n      <td>NaN</td>\n      <td>HP 11 Chromebook</td>\n      <td>11.6</td>\n    </tr>\n    <tr>\n      <th>...</th>\n      <td>...</td>\n      <td>...</td>\n      <td>...</td>\n      <td>...</td>\n      <td>...</td>\n      <td>...</td>\n      <td>...</td>\n      <td>...</td>\n      <td>...</td>\n      <td>...</td>\n      <td>...</td>\n      <td>...</td>\n      <td>...</td>\n      <td>...</td>\n      <td>...</td>\n      <td>...</td>\n      <td>...</td>\n      <td>...</td>\n      <td>...</td>\n      <td>...</td>\n      <td>...</td>\n    </tr>\n    <tr>\n      <th>1600</th>\n      <td>Lenovo ThinkPad T470s Laptop Computer 14 Inch ...</td>\n      <td>B077SX1YRJ</td>\n      <td>NaN</td>\n      <td>NaN</td>\n      <td>119586</td>\n      <td>Oemgenuine</td>\n      <td>Integrated</td>\n      <td>Black</td>\n      <td>SODIMM</td>\n      <td>2017-03-30</td>\n      <td>...</td>\n      <td>2400 MHz</td>\n      <td>Win 7 Pro / Win 10 Pro</td>\n      <td>Battery Powered</td>\n      <td>Battery Powered</td>\n      <td>Intel</td>\n      <td>2</td>\n      <td>13.03 x 0.67 x 8.93</td>\n      <td>NaN</td>\n      <td>ThinkPad T470s</td>\n      <td>14</td>\n    </tr>\n    <tr>\n      <th>1601</th>\n      <td>MSI Creator 15 A10SET-052 15.6\" FHD Finger Tou...</td>\n      <td>B08L56FVR3</td>\n      <td>NaN</td>\n      <td>NaN</td>\n      <td>NaN</td>\n      <td>MSI</td>\n      <td>Dedicated</td>\n      <td>Space Gray with Silver Diamond cut</td>\n      <td>NaN</td>\n      <td>2020-10-13</td>\n      <td>...</td>\n      <td>2666 MHz</td>\n      <td>Windows 10 Pro</td>\n      <td>NaN</td>\n      <td>NaN</td>\n      <td>Intel</td>\n      <td>8</td>\n      <td>NaN</td>\n      <td>NaN</td>\n      <td>Creator 15 A10SET-052</td>\n      <td>15.6</td>\n    </tr>\n    <tr>\n      <th>1602</th>\n      <td>Dell Latitude 5410 14\" Notebook - Full HD - 19...</td>\n      <td>B08L8KW3ZM</td>\n      <td>NaN</td>\n      <td>NaN</td>\n      <td>579675</td>\n      <td>Dell</td>\n      <td>Integrated</td>\n      <td>NaN</td>\n      <td>NaN</td>\n      <td>2020-10-16</td>\n      <td>...</td>\n      <td>NaN</td>\n      <td>Windows 10 Pro</td>\n      <td>Battery Powered</td>\n      <td>Battery Powered</td>\n      <td>Intel</td>\n      <td>1</td>\n      <td>8.5 x 12.72 x 0.83</td>\n      <td>NaN</td>\n      <td>M2HJR</td>\n      <td>14</td>\n    </tr>\n    <tr>\n      <th>1603</th>\n      <td>TopSeller TC M720S SFF I5-9400 2.9G 8GB 256GB ...</td>\n      <td>B082RD3STD</td>\n      <td>NaN</td>\n      <td>NaN</td>\n      <td>47707</td>\n      <td>Lenovo</td>\n      <td>Integrated</td>\n      <td>Black</td>\n      <td>Unknown</td>\n      <td>2019-12-14</td>\n      <td>...</td>\n      <td>NaN</td>\n      <td>Windows 10 Pro</td>\n      <td>NaN</td>\n      <td>NaN</td>\n      <td>Intel</td>\n      <td>1</td>\n      <td>11.4 x 3.6 x 13.5</td>\n      <td>NaN</td>\n      <td>M720s</td>\n      <td>1</td>\n    </tr>\n    <tr>\n      <th>1604</th>\n      <td>Lenovo ThinkPad T14 Laptop - 14\" IPS FHD Touch...</td>\n      <td>B0844KPGNF</td>\n      <td>NaN</td>\n      <td>1 9V batteries required. (included)</td>\n      <td>310265</td>\n      <td>Lenovo</td>\n      <td>NaN</td>\n      <td>Black</td>\n      <td>DDR4 SDRAM</td>\n      <td>2020-01-22</td>\n      <td>...</td>\n      <td>1.8</td>\n      <td>Windows 10 Pro</td>\n      <td>NaN</td>\n      <td>NaN</td>\n      <td>Intel</td>\n      <td>4</td>\n      <td>12.95 x 8.94 x 0.7</td>\n      <td>NaN</td>\n      <td>T14</td>\n      <td>14</td>\n    </tr>\n  </tbody>\n</table>\n<p>1605 rows × 27 columns</p>\n</div>"
     },
     "metadata": {},
     "execution_count": 255
    }
   ],
   "source": [
    "#renaming column names without spaces\n",
    "m_new = m_new.rename(columns={'Best Sellers Rank': 'Best_seller_rank', 'Card Description': 'Card_Description', 'Computer Memory Type': 'Comp_memory_type', 'Graphics Coprocessor': 'Graphic_coprocessor', 'Hardware Platform': 'Hardware_Platform', 'Item model number': 'Model_number', 'Power Source': 'Power_source', 'Processor Brand': 'Processor_brand', 'Processor Count': 'Processor_count', 'Screen Resolution': 'Screen_resolution'})\n",
    "m_new"
   ]
  },
  {
   "cell_type": "code",
   "execution_count": null,
   "metadata": {},
   "outputs": [],
   "source": []
  }
 ]
}