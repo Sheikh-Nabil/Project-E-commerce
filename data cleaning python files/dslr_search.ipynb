{
 "metadata": {
  "language_info": {
   "codemirror_mode": {
    "name": "ipython",
    "version": 3
   },
   "file_extension": ".py",
   "mimetype": "text/x-python",
   "name": "python",
   "nbconvert_exporter": "python",
   "pygments_lexer": "ipython3",
   "version": "3.8.5-final"
  },
  "orig_nbformat": 2,
  "kernelspec": {
   "name": "python3",
   "display_name": "Python 3",
   "language": "python"
  }
 },
 "nbformat": 4,
 "nbformat_minor": 2,
 "cells": [
  {
   "cell_type": "code",
   "execution_count": 1,
   "metadata": {},
   "outputs": [],
   "source": [
    "import pandas as pd\n",
    "import numpy as np"
   ]
  },
  {
   "cell_type": "code",
   "execution_count": 2,
   "metadata": {},
   "outputs": [
    {
     "output_type": "execute_result",
     "data": {
      "text/plain": [
       "                                                  title  \\\n",
       "0     Canon EOS Rebel T100 DSLR Camera with 18-55mm ...   \n",
       "1     Canon EOS 4000D / Rebel T100 Digital SLR Camer...   \n",
       "2     EOS 4000D Digital Camera with EF-S 18-55MM F/3...   \n",
       "3     Canon EOS Rebel T7 DSLR Camera with 18-55mm f/...   \n",
       "4     Canon DSLR Camera [EOS 90D] with Built-in Wi-F...   \n",
       "...                                                 ...   \n",
       "8727  Extension Rod Pole Bar SZ_ABTO Adjustable Self...   \n",
       "8728        LumiQuest Snoot XTR with UltraStrap LQ-115S   \n",
       "8729  MegaGear Panasonic Lumix DMC-ZS60, DMC-TZ80 Ul...   \n",
       "8730  Meike MK420N TTL Li-ion Battery Camera Flash S...   \n",
       "8731  Dazzne Desk Mount Stand, 12.9-22inch Tabletop ...   \n",
       "\n",
       "                                                    url              rating  \\\n",
       "0     https://www.amazon.com/Canon-EOS-Rebel-T100-18...  4.7 out of 5 stars   \n",
       "1     https://www.amazon.com/Canon-4000D-Digital-Com...  4.6 out of 5 stars   \n",
       "2     https://www.amazon.com/Digital-18-55MM-3-5-5-6...  4.5 out of 5 stars   \n",
       "3     https://www.amazon.com/Canon-EOS-Rebel-T7-18-5...  4.7 out of 5 stars   \n",
       "4     https://www.amazon.com/Canon-Digital-Camera-Bl...  4.9 out of 5 stars   \n",
       "...                                                 ...                 ...   \n",
       "8727  https://www.amazon.com/SZ_ABTO-Adjustable-Exte...  4.3 out of 5 stars   \n",
       "8728  https://www.amazon.com/LumiQuest-Snoot-XTR-Ult...  3.7 out of 5 stars   \n",
       "8729  https://www.amazon.com/MegaGear-Panasonic-DMC-...  3.3 out of 5 stars   \n",
       "8730  https://www.amazon.com/gp/slredirect/picassoRe...  5.0 out of 5 stars   \n",
       "8731  https://www.amazon.com/gp/slredirect/picassoRe...  4.8 out of 5 stars   \n",
       "\n",
       "     review_count      price  \n",
       "0             186    $419.00  \n",
       "1              18    $489.95  \n",
       "2              79    $444.99  \n",
       "3             294    $549.00  \n",
       "4             330  $1,199.00  \n",
       "...           ...        ...  \n",
       "8727           28     $11.98  \n",
       "8728            8     $49.95  \n",
       "8729           13     $14.99  \n",
       "8730            5     $53.99  \n",
       "8731           55     $32.99  \n",
       "\n",
       "[8732 rows x 5 columns]"
      ],
      "text/html": "<div>\n<style scoped>\n    .dataframe tbody tr th:only-of-type {\n        vertical-align: middle;\n    }\n\n    .dataframe tbody tr th {\n        vertical-align: top;\n    }\n\n    .dataframe thead th {\n        text-align: right;\n    }\n</style>\n<table border=\"1\" class=\"dataframe\">\n  <thead>\n    <tr style=\"text-align: right;\">\n      <th></th>\n      <th>title</th>\n      <th>url</th>\n      <th>rating</th>\n      <th>review_count</th>\n      <th>price</th>\n    </tr>\n  </thead>\n  <tbody>\n    <tr>\n      <th>0</th>\n      <td>Canon EOS Rebel T100 DSLR Camera with 18-55mm ...</td>\n      <td>https://www.amazon.com/Canon-EOS-Rebel-T100-18...</td>\n      <td>4.7 out of 5 stars</td>\n      <td>186</td>\n      <td>$419.00</td>\n    </tr>\n    <tr>\n      <th>1</th>\n      <td>Canon EOS 4000D / Rebel T100 Digital SLR Camer...</td>\n      <td>https://www.amazon.com/Canon-4000D-Digital-Com...</td>\n      <td>4.6 out of 5 stars</td>\n      <td>18</td>\n      <td>$489.95</td>\n    </tr>\n    <tr>\n      <th>2</th>\n      <td>EOS 4000D Digital Camera with EF-S 18-55MM F/3...</td>\n      <td>https://www.amazon.com/Digital-18-55MM-3-5-5-6...</td>\n      <td>4.5 out of 5 stars</td>\n      <td>79</td>\n      <td>$444.99</td>\n    </tr>\n    <tr>\n      <th>3</th>\n      <td>Canon EOS Rebel T7 DSLR Camera with 18-55mm f/...</td>\n      <td>https://www.amazon.com/Canon-EOS-Rebel-T7-18-5...</td>\n      <td>4.7 out of 5 stars</td>\n      <td>294</td>\n      <td>$549.00</td>\n    </tr>\n    <tr>\n      <th>4</th>\n      <td>Canon DSLR Camera [EOS 90D] with Built-in Wi-F...</td>\n      <td>https://www.amazon.com/Canon-Digital-Camera-Bl...</td>\n      <td>4.9 out of 5 stars</td>\n      <td>330</td>\n      <td>$1,199.00</td>\n    </tr>\n    <tr>\n      <th>...</th>\n      <td>...</td>\n      <td>...</td>\n      <td>...</td>\n      <td>...</td>\n      <td>...</td>\n    </tr>\n    <tr>\n      <th>8727</th>\n      <td>Extension Rod Pole Bar SZ_ABTO Adjustable Self...</td>\n      <td>https://www.amazon.com/SZ_ABTO-Adjustable-Exte...</td>\n      <td>4.3 out of 5 stars</td>\n      <td>28</td>\n      <td>$11.98</td>\n    </tr>\n    <tr>\n      <th>8728</th>\n      <td>LumiQuest Snoot XTR with UltraStrap LQ-115S</td>\n      <td>https://www.amazon.com/LumiQuest-Snoot-XTR-Ult...</td>\n      <td>3.7 out of 5 stars</td>\n      <td>8</td>\n      <td>$49.95</td>\n    </tr>\n    <tr>\n      <th>8729</th>\n      <td>MegaGear Panasonic Lumix DMC-ZS60, DMC-TZ80 Ul...</td>\n      <td>https://www.amazon.com/MegaGear-Panasonic-DMC-...</td>\n      <td>3.3 out of 5 stars</td>\n      <td>13</td>\n      <td>$14.99</td>\n    </tr>\n    <tr>\n      <th>8730</th>\n      <td>Meike MK420N TTL Li-ion Battery Camera Flash S...</td>\n      <td>https://www.amazon.com/gp/slredirect/picassoRe...</td>\n      <td>5.0 out of 5 stars</td>\n      <td>5</td>\n      <td>$53.99</td>\n    </tr>\n    <tr>\n      <th>8731</th>\n      <td>Dazzne Desk Mount Stand, 12.9-22inch Tabletop ...</td>\n      <td>https://www.amazon.com/gp/slredirect/picassoRe...</td>\n      <td>4.8 out of 5 stars</td>\n      <td>55</td>\n      <td>$32.99</td>\n    </tr>\n  </tbody>\n</table>\n<p>8732 rows × 5 columns</p>\n</div>"
     },
     "metadata": {},
     "execution_count": 2
    }
   ],
   "source": [
    "#SearchFile\n",
    "dslr = pd.read_json('search_output.jsonl')\n",
    "dslr"
   ]
  },
  {
   "cell_type": "code",
   "execution_count": 3,
   "metadata": {},
   "outputs": [
    {
     "output_type": "execute_result",
     "data": {
      "text/plain": [
       "title           object\n",
       "url             object\n",
       "rating          object\n",
       "review_count    object\n",
       "price           object\n",
       "dtype: object"
      ]
     },
     "metadata": {},
     "execution_count": 3
    }
   ],
   "source": [
    "dslr.dtypes"
   ]
  },
  {
   "cell_type": "code",
   "execution_count": 4,
   "metadata": {},
   "outputs": [],
   "source": [
    "dslr.dropna(inplace = True)"
   ]
  },
  {
   "cell_type": "code",
   "execution_count": 5,
   "metadata": {},
   "outputs": [
    {
     "output_type": "execute_result",
     "data": {
      "text/plain": [
       "title           0\n",
       "url             0\n",
       "rating          0\n",
       "review_count    0\n",
       "price           0\n",
       "dtype: int64"
      ]
     },
     "metadata": {},
     "execution_count": 5
    }
   ],
   "source": [
    "dslr.isnull().sum()"
   ]
  },
  {
   "cell_type": "code",
   "execution_count": 6,
   "metadata": {},
   "outputs": [
    {
     "output_type": "execute_result",
     "data": {
      "text/plain": [
       "(7090, 5)"
      ]
     },
     "metadata": {},
     "execution_count": 6
    }
   ],
   "source": [
    "dslr.shape"
   ]
  },
  {
   "cell_type": "code",
   "execution_count": 7,
   "metadata": {},
   "outputs": [
    {
     "output_type": "execute_result",
     "data": {
      "text/plain": [
       "'4.7'"
      ]
     },
     "metadata": {},
     "execution_count": 7
    }
   ],
   "source": [
    "dslr.rating[0].split(' ')[0]"
   ]
  },
  {
   "cell_type": "code",
   "execution_count": 8,
   "metadata": {},
   "outputs": [
    {
     "output_type": "execute_result",
     "data": {
      "text/plain": [
       "                                                  title  \\\n",
       "0     Canon EOS Rebel T100 DSLR Camera with 18-55mm ...   \n",
       "1     Canon EOS 4000D / Rebel T100 Digital SLR Camer...   \n",
       "2     EOS 4000D Digital Camera with EF-S 18-55MM F/3...   \n",
       "3     Canon EOS Rebel T7 DSLR Camera with 18-55mm f/...   \n",
       "4     Canon DSLR Camera [EOS 90D] with Built-in Wi-F...   \n",
       "...                                                 ...   \n",
       "8727  Extension Rod Pole Bar SZ_ABTO Adjustable Self...   \n",
       "8728        LumiQuest Snoot XTR with UltraStrap LQ-115S   \n",
       "8729  MegaGear Panasonic Lumix DMC-ZS60, DMC-TZ80 Ul...   \n",
       "8730  Meike MK420N TTL Li-ion Battery Camera Flash S...   \n",
       "8731  Dazzne Desk Mount Stand, 12.9-22inch Tabletop ...   \n",
       "\n",
       "                                                    url rating review_count  \\\n",
       "0     https://www.amazon.com/Canon-EOS-Rebel-T100-18...    4.7          186   \n",
       "1     https://www.amazon.com/Canon-4000D-Digital-Com...    4.6           18   \n",
       "2     https://www.amazon.com/Digital-18-55MM-3-5-5-6...    4.5           79   \n",
       "3     https://www.amazon.com/Canon-EOS-Rebel-T7-18-5...    4.7          294   \n",
       "4     https://www.amazon.com/Canon-Digital-Camera-Bl...    4.9          330   \n",
       "...                                                 ...    ...          ...   \n",
       "8727  https://www.amazon.com/SZ_ABTO-Adjustable-Exte...    4.3           28   \n",
       "8728  https://www.amazon.com/LumiQuest-Snoot-XTR-Ult...    3.7            8   \n",
       "8729  https://www.amazon.com/MegaGear-Panasonic-DMC-...    3.3           13   \n",
       "8730  https://www.amazon.com/gp/slredirect/picassoRe...    5.0            5   \n",
       "8731  https://www.amazon.com/gp/slredirect/picassoRe...    4.8           55   \n",
       "\n",
       "          price  \n",
       "0       $419.00  \n",
       "1       $489.95  \n",
       "2       $444.99  \n",
       "3       $549.00  \n",
       "4     $1,199.00  \n",
       "...         ...  \n",
       "8727     $11.98  \n",
       "8728     $49.95  \n",
       "8729     $14.99  \n",
       "8730     $53.99  \n",
       "8731     $32.99  \n",
       "\n",
       "[7090 rows x 5 columns]"
      ],
      "text/html": "<div>\n<style scoped>\n    .dataframe tbody tr th:only-of-type {\n        vertical-align: middle;\n    }\n\n    .dataframe tbody tr th {\n        vertical-align: top;\n    }\n\n    .dataframe thead th {\n        text-align: right;\n    }\n</style>\n<table border=\"1\" class=\"dataframe\">\n  <thead>\n    <tr style=\"text-align: right;\">\n      <th></th>\n      <th>title</th>\n      <th>url</th>\n      <th>rating</th>\n      <th>review_count</th>\n      <th>price</th>\n    </tr>\n  </thead>\n  <tbody>\n    <tr>\n      <th>0</th>\n      <td>Canon EOS Rebel T100 DSLR Camera with 18-55mm ...</td>\n      <td>https://www.amazon.com/Canon-EOS-Rebel-T100-18...</td>\n      <td>4.7</td>\n      <td>186</td>\n      <td>$419.00</td>\n    </tr>\n    <tr>\n      <th>1</th>\n      <td>Canon EOS 4000D / Rebel T100 Digital SLR Camer...</td>\n      <td>https://www.amazon.com/Canon-4000D-Digital-Com...</td>\n      <td>4.6</td>\n      <td>18</td>\n      <td>$489.95</td>\n    </tr>\n    <tr>\n      <th>2</th>\n      <td>EOS 4000D Digital Camera with EF-S 18-55MM F/3...</td>\n      <td>https://www.amazon.com/Digital-18-55MM-3-5-5-6...</td>\n      <td>4.5</td>\n      <td>79</td>\n      <td>$444.99</td>\n    </tr>\n    <tr>\n      <th>3</th>\n      <td>Canon EOS Rebel T7 DSLR Camera with 18-55mm f/...</td>\n      <td>https://www.amazon.com/Canon-EOS-Rebel-T7-18-5...</td>\n      <td>4.7</td>\n      <td>294</td>\n      <td>$549.00</td>\n    </tr>\n    <tr>\n      <th>4</th>\n      <td>Canon DSLR Camera [EOS 90D] with Built-in Wi-F...</td>\n      <td>https://www.amazon.com/Canon-Digital-Camera-Bl...</td>\n      <td>4.9</td>\n      <td>330</td>\n      <td>$1,199.00</td>\n    </tr>\n    <tr>\n      <th>...</th>\n      <td>...</td>\n      <td>...</td>\n      <td>...</td>\n      <td>...</td>\n      <td>...</td>\n    </tr>\n    <tr>\n      <th>8727</th>\n      <td>Extension Rod Pole Bar SZ_ABTO Adjustable Self...</td>\n      <td>https://www.amazon.com/SZ_ABTO-Adjustable-Exte...</td>\n      <td>4.3</td>\n      <td>28</td>\n      <td>$11.98</td>\n    </tr>\n    <tr>\n      <th>8728</th>\n      <td>LumiQuest Snoot XTR with UltraStrap LQ-115S</td>\n      <td>https://www.amazon.com/LumiQuest-Snoot-XTR-Ult...</td>\n      <td>3.7</td>\n      <td>8</td>\n      <td>$49.95</td>\n    </tr>\n    <tr>\n      <th>8729</th>\n      <td>MegaGear Panasonic Lumix DMC-ZS60, DMC-TZ80 Ul...</td>\n      <td>https://www.amazon.com/MegaGear-Panasonic-DMC-...</td>\n      <td>3.3</td>\n      <td>13</td>\n      <td>$14.99</td>\n    </tr>\n    <tr>\n      <th>8730</th>\n      <td>Meike MK420N TTL Li-ion Battery Camera Flash S...</td>\n      <td>https://www.amazon.com/gp/slredirect/picassoRe...</td>\n      <td>5.0</td>\n      <td>5</td>\n      <td>$53.99</td>\n    </tr>\n    <tr>\n      <th>8731</th>\n      <td>Dazzne Desk Mount Stand, 12.9-22inch Tabletop ...</td>\n      <td>https://www.amazon.com/gp/slredirect/picassoRe...</td>\n      <td>4.8</td>\n      <td>55</td>\n      <td>$32.99</td>\n    </tr>\n  </tbody>\n</table>\n<p>7090 rows × 5 columns</p>\n</div>"
     },
     "metadata": {},
     "execution_count": 8
    }
   ],
   "source": [
    "dslr.rating = dslr.rating.map(lambda x: x.split(' ')[0])\n",
    "dslr"
   ]
  },
  {
   "cell_type": "code",
   "execution_count": 9,
   "metadata": {},
   "outputs": [
    {
     "output_type": "execute_result",
     "data": {
      "text/plain": [
       "                                                  title  \\\n",
       "0     Canon EOS Rebel T100 DSLR Camera with 18-55mm ...   \n",
       "1     Canon EOS 4000D / Rebel T100 Digital SLR Camer...   \n",
       "2     EOS 4000D Digital Camera with EF-S 18-55MM F/3...   \n",
       "3     Canon EOS Rebel T7 DSLR Camera with 18-55mm f/...   \n",
       "4     Canon DSLR Camera [EOS 90D] with Built-in Wi-F...   \n",
       "...                                                 ...   \n",
       "8727  Extension Rod Pole Bar SZ_ABTO Adjustable Self...   \n",
       "8728        LumiQuest Snoot XTR with UltraStrap LQ-115S   \n",
       "8729  MegaGear Panasonic Lumix DMC-ZS60, DMC-TZ80 Ul...   \n",
       "8730  Meike MK420N TTL Li-ion Battery Camera Flash S...   \n",
       "8731  Dazzne Desk Mount Stand, 12.9-22inch Tabletop ...   \n",
       "\n",
       "                                                    url rating review_count  \\\n",
       "0     https://www.amazon.com/Canon-EOS-Rebel-T100-18...    4.7          186   \n",
       "1     https://www.amazon.com/Canon-4000D-Digital-Com...    4.6           18   \n",
       "2     https://www.amazon.com/Digital-18-55MM-3-5-5-6...    4.5           79   \n",
       "3     https://www.amazon.com/Canon-EOS-Rebel-T7-18-5...    4.7          294   \n",
       "4     https://www.amazon.com/Canon-Digital-Camera-Bl...    4.9          330   \n",
       "...                                                 ...    ...          ...   \n",
       "8727  https://www.amazon.com/SZ_ABTO-Adjustable-Exte...    4.3           28   \n",
       "8728  https://www.amazon.com/LumiQuest-Snoot-XTR-Ult...    3.7            8   \n",
       "8729  https://www.amazon.com/MegaGear-Panasonic-DMC-...    3.3           13   \n",
       "8730  https://www.amazon.com/gp/slredirect/picassoRe...    5.0            5   \n",
       "8731  https://www.amazon.com/gp/slredirect/picassoRe...    4.8           55   \n",
       "\n",
       "        price  \n",
       "0      419.00  \n",
       "1      489.95  \n",
       "2      444.99  \n",
       "3      549.00  \n",
       "4     1199.00  \n",
       "...       ...  \n",
       "8727    11.98  \n",
       "8728    49.95  \n",
       "8729    14.99  \n",
       "8730    53.99  \n",
       "8731    32.99  \n",
       "\n",
       "[7090 rows x 5 columns]"
      ],
      "text/html": "<div>\n<style scoped>\n    .dataframe tbody tr th:only-of-type {\n        vertical-align: middle;\n    }\n\n    .dataframe tbody tr th {\n        vertical-align: top;\n    }\n\n    .dataframe thead th {\n        text-align: right;\n    }\n</style>\n<table border=\"1\" class=\"dataframe\">\n  <thead>\n    <tr style=\"text-align: right;\">\n      <th></th>\n      <th>title</th>\n      <th>url</th>\n      <th>rating</th>\n      <th>review_count</th>\n      <th>price</th>\n    </tr>\n  </thead>\n  <tbody>\n    <tr>\n      <th>0</th>\n      <td>Canon EOS Rebel T100 DSLR Camera with 18-55mm ...</td>\n      <td>https://www.amazon.com/Canon-EOS-Rebel-T100-18...</td>\n      <td>4.7</td>\n      <td>186</td>\n      <td>419.00</td>\n    </tr>\n    <tr>\n      <th>1</th>\n      <td>Canon EOS 4000D / Rebel T100 Digital SLR Camer...</td>\n      <td>https://www.amazon.com/Canon-4000D-Digital-Com...</td>\n      <td>4.6</td>\n      <td>18</td>\n      <td>489.95</td>\n    </tr>\n    <tr>\n      <th>2</th>\n      <td>EOS 4000D Digital Camera with EF-S 18-55MM F/3...</td>\n      <td>https://www.amazon.com/Digital-18-55MM-3-5-5-6...</td>\n      <td>4.5</td>\n      <td>79</td>\n      <td>444.99</td>\n    </tr>\n    <tr>\n      <th>3</th>\n      <td>Canon EOS Rebel T7 DSLR Camera with 18-55mm f/...</td>\n      <td>https://www.amazon.com/Canon-EOS-Rebel-T7-18-5...</td>\n      <td>4.7</td>\n      <td>294</td>\n      <td>549.00</td>\n    </tr>\n    <tr>\n      <th>4</th>\n      <td>Canon DSLR Camera [EOS 90D] with Built-in Wi-F...</td>\n      <td>https://www.amazon.com/Canon-Digital-Camera-Bl...</td>\n      <td>4.9</td>\n      <td>330</td>\n      <td>1199.00</td>\n    </tr>\n    <tr>\n      <th>...</th>\n      <td>...</td>\n      <td>...</td>\n      <td>...</td>\n      <td>...</td>\n      <td>...</td>\n    </tr>\n    <tr>\n      <th>8727</th>\n      <td>Extension Rod Pole Bar SZ_ABTO Adjustable Self...</td>\n      <td>https://www.amazon.com/SZ_ABTO-Adjustable-Exte...</td>\n      <td>4.3</td>\n      <td>28</td>\n      <td>11.98</td>\n    </tr>\n    <tr>\n      <th>8728</th>\n      <td>LumiQuest Snoot XTR with UltraStrap LQ-115S</td>\n      <td>https://www.amazon.com/LumiQuest-Snoot-XTR-Ult...</td>\n      <td>3.7</td>\n      <td>8</td>\n      <td>49.95</td>\n    </tr>\n    <tr>\n      <th>8729</th>\n      <td>MegaGear Panasonic Lumix DMC-ZS60, DMC-TZ80 Ul...</td>\n      <td>https://www.amazon.com/MegaGear-Panasonic-DMC-...</td>\n      <td>3.3</td>\n      <td>13</td>\n      <td>14.99</td>\n    </tr>\n    <tr>\n      <th>8730</th>\n      <td>Meike MK420N TTL Li-ion Battery Camera Flash S...</td>\n      <td>https://www.amazon.com/gp/slredirect/picassoRe...</td>\n      <td>5.0</td>\n      <td>5</td>\n      <td>53.99</td>\n    </tr>\n    <tr>\n      <th>8731</th>\n      <td>Dazzne Desk Mount Stand, 12.9-22inch Tabletop ...</td>\n      <td>https://www.amazon.com/gp/slredirect/picassoRe...</td>\n      <td>4.8</td>\n      <td>55</td>\n      <td>32.99</td>\n    </tr>\n  </tbody>\n</table>\n<p>7090 rows × 5 columns</p>\n</div>"
     },
     "metadata": {},
     "execution_count": 9
    }
   ],
   "source": [
    "dslr['review_count'] = dslr['review_count'].str.replace(',', '')\n",
    "dslr['price'] = dslr['price'].str.replace('$', '')\n",
    "dslr['price'] = dslr['price'].str.replace(',', '')\n",
    "dslr"
   ]
  },
  {
   "cell_type": "code",
   "execution_count": 10,
   "metadata": {},
   "outputs": [
    {
     "output_type": "execute_result",
     "data": {
      "text/plain": [
       "title           object\n",
       "url             object\n",
       "rating          object\n",
       "review_count    object\n",
       "price           object\n",
       "dtype: object"
      ]
     },
     "metadata": {},
     "execution_count": 10
    }
   ],
   "source": [
    "dslr.dtypes"
   ]
  },
  {
   "cell_type": "code",
   "execution_count": 11,
   "metadata": {},
   "outputs": [
    {
     "output_type": "execute_result",
     "data": {
      "text/plain": [
       "title            object\n",
       "url              object\n",
       "rating          float64\n",
       "review_count      int32\n",
       "price           float64\n",
       "dtype: object"
      ]
     },
     "metadata": {},
     "execution_count": 11
    }
   ],
   "source": [
    "dslr.rating = dslr.rating.astype('float')\n",
    "dslr.price = dslr.price.astype('float')\n",
    "dslr.review_count = dslr.review_count.astype('int')     \n",
    "dslr.dtypes"
   ]
  },
  {
   "cell_type": "code",
   "execution_count": 12,
   "metadata": {},
   "outputs": [
    {
     "output_type": "execute_result",
     "data": {
      "text/plain": [
       "                                                  title  \\\n",
       "0     Canon EOS Rebel T100 DSLR Camera with 18-55mm ...   \n",
       "1     Canon EOS 4000D / Rebel T100 Digital SLR Camer...   \n",
       "2     EOS 4000D Digital Camera with EF-S 18-55MM F/3...   \n",
       "3     Canon EOS Rebel T7 DSLR Camera with 18-55mm f/...   \n",
       "4     Canon DSLR Camera [EOS 90D] with Built-in Wi-F...   \n",
       "...                                                 ...   \n",
       "7085  Extension Rod Pole Bar SZ_ABTO Adjustable Self...   \n",
       "7086        LumiQuest Snoot XTR with UltraStrap LQ-115S   \n",
       "7087  MegaGear Panasonic Lumix DMC-ZS60, DMC-TZ80 Ul...   \n",
       "7088  Meike MK420N TTL Li-ion Battery Camera Flash S...   \n",
       "7089  Dazzne Desk Mount Stand, 12.9-22inch Tabletop ...   \n",
       "\n",
       "                                                    url  rating  review_count  \\\n",
       "0     https://www.amazon.com/Canon-EOS-Rebel-T100-18...     4.7           186   \n",
       "1     https://www.amazon.com/Canon-4000D-Digital-Com...     4.6            18   \n",
       "2     https://www.amazon.com/Digital-18-55MM-3-5-5-6...     4.5            79   \n",
       "3     https://www.amazon.com/Canon-EOS-Rebel-T7-18-5...     4.7           294   \n",
       "4     https://www.amazon.com/Canon-Digital-Camera-Bl...     4.9           330   \n",
       "...                                                 ...     ...           ...   \n",
       "7085  https://www.amazon.com/SZ_ABTO-Adjustable-Exte...     4.3            28   \n",
       "7086  https://www.amazon.com/LumiQuest-Snoot-XTR-Ult...     3.7             8   \n",
       "7087  https://www.amazon.com/MegaGear-Panasonic-DMC-...     3.3            13   \n",
       "7088  https://www.amazon.com/gp/slredirect/picassoRe...     5.0             5   \n",
       "7089  https://www.amazon.com/gp/slredirect/picassoRe...     4.8            55   \n",
       "\n",
       "        price  \n",
       "0      419.00  \n",
       "1      489.95  \n",
       "2      444.99  \n",
       "3      549.00  \n",
       "4     1199.00  \n",
       "...       ...  \n",
       "7085    11.98  \n",
       "7086    49.95  \n",
       "7087    14.99  \n",
       "7088    53.99  \n",
       "7089    32.99  \n",
       "\n",
       "[7090 rows x 5 columns]"
      ],
      "text/html": "<div>\n<style scoped>\n    .dataframe tbody tr th:only-of-type {\n        vertical-align: middle;\n    }\n\n    .dataframe tbody tr th {\n        vertical-align: top;\n    }\n\n    .dataframe thead th {\n        text-align: right;\n    }\n</style>\n<table border=\"1\" class=\"dataframe\">\n  <thead>\n    <tr style=\"text-align: right;\">\n      <th></th>\n      <th>title</th>\n      <th>url</th>\n      <th>rating</th>\n      <th>review_count</th>\n      <th>price</th>\n    </tr>\n  </thead>\n  <tbody>\n    <tr>\n      <th>0</th>\n      <td>Canon EOS Rebel T100 DSLR Camera with 18-55mm ...</td>\n      <td>https://www.amazon.com/Canon-EOS-Rebel-T100-18...</td>\n      <td>4.7</td>\n      <td>186</td>\n      <td>419.00</td>\n    </tr>\n    <tr>\n      <th>1</th>\n      <td>Canon EOS 4000D / Rebel T100 Digital SLR Camer...</td>\n      <td>https://www.amazon.com/Canon-4000D-Digital-Com...</td>\n      <td>4.6</td>\n      <td>18</td>\n      <td>489.95</td>\n    </tr>\n    <tr>\n      <th>2</th>\n      <td>EOS 4000D Digital Camera with EF-S 18-55MM F/3...</td>\n      <td>https://www.amazon.com/Digital-18-55MM-3-5-5-6...</td>\n      <td>4.5</td>\n      <td>79</td>\n      <td>444.99</td>\n    </tr>\n    <tr>\n      <th>3</th>\n      <td>Canon EOS Rebel T7 DSLR Camera with 18-55mm f/...</td>\n      <td>https://www.amazon.com/Canon-EOS-Rebel-T7-18-5...</td>\n      <td>4.7</td>\n      <td>294</td>\n      <td>549.00</td>\n    </tr>\n    <tr>\n      <th>4</th>\n      <td>Canon DSLR Camera [EOS 90D] with Built-in Wi-F...</td>\n      <td>https://www.amazon.com/Canon-Digital-Camera-Bl...</td>\n      <td>4.9</td>\n      <td>330</td>\n      <td>1199.00</td>\n    </tr>\n    <tr>\n      <th>...</th>\n      <td>...</td>\n      <td>...</td>\n      <td>...</td>\n      <td>...</td>\n      <td>...</td>\n    </tr>\n    <tr>\n      <th>7085</th>\n      <td>Extension Rod Pole Bar SZ_ABTO Adjustable Self...</td>\n      <td>https://www.amazon.com/SZ_ABTO-Adjustable-Exte...</td>\n      <td>4.3</td>\n      <td>28</td>\n      <td>11.98</td>\n    </tr>\n    <tr>\n      <th>7086</th>\n      <td>LumiQuest Snoot XTR with UltraStrap LQ-115S</td>\n      <td>https://www.amazon.com/LumiQuest-Snoot-XTR-Ult...</td>\n      <td>3.7</td>\n      <td>8</td>\n      <td>49.95</td>\n    </tr>\n    <tr>\n      <th>7087</th>\n      <td>MegaGear Panasonic Lumix DMC-ZS60, DMC-TZ80 Ul...</td>\n      <td>https://www.amazon.com/MegaGear-Panasonic-DMC-...</td>\n      <td>3.3</td>\n      <td>13</td>\n      <td>14.99</td>\n    </tr>\n    <tr>\n      <th>7088</th>\n      <td>Meike MK420N TTL Li-ion Battery Camera Flash S...</td>\n      <td>https://www.amazon.com/gp/slredirect/picassoRe...</td>\n      <td>5.0</td>\n      <td>5</td>\n      <td>53.99</td>\n    </tr>\n    <tr>\n      <th>7089</th>\n      <td>Dazzne Desk Mount Stand, 12.9-22inch Tabletop ...</td>\n      <td>https://www.amazon.com/gp/slredirect/picassoRe...</td>\n      <td>4.8</td>\n      <td>55</td>\n      <td>32.99</td>\n    </tr>\n  </tbody>\n</table>\n<p>7090 rows × 5 columns</p>\n</div>"
     },
     "metadata": {},
     "execution_count": 12
    }
   ],
   "source": [
    "#reseting index\n",
    "dslr1 = dslr.reset_index(drop=True)\n",
    "dslr1"
   ]
  },
  {
   "cell_type": "code",
   "execution_count": 13,
   "metadata": {},
   "outputs": [],
   "source": [
    "dslr1['product_type'] = 'DSLR'"
   ]
  },
  {
   "cell_type": "code",
   "execution_count": 14,
   "metadata": {},
   "outputs": [
    {
     "output_type": "execute_result",
     "data": {
      "text/plain": [
       "0       https://www.amazon.com/Canon-EOS-Rebel-T100-18...\n",
       "1       https://www.amazon.com/Canon-4000D-Digital-Com...\n",
       "2       https://www.amazon.com/Digital-18-55MM-3-5-5-6...\n",
       "3       https://www.amazon.com/Canon-EOS-Rebel-T7-18-5...\n",
       "4       https://www.amazon.com/Canon-Digital-Camera-Bl...\n",
       "                              ...                        \n",
       "8727    https://www.amazon.com/SZ_ABTO-Adjustable-Exte...\n",
       "8728    https://www.amazon.com/LumiQuest-Snoot-XTR-Ult...\n",
       "8729    https://www.amazon.com/MegaGear-Panasonic-DMC-...\n",
       "8730    https://www.amazon.com/gp/slredirect/picassoRe...\n",
       "8731    https://www.amazon.com/gp/slredirect/picassoRe...\n",
       "Name: url, Length: 7090, dtype: object"
      ]
     },
     "metadata": {},
     "execution_count": 14
    }
   ],
   "source": [
    "urls = dslr['url']\n",
    "urls"
   ]
  },
  {
   "cell_type": "code",
   "execution_count": 15,
   "metadata": {},
   "outputs": [
    {
     "output_type": "execute_result",
     "data": {
      "text/plain": [
       "          c1              c2  \\\n",
       "0     https:  www.amazon.com   \n",
       "1     https:  www.amazon.com   \n",
       "2     https:  www.amazon.com   \n",
       "3     https:  www.amazon.com   \n",
       "4     https:  www.amazon.com   \n",
       "...      ...             ...   \n",
       "7085  https:  www.amazon.com   \n",
       "7086  https:  www.amazon.com   \n",
       "7087  https:  www.amazon.com   \n",
       "7088  https:  www.amazon.com   \n",
       "7089  https:  www.amazon.com   \n",
       "\n",
       "                                                     c3          c4  \\\n",
       "0                          Canon-EOS-Rebel-T100-18-55mm          dp   \n",
       "1                Canon-4000D-Digital-Complete-Accessory          dp   \n",
       "2     Digital-18-55MM-3-5-5-6-Accessories-International          dp   \n",
       "3                            Canon-EOS-Rebel-T7-18-55mm          dp   \n",
       "4                   Canon-Digital-Camera-Black-3616C002          dp   \n",
       "...                                                 ...         ...   \n",
       "7085   SZ_ABTO-Adjustable-Extension-Handheld-Stabilizer          dp   \n",
       "7086             LumiQuest-Snoot-XTR-UltraStrap-LQ-115S          dp   \n",
       "7087     MegaGear-Panasonic-DMC-ZS60-DMC-TZ80-Carabiner          dp   \n",
       "7088                                                 gp  slredirect   \n",
       "7089                                                 gp  slredirect   \n",
       "\n",
       "                        c5                                                 c6  \n",
       "0               B087T9B6X5  ref=sr_1_1?dchild=1&keywords=dslr+camera&qid=1...  \n",
       "1               B08DQ4QQ6R  ref=sr_1_2?dchild=1&keywords=dslr+camera&qid=1...  \n",
       "2               B07Y5K1215  ref=sr_1_3?dchild=1&keywords=dslr+camera&qid=1...  \n",
       "3               B087SJ9S4W  ref=sr_1_4?dchild=1&keywords=dslr+camera&qid=1...  \n",
       "4               B07WFQYDD5  ref=sr_1_5?dchild=1&keywords=dslr+camera&qid=1...  \n",
       "...                    ...                                                ...  \n",
       "7085            B07X3HW28M  ref=sr_1_6386?dchild=1&keywords=dslr+camera&qi...  \n",
       "7086            B007S02GQG  ref=sr_1_6387?dchild=1&keywords=dslr+camera&qi...  \n",
       "7087            B01C5NUSLA  ref=sr_1_6388?dchild=1&keywords=dslr+camera&qi...  \n",
       "7088  picassoRedirect.html  ref=pa_sp_btf_electronics-intl-ship_sr_pg399_1...  \n",
       "7089  picassoRedirect.html  ref=pa_sp_btf_electronics-intl-ship_sr_pg399_1...  \n",
       "\n",
       "[7090 rows x 6 columns]"
      ],
      "text/html": "<div>\n<style scoped>\n    .dataframe tbody tr th:only-of-type {\n        vertical-align: middle;\n    }\n\n    .dataframe tbody tr th {\n        vertical-align: top;\n    }\n\n    .dataframe thead th {\n        text-align: right;\n    }\n</style>\n<table border=\"1\" class=\"dataframe\">\n  <thead>\n    <tr style=\"text-align: right;\">\n      <th></th>\n      <th>c1</th>\n      <th>c2</th>\n      <th>c3</th>\n      <th>c4</th>\n      <th>c5</th>\n      <th>c6</th>\n    </tr>\n  </thead>\n  <tbody>\n    <tr>\n      <th>0</th>\n      <td>https:</td>\n      <td>www.amazon.com</td>\n      <td>Canon-EOS-Rebel-T100-18-55mm</td>\n      <td>dp</td>\n      <td>B087T9B6X5</td>\n      <td>ref=sr_1_1?dchild=1&amp;keywords=dslr+camera&amp;qid=1...</td>\n    </tr>\n    <tr>\n      <th>1</th>\n      <td>https:</td>\n      <td>www.amazon.com</td>\n      <td>Canon-4000D-Digital-Complete-Accessory</td>\n      <td>dp</td>\n      <td>B08DQ4QQ6R</td>\n      <td>ref=sr_1_2?dchild=1&amp;keywords=dslr+camera&amp;qid=1...</td>\n    </tr>\n    <tr>\n      <th>2</th>\n      <td>https:</td>\n      <td>www.amazon.com</td>\n      <td>Digital-18-55MM-3-5-5-6-Accessories-International</td>\n      <td>dp</td>\n      <td>B07Y5K1215</td>\n      <td>ref=sr_1_3?dchild=1&amp;keywords=dslr+camera&amp;qid=1...</td>\n    </tr>\n    <tr>\n      <th>3</th>\n      <td>https:</td>\n      <td>www.amazon.com</td>\n      <td>Canon-EOS-Rebel-T7-18-55mm</td>\n      <td>dp</td>\n      <td>B087SJ9S4W</td>\n      <td>ref=sr_1_4?dchild=1&amp;keywords=dslr+camera&amp;qid=1...</td>\n    </tr>\n    <tr>\n      <th>4</th>\n      <td>https:</td>\n      <td>www.amazon.com</td>\n      <td>Canon-Digital-Camera-Black-3616C002</td>\n      <td>dp</td>\n      <td>B07WFQYDD5</td>\n      <td>ref=sr_1_5?dchild=1&amp;keywords=dslr+camera&amp;qid=1...</td>\n    </tr>\n    <tr>\n      <th>...</th>\n      <td>...</td>\n      <td>...</td>\n      <td>...</td>\n      <td>...</td>\n      <td>...</td>\n      <td>...</td>\n    </tr>\n    <tr>\n      <th>7085</th>\n      <td>https:</td>\n      <td>www.amazon.com</td>\n      <td>SZ_ABTO-Adjustable-Extension-Handheld-Stabilizer</td>\n      <td>dp</td>\n      <td>B07X3HW28M</td>\n      <td>ref=sr_1_6386?dchild=1&amp;keywords=dslr+camera&amp;qi...</td>\n    </tr>\n    <tr>\n      <th>7086</th>\n      <td>https:</td>\n      <td>www.amazon.com</td>\n      <td>LumiQuest-Snoot-XTR-UltraStrap-LQ-115S</td>\n      <td>dp</td>\n      <td>B007S02GQG</td>\n      <td>ref=sr_1_6387?dchild=1&amp;keywords=dslr+camera&amp;qi...</td>\n    </tr>\n    <tr>\n      <th>7087</th>\n      <td>https:</td>\n      <td>www.amazon.com</td>\n      <td>MegaGear-Panasonic-DMC-ZS60-DMC-TZ80-Carabiner</td>\n      <td>dp</td>\n      <td>B01C5NUSLA</td>\n      <td>ref=sr_1_6388?dchild=1&amp;keywords=dslr+camera&amp;qi...</td>\n    </tr>\n    <tr>\n      <th>7088</th>\n      <td>https:</td>\n      <td>www.amazon.com</td>\n      <td>gp</td>\n      <td>slredirect</td>\n      <td>picassoRedirect.html</td>\n      <td>ref=pa_sp_btf_electronics-intl-ship_sr_pg399_1...</td>\n    </tr>\n    <tr>\n      <th>7089</th>\n      <td>https:</td>\n      <td>www.amazon.com</td>\n      <td>gp</td>\n      <td>slredirect</td>\n      <td>picassoRedirect.html</td>\n      <td>ref=pa_sp_btf_electronics-intl-ship_sr_pg399_1...</td>\n    </tr>\n  </tbody>\n</table>\n<p>7090 rows × 6 columns</p>\n</div>"
     },
     "metadata": {},
     "execution_count": 15
    }
   ],
   "source": [
    "cols = ['c1', 'c2', 'c3', 'c4','c5','c6']\n",
    "make_me = []\n",
    "for url in urls:\n",
    "    lst = url.split(\"/\")\n",
    "    # your business rules go here\n",
    "    make_me.append([x for x in lst if not x.isdigit() and not x == \"\"])\n",
    "    \n",
    "\n",
    "dslr2 = pd.DataFrame(make_me, columns=cols)\n",
    "dslr2"
   ]
  },
  {
   "cell_type": "code",
   "execution_count": 16,
   "metadata": {},
   "outputs": [
    {
     "output_type": "execute_result",
     "data": {
      "text/plain": [
       "0                 B087T9B6X5\n",
       "1                 B08DQ4QQ6R\n",
       "2                 B07Y5K1215\n",
       "3                 B087SJ9S4W\n",
       "4                 B07WFQYDD5\n",
       "                ...         \n",
       "7085              B07X3HW28M\n",
       "7086              B007S02GQG\n",
       "7087              B01C5NUSLA\n",
       "7088    picassoRedirect.html\n",
       "7089    picassoRedirect.html\n",
       "Name: c5, Length: 7090, dtype: object"
      ]
     },
     "metadata": {},
     "execution_count": 16
    }
   ],
   "source": [
    "asin = dslr2['c5']\n",
    "asin"
   ]
  },
  {
   "cell_type": "code",
   "execution_count": 17,
   "metadata": {},
   "outputs": [
    {
     "output_type": "execute_result",
     "data": {
      "text/plain": [
       "0       ref=sr_1_1?dchild=1&keywords=dslr+camera&qid=1...\n",
       "1       ref=sr_1_2?dchild=1&keywords=dslr+camera&qid=1...\n",
       "2       ref=sr_1_3?dchild=1&keywords=dslr+camera&qid=1...\n",
       "3       ref=sr_1_4?dchild=1&keywords=dslr+camera&qid=1...\n",
       "4       ref=sr_1_5?dchild=1&keywords=dslr+camera&qid=1...\n",
       "                              ...                        \n",
       "7085    ref=sr_1_6386?dchild=1&keywords=dslr+camera&qi...\n",
       "7086    ref=sr_1_6387?dchild=1&keywords=dslr+camera&qi...\n",
       "7087    ref=sr_1_6388?dchild=1&keywords=dslr+camera&qi...\n",
       "7088    ref=pa_sp_btf_electronics-intl-ship_sr_pg399_1...\n",
       "7089    ref=pa_sp_btf_electronics-intl-ship_sr_pg399_1...\n",
       "Name: c6, Length: 7090, dtype: object"
      ]
     },
     "metadata": {},
     "execution_count": 17
    }
   ],
   "source": [
    "dslr3 = dslr2['c6']\n",
    "dslr3"
   ]
  },
  {
   "cell_type": "code",
   "execution_count": 18,
   "metadata": {},
   "outputs": [
    {
     "output_type": "execute_result",
     "data": {
      "text/plain": [
       "                                                     c1  \\\n",
       "0     https://www.amazon.com/Canon-EOS-Rebel-T100-18...   \n",
       "1     https://www.amazon.com/Canon-4000D-Digital-Com...   \n",
       "2     https://www.amazon.com/Digital-18-55MM-3-5-5-6...   \n",
       "3     https://www.amazon.com/Canon-EOS-Rebel-T7-18-5...   \n",
       "4     https://www.amazon.com/Canon-Digital-Camera-Bl...   \n",
       "...                                                 ...   \n",
       "7085  https://www.amazon.com/SZ_ABTO-Adjustable-Exte...   \n",
       "7086  https://www.amazon.com/LumiQuest-Snoot-XTR-Ult...   \n",
       "7087  https://www.amazon.com/MegaGear-Panasonic-DMC-...   \n",
       "7088  https://www.amazon.com/gp/slredirect/picassoRe...   \n",
       "7089  https://www.amazon.com/gp/slredirect/picassoRe...   \n",
       "\n",
       "                                                    c2    c3           d4  \\\n",
       "0                                                 None  None         None   \n",
       "1                                                 None  None         None   \n",
       "2                                                 None  None         None   \n",
       "3                                                 None  None         None   \n",
       "4                                                 None  None         None   \n",
       "...                                                ...   ...          ...   \n",
       "7085                                              None  None         None   \n",
       "7086                                              None  None         None   \n",
       "7087                                              None  None         None   \n",
       "7088    FMeike-Professional-Battery-Speedlite-Diffuser   Fdp  FB076MT8CS5   \n",
       "7089  FDazzne-12-9-22inch-Tabletop-Adjustable-Aluminum   Fdp  FB08KSTH7WN   \n",
       "\n",
       "                                      c5                c6       c7  \\\n",
       "0                                   None              None     None   \n",
       "1                                   None              None     None   \n",
       "2                                   None              None     None   \n",
       "3                                   None              None     None   \n",
       "4                                   None              None     None   \n",
       "...                                  ...               ...      ...   \n",
       "7085                                None              None     None   \n",
       "7086                                None              None     None   \n",
       "7087                                None              None     None   \n",
       "7088  Fref%3Dsr_1_6389_sspa%3Fdchild%3D1  6keywords%3Ddslr  Bcamera   \n",
       "7089  Fref%3Dsr_1_6390_sspa%3Fdchild%3D1  6keywords%3Ddslr  Bcamera   \n",
       "\n",
       "                     c8                   c9               c10  \\\n",
       "0                  None                 None              None   \n",
       "1                  None                 None              None   \n",
       "2                  None                 None              None   \n",
       "3                  None                 None              None   \n",
       "4                  None                 None              None   \n",
       "...                 ...                  ...               ...   \n",
       "7085               None                 None              None   \n",
       "7086               None                 None              None   \n",
       "7087               None                 None              None   \n",
       "7088  6qid%3D1611589389  6rnid%3D16225009011  6s%3Delectronics   \n",
       "7089  6qid%3D1611589389  6rnid%3D16225009011  6s%3Delectronics   \n",
       "\n",
       "                     c11       c12  \\\n",
       "0                   None      None   \n",
       "1                   None      None   \n",
       "2                   None      None   \n",
       "3                   None      None   \n",
       "4                   None      None   \n",
       "...                  ...       ...   \n",
       "7085                None      None   \n",
       "7086                None      None   \n",
       "7087                None      None   \n",
       "7088  6sr%3D1-6389-spons  6psc%3D1   \n",
       "7089  6sr%3D1-6390-spons  6psc%3D1   \n",
       "\n",
       "                                                    c13  \n",
       "0                                                  None  \n",
       "1                                                  None  \n",
       "2                                                  None  \n",
       "3                                                  None  \n",
       "4                                                  None  \n",
       "...                                                 ...  \n",
       "7085                                               None  \n",
       "7086                                               None  \n",
       "7087                                               None  \n",
       "7088  6smid%3DA3SKNYHWX0BFRK&qualifier=1611595127&id...  \n",
       "7089  6smid%3DA1AGS4MWN9OLYN&qualifier=1611595127&id...  \n",
       "\n",
       "[7090 rows x 13 columns]"
      ],
      "text/html": "<div>\n<style scoped>\n    .dataframe tbody tr th:only-of-type {\n        vertical-align: middle;\n    }\n\n    .dataframe tbody tr th {\n        vertical-align: top;\n    }\n\n    .dataframe thead th {\n        text-align: right;\n    }\n</style>\n<table border=\"1\" class=\"dataframe\">\n  <thead>\n    <tr style=\"text-align: right;\">\n      <th></th>\n      <th>c1</th>\n      <th>c2</th>\n      <th>c3</th>\n      <th>d4</th>\n      <th>c5</th>\n      <th>c6</th>\n      <th>c7</th>\n      <th>c8</th>\n      <th>c9</th>\n      <th>c10</th>\n      <th>c11</th>\n      <th>c12</th>\n      <th>c13</th>\n    </tr>\n  </thead>\n  <tbody>\n    <tr>\n      <th>0</th>\n      <td>https://www.amazon.com/Canon-EOS-Rebel-T100-18...</td>\n      <td>None</td>\n      <td>None</td>\n      <td>None</td>\n      <td>None</td>\n      <td>None</td>\n      <td>None</td>\n      <td>None</td>\n      <td>None</td>\n      <td>None</td>\n      <td>None</td>\n      <td>None</td>\n      <td>None</td>\n    </tr>\n    <tr>\n      <th>1</th>\n      <td>https://www.amazon.com/Canon-4000D-Digital-Com...</td>\n      <td>None</td>\n      <td>None</td>\n      <td>None</td>\n      <td>None</td>\n      <td>None</td>\n      <td>None</td>\n      <td>None</td>\n      <td>None</td>\n      <td>None</td>\n      <td>None</td>\n      <td>None</td>\n      <td>None</td>\n    </tr>\n    <tr>\n      <th>2</th>\n      <td>https://www.amazon.com/Digital-18-55MM-3-5-5-6...</td>\n      <td>None</td>\n      <td>None</td>\n      <td>None</td>\n      <td>None</td>\n      <td>None</td>\n      <td>None</td>\n      <td>None</td>\n      <td>None</td>\n      <td>None</td>\n      <td>None</td>\n      <td>None</td>\n      <td>None</td>\n    </tr>\n    <tr>\n      <th>3</th>\n      <td>https://www.amazon.com/Canon-EOS-Rebel-T7-18-5...</td>\n      <td>None</td>\n      <td>None</td>\n      <td>None</td>\n      <td>None</td>\n      <td>None</td>\n      <td>None</td>\n      <td>None</td>\n      <td>None</td>\n      <td>None</td>\n      <td>None</td>\n      <td>None</td>\n      <td>None</td>\n    </tr>\n    <tr>\n      <th>4</th>\n      <td>https://www.amazon.com/Canon-Digital-Camera-Bl...</td>\n      <td>None</td>\n      <td>None</td>\n      <td>None</td>\n      <td>None</td>\n      <td>None</td>\n      <td>None</td>\n      <td>None</td>\n      <td>None</td>\n      <td>None</td>\n      <td>None</td>\n      <td>None</td>\n      <td>None</td>\n    </tr>\n    <tr>\n      <th>...</th>\n      <td>...</td>\n      <td>...</td>\n      <td>...</td>\n      <td>...</td>\n      <td>...</td>\n      <td>...</td>\n      <td>...</td>\n      <td>...</td>\n      <td>...</td>\n      <td>...</td>\n      <td>...</td>\n      <td>...</td>\n      <td>...</td>\n    </tr>\n    <tr>\n      <th>7085</th>\n      <td>https://www.amazon.com/SZ_ABTO-Adjustable-Exte...</td>\n      <td>None</td>\n      <td>None</td>\n      <td>None</td>\n      <td>None</td>\n      <td>None</td>\n      <td>None</td>\n      <td>None</td>\n      <td>None</td>\n      <td>None</td>\n      <td>None</td>\n      <td>None</td>\n      <td>None</td>\n    </tr>\n    <tr>\n      <th>7086</th>\n      <td>https://www.amazon.com/LumiQuest-Snoot-XTR-Ult...</td>\n      <td>None</td>\n      <td>None</td>\n      <td>None</td>\n      <td>None</td>\n      <td>None</td>\n      <td>None</td>\n      <td>None</td>\n      <td>None</td>\n      <td>None</td>\n      <td>None</td>\n      <td>None</td>\n      <td>None</td>\n    </tr>\n    <tr>\n      <th>7087</th>\n      <td>https://www.amazon.com/MegaGear-Panasonic-DMC-...</td>\n      <td>None</td>\n      <td>None</td>\n      <td>None</td>\n      <td>None</td>\n      <td>None</td>\n      <td>None</td>\n      <td>None</td>\n      <td>None</td>\n      <td>None</td>\n      <td>None</td>\n      <td>None</td>\n      <td>None</td>\n    </tr>\n    <tr>\n      <th>7088</th>\n      <td>https://www.amazon.com/gp/slredirect/picassoRe...</td>\n      <td>FMeike-Professional-Battery-Speedlite-Diffuser</td>\n      <td>Fdp</td>\n      <td>FB076MT8CS5</td>\n      <td>Fref%3Dsr_1_6389_sspa%3Fdchild%3D1</td>\n      <td>6keywords%3Ddslr</td>\n      <td>Bcamera</td>\n      <td>6qid%3D1611589389</td>\n      <td>6rnid%3D16225009011</td>\n      <td>6s%3Delectronics</td>\n      <td>6sr%3D1-6389-spons</td>\n      <td>6psc%3D1</td>\n      <td>6smid%3DA3SKNYHWX0BFRK&amp;qualifier=1611595127&amp;id...</td>\n    </tr>\n    <tr>\n      <th>7089</th>\n      <td>https://www.amazon.com/gp/slredirect/picassoRe...</td>\n      <td>FDazzne-12-9-22inch-Tabletop-Adjustable-Aluminum</td>\n      <td>Fdp</td>\n      <td>FB08KSTH7WN</td>\n      <td>Fref%3Dsr_1_6390_sspa%3Fdchild%3D1</td>\n      <td>6keywords%3Ddslr</td>\n      <td>Bcamera</td>\n      <td>6qid%3D1611589389</td>\n      <td>6rnid%3D16225009011</td>\n      <td>6s%3Delectronics</td>\n      <td>6sr%3D1-6390-spons</td>\n      <td>6psc%3D1</td>\n      <td>6smid%3DA1AGS4MWN9OLYN&amp;qualifier=1611595127&amp;id...</td>\n    </tr>\n  </tbody>\n</table>\n<p>7090 rows × 13 columns</p>\n</div>"
     },
     "metadata": {},
     "execution_count": 18
    }
   ],
   "source": [
    "cols = ['c1','c2','c3','d4','c5','c6','c7','c8','c9','c10','c11','c12','c13']\n",
    "make_me = []\n",
    "for url in urls:\n",
    "    lst = url.split(\"%2\")\n",
    "    # your business rules go here\n",
    "    make_me.append([x for x in lst if not x.isdigit() and not x == \"\"])\n",
    "    \n",
    "\n",
    "dslr4 = pd.DataFrame(make_me, columns=cols)\n",
    "dslr4"
   ]
  },
  {
   "cell_type": "code",
   "execution_count": 19,
   "metadata": {},
   "outputs": [
    {
     "output_type": "execute_result",
     "data": {
      "text/plain": [
       "0              None\n",
       "1              None\n",
       "2              None\n",
       "3              None\n",
       "4              None\n",
       "           ...     \n",
       "7085           None\n",
       "7086           None\n",
       "7087           None\n",
       "7088    FB076MT8CS5\n",
       "7089    FB08KSTH7WN\n",
       "Name: d4, Length: 7090, dtype: object"
      ]
     },
     "metadata": {},
     "execution_count": 19
    }
   ],
   "source": [
    "dslr5 = dslr4['d4']\n",
    "dslr5"
   ]
  },
  {
   "cell_type": "code",
   "execution_count": 20,
   "metadata": {},
   "outputs": [
    {
     "output_type": "execute_result",
     "data": {
      "text/plain": [
       "               d4\n",
       "0            None\n",
       "1            None\n",
       "2            None\n",
       "3            None\n",
       "4            None\n",
       "...           ...\n",
       "7085         None\n",
       "7086         None\n",
       "7087         None\n",
       "7088  FB076MT8CS5\n",
       "7089  FB08KSTH7WN\n",
       "\n",
       "[7090 rows x 1 columns]"
      ],
      "text/html": "<div>\n<style scoped>\n    .dataframe tbody tr th:only-of-type {\n        vertical-align: middle;\n    }\n\n    .dataframe tbody tr th {\n        vertical-align: top;\n    }\n\n    .dataframe thead th {\n        text-align: right;\n    }\n</style>\n<table border=\"1\" class=\"dataframe\">\n  <thead>\n    <tr style=\"text-align: right;\">\n      <th></th>\n      <th>d4</th>\n    </tr>\n  </thead>\n  <tbody>\n    <tr>\n      <th>0</th>\n      <td>None</td>\n    </tr>\n    <tr>\n      <th>1</th>\n      <td>None</td>\n    </tr>\n    <tr>\n      <th>2</th>\n      <td>None</td>\n    </tr>\n    <tr>\n      <th>3</th>\n      <td>None</td>\n    </tr>\n    <tr>\n      <th>4</th>\n      <td>None</td>\n    </tr>\n    <tr>\n      <th>...</th>\n      <td>...</td>\n    </tr>\n    <tr>\n      <th>7085</th>\n      <td>None</td>\n    </tr>\n    <tr>\n      <th>7086</th>\n      <td>None</td>\n    </tr>\n    <tr>\n      <th>7087</th>\n      <td>None</td>\n    </tr>\n    <tr>\n      <th>7088</th>\n      <td>FB076MT8CS5</td>\n    </tr>\n    <tr>\n      <th>7089</th>\n      <td>FB08KSTH7WN</td>\n    </tr>\n  </tbody>\n</table>\n<p>7090 rows × 1 columns</p>\n</div>"
     },
     "metadata": {},
     "execution_count": 20
    }
   ],
   "source": [
    "pd.DataFrame(dslr5)"
   ]
  },
  {
   "cell_type": "code",
   "execution_count": 21,
   "metadata": {},
   "outputs": [
    {
     "output_type": "execute_result",
     "data": {
      "text/plain": [
       "                        c5           d4\n",
       "0               B087T9B6X5         None\n",
       "1               B08DQ4QQ6R         None\n",
       "2               B07Y5K1215         None\n",
       "3               B087SJ9S4W         None\n",
       "4               B07WFQYDD5         None\n",
       "...                    ...          ...\n",
       "7085            B07X3HW28M         None\n",
       "7086            B007S02GQG         None\n",
       "7087            B01C5NUSLA         None\n",
       "7088  picassoRedirect.html  FB076MT8CS5\n",
       "7089  picassoRedirect.html  FB08KSTH7WN\n",
       "\n",
       "[7090 rows x 2 columns]"
      ],
      "text/html": "<div>\n<style scoped>\n    .dataframe tbody tr th:only-of-type {\n        vertical-align: middle;\n    }\n\n    .dataframe tbody tr th {\n        vertical-align: top;\n    }\n\n    .dataframe thead th {\n        text-align: right;\n    }\n</style>\n<table border=\"1\" class=\"dataframe\">\n  <thead>\n    <tr style=\"text-align: right;\">\n      <th></th>\n      <th>c5</th>\n      <th>d4</th>\n    </tr>\n  </thead>\n  <tbody>\n    <tr>\n      <th>0</th>\n      <td>B087T9B6X5</td>\n      <td>None</td>\n    </tr>\n    <tr>\n      <th>1</th>\n      <td>B08DQ4QQ6R</td>\n      <td>None</td>\n    </tr>\n    <tr>\n      <th>2</th>\n      <td>B07Y5K1215</td>\n      <td>None</td>\n    </tr>\n    <tr>\n      <th>3</th>\n      <td>B087SJ9S4W</td>\n      <td>None</td>\n    </tr>\n    <tr>\n      <th>4</th>\n      <td>B07WFQYDD5</td>\n      <td>None</td>\n    </tr>\n    <tr>\n      <th>...</th>\n      <td>...</td>\n      <td>...</td>\n    </tr>\n    <tr>\n      <th>7085</th>\n      <td>B07X3HW28M</td>\n      <td>None</td>\n    </tr>\n    <tr>\n      <th>7086</th>\n      <td>B007S02GQG</td>\n      <td>None</td>\n    </tr>\n    <tr>\n      <th>7087</th>\n      <td>B01C5NUSLA</td>\n      <td>None</td>\n    </tr>\n    <tr>\n      <th>7088</th>\n      <td>picassoRedirect.html</td>\n      <td>FB076MT8CS5</td>\n    </tr>\n    <tr>\n      <th>7089</th>\n      <td>picassoRedirect.html</td>\n      <td>FB08KSTH7WN</td>\n    </tr>\n  </tbody>\n</table>\n<p>7090 rows × 2 columns</p>\n</div>"
     },
     "metadata": {},
     "execution_count": 21
    }
   ],
   "source": [
    "dslr6 = pd.concat([asin, dslr5], axis=1)\n",
    "dslr6"
   ]
  },
  {
   "cell_type": "code",
   "execution_count": 22,
   "metadata": {},
   "outputs": [
    {
     "output_type": "execute_result",
     "data": {
      "text/plain": [
       "                        c5          d4\n",
       "0               B087T9B6X5        None\n",
       "1               B08DQ4QQ6R        None\n",
       "2               B07Y5K1215        None\n",
       "3               B087SJ9S4W        None\n",
       "4               B07WFQYDD5        None\n",
       "...                    ...         ...\n",
       "7085            B07X3HW28M        None\n",
       "7086            B007S02GQG        None\n",
       "7087            B01C5NUSLA        None\n",
       "7088  picassoRedirect.html  B076MT8CS5\n",
       "7089  picassoRedirect.html  B08KSTH7WN\n",
       "\n",
       "[7090 rows x 2 columns]"
      ],
      "text/html": "<div>\n<style scoped>\n    .dataframe tbody tr th:only-of-type {\n        vertical-align: middle;\n    }\n\n    .dataframe tbody tr th {\n        vertical-align: top;\n    }\n\n    .dataframe thead th {\n        text-align: right;\n    }\n</style>\n<table border=\"1\" class=\"dataframe\">\n  <thead>\n    <tr style=\"text-align: right;\">\n      <th></th>\n      <th>c5</th>\n      <th>d4</th>\n    </tr>\n  </thead>\n  <tbody>\n    <tr>\n      <th>0</th>\n      <td>B087T9B6X5</td>\n      <td>None</td>\n    </tr>\n    <tr>\n      <th>1</th>\n      <td>B08DQ4QQ6R</td>\n      <td>None</td>\n    </tr>\n    <tr>\n      <th>2</th>\n      <td>B07Y5K1215</td>\n      <td>None</td>\n    </tr>\n    <tr>\n      <th>3</th>\n      <td>B087SJ9S4W</td>\n      <td>None</td>\n    </tr>\n    <tr>\n      <th>4</th>\n      <td>B07WFQYDD5</td>\n      <td>None</td>\n    </tr>\n    <tr>\n      <th>...</th>\n      <td>...</td>\n      <td>...</td>\n    </tr>\n    <tr>\n      <th>7085</th>\n      <td>B07X3HW28M</td>\n      <td>None</td>\n    </tr>\n    <tr>\n      <th>7086</th>\n      <td>B007S02GQG</td>\n      <td>None</td>\n    </tr>\n    <tr>\n      <th>7087</th>\n      <td>B01C5NUSLA</td>\n      <td>None</td>\n    </tr>\n    <tr>\n      <th>7088</th>\n      <td>picassoRedirect.html</td>\n      <td>B076MT8CS5</td>\n    </tr>\n    <tr>\n      <th>7089</th>\n      <td>picassoRedirect.html</td>\n      <td>B08KSTH7WN</td>\n    </tr>\n  </tbody>\n</table>\n<p>7090 rows × 2 columns</p>\n</div>"
     },
     "metadata": {},
     "execution_count": 22
    }
   ],
   "source": [
    "dslr6['d4'] = dslr6['d4'].str[1:]\n",
    "dslr6"
   ]
  },
  {
   "cell_type": "code",
   "execution_count": 23,
   "metadata": {},
   "outputs": [
    {
     "output_type": "execute_result",
     "data": {
      "text/plain": [
       "              c5          d4\n",
       "0     B087T9B6X5        None\n",
       "1     B08DQ4QQ6R        None\n",
       "2     B07Y5K1215        None\n",
       "3     B087SJ9S4W        None\n",
       "4     B07WFQYDD5        None\n",
       "...          ...         ...\n",
       "7085  B07X3HW28M        None\n",
       "7086  B007S02GQG        None\n",
       "7087  B01C5NUSLA        None\n",
       "7088  B076MT8CS5  B076MT8CS5\n",
       "7089  B08KSTH7WN  B08KSTH7WN\n",
       "\n",
       "[7090 rows x 2 columns]"
      ],
      "text/html": "<div>\n<style scoped>\n    .dataframe tbody tr th:only-of-type {\n        vertical-align: middle;\n    }\n\n    .dataframe tbody tr th {\n        vertical-align: top;\n    }\n\n    .dataframe thead th {\n        text-align: right;\n    }\n</style>\n<table border=\"1\" class=\"dataframe\">\n  <thead>\n    <tr style=\"text-align: right;\">\n      <th></th>\n      <th>c5</th>\n      <th>d4</th>\n    </tr>\n  </thead>\n  <tbody>\n    <tr>\n      <th>0</th>\n      <td>B087T9B6X5</td>\n      <td>None</td>\n    </tr>\n    <tr>\n      <th>1</th>\n      <td>B08DQ4QQ6R</td>\n      <td>None</td>\n    </tr>\n    <tr>\n      <th>2</th>\n      <td>B07Y5K1215</td>\n      <td>None</td>\n    </tr>\n    <tr>\n      <th>3</th>\n      <td>B087SJ9S4W</td>\n      <td>None</td>\n    </tr>\n    <tr>\n      <th>4</th>\n      <td>B07WFQYDD5</td>\n      <td>None</td>\n    </tr>\n    <tr>\n      <th>...</th>\n      <td>...</td>\n      <td>...</td>\n    </tr>\n    <tr>\n      <th>7085</th>\n      <td>B07X3HW28M</td>\n      <td>None</td>\n    </tr>\n    <tr>\n      <th>7086</th>\n      <td>B007S02GQG</td>\n      <td>None</td>\n    </tr>\n    <tr>\n      <th>7087</th>\n      <td>B01C5NUSLA</td>\n      <td>None</td>\n    </tr>\n    <tr>\n      <th>7088</th>\n      <td>B076MT8CS5</td>\n      <td>B076MT8CS5</td>\n    </tr>\n    <tr>\n      <th>7089</th>\n      <td>B08KSTH7WN</td>\n      <td>B08KSTH7WN</td>\n    </tr>\n  </tbody>\n</table>\n<p>7090 rows × 2 columns</p>\n</div>"
     },
     "metadata": {},
     "execution_count": 23
    }
   ],
   "source": [
    "dslr6['c5'] = np.where(dslr6['c5'] == 'picassoRedirect.html', dslr6['d4'], dslr6['c5'])\n",
    "dslr6"
   ]
  },
  {
   "cell_type": "code",
   "execution_count": 24,
   "metadata": {},
   "outputs": [
    {
     "output_type": "execute_result",
     "data": {
      "text/plain": [
       "              c5\n",
       "0     B087T9B6X5\n",
       "1     B08DQ4QQ6R\n",
       "2     B07Y5K1215\n",
       "3     B087SJ9S4W\n",
       "4     B07WFQYDD5\n",
       "...          ...\n",
       "7085  B07X3HW28M\n",
       "7086  B007S02GQG\n",
       "7087  B01C5NUSLA\n",
       "7088  B076MT8CS5\n",
       "7089  B08KSTH7WN\n",
       "\n",
       "[7090 rows x 1 columns]"
      ],
      "text/html": "<div>\n<style scoped>\n    .dataframe tbody tr th:only-of-type {\n        vertical-align: middle;\n    }\n\n    .dataframe tbody tr th {\n        vertical-align: top;\n    }\n\n    .dataframe thead th {\n        text-align: right;\n    }\n</style>\n<table border=\"1\" class=\"dataframe\">\n  <thead>\n    <tr style=\"text-align: right;\">\n      <th></th>\n      <th>c5</th>\n    </tr>\n  </thead>\n  <tbody>\n    <tr>\n      <th>0</th>\n      <td>B087T9B6X5</td>\n    </tr>\n    <tr>\n      <th>1</th>\n      <td>B08DQ4QQ6R</td>\n    </tr>\n    <tr>\n      <th>2</th>\n      <td>B07Y5K1215</td>\n    </tr>\n    <tr>\n      <th>3</th>\n      <td>B087SJ9S4W</td>\n    </tr>\n    <tr>\n      <th>4</th>\n      <td>B07WFQYDD5</td>\n    </tr>\n    <tr>\n      <th>...</th>\n      <td>...</td>\n    </tr>\n    <tr>\n      <th>7085</th>\n      <td>B07X3HW28M</td>\n    </tr>\n    <tr>\n      <th>7086</th>\n      <td>B007S02GQG</td>\n    </tr>\n    <tr>\n      <th>7087</th>\n      <td>B01C5NUSLA</td>\n    </tr>\n    <tr>\n      <th>7088</th>\n      <td>B076MT8CS5</td>\n    </tr>\n    <tr>\n      <th>7089</th>\n      <td>B08KSTH7WN</td>\n    </tr>\n  </tbody>\n</table>\n<p>7090 rows × 1 columns</p>\n</div>"
     },
     "metadata": {},
     "execution_count": 24
    }
   ],
   "source": [
    "newasin = dslr6.drop(['d4'],axis=1)\n",
    "newasin"
   ]
  },
  {
   "cell_type": "code",
   "execution_count": 25,
   "metadata": {},
   "outputs": [
    {
     "output_type": "execute_result",
     "data": {
      "text/plain": [
       "                                                  title  \\\n",
       "0     Canon EOS Rebel T100 DSLR Camera with 18-55mm ...   \n",
       "1     Canon EOS 4000D / Rebel T100 Digital SLR Camer...   \n",
       "2     EOS 4000D Digital Camera with EF-S 18-55MM F/3...   \n",
       "3     Canon EOS Rebel T7 DSLR Camera with 18-55mm f/...   \n",
       "4     Canon DSLR Camera [EOS 90D] with Built-in Wi-F...   \n",
       "...                                                 ...   \n",
       "7085  Extension Rod Pole Bar SZ_ABTO Adjustable Self...   \n",
       "7086        LumiQuest Snoot XTR with UltraStrap LQ-115S   \n",
       "7087  MegaGear Panasonic Lumix DMC-ZS60, DMC-TZ80 Ul...   \n",
       "7088  Meike MK420N TTL Li-ion Battery Camera Flash S...   \n",
       "7089  Dazzne Desk Mount Stand, 12.9-22inch Tabletop ...   \n",
       "\n",
       "                                                    url  rating  review_count  \\\n",
       "0     https://www.amazon.com/Canon-EOS-Rebel-T100-18...     4.7           186   \n",
       "1     https://www.amazon.com/Canon-4000D-Digital-Com...     4.6            18   \n",
       "2     https://www.amazon.com/Digital-18-55MM-3-5-5-6...     4.5            79   \n",
       "3     https://www.amazon.com/Canon-EOS-Rebel-T7-18-5...     4.7           294   \n",
       "4     https://www.amazon.com/Canon-Digital-Camera-Bl...     4.9           330   \n",
       "...                                                 ...     ...           ...   \n",
       "7085  https://www.amazon.com/SZ_ABTO-Adjustable-Exte...     4.3            28   \n",
       "7086  https://www.amazon.com/LumiQuest-Snoot-XTR-Ult...     3.7             8   \n",
       "7087  https://www.amazon.com/MegaGear-Panasonic-DMC-...     3.3            13   \n",
       "7088  https://www.amazon.com/gp/slredirect/picassoRe...     5.0             5   \n",
       "7089  https://www.amazon.com/gp/slredirect/picassoRe...     4.8            55   \n",
       "\n",
       "        price product_type          c5  \n",
       "0      419.00         DSLR  B087T9B6X5  \n",
       "1      489.95         DSLR  B08DQ4QQ6R  \n",
       "2      444.99         DSLR  B07Y5K1215  \n",
       "3      549.00         DSLR  B087SJ9S4W  \n",
       "4     1199.00         DSLR  B07WFQYDD5  \n",
       "...       ...          ...         ...  \n",
       "7085    11.98         DSLR  B07X3HW28M  \n",
       "7086    49.95         DSLR  B007S02GQG  \n",
       "7087    14.99         DSLR  B01C5NUSLA  \n",
       "7088    53.99         DSLR  B076MT8CS5  \n",
       "7089    32.99         DSLR  B08KSTH7WN  \n",
       "\n",
       "[7090 rows x 7 columns]"
      ],
      "text/html": "<div>\n<style scoped>\n    .dataframe tbody tr th:only-of-type {\n        vertical-align: middle;\n    }\n\n    .dataframe tbody tr th {\n        vertical-align: top;\n    }\n\n    .dataframe thead th {\n        text-align: right;\n    }\n</style>\n<table border=\"1\" class=\"dataframe\">\n  <thead>\n    <tr style=\"text-align: right;\">\n      <th></th>\n      <th>title</th>\n      <th>url</th>\n      <th>rating</th>\n      <th>review_count</th>\n      <th>price</th>\n      <th>product_type</th>\n      <th>c5</th>\n    </tr>\n  </thead>\n  <tbody>\n    <tr>\n      <th>0</th>\n      <td>Canon EOS Rebel T100 DSLR Camera with 18-55mm ...</td>\n      <td>https://www.amazon.com/Canon-EOS-Rebel-T100-18...</td>\n      <td>4.7</td>\n      <td>186</td>\n      <td>419.00</td>\n      <td>DSLR</td>\n      <td>B087T9B6X5</td>\n    </tr>\n    <tr>\n      <th>1</th>\n      <td>Canon EOS 4000D / Rebel T100 Digital SLR Camer...</td>\n      <td>https://www.amazon.com/Canon-4000D-Digital-Com...</td>\n      <td>4.6</td>\n      <td>18</td>\n      <td>489.95</td>\n      <td>DSLR</td>\n      <td>B08DQ4QQ6R</td>\n    </tr>\n    <tr>\n      <th>2</th>\n      <td>EOS 4000D Digital Camera with EF-S 18-55MM F/3...</td>\n      <td>https://www.amazon.com/Digital-18-55MM-3-5-5-6...</td>\n      <td>4.5</td>\n      <td>79</td>\n      <td>444.99</td>\n      <td>DSLR</td>\n      <td>B07Y5K1215</td>\n    </tr>\n    <tr>\n      <th>3</th>\n      <td>Canon EOS Rebel T7 DSLR Camera with 18-55mm f/...</td>\n      <td>https://www.amazon.com/Canon-EOS-Rebel-T7-18-5...</td>\n      <td>4.7</td>\n      <td>294</td>\n      <td>549.00</td>\n      <td>DSLR</td>\n      <td>B087SJ9S4W</td>\n    </tr>\n    <tr>\n      <th>4</th>\n      <td>Canon DSLR Camera [EOS 90D] with Built-in Wi-F...</td>\n      <td>https://www.amazon.com/Canon-Digital-Camera-Bl...</td>\n      <td>4.9</td>\n      <td>330</td>\n      <td>1199.00</td>\n      <td>DSLR</td>\n      <td>B07WFQYDD5</td>\n    </tr>\n    <tr>\n      <th>...</th>\n      <td>...</td>\n      <td>...</td>\n      <td>...</td>\n      <td>...</td>\n      <td>...</td>\n      <td>...</td>\n      <td>...</td>\n    </tr>\n    <tr>\n      <th>7085</th>\n      <td>Extension Rod Pole Bar SZ_ABTO Adjustable Self...</td>\n      <td>https://www.amazon.com/SZ_ABTO-Adjustable-Exte...</td>\n      <td>4.3</td>\n      <td>28</td>\n      <td>11.98</td>\n      <td>DSLR</td>\n      <td>B07X3HW28M</td>\n    </tr>\n    <tr>\n      <th>7086</th>\n      <td>LumiQuest Snoot XTR with UltraStrap LQ-115S</td>\n      <td>https://www.amazon.com/LumiQuest-Snoot-XTR-Ult...</td>\n      <td>3.7</td>\n      <td>8</td>\n      <td>49.95</td>\n      <td>DSLR</td>\n      <td>B007S02GQG</td>\n    </tr>\n    <tr>\n      <th>7087</th>\n      <td>MegaGear Panasonic Lumix DMC-ZS60, DMC-TZ80 Ul...</td>\n      <td>https://www.amazon.com/MegaGear-Panasonic-DMC-...</td>\n      <td>3.3</td>\n      <td>13</td>\n      <td>14.99</td>\n      <td>DSLR</td>\n      <td>B01C5NUSLA</td>\n    </tr>\n    <tr>\n      <th>7088</th>\n      <td>Meike MK420N TTL Li-ion Battery Camera Flash S...</td>\n      <td>https://www.amazon.com/gp/slredirect/picassoRe...</td>\n      <td>5.0</td>\n      <td>5</td>\n      <td>53.99</td>\n      <td>DSLR</td>\n      <td>B076MT8CS5</td>\n    </tr>\n    <tr>\n      <th>7089</th>\n      <td>Dazzne Desk Mount Stand, 12.9-22inch Tabletop ...</td>\n      <td>https://www.amazon.com/gp/slredirect/picassoRe...</td>\n      <td>4.8</td>\n      <td>55</td>\n      <td>32.99</td>\n      <td>DSLR</td>\n      <td>B08KSTH7WN</td>\n    </tr>\n  </tbody>\n</table>\n<p>7090 rows × 7 columns</p>\n</div>"
     },
     "metadata": {},
     "execution_count": 25
    }
   ],
   "source": [
    "dslrasin = pd.concat([dslr1, newasin], axis=1)\n",
    "dslrasin"
   ]
  },
  {
   "cell_type": "code",
   "execution_count": 26,
   "metadata": {},
   "outputs": [],
   "source": [
    "dslrasin = dslrasin.drop(['url' ], axis = 1)"
   ]
  },
  {
   "cell_type": "code",
   "execution_count": 27,
   "metadata": {},
   "outputs": [
    {
     "output_type": "execute_result",
     "data": {
      "text/plain": [
       "                                                  title  rating  review_count  \\\n",
       "0     Canon EOS Rebel T100 DSLR Camera with 18-55mm ...     4.7           186   \n",
       "1     Canon EOS 4000D / Rebel T100 Digital SLR Camer...     4.6            18   \n",
       "2     EOS 4000D Digital Camera with EF-S 18-55MM F/3...     4.5            79   \n",
       "3     Canon EOS Rebel T7 DSLR Camera with 18-55mm f/...     4.7           294   \n",
       "4     Canon DSLR Camera [EOS 90D] with Built-in Wi-F...     4.9           330   \n",
       "...                                                 ...     ...           ...   \n",
       "7085  Extension Rod Pole Bar SZ_ABTO Adjustable Self...     4.3            28   \n",
       "7086        LumiQuest Snoot XTR with UltraStrap LQ-115S     3.7             8   \n",
       "7087  MegaGear Panasonic Lumix DMC-ZS60, DMC-TZ80 Ul...     3.3            13   \n",
       "7088  Meike MK420N TTL Li-ion Battery Camera Flash S...     5.0             5   \n",
       "7089  Dazzne Desk Mount Stand, 12.9-22inch Tabletop ...     4.8            55   \n",
       "\n",
       "        price product_type        ASIN  \n",
       "0      419.00         DSLR  B087T9B6X5  \n",
       "1      489.95         DSLR  B08DQ4QQ6R  \n",
       "2      444.99         DSLR  B07Y5K1215  \n",
       "3      549.00         DSLR  B087SJ9S4W  \n",
       "4     1199.00         DSLR  B07WFQYDD5  \n",
       "...       ...          ...         ...  \n",
       "7085    11.98         DSLR  B07X3HW28M  \n",
       "7086    49.95         DSLR  B007S02GQG  \n",
       "7087    14.99         DSLR  B01C5NUSLA  \n",
       "7088    53.99         DSLR  B076MT8CS5  \n",
       "7089    32.99         DSLR  B08KSTH7WN  \n",
       "\n",
       "[7090 rows x 6 columns]"
      ],
      "text/html": "<div>\n<style scoped>\n    .dataframe tbody tr th:only-of-type {\n        vertical-align: middle;\n    }\n\n    .dataframe tbody tr th {\n        vertical-align: top;\n    }\n\n    .dataframe thead th {\n        text-align: right;\n    }\n</style>\n<table border=\"1\" class=\"dataframe\">\n  <thead>\n    <tr style=\"text-align: right;\">\n      <th></th>\n      <th>title</th>\n      <th>rating</th>\n      <th>review_count</th>\n      <th>price</th>\n      <th>product_type</th>\n      <th>ASIN</th>\n    </tr>\n  </thead>\n  <tbody>\n    <tr>\n      <th>0</th>\n      <td>Canon EOS Rebel T100 DSLR Camera with 18-55mm ...</td>\n      <td>4.7</td>\n      <td>186</td>\n      <td>419.00</td>\n      <td>DSLR</td>\n      <td>B087T9B6X5</td>\n    </tr>\n    <tr>\n      <th>1</th>\n      <td>Canon EOS 4000D / Rebel T100 Digital SLR Camer...</td>\n      <td>4.6</td>\n      <td>18</td>\n      <td>489.95</td>\n      <td>DSLR</td>\n      <td>B08DQ4QQ6R</td>\n    </tr>\n    <tr>\n      <th>2</th>\n      <td>EOS 4000D Digital Camera with EF-S 18-55MM F/3...</td>\n      <td>4.5</td>\n      <td>79</td>\n      <td>444.99</td>\n      <td>DSLR</td>\n      <td>B07Y5K1215</td>\n    </tr>\n    <tr>\n      <th>3</th>\n      <td>Canon EOS Rebel T7 DSLR Camera with 18-55mm f/...</td>\n      <td>4.7</td>\n      <td>294</td>\n      <td>549.00</td>\n      <td>DSLR</td>\n      <td>B087SJ9S4W</td>\n    </tr>\n    <tr>\n      <th>4</th>\n      <td>Canon DSLR Camera [EOS 90D] with Built-in Wi-F...</td>\n      <td>4.9</td>\n      <td>330</td>\n      <td>1199.00</td>\n      <td>DSLR</td>\n      <td>B07WFQYDD5</td>\n    </tr>\n    <tr>\n      <th>...</th>\n      <td>...</td>\n      <td>...</td>\n      <td>...</td>\n      <td>...</td>\n      <td>...</td>\n      <td>...</td>\n    </tr>\n    <tr>\n      <th>7085</th>\n      <td>Extension Rod Pole Bar SZ_ABTO Adjustable Self...</td>\n      <td>4.3</td>\n      <td>28</td>\n      <td>11.98</td>\n      <td>DSLR</td>\n      <td>B07X3HW28M</td>\n    </tr>\n    <tr>\n      <th>7086</th>\n      <td>LumiQuest Snoot XTR with UltraStrap LQ-115S</td>\n      <td>3.7</td>\n      <td>8</td>\n      <td>49.95</td>\n      <td>DSLR</td>\n      <td>B007S02GQG</td>\n    </tr>\n    <tr>\n      <th>7087</th>\n      <td>MegaGear Panasonic Lumix DMC-ZS60, DMC-TZ80 Ul...</td>\n      <td>3.3</td>\n      <td>13</td>\n      <td>14.99</td>\n      <td>DSLR</td>\n      <td>B01C5NUSLA</td>\n    </tr>\n    <tr>\n      <th>7088</th>\n      <td>Meike MK420N TTL Li-ion Battery Camera Flash S...</td>\n      <td>5.0</td>\n      <td>5</td>\n      <td>53.99</td>\n      <td>DSLR</td>\n      <td>B076MT8CS5</td>\n    </tr>\n    <tr>\n      <th>7089</th>\n      <td>Dazzne Desk Mount Stand, 12.9-22inch Tabletop ...</td>\n      <td>4.8</td>\n      <td>55</td>\n      <td>32.99</td>\n      <td>DSLR</td>\n      <td>B08KSTH7WN</td>\n    </tr>\n  </tbody>\n</table>\n<p>7090 rows × 6 columns</p>\n</div>"
     },
     "metadata": {},
     "execution_count": 27
    }
   ],
   "source": [
    "dslrasin = dslrasin.rename(columns={'c5': 'ASIN'})\n",
    "dslrasin"
   ]
  },
  {
   "cell_type": "code",
   "execution_count": 69,
   "metadata": {},
   "outputs": [
    {
     "output_type": "execute_result",
     "data": {
      "text/plain": [
       "            ASIN                                              title   price  \\\n",
       "3521  B06XWMQ81P  SanDisk 32GB Extreme microSDHC UHS-I Memory Ca...   10.49   \n",
       "2034  B0887CHVFF  SAMSUNG EVO Select 512GB microSDXC UHS-I U3 10...   64.99   \n",
       "775   B0143IIP4W  SanDisk Ultra 64GB Class 10 SDXC UHS-I Memory ...   14.85   \n",
       "1153  B07H9DVLBB  SanDisk 128GB Extreme PRO SDXC UHS-I Card - C1...   34.67   \n",
       "5618  B079SKH8ZZ  Kingston Canvas Go! 512GB SDXC Class 10 SD Mem...  230.87   \n",
       "...          ...                                                ...     ...   \n",
       "5715  B07VQCVKXT  MegaGear Pebble Genuine Leather Camera Messeng...   79.99   \n",
       "6604  B07JYR8CNZ  CamDesign 10 Packs Camera Flashlight Hot Shoe ...    8.45   \n",
       "6706  B07G669QQH  Think Tank 6289 Photo Hydrophobic M 24 70 V3, ...  114.75   \n",
       "6775  B08SBHRY66  1TB Micro SD Card High Speed Micro SD SDXC Car...   38.99   \n",
       "6970  B07G669QQH  Think Tank 6289 Photo Hydrophobic M 24 70 V3, ...  114.75   \n",
       "\n",
       "      rating  review_count product_type  \n",
       "3521     4.8        160518         DSLR  \n",
       "2034     4.8        101215         DSLR  \n",
       "775      4.7         83534         DSLR  \n",
       "1153     4.8         77057         DSLR  \n",
       "5618     4.6         49358         DSLR  \n",
       "...      ...           ...          ...  \n",
       "5715     1.0             1         DSLR  \n",
       "6604     1.0             1         DSLR  \n",
       "6706     1.0             1         DSLR  \n",
       "6775     1.0             1         DSLR  \n",
       "6970     1.0             1         DSLR  \n",
       "\n",
       "[7090 rows x 6 columns]"
      ],
      "text/html": "<div>\n<style scoped>\n    .dataframe tbody tr th:only-of-type {\n        vertical-align: middle;\n    }\n\n    .dataframe tbody tr th {\n        vertical-align: top;\n    }\n\n    .dataframe thead th {\n        text-align: right;\n    }\n</style>\n<table border=\"1\" class=\"dataframe\">\n  <thead>\n    <tr style=\"text-align: right;\">\n      <th></th>\n      <th>ASIN</th>\n      <th>title</th>\n      <th>price</th>\n      <th>rating</th>\n      <th>review_count</th>\n      <th>product_type</th>\n    </tr>\n  </thead>\n  <tbody>\n    <tr>\n      <th>3521</th>\n      <td>B06XWMQ81P</td>\n      <td>SanDisk 32GB Extreme microSDHC UHS-I Memory Ca...</td>\n      <td>10.49</td>\n      <td>4.8</td>\n      <td>160518</td>\n      <td>DSLR</td>\n    </tr>\n    <tr>\n      <th>2034</th>\n      <td>B0887CHVFF</td>\n      <td>SAMSUNG EVO Select 512GB microSDXC UHS-I U3 10...</td>\n      <td>64.99</td>\n      <td>4.8</td>\n      <td>101215</td>\n      <td>DSLR</td>\n    </tr>\n    <tr>\n      <th>775</th>\n      <td>B0143IIP4W</td>\n      <td>SanDisk Ultra 64GB Class 10 SDXC UHS-I Memory ...</td>\n      <td>14.85</td>\n      <td>4.7</td>\n      <td>83534</td>\n      <td>DSLR</td>\n    </tr>\n    <tr>\n      <th>1153</th>\n      <td>B07H9DVLBB</td>\n      <td>SanDisk 128GB Extreme PRO SDXC UHS-I Card - C1...</td>\n      <td>34.67</td>\n      <td>4.8</td>\n      <td>77057</td>\n      <td>DSLR</td>\n    </tr>\n    <tr>\n      <th>5618</th>\n      <td>B079SKH8ZZ</td>\n      <td>Kingston Canvas Go! 512GB SDXC Class 10 SD Mem...</td>\n      <td>230.87</td>\n      <td>4.6</td>\n      <td>49358</td>\n      <td>DSLR</td>\n    </tr>\n    <tr>\n      <th>...</th>\n      <td>...</td>\n      <td>...</td>\n      <td>...</td>\n      <td>...</td>\n      <td>...</td>\n      <td>...</td>\n    </tr>\n    <tr>\n      <th>5715</th>\n      <td>B07VQCVKXT</td>\n      <td>MegaGear Pebble Genuine Leather Camera Messeng...</td>\n      <td>79.99</td>\n      <td>1.0</td>\n      <td>1</td>\n      <td>DSLR</td>\n    </tr>\n    <tr>\n      <th>6604</th>\n      <td>B07JYR8CNZ</td>\n      <td>CamDesign 10 Packs Camera Flashlight Hot Shoe ...</td>\n      <td>8.45</td>\n      <td>1.0</td>\n      <td>1</td>\n      <td>DSLR</td>\n    </tr>\n    <tr>\n      <th>6706</th>\n      <td>B07G669QQH</td>\n      <td>Think Tank 6289 Photo Hydrophobic M 24 70 V3, ...</td>\n      <td>114.75</td>\n      <td>1.0</td>\n      <td>1</td>\n      <td>DSLR</td>\n    </tr>\n    <tr>\n      <th>6775</th>\n      <td>B08SBHRY66</td>\n      <td>1TB Micro SD Card High Speed Micro SD SDXC Car...</td>\n      <td>38.99</td>\n      <td>1.0</td>\n      <td>1</td>\n      <td>DSLR</td>\n    </tr>\n    <tr>\n      <th>6970</th>\n      <td>B07G669QQH</td>\n      <td>Think Tank 6289 Photo Hydrophobic M 24 70 V3, ...</td>\n      <td>114.75</td>\n      <td>1.0</td>\n      <td>1</td>\n      <td>DSLR</td>\n    </tr>\n  </tbody>\n</table>\n<p>7090 rows × 6 columns</p>\n</div>"
     },
     "metadata": {},
     "execution_count": 69
    }
   ],
   "source": [
    "#checking according to number of reviews_count\n",
    "dslrasin = dslrasin.sort_values(['review_count','rating'], ascending= False)\n",
    "dslrasin"
   ]
  },
  {
   "cell_type": "code",
   "execution_count": 28,
   "metadata": {},
   "outputs": [
    {
     "output_type": "execute_result",
     "data": {
      "text/plain": [
       "            ASIN                                              title    price  \\\n",
       "0     B087T9B6X5  Canon EOS Rebel T100 DSLR Camera with 18-55mm ...   419.00   \n",
       "1     B08DQ4QQ6R  Canon EOS 4000D / Rebel T100 Digital SLR Camer...   489.95   \n",
       "2     B07Y5K1215  EOS 4000D Digital Camera with EF-S 18-55MM F/3...   444.99   \n",
       "3     B087SJ9S4W  Canon EOS Rebel T7 DSLR Camera with 18-55mm f/...   549.00   \n",
       "4     B07WFQYDD5  Canon DSLR Camera [EOS 90D] with Built-in Wi-F...  1199.00   \n",
       "...          ...                                                ...      ...   \n",
       "7085  B07X3HW28M  Extension Rod Pole Bar SZ_ABTO Adjustable Self...    11.98   \n",
       "7086  B007S02GQG        LumiQuest Snoot XTR with UltraStrap LQ-115S    49.95   \n",
       "7087  B01C5NUSLA  MegaGear Panasonic Lumix DMC-ZS60, DMC-TZ80 Ul...    14.99   \n",
       "7088  B076MT8CS5  Meike MK420N TTL Li-ion Battery Camera Flash S...    53.99   \n",
       "7089  B08KSTH7WN  Dazzne Desk Mount Stand, 12.9-22inch Tabletop ...    32.99   \n",
       "\n",
       "      rating  review_count product_type  \n",
       "0        4.7           186         DSLR  \n",
       "1        4.6            18         DSLR  \n",
       "2        4.5            79         DSLR  \n",
       "3        4.7           294         DSLR  \n",
       "4        4.9           330         DSLR  \n",
       "...      ...           ...          ...  \n",
       "7085     4.3            28         DSLR  \n",
       "7086     3.7             8         DSLR  \n",
       "7087     3.3            13         DSLR  \n",
       "7088     5.0             5         DSLR  \n",
       "7089     4.8            55         DSLR  \n",
       "\n",
       "[7090 rows x 6 columns]"
      ],
      "text/html": "<div>\n<style scoped>\n    .dataframe tbody tr th:only-of-type {\n        vertical-align: middle;\n    }\n\n    .dataframe tbody tr th {\n        vertical-align: top;\n    }\n\n    .dataframe thead th {\n        text-align: right;\n    }\n</style>\n<table border=\"1\" class=\"dataframe\">\n  <thead>\n    <tr style=\"text-align: right;\">\n      <th></th>\n      <th>ASIN</th>\n      <th>title</th>\n      <th>price</th>\n      <th>rating</th>\n      <th>review_count</th>\n      <th>product_type</th>\n    </tr>\n  </thead>\n  <tbody>\n    <tr>\n      <th>0</th>\n      <td>B087T9B6X5</td>\n      <td>Canon EOS Rebel T100 DSLR Camera with 18-55mm ...</td>\n      <td>419.00</td>\n      <td>4.7</td>\n      <td>186</td>\n      <td>DSLR</td>\n    </tr>\n    <tr>\n      <th>1</th>\n      <td>B08DQ4QQ6R</td>\n      <td>Canon EOS 4000D / Rebel T100 Digital SLR Camer...</td>\n      <td>489.95</td>\n      <td>4.6</td>\n      <td>18</td>\n      <td>DSLR</td>\n    </tr>\n    <tr>\n      <th>2</th>\n      <td>B07Y5K1215</td>\n      <td>EOS 4000D Digital Camera with EF-S 18-55MM F/3...</td>\n      <td>444.99</td>\n      <td>4.5</td>\n      <td>79</td>\n      <td>DSLR</td>\n    </tr>\n    <tr>\n      <th>3</th>\n      <td>B087SJ9S4W</td>\n      <td>Canon EOS Rebel T7 DSLR Camera with 18-55mm f/...</td>\n      <td>549.00</td>\n      <td>4.7</td>\n      <td>294</td>\n      <td>DSLR</td>\n    </tr>\n    <tr>\n      <th>4</th>\n      <td>B07WFQYDD5</td>\n      <td>Canon DSLR Camera [EOS 90D] with Built-in Wi-F...</td>\n      <td>1199.00</td>\n      <td>4.9</td>\n      <td>330</td>\n      <td>DSLR</td>\n    </tr>\n    <tr>\n      <th>...</th>\n      <td>...</td>\n      <td>...</td>\n      <td>...</td>\n      <td>...</td>\n      <td>...</td>\n      <td>...</td>\n    </tr>\n    <tr>\n      <th>7085</th>\n      <td>B07X3HW28M</td>\n      <td>Extension Rod Pole Bar SZ_ABTO Adjustable Self...</td>\n      <td>11.98</td>\n      <td>4.3</td>\n      <td>28</td>\n      <td>DSLR</td>\n    </tr>\n    <tr>\n      <th>7086</th>\n      <td>B007S02GQG</td>\n      <td>LumiQuest Snoot XTR with UltraStrap LQ-115S</td>\n      <td>49.95</td>\n      <td>3.7</td>\n      <td>8</td>\n      <td>DSLR</td>\n    </tr>\n    <tr>\n      <th>7087</th>\n      <td>B01C5NUSLA</td>\n      <td>MegaGear Panasonic Lumix DMC-ZS60, DMC-TZ80 Ul...</td>\n      <td>14.99</td>\n      <td>3.3</td>\n      <td>13</td>\n      <td>DSLR</td>\n    </tr>\n    <tr>\n      <th>7088</th>\n      <td>B076MT8CS5</td>\n      <td>Meike MK420N TTL Li-ion Battery Camera Flash S...</td>\n      <td>53.99</td>\n      <td>5.0</td>\n      <td>5</td>\n      <td>DSLR</td>\n    </tr>\n    <tr>\n      <th>7089</th>\n      <td>B08KSTH7WN</td>\n      <td>Dazzne Desk Mount Stand, 12.9-22inch Tabletop ...</td>\n      <td>32.99</td>\n      <td>4.8</td>\n      <td>55</td>\n      <td>DSLR</td>\n    </tr>\n  </tbody>\n</table>\n<p>7090 rows × 6 columns</p>\n</div>"
     },
     "metadata": {},
     "execution_count": 28
    }
   ],
   "source": [
    "#final search data for DSLR\n",
    "dslrasin = dslrasin[['ASIN', 'title', 'price', 'rating', 'review_count', 'product_type']]\n",
    "dslrasin"
   ]
  },
  {
   "cell_type": "code",
   "execution_count": 29,
   "metadata": {},
   "outputs": [],
   "source": [
    "#Productfile\n",
    "#Trying with Shekhar's code"
   ]
  },
  {
   "cell_type": "code",
   "execution_count": 30,
   "metadata": {},
   "outputs": [
    {
     "output_type": "execute_result",
     "data": {
      "text/plain": [
       "                                                   name product_tech_spec  \\\n",
       "0     Canon EOS Rebel T100 DSLR Camera with 18-55mm ...              None   \n",
       "1     Canon EOS 4000D / Rebel T100 Digital SLR Camer...              None   \n",
       "2     EOS 4000D Digital Camera with EF-S 18-55MM F/3...              None   \n",
       "3     Canon EOS Rebel T7 DSLR Camera with 18-55mm f/...              None   \n",
       "4     Canon DSLR Camera [EOS 90D] with Built-in Wi-F...              None   \n",
       "...                                                 ...               ...   \n",
       "8727  Extension Rod Pole Bar SZ_ABTO Adjustable Self...              None   \n",
       "8728        LumiQuest Snoot XTR with UltraStrap LQ-115S              None   \n",
       "8729  MegaGear Panasonic Lumix DMC-ZS60, DMC-TZ80 Ul...              None   \n",
       "8730  Meike MK420N TTL Li-ion Battery Camera Flash S...              None   \n",
       "8731  Dazzne Desk Mount Stand, 12.9-22inch Tabletop ...              None   \n",
       "\n",
       "     product_other_tech_spec  \\\n",
       "0                       None   \n",
       "1                       None   \n",
       "2                       None   \n",
       "3                       None   \n",
       "4                       None   \n",
       "...                      ...   \n",
       "8727                    None   \n",
       "8728                    None   \n",
       "8729                    None   \n",
       "8730                    None   \n",
       "8731                    None   \n",
       "\n",
       "                                           product_info              seller  \\\n",
       "0     [{'info': 'Product Dimensions', 'value': '3.06...        Al's Variety   \n",
       "1     [{'info': 'Package Dimensions', 'value': '17.5...           Think BIG   \n",
       "2     [{'info': 'Package Dimensions', 'value': '10.2...           Deal-Expo   \n",
       "3     [{'info': 'Product Dimensions', 'value': '3.06...        Al's Variety   \n",
       "4     [{'info': 'Product Dimensions', 'value': '3 x ...              PROCAM   \n",
       "...                                                 ...                 ...   \n",
       "8727  [{'info': 'Package Dimensions', 'value': '8.7 ...    SZ_ABTO security   \n",
       "8728  [{'info': 'Product Dimensions', 'value': '6 x ...           LumiQuest   \n",
       "8729  [{'info': 'Product Dimensions', 'value': '4 x ...           Mega Gear   \n",
       "8730  [{'info': 'Product Dimensions', 'value': '6.54...  Zenith digital bay   \n",
       "8731  [{'info': 'Package Dimensions', 'value': '17.6...            Lu_Store   \n",
       "\n",
       "                                            seller_link  \\\n",
       "0     https://www.amazon.com/gp/help/seller/at-a-gla...   \n",
       "1     https://www.amazon.com/gp/help/seller/at-a-gla...   \n",
       "2     https://www.amazon.com/gp/help/seller/at-a-gla...   \n",
       "3     https://www.amazon.com/gp/help/seller/at-a-gla...   \n",
       "4     https://www.amazon.com/gp/help/seller/at-a-gla...   \n",
       "...                                                 ...   \n",
       "8727  https://www.amazon.com/gp/help/seller/at-a-gla...   \n",
       "8728  https://www.amazon.com/gp/help/seller/at-a-gla...   \n",
       "8729  https://www.amazon.com/gp/help/seller/at-a-gla...   \n",
       "8730  https://www.amazon.com/gp/help/seller/at-a-gla...   \n",
       "8731  https://www.amazon.com/gp/help/seller/at-a-gla...   \n",
       "\n",
       "                                            freq_bought  \\\n",
       "0                                                  None   \n",
       "1                                                  None   \n",
       "2     SanDisk 128GB Ultra SDXC UHS-I Memory Card - 1...   \n",
       "3     Rebel T7 T6 Screen Protector for Canon EOS Reb...   \n",
       "4     SanDisk 128GB Extreme PRO SDXC UHS-I Card - C1...   \n",
       "...                                                 ...   \n",
       "8727  SanDisk 128GB Extreme microSDXC UHS-I Memory C...   \n",
       "8728                                               None   \n",
       "8729                                               None   \n",
       "8730                                               None   \n",
       "8731  UTEBIT Mini Ball Head with 1/4\" Hotshoe Mount ...   \n",
       "\n",
       "                                       freq_bought_link  \\\n",
       "0                                                  None   \n",
       "1                                                  None   \n",
       "2     https://www.amazon.com/SanDisk-128GB-Ultra-UHS...   \n",
       "3     https://www.amazon.com/Protector-Anti-Scrach-A...   \n",
       "4     https://www.amazon.com/SanDisk-128GB-Extreme-U...   \n",
       "...                                                 ...   \n",
       "8727  https://www.amazon.com/SanDisk-128GB-Extreme-m...   \n",
       "8728                                               None   \n",
       "8729                                               None   \n",
       "8730                                               None   \n",
       "8731  https://www.amazon.com/UTEBIT-Aluminum-Diamete...   \n",
       "\n",
       "                                    link_to_all_reviews  \n",
       "0     /Canon-EOS-Rebel-T100-18-55mm/product-reviews/...  \n",
       "1     /Canon-4000D-Digital-Complete-Accessory/produc...  \n",
       "2     /Digital-18-55MM-3-5-5-6-Accessories-Internati...  \n",
       "3     /Canon-EOS-Rebel-T7-18-55mm/product-reviews/B0...  \n",
       "4     /Canon-Digital-Camera-Black-3616C002/product-r...  \n",
       "...                                                 ...  \n",
       "8727  /SZ_ABTO-Adjustable-Extension-Handheld-Stabili...  \n",
       "8728  /LumiQuest-Snoot-XTR-UltraStrap-LQ-115S/produc...  \n",
       "8729  /MegaGear-Panasonic-DMC-ZS60-DMC-TZ80-Carabine...  \n",
       "8730  /Meike-Professional-Battery-Speedlite-Diffuser...  \n",
       "8731  /Dazzne-12-9-22inch-Tabletop-Adjustable-Alumin...  \n",
       "\n",
       "[8732 rows x 9 columns]"
      ],
      "text/html": "<div>\n<style scoped>\n    .dataframe tbody tr th:only-of-type {\n        vertical-align: middle;\n    }\n\n    .dataframe tbody tr th {\n        vertical-align: top;\n    }\n\n    .dataframe thead th {\n        text-align: right;\n    }\n</style>\n<table border=\"1\" class=\"dataframe\">\n  <thead>\n    <tr style=\"text-align: right;\">\n      <th></th>\n      <th>name</th>\n      <th>product_tech_spec</th>\n      <th>product_other_tech_spec</th>\n      <th>product_info</th>\n      <th>seller</th>\n      <th>seller_link</th>\n      <th>freq_bought</th>\n      <th>freq_bought_link</th>\n      <th>link_to_all_reviews</th>\n    </tr>\n  </thead>\n  <tbody>\n    <tr>\n      <th>0</th>\n      <td>Canon EOS Rebel T100 DSLR Camera with 18-55mm ...</td>\n      <td>None</td>\n      <td>None</td>\n      <td>[{'info': 'Product Dimensions', 'value': '3.06...</td>\n      <td>Al's Variety</td>\n      <td>https://www.amazon.com/gp/help/seller/at-a-gla...</td>\n      <td>None</td>\n      <td>None</td>\n      <td>/Canon-EOS-Rebel-T100-18-55mm/product-reviews/...</td>\n    </tr>\n    <tr>\n      <th>1</th>\n      <td>Canon EOS 4000D / Rebel T100 Digital SLR Camer...</td>\n      <td>None</td>\n      <td>None</td>\n      <td>[{'info': 'Package Dimensions', 'value': '17.5...</td>\n      <td>Think BIG</td>\n      <td>https://www.amazon.com/gp/help/seller/at-a-gla...</td>\n      <td>None</td>\n      <td>None</td>\n      <td>/Canon-4000D-Digital-Complete-Accessory/produc...</td>\n    </tr>\n    <tr>\n      <th>2</th>\n      <td>EOS 4000D Digital Camera with EF-S 18-55MM F/3...</td>\n      <td>None</td>\n      <td>None</td>\n      <td>[{'info': 'Package Dimensions', 'value': '10.2...</td>\n      <td>Deal-Expo</td>\n      <td>https://www.amazon.com/gp/help/seller/at-a-gla...</td>\n      <td>SanDisk 128GB Ultra SDXC UHS-I Memory Card - 1...</td>\n      <td>https://www.amazon.com/SanDisk-128GB-Ultra-UHS...</td>\n      <td>/Digital-18-55MM-3-5-5-6-Accessories-Internati...</td>\n    </tr>\n    <tr>\n      <th>3</th>\n      <td>Canon EOS Rebel T7 DSLR Camera with 18-55mm f/...</td>\n      <td>None</td>\n      <td>None</td>\n      <td>[{'info': 'Product Dimensions', 'value': '3.06...</td>\n      <td>Al's Variety</td>\n      <td>https://www.amazon.com/gp/help/seller/at-a-gla...</td>\n      <td>Rebel T7 T6 Screen Protector for Canon EOS Reb...</td>\n      <td>https://www.amazon.com/Protector-Anti-Scrach-A...</td>\n      <td>/Canon-EOS-Rebel-T7-18-55mm/product-reviews/B0...</td>\n    </tr>\n    <tr>\n      <th>4</th>\n      <td>Canon DSLR Camera [EOS 90D] with Built-in Wi-F...</td>\n      <td>None</td>\n      <td>None</td>\n      <td>[{'info': 'Product Dimensions', 'value': '3 x ...</td>\n      <td>PROCAM</td>\n      <td>https://www.amazon.com/gp/help/seller/at-a-gla...</td>\n      <td>SanDisk 128GB Extreme PRO SDXC UHS-I Card - C1...</td>\n      <td>https://www.amazon.com/SanDisk-128GB-Extreme-U...</td>\n      <td>/Canon-Digital-Camera-Black-3616C002/product-r...</td>\n    </tr>\n    <tr>\n      <th>...</th>\n      <td>...</td>\n      <td>...</td>\n      <td>...</td>\n      <td>...</td>\n      <td>...</td>\n      <td>...</td>\n      <td>...</td>\n      <td>...</td>\n      <td>...</td>\n    </tr>\n    <tr>\n      <th>8727</th>\n      <td>Extension Rod Pole Bar SZ_ABTO Adjustable Self...</td>\n      <td>None</td>\n      <td>None</td>\n      <td>[{'info': 'Package Dimensions', 'value': '8.7 ...</td>\n      <td>SZ_ABTO security</td>\n      <td>https://www.amazon.com/gp/help/seller/at-a-gla...</td>\n      <td>SanDisk 128GB Extreme microSDXC UHS-I Memory C...</td>\n      <td>https://www.amazon.com/SanDisk-128GB-Extreme-m...</td>\n      <td>/SZ_ABTO-Adjustable-Extension-Handheld-Stabili...</td>\n    </tr>\n    <tr>\n      <th>8728</th>\n      <td>LumiQuest Snoot XTR with UltraStrap LQ-115S</td>\n      <td>None</td>\n      <td>None</td>\n      <td>[{'info': 'Product Dimensions', 'value': '6 x ...</td>\n      <td>LumiQuest</td>\n      <td>https://www.amazon.com/gp/help/seller/at-a-gla...</td>\n      <td>None</td>\n      <td>None</td>\n      <td>/LumiQuest-Snoot-XTR-UltraStrap-LQ-115S/produc...</td>\n    </tr>\n    <tr>\n      <th>8729</th>\n      <td>MegaGear Panasonic Lumix DMC-ZS60, DMC-TZ80 Ul...</td>\n      <td>None</td>\n      <td>None</td>\n      <td>[{'info': 'Product Dimensions', 'value': '4 x ...</td>\n      <td>Mega Gear</td>\n      <td>https://www.amazon.com/gp/help/seller/at-a-gla...</td>\n      <td>None</td>\n      <td>None</td>\n      <td>/MegaGear-Panasonic-DMC-ZS60-DMC-TZ80-Carabine...</td>\n    </tr>\n    <tr>\n      <th>8730</th>\n      <td>Meike MK420N TTL Li-ion Battery Camera Flash S...</td>\n      <td>None</td>\n      <td>None</td>\n      <td>[{'info': 'Product Dimensions', 'value': '6.54...</td>\n      <td>Zenith digital bay</td>\n      <td>https://www.amazon.com/gp/help/seller/at-a-gla...</td>\n      <td>None</td>\n      <td>None</td>\n      <td>/Meike-Professional-Battery-Speedlite-Diffuser...</td>\n    </tr>\n    <tr>\n      <th>8731</th>\n      <td>Dazzne Desk Mount Stand, 12.9-22inch Tabletop ...</td>\n      <td>None</td>\n      <td>None</td>\n      <td>[{'info': 'Package Dimensions', 'value': '17.6...</td>\n      <td>Lu_Store</td>\n      <td>https://www.amazon.com/gp/help/seller/at-a-gla...</td>\n      <td>UTEBIT Mini Ball Head with 1/4\" Hotshoe Mount ...</td>\n      <td>https://www.amazon.com/UTEBIT-Aluminum-Diamete...</td>\n      <td>/Dazzne-12-9-22inch-Tabletop-Adjustable-Alumin...</td>\n    </tr>\n  </tbody>\n</table>\n<p>8732 rows × 9 columns</p>\n</div>"
     },
     "metadata": {},
     "execution_count": 30
    }
   ],
   "source": [
    "df = pd.read_json('dslrproduct.json')\n",
    "df"
   ]
  },
  {
   "cell_type": "code",
   "execution_count": 31,
   "metadata": {},
   "outputs": [
    {
     "output_type": "execute_result",
     "data": {
      "text/plain": [
       "name                         84\n",
       "product_tech_spec          8594\n",
       "product_other_tech_spec    8724\n",
       "product_info                307\n",
       "seller                     1400\n",
       "seller_link                1400\n",
       "freq_bought                6356\n",
       "freq_bought_link           6356\n",
       "link_to_all_reviews        1919\n",
       "dtype: int64"
      ]
     },
     "metadata": {},
     "execution_count": 31
    }
   ],
   "source": [
    "df.isnull().sum()"
   ]
  },
  {
   "cell_type": "code",
   "execution_count": 32,
   "metadata": {},
   "outputs": [
    {
     "output_type": "execute_result",
     "data": {
      "text/plain": [
       "0       [{'info': 'Product Dimensions', 'value': '3.06...\n",
       "1       [{'info': 'Package Dimensions', 'value': '17.5...\n",
       "2       [{'info': 'Package Dimensions', 'value': '10.2...\n",
       "3       [{'info': 'Product Dimensions', 'value': '3.06...\n",
       "4       [{'info': 'Product Dimensions', 'value': '3 x ...\n",
       "                              ...                        \n",
       "8727    [{'info': 'Package Dimensions', 'value': '8.7 ...\n",
       "8728    [{'info': 'Product Dimensions', 'value': '6 x ...\n",
       "8729    [{'info': 'Product Dimensions', 'value': '4 x ...\n",
       "8730    [{'info': 'Product Dimensions', 'value': '6.54...\n",
       "8731    [{'info': 'Package Dimensions', 'value': '17.6...\n",
       "Name: product_info, Length: 8732, dtype: object"
      ]
     },
     "metadata": {},
     "execution_count": 32
    }
   ],
   "source": [
    "df.product_info"
   ]
  },
  {
   "cell_type": "code",
   "execution_count": 33,
   "metadata": {},
   "outputs": [
    {
     "output_type": "execute_result",
     "data": {
      "text/plain": [
       "                                                   name  \\\n",
       "0     Canon EOS Rebel T100 DSLR Camera with 18-55mm ...   \n",
       "1     Canon EOS 4000D / Rebel T100 Digital SLR Camer...   \n",
       "2     EOS 4000D Digital Camera with EF-S 18-55MM F/3...   \n",
       "3     Canon EOS Rebel T7 DSLR Camera with 18-55mm f/...   \n",
       "4     Canon DSLR Camera [EOS 90D] with Built-in Wi-F...   \n",
       "...                                                 ...   \n",
       "8727  Extension Rod Pole Bar SZ_ABTO Adjustable Self...   \n",
       "8728        LumiQuest Snoot XTR with UltraStrap LQ-115S   \n",
       "8729  MegaGear Panasonic Lumix DMC-ZS60, DMC-TZ80 Ul...   \n",
       "8730  Meike MK420N TTL Li-ion Battery Camera Flash S...   \n",
       "8731  Dazzne Desk Mount Stand, 12.9-22inch Tabletop ...   \n",
       "\n",
       "                                           product_info              seller  \\\n",
       "0     [{'info': 'Product Dimensions', 'value': '3.06...        Al's Variety   \n",
       "1     [{'info': 'Package Dimensions', 'value': '17.5...           Think BIG   \n",
       "2     [{'info': 'Package Dimensions', 'value': '10.2...           Deal-Expo   \n",
       "3     [{'info': 'Product Dimensions', 'value': '3.06...        Al's Variety   \n",
       "4     [{'info': 'Product Dimensions', 'value': '3 x ...              PROCAM   \n",
       "...                                                 ...                 ...   \n",
       "8727  [{'info': 'Package Dimensions', 'value': '8.7 ...    SZ_ABTO security   \n",
       "8728  [{'info': 'Product Dimensions', 'value': '6 x ...           LumiQuest   \n",
       "8729  [{'info': 'Product Dimensions', 'value': '4 x ...           Mega Gear   \n",
       "8730  [{'info': 'Product Dimensions', 'value': '6.54...  Zenith digital bay   \n",
       "8731  [{'info': 'Package Dimensions', 'value': '17.6...            Lu_Store   \n",
       "\n",
       "                                            seller_link  \\\n",
       "0     https://www.amazon.com/gp/help/seller/at-a-gla...   \n",
       "1     https://www.amazon.com/gp/help/seller/at-a-gla...   \n",
       "2     https://www.amazon.com/gp/help/seller/at-a-gla...   \n",
       "3     https://www.amazon.com/gp/help/seller/at-a-gla...   \n",
       "4     https://www.amazon.com/gp/help/seller/at-a-gla...   \n",
       "...                                                 ...   \n",
       "8727  https://www.amazon.com/gp/help/seller/at-a-gla...   \n",
       "8728  https://www.amazon.com/gp/help/seller/at-a-gla...   \n",
       "8729  https://www.amazon.com/gp/help/seller/at-a-gla...   \n",
       "8730  https://www.amazon.com/gp/help/seller/at-a-gla...   \n",
       "8731  https://www.amazon.com/gp/help/seller/at-a-gla...   \n",
       "\n",
       "                                            freq_bought  \\\n",
       "0                                                  None   \n",
       "1                                                  None   \n",
       "2     SanDisk 128GB Ultra SDXC UHS-I Memory Card - 1...   \n",
       "3     Rebel T7 T6 Screen Protector for Canon EOS Reb...   \n",
       "4     SanDisk 128GB Extreme PRO SDXC UHS-I Card - C1...   \n",
       "...                                                 ...   \n",
       "8727  SanDisk 128GB Extreme microSDXC UHS-I Memory C...   \n",
       "8728                                               None   \n",
       "8729                                               None   \n",
       "8730                                               None   \n",
       "8731  UTEBIT Mini Ball Head with 1/4\" Hotshoe Mount ...   \n",
       "\n",
       "                                       freq_bought_link  \\\n",
       "0                                                  None   \n",
       "1                                                  None   \n",
       "2     https://www.amazon.com/SanDisk-128GB-Ultra-UHS...   \n",
       "3     https://www.amazon.com/Protector-Anti-Scrach-A...   \n",
       "4     https://www.amazon.com/SanDisk-128GB-Extreme-U...   \n",
       "...                                                 ...   \n",
       "8727  https://www.amazon.com/SanDisk-128GB-Extreme-m...   \n",
       "8728                                               None   \n",
       "8729                                               None   \n",
       "8730                                               None   \n",
       "8731  https://www.amazon.com/UTEBIT-Aluminum-Diamete...   \n",
       "\n",
       "                                    link_to_all_reviews  \n",
       "0     /Canon-EOS-Rebel-T100-18-55mm/product-reviews/...  \n",
       "1     /Canon-4000D-Digital-Complete-Accessory/produc...  \n",
       "2     /Digital-18-55MM-3-5-5-6-Accessories-Internati...  \n",
       "3     /Canon-EOS-Rebel-T7-18-55mm/product-reviews/B0...  \n",
       "4     /Canon-Digital-Camera-Black-3616C002/product-r...  \n",
       "...                                                 ...  \n",
       "8727  /SZ_ABTO-Adjustable-Extension-Handheld-Stabili...  \n",
       "8728  /LumiQuest-Snoot-XTR-UltraStrap-LQ-115S/produc...  \n",
       "8729  /MegaGear-Panasonic-DMC-ZS60-DMC-TZ80-Carabine...  \n",
       "8730  /Meike-Professional-Battery-Speedlite-Diffuser...  \n",
       "8731  /Dazzne-12-9-22inch-Tabletop-Adjustable-Alumin...  \n",
       "\n",
       "[8732 rows x 7 columns]"
      ],
      "text/html": "<div>\n<style scoped>\n    .dataframe tbody tr th:only-of-type {\n        vertical-align: middle;\n    }\n\n    .dataframe tbody tr th {\n        vertical-align: top;\n    }\n\n    .dataframe thead th {\n        text-align: right;\n    }\n</style>\n<table border=\"1\" class=\"dataframe\">\n  <thead>\n    <tr style=\"text-align: right;\">\n      <th></th>\n      <th>name</th>\n      <th>product_info</th>\n      <th>seller</th>\n      <th>seller_link</th>\n      <th>freq_bought</th>\n      <th>freq_bought_link</th>\n      <th>link_to_all_reviews</th>\n    </tr>\n  </thead>\n  <tbody>\n    <tr>\n      <th>0</th>\n      <td>Canon EOS Rebel T100 DSLR Camera with 18-55mm ...</td>\n      <td>[{'info': 'Product Dimensions', 'value': '3.06...</td>\n      <td>Al's Variety</td>\n      <td>https://www.amazon.com/gp/help/seller/at-a-gla...</td>\n      <td>None</td>\n      <td>None</td>\n      <td>/Canon-EOS-Rebel-T100-18-55mm/product-reviews/...</td>\n    </tr>\n    <tr>\n      <th>1</th>\n      <td>Canon EOS 4000D / Rebel T100 Digital SLR Camer...</td>\n      <td>[{'info': 'Package Dimensions', 'value': '17.5...</td>\n      <td>Think BIG</td>\n      <td>https://www.amazon.com/gp/help/seller/at-a-gla...</td>\n      <td>None</td>\n      <td>None</td>\n      <td>/Canon-4000D-Digital-Complete-Accessory/produc...</td>\n    </tr>\n    <tr>\n      <th>2</th>\n      <td>EOS 4000D Digital Camera with EF-S 18-55MM F/3...</td>\n      <td>[{'info': 'Package Dimensions', 'value': '10.2...</td>\n      <td>Deal-Expo</td>\n      <td>https://www.amazon.com/gp/help/seller/at-a-gla...</td>\n      <td>SanDisk 128GB Ultra SDXC UHS-I Memory Card - 1...</td>\n      <td>https://www.amazon.com/SanDisk-128GB-Ultra-UHS...</td>\n      <td>/Digital-18-55MM-3-5-5-6-Accessories-Internati...</td>\n    </tr>\n    <tr>\n      <th>3</th>\n      <td>Canon EOS Rebel T7 DSLR Camera with 18-55mm f/...</td>\n      <td>[{'info': 'Product Dimensions', 'value': '3.06...</td>\n      <td>Al's Variety</td>\n      <td>https://www.amazon.com/gp/help/seller/at-a-gla...</td>\n      <td>Rebel T7 T6 Screen Protector for Canon EOS Reb...</td>\n      <td>https://www.amazon.com/Protector-Anti-Scrach-A...</td>\n      <td>/Canon-EOS-Rebel-T7-18-55mm/product-reviews/B0...</td>\n    </tr>\n    <tr>\n      <th>4</th>\n      <td>Canon DSLR Camera [EOS 90D] with Built-in Wi-F...</td>\n      <td>[{'info': 'Product Dimensions', 'value': '3 x ...</td>\n      <td>PROCAM</td>\n      <td>https://www.amazon.com/gp/help/seller/at-a-gla...</td>\n      <td>SanDisk 128GB Extreme PRO SDXC UHS-I Card - C1...</td>\n      <td>https://www.amazon.com/SanDisk-128GB-Extreme-U...</td>\n      <td>/Canon-Digital-Camera-Black-3616C002/product-r...</td>\n    </tr>\n    <tr>\n      <th>...</th>\n      <td>...</td>\n      <td>...</td>\n      <td>...</td>\n      <td>...</td>\n      <td>...</td>\n      <td>...</td>\n      <td>...</td>\n    </tr>\n    <tr>\n      <th>8727</th>\n      <td>Extension Rod Pole Bar SZ_ABTO Adjustable Self...</td>\n      <td>[{'info': 'Package Dimensions', 'value': '8.7 ...</td>\n      <td>SZ_ABTO security</td>\n      <td>https://www.amazon.com/gp/help/seller/at-a-gla...</td>\n      <td>SanDisk 128GB Extreme microSDXC UHS-I Memory C...</td>\n      <td>https://www.amazon.com/SanDisk-128GB-Extreme-m...</td>\n      <td>/SZ_ABTO-Adjustable-Extension-Handheld-Stabili...</td>\n    </tr>\n    <tr>\n      <th>8728</th>\n      <td>LumiQuest Snoot XTR with UltraStrap LQ-115S</td>\n      <td>[{'info': 'Product Dimensions', 'value': '6 x ...</td>\n      <td>LumiQuest</td>\n      <td>https://www.amazon.com/gp/help/seller/at-a-gla...</td>\n      <td>None</td>\n      <td>None</td>\n      <td>/LumiQuest-Snoot-XTR-UltraStrap-LQ-115S/produc...</td>\n    </tr>\n    <tr>\n      <th>8729</th>\n      <td>MegaGear Panasonic Lumix DMC-ZS60, DMC-TZ80 Ul...</td>\n      <td>[{'info': 'Product Dimensions', 'value': '4 x ...</td>\n      <td>Mega Gear</td>\n      <td>https://www.amazon.com/gp/help/seller/at-a-gla...</td>\n      <td>None</td>\n      <td>None</td>\n      <td>/MegaGear-Panasonic-DMC-ZS60-DMC-TZ80-Carabine...</td>\n    </tr>\n    <tr>\n      <th>8730</th>\n      <td>Meike MK420N TTL Li-ion Battery Camera Flash S...</td>\n      <td>[{'info': 'Product Dimensions', 'value': '6.54...</td>\n      <td>Zenith digital bay</td>\n      <td>https://www.amazon.com/gp/help/seller/at-a-gla...</td>\n      <td>None</td>\n      <td>None</td>\n      <td>/Meike-Professional-Battery-Speedlite-Diffuser...</td>\n    </tr>\n    <tr>\n      <th>8731</th>\n      <td>Dazzne Desk Mount Stand, 12.9-22inch Tabletop ...</td>\n      <td>[{'info': 'Package Dimensions', 'value': '17.6...</td>\n      <td>Lu_Store</td>\n      <td>https://www.amazon.com/gp/help/seller/at-a-gla...</td>\n      <td>UTEBIT Mini Ball Head with 1/4\" Hotshoe Mount ...</td>\n      <td>https://www.amazon.com/UTEBIT-Aluminum-Diamete...</td>\n      <td>/Dazzne-12-9-22inch-Tabletop-Adjustable-Alumin...</td>\n    </tr>\n  </tbody>\n</table>\n<p>8732 rows × 7 columns</p>\n</div>"
     },
     "metadata": {},
     "execution_count": 33
    }
   ],
   "source": [
    "df = df.drop(['product_tech_spec', 'product_other_tech_spec' ], axis = 1)\n",
    "df"
   ]
  },
  {
   "cell_type": "code",
   "execution_count": 34,
   "metadata": {},
   "outputs": [],
   "source": [
    "#For product_info\n",
    "add_col =  []\n",
    "for i in range(df.shape[0]):\n",
    "    try:\n",
    "        for j in range(len(df.product_info[i])):\n",
    "            col = df.product_info[i][j]['info']\n",
    "            if col not in add_col:\n",
    "                add_col.append(col)\n",
    "    except:\n",
    "        continue"
   ]
  },
  {
   "cell_type": "code",
   "execution_count": 35,
   "metadata": {},
   "outputs": [
    {
     "output_type": "execute_result",
     "data": {
      "text/plain": [
       "'Product Dimensions'"
      ]
     },
     "metadata": {},
     "execution_count": 35
    }
   ],
   "source": [
    "df.product_info[0][0]['info']"
   ]
  },
  {
   "cell_type": "code",
   "execution_count": 36,
   "metadata": {},
   "outputs": [
    {
     "output_type": "execute_result",
     "data": {
      "text/plain": [
       "10"
      ]
     },
     "metadata": {},
     "execution_count": 36
    }
   ],
   "source": [
    "len(df.product_info[100])"
   ]
  },
  {
   "cell_type": "code",
   "execution_count": 37,
   "metadata": {},
   "outputs": [
    {
     "output_type": "execute_result",
     "data": {
      "text/plain": [
       "[{'info': 'Product Dimensions', 'value': '3.06 x 5.08 x 3.99 inches'},\n",
       " {'info': 'Item Weight', 'value': '1.05 pounds'},\n",
       " {'info': 'ASIN', 'value': 'B087T9B6X5'},\n",
       " {'info': 'Item model number', 'value': 'Canon EOS Rebel T100'},\n",
       " {'info': 'Batteries',\n",
       "  'value': '1 Lithium ion batteries required. (included)'},\n",
       " {'info': 'Customer Reviews',\n",
       "  'value': '/*\\n* Fix for UDP-1061. Average customer reviews has a small extra line on hover\\n* https://omni-grok.amazon.com/xref/src/appgroup/websiteTemplates/retail/SoftlinesDetailPageAssets/udp-intl-lock/src/legacy.css?indexName=WebsiteTemplates#40\\n*/\\n.noUnderline a:hover {\\ntext-decoration: none;\\n} 4.7 out of 5 stars 186 ratings P.when(\\'A\\', \\'ready\\').execute(function(A) {\\nA.declarative(\\'acrLink-click-metrics\\', \\'click\\', { \"allowLinkDefault\" : true }, function(event){\\nif(window.ue) {\\nue.count(\"acrLinkClickCount\", (ue.count(\"acrLinkClickCount\") || 0) + 1);\\n}\\n});\\n}); P.when(\\'A\\', \\'cf\\').execute(function(A) {\\nA.declarative(\\'acrStarsLink-click-metrics\\', \\'click\\', { \"allowLinkDefault\" : true },  function(event){\\nif(window.ue) {\\nue.count(\"acrStarsLinkWithPopoverClickCount\", (ue.count(\"acrStarsLinkWithPopoverClickCount\") || 0) + 1);\\n}\\n});\\n}); 4.7 out of 5 stars'},\n",
       " {'info': 'Best Sellers Rank',\n",
       "  'value': '#5,336 in Electronics ( See Top 100 in Electronics ) #7 in DSLR Cameras'},\n",
       " {'info': 'Date First Available', 'value': 'April 28, 2020'},\n",
       " {'info': 'Manufacturer', 'value': \"Al's Variety-Canon Intl\"}]"
      ]
     },
     "metadata": {},
     "execution_count": 37
    }
   ],
   "source": [
    "df.product_info[0]"
   ]
  },
  {
   "cell_type": "code",
   "execution_count": 38,
   "metadata": {},
   "outputs": [
    {
     "output_type": "execute_result",
     "data": {
      "text/plain": [
       "['Product Dimensions',\n",
       " 'Item Weight',\n",
       " 'ASIN',\n",
       " 'Item model number',\n",
       " 'Batteries',\n",
       " 'Customer Reviews',\n",
       " 'Best Sellers Rank',\n",
       " 'Date First Available',\n",
       " 'Manufacturer',\n",
       " 'Package Dimensions',\n",
       " 'Is Discontinued By Manufacturer',\n",
       " 'Other display features',\n",
       " 'Department',\n",
       " 'Language:',\n",
       " 'Wireless communication technologies',\n",
       " 'Connectivity technologies',\n",
       " 'Colour',\n",
       " 'Connector Type',\n",
       " 'Material Type',\n",
       " 'Hardware Platform',\n",
       " 'Additional Features',\n",
       " 'Domestic Shipping',\n",
       " 'International Shipping',\n",
       " 'Color Name',\n",
       " 'Form Factor',\n",
       " 'Included Components',\n",
       " 'Battery type',\n",
       " 'Color Screen',\n",
       " 'Compatible Devices',\n",
       " 'Size',\n",
       " 'Power Source',\n",
       " 'Computer Memory Type',\n",
       " 'Processor Count',\n",
       " 'National Stock Number',\n",
       " 'Batteries Required',\n",
       " 'OS',\n",
       " 'Fabric Type',\n",
       " 'Is Assembly Required?',\n",
       " 'Speaker Amplification Type',\n",
       " 'Compatible Phone Models',\n",
       " 'Standing screen display size',\n",
       " 'Voltage',\n",
       " 'Hardware Interface']"
      ]
     },
     "metadata": {},
     "execution_count": 38
    }
   ],
   "source": [
    "add_col"
   ]
  },
  {
   "cell_type": "code",
   "execution_count": 39,
   "metadata": {},
   "outputs": [
    {
     "output_type": "execute_result",
     "data": {
      "text/plain": [
       "Empty DataFrame\n",
       "Columns: [name, Product Dimensions, Item Weight, ASIN, Item model number, Batteries, Customer Reviews, Best Sellers Rank, Date First Available, Manufacturer, Package Dimensions, Is Discontinued By Manufacturer, Other display features, Department, Language:, Wireless communication technologies, Connectivity technologies, Colour, Connector Type, Material Type, Hardware Platform, Additional Features, Domestic Shipping, International Shipping, Color Name, Form Factor, Included Components, Battery type, Color Screen, Compatible Devices, Size, Power Source, Computer Memory Type, Processor Count, National Stock Number, Batteries Required, OS, Fabric Type, Is Assembly Required?, Speaker Amplification Type, Compatible Phone Models, Standing screen display size, Voltage, Hardware Interface]\n",
       "Index: []\n",
       "\n",
       "[0 rows x 44 columns]"
      ],
      "text/html": "<div>\n<style scoped>\n    .dataframe tbody tr th:only-of-type {\n        vertical-align: middle;\n    }\n\n    .dataframe tbody tr th {\n        vertical-align: top;\n    }\n\n    .dataframe thead th {\n        text-align: right;\n    }\n</style>\n<table border=\"1\" class=\"dataframe\">\n  <thead>\n    <tr style=\"text-align: right;\">\n      <th></th>\n      <th>name</th>\n      <th>Product Dimensions</th>\n      <th>Item Weight</th>\n      <th>ASIN</th>\n      <th>Item model number</th>\n      <th>Batteries</th>\n      <th>Customer Reviews</th>\n      <th>Best Sellers Rank</th>\n      <th>Date First Available</th>\n      <th>Manufacturer</th>\n      <th>...</th>\n      <th>National Stock Number</th>\n      <th>Batteries Required</th>\n      <th>OS</th>\n      <th>Fabric Type</th>\n      <th>Is Assembly Required?</th>\n      <th>Speaker Amplification Type</th>\n      <th>Compatible Phone Models</th>\n      <th>Standing screen display size</th>\n      <th>Voltage</th>\n      <th>Hardware Interface</th>\n    </tr>\n  </thead>\n  <tbody>\n  </tbody>\n</table>\n<p>0 rows × 44 columns</p>\n</div>"
     },
     "metadata": {},
     "execution_count": 39
    }
   ],
   "source": [
    "new = pd.DataFrame(columns=['name'] + add_col)\n",
    "new"
   ]
  },
  {
   "cell_type": "code",
   "execution_count": 40,
   "metadata": {},
   "outputs": [],
   "source": [
    "for i in range(df.shape[0]):\n",
    "    try:\n",
    "        for j in range(len(df.product_info[i])):\n",
    "            col = df.product_info[i][j]['info']\n",
    "            val = df.product_info[i][j]['value']\n",
    "\n",
    "            new.loc[i,col] = val\n",
    "            \n",
    "    except:\n",
    "        new.loc[i,col] = ''\n",
    "        continue"
   ]
  },
  {
   "cell_type": "code",
   "execution_count": 41,
   "metadata": {},
   "outputs": [],
   "source": [
    "new.name = df.name"
   ]
  },
  {
   "cell_type": "code",
   "execution_count": 42,
   "metadata": {},
   "outputs": [
    {
     "output_type": "execute_result",
     "data": {
      "text/plain": [
       "'Canon EOS 4000D / Rebel T100 Digital SLR Camera Body w/Canon EF-S 18-55mm f/3.5-5.6 Lens 3 Lens DSLR Kit Bundled with Complete Accessory Bundle + 64GB + Flash + Case & More - International Model'"
      ]
     },
     "metadata": {},
     "execution_count": 42
    }
   ],
   "source": [
    "df.loc[1,'name']"
   ]
  },
  {
   "cell_type": "code",
   "execution_count": 43,
   "metadata": {},
   "outputs": [
    {
     "output_type": "execute_result",
     "data": {
      "text/plain": [
       "                                                   name  \\\n",
       "0     Canon EOS Rebel T100 DSLR Camera with 18-55mm ...   \n",
       "1     Canon EOS 4000D / Rebel T100 Digital SLR Camer...   \n",
       "2     EOS 4000D Digital Camera with EF-S 18-55MM F/3...   \n",
       "3     Canon EOS Rebel T7 DSLR Camera with 18-55mm f/...   \n",
       "4     Canon DSLR Camera [EOS 90D] with Built-in Wi-F...   \n",
       "...                                                 ...   \n",
       "8727  Extension Rod Pole Bar SZ_ABTO Adjustable Self...   \n",
       "8728        LumiQuest Snoot XTR with UltraStrap LQ-115S   \n",
       "8729  MegaGear Panasonic Lumix DMC-ZS60, DMC-TZ80 Ul...   \n",
       "8730  Meike MK420N TTL Li-ion Battery Camera Flash S...   \n",
       "8731  Dazzne Desk Mount Stand, 12.9-22inch Tabletop ...   \n",
       "\n",
       "             Product Dimensions  Item Weight        ASIN  \\\n",
       "0     3.06 x 5.08 x 3.99 inches  1.05 pounds  B087T9B6X5   \n",
       "1                           NaN  7.02 pounds  B08DQ4QQ6R   \n",
       "2                           NaN  3.85 pounds  B07Y5K1215   \n",
       "3     3.06 x 5.08 x 3.99 inches  1.05 pounds  B087SJ9S4W   \n",
       "4          3 x 5.5 x 4.1 inches  1.32 pounds  B07WFQYDD5   \n",
       "...                         ...          ...         ...   \n",
       "8727                        NaN   5.8 ounces  B07X3HW28M   \n",
       "8728           6 x 1 x 9 inches   0.8 ounces  B007S02GQG   \n",
       "8729           4 x 6 x 3 inches   1.3 ounces  B01C5NUSLA   \n",
       "8730    6.54 x 2.6 x 1.5 inches  11.6 ounces  B076MT8CS5   \n",
       "8731                        NaN  1.12 pounds  B08KSTH7WN   \n",
       "\n",
       "           Item model number  \\\n",
       "0       Canon EOS Rebel T100   \n",
       "1                      4000D   \n",
       "2     CN4000D-1855IIIDBB64GB   \n",
       "3         Canon EOS Rebel T7   \n",
       "4                   3616C002   \n",
       "...                      ...   \n",
       "8727                     NaN   \n",
       "8728                 LQ-115S   \n",
       "8729                   MG707   \n",
       "8730                     NaN   \n",
       "8731                     NaN   \n",
       "\n",
       "                                             Batteries  \\\n",
       "0         1 Lithium ion batteries required. (included)   \n",
       "1                                                  NaN   \n",
       "2         1 Lithium ion batteries required. (included)   \n",
       "3         1 Lithium ion batteries required. (included)   \n",
       "4         1 Lithium ion batteries required. (included)   \n",
       "...                                                ...   \n",
       "8727                                               NaN   \n",
       "8728                                               NaN   \n",
       "8729                                               NaN   \n",
       "8730  1 Lithium Polymer batteries required. (included)   \n",
       "8731                                               NaN   \n",
       "\n",
       "                                       Customer Reviews  \\\n",
       "0     /*\\n* Fix for UDP-1061. Average customer revie...   \n",
       "1     /*\\n* Fix for UDP-1061. Average customer revie...   \n",
       "2     /*\\n* Fix for UDP-1061. Average customer revie...   \n",
       "3     /*\\n* Fix for UDP-1061. Average customer revie...   \n",
       "4     /*\\n* Fix for UDP-1061. Average customer revie...   \n",
       "...                                                 ...   \n",
       "8727  /*\\n* Fix for UDP-1061. Average customer revie...   \n",
       "8728  /*\\n* Fix for UDP-1061. Average customer revie...   \n",
       "8729  /*\\n* Fix for UDP-1061. Average customer revie...   \n",
       "8730  /*\\n* Fix for UDP-1061. Average customer revie...   \n",
       "8731  /*\\n* Fix for UDP-1061. Average customer revie...   \n",
       "\n",
       "                                      Best Sellers Rank Date First Available  \\\n",
       "0     #5,336 in Electronics ( See Top 100 in Electro...       April 28, 2020   \n",
       "1     #8,273 in Electronics ( See Top 100 in Electro...        July 27, 2020   \n",
       "2     #65,740 in Electronics ( See Top 100 in Electr...    February 22, 2019   \n",
       "3     #11,370 in Electronics ( See Top 100 in Electr...       April 28, 2020   \n",
       "4     #6,672 in Electronics ( See Top 100 in Electro...      August 28, 2019   \n",
       "...                                                 ...                  ...   \n",
       "8727             #130 in Professional Video Stabilizers    December 22, 2018   \n",
       "8728                        #2,896 in Camera Lens Hoods       March 25, 2012   \n",
       "8729                             #7,858 in Camera Cases    February 24, 2016   \n",
       "8730                         #184 in Shoe-Mount Flashes     October 20, 2017   \n",
       "8731         #4 in Photographic Lighting Booms & Stands      October 7, 2020   \n",
       "\n",
       "                 Manufacturer  ... National Stock Number Batteries Required  \\\n",
       "0     Al's Variety-Canon Intl  ...                   NaN                NaN   \n",
       "1          Canon Cameras Inc.  ...                   NaN                NaN   \n",
       "2                   Deal-Expo  ...                   NaN                NaN   \n",
       "3      ALS VARIETY-Canon Intl  ...                   NaN                NaN   \n",
       "4                   Canon USA  ...                   NaN                NaN   \n",
       "...                       ...  ...                   ...                ...   \n",
       "8727                  SZ-ABTO  ...                   NaN                NaN   \n",
       "8728                LumiQuest  ...                   NaN                NaN   \n",
       "8729                 Megagear  ...                   NaN                NaN   \n",
       "8730                 HK Meike  ...                   NaN                NaN   \n",
       "8731                   Dazzne  ...                   NaN                NaN   \n",
       "\n",
       "       OS Fabric Type Is Assembly Required? Speaker Amplification Type  \\\n",
       "0     NaN         NaN                   NaN                        NaN   \n",
       "1     NaN         NaN                   NaN                        NaN   \n",
       "2     NaN         NaN                   NaN                        NaN   \n",
       "3     NaN         NaN                   NaN                        NaN   \n",
       "4     NaN         NaN                   NaN                        NaN   \n",
       "...   ...         ...                   ...                        ...   \n",
       "8727  NaN         NaN                   NaN                        NaN   \n",
       "8728  NaN         NaN                   NaN                        NaN   \n",
       "8729  NaN         NaN                   NaN                        NaN   \n",
       "8730  NaN         NaN                   NaN                        NaN   \n",
       "8731  NaN         NaN                   NaN                        NaN   \n",
       "\n",
       "     Compatible Phone Models Standing screen display size Voltage  \\\n",
       "0                        NaN                          NaN     NaN   \n",
       "1                        NaN                          NaN     NaN   \n",
       "2                        NaN                          NaN     NaN   \n",
       "3                        NaN                          NaN     NaN   \n",
       "4                        NaN                          NaN     NaN   \n",
       "...                      ...                          ...     ...   \n",
       "8727                     NaN                          NaN     NaN   \n",
       "8728                     NaN                          NaN     NaN   \n",
       "8729                     NaN                          NaN     NaN   \n",
       "8730                     NaN                          NaN     NaN   \n",
       "8731                     NaN                          NaN     NaN   \n",
       "\n",
       "     Hardware Interface  \n",
       "0                   NaN  \n",
       "1                   NaN  \n",
       "2                   NaN  \n",
       "3                   NaN  \n",
       "4                   NaN  \n",
       "...                 ...  \n",
       "8727                NaN  \n",
       "8728                NaN  \n",
       "8729                NaN  \n",
       "8730                NaN  \n",
       "8731                NaN  \n",
       "\n",
       "[8732 rows x 44 columns]"
      ],
      "text/html": "<div>\n<style scoped>\n    .dataframe tbody tr th:only-of-type {\n        vertical-align: middle;\n    }\n\n    .dataframe tbody tr th {\n        vertical-align: top;\n    }\n\n    .dataframe thead th {\n        text-align: right;\n    }\n</style>\n<table border=\"1\" class=\"dataframe\">\n  <thead>\n    <tr style=\"text-align: right;\">\n      <th></th>\n      <th>name</th>\n      <th>Product Dimensions</th>\n      <th>Item Weight</th>\n      <th>ASIN</th>\n      <th>Item model number</th>\n      <th>Batteries</th>\n      <th>Customer Reviews</th>\n      <th>Best Sellers Rank</th>\n      <th>Date First Available</th>\n      <th>Manufacturer</th>\n      <th>...</th>\n      <th>National Stock Number</th>\n      <th>Batteries Required</th>\n      <th>OS</th>\n      <th>Fabric Type</th>\n      <th>Is Assembly Required?</th>\n      <th>Speaker Amplification Type</th>\n      <th>Compatible Phone Models</th>\n      <th>Standing screen display size</th>\n      <th>Voltage</th>\n      <th>Hardware Interface</th>\n    </tr>\n  </thead>\n  <tbody>\n    <tr>\n      <th>0</th>\n      <td>Canon EOS Rebel T100 DSLR Camera with 18-55mm ...</td>\n      <td>3.06 x 5.08 x 3.99 inches</td>\n      <td>1.05 pounds</td>\n      <td>B087T9B6X5</td>\n      <td>Canon EOS Rebel T100</td>\n      <td>1 Lithium ion batteries required. (included)</td>\n      <td>/*\\n* Fix for UDP-1061. Average customer revie...</td>\n      <td>#5,336 in Electronics ( See Top 100 in Electro...</td>\n      <td>April 28, 2020</td>\n      <td>Al's Variety-Canon Intl</td>\n      <td>...</td>\n      <td>NaN</td>\n      <td>NaN</td>\n      <td>NaN</td>\n      <td>NaN</td>\n      <td>NaN</td>\n      <td>NaN</td>\n      <td>NaN</td>\n      <td>NaN</td>\n      <td>NaN</td>\n      <td>NaN</td>\n    </tr>\n    <tr>\n      <th>1</th>\n      <td>Canon EOS 4000D / Rebel T100 Digital SLR Camer...</td>\n      <td>NaN</td>\n      <td>7.02 pounds</td>\n      <td>B08DQ4QQ6R</td>\n      <td>4000D</td>\n      <td>NaN</td>\n      <td>/*\\n* Fix for UDP-1061. Average customer revie...</td>\n      <td>#8,273 in Electronics ( See Top 100 in Electro...</td>\n      <td>July 27, 2020</td>\n      <td>Canon Cameras Inc.</td>\n      <td>...</td>\n      <td>NaN</td>\n      <td>NaN</td>\n      <td>NaN</td>\n      <td>NaN</td>\n      <td>NaN</td>\n      <td>NaN</td>\n      <td>NaN</td>\n      <td>NaN</td>\n      <td>NaN</td>\n      <td>NaN</td>\n    </tr>\n    <tr>\n      <th>2</th>\n      <td>EOS 4000D Digital Camera with EF-S 18-55MM F/3...</td>\n      <td>NaN</td>\n      <td>3.85 pounds</td>\n      <td>B07Y5K1215</td>\n      <td>CN4000D-1855IIIDBB64GB</td>\n      <td>1 Lithium ion batteries required. (included)</td>\n      <td>/*\\n* Fix for UDP-1061. Average customer revie...</td>\n      <td>#65,740 in Electronics ( See Top 100 in Electr...</td>\n      <td>February 22, 2019</td>\n      <td>Deal-Expo</td>\n      <td>...</td>\n      <td>NaN</td>\n      <td>NaN</td>\n      <td>NaN</td>\n      <td>NaN</td>\n      <td>NaN</td>\n      <td>NaN</td>\n      <td>NaN</td>\n      <td>NaN</td>\n      <td>NaN</td>\n      <td>NaN</td>\n    </tr>\n    <tr>\n      <th>3</th>\n      <td>Canon EOS Rebel T7 DSLR Camera with 18-55mm f/...</td>\n      <td>3.06 x 5.08 x 3.99 inches</td>\n      <td>1.05 pounds</td>\n      <td>B087SJ9S4W</td>\n      <td>Canon EOS Rebel T7</td>\n      <td>1 Lithium ion batteries required. (included)</td>\n      <td>/*\\n* Fix for UDP-1061. Average customer revie...</td>\n      <td>#11,370 in Electronics ( See Top 100 in Electr...</td>\n      <td>April 28, 2020</td>\n      <td>ALS VARIETY-Canon Intl</td>\n      <td>...</td>\n      <td>NaN</td>\n      <td>NaN</td>\n      <td>NaN</td>\n      <td>NaN</td>\n      <td>NaN</td>\n      <td>NaN</td>\n      <td>NaN</td>\n      <td>NaN</td>\n      <td>NaN</td>\n      <td>NaN</td>\n    </tr>\n    <tr>\n      <th>4</th>\n      <td>Canon DSLR Camera [EOS 90D] with Built-in Wi-F...</td>\n      <td>3 x 5.5 x 4.1 inches</td>\n      <td>1.32 pounds</td>\n      <td>B07WFQYDD5</td>\n      <td>3616C002</td>\n      <td>1 Lithium ion batteries required. (included)</td>\n      <td>/*\\n* Fix for UDP-1061. Average customer revie...</td>\n      <td>#6,672 in Electronics ( See Top 100 in Electro...</td>\n      <td>August 28, 2019</td>\n      <td>Canon USA</td>\n      <td>...</td>\n      <td>NaN</td>\n      <td>NaN</td>\n      <td>NaN</td>\n      <td>NaN</td>\n      <td>NaN</td>\n      <td>NaN</td>\n      <td>NaN</td>\n      <td>NaN</td>\n      <td>NaN</td>\n      <td>NaN</td>\n    </tr>\n    <tr>\n      <th>...</th>\n      <td>...</td>\n      <td>...</td>\n      <td>...</td>\n      <td>...</td>\n      <td>...</td>\n      <td>...</td>\n      <td>...</td>\n      <td>...</td>\n      <td>...</td>\n      <td>...</td>\n      <td>...</td>\n      <td>...</td>\n      <td>...</td>\n      <td>...</td>\n      <td>...</td>\n      <td>...</td>\n      <td>...</td>\n      <td>...</td>\n      <td>...</td>\n      <td>...</td>\n      <td>...</td>\n    </tr>\n    <tr>\n      <th>8727</th>\n      <td>Extension Rod Pole Bar SZ_ABTO Adjustable Self...</td>\n      <td>NaN</td>\n      <td>5.8 ounces</td>\n      <td>B07X3HW28M</td>\n      <td>NaN</td>\n      <td>NaN</td>\n      <td>/*\\n* Fix for UDP-1061. Average customer revie...</td>\n      <td>#130 in Professional Video Stabilizers</td>\n      <td>December 22, 2018</td>\n      <td>SZ-ABTO</td>\n      <td>...</td>\n      <td>NaN</td>\n      <td>NaN</td>\n      <td>NaN</td>\n      <td>NaN</td>\n      <td>NaN</td>\n      <td>NaN</td>\n      <td>NaN</td>\n      <td>NaN</td>\n      <td>NaN</td>\n      <td>NaN</td>\n    </tr>\n    <tr>\n      <th>8728</th>\n      <td>LumiQuest Snoot XTR with UltraStrap LQ-115S</td>\n      <td>6 x 1 x 9 inches</td>\n      <td>0.8 ounces</td>\n      <td>B007S02GQG</td>\n      <td>LQ-115S</td>\n      <td>NaN</td>\n      <td>/*\\n* Fix for UDP-1061. Average customer revie...</td>\n      <td>#2,896 in Camera Lens Hoods</td>\n      <td>March 25, 2012</td>\n      <td>LumiQuest</td>\n      <td>...</td>\n      <td>NaN</td>\n      <td>NaN</td>\n      <td>NaN</td>\n      <td>NaN</td>\n      <td>NaN</td>\n      <td>NaN</td>\n      <td>NaN</td>\n      <td>NaN</td>\n      <td>NaN</td>\n      <td>NaN</td>\n    </tr>\n    <tr>\n      <th>8729</th>\n      <td>MegaGear Panasonic Lumix DMC-ZS60, DMC-TZ80 Ul...</td>\n      <td>4 x 6 x 3 inches</td>\n      <td>1.3 ounces</td>\n      <td>B01C5NUSLA</td>\n      <td>MG707</td>\n      <td>NaN</td>\n      <td>/*\\n* Fix for UDP-1061. Average customer revie...</td>\n      <td>#7,858 in Camera Cases</td>\n      <td>February 24, 2016</td>\n      <td>Megagear</td>\n      <td>...</td>\n      <td>NaN</td>\n      <td>NaN</td>\n      <td>NaN</td>\n      <td>NaN</td>\n      <td>NaN</td>\n      <td>NaN</td>\n      <td>NaN</td>\n      <td>NaN</td>\n      <td>NaN</td>\n      <td>NaN</td>\n    </tr>\n    <tr>\n      <th>8730</th>\n      <td>Meike MK420N TTL Li-ion Battery Camera Flash S...</td>\n      <td>6.54 x 2.6 x 1.5 inches</td>\n      <td>11.6 ounces</td>\n      <td>B076MT8CS5</td>\n      <td>NaN</td>\n      <td>1 Lithium Polymer batteries required. (included)</td>\n      <td>/*\\n* Fix for UDP-1061. Average customer revie...</td>\n      <td>#184 in Shoe-Mount Flashes</td>\n      <td>October 20, 2017</td>\n      <td>HK Meike</td>\n      <td>...</td>\n      <td>NaN</td>\n      <td>NaN</td>\n      <td>NaN</td>\n      <td>NaN</td>\n      <td>NaN</td>\n      <td>NaN</td>\n      <td>NaN</td>\n      <td>NaN</td>\n      <td>NaN</td>\n      <td>NaN</td>\n    </tr>\n    <tr>\n      <th>8731</th>\n      <td>Dazzne Desk Mount Stand, 12.9-22inch Tabletop ...</td>\n      <td>NaN</td>\n      <td>1.12 pounds</td>\n      <td>B08KSTH7WN</td>\n      <td>NaN</td>\n      <td>NaN</td>\n      <td>/*\\n* Fix for UDP-1061. Average customer revie...</td>\n      <td>#4 in Photographic Lighting Booms &amp; Stands</td>\n      <td>October 7, 2020</td>\n      <td>Dazzne</td>\n      <td>...</td>\n      <td>NaN</td>\n      <td>NaN</td>\n      <td>NaN</td>\n      <td>NaN</td>\n      <td>NaN</td>\n      <td>NaN</td>\n      <td>NaN</td>\n      <td>NaN</td>\n      <td>NaN</td>\n      <td>NaN</td>\n    </tr>\n  </tbody>\n</table>\n<p>8732 rows × 44 columns</p>\n</div>"
     },
     "metadata": {},
     "execution_count": 43
    }
   ],
   "source": [
    "new"
   ]
  },
  {
   "cell_type": "code",
   "execution_count": 44,
   "metadata": {},
   "outputs": [
    {
     "output_type": "execute_result",
     "data": {
      "text/plain": [
       "4619"
      ]
     },
     "metadata": {},
     "execution_count": 44
    }
   ],
   "source": [
    "len(set(new.ASIN))"
   ]
  },
  {
   "cell_type": "code",
   "execution_count": 45,
   "metadata": {},
   "outputs": [
    {
     "output_type": "execute_result",
     "data": {
      "text/plain": [
       "0    B087T9B6X5\n",
       "1    B08DQ4QQ6R\n",
       "2    B07Y5K1215\n",
       "3    B087SJ9S4W\n",
       "4    B07WFQYDD5\n",
       "5    B07CTFZSXZ\n",
       "6    B071K62DZT\n",
       "7    B088P1824H\n",
       "8    B087TKG91L\n",
       "9    B01GHVITB2\n",
       "Name: ASIN, dtype: object"
      ]
     },
     "metadata": {},
     "execution_count": 45
    }
   ],
   "source": [
    "new.ASIN[0:10]"
   ]
  },
  {
   "cell_type": "code",
   "execution_count": 46,
   "metadata": {},
   "outputs": [
    {
     "output_type": "execute_result",
     "data": {
      "text/plain": [
       "name                                     84\n",
       "Product Dimensions                     4706\n",
       "Item Weight                             446\n",
       "ASIN                                    360\n",
       "Item model number                      3452\n",
       "Batteries                              7440\n",
       "Customer Reviews                       1242\n",
       "Best Sellers Rank                       463\n",
       "Date First Available                    369\n",
       "Manufacturer                            232\n",
       "Package Dimensions                     4552\n",
       "Is Discontinued By Manufacturer        4294\n",
       "Other display features                 8589\n",
       "Department                             8523\n",
       "Language:                              8686\n",
       "Wireless communication technologies    8726\n",
       "Connectivity technologies              8729\n",
       "Colour                                 8583\n",
       "Connector Type                         8706\n",
       "Material Type                          8723\n",
       "Hardware Platform                      8703\n",
       "Additional Features                    8692\n",
       "Domestic Shipping                      8720\n",
       "International Shipping                 8720\n",
       "Color Name                             8709\n",
       "Form Factor                            8728\n",
       "Included Components                    8708\n",
       "Battery type                           8718\n",
       "Color Screen                           8729\n",
       "Compatible Devices                     8729\n",
       "Size                                   8726\n",
       "Power Source                           8718\n",
       "Computer Memory Type                   8731\n",
       "Processor Count                        8731\n",
       "National Stock Number                  8711\n",
       "Batteries Required                     8707\n",
       "OS                                     8731\n",
       "Fabric Type                            8728\n",
       "Is Assembly Required?                  8728\n",
       "Speaker Amplification Type             8730\n",
       "Compatible Phone Models                8731\n",
       "Standing screen display size           8731\n",
       "Voltage                                8731\n",
       "Hardware Interface                     8731\n",
       "dtype: int64"
      ]
     },
     "metadata": {},
     "execution_count": 46
    }
   ],
   "source": [
    "new.isnull().sum()"
   ]
  },
  {
   "cell_type": "code",
   "execution_count": 47,
   "metadata": {},
   "outputs": [
    {
     "output_type": "execute_result",
     "data": {
      "text/plain": [
       "B07VD44X7C    293\n",
       "B08LH5ZCK2    243\n",
       "B08FJ3336N    229\n",
       "B076MT8CS5    223\n",
       "B07B2SRPSZ    207\n",
       "B08SKXS5N3    194\n",
       "B08R912MLS    180\n",
       "B00JGI8D0G    175\n",
       "B07H49QMN7    164\n",
       "B07ZP27RL2    117\n",
       "Name: ASIN, dtype: int64"
      ]
     },
     "metadata": {},
     "execution_count": 47
    }
   ],
   "source": [
    "new.ASIN.value_counts()[0:10]"
   ]
  },
  {
   "cell_type": "code",
   "execution_count": 48,
   "metadata": {},
   "outputs": [
    {
     "output_type": "execute_result",
     "data": {
      "text/plain": [
       "['name',\n",
       " 'Product Dimensions',\n",
       " 'Item Weight',\n",
       " 'ASIN',\n",
       " 'Item model number',\n",
       " 'Batteries',\n",
       " 'Customer Reviews',\n",
       " 'Best Sellers Rank',\n",
       " 'Date First Available',\n",
       " 'Manufacturer',\n",
       " 'Package Dimensions',\n",
       " 'Is Discontinued By Manufacturer',\n",
       " 'Other display features',\n",
       " 'Department',\n",
       " 'Language:',\n",
       " 'Wireless communication technologies',\n",
       " 'Connectivity technologies',\n",
       " 'Colour',\n",
       " 'Connector Type',\n",
       " 'Material Type',\n",
       " 'Hardware Platform',\n",
       " 'Additional Features',\n",
       " 'Domestic Shipping',\n",
       " 'International Shipping',\n",
       " 'Color Name',\n",
       " 'Form Factor',\n",
       " 'Included Components',\n",
       " 'Battery type',\n",
       " 'Color Screen',\n",
       " 'Compatible Devices',\n",
       " 'Size',\n",
       " 'Power Source',\n",
       " 'Computer Memory Type',\n",
       " 'Processor Count',\n",
       " 'National Stock Number',\n",
       " 'Batteries Required',\n",
       " 'OS',\n",
       " 'Fabric Type',\n",
       " 'Is Assembly Required?',\n",
       " 'Speaker Amplification Type',\n",
       " 'Compatible Phone Models',\n",
       " 'Standing screen display size',\n",
       " 'Voltage',\n",
       " 'Hardware Interface']"
      ]
     },
     "metadata": {},
     "execution_count": 48
    }
   ],
   "source": [
    "list(new.columns.values)"
   ]
  },
  {
   "cell_type": "code",
   "execution_count": 49,
   "metadata": {},
   "outputs": [
    {
     "output_type": "execute_result",
     "data": {
      "text/plain": [
       "                                                   name  \\\n",
       "0     Canon EOS Rebel T100 DSLR Camera with 18-55mm ...   \n",
       "1     Canon EOS 4000D / Rebel T100 Digital SLR Camer...   \n",
       "2     EOS 4000D Digital Camera with EF-S 18-55MM F/3...   \n",
       "3     Canon EOS Rebel T7 DSLR Camera with 18-55mm f/...   \n",
       "4     Canon DSLR Camera [EOS 90D] with Built-in Wi-F...   \n",
       "...                                                 ...   \n",
       "8707  Godox X2T-S TTL Wireless Trigger, 1/8000s High...   \n",
       "8712            LED Copy Light Set with Adjustable Arms   \n",
       "8713  Mugast Lens Cap, Durable Alloy Camera Lens Cap...   \n",
       "8714             Canon 600EX-RT Speedlite Flash (Black)   \n",
       "8715  Nikon 28-80mm f/3.3-5.6G Autofocus Nikkor Zoom...   \n",
       "\n",
       "             Product Dimensions   Item Weight        ASIN  \\\n",
       "0     3.06 x 5.08 x 3.99 inches   1.05 pounds  B087T9B6X5   \n",
       "1                           NaN   7.02 pounds  B08DQ4QQ6R   \n",
       "2                           NaN   3.85 pounds  B07Y5K1215   \n",
       "3     3.06 x 5.08 x 3.99 inches   1.05 pounds  B087SJ9S4W   \n",
       "4          3 x 5.5 x 4.1 inches   1.32 pounds  B07WFQYDD5   \n",
       "...                         ...           ...         ...   \n",
       "8707  2.83 x 2.76 x 2.28 inches    5.3 ounces  B07RZWQVJY   \n",
       "8712        32 x 18 x 12 inches   5.74 pounds  B071SG1WCK   \n",
       "8713  3.94 x 3.94 x 3.94 inches  0.352 ounces  B07Y44Y38X   \n",
       "8714     4.9 x 3.1 x 5.6 inches     15 ounces  B007FH1KX2   \n",
       "8715                        NaN    9.6 ounces  B00005LENC   \n",
       "\n",
       "           Item model number                                     Batteries  \\\n",
       "0       Canon EOS Rebel T100  1 Lithium ion batteries required. (included)   \n",
       "1                      4000D                                           NaN   \n",
       "2     CN4000D-1855IIIDBB64GB  1 Lithium ion batteries required. (included)   \n",
       "3         Canon EOS Rebel T7  1 Lithium ion batteries required. (included)   \n",
       "4                   3616C002  1 Lithium ion batteries required. (included)   \n",
       "...                      ...                                           ...   \n",
       "8707             LeaTure-X2T                                           NaN   \n",
       "8712                  402184                                           NaN   \n",
       "8713                     NaN                                           NaN   \n",
       "8714                5296B002                      4 AA batteries required.   \n",
       "8715                    1926                                           NaN   \n",
       "\n",
       "                                       Customer Reviews  \\\n",
       "0     /*\\n* Fix for UDP-1061. Average customer revie...   \n",
       "1     /*\\n* Fix for UDP-1061. Average customer revie...   \n",
       "2     /*\\n* Fix for UDP-1061. Average customer revie...   \n",
       "3     /*\\n* Fix for UDP-1061. Average customer revie...   \n",
       "4     /*\\n* Fix for UDP-1061. Average customer revie...   \n",
       "...                                                 ...   \n",
       "8707  /*\\n* Fix for UDP-1061. Average customer revie...   \n",
       "8712  /*\\n* Fix for UDP-1061. Average customer revie...   \n",
       "8713                                                NaN   \n",
       "8714  /*\\n* Fix for UDP-1061. Average customer revie...   \n",
       "8715  /*\\n* Fix for UDP-1061. Average customer revie...   \n",
       "\n",
       "                                      Best Sellers Rank Date First Available  \\\n",
       "0     #5,336 in Electronics ( See Top 100 in Electro...       April 28, 2020   \n",
       "1     #8,273 in Electronics ( See Top 100 in Electro...        July 27, 2020   \n",
       "2     #65,740 in Electronics ( See Top 100 in Electr...    February 22, 2019   \n",
       "3     #11,370 in Electronics ( See Top 100 in Electr...       April 28, 2020   \n",
       "4     #6,672 in Electronics ( See Top 100 in Electro...      August 28, 2019   \n",
       "...                                                 ...                  ...   \n",
       "8707      #163 in Photographic Lighting Remote Triggers         May 21, 2019   \n",
       "8712                  #3,937 in Camera & Photo Lighting         May 24, 2017   \n",
       "8713                         #1,472 in Camera Lens Caps     October 30, 2019   \n",
       "8714                         #294 in Shoe-Mount Flashes        March 1, 2012   \n",
       "8715                        #1,043 in SLR Camera Lenses         May 31, 2005   \n",
       "\n",
       "                 Manufacturer  ... National Stock Number Batteries Required  \\\n",
       "0     Al's Variety-Canon Intl  ...                   NaN                NaN   \n",
       "1          Canon Cameras Inc.  ...                   NaN                NaN   \n",
       "2                   Deal-Expo  ...                   NaN                NaN   \n",
       "3      ALS VARIETY-Canon Intl  ...                   NaN                NaN   \n",
       "4                   Canon USA  ...                   NaN                NaN   \n",
       "...                       ...  ...                   ...                ...   \n",
       "8707                    GODOX  ...                   NaN                NaN   \n",
       "8712             Smith-Victor  ...                   NaN                NaN   \n",
       "8713                   Mugast  ...                   NaN                NaN   \n",
       "8714                    Canon  ...                   NaN                NaN   \n",
       "8715                    Nikon  ...                   NaN                NaN   \n",
       "\n",
       "       OS Fabric Type Is Assembly Required? Speaker Amplification Type  \\\n",
       "0     NaN         NaN                   NaN                        NaN   \n",
       "1     NaN         NaN                   NaN                        NaN   \n",
       "2     NaN         NaN                   NaN                        NaN   \n",
       "3     NaN         NaN                   NaN                        NaN   \n",
       "4     NaN         NaN                   NaN                        NaN   \n",
       "...   ...         ...                   ...                        ...   \n",
       "8707  NaN         NaN                   NaN                        NaN   \n",
       "8712  NaN         NaN                   NaN                        NaN   \n",
       "8713  NaN         NaN                   NaN                        NaN   \n",
       "8714  NaN         NaN                   NaN                        NaN   \n",
       "8715  NaN         NaN                   NaN                        NaN   \n",
       "\n",
       "     Compatible Phone Models Standing screen display size Voltage  \\\n",
       "0                        NaN                          NaN     NaN   \n",
       "1                        NaN                          NaN     NaN   \n",
       "2                        NaN                          NaN     NaN   \n",
       "3                        NaN                          NaN     NaN   \n",
       "4                        NaN                          NaN     NaN   \n",
       "...                      ...                          ...     ...   \n",
       "8707                     NaN                          NaN     NaN   \n",
       "8712                     NaN                          NaN     NaN   \n",
       "8713                     NaN                          NaN     NaN   \n",
       "8714                     NaN                          NaN     NaN   \n",
       "8715                     NaN                          NaN     NaN   \n",
       "\n",
       "     Hardware Interface  \n",
       "0                   NaN  \n",
       "1                   NaN  \n",
       "2                   NaN  \n",
       "3                   NaN  \n",
       "4                   NaN  \n",
       "...                 ...  \n",
       "8707                NaN  \n",
       "8712                NaN  \n",
       "8713                NaN  \n",
       "8714                NaN  \n",
       "8715                NaN  \n",
       "\n",
       "[3495 rows x 44 columns]"
      ],
      "text/html": "<div>\n<style scoped>\n    .dataframe tbody tr th:only-of-type {\n        vertical-align: middle;\n    }\n\n    .dataframe tbody tr th {\n        vertical-align: top;\n    }\n\n    .dataframe thead th {\n        text-align: right;\n    }\n</style>\n<table border=\"1\" class=\"dataframe\">\n  <thead>\n    <tr style=\"text-align: right;\">\n      <th></th>\n      <th>name</th>\n      <th>Product Dimensions</th>\n      <th>Item Weight</th>\n      <th>ASIN</th>\n      <th>Item model number</th>\n      <th>Batteries</th>\n      <th>Customer Reviews</th>\n      <th>Best Sellers Rank</th>\n      <th>Date First Available</th>\n      <th>Manufacturer</th>\n      <th>...</th>\n      <th>National Stock Number</th>\n      <th>Batteries Required</th>\n      <th>OS</th>\n      <th>Fabric Type</th>\n      <th>Is Assembly Required?</th>\n      <th>Speaker Amplification Type</th>\n      <th>Compatible Phone Models</th>\n      <th>Standing screen display size</th>\n      <th>Voltage</th>\n      <th>Hardware Interface</th>\n    </tr>\n  </thead>\n  <tbody>\n    <tr>\n      <th>0</th>\n      <td>Canon EOS Rebel T100 DSLR Camera with 18-55mm ...</td>\n      <td>3.06 x 5.08 x 3.99 inches</td>\n      <td>1.05 pounds</td>\n      <td>B087T9B6X5</td>\n      <td>Canon EOS Rebel T100</td>\n      <td>1 Lithium ion batteries required. (included)</td>\n      <td>/*\\n* Fix for UDP-1061. Average customer revie...</td>\n      <td>#5,336 in Electronics ( See Top 100 in Electro...</td>\n      <td>April 28, 2020</td>\n      <td>Al's Variety-Canon Intl</td>\n      <td>...</td>\n      <td>NaN</td>\n      <td>NaN</td>\n      <td>NaN</td>\n      <td>NaN</td>\n      <td>NaN</td>\n      <td>NaN</td>\n      <td>NaN</td>\n      <td>NaN</td>\n      <td>NaN</td>\n      <td>NaN</td>\n    </tr>\n    <tr>\n      <th>1</th>\n      <td>Canon EOS 4000D / Rebel T100 Digital SLR Camer...</td>\n      <td>NaN</td>\n      <td>7.02 pounds</td>\n      <td>B08DQ4QQ6R</td>\n      <td>4000D</td>\n      <td>NaN</td>\n      <td>/*\\n* Fix for UDP-1061. Average customer revie...</td>\n      <td>#8,273 in Electronics ( See Top 100 in Electro...</td>\n      <td>July 27, 2020</td>\n      <td>Canon Cameras Inc.</td>\n      <td>...</td>\n      <td>NaN</td>\n      <td>NaN</td>\n      <td>NaN</td>\n      <td>NaN</td>\n      <td>NaN</td>\n      <td>NaN</td>\n      <td>NaN</td>\n      <td>NaN</td>\n      <td>NaN</td>\n      <td>NaN</td>\n    </tr>\n    <tr>\n      <th>2</th>\n      <td>EOS 4000D Digital Camera with EF-S 18-55MM F/3...</td>\n      <td>NaN</td>\n      <td>3.85 pounds</td>\n      <td>B07Y5K1215</td>\n      <td>CN4000D-1855IIIDBB64GB</td>\n      <td>1 Lithium ion batteries required. (included)</td>\n      <td>/*\\n* Fix for UDP-1061. Average customer revie...</td>\n      <td>#65,740 in Electronics ( See Top 100 in Electr...</td>\n      <td>February 22, 2019</td>\n      <td>Deal-Expo</td>\n      <td>...</td>\n      <td>NaN</td>\n      <td>NaN</td>\n      <td>NaN</td>\n      <td>NaN</td>\n      <td>NaN</td>\n      <td>NaN</td>\n      <td>NaN</td>\n      <td>NaN</td>\n      <td>NaN</td>\n      <td>NaN</td>\n    </tr>\n    <tr>\n      <th>3</th>\n      <td>Canon EOS Rebel T7 DSLR Camera with 18-55mm f/...</td>\n      <td>3.06 x 5.08 x 3.99 inches</td>\n      <td>1.05 pounds</td>\n      <td>B087SJ9S4W</td>\n      <td>Canon EOS Rebel T7</td>\n      <td>1 Lithium ion batteries required. (included)</td>\n      <td>/*\\n* Fix for UDP-1061. Average customer revie...</td>\n      <td>#11,370 in Electronics ( See Top 100 in Electr...</td>\n      <td>April 28, 2020</td>\n      <td>ALS VARIETY-Canon Intl</td>\n      <td>...</td>\n      <td>NaN</td>\n      <td>NaN</td>\n      <td>NaN</td>\n      <td>NaN</td>\n      <td>NaN</td>\n      <td>NaN</td>\n      <td>NaN</td>\n      <td>NaN</td>\n      <td>NaN</td>\n      <td>NaN</td>\n    </tr>\n    <tr>\n      <th>4</th>\n      <td>Canon DSLR Camera [EOS 90D] with Built-in Wi-F...</td>\n      <td>3 x 5.5 x 4.1 inches</td>\n      <td>1.32 pounds</td>\n      <td>B07WFQYDD5</td>\n      <td>3616C002</td>\n      <td>1 Lithium ion batteries required. (included)</td>\n      <td>/*\\n* Fix for UDP-1061. Average customer revie...</td>\n      <td>#6,672 in Electronics ( See Top 100 in Electro...</td>\n      <td>August 28, 2019</td>\n      <td>Canon USA</td>\n      <td>...</td>\n      <td>NaN</td>\n      <td>NaN</td>\n      <td>NaN</td>\n      <td>NaN</td>\n      <td>NaN</td>\n      <td>NaN</td>\n      <td>NaN</td>\n      <td>NaN</td>\n      <td>NaN</td>\n      <td>NaN</td>\n    </tr>\n    <tr>\n      <th>...</th>\n      <td>...</td>\n      <td>...</td>\n      <td>...</td>\n      <td>...</td>\n      <td>...</td>\n      <td>...</td>\n      <td>...</td>\n      <td>...</td>\n      <td>...</td>\n      <td>...</td>\n      <td>...</td>\n      <td>...</td>\n      <td>...</td>\n      <td>...</td>\n      <td>...</td>\n      <td>...</td>\n      <td>...</td>\n      <td>...</td>\n      <td>...</td>\n      <td>...</td>\n      <td>...</td>\n    </tr>\n    <tr>\n      <th>8707</th>\n      <td>Godox X2T-S TTL Wireless Trigger, 1/8000s High...</td>\n      <td>2.83 x 2.76 x 2.28 inches</td>\n      <td>5.3 ounces</td>\n      <td>B07RZWQVJY</td>\n      <td>LeaTure-X2T</td>\n      <td>NaN</td>\n      <td>/*\\n* Fix for UDP-1061. Average customer revie...</td>\n      <td>#163 in Photographic Lighting Remote Triggers</td>\n      <td>May 21, 2019</td>\n      <td>GODOX</td>\n      <td>...</td>\n      <td>NaN</td>\n      <td>NaN</td>\n      <td>NaN</td>\n      <td>NaN</td>\n      <td>NaN</td>\n      <td>NaN</td>\n      <td>NaN</td>\n      <td>NaN</td>\n      <td>NaN</td>\n      <td>NaN</td>\n    </tr>\n    <tr>\n      <th>8712</th>\n      <td>LED Copy Light Set with Adjustable Arms</td>\n      <td>32 x 18 x 12 inches</td>\n      <td>5.74 pounds</td>\n      <td>B071SG1WCK</td>\n      <td>402184</td>\n      <td>NaN</td>\n      <td>/*\\n* Fix for UDP-1061. Average customer revie...</td>\n      <td>#3,937 in Camera &amp; Photo Lighting</td>\n      <td>May 24, 2017</td>\n      <td>Smith-Victor</td>\n      <td>...</td>\n      <td>NaN</td>\n      <td>NaN</td>\n      <td>NaN</td>\n      <td>NaN</td>\n      <td>NaN</td>\n      <td>NaN</td>\n      <td>NaN</td>\n      <td>NaN</td>\n      <td>NaN</td>\n      <td>NaN</td>\n    </tr>\n    <tr>\n      <th>8713</th>\n      <td>Mugast Lens Cap, Durable Alloy Camera Lens Cap...</td>\n      <td>3.94 x 3.94 x 3.94 inches</td>\n      <td>0.352 ounces</td>\n      <td>B07Y44Y38X</td>\n      <td>NaN</td>\n      <td>NaN</td>\n      <td>NaN</td>\n      <td>#1,472 in Camera Lens Caps</td>\n      <td>October 30, 2019</td>\n      <td>Mugast</td>\n      <td>...</td>\n      <td>NaN</td>\n      <td>NaN</td>\n      <td>NaN</td>\n      <td>NaN</td>\n      <td>NaN</td>\n      <td>NaN</td>\n      <td>NaN</td>\n      <td>NaN</td>\n      <td>NaN</td>\n      <td>NaN</td>\n    </tr>\n    <tr>\n      <th>8714</th>\n      <td>Canon 600EX-RT Speedlite Flash (Black)</td>\n      <td>4.9 x 3.1 x 5.6 inches</td>\n      <td>15 ounces</td>\n      <td>B007FH1KX2</td>\n      <td>5296B002</td>\n      <td>4 AA batteries required.</td>\n      <td>/*\\n* Fix for UDP-1061. Average customer revie...</td>\n      <td>#294 in Shoe-Mount Flashes</td>\n      <td>March 1, 2012</td>\n      <td>Canon</td>\n      <td>...</td>\n      <td>NaN</td>\n      <td>NaN</td>\n      <td>NaN</td>\n      <td>NaN</td>\n      <td>NaN</td>\n      <td>NaN</td>\n      <td>NaN</td>\n      <td>NaN</td>\n      <td>NaN</td>\n      <td>NaN</td>\n    </tr>\n    <tr>\n      <th>8715</th>\n      <td>Nikon 28-80mm f/3.3-5.6G Autofocus Nikkor Zoom...</td>\n      <td>NaN</td>\n      <td>9.6 ounces</td>\n      <td>B00005LENC</td>\n      <td>1926</td>\n      <td>NaN</td>\n      <td>/*\\n* Fix for UDP-1061. Average customer revie...</td>\n      <td>#1,043 in SLR Camera Lenses</td>\n      <td>May 31, 2005</td>\n      <td>Nikon</td>\n      <td>...</td>\n      <td>NaN</td>\n      <td>NaN</td>\n      <td>NaN</td>\n      <td>NaN</td>\n      <td>NaN</td>\n      <td>NaN</td>\n      <td>NaN</td>\n      <td>NaN</td>\n      <td>NaN</td>\n      <td>NaN</td>\n    </tr>\n  </tbody>\n</table>\n<p>3495 rows × 44 columns</p>\n</div>"
     },
     "metadata": {},
     "execution_count": 49
    }
   ],
   "source": [
    "new.drop_duplicates(subset =\"name\",keep = False, inplace = True) \n",
    "new"
   ]
  },
  {
   "cell_type": "code",
   "execution_count": 50,
   "metadata": {},
   "outputs": [
    {
     "output_type": "execute_result",
     "data": {
      "text/plain": [
       "                                                   name   Item Weight  \\\n",
       "0     Canon EOS Rebel T100 DSLR Camera with 18-55mm ...   1.05 pounds   \n",
       "1     Canon EOS 4000D / Rebel T100 Digital SLR Camer...   7.02 pounds   \n",
       "2     EOS 4000D Digital Camera with EF-S 18-55MM F/3...   3.85 pounds   \n",
       "3     Canon EOS Rebel T7 DSLR Camera with 18-55mm f/...   1.05 pounds   \n",
       "4     Canon DSLR Camera [EOS 90D] with Built-in Wi-F...   1.32 pounds   \n",
       "...                                                 ...           ...   \n",
       "8707  Godox X2T-S TTL Wireless Trigger, 1/8000s High...    5.3 ounces   \n",
       "8712            LED Copy Light Set with Adjustable Arms   5.74 pounds   \n",
       "8713  Mugast Lens Cap, Durable Alloy Camera Lens Cap...  0.352 ounces   \n",
       "8714             Canon 600EX-RT Speedlite Flash (Black)     15 ounces   \n",
       "8715  Nikon 28-80mm f/3.3-5.6G Autofocus Nikkor Zoom...    9.6 ounces   \n",
       "\n",
       "            ASIN       Item model number  \\\n",
       "0     B087T9B6X5    Canon EOS Rebel T100   \n",
       "1     B08DQ4QQ6R                   4000D   \n",
       "2     B07Y5K1215  CN4000D-1855IIIDBB64GB   \n",
       "3     B087SJ9S4W      Canon EOS Rebel T7   \n",
       "4     B07WFQYDD5                3616C002   \n",
       "...          ...                     ...   \n",
       "8707  B07RZWQVJY             LeaTure-X2T   \n",
       "8712  B071SG1WCK                  402184   \n",
       "8713  B07Y44Y38X                     NaN   \n",
       "8714  B007FH1KX2                5296B002   \n",
       "8715  B00005LENC                    1926   \n",
       "\n",
       "                                       Customer Reviews  \\\n",
       "0     /*\\n* Fix for UDP-1061. Average customer revie...   \n",
       "1     /*\\n* Fix for UDP-1061. Average customer revie...   \n",
       "2     /*\\n* Fix for UDP-1061. Average customer revie...   \n",
       "3     /*\\n* Fix for UDP-1061. Average customer revie...   \n",
       "4     /*\\n* Fix for UDP-1061. Average customer revie...   \n",
       "...                                                 ...   \n",
       "8707  /*\\n* Fix for UDP-1061. Average customer revie...   \n",
       "8712  /*\\n* Fix for UDP-1061. Average customer revie...   \n",
       "8713                                                NaN   \n",
       "8714  /*\\n* Fix for UDP-1061. Average customer revie...   \n",
       "8715  /*\\n* Fix for UDP-1061. Average customer revie...   \n",
       "\n",
       "                                      Best Sellers Rank Date First Available  \\\n",
       "0     #5,336 in Electronics ( See Top 100 in Electro...       April 28, 2020   \n",
       "1     #8,273 in Electronics ( See Top 100 in Electro...        July 27, 2020   \n",
       "2     #65,740 in Electronics ( See Top 100 in Electr...    February 22, 2019   \n",
       "3     #11,370 in Electronics ( See Top 100 in Electr...       April 28, 2020   \n",
       "4     #6,672 in Electronics ( See Top 100 in Electro...      August 28, 2019   \n",
       "...                                                 ...                  ...   \n",
       "8707      #163 in Photographic Lighting Remote Triggers         May 21, 2019   \n",
       "8712                  #3,937 in Camera & Photo Lighting         May 24, 2017   \n",
       "8713                         #1,472 in Camera Lens Caps     October 30, 2019   \n",
       "8714                         #294 in Shoe-Mount Flashes        March 1, 2012   \n",
       "8715                        #1,043 in SLR Camera Lenses         May 31, 2005   \n",
       "\n",
       "                 Manufacturer  \n",
       "0     Al's Variety-Canon Intl  \n",
       "1          Canon Cameras Inc.  \n",
       "2                   Deal-Expo  \n",
       "3      ALS VARIETY-Canon Intl  \n",
       "4                   Canon USA  \n",
       "...                       ...  \n",
       "8707                    GODOX  \n",
       "8712             Smith-Victor  \n",
       "8713                   Mugast  \n",
       "8714                    Canon  \n",
       "8715                    Nikon  \n",
       "\n",
       "[3495 rows x 8 columns]"
      ],
      "text/html": "<div>\n<style scoped>\n    .dataframe tbody tr th:only-of-type {\n        vertical-align: middle;\n    }\n\n    .dataframe tbody tr th {\n        vertical-align: top;\n    }\n\n    .dataframe thead th {\n        text-align: right;\n    }\n</style>\n<table border=\"1\" class=\"dataframe\">\n  <thead>\n    <tr style=\"text-align: right;\">\n      <th></th>\n      <th>name</th>\n      <th>Item Weight</th>\n      <th>ASIN</th>\n      <th>Item model number</th>\n      <th>Customer Reviews</th>\n      <th>Best Sellers Rank</th>\n      <th>Date First Available</th>\n      <th>Manufacturer</th>\n    </tr>\n  </thead>\n  <tbody>\n    <tr>\n      <th>0</th>\n      <td>Canon EOS Rebel T100 DSLR Camera with 18-55mm ...</td>\n      <td>1.05 pounds</td>\n      <td>B087T9B6X5</td>\n      <td>Canon EOS Rebel T100</td>\n      <td>/*\\n* Fix for UDP-1061. Average customer revie...</td>\n      <td>#5,336 in Electronics ( See Top 100 in Electro...</td>\n      <td>April 28, 2020</td>\n      <td>Al's Variety-Canon Intl</td>\n    </tr>\n    <tr>\n      <th>1</th>\n      <td>Canon EOS 4000D / Rebel T100 Digital SLR Camer...</td>\n      <td>7.02 pounds</td>\n      <td>B08DQ4QQ6R</td>\n      <td>4000D</td>\n      <td>/*\\n* Fix for UDP-1061. Average customer revie...</td>\n      <td>#8,273 in Electronics ( See Top 100 in Electro...</td>\n      <td>July 27, 2020</td>\n      <td>Canon Cameras Inc.</td>\n    </tr>\n    <tr>\n      <th>2</th>\n      <td>EOS 4000D Digital Camera with EF-S 18-55MM F/3...</td>\n      <td>3.85 pounds</td>\n      <td>B07Y5K1215</td>\n      <td>CN4000D-1855IIIDBB64GB</td>\n      <td>/*\\n* Fix for UDP-1061. Average customer revie...</td>\n      <td>#65,740 in Electronics ( See Top 100 in Electr...</td>\n      <td>February 22, 2019</td>\n      <td>Deal-Expo</td>\n    </tr>\n    <tr>\n      <th>3</th>\n      <td>Canon EOS Rebel T7 DSLR Camera with 18-55mm f/...</td>\n      <td>1.05 pounds</td>\n      <td>B087SJ9S4W</td>\n      <td>Canon EOS Rebel T7</td>\n      <td>/*\\n* Fix for UDP-1061. Average customer revie...</td>\n      <td>#11,370 in Electronics ( See Top 100 in Electr...</td>\n      <td>April 28, 2020</td>\n      <td>ALS VARIETY-Canon Intl</td>\n    </tr>\n    <tr>\n      <th>4</th>\n      <td>Canon DSLR Camera [EOS 90D] with Built-in Wi-F...</td>\n      <td>1.32 pounds</td>\n      <td>B07WFQYDD5</td>\n      <td>3616C002</td>\n      <td>/*\\n* Fix for UDP-1061. Average customer revie...</td>\n      <td>#6,672 in Electronics ( See Top 100 in Electro...</td>\n      <td>August 28, 2019</td>\n      <td>Canon USA</td>\n    </tr>\n    <tr>\n      <th>...</th>\n      <td>...</td>\n      <td>...</td>\n      <td>...</td>\n      <td>...</td>\n      <td>...</td>\n      <td>...</td>\n      <td>...</td>\n      <td>...</td>\n    </tr>\n    <tr>\n      <th>8707</th>\n      <td>Godox X2T-S TTL Wireless Trigger, 1/8000s High...</td>\n      <td>5.3 ounces</td>\n      <td>B07RZWQVJY</td>\n      <td>LeaTure-X2T</td>\n      <td>/*\\n* Fix for UDP-1061. Average customer revie...</td>\n      <td>#163 in Photographic Lighting Remote Triggers</td>\n      <td>May 21, 2019</td>\n      <td>GODOX</td>\n    </tr>\n    <tr>\n      <th>8712</th>\n      <td>LED Copy Light Set with Adjustable Arms</td>\n      <td>5.74 pounds</td>\n      <td>B071SG1WCK</td>\n      <td>402184</td>\n      <td>/*\\n* Fix for UDP-1061. Average customer revie...</td>\n      <td>#3,937 in Camera &amp; Photo Lighting</td>\n      <td>May 24, 2017</td>\n      <td>Smith-Victor</td>\n    </tr>\n    <tr>\n      <th>8713</th>\n      <td>Mugast Lens Cap, Durable Alloy Camera Lens Cap...</td>\n      <td>0.352 ounces</td>\n      <td>B07Y44Y38X</td>\n      <td>NaN</td>\n      <td>NaN</td>\n      <td>#1,472 in Camera Lens Caps</td>\n      <td>October 30, 2019</td>\n      <td>Mugast</td>\n    </tr>\n    <tr>\n      <th>8714</th>\n      <td>Canon 600EX-RT Speedlite Flash (Black)</td>\n      <td>15 ounces</td>\n      <td>B007FH1KX2</td>\n      <td>5296B002</td>\n      <td>/*\\n* Fix for UDP-1061. Average customer revie...</td>\n      <td>#294 in Shoe-Mount Flashes</td>\n      <td>March 1, 2012</td>\n      <td>Canon</td>\n    </tr>\n    <tr>\n      <th>8715</th>\n      <td>Nikon 28-80mm f/3.3-5.6G Autofocus Nikkor Zoom...</td>\n      <td>9.6 ounces</td>\n      <td>B00005LENC</td>\n      <td>1926</td>\n      <td>/*\\n* Fix for UDP-1061. Average customer revie...</td>\n      <td>#1,043 in SLR Camera Lenses</td>\n      <td>May 31, 2005</td>\n      <td>Nikon</td>\n    </tr>\n  </tbody>\n</table>\n<p>3495 rows × 8 columns</p>\n</div>"
     },
     "metadata": {},
     "execution_count": 50
    }
   ],
   "source": [
    "#deleting rows with more than 1500 null values which does not make sense to the data.\n",
    "new = new.loc[:,list(new.columns[list(new.isnull().sum()<1500)])]\n",
    "new"
   ]
  },
  {
   "cell_type": "code",
   "execution_count": 71,
   "metadata": {},
   "outputs": [
    {
     "output_type": "execute_result",
     "data": {
      "text/plain": [
       "            ASIN                                              Title  \\\n",
       "0     B087T9B6X5  Canon EOS Rebel T100 DSLR Camera with 18-55mm ...   \n",
       "1     B08DQ4QQ6R  Canon EOS 4000D / Rebel T100 Digital SLR Camer...   \n",
       "2     B07Y5K1215  EOS 4000D Digital Camera with EF-S 18-55MM F/3...   \n",
       "3     B087SJ9S4W  Canon EOS Rebel T7 DSLR Camera with 18-55mm f/...   \n",
       "4     B07WFQYDD5  Canon DSLR Camera [EOS 90D] with Built-in Wi-F...   \n",
       "...          ...                                                ...   \n",
       "8707  B07RZWQVJY  Godox X2T-S TTL Wireless Trigger, 1/8000s High...   \n",
       "8712  B071SG1WCK            LED Copy Light Set with Adjustable Arms   \n",
       "8713  B07Y44Y38X  Mugast Lens Cap, Durable Alloy Camera Lens Cap...   \n",
       "8714  B007FH1KX2             Canon 600EX-RT Speedlite Flash (Black)   \n",
       "8715  B00005LENC  Nikon 28-80mm f/3.3-5.6G Autofocus Nikkor Zoom...   \n",
       "\n",
       "     Item_weight       Item_model_number Best_seller_rank  \\\n",
       "0          1.05     Canon EOS Rebel T100             5336   \n",
       "1          7.02                    4000D             8273   \n",
       "2          3.85   CN4000D-1855IIIDBB64GB            65740   \n",
       "3          1.05       Canon EOS Rebel T7            11370   \n",
       "4          1.32                 3616C002             6672   \n",
       "...          ...                     ...              ...   \n",
       "8707        5.3              LeaTure-X2T              163   \n",
       "8712       5.74                   402184             3937   \n",
       "8713      0.352                      NaN             1472   \n",
       "8714         15                 5296B002              294   \n",
       "8715        9.6                     1926             1043   \n",
       "\n",
       "     First_date_available             Manufacturer  \n",
       "0              2020-04-28  Al's Variety-Canon Intl  \n",
       "1              2020-07-27       Canon Cameras Inc.  \n",
       "2              2019-02-22                Deal-Expo  \n",
       "3              2020-04-28   ALS VARIETY-Canon Intl  \n",
       "4              2019-08-28                Canon USA  \n",
       "...                   ...                      ...  \n",
       "8707           2019-05-21                    GODOX  \n",
       "8712           2017-05-24             Smith-Victor  \n",
       "8713           2019-10-30                   Mugast  \n",
       "8714           2012-03-01                    Canon  \n",
       "8715           2005-05-31                    Nikon  \n",
       "\n",
       "[3495 rows x 7 columns]"
      ],
      "text/html": "<div>\n<style scoped>\n    .dataframe tbody tr th:only-of-type {\n        vertical-align: middle;\n    }\n\n    .dataframe tbody tr th {\n        vertical-align: top;\n    }\n\n    .dataframe thead th {\n        text-align: right;\n    }\n</style>\n<table border=\"1\" class=\"dataframe\">\n  <thead>\n    <tr style=\"text-align: right;\">\n      <th></th>\n      <th>ASIN</th>\n      <th>Title</th>\n      <th>Item_weight</th>\n      <th>Item_model_number</th>\n      <th>Best_seller_rank</th>\n      <th>First_date_available</th>\n      <th>Manufacturer</th>\n    </tr>\n  </thead>\n  <tbody>\n    <tr>\n      <th>0</th>\n      <td>B087T9B6X5</td>\n      <td>Canon EOS Rebel T100 DSLR Camera with 18-55mm ...</td>\n      <td>1.05</td>\n      <td>Canon EOS Rebel T100</td>\n      <td>5336</td>\n      <td>2020-04-28</td>\n      <td>Al's Variety-Canon Intl</td>\n    </tr>\n    <tr>\n      <th>1</th>\n      <td>B08DQ4QQ6R</td>\n      <td>Canon EOS 4000D / Rebel T100 Digital SLR Camer...</td>\n      <td>7.02</td>\n      <td>4000D</td>\n      <td>8273</td>\n      <td>2020-07-27</td>\n      <td>Canon Cameras Inc.</td>\n    </tr>\n    <tr>\n      <th>2</th>\n      <td>B07Y5K1215</td>\n      <td>EOS 4000D Digital Camera with EF-S 18-55MM F/3...</td>\n      <td>3.85</td>\n      <td>CN4000D-1855IIIDBB64GB</td>\n      <td>65740</td>\n      <td>2019-02-22</td>\n      <td>Deal-Expo</td>\n    </tr>\n    <tr>\n      <th>3</th>\n      <td>B087SJ9S4W</td>\n      <td>Canon EOS Rebel T7 DSLR Camera with 18-55mm f/...</td>\n      <td>1.05</td>\n      <td>Canon EOS Rebel T7</td>\n      <td>11370</td>\n      <td>2020-04-28</td>\n      <td>ALS VARIETY-Canon Intl</td>\n    </tr>\n    <tr>\n      <th>4</th>\n      <td>B07WFQYDD5</td>\n      <td>Canon DSLR Camera [EOS 90D] with Built-in Wi-F...</td>\n      <td>1.32</td>\n      <td>3616C002</td>\n      <td>6672</td>\n      <td>2019-08-28</td>\n      <td>Canon USA</td>\n    </tr>\n    <tr>\n      <th>...</th>\n      <td>...</td>\n      <td>...</td>\n      <td>...</td>\n      <td>...</td>\n      <td>...</td>\n      <td>...</td>\n      <td>...</td>\n    </tr>\n    <tr>\n      <th>8707</th>\n      <td>B07RZWQVJY</td>\n      <td>Godox X2T-S TTL Wireless Trigger, 1/8000s High...</td>\n      <td>5.3</td>\n      <td>LeaTure-X2T</td>\n      <td>163</td>\n      <td>2019-05-21</td>\n      <td>GODOX</td>\n    </tr>\n    <tr>\n      <th>8712</th>\n      <td>B071SG1WCK</td>\n      <td>LED Copy Light Set with Adjustable Arms</td>\n      <td>5.74</td>\n      <td>402184</td>\n      <td>3937</td>\n      <td>2017-05-24</td>\n      <td>Smith-Victor</td>\n    </tr>\n    <tr>\n      <th>8713</th>\n      <td>B07Y44Y38X</td>\n      <td>Mugast Lens Cap, Durable Alloy Camera Lens Cap...</td>\n      <td>0.352</td>\n      <td>NaN</td>\n      <td>1472</td>\n      <td>2019-10-30</td>\n      <td>Mugast</td>\n    </tr>\n    <tr>\n      <th>8714</th>\n      <td>B007FH1KX2</td>\n      <td>Canon 600EX-RT Speedlite Flash (Black)</td>\n      <td>15</td>\n      <td>5296B002</td>\n      <td>294</td>\n      <td>2012-03-01</td>\n      <td>Canon</td>\n    </tr>\n    <tr>\n      <th>8715</th>\n      <td>B00005LENC</td>\n      <td>Nikon 28-80mm f/3.3-5.6G Autofocus Nikkor Zoom...</td>\n      <td>9.6</td>\n      <td>1926</td>\n      <td>1043</td>\n      <td>2005-05-31</td>\n      <td>Nikon</td>\n    </tr>\n  </tbody>\n</table>\n<p>3495 rows × 7 columns</p>\n</div>"
     },
     "metadata": {},
     "execution_count": 71
    }
   ],
   "source": [
    "#Renaming column names\n",
    "new = new.rename(columns={'Item Weight': 'Item_weight', 'Item model number': 'Item_model_number','Customer Reviews': 'Customer_reviews', 'Best Sellers Rank': 'Best_seller_rank', 'Date First Available': 'First_date_available'})\n",
    "new"
   ]
  },
  {
   "cell_type": "code",
   "execution_count": 78,
   "metadata": {},
   "outputs": [
    {
     "output_type": "error",
     "ename": "ValueError",
     "evalue": "Length mismatch: Expected axis has 1 elements, new values have 2 elements",
     "traceback": [
      "\u001b[1;31m---------------------------------------------------------------------------\u001b[0m",
      "\u001b[1;31mValueError\u001b[0m                                Traceback (most recent call last)",
      "\u001b[1;32m<ipython-input-78-e07b0cab9f6c>\u001b[0m in \u001b[0;36m<module>\u001b[1;34m\u001b[0m\n\u001b[0;32m      1\u001b[0m \u001b[0miw\u001b[0m \u001b[1;33m=\u001b[0m \u001b[0mnew\u001b[0m\u001b[1;33m[\u001b[0m\u001b[1;34m'Item_weight'\u001b[0m\u001b[1;33m]\u001b[0m\u001b[1;33m.\u001b[0m\u001b[0mstr\u001b[0m\u001b[1;33m.\u001b[0m\u001b[0msplit\u001b[0m\u001b[1;33m(\u001b[0m\u001b[0mexpand\u001b[0m\u001b[1;33m=\u001b[0m\u001b[1;32mTrue\u001b[0m\u001b[1;33m)\u001b[0m\u001b[1;33m\u001b[0m\u001b[1;33m\u001b[0m\u001b[0m\n\u001b[1;32m----> 2\u001b[1;33m \u001b[0miw\u001b[0m\u001b[1;33m.\u001b[0m\u001b[0mcolumns\u001b[0m \u001b[1;33m=\u001b[0m \u001b[1;33m[\u001b[0m\u001b[1;34m'a'\u001b[0m\u001b[1;33m,\u001b[0m\u001b[1;34m'b'\u001b[0m\u001b[1;33m]\u001b[0m\u001b[1;33m\u001b[0m\u001b[1;33m\u001b[0m\u001b[0m\n\u001b[0m\u001b[0;32m      3\u001b[0m \u001b[0miw\u001b[0m\u001b[1;33m\u001b[0m\u001b[1;33m\u001b[0m\u001b[0m\n",
      "\u001b[1;32mC:\\ProgramData\\Anaconda3_3\\lib\\site-packages\\pandas\\core\\generic.py\u001b[0m in \u001b[0;36m__setattr__\u001b[1;34m(self, name, value)\u001b[0m\n\u001b[0;32m   5150\u001b[0m         \u001b[1;32mtry\u001b[0m\u001b[1;33m:\u001b[0m\u001b[1;33m\u001b[0m\u001b[1;33m\u001b[0m\u001b[0m\n\u001b[0;32m   5151\u001b[0m             \u001b[0mobject\u001b[0m\u001b[1;33m.\u001b[0m\u001b[0m__getattribute__\u001b[0m\u001b[1;33m(\u001b[0m\u001b[0mself\u001b[0m\u001b[1;33m,\u001b[0m \u001b[0mname\u001b[0m\u001b[1;33m)\u001b[0m\u001b[1;33m\u001b[0m\u001b[1;33m\u001b[0m\u001b[0m\n\u001b[1;32m-> 5152\u001b[1;33m             \u001b[1;32mreturn\u001b[0m \u001b[0mobject\u001b[0m\u001b[1;33m.\u001b[0m\u001b[0m__setattr__\u001b[0m\u001b[1;33m(\u001b[0m\u001b[0mself\u001b[0m\u001b[1;33m,\u001b[0m \u001b[0mname\u001b[0m\u001b[1;33m,\u001b[0m \u001b[0mvalue\u001b[0m\u001b[1;33m)\u001b[0m\u001b[1;33m\u001b[0m\u001b[1;33m\u001b[0m\u001b[0m\n\u001b[0m\u001b[0;32m   5153\u001b[0m         \u001b[1;32mexcept\u001b[0m \u001b[0mAttributeError\u001b[0m\u001b[1;33m:\u001b[0m\u001b[1;33m\u001b[0m\u001b[1;33m\u001b[0m\u001b[0m\n\u001b[0;32m   5154\u001b[0m             \u001b[1;32mpass\u001b[0m\u001b[1;33m\u001b[0m\u001b[1;33m\u001b[0m\u001b[0m\n",
      "\u001b[1;32mpandas\\_libs\\properties.pyx\u001b[0m in \u001b[0;36mpandas._libs.properties.AxisProperty.__set__\u001b[1;34m()\u001b[0m\n",
      "\u001b[1;32mC:\\ProgramData\\Anaconda3_3\\lib\\site-packages\\pandas\\core\\generic.py\u001b[0m in \u001b[0;36m_set_axis\u001b[1;34m(self, axis, labels)\u001b[0m\n\u001b[0;32m    562\u001b[0m     \u001b[1;32mdef\u001b[0m \u001b[0m_set_axis\u001b[0m\u001b[1;33m(\u001b[0m\u001b[0mself\u001b[0m\u001b[1;33m,\u001b[0m \u001b[0maxis\u001b[0m\u001b[1;33m:\u001b[0m \u001b[0mint\u001b[0m\u001b[1;33m,\u001b[0m \u001b[0mlabels\u001b[0m\u001b[1;33m:\u001b[0m \u001b[0mIndex\u001b[0m\u001b[1;33m)\u001b[0m \u001b[1;33m->\u001b[0m \u001b[1;32mNone\u001b[0m\u001b[1;33m:\u001b[0m\u001b[1;33m\u001b[0m\u001b[1;33m\u001b[0m\u001b[0m\n\u001b[0;32m    563\u001b[0m         \u001b[0mlabels\u001b[0m \u001b[1;33m=\u001b[0m \u001b[0mensure_index\u001b[0m\u001b[1;33m(\u001b[0m\u001b[0mlabels\u001b[0m\u001b[1;33m)\u001b[0m\u001b[1;33m\u001b[0m\u001b[1;33m\u001b[0m\u001b[0m\n\u001b[1;32m--> 564\u001b[1;33m         \u001b[0mself\u001b[0m\u001b[1;33m.\u001b[0m\u001b[0m_mgr\u001b[0m\u001b[1;33m.\u001b[0m\u001b[0mset_axis\u001b[0m\u001b[1;33m(\u001b[0m\u001b[0maxis\u001b[0m\u001b[1;33m,\u001b[0m \u001b[0mlabels\u001b[0m\u001b[1;33m)\u001b[0m\u001b[1;33m\u001b[0m\u001b[1;33m\u001b[0m\u001b[0m\n\u001b[0m\u001b[0;32m    565\u001b[0m         \u001b[0mself\u001b[0m\u001b[1;33m.\u001b[0m\u001b[0m_clear_item_cache\u001b[0m\u001b[1;33m(\u001b[0m\u001b[1;33m)\u001b[0m\u001b[1;33m\u001b[0m\u001b[1;33m\u001b[0m\u001b[0m\n\u001b[0;32m    566\u001b[0m \u001b[1;33m\u001b[0m\u001b[0m\n",
      "\u001b[1;32mC:\\ProgramData\\Anaconda3_3\\lib\\site-packages\\pandas\\core\\internals\\managers.py\u001b[0m in \u001b[0;36mset_axis\u001b[1;34m(self, axis, new_labels)\u001b[0m\n\u001b[0;32m    224\u001b[0m \u001b[1;33m\u001b[0m\u001b[0m\n\u001b[0;32m    225\u001b[0m         \u001b[1;32mif\u001b[0m \u001b[0mnew_len\u001b[0m \u001b[1;33m!=\u001b[0m \u001b[0mold_len\u001b[0m\u001b[1;33m:\u001b[0m\u001b[1;33m\u001b[0m\u001b[1;33m\u001b[0m\u001b[0m\n\u001b[1;32m--> 226\u001b[1;33m             raise ValueError(\n\u001b[0m\u001b[0;32m    227\u001b[0m                 \u001b[1;34mf\"Length mismatch: Expected axis has {old_len} elements, new \"\u001b[0m\u001b[1;33m\u001b[0m\u001b[1;33m\u001b[0m\u001b[0m\n\u001b[0;32m    228\u001b[0m                 \u001b[1;34mf\"values have {new_len} elements\"\u001b[0m\u001b[1;33m\u001b[0m\u001b[1;33m\u001b[0m\u001b[0m\n",
      "\u001b[1;31mValueError\u001b[0m: Length mismatch: Expected axis has 1 elements, new values have 2 elements"
     ]
    }
   ],
   "source": [
    "iw = new['Item_weight'].str.split(expand=True)\n",
    "iw.columns = ['a','b']\n",
    "iw"
   ]
  },
  {
   "cell_type": "code",
   "execution_count": 77,
   "metadata": {},
   "outputs": [
    {
     "output_type": "error",
     "ename": "KeyError",
     "evalue": "'iw'",
     "traceback": [
      "\u001b[1;31m---------------------------------------------------------------------------\u001b[0m",
      "\u001b[1;31mKeyError\u001b[0m                                  Traceback (most recent call last)",
      "\u001b[1;32mC:\\ProgramData\\Anaconda3_3\\lib\\site-packages\\pandas\\core\\indexes\\base.py\u001b[0m in \u001b[0;36mget_loc\u001b[1;34m(self, key, method, tolerance)\u001b[0m\n\u001b[0;32m   2894\u001b[0m             \u001b[1;32mtry\u001b[0m\u001b[1;33m:\u001b[0m\u001b[1;33m\u001b[0m\u001b[1;33m\u001b[0m\u001b[0m\n\u001b[1;32m-> 2895\u001b[1;33m                 \u001b[1;32mreturn\u001b[0m \u001b[0mself\u001b[0m\u001b[1;33m.\u001b[0m\u001b[0m_engine\u001b[0m\u001b[1;33m.\u001b[0m\u001b[0mget_loc\u001b[0m\u001b[1;33m(\u001b[0m\u001b[0mcasted_key\u001b[0m\u001b[1;33m)\u001b[0m\u001b[1;33m\u001b[0m\u001b[1;33m\u001b[0m\u001b[0m\n\u001b[0m\u001b[0;32m   2896\u001b[0m             \u001b[1;32mexcept\u001b[0m \u001b[0mKeyError\u001b[0m \u001b[1;32mas\u001b[0m \u001b[0merr\u001b[0m\u001b[1;33m:\u001b[0m\u001b[1;33m\u001b[0m\u001b[1;33m\u001b[0m\u001b[0m\n",
      "\u001b[1;32mpandas\\_libs\\index.pyx\u001b[0m in \u001b[0;36mpandas._libs.index.IndexEngine.get_loc\u001b[1;34m()\u001b[0m\n",
      "\u001b[1;32mpandas\\_libs\\index.pyx\u001b[0m in \u001b[0;36mpandas._libs.index.IndexEngine.get_loc\u001b[1;34m()\u001b[0m\n",
      "\u001b[1;32mpandas\\_libs\\hashtable_class_helper.pxi\u001b[0m in \u001b[0;36mpandas._libs.hashtable.PyObjectHashTable.get_item\u001b[1;34m()\u001b[0m\n",
      "\u001b[1;32mpandas\\_libs\\hashtable_class_helper.pxi\u001b[0m in \u001b[0;36mpandas._libs.hashtable.PyObjectHashTable.get_item\u001b[1;34m()\u001b[0m\n",
      "\u001b[1;31mKeyError\u001b[0m: 'iw'",
      "\nThe above exception was the direct cause of the following exception:\n",
      "\u001b[1;31mKeyError\u001b[0m                                  Traceback (most recent call last)",
      "\u001b[1;32m<ipython-input-77-6274ad668d9a>\u001b[0m in \u001b[0;36m<module>\u001b[1;34m\u001b[0m\n\u001b[1;32m----> 1\u001b[1;33m \u001b[0miw\u001b[0m\u001b[1;33m.\u001b[0m\u001b[0miw\u001b[0m \u001b[1;33m=\u001b[0m \u001b[0miw\u001b[0m\u001b[1;33m[\u001b[0m\u001b[1;34m'iw'\u001b[0m\u001b[1;33m]\u001b[0m\u001b[1;33m.\u001b[0m\u001b[0mastype\u001b[0m\u001b[1;33m(\u001b[0m\u001b[0mfloat\u001b[0m\u001b[1;33m)\u001b[0m\u001b[1;33m\u001b[0m\u001b[1;33m\u001b[0m\u001b[0m\n\u001b[0m\u001b[0;32m      2\u001b[0m \u001b[0miw\u001b[0m\u001b[1;33m[\u001b[0m\u001b[1;34m'iw'\u001b[0m\u001b[1;33m]\u001b[0m \u001b[1;33m=\u001b[0m \u001b[0mnp\u001b[0m\u001b[1;33m.\u001b[0m\u001b[0mwhere\u001b[0m\u001b[1;33m(\u001b[0m\u001b[0miw\u001b[0m\u001b[1;33m[\u001b[0m\u001b[1;34m'iw'\u001b[0m\u001b[1;33m]\u001b[0m \u001b[1;33m==\u001b[0m \u001b[1;34m'ounces'\u001b[0m\u001b[1;33m,\u001b[0m\u001b[0miw\u001b[0m\u001b[1;33m[\u001b[0m\u001b[1;34m'iw'\u001b[0m\u001b[1;33m]\u001b[0m \u001b[1;33m*\u001b[0m \u001b[1;36m0.16\u001b[0m \u001b[1;33m,\u001b[0m\u001b[0miw\u001b[0m\u001b[1;33m[\u001b[0m\u001b[1;34m'iw'\u001b[0m\u001b[1;33m]\u001b[0m\u001b[1;33m)\u001b[0m\u001b[1;33m\u001b[0m\u001b[1;33m\u001b[0m\u001b[0m\n\u001b[0;32m      3\u001b[0m \u001b[0mnew\u001b[0m\u001b[1;33m[\u001b[0m\u001b[1;34m'Item Weight'\u001b[0m\u001b[1;33m]\u001b[0m \u001b[1;33m=\u001b[0m \u001b[0miw\u001b[0m\u001b[1;33m[\u001b[0m\u001b[1;34m'iw'\u001b[0m\u001b[1;33m]\u001b[0m\u001b[1;33m\u001b[0m\u001b[1;33m\u001b[0m\u001b[0m\n\u001b[0;32m      4\u001b[0m \u001b[0mnew\u001b[0m\u001b[1;33m\u001b[0m\u001b[1;33m\u001b[0m\u001b[0m\n",
      "\u001b[1;32mC:\\ProgramData\\Anaconda3_3\\lib\\site-packages\\pandas\\core\\frame.py\u001b[0m in \u001b[0;36m__getitem__\u001b[1;34m(self, key)\u001b[0m\n\u001b[0;32m   2900\u001b[0m             \u001b[1;32mif\u001b[0m \u001b[0mself\u001b[0m\u001b[1;33m.\u001b[0m\u001b[0mcolumns\u001b[0m\u001b[1;33m.\u001b[0m\u001b[0mnlevels\u001b[0m \u001b[1;33m>\u001b[0m \u001b[1;36m1\u001b[0m\u001b[1;33m:\u001b[0m\u001b[1;33m\u001b[0m\u001b[1;33m\u001b[0m\u001b[0m\n\u001b[0;32m   2901\u001b[0m                 \u001b[1;32mreturn\u001b[0m \u001b[0mself\u001b[0m\u001b[1;33m.\u001b[0m\u001b[0m_getitem_multilevel\u001b[0m\u001b[1;33m(\u001b[0m\u001b[0mkey\u001b[0m\u001b[1;33m)\u001b[0m\u001b[1;33m\u001b[0m\u001b[1;33m\u001b[0m\u001b[0m\n\u001b[1;32m-> 2902\u001b[1;33m             \u001b[0mindexer\u001b[0m \u001b[1;33m=\u001b[0m \u001b[0mself\u001b[0m\u001b[1;33m.\u001b[0m\u001b[0mcolumns\u001b[0m\u001b[1;33m.\u001b[0m\u001b[0mget_loc\u001b[0m\u001b[1;33m(\u001b[0m\u001b[0mkey\u001b[0m\u001b[1;33m)\u001b[0m\u001b[1;33m\u001b[0m\u001b[1;33m\u001b[0m\u001b[0m\n\u001b[0m\u001b[0;32m   2903\u001b[0m             \u001b[1;32mif\u001b[0m \u001b[0mis_integer\u001b[0m\u001b[1;33m(\u001b[0m\u001b[0mindexer\u001b[0m\u001b[1;33m)\u001b[0m\u001b[1;33m:\u001b[0m\u001b[1;33m\u001b[0m\u001b[1;33m\u001b[0m\u001b[0m\n\u001b[0;32m   2904\u001b[0m                 \u001b[0mindexer\u001b[0m \u001b[1;33m=\u001b[0m \u001b[1;33m[\u001b[0m\u001b[0mindexer\u001b[0m\u001b[1;33m]\u001b[0m\u001b[1;33m\u001b[0m\u001b[1;33m\u001b[0m\u001b[0m\n",
      "\u001b[1;32mC:\\ProgramData\\Anaconda3_3\\lib\\site-packages\\pandas\\core\\indexes\\base.py\u001b[0m in \u001b[0;36mget_loc\u001b[1;34m(self, key, method, tolerance)\u001b[0m\n\u001b[0;32m   2895\u001b[0m                 \u001b[1;32mreturn\u001b[0m \u001b[0mself\u001b[0m\u001b[1;33m.\u001b[0m\u001b[0m_engine\u001b[0m\u001b[1;33m.\u001b[0m\u001b[0mget_loc\u001b[0m\u001b[1;33m(\u001b[0m\u001b[0mcasted_key\u001b[0m\u001b[1;33m)\u001b[0m\u001b[1;33m\u001b[0m\u001b[1;33m\u001b[0m\u001b[0m\n\u001b[0;32m   2896\u001b[0m             \u001b[1;32mexcept\u001b[0m \u001b[0mKeyError\u001b[0m \u001b[1;32mas\u001b[0m \u001b[0merr\u001b[0m\u001b[1;33m:\u001b[0m\u001b[1;33m\u001b[0m\u001b[1;33m\u001b[0m\u001b[0m\n\u001b[1;32m-> 2897\u001b[1;33m                 \u001b[1;32mraise\u001b[0m \u001b[0mKeyError\u001b[0m\u001b[1;33m(\u001b[0m\u001b[0mkey\u001b[0m\u001b[1;33m)\u001b[0m \u001b[1;32mfrom\u001b[0m \u001b[0merr\u001b[0m\u001b[1;33m\u001b[0m\u001b[1;33m\u001b[0m\u001b[0m\n\u001b[0m\u001b[0;32m   2898\u001b[0m \u001b[1;33m\u001b[0m\u001b[0m\n\u001b[0;32m   2899\u001b[0m         \u001b[1;32mif\u001b[0m \u001b[0mtolerance\u001b[0m \u001b[1;32mis\u001b[0m \u001b[1;32mnot\u001b[0m \u001b[1;32mNone\u001b[0m\u001b[1;33m:\u001b[0m\u001b[1;33m\u001b[0m\u001b[1;33m\u001b[0m\u001b[0m\n",
      "\u001b[1;31mKeyError\u001b[0m: 'iw'"
     ]
    }
   ],
   "source": [
    "iw.iw = iw['iw'].astype(float)\n",
    "iw['iw'] = np.where(iw['iw'] == 'ounces',iw['iw'] * 0.16 ,iw['iw'])\n",
    "new['Item Weight'] = iw['iw']\n",
    "new"
   ]
  },
  {
   "cell_type": "code",
   "execution_count": 52,
   "metadata": {},
   "outputs": [],
   "source": [
    "#Removing extras from columns like inches, ounces etc.\n",
    "new['Item_weight'] = new['Item_weight'].str.replace('pounds', '')\n",
    "#new['Item_weight'] = new['Item_weight'].str.replace('ounces', '')"
   ]
  },
  {
   "cell_type": "code",
   "execution_count": 53,
   "metadata": {},
   "outputs": [],
   "source": [
    "a = new['Best_seller_rank'].str.split(expand=True)\n",
    "new_1  = a[[0]]\n",
    "new_1.columns = ['a']\n",
    "new_1['a'] = new_1['a'].str.replace('#', '').str.replace(',', '')\n",
    "new['Best_seller_rank'] = new_1['a']"
   ]
  },
  {
   "cell_type": "code",
   "execution_count": 54,
   "metadata": {},
   "outputs": [],
   "source": [
    "#final product data for DSLR\n",
    "new = new[['ASIN', 'name', 'Item_weight', 'Item_model_number', 'Best_seller_rank', 'First_date_available', 'Manufacturer']]\n"
   ]
  },
  {
   "cell_type": "code",
   "execution_count": 55,
   "metadata": {},
   "outputs": [],
   "source": [
    "new['First_date_available']= pd.to_datetime(new['First_date_available'])"
   ]
  },
  {
   "cell_type": "code",
   "execution_count": 56,
   "metadata": {},
   "outputs": [
    {
     "output_type": "execute_result",
     "data": {
      "text/plain": [
       "ASIN                            object\n",
       "name                            object\n",
       "Item_weight                     object\n",
       "Item_model_number               object\n",
       "Best_seller_rank                object\n",
       "First_date_available    datetime64[ns]\n",
       "Manufacturer                    object\n",
       "dtype: object"
      ]
     },
     "metadata": {},
     "execution_count": 56
    }
   ],
   "source": [
    "new.dtypes"
   ]
  },
  {
   "cell_type": "code",
   "execution_count": 57,
   "metadata": {},
   "outputs": [
    {
     "output_type": "execute_result",
     "data": {
      "text/plain": [
       "            ASIN                                              Title  \\\n",
       "0     B087T9B6X5  Canon EOS Rebel T100 DSLR Camera with 18-55mm ...   \n",
       "1     B08DQ4QQ6R  Canon EOS 4000D / Rebel T100 Digital SLR Camer...   \n",
       "2     B07Y5K1215  EOS 4000D Digital Camera with EF-S 18-55MM F/3...   \n",
       "3     B087SJ9S4W  Canon EOS Rebel T7 DSLR Camera with 18-55mm f/...   \n",
       "4     B07WFQYDD5  Canon DSLR Camera [EOS 90D] with Built-in Wi-F...   \n",
       "...          ...                                                ...   \n",
       "8707  B07RZWQVJY  Godox X2T-S TTL Wireless Trigger, 1/8000s High...   \n",
       "8712  B071SG1WCK            LED Copy Light Set with Adjustable Arms   \n",
       "8713  B07Y44Y38X  Mugast Lens Cap, Durable Alloy Camera Lens Cap...   \n",
       "8714  B007FH1KX2             Canon 600EX-RT Speedlite Flash (Black)   \n",
       "8715  B00005LENC  Nikon 28-80mm f/3.3-5.6G Autofocus Nikkor Zoom...   \n",
       "\n",
       "     Item_weight       Item_model_number Best_seller_rank  \\\n",
       "0          1.05     Canon EOS Rebel T100             5336   \n",
       "1          7.02                    4000D             8273   \n",
       "2          3.85   CN4000D-1855IIIDBB64GB            65740   \n",
       "3          1.05       Canon EOS Rebel T7            11370   \n",
       "4          1.32                 3616C002             6672   \n",
       "...          ...                     ...              ...   \n",
       "8707        5.3              LeaTure-X2T              163   \n",
       "8712       5.74                   402184             3937   \n",
       "8713      0.352                      NaN             1472   \n",
       "8714         15                 5296B002              294   \n",
       "8715        9.6                     1926             1043   \n",
       "\n",
       "     First_date_available             Manufacturer  \n",
       "0              2020-04-28  Al's Variety-Canon Intl  \n",
       "1              2020-07-27       Canon Cameras Inc.  \n",
       "2              2019-02-22                Deal-Expo  \n",
       "3              2020-04-28   ALS VARIETY-Canon Intl  \n",
       "4              2019-08-28                Canon USA  \n",
       "...                   ...                      ...  \n",
       "8707           2019-05-21                    GODOX  \n",
       "8712           2017-05-24             Smith-Victor  \n",
       "8713           2019-10-30                   Mugast  \n",
       "8714           2012-03-01                    Canon  \n",
       "8715           2005-05-31                    Nikon  \n",
       "\n",
       "[3495 rows x 7 columns]"
      ],
      "text/html": "<div>\n<style scoped>\n    .dataframe tbody tr th:only-of-type {\n        vertical-align: middle;\n    }\n\n    .dataframe tbody tr th {\n        vertical-align: top;\n    }\n\n    .dataframe thead th {\n        text-align: right;\n    }\n</style>\n<table border=\"1\" class=\"dataframe\">\n  <thead>\n    <tr style=\"text-align: right;\">\n      <th></th>\n      <th>ASIN</th>\n      <th>Title</th>\n      <th>Item_weight</th>\n      <th>Item_model_number</th>\n      <th>Best_seller_rank</th>\n      <th>First_date_available</th>\n      <th>Manufacturer</th>\n    </tr>\n  </thead>\n  <tbody>\n    <tr>\n      <th>0</th>\n      <td>B087T9B6X5</td>\n      <td>Canon EOS Rebel T100 DSLR Camera with 18-55mm ...</td>\n      <td>1.05</td>\n      <td>Canon EOS Rebel T100</td>\n      <td>5336</td>\n      <td>2020-04-28</td>\n      <td>Al's Variety-Canon Intl</td>\n    </tr>\n    <tr>\n      <th>1</th>\n      <td>B08DQ4QQ6R</td>\n      <td>Canon EOS 4000D / Rebel T100 Digital SLR Camer...</td>\n      <td>7.02</td>\n      <td>4000D</td>\n      <td>8273</td>\n      <td>2020-07-27</td>\n      <td>Canon Cameras Inc.</td>\n    </tr>\n    <tr>\n      <th>2</th>\n      <td>B07Y5K1215</td>\n      <td>EOS 4000D Digital Camera with EF-S 18-55MM F/3...</td>\n      <td>3.85</td>\n      <td>CN4000D-1855IIIDBB64GB</td>\n      <td>65740</td>\n      <td>2019-02-22</td>\n      <td>Deal-Expo</td>\n    </tr>\n    <tr>\n      <th>3</th>\n      <td>B087SJ9S4W</td>\n      <td>Canon EOS Rebel T7 DSLR Camera with 18-55mm f/...</td>\n      <td>1.05</td>\n      <td>Canon EOS Rebel T7</td>\n      <td>11370</td>\n      <td>2020-04-28</td>\n      <td>ALS VARIETY-Canon Intl</td>\n    </tr>\n    <tr>\n      <th>4</th>\n      <td>B07WFQYDD5</td>\n      <td>Canon DSLR Camera [EOS 90D] with Built-in Wi-F...</td>\n      <td>1.32</td>\n      <td>3616C002</td>\n      <td>6672</td>\n      <td>2019-08-28</td>\n      <td>Canon USA</td>\n    </tr>\n    <tr>\n      <th>...</th>\n      <td>...</td>\n      <td>...</td>\n      <td>...</td>\n      <td>...</td>\n      <td>...</td>\n      <td>...</td>\n      <td>...</td>\n    </tr>\n    <tr>\n      <th>8707</th>\n      <td>B07RZWQVJY</td>\n      <td>Godox X2T-S TTL Wireless Trigger, 1/8000s High...</td>\n      <td>5.3</td>\n      <td>LeaTure-X2T</td>\n      <td>163</td>\n      <td>2019-05-21</td>\n      <td>GODOX</td>\n    </tr>\n    <tr>\n      <th>8712</th>\n      <td>B071SG1WCK</td>\n      <td>LED Copy Light Set with Adjustable Arms</td>\n      <td>5.74</td>\n      <td>402184</td>\n      <td>3937</td>\n      <td>2017-05-24</td>\n      <td>Smith-Victor</td>\n    </tr>\n    <tr>\n      <th>8713</th>\n      <td>B07Y44Y38X</td>\n      <td>Mugast Lens Cap, Durable Alloy Camera Lens Cap...</td>\n      <td>0.352</td>\n      <td>NaN</td>\n      <td>1472</td>\n      <td>2019-10-30</td>\n      <td>Mugast</td>\n    </tr>\n    <tr>\n      <th>8714</th>\n      <td>B007FH1KX2</td>\n      <td>Canon 600EX-RT Speedlite Flash (Black)</td>\n      <td>15</td>\n      <td>5296B002</td>\n      <td>294</td>\n      <td>2012-03-01</td>\n      <td>Canon</td>\n    </tr>\n    <tr>\n      <th>8715</th>\n      <td>B00005LENC</td>\n      <td>Nikon 28-80mm f/3.3-5.6G Autofocus Nikkor Zoom...</td>\n      <td>9.6</td>\n      <td>1926</td>\n      <td>1043</td>\n      <td>2005-05-31</td>\n      <td>Nikon</td>\n    </tr>\n  </tbody>\n</table>\n<p>3495 rows × 7 columns</p>\n</div>"
     },
     "metadata": {},
     "execution_count": 57
    }
   ],
   "source": [
    "#Renaming column names\n",
    "new = new.rename(columns={'name': 'Title'})\n",
    "new"
   ]
  },
  {
   "cell_type": "code",
   "execution_count": 58,
   "metadata": {},
   "outputs": [
    {
     "output_type": "execute_result",
     "data": {
      "text/plain": [
       "            ASIN                                              Title  \\\n",
       "0     B087T9B6X5  Canon EOS Rebel T100 DSLR Camera with 18-55mm ...   \n",
       "1     B08DQ4QQ6R  Canon EOS 4000D / Rebel T100 Digital SLR Camer...   \n",
       "2     B07Y5K1215  EOS 4000D Digital Camera with EF-S 18-55MM F/3...   \n",
       "3     B087SJ9S4W  Canon EOS Rebel T7 DSLR Camera with 18-55mm f/...   \n",
       "4     B07WFQYDD5  Canon DSLR Camera [EOS 90D] with Built-in Wi-F...   \n",
       "...          ...                                                ...   \n",
       "8707  B07RZWQVJY  Godox X2T-S TTL Wireless Trigger, 1/8000s High...   \n",
       "8712  B071SG1WCK            LED Copy Light Set with Adjustable Arms   \n",
       "8713  B07Y44Y38X  Mugast Lens Cap, Durable Alloy Camera Lens Cap...   \n",
       "8714  B007FH1KX2             Canon 600EX-RT Speedlite Flash (Black)   \n",
       "8715  B00005LENC  Nikon 28-80mm f/3.3-5.6G Autofocus Nikkor Zoom...   \n",
       "\n",
       "     Item_weight       Item_model_number Best_seller_rank  \\\n",
       "0          1.05     Canon EOS Rebel T100             5336   \n",
       "1          7.02                    4000D             8273   \n",
       "2          3.85   CN4000D-1855IIIDBB64GB            65740   \n",
       "3          1.05       Canon EOS Rebel T7            11370   \n",
       "4          1.32                 3616C002             6672   \n",
       "...          ...                     ...              ...   \n",
       "8707        5.3              LeaTure-X2T              163   \n",
       "8712       5.74                   402184             3937   \n",
       "8713      0.352                      NaN             1472   \n",
       "8714         15                 5296B002              294   \n",
       "8715        9.6                     1926             1043   \n",
       "\n",
       "     First_date_available             Manufacturer  \n",
       "0              2020-04-28  Al's Variety-Canon Intl  \n",
       "1              2020-07-27       Canon Cameras Inc.  \n",
       "2              2019-02-22                Deal-Expo  \n",
       "3              2020-04-28   ALS VARIETY-Canon Intl  \n",
       "4              2019-08-28                Canon USA  \n",
       "...                   ...                      ...  \n",
       "8707           2019-05-21                    GODOX  \n",
       "8712           2017-05-24             Smith-Victor  \n",
       "8713           2019-10-30                   Mugast  \n",
       "8714           2012-03-01                    Canon  \n",
       "8715           2005-05-31                    Nikon  \n",
       "\n",
       "[3495 rows x 7 columns]"
      ],
      "text/html": "<div>\n<style scoped>\n    .dataframe tbody tr th:only-of-type {\n        vertical-align: middle;\n    }\n\n    .dataframe tbody tr th {\n        vertical-align: top;\n    }\n\n    .dataframe thead th {\n        text-align: right;\n    }\n</style>\n<table border=\"1\" class=\"dataframe\">\n  <thead>\n    <tr style=\"text-align: right;\">\n      <th></th>\n      <th>ASIN</th>\n      <th>Title</th>\n      <th>Item_weight</th>\n      <th>Item_model_number</th>\n      <th>Best_seller_rank</th>\n      <th>First_date_available</th>\n      <th>Manufacturer</th>\n    </tr>\n  </thead>\n  <tbody>\n    <tr>\n      <th>0</th>\n      <td>B087T9B6X5</td>\n      <td>Canon EOS Rebel T100 DSLR Camera with 18-55mm ...</td>\n      <td>1.05</td>\n      <td>Canon EOS Rebel T100</td>\n      <td>5336</td>\n      <td>2020-04-28</td>\n      <td>Al's Variety-Canon Intl</td>\n    </tr>\n    <tr>\n      <th>1</th>\n      <td>B08DQ4QQ6R</td>\n      <td>Canon EOS 4000D / Rebel T100 Digital SLR Camer...</td>\n      <td>7.02</td>\n      <td>4000D</td>\n      <td>8273</td>\n      <td>2020-07-27</td>\n      <td>Canon Cameras Inc.</td>\n    </tr>\n    <tr>\n      <th>2</th>\n      <td>B07Y5K1215</td>\n      <td>EOS 4000D Digital Camera with EF-S 18-55MM F/3...</td>\n      <td>3.85</td>\n      <td>CN4000D-1855IIIDBB64GB</td>\n      <td>65740</td>\n      <td>2019-02-22</td>\n      <td>Deal-Expo</td>\n    </tr>\n    <tr>\n      <th>3</th>\n      <td>B087SJ9S4W</td>\n      <td>Canon EOS Rebel T7 DSLR Camera with 18-55mm f/...</td>\n      <td>1.05</td>\n      <td>Canon EOS Rebel T7</td>\n      <td>11370</td>\n      <td>2020-04-28</td>\n      <td>ALS VARIETY-Canon Intl</td>\n    </tr>\n    <tr>\n      <th>4</th>\n      <td>B07WFQYDD5</td>\n      <td>Canon DSLR Camera [EOS 90D] with Built-in Wi-F...</td>\n      <td>1.32</td>\n      <td>3616C002</td>\n      <td>6672</td>\n      <td>2019-08-28</td>\n      <td>Canon USA</td>\n    </tr>\n    <tr>\n      <th>...</th>\n      <td>...</td>\n      <td>...</td>\n      <td>...</td>\n      <td>...</td>\n      <td>...</td>\n      <td>...</td>\n      <td>...</td>\n    </tr>\n    <tr>\n      <th>8707</th>\n      <td>B07RZWQVJY</td>\n      <td>Godox X2T-S TTL Wireless Trigger, 1/8000s High...</td>\n      <td>5.3</td>\n      <td>LeaTure-X2T</td>\n      <td>163</td>\n      <td>2019-05-21</td>\n      <td>GODOX</td>\n    </tr>\n    <tr>\n      <th>8712</th>\n      <td>B071SG1WCK</td>\n      <td>LED Copy Light Set with Adjustable Arms</td>\n      <td>5.74</td>\n      <td>402184</td>\n      <td>3937</td>\n      <td>2017-05-24</td>\n      <td>Smith-Victor</td>\n    </tr>\n    <tr>\n      <th>8713</th>\n      <td>B07Y44Y38X</td>\n      <td>Mugast Lens Cap, Durable Alloy Camera Lens Cap...</td>\n      <td>0.352</td>\n      <td>NaN</td>\n      <td>1472</td>\n      <td>2019-10-30</td>\n      <td>Mugast</td>\n    </tr>\n    <tr>\n      <th>8714</th>\n      <td>B007FH1KX2</td>\n      <td>Canon 600EX-RT Speedlite Flash (Black)</td>\n      <td>15</td>\n      <td>5296B002</td>\n      <td>294</td>\n      <td>2012-03-01</td>\n      <td>Canon</td>\n    </tr>\n    <tr>\n      <th>8715</th>\n      <td>B00005LENC</td>\n      <td>Nikon 28-80mm f/3.3-5.6G Autofocus Nikkor Zoom...</td>\n      <td>9.6</td>\n      <td>1926</td>\n      <td>1043</td>\n      <td>2005-05-31</td>\n      <td>Nikon</td>\n    </tr>\n  </tbody>\n</table>\n<p>3495 rows × 7 columns</p>\n</div>"
     },
     "metadata": {},
     "execution_count": 58
    }
   ],
   "source": [
    "new"
   ]
  },
  {
   "cell_type": "code",
   "execution_count": 59,
   "metadata": {},
   "outputs": [
    {
     "output_type": "execute_result",
     "data": {
      "text/plain": [
       "ASIN                            object\n",
       "Title                           object\n",
       "Item_weight                     object\n",
       "Item_model_number               object\n",
       "Best_seller_rank                object\n",
       "First_date_available    datetime64[ns]\n",
       "Manufacturer                    object\n",
       "dtype: object"
      ]
     },
     "metadata": {},
     "execution_count": 59
    }
   ],
   "source": [
    "new.dtypes"
   ]
  },
  {
   "cell_type": "code",
   "execution_count": 60,
   "metadata": {},
   "outputs": [
    {
     "output_type": "execute_result",
     "data": {
      "text/plain": [
       "            ASIN                                              title    price  \\\n",
       "0     B087T9B6X5  Canon EOS Rebel T100 DSLR Camera with 18-55mm ...   419.00   \n",
       "1     B08DQ4QQ6R  Canon EOS 4000D / Rebel T100 Digital SLR Camer...   489.95   \n",
       "2     B07Y5K1215  EOS 4000D Digital Camera with EF-S 18-55MM F/3...   444.99   \n",
       "3     B087SJ9S4W  Canon EOS Rebel T7 DSLR Camera with 18-55mm f/...   549.00   \n",
       "4     B07WFQYDD5  Canon DSLR Camera [EOS 90D] with Built-in Wi-F...  1199.00   \n",
       "...          ...                                                ...      ...   \n",
       "7085  B07X3HW28M  Extension Rod Pole Bar SZ_ABTO Adjustable Self...    11.98   \n",
       "7086  B007S02GQG        LumiQuest Snoot XTR with UltraStrap LQ-115S    49.95   \n",
       "7087  B01C5NUSLA  MegaGear Panasonic Lumix DMC-ZS60, DMC-TZ80 Ul...    14.99   \n",
       "7088  B076MT8CS5  Meike MK420N TTL Li-ion Battery Camera Flash S...    53.99   \n",
       "7089  B08KSTH7WN  Dazzne Desk Mount Stand, 12.9-22inch Tabletop ...    32.99   \n",
       "\n",
       "      rating  review_count product_type  \n",
       "0        4.7           186         DSLR  \n",
       "1        4.6            18         DSLR  \n",
       "2        4.5            79         DSLR  \n",
       "3        4.7           294         DSLR  \n",
       "4        4.9           330         DSLR  \n",
       "...      ...           ...          ...  \n",
       "7085     4.3            28         DSLR  \n",
       "7086     3.7             8         DSLR  \n",
       "7087     3.3            13         DSLR  \n",
       "7088     5.0             5         DSLR  \n",
       "7089     4.8            55         DSLR  \n",
       "\n",
       "[7090 rows x 6 columns]"
      ],
      "text/html": "<div>\n<style scoped>\n    .dataframe tbody tr th:only-of-type {\n        vertical-align: middle;\n    }\n\n    .dataframe tbody tr th {\n        vertical-align: top;\n    }\n\n    .dataframe thead th {\n        text-align: right;\n    }\n</style>\n<table border=\"1\" class=\"dataframe\">\n  <thead>\n    <tr style=\"text-align: right;\">\n      <th></th>\n      <th>ASIN</th>\n      <th>title</th>\n      <th>price</th>\n      <th>rating</th>\n      <th>review_count</th>\n      <th>product_type</th>\n    </tr>\n  </thead>\n  <tbody>\n    <tr>\n      <th>0</th>\n      <td>B087T9B6X5</td>\n      <td>Canon EOS Rebel T100 DSLR Camera with 18-55mm ...</td>\n      <td>419.00</td>\n      <td>4.7</td>\n      <td>186</td>\n      <td>DSLR</td>\n    </tr>\n    <tr>\n      <th>1</th>\n      <td>B08DQ4QQ6R</td>\n      <td>Canon EOS 4000D / Rebel T100 Digital SLR Camer...</td>\n      <td>489.95</td>\n      <td>4.6</td>\n      <td>18</td>\n      <td>DSLR</td>\n    </tr>\n    <tr>\n      <th>2</th>\n      <td>B07Y5K1215</td>\n      <td>EOS 4000D Digital Camera with EF-S 18-55MM F/3...</td>\n      <td>444.99</td>\n      <td>4.5</td>\n      <td>79</td>\n      <td>DSLR</td>\n    </tr>\n    <tr>\n      <th>3</th>\n      <td>B087SJ9S4W</td>\n      <td>Canon EOS Rebel T7 DSLR Camera with 18-55mm f/...</td>\n      <td>549.00</td>\n      <td>4.7</td>\n      <td>294</td>\n      <td>DSLR</td>\n    </tr>\n    <tr>\n      <th>4</th>\n      <td>B07WFQYDD5</td>\n      <td>Canon DSLR Camera [EOS 90D] with Built-in Wi-F...</td>\n      <td>1199.00</td>\n      <td>4.9</td>\n      <td>330</td>\n      <td>DSLR</td>\n    </tr>\n    <tr>\n      <th>...</th>\n      <td>...</td>\n      <td>...</td>\n      <td>...</td>\n      <td>...</td>\n      <td>...</td>\n      <td>...</td>\n    </tr>\n    <tr>\n      <th>7085</th>\n      <td>B07X3HW28M</td>\n      <td>Extension Rod Pole Bar SZ_ABTO Adjustable Self...</td>\n      <td>11.98</td>\n      <td>4.3</td>\n      <td>28</td>\n      <td>DSLR</td>\n    </tr>\n    <tr>\n      <th>7086</th>\n      <td>B007S02GQG</td>\n      <td>LumiQuest Snoot XTR with UltraStrap LQ-115S</td>\n      <td>49.95</td>\n      <td>3.7</td>\n      <td>8</td>\n      <td>DSLR</td>\n    </tr>\n    <tr>\n      <th>7087</th>\n      <td>B01C5NUSLA</td>\n      <td>MegaGear Panasonic Lumix DMC-ZS60, DMC-TZ80 Ul...</td>\n      <td>14.99</td>\n      <td>3.3</td>\n      <td>13</td>\n      <td>DSLR</td>\n    </tr>\n    <tr>\n      <th>7088</th>\n      <td>B076MT8CS5</td>\n      <td>Meike MK420N TTL Li-ion Battery Camera Flash S...</td>\n      <td>53.99</td>\n      <td>5.0</td>\n      <td>5</td>\n      <td>DSLR</td>\n    </tr>\n    <tr>\n      <th>7089</th>\n      <td>B08KSTH7WN</td>\n      <td>Dazzne Desk Mount Stand, 12.9-22inch Tabletop ...</td>\n      <td>32.99</td>\n      <td>4.8</td>\n      <td>55</td>\n      <td>DSLR</td>\n    </tr>\n  </tbody>\n</table>\n<p>7090 rows × 6 columns</p>\n</div>"
     },
     "metadata": {},
     "execution_count": 60
    }
   ],
   "source": [
    "#Taking search data to SQL\n",
    "dslrasin"
   ]
  },
  {
   "cell_type": "code",
   "execution_count": 61,
   "metadata": {},
   "outputs": [],
   "source": [
    "import pymysql\n",
    "import pandas as pd\n",
    "from sqlalchemy import create_engine"
   ]
  },
  {
   "cell_type": "code",
   "execution_count": 62,
   "metadata": {},
   "outputs": [],
   "source": [
    "#Taking search file to SQL\n",
    "db_data = 'mysql+mysqldb://' + 'root' + ':' + 'Mysql!19891' + '@' + 'localhost' + ':3306/' \\\n",
    "       + 'dslr' + '?charset=utf8mb4'\n",
    "engine = create_engine(db_data)\n",
    "\n",
    "# Connect to the database\n",
    "connection = pymysql.connect(host='localhost',\n",
    "                         user='root',\n",
    "                         password='Mysql!19891',\n",
    "                         db='dslr')\n",
    "                        "
   ]
  },
  {
   "cell_type": "code",
   "execution_count": 63,
   "metadata": {},
   "outputs": [
    {
     "output_type": "execute_result",
     "data": {
      "text/plain": [
       "<pymysql.connections.Connection at 0x1bd41771e50>"
      ]
     },
     "metadata": {},
     "execution_count": 63
    }
   ],
   "source": [
    "connection"
   ]
  },
  {
   "cell_type": "code",
   "execution_count": 64,
   "metadata": {
    "tags": [
     "outputPrepend"
    ]
   },
   "outputs": [
    {
     "output_type": "stream",
     "name": "stdout",
     "text": [
      "0, 4.6, 93, 'DSLR')\n",
      "('B00WGNG5NU', 'Hahnel HL -CAPTUR S Captur Remote Camera/Flash Trigger, Transmitter/Receiver for Sony, Black', 69.95, 3.8, 14, 'DSLR')\n",
      "('B06ZYRHG6R', 'Camera Lens Pouch,Neoprene Camera Lens Case,Thick Protective Waterproof Lens Bags with Drawstring for Canon,Nikon,Pentax,Sony,Olympus,etc.(4 Pack,Small,Medium,Large,X Large)', 12.99, 4.4, 53, 'DSLR')\n",
      "('B01EFX7K6E', 'Beastgrip Pro + Wide Angle Lens Bundle', 165.95, 4.1, 89, 'DSLR')\n",
      "('B0894M8YXY', '46mm Circular Polarizer Lens (CPL) Filter Ultra-Slim and Multi-Coated Glass Filter for Color Saturation, Contrast & Reflection Control– Compatible with All Popular Camera Lens Models', 7.99, 4.5, 2, 'DSLR')\n",
      "('B077L4KLY2', 'DREAMGRIP Ultra Lightweight Universal Tripod LWT-123BS-31', 29.99, 4.3, 31, 'DSLR')\n",
      "('B07Y54HJHN', 'Mituyo Bluetooth Selfie Stick Tripod with Wireless Remote Shutter and Extendable Monopod Compatible with Cameras, iPhone, Samsung, Huawei, Other Smartphones (Black)', 29.99, 4.1, 53, 'DSLR')\n",
      "('B076MT8CS5', 'Meike MK420N TTL Li-ion Battery Camera Flash Speedlite with LCD Display for Nikon D850 D810 D3400 D3300 Z6 Z7 and Other DSLR Cameras + Lithium Battery +Diffuser+Battery Charger', 53.99, 5.0, 5, 'DSLR')\n",
      "('B08KSTH7WN', 'Dazzne Desk Mount Stand, 12.9-22inch Tabletop C Clamp Mount Stand, Adjustable Table Aluminum Light Stand with Standard 1/4 Screw Tip for DSLR Camera, Ring Light, Video Light, Panel Light', 32.99, 4.8, 55, 'DSLR')\n",
      "('B019RNU4II', 'PowEver EH-5 Plus EP-5A AC Power Adapter Kit for Nikon Coolpix P7000, P7100, P7700, D3100, D3200, D5100, D5200 Digital Cameras', 33.99, 4.6, 52, 'DSLR')\n",
      "('B07MYYG1L8', 'Wireless Shutter Time Remote Release Control for Nikon D3200 D3300 D3500 D5300 D5200 D810 D810A D750 D850 D90 Z7II Z6II Z7 Z6 Z5 Z50 D6 D5 DF D500 D780 D610 D7500 D7200 D5500 D5600 D90 D800 D700 D1 D2', 40.99, 4.3, 66, 'DSLR')\n",
      "('B07CRK8X69', 'Eonvic EP-5A DC Coupler Dual USB Adapter for DSLR D3100/ EN-EL14a Battery/Nikon D5100 D5200 D5300 D5500 D5600 P7000 P7800', 37.0, 3.3, 17, 'DSLR')\n",
      "('B07W6QBHG3', 'DJI CP.OS.00000022.01 Osmo Mobile 3', 98.0, 4.5, 1215, 'DSLR')\n",
      "('B07B7MVGXG', '128MB CompactFlash Memory Card (CF) use for Camera', 10.99, 4.4, 36, 'DSLR')\n",
      "('B075ZTLWXG', 'Nikon Landscape & Macro Two Lens Kit with 10-20mm f/4.5-5.6G VR & 40mm f/2.8G', 646.95, 4.4, 41, 'DSLR')\n",
      "('B08JGTY6M7', 'Fomito NP-F Dummy Battery to V-Lock V Mount Plate for Sony F970 F750 F550 Battery to Camera Monitor Neewer F100 FEELWORLD FW568 F5 T7, LED Video Light CN160 CN216 YN300 II YN-600 W260', 39.0, 3.3, 3, 'DSLR')\n",
      "('B088KL392N', 'Triple Cold Shoe Gimbal Microphone Mount, Mic Led Light Extension Bar Stand Adapter for DJI OM4 OSMO Mobile 3, Smooth 4, Hohem iSteady Mobile+, Feiyu, MOZA, DSLR, Gimbal Stabilizer', 11.66, 4.2, 27, 'DSLR')\n",
      "('B07VD44X7C', 'Camera Tripod 69 Inch, Patented Phone Holder Portable Aluminum Alloy Travel Phone Camera Tripod Monopod with 3-Way Swivel Pan Head for Canon Nikon DSLR, DV Video Camcorder, Smartphone', 33.99, 4.4, 671, 'DSLR')\n",
      "('B07H49QMN7', 'SinFoxeon ACK-E8 Camera AC Power Adapter with DR-E8 DC Coupler Charger Kit Replace LP-E8 Battery fit for Canon EOS Rebel T5i T4i T3i T2i Kiss X6 Kiss X5 Kiss X4 700D 650D 600D 550D DSLR Cameras', 15.99, 4.5, 37, 'DSLR')\n",
      "('B07D82Y64P', 'Vidpro VB-3 Triple Shoe Mounting Y-Bracket', 9.95, 4.3, 53, 'DSLR')\n",
      "('B01A7I87WC', 'Replacement Nikon UC-E4 / UC-E5 / UC-E15 USB Cable Cord Lead (for Image Transfer) for Most D Series SLR and Select Coolpix Digital Camera (Models Stated Below) by Mastercables', 9.99, 4.5, 27, 'DSLR')\n",
      "('B01N7KF5K9', 'LED Video Light Kit with 2M Light Stand, SAMTIAN 2-Pack Dimmable 3200K 5500K 160 LED Photo Light Panel Lighting Kit with Large Carry Case Charger Batteries for YouTube Studio Photography Shooting', 109.99, 4.4, 609, 'DSLR')\n",
      "('B08CS138H8', 'Kolari Pro Hot Mirror UV/IR Cut Color Correcting Filter (67mm)', 100.0, 5.0, 1, 'DSLR')\n",
      "('B001TDL2PO', 'Canon 58 PL-C B 58mm Circular Filter', 124.08, 4.5, 12, 'DSLR')\n",
      "('B0049V1EQK', 'Guerrilla Painter Tripod Mount and Rubber Feet Set (901SS)', 23.81, 4.5, 101, 'DSLR')\n",
      "('B076MT8CS5', 'Meike MK420N TTL Li-ion Battery Camera Flash Speedlite with LCD Display for Nikon D850 D810 D3400 D3300 Z6 Z7 and Other DSLR Cameras + Lithium Battery +Diffuser+Battery Charger', 53.99, 5.0, 5, 'DSLR')\n",
      "('B08KSTH7WN', 'Dazzne Desk Mount Stand, 12.9-22inch Tabletop C Clamp Mount Stand, Adjustable Table Aluminum Light Stand with Standard 1/4 Screw Tip for DSLR Camera, Ring Light, Video Light, Panel Light', 32.99, 4.8, 55, 'DSLR')\n",
      "('B00JGI8D0G', 'JJC Wireless Remote Control for Panasonic Lumix G85 G7 G9 GH5 GH5S GH4 GX8 GX7 FZ2500 FZ2000 FZ1000 II FZ300 FZ100 FZ150 FZ200 FZ30 FZ50 G2 G3 G5 G6 GH1 GH2 GH3,Replaces Panasonic DMW-RS1/RSL1 Remote', 21.99, 4.0, 70, 'DSLR')\n",
      "('B07H49QMN7', 'SinFoxeon ACK-E8 Camera AC Power Adapter with DR-E8 DC Coupler Charger Kit Replace LP-E8 Battery fit for Canon EOS Rebel T5i T4i T3i T2i Kiss X6 Kiss X5 Kiss X4 700D 650D 600D 550D DSLR Cameras', 15.99, 4.5, 37, 'DSLR')\n",
      "('B0792PHP59', 'VANGUARD ALTA Access 28X Messenger Bag, Black', 97.99, 3.7, 2, 'DSLR')\n",
      "('B07ZHNHY8Y', 'Canon EOS M6 Mark II Mirrorless Digital Camera with 15-45mm Lens & EVF-DC2 Viewfinder (Black) + 32GB SD Card', 1129.0, 5.0, 1, 'DSLR')\n",
      "('B0734GNPH9', 'Neewer 2 Pieces Camera Speedlite Flash Softbox Diffuser Kit, 10x9x8inches Bendable White Reflector and 7x8x4 inches Silver/White Two-Side Reflector, Universal Mount for Nikon Canon Sony', 12.49, 4.4, 156, 'DSLR')\n",
      "('B07PG1M7PC', 'OSMO Pocket Genuine USB-C to 3.5mm Mic Microphone Adapter Compatible with DJI OSMO Pocket Accessories Part 8', 21.0, 4.6, 498, 'DSLR')\n",
      "('B08LH5ZCK2', 'Meike MK430 TTL LCD Flash Speedlite Compatible with Canon DSLR Camera EOS 70D 77D 80D Rebel T7i T6i T6s T6 T5i T5 T4i T3i SL2 and with Standard Hot Shoe Stand', 35.99, 5.0, 5, 'DSLR')\n",
      "('B07B2SRPSZ', '18% Neutral Grey Card JJC White Balance Card for DSLR Camera Video Film 10x8 PVC Exposure Photography Card Custom Calibration Camera Checker Card with Grey,White,Black Cards & a Storage Bag', 15.9, 4.2, 34, 'DSLR')\n",
      "('B071F3H7XJ', 'Godox X1C TTL Wireless Flash Trigger Transmitter and Receiver for Canon EOS Series Cameras 2.4G HSS 1/8000s (X1T-C + X1R-C)', 85.0, 4.8, 15, 'DSLR')\n",
      "('B00O7S0K24', 'Matin 2.0X LCD View Finder Extender Magnification for up to 3.2\" LCD Screen (M-6296)', 58.59, 3.5, 4, 'DSLR')\n",
      "('B003UHY7B8', 'Polaroid Optics 55mm 4-Piece Filter kit Set for Close-Up Macro Photography; Includes +1, +2, +4 & +10 Diopter Filters & Nylon Carry Case – Compatible w/ All Popular Camera Lens Models', 38.68, 4.3, 151, 'DSLR')\n",
      "('B01I9FVFLK', 'MaxLLTo USB AC Power Adapter Battery Charger Cord for Sony Cybershot DSC-W830 / W830s / W830b / W830p / W830r / W830l / W830k Series Digital Camera', 6.99, 4.6, 194, 'DSLR')\n",
      "('B08P1QWMPF', '512gb Memory Card (Class 10 High Speed) Micro SD Memory Card/SD Memory Cards with Adapter for Camera, Phone, Computer,Dash Came,Tachograph,Tablet,Drone(512gb)', 38.88, 4.0, 6, 'DSLR')\n",
      "('B00EA47YFG', 'Grizzly Wilderness Medium Modular Gear Bag for Waist Belt, Utility Belt or MOLLE System for Photographers, Cameras Video, Lenses Flash Filters Camera Body, Accessories, Cables, Studio, Wedding', 27.95, 4.1, 6, 'DSLR')\n",
      "('B088LT4LDY', 'Lightweight Camera Mount Tripod Stand with Carry Bag for LED Projector', 14.99, 3.7, 8, 'DSLR')\n",
      "('B07VD44X7C', 'Camera Tripod 69 Inch, Patented Phone Holder Portable Aluminum Alloy Travel Phone Camera Tripod Monopod with 3-Way Swivel Pan Head for Canon Nikon DSLR, DV Video Camcorder, Smartphone', 33.99, 4.4, 671, 'DSLR')\n",
      "('B08SKXS5N3', 'MOSHUSO Heavy Duty C Clamp Camera Phone Clamp Mount with 1/4\" Articulating Magic Arm for DSLR Camera, Max 1.3 Inch High', 21.99, 4.9, 18, 'DSLR')\n",
      "('B00JGI8D0G', 'JJC Wireless Remote Control for Panasonic Lumix G85 G7 G9 GH5 GH5S GH4 GX8 GX7 FZ2500 FZ2000 FZ1000 II FZ300 FZ100 FZ150 FZ200 FZ30 FZ50 G2 G3 G5 G6 GH1 GH2 GH3,Replaces Panasonic DMW-RS1/RSL1 Remote', 21.99, 4.0, 70, 'DSLR')\n",
      "('B07H49QMN7', 'SinFoxeon ACK-E8 Camera AC Power Adapter with DR-E8 DC Coupler Charger Kit Replace LP-E8 Battery fit for Canon EOS Rebel T5i T4i T3i T2i Kiss X6 Kiss X5 Kiss X4 700D 650D 600D 550D DSLR Cameras', 15.99, 4.5, 37, 'DSLR')\n",
      "('B079WQ5PRN', 'SCOSCHE AMK1 Closeup PROKIT Universal Action Camera Mount Kit with Three Mounting Bases Included Magnetic, Adhesive and Suction for Indoor/Outdoor Use', 18.36, 3.0, 1, 'DSLR')\n",
      "('B0794PFFBN', 'Compact Flash memory card BR&TD ogrinal camera card (256mb)', 13.99, 4.2, 27, 'DSLR')\n",
      "('B00009R9EV', 'Hoya 77mm HMC 81B Screw-in Filter', 39.0, 4.1, 5, 'DSLR')\n",
      "('B01ID957CK', 'Neewer 67MM Complete Lens Filter Accessory Kit for Lenses with 67MM Filter Size: UV CPL FLD Filter Set + Macro Close Up Set (+1 +2 +4 +10) + ND Filter Set (ND2 ND4 ND8) + Other', 32.99, 4.4, 911, 'DSLR')\n",
      "('B00ONCJK2U', 'CamDesign 40.5MM Sides Pinch Snap-On Front Lens Cap/Cover Compatible with Canon, Nikon, Sony, Pentax All DSLR Lenses', 6.29, 4.5, 15, 'DSLR')\n",
      "('B07P31JYC9', 'Gigastone, 4K Game Turbo, 64GB, Micro SD Card, A2 4K, Rose Gold, Mini-Case Package, (MSD-4KGameTurbo-RG-64GB-1PK), [5-Yrs-Free-Data-Recovery]', 11.99, 4.7, 14974, 'DSLR')\n",
      "('B08LH5ZCK2', 'Meike MK430 TTL LCD Flash Speedlite Compatible with Canon DSLR Camera EOS 70D 77D 80D Rebel T7i T6i T6s T6 T5i T5 T4i T3i SL2 and with Standard Hot Shoe Stand', 35.99, 5.0, 5, 'DSLR')\n",
      "('B07B2SRPSZ', '18% Neutral Grey Card JJC White Balance Card for DSLR Camera Video Film 10x8 PVC Exposure Photography Card Custom Calibration Camera Checker Card with Grey,White,Black Cards & a Storage Bag', 15.9, 4.2, 34, 'DSLR')\n",
      "('B004KRG968', 'Pixel CL-UC1 Remote Cable for TC-252 TW-282 TF-364 374 RW-221 (View Amazon Detail Page)', 11.55, 4.6, 26, 'DSLR')\n",
      "('B010D2S5D8', 'Neewer Metal AF Auto-Focus Macro Extension Tube Set 10mm&16mm for Sony NEX E-Mount Camera NEX 3/3N/5/5N/5R/A6000/A6300 and Full Frame A7 A7S/A7SII A7R/A7RII A7II', 35.99, 4.5, 450, 'DSLR')\n",
      "('B07Z3V1KHT', 'Cold Shoe Bracket for Microphone/Video Light, for Sony RX100 VII Smartphone/Vlog Camera/Action Camera Microphone Extension Bracket, Video Vlogging Accessories - PT-8', 9.95, 4.7, 28, 'DSLR')\n",
      "('B000MVXCH0', 'OP/TECH USA Reporter Strap (Black)', 29.5, 4.1, 32, 'DSLR')\n",
      "('B07ZQ6JK8F', 'Easy Hood Case for Sony Alpha 7R IV, Leather Half Protective Cover for Sony Alpha 7R IV A7R IV A7R 4 A7RM4 ILCE-7RM4 Camera (Black)', 9.99, 5.0, 2, 'DSLR')\n",
      "('B000PHOK04', 'Domke 700-51B F-5XA Small Shoulder and Belt Bag - Black', 65.68, 4.2, 29, 'DSLR')\n",
      "('B07VD44X7C', 'Camera Tripod 69 Inch, Patented Phone Holder Portable Aluminum Alloy Travel Phone Camera Tripod Monopod with 3-Way Swivel Pan Head for Canon Nikon DSLR, DV Video Camcorder, Smartphone', 33.99, 4.4, 671, 'DSLR')\n",
      "('B08SKXS5N3', 'MOSHUSO Heavy Duty C Clamp Camera Phone Clamp Mount with 1/4\" Articulating Magic Arm for DSLR Camera, Max 1.3 Inch High', 21.99, 4.9, 18, 'DSLR')\n",
      "('B00JGI8D0G', 'JJC Wireless Remote Control for Panasonic Lumix G85 G7 G9 GH5 GH5S GH4 GX8 GX7 FZ2500 FZ2000 FZ1000 II FZ300 FZ100 FZ150 FZ200 FZ30 FZ50 G2 G3 G5 G6 GH1 GH2 GH3,Replaces Panasonic DMW-RS1/RSL1 Remote', 21.99, 4.0, 70, 'DSLR')\n",
      "('B07H49QMN7', 'SinFoxeon ACK-E8 Camera AC Power Adapter with DR-E8 DC Coupler Charger Kit Replace LP-E8 Battery fit for Canon EOS Rebel T5i T4i T3i T2i Kiss X6 Kiss X5 Kiss X4 700D 650D 600D 550D DSLR Cameras', 15.99, 4.5, 37, 'DSLR')\n",
      "('B083T4H8KB', 'Vanguard VEO 2S CM-264TBP Carbon Fiber Monopod with Ballhead and Removeable Pan Handle', 159.99, 4.4, 11, 'DSLR')\n",
      "('B0719W1WPK', 'MegaGear MG752 Canon PowerShot SX620 HS, IXUS 180, IXUS 185, IXUS 360 HS, IXUS 190 is, IXUS 170 is, SX610 HS Ultra Light Neoprene Camera Case - Blue', 18.83, 4.1, 6, 'DSLR')\n",
      "('B00UAZWXPA', 'Ikelite - Aluminum Top Handle for Digital and DSLR', 208.99, 5.0, 1, 'DSLR')\n",
      "('B00065ANY2', 'SanDisk 8GB/30MB Ultra CF Card ( SDCFH-008G-A11, US Retail Package )', 29.95, 4.6, 298, 'DSLR')\n",
      "('B08LH5ZCK2', 'Meike MK430 TTL LCD Flash Speedlite Compatible with Canon DSLR Camera EOS 70D 77D 80D Rebel T7i T6i T6s T6 T5i T5 T4i T3i SL2 and with Standard Hot Shoe Stand', 35.99, 5.0, 5, 'DSLR')\n",
      "('B07B2SRPSZ', '18% Neutral Grey Card JJC White Balance Card for DSLR Camera Video Film 10x8 PVC Exposure Photography Card Custom Calibration Camera Checker Card with Grey,White,Black Cards & a Storage Bag', 15.9, 4.2, 34, 'DSLR')\n",
      "('B07V21Z28L', 'Eyepiece Eyecup Viewfinder Eye Cup for Sony Alpha A6500 A6400 Digital Camera for viewfinder (2-Pack),ULBTER FDA-EP17 Eyepiece Eye Cup with Hot Shoe Cover (FAD-EP17)', 7.98, 3.9, 34, 'DSLR')\n",
      "('B07R5B6CTQ', 'Screen Protector for Canon EOS 5D Mark IV III / 1DX Mark II / 1DX Camera, 9H Tempered Glass LCD Screen Protection, ULBTER 5D3 5D4 Anti-scrach Anti-Fingerprint Anti-Bubble [3 Pack]', 5.98, 4.2, 12, 'DSLR')\n",
      "('B0069TOGG0', 'Sirui TY-C10 Quick Release Plate for All Cameras', 19.9, 4.7, 102, 'DSLR')\n",
      "('B005N2WDIW', 'OP/TECH USA 1101311 Body Cap Protective Cover for Canon Camera', 16.25, 4.8, 5, 'DSLR')\n",
      "('B01B727F5C', 'Neewer Photography Single Roller Wall Mounting Manual Background Support System, Including Two(2) Single Hooks, Two(2) Expand Bars, One(1) Chain, Eight(8) Clamp Screws', 50.49, 4.2, 330, 'DSLR')\n",
      "('B07VD44X7C', 'Camera Tripod 69 Inch, Patented Phone Holder Portable Aluminum Alloy Travel Phone Camera Tripod Monopod with 3-Way Swivel Pan Head for Canon Nikon DSLR, DV Video Camcorder, Smartphone', 33.99, 4.4, 671, 'DSLR')\n",
      "('B08SKXS5N3', 'MOSHUSO Heavy Duty C Clamp Camera Phone Clamp Mount with 1/4\" Articulating Magic Arm for DSLR Camera, Max 1.3 Inch High', 21.99, 4.9, 18, 'DSLR')\n",
      "('B07H49QMN7', 'SinFoxeon ACK-E8 Camera AC Power Adapter with DR-E8 DC Coupler Charger Kit Replace LP-E8 Battery fit for Canon EOS Rebel T5i T4i T3i T2i Kiss X6 Kiss X5 Kiss X4 700D 650D 600D 550D DSLR Cameras', 15.99, 4.5, 37, 'DSLR')\n",
      "('B019RNU4II', 'PowEver EH-5 Plus EP-5A AC Power Adapter Kit for Nikon Coolpix P7000, P7100, P7700, D3100, D3200, D5100, D5200 Digital Cameras', 33.99, 4.6, 52, 'DSLR')\n",
      "('B000BO3CW8', \"STK's Canon NB-2LH Battery for G9, Rebel XTi, G7, Rebel XT, HV-20, ZR-850, S30, HV-40, S330, S50, HV-10, ZR100, ZR-830, ZR-700 Digital Cameras\", 14.99, 4.6, 831, 'DSLR')\n",
      "('B01KURGUOC', 'Canon Rain Cover ERC-E5M', 109.95, 5.0, 1, 'DSLR')\n",
      "('B088WSHGFV', 'Selfie Ring Light Dimmable Led 10\" & Tripod Stand 63\", Tripod with Ring Light with Phone Stand, Height Adjustable Tripod Selfie Stick Circle Light, Lighting for YouTube Video/Live Stream/Makeup/Photo', 28.79, 4.4, 87, 'DSLR')\n",
      "('B08GQ9L7DG', 'Benro S2 PRO Video Head', 99.95, 5.0, 1, 'DSLR')\n",
      "('B08294QTWV', '32GB Memory Stick PRO-HG Duo (HX32GB) PSP1000 2000 3000/Camera Memory Card', 22.5, 4.1, 13, 'DSLR')\n",
      "('B08KZSJXNL', '400GB Micro SD Card Class 10 Memory Card High Speed Micro SD SDXC Card with SD Adapter (A-400GB)', 19.99, 3.5, 41, 'DSLR')\n",
      "('B07GTCBQC7', 'Freewell Bright Day – 4K Series – 4Pack ND8/PL, ND16/PL, ND32/PL, ND64/PL Camera Lens Filters Compatible with DJI Mavic 2 Pro Drone', 69.99, 4.6, 132, 'DSLR')\n",
      "('B08LH5ZCK2', 'Meike MK430 TTL LCD Flash Speedlite Compatible with Canon DSLR Camera EOS 70D 77D 80D Rebel T7i T6i T6s T6 T5i T5 T4i T3i SL2 and with Standard Hot Shoe Stand', 35.99, 5.0, 5, 'DSLR')\n",
      "('B07VD44X7C', 'Camera Tripod 69 Inch, Patented Phone Holder Portable Aluminum Alloy Travel Phone Camera Tripod Monopod with 3-Way Swivel Pan Head for Canon Nikon DSLR, DV Video Camcorder, Smartphone', 33.99, 4.4, 671, 'DSLR')\n",
      "('B00UWDD0AW', 'Neewer Pro 9 feet/260cm Aluminum Alloy Photo Studio Light Stands for Video,Portrait and Photography Lighting', 41.99, 4.6, 664, 'DSLR')\n",
      "('B00XF8AC6G', 'CamDesign 46MM Sides Pinch Snap-On Front Lens Cap/Cover Compatible with Canon, Nikon, Sony, Pentax all DSLR', 5.99, 4.5, 9, 'DSLR')\n",
      "('B06XD4TPL6', 'SUNWAYFOTO PT-39R 39mm Bi-Directional 2 Axis QR Plate Arca / RRS Compatible Sunway', 14.95, 4.7, 8, 'DSLR')\n",
      "('B000JLM4XG', 'Manfrotto 035 Super Clamp without Stud - Replaces 2915 , Black', 29.65, 4.9, 947, 'DSLR')\n",
      "('B00YQCXYUG', 'Fotodiox Pro Lens Mount Adapters, Bronica ETR (ETRC, ETRS, ETR-C, ETRSi) Mount Lenses to to MFT (Micro-4/3, M4/3) Mount Mirrorless Camera (Such as OM-D E-M10, Lumix GH4, and BMPCC)', 84.95, 5.0, 1, 'DSLR')\n",
      "('B00CO2WP0U', 'Neewer 16 Channel Wireless Remote Flash Trigger and 2.5mm PC Receiver for Compatible with Canon 580EX II 580EX 550EX 540EZ Nikon SB900 SB800 SB600 SB28 Neewer TT860 TT850 TT560 Olympus Pentax Sigma', 17.49, 4.2, 671, 'DSLR')\n",
      "('B07RZWQVJY', 'Godox X2T-S TTL Wireless Trigger, 1/8000s High-Speed Sync 2.4G TTL Transmitter, Compatible with Sony DSLR (X2T-S)', 59.0, 4.7, 34, 'DSLR')\n",
      "('B07B2SRPSZ', '18% Neutral Grey Card JJC White Balance Card for DSLR Camera Video Film 10x8 PVC Exposure Photography Card Custom Calibration Camera Checker Card with Grey,White,Black Cards & a Storage Bag', 15.9, 4.2, 34, 'DSLR')\n",
      "('B076MT8CS5', 'Meike MK420N TTL Li-ion Battery Camera Flash Speedlite with LCD Display for Nikon D850 D810 D3400 D3300 Z6 Z7 and Other DSLR Cameras + Lithium Battery +Diffuser+Battery Charger', 53.99, 5.0, 5, 'DSLR')\n",
      "('B019RNU4II', 'PowEver EH-5 Plus EP-5A AC Power Adapter Kit for Nikon Coolpix P7000, P7100, P7700, D3100, D3200, D5100, D5200 Digital Cameras', 33.99, 4.6, 52, 'DSLR')\n",
      "('B071SG1WCK', 'LED Copy Light Set with Adjustable Arms', 149.99, 4.7, 10, 'DSLR')\n",
      "('B07FVTNQ32', 'Godox V350 Series TTL 2.4G Li-ion Camera Flash with Built-in Rechargeable Battery for Canon/Nikon/Sony/Olympus /Fujifilm (V350-N for Nikon)', 143.0, 2.0, 1, 'DSLR')\n",
      "('B074BBW4SV', 'Phone Skope Adjustable Binocular Harness Camera Chest Strap Universal Fit for Leica Vortex Swarovski Leupold Canon Sony Nikon', 15.99, 4.5, 89, 'DSLR')\n",
      "('B00JTV7ZZY', 'MegaGear MG040 Ultra Light Neoprene Camera Case compatible with Canon PowerShot SX740 HS, SX730 HS, SX720 HS, SX710 HS, SX700 HS, Sony Cyber-shot DSC-HX60V - Hot Pink', 14.99, 4.8, 12, 'DSLR')\n",
      "('B00ONCBYT2', 'CamDesign 67MM Sides Pinch Snap-On Front Lens Cap/Cover Compatible with Canon, Nikon, Sony, Pentax All DSLR Lenses', 6.29, 4.9, 9, 'DSLR')\n",
      "('B07VD44X7C', 'Camera Tripod 69 Inch, Patented Phone Holder Portable Aluminum Alloy Travel Phone Camera Tripod Monopod with 3-Way Swivel Pan Head for Canon Nikon DSLR, DV Video Camcorder, Smartphone', 33.99, 4.4, 671, 'DSLR')\n",
      "('B07H49QMN7', 'SinFoxeon ACK-E8 Camera AC Power Adapter with DR-E8 DC Coupler Charger Kit Replace LP-E8 Battery fit for Canon EOS Rebel T5i T4i T3i T2i Kiss X6 Kiss X5 Kiss X4 700D 650D 600D 550D DSLR Cameras', 15.99, 4.5, 37, 'DSLR')\n",
      "('B087JTJCQ9', 'NICEYRIG Cage for Panasonic Lumix G9 GH5 GH5s Mirrorless Camera, with Threaded Hole NATO Rail and Cold Shoe - 349', 61.99, 4.8, 5, 'DSLR')\n",
      "('B008CPQ1O4', 'Bower SFD450C Digital e-TTL II Dedicated Autofocus Illuminator for Canon XT/XS/30D/60D/T2i/T3/T5i/1D/5D Mark III/6D/7D/SL1 and Similar DSLRs (Black)', 19.99, 2.7, 4, 'DSLR')\n",
      "('B07PX355JM', 'debous Screen Protector Compatible Canon EOS M6 Mark II RP M50 M50 Mark ii Mirrorless Camera,Anti-scratch Tempered Glass Clera Hard Protective Film Shield Cover (3pcs)', 7.99, 4.8, 7, 'DSLR')\n",
      "('B07PQH325K', 'Voking VK-S-ET2 13mm 21mm 31mm Macro Auto Focus A Mount Extension Tube Ring Set AF for Sony A Mount DSLR A65 A58 A55 A33 A77II,etc', 39.99, 3.0, 6, 'DSLR')\n",
      "('B00I1CP2MU', 'Olympus LC-37C Black Lens Cap for 14-42mm EZ', 28.56, 4.6, 347, 'DSLR')\n",
      "('B07X3HW28M', 'Extension Rod Pole Bar SZ_ABTO Adjustable Selfie Stick for Gimbal Stabilizer Compatible with OSMO Mobile 3 2 Action Gopro Vlog Pocket Zhiyun Smooth 4 Q2 Moza Mini S Handheld Gimbal with 1/4\" Thread', 11.98, 4.3, 28, 'DSLR')\n",
      "('B007S02GQG', 'LumiQuest Snoot XTR with UltraStrap LQ-115S', 49.95, 3.7, 8, 'DSLR')\n",
      "('B01C5NUSLA', 'MegaGear Panasonic Lumix DMC-ZS60, DMC-TZ80 Ultra Light Neoprene Camera Case, with Carabiner (Red)', 14.99, 3.3, 13, 'DSLR')\n",
      "('B076MT8CS5', 'Meike MK420N TTL Li-ion Battery Camera Flash Speedlite with LCD Display for Nikon D850 D810 D3400 D3300 Z6 Z7 and Other DSLR Cameras + Lithium Battery +Diffuser+Battery Charger', 53.99, 5.0, 5, 'DSLR')\n",
      "('B08KSTH7WN', 'Dazzne Desk Mount Stand, 12.9-22inch Tabletop C Clamp Mount Stand, Adjustable Table Aluminum Light Stand with Standard 1/4 Screw Tip for DSLR Camera, Ring Light, Video Light, Panel Light', 32.99, 4.8, 55, 'DSLR')\n"
     ]
    }
   ],
   "source": [
    "# create cursor\n",
    "cursor=connection.cursor()\n",
    "# Execute the to_sql for writting DF into SQL\n",
    "dslrasin.to_sql('search', engine, if_exists='append', index=False)    \n",
    "\n",
    "# Execute query\n",
    "sql = \"SELECT * FROM `search`\"\n",
    "cursor.execute(sql)\n",
    "\n",
    "# Fetch all the records\n",
    "result = cursor.fetchall()\n",
    "for i in result:\n",
    "    print(i)\n",
    "\n",
    "engine.dispose()\n",
    "connection.close()"
   ]
  },
  {
   "cell_type": "code",
   "execution_count": 65,
   "metadata": {},
   "outputs": [],
   "source": [
    "#Taking product file to SQL\n",
    "db_data = 'mysql+mysqldb://' + 'root' + ':' + 'Mysql!19891' + '@' + 'localhost' + ':3306/' \\\n",
    "       + 'dslrproduct' + '?charset=utf8mb4'\n",
    "engine = create_engine(db_data)\n",
    "\n",
    "# Connect to the database\n",
    "connection = pymysql.connect(host='localhost',\n",
    "                         user='root',\n",
    "                         password='Mysql!19891',\n",
    "                         db='dslrproduct')"
   ]
  },
  {
   "cell_type": "code",
   "execution_count": 66,
   "metadata": {},
   "outputs": [
    {
     "output_type": "execute_result",
     "data": {
      "text/plain": [
       "<pymysql.connections.Connection at 0x1bd427d1b80>"
      ]
     },
     "metadata": {},
     "execution_count": 66
    }
   ],
   "source": [
    "connection"
   ]
  },
  {
   "cell_type": "code",
   "execution_count": 67,
   "metadata": {
    "tags": [
     "outputPrepend"
    ]
   },
   "outputs": [
    {
     "output_type": "stream",
     "name": "stdout",
     "text": [
      "ting')\n",
      "('B014V0XUI8', 'Gobe 58mm Circular Polarizing (CPL) Lens Filter (2Peak)', 0.352, 'G58JOCPL', 29, '2015-09-03 00:', 'Gobe')\n",
      "('B003QJWYDS', 'Transcend 16 GB High Speed SDHC Class 4 Flash Memory Card TS16GSDHC4', 0.064, 'TS16GSDHC4', 1390, '2010-06-28 00:', 'TRANSCEND')\n",
      "('B077GZK5J7', 'GVM Led Bi-Color Video Lights with APP Function, Variable CCT 2300K-6800K and 10%-100% Brightness with Digital Display for Video Studio Shooting, CRI97+ TLCI97 Led Light Panel +Barndoor', 2.2, 'Led video light APP', 157, '2017-11-15 00:', '0QGVMI2-A5MM80BVDTFBW-DTP')\n",
      "('B084ND1CN3', '6\" X 7\" Lint Free Microfiber Cleaning Cloth Wipes for Eyeglasses, Glasses, Smartphones and Cell Phones.', 6.4, None, 23, '2019-11-09 00:', 'South Korea')\n",
      "('B07JR3ZMMH', 'HEDBOX UNIX-FW50 - V-Mount Battery Adapter Plate, 3x D-Tap & USB, for Sony Alpha, Power out Cable - NP-FW50 housing', 6.7, 'UNIX-FW50', 1550, '2018-10-27 00:', 'HEDBOX')\n",
      "('B00WGMC4TK', 'Hahnel HL -CAPTUR OP Captur Remote Camera/Flash Trigger, Transmitter/Receiver for Olympus & Panasonic, Black', 8.0, 'HL –CAPTUR OP', 374, '2015-06-02 00:', 'Hahnel')\n",
      "('B072WSD2CH', 'HuaDaWei Digital Camera Memory Cards 16GB CompactFlash Memory Card Free Packaging 16GB CompactFlash Memory Card 400x (TS16GCF400)', 0.247, 'HDW-CF16G-01', 334, '2017-06-19 00:', 'HuaDaWei')\n",
      "('B000VUIXOE', 'Sony SAL16105 16-105mm f/3.5-5.6 Wide-Range Zoom Lens', 1.04, 'SAL16105', 1579, '2003-06-17 00:', 'Sony')\n",
      "('B01K9TKFTM', 'Fomito K5 Quick Release Plate for Camera Video Monitor, Margic Arm Flash Bracket', 2.39, 'FMTQR01', 1488, '2016-08-12 00:', 'Fomito')\n",
      "('B07JDKQSKX', '58mm 16:9 Lens Hood Compatible for Canon XA10 XA11 XA15 XA20 XA25 XA35 VIXIA HFS100 HFS20 HFS21 HFG10 hfG20 hfG30 HFS30 hd Camcorder', 3.2, None, 398, '2018-10-09 00:', 'Mennon')\n",
      "('B07RNK152N', 'DREAMGRIP Original Connection Kit with 4 Universal 1/4\" Bolts, 2 Nuts, Double Stud Bolt, and Track Connector Compatible for The Most of Photo/Video Accessories and Extensions', 1.28, 'DG-19-SC', 2438, '2019-05-12 00:', 'MXS Overseas Ltd.')\n",
      "('B0897B9NN3', 'Hollyland Mars X 1080p HDMI Wireless Video Transmitter', 3.95, None, 1722, '2020-05-26 00:', 'Hollyland')\n",
      "('B082XPNKRG', 'Godox TT685C E-TTL II 2.4GHz GN60 High-Speed Sync 1/8000s Flash Speedlite Light with FB 4AA Rechargeable Batteries&Charger Compatible for Canon EOS Cameras', 1.76, 'TT685C', 1432, '2019-12-19 00:', 'GODOX')\n",
      "('B000EMWBV0', 'Canon PowerShot Pro Series S3 IS 6MP with 12x Image Stabilized Zoom (Discontinued by Manufacturer)', 1.12, '1101B001', 168804, '2006-02-21 00:', 'Canon')\n",
      "('B07W73G3D3', 'Leofoto FL-L120 Powerful & Lightweight LED Video Fill Light', 5.3, None, 1290, '2019-08-09 00:', 'Leofoto')\n",
      "('B082TTFGJ7', 'Foto4easy Extension Tube Macro Lens Bellow for Nikon AI SLR Camera D750 D810 D7200 D7000 D90 D80 D60 D7100 D5300 D5200 D5100 D3300 D3100 D3000', 9.6, None, 152, '2019-12-15 00:', 'Foto4easy')\n",
      "('B003Q9RERY', 'Neewer LCD Timer Shutter Release Remote Control for Canon 700D/T5i, 650D/T4i, 550D/T2i, 500D/T1i, 350D/XT, 400D/XTi, 1000D/XS, 450D/XSi, 60D, 100D, and Pentax', 4.5, '10000374', 1, '2010-05-20 00:', 'Neewer')\n",
      "('B07WN81ZFM', 'NITZE Adjustable Articulating Magic Arm with Double Ballheads and 1/4” Screws Monitor Mount for Field Monitor, LED Lights, Audio Recorders, Camera Cage - N50B', 4.1, 'N50B', 1139, '2019-08-17 00:', 'shenzhenshi Xinyishengwujinyouxiangongsi')\n",
      "('B089SQSB7W', 'Metal Mini Tripod + Ball Head Mount, with 1/4 Inch Screw Desktop Tabletop Stand Tripod Mount for Smooth 4, Osmo Mobile, Vimble 2, Gimbal Handle Grip Stabilizer and All Cameras - 2864', 8.0, None, 1322, '2020-06-08 00:', 'SmallX')\n",
      "('B07KVSCQKD', 'Bex-ing EH5 EP-5A AC Power Supply Adapter Kit for Nikon D3200 D3300 D5200 D5300,Coolpix P7100 P7800 Digital Cameras', 10.2, None, 849, '2018-11-26 00:', 'V')\n",
      "('B077BPHQ5C', 'Kodak Mini 2 HD Wireless Portable Mobile Instant Photo Printer, Print Social Media Photos, Premium Quality Full Color Prints – Compatible w/iOS & Android Devices (White)', None, None, 33, '2017-11-10 00:', None)\n",
      "('B00KYEO70Q', 'Neewer Aluminium 50mm Quick Release Plate QR Clamp 3/8-inch with 1/4-inch Adapter and Built-in Bubble Level Compatible with Benro Acratech Kirk Wimberley Gitzo Manfrotto RRS Arca Swiss', 3.5, '10074648', 11, '2014-06-13 00:', 'Neewer')\n",
      "('B07Y39837S', 'LC-E8E LC-E8 Battery Charger for Canon LP-E8 EOS 550D 600D 650D 700D T2i T3i T4i T5i X4 X5 X6i X7i', 1.58, None, 266, '2019-09-19 00:', 'MGEOS')\n",
      "('B07L2WSYB3', 'Gitzo Mini Traveler Tabletop Tripod, Black', 9.3, 'GKTBB', 1927, '2018-10-04 00:', 'Gitzo')\n",
      "('B07MJKCP24', 'Feelworld Master MA7U 7 inch 3G SDI, 2200nit, 4K HDMI Field Monitor, Full HD 1920x1200 IPS Director Video Monitor', 2.09, None, 194, '2019-01-10 00:', 'FEELWORLD')\n",
      "('B089LTRJF9', 'Bindpo LN-3 Camera Infrared Night Vision Lamp, USB 20M Shooting Distance Night Vision Lights with 2100mAh Battery, Cold Shoe Interface and 1/4Inch Thread Hole', 4.6, None, None, '2020-06-03 00:', 'Bindpo')\n",
      "('B07ZJSHJH6', 'SunwayFoto PCLO-RP One-Piece Structure L Bracket for Canon EOS RP Camera Arca/RRS', 7.2, None, 2103, '2012-07-08 00:', 'SUNWAYFOTO')\n",
      "('B072C5PW1K', 'Kiwifotos Deluxe Macro Focusing Rail Slider for Canon EOS 5D Mark IV III 6D Mark II 90D 80D 70D EOS R RP Rebel T6 T7 T8i T7i Nikon D750 D780 D850 Z7 Z6 Z50 D7500 D7200 D5600 D5500 D3500 3400 and More', 2.2, 'Topfoto Kiwi FC-1II', 99, '2017-05-25 00:', 'Kiwifotos')\n",
      "('B009ZCDD58', 'XCSOURCE 20pcs Filter Ring Adapter 26 30 37 43 52 55 62 67 72 77 82mm Step Up/Down Ring Filter UV Set DC162', None, None, 12, '2012-10-31 00:', None)\n",
      "(None, 'Transcend 128GB SDXC/SDHC 500S Memory Card TS128GSDC500S', None, None, 873, None, None)\n",
      "('B0894M8YXY', '46mm Circular Polarizer Lens (CPL) Filter Ultra-Slim and Multi-Coated Glass Filter for Color Saturation, Contrast & Reflection Control– Compatible with All Popular Camera Lens Models', 0.704, None, 177, '2020-05-25 00:', 'Lelance')\n",
      "('B07MYYG1L8', 'Wireless Shutter Time Remote Release Control for Nikon D3200 D3300 D3500 D5300 D5200 D810 D810A D750 D850 D90 Z7II Z6II Z7 Z6 Z5 Z50 D6 D5 DF D500 D780 D610 D7500 D7200 D5500 D5600 D90 D800 D700 D1 D2', 8.0, None, 76, '2019-01-20 00:', 'FANSHANG')\n",
      "('B07CRK8X69', 'Eonvic EP-5A DC Coupler Dual USB Adapter for DSLR D3100/ EN-EL14a Battery/Nikon D5100 D5200 D5300 D5500 D5600 P7000 P7800', 2.89, '8595754073', 617, '2018-04-30 00:', 'Eonvic')\n",
      "('B07W6QBHG3', 'DJI CP.OS.00000022.01 Osmo Mobile 3', 1.1, 'CP.OS.00000022.01', 76, '2019-08-17 00:', 'DJI')\n",
      "('B07B7MVGXG', '128MB CompactFlash Memory Card (CF) use for Camera', 0.32, 'BR128M', 52, '2015-02-10 00:', 'BR & TD')\n",
      "('B075ZTLWXG', 'Nikon Landscape & Macro Two Lens Kit with 10-20mm f/4.5-5.6G VR & 40mm f/2.8G', 2.75, '13534', 24, '2017-10-01 00:', 'Nikon')\n",
      "('B08JGTY6M7', 'Fomito NP-F Dummy Battery to V-Lock V Mount Plate for Sony F970 F750 F550 Battery to Camera Monitor Neewer F100 FEELWORLD FW568 F5 T7, LED Video Light CN160 CN216 YN300 II YN-600 W260', 14.1, None, 1114, '2020-09-18 00:', 'FOMITO')\n",
      "('B08P7L6KC6', 'G9 Screen Protector for Panasonic LUMIX G7 G8 G9 4K Digital Camera & Hot Shoe Cover, ULBTER 0.3mm 9H Hardness Tempered Glass Flim, Anti-Scrach Anti-Fingerprint Anti-Bubble [3 Pack]', 1.13, 'G7-8-9', 797, '2020-11-27 00:', 'BTER')\n",
      "('B088KL392N', 'Triple Cold Shoe Gimbal Microphone Mount, Mic Led Light Extension Bar Stand Adapter for DJI OM4 OSMO Mobile 3, Smooth 4, Hohem iSteady Mobile+, Feiyu, MOZA, DSLR, Gimbal Stabilizer', 1.98, None, 424, '2020-05-13 00:', 'Atoptek')\n",
      "('B002NX13QC', 'Leica X1 12.2MP APS-C CMOS Digital Camera (Discontinued by Manufacturer)', 10.7, 'X1', 275824, '2009-08-10 00:', 'Leica')\n",
      "('B07D82Y64P', 'Vidpro VB-3 Triple Shoe Mounting Y-Bracket', 2.92, 'VB-3', 79, '2018-05-23 00:', 'VIDPRO')\n",
      "('B01A7I87WC', 'Replacement Nikon UC-E4 / UC-E5 / UC-E15 USB Cable Cord Lead (for Image Transfer) for Most D Series SLR and Select Coolpix Digital Camera (Models Stated Below) by Mastercables', 0.798, None, 72193, '2015-06-03 00:', 'Mastercables®')\n",
      "('B01N7KF5K9', 'LED Video Light Kit with 2M Light Stand, SAMTIAN 2-Pack Dimmable 3200K 5500K 160 LED Photo Light Panel Lighting Kit with Large Carry Case Charger Batteries for YouTube Studio Photography Shooting', 6.99, 'TL-5', 93, '2016-12-21 00:', 'SAMTIAN')\n",
      "('B08CS138H8', 'Kolari Pro Hot Mirror UV/IR Cut Color Correcting Filter (67mm)', 1.87, None, 201, '2020-07-10 00:', 'Kolari Vision')\n",
      "('B009EIVSPK', 'SUNWAYFOTO Discal Clamp DDY-58 DDY58 Arca Compatible for Ball Head', 4.0, 'DDY-58', 4154, '2010-11-27 00:', 'SUNWAYFOTO')\n",
      "('B001TDL2PO', 'Canon 58 PL-C B 58mm Circular Filter', 0.16, '58 Filter PL-C B', 544, '2009-02-18 00:', 'Canon')\n",
      "('B0049V1EQK', 'Guerrilla Painter Tripod Mount and Rubber Feet Set (901SS)', 3.2, '901SS', 1213, '2011-01-03 00:', 'Guerrilla Painter')\n",
      "('B0792PHP59', 'VANGUARD ALTA Access 28X Messenger Bag, Black', 3.0, 'ALTA ACCESS 28X', 14815, '2018-03-15 00:', 'VANGUARD')\n",
      "('B07PZ86Q15', 'VBESTLIFE Macro Bellows Compatible with Canon EOS EF Cameras, Plastic and Aluminum Alloy, Durable and Long Lasting', 8.8, None, 431, '2019-03-25 00:', 'V BESTLIFE')\n",
      "('B00DH2VSJA', 'Fotodiox Pro Lens Mount Adapter, Canon FD Lens to Sony FZ Mount Camera Adapter', 4.9, 'FD-FZ', 1573, '2013-06-18 00:', 'Fotodiox')\n",
      "('B07ZHNHY8Y', 'Canon EOS M6 Mark II Mirrorless Digital Camera with 15-45mm Lens & EVF-DC2 Viewfinder (Black) + 32GB SD Card', 4.08, '3612C011', 280290, '2019-10-23 00:', 'Canon')\n",
      "('B0734GNPH9', 'Neewer 2 Pieces Camera Speedlite Flash Softbox Diffuser Kit, 10x9x8inches Bendable White Reflector and 7x8x4 inches Silver/White Two-Side Reflector, Universal Mount for Nikon Canon Sony', 4.8, '10089847', 46, '2017-06-23 00:', 'Neewer')\n",
      "('B08F49KK8D', 'Port Wireless 15ft Right Angle USB-C Cable Compatible with Sony Alpha A7S III, A7 III, A7R III, A7R IV, Canon EOS R5, EOS R6, FujiFilm X-T4, X-T3, X-T30, GFX 100, Nikon Z7, Z6, Z5, Lumix S1, GH5/GH5S', 8.8, None, 493, '2020-08-02 00:', 'Port Wireless')\n",
      "('B07PG1M7PC', 'OSMO Pocket Genuine USB-C to 3.5mm Mic Microphone Adapter Compatible with DJI OSMO Pocket Accessories Part 8', 0.16, None, 23, None, 'HUAYE')\n",
      "('B07ZCPYHNQ', 'Zhiyun Weebill S 3-axis Handheld Gimbal Stabilizer for Sony A7S A7M3 A7R3 A7R2 A7S2 A6500 A6300 A6000 Panasonic GH5 GH5s Nikon Z6 Z7 Mirrorless Cameras - Standard Package', 4.19, 'Weebill S', 3546, '2019-03-20 00:', 'Z h i y u n')\n",
      "('B071F3H7XJ', 'Godox X1C TTL Wireless Flash Trigger Transmitter and Receiver for Canon EOS Series Cameras 2.4G HSS 1/8000s (X1T-C + X1R-C)', None, None, 114, '2017-05-11 00:', None)\n",
      "('B00O7S0K24', 'Matin 2.0X LCD View Finder Extender Magnification for up to 3.2\" LCD Screen (M-6296)', 5.5, '6296', 338, '2013-08-30 00:', 'Matin')\n",
      "('B003UHY7B8', 'Polaroid Optics 55mm 4-Piece Filter kit Set for Close-Up Macro Photography; Includes +1, +2, +4 & +10 Diopter Filters & Nylon Carry Case – Compatible w/ All Popular Camera Lens Models', 3.52, 'PLFILDCCL55', 20, '2010-07-01 00:', 'Polaroid')\n",
      "('B01I9FVFLK', 'MaxLLTo USB AC Power Adapter Battery Charger Cord for Sony Cybershot DSC-W830 / W830s / W830b / W830p / W830r / W830l / W830k Series Digital Camera', 3.19, 'BA-H-AD043', 157, '2016-07-11 00:', 'MaxinbuyTech')\n",
      "('B08P1QWMPF', '512gb Memory Card (Class 10 High Speed) Micro SD Memory Card/SD Memory Cards with Adapter for Camera, Phone, Computer,Dash Came,Tachograph,Tablet,Drone(512gb)', 0.247, None, 644, '2020-11-23 00:', 'SUPERDUODUO')\n",
      "('B00EA47YFG', 'Grizzly Wilderness Medium Modular Gear Bag for Waist Belt, Utility Belt or MOLLE System for Photographers, Cameras Video, Lenses Flash Filters Camera Body, Accessories, Cables, Studio, Wedding', 2.08, '4331970551', 9211, '2014-06-03 00:', 'Wild Grizzly Products LLC')\n",
      "('B00IWBSNIK', 'Hoya 43mm 3 Digital Slim Filter Set II (HMC UV/Circular Polarizer / ND8) with Pouch', 2.08, 'HK-DG43-II', 116, '2014-03-09 00:', 'Hoya')\n",
      "('B088LT4LDY', 'Lightweight Camera Mount Tripod Stand with Carry Bag for LED Projector', 1.48, None, 1274, '2020-05-14 00:', 'Hzgang')\n",
      "('B079WQ5PRN', 'SCOSCHE AMK1 Closeup PROKIT Universal Action Camera Mount Kit with Three Mounting Bases Included Magnetic, Adhesive and Suction for Indoor/Outdoor Use', 5.6, 'AMK1', 6070, '2018-02-13 00:', 'SCOSCHE')\n",
      "(None, 'Compact Flash memory card BR&TD ogrinal camera card (256mb)', None, None, 141, None, None)\n",
      "('B00009R9EV', 'Hoya 77mm HMC 81B Screw-in Filter', 1.34, '0755', 329, '2003-06-17 00:', 'Hoya')\n",
      "('B01ID957CK', 'Neewer 67MM Complete Lens Filter Accessory Kit for Lenses with 67MM Filter Size: UV CPL FLD Filter Set + Macro Close Up Set (+1 +2 +4 +10) + ND Filter Set (ND2 ND4 ND8) + Other', 1.1, '10087418', 9, '2016-07-13 00:', 'Neewer')\n",
      "('B00ONCJK2U', 'CamDesign 40.5MM Sides Pinch Snap-On Front Lens Cap/Cover Compatible with Canon, Nikon, Sony, Pentax All DSLR Lenses', 0.353, 'SNAP CAP 40.5MM SP', 478, '2014-10-18 00:', 'CamDesign')\n",
      "('B08CMHXKWM', 'Sunwayfoto CPC-01 is dedicatedly Designed for Professional Mobile Phone Shooting', 8.4, None, 4981, '2020-07-09 00:', 'SUNWAYFOTO')\n",
      "('B07P31JYC9', 'Gigastone, 4K Game Turbo, 64GB, Micro SD Card, A2 4K, Rose Gold, Mini-Case Package, (MSD-4KGameTurbo-RG-64GB-1PK), [5-Yrs-Free-Data-Recovery]', 0.422, '633X 64GB', 1240, '2019-02-19 00:', 'Gigastone')\n",
      "('B004KRG968', 'Pixel CL-UC1 Remote Cable for TC-252 TW-282 TF-364 374 RW-221 (View Amazon Detail Page)', 1.12, '3939009', 130, '2012-04-10 00:', 'Pixel enterprise limited')\n",
      "('B0027VSSZE', 'Nikon School DVD, Fast, Fun and Easy III Featuring the Nikon D5000 Digital SLR', 3.2, '11548', 8768, '2003-06-17 00:', 'Nikon')\n",
      "('B010D2S5D8', 'Neewer Metal AF Auto-Focus Macro Extension Tube Set 10mm&16mm for Sony NEX E-Mount Camera NEX 3/3N/5/5N/5R/A6000/A6300 and Full Frame A7 A7S/A7SII A7R/A7RII A7II', 2.39, 'Neewer', 3, '2015-06-25 00:', 'Neewer')\n",
      "('B07Z3V1KHT', 'Cold Shoe Bracket for Microphone/Video Light, for Sony RX100 VII Smartphone/Vlog Camera/Action Camera Microphone Extension Bracket, Video Vlogging Accessories - PT-8', 2.39, 'PT-8', 989, '2019-10-14 00:', 'Yiliwit ULANZI')\n",
      "('B000MVXCH0', 'OP/TECH USA Reporter Strap (Black)', 4.2, '6501011', 1082, '2003-06-17 00:', 'OpTech')\n",
      "(None, 'Vanguard VEO 2X 265ABP 4 in 1 Travel Tripod, Monopod, Ball Head with Removeable Pan Handle - 26 mm, Aluminum', None, None, None, None, '')\n",
      "('B07ZQ6JK8F', 'Easy Hood Case for Sony Alpha 7R IV, Leather Half Protective Cover for Sony Alpha 7R IV A7R IV A7R 4 A7RM4 ILCE-7RM4 Camera (Black)', 2.68, None, 3157, '2019-10-29 00:', 'Easy Hood')\n",
      "('B000PHOK04', 'Domke 700-51B F-5XA Small Shoulder and Belt Bag - Black', 1.0, '700-51B', 3094, '2001-10-02 00:', 'Tiffen')\n",
      "('B083T4H8KB', 'Vanguard VEO 2S CM-264TBP Carbon Fiber Monopod with Ballhead and Removeable Pan Handle', 4.0, 'VEO2SCM-264TBP', 473, '2020-01-13 00:', 'VANGUARD')\n",
      "('B0031RGERC', 'Olympus Stylus 7030 14 MP Digital Camera with 7x Wide Angle Dual Image Stabilized Zoom and 2.7-inch LCD (Purple) (Old Model)', 5.0, 'STYLUS-7030 Purple', 505018, '2010-01-07 00:', 'Olympus')\n",
      "('B072KDZLFF', 'Canon BG-E21 Battery Grip for EOS 6D Mark II', 12.4, '2130C001', 212, '2017-06-29 00:', 'Canon')\n",
      "('B075DWGJS1', '3 Legged Thing Punks Series Billy Carbon-Fibre Tripod with AirHed Neo Ball Head Designed for Everyday use Load Capacity of 18kg', 3.98, 'BILLY', 2069, '2017-09-06 00:', '3 Legged Thing')\n",
      "('B00UAZWXPA', 'Ikelite - Aluminum Top Handle for Digital and DSLR', 8.8, 'IKE-4080.03', 522814, '2015-07-09 00:', 'Ikelite')\n",
      "('B007S02GRK', 'LumiQuest Ultrasoft with UltraStrap LQ-103S', 2.11, 'LQ-103S', 1188, '2012-03-25 00:', 'LumiQuest')\n",
      "(None, 'SanDisk 8GB/30MB Ultra CF Card ( SDCFH-008G-A11, US Retail Package )', None, None, 13, None, None)\n",
      "('B07V21Z28L', 'Eyepiece Eyecup Viewfinder Eye Cup for Sony Alpha A6500 A6400 Digital Camera for viewfinder (2-Pack),ULBTER FDA-EP17 Eyepiece Eye Cup with Hot Shoe Cover (FAD-EP17)', 0.176, 'A6500 A6400', 64, '2019-05-02 00:', 'ULBTER')\n",
      "('B08M1DQNSQ', 'SUNWAYFOTO PSL-a7RIVG Custom L-Bracket for Sony a7riv a9ii with Battery Grip VG-C4EM Arca RRS Compatible', 9.5, 'PSL-A7RIVG', 6081, '2020-10-28 00:', 'SUNWAYFOTO')\n",
      "('B07R5B6CTQ', 'Screen Protector for Canon EOS 5D Mark IV III / 1DX Mark II / 1DX Camera, 9H Tempered Glass LCD Screen Protection, ULBTER 5D3 5D4 Anti-scrach Anti-Fingerprint Anti-Bubble [3 Pack]', 0.81, '5D3 5D4', 412, '2019-04-26 00:', 'BTER')\n",
      "('B0069TOGG0', 'Sirui TY-C10 Quick Release Plate for All Cameras', None, None, 875, '2012-08-11 00:', None)\n",
      "('B01A8DUR74', 'Fujifilm X-Pro 2 Mirrorless Digital Camera, Black (Body Only)', 2.9, 'Fujifilm X-Pro2 Body Black', 111085, '2016-01-15 00:', 'FUJIFILM')\n",
      "('B005N2WDIW', 'OP/TECH USA 1101311 Body Cap Protective Cover for Canon Camera', 1.6, '1101311', 1707, '2010-03-27 00:', 'OP/TECH USA')\n",
      "('B01B727F5C', 'Neewer Photography Single Roller Wall Mounting Manual Background Support System, Including Two(2) Single Hooks, Two(2) Expand Bars, One(1) Chain, Eight(8) Clamp Screws', 3.04, 'Neewer', 37, '2016-01-29 00:', 'Neewer')\n",
      "('B000BO3CW8', \"STK's Canon NB-2LH Battery for G9, Rebel XTi, G7, Rebel XT, HV-20, ZR-850, S30, HV-40, S330, S50, HV-10, ZR100, ZR-830, ZR-700 Digital Cameras\", 1.58, 'NB-2LH', 484, '2007-01-16 00:', 'Sterling Publications')\n",
      "('B01KURGUOC', 'Canon Rain Cover ERC-E5M', 4.4, '1759C001', 181, '2016-08-25 00:', 'Canon')\n",
      "('B088WSHGFV', 'Selfie Ring Light Dimmable Led 10\" & Tripod Stand 63\", Tripod with Ring Light with Phone Stand, Height Adjustable Tripod Selfie Stick Circle Light, Lighting for YouTube Video/Live Stream/Makeup/Photo', 2.25, None, 88, '2020-05-16 00:', 'FAYLISVOW')\n",
      "('B01J8VOTYE', 'Amazon Basics Microfiber Cleaning Cloth for Electronics - Pack of 6, 6 x 7 Inches', 0.16, 'JBTZ-1', None, '2017-01-01 00:', 'Amazon Basics')\n",
      "('B08GQ9L7DG', 'Benro S2 PRO Video Head', 1.87, None, 750, '2020-08-26 00:', 'Benro')\n",
      "('B08294QTWV', '32GB Memory Stick PRO-HG Duo (HX32GB) PSP1000 2000 3000/Camera Memory Card', 0.81, None, 63, '2019-12-03 00:', 'LILIWELL')\n",
      "('B08KZSJXNL', '400GB Micro SD Card Class 10 Memory Card High Speed Micro SD SDXC Card with SD Adapter (A-400GB)', 0.81, None, 1577, '2020-10-10 00:', 'Gentai')\n",
      "('B07GTCBQC7', 'Freewell Bright Day – 4K Series – 4Pack ND8/PL, ND16/PL, ND32/PL, ND64/PL Camera Lens Filters Compatible with DJI Mavic 2 Pro Drone', 2.11, 'FW-MP2-BRG', 36, '2018-08-24 00:', 'Freewell')\n",
      "('B00UWDD0AW', 'Neewer Pro 9 feet/260cm Aluminum Alloy Photo Studio Light Stands for Video,Portrait and Photography Lighting', 4.73, '10084211', 41, '2015-03-19 00:', 'Neewer')\n",
      "('B06XD4TPL6', 'SUNWAYFOTO PT-39R 39mm Bi-Directional 2 Axis QR Plate Arca / RRS Compatible Sunway', 0.81, 'PT-39R', 212, '2010-12-04 00:', 'SunwayFoto')\n",
      "('B000JLM4XG', 'Manfrotto 035 Super Clamp without Stud - Replaces 2915 , Black', 14.5, '035', 4, '2003-06-17 00:', 'Manfrotto')\n",
      "('B00395Y9WS', 'Panasonic Lumix DMC-FP1 12.1 MP Digital Camera with 4x Optical Image Stabilized Zoom and 2.7-Inch LCD (Black)', 14.4, 'DMC-FP1K', 351703, '2001-10-02 00:', 'Panasonic')\n",
      "('B00YQCXYUG', 'Fotodiox Pro Lens Mount Adapters, Bronica ETR (ETRC, ETRS, ETR-C, ETRSi) Mount Lenses to to MFT (Micro-4/3, M4/3) Mount Mirrorless Camera (Such as OM-D E-M10, Lumix GH4, and BMPCC)', 7.0, 'ETR-EOS-MFT', 1007, '2015-06-02 00:', 'Fotodiox')\n",
      "('B00CO2WP0U', 'Neewer 16 Channel Wireless Remote Flash Trigger and 2.5mm PC Receiver for Compatible with Canon 580EX II 580EX 550EX 540EZ Nikon SB900 SB800 SB600 SB28 Neewer TT860 TT850 TT560 Olympus Pentax Sigma', 5.0, '10061171', 5, '2013-05-06 00:', 'Neewer')\n",
      "('B07RZWQVJY', 'Godox X2T-S TTL Wireless Trigger, 1/8000s High-Speed Sync 2.4G TTL Transmitter, Compatible with Sony DSLR (X2T-S)', 5.3, 'LeaTure-X2T', 163, '2019-05-21 00:', 'GODOX')\n",
      "('B071SG1WCK', 'LED Copy Light Set with Adjustable Arms', 5.74, '402184', 3937, '2017-05-24 00:', 'Smith-Victor')\n",
      "('B07Y44Y38X', 'Mugast Lens Cap, Durable Alloy Camera Lens Cap Lightweight Lens Front Cap Photography Accessories for Leica E39 M Lens(Black)', 0.352, None, 1472, '2019-10-30 00:', 'Mugast')\n",
      "('B007FH1KX2', 'Canon 600EX-RT Speedlite Flash (Black)', 15.0, '5296B002', 294, '2012-03-01 00:', 'Canon')\n",
      "('B00005LENC', 'Nikon 28-80mm f/3.3-5.6G Autofocus Nikkor Zoom Lens (Silver)', 9.6, '1926', 1043, '2005-05-31 00:', 'Nikon')\n"
     ]
    }
   ],
   "source": [
    "# create cursor\n",
    "cursor=connection.cursor()\n",
    "# Execute the to_sql for writting DF into SQL\n",
    "new.to_sql('search', engine, if_exists='append', index=False)    \n",
    "\n",
    "# Execute query\n",
    "sql = \"SELECT * FROM `search`\"\n",
    "cursor.execute(sql)\n",
    "\n",
    "# Fetch all the records\n",
    "result = cursor.fetchall()\n",
    "for i in result:\n",
    "    print(i)\n",
    "\n",
    "engine.dispose()\n",
    "connection.close()"
   ]
  },
  {
   "cell_type": "code",
   "execution_count": null,
   "metadata": {},
   "outputs": [],
   "source": []
  }
 ]
}